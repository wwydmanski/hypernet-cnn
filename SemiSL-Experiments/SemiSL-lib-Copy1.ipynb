{
 "cells": [
  {
   "cell_type": "code",
   "execution_count": null,
   "id": "edfde2cd",
   "metadata": {},
   "outputs": [],
   "source": []
  },
  {
   "cell_type": "code",
   "execution_count": null,
   "id": "b1005bb4",
   "metadata": {},
   "outputs": [],
   "source": []
  },
  {
   "cell_type": "code",
   "execution_count": 1,
   "id": "db453527",
   "metadata": {},
   "outputs": [
    {
     "name": "stdout",
     "output_type": "stream",
     "text": [
      "/home/z1157095/hypernet-cnn/hypernet\n"
     ]
    }
   ],
   "source": [
    "%cd hypernet"
   ]
  },
  {
   "cell_type": "code",
   "execution_count": 2,
   "id": "9ef57058",
   "metadata": {},
   "outputs": [],
   "source": [
    "from dotenv import load_dotenv\n",
    "load_dotenv()\n",
    "\n",
    "import random\n",
    "import os"
   ]
  },
  {
   "cell_type": "code",
   "execution_count": 3,
   "id": "3439415a",
   "metadata": {},
   "outputs": [],
   "source": [
    "from comet_ml import Experiment, Optimizer\n",
    "\n",
    "import torch\n",
    "import torchvision.transforms as transforms\n",
    "import torchvision.datasets as datasets\n",
    "import matplotlib.pyplot as plt\n",
    "import numpy as np\n",
    "import torch.nn.functional as F\n",
    "import torch.utils.data as data_utils\n",
    "import pandas as pd\n",
    "from collections import defaultdict\n",
    "\n",
    "torch.set_default_dtype(torch.float32)"
   ]
  },
  {
   "cell_type": "code",
   "execution_count": 4,
   "id": "9f81b600",
   "metadata": {},
   "outputs": [],
   "source": [
    "from torchsummary import summary\n",
    "import matplotlib.pyplot as plt\n",
    "from tqdm import tqdm, trange"
   ]
  },
  {
   "cell_type": "code",
   "execution_count": 5,
   "id": "411db77b",
   "metadata": {},
   "outputs": [],
   "source": [
    "import tabular_hypernet as hp"
   ]
  },
  {
   "cell_type": "code",
   "execution_count": 6,
   "id": "bfbc97da",
   "metadata": {},
   "outputs": [
    {
     "data": {
      "text/plain": [
       "<function tabular_hypernet.training_utils.get_dataset(size=60000, masked=False, mask_no=200, mask_size=700, shared_mask=False, batch_size=32, test_batch_size=32)>"
      ]
     },
     "execution_count": 6,
     "metadata": {},
     "output_type": "execute_result"
    }
   ],
   "source": [
    "hp.training_utils.get_dataset"
   ]
  },
  {
   "cell_type": "code",
   "execution_count": 7,
   "id": "35fd81c5",
   "metadata": {},
   "outputs": [
    {
     "data": {
      "text/plain": [
       "'UXrV5UxyhTK3cyQNG6BDuc4bE'"
      ]
     },
     "execution_count": 7,
     "metadata": {},
     "output_type": "execute_result"
    }
   ],
   "source": [
    "os.environ['COMET_KEY'] = 'UXrV5UxyhTK3cyQNG6BDuc4bE'\n",
    "os.environ.get(\"COMET_KEY\")"
   ]
  },
  {
   "cell_type": "code",
   "execution_count": null,
   "id": "884b2bb0",
   "metadata": {},
   "outputs": [],
   "source": []
  },
  {
   "cell_type": "code",
   "execution_count": 8,
   "id": "a9fd4cf6",
   "metadata": {},
   "outputs": [],
   "source": [
    "# TODO\n",
    "\n",
    "# TabSSLCrossEntropyLoss if confidence is high for both masks, add selfsl loss\n",
    "\n",
    "# Verify if masks always divided into pairs the same way"
   ]
  },
  {
   "cell_type": "code",
   "execution_count": 9,
   "id": "fc4dc449",
   "metadata": {},
   "outputs": [],
   "source": [
    "class TabSSLCrossEntropyLoss(torch.nn.Module):\n",
    "    def __init__(self, beta=0.1, unsup_target_wrapper=torch.nn.functional.softmax, threshold=None):\n",
    "        super(TabSSLCrossEntropyLoss, self).__init__()\n",
    "        \n",
    "        self.y_f1 = torch.nn.CrossEntropyLoss()\n",
    "        self.y_f2 = torch.nn.CrossEntropyLoss()\n",
    "        \n",
    "        self.f1_f2 = torch.nn.CrossEntropyLoss()\n",
    "        self.f2_f1 = torch.nn.CrossEntropyLoss()\n",
    "        \n",
    "        self.beta = beta\n",
    "        self.unsup_target_wrapper = unsup_target_wrapper\n",
    "        self.threshold = threshold\n",
    "        \n",
    "    def is_observ_above_threshold(self, data):\n",
    "        mask = torch.any(data >= self.threshold, dim=1)\n",
    "        \n",
    "        return mask\n",
    "        \n",
    "    \n",
    "    def forward(self, sup_input, unsup_input):\n",
    "        sup_outputs1, sup_outputs2, sup_labels = sup_input\n",
    "        unsup_outputs1, unsup_outputs2 = unsup_input\n",
    "        \n",
    "        self.supervised_loss = self.y_f1(sup_outputs1, sup_labels) + self.y_f2(sup_outputs2, sup_labels)\n",
    "        \n",
    "        self.self_supervised_loss = 0\n",
    "        if self.beta:\n",
    "            print('Beta')\n",
    "            if self.threshold:\n",
    "                unsup_outputs1_target = torch.nn.functional.softmax(unsup_outputs1, dim=1)\n",
    "                mask1 = self.is_observ_above_threshold(unsup_outputs1_target)\n",
    "\n",
    "                if len(unsup_outputs1_target[mask1]):\n",
    "                    unsup_outputs1_target = torch.argmax(unsup_outputs1_target[mask1], dim=1)\n",
    "                    self.self_supervised_loss += self.f2_f1(unsup_outputs2[mask1], unsup_outputs1_target)\n",
    "\n",
    "                unsup_outputs2_target = torch.nn.functional.softmax(unsup_outputs2, dim=1)\n",
    "                mask2 = self.is_observ_above_threshold(unsup_outputs2_target)\n",
    "\n",
    "                if len(unsup_outputs2_target[mask2]):\n",
    "                    unsup_outputs2_target = torch.argmax(unsup_outputs2_target[mask2], dim=1)\n",
    "                    self.self_supervised_loss += self.f1_f2(unsup_outputs1[mask2], unsup_outputs2_target)\n",
    "\n",
    "            else:\n",
    "                self.self_supervised_loss = self.f1_f2(unsup_outputs1, self.unsup_target_wrapper(unsup_outputs2, dim=1)) \\\n",
    "                                    + self.f2_f1(unsup_outputs2, self.unsup_target_wrapper(unsup_outputs1, dim=1))      \n",
    "        \n",
    "        return self.supervised_loss + self.beta * self.self_supervised_loss\n"
   ]
  },
  {
   "cell_type": "code",
   "execution_count": null,
   "id": "4e79efe0",
   "metadata": {},
   "outputs": [],
   "source": []
  },
  {
   "cell_type": "code",
   "execution_count": null,
   "id": "13e35cae",
   "metadata": {},
   "outputs": [],
   "source": []
  },
  {
   "cell_type": "code",
   "execution_count": null,
   "id": "cda89f4b",
   "metadata": {},
   "outputs": [],
   "source": []
  },
  {
   "cell_type": "code",
   "execution_count": null,
   "id": "aeb84bd8",
   "metadata": {},
   "outputs": [],
   "source": []
  },
  {
   "cell_type": "code",
   "execution_count": 10,
   "id": "03ec8ea5",
   "metadata": {},
   "outputs": [],
   "source": [
    "class VarianceWithThresholdMasksSelector():\n",
    "    def __init__(self, data, mask_size, threshold=0.2):\n",
    "        \n",
    "        self.mask_size = mask_size\n",
    "        \n",
    "        trainset, _ = data\n",
    "        stacked_set = torch.stack([x for x, _ in trainset])\n",
    "        \n",
    "        feature_variances = torch.var(stacked_set, dim=0)\n",
    "        self.feat_above_thresh = (feature_variances > threshold).nonzero()[:, 0]\n",
    "        \n",
    "    \n",
    "    def _random_choice_mask(self, mask_size):\n",
    "        tmp = np.random.choice(self.feat_above_thresh, mask_size, replace=False)\n",
    "        tmp.sort()\n",
    "        return tmp\n",
    "        \n",
    "    def __call__(self, model, count):\n",
    "        print(model)\n",
    "        print(self)\n",
    "        \n",
    "        tmp = np.array([model.template.copy() for _ in range(count)])\n",
    "        \n",
    "        for i in range(count):\n",
    "            mask = self._random_choice_mask(model.mask_size)\n",
    "            tmp[i, mask] = 1\n",
    "            \n",
    "        masks = torch.from_numpy(tmp).to(torch.float32).to(model.device)\n",
    "        return masks\n",
    "        \n",
    "        "
   ]
  },
  {
   "cell_type": "code",
   "execution_count": null,
   "id": "97326c51",
   "metadata": {},
   "outputs": [],
   "source": []
  },
  {
   "cell_type": "code",
   "execution_count": 1,
   "id": "de8632b4",
   "metadata": {},
   "outputs": [],
   "source": []
  },
  {
   "cell_type": "code",
   "execution_count": null,
   "id": "3b337c35",
   "metadata": {},
   "outputs": [],
   "source": []
  },
  {
   "cell_type": "code",
   "execution_count": null,
   "id": "b47a28e9",
   "metadata": {},
   "outputs": [],
   "source": []
  },
  {
   "cell_type": "code",
   "execution_count": null,
   "id": "382c8aca",
   "metadata": {},
   "outputs": [],
   "source": []
  },
  {
   "cell_type": "code",
   "execution_count": 11,
   "id": "f5638f07",
   "metadata": {},
   "outputs": [],
   "source": [
    "seed = 5"
   ]
  },
  {
   "cell_type": "code",
   "execution_count": 12,
   "id": "41da665f",
   "metadata": {},
   "outputs": [],
   "source": [
    "np.random.seed(seed)\n",
    "torch.manual_seed(seed)\n",
    "random.seed(seed)"
   ]
  },
  {
   "cell_type": "code",
   "execution_count": 13,
   "id": "10552885",
   "metadata": {},
   "outputs": [],
   "source": [
    "mask_size = 20\n"
   ]
  },
  {
   "cell_type": "code",
   "execution_count": 14,
   "id": "c7be84ad",
   "metadata": {},
   "outputs": [],
   "source": [
    "dataset = hp.semisl.get_train_test_sets()"
   ]
  },
  {
   "cell_type": "code",
   "execution_count": 15,
   "id": "84a22b50",
   "metadata": {},
   "outputs": [],
   "source": [
    "# mask_selector = VarianceWithThresholdMasksSelector(dataset, mask_size=mask_size, threshold=selector_threshold)"
   ]
  },
  {
   "cell_type": "code",
   "execution_count": 16,
   "id": "d1f71000",
   "metadata": {},
   "outputs": [],
   "source": [
    "# mask_selector.feat_above_thresh"
   ]
  },
  {
   "cell_type": "code",
   "execution_count": 17,
   "id": "0ce322f0",
   "metadata": {},
   "outputs": [],
   "source": [
    "epochs = 100\n",
    "\n",
    "masks_no = 50\n",
    "\n",
    "\n",
    "results = defaultdict(list)\n",
    "size = (100, 59900)\n"
   ]
  },
  {
   "cell_type": "code",
   "execution_count": null,
   "id": "68697821",
   "metadata": {},
   "outputs": [],
   "source": []
  },
  {
   "cell_type": "code",
   "execution_count": null,
   "id": "dd106659",
   "metadata": {},
   "outputs": [],
   "source": []
  },
  {
   "cell_type": "markdown",
   "id": "67b45a79",
   "metadata": {},
   "source": [
    "##### Variance-based feature selection"
   ]
  },
  {
   "cell_type": "code",
   "execution_count": 18,
   "id": "0aaff6cc",
   "metadata": {},
   "outputs": [
    {
     "name": "stdout",
     "output_type": "stream",
     "text": [
      "torch.Size([1, 128])\n"
     ]
    },
    {
     "name": "stderr",
     "output_type": "stream",
     "text": [
      "COMET WARNING: As you are running in a Jupyter environment, you will need to call `experiment.end()` when finished to ensure all metrics and code are logged before exiting.\n"
     ]
    },
    {
     "name": "stdout",
     "output_type": "stream",
     "text": [
      "Hypernetwork(\n",
      "  (model): Sequential(\n",
      "    (0): Linear(in_features=784, out_features=64, bias=True)\n",
      "    (1): ReLU()\n",
      "    (2): Linear(in_features=64, out_features=256, bias=True)\n",
      "    (3): ReLU()\n",
      "    (4): Linear(in_features=256, out_features=128, bias=True)\n",
      "    (output_layer): Linear(in_features=128, out_features=320, bias=True)\n",
      "  )\n",
      "  (dropout): Dropout(p=0.5, inplace=False)\n",
      ")\n",
      "<__main__.VarianceWithThresholdMasksSelector object at 0x7f6d6be7b760>\n"
     ]
    },
    {
     "name": "stderr",
     "output_type": "stream",
     "text": [
      "COMET INFO: Experiment is live on comet.ml https://www.comet.com/abulenok/semi-hypernetwork/66bd652fd27f4433ac674d1924b5cce0\n",
      "\n",
      "100%|███████████████| 100/100 [31:36<00:00, 18.97s/it, loss=1.79, test_acc=67.6]\n",
      "COMET ERROR: Error sending a notification, make sure you have opted-in for notifications\n",
      "COMET INFO: Uploading metrics, params, and assets to Comet before program termination (may take several seconds)\n",
      "COMET INFO: The Python SDK has 3600 seconds to finish before aborting...\n",
      "COMET WARNING: As you are running in a Jupyter environment, you will need to call `experiment.end()` when finished to ensure all metrics and code are logged before exiting.\n"
     ]
    },
    {
     "name": "stdout",
     "output_type": "stream",
     "text": [
      "torch.Size([1, 128])\n",
      "Hypernetwork(\n",
      "  (model): Sequential(\n",
      "    (0): Linear(in_features=784, out_features=64, bias=True)\n",
      "    (1): ReLU()\n",
      "    (2): Linear(in_features=64, out_features=256, bias=True)\n",
      "    (3): ReLU()\n",
      "    (4): Linear(in_features=256, out_features=128, bias=True)\n",
      "    (output_layer): Linear(in_features=128, out_features=320, bias=True)\n",
      "  )\n",
      "  (dropout): Dropout(p=0.5, inplace=False)\n",
      ")\n",
      "<__main__.VarianceWithThresholdMasksSelector object at 0x7f6d651cfa00>\n"
     ]
    },
    {
     "name": "stderr",
     "output_type": "stream",
     "text": [
      "COMET INFO: Experiment is live on comet.ml https://www.comet.com/abulenok/semi-hypernetwork/d54d9badeb164486b1a6606a3a1210f8\n",
      "\n",
      "100%|████████████████| 100/100 [31:37<00:00, 18.98s/it, loss=1.8, test_acc=67.5]\n",
      "COMET ERROR: Error sending a notification, make sure you have opted-in for notifications\n",
      "COMET INFO: Uploading 1 metrics, params and output messages\n"
     ]
    },
    {
     "name": "stdout",
     "output_type": "stream",
     "text": [
      "torch.Size([1, 128])\n",
      "Hypernetwork(\n",
      "  (model): Sequential(\n",
      "    (0): Linear(in_features=784, out_features=64, bias=True)\n",
      "    (1): ReLU()\n",
      "    (2): Linear(in_features=64, out_features=256, bias=True)\n",
      "    (3): ReLU()\n",
      "    (4): Linear(in_features=256, out_features=128, bias=True)\n",
      "    (output_layer): Linear(in_features=128, out_features=320, bias=True)\n",
      "  )\n",
      "  (dropout): Dropout(p=0.5, inplace=False)\n",
      ")\n",
      "<__main__.VarianceWithThresholdMasksSelector object at 0x7f6d6926b640>\n"
     ]
    },
    {
     "name": "stderr",
     "output_type": "stream",
     "text": [
      "COMET WARNING: As you are running in a Jupyter environment, you will need to call `experiment.end()` when finished to ensure all metrics and code are logged before exiting.\n",
      "COMET INFO: Experiment is live on comet.ml https://www.comet.com/abulenok/semi-hypernetwork/bce0b7de03804173b27e4a32d400bf3f\n",
      "\n",
      "100%|███████████████| 100/100 [31:54<00:00, 19.15s/it, loss=1.77, test_acc=70.1]\n",
      "COMET ERROR: Error sending a notification, make sure you have opted-in for notifications\n",
      "COMET INFO: Uploading 1 metrics, params and output messages\n",
      "COMET WARNING: As you are running in a Jupyter environment, you will need to call `experiment.end()` when finished to ensure all metrics and code are logged before exiting.\n"
     ]
    },
    {
     "name": "stdout",
     "output_type": "stream",
     "text": [
      "torch.Size([1, 128])\n",
      "Hypernetwork(\n",
      "  (model): Sequential(\n",
      "    (0): Linear(in_features=784, out_features=64, bias=True)\n",
      "    (1): ReLU()\n",
      "    (2): Linear(in_features=64, out_features=256, bias=True)\n",
      "    (3): ReLU()\n",
      "    (4): Linear(in_features=256, out_features=128, bias=True)\n",
      "    (output_layer): Linear(in_features=128, out_features=320, bias=True)\n",
      "  )\n",
      "  (dropout): Dropout(p=0.5, inplace=False)\n",
      ")\n",
      "<__main__.VarianceWithThresholdMasksSelector object at 0x7f6d6422e790>\n"
     ]
    },
    {
     "name": "stderr",
     "output_type": "stream",
     "text": [
      "COMET INFO: Experiment is live on comet.ml https://www.comet.com/abulenok/semi-hypernetwork/876b990a42d3402d9298437f68342a6d\n",
      "\n",
      "100%|████████████████| 100/100 [31:44<00:00, 19.04s/it, loss=1.8, test_acc=66.9]\n",
      "COMET ERROR: Error sending a notification, make sure you have opted-in for notifications\n",
      "COMET INFO: Uploading 1 metrics, params and output messages\n",
      "COMET WARNING: As you are running in a Jupyter environment, you will need to call `experiment.end()` when finished to ensure all metrics and code are logged before exiting.\n"
     ]
    },
    {
     "name": "stdout",
     "output_type": "stream",
     "text": [
      "torch.Size([1, 128])\n",
      "Hypernetwork(\n",
      "  (model): Sequential(\n",
      "    (0): Linear(in_features=784, out_features=64, bias=True)\n",
      "    (1): ReLU()\n",
      "    (2): Linear(in_features=64, out_features=256, bias=True)\n",
      "    (3): ReLU()\n",
      "    (4): Linear(in_features=256, out_features=128, bias=True)\n",
      "    (output_layer): Linear(in_features=128, out_features=320, bias=True)\n",
      "  )\n",
      "  (dropout): Dropout(p=0.5, inplace=False)\n",
      ")\n",
      "<__main__.VarianceWithThresholdMasksSelector object at 0x7f6d6c14abb0>\n"
     ]
    },
    {
     "name": "stderr",
     "output_type": "stream",
     "text": [
      "COMET INFO: Experiment is live on comet.ml https://www.comet.com/abulenok/semi-hypernetwork/0fd8b8e0ac0345b19ba6201b0d9d0374\n",
      "\n",
      "100%|███████████████| 100/100 [31:59<00:00, 19.19s/it, loss=1.79, test_acc=67.8]\n",
      "COMET ERROR: Error sending a notification, make sure you have opted-in for notifications\n",
      "COMET INFO: Uploading 1 metrics, params and output messages\n",
      "COMET WARNING: As you are running in a Jupyter environment, you will need to call `experiment.end()` when finished to ensure all metrics and code are logged before exiting.\n"
     ]
    },
    {
     "name": "stdout",
     "output_type": "stream",
     "text": [
      "torch.Size([1, 128])\n",
      "Hypernetwork(\n",
      "  (model): Sequential(\n",
      "    (0): Linear(in_features=784, out_features=64, bias=True)\n",
      "    (1): ReLU()\n",
      "    (2): Linear(in_features=64, out_features=256, bias=True)\n",
      "    (3): ReLU()\n",
      "    (4): Linear(in_features=256, out_features=128, bias=True)\n",
      "    (output_layer): Linear(in_features=128, out_features=320, bias=True)\n",
      "  )\n",
      "  (dropout): Dropout(p=0.5, inplace=False)\n",
      ")\n",
      "<__main__.VarianceWithThresholdMasksSelector object at 0x7f6d6425ca60>\n"
     ]
    },
    {
     "name": "stderr",
     "output_type": "stream",
     "text": [
      "COMET INFO: Experiment is live on comet.ml https://www.comet.com/abulenok/semi-hypernetwork/caad40cba79f4bcaa764236ba66f7e0a\n",
      "\n",
      "100%|████████████████| 100/100 [31:36<00:00, 18.96s/it, loss=1.8, test_acc=66.8]\n",
      "COMET ERROR: Error sending a notification, make sure you have opted-in for notifications\n",
      "COMET INFO: Uploading 1 metrics, params and output messages\n"
     ]
    }
   ],
   "source": [
    "for beta in [0.]:\n",
    "    for threshold_var in [0., 0.1, 0.2, 0.4, 0.7, 1]:\n",
    "        for lr in [3e-5]:\n",
    "            mask_selector = VarianceWithThresholdMasksSelector(dataset, mask_size=mask_size, threshold=threshold_var)\n",
    "            \n",
    "            criterion = TabSSLCrossEntropyLoss(beta=beta, threshold=None)\n",
    "            \n",
    "            np.random.seed(seed)\n",
    "            torch.manual_seed(seed)\n",
    "            random.seed(seed)\n",
    "            \n",
    "            # dataset\n",
    "            \n",
    "            \n",
    "            hypernet = hp.Hypernetwork(\n",
    "                architecture=torch.nn.Sequential(\n",
    "                    torch.nn.Linear(784, 64), \n",
    "                    torch.nn.ReLU(),\n",
    "                    torch.nn.Linear(64, 256),\n",
    "                    torch.nn.ReLU(),\n",
    "                    torch.nn.Linear(256, 128),\n",
    "                ),\n",
    "                target_architecture=[(mask_size, 10), (10, 10)],\n",
    "                test_nodes=masks_no,\n",
    "            ).cuda()\n",
    "            hypernet._create_mask = None\n",
    "            hypernet.test_mask = mask_selector(hypernet, hypernet.test_nodes)\n",
    "\n",
    "            hypernet = hypernet.train()\n",
    "            \n",
    "            \n",
    "            \n",
    "            optimizer = torch.optim.Adam(hypernet.parameters(), lr=lr)\n",
    "\n",
    "            # loaders\n",
    "            sup_trainloader, unsup_trainloader, testloader = hp.semisl.get_dataloaders(dataset=dataset, size=size, batch_size=32, test_batch_size=64)\n",
    "            trainloader = hp.semisl.TrainDataLoaderSemi(sup_trainloader, unsup_trainloader)\n",
    "\n",
    "            results[size].append(hp.semisl.train_semisl(hypernet,\n",
    "                                              optimizer,\n",
    "                                              criterion,\n",
    "                                              (trainloader, testloader), \n",
    "                                              size,\n",
    "                                              epochs,\n",
    "                                              masks_no,\n",
    "                                              changing_beta=None,\n",
    "                                              log_to_comet=True,\n",
    "                                              tags=['mask variance selection with threshold'],\n",
    "                                              description=\"\"\"\n",
    "                                              masks are selected based on feature variance (above threshold) \n",
    "                                              \"\"\",\n",
    "                                            log_params={'seed': seed, 'selector_threshold': threshold_var}\n",
    "                                            ))\n",
    "            "
   ]
  },
  {
   "cell_type": "code",
   "execution_count": 19,
   "id": "ed6f469a",
   "metadata": {},
   "outputs": [],
   "source": [
    "hypernet_with_selector = hypernet"
   ]
  },
  {
   "cell_type": "code",
   "execution_count": null,
   "id": "5c601429",
   "metadata": {},
   "outputs": [],
   "source": []
  },
  {
   "cell_type": "code",
   "execution_count": null,
   "id": "a429c9fe",
   "metadata": {},
   "outputs": [],
   "source": [
    "m1 = hypernet.test_mask[0]\n",
    "m1"
   ]
  },
  {
   "cell_type": "code",
   "execution_count": null,
   "id": "c61245e5",
   "metadata": {},
   "outputs": [],
   "source": [
    "torch.sum(m1)"
   ]
  },
  {
   "cell_type": "code",
   "execution_count": null,
   "id": "b9c25ebd",
   "metadata": {},
   "outputs": [],
   "source": []
  },
  {
   "cell_type": "markdown",
   "id": "5b58bf6f",
   "metadata": {},
   "source": [
    "#### No variance-based feature selection"
   ]
  },
  {
   "cell_type": "code",
   "execution_count": 42,
   "id": "bd1175c9",
   "metadata": {},
   "outputs": [
    {
     "name": "stdout",
     "output_type": "stream",
     "text": [
      "torch.Size([1, 128])\n"
     ]
    },
    {
     "name": "stderr",
     "output_type": "stream",
     "text": [
      "COMET WARNING: As you are running in a Jupyter environment, you will need to call `experiment.end()` when finished to ensure all metrics and code are logged before exiting.\n",
      "COMET INFO: Experiment is live on comet.ml https://www.comet.com/abulenok/semi-hypernetwork/5978fdf6426341edb0f1d290a335117c\n",
      "\n",
      "100%|█████████████████████████████████████████████████████████████████████████████████████████████████| 100/100 [33:23<00:00, 20.04s/it, loss=1.86, test_acc=61.3]\n",
      "COMET ERROR: Error sending a notification, make sure you have opted-in for notifications\n",
      "COMET INFO: Uploading 1 metrics, params and output messages\n"
     ]
    }
   ],
   "source": [
    "for beta in [0.]:\n",
    "    for threshold in [0.]:\n",
    "        for lr in [3e-5]:\n",
    "            criterion = TabSSLCrossEntropyLoss(beta=beta, threshold=None)\n",
    "            \n",
    "            np.random.seed(seed)\n",
    "            torch.manual_seed(seed)\n",
    "            random.seed(seed)\n",
    "            \n",
    "            # dataset\n",
    "            \n",
    "            \n",
    "            hypernet = hp.Hypernetwork(\n",
    "                architecture=torch.nn.Sequential(\n",
    "                    torch.nn.Linear(784, 64), \n",
    "                    torch.nn.ReLU(),\n",
    "                    torch.nn.Linear(64, 256),\n",
    "                    torch.nn.ReLU(),\n",
    "                    torch.nn.Linear(256, 128),\n",
    "                ),\n",
    "                target_architecture=[(mask_size, 10), (10, 10)],\n",
    "                test_nodes=masks_no,\n",
    "            ).cuda()\n",
    "            \n",
    "            \n",
    "            hypernet = hypernet.train()\n",
    "            \n",
    "            \n",
    "            \n",
    "            optimizer = torch.optim.Adam(hypernet.parameters(), lr=lr)\n",
    "\n",
    "            # loaders\n",
    "            sup_trainloader, unsup_trainloader, testloader = hp.semisl.get_dataloaders(dataset=dataset, size=size, batch_size=32, test_batch_size=64)\n",
    "            trainloader = hp.semisl.TrainDataLoaderSemi(sup_trainloader, unsup_trainloader)\n",
    "\n",
    "            results[size].append(hp.semisl.train_semisl(hypernet,\n",
    "                                              optimizer,\n",
    "                                              criterion,\n",
    "                                              (trainloader, testloader), \n",
    "                                              size,\n",
    "                                              epochs,\n",
    "                                              masks_no,\n",
    "                                              changing_beta=None,\n",
    "                                              log_to_comet=True,\n",
    "                                              tags=['mask variance selection with threshold'],\n",
    "                                              description=\"\"\"\n",
    "                                              masks are selected based on feature variance (above threshold) \n",
    "                                              \"\"\",\n",
    "                                            log_params={'seed': seed,'selector_threshold': 0}\n",
    "                                            ))\n",
    "            "
   ]
  },
  {
   "cell_type": "code",
   "execution_count": null,
   "id": "ba35f83c",
   "metadata": {},
   "outputs": [],
   "source": []
  },
  {
   "cell_type": "code",
   "execution_count": null,
   "id": "31458708",
   "metadata": {},
   "outputs": [],
   "source": [
    "m2 = hypernet.test_mask[0]\n",
    "m2"
   ]
  },
  {
   "cell_type": "code",
   "execution_count": null,
   "id": "6b1694ff",
   "metadata": {},
   "outputs": [],
   "source": [
    "m1==m2"
   ]
  },
  {
   "cell_type": "code",
   "execution_count": null,
   "id": "e26e1cb2",
   "metadata": {},
   "outputs": [],
   "source": [
    "torch.sum(m2)"
   ]
  },
  {
   "cell_type": "code",
   "execution_count": 44,
   "id": "fe9a4f1c",
   "metadata": {},
   "outputs": [
    {
     "data": {
      "text/plain": [
       "tensor([0., 0., 0., 0., 0., 0., 0., 0., 0., 0., 0., 0., 0., 0., 0., 0., 0., 0.,\n",
       "        0., 0., 0., 0., 0., 0., 0., 0., 0., 0., 0., 0., 0., 0., 0., 0., 0., 0.,\n",
       "        0., 0., 0., 0., 0., 0., 0., 0., 0., 0., 0., 0., 0., 0., 0., 0., 0., 0.,\n",
       "        0., 0., 0., 0., 0., 0., 0., 0., 0., 0., 0., 0., 0., 0., 0., 0., 0., 0.,\n",
       "        0., 0., 0., 0., 0., 0., 0., 0., 0., 0., 0., 0., 0., 0., 0., 0., 0., 0.,\n",
       "        0., 0., 0., 0., 0., 0., 0., 0., 0., 0., 0., 0., 0., 0., 0., 0., 0., 0.,\n",
       "        0., 0., 0., 0., 0., 0., 0., 0., 0., 0., 0., 0., 0., 0., 0., 0., 0., 0.,\n",
       "        0., 0., 0., 0., 0., 0., 0., 0., 0., 0., 0., 0., 0., 0., 0., 0., 0., 0.,\n",
       "        0., 0., 0., 0., 0., 0., 0., 0., 0., 0., 0., 1., 0., 0., 0., 0., 0., 0.,\n",
       "        0., 0., 0., 0., 0., 0., 0., 0., 0., 0., 0., 0., 0., 0., 0., 0., 0., 0.,\n",
       "        0., 1., 0., 0., 0., 0., 0., 0., 0., 0., 0., 0., 0., 0., 0., 0., 0., 0.,\n",
       "        0., 0., 0., 0., 0., 0., 0., 0., 0., 0., 0., 0., 0., 0., 1., 0., 0., 0.,\n",
       "        1., 0., 0., 0., 0., 0., 0., 0., 0., 0., 0., 0., 0., 0., 0., 0., 0., 0.,\n",
       "        0., 0., 1., 0., 0., 0., 0., 0., 1., 0., 0., 0., 0., 0., 0., 0., 0., 0.,\n",
       "        0., 0., 0., 0., 0., 0., 0., 1., 0., 0., 0., 0., 0., 0., 0., 0., 0., 0.,\n",
       "        0., 0., 0., 0., 0., 0., 0., 0., 0., 0., 0., 0., 0., 0., 0., 0., 0., 0.,\n",
       "        0., 1., 0., 0., 0., 0., 0., 0., 0., 0., 0., 0., 0., 0., 0., 0., 0., 0.,\n",
       "        0., 0., 0., 0., 0., 0., 0., 0., 0., 0., 0., 0., 0., 0., 0., 0., 0., 0.,\n",
       "        0., 0., 0., 0., 0., 0., 0., 0., 0., 0., 0., 0., 0., 0., 0., 0., 0., 0.,\n",
       "        0., 0., 0., 0., 0., 0., 0., 0., 0., 0., 0., 0., 0., 0., 0., 0., 0., 0.,\n",
       "        0., 0., 0., 0., 0., 0., 0., 0., 0., 0., 0., 0., 1., 0., 0., 0., 0., 0.,\n",
       "        0., 0., 0., 1., 0., 0., 0., 0., 0., 0., 0., 0., 0., 0., 0., 0., 0., 0.,\n",
       "        0., 0., 0., 0., 0., 0., 0., 0., 0., 0., 0., 0., 0., 0., 0., 0., 0., 0.,\n",
       "        0., 0., 0., 0., 0., 0., 0., 0., 0., 0., 0., 0., 0., 0., 0., 0., 0., 0.,\n",
       "        0., 0., 1., 0., 0., 0., 0., 0., 0., 0., 0., 0., 0., 0., 0., 0., 0., 0.,\n",
       "        0., 0., 0., 0., 0., 0., 0., 0., 0., 0., 0., 0., 0., 0., 0., 0., 1., 1.,\n",
       "        0., 0., 1., 0., 0., 0., 0., 0., 0., 0., 0., 0., 0., 0., 0., 0., 0., 0.,\n",
       "        0., 0., 0., 0., 0., 0., 0., 0., 0., 0., 0., 0., 0., 0., 0., 0., 0., 0.,\n",
       "        0., 0., 0., 0., 0., 0., 0., 0., 0., 1., 0., 0., 0., 0., 1., 0., 0., 0.,\n",
       "        1., 0., 0., 0., 0., 0., 0., 0., 0., 0., 0., 0., 0., 0., 0., 0., 0., 0.,\n",
       "        0., 0., 0., 0., 0., 0., 0., 0., 0., 0., 0., 0., 0., 1., 0., 0., 0., 0.,\n",
       "        0., 0., 0., 0., 0., 0., 0., 0., 0., 1., 0., 0., 0., 0., 0., 0., 0., 0.,\n",
       "        0., 0., 0., 0., 0., 0., 0., 0., 0., 0., 0., 0., 0., 0., 0., 0., 0., 0.,\n",
       "        0., 0., 0., 0., 0., 0., 0., 0., 0., 0., 0., 0., 0., 0., 0., 0., 0., 0.,\n",
       "        0., 0., 0., 0., 0., 0., 0., 0., 0., 0., 0., 0., 0., 0., 0., 0., 0., 0.,\n",
       "        0., 0., 0., 0., 0., 0., 0., 0., 0., 0., 0., 0., 0., 0., 0., 0., 0., 0.,\n",
       "        0., 0., 0., 0., 0., 0., 0., 0., 0., 0., 0., 0., 0., 0., 0., 0., 0., 0.,\n",
       "        0., 0., 0., 0., 0., 0., 0., 0., 0., 0., 0., 0., 0., 0., 0., 0., 0., 0.,\n",
       "        0., 0., 0., 0., 0., 0., 0., 0., 0., 0., 0., 0., 0., 0., 0., 0., 0., 0.,\n",
       "        0., 0., 0., 0., 0., 0., 0., 0., 0., 1., 0., 0., 0., 0., 0., 0., 0., 0.,\n",
       "        0., 0., 0., 0., 0., 0., 0., 0., 0., 0., 0., 0., 0., 0., 0., 0., 0., 0.,\n",
       "        0., 0., 0., 0., 0., 0., 0., 0., 0., 0., 0., 0., 0., 0., 0., 0., 0., 0.,\n",
       "        0., 0., 0., 0., 0., 0., 0., 0., 0., 0., 0., 0., 0., 0., 0., 0., 0., 0.,\n",
       "        0., 0., 0., 0., 0., 0., 0., 0., 0., 0.], device='cuda:0')"
      ]
     },
     "execution_count": 44,
     "metadata": {},
     "output_type": "execute_result"
    }
   ],
   "source": [
    "hypernet_with_selector.test_mask[0]"
   ]
  },
  {
   "cell_type": "code",
   "execution_count": null,
   "id": "31f5f8a3",
   "metadata": {},
   "outputs": [],
   "source": []
  }
 ],
 "metadata": {
  "kernelspec": {
   "display_name": "Python 3 (ipykernel)",
   "language": "python",
   "name": "python3"
  },
  "language_info": {
   "codemirror_mode": {
    "name": "ipython",
    "version": 3
   },
   "file_extension": ".py",
   "mimetype": "text/x-python",
   "name": "python",
   "nbconvert_exporter": "python",
   "pygments_lexer": "ipython3",
   "version": "3.9.12"
  }
 },
 "nbformat": 4,
 "nbformat_minor": 5
}
