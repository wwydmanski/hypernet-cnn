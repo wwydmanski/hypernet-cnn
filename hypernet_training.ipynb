{
 "cells": [
  {
   "cell_type": "code",
   "execution_count": 1,
   "id": "0e1f4af7-ae09-4f2d-a12d-1048cb98f355",
   "metadata": {},
   "outputs": [],
   "source": [
    "from dotenv import load_dotenv\n",
    "load_dotenv()\n",
    "\n",
    "import os"
   ]
  },
  {
   "cell_type": "code",
   "execution_count": 135,
   "id": "bb6f571c-bc10-479a-bb00-e4a66729e8c9",
   "metadata": {},
   "outputs": [],
   "source": [
    "from comet_ml import Experiment, Optimizer\n",
    "\n",
    "import torch\n",
    "import torchvision.transforms as transforms\n",
    "import torchvision.datasets as datasets\n",
    "import matplotlib.pyplot as plt\n",
    "import numpy as np\n",
    "import torch.nn.functional as F\n",
    "\n",
    "torch.set_default_dtype(torch.float32)"
   ]
  },
  {
   "cell_type": "code",
   "execution_count": 3,
   "id": "6762231d-9da8-42b9-8d7d-de8c6cdfc9b8",
   "metadata": {},
   "outputs": [],
   "source": [
    "from torchsummary import summary\n",
    "import matplotlib.pyplot as plt"
   ]
  },
  {
   "cell_type": "markdown",
   "id": "0a3b7ef0-ea05-4d27-8e79-b37581a37e48",
   "metadata": {},
   "source": [
    "## Declare classes"
   ]
  },
  {
   "cell_type": "code",
   "execution_count": 4,
   "id": "5aa4a53e-8939-4444-9b92-da340fa5e3a9",
   "metadata": {},
   "outputs": [],
   "source": [
    "class SimpleNetwork(torch.nn.Module):\n",
    "    def __init__(self, inp_size, layers=[100]):\n",
    "        super().__init__()\n",
    "        self.layers = []\n",
    "        \n",
    "        self.inp = torch.nn.Linear(inp_size, layers[0])\n",
    "        self.output = torch.nn.Linear(layers[0], 10)\n",
    "        self.relu = torch.nn.ReLU()\n",
    "        self.softmax = torch.nn.Softmax()\n",
    "    \n",
    "    def forward(self, x):\n",
    "        out = x\n",
    "        out = self.inp(out)\n",
    "        out = self.relu(out)\n",
    "        out = self.output(out)\n",
    "        return out\n",
    "    \n",
    "class InsertableNet(SimpleNetwork):\n",
    "    def __init__(self, weights, inp_size, layers=[100]):\n",
    "        super().__init__(inp_size, layers)\n",
    "        input_w_size = inp_size*layers[0]\n",
    "        input_b_size = layers[0]\n",
    "\n",
    "        hidden_w_size = layers[0]*10\n",
    "        hidden_b_size = 10\n",
    "\n",
    "        self.inp_weights = weights[:input_w_size].reshape((layers[0], inp_size))\n",
    "        self.inp_bias = weights[input_w_size:input_w_size+input_b_size]\n",
    "\n",
    "        self.output_weights = weights[input_w_size+input_b_size:input_w_size+input_b_size+hidden_w_size].reshape((10, layers[0]))\n",
    "        self.output_bias = weights[input_w_size+input_b_size+hidden_w_size:input_w_size+input_b_size+hidden_w_size+hidden_b_size]\n",
    "\n",
    "    def forward(self, data):\n",
    "        out = F.linear(data, self.inp_weights, self.inp_bias)\n",
    "        out = self.relu(out)\n",
    "        out = F.linear(out, self.output_weights, self.output_bias)\n",
    "        return out\n",
    "    \n",
    "class MaskedNetwork(SimpleNetwork):\n",
    "    def __init__(self, input_size, mask_size, layers=[10]):\n",
    "        super().__init__(mask_size, layers=layers)\n",
    "        template = np.zeros(input_size)\n",
    "        mask = np.random.choice(len(template), mask_size, False)\n",
    "        template[mask] = 1\n",
    "        self.mask = torch.from_numpy(template).to(torch.bool)\n",
    "        \n",
    "    def forward(self, x):\n",
    "        data = x[:, self.mask]\n",
    "        return super().forward(data)"
   ]
  },
  {
   "cell_type": "code",
   "execution_count": 174,
   "id": "55cac9fc-33cc-4007-8b42-b883fe059c71",
   "metadata": {},
   "outputs": [],
   "source": [
    "class Hypernetwork(torch.nn.Module):\n",
    "    def __init__(self, inp_size=784, mask_size=20, node_hidden_size=20, layers=[64, 256, 512], test_nodes=100):\n",
    "        super().__init__()\n",
    "        self.mask_size = mask_size\n",
    "        self.input_size = inp_size\n",
    "        self.node_hidden_size = node_hidden_size\n",
    "        \n",
    "        input_w_size = mask_size*node_hidden_size\n",
    "        input_b_size = node_hidden_size\n",
    "\n",
    "        hidden_w_size = node_hidden_size*10\n",
    "        hidden_b_size = 10\n",
    "            \n",
    "        self.out_size = input_w_size+input_b_size+hidden_w_size+hidden_b_size\n",
    "        \n",
    "        self.input = torch.nn.Linear(inp_size, layers[0])\n",
    "        self.hidden1 = torch.nn.Linear(layers[0], layers[1])\n",
    "        self.hidden2 = torch.nn.Linear(layers[1], layers[2])\n",
    "        self.out = torch.nn.Linear(layers[2], self.out_size)\n",
    "        \n",
    "        self.relu = torch.nn.ReLU()\n",
    "        self.template = np.zeros(inp_size)\n",
    "        self.test_nodes = test_nodes\n",
    "        self.test_mask = self._create_mask(test_nodes)\n",
    "        self.batchnorm = torch.nn.BatchNorm1d(layers[2])\n",
    "        \n",
    "        \n",
    "    def forward(self, data, mask=None):\n",
    "        if self.training:\n",
    "            if mask is None:\n",
    "                masks = np.array([np.random.choice((len(self.template)), self.mask_size, False) for _ in range(len(data))])\n",
    "                tmp = np.array([self.template.copy() for _ in range(len(data))])\n",
    "                for i, mask in enumerate(masks):\n",
    "                    tmp[i, mask] = 1\n",
    "                mask = torch.from_numpy(tmp).to(torch.float32).cuda()\n",
    "\n",
    "            weights = self.craft_network(mask)\n",
    "            res = torch.zeros((len(data), 10)).cuda()\n",
    "            for i in range(len(data)):\n",
    "                nn = InsertableNet(weights[i], self.mask_size, layers=[self.node_hidden_size])\n",
    "                masked_data = data[i, mask[i].to(torch.bool)]\n",
    "                res[i] = nn(masked_data)\n",
    "            return res\n",
    "        else:\n",
    "            if mask is None:\n",
    "                mask = self.test_mask\n",
    "\n",
    "            nets = []\n",
    "            weights = self.craft_network(mask)\n",
    "            res = torch.zeros((len(data), 10)).cuda()\n",
    "            for i in range(len(mask)):\n",
    "                nn = InsertableNet(weights[i], self.mask_size, layers=[self.node_hidden_size])\n",
    "                masked_data = data[:, mask[i].to(torch.bool)]\n",
    "                res += nn(masked_data)\n",
    "            res /= self.test_nodes\n",
    "            return res\n",
    "\n",
    "#     def forward(self, data, mask=None):\n",
    "#         if mask is None:\n",
    "#             mask = np.random.choice(len(template), self.mask_size, False)\n",
    "#             tmp = self.template.copy()\n",
    "#             tmp[mask] = 1\n",
    "#             mask = torch.from_numpy(tmp).to(torch.float32).cuda()\n",
    "        \n",
    "#         weights = self.craft_network(mask)\n",
    "#         nn = InsertableNet(weights, self.mask_size, layers=[self.node_hidden_size])\n",
    "#         masked_data = data[:, mask.to(torch.bool)]\n",
    "#         return nn(masked_data)\n",
    "        \n",
    "    def _create_mask(self, count):\n",
    "        masks = np.array([np.random.choice((len(self.template)), self.mask_size, False) for _ in range(count)])\n",
    "        tmp = np.array([self.template.copy() for _ in range(count)])\n",
    "        for i, mask in enumerate(masks):\n",
    "            tmp[i, mask] = 1\n",
    "        mask = torch.from_numpy(tmp).to(torch.float32).cuda()\n",
    "        return mask\n",
    "    \n",
    "    def craft_network(self, mask):\n",
    "        out = self.input(mask)\n",
    "        out = self.relu(out)\n",
    "        out = self.hidden1(out)\n",
    "        out = self.relu(out)\n",
    "        out = self.hidden2(out)\n",
    "        out = self.relu(out)\n",
    "        out = self.batchnorm(out)\n",
    "        out = self.out(out)\n",
    "        return out"
   ]
  },
  {
   "cell_type": "code",
   "execution_count": 175,
   "id": "6c82584b-1d17-4a7c-ad21-396292ad2b56",
   "metadata": {},
   "outputs": [],
   "source": [
    "hypernet = Hypernetwork(mask_size=20).cuda()"
   ]
  },
  {
   "cell_type": "code",
   "execution_count": 176,
   "id": "d104abef-1bcb-46e8-9597-d87d4b157a1b",
   "metadata": {
    "tags": []
   },
   "outputs": [
    {
     "data": {
      "text/plain": [
       "tensor([[ 0.0163,  0.0128, -0.0344, -0.0116,  0.0313, -0.0156, -0.0415, -0.0247,\n",
       "          0.0540,  0.0219],\n",
       "        [ 0.0177,  0.0107, -0.0203, -0.0141,  0.0302, -0.0011, -0.0465, -0.0398,\n",
       "          0.0579,  0.0282],\n",
       "        [ 0.0156,  0.0078, -0.0184, -0.0116,  0.0319,  0.0018, -0.0454, -0.0428,\n",
       "          0.0577,  0.0258],\n",
       "        [ 0.0158,  0.0128, -0.0276, -0.0116,  0.0302, -0.0047, -0.0440, -0.0356,\n",
       "          0.0563,  0.0252],\n",
       "        [ 0.0146,  0.0105, -0.0229, -0.0105,  0.0315, -0.0024, -0.0456, -0.0394,\n",
       "          0.0568,  0.0250],\n",
       "        [ 0.0158,  0.0114, -0.0208, -0.0131,  0.0306, -0.0001, -0.0454, -0.0414,\n",
       "          0.0575,  0.0277],\n",
       "        [ 0.0118,  0.0112, -0.0290, -0.0088,  0.0338, -0.0111, -0.0402, -0.0332,\n",
       "          0.0560,  0.0186],\n",
       "        [ 0.0137,  0.0124, -0.0317, -0.0101,  0.0308, -0.0116, -0.0408, -0.0308,\n",
       "          0.0537,  0.0193],\n",
       "        [ 0.0144,  0.0122, -0.0410,  0.0010,  0.0277, -0.0171, -0.0404, -0.0256,\n",
       "          0.0522,  0.0214],\n",
       "        [ 0.0146,  0.0133, -0.0331, -0.0058,  0.0308, -0.0100, -0.0437, -0.0324,\n",
       "          0.0517,  0.0224],\n",
       "        [ 0.0157,  0.0140, -0.0343, -0.0044,  0.0290, -0.0109, -0.0436, -0.0309,\n",
       "          0.0523,  0.0239],\n",
       "        [ 0.0148,  0.0098, -0.0224, -0.0100,  0.0319, -0.0009, -0.0459, -0.0404,\n",
       "          0.0567,  0.0250],\n",
       "        [ 0.0162,  0.0129, -0.0344, -0.0062,  0.0303, -0.0107, -0.0444, -0.0299,\n",
       "          0.0504,  0.0240],\n",
       "        [ 0.0155,  0.0093, -0.0219, -0.0110,  0.0309, -0.0007, -0.0452, -0.0413,\n",
       "          0.0559,  0.0250],\n",
       "        [ 0.0148,  0.0097, -0.0240, -0.0103,  0.0305, -0.0033, -0.0433, -0.0372,\n",
       "          0.0569,  0.0238],\n",
       "        [ 0.0162,  0.0121, -0.0256, -0.0121,  0.0304, -0.0042, -0.0449, -0.0359,\n",
       "          0.0560,  0.0258],\n",
       "        [ 0.0114,  0.0118, -0.0383, -0.0014,  0.0317, -0.0171, -0.0388, -0.0263,\n",
       "          0.0530,  0.0170],\n",
       "        [ 0.0148,  0.0117, -0.0321, -0.0065,  0.0307, -0.0132, -0.0432, -0.0309,\n",
       "          0.0538,  0.0204],\n",
       "        [ 0.0179,  0.0151, -0.0344, -0.0119,  0.0303, -0.0132, -0.0422, -0.0274,\n",
       "          0.0523,  0.0243],\n",
       "        [ 0.0105,  0.0122, -0.0388, -0.0036,  0.0333, -0.0195, -0.0393, -0.0243,\n",
       "          0.0520,  0.0142],\n",
       "        [ 0.0171,  0.0118, -0.0370, -0.0046,  0.0275, -0.0151, -0.0430, -0.0284,\n",
       "          0.0512,  0.0212],\n",
       "        [ 0.0186,  0.0149, -0.0318, -0.0112,  0.0294, -0.0090, -0.0440, -0.0306,\n",
       "          0.0538,  0.0280],\n",
       "        [ 0.0153,  0.0124, -0.0319, -0.0098,  0.0295, -0.0099, -0.0418, -0.0314,\n",
       "          0.0542,  0.0218],\n",
       "        [ 0.0142,  0.0090, -0.0211, -0.0092,  0.0329, -0.0020, -0.0450, -0.0427,\n",
       "          0.0561,  0.0237],\n",
       "        [ 0.0167,  0.0142, -0.0558,  0.0129,  0.0284, -0.0288, -0.0448, -0.0120,\n",
       "          0.0464,  0.0200],\n",
       "        [ 0.0112,  0.0119, -0.0331, -0.0042,  0.0281, -0.0121, -0.0416, -0.0319,\n",
       "          0.0534,  0.0214],\n",
       "        [ 0.0148,  0.0109, -0.0313, -0.0058,  0.0310, -0.0119, -0.0411, -0.0308,\n",
       "          0.0548,  0.0225],\n",
       "        [ 0.0179,  0.0147, -0.0365, -0.0107,  0.0288, -0.0127, -0.0419, -0.0246,\n",
       "          0.0531,  0.0235],\n",
       "        [ 0.0131,  0.0110, -0.0297, -0.0103,  0.0317, -0.0124, -0.0420, -0.0313,\n",
       "          0.0539,  0.0179],\n",
       "        [ 0.0130,  0.0126, -0.0374, -0.0048,  0.0330, -0.0186, -0.0399, -0.0258,\n",
       "          0.0530,  0.0159],\n",
       "        [ 0.0154,  0.0107, -0.0244, -0.0105,  0.0317, -0.0060, -0.0445, -0.0370,\n",
       "          0.0568,  0.0245],\n",
       "        [ 0.0132,  0.0091, -0.0212, -0.0092,  0.0323, -0.0035, -0.0455, -0.0406,\n",
       "          0.0581,  0.0238]], device='cuda:0', grad_fn=<DivBackward0>)"
      ]
     },
     "execution_count": 176,
     "metadata": {},
     "output_type": "execute_result"
    }
   ],
   "source": [
    "hypernet.eval()\n",
    "hypernet(inputs)"
   ]
  },
  {
   "cell_type": "markdown",
   "id": "ecc04584-7a97-47cd-a3ab-12507cfc12b4",
   "metadata": {},
   "source": [
    "## Load data"
   ]
  },
  {
   "cell_type": "code",
   "execution_count": 6,
   "id": "c7b4e185-c95f-4eff-9d33-3c84eb6ed1d2",
   "metadata": {},
   "outputs": [],
   "source": [
    "mods = [transforms.ToTensor(), \n",
    "        transforms.Normalize((0.1307,), (0.3081,)),    #mean and std of MNIST\n",
    "        transforms.Lambda(lambda x: torch.flatten(x))]\n",
    "mods = transforms.Compose(mods)\n",
    "\n",
    "trainset = datasets.MNIST(root='./data/train', train=True, download=True, transform=mods)\n",
    "testset = datasets.MNIST(root='./data/test', train=False, download=True, transform=mods)"
   ]
  },
  {
   "cell_type": "code",
   "execution_count": 7,
   "id": "7be06e1b-0c5f-41a3-ab19-43870464b2d0",
   "metadata": {},
   "outputs": [],
   "source": [
    "batch_size = 32\n",
    "test_batch_size = 1000\n",
    "\n",
    "trainloader = torch.utils.data.DataLoader(trainset, batch_size=batch_size,\n",
    "                                          shuffle=True, num_workers=1)\n",
    "testloader = torch.utils.data.DataLoader(testset, batch_size=test_batch_size,\n",
    "                                         shuffle=False, num_workers=1)"
   ]
  },
  {
   "cell_type": "markdown",
   "id": "66667859-9444-4fd1-85d0-07b036e34724",
   "metadata": {},
   "source": [
    "## Craft model"
   ]
  },
  {
   "cell_type": "code",
   "execution_count": 164,
   "id": "f3694a13-a2ae-4f56-a521-ed168f937b8e",
   "metadata": {},
   "outputs": [],
   "source": [
    "def train_loop(hypernet, optimizer, epochs):\n",
    "    train_loss = []\n",
    "    test_loss = []\n",
    "    for epoch in range(epochs): \n",
    "        total_loss = 0\n",
    "        running_loss = 0.0\n",
    "        correct = 0\n",
    "        total = 0\n",
    "        hypernet.train()\n",
    "        for i, data in enumerate(trainloader):\n",
    "            inputs, labels = data\n",
    "            inputs = inputs.cuda()\n",
    "            labels = labels.cuda()\n",
    "\n",
    "            optimizer.zero_grad()\n",
    "\n",
    "            outputs = hypernet(inputs)\n",
    "            loss = criterion(outputs, labels)\n",
    "            loss.backward()\n",
    "            optimizer.step()\n",
    "\n",
    "            correct += (outputs.argmax(1)==labels).float().sum()\n",
    "            total += outputs.shape[0]\n",
    "            running_loss += loss.item()\n",
    "            train_loss.append(loss.item())\n",
    "            if i>0 and i % 100 == 0:\n",
    "                total_loss += running_loss/100\n",
    "                experiment.log_metric(\"batch_accuracy\", correct / total * 100)\n",
    "\n",
    "                running_loss = 0.0\n",
    "                correct = 0\n",
    "                total=0\n",
    "\n",
    "        total_loss = 0\n",
    "        correct = 0\n",
    "        hypernet.eval()\n",
    "        for i, data in enumerate(testloader):\n",
    "            images, labels = data\n",
    "            images = images.cuda()\n",
    "            labels = labels.cuda()\n",
    "            outputs = hypernet(images)\n",
    "            _, predicted = torch.max(outputs.data, 1)\n",
    "            correct += (predicted == labels).sum().item()\n",
    "            total_loss += criterion(outputs, labels).item()\n",
    "\n",
    "        test_loss.append(total_loss/i)\n",
    "        print(f\"Test acc: {correct/len(testset)*100}\")\n",
    "        experiment.log_metric(\"test_accuracy\", correct/len(testset)*100)"
   ]
  },
  {
   "cell_type": "code",
   "execution_count": 138,
   "id": "2be31c85-949f-4353-bb00-c15f40ae4c30",
   "metadata": {},
   "outputs": [],
   "source": [
    "criterion = torch.nn.CrossEntropyLoss()"
   ]
  },
  {
   "cell_type": "markdown",
   "id": "e432e455-a7c3-4909-aa1e-87e1e206b4b0",
   "metadata": {
    "jp-MarkdownHeadingCollapsed": true,
    "tags": []
   },
   "source": [
    "### Verify the model on a preset mask"
   ]
  },
  {
   "cell_type": "code",
   "execution_count": 70,
   "id": "9462e51c-85b2-4f13-a108-907aeaf43bed",
   "metadata": {},
   "outputs": [],
   "source": [
    "hypernet = Hypernetwork(mask_size=20).cuda()"
   ]
  },
  {
   "cell_type": "code",
   "execution_count": 71,
   "id": "2344dd68-fac5-4e63-b954-644069f57937",
   "metadata": {},
   "outputs": [],
   "source": [
    "input_size = 784\n",
    "mask_size = 20\n",
    "\n",
    "template = np.zeros(input_size)\n",
    "mask = np.random.choice(len(template), mask_size, False)\n",
    "template[mask] = 1\n",
    "mask = torch.from_numpy(template).to(torch.float32).cuda()"
   ]
  },
  {
   "cell_type": "code",
   "execution_count": 72,
   "id": "81c9ed55-175e-4457-8135-750a6fd34ddc",
   "metadata": {},
   "outputs": [
    {
     "data": {
      "text/plain": [
       "tensor(20., device='cuda:0')"
      ]
     },
     "execution_count": 72,
     "metadata": {},
     "output_type": "execute_result"
    }
   ],
   "source": [
    "mask.sum()"
   ]
  },
  {
   "cell_type": "code",
   "execution_count": 73,
   "id": "54eab199-79ba-4c98-9dbc-901cd71f1c5e",
   "metadata": {},
   "outputs": [],
   "source": [
    "epochs = 5\n",
    "criterion = torch.nn.CrossEntropyLoss()\n",
    "optimizer = torch.optim.Adam(hypernet.parameters(), lr=3e-4)"
   ]
  },
  {
   "cell_type": "code",
   "execution_count": 74,
   "id": "782e9a46-b46e-4122-8adc-197e87d5a5c9",
   "metadata": {
    "tags": []
   },
   "outputs": [
    {
     "name": "stdout",
     "output_type": "stream",
     "text": [
      "Test acc: 51.53\n",
      "Test acc: 52.53\n",
      "Test acc: 52.949999999999996\n",
      "Test acc: 53.0\n",
      "Test acc: 53.53\n"
     ]
    }
   ],
   "source": [
    "train_loss = []\n",
    "test_loss = []\n",
    "for epoch in range(epochs): \n",
    "    total_loss = 0\n",
    "    running_loss = 0.0\n",
    "    correct = 0\n",
    "    total = 0\n",
    "    for i, data in enumerate(trainloader):\n",
    "        inputs, labels = data\n",
    "        inputs = inputs.cuda()\n",
    "        labels = labels.cuda()\n",
    "\n",
    "        optimizer.zero_grad()\n",
    "\n",
    "        outputs = hypernet(inputs, mask)\n",
    "        loss = criterion(outputs, labels)\n",
    "        loss.backward()\n",
    "        optimizer.step()\n",
    "\n",
    "        correct += (outputs.argmax(1)==labels).float().sum()\n",
    "        total += outputs.shape[0]\n",
    "        running_loss += loss.item()\n",
    "        train_loss.append(loss.item())\n",
    "        if i>0 and i % 100 == 0:\n",
    "            total_loss += running_loss/100\n",
    "            running_loss = 0.0\n",
    "            correct = 0\n",
    "            total=0\n",
    "\n",
    "    total_loss = 0\n",
    "    correct = 0\n",
    "    for i, data in enumerate(testloader):\n",
    "        images, labels = data\n",
    "        images = images.cuda()\n",
    "        labels = labels.cuda()\n",
    "        outputs = hypernet(images, mask)\n",
    "        _, predicted = torch.max(outputs.data, 1)\n",
    "        correct += (predicted == labels).sum().item()\n",
    "        total_loss += criterion(outputs, labels).item()\n",
    "        \n",
    "    test_loss.append(total_loss/i)\n",
    "    print(f\"Test acc: {correct/len(testset)*100}\")"
   ]
  },
  {
   "cell_type": "code",
   "execution_count": 76,
   "id": "2f2104b5-3bb3-438a-ad93-183ddf4618ab",
   "metadata": {},
   "outputs": [
    {
     "data": {
      "image/png": "[encoded data removed]",
      "text/plain": [
       "<Figure size 432x288 with 1 Axes>"
      ]
     },
     "metadata": {
      "needs_background": "light"
     },
     "output_type": "display_data"
    },
    {
     "data": {
      "image/png": "[encoded data removed]",
      "text/plain": [
       "<Figure size 432x288 with 1 Axes>"
      ]
     },
     "metadata": {
      "needs_background": "light"
     },
     "output_type": "display_data"
    }
   ],
   "source": [
    "plt.title(\"Train loss\")\n",
    "plt.plot(train_loss);\n",
    "plt.show()\n",
    "plt.title(\"Test loss\")\n",
    "plt.plot(test_loss);"
   ]
  },
  {
   "cell_type": "markdown",
   "id": "34633954-ff4a-404a-9826-26aa7a776829",
   "metadata": {},
   "source": [
    "### Bayesian hyperparam search"
   ]
  },
  {
   "cell_type": "code",
   "execution_count": null,
   "id": "f979e065-11f7-42b1-9632-61de2625786a",
   "metadata": {
    "tags": []
   },
   "outputs": [
    {
     "name": "stderr",
     "output_type": "stream",
     "text": [
      "COMET INFO: COMET_OPTIMIZER_ID=af5d4054532f4588b05a7fe2f633923d\n",
      "COMET INFO: Using optimizer config: {'algorithm': 'bayes', 'configSpaceSize': 'infinite', 'endTime': None, 'id': 'af5d4054532f4588b05a7fe2f633923d', 'lastUpdateTime': None, 'maxCombo': 0, 'name': 'af5d4054532f4588b05a7fe2f633923d', 'parameters': {'batch_size': {'type': 'categorical', 'values': ['32', '64']}, 'l1': {'type': 'categorical', 'values': ['64']}, 'l2': {'type': 'categorical', 'values': ['256']}, 'l3': {'type': 'categorical', 'values': ['256']}, 'learning_rate': {'max': 0.1, 'min': 0.0001, 'scalingType': 'loguniform', 'type': 'float'}, 'learning_rate2': {'max': 0.1, 'min': 0.0001, 'scalingType': 'loguniform', 'type': 'float'}}, 'predictor': None, 'spec': {'gridSize': 10, 'maxCombo': 0, 'metric': 'loss', 'minSampleSize': 100, 'objective': 'minimize', 'retryAssignLimit': 0, 'retryLimit': 1000}, 'startTime': 24408188546, 'state': {'mode': None, 'seed': None, 'sequence': [], 'sequence_i': 0, 'sequence_pid': None, 'sequence_retry': 0, 'sequence_retry_count': 0}, 'status': 'running', 'suggestion_count': 0, 'trials': 1, 'version': '2.0.1'}\n",
      "COMET WARNING: As you are running in a Jupyter environment, you will need to call `experiment.end()` when finished to ensure all metrics and code are logged before exiting.\n",
      "COMET INFO: Experiment is live on comet.ml https://www.comet.ml/wwydmanski/hypernetwork/5115a10db3d34f7fae3744f325517a7f\n",
      "\n"
     ]
    },
    {
     "name": "stdout",
     "output_type": "stream",
     "text": [
      "Test acc: 15.629999999999999\n",
      "Test acc: 21.6\n",
      "Test acc: 21.75\n",
      "Test acc: 25.09\n",
      "Test acc: 25.44\n",
      "Test acc: 31.269999999999996\n",
      "Test acc: 34.12\n",
      "Test acc: 40.07\n",
      "Test acc: 49.230000000000004\n",
      "Test acc: 53.52\n",
      "Test acc: 56.510000000000005\n",
      "Test acc: 54.0\n",
      "Test acc: 60.84\n",
      "Test acc: 65.53\n",
      "Test acc: 62.03999999999999\n",
      "Test acc: 66.59\n",
      "Test acc: 67.5\n",
      "Test acc: 68.60000000000001\n",
      "Test acc: 67.47999999999999\n",
      "Test acc: 70.78999999999999\n"
     ]
    },
    {
     "name": "stderr",
     "output_type": "stream",
     "text": [
      "COMET INFO: ---------------------------\n",
      "COMET INFO: Comet.ml Experiment Summary\n",
      "COMET INFO: ---------------------------\n",
      "COMET INFO:   Data:\n",
      "COMET INFO:     display_summary_level : 1\n",
      "COMET INFO:     url                   : https://www.comet.ml/wwydmanski/hypernetwork/5115a10db3d34f7fae3744f325517a7f\n",
      "COMET INFO:   Metrics [count] (min, max):\n",
      "COMET INFO:     batch_accuracy [360] : (10.3125, 32.34375)\n",
      "COMET INFO:     loss [3750]          : (1.468428611755371, 8.426197052001953)\n",
      "COMET INFO:     test_accuracy [20]   : (15.629999999999999, 70.78999999999999)\n",
      "COMET INFO:   Others:\n",
      "COMET INFO:     optimizer_count        : 1\n",
      "COMET INFO:     optimizer_id           : af5d4054532f4588b05a7fe2f633923d\n",
      "COMET INFO:     optimizer_metric       : loss\n",
      "COMET INFO:     optimizer_metric_value : 1.468428611755371\n",
      "COMET INFO:     optimizer_objective    : minimum\n",
      "COMET INFO:     optimizer_parameters   : {\"batch_size\": \"32\", \"l1\": \"64\", \"l2\": \"256\", \"l3\": \"256\", \"learning_rate\": 0.0006065198335809262, \"learning_rate2\": 0.0008136708337821173}\n",
      "COMET INFO:     optimizer_pid          : bb107f4e20dcad6caf2714ca3745bf2ddbc43a05\n",
      "COMET INFO:     optimizer_process      : 82915\n",
      "COMET INFO:     optimizer_trial        : 1\n",
      "COMET INFO:     optimizer_version      : 2.0.1\n",
      "COMET INFO:   Parameters:\n",
      "COMET INFO:     batch_size     : 32\n",
      "COMET INFO:     l1             : 64\n",
      "COMET INFO:     l2             : 256\n",
      "COMET INFO:     l3             : 256\n",
      "COMET INFO:     learning_rate  : 0.0006065198335809262\n",
      "COMET INFO:     learning_rate2 : 0.0008136708337821173\n",
      "COMET INFO:   Uploads:\n",
      "COMET INFO:     environment details      : 1\n",
      "COMET INFO:     filename                 : 1\n",
      "COMET INFO:     git metadata             : 1\n",
      "COMET INFO:     git-patch (uncompressed) : 1 (62.24 KB)\n",
      "COMET INFO:     installed packages       : 1\n",
      "COMET INFO:     model graph              : 1\n",
      "COMET INFO:     notebook                 : 1\n",
      "COMET INFO:     os packages              : 1\n",
      "COMET INFO:     source_code              : 1\n",
      "COMET INFO: ---------------------------\n",
      "COMET INFO: Uploading 1 metrics, params and output messages\n",
      "COMET INFO: Waiting for completion of the file uploads (may take several seconds)\n",
      "COMET INFO: The Python SDK has 10800 seconds to finish before aborting...\n",
      "COMET INFO: Still uploading 2 file(s), remaining 155.71 KB/394.79 KB\n",
      "COMET WARNING: As you are running in a Jupyter environment, you will need to call `experiment.end()` when finished to ensure all metrics and code are logged before exiting.\n",
      "COMET INFO: Experiment is live on comet.ml https://www.comet.ml/wwydmanski/hypernetwork/f33c0ba3788345cebb170079f3dbd22f\n",
      "\n"
     ]
    },
    {
     "name": "stdout",
     "output_type": "stream",
     "text": [
      "Test acc: 27.48\n",
      "Test acc: 30.049999999999997\n",
      "Test acc: 36.19\n",
      "Test acc: 36.42\n",
      "Test acc: 39.43\n",
      "Test acc: 42.13\n",
      "Test acc: 44.26\n",
      "Test acc: 53.410000000000004\n",
      "Test acc: 52.32\n",
      "Test acc: 56.28999999999999\n",
      "Test acc: 41.43\n",
      "Test acc: 46.5\n",
      "Test acc: 51.980000000000004\n",
      "Test acc: 57.03\n",
      "Test acc: 61.59\n",
      "Test acc: 62.09\n",
      "Test acc: 63.190000000000005\n",
      "Test acc: 62.870000000000005\n",
      "Test acc: 64.73\n",
      "Test acc: 67.71000000000001\n"
     ]
    },
    {
     "name": "stderr",
     "output_type": "stream",
     "text": [
      "COMET INFO: ---------------------------\n",
      "COMET INFO: Comet.ml Experiment Summary\n",
      "COMET INFO: ---------------------------\n",
      "COMET INFO:   Data:\n",
      "COMET INFO:     display_summary_level : 1\n",
      "COMET INFO:     url                   : https://www.comet.ml/wwydmanski/hypernetwork/f33c0ba3788345cebb170079f3dbd22f\n",
      "COMET INFO:   Metrics [count] (min, max):\n",
      "COMET INFO:     batch_accuracy [180] : (10.009282112121582, 30.671873092651367)\n",
      "COMET INFO:     loss [1876]          : (1.6984798908233643, 6.131765365600586)\n",
      "COMET INFO:     test_accuracy [20]   : (27.48, 67.71000000000001)\n",
      "COMET INFO:   Others:\n",
      "COMET INFO:     optimizer_count        : 2\n",
      "COMET INFO:     optimizer_id           : af5d4054532f4588b05a7fe2f633923d\n",
      "COMET INFO:     optimizer_metric       : loss\n",
      "COMET INFO:     optimizer_metric_value : 1.6984798908233643\n",
      "COMET INFO:     optimizer_objective    : minimum\n",
      "COMET INFO:     optimizer_parameters   : {\"batch_size\": \"64\", \"l1\": \"64\", \"l2\": \"256\", \"l3\": \"256\", \"learning_rate\": 0.0001560250572212303, \"learning_rate2\": 0.0011126835331758756}\n",
      "COMET INFO:     optimizer_pid          : 2a552ab966fc60470ea34db6fe3ddaa244e99909\n",
      "COMET INFO:     optimizer_process      : 82915\n",
      "COMET INFO:     optimizer_trial        : 1\n",
      "COMET INFO:     optimizer_version      : 2.0.1\n",
      "COMET INFO:   Parameters:\n",
      "COMET INFO:     batch_size     : 64\n",
      "COMET INFO:     l1             : 64\n",
      "COMET INFO:     l2             : 256\n",
      "COMET INFO:     l3             : 256\n",
      "COMET INFO:     learning_rate  : 0.0001560250572212303\n",
      "COMET INFO:     learning_rate2 : 0.0011126835331758756\n",
      "COMET INFO:   Uploads:\n",
      "COMET INFO:     environment details      : 1\n",
      "COMET INFO:     filename                 : 1\n",
      "COMET INFO:     git metadata             : 1\n",
      "COMET INFO:     git-patch (uncompressed) : 1 (60.87 KB)\n",
      "COMET INFO:     installed packages       : 1\n",
      "COMET INFO:     model graph              : 1\n",
      "COMET INFO:     notebook                 : 1\n",
      "COMET INFO:     os packages              : 1\n",
      "COMET INFO:     source_code              : 1\n",
      "COMET INFO: ---------------------------\n",
      "COMET INFO: Uploading 1 metrics, params and output messages\n",
      "COMET WARNING: As you are running in a Jupyter environment, you will need to call `experiment.end()` when finished to ensure all metrics and code are logged before exiting.\n",
      "COMET INFO: Experiment is live on comet.ml https://www.comet.ml/wwydmanski/hypernetwork/a32bb99a57e74024a95183a448718a64\n",
      "\n"
     ]
    },
    {
     "name": "stdout",
     "output_type": "stream",
     "text": [
      "Test acc: 23.87\n",
      "Test acc: 33.98\n",
      "Test acc: 32.15\n",
      "Test acc: 41.010000000000005\n",
      "Test acc: 37.63\n",
      "Test acc: 47.38\n",
      "Test acc: 50.970000000000006\n",
      "Test acc: 56.64\n",
      "Test acc: 56.89999999999999\n",
      "Test acc: 59.79\n",
      "Test acc: 9.75\n",
      "Test acc: 10.05\n",
      "Test acc: 8.95\n",
      "Test acc: 10.32\n",
      "Test acc: 9.82\n",
      "Test acc: 9.76\n",
      "Test acc: 10.100000000000001\n",
      "Test acc: 9.82\n",
      "Test acc: 10.59\n",
      "Test acc: 9.62\n"
     ]
    },
    {
     "name": "stderr",
     "output_type": "stream",
     "text": [
      "COMET INFO: ---------------------------\n",
      "COMET INFO: Comet.ml Experiment Summary\n",
      "COMET INFO: ---------------------------\n",
      "COMET INFO:   Data:\n",
      "COMET INFO:     display_summary_level : 1\n",
      "COMET INFO:     url                   : https://www.comet.ml/wwydmanski/hypernetwork/a32bb99a57e74024a95183a448718a64\n",
      "COMET INFO:   Metrics [count] (min, max):\n",
      "COMET INFO:     batch_accuracy [360] : (8.40625, 26.28125)\n",
      "COMET INFO:     loss [3750]          : (1.7465291023254395, 1386678.375)\n",
      "COMET INFO:     test_accuracy [20]   : (8.95, 59.79)\n",
      "COMET INFO:   Others:\n",
      "COMET INFO:     optimizer_count        : 3\n",
      "COMET INFO:     optimizer_id           : af5d4054532f4588b05a7fe2f633923d\n",
      "COMET INFO:     optimizer_metric       : loss\n",
      "COMET INFO:     optimizer_metric_value : 1.7465291023254395\n",
      "COMET INFO:     optimizer_objective    : minimum\n",
      "COMET INFO:     optimizer_parameters   : {\"batch_size\": \"32\", \"l1\": \"64\", \"l2\": \"256\", \"l3\": \"256\", \"learning_rate\": 0.00014995238610792926, \"learning_rate2\": 0.09628356534720327}\n",
      "COMET INFO:     optimizer_pid          : 03720a88fcdbed2c01d50f86a9878539d810b29c\n",
      "COMET INFO:     optimizer_process      : 82915\n",
      "COMET INFO:     optimizer_trial        : 1\n",
      "COMET INFO:     optimizer_version      : 2.0.1\n",
      "COMET INFO:   Parameters:\n",
      "COMET INFO:     batch_size     : 32\n",
      "COMET INFO:     l1             : 64\n",
      "COMET INFO:     l2             : 256\n",
      "COMET INFO:     l3             : 256\n",
      "COMET INFO:     learning_rate  : 0.00014995238610792926\n",
      "COMET INFO:     learning_rate2 : 0.09628356534720327\n",
      "COMET INFO:   Uploads:\n",
      "COMET INFO:     environment details      : 1\n",
      "COMET INFO:     filename                 : 1\n",
      "COMET INFO:     git metadata             : 1\n",
      "COMET INFO:     git-patch (uncompressed) : 1 (64.81 KB)\n",
      "COMET INFO:     installed packages       : 1\n",
      "COMET INFO:     model graph              : 1\n",
      "COMET INFO:     notebook                 : 1\n",
      "COMET INFO:     os packages              : 1\n",
      "COMET INFO:     source_code              : 1\n",
      "COMET INFO: ---------------------------\n",
      "COMET INFO: Uploading 1 metrics, params and output messages\n",
      "COMET INFO: Waiting for completion of the file uploads (may take several seconds)\n",
      "COMET INFO: The Python SDK has 10800 seconds to finish before aborting...\n",
      "COMET INFO: All files uploaded, waiting for confirmation they have been all received\n",
      "COMET WARNING: As you are running in a Jupyter environment, you will need to call `experiment.end()` when finished to ensure all metrics and code are logged before exiting.\n",
      "COMET INFO: Experiment is live on comet.ml https://www.comet.ml/wwydmanski/hypernetwork/8e3041260c3649c48d7c03f3977c970e\n",
      "\n"
     ]
    },
    {
     "name": "stdout",
     "output_type": "stream",
     "text": [
      "Test acc: 32.6\n",
      "Test acc: 30.75\n",
      "Test acc: 39.989999999999995\n",
      "Test acc: 42.72\n"
     ]
    }
   ],
   "source": [
    "config = {\n",
    "    \"algorithm\": \"bayes\",\n",
    "    \"parameters\": {\n",
    "        \"l1\": {\"type\": \"categorical\", \"values\": [\"64\"]},\n",
    "        \"l2\": {\"type\": \"categorical\", \"values\": [\"256\"]},\n",
    "        \"l3\": {\"type\": \"categorical\", \"values\": [\"256\"]},\n",
    "        \"learning_rate\": {\"type\": \"float\", \"min\": 0.0001, \"max\": 0.1, \"scalingType\": \"loguniform\"},\n",
    "        \"learning_rate2\": {\"type\": \"float\", \"min\": 0.0001, \"max\": 0.1, \"scalingType\": \"loguniform\"},\n",
    "        \"batch_size\": {\"type\": \"categorical\", \"values\": [\"32\", \"64\"]},\n",
    "    },\n",
    "    \"spec\": {\n",
    "    \"metric\": \"loss\",\n",
    "    \"objective\": \"minimize\",\n",
    "    },\n",
    "}\n",
    "\n",
    "opt = Optimizer(config, api_key=os.environ.get(\"COMET_KEY\"))\n",
    "criterion = torch.nn.CrossEntropyLoss()\n",
    "\n",
    "for experiment in opt.get_experiments(project_name=\"hypernetwork\"):\n",
    "    experiment.add_tag(\"optimization\")\n",
    "\n",
    "    batch_size = int(experiment.get_parameter(\"batch_size\"))\n",
    "    test_batch_size = 1000\n",
    "\n",
    "    trainloader = torch.utils.data.DataLoader(trainset, batch_size=batch_size,\n",
    "                                              shuffle=True, num_workers=1)\n",
    "    testloader = torch.utils.data.DataLoader(testset, batch_size=test_batch_size,\n",
    "                                             shuffle=False, num_workers=1)\n",
    "    \n",
    "    hypernet = Hypernetwork(mask_size=30, layers=[\n",
    "            int(experiment.get_parameter(\"l1\")), \n",
    "            int(experiment.get_parameter(\"l2\")), \n",
    "            int(experiment.get_parameter(\"l3\"))\n",
    "    ]).cuda()\n",
    "    \n",
    "    \n",
    "    optimizer = torch.optim.Adam(hypernet.parameters(), lr=experiment.get_parameter(\"learning_rate\"))\n",
    "    train_loop(hypernet, optimizer, 10)\n",
    "    \n",
    "    optimizer = torch.optim.Adam(hypernet.parameters(), lr=experiment.get_parameter(\"learning_rate2\"))\n",
    "    train_loop(hypernet, optimizer, 10)\n",
    "    experiment.end()"
   ]
  },
  {
   "cell_type": "markdown",
   "id": "89b3ebd3-67b9-4068-baf2-12add868b033",
   "metadata": {
    "tags": []
   },
   "source": [
    "### Train the full model"
   ]
  },
  {
   "cell_type": "code",
   "execution_count": 159,
   "id": "921f9b81-9034-4bd8-9a5e-996b10208095",
   "metadata": {},
   "outputs": [],
   "source": [
    "batch_size = 32\n",
    "test_batch_size = 1000\n",
    "\n",
    "trainloader = torch.utils.data.DataLoader(trainset, batch_size=batch_size,\n",
    "                                          shuffle=True, num_workers=1)\n",
    "testloader = torch.utils.data.DataLoader(testset, batch_size=test_batch_size,\n",
    "                                         shuffle=False, num_workers=1)\n",
    "\n",
    "hypernet = Hypernetwork(mask_size=30, layers=[64, 256]).cuda()"
   ]
  },
  {
   "cell_type": "code",
   "execution_count": 161,
   "id": "7d305890-41a7-40f7-a324-5adff1d7d81a",
   "metadata": {
    "tags": []
   },
   "outputs": [
    {
     "name": "stderr",
     "output_type": "stream",
     "text": [
      "COMET INFO: ---------------------------\n",
      "COMET INFO: Comet.ml Experiment Summary\n",
      "COMET INFO: ---------------------------\n",
      "COMET INFO:   Data:\n",
      "COMET INFO:     display_summary_level : 1\n",
      "COMET INFO:     url                   : https://www.comet.ml/wwydmanski/hypernetwork/2fa25dfce9c349018d0c007ab861dfff\n",
      "COMET INFO:   Uploads:\n",
      "COMET INFO:     environment details      : 1\n",
      "COMET INFO:     filename                 : 1\n",
      "COMET INFO:     git metadata             : 1\n",
      "COMET INFO:     git-patch (uncompressed) : 1 (116.41 KB)\n",
      "COMET INFO:     installed packages       : 1\n",
      "COMET INFO:     notebook                 : 1\n",
      "COMET INFO:     os packages              : 1\n",
      "COMET INFO:     source_code              : 1\n",
      "COMET INFO: ---------------------------\n",
      "COMET WARNING: As you are running in a Jupyter environment, you will need to call `experiment.end()` when finished to ensure all metrics and code are logged before exiting.\n",
      "COMET INFO: Experiment is live on comet.ml https://www.comet.ml/wwydmanski/hypernetwork/5c29b40edb7e4d6ba685de74e99c93af\n",
      "\n"
     ]
    },
    {
     "name": "stdout",
     "output_type": "stream",
     "text": [
      "Test acc: 55.720000000000006\n",
      "Test acc: 54.43\n",
      "Test acc: 61.96\n",
      "Test acc: 64.4\n",
      "Test acc: 67.89\n"
     ]
    }
   ],
   "source": [
    "experiment = Experiment(api_key=os.environ.get(\"COMET_KEY\"), project_name=\"hypernetwork\")\n",
    "experiment.add_tag(\"training\")\n",
    "\n",
    "epochs = 50\n",
    "optimizer = torch.optim.Adam(hypernet.parameters(), lr=3e-4)\n",
    "train_loop(hypernet, optimizer, epochs)\n",
    "epochs = 50\n",
    "optimizer = torch.optim.Adam(hypernet.parameters(), lr=3e-5)\n",
    "train_loop(hypernet, optimizer, epochs)\n",
    "epochs = 50\n",
    "optimizer = torch.optim.Adam(hypernet.parameters(), lr=3e-5)\n",
    "train_loop(hypernet, optimizer, epochs)\n",
    "experiment.end()"
   ]
  },
  {
   "cell_type": "code",
   "execution_count": null,
   "id": "b37571e2-5391-4b71-b292-497fd56aafc0",
   "metadata": {},
   "outputs": [],
   "source": []
  }
 ],
 "metadata": {
  "kernelspec": {
   "display_name": "img_processing",
   "language": "python",
   "name": "img_processing"
  },
  "language_info": {
   "codemirror_mode": {
    "name": "ipython",
    "version": 3
   },
   "file_extension": ".py",
   "mimetype": "text/x-python",
   "name": "python",
   "nbconvert_exporter": "python",
   "pygments_lexer": "ipython3",
   "version": "3.8.12"
  }
 },
 "nbformat": 4,
 "nbformat_minor": 5
}
