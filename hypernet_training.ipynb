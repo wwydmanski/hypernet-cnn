{
 "cells": [
  {
   "cell_type": "code",
   "execution_count": 1,
   "id": "0e1f4af7-ae09-4f2d-a12d-1048cb98f355",
   "metadata": {},
   "outputs": [],
   "source": [
    "from dotenv import load_dotenv\n",
    "load_dotenv()\n",
    "\n",
    "import os"
   ]
  },
  {
   "cell_type": "code",
   "execution_count": 2,
   "id": "bb6f571c-bc10-479a-bb00-e4a66729e8c9",
   "metadata": {},
   "outputs": [],
   "source": [
    "from comet_ml import Experiment, Optimizer\n",
    "\n",
    "import torch\n",
    "import torchvision.transforms as transforms\n",
    "import torchvision.datasets as datasets\n",
    "import matplotlib.pyplot as plt\n",
    "import numpy as np\n",
    "import torch.nn.functional as F\n",
    "\n",
    "torch.set_default_dtype(torch.float32)"
   ]
  },
  {
   "cell_type": "code",
   "execution_count": 45,
   "id": "6762231d-9da8-42b9-8d7d-de8c6cdfc9b8",
   "metadata": {},
   "outputs": [],
   "source": [
    "from torchsummary import summary\n",
    "import matplotlib.pyplot as plt\n",
    "from tqdm import tqdm"
   ]
  },
  {
   "cell_type": "markdown",
   "id": "0a3b7ef0-ea05-4d27-8e79-b37581a37e48",
   "metadata": {},
   "source": [
    "## Declare classes"
   ]
  },
  {
   "cell_type": "code",
   "execution_count": 4,
   "id": "5aa4a53e-8939-4444-9b92-da340fa5e3a9",
   "metadata": {},
   "outputs": [],
   "source": [
    "class SimpleNetwork(torch.nn.Module):\n",
    "    def __init__(self, inp_size, layers=[100]):\n",
    "        super().__init__()\n",
    "        self.layers = []\n",
    "        \n",
    "        self.inp = torch.nn.Linear(inp_size, layers[0])\n",
    "        self.output = torch.nn.Linear(layers[0], 10)\n",
    "        self.relu = torch.nn.ReLU()\n",
    "        self.softmax = torch.nn.Softmax()\n",
    "    \n",
    "    def forward(self, x):\n",
    "        out = x\n",
    "        out = self.inp(out)\n",
    "        out = self.relu(out)\n",
    "        out = self.output(out)\n",
    "        return out\n",
    "    \n",
    "class InsertableNet(SimpleNetwork):\n",
    "    def __init__(self, weights, inp_size, layers=[10]):\n",
    "        super().__init__(inp_size, layers)\n",
    "        input_w_size = inp_size*layers[0]\n",
    "        input_b_size = layers[0]\n",
    "\n",
    "        hidden_w_size = layers[0]*10\n",
    "        hidden_b_size = 10\n",
    "\n",
    "        self.inp_weights = weights[:input_w_size].reshape((layers[0], inp_size))\n",
    "        self.inp_bias = weights[input_w_size:input_w_size+input_b_size]\n",
    "\n",
    "        self.output_weights = weights[input_w_size+input_b_size:input_w_size+input_b_size+hidden_w_size].reshape((10, layers[0]))\n",
    "        self.output_bias = weights[input_w_size+input_b_size+hidden_w_size:input_w_size+input_b_size+hidden_w_size+hidden_b_size]\n",
    "\n",
    "    def forward(self, data):\n",
    "        out = F.linear(data, self.inp_weights, self.inp_bias)\n",
    "        out = self.relu(out)\n",
    "        out = F.linear(out, self.output_weights, self.output_bias)\n",
    "        return out\n",
    "    \n",
    "class MaskedNetwork(SimpleNetwork):\n",
    "    def __init__(self, input_size, mask_size, layers=[10]):\n",
    "        super().__init__(mask_size, layers=layers)\n",
    "        template = np.zeros(input_size)\n",
    "        mask = np.random.choice(len(template), mask_size, False)\n",
    "        template[mask] = 1\n",
    "        self.mask = torch.from_numpy(template).to(torch.bool)\n",
    "        \n",
    "    def forward(self, x):\n",
    "        data = x[:, self.mask]\n",
    "        return super().forward(data)"
   ]
  },
  {
   "cell_type": "code",
   "execution_count": 7,
   "id": "55cac9fc-33cc-4007-8b42-b883fe059c71",
   "metadata": {},
   "outputs": [],
   "source": [
    "class Hypernetwork(torch.nn.Module):\n",
    "    def __init__(self, inp_size=784, mask_size=20, node_hidden_size=20, layers=[64, 256], test_nodes=100):\n",
    "        super().__init__()\n",
    "        self.mask_size = mask_size\n",
    "        self.input_size = inp_size\n",
    "        self.node_hidden_size = node_hidden_size\n",
    "        \n",
    "        input_w_size = mask_size*node_hidden_size\n",
    "        input_b_size = node_hidden_size\n",
    "\n",
    "        hidden_w_size = node_hidden_size*10\n",
    "        hidden_b_size = 10\n",
    "            \n",
    "        self.out_size = input_w_size+input_b_size+hidden_w_size+hidden_b_size\n",
    "        \n",
    "        self.input = torch.nn.Linear(inp_size, layers[0])\n",
    "        self.hidden1 = torch.nn.Linear(layers[0], layers[1])\n",
    "        self.out = torch.nn.Linear(layers[1], self.out_size)\n",
    "        \n",
    "        self.relu = torch.nn.ReLU()\n",
    "        self.template = np.zeros(inp_size)\n",
    "        self.test_nodes = test_nodes\n",
    "        self.test_mask = self._create_mask(test_nodes)\n",
    "        \n",
    "    def forward(self, data, mask=None):\n",
    "        \"\"\" Get a hypernet prediction.\n",
    "        \n",
    "        Args:\n",
    "            data - prediction input\n",
    "            mask - either None or a torch.tensor((data.shape[0], data.shape[1])).\n",
    "        \"\"\"\n",
    "        if self.training:\n",
    "            if mask is None:\n",
    "                masks = np.array([np.random.choice((len(self.template)), self.mask_size, False) for _ in range(len(data))])\n",
    "                tmp = np.array([self.template.copy() for _ in range(len(data))])\n",
    "                for i, mask in enumerate(masks):\n",
    "                    tmp[i, mask] = 1\n",
    "                mask = torch.from_numpy(tmp).to(torch.float32).cuda()\n",
    "\n",
    "            weights = self.craft_network(mask)\n",
    "            res = torch.zeros((len(data), 10)).cuda()\n",
    "            for i in range(len(data)):\n",
    "                nn = InsertableNet(weights[i], self.mask_size, layers=[self.node_hidden_size])\n",
    "                masked_data = data[i, mask[i].to(torch.bool)]\n",
    "                res[i] = nn(masked_data)\n",
    "            return res\n",
    "        else:\n",
    "            if mask is None:\n",
    "                mask = self.test_mask\n",
    "\n",
    "            nets = []\n",
    "            weights = self.craft_network(mask)\n",
    "            res = torch.zeros((len(data), 10)).cuda()\n",
    "            for i in range(len(mask)):\n",
    "                nn = InsertableNet(weights[i], self.mask_size, layers=[self.node_hidden_size])\n",
    "                masked_data = data[:, mask[i].to(torch.bool)]\n",
    "                res += nn(masked_data)\n",
    "            res /= self.test_nodes\n",
    "            return res\n",
    "\n",
    "#     def forward(self, data, mask=None):\n",
    "#         if mask is None:\n",
    "#             mask = np.random.choice(len(template), self.mask_size, False)\n",
    "#             tmp = self.template.copy()\n",
    "#             tmp[mask] = 1\n",
    "#             mask = torch.from_numpy(tmp).to(torch.float32).cuda()\n",
    "        \n",
    "#         weights = self.craft_network(mask)\n",
    "#         nn = InsertableNet(weights, self.mask_size, layers=[self.node_hidden_size])\n",
    "#         masked_data = data[:, mask.to(torch.bool)]\n",
    "#         return nn(masked_data)\n",
    "        \n",
    "    def _create_mask(self, count):\n",
    "        masks = np.array([np.random.choice((len(self.template)), self.mask_size, False) for _ in range(count)])\n",
    "        tmp = np.array([self.template.copy() for _ in range(count)])\n",
    "        for i, mask in enumerate(masks):\n",
    "            tmp[i, mask] = 1\n",
    "        mask = torch.from_numpy(tmp).to(torch.float32).cuda()\n",
    "        return mask\n",
    "    \n",
    "    def craft_network(self, mask):\n",
    "        out = self.input(mask)\n",
    "        out = self.relu(out)\n",
    "        out = self.hidden1(out)\n",
    "        out = self.relu(out)\n",
    "        out = self.out(out)\n",
    "        return out"
   ]
  },
  {
   "cell_type": "code",
   "execution_count": 8,
   "id": "6c82584b-1d17-4a7c-ad21-396292ad2b56",
   "metadata": {},
   "outputs": [],
   "source": [
    "hypernet = Hypernetwork(mask_size=20, node_hidden_size=10).cuda()"
   ]
  },
  {
   "cell_type": "code",
   "execution_count": 10,
   "id": "d104abef-1bcb-46e8-9597-d87d4b157a1b",
   "metadata": {
    "tags": []
   },
   "outputs": [
    {
     "data": {
      "text/plain": [
       "Hypernetwork(\n",
       "  (input): Linear(in_features=784, out_features=64, bias=True)\n",
       "  (hidden1): Linear(in_features=64, out_features=256, bias=True)\n",
       "  (out): Linear(in_features=256, out_features=320, bias=True)\n",
       "  (relu): ReLU()\n",
       ")"
      ]
     },
     "execution_count": 10,
     "metadata": {},
     "output_type": "execute_result"
    }
   ],
   "source": [
    "hypernet.eval()\n",
    "# print(hypernet(inputs).shape)\n",
    "# print(hypernet.out_size)"
   ]
  },
  {
   "cell_type": "markdown",
   "id": "ecc04584-7a97-47cd-a3ab-12507cfc12b4",
   "metadata": {},
   "source": [
    "## Load data"
   ]
  },
  {
   "cell_type": "code",
   "execution_count": 11,
   "id": "c7b4e185-c95f-4eff-9d33-3c84eb6ed1d2",
   "metadata": {},
   "outputs": [],
   "source": [
    "mods = [transforms.ToTensor(), \n",
    "        transforms.Normalize((0.1307,), (0.3081,)),    #mean and std of MNIST\n",
    "        transforms.Lambda(lambda x: torch.flatten(x))]\n",
    "mods = transforms.Compose(mods)\n",
    "\n",
    "trainset = datasets.MNIST(root='./data/train', train=True, download=True, transform=mods)\n",
    "testset = datasets.MNIST(root='./data/test', train=False, download=True, transform=mods)"
   ]
  },
  {
   "cell_type": "code",
   "execution_count": 12,
   "id": "7be06e1b-0c5f-41a3-ab19-43870464b2d0",
   "metadata": {},
   "outputs": [],
   "source": [
    "batch_size = 32\n",
    "test_batch_size = 1000\n",
    "\n",
    "trainloader = torch.utils.data.DataLoader(trainset, batch_size=batch_size,\n",
    "                                          shuffle=True, num_workers=1)\n",
    "testloader = torch.utils.data.DataLoader(testset, batch_size=test_batch_size,\n",
    "                                         shuffle=False, num_workers=1)"
   ]
  },
  {
   "cell_type": "markdown",
   "id": "66667859-9444-4fd1-85d0-07b036e34724",
   "metadata": {},
   "source": [
    "## Craft model"
   ]
  },
  {
   "cell_type": "code",
   "execution_count": 13,
   "id": "f3694a13-a2ae-4f56-a521-ed168f937b8e",
   "metadata": {},
   "outputs": [],
   "source": [
    "def train_loop(hypernet, optimizer, epochs):\n",
    "    train_loss = []\n",
    "    test_loss = []\n",
    "    for epoch in range(epochs): \n",
    "        total_loss = 0\n",
    "        running_loss = 0.0\n",
    "        correct = 0\n",
    "        total = 0\n",
    "        hypernet.train()\n",
    "        for i, data in enumerate(trainloader):\n",
    "            inputs, labels = data\n",
    "            inputs = inputs.cuda()\n",
    "            labels = labels.cuda()\n",
    "\n",
    "            optimizer.zero_grad()\n",
    "\n",
    "            outputs = hypernet(inputs)\n",
    "            loss = criterion(outputs, labels)\n",
    "            loss.backward()\n",
    "            optimizer.step()\n",
    "\n",
    "            correct += (outputs.argmax(1)==labels).float().sum()\n",
    "            total += outputs.shape[0]\n",
    "            running_loss += loss.item()\n",
    "            train_loss.append(loss.item())\n",
    "            if i>0 and i % 100 == 0:\n",
    "                total_loss += running_loss/100\n",
    "                experiment.log_metric(\"batch_accuracy\", correct / total * 100)\n",
    "\n",
    "                running_loss = 0.0\n",
    "                correct = 0\n",
    "                total=0\n",
    "\n",
    "        total_loss = 0\n",
    "        correct = 0\n",
    "        hypernet.eval()\n",
    "        for i, data in enumerate(testloader):\n",
    "            images, labels = data\n",
    "            images = images.cuda()\n",
    "            labels = labels.cuda()\n",
    "            outputs = hypernet(images)\n",
    "            _, predicted = torch.max(outputs.data, 1)\n",
    "            correct += (predicted == labels).sum().item()\n",
    "            total_loss += criterion(outputs, labels).item()\n",
    "\n",
    "        test_loss.append(total_loss/i)\n",
    "        print(f\"Test acc: {correct/len(testset)*100}\")\n",
    "        experiment.log_metric(\"test_accuracy\", correct/len(testset)*100)"
   ]
  },
  {
   "cell_type": "code",
   "execution_count": 14,
   "id": "2be31c85-949f-4353-bb00-c15f40ae4c30",
   "metadata": {},
   "outputs": [],
   "source": [
    "criterion = torch.nn.CrossEntropyLoss()"
   ]
  },
  {
   "cell_type": "markdown",
   "id": "e432e455-a7c3-4909-aa1e-87e1e206b4b0",
   "metadata": {
    "tags": []
   },
   "source": [
    "### Verify the model on a preset mask"
   ]
  },
  {
   "cell_type": "code",
   "execution_count": 105,
   "id": "9462e51c-85b2-4f13-a108-907aeaf43bed",
   "metadata": {},
   "outputs": [],
   "source": [
    "hypernet = Hypernetwork(mask_size=30, test_nodes=1, node_hidden_size=10).cuda()\n",
    "hypernet = hypernet.train()"
   ]
  },
  {
   "cell_type": "code",
   "execution_count": 106,
   "id": "2344dd68-fac5-4e63-b954-644069f57937",
   "metadata": {},
   "outputs": [],
   "source": [
    "input_size = 784\n",
    "mask_size = 30\n",
    "\n",
    "np.random.seed(42)\n",
    "template = np.zeros(input_size)\n",
    "mask_idx = np.random.choice(len(template), mask_size, False)\n",
    "template[mask_idx] = 1\n",
    "mask = torch.from_numpy(template).to(torch.float32).cuda()\n",
    "# mask = mask.unsqueeze(0).repeat(batch_size, 1)"
   ]
  },
  {
   "cell_type": "code",
   "execution_count": 107,
   "id": "54eab199-79ba-4c98-9dbc-901cd71f1c5e",
   "metadata": {},
   "outputs": [],
   "source": [
    "epochs = 5\n",
    "criterion = torch.nn.CrossEntropyLoss()\n",
    "optimizer = torch.optim.Adam(hypernet.parameters(), lr=3e-4)"
   ]
  },
  {
   "cell_type": "code",
   "execution_count": 108,
   "id": "782e9a46-b46e-4122-8adc-197e87d5a5c9",
   "metadata": {
    "tags": []
   },
   "outputs": [
    {
     "name": "stderr",
     "output_type": "stream",
     "text": [
      "COMET INFO: ---------------------------\n",
      "COMET INFO: Comet.ml Experiment Summary\n",
      "COMET INFO: ---------------------------\n",
      "COMET INFO:   Data:\n",
      "COMET INFO:     display_summary_level : 1\n",
      "COMET INFO:     url                   : https://www.comet.ml/wwydmanski/hypernetwork/d5b06f80ed8349feb4fcef54cb5996ba\n",
      "COMET INFO:   Metrics [count] (min, max):\n",
      "COMET INFO:     loss [56] : (0.6758928894996643, 2.294724941253662)\n",
      "COMET INFO:   Parameters:\n",
      "COMET INFO:     test_nodes : 1\n",
      "COMET INFO:   Uploads:\n",
      "COMET INFO:     environment details      : 1\n",
      "COMET INFO:     filename                 : 1\n",
      "COMET INFO:     git metadata             : 1\n",
      "COMET INFO:     git-patch (uncompressed) : 1 (75.04 KB)\n",
      "COMET INFO:     installed packages       : 1\n",
      "COMET INFO:     model graph              : 1\n",
      "COMET INFO:     notebook                 : 1\n",
      "COMET INFO:     os packages              : 1\n",
      "COMET INFO:     source_code              : 1\n",
      "COMET INFO: ---------------------------\n",
      "COMET WARNING: As you are running in a Jupyter environment, you will need to call `experiment.end()` when finished to ensure all metrics and code are logged before exiting.\n",
      "COMET INFO: Experiment is live on comet.ml https://www.comet.ml/wwydmanski/hypernetwork/0abaea95632444338ca07caa94c08405\n",
      "\n",
      "100%|███████████████████████████████████████████████████████████████████████████████| 1875/1875 [01:47<00:00, 17.40it/s]\n"
     ]
    },
    {
     "name": "stdout",
     "output_type": "stream",
     "text": [
      "Test acc: 65.36999999999999, loss: 1.1659077008565266\n"
     ]
    },
    {
     "name": "stderr",
     "output_type": "stream",
     "text": [
      "100%|███████████████████████████████████████████████████████████████████████████████| 1875/1875 [01:48<00:00, 17.32it/s]\n"
     ]
    },
    {
     "name": "stdout",
     "output_type": "stream",
     "text": [
      "Test acc: 67.49000000000001, loss: 1.118842687871721\n"
     ]
    },
    {
     "name": "stderr",
     "output_type": "stream",
     "text": [
      "100%|███████████████████████████████████████████████████████████████████████████████| 1875/1875 [01:43<00:00, 18.15it/s]\n"
     ]
    },
    {
     "name": "stdout",
     "output_type": "stream",
     "text": [
      "Test acc: 67.75, loss: 1.1152933571073744\n"
     ]
    },
    {
     "name": "stderr",
     "output_type": "stream",
     "text": [
      "100%|███████████████████████████████████████████████████████████████████████████████| 1875/1875 [01:49<00:00, 17.14it/s]\n"
     ]
    },
    {
     "name": "stdout",
     "output_type": "stream",
     "text": [
      "Test acc: 67.49000000000001, loss: 1.109749390019311\n"
     ]
    },
    {
     "name": "stderr",
     "output_type": "stream",
     "text": [
      "100%|███████████████████████████████████████████████████████████████████████████████| 1875/1875 [01:45<00:00, 17.73it/s]\n"
     ]
    },
    {
     "name": "stdout",
     "output_type": "stream",
     "text": [
      "Test acc: 68.5, loss: 1.0774634612931147\n"
     ]
    }
   ],
   "source": [
    "experiment = Experiment(api_key=os.environ.get(\"COMET_KEY\"), project_name=\"hypernetwork\")\n",
    "experiment.add_tag(\"fixed_mask\")\n",
    "experiment.log_parameter(\"test_nodes\", 1)\n",
    "\n",
    "train_loss = []\n",
    "test_loss = []\n",
    "for epoch in range(epochs): \n",
    "    total_loss = 0\n",
    "    running_loss = 0.0\n",
    "    correct = 0\n",
    "    total = 0\n",
    "    for i, data in enumerate(tqdm(trainloader)):\n",
    "        inputs, labels = data\n",
    "        inputs = inputs.cuda()\n",
    "        labels = labels.cuda()\n",
    "\n",
    "        optimizer.zero_grad()\n",
    "\n",
    "        outputs = hypernet(inputs, mask.unsqueeze(0).repeat(len(inputs), 1))\n",
    "        loss = criterion(outputs, labels)\n",
    "        loss.backward()\n",
    "        optimizer.step()\n",
    "\n",
    "        correct += (outputs.argmax(1)==labels).float().sum()\n",
    "        total += outputs.shape[0]\n",
    "        running_loss += loss.item()\n",
    "        train_loss.append(loss.item())\n",
    "        if i>0 and i % 100 == 0:\n",
    "            total_loss += running_loss/100\n",
    "            running_loss = 0.0\n",
    "            correct = 0\n",
    "            total=0\n",
    "\n",
    "    total_loss = 0\n",
    "    correct = 0\n",
    "    for i, data in enumerate(testloader):\n",
    "        images, labels = data\n",
    "        images = images.cuda()\n",
    "        labels = labels.cuda()\n",
    "        outputs = hypernet(images, mask.unsqueeze(0).repeat(len(images), 1))\n",
    "        _, predicted = torch.max(outputs.data, 1)\n",
    "        correct += (predicted == labels).sum().item()\n",
    "        total_loss += criterion(outputs, labels).item()\n",
    "        \n",
    "    test_loss.append(total_loss)\n",
    "    print(f\"Test acc: {correct/len(testset)*100}, loss: {total_loss/i}\")"
   ]
  },
  {
   "cell_type": "code",
   "execution_count": null,
   "id": "2f2104b5-3bb3-438a-ad93-183ddf4618ab",
   "metadata": {},
   "outputs": [],
   "source": [
    "plt.title(\"Train loss\")\n",
    "plt.plot(train_loss);\n",
    "plt.show()\n",
    "plt.title(\"Test loss\")\n",
    "plt.plot(test_loss);"
   ]
  },
  {
   "cell_type": "markdown",
   "id": "34633954-ff4a-404a-9826-26aa7a776829",
   "metadata": {
    "jp-MarkdownHeadingCollapsed": true,
    "tags": []
   },
   "source": [
    "### Bayesian hyperparam search"
   ]
  },
  {
   "cell_type": "code",
   "execution_count": null,
   "id": "f979e065-11f7-42b1-9632-61de2625786a",
   "metadata": {
    "tags": []
   },
   "outputs": [
    {
     "name": "stderr",
     "output_type": "stream",
     "text": [
      "COMET INFO: COMET_OPTIMIZER_ID=60479ac6ac4047ca8e0882a4d796ba17\n",
      "COMET INFO: Using optimizer config: {'algorithm': 'bayes', 'configSpaceSize': 'infinite', 'endTime': None, 'id': '60479ac6ac4047ca8e0882a4d796ba17', 'lastUpdateTime': None, 'maxCombo': 0, 'name': '60479ac6ac4047ca8e0882a4d796ba17', 'parameters': {'batch_size': {'type': 'categorical', 'values': ['32', '64']}, 'l1': {'type': 'categorical', 'values': ['64']}, 'l2': {'type': 'categorical', 'values': ['256']}, 'l3': {'type': 'categorical', 'values': ['256']}, 'learning_rate2': {'max': 0.1, 'min': 0.0001, 'scalingType': 'loguniform', 'type': 'float'}}, 'predictor': None, 'spec': {'gridSize': 10, 'maxCombo': 0, 'metric': 'loss', 'minSampleSize': 100, 'objective': 'minimize', 'retryAssignLimit': 0, 'retryLimit': 1000}, 'startTime': 24414777470, 'state': {'mode': None, 'seed': None, 'sequence': [], 'sequence_i': 0, 'sequence_pid': None, 'sequence_retry': 0, 'sequence_retry_count': 0}, 'status': 'running', 'suggestion_count': 0, 'trials': 1, 'version': '2.0.1'}\n",
      "COMET INFO: ---------------------------\n",
      "COMET INFO: Comet.ml Experiment Summary\n",
      "COMET INFO: ---------------------------\n",
      "COMET INFO:   Data:\n",
      "COMET INFO:     display_summary_level : 1\n",
      "COMET INFO:     url                   : https://www.comet.ml/wwydmanski/hypernetwork/8e3041260c3649c48d7c03f3977c970e\n",
      "COMET INFO:   Metrics [count] (min, max):\n",
      "COMET INFO:     batch_accuracy [165] : (9.390625, 26.046875)\n",
      "COMET INFO:     loss [1721]          : (1.820617914199829, 90.90898895263672)\n",
      "COMET INFO:     test_accuracy [18]   : (8.52, 60.019999999999996)\n",
      "COMET INFO:   Others:\n",
      "COMET INFO:     optimizer_count        : 4\n",
      "COMET INFO:     optimizer_id           : af5d4054532f4588b05a7fe2f633923d\n",
      "COMET INFO:     optimizer_metric       : loss\n",
      "COMET INFO:     optimizer_metric_value : 1.820617914199829\n",
      "COMET INFO:     optimizer_objective    : minimum\n",
      "COMET INFO:     optimizer_parameters   : {\"batch_size\": \"64\", \"l1\": \"64\", \"l2\": \"256\", \"l3\": \"256\", \"learning_rate\": 0.00029411267342607117, \"learning_rate2\": 0.015640150610471915}\n",
      "COMET INFO:     optimizer_pid          : fec6f46ed01c5192adfdfb20f31358cf303ff7e5\n",
      "COMET INFO:     optimizer_process      : 82915\n",
      "COMET INFO:     optimizer_trial        : 1\n",
      "COMET INFO:     optimizer_version      : 2.0.1\n",
      "COMET INFO:   Parameters:\n",
      "COMET INFO:     batch_size     : 64\n",
      "COMET INFO:     l1             : 64\n",
      "COMET INFO:     l2             : 256\n",
      "COMET INFO:     l3             : 256\n",
      "COMET INFO:     learning_rate  : 0.00029411267342607117\n",
      "COMET INFO:     learning_rate2 : 0.015640150610471915\n",
      "COMET INFO:   Uploads:\n",
      "COMET INFO:     environment details      : 1\n",
      "COMET INFO:     filename                 : 1\n",
      "COMET INFO:     git metadata             : 1\n",
      "COMET INFO:     git-patch (uncompressed) : 1 (68.41 KB)\n",
      "COMET INFO:     installed packages       : 1\n",
      "COMET INFO:     model graph              : 1\n",
      "COMET INFO:     notebook                 : 1\n",
      "COMET INFO:     os packages              : 1\n",
      "COMET INFO:     source_code              : 1\n",
      "COMET INFO: ---------------------------\n",
      "COMET WARNING: As you are running in a Jupyter environment, you will need to call `experiment.end()` when finished to ensure all metrics and code are logged before exiting.\n",
      "COMET INFO: Experiment is live on comet.ml https://www.comet.ml/wwydmanski/hypernetwork/c3da0413153b4782bbedb8423babf09c\n",
      "\n"
     ]
    },
    {
     "name": "stdout",
     "output_type": "stream",
     "text": [
      "Test acc: 24.37\n"
     ]
    }
   ],
   "source": [
    "config = {\n",
    "    \"algorithm\": \"bayes\",\n",
    "    \"parameters\": {\n",
    "        \"l1\": {\"type\": \"categorical\", \"values\": [\"64\"]},\n",
    "        \"l2\": {\"type\": \"categorical\", \"values\": [\"256\"]},\n",
    "        \"l3\": {\"type\": \"categorical\", \"values\": [\"256\"]},\n",
    "        \"learning_rate2\": {\"type\": \"float\", \"min\": 0.0001, \"max\": 0.1, \"scalingType\": \"loguniform\"},\n",
    "        \"batch_size\": {\"type\": \"categorical\", \"values\": [\"32\", \"64\"]},\n",
    "    },\n",
    "    \"spec\": {\n",
    "    \"metric\": \"loss\",\n",
    "    \"objective\": \"minimize\",\n",
    "    },\n",
    "}\n",
    "\n",
    "opt = Optimizer(config, api_key=os.environ.get(\"COMET_KEY\"))\n",
    "criterion = torch.nn.CrossEntropyLoss()\n",
    "\n",
    "for experiment in opt.get_experiments(project_name=\"hypernetwork\"):\n",
    "    experiment.add_tag(\"optimization\")\n",
    "\n",
    "    batch_size = int(experiment.get_parameter(\"batch_size\"))\n",
    "    test_batch_size = 1000\n",
    "\n",
    "    trainloader = torch.utils.data.DataLoader(trainset, batch_size=batch_size,\n",
    "                                              shuffle=True, num_workers=1)\n",
    "    testloader = torch.utils.data.DataLoader(testset, batch_size=test_batch_size,\n",
    "                                             shuffle=False, num_workers=1)\n",
    "    \n",
    "    hypernet = Hypernetwork(mask_size=30, layers=[\n",
    "            int(experiment.get_parameter(\"l1\")), \n",
    "            int(experiment.get_parameter(\"l2\")), \n",
    "            int(experiment.get_parameter(\"l3\"))\n",
    "    ]).cuda()\n",
    "    \n",
    "    \n",
    "    optimizer = torch.optim.Adam(hypernet.parameters(), lr=3e-4)\n",
    "    train_loop(hypernet, optimizer, 10)\n",
    "    \n",
    "    optimizer = torch.optim.Adam(hypernet.parameters(), lr=experiment.get_parameter(\"learning_rate2\"))\n",
    "    train_loop(hypernet, optimizer, 10)\n",
    "    experiment.end()"
   ]
  },
  {
   "cell_type": "markdown",
   "id": "89b3ebd3-67b9-4068-baf2-12add868b033",
   "metadata": {
    "tags": []
   },
   "source": [
    "### Train the full model"
   ]
  },
  {
   "cell_type": "code",
   "execution_count": 56,
   "id": "921f9b81-9034-4bd8-9a5e-996b10208095",
   "metadata": {},
   "outputs": [],
   "source": [
    "batch_size = 32\n",
    "test_batch_size = 1000\n",
    "\n",
    "trainloader = torch.utils.data.DataLoader(trainset, batch_size=batch_size,\n",
    "                                          shuffle=True, num_workers=1)\n",
    "testloader = torch.utils.data.DataLoader(testset, batch_size=test_batch_size,\n",
    "                                         shuffle=False, num_workers=1)\n",
    "\n",
    "hypernet = Hypernetwork(mask_size=30, layers=[64, 256], node_hidden_size=10, test_nodes=1).cuda()"
   ]
  },
  {
   "cell_type": "code",
   "execution_count": 57,
   "id": "7d305890-41a7-40f7-a324-5adff1d7d81a",
   "metadata": {
    "tags": []
   },
   "outputs": [
    {
     "name": "stderr",
     "output_type": "stream",
     "text": [
      "COMET WARNING: As you are running in a Jupyter environment, you will need to call `experiment.end()` when finished to ensure all metrics and code are logged before exiting.\n",
      "COMET INFO: Experiment is live on comet.ml https://www.comet.ml/wwydmanski/hypernetwork/2738a792dce44f2d8447305b682b22a4\n",
      "\n",
      "100%|███████████████████████████████████████████████████████████████████████████████| 1875/1875 [01:46<00:00, 17.61it/s]\n"
     ]
    },
    {
     "name": "stdout",
     "output_type": "stream",
     "text": [
      "Test acc: 18.86\n"
     ]
    },
    {
     "name": "stderr",
     "output_type": "stream",
     "text": [
      "100%|███████████████████████████████████████████████████████████████████████████████| 1875/1875 [01:45<00:00, 17.73it/s]\n"
     ]
    },
    {
     "name": "stdout",
     "output_type": "stream",
     "text": [
      "Test acc: 22.040000000000003\n"
     ]
    },
    {
     "name": "stderr",
     "output_type": "stream",
     "text": [
      "100%|███████████████████████████████████████████████████████████████████████████████| 1875/1875 [01:48<00:00, 17.23it/s]\n"
     ]
    },
    {
     "name": "stdout",
     "output_type": "stream",
     "text": [
      "Test acc: 21.17\n"
     ]
    },
    {
     "name": "stderr",
     "output_type": "stream",
     "text": [
      "100%|███████████████████████████████████████████████████████████████████████████████| 1875/1875 [01:46<00:00, 17.62it/s]\n"
     ]
    },
    {
     "name": "stdout",
     "output_type": "stream",
     "text": [
      "Test acc: 21.32\n"
     ]
    },
    {
     "name": "stderr",
     "output_type": "stream",
     "text": [
      "100%|███████████████████████████████████████████████████████████████████████████████| 1875/1875 [01:45<00:00, 17.85it/s]\n"
     ]
    },
    {
     "name": "stdout",
     "output_type": "stream",
     "text": [
      "Test acc: 21.66\n"
     ]
    },
    {
     "name": "stderr",
     "output_type": "stream",
     "text": [
      "100%|███████████████████████████████████████████████████████████████████████████████| 1875/1875 [01:44<00:00, 17.98it/s]\n"
     ]
    },
    {
     "name": "stdout",
     "output_type": "stream",
     "text": [
      "Test acc: 22.09\n"
     ]
    },
    {
     "name": "stderr",
     "output_type": "stream",
     "text": [
      "100%|███████████████████████████████████████████████████████████████████████████████| 1875/1875 [01:49<00:00, 17.11it/s]\n"
     ]
    },
    {
     "name": "stdout",
     "output_type": "stream",
     "text": [
      "Test acc: 24.14\n"
     ]
    },
    {
     "name": "stderr",
     "output_type": "stream",
     "text": [
      "100%|███████████████████████████████████████████████████████████████████████████████| 1875/1875 [01:44<00:00, 17.86it/s]\n"
     ]
    },
    {
     "name": "stdout",
     "output_type": "stream",
     "text": [
      "Test acc: 21.17\n"
     ]
    },
    {
     "name": "stderr",
     "output_type": "stream",
     "text": [
      "100%|███████████████████████████████████████████████████████████████████████████████| 1875/1875 [01:51<00:00, 16.79it/s]\n"
     ]
    },
    {
     "name": "stdout",
     "output_type": "stream",
     "text": [
      "Test acc: 22.27\n"
     ]
    },
    {
     "name": "stderr",
     "output_type": "stream",
     "text": [
      "100%|███████████████████████████████████████████████████████████████████████████████| 1875/1875 [01:46<00:00, 17.65it/s]\n",
      "COMET INFO: ---------------------------\n",
      "COMET INFO: Comet.ml Experiment Summary\n",
      "COMET INFO: ---------------------------\n",
      "COMET INFO:   Data:\n",
      "COMET INFO:     display_summary_level : 1\n",
      "COMET INFO:     url                   : https://www.comet.ml/wwydmanski/hypernetwork/2738a792dce44f2d8447305b682b22a4\n",
      "COMET INFO:   Metrics [count] (min, max):\n",
      "COMET INFO:     batch_accuracy [180] : (12.561882019042969, 34.281246185302734)\n",
      "COMET INFO:     loss [1875]          : (1.4349006414413452, 2.479302167892456)\n",
      "COMET INFO:     test_accuracy [10]   : (18.86, 24.14)\n",
      "COMET INFO:   Uploads:\n",
      "COMET INFO:     environment details      : 1\n",
      "COMET INFO:     filename                 : 1\n",
      "COMET INFO:     git metadata             : 1\n",
      "COMET INFO:     git-patch (uncompressed) : 1 (37.14 KB)\n",
      "COMET INFO:     installed packages       : 1\n",
      "COMET INFO:     model graph              : 1\n",
      "COMET INFO:     notebook                 : 1\n",
      "COMET INFO:     os packages              : 1\n",
      "COMET INFO:     source_code              : 1\n",
      "COMET INFO: ---------------------------\n"
     ]
    },
    {
     "name": "stdout",
     "output_type": "stream",
     "text": [
      "Test acc: 19.17\n"
     ]
    },
    {
     "name": "stderr",
     "output_type": "stream",
     "text": [
      "COMET INFO: Uploading metrics, params, and assets to Comet before program termination (may take several seconds)\n",
      "COMET INFO: The Python SDK has 3600 seconds to finish before aborting...\n"
     ]
    }
   ],
   "source": [
    "experiment = Experiment(api_key=os.environ.get(\"COMET_KEY\"), project_name=\"hypernetwork\")\n",
    "experiment.add_tag(\"training\")\n",
    "experiment.log_parameter(\"test_nodes\", hypernet.test_nodes)\n",
    "\n",
    "epochs = 10\n",
    "optimizer = torch.optim.Adam(hypernet.parameters(), lr=3e-4)\n",
    "train_loop(hypernet, optimizer, epochs)\n",
    "# epochs = 50\n",
    "# optimizer = torch.optim.Adam(hypernet.parameters(), lr=3e-5)\n",
    "# train_loop(hypernet,optimizer, epochs)\n",
    "experiment.end()"
   ]
  },
  {
   "cell_type": "code",
   "execution_count": null,
   "id": "b37571e2-5391-4b71-b292-497fd56aafc0",
   "metadata": {},
   "outputs": [],
   "source": [
    "def test_model(hypernet, verbose=False):\n",
    "    correct = 0\n",
    "    loss = 0\n",
    "    hypernet.eval()\n",
    "    for i, data in enumerate(testloader):\n",
    "        images, labels = data\n",
    "        images = images.cuda()\n",
    "        labels = labels.cuda()\n",
    "        outputs = hypernet(images)\n",
    "        _, predicted = torch.max(outputs.data, 1)\n",
    "        correct += (predicted == labels).sum().item()\n",
    "        loss += criterion(outputs, labels).item()\n",
    "\n",
    "    if verbose:\n",
    "        print(f\"Test acc: {correct/len(testset)*100:.2f}\")\n",
    "        print(f\"Test loss: {total_loss/i}\")\n",
    "    return correct/len(testset)*100"
   ]
  },
  {
   "cell_type": "code",
   "execution_count": 216,
   "id": "73122759-a1d7-4484-a7de-a7d517068c79",
   "metadata": {},
   "outputs": [
    {
     "data": {
      "text/plain": [
       "[<matplotlib.lines.Line2D at 0x7f9ff4235d30>]"
      ]
     },
     "execution_count": 216,
     "metadata": {},
     "output_type": "execute_result"
    },
    {
     "data": {
      "image/png": "[encoded data removed]",
      "text/plain": [
       "<Figure size 432x288 with 1 Axes>"
      ]
     },
     "metadata": {
      "needs_background": "light"
     },
     "output_type": "display_data"
    }
   ],
   "source": [
    "acc = []\n",
    "nodes = []\n",
    "\n",
    "for test_nodes in np.arange(1, 10):\n",
    "    hypernet.test_nodes = test_nodes\n",
    "    hypernet.test_mask = hypernet._create_mask(test_nodes)\n",
    "    acc.append(test_model(hypernet))\n",
    "    nodes.append(test_nodes)\n",
    "    \n",
    "for test_nodes in np.arange(10, 100, 5):\n",
    "    hypernet.test_nodes = test_nodes\n",
    "    hypernet.test_mask = hypernet._create_mask(test_nodes)\n",
    "    acc.append(test_model(hypernet))\n",
    "    nodes.append(test_nodes)\n",
    "    \n",
    "plt.plot(nodes, acc)"
   ]
  }
 ],
 "metadata": {
  "kernelspec": {
   "display_name": "img_processing",
   "language": "python",
   "name": "img_processing"
  },
  "language_info": {
   "codemirror_mode": {
    "name": "ipython",
    "version": 3
   },
   "file_extension": ".py",
   "mimetype": "text/x-python",
   "name": "python",
   "nbconvert_exporter": "python",
   "pygments_lexer": "ipython3",
   "version": "3.8.12"
  }
 },
 "nbformat": 4,
 "nbformat_minor": 5
}
