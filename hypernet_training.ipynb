{
 "cells": [
  {
   "cell_type": "code",
   "execution_count": 1,
   "id": "0e1f4af7-ae09-4f2d-a12d-1048cb98f355",
   "metadata": {},
   "outputs": [],
   "source": [
    "from dotenv import load_dotenv\n",
    "load_dotenv()\n",
    "\n",
    "import os"
   ]
  },
  {
   "cell_type": "code",
   "execution_count": 135,
   "id": "bb6f571c-bc10-479a-bb00-e4a66729e8c9",
   "metadata": {},
   "outputs": [],
   "source": [
    "from comet_ml import Experiment, Optimizer\n",
    "\n",
    "import torch\n",
    "import torchvision.transforms as transforms\n",
    "import torchvision.datasets as datasets\n",
    "import matplotlib.pyplot as plt\n",
    "import numpy as np\n",
    "import torch.nn.functional as F\n",
    "\n",
    "torch.set_default_dtype(torch.float32)"
   ]
  },
  {
   "cell_type": "code",
   "execution_count": 3,
   "id": "6762231d-9da8-42b9-8d7d-de8c6cdfc9b8",
   "metadata": {},
   "outputs": [],
   "source": [
    "from torchsummary import summary\n",
    "import matplotlib.pyplot as plt"
   ]
  },
  {
   "cell_type": "markdown",
   "id": "0a3b7ef0-ea05-4d27-8e79-b37581a37e48",
   "metadata": {},
   "source": [
    "## Declare classes"
   ]
  },
  {
   "cell_type": "code",
   "execution_count": 4,
   "id": "5aa4a53e-8939-4444-9b92-da340fa5e3a9",
   "metadata": {},
   "outputs": [],
   "source": [
    "class SimpleNetwork(torch.nn.Module):\n",
    "    def __init__(self, inp_size, layers=[100]):\n",
    "        super().__init__()\n",
    "        self.layers = []\n",
    "        \n",
    "        self.inp = torch.nn.Linear(inp_size, layers[0])\n",
    "        self.output = torch.nn.Linear(layers[0], 10)\n",
    "        self.relu = torch.nn.ReLU()\n",
    "        self.softmax = torch.nn.Softmax()\n",
    "    \n",
    "    def forward(self, x):\n",
    "        out = x\n",
    "        out = self.inp(out)\n",
    "        out = self.relu(out)\n",
    "        out = self.output(out)\n",
    "        return out\n",
    "    \n",
    "class InsertableNet(SimpleNetwork):\n",
    "    def __init__(self, weights, inp_size, layers=[100]):\n",
    "        super().__init__(inp_size, layers)\n",
    "        input_w_size = inp_size*layers[0]\n",
    "        input_b_size = layers[0]\n",
    "\n",
    "        hidden_w_size = layers[0]*10\n",
    "        hidden_b_size = 10\n",
    "\n",
    "        self.inp_weights = weights[:input_w_size].reshape((layers[0], inp_size))\n",
    "        self.inp_bias = weights[input_w_size:input_w_size+input_b_size]\n",
    "\n",
    "        self.output_weights = weights[input_w_size+input_b_size:input_w_size+input_b_size+hidden_w_size].reshape((10, layers[0]))\n",
    "        self.output_bias = weights[input_w_size+input_b_size+hidden_w_size:input_w_size+input_b_size+hidden_w_size+hidden_b_size]\n",
    "\n",
    "    def forward(self, data):\n",
    "        out = F.linear(data, self.inp_weights, self.inp_bias)\n",
    "        out = self.relu(out)\n",
    "        out = F.linear(out, self.output_weights, self.output_bias)\n",
    "        return out\n",
    "    \n",
    "class MaskedNetwork(SimpleNetwork):\n",
    "    def __init__(self, input_size, mask_size, layers=[10]):\n",
    "        super().__init__(mask_size, layers=layers)\n",
    "        template = np.zeros(input_size)\n",
    "        mask = np.random.choice(len(template), mask_size, False)\n",
    "        template[mask] = 1\n",
    "        self.mask = torch.from_numpy(template).to(torch.bool)\n",
    "        \n",
    "    def forward(self, x):\n",
    "        data = x[:, self.mask]\n",
    "        return super().forward(data)"
   ]
  },
  {
   "cell_type": "code",
   "execution_count": 189,
   "id": "55cac9fc-33cc-4007-8b42-b883fe059c71",
   "metadata": {},
   "outputs": [],
   "source": [
    "class Hypernetwork(torch.nn.Module):\n",
    "    def __init__(self, inp_size=784, mask_size=20, node_hidden_size=20, layers=[64, 256], test_nodes=100):\n",
    "        super().__init__()\n",
    "        self.mask_size = mask_size\n",
    "        self.input_size = inp_size\n",
    "        self.node_hidden_size = node_hidden_size\n",
    "        \n",
    "        input_w_size = mask_size*node_hidden_size\n",
    "        input_b_size = node_hidden_size\n",
    "\n",
    "        hidden_w_size = node_hidden_size*10\n",
    "        hidden_b_size = 10\n",
    "            \n",
    "        self.out_size = input_w_size+input_b_size+hidden_w_size+hidden_b_size\n",
    "        \n",
    "        self.input = torch.nn.Linear(inp_size, layers[0])\n",
    "        self.hidden1 = torch.nn.Linear(layers[0], layers[1])\n",
    "        self.out = torch.nn.Linear(layers[1], self.out_size)\n",
    "        \n",
    "        self.relu = torch.nn.ReLU()\n",
    "        self.template = np.zeros(inp_size)\n",
    "        self.test_nodes = test_nodes\n",
    "        self.test_mask = self._create_mask(test_nodes)\n",
    "        \n",
    "    def forward(self, data, mask=None):\n",
    "        if self.training:\n",
    "            if mask is None:\n",
    "                masks = np.array([np.random.choice((len(self.template)), self.mask_size, False) for _ in range(len(data))])\n",
    "                tmp = np.array([self.template.copy() for _ in range(len(data))])\n",
    "                for i, mask in enumerate(masks):\n",
    "                    tmp[i, mask] = 1\n",
    "                mask = torch.from_numpy(tmp).to(torch.float32).cuda()\n",
    "\n",
    "            weights = self.craft_network(mask)\n",
    "            res = torch.zeros((len(data), 10)).cuda()\n",
    "            for i in range(len(data)):\n",
    "                nn = InsertableNet(weights[i], self.mask_size, layers=[self.node_hidden_size])\n",
    "                masked_data = data[i, mask[i].to(torch.bool)]\n",
    "                res[i] = nn(masked_data)\n",
    "            return res\n",
    "        else:\n",
    "            if mask is None:\n",
    "                mask = self.test_mask\n",
    "\n",
    "            nets = []\n",
    "            weights = self.craft_network(mask)\n",
    "            res = torch.zeros((len(data), 10)).cuda()\n",
    "            for i in range(len(mask)):\n",
    "                nn = InsertableNet(weights[i], self.mask_size, layers=[self.node_hidden_size])\n",
    "                masked_data = data[:, mask[i].to(torch.bool)]\n",
    "                res += nn(masked_data)\n",
    "            res /= self.test_nodes\n",
    "            return res\n",
    "\n",
    "#     def forward(self, data, mask=None):\n",
    "#         if mask is None:\n",
    "#             mask = np.random.choice(len(template), self.mask_size, False)\n",
    "#             tmp = self.template.copy()\n",
    "#             tmp[mask] = 1\n",
    "#             mask = torch.from_numpy(tmp).to(torch.float32).cuda()\n",
    "        \n",
    "#         weights = self.craft_network(mask)\n",
    "#         nn = InsertableNet(weights, self.mask_size, layers=[self.node_hidden_size])\n",
    "#         masked_data = data[:, mask.to(torch.bool)]\n",
    "#         return nn(masked_data)\n",
    "        \n",
    "    def _create_mask(self, count):\n",
    "        masks = np.array([np.random.choice((len(self.template)), self.mask_size, False) for _ in range(count)])\n",
    "        tmp = np.array([self.template.copy() for _ in range(count)])\n",
    "        for i, mask in enumerate(masks):\n",
    "            tmp[i, mask] = 1\n",
    "        mask = torch.from_numpy(tmp).to(torch.float32).cuda()\n",
    "        return mask\n",
    "    \n",
    "    def craft_network(self, mask):\n",
    "        out = self.input(mask)\n",
    "        out = self.relu(out)\n",
    "        out = self.hidden1(out)\n",
    "        out = self.relu(out)\n",
    "        out = self.out(out)\n",
    "        return out"
   ]
  },
  {
   "cell_type": "code",
   "execution_count": 190,
   "id": "6c82584b-1d17-4a7c-ad21-396292ad2b56",
   "metadata": {},
   "outputs": [],
   "source": [
    "hypernet = Hypernetwork(mask_size=20).cuda()"
   ]
  },
  {
   "cell_type": "code",
   "execution_count": 191,
   "id": "d104abef-1bcb-46e8-9597-d87d4b157a1b",
   "metadata": {
    "tags": []
   },
   "outputs": [
    {
     "data": {
      "text/plain": [
       "tensor([[-4.3886e-02,  8.5078e-03,  7.6925e-02, -3.7467e-02,  6.6039e-02,\n",
       "         -3.9774e-02, -7.9586e-02,  1.2397e-01,  1.1960e-02, -1.5823e-02],\n",
       "        [-4.1702e-02,  2.3938e-04,  6.4426e-02, -4.4374e-02,  7.3540e-02,\n",
       "         -2.4458e-02, -6.5393e-02,  1.0144e-01,  2.2448e-02, -1.6338e-02],\n",
       "        [-3.8780e-02, -1.6862e-03,  6.8763e-02, -4.3274e-02,  7.5428e-02,\n",
       "         -2.5098e-02, -6.3995e-02,  9.3118e-02,  2.6998e-02, -1.2756e-02],\n",
       "        [-4.0015e-02,  3.8987e-03,  7.3516e-02, -4.4937e-02,  7.5867e-02,\n",
       "         -3.2584e-02, -7.1723e-02,  1.0404e-01,  1.8839e-02, -1.7241e-02],\n",
       "        [-3.9733e-02,  1.9726e-03,  6.8494e-02, -4.5790e-02,  7.6545e-02,\n",
       "         -2.8453e-02, -6.8827e-02,  1.0097e-01,  2.0376e-02, -1.7389e-02],\n",
       "        [-4.0961e-02,  3.7473e-04,  6.6101e-02, -4.4882e-02,  7.2311e-02,\n",
       "         -2.6988e-02, -6.7048e-02,  1.0016e-01,  2.3134e-02, -1.5627e-02],\n",
       "        [-3.7494e-02,  4.8766e-03,  7.6663e-02, -4.2893e-02,  7.0334e-02,\n",
       "         -4.3396e-02, -7.7843e-02,  1.1049e-01,  1.0256e-02, -2.0842e-02],\n",
       "        [-4.1610e-02,  3.2889e-03,  7.8735e-02, -3.6814e-02,  6.8931e-02,\n",
       "         -4.4095e-02, -8.1225e-02,  1.1314e-01,  1.4421e-02, -1.9881e-02],\n",
       "        [-4.0076e-02,  6.1451e-03,  7.1632e-02, -4.5020e-02,  7.5131e-02,\n",
       "         -4.6292e-02, -8.3524e-02,  1.3415e-01,  2.3717e-03, -2.2805e-02],\n",
       "        [-3.9116e-02,  5.2998e-03,  6.4649e-02, -4.8196e-02,  7.6256e-02,\n",
       "         -3.3430e-02, -7.6269e-02,  1.1914e-01,  1.1538e-02, -2.2090e-02],\n",
       "        [-3.6285e-02,  5.9954e-03,  7.5477e-02, -4.4404e-02,  7.5981e-02,\n",
       "         -4.4008e-02, -8.0237e-02,  1.2370e-01,  8.8161e-03, -1.7676e-02],\n",
       "        [-3.6634e-02,  1.1498e-04,  7.0326e-02, -4.6200e-02,  7.9676e-02,\n",
       "         -2.9772e-02, -7.1092e-02,  1.0291e-01,  1.9885e-02, -1.4163e-02],\n",
       "        [-4.3946e-02,  7.3834e-03,  6.1228e-02, -5.1565e-02,  6.2911e-02,\n",
       "         -3.3810e-02, -7.3938e-02,  1.2786e-01,  9.0635e-03, -1.8736e-02],\n",
       "        [-3.9032e-02,  2.2753e-03,  7.0474e-02, -4.8075e-02,  7.3271e-02,\n",
       "         -3.0015e-02, -6.9454e-02,  1.0677e-01,  2.1365e-02, -1.4032e-02],\n",
       "        [-3.9913e-02,  6.3814e-04,  6.9377e-02, -4.3987e-02,  7.4894e-02,\n",
       "         -2.9975e-02, -7.2864e-02,  1.0885e-01,  2.0397e-02, -1.2534e-02],\n",
       "        [-3.9583e-02,  1.4352e-04,  6.8839e-02, -4.2079e-02,  7.4495e-02,\n",
       "         -3.1819e-02, -7.1879e-02,  1.0393e-01,  1.8186e-02, -1.6319e-02],\n",
       "        [-4.2155e-02,  4.7267e-03,  7.6635e-02, -3.9136e-02,  7.2087e-02,\n",
       "         -5.3023e-02, -8.5637e-02,  1.3085e-01,  6.4381e-03, -1.8105e-02],\n",
       "        [-3.8199e-02,  6.8192e-03,  6.8754e-02, -4.9603e-02,  7.0235e-02,\n",
       "         -4.3015e-02, -7.6731e-02,  1.2170e-01,  8.7483e-03, -2.0196e-02],\n",
       "        [-4.9718e-02,  1.0672e-02,  6.5103e-02, -4.4409e-02,  6.1732e-02,\n",
       "         -3.4122e-02, -7.5985e-02,  1.2467e-01,  1.3664e-02, -2.2945e-02],\n",
       "        [-3.4529e-02,  1.1097e-02,  7.0146e-02, -4.6077e-02,  6.6835e-02,\n",
       "         -5.5247e-02, -8.5423e-02,  1.3000e-01,  2.9822e-04, -2.2001e-02],\n",
       "        [-3.5694e-02,  3.9502e-03,  7.0942e-02, -4.5324e-02,  7.2373e-02,\n",
       "         -4.2979e-02, -7.6320e-02,  1.1700e-01,  9.7785e-03, -1.8437e-02],\n",
       "        [-4.5668e-02,  4.0660e-03,  6.9399e-02, -4.1191e-02,  6.9674e-02,\n",
       "         -3.2848e-02, -7.3309e-02,  1.2022e-01,  1.6146e-02, -1.8006e-02],\n",
       "        [-4.2246e-02,  7.6572e-03,  6.7281e-02, -4.5038e-02,  6.5708e-02,\n",
       "         -3.5570e-02, -7.2896e-02,  1.1321e-01,  9.6899e-03, -2.2094e-02],\n",
       "        [-3.8375e-02,  1.6836e-03,  6.3447e-02, -4.8688e-02,  7.2433e-02,\n",
       "         -2.8748e-02, -6.7185e-02,  9.6662e-02,  2.0666e-02, -2.0774e-02],\n",
       "        [-3.8207e-02,  1.0831e-02,  7.4535e-02, -5.1352e-02,  6.9620e-02,\n",
       "         -5.8982e-02, -8.3607e-02,  1.5532e-01, -1.2323e-02, -2.5497e-02],\n",
       "        [-4.2377e-02,  1.3507e-03,  7.1734e-02, -4.0373e-02,  7.3830e-02,\n",
       "         -3.7882e-02, -7.5431e-02,  1.1827e-01,  1.2085e-02, -1.7785e-02],\n",
       "        [-3.9529e-02,  3.2208e-03,  7.1955e-02, -4.4014e-02,  7.4274e-02,\n",
       "         -4.0888e-02, -7.4649e-02,  1.1689e-01,  1.1243e-02, -1.7669e-02],\n",
       "        [-4.9192e-02,  9.3342e-03,  6.5497e-02, -4.3538e-02,  5.7964e-02,\n",
       "         -3.4532e-02, -7.4211e-02,  1.2702e-01,  1.3274e-02, -2.1404e-02],\n",
       "        [-3.7996e-02,  8.6661e-03,  6.7770e-02, -4.4625e-02,  6.8641e-02,\n",
       "         -4.1991e-02, -7.8408e-02,  1.1976e-01,  9.7177e-03, -1.9922e-02],\n",
       "        [-3.6500e-02,  8.1745e-03,  7.4282e-02, -3.9643e-02,  7.2664e-02,\n",
       "         -5.2153e-02, -8.4297e-02,  1.1711e-01,  1.9662e-03, -2.3685e-02],\n",
       "        [-3.6208e-02, -1.3330e-03,  7.0750e-02, -4.3287e-02,  7.9576e-02,\n",
       "         -3.1418e-02, -6.8865e-02,  1.0757e-01,  1.9142e-02, -1.3717e-02],\n",
       "        [-4.0235e-02,  2.7520e-03,  6.6655e-02, -4.7494e-02,  7.0923e-02,\n",
       "         -2.8295e-02, -6.8379e-02,  9.8655e-02,  1.9092e-02, -1.7412e-02]],\n",
       "       device='cuda:0', grad_fn=<DivBackward0>)"
      ]
     },
     "execution_count": 191,
     "metadata": {},
     "output_type": "execute_result"
    }
   ],
   "source": [
    "hypernet.eval()\n",
    "hypernet(inputs)"
   ]
  },
  {
   "cell_type": "markdown",
   "id": "ecc04584-7a97-47cd-a3ab-12507cfc12b4",
   "metadata": {},
   "source": [
    "## Load data"
   ]
  },
  {
   "cell_type": "code",
   "execution_count": 6,
   "id": "c7b4e185-c95f-4eff-9d33-3c84eb6ed1d2",
   "metadata": {},
   "outputs": [],
   "source": [
    "mods = [transforms.ToTensor(), \n",
    "        transforms.Normalize((0.1307,), (0.3081,)),    #mean and std of MNIST\n",
    "        transforms.Lambda(lambda x: torch.flatten(x))]\n",
    "mods = transforms.Compose(mods)\n",
    "\n",
    "trainset = datasets.MNIST(root='./data/train', train=True, download=True, transform=mods)\n",
    "testset = datasets.MNIST(root='./data/test', train=False, download=True, transform=mods)"
   ]
  },
  {
   "cell_type": "code",
   "execution_count": 7,
   "id": "7be06e1b-0c5f-41a3-ab19-43870464b2d0",
   "metadata": {},
   "outputs": [],
   "source": [
    "batch_size = 32\n",
    "test_batch_size = 1000\n",
    "\n",
    "trainloader = torch.utils.data.DataLoader(trainset, batch_size=batch_size,\n",
    "                                          shuffle=True, num_workers=1)\n",
    "testloader = torch.utils.data.DataLoader(testset, batch_size=test_batch_size,\n",
    "                                         shuffle=False, num_workers=1)"
   ]
  },
  {
   "cell_type": "markdown",
   "id": "66667859-9444-4fd1-85d0-07b036e34724",
   "metadata": {},
   "source": [
    "## Craft model"
   ]
  },
  {
   "cell_type": "code",
   "execution_count": 164,
   "id": "f3694a13-a2ae-4f56-a521-ed168f937b8e",
   "metadata": {},
   "outputs": [],
   "source": [
    "def train_loop(hypernet, optimizer, epochs):\n",
    "    train_loss = []\n",
    "    test_loss = []\n",
    "    for epoch in range(epochs): \n",
    "        total_loss = 0\n",
    "        running_loss = 0.0\n",
    "        correct = 0\n",
    "        total = 0\n",
    "        hypernet.train()\n",
    "        for i, data in enumerate(trainloader):\n",
    "            inputs, labels = data\n",
    "            inputs = inputs.cuda()\n",
    "            labels = labels.cuda()\n",
    "\n",
    "            optimizer.zero_grad()\n",
    "\n",
    "            outputs = hypernet(inputs)\n",
    "            loss = criterion(outputs, labels)\n",
    "            loss.backward()\n",
    "            optimizer.step()\n",
    "\n",
    "            correct += (outputs.argmax(1)==labels).float().sum()\n",
    "            total += outputs.shape[0]\n",
    "            running_loss += loss.item()\n",
    "            train_loss.append(loss.item())\n",
    "            if i>0 and i % 100 == 0:\n",
    "                total_loss += running_loss/100\n",
    "                experiment.log_metric(\"batch_accuracy\", correct / total * 100)\n",
    "\n",
    "                running_loss = 0.0\n",
    "                correct = 0\n",
    "                total=0\n",
    "\n",
    "        total_loss = 0\n",
    "        correct = 0\n",
    "        hypernet.eval()\n",
    "        for i, data in enumerate(testloader):\n",
    "            images, labels = data\n",
    "            images = images.cuda()\n",
    "            labels = labels.cuda()\n",
    "            outputs = hypernet(images)\n",
    "            _, predicted = torch.max(outputs.data, 1)\n",
    "            correct += (predicted == labels).sum().item()\n",
    "            total_loss += criterion(outputs, labels).item()\n",
    "\n",
    "        test_loss.append(total_loss/i)\n",
    "        print(f\"Test acc: {correct/len(testset)*100}\")\n",
    "        experiment.log_metric(\"test_accuracy\", correct/len(testset)*100)"
   ]
  },
  {
   "cell_type": "code",
   "execution_count": 138,
   "id": "2be31c85-949f-4353-bb00-c15f40ae4c30",
   "metadata": {},
   "outputs": [],
   "source": [
    "criterion = torch.nn.CrossEntropyLoss()"
   ]
  },
  {
   "cell_type": "markdown",
   "id": "e432e455-a7c3-4909-aa1e-87e1e206b4b0",
   "metadata": {
    "jp-MarkdownHeadingCollapsed": true,
    "tags": []
   },
   "source": [
    "### Verify the model on a preset mask"
   ]
  },
  {
   "cell_type": "code",
   "execution_count": 70,
   "id": "9462e51c-85b2-4f13-a108-907aeaf43bed",
   "metadata": {},
   "outputs": [],
   "source": [
    "hypernet = Hypernetwork(mask_size=20).cuda()"
   ]
  },
  {
   "cell_type": "code",
   "execution_count": 71,
   "id": "2344dd68-fac5-4e63-b954-644069f57937",
   "metadata": {},
   "outputs": [],
   "source": [
    "input_size = 784\n",
    "mask_size = 20\n",
    "\n",
    "template = np.zeros(input_size)\n",
    "mask = np.random.choice(len(template), mask_size, False)\n",
    "template[mask] = 1\n",
    "mask = torch.from_numpy(template).to(torch.float32).cuda()"
   ]
  },
  {
   "cell_type": "code",
   "execution_count": 72,
   "id": "81c9ed55-175e-4457-8135-750a6fd34ddc",
   "metadata": {},
   "outputs": [
    {
     "data": {
      "text/plain": [
       "tensor(20., device='cuda:0')"
      ]
     },
     "execution_count": 72,
     "metadata": {},
     "output_type": "execute_result"
    }
   ],
   "source": [
    "mask.sum()"
   ]
  },
  {
   "cell_type": "code",
   "execution_count": 73,
   "id": "54eab199-79ba-4c98-9dbc-901cd71f1c5e",
   "metadata": {},
   "outputs": [],
   "source": [
    "epochs = 5\n",
    "criterion = torch.nn.CrossEntropyLoss()\n",
    "optimizer = torch.optim.Adam(hypernet.parameters(), lr=3e-4)"
   ]
  },
  {
   "cell_type": "code",
   "execution_count": 74,
   "id": "782e9a46-b46e-4122-8adc-197e87d5a5c9",
   "metadata": {
    "tags": []
   },
   "outputs": [
    {
     "name": "stdout",
     "output_type": "stream",
     "text": [
      "Test acc: 51.53\n",
      "Test acc: 52.53\n",
      "Test acc: 52.949999999999996\n",
      "Test acc: 53.0\n",
      "Test acc: 53.53\n"
     ]
    }
   ],
   "source": [
    "train_loss = []\n",
    "test_loss = []\n",
    "for epoch in range(epochs): \n",
    "    total_loss = 0\n",
    "    running_loss = 0.0\n",
    "    correct = 0\n",
    "    total = 0\n",
    "    for i, data in enumerate(trainloader):\n",
    "        inputs, labels = data\n",
    "        inputs = inputs.cuda()\n",
    "        labels = labels.cuda()\n",
    "\n",
    "        optimizer.zero_grad()\n",
    "\n",
    "        outputs = hypernet(inputs, mask)\n",
    "        loss = criterion(outputs, labels)\n",
    "        loss.backward()\n",
    "        optimizer.step()\n",
    "\n",
    "        correct += (outputs.argmax(1)==labels).float().sum()\n",
    "        total += outputs.shape[0]\n",
    "        running_loss += loss.item()\n",
    "        train_loss.append(loss.item())\n",
    "        if i>0 and i % 100 == 0:\n",
    "            total_loss += running_loss/100\n",
    "            running_loss = 0.0\n",
    "            correct = 0\n",
    "            total=0\n",
    "\n",
    "    total_loss = 0\n",
    "    correct = 0\n",
    "    for i, data in enumerate(testloader):\n",
    "        images, labels = data\n",
    "        images = images.cuda()\n",
    "        labels = labels.cuda()\n",
    "        outputs = hypernet(images, mask)\n",
    "        _, predicted = torch.max(outputs.data, 1)\n",
    "        correct += (predicted == labels).sum().item()\n",
    "        total_loss += criterion(outputs, labels).item()\n",
    "        \n",
    "    test_loss.append(total_loss/i)\n",
    "    print(f\"Test acc: {correct/len(testset)*100}\")"
   ]
  },
  {
   "cell_type": "code",
   "execution_count": 76,
   "id": "2f2104b5-3bb3-438a-ad93-183ddf4618ab",
   "metadata": {},
   "outputs": [
    {
     "data": {
      "image/png": "[encoded data removed]",
      "text/plain": [
       "<Figure size 432x288 with 1 Axes>"
      ]
     },
     "metadata": {
      "needs_background": "light"
     },
     "output_type": "display_data"
    },
    {
     "data": {
      "image/png": "[encoded data removed]",
      "text/plain": [
       "<Figure size 432x288 with 1 Axes>"
      ]
     },
     "metadata": {
      "needs_background": "light"
     },
     "output_type": "display_data"
    }
   ],
   "source": [
    "plt.title(\"Train loss\")\n",
    "plt.plot(train_loss);\n",
    "plt.show()\n",
    "plt.title(\"Test loss\")\n",
    "plt.plot(test_loss);"
   ]
  },
  {
   "cell_type": "markdown",
   "id": "34633954-ff4a-404a-9826-26aa7a776829",
   "metadata": {
    "jp-MarkdownHeadingCollapsed": true,
    "tags": []
   },
   "source": [
    "### Bayesian hyperparam search"
   ]
  },
  {
   "cell_type": "code",
   "execution_count": null,
   "id": "f979e065-11f7-42b1-9632-61de2625786a",
   "metadata": {
    "tags": []
   },
   "outputs": [
    {
     "name": "stderr",
     "output_type": "stream",
     "text": [
      "COMET INFO: COMET_OPTIMIZER_ID=60479ac6ac4047ca8e0882a4d796ba17\n",
      "COMET INFO: Using optimizer config: {'algorithm': 'bayes', 'configSpaceSize': 'infinite', 'endTime': None, 'id': '60479ac6ac4047ca8e0882a4d796ba17', 'lastUpdateTime': None, 'maxCombo': 0, 'name': '60479ac6ac4047ca8e0882a4d796ba17', 'parameters': {'batch_size': {'type': 'categorical', 'values': ['32', '64']}, 'l1': {'type': 'categorical', 'values': ['64']}, 'l2': {'type': 'categorical', 'values': ['256']}, 'l3': {'type': 'categorical', 'values': ['256']}, 'learning_rate2': {'max': 0.1, 'min': 0.0001, 'scalingType': 'loguniform', 'type': 'float'}}, 'predictor': None, 'spec': {'gridSize': 10, 'maxCombo': 0, 'metric': 'loss', 'minSampleSize': 100, 'objective': 'minimize', 'retryAssignLimit': 0, 'retryLimit': 1000}, 'startTime': 24414777470, 'state': {'mode': None, 'seed': None, 'sequence': [], 'sequence_i': 0, 'sequence_pid': None, 'sequence_retry': 0, 'sequence_retry_count': 0}, 'status': 'running', 'suggestion_count': 0, 'trials': 1, 'version': '2.0.1'}\n",
      "COMET INFO: ---------------------------\n",
      "COMET INFO: Comet.ml Experiment Summary\n",
      "COMET INFO: ---------------------------\n",
      "COMET INFO:   Data:\n",
      "COMET INFO:     display_summary_level : 1\n",
      "COMET INFO:     url                   : https://www.comet.ml/wwydmanski/hypernetwork/8e3041260c3649c48d7c03f3977c970e\n",
      "COMET INFO:   Metrics [count] (min, max):\n",
      "COMET INFO:     batch_accuracy [165] : (9.390625, 26.046875)\n",
      "COMET INFO:     loss [1721]          : (1.820617914199829, 90.90898895263672)\n",
      "COMET INFO:     test_accuracy [18]   : (8.52, 60.019999999999996)\n",
      "COMET INFO:   Others:\n",
      "COMET INFO:     optimizer_count        : 4\n",
      "COMET INFO:     optimizer_id           : af5d4054532f4588b05a7fe2f633923d\n",
      "COMET INFO:     optimizer_metric       : loss\n",
      "COMET INFO:     optimizer_metric_value : 1.820617914199829\n",
      "COMET INFO:     optimizer_objective    : minimum\n",
      "COMET INFO:     optimizer_parameters   : {\"batch_size\": \"64\", \"l1\": \"64\", \"l2\": \"256\", \"l3\": \"256\", \"learning_rate\": 0.00029411267342607117, \"learning_rate2\": 0.015640150610471915}\n",
      "COMET INFO:     optimizer_pid          : fec6f46ed01c5192adfdfb20f31358cf303ff7e5\n",
      "COMET INFO:     optimizer_process      : 82915\n",
      "COMET INFO:     optimizer_trial        : 1\n",
      "COMET INFO:     optimizer_version      : 2.0.1\n",
      "COMET INFO:   Parameters:\n",
      "COMET INFO:     batch_size     : 64\n",
      "COMET INFO:     l1             : 64\n",
      "COMET INFO:     l2             : 256\n",
      "COMET INFO:     l3             : 256\n",
      "COMET INFO:     learning_rate  : 0.00029411267342607117\n",
      "COMET INFO:     learning_rate2 : 0.015640150610471915\n",
      "COMET INFO:   Uploads:\n",
      "COMET INFO:     environment details      : 1\n",
      "COMET INFO:     filename                 : 1\n",
      "COMET INFO:     git metadata             : 1\n",
      "COMET INFO:     git-patch (uncompressed) : 1 (68.41 KB)\n",
      "COMET INFO:     installed packages       : 1\n",
      "COMET INFO:     model graph              : 1\n",
      "COMET INFO:     notebook                 : 1\n",
      "COMET INFO:     os packages              : 1\n",
      "COMET INFO:     source_code              : 1\n",
      "COMET INFO: ---------------------------\n",
      "COMET WARNING: As you are running in a Jupyter environment, you will need to call `experiment.end()` when finished to ensure all metrics and code are logged before exiting.\n",
      "COMET INFO: Experiment is live on comet.ml https://www.comet.ml/wwydmanski/hypernetwork/c3da0413153b4782bbedb8423babf09c\n",
      "\n"
     ]
    },
    {
     "name": "stdout",
     "output_type": "stream",
     "text": [
      "Test acc: 24.37\n"
     ]
    }
   ],
   "source": [
    "config = {\n",
    "    \"algorithm\": \"bayes\",\n",
    "    \"parameters\": {\n",
    "        \"l1\": {\"type\": \"categorical\", \"values\": [\"64\"]},\n",
    "        \"l2\": {\"type\": \"categorical\", \"values\": [\"256\"]},\n",
    "        \"l3\": {\"type\": \"categorical\", \"values\": [\"256\"]},\n",
    "        \"learning_rate2\": {\"type\": \"float\", \"min\": 0.0001, \"max\": 0.1, \"scalingType\": \"loguniform\"},\n",
    "        \"batch_size\": {\"type\": \"categorical\", \"values\": [\"32\", \"64\"]},\n",
    "    },\n",
    "    \"spec\": {\n",
    "    \"metric\": \"loss\",\n",
    "    \"objective\": \"minimize\",\n",
    "    },\n",
    "}\n",
    "\n",
    "opt = Optimizer(config, api_key=os.environ.get(\"COMET_KEY\"))\n",
    "criterion = torch.nn.CrossEntropyLoss()\n",
    "\n",
    "for experiment in opt.get_experiments(project_name=\"hypernetwork\"):\n",
    "    experiment.add_tag(\"optimization\")\n",
    "\n",
    "    batch_size = int(experiment.get_parameter(\"batch_size\"))\n",
    "    test_batch_size = 1000\n",
    "\n",
    "    trainloader = torch.utils.data.DataLoader(trainset, batch_size=batch_size,\n",
    "                                              shuffle=True, num_workers=1)\n",
    "    testloader = torch.utils.data.DataLoader(testset, batch_size=test_batch_size,\n",
    "                                             shuffle=False, num_workers=1)\n",
    "    \n",
    "    hypernet = Hypernetwork(mask_size=30, layers=[\n",
    "            int(experiment.get_parameter(\"l1\")), \n",
    "            int(experiment.get_parameter(\"l2\")), \n",
    "            int(experiment.get_parameter(\"l3\"))\n",
    "    ]).cuda()\n",
    "    \n",
    "    \n",
    "    optimizer = torch.optim.Adam(hypernet.parameters(), lr=3e-4)\n",
    "    train_loop(hypernet, optimizer, 10)\n",
    "    \n",
    "    optimizer = torch.optim.Adam(hypernet.parameters(), lr=experiment.get_parameter(\"learning_rate2\"))\n",
    "    train_loop(hypernet, optimizer, 10)\n",
    "    experiment.end()"
   ]
  },
  {
   "cell_type": "markdown",
   "id": "89b3ebd3-67b9-4068-baf2-12add868b033",
   "metadata": {
    "tags": []
   },
   "source": [
    "### Train the full model"
   ]
  },
  {
   "cell_type": "code",
   "execution_count": 192,
   "id": "921f9b81-9034-4bd8-9a5e-996b10208095",
   "metadata": {},
   "outputs": [],
   "source": [
    "batch_size = 32\n",
    "test_batch_size = 1000\n",
    "\n",
    "trainloader = torch.utils.data.DataLoader(trainset, batch_size=batch_size,\n",
    "                                          shuffle=True, num_workers=1)\n",
    "testloader = torch.utils.data.DataLoader(testset, batch_size=test_batch_size,\n",
    "                                         shuffle=False, num_workers=1)\n",
    "\n",
    "hypernet = Hypernetwork(mask_size=30, layers=[64, 256]).cuda()"
   ]
  },
  {
   "cell_type": "code",
   "execution_count": null,
   "id": "7d305890-41a7-40f7-a324-5adff1d7d81a",
   "metadata": {
    "tags": []
   },
   "outputs": [
    {
     "name": "stderr",
     "output_type": "stream",
     "text": [
      "COMET INFO: ---------------------------\n",
      "COMET INFO: Comet.ml Experiment Summary\n",
      "COMET INFO: ---------------------------\n",
      "COMET INFO:   Data:\n",
      "COMET INFO:     display_summary_level : 1\n",
      "COMET INFO:     url                   : https://www.comet.ml/wwydmanski/hypernetwork/3a254c3c1ad046e58ca34ee97a12eb53\n",
      "COMET INFO:   Metrics [count] (min, max):\n",
      "COMET INFO:     batch_accuracy [38] : (10.4375, 15.593749046325684)\n",
      "COMET INFO:     loss [396]          : (2.0604069232940674, 5.932443141937256)\n",
      "COMET INFO:     test_accuracy [2]   : (19.21, 29.439999999999998)\n",
      "COMET INFO:   Uploads:\n",
      "COMET INFO:     environment details      : 1\n",
      "COMET INFO:     filename                 : 1\n",
      "COMET INFO:     git metadata             : 1\n",
      "COMET INFO:     git-patch (uncompressed) : 1 (21.62 KB)\n",
      "COMET INFO:     installed packages       : 1\n",
      "COMET INFO:     model graph              : 1\n",
      "COMET INFO:     notebook                 : 1\n",
      "COMET INFO:     os packages              : 1\n",
      "COMET INFO:     source_code              : 1\n",
      "COMET INFO: ---------------------------\n",
      "COMET WARNING: As you are running in a Jupyter environment, you will need to call `experiment.end()` when finished to ensure all metrics and code are logged before exiting.\n",
      "COMET INFO: Experiment is live on comet.ml https://www.comet.ml/wwydmanski/hypernetwork/377261ff643d48e0b66a9f2e75a5cb59\n",
      "\n"
     ]
    },
    {
     "name": "stdout",
     "output_type": "stream",
     "text": [
      "Test acc: 54.36\n",
      "Test acc: 55.489999999999995\n",
      "Test acc: 62.31\n"
     ]
    }
   ],
   "source": [
    "experiment = Experiment(api_key=os.environ.get(\"COMET_KEY\"), project_name=\"hypernetwork\")\n",
    "experiment.add_tag(\"training\")\n",
    "\n",
    "epochs = 10\n",
    "optimizer = torch.optim.Adam(hypernet.parameters(), lr=3e-4)\n",
    "train_loop(hypernet, optimizer, epochs)\n",
    "epochs = 10\n",
    "optimizer = torch.optim.Adam(hypernet.parameters(), lr=8e-4)\n",
    "train_loop(hypernet, optimizer, epochs)\n",
    "# epochs = 50\n",
    "# optimizer = torch.optim.Adam(hypernet.parameters(), lr=3e-5)\n",
    "# train_loop(hypernet,optimizer, epochs)\n",
    "experiment.end()"
   ]
  },
  {
   "cell_type": "code",
   "execution_count": 209,
   "id": "b37571e2-5391-4b71-b292-497fd56aafc0",
   "metadata": {},
   "outputs": [],
   "source": [
    "def test_model(hypernet, verbose=False):\n",
    "    correct = 0\n",
    "    loss = 0\n",
    "    hypernet.eval()\n",
    "    for i, data in enumerate(testloader):\n",
    "        images, labels = data\n",
    "        images = images.cuda()\n",
    "        labels = labels.cuda()\n",
    "        outputs = hypernet(images)\n",
    "        _, predicted = torch.max(outputs.data, 1)\n",
    "        correct += (predicted == labels).sum().item()\n",
    "        loss += criterion(outputs, labels).item()\n",
    "\n",
    "    if verbose:\n",
    "        print(f\"Test acc: {correct/len(testset)*100:.2f}\")\n",
    "        print(f\"Test loss: {total_loss/i}\")\n",
    "    return correct/len(testset)*100"
   ]
  },
  {
   "cell_type": "code",
   "execution_count": 213,
   "id": "7356892d-b4de-4ac7-95c2-54aaa9ea4005",
   "metadata": {},
   "outputs": [
    {
     "data": {
      "text/plain": [
       "[]"
      ]
     },
     "execution_count": 213,
     "metadata": {},
     "output_type": "execute_result"
    }
   ],
   "source": [
    "nodes"
   ]
  },
  {
   "cell_type": "code",
   "execution_count": null,
   "id": "0bd51cf8-2e62-449c-8083-1ae5d7b5c2c9",
   "metadata": {},
   "outputs": [
    {
     "name": "stdout",
     "output_type": "stream",
     "text": [
      "1\n",
      "2\n",
      "3\n",
      "4\n",
      "5\n",
      "6\n",
      "7\n",
      "8\n",
      "9\n"
     ]
    }
   ],
   "source": [
    "acc = []\n",
    "nodes = []\n",
    "\n",
    "for test_nodes in np.arange(1, 10):\n",
    "    hypernet.test_nodes = test_nodes\n",
    "    hypernet.test_mask = hypernet._create_mask(test_nodes)\n",
    "    print(test_nodes)\n",
    "    acc.append(test_model(hypernet))\n",
    "    nodes.append(test_nodes)\n",
    "    \n",
    "for test_nodes in np.arange(10, 100, 5):\n",
    "    hypernet.test_nodes = test_nodes\n",
    "    hypernet.test_mask = hypernet._create_mask(test_nodes)\n",
    "    print(test_nodes)\n",
    "    acc.append(test_model(hypernet))\n",
    "    nodes.append(test_nodes)"
   ]
  },
  {
   "cell_type": "code",
   "execution_count": 216,
   "id": "73122759-a1d7-4484-a7de-a7d517068c79",
   "metadata": {},
   "outputs": [
    {
     "data": {
      "text/plain": [
       "[<matplotlib.lines.Line2D at 0x7f9ff4235d30>]"
      ]
     },
     "execution_count": 216,
     "metadata": {},
     "output_type": "execute_result"
    },
    {
     "data": {
      "image/png": "[encoded data removed]",
      "text/plain": [
       "<Figure size 432x288 with 1 Axes>"
      ]
     },
     "metadata": {
      "needs_background": "light"
     },
     "output_type": "display_data"
    }
   ],
   "source": [
    "plt.plot(nodes, acc)"
   ]
  }
 ],
 "metadata": {
  "kernelspec": {
   "display_name": "img_processing",
   "language": "python",
   "name": "img_processing"
  },
  "language_info": {
   "codemirror_mode": {
    "name": "ipython",
    "version": 3
   },
   "file_extension": ".py",
   "mimetype": "text/x-python",
   "name": "python",
   "nbconvert_exporter": "python",
   "pygments_lexer": "ipython3",
   "version": "3.8.12"
  }
 },
 "nbformat": 4,
 "nbformat_minor": 5
}
