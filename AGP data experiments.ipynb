{
 "cells": [
  {
   "cell_type": "code",
   "execution_count": 2,
   "id": "9fabd88c-973b-4314-86f3-a3dc47155567",
   "metadata": {},
   "outputs": [],
   "source": [
    "from dotenv import load_dotenv\n",
    "load_dotenv()\n",
    "\n",
    "import os"
   ]
  },
  {
   "cell_type": "code",
   "execution_count": 3,
   "id": "3c53254a-ae66-48ad-bfaf-d7e511a3ac02",
   "metadata": {},
   "outputs": [],
   "source": [
    "from comet_ml import Experiment, Optimizer\n",
    "\n",
    "import torch\n",
    "import torchvision.transforms as transforms\n",
    "import torchvision.datasets as datasets\n",
    "import matplotlib.pyplot as plt\n",
    "import numpy as np\n",
    "import torch.nn.functional as F\n",
    "import torch.utils.data as data_utils\n",
    "import pandas as pd\n",
    "from collections import defaultdict\n",
    "\n",
    "torch.set_default_dtype(torch.float32)"
   ]
  },
  {
   "cell_type": "code",
   "execution_count": 5,
   "id": "4cae6523-076f-4d67-9450-edf8da8d799d",
   "metadata": {},
   "outputs": [],
   "source": [
    "import matplotlib.pyplot as plt\n",
    "from tqdm import tqdm, trange"
   ]
  },
  {
   "cell_type": "code",
   "execution_count": 7,
   "id": "13dc164b-cc0a-4a61-b028-3837a7e1275c",
   "metadata": {},
   "outputs": [],
   "source": [
    "from scipy.sparse import coo_matrix\n",
    "from sklearnex.model_selection import train_test_split\n",
    "from sklearn.preprocessing import LabelEncoder, Normalizer"
   ]
  },
  {
   "cell_type": "code",
   "execution_count": 8,
   "id": "3fc94cb7-9f69-45db-9fd1-5f2937d2f649",
   "metadata": {},
   "outputs": [],
   "source": [
    "import matplotlib.pyplot as plt\n",
    "import seaborn as sns"
   ]
  },
  {
   "cell_type": "code",
   "execution_count": 9,
   "id": "e4b578d4-f030-4964-9ff3-ee8d2326086b",
   "metadata": {},
   "outputs": [],
   "source": [
    "DEVICE = 'cpu'"
   ]
  },
  {
   "cell_type": "markdown",
   "id": "04ee0908-458c-4a36-a92b-6665a2c782de",
   "metadata": {},
   "source": [
    "## Load data"
   ]
  },
  {
   "cell_type": "code",
   "execution_count": 10,
   "id": "04ec60ab-e02c-4b9a-804a-3b062ac73b6a",
   "metadata": {},
   "outputs": [],
   "source": [
    "VARIABLE = \"mental_illness_type_anorexia_nervosa\""
   ]
  },
  {
   "cell_type": "code",
   "execution_count": 12,
   "id": "c960d674-c386-43f8-a3dc-7fb8ea69b344",
   "metadata": {},
   "outputs": [
    {
     "name": "stderr",
     "output_type": "stream",
     "text": [
      "/var/opt/miniconda3/envs/sonata_env/lib/python3.7/site-packages/IPython/core/interactiveshell.py:3437: DtypeWarning: Columns (1) have mixed types.Specify dtype option on import or set low_memory=False.\n",
      "  exec(code_obj, self.user_global_ns, self.user_ns)\n"
     ]
    }
   ],
   "source": [
    "data = pd.read_csv(\"/projects/BINF/Datasets/AGP/agp-full-filtered-rarefied-10000-classified-species-ordered.csv\", \n",
    "                   encoding = \"ISO-8859-1\")\n",
    "data = data.set_index(\"sample_name\").drop(\"Unnamed: 0\", axis=1)"
   ]
  },
  {
   "cell_type": "code",
   "execution_count": 13,
   "id": "d2af48ab-c354-4b06-a822-9e2369d704c5",
   "metadata": {
    "collapsed": true,
    "jupyter": {
     "outputs_hidden": true
    },
    "tags": []
   },
   "outputs": [
    {
     "ename": "FileNotFoundError",
     "evalue": "[Errno 2] No such file or directory: './data/AGP/metadata.csv'",
     "output_type": "error",
     "traceback": [
      "\u001b[0;31m---------------------------------------------------------------------------\u001b[0m",
      "\u001b[0;31mFileNotFoundError\u001b[0m                         Traceback (most recent call last)",
      "\u001b[0;32m<ipython-input-13-7274a5268146>\u001b[0m in \u001b[0;36m<module>\u001b[0;34m\u001b[0m\n\u001b[0;32m----> 1\u001b[0;31m \u001b[0mmetadata\u001b[0m \u001b[0;34m=\u001b[0m \u001b[0mpd\u001b[0m\u001b[0;34m.\u001b[0m\u001b[0mread_csv\u001b[0m\u001b[0;34m(\u001b[0m\u001b[0;34m\"./data/AGP/metadata.csv\"\u001b[0m\u001b[0;34m)\u001b[0m\u001b[0;34m.\u001b[0m\u001b[0mset_index\u001b[0m\u001b[0;34m(\u001b[0m\u001b[0;34m\"sample_name\"\u001b[0m\u001b[0;34m)\u001b[0m\u001b[0;34m\u001b[0m\u001b[0;34m\u001b[0m\u001b[0m\n\u001b[0m",
      "\u001b[0;32m/var/opt/miniconda3/envs/sonata_env/lib/python3.7/site-packages/pandas/util/_decorators.py\u001b[0m in \u001b[0;36mwrapper\u001b[0;34m(*args, **kwargs)\u001b[0m\n\u001b[1;32m    309\u001b[0m                     \u001b[0mstacklevel\u001b[0m\u001b[0;34m=\u001b[0m\u001b[0mstacklevel\u001b[0m\u001b[0;34m,\u001b[0m\u001b[0;34m\u001b[0m\u001b[0;34m\u001b[0m\u001b[0m\n\u001b[1;32m    310\u001b[0m                 )\n\u001b[0;32m--> 311\u001b[0;31m             \u001b[0;32mreturn\u001b[0m \u001b[0mfunc\u001b[0m\u001b[0;34m(\u001b[0m\u001b[0;34m*\u001b[0m\u001b[0margs\u001b[0m\u001b[0;34m,\u001b[0m \u001b[0;34m**\u001b[0m\u001b[0mkwargs\u001b[0m\u001b[0;34m)\u001b[0m\u001b[0;34m\u001b[0m\u001b[0;34m\u001b[0m\u001b[0m\n\u001b[0m\u001b[1;32m    312\u001b[0m \u001b[0;34m\u001b[0m\u001b[0m\n\u001b[1;32m    313\u001b[0m         \u001b[0;32mreturn\u001b[0m \u001b[0mwrapper\u001b[0m\u001b[0;34m\u001b[0m\u001b[0;34m\u001b[0m\u001b[0m\n",
      "\u001b[0;32m/var/opt/miniconda3/envs/sonata_env/lib/python3.7/site-packages/pandas/io/parsers/readers.py\u001b[0m in \u001b[0;36mread_csv\u001b[0;34m(filepath_or_buffer, sep, delimiter, header, names, index_col, usecols, squeeze, prefix, mangle_dupe_cols, dtype, engine, converters, true_values, false_values, skipinitialspace, skiprows, skipfooter, nrows, na_values, keep_default_na, na_filter, verbose, skip_blank_lines, parse_dates, infer_datetime_format, keep_date_col, date_parser, dayfirst, cache_dates, iterator, chunksize, compression, thousands, decimal, lineterminator, quotechar, quoting, doublequote, escapechar, comment, encoding, encoding_errors, dialect, error_bad_lines, warn_bad_lines, on_bad_lines, delim_whitespace, low_memory, memory_map, float_precision, storage_options)\u001b[0m\n\u001b[1;32m    584\u001b[0m     \u001b[0mkwds\u001b[0m\u001b[0;34m.\u001b[0m\u001b[0mupdate\u001b[0m\u001b[0;34m(\u001b[0m\u001b[0mkwds_defaults\u001b[0m\u001b[0;34m)\u001b[0m\u001b[0;34m\u001b[0m\u001b[0;34m\u001b[0m\u001b[0m\n\u001b[1;32m    585\u001b[0m \u001b[0;34m\u001b[0m\u001b[0m\n\u001b[0;32m--> 586\u001b[0;31m     \u001b[0;32mreturn\u001b[0m \u001b[0m_read\u001b[0m\u001b[0;34m(\u001b[0m\u001b[0mfilepath_or_buffer\u001b[0m\u001b[0;34m,\u001b[0m \u001b[0mkwds\u001b[0m\u001b[0;34m)\u001b[0m\u001b[0;34m\u001b[0m\u001b[0;34m\u001b[0m\u001b[0m\n\u001b[0m\u001b[1;32m    587\u001b[0m \u001b[0;34m\u001b[0m\u001b[0m\n\u001b[1;32m    588\u001b[0m \u001b[0;34m\u001b[0m\u001b[0m\n",
      "\u001b[0;32m/var/opt/miniconda3/envs/sonata_env/lib/python3.7/site-packages/pandas/io/parsers/readers.py\u001b[0m in \u001b[0;36m_read\u001b[0;34m(filepath_or_buffer, kwds)\u001b[0m\n\u001b[1;32m    480\u001b[0m \u001b[0;34m\u001b[0m\u001b[0m\n\u001b[1;32m    481\u001b[0m     \u001b[0;31m# Create the parser.\u001b[0m\u001b[0;34m\u001b[0m\u001b[0;34m\u001b[0m\u001b[0;34m\u001b[0m\u001b[0m\n\u001b[0;32m--> 482\u001b[0;31m     \u001b[0mparser\u001b[0m \u001b[0;34m=\u001b[0m \u001b[0mTextFileReader\u001b[0m\u001b[0;34m(\u001b[0m\u001b[0mfilepath_or_buffer\u001b[0m\u001b[0;34m,\u001b[0m \u001b[0;34m**\u001b[0m\u001b[0mkwds\u001b[0m\u001b[0;34m)\u001b[0m\u001b[0;34m\u001b[0m\u001b[0;34m\u001b[0m\u001b[0m\n\u001b[0m\u001b[1;32m    483\u001b[0m \u001b[0;34m\u001b[0m\u001b[0m\n\u001b[1;32m    484\u001b[0m     \u001b[0;32mif\u001b[0m \u001b[0mchunksize\u001b[0m \u001b[0;32mor\u001b[0m \u001b[0miterator\u001b[0m\u001b[0;34m:\u001b[0m\u001b[0;34m\u001b[0m\u001b[0;34m\u001b[0m\u001b[0m\n",
      "\u001b[0;32m/var/opt/miniconda3/envs/sonata_env/lib/python3.7/site-packages/pandas/io/parsers/readers.py\u001b[0m in \u001b[0;36m__init__\u001b[0;34m(self, f, engine, **kwds)\u001b[0m\n\u001b[1;32m    809\u001b[0m             \u001b[0mself\u001b[0m\u001b[0;34m.\u001b[0m\u001b[0moptions\u001b[0m\u001b[0;34m[\u001b[0m\u001b[0;34m\"has_index_names\"\u001b[0m\u001b[0;34m]\u001b[0m \u001b[0;34m=\u001b[0m \u001b[0mkwds\u001b[0m\u001b[0;34m[\u001b[0m\u001b[0;34m\"has_index_names\"\u001b[0m\u001b[0;34m]\u001b[0m\u001b[0;34m\u001b[0m\u001b[0;34m\u001b[0m\u001b[0m\n\u001b[1;32m    810\u001b[0m \u001b[0;34m\u001b[0m\u001b[0m\n\u001b[0;32m--> 811\u001b[0;31m         \u001b[0mself\u001b[0m\u001b[0;34m.\u001b[0m\u001b[0m_engine\u001b[0m \u001b[0;34m=\u001b[0m \u001b[0mself\u001b[0m\u001b[0;34m.\u001b[0m\u001b[0m_make_engine\u001b[0m\u001b[0;34m(\u001b[0m\u001b[0mself\u001b[0m\u001b[0;34m.\u001b[0m\u001b[0mengine\u001b[0m\u001b[0;34m)\u001b[0m\u001b[0;34m\u001b[0m\u001b[0;34m\u001b[0m\u001b[0m\n\u001b[0m\u001b[1;32m    812\u001b[0m \u001b[0;34m\u001b[0m\u001b[0m\n\u001b[1;32m    813\u001b[0m     \u001b[0;32mdef\u001b[0m \u001b[0mclose\u001b[0m\u001b[0;34m(\u001b[0m\u001b[0mself\u001b[0m\u001b[0;34m)\u001b[0m\u001b[0;34m:\u001b[0m\u001b[0;34m\u001b[0m\u001b[0;34m\u001b[0m\u001b[0m\n",
      "\u001b[0;32m/var/opt/miniconda3/envs/sonata_env/lib/python3.7/site-packages/pandas/io/parsers/readers.py\u001b[0m in \u001b[0;36m_make_engine\u001b[0;34m(self, engine)\u001b[0m\n\u001b[1;32m   1038\u001b[0m             )\n\u001b[1;32m   1039\u001b[0m         \u001b[0;31m# error: Too many arguments for \"ParserBase\"\u001b[0m\u001b[0;34m\u001b[0m\u001b[0;34m\u001b[0m\u001b[0;34m\u001b[0m\u001b[0m\n\u001b[0;32m-> 1040\u001b[0;31m         \u001b[0;32mreturn\u001b[0m \u001b[0mmapping\u001b[0m\u001b[0;34m[\u001b[0m\u001b[0mengine\u001b[0m\u001b[0;34m]\u001b[0m\u001b[0;34m(\u001b[0m\u001b[0mself\u001b[0m\u001b[0;34m.\u001b[0m\u001b[0mf\u001b[0m\u001b[0;34m,\u001b[0m \u001b[0;34m**\u001b[0m\u001b[0mself\u001b[0m\u001b[0;34m.\u001b[0m\u001b[0moptions\u001b[0m\u001b[0;34m)\u001b[0m  \u001b[0;31m# type: ignore[call-arg]\u001b[0m\u001b[0;34m\u001b[0m\u001b[0;34m\u001b[0m\u001b[0m\n\u001b[0m\u001b[1;32m   1041\u001b[0m \u001b[0;34m\u001b[0m\u001b[0m\n\u001b[1;32m   1042\u001b[0m     \u001b[0;32mdef\u001b[0m \u001b[0m_failover_to_python\u001b[0m\u001b[0;34m(\u001b[0m\u001b[0mself\u001b[0m\u001b[0;34m)\u001b[0m\u001b[0;34m:\u001b[0m\u001b[0;34m\u001b[0m\u001b[0;34m\u001b[0m\u001b[0m\n",
      "\u001b[0;32m/var/opt/miniconda3/envs/sonata_env/lib/python3.7/site-packages/pandas/io/parsers/c_parser_wrapper.py\u001b[0m in \u001b[0;36m__init__\u001b[0;34m(self, src, **kwds)\u001b[0m\n\u001b[1;32m     49\u001b[0m \u001b[0;34m\u001b[0m\u001b[0m\n\u001b[1;32m     50\u001b[0m         \u001b[0;31m# open handles\u001b[0m\u001b[0;34m\u001b[0m\u001b[0;34m\u001b[0m\u001b[0;34m\u001b[0m\u001b[0m\n\u001b[0;32m---> 51\u001b[0;31m         \u001b[0mself\u001b[0m\u001b[0;34m.\u001b[0m\u001b[0m_open_handles\u001b[0m\u001b[0;34m(\u001b[0m\u001b[0msrc\u001b[0m\u001b[0;34m,\u001b[0m \u001b[0mkwds\u001b[0m\u001b[0;34m)\u001b[0m\u001b[0;34m\u001b[0m\u001b[0;34m\u001b[0m\u001b[0m\n\u001b[0m\u001b[1;32m     52\u001b[0m         \u001b[0;32massert\u001b[0m \u001b[0mself\u001b[0m\u001b[0;34m.\u001b[0m\u001b[0mhandles\u001b[0m \u001b[0;32mis\u001b[0m \u001b[0;32mnot\u001b[0m \u001b[0;32mNone\u001b[0m\u001b[0;34m\u001b[0m\u001b[0;34m\u001b[0m\u001b[0m\n\u001b[1;32m     53\u001b[0m \u001b[0;34m\u001b[0m\u001b[0m\n",
      "\u001b[0;32m/var/opt/miniconda3/envs/sonata_env/lib/python3.7/site-packages/pandas/io/parsers/base_parser.py\u001b[0m in \u001b[0;36m_open_handles\u001b[0;34m(self, src, kwds)\u001b[0m\n\u001b[1;32m    227\u001b[0m             \u001b[0mmemory_map\u001b[0m\u001b[0;34m=\u001b[0m\u001b[0mkwds\u001b[0m\u001b[0;34m.\u001b[0m\u001b[0mget\u001b[0m\u001b[0;34m(\u001b[0m\u001b[0;34m\"memory_map\"\u001b[0m\u001b[0;34m,\u001b[0m \u001b[0;32mFalse\u001b[0m\u001b[0;34m)\u001b[0m\u001b[0;34m,\u001b[0m\u001b[0;34m\u001b[0m\u001b[0;34m\u001b[0m\u001b[0m\n\u001b[1;32m    228\u001b[0m             \u001b[0mstorage_options\u001b[0m\u001b[0;34m=\u001b[0m\u001b[0mkwds\u001b[0m\u001b[0;34m.\u001b[0m\u001b[0mget\u001b[0m\u001b[0;34m(\u001b[0m\u001b[0;34m\"storage_options\"\u001b[0m\u001b[0;34m,\u001b[0m \u001b[0;32mNone\u001b[0m\u001b[0;34m)\u001b[0m\u001b[0;34m,\u001b[0m\u001b[0;34m\u001b[0m\u001b[0;34m\u001b[0m\u001b[0m\n\u001b[0;32m--> 229\u001b[0;31m             \u001b[0merrors\u001b[0m\u001b[0;34m=\u001b[0m\u001b[0mkwds\u001b[0m\u001b[0;34m.\u001b[0m\u001b[0mget\u001b[0m\u001b[0;34m(\u001b[0m\u001b[0;34m\"encoding_errors\"\u001b[0m\u001b[0;34m,\u001b[0m \u001b[0;34m\"strict\"\u001b[0m\u001b[0;34m)\u001b[0m\u001b[0;34m,\u001b[0m\u001b[0;34m\u001b[0m\u001b[0;34m\u001b[0m\u001b[0m\n\u001b[0m\u001b[1;32m    230\u001b[0m         )\n\u001b[1;32m    231\u001b[0m \u001b[0;34m\u001b[0m\u001b[0m\n",
      "\u001b[0;32m/var/opt/miniconda3/envs/sonata_env/lib/python3.7/site-packages/pandas/io/common.py\u001b[0m in \u001b[0;36mget_handle\u001b[0;34m(path_or_buf, mode, encoding, compression, memory_map, is_text, errors, storage_options)\u001b[0m\n\u001b[1;32m    704\u001b[0m                 \u001b[0mencoding\u001b[0m\u001b[0;34m=\u001b[0m\u001b[0mioargs\u001b[0m\u001b[0;34m.\u001b[0m\u001b[0mencoding\u001b[0m\u001b[0;34m,\u001b[0m\u001b[0;34m\u001b[0m\u001b[0;34m\u001b[0m\u001b[0m\n\u001b[1;32m    705\u001b[0m                 \u001b[0merrors\u001b[0m\u001b[0;34m=\u001b[0m\u001b[0merrors\u001b[0m\u001b[0;34m,\u001b[0m\u001b[0;34m\u001b[0m\u001b[0;34m\u001b[0m\u001b[0m\n\u001b[0;32m--> 706\u001b[0;31m                 \u001b[0mnewline\u001b[0m\u001b[0;34m=\u001b[0m\u001b[0;34m\"\"\u001b[0m\u001b[0;34m,\u001b[0m\u001b[0;34m\u001b[0m\u001b[0;34m\u001b[0m\u001b[0m\n\u001b[0m\u001b[1;32m    707\u001b[0m             )\n\u001b[1;32m    708\u001b[0m         \u001b[0;32melse\u001b[0m\u001b[0;34m:\u001b[0m\u001b[0;34m\u001b[0m\u001b[0;34m\u001b[0m\u001b[0m\n",
      "\u001b[0;31mFileNotFoundError\u001b[0m: [Errno 2] No such file or directory: './data/AGP/metadata.csv'"
     ]
    }
   ],
   "source": [
    "metadata = pd.read_csv(\"./data/AGP/metadata.csv\").set_index(\"sample_name\")"
   ]
  },
  {
   "cell_type": "code",
   "execution_count": null,
   "id": "f649fbc3-698a-4f96-905e-e3a3febc72d6",
   "metadata": {},
   "outputs": [],
   "source": [
    "metadata[VARIABLE].value_counts()"
   ]
  },
  {
   "cell_type": "code",
   "execution_count": null,
   "id": "4b42817d-3c35-49f9-972c-f8603f5d8f7d",
   "metadata": {},
   "outputs": [],
   "source": [
    "prepped_data = metadata[[VARIABLE]].join(data)\n",
    "prepped_data = prepped_data[prepped_data[VARIABLE].apply(lambda x: not pd.isna(x))]"
   ]
  },
  {
   "cell_type": "markdown",
   "id": "6b41f06f-5175-4d11-af06-37f35ca05dbc",
   "metadata": {},
   "source": [
    "### Reduce granularity of categories"
   ]
  },
  {
   "cell_type": "code",
   "execution_count": 13,
   "id": "d12e4441-60c4-47a2-963b-d591463806d3",
   "metadata": {},
   "outputs": [],
   "source": [
    "reduced_mapping = {\n",
    "    \"Rarely\": \"Not often\",\n",
    "    \"Never\": \"Not often\",\n",
    "    \"Occasionally\": \"Often\",\n",
    "    \"Regularly\": \"Often\",\n",
    "    \"Daily\": \"Often\",\n",
    "}"
   ]
  },
  {
   "cell_type": "code",
   "execution_count": 14,
   "id": "bc70135e-bd8b-4c3d-ae67-f7be13e615f5",
   "metadata": {},
   "outputs": [
    {
     "data": {
      "text/plain": [
       "Not often    8928\n",
       "Often        8628\n",
       "Name: alcohol_frequency, dtype: int64"
      ]
     },
     "execution_count": 14,
     "metadata": {},
     "output_type": "execute_result"
    }
   ],
   "source": [
    "prepped_data[VARIABLE] = prepped_data[VARIABLE].apply(lambda x: reduced_mapping[x.split()[0]])\n",
    "prepped_data[VARIABLE].value_counts()"
   ]
  },
  {
   "cell_type": "markdown",
   "id": "1b1a8b4f-dd9c-4d57-88da-644842054f3a",
   "metadata": {},
   "source": [
    "## Get only relevant variables"
   ]
  },
  {
   "cell_type": "code",
   "execution_count": null,
   "id": "8da37f55-a1cf-4e3a-a1af-ae6bba9192a1",
   "metadata": {},
   "outputs": [],
   "source": [
    "result = pyreadr.read_r('/ceph/BINF/PawelLab/SonataBis/data/FS_table.RData')\n",
    "relevant = result['REL1D'].loc[VARIABLE].fillna(False)\n",
    "prepped_data = prepped_data.loc[:, prepped_data.columns.str.replace(\";\",\".\").isin(list(relevant.index) + [VARIABLE])]"
   ]
  },
  {
   "cell_type": "markdown",
   "id": "76c3d972-cdb3-4150-a684-c2972d301ba2",
   "metadata": {},
   "source": [
    "## Split data into training and test"
   ]
  },
  {
   "cell_type": "code",
   "execution_count": 15,
   "id": "d0d5b96b-3cd1-416a-b0ed-e63ee607b657",
   "metadata": {},
   "outputs": [],
   "source": [
    "class OTUDataset(torch.utils.data.IterableDataset):\n",
    "    def __init__(self, data, shuffle: bool=False, samples_no: int=None):\n",
    "        samples = samples_no or len(data[0])\n",
    "        self.indices = np.arange(samples)\n",
    "        if shuffle:\n",
    "            self.indices = np.random.permutation(self.indices)\n",
    "        self.index = 0\n",
    "        self.max_samples = samples\n",
    "        self.data_x = data[0]\n",
    "        self.data_y = data[1]\n",
    "\n",
    "    def __iter__(self):\n",
    "        while self.index < self.max_samples:\n",
    "            _idx = self.indices[self.index]\n",
    "            yield self.data_x[_idx], self.data_y[_idx]\n",
    "            self.index += 1\n",
    "    \n",
    "    def __len__(self):\n",
    "        return self.data_x.shape[0]"
   ]
  },
  {
   "cell_type": "code",
   "execution_count": 16,
   "id": "67039b3f-2a72-4730-b1d9-4fa48533d4f2",
   "metadata": {},
   "outputs": [],
   "source": [
    "X_data = prepped_data.copy()\n",
    "del X_data[VARIABLE]"
   ]
  },
  {
   "cell_type": "code",
   "execution_count": 17,
   "id": "5422202b-7551-4c3f-8d0e-04567c0a5c48",
   "metadata": {},
   "outputs": [],
   "source": [
    "X = torch.from_numpy(X_data.values).to(torch.float32)\n",
    "X[X.isnan()] = 0\n",
    "\n",
    "label_encoder = LabelEncoder()\n",
    "y = label_encoder.fit_transform(prepped_data[VARIABLE].values)\n",
    "# y = LabelEncoder().fit_transform(metadata.groupby('age_cat').sample(200).values)\n",
    "y = torch.from_numpy(y).to(torch.int64)"
   ]
  },
  {
   "cell_type": "code",
   "execution_count": 18,
   "id": "863d500d-63ef-42e6-beeb-f1592e2a8d64",
   "metadata": {},
   "outputs": [],
   "source": [
    "X_train, X_test, y_train, y_test = train_test_split(X, y, random_state=42)"
   ]
  },
  {
   "cell_type": "code",
   "execution_count": 19,
   "id": "972ab9f3-538e-4b47-9e03-f60bde0044bd",
   "metadata": {},
   "outputs": [],
   "source": [
    "def get_dataset(size=None, batch_size=32, test_batch_size=32):\n",
    "    train_dataset = OTUDataset((X_train, y_train), size)\n",
    "    trainloader = torch.utils.data.DataLoader(train_dataset, batch_size=batch_size, num_workers=1)\n",
    "    \n",
    "    test_dataset = OTUDataset((X_test, y_test), size)\n",
    "    testloader = torch.utils.data.DataLoader(test_dataset, batch_size=test_batch_size, num_workers=1)\n",
    "    \n",
    "    return trainloader, testloader"
   ]
  },
  {
   "cell_type": "code",
   "execution_count": 20,
   "id": "a9acac34-09a3-4ca6-99b9-2d64480f1322",
   "metadata": {},
   "outputs": [],
   "source": [
    "plt.style.use(\"seaborn\")"
   ]
  },
  {
   "cell_type": "markdown",
   "id": "0edbedcc-d759-4f22-a6c7-f08bf2e34a84",
   "metadata": {},
   "source": [
    "## Preprocess data"
   ]
  },
  {
   "cell_type": "code",
   "execution_count": 21,
   "id": "5546d4a7-40a2-49a4-ba43-cf9e3119229d",
   "metadata": {},
   "outputs": [],
   "source": [
    "# \"/ceph/BINF/PawelLab/SonataBis\"\n",
    "norm = Normalizer('max')\n",
    "X_train = norm.fit_transform(X_train)\n",
    "X_test = norm.transform(X_test)"
   ]
  },
  {
   "cell_type": "markdown",
   "id": "3a06c37d-14c7-482d-96e3-a2a089eb1640",
   "metadata": {},
   "source": [
    "## Train models"
   ]
  },
  {
   "cell_type": "code",
   "execution_count": 152,
   "id": "f4c9f4ed-76e0-499d-87ea-1368b55af024",
   "metadata": {},
   "outputs": [],
   "source": [
    "def test_model(model_fn, iters=10):\n",
    "    results = []\n",
    "\n",
    "    for i in trange(iters):\n",
    "        model = model_fn()\n",
    "\n",
    "        model.fit(X_train, y_train);    \n",
    "        y_pred = model.predict(X_test)\n",
    "        for idx, label in enumerate(label_encoder.classes_):\n",
    "            y_pred_filt = y_pred[y_test==idx]\n",
    "            y_test_filt = y_test[y_test==idx]\n",
    "            acc = (y_pred_filt==y_test_filt.numpy()).sum()/len(y_test_filt)*100\n",
    "            results.append({\n",
    "                \"Class\": label,\n",
    "                \"Accuracy\": acc\n",
    "            })\n",
    "\n",
    "        acc = (y_pred==y_test.numpy()).sum()/len(y_test)*100\n",
    "        results.append({\n",
    "            \"Class\": \"Total\",\n",
    "            \"Accuracy\": acc\n",
    "        })\n",
    "\n",
    "    dframe = pd.DataFrame.from_dict(results)\n",
    "    sns.boxplot(data=dframe, y=\"Class\", x=\"Accuracy\", orient='h')\n",
    "    return dframe"
   ]
  },
  {
   "cell_type": "markdown",
   "id": "e015b11e-40ca-4171-a259-3fc3c0e45c41",
   "metadata": {},
   "source": [
    "## Train an XGBoost classifier"
   ]
  },
  {
   "cell_type": "code",
   "execution_count": 153,
   "id": "6e17b65a-4c7f-41a0-a91a-47735fa06668",
   "metadata": {},
   "outputs": [],
   "source": [
    "from xgboost import XGBClassifier"
   ]
  },
  {
   "cell_type": "code",
   "execution_count": 154,
   "id": "7a9b907c-8432-40e6-8472-cb5dc6fc6326",
   "metadata": {},
   "outputs": [
    {
     "name": "stderr",
     "output_type": "stream",
     "text": [
      "100%|█████████████████████████████████████████████████████████████████████████████████████████████████████████████████████████████████████████████| 10/10 [01:10<00:00,  7.01s/it]\n"
     ]
    },
    {
     "data": {
      "text/plain": [
       "Text(0.5, 1.0, 'XGBoost')"
      ]
     },
     "execution_count": 154,
     "metadata": {},
     "output_type": "execute_result"
    },
    {
     "data": {
      "image/png": "[encoded data removed]",
      "text/plain": [
       "<Figure size 576x396 with 1 Axes>"
      ]
     },
     "metadata": {},
     "output_type": "display_data"
    }
   ],
   "source": [
    "def get_xgboost():\n",
    "    return XGBClassifier(use_label_encoder=False, \n",
    "                         eval_metric='mlogloss', \n",
    "                         colsample_bytree=0.3, \n",
    "                         random_state=np.random.randint(1024))\n",
    "xgb_dframe = test_model(get_xgboost)\n",
    "plt.title(\"XGBoost\")"
   ]
  },
  {
   "cell_type": "markdown",
   "id": "ad497b25-cbd5-480f-ac0c-f8d727f30584",
   "metadata": {},
   "source": [
    "## Train a random forest classifier"
   ]
  },
  {
   "cell_type": "code",
   "execution_count": 155,
   "id": "60cbdeab-72d7-4da5-9f0e-7e92dbeb2e41",
   "metadata": {},
   "outputs": [],
   "source": [
    "from sklearn.ensemble import RandomForestClassifier"
   ]
  },
  {
   "cell_type": "code",
   "execution_count": 156,
   "id": "05e3d06a-b20a-40a4-b9a2-48371481cfde",
   "metadata": {},
   "outputs": [
    {
     "name": "stderr",
     "output_type": "stream",
     "text": [
      "100%|█████████████████████████████████████████████████████████████████████████████████████████████████████████████████████████████████████████████| 10/10 [01:41<00:00, 10.17s/it]\n"
     ]
    },
    {
     "data": {
      "text/plain": [
       "Text(0.5, 1.0, 'Random Forest')"
      ]
     },
     "execution_count": 156,
     "metadata": {},
     "output_type": "execute_result"
    },
    {
     "data": {
      "image/png": "[encoded data removed]",
      "text/plain": [
       "<Figure size 576x396 with 1 Axes>"
      ]
     },
     "metadata": {},
     "output_type": "display_data"
    }
   ],
   "source": [
    "def get_rf():\n",
    "    return RandomForestClassifier()\n",
    "\n",
    "rf_dframe = test_model(get_rf)\n",
    "plt.title(\"Random Forest\")"
   ]
  },
  {
   "cell_type": "markdown",
   "id": "db4ffb78-25ff-431b-8f9a-5dc3eed63b7f",
   "metadata": {},
   "source": [
    "## Train a network"
   ]
  },
  {
   "cell_type": "code",
   "execution_count": 198,
   "id": "42abff67-c846-48be-b477-3030cf65b96a",
   "metadata": {},
   "outputs": [],
   "source": [
    "class AdaptedNetwork:\n",
    "    def __init__(self, network):\n",
    "        self.network = network\n",
    "        self.optimizer = torch.optim.Adam(network.parameters(), lr=3e-5)\n",
    "        self.criterion = torch.nn.CrossEntropyLoss()\n",
    "    \n",
    "    def fit(self, X, y):\n",
    "        train_dataset = OTUDataset((X, y), X.shape[0])\n",
    "        trainloader = torch.utils.data.DataLoader(train_dataset, batch_size=32, num_workers=1)\n",
    "        \n",
    "        for epoch in range(150):\n",
    "            network = self.network.train()\n",
    "            for i, data in enumerate(trainloader):\n",
    "                inputs, labels = data\n",
    "                inputs = inputs.to(DEVICE)\n",
    "                labels = labels.to(DEVICE)\n",
    "\n",
    "                self.optimizer.zero_grad()\n",
    "\n",
    "                outputs = network(inputs)\n",
    "                loss = self.criterion(outputs, labels)\n",
    "                loss.backward()\n",
    "                self.optimizer.step()\n",
    "                    \n",
    "    def predict(self, X):\n",
    "        res = self.network(torch.from_numpy(X).to(DEVICE)).cpu().detach().numpy()\n",
    "        res = np.argmax(res, axis=1)\n",
    "        return res"
   ]
  },
  {
   "cell_type": "code",
   "execution_count": 200,
   "id": "037be888-6bea-4641-9bef-09ff8a7e41f7",
   "metadata": {},
   "outputs": [],
   "source": [
    "def get_network(inputs, outputs, l1, l2):\n",
    "    return torch.nn.Sequential(\n",
    "    torch.nn.Linear(inputs, l1),\n",
    "    torch.nn.ReLU(),\n",
    "    torch.nn.Linear(l1, l2),\n",
    "    torch.nn.ReLU(),\n",
    "    torch.nn.Linear(l2, outputs),\n",
    "    torch.nn.Sigmoid())\n",
    "\n",
    "def train_new_network():\n",
    "    network = get_network(X_train.shape[1], \n",
    "                      y.max().item()+1, \n",
    "                      256,\n",
    "                      128).to(DEVICE)\n",
    "    network = AdaptedNetwork(network)\n",
    "    return network"
   ]
  },
  {
   "cell_type": "code",
   "execution_count": 201,
   "id": "01023556-6f8b-45b6-a2d1-ab9fb94af598",
   "metadata": {},
   "outputs": [
    {
     "name": "stderr",
     "output_type": "stream",
     "text": [
      "100%|████████████████████████████████████████████████████████████████████████████████████████████████████████████████████████████████████████████| 10/10 [37:40<00:00, 226.02s/it]\n"
     ]
    },
    {
     "data": {
      "image/png": "[encoded data removed]",
      "text/plain": [
       "<Figure size 576x396 with 1 Axes>"
      ]
     },
     "metadata": {},
     "output_type": "display_data"
    }
   ],
   "source": [
    "nn_results = test_model(train_new_network)"
   ]
  },
  {
   "cell_type": "markdown",
   "id": "38ce3995-4e57-405a-a106-ea2b70d24701",
   "metadata": {},
   "source": [
    "## Hypernetwork"
   ]
  },
  {
   "cell_type": "code",
   "execution_count": 22,
   "id": "ba0a9ac8-9f36-40c8-93ff-e9d7aef9d870",
   "metadata": {},
   "outputs": [],
   "source": [
    "config = {\n",
    "    \"algorithm\": \"bayes\",\n",
    "    \"parameters\": {\n",
    "        \"l1\": {\"type\": \"discrete\", \"values\": [128, 256, 512]},\n",
    "        \"l2\": {\"type\": \"discrete\", \"values\": [32, 64, 128]},\n",
    "        \"lr\": {\"type\": \"discrete\", \"values\": [3e-4, 3e-5, 4e-3, 3e-2]},\n",
    "    },\n",
    "    \"spec\": {\n",
    "        \"metric\": \"test_loss\",\n",
    "        \"objective\": \"minimize\",\n",
    "    },\n",
    "}"
   ]
  },
  {
   "cell_type": "code",
   "execution_count": null,
   "id": "f0716bcc-4ba0-4ec0-bb54-71c82d20a28f",
   "metadata": {},
   "outputs": [
    {
     "name": "stderr",
     "output_type": "stream",
     "text": [
      "COMET INFO: COMET_OPTIMIZER_ID=8fe3e5b1216e44638ff2b1bb60f1deb6\n",
      "COMET INFO: Using optimizer config: {'algorithm': 'bayes', 'configSpaceSize': 36, 'endTime': None, 'id': '8fe3e5b1216e44638ff2b1bb60f1deb6', 'lastUpdateTime': None, 'maxCombo': 0, 'name': '8fe3e5b1216e44638ff2b1bb60f1deb6', 'parameters': {'l1': {'type': 'discrete', 'values': [128, 256, 512]}, 'l2': {'type': 'discrete', 'values': [32, 64, 128]}, 'lr': {'type': 'discrete', 'values': [0.0003, 3e-05, 0.004, 0.03]}}, 'predictor': None, 'spec': {'gridSize': 10, 'maxCombo': 0, 'metric': 'test_loss', 'minSampleSize': 100, 'objective': 'minimize', 'retryAssignLimit': 0, 'retryLimit': 1000}, 'startTime': 36009485537, 'state': {'mode': None, 'seed': None, 'sequence': [], 'sequence_i': 0, 'sequence_pid': None, 'sequence_retry': 0, 'sequence_retry_count': 0}, 'status': 'running', 'suggestion_count': 0, 'trials': 1, 'version': '2.0.1'}\n",
      "COMET INFO: ---------------------------\n",
      "COMET INFO: Comet.ml Experiment Summary\n",
      "COMET INFO: ---------------------------\n",
      "COMET INFO:   Data:\n",
      "COMET INFO:     display_summary_level : 1\n",
      "COMET INFO:     url                   : https://www.comet.ml/wwydmanski/agp-nn-search/2d31458066af497ead8edb1730571354\n",
      "COMET INFO:   Metrics [count] (min, max):\n",
      "COMET INFO:     loss [212]    : (0.660843551158905, 0.7478734254837036)\n",
      "COMET INFO:     test_accuracy : 49.10002278423331\n",
      "COMET INFO:     test_loss     : 0.6984330011110236\n",
      "COMET INFO:   Others:\n",
      "COMET INFO:     optimizer_count        : 1\n",
      "COMET INFO:     optimizer_id           : 68377a97b83540dc9ae4c40dd7ffcba2\n",
      "COMET INFO:     optimizer_metric       : test_loss\n",
      "COMET INFO:     optimizer_metric_value : 0.6984330011110236\n",
      "COMET INFO:     optimizer_objective    : minimum\n",
      "COMET INFO:     optimizer_parameters   : {\"l1\": 256, \"l2\": 128, \"lr\": 0.0003}\n",
      "COMET INFO:     optimizer_pid          : 15869ca96d363d8afb5d9cff4d9219839c338a95\n",
      "COMET INFO:     optimizer_process      : 1661530\n",
      "COMET INFO:     optimizer_trial        : 1\n",
      "COMET INFO:     optimizer_version      : 2.0.1\n",
      "COMET INFO:   Parameters:\n",
      "COMET INFO:     check_val_every_n_epoch : 10\n",
      "COMET INFO:     l1                      : 256\n",
      "COMET INFO:     l2                      : 128\n",
      "COMET INFO:     lr                      : 0.0003\n",
      "COMET INFO:     mask_size               : 100\n",
      "COMET INFO:     masks_no                : 100\n",
      "COMET INFO:     max_epochs              : 1500\n",
      "COMET INFO:     test_nodes              : 100\n",
      "COMET INFO:     training_size           : 13167\n",
      "COMET INFO:   Uploads:\n",
      "COMET INFO:     environment details      : 1\n",
      "COMET INFO:     filename                 : 1\n",
      "COMET INFO:     git metadata             : 1\n",
      "COMET INFO:     git-patch (uncompressed) : 1 (30.89 KB)\n",
      "COMET INFO:     installed packages       : 1\n",
      "COMET INFO:     model graph              : 1\n",
      "COMET INFO:     notebook                 : 1\n",
      "COMET INFO:     os packages              : 1\n",
      "COMET INFO:     source_code              : 1\n",
      "COMET INFO: ---------------------------\n",
      "COMET WARNING: As you are running in a Jupyter environment, you will need to call `experiment.end()` when finished to ensure all metrics and code are logged before exiting.\n",
      "COMET INFO: Experiment is live on comet.ml https://www.comet.ml/wwydmanski/agp-nn-search/17446d7800b146e98457b96a1b47e652\n",
      "\n",
      "100%|████████████████████████████████████████████████████████████████████████████████████████████████████████████████| 200/200 [45:00<00:00, 13.50s/it, loss=0.695, test_acc=53.5]\n",
      "COMET INFO: ---------------------------\n",
      "COMET INFO: Comet.ml Experiment Summary\n",
      "COMET INFO: ---------------------------\n",
      "COMET INFO:   Data:\n",
      "COMET INFO:     display_summary_level : 1\n",
      "COMET INFO:     url                   : https://www.comet.ml/wwydmanski/agp-nn-search/17446d7800b146e98457b96a1b47e652\n",
      "COMET INFO:   Metrics [count] (min, max):\n",
      "COMET INFO:     loss [8240]        : (0.6497119665145874, 2.064483404159546)\n",
      "COMET INFO:     test_accuracy [20] : (49.05445431761221, 54.591023012075645)\n",
      "COMET INFO:     test_loss [20]     : (0.6950025414898447, 0.6983134803110665)\n",
      "COMET INFO:   Others:\n",
      "COMET INFO:     optimizer_count        : 1\n",
      "COMET INFO:     optimizer_id           : 8fe3e5b1216e44638ff2b1bb60f1deb6\n",
      "COMET INFO:     optimizer_metric       : test_loss\n",
      "COMET INFO:     optimizer_metric_value : 0.6950025414898447\n",
      "COMET INFO:     optimizer_objective    : minimum\n",
      "COMET INFO:     optimizer_parameters   : {\"l1\": 128, \"l2\": 32, \"lr\": 0.004}\n",
      "COMET INFO:     optimizer_pid          : 54a138e82a63ee8805bf47583e4efca0b4779b70\n",
      "COMET INFO:     optimizer_process      : 1661530\n",
      "COMET INFO:     optimizer_trial        : 1\n",
      "COMET INFO:     optimizer_version      : 2.0.1\n",
      "COMET INFO:   Parameters:\n",
      "COMET INFO:     check_val_every_n_epoch : 10\n",
      "COMET INFO:     l1                      : 128\n",
      "COMET INFO:     l2                      : 32\n",
      "COMET INFO:     lr                      : 0.004\n",
      "COMET INFO:     mask_size               : 100\n",
      "COMET INFO:     masks_no                : 100\n",
      "COMET INFO:     max_epochs              : 200\n",
      "COMET INFO:     test_nodes              : 100\n",
      "COMET INFO:     training_size           : 13167\n",
      "COMET INFO:   Uploads:\n",
      "COMET INFO:     environment details      : 1\n",
      "COMET INFO:     filename                 : 1\n",
      "COMET INFO:     git metadata             : 1\n",
      "COMET INFO:     git-patch (uncompressed) : 1 (31.44 KB)\n",
      "COMET INFO:     installed packages       : 1\n",
      "COMET INFO:     model graph              : 1\n",
      "COMET INFO:     notebook                 : 1\n",
      "COMET INFO:     os packages              : 1\n",
      "COMET INFO:     source_code              : 1\n",
      "COMET INFO: ---------------------------\n",
      "COMET INFO: Uploading metrics, params, and assets to Comet before program termination (may take several seconds)\n",
      "COMET INFO: The Python SDK has 3600 seconds to finish before aborting...\n",
      "COMET WARNING: As you are running in a Jupyter environment, you will need to call `experiment.end()` when finished to ensure all metrics and code are logged before exiting.\n",
      "COMET INFO: Experiment is live on comet.ml https://www.comet.ml/wwydmanski/agp-nn-search/b52afe3007d44415b47e5de094c30177\n",
      "\n",
      " 72%|████████████████████████████████████████████████████████████████████████████████▋                               | 144/200 [32:42<12:52, 13.80s/it, loss=0.695, test_acc=54.2]"
     ]
    }
   ],
   "source": [
    "mask_size = 100\n",
    "masks_no = 100\n",
    "epochs = 200\n",
    "\n",
    "opt = Optimizer(config, api_key=os.environ.get(\"COMET_KEY\"))\n",
    "results = []\n",
    "for experiment in opt.get_experiments(\n",
    "        project_name=\"AGP-NN-search\"):\n",
    "\n",
    "    lr = experiment.get_parameter(\"lr\")\n",
    "    l1 = experiment.get_parameter(\"l1\")\n",
    "    l2 = experiment.get_parameter(\"l2\")\n",
    "\n",
    "    hypernet = Hypernetwork(inp_size=X.shape[1], \n",
    "                            out_size=y.max().item()+1, \n",
    "                            mask_size=mask_size,\n",
    "                            layers=[l1, l2, 128],\n",
    "                            node_hidden_size=100, \n",
    "                            test_nodes=masks_no).to(DEVICE)\n",
    "\n",
    "    hypernet = hypernet.train()\n",
    "    optimizer = torch.optim.Adam(hypernet.parameters(), lr=lr)\n",
    "    criterion = torch.nn.CrossEntropyLoss()\n",
    "\n",
    "    trainloader, testloader = get_dataset(test_batch_size=32)\n",
    "\n",
    "    res = train_slow_step(hypernet, optimizer, criterion, \n",
    "                          (trainloader, testloader), \n",
    "                          X_train.shape[0], \n",
    "                          epochs, \n",
    "                          masks_no, \n",
    "                          test_every=10,\n",
    "                          experiment=experiment,\n",
    "                          device=DEVICE)\n",
    "    results.append([lr, l1, l2, res])"
   ]
  },
  {
   "cell_type": "code",
   "execution_count": 28,
   "id": "51eea92f-1c4b-46f3-8736-d78051050a62",
   "metadata": {},
   "outputs": [
    {
     "data": {
      "text/plain": [
       "tensor(2)"
      ]
     },
     "execution_count": 28,
     "metadata": {},
     "output_type": "execute_result"
    }
   ],
   "source": [
    "y.max()+1"
   ]
  },
  {
   "cell_type": "markdown",
   "id": "10f0db6d-8d63-4560-bdd0-c00cac0c842c",
   "metadata": {},
   "source": [
    "## Compare results"
   ]
  },
  {
   "cell_type": "code",
   "execution_count": 202,
   "id": "77ee96c3-deba-4f82-9d2b-9987e047d70b",
   "metadata": {},
   "outputs": [
    {
     "data": {
      "text/plain": [
       "<AxesSubplot:xlabel='Accuracy', ylabel='Class'>"
      ]
     },
     "execution_count": 202,
     "metadata": {},
     "output_type": "execute_result"
    },
    {
     "data": {
      "image/png": "[encoded data removed]",
      "text/plain": [
       "<Figure size 576x396 with 1 Axes>"
      ]
     },
     "metadata": {},
     "output_type": "display_data"
    }
   ],
   "source": [
    "xgb_dframe[\"Model\"] = \"XGBoost\"\n",
    "rf_dframe[\"Model\"] = \"Random Forest\"\n",
    "nn_results[\"Model\"] = \"Neural network\"\n",
    "joined_dframe = pd.concat((xgb_dframe, rf_dframe, nn_results))\n",
    "\n",
    "sns.violinplot(data=joined_dframe, y=\"Class\", x=\"Accuracy\", hue=\"Model\", orient='h')"
   ]
  },
  {
   "cell_type": "code",
   "execution_count": 205,
   "id": "a455081f-9959-4818-abce-51605f407285",
   "metadata": {},
   "outputs": [],
   "source": [
    "joined_dframe.to_csv(\"model_comparison.csv\")"
   ]
  },
  {
   "cell_type": "code",
   "execution_count": null,
   "id": "d57ce39e-883f-43a2-82d7-e6db765d6992",
   "metadata": {},
   "outputs": [],
   "source": []
  }
 ],
 "metadata": {
  "kernelspec": {
   "display_name": "img_processing",
   "language": "python",
   "name": "img_processing"
  },
  "language_info": {
   "codemirror_mode": {
    "name": "ipython",
    "version": 3
   },
   "file_extension": ".py",
   "mimetype": "text/x-python",
   "name": "python",
   "nbconvert_exporter": "python",
   "pygments_lexer": "ipython3",
   "version": "3.10.8"
  }
 },
 "nbformat": 4,
 "nbformat_minor": 5
}
