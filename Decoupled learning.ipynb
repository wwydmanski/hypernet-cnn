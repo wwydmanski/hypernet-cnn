{
 "cells": [
  {
   "cell_type": "code",
   "execution_count": 1,
   "id": "c07701bf-edd9-438a-b814-60b15e6b65d5",
   "metadata": {},
   "outputs": [],
   "source": [
    "from dotenv import load_dotenv\n",
    "load_dotenv()\n",
    "\n",
    "import os"
   ]
  },
  {
   "cell_type": "code",
   "execution_count": 2,
   "id": "9d9b0ed7-c70f-4e5d-879c-edbf3f4cbfeb",
   "metadata": {},
   "outputs": [],
   "source": [
    "from comet_ml import Experiment, Optimizer\n",
    "\n",
    "import torch\n",
    "import torchvision.transforms as transforms\n",
    "import torchvision.datasets as datasets\n",
    "import matplotlib.pyplot as plt\n",
    "import numpy as np\n",
    "import torch.nn.functional as F\n",
    "import torch.utils.data as data_utils\n",
    "import pandas as pd\n",
    "from collections import defaultdict\n",
    "\n",
    "torch.set_default_dtype(torch.float32)"
   ]
  },
  {
   "cell_type": "code",
   "execution_count": 3,
   "id": "069b5021-779f-47db-b0a5-bcc2f875eb61",
   "metadata": {},
   "outputs": [],
   "source": [
    "from torchsummary import summary\n",
    "import matplotlib.pyplot as plt\n",
    "from tqdm import tqdm, trange"
   ]
  },
  {
   "cell_type": "code",
   "execution_count": 4,
   "id": "6dee33e6-407f-46af-b6f3-e8428179705c",
   "metadata": {},
   "outputs": [],
   "source": [
    "from ipynb.fs.defs.hypernet_training import SimpleNetwork, Hypernetwork, get_dataset, train_slow_step, test_model, InsertableNet"
   ]
  },
  {
   "cell_type": "code",
   "execution_count": 5,
   "id": "c68a56fc-a54f-47f2-ac62-a289a381f03b",
   "metadata": {},
   "outputs": [],
   "source": [
    "DEVICE = 'cuda:1'"
   ]
  },
  {
   "cell_type": "markdown",
   "id": "349dc6cc-0899-4ba9-bca0-b9ac93b29f0d",
   "metadata": {},
   "source": [
    "## Train feature extractor hypernet"
   ]
  },
  {
   "cell_type": "code",
   "execution_count": 13,
   "id": "5ef09e1e-634a-498f-a382-9250fb00d222",
   "metadata": {},
   "outputs": [
    {
     "name": "stderr",
     "output_type": "stream",
     "text": [
      "COMET WARNING: As you are running in a Jupyter environment, you will need to call `experiment.end()` when finished to ensure all metrics and code are logged before exiting.\n",
      "COMET INFO: Experiment is live on comet.ml https://www.comet.ml/wwydmanski/hypernetwork/b3f1358f7d9149729601cfecbe608352\n",
      "\n",
      "100%|███████████████████████████████████████████████████████████████████████████████████████████████████████████████████████████████████████████████████████████| 300/300 [03:32<00:00,  1.41it/s, loss=4.51, test_acc=68.8]\n",
      "COMET INFO: Uploading 1 metrics, params and output messages\n"
     ]
    },
    {
     "data": {
      "text/plain": [
       "(69.78999999999999, 2.0666567343167768)"
      ]
     },
     "execution_count": 13,
     "metadata": {},
     "output_type": "execute_result"
    }
   ],
   "source": [
    "mask_size = 400\n",
    "masks_no = 8\n",
    "epochs = 300\n",
    "\n",
    "batch_size = 32\n",
    "\n",
    "size = 100\n",
    "\n",
    "criterion = torch.nn.CrossEntropyLoss()\n",
    "hypernet = Hypernetwork(mask_size=mask_size, node_hidden_size=20, test_nodes=masks_no, device=DEVICE).to(DEVICE)   \n",
    "hypernet = hypernet.train()\n",
    "optimizer = torch.optim.Adam(hypernet.parameters(), lr=3e-4, weight_decay=1e-5)\n",
    "\n",
    "trainloader, testloader = get_dataset(size, True, masks_no, mask_size, shared_mask=True)\n",
    "train_slow_step(hypernet, optimizer, criterion, (trainloader, testloader), size, epochs, masks_no, device=DEVICE, tag=\"decoupled-head\")"
   ]
  },
  {
   "cell_type": "code",
   "execution_count": 14,
   "id": "12596dc6-d6d2-454c-8578-6b664d8c9c7a",
   "metadata": {},
   "outputs": [
    {
     "data": {
      "text/plain": [
       "68.87"
      ]
     },
     "execution_count": 14,
     "metadata": {},
     "output_type": "execute_result"
    }
   ],
   "source": [
    "test_model(hypernet, testloader, DEVICE)"
   ]
  },
  {
   "cell_type": "markdown",
   "id": "cc704613-586d-46dc-8546-014348b1e0e8",
   "metadata": {},
   "source": [
    "## Prepare feature extractor"
   ]
  },
  {
   "cell_type": "code",
   "execution_count": 15,
   "id": "a14023e6-a238-43f9-b8c7-dfb4dc067549",
   "metadata": {},
   "outputs": [],
   "source": [
    "class Extractor:\n",
    "    def __init__(self, hypernet, device='cpu'):\n",
    "        nns = []\n",
    "        weights = hypernet.craft_network(hypernet.test_mask)\n",
    "        for w in weights:\n",
    "            nns.append(InsertableNet(w.detach().to(device), hypernet.mask_size, layers=[hypernet.node_hidden_size]).to(device))\n",
    "        self.nns = nns\n",
    "        \n",
    "    def extract(self, data):\n",
    "        embeddings = []\n",
    "        for mask, nn in zip(hypernet.test_mask, self.nns):\n",
    "            masked = data[:, mask.to(torch.bool)]\n",
    "            embeddings.append(F.linear(masked, nn.inp_weights, nn.inp_bias))\n",
    "\n",
    "#         embeddings = torch.stack(embeddings, axis=-1).mean(axis=-1)\n",
    "        embeddings = torch.concat(embeddings, dim=1)\n",
    "        return embeddings"
   ]
  },
  {
   "cell_type": "code",
   "execution_count": 16,
   "id": "0c2ea15a-34fd-4809-a0ff-5034fc73c49b",
   "metadata": {},
   "outputs": [
    {
     "name": "stdout",
     "output_type": "stream",
     "text": [
      "torch.Size([32, 160])\n"
     ]
    }
   ],
   "source": [
    "extractor = Extractor(hypernet.to('cuda:1'), 'cuda:1')\n",
    "for inputs, labels, _ in trainloader:\n",
    "    inputs = inputs.to(DEVICE)\n",
    "    labels = labels.to(DEVICE)\n",
    "    \n",
    "    extracted = extractor.extract(inputs)\n",
    "    print(extracted.shape)\n",
    "    break"
   ]
  },
  {
   "cell_type": "markdown",
   "id": "423a0e77-5e9a-4201-a92f-a161881696e9",
   "metadata": {},
   "source": [
    "## Train predictor"
   ]
  },
  {
   "cell_type": "code",
   "execution_count": 17,
   "id": "4d46f41a-dc49-420a-9f85-82f106771c36",
   "metadata": {},
   "outputs": [],
   "source": [
    "def train_extracted(hypernet, optimizer, criterion, loaders, data_size, epochs, masks_no, device='cuda:0'):\n",
    "    experiment = Experiment(api_key=os.environ.get(\"COMET_KEY\"), project_name=\"hypernetwork\", display_summary_level=0)\n",
    "    experiment.add_tag(\"decoupled-head-predictor\")\n",
    "    experiment.log_parameter(\"test_nodes\", hypernet.test_nodes)\n",
    "    experiment.log_parameter(\"mask_size\", hypernet.mask_size)\n",
    "    experiment.log_parameter(\"training_size\", data_size)\n",
    "    experiment.log_parameter(\"input_size\", hypernet.input_size)\n",
    "    experiment.log_parameter(\"masks_no\", masks_no)\n",
    "\n",
    "    trainloader, testloader = loaders\n",
    "    train_loss = []\n",
    "    test_loss = []\n",
    "    test_accs = []\n",
    "    mask_idx = 0\n",
    "    with trange(epochs) as t:\n",
    "        for epoch in t:\n",
    "            total_loss = 0\n",
    "            running_loss = 0.0\n",
    "            correct = 0\n",
    "            total = 0\n",
    "            hypernet.train()\n",
    "            for i, data in enumerate(trainloader):\n",
    "                inputs, labels, _ = data\n",
    "                inputs = inputs.to(device)\n",
    "                labels = labels.to(device)\n",
    "                \n",
    "                inputs = extractor.extract(inputs).detach().to(device)\n",
    "                masks = []\n",
    "                for i in range(len(inputs)):\n",
    "                    masks.append(hypernet.test_mask[mask_idx])\n",
    "                masks = torch.stack(masks).to(device)\n",
    "                mask_idx = (mask_idx+1) % len(hypernet.test_mask)\n",
    "\n",
    "                optimizer.zero_grad()\n",
    "\n",
    "                outputs = hypernet(inputs, masks)\n",
    "                loss = criterion(outputs, labels)\n",
    "                loss.backward()\n",
    "                optimizer.step()\n",
    "\n",
    "                correct += (outputs.argmax(1)==labels).float().sum()\n",
    "                total += outputs.shape[0]\n",
    "                running_loss += loss.item()\n",
    "                train_loss.append(loss.item())\n",
    "                if i>0 and i % 100 == 0:\n",
    "                    total_loss += running_loss/100\n",
    "\n",
    "                    running_loss = 0.0\n",
    "                    correct = 0\n",
    "                    total=0\n",
    "\n",
    "            total_loss = 0\n",
    "            correct = 0\n",
    "            denom = 0\n",
    "\n",
    "            hypernet.eval()\n",
    "            if epoch%5==0:\n",
    "                for i, data in enumerate(testloader):\n",
    "                    images, labels, masks = data\n",
    "                    images = images.to(device)\n",
    "                    images = extractor.extract(images).detach().to(device)\n",
    "                    \n",
    "                    labels = labels.to(device)\n",
    "\n",
    "                    denom += len(labels)\n",
    "\n",
    "                    outputs = hypernet(images)\n",
    "                    _, predicted = torch.max(outputs.data, 1)\n",
    "                    correct += (predicted == labels).sum().item()\n",
    "                    total_loss += criterion(outputs, labels).item()\n",
    "\n",
    "                test_loss.append(total_loss/i)\n",
    "                test_accs.append(correct/denom*100)\n",
    "\n",
    "                t.set_postfix(test_acc=correct/denom*100, loss=total_loss/i)\n",
    "                experiment.log_metric(\"test_accuracy\", correct/len(testloader.dataset)*100, step=epoch)\n",
    "                experiment.log_metric(\"test_loss\", test_loss[-1], step=epoch)\n",
    "\n",
    "    experiment.end()\n",
    "    return max(test_accs), test_loss[np.argmax(test_accs)]"
   ]
  },
  {
   "cell_type": "code",
   "execution_count": null,
   "id": "bead7d6a-f69d-4c20-9377-d20d5acf83ed",
   "metadata": {},
   "outputs": [
    {
     "name": "stderr",
     "output_type": "stream",
     "text": [
      "COMET WARNING: As you are running in a Jupyter environment, you will need to call `experiment.end()` when finished to ensure all metrics and code are logged before exiting.\n"
     ]
    },
    {
     "name": "stdout",
     "output_type": "stream",
     "text": [
      "100\n"
     ]
    },
    {
     "name": "stderr",
     "output_type": "stream",
     "text": [
      "COMET INFO: Experiment is live on comet.ml https://www.comet.ml/wwydmanski/hypernetwork/2e7686bc7fe84d149f314e5b067f7e95\n",
      "\n",
      "100%|███████████████████████████████████████████████████████████████████████████████████████████████████████████████████████████████████████████████████████████| 400/400 [04:49<00:00,  1.38it/s, loss=6.43, test_acc=62.9]\n",
      "COMET INFO: Uploading 1 metrics, params and output messages\n",
      "COMET WARNING: As you are running in a Jupyter environment, you will need to call `experiment.end()` when finished to ensure all metrics and code are logged before exiting.\n"
     ]
    },
    {
     "name": "stdout",
     "output_type": "stream",
     "text": [
      "100\n"
     ]
    },
    {
     "name": "stderr",
     "output_type": "stream",
     "text": [
      "COMET INFO: Experiment is live on comet.ml https://www.comet.ml/wwydmanski/hypernetwork/54f03f1006ad421bacc90b089240c7ad\n",
      "\n",
      "100%|███████████████████████████████████████████████████████████████████████████████████████████████████████████████████████████████████████████████████████████| 400/400 [04:48<00:00,  1.39it/s, loss=4.77, test_acc=67.8]\n",
      "COMET INFO: Uploading 1 metrics, params and output messages\n",
      "COMET WARNING: As you are running in a Jupyter environment, you will need to call `experiment.end()` when finished to ensure all metrics and code are logged before exiting.\n"
     ]
    },
    {
     "name": "stdout",
     "output_type": "stream",
     "text": [
      "100\n"
     ]
    },
    {
     "name": "stderr",
     "output_type": "stream",
     "text": [
      "COMET INFO: Experiment is live on comet.ml https://www.comet.ml/wwydmanski/hypernetwork/7fda395ed0d2488eb241cea6528486e6\n",
      "\n",
      "100%|███████████████████████████████████████████████████████████████████████████████████████████████████████████████████████████████████████████████████████████| 400/400 [04:51<00:00,  1.37it/s, loss=4.96, test_acc=66.8]\n",
      "COMET INFO: Uploading 1 metrics, params and output messages\n",
      "COMET WARNING: As you are running in a Jupyter environment, you will need to call `experiment.end()` when finished to ensure all metrics and code are logged before exiting.\n"
     ]
    },
    {
     "name": "stdout",
     "output_type": "stream",
     "text": [
      "100\n"
     ]
    },
    {
     "name": "stderr",
     "output_type": "stream",
     "text": [
      "COMET INFO: Experiment is live on comet.ml https://www.comet.ml/wwydmanski/hypernetwork/2f2f85f540f1479d9e02fda237906038\n",
      "\n",
      "100%|███████████████████████████████████████████████████████████████████████████████████████████████████████████████████████████████████████████████████████████| 400/400 [04:48<00:00,  1.39it/s, loss=5.43, test_acc=66.2]\n",
      "COMET INFO: Uploading 1 metrics, params and output messages\n",
      "COMET INFO: Waiting for completion of the file uploads (may take several seconds)\n",
      "COMET INFO: The Python SDK has 10800 seconds to finish before aborting...\n",
      "COMET INFO: All files uploaded, waiting for confirmation they have been all received\n",
      "COMET WARNING: As you are running in a Jupyter environment, you will need to call `experiment.end()` when finished to ensure all metrics and code are logged before exiting.\n"
     ]
    },
    {
     "name": "stdout",
     "output_type": "stream",
     "text": [
      "100\n"
     ]
    },
    {
     "name": "stderr",
     "output_type": "stream",
     "text": [
      "COMET INFO: Experiment is live on comet.ml https://www.comet.ml/wwydmanski/hypernetwork/81739f0f1e89476e92c6dac96df5537f\n",
      "\n",
      "100%|██████████████████████████████████████████████████████████████████████████████████████████████████████████████████████████████████████████████████████████████| 400/400 [04:49<00:00,  1.38it/s, loss=4.7, test_acc=67]\n",
      "COMET INFO: Uploading 1 metrics, params and output messages\n",
      "COMET WARNING: As you are running in a Jupyter environment, you will need to call `experiment.end()` when finished to ensure all metrics and code are logged before exiting.\n"
     ]
    },
    {
     "name": "stdout",
     "output_type": "stream",
     "text": [
      "100\n"
     ]
    },
    {
     "name": "stderr",
     "output_type": "stream",
     "text": [
      "COMET INFO: Experiment is live on comet.ml https://www.comet.ml/wwydmanski/hypernetwork/8e84ebc91a5443bdb9fb92e215ebeed9\n",
      "\n",
      "100%|███████████████████████████████████████████████████████████████████████████████████████████████████████████████████████████████████████████████████████████| 400/400 [13:08<00:00,  1.97s/it, loss=1.44, test_acc=63.4]\n",
      "COMET INFO: Uploading 1 metrics, params and output messages\n",
      "COMET WARNING: As you are running in a Jupyter environment, you will need to call `experiment.end()` when finished to ensure all metrics and code are logged before exiting.\n"
     ]
    },
    {
     "name": "stdout",
     "output_type": "stream",
     "text": [
      "100\n"
     ]
    },
    {
     "name": "stderr",
     "output_type": "stream",
     "text": [
      "COMET INFO: Experiment is live on comet.ml https://www.comet.ml/wwydmanski/hypernetwork/aa39cf17378b4b5392f2130c618d9522\n",
      "\n",
      " 70%|████████████████████████████████████████████████████████████████████████████████████████████████████████████▌                                              | 280/400 [09:11<02:02,  1.02s/it, loss=1.28, test_acc=63.7]"
     ]
    }
   ],
   "source": [
    "mask_size = 100\n",
    "epochs = 400\n",
    "results = defaultdict(lambda: defaultdict(list))\n",
    "size = 100\n",
    "\n",
    "for masks_no in [8, 50, 15, 200]:\n",
    "    for i in range(5):\n",
    "        criterion = torch.nn.CrossEntropyLoss()\n",
    "        hypernet_pred = Hypernetwork(inp_size=160, mask_size=mask_size, node_hidden_size=10, test_nodes=masks_no, device='cuda:1').to(DEVICE)    \n",
    "        hypernet_pred = hypernet_pred.train()\n",
    "        optimizer = torch.optim.Adam(hypernet_pred.parameters(), lr=3e-4, weight_decay=1e-5)\n",
    "\n",
    "        trainloader, testloader = get_dataset(size, True, masks_no, mask_size, shared_mask=True)\n",
    "        print(masks_no)\n",
    "        res = train_extracted(hypernet_pred, optimizer, criterion, (trainloader, testloader), size, epochs, masks_no, device=DEVICE)\n",
    "        results[masks_no][size].append(res)"
   ]
  },
  {
   "cell_type": "code",
   "execution_count": null,
   "id": "feb62750-93db-4e8c-b2ba-22cc8452b1f1",
   "metadata": {},
   "outputs": [],
   "source": [
    "print(\"Test accuracy\")\n",
    "for key in results.keys():\n",
    "    def _pad(x):\n",
    "        res = [subitem[0] for subitem in x]\n",
    "        res += [res[-1]]*(10-len(res))\n",
    "        return res\n",
    "        \n",
    "    test_acc_df = pd.DataFrame({i: _pad(j) for i, j in results[key].items()})\n",
    "    print(key)\n",
    "    print(test_acc_df.mean(axis=0))"
   ]
  },
  {
   "cell_type": "code",
   "execution_count": null,
   "id": "ab615880-581b-41b5-af83-5ada387cab22",
   "metadata": {},
   "outputs": [],
   "source": [
    "print(\"Test loss\")\n",
    "for key in results.keys():\n",
    "    test_acc_df = pd.DataFrame({i: [subitem[1] for subitem in j] for i, j in results[key].items()})\n",
    "    print(key)\n",
    "    print(test_acc_df.mean(axis=0))"
   ]
  },
  {
   "cell_type": "code",
   "execution_count": null,
   "id": "7fe68809-271b-4c23-8609-12e25c5d6640",
   "metadata": {},
   "outputs": [],
   "source": []
  }
 ],
 "metadata": {
  "kernelspec": {
   "display_name": "img_processing",
   "language": "python",
   "name": "img_processing"
  },
  "language_info": {
   "codemirror_mode": {
    "name": "ipython",
    "version": 3
   },
   "file_extension": ".py",
   "mimetype": "text/x-python",
   "name": "python",
   "nbconvert_exporter": "python",
   "pygments_lexer": "ipython3",
   "version": "3.8.12"
  }
 },
 "nbformat": 4,
 "nbformat_minor": 5
}
