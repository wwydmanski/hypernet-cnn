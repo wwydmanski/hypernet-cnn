{
 "cells": [
  {
   "cell_type": "code",
   "execution_count": 2,
   "id": "92783e7e-6365-4c18-a113-0ab96e908c6c",
   "metadata": {},
   "outputs": [],
   "source": [
    "import torch\n",
    "import torchvision.transforms as transforms\n",
    "import torchvision.datasets as datasets\n",
    "import matplotlib.pyplot as plt\n",
    "import numpy as np\n",
    "import torch.utils.data as data_utils\n",
    "\n",
    "torch.set_default_dtype(torch.float32)"
   ]
  },
  {
   "cell_type": "markdown",
   "id": "093e1cfc-0554-4973-bc83-734bf882b7ea",
   "metadata": {},
   "source": [
    "## Load data"
   ]
  },
  {
   "cell_type": "code",
   "execution_count": 4,
   "id": "84aefe8b-dd1a-48c7-91a4-dc53355c8745",
   "metadata": {},
   "outputs": [],
   "source": [
    "mods = [transforms.ToTensor(), \n",
    "        transforms.Normalize((0.1307,), (0.3081,)),    #mean and std of MNIST\n",
    "        transforms.Lambda(lambda x: torch.flatten(x))]\n",
    "mods = transforms.Compose(mods)\n",
    "\n",
    "trainset = datasets.MNIST(root='./data/train', train=True, download=True, transform=mods)\n",
    "testset = datasets.MNIST(root='./data/test', train=False, download=True, transform=mods)"
   ]
  },
  {
   "cell_type": "markdown",
   "id": "8b268577-494d-42e4-9d86-f2bfd280e89a",
   "metadata": {
    "tags": []
   },
   "source": [
    "#### Subset the training set"
   ]
  },
  {
   "cell_type": "code",
   "execution_count": 5,
   "id": "ec7af190-a405-4aca-97a0-e5be73be4689",
   "metadata": {},
   "outputs": [],
   "source": [
    "# indices = torch.arange(100)\n",
    "# trainset = data_utils.Subset(trainset, indices)"
   ]
  },
  {
   "cell_type": "code",
   "execution_count": 6,
   "id": "dfe29125-e9dd-453f-95c3-c24e7f9d97b5",
   "metadata": {},
   "outputs": [],
   "source": [
    "batch_size = 64\n",
    "\n",
    "trainloader = torch.utils.data.DataLoader(trainset, batch_size=batch_size,\n",
    "                                          shuffle=True, num_workers=1)\n",
    "testloader = torch.utils.data.DataLoader(testset, batch_size=batch_size,\n",
    "                                         shuffle=False, num_workers=1)"
   ]
  },
  {
   "cell_type": "code",
   "execution_count": 7,
   "id": "f662bab8-15f8-4ea7-bc93-5ba1708f7ff5",
   "metadata": {},
   "outputs": [
    {
     "data": {
      "image/png": "[encoded data removed]",
      "text/plain": [
       "<Figure size 432x288 with 1 Axes>"
      ]
     },
     "metadata": {},
     "output_type": "display_data"
    }
   ],
   "source": [
    "plt.imshow(trainset[0][0].reshape((28, 28)));\n",
    "plt.title(trainset[0][1]);\n",
    "plt.xticks([])\n",
    "plt.yticks([]);"
   ]
  },
  {
   "cell_type": "markdown",
   "id": "a67f07f8-aba0-4186-9a10-2c2f78964afd",
   "metadata": {},
   "source": [
    "## Prepare a single network module"
   ]
  },
  {
   "cell_type": "code",
   "execution_count": 8,
   "id": "e3683f15-19a0-4a50-acc5-4defea5000e9",
   "metadata": {},
   "outputs": [],
   "source": [
    "class SimpleNetwork(torch.nn.Module):\n",
    "    def __init__(self, inp_size, layers=[100]):\n",
    "        super().__init__()\n",
    "        self.layers = []\n",
    "        \n",
    "        self.inp = torch.nn.Linear(inp_size, layers[0])\n",
    "        self.output = torch.nn.Linear(layers[0], 10)\n",
    "        self.relu = torch.nn.ReLU()\n",
    "        self.softmax = torch.nn.Softmax()\n",
    "    \n",
    "    def forward(self, x):\n",
    "        out = x\n",
    "        out = self.inp(out)\n",
    "        out = self.relu(out)\n",
    "        out = self.output(out)\n",
    "        return out"
   ]
  },
  {
   "cell_type": "code",
   "execution_count": 9,
   "id": "a1c7a4aa-32eb-49bc-b13d-a54c81390a79",
   "metadata": {},
   "outputs": [],
   "source": [
    "def train_net(net, optimizer, epochs, verbose=False):\n",
    "    for epoch in range(epochs): \n",
    "        running_loss = 0.0\n",
    "        correct = 0\n",
    "        total = 0\n",
    "        net.train()\n",
    "        for i, data in enumerate(trainloader):\n",
    "            inputs, labels = data\n",
    "\n",
    "            optimizer.zero_grad()\n",
    "\n",
    "            outputs = net(inputs)\n",
    "            loss = criterion(outputs, labels)\n",
    "            loss.backward()\n",
    "            optimizer.step()\n",
    "\n",
    "            correct += (outputs.argmax(1)==labels).float().sum()\n",
    "            total += outputs.shape[0]\n",
    "            running_loss += loss.item()\n",
    "            if i % 100 == 0:    # print every 100 mini-batches\n",
    "                if verbose:\n",
    "                    print('[%d, %5d] loss: %.3f acc: %.3f%%' %\n",
    "                          (epoch + 1, i, running_loss / 100, correct/total*100))\n",
    "                running_loss = 0.0\n",
    "                correct = 0\n",
    "                total=0\n",
    "\n",
    "        correct = 0\n",
    "        test_loss = 0\n",
    "        net.eval()\n",
    "        for i, data in enumerate(testloader):\n",
    "            images, labels = data\n",
    "            outputs = net(images)\n",
    "            _, predicted = torch.max(outputs.data, 1)\n",
    "            correct += (predicted == labels).sum().item()\n",
    "            loss = criterion(outputs, labels)\n",
    "            test_loss += loss.item()\n",
    "        print(f\"Test acc: {correct/len(testset)*100}, loss: {test_loss/i:.3f}\")\n",
    "        \n",
    "    return correct/len(testset)*100, test_loss/i"
   ]
  },
  {
   "cell_type": "markdown",
   "id": "75022978-980e-4acb-9b40-3963cd0de80b",
   "metadata": {},
   "source": [
    "### Benchmark"
   ]
  },
  {
   "cell_type": "markdown",
   "id": "c333be1c-e0b4-49ae-9e2c-c203b86f26fe",
   "metadata": {},
   "source": [
    "#### Full network"
   ]
  },
  {
   "cell_type": "code",
   "execution_count": 27,
   "id": "a4f0ef37-5964-405a-ae93-16fe050fca11",
   "metadata": {},
   "outputs": [],
   "source": [
    "net = SimpleNetwork(784)"
   ]
  },
  {
   "cell_type": "code",
   "execution_count": 28,
   "id": "a74c7b50-57bb-4aff-b2b1-9e27081c6518",
   "metadata": {},
   "outputs": [],
   "source": [
    "criterion = torch.nn.CrossEntropyLoss()"
   ]
  },
  {
   "cell_type": "code",
   "execution_count": 29,
   "id": "31c8b792-931c-4097-870f-ae89bb637a93",
   "metadata": {},
   "outputs": [
    {
     "name": "stdout",
     "output_type": "stream",
     "text": [
      "Test acc: 96.3, loss: 0.123\n",
      "Test acc: 96.96000000000001, loss: 0.094\n",
      "Test acc: 97.09, loss: 0.106\n",
      "Test acc: 96.56, loss: 0.120\n",
      "Test acc: 96.77, loss: 0.120\n",
      "Test acc: 97.92, loss: 0.083\n",
      "Test acc: 98.03, loss: 0.083\n",
      "Test acc: 97.95, loss: 0.083\n",
      "Test acc: 97.97, loss: 0.082\n",
      "Test acc: 97.92, loss: 0.083\n",
      "CPU times: user 17min 55s, sys: 1min 1s, total: 18min 56s\n",
      "Wall time: 1min 41s\n"
     ]
    }
   ],
   "source": [
    "%%time\n",
    "optimizer = torch.optim.Adam(net.parameters(), lr=3e-3)\n",
    "train_net(net, optimizer, 5)\n",
    "optimizer = torch.optim.Adam(net.parameters(), lr=3e-4)\n",
    "final_loss = train_net(net, optimizer, 5)[0]"
   ]
  },
  {
   "cell_type": "markdown",
   "id": "6ce339da-00ac-4ce3-a36b-7f58e406d0e1",
   "metadata": {},
   "source": [
    "#### Masked input (for further benchmark)"
   ]
  },
  {
   "cell_type": "code",
   "execution_count": 20,
   "id": "b8df1d1a-2372-408d-9aaa-dbac84d7d23c",
   "metadata": {},
   "outputs": [],
   "source": [
    "input_size = 784\n",
    "mask_size = 700\n",
    "\n",
    "np.random.seed(42)\n",
    "template = np.zeros(input_size)\n",
    "mask_idx = np.random.choice(len(template), mask_size, False)\n",
    "template[mask_idx] = 1\n",
    "mask = torch.from_numpy(template).to(torch.bool)"
   ]
  },
  {
   "cell_type": "code",
   "execution_count": 21,
   "id": "9a89d5a3-1c39-4475-ad87-188628964c26",
   "metadata": {
    "collapsed": true,
    "jupyter": {
     "outputs_hidden": true
    },
    "tags": []
   },
   "outputs": [
    {
     "data": {
      "text/plain": [
       "array([598, 590, 209, 637, 174, 213, 429, 259, 593, 204, 576, 244, 235,\n",
       "       218, 770, 155, 516,  67, 579, 109,  66, 522,  78, 473,  23, 211,\n",
       "       706, 445, 644,  39, 332,  86, 137, 653, 656, 442, 525, 515, 334,\n",
       "       630, 342, 780, 118, 652, 260, 779, 352, 432,  77, 691, 483, 682,\n",
       "        49, 518, 168, 326, 377, 375, 568, 309, 629,  30, 361,  33,  31,\n",
       "       627, 558, 405, 254, 412, 739, 486, 266, 331, 422, 231, 333, 357,\n",
       "       620, 265,  54, 735, 514,  97, 506, 294, 234, 749, 311, 351, 120,\n",
       "       436,  84,  10, 624, 464, 192, 530, 199,  29, 470, 323,  65, 350,\n",
       "       659, 239,  81, 485, 291, 487, 264, 715, 535, 519,  76, 388, 523,\n",
       "       570,  72, 693, 409, 208, 585,  63, 314, 672, 302, 750, 363, 393,\n",
       "       752, 367, 705,   7, 533, 101, 428, 765, 745,   2, 398, 527, 764,\n",
       "       196, 641, 729, 493, 448, 215, 425, 581, 417,  79, 148, 335, 247,\n",
       "       559, 762, 133, 648,  55, 411, 597, 675, 545, 617, 720, 296, 362,\n",
       "        60, 741, 360, 440, 662, 426, 383, 327, 584, 286,  90, 382, 181,\n",
       "       443, 618, 158,  69, 446, 131,  44,  70, 210, 340, 300, 275, 135,\n",
       "       740, 165, 164,  28, 639, 193, 220, 534, 306, 136, 521, 299, 140,\n",
       "       457,   6, 611, 478,  73, 250, 778, 145, 281, 290, 434, 132, 771,\n",
       "       539, 734, 615,  41, 477, 108, 628,  56, 292, 704, 394, 227, 212,\n",
       "       583, 319,  24, 467, 733, 336, 365, 544, 110,  82,  51, 465, 731,\n",
       "       718, 632, 198, 549, 687, 499, 482, 479, 139, 444, 420,  18, 649,\n",
       "       328,  83,  61, 572, 431, 182, 481, 223, 433, 451, 381, 453, 721,\n",
       "       746, 176, 536, 626, 163, 248, 507, 696,  74, 616, 713, 104, 114,\n",
       "       424,  92, 395,  89, 751, 495, 728, 609, 594,  11, 338,  43,  42,\n",
       "       167, 689, 603, 396, 178, 688, 529, 177, 543, 726, 257, 344, 456,\n",
       "        15, 606, 256, 355, 517, 324, 462, 708, 356, 329, 605,   9, 249,\n",
       "        22, 221, 537, 676, 768, 439, 657, 203, 237,  93, 680, 346, 490,\n",
       "       284, 184, 636, 380, 153,  75, 512, 277,  68, 494, 188, 271, 236,\n",
       "        88, 667, 117, 125, 736, 289, 238,   0, 775, 368, 743, 450, 278,\n",
       "       776, 116, 228, 634, 404, 677, 274, 318, 541, 144, 497, 678, 711,\n",
       "       575, 369, 268, 557, 307, 310, 782,  46, 349, 371, 513, 261, 195,\n",
       "       783, 658, 107,  59, 589, 423, 100, 660, 703, 633, 586, 179, 304,\n",
       "       761, 650, 755, 149, 124, 623, 683, 185, 531,  50, 500, 773, 722,\n",
       "       321, 353, 724, 142, 370, 141, 399, 511, 320,  19, 172, 640, 312,\n",
       "       390, 730,  12, 407, 408, 305, 354,  25, 587, 169,  38, 175, 245,\n",
       "       298, 654, 416, 538, 272, 601, 154, 126, 449, 716, 341, 430, 287,\n",
       "       113, 501, 173, 359, 774,  57, 542, 222, 280,  17, 127, 322, 255,\n",
       "       528, 588, 468, 753, 190, 115, 695, 645,  94, 180, 301, 571, 580,\n",
       "       551, 548, 694, 532,   5, 769,  45, 710, 157, 595, 171,  16,  48,\n",
       "       759, 719,   3, 567, 554, 316, 552, 480, 447, 723, 283,  96, 285,\n",
       "       526, 225,  26, 631, 263, 437, 364, 229,  37, 754, 374, 469, 756,\n",
       "       668, 582, 194, 670, 679, 503, 758, 655, 757, 162, 604, 152, 547,\n",
       "       742, 602, 111, 226, 651, 103, 421, 419, 119,  53, 151, 403, 738,\n",
       "       207, 767, 608,   8, 638,  36, 452, 253, 303, 596, 569, 635, 262,\n",
       "       297, 414, 150, 625, 698, 550, 488, 147, 146, 578, 727, 591, 348,\n",
       "       463, 325, 186, 123, 669, 143, 748, 197, 279, 293, 400, 122, 183,\n",
       "       202, 438, 246, 415, 697, 129, 402, 621, 613, 712, 219, 714, 599,\n",
       "       717, 610, 386, 760, 509, 267, 685, 441, 496, 112, 232, 684, 607,\n",
       "       373, 233, 622, 317, 410, 709, 358, 258, 282, 376, 384, 224, 744,\n",
       "       643, 472, 347, 505, 772, 725, 707, 619, 671, 664, 556, 577,  85,\n",
       "       242, 159, 524,  35, 540, 170, 673, 665, 737,  95, 563, 240, 574,\n",
       "       460, 553, 690, 206, 392, 397, 666, 217,   4, 642, 701, 612, 546,\n",
       "        98, 573, 406, 502,  47,  32, 200, 134,  27, 692, 230, 489, 378,\n",
       "       288, 418, 674, 391, 592, 498, 138,  62, 471, 647, 128, 763, 520,\n",
       "        64,  14, 156,  40, 492, 379, 187, 216,  52, 337, 295])"
      ]
     },
     "execution_count": 21,
     "metadata": {},
     "output_type": "execute_result"
    }
   ],
   "source": [
    "mask_idx"
   ]
  },
  {
   "cell_type": "code",
   "execution_count": 22,
   "id": "590c94da-d051-4cdb-9bb5-5a59b553b27f",
   "metadata": {
    "collapsed": true,
    "jupyter": {
     "outputs_hidden": true
    },
    "tags": []
   },
   "outputs": [
    {
     "name": "stdout",
     "output_type": "stream",
     "text": [
      "Test acc: 89.24, loss: 0.401\n",
      "Test acc: 90.67, loss: 0.332\n",
      "Test acc: 91.27, loss: 0.308\n",
      "Test acc: 91.24, loss: 0.299\n",
      "Test acc: 91.46, loss: 0.290\n"
     ]
    },
    {
     "ename": "KeyboardInterrupt",
     "evalue": "",
     "output_type": "error",
     "traceback": [
      "\u001b[0;31m---------------------------------------------------------------------------\u001b[0m",
      "\u001b[0;31mKeyboardInterrupt\u001b[0m                         Traceback (most recent call last)",
      "\u001b[0;32m/tmp/ipykernel_2812624/1093763290.py\u001b[0m in \u001b[0;36m<module>\u001b[0;34m\u001b[0m\n\u001b[1;32m     14\u001b[0m \u001b[0mmasked_net\u001b[0m\u001b[0;34m.\u001b[0m\u001b[0mmask\u001b[0m \u001b[0;34m=\u001b[0m \u001b[0mmask\u001b[0m\u001b[0;34m\u001b[0m\u001b[0;34m\u001b[0m\u001b[0m\n\u001b[1;32m     15\u001b[0m \u001b[0moptimizer\u001b[0m \u001b[0;34m=\u001b[0m \u001b[0mtorch\u001b[0m\u001b[0;34m.\u001b[0m\u001b[0moptim\u001b[0m\u001b[0;34m.\u001b[0m\u001b[0mAdam\u001b[0m\u001b[0;34m(\u001b[0m\u001b[0mmasked_net\u001b[0m\u001b[0;34m.\u001b[0m\u001b[0mparameters\u001b[0m\u001b[0;34m(\u001b[0m\u001b[0;34m)\u001b[0m\u001b[0;34m,\u001b[0m \u001b[0mlr\u001b[0m\u001b[0;34m=\u001b[0m\u001b[0;36m3e-4\u001b[0m\u001b[0;34m)\u001b[0m\u001b[0;34m\u001b[0m\u001b[0;34m\u001b[0m\u001b[0m\n\u001b[0;32m---> 16\u001b[0;31m \u001b[0mtrain_net\u001b[0m\u001b[0;34m(\u001b[0m\u001b[0mmasked_net\u001b[0m\u001b[0;34m,\u001b[0m \u001b[0moptimizer\u001b[0m\u001b[0;34m,\u001b[0m \u001b[0;36m20\u001b[0m\u001b[0;34m)\u001b[0m\u001b[0;34m\u001b[0m\u001b[0;34m\u001b[0m\u001b[0m\n\u001b[0m",
      "\u001b[0;32m/tmp/ipykernel_2812624/774909066.py\u001b[0m in \u001b[0;36mtrain_net\u001b[0;34m(net, optimizer, epochs, verbose)\u001b[0m\n\u001b[1;32m      5\u001b[0m         \u001b[0mtotal\u001b[0m \u001b[0;34m=\u001b[0m \u001b[0;36m0\u001b[0m\u001b[0;34m\u001b[0m\u001b[0;34m\u001b[0m\u001b[0m\n\u001b[1;32m      6\u001b[0m         \u001b[0mnet\u001b[0m\u001b[0;34m.\u001b[0m\u001b[0mtrain\u001b[0m\u001b[0;34m(\u001b[0m\u001b[0;34m)\u001b[0m\u001b[0;34m\u001b[0m\u001b[0;34m\u001b[0m\u001b[0m\n\u001b[0;32m----> 7\u001b[0;31m         \u001b[0;32mfor\u001b[0m \u001b[0mi\u001b[0m\u001b[0;34m,\u001b[0m \u001b[0mdata\u001b[0m \u001b[0;32min\u001b[0m \u001b[0menumerate\u001b[0m\u001b[0;34m(\u001b[0m\u001b[0mtrainloader\u001b[0m\u001b[0;34m)\u001b[0m\u001b[0;34m:\u001b[0m\u001b[0;34m\u001b[0m\u001b[0;34m\u001b[0m\u001b[0m\n\u001b[0m\u001b[1;32m      8\u001b[0m             \u001b[0minputs\u001b[0m\u001b[0;34m,\u001b[0m \u001b[0mlabels\u001b[0m \u001b[0;34m=\u001b[0m \u001b[0mdata\u001b[0m\u001b[0;34m\u001b[0m\u001b[0;34m\u001b[0m\u001b[0m\n\u001b[1;32m      9\u001b[0m \u001b[0;34m\u001b[0m\u001b[0m\n",
      "\u001b[0;32m~/.conda/envs/img_processing/lib/python3.8/site-packages/torch/utils/data/dataloader.py\u001b[0m in \u001b[0;36m__next__\u001b[0;34m(self)\u001b[0m\n\u001b[1;32m    519\u001b[0m             \u001b[0;32mif\u001b[0m \u001b[0mself\u001b[0m\u001b[0;34m.\u001b[0m\u001b[0m_sampler_iter\u001b[0m \u001b[0;32mis\u001b[0m \u001b[0;32mNone\u001b[0m\u001b[0;34m:\u001b[0m\u001b[0;34m\u001b[0m\u001b[0;34m\u001b[0m\u001b[0m\n\u001b[1;32m    520\u001b[0m                 \u001b[0mself\u001b[0m\u001b[0;34m.\u001b[0m\u001b[0m_reset\u001b[0m\u001b[0;34m(\u001b[0m\u001b[0;34m)\u001b[0m\u001b[0;34m\u001b[0m\u001b[0;34m\u001b[0m\u001b[0m\n\u001b[0;32m--> 521\u001b[0;31m             \u001b[0mdata\u001b[0m \u001b[0;34m=\u001b[0m \u001b[0mself\u001b[0m\u001b[0;34m.\u001b[0m\u001b[0m_next_data\u001b[0m\u001b[0;34m(\u001b[0m\u001b[0;34m)\u001b[0m\u001b[0;34m\u001b[0m\u001b[0;34m\u001b[0m\u001b[0m\n\u001b[0m\u001b[1;32m    522\u001b[0m             \u001b[0mself\u001b[0m\u001b[0;34m.\u001b[0m\u001b[0m_num_yielded\u001b[0m \u001b[0;34m+=\u001b[0m \u001b[0;36m1\u001b[0m\u001b[0;34m\u001b[0m\u001b[0;34m\u001b[0m\u001b[0m\n\u001b[1;32m    523\u001b[0m             \u001b[0;32mif\u001b[0m \u001b[0mself\u001b[0m\u001b[0;34m.\u001b[0m\u001b[0m_dataset_kind\u001b[0m \u001b[0;34m==\u001b[0m \u001b[0m_DatasetKind\u001b[0m\u001b[0;34m.\u001b[0m\u001b[0mIterable\u001b[0m \u001b[0;32mand\u001b[0m\u001b[0;31m \u001b[0m\u001b[0;31m\\\u001b[0m\u001b[0;34m\u001b[0m\u001b[0;34m\u001b[0m\u001b[0m\n",
      "\u001b[0;32m~/.conda/envs/img_processing/lib/python3.8/site-packages/torch/utils/data/dataloader.py\u001b[0m in \u001b[0;36m_next_data\u001b[0;34m(self)\u001b[0m\n\u001b[1;32m   1184\u001b[0m \u001b[0;34m\u001b[0m\u001b[0m\n\u001b[1;32m   1185\u001b[0m             \u001b[0;32massert\u001b[0m \u001b[0;32mnot\u001b[0m \u001b[0mself\u001b[0m\u001b[0;34m.\u001b[0m\u001b[0m_shutdown\u001b[0m \u001b[0;32mand\u001b[0m \u001b[0mself\u001b[0m\u001b[0;34m.\u001b[0m\u001b[0m_tasks_outstanding\u001b[0m \u001b[0;34m>\u001b[0m \u001b[0;36m0\u001b[0m\u001b[0;34m\u001b[0m\u001b[0;34m\u001b[0m\u001b[0m\n\u001b[0;32m-> 1186\u001b[0;31m             \u001b[0midx\u001b[0m\u001b[0;34m,\u001b[0m \u001b[0mdata\u001b[0m \u001b[0;34m=\u001b[0m \u001b[0mself\u001b[0m\u001b[0;34m.\u001b[0m\u001b[0m_get_data\u001b[0m\u001b[0;34m(\u001b[0m\u001b[0;34m)\u001b[0m\u001b[0;34m\u001b[0m\u001b[0;34m\u001b[0m\u001b[0m\n\u001b[0m\u001b[1;32m   1187\u001b[0m             \u001b[0mself\u001b[0m\u001b[0;34m.\u001b[0m\u001b[0m_tasks_outstanding\u001b[0m \u001b[0;34m-=\u001b[0m \u001b[0;36m1\u001b[0m\u001b[0;34m\u001b[0m\u001b[0;34m\u001b[0m\u001b[0m\n\u001b[1;32m   1188\u001b[0m             \u001b[0;32mif\u001b[0m \u001b[0mself\u001b[0m\u001b[0;34m.\u001b[0m\u001b[0m_dataset_kind\u001b[0m \u001b[0;34m==\u001b[0m \u001b[0m_DatasetKind\u001b[0m\u001b[0;34m.\u001b[0m\u001b[0mIterable\u001b[0m\u001b[0;34m:\u001b[0m\u001b[0;34m\u001b[0m\u001b[0;34m\u001b[0m\u001b[0m\n",
      "\u001b[0;32m~/.conda/envs/img_processing/lib/python3.8/site-packages/torch/utils/data/dataloader.py\u001b[0m in \u001b[0;36m_get_data\u001b[0;34m(self)\u001b[0m\n\u001b[1;32m   1150\u001b[0m         \u001b[0;32melse\u001b[0m\u001b[0;34m:\u001b[0m\u001b[0;34m\u001b[0m\u001b[0;34m\u001b[0m\u001b[0m\n\u001b[1;32m   1151\u001b[0m             \u001b[0;32mwhile\u001b[0m \u001b[0;32mTrue\u001b[0m\u001b[0;34m:\u001b[0m\u001b[0;34m\u001b[0m\u001b[0;34m\u001b[0m\u001b[0m\n\u001b[0;32m-> 1152\u001b[0;31m                 \u001b[0msuccess\u001b[0m\u001b[0;34m,\u001b[0m \u001b[0mdata\u001b[0m \u001b[0;34m=\u001b[0m \u001b[0mself\u001b[0m\u001b[0;34m.\u001b[0m\u001b[0m_try_get_data\u001b[0m\u001b[0;34m(\u001b[0m\u001b[0;34m)\u001b[0m\u001b[0;34m\u001b[0m\u001b[0;34m\u001b[0m\u001b[0m\n\u001b[0m\u001b[1;32m   1153\u001b[0m                 \u001b[0;32mif\u001b[0m \u001b[0msuccess\u001b[0m\u001b[0;34m:\u001b[0m\u001b[0;34m\u001b[0m\u001b[0;34m\u001b[0m\u001b[0m\n\u001b[1;32m   1154\u001b[0m                     \u001b[0;32mreturn\u001b[0m \u001b[0mdata\u001b[0m\u001b[0;34m\u001b[0m\u001b[0;34m\u001b[0m\u001b[0m\n",
      "\u001b[0;32m~/.conda/envs/img_processing/lib/python3.8/site-packages/torch/utils/data/dataloader.py\u001b[0m in \u001b[0;36m_try_get_data\u001b[0;34m(self, timeout)\u001b[0m\n\u001b[1;32m    988\u001b[0m         \u001b[0;31m#   (bool: whether successfully get data, any: data if successful else None)\u001b[0m\u001b[0;34m\u001b[0m\u001b[0;34m\u001b[0m\u001b[0;34m\u001b[0m\u001b[0m\n\u001b[1;32m    989\u001b[0m         \u001b[0;32mtry\u001b[0m\u001b[0;34m:\u001b[0m\u001b[0;34m\u001b[0m\u001b[0;34m\u001b[0m\u001b[0m\n\u001b[0;32m--> 990\u001b[0;31m             \u001b[0mdata\u001b[0m \u001b[0;34m=\u001b[0m \u001b[0mself\u001b[0m\u001b[0;34m.\u001b[0m\u001b[0m_data_queue\u001b[0m\u001b[0;34m.\u001b[0m\u001b[0mget\u001b[0m\u001b[0;34m(\u001b[0m\u001b[0mtimeout\u001b[0m\u001b[0;34m=\u001b[0m\u001b[0mtimeout\u001b[0m\u001b[0;34m)\u001b[0m\u001b[0;34m\u001b[0m\u001b[0;34m\u001b[0m\u001b[0m\n\u001b[0m\u001b[1;32m    991\u001b[0m             \u001b[0;32mreturn\u001b[0m \u001b[0;34m(\u001b[0m\u001b[0;32mTrue\u001b[0m\u001b[0;34m,\u001b[0m \u001b[0mdata\u001b[0m\u001b[0;34m)\u001b[0m\u001b[0;34m\u001b[0m\u001b[0;34m\u001b[0m\u001b[0m\n\u001b[1;32m    992\u001b[0m         \u001b[0;32mexcept\u001b[0m \u001b[0mException\u001b[0m \u001b[0;32mas\u001b[0m \u001b[0me\u001b[0m\u001b[0;34m:\u001b[0m\u001b[0;34m\u001b[0m\u001b[0;34m\u001b[0m\u001b[0m\n",
      "\u001b[0;32m~/.conda/envs/img_processing/lib/python3.8/multiprocessing/queues.py\u001b[0m in \u001b[0;36mget\u001b[0;34m(self, block, timeout)\u001b[0m\n\u001b[1;32m    105\u001b[0m                 \u001b[0;32mif\u001b[0m \u001b[0mblock\u001b[0m\u001b[0;34m:\u001b[0m\u001b[0;34m\u001b[0m\u001b[0;34m\u001b[0m\u001b[0m\n\u001b[1;32m    106\u001b[0m                     \u001b[0mtimeout\u001b[0m \u001b[0;34m=\u001b[0m \u001b[0mdeadline\u001b[0m \u001b[0;34m-\u001b[0m \u001b[0mtime\u001b[0m\u001b[0;34m.\u001b[0m\u001b[0mmonotonic\u001b[0m\u001b[0;34m(\u001b[0m\u001b[0;34m)\u001b[0m\u001b[0;34m\u001b[0m\u001b[0;34m\u001b[0m\u001b[0m\n\u001b[0;32m--> 107\u001b[0;31m                     \u001b[0;32mif\u001b[0m \u001b[0;32mnot\u001b[0m \u001b[0mself\u001b[0m\u001b[0;34m.\u001b[0m\u001b[0m_poll\u001b[0m\u001b[0;34m(\u001b[0m\u001b[0mtimeout\u001b[0m\u001b[0;34m)\u001b[0m\u001b[0;34m:\u001b[0m\u001b[0;34m\u001b[0m\u001b[0;34m\u001b[0m\u001b[0m\n\u001b[0m\u001b[1;32m    108\u001b[0m                         \u001b[0;32mraise\u001b[0m \u001b[0mEmpty\u001b[0m\u001b[0;34m\u001b[0m\u001b[0;34m\u001b[0m\u001b[0m\n\u001b[1;32m    109\u001b[0m                 \u001b[0;32melif\u001b[0m \u001b[0;32mnot\u001b[0m \u001b[0mself\u001b[0m\u001b[0;34m.\u001b[0m\u001b[0m_poll\u001b[0m\u001b[0;34m(\u001b[0m\u001b[0;34m)\u001b[0m\u001b[0;34m:\u001b[0m\u001b[0;34m\u001b[0m\u001b[0;34m\u001b[0m\u001b[0m\n",
      "\u001b[0;32m~/.conda/envs/img_processing/lib/python3.8/multiprocessing/connection.py\u001b[0m in \u001b[0;36mpoll\u001b[0;34m(self, timeout)\u001b[0m\n\u001b[1;32m    255\u001b[0m         \u001b[0mself\u001b[0m\u001b[0;34m.\u001b[0m\u001b[0m_check_closed\u001b[0m\u001b[0;34m(\u001b[0m\u001b[0;34m)\u001b[0m\u001b[0;34m\u001b[0m\u001b[0;34m\u001b[0m\u001b[0m\n\u001b[1;32m    256\u001b[0m         \u001b[0mself\u001b[0m\u001b[0;34m.\u001b[0m\u001b[0m_check_readable\u001b[0m\u001b[0;34m(\u001b[0m\u001b[0;34m)\u001b[0m\u001b[0;34m\u001b[0m\u001b[0;34m\u001b[0m\u001b[0m\n\u001b[0;32m--> 257\u001b[0;31m         \u001b[0;32mreturn\u001b[0m \u001b[0mself\u001b[0m\u001b[0;34m.\u001b[0m\u001b[0m_poll\u001b[0m\u001b[0;34m(\u001b[0m\u001b[0mtimeout\u001b[0m\u001b[0;34m)\u001b[0m\u001b[0;34m\u001b[0m\u001b[0;34m\u001b[0m\u001b[0m\n\u001b[0m\u001b[1;32m    258\u001b[0m \u001b[0;34m\u001b[0m\u001b[0m\n\u001b[1;32m    259\u001b[0m     \u001b[0;32mdef\u001b[0m \u001b[0m__enter__\u001b[0m\u001b[0;34m(\u001b[0m\u001b[0mself\u001b[0m\u001b[0;34m)\u001b[0m\u001b[0;34m:\u001b[0m\u001b[0;34m\u001b[0m\u001b[0;34m\u001b[0m\u001b[0m\n",
      "\u001b[0;32m~/.conda/envs/img_processing/lib/python3.8/multiprocessing/connection.py\u001b[0m in \u001b[0;36m_poll\u001b[0;34m(self, timeout)\u001b[0m\n\u001b[1;32m    422\u001b[0m \u001b[0;34m\u001b[0m\u001b[0m\n\u001b[1;32m    423\u001b[0m     \u001b[0;32mdef\u001b[0m \u001b[0m_poll\u001b[0m\u001b[0;34m(\u001b[0m\u001b[0mself\u001b[0m\u001b[0;34m,\u001b[0m \u001b[0mtimeout\u001b[0m\u001b[0;34m)\u001b[0m\u001b[0;34m:\u001b[0m\u001b[0;34m\u001b[0m\u001b[0;34m\u001b[0m\u001b[0m\n\u001b[0;32m--> 424\u001b[0;31m         \u001b[0mr\u001b[0m \u001b[0;34m=\u001b[0m \u001b[0mwait\u001b[0m\u001b[0;34m(\u001b[0m\u001b[0;34m[\u001b[0m\u001b[0mself\u001b[0m\u001b[0;34m]\u001b[0m\u001b[0;34m,\u001b[0m \u001b[0mtimeout\u001b[0m\u001b[0;34m)\u001b[0m\u001b[0;34m\u001b[0m\u001b[0;34m\u001b[0m\u001b[0m\n\u001b[0m\u001b[1;32m    425\u001b[0m         \u001b[0;32mreturn\u001b[0m \u001b[0mbool\u001b[0m\u001b[0;34m(\u001b[0m\u001b[0mr\u001b[0m\u001b[0;34m)\u001b[0m\u001b[0;34m\u001b[0m\u001b[0;34m\u001b[0m\u001b[0m\n\u001b[1;32m    426\u001b[0m \u001b[0;34m\u001b[0m\u001b[0m\n",
      "\u001b[0;32m~/.conda/envs/img_processing/lib/python3.8/multiprocessing/connection.py\u001b[0m in \u001b[0;36mwait\u001b[0;34m(object_list, timeout)\u001b[0m\n\u001b[1;32m    929\u001b[0m \u001b[0;34m\u001b[0m\u001b[0m\n\u001b[1;32m    930\u001b[0m             \u001b[0;32mwhile\u001b[0m \u001b[0;32mTrue\u001b[0m\u001b[0;34m:\u001b[0m\u001b[0;34m\u001b[0m\u001b[0;34m\u001b[0m\u001b[0m\n\u001b[0;32m--> 931\u001b[0;31m                 \u001b[0mready\u001b[0m \u001b[0;34m=\u001b[0m \u001b[0mselector\u001b[0m\u001b[0;34m.\u001b[0m\u001b[0mselect\u001b[0m\u001b[0;34m(\u001b[0m\u001b[0mtimeout\u001b[0m\u001b[0;34m)\u001b[0m\u001b[0;34m\u001b[0m\u001b[0;34m\u001b[0m\u001b[0m\n\u001b[0m\u001b[1;32m    932\u001b[0m                 \u001b[0;32mif\u001b[0m \u001b[0mready\u001b[0m\u001b[0;34m:\u001b[0m\u001b[0;34m\u001b[0m\u001b[0;34m\u001b[0m\u001b[0m\n\u001b[1;32m    933\u001b[0m                     \u001b[0;32mreturn\u001b[0m \u001b[0;34m[\u001b[0m\u001b[0mkey\u001b[0m\u001b[0;34m.\u001b[0m\u001b[0mfileobj\u001b[0m \u001b[0;32mfor\u001b[0m \u001b[0;34m(\u001b[0m\u001b[0mkey\u001b[0m\u001b[0;34m,\u001b[0m \u001b[0mevents\u001b[0m\u001b[0;34m)\u001b[0m \u001b[0;32min\u001b[0m \u001b[0mready\u001b[0m\u001b[0;34m]\u001b[0m\u001b[0;34m\u001b[0m\u001b[0;34m\u001b[0m\u001b[0m\n",
      "\u001b[0;32m~/.conda/envs/img_processing/lib/python3.8/selectors.py\u001b[0m in \u001b[0;36mselect\u001b[0;34m(self, timeout)\u001b[0m\n\u001b[1;32m    413\u001b[0m         \u001b[0mready\u001b[0m \u001b[0;34m=\u001b[0m \u001b[0;34m[\u001b[0m\u001b[0;34m]\u001b[0m\u001b[0;34m\u001b[0m\u001b[0;34m\u001b[0m\u001b[0m\n\u001b[1;32m    414\u001b[0m         \u001b[0;32mtry\u001b[0m\u001b[0;34m:\u001b[0m\u001b[0;34m\u001b[0m\u001b[0;34m\u001b[0m\u001b[0m\n\u001b[0;32m--> 415\u001b[0;31m             \u001b[0mfd_event_list\u001b[0m \u001b[0;34m=\u001b[0m \u001b[0mself\u001b[0m\u001b[0;34m.\u001b[0m\u001b[0m_selector\u001b[0m\u001b[0;34m.\u001b[0m\u001b[0mpoll\u001b[0m\u001b[0;34m(\u001b[0m\u001b[0mtimeout\u001b[0m\u001b[0;34m)\u001b[0m\u001b[0;34m\u001b[0m\u001b[0;34m\u001b[0m\u001b[0m\n\u001b[0m\u001b[1;32m    416\u001b[0m         \u001b[0;32mexcept\u001b[0m \u001b[0mInterruptedError\u001b[0m\u001b[0;34m:\u001b[0m\u001b[0;34m\u001b[0m\u001b[0;34m\u001b[0m\u001b[0m\n\u001b[1;32m    417\u001b[0m             \u001b[0;32mreturn\u001b[0m \u001b[0mready\u001b[0m\u001b[0;34m\u001b[0m\u001b[0;34m\u001b[0m\u001b[0m\n",
      "\u001b[0;31mKeyboardInterrupt\u001b[0m: "
     ]
    }
   ],
   "source": [
    "class MaskedNetwork(SimpleNetwork):\n",
    "    def __init__(self, input_size, mask_size, layers=[10]):\n",
    "        super().__init__(mask_size, layers=layers)\n",
    "        template = np.zeros(input_size)\n",
    "        mask = np.random.choice(len(template), mask_size, False)\n",
    "        template[mask] = 1\n",
    "        self.mask = torch.from_numpy(template).to(torch.bool)\n",
    "        \n",
    "    def forward(self, x):\n",
    "        data = x[:, self.mask]\n",
    "        return super().forward(data)\n",
    "\n",
    "masked_net = MaskedNetwork(784, 700)\n",
    "masked_net.mask = mask\n",
    "optimizer = torch.optim.Adam(masked_net.parameters(), lr=3e-4)\n",
    "train_net(masked_net, optimizer, 3)"
   ]
  },
  {
   "cell_type": "markdown",
   "id": "a41bc784-1d6c-48d7-b017-54ca8356e9a1",
   "metadata": {},
   "source": [
    "## Create simple network with insertable weights"
   ]
  },
  {
   "cell_type": "code",
   "execution_count": 30,
   "id": "b19746d7-e05e-422c-a1a6-677d2d8a152d",
   "metadata": {},
   "outputs": [],
   "source": [
    "flat_parameters = []\n",
    "for layer in net.parameters():\n",
    "    flat_parameters.extend(torch.flatten(layer).detach().numpy())\n",
    "    \n",
    "flat_parameters = torch.from_numpy(np.array(flat_parameters))"
   ]
  },
  {
   "cell_type": "code",
   "execution_count": 16,
   "id": "ae174f8f-e5e2-4756-be75-50fa2e0dc2e2",
   "metadata": {},
   "outputs": [],
   "source": [
    "import torch.nn.functional as F\n",
    "\n",
    "class InsertableNet(torch.nn.Module):\n",
    "    def __init__(self, weights, shape=[(784, 10), (10, 10)]):\n",
    "        super().__init__()\n",
    "        self.layers = []\n",
    "        self._offset = 0\n",
    "        \n",
    "        for layer in shape:\n",
    "            _w_size = layer[0]*layer[1]\n",
    "            _b_size = layer[1]\n",
    "            \n",
    "            _l = (weights[self._offset:self._offset+_w_size].reshape((layer[1], layer[0])),\n",
    "                  weights[self._offset+_w_size:self._offset+_w_size+_b_size])\n",
    "            self._offset += _w_size+_b_size\n",
    "\n",
    "            self.layers.append(_l)\n",
    "    \n",
    "    def forward(self, data):\n",
    "        out = data\n",
    "        for layer in self.layers[:-1]:\n",
    "            out = F.linear(out, layer[0], layer[1])\n",
    "            out = F.relu(out)\n",
    "\n",
    "        return F.linear(out, self.layers[-1][0], self.layers[-1][1])"
   ]
  },
  {
   "cell_type": "code",
   "execution_count": 17,
   "id": "ed18b7d6-f71f-4542-b244-f985aa030ed8",
   "metadata": {},
   "outputs": [
    {
     "ename": "NameError",
     "evalue": "name 'flat_parameters' is not defined",
     "output_type": "error",
     "traceback": [
      "\u001b[0;31m---------------------------------------------------------------------------\u001b[0m",
      "\u001b[0;31mNameError\u001b[0m                                 Traceback (most recent call last)",
      "Input \u001b[0;32mIn [17]\u001b[0m, in \u001b[0;36m<cell line: 1>\u001b[0;34m()\u001b[0m\n\u001b[0;32m----> 1\u001b[0m insert_net \u001b[38;5;241m=\u001b[39m InsertableNet(\u001b[43mflat_parameters\u001b[49m, shape\u001b[38;5;241m=\u001b[39m[(\u001b[38;5;241m784\u001b[39m, \u001b[38;5;241m100\u001b[39m), (\u001b[38;5;241m100\u001b[39m, \u001b[38;5;241m10\u001b[39m)])\n",
      "\u001b[0;31mNameError\u001b[0m: name 'flat_parameters' is not defined"
     ]
    }
   ],
   "source": [
    "insert_net = InsertableNet(flat_parameters, shape=[(784, 100), (100, 10)])"
   ]
  },
  {
   "cell_type": "code",
   "execution_count": 36,
   "id": "82225727-12c7-4da9-86b8-5d208f4f993b",
   "metadata": {},
   "outputs": [
    {
     "name": "stdout",
     "output_type": "stream",
     "text": [
      "Test acc: 97.92\n"
     ]
    }
   ],
   "source": [
    "correct = 0\n",
    "for data in testloader:\n",
    "    images, labels = data\n",
    "    outputs = insert_net(images)\n",
    "    _, predicted = torch.max(outputs.data, 1)\n",
    "    correct += (predicted == labels).sum().item()\n",
    "print(f\"Test acc: {correct/len(testset)*100}\")\n",
    "assert correct/len(testset)*100 == final_loss, correct/len(testset)*100"
   ]
  },
  {
   "cell_type": "markdown",
   "id": "cee06654-710e-4c65-8bf3-9910061f9707",
   "metadata": {},
   "source": [
    "## Create hypernet structure"
   ]
  },
  {
   "cell_type": "code",
   "execution_count": 241,
   "id": "e89589ab-6667-4362-9525-57315595c40d",
   "metadata": {},
   "outputs": [],
   "source": [
    "def partial_sum(data, mask, indices, splits):\n",
    "    reshape = data.shape[-1]//splits\n",
    "    \n",
    "    if len(data.shape)==2:\n",
    "        data = data[:, indices]\n",
    "    else:\n",
    "        data = data[indices]\n",
    "    data_reordered = data.reshape(-1, splits, reshape)\n",
    "    data_masked = data_reordered*F.softmax(mask.reshape(-1, reshape), dim=1)\n",
    "    return data_masked.sum(dim=2)"
   ]
  },
  {
   "cell_type": "code",
   "execution_count": 242,
   "id": "accb77db-96fc-4738-b925-762b365634c6",
   "metadata": {},
   "outputs": [
    {
     "data": {
      "text/plain": [
       "tensor([[2.0997, 3.3505, 2.0999]])"
      ]
     },
     "execution_count": 242,
     "metadata": {},
     "output_type": "execute_result"
    }
   ],
   "source": [
    "data = torch.tensor([[0, 1, 2, 3, 4, 5]])\n",
    "mask = torch.tensor([[0.1, 0.3, 0.4, 0.2, 0.1, 0.2]])\n",
    "indices = torch.tensor([[1, 3, 2, 5, 0, 4]])\n",
    "partial_sum(data, mask, indices, 3)"
   ]
  },
  {
   "cell_type": "code",
   "execution_count": 217,
   "id": "6eb71ab6-e54b-42ad-a4aa-814e9e8a9854",
   "metadata": {},
   "outputs": [],
   "source": [
    "import enum \n",
    "\n",
    "class TrainingModes(enum.Enum):\n",
    "    SLOW_STEP = \"slow-step\"\n",
    "    CARTHESIAN = \"carth\"\n",
    "    \n",
    "class Hypernetwork(torch.nn.Module):\n",
    "    def __init__(\n",
    "        self,\n",
    "        architecture=torch.nn.Sequential(torch.nn.Linear(784, 128), \n",
    "                        torch.nn.ReLU(),\n",
    "                        torch.nn.Linear(128, 64),\n",
    "                        torch.nn.ReLU(),\n",
    "                        torch.nn.Linear(64, 64)\n",
    "                       ),\n",
    "        target_architecture=[(20, 10), (10, 10)],\n",
    "        test_nodes=100,\n",
    "        mode=TrainingModes.SLOW_STEP,\n",
    "        device=\"cuda:0\",\n",
    "        trainable_masks=False,\n",
    "        coeff=0.5\n",
    "    ):\n",
    "        \"\"\" Initialize a hypernetwork.\n",
    "        Args:\n",
    "            target_inp_size - size of input\n",
    "            out_size - size of output\n",
    "            layers - list of hidden layer sizes\n",
    "            test_nodes - number of test nodes\n",
    "            device - device to use\n",
    "        \"\"\"\n",
    "        super().__init__()\n",
    "        self.target_outsize = target_architecture[-1][-1]\n",
    "        self.mask_size = target_architecture[0][0]\n",
    "        self.target_architecture = target_architecture\n",
    "        self.device = device\n",
    "        self.mode = mode\n",
    "        self.trainable_masks = trainable_masks\n",
    "\n",
    "        self.out_size = self.calculate_outdim(target_architecture)\n",
    "\n",
    "        self.model = architecture.to('cpu')\n",
    "        gen = self.model.parameters()\n",
    "        self.input_size = next(gen).size()[1]\n",
    "        out_dim = self.model(torch.rand(1, self.input_size)).shape\n",
    "        output_layer = torch.nn.Linear(out_dim[1], self.out_size)\n",
    "        self.model.add_module(\"output_layer\", output_layer)\n",
    "        self.model = self.model\n",
    "        \n",
    "        self.template = np.zeros(self.input_size)\n",
    "        self.test_nodes = test_nodes\n",
    "        \n",
    "        if self.trainable_masks:\n",
    "            mask, self.indices = self._create_mask(test_nodes)\n",
    "            self.register_parameter(name=\"test_mask\",\n",
    "                                    param=torch.nn.Parameter(mask*coeff, requires_grad=True))\n",
    "        else:\n",
    "            self.test_mask, self.indices = self._create_mask(test_nodes)\n",
    "\n",
    "        self._retrained = True\n",
    "        self._test_nets = None\n",
    "        self.to(device)\n",
    "        \n",
    "    def calculate_outdim(self, architecture):\n",
    "        weights = 0\n",
    "        for layer in architecture:\n",
    "            weights += layer[0]*layer[1]+layer[1]\n",
    "        return weights\n",
    "\n",
    "    def to(self, device):\n",
    "        super().to(device)\n",
    "        self.device = device\n",
    "        if not self.trainable_masks:\n",
    "            self.test_mask = self.test_mask.to(device)\n",
    "        self.model = self.model.to(device)\n",
    "        return self\n",
    "\n",
    "    def _slow_step_training(self, data, mask, indices):\n",
    "        weights = self.craft_network(mask[:1])\n",
    "        mask = self._cast_masks(mask)[0]\n",
    "        index = indices[0]\n",
    "        \n",
    "        nn = InsertableNet(\n",
    "            weights[0],\n",
    "            self.target_architecture,\n",
    "        )\n",
    "        \n",
    "        masked_data = partial_sum(data, mask, index, self.mask_size)\n",
    "        res = nn(masked_data)\n",
    "        return res\n",
    "\n",
    "    def _external_mask_training(self, data, mask, indices):\n",
    "        recalculate = [True] * len(mask)\n",
    "        for i in range(1, len(mask)):\n",
    "            if torch.equal(mask[i - 1], mask[i]):\n",
    "                recalculate[i] = False\n",
    "                \n",
    "        weights = self.craft_network(mask)\n",
    "\n",
    "        res = torch.zeros((len(data), self.target_outsize)).to(self.device)\n",
    "        for i in range(len(data)):\n",
    "            if recalculate[i]:\n",
    "                nn = InsertableNet(\n",
    "                    weights[i],\n",
    "                    self.target_architecture,\n",
    "                )\n",
    "            masked_data = partial_sum(data[i], mask[i], self.indices[i], self.mask_size)\n",
    "            res[i] = nn(masked_data)\n",
    "        return res\n",
    "\n",
    "    def forward(self, data, mask=None, indices=None):\n",
    "        \"\"\"Get a hypernet prediction.\n",
    "        During training we use a single target network per sample.\n",
    "        During eval, we create a network for each test mask and average their results\n",
    "\n",
    "        Args:\n",
    "            data - prediction input\n",
    "            mask - either None or a torch.tensor((data.shape[0], data.shape[1])).\n",
    "        \"\"\"\n",
    "        if self.training:\n",
    "            self._retrained = True\n",
    "            if self.mode == TrainingModes.SLOW_STEP or self.mode == TrainingModes.CARTHESIAN:\n",
    "                return self._slow_step_training(data, mask, indices)\n",
    "\n",
    "            if mask is None and not self.trainable_masks:\n",
    "                mask, indices = self._create_mask(len(data))\n",
    "\n",
    "            return self._external_mask_training(data, mask, indices)\n",
    "        else:\n",
    "            return self._ensemble_inference(data, mask, indices)\n",
    "\n",
    "    def _ensemble_inference(self, data, mask):\n",
    "        if mask is None:\n",
    "            mask = self.test_mask\n",
    "            nets = self._get_test_nets()\n",
    "        else:\n",
    "            nets = self.__craft_nets(mask)\n",
    "\n",
    "        mask = self._cast_masks(mask)\n",
    "\n",
    "        res = torch.zeros((len(data), self.target_outsize)).to(self.device)\n",
    "        for i in range(len(mask)):\n",
    "            nn = nets[i]\n",
    "            masked_data = data[:, mask[i]]\n",
    "            res += nn(masked_data)\n",
    "        res /= len(mask)\n",
    "        return res\n",
    "\n",
    "    def _get_test_nets(self):\n",
    "        if self._retrained:\n",
    "            nets = self.__craft_nets(self.test_mask)\n",
    "            self._test_nets = nets\n",
    "            self._retrained = False\n",
    "        return self._test_nets\n",
    "\n",
    "    def __craft_nets(self, mask):\n",
    "        nets = []\n",
    "        weights = self.craft_network(mask.to(torch.float32))\n",
    "        for i in range(len(mask)):\n",
    "            nn = InsertableNet(\n",
    "                weights[i],\n",
    "                self.target_architecture,\n",
    "            )\n",
    "            nets.append(nn)\n",
    "        return nets\n",
    "\n",
    "    @staticmethod\n",
    "    def random_choice_noreplace2(l, n_sample, num_draw):\n",
    "        '''\n",
    "        l: 1-D array or list\n",
    "        n_sample: sample size for each draw\n",
    "        num_draw: number of draws\n",
    "\n",
    "        Intuition: Randomly generate numbers, get the index of the smallest n_sample number for each row.\n",
    "        '''\n",
    "        l = np.array(l)\n",
    "        return l[np.argpartition(np.random.rand(num_draw,len(l)), n_sample-1,axis=-1)[:,:n_sample]]\n",
    "    \n",
    "    def _create_mask(self, count):\n",
    "        masks = torch.rand(count, self.input_size)\n",
    "        indices = torch.argsort(torch.rand(*masks.shape), dim=-1)\n",
    "        return masks, indices\n",
    "\n",
    "    def _ind_to_mask(self, indices):\n",
    "        tmp = np.array([self.template.copy() for _ in range(len(indices))])\n",
    "        for i, ind in enumerate(indices):\n",
    "            tmp[i, ind] = 1\n",
    "        mask = torch.from_numpy(tmp).to(torch.float32).to(self.device)\n",
    "        return mask\n",
    "\n",
    "    def craft_network(self, mask):\n",
    "        out = self.model(mask)\n",
    "        return out\n",
    "    \n",
    "    def _cast_masks(self, masks):\n",
    "        if self.trainable_masks:\n",
    "            ind = torch.topk(masks, self.mask_size, 1)[1].cpu().detach().numpy()\n",
    "            masks = self._ind_to_mask(ind)\n",
    "        \n",
    "        return masks.to(torch.bool)"
   ]
  },
  {
   "cell_type": "code",
   "execution_count": 218,
   "id": "12e73bfa-254c-4d7a-881d-96db135f7f3d",
   "metadata": {},
   "outputs": [
    {
     "data": {
      "text/plain": [
       "torch.Size([100, 784])"
      ]
     },
     "execution_count": 218,
     "metadata": {},
     "output_type": "execute_result"
    }
   ],
   "source": [
    "hypernet.indices.shape"
   ]
  },
  {
   "cell_type": "code",
   "execution_count": 219,
   "id": "e1487ddb-feda-4af3-8e49-b748268a127e",
   "metadata": {},
   "outputs": [],
   "source": [
    "from torchsummary import summary"
   ]
  },
  {
   "cell_type": "code",
   "execution_count": 228,
   "id": "998d8895-a202-4a46-a7d0-025f46a0942d",
   "metadata": {},
   "outputs": [],
   "source": [
    "# hypernet = Hypernetwork(mask_size=700, mode=\"regular\").to(\"cpu\")\n",
    "hypernet = Hypernetwork(\n",
    "    architecture=torch.nn.Sequential(torch.nn.Linear(784, 64), \n",
    "                        torch.nn.ReLU(),\n",
    "                        torch.nn.Linear(64, 256),\n",
    "                        torch.nn.ReLU(),\n",
    "                        torch.nn.Dropout(),\n",
    "                        torch.nn.Linear(256, 128),\n",
    "                        torch.nn.ReLU()\n",
    "                       ),\n",
    "    mode=None,\n",
    "    target_architecture=[(784//8, 20), (20, 10)]).to(\"cpu\")"
   ]
  },
  {
   "cell_type": "code",
   "execution_count": 229,
   "id": "dc294ff4-8e93-4fc1-9b5b-28b4c9e1bf51",
   "metadata": {},
   "outputs": [
    {
     "data": {
      "text/plain": [
       "Parameter containing:\n",
       "tensor([[-0.0103,  0.0248,  0.0256,  ...,  0.0216,  0.0340, -0.0142],\n",
       "        [-0.0270,  0.0268,  0.0045,  ..., -0.0194,  0.0289, -0.0133],\n",
       "        [-0.0293, -0.0238,  0.0297,  ...,  0.0040, -0.0213,  0.0059],\n",
       "        ...,\n",
       "        [ 0.0139, -0.0062,  0.0119,  ...,  0.0297,  0.0119, -0.0293],\n",
       "        [-0.0182, -0.0197, -0.0031,  ...,  0.0198,  0.0351, -0.0142],\n",
       "        [-0.0333, -0.0222,  0.0192,  ...,  0.0190, -0.0038, -0.0200]],\n",
       "       requires_grad=True)"
      ]
     },
     "execution_count": 229,
     "metadata": {},
     "output_type": "execute_result"
    }
   ],
   "source": [
    "list(hypernet.parameters())[0]"
   ]
  },
  {
   "cell_type": "code",
   "execution_count": 230,
   "id": "0c09bb25-6567-4c46-aa83-06b8fae32dac",
   "metadata": {},
   "outputs": [
    {
     "name": "stdout",
     "output_type": "stream",
     "text": [
      "----------------------------------------------------------------\n",
      "        Layer (type)               Output Shape         Param #\n",
      "================================================================\n",
      "            Linear-1                    [5, 64]          50,240\n",
      "              ReLU-2                    [5, 64]               0\n",
      "            Linear-3                   [5, 256]          16,640\n",
      "              ReLU-4                   [5, 256]               0\n",
      "           Dropout-5                   [5, 256]               0\n",
      "            Linear-6                   [5, 128]          32,896\n",
      "              ReLU-7                   [5, 128]               0\n",
      "            Linear-8                  [5, 2190]         282,510\n",
      "================================================================\n",
      "Total params: 382,286\n",
      "Trainable params: 382,286\n",
      "Non-trainable params: 0\n",
      "----------------------------------------------------------------\n",
      "Input size (MB): 0.01\n",
      "Forward/backward pass size (MB): 0.13\n",
      "Params size (MB): 1.46\n",
      "Estimated Total Size (MB): 1.60\n",
      "----------------------------------------------------------------\n"
     ]
    }
   ],
   "source": [
    "summary(hypernet, (784, ), batch_size=5, device='cpu')"
   ]
  },
  {
   "cell_type": "code",
   "execution_count": 233,
   "id": "a153071b-6935-4782-998e-b44577049f04",
   "metadata": {},
   "outputs": [
    {
     "data": {
      "text/plain": [
       "tensor([[0.6286, 0.7059, 0.1138,  ..., 0.2786, 0.3919, 0.9425],\n",
       "        [0.5904, 0.2115, 0.7692,  ..., 0.9993, 0.1279, 0.9381],\n",
       "        [0.3648, 0.6093, 0.9203,  ..., 0.9763, 0.6816, 0.6718],\n",
       "        ...,\n",
       "        [0.7971, 0.0202, 0.2039,  ..., 0.3911, 0.2439, 0.5920],\n",
       "        [0.7183, 0.7228, 0.0208,  ..., 0.7715, 0.9373, 0.2949],\n",
       "        [0.2341, 0.6303, 0.3179,  ..., 0.5540, 0.3475, 0.8039]])"
      ]
     },
     "execution_count": 233,
     "metadata": {},
     "output_type": "execute_result"
    }
   ],
   "source": [
    "hypernet.test_mask"
   ]
  },
  {
   "cell_type": "code",
   "execution_count": 232,
   "id": "cc44c4d2-3878-4407-985b-43b08854dbb9",
   "metadata": {
    "tags": []
   },
   "outputs": [
    {
     "name": "stdout",
     "output_type": "stream",
     "text": [
      "[1,     0] loss: 0.023 acc: 6.250%\n",
      "[1,   100] loss: 2.154 acc: 20.578%\n",
      "[1,   200] loss: 2.102 acc: 22.125%\n",
      "[1,   300] loss: 2.058 acc: 24.266%\n",
      "[1,   400] loss: 2.050 acc: 24.703%\n",
      "[1,   500] loss: 2.044 acc: 24.406%\n",
      "[1,   600] loss: 2.031 acc: 26.344%\n",
      "[1,   700] loss: 2.028 acc: 26.016%\n",
      "[1,   800] loss: 2.002 acc: 26.234%\n",
      "[1,   900] loss: 1.989 acc: 28.031%\n"
     ]
    },
    {
     "ename": "TypeError",
     "evalue": "_ensemble_inference() takes 3 positional arguments but 4 were given",
     "output_type": "error",
     "traceback": [
      "\u001b[0;31m---------------------------------------------------------------------------\u001b[0m",
      "\u001b[0;31mTypeError\u001b[0m                                 Traceback (most recent call last)",
      "Input \u001b[0;32mIn [232]\u001b[0m, in \u001b[0;36m<cell line: 3>\u001b[0;34m()\u001b[0m\n\u001b[1;32m      1\u001b[0m optimizer \u001b[38;5;241m=\u001b[39m torch\u001b[38;5;241m.\u001b[39moptim\u001b[38;5;241m.\u001b[39mAdam(hypernet\u001b[38;5;241m.\u001b[39mparameters(), lr\u001b[38;5;241m=\u001b[39m\u001b[38;5;241m3e-4\u001b[39m)\n\u001b[1;32m      2\u001b[0m criterion \u001b[38;5;241m=\u001b[39m torch\u001b[38;5;241m.\u001b[39mnn\u001b[38;5;241m.\u001b[39mCrossEntropyLoss()\n\u001b[0;32m----> 3\u001b[0m \u001b[43mtrain_net\u001b[49m\u001b[43m(\u001b[49m\u001b[43mhypernet\u001b[49m\u001b[43m,\u001b[49m\u001b[43m \u001b[49m\u001b[43moptimizer\u001b[49m\u001b[43m,\u001b[49m\u001b[43m \u001b[49m\u001b[38;5;241;43m1\u001b[39;49m\u001b[43m,\u001b[49m\u001b[43m \u001b[49m\u001b[43mverbose\u001b[49m\u001b[38;5;241;43m=\u001b[39;49m\u001b[38;5;28;43;01mTrue\u001b[39;49;00m\u001b[43m)\u001b[49m\n",
      "Input \u001b[0;32mIn [9]\u001b[0m, in \u001b[0;36mtrain_net\u001b[0;34m(net, optimizer, epochs, verbose)\u001b[0m\n\u001b[1;32m     31\u001b[0m \u001b[38;5;28;01mfor\u001b[39;00m i, data \u001b[38;5;129;01min\u001b[39;00m \u001b[38;5;28menumerate\u001b[39m(testloader):\n\u001b[1;32m     32\u001b[0m     images, labels \u001b[38;5;241m=\u001b[39m data\n\u001b[0;32m---> 33\u001b[0m     outputs \u001b[38;5;241m=\u001b[39m \u001b[43mnet\u001b[49m\u001b[43m(\u001b[49m\u001b[43mimages\u001b[49m\u001b[43m)\u001b[49m\n\u001b[1;32m     34\u001b[0m     _, predicted \u001b[38;5;241m=\u001b[39m torch\u001b[38;5;241m.\u001b[39mmax(outputs\u001b[38;5;241m.\u001b[39mdata, \u001b[38;5;241m1\u001b[39m)\n\u001b[1;32m     35\u001b[0m     correct \u001b[38;5;241m+\u001b[39m\u001b[38;5;241m=\u001b[39m (predicted \u001b[38;5;241m==\u001b[39m labels)\u001b[38;5;241m.\u001b[39msum()\u001b[38;5;241m.\u001b[39mitem()\n",
      "File \u001b[0;32m~/external/miniconda3/envs/img_processing/lib/python3.8/site-packages/torch/nn/modules/module.py:1130\u001b[0m, in \u001b[0;36mModule._call_impl\u001b[0;34m(self, *input, **kwargs)\u001b[0m\n\u001b[1;32m   1126\u001b[0m \u001b[38;5;66;03m# If we don't have any hooks, we want to skip the rest of the logic in\u001b[39;00m\n\u001b[1;32m   1127\u001b[0m \u001b[38;5;66;03m# this function, and just call forward.\u001b[39;00m\n\u001b[1;32m   1128\u001b[0m \u001b[38;5;28;01mif\u001b[39;00m \u001b[38;5;129;01mnot\u001b[39;00m (\u001b[38;5;28mself\u001b[39m\u001b[38;5;241m.\u001b[39m_backward_hooks \u001b[38;5;129;01mor\u001b[39;00m \u001b[38;5;28mself\u001b[39m\u001b[38;5;241m.\u001b[39m_forward_hooks \u001b[38;5;129;01mor\u001b[39;00m \u001b[38;5;28mself\u001b[39m\u001b[38;5;241m.\u001b[39m_forward_pre_hooks \u001b[38;5;129;01mor\u001b[39;00m _global_backward_hooks\n\u001b[1;32m   1129\u001b[0m         \u001b[38;5;129;01mor\u001b[39;00m _global_forward_hooks \u001b[38;5;129;01mor\u001b[39;00m _global_forward_pre_hooks):\n\u001b[0;32m-> 1130\u001b[0m     \u001b[38;5;28;01mreturn\u001b[39;00m \u001b[43mforward_call\u001b[49m\u001b[43m(\u001b[49m\u001b[38;5;241;43m*\u001b[39;49m\u001b[38;5;28;43minput\u001b[39;49m\u001b[43m,\u001b[49m\u001b[43m \u001b[49m\u001b[38;5;241;43m*\u001b[39;49m\u001b[38;5;241;43m*\u001b[39;49m\u001b[43mkwargs\u001b[49m\u001b[43m)\u001b[49m\n\u001b[1;32m   1131\u001b[0m \u001b[38;5;66;03m# Do not call functions when jit is used\u001b[39;00m\n\u001b[1;32m   1132\u001b[0m full_backward_hooks, non_full_backward_hooks \u001b[38;5;241m=\u001b[39m [], []\n",
      "Input \u001b[0;32mIn [217]\u001b[0m, in \u001b[0;36mHypernetwork.forward\u001b[0;34m(self, data, mask, indices)\u001b[0m\n\u001b[1;32m    127\u001b[0m     \u001b[38;5;28;01mreturn\u001b[39;00m \u001b[38;5;28mself\u001b[39m\u001b[38;5;241m.\u001b[39m_external_mask_training(data, mask, indices)\n\u001b[1;32m    128\u001b[0m \u001b[38;5;28;01melse\u001b[39;00m:\n\u001b[0;32m--> 129\u001b[0m     \u001b[38;5;28;01mreturn\u001b[39;00m \u001b[38;5;28;43mself\u001b[39;49m\u001b[38;5;241;43m.\u001b[39;49m\u001b[43m_ensemble_inference\u001b[49m\u001b[43m(\u001b[49m\u001b[43mdata\u001b[49m\u001b[43m,\u001b[49m\u001b[43m \u001b[49m\u001b[43mmask\u001b[49m\u001b[43m,\u001b[49m\u001b[43m \u001b[49m\u001b[43mindices\u001b[49m\u001b[43m)\u001b[49m\n",
      "\u001b[0;31mTypeError\u001b[0m: _ensemble_inference() takes 3 positional arguments but 4 were given"
     ]
    }
   ],
   "source": [
    "optimizer = torch.optim.Adam(hypernet.parameters(), lr=3e-4)\n",
    "criterion = torch.nn.CrossEntropyLoss()\n",
    "train_net(hypernet, optimizer, 1, verbose=True);"
   ]
  },
  {
   "cell_type": "code",
   "execution_count": 20,
   "id": "bf3bf079-e158-41fc-b66e-246f441d0192",
   "metadata": {},
   "outputs": [
    {
     "data": {
      "text/plain": [
       "Parameter containing:\n",
       "tensor([[ 0.0214,  0.0204, -0.0131,  ...,  0.0084,  0.0010,  0.0335],\n",
       "        [ 0.0088,  0.0156, -0.0109,  ..., -0.0034,  0.0122, -0.0194],\n",
       "        [ 0.0281, -0.0366, -0.0069,  ...,  0.0239,  0.0160, -0.0212],\n",
       "        ...,\n",
       "        [-0.0139,  0.0052,  0.0176,  ...,  0.0258,  0.0222,  0.0100],\n",
       "        [-0.0061, -0.0216, -0.0269,  ..., -0.0178,  0.0164,  0.0130],\n",
       "        [ 0.0086, -0.0051, -0.0328,  ..., -0.0327, -0.0253,  0.0268]],\n",
       "       requires_grad=True)"
      ]
     },
     "execution_count": 20,
     "metadata": {},
     "output_type": "execute_result"
    }
   ],
   "source": [
    "list(hypernet.parameters())[0]"
   ]
  },
  {
   "cell_type": "markdown",
   "id": "19e53dae-57a5-455d-8645-3119fd4873fd",
   "metadata": {},
   "source": [
    "## Conclusion\n",
    "The network is able to train, so everything is working as expected. Now, we can focus on the raw score optimization."
   ]
  }
 ],
 "metadata": {
  "kernelspec": {
   "display_name": "Python 3 (ipykernel)",
   "language": "python",
   "name": "python3"
  },
  "language_info": {
   "codemirror_mode": {
    "name": "ipython",
    "version": 3
   },
   "file_extension": ".py",
   "mimetype": "text/x-python",
   "name": "python",
   "nbconvert_exporter": "python",
   "pygments_lexer": "ipython3",
   "version": "3.8.13"
  }
 },
 "nbformat": 4,
 "nbformat_minor": 5
}
