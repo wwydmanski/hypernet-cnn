{
 "cells": [
  {
   "cell_type": "code",
   "execution_count": 1,
   "id": "2fdadf44-450a-4006-ac5a-bed9840409f6",
   "metadata": {},
   "outputs": [],
   "source": [
    "import torch\n",
    "import pandas as pd\n",
    "import numpy as np\n",
    "from sklearn.metrics import roc_auc_score, f1_score, precision_score, recall_score, balanced_accuracy_score\n",
    "from sklearn.model_selection import GridSearchCV, RandomizedSearchCV\n",
    "import imblearn\n",
    "from sklearn.preprocessing import LabelEncoder, StandardScaler\n",
    "from sklearn.model_selection import train_test_split\n",
    "from collections import defaultdict\n",
    "from tqdm import trange\n",
    "import seaborn as sns\n",
    "import os\n",
    "import matplotlib.pyplot as plt\n",
    "from io import BytesIO\n",
    "import base64\n",
    "import sklearn\n",
    "import time\n",
    "import datetime\n",
    "import random\n",
    "\n",
    "plt.style.use(\"seaborn\")\n",
    "torch.set_default_dtype(torch.float32)"
   ]
  },
  {
   "cell_type": "code",
   "execution_count": 2,
   "id": "3085114d-cf61-4625-97c5-10f34c00d335",
   "metadata": {},
   "outputs": [],
   "source": [
    "from comet_ml import Experiment, Optimizer"
   ]
  },
  {
   "cell_type": "code",
   "execution_count": 3,
   "id": "6c014884",
   "metadata": {},
   "outputs": [],
   "source": [
    "import pyhopper"
   ]
  },
  {
   "cell_type": "code",
   "execution_count": 4,
   "id": "111d13bb",
   "metadata": {},
   "outputs": [
    {
     "data": {
      "text/plain": [
       "1"
      ]
     },
     "execution_count": 4,
     "metadata": {},
     "output_type": "execute_result"
    }
   ],
   "source": [
    "from loguru import logger\n",
    "\n",
    "logger.add(\"log.txt\", format='{time:YYYY-MM-DD HH:mm:ss.SSS} | {message}')"
   ]
  },
  {
   "cell_type": "code",
   "execution_count": 5,
   "id": "24fe4075",
   "metadata": {},
   "outputs": [],
   "source": [
    "from hypertab_benchmark_utils import *"
   ]
  },
  {
   "cell_type": "code",
   "execution_count": null,
   "id": "48c7c818",
   "metadata": {},
   "outputs": [],
   "source": []
  },
  {
   "cell_type": "markdown",
   "id": "62dfe7eb",
   "metadata": {},
   "source": [
    "# GLOBALS"
   ]
  },
  {
   "cell_type": "code",
   "execution_count": 6,
   "id": "04d1ae25-987c-4043-9771-829c928723de",
   "metadata": {},
   "outputs": [],
   "source": [
    "# DEVICE=\"cuda:0\"\n",
    "# TEST_RUN = False\n",
    "# DATA = \"Hill-Valley-with-noise\""
   ]
  },
  {
   "cell_type": "code",
   "execution_count": 7,
   "id": "81b884da",
   "metadata": {},
   "outputs": [],
   "source": [
    "GS_METRIC = \"balanced_accuracy\""
   ]
  },
  {
   "cell_type": "code",
   "execution_count": 8,
   "id": "81672aaa",
   "metadata": {},
   "outputs": [],
   "source": [
    "SEED = 42"
   ]
  },
  {
   "cell_type": "code",
   "execution_count": 9,
   "id": "7ac08b32",
   "metadata": {},
   "outputs": [],
   "source": [
    "\n",
    "os.environ[\"HYPERTAB_TEST_RUN\"] = str(TEST_RUN)"
   ]
  },
  {
   "cell_type": "code",
   "execution_count": 10,
   "id": "3b8f8a6d",
   "metadata": {},
   "outputs": [],
   "source": [
    "TIME_BUDGET = \"30m\""
   ]
  },
  {
   "cell_type": "code",
   "execution_count": 11,
   "id": "2d709262",
   "metadata": {},
   "outputs": [],
   "source": []
  },
  {
   "cell_type": "code",
   "execution_count": null,
   "id": "3611650a",
   "metadata": {},
   "outputs": [],
   "source": []
  },
  {
   "cell_type": "code",
   "execution_count": null,
   "id": "ed004832",
   "metadata": {},
   "outputs": [],
   "source": [
    "FILE_NAME = f\"{DATA}_uci3_metrics_{str(time.time())}.csv\""
   ]
  },
  {
   "cell_type": "markdown",
   "id": "82db70f7",
   "metadata": {},
   "source": [
    "# Load data"
   ]
  },
  {
   "cell_type": "code",
   "execution_count": 12,
   "id": "dc257b78",
   "metadata": {},
   "outputs": [],
   "source": [
    "set_seed(SEED)"
   ]
  },
  {
   "cell_type": "code",
   "execution_count": 13,
   "id": "5d27dee4",
   "metadata": {},
   "outputs": [
    {
     "name": "stdout",
     "output_type": "stream",
     "text": [
      "train (606, 100) 2\n",
      "test (606, 100) 2\n"
     ]
    }
   ],
   "source": [
    "_X, _y = get_data(DATA)"
   ]
  },
  {
   "cell_type": "code",
   "execution_count": 14,
   "id": "c79baf7c",
   "metadata": {},
   "outputs": [
    {
     "name": "stdout",
     "output_type": "stream",
     "text": [
      "n_classes 2\n",
      "n_features 100\n"
     ]
    }
   ],
   "source": [
    "n_classes = get_n_classes(_X, _y)\n",
    "n_features = get_n_features(_X, _y)"
   ]
  },
  {
   "cell_type": "code",
   "execution_count": 15,
   "id": "b4eda59d",
   "metadata": {},
   "outputs": [
    {
     "name": "stdout",
     "output_type": "stream",
     "text": [
      "class counts {0: 606, 1: 606}\n"
     ]
    },
    {
     "data": {
      "text/plain": [
       "{0: 606, 1: 606}"
      ]
     },
     "execution_count": 15,
     "metadata": {},
     "output_type": "execute_result"
    }
   ],
   "source": [
    "get_each_class_counts(_X, _y)"
   ]
  },
  {
   "cell_type": "markdown",
   "id": "ecfe6b35",
   "metadata": {},
   "source": [
    "# Split"
   ]
  },
  {
   "cell_type": "code",
   "execution_count": 16,
   "id": "260dcd4c",
   "metadata": {},
   "outputs": [],
   "source": [
    "X_train, X_test, y_train, y_test = initial_split(_X, _y)\n",
    "\n",
    "X = X_train, X_test\n",
    "y = y_train, y_test"
   ]
  },
  {
   "cell_type": "code",
   "execution_count": 17,
   "id": "414d09a7",
   "metadata": {},
   "outputs": [
    {
     "name": "stdout",
     "output_type": "stream",
     "text": [
      "n_classes 2\n",
      "n_features 100\n"
     ]
    }
   ],
   "source": [
    "n_classes = get_n_classes(X_train, y_train)\n",
    "n_features = get_n_features(X_train, y_train)"
   ]
  },
  {
   "cell_type": "code",
   "execution_count": 18,
   "id": "ea2e111e",
   "metadata": {},
   "outputs": [
    {
     "name": "stdout",
     "output_type": "stream",
     "text": [
      "class counts {0: 307, 1: 299}\n"
     ]
    },
    {
     "data": {
      "text/plain": [
       "{0: 307, 1: 299}"
      ]
     },
     "execution_count": 18,
     "metadata": {},
     "output_type": "execute_result"
    }
   ],
   "source": [
    "get_each_class_counts(X_train, y_train)"
   ]
  },
  {
   "cell_type": "code",
   "execution_count": 19,
   "id": "09a65a46",
   "metadata": {},
   "outputs": [
    {
     "name": "stdout",
     "output_type": "stream",
     "text": [
      "eval_max_size 606\n",
      "train_max_size 454\n"
     ]
    }
   ],
   "source": [
    "eval_train_max_size, train_max_size = get_eval_and_benchmark_size(X_train=X_train)"
   ]
  },
  {
   "cell_type": "markdown",
   "id": "20f51db3",
   "metadata": {},
   "source": [
    "# TRAIN MODELS"
   ]
  },
  {
   "cell_type": "markdown",
   "id": "68d707a0",
   "metadata": {},
   "source": [
    "## Common hyperparams"
   ]
  },
  {
   "cell_type": "code",
   "execution_count": 20,
   "id": "f433c98e",
   "metadata": {},
   "outputs": [
    {
     "name": "stdout",
     "output_type": "stream",
     "text": [
      "_mask_sizes [2, 10, 25, 50, 70, 90]\n"
     ]
    }
   ],
   "source": [
    "_mask_sizes = [int(n_features*0.1), int(n_features*0.25), int(n_features*0.5), int(n_features*0.7), int(n_features*0.9)]\n",
    "if 2 not in _mask_sizes:\n",
    "    _mask_sizes.insert(0, 2)\n",
    "    \n",
    "print('_mask_sizes', _mask_sizes)\n",
    "\n",
    "class CommonHyperparams:\n",
    "    lr = pyhopper.choice([3e-5, 3e-4, 3e-3, 3e-2, 3e-1])\n",
    "    batch_size = pyhopper.choice([32, 64, 128])\n",
    "    ht_mask_size = pyhopper.choice(_mask_sizes)\n",
    "    ht_target_size = pyhopper.choice([5, 10, 20, 50])\n",
    "    ht_mask_no = pyhopper.choice([5, 10, 50, 100, 150, 200, 300])\n",
    "    ht_epochs = pyhopper.choice([100, 200])\n",
    "    ht_first_hidden = pyhopper.choice([32, 64, 256, 512])\n",
    "    "
   ]
  },
  {
   "cell_type": "markdown",
   "id": "c37e4297",
   "metadata": {},
   "source": [
    " "
   ]
  },
  {
   "cell_type": "code",
   "execution_count": null,
   "id": "11d696b0-f5b6-4508-9fff-5166fad29e9a",
   "metadata": {},
   "outputs": [],
   "source": []
  },
  {
   "cell_type": "markdown",
   "id": "bff430c9",
   "metadata": {},
   "source": []
  },
  {
   "cell_type": "markdown",
   "id": "8a07118d",
   "metadata": {},
   "source": [
    "# GPU"
   ]
  },
  {
   "cell_type": "markdown",
   "id": "c61f6487",
   "metadata": {},
   "source": [
    " "
   ]
  },
  {
   "cell_type": "markdown",
   "id": "753c2e4d-aca4-4eb1-b3ea-a1926fd44efe",
   "metadata": {},
   "source": [
    "## Dropout Neural network"
   ]
  },
  {
   "cell_type": "markdown",
   "id": "64652732",
   "metadata": {},
   "source": [
    "#### Find Hyperparams"
   ]
  },
  {
   "cell_type": "markdown",
   "id": "256e43a3",
   "metadata": {},
   "source": [
    "### Dropout 1 layer"
   ]
  },
  {
   "cell_type": "code",
   "execution_count": 24,
   "id": "946f0004",
   "metadata": {},
   "outputs": [],
   "source": [
    "set_seed(SEED)\n",
    "\n",
    "network_fn1=get_parametrized_dropout_net1(DEVICE=DEVICE, n_features=n_features, n_classes=n_classes)"
   ]
  },
  {
   "cell_type": "code",
   "execution_count": 25,
   "id": "41850a57",
   "metadata": {},
   "outputs": [
    {
     "name": "stdout",
     "output_type": "stream",
     "text": [
      "THIS IS TEST RUN\n",
      "| DEVICE: cpu\n",
      "| model_fn network_fn1\n",
      "\n",
      "pyhopper X.shape: (606, 100) y.shape: (606,) train_size: 454\n"
     ]
    },
    {
     "data": {
      "application/vnd.jupyter.widget-view+json": {
       "model_id": "acc45cd8b4614aa69d9b35a70f511814",
       "version_major": 2,
       "version_minor": 0
      },
      "text/plain": [
       "  0%|          | [00:00<?]"
      ]
     },
     "metadata": {},
     "output_type": "display_data"
    },
    {
     "name": "stdout",
     "output_type": "stream",
     "text": [
      "Search is scheduled for 01:00 (m:s)\n",
      "params {'epochs': 10, 'lr': 3e-05, 'batch_size': 32, 'drop1': 0.3, 'drop2': 0.3}\n",
      "iter 1 of 1 X_train shape torch.Size([454, 100])\n",
      "params {'epochs': 10, 'lr': 0.3, 'batch_size': 64, 'drop1': 0.7, 'drop2': 0.7}\n",
      "iter 1 of 1 X_train shape torch.Size([454, 100])\n"
     ]
    },
    {
     "name": "stderr",
     "output_type": "stream",
     "text": [
      "/home/z1157095/anaconda3/envs/hyper-mnist/lib/python3.9/site-packages/sklearn/metrics/_classification.py:1344: UndefinedMetricWarning: Precision is ill-defined and being set to 0.0 due to no predicted samples. Use `zero_division` parameter to control this behavior.\n",
      "  _warn_prf(average, modifier, msg_start, len(result))\n"
     ]
    },
    {
     "name": "stdout",
     "output_type": "stream",
     "text": [
      "params {'epochs': 10, 'lr': 0.03, 'batch_size': 64, 'drop1': 0.7, 'drop2': 0.1}\n",
      "iter 1 of 1 X_train shape torch.Size([454, 100])\n",
      "params {'epochs': 10, 'lr': 0.03, 'batch_size': 64, 'drop1': 0.1, 'drop2': 0.1}\n",
      "iter 1 of 1 X_train shape torch.Size([454, 100])\n",
      "params {'epochs': 10, 'lr': 0.3, 'batch_size': 64, 'drop1': 0.7, 'drop2': 0.5}\n",
      "iter 1 of 1 X_train shape torch.Size([454, 100])\n",
      "params {'epochs': 10, 'lr': 3e-05, 'batch_size': 32, 'drop1': 0.1, 'drop2': 0.3}\n",
      "iter 1 of 1 X_train shape torch.Size([454, 100])\n",
      "params {'epochs': 10, 'lr': 0.0003, 'batch_size': 32, 'drop1': 0.1, 'drop2': 0.1}\n",
      "iter 1 of 1 X_train shape torch.Size([454, 100])\n",
      "params {'epochs': 10, 'lr': 0.0003, 'batch_size': 32, 'drop1': 0.1, 'drop2': 0.5}\n",
      "iter 1 of 1 X_train shape torch.Size([454, 100])\n",
      "params {'epochs': 10, 'lr': 0.3, 'batch_size': 64, 'drop1': 0.1, 'drop2': 0.3}\n",
      "iter 1 of 1 X_train shape torch.Size([454, 100])\n",
      "params {'epochs': 10, 'lr': 3e-05, 'batch_size': 64, 'drop1': 0.5, 'drop2': 0.1}\n",
      "iter 1 of 1 X_train shape torch.Size([454, 100])\n",
      "params {'epochs': 10, 'lr': 0.03, 'batch_size': 32, 'drop1': 0.5, 'drop2': 0.3}\n",
      "iter 1 of 1 X_train shape torch.Size([454, 100])\n",
      "params {'epochs': 10, 'lr': 0.003, 'batch_size': 64, 'drop1': 0.1, 'drop2': 0.3}\n",
      "iter 1 of 1 X_train shape torch.Size([454, 100])\n",
      "params {'epochs': 10, 'lr': 0.0003, 'batch_size': 64, 'drop1': 0.3, 'drop2': 0.7}\n",
      "iter 1 of 1 X_train shape torch.Size([454, 100])\n",
      "params {'epochs': 10, 'lr': 3e-05, 'batch_size': 64, 'drop1': 0.5, 'drop2': 0.3}\n",
      "iter 1 of 1 X_train shape torch.Size([454, 100])\n",
      "params {'epochs': 10, 'lr': 0.03, 'batch_size': 32, 'drop1': 0.7, 'drop2': 0.1}\n",
      "iter 1 of 1 X_train shape torch.Size([454, 100])\n",
      "params {'epochs': 10, 'lr': 3e-05, 'batch_size': 32, 'drop1': 0.3, 'drop2': 0.5}\n",
      "iter 1 of 1 X_train shape torch.Size([454, 100])\n",
      "params {'epochs': 10, 'lr': 0.003, 'batch_size': 32, 'drop1': 0.5, 'drop2': 0.7}\n",
      "iter 1 of 1 X_train shape torch.Size([454, 100])\n",
      "params {'epochs': 10, 'lr': 0.03, 'batch_size': 32, 'drop1': 0.3, 'drop2': 0.7}\n",
      "iter 1 of 1 X_train shape torch.Size([454, 100])\n"
     ]
    },
    {
     "name": "stderr",
     "output_type": "stream",
     "text": [
      "/home/z1157095/anaconda3/envs/hyper-mnist/lib/python3.9/site-packages/sklearn/metrics/_classification.py:1344: UndefinedMetricWarning: Precision is ill-defined and being set to 0.0 due to no predicted samples. Use `zero_division` parameter to control this behavior.\n",
      "  _warn_prf(average, modifier, msg_start, len(result))\n"
     ]
    },
    {
     "name": "stdout",
     "output_type": "stream",
     "text": [
      "params {'epochs': 10, 'lr': 0.003, 'batch_size': 32, 'drop1': 0.1, 'drop2': 0.7}\n",
      "iter 1 of 1 X_train shape torch.Size([454, 100])\n",
      "params {'epochs': 10, 'lr': 0.003, 'batch_size': 64, 'drop1': 0.3, 'drop2': 0.1}\n",
      "iter 1 of 1 X_train shape torch.Size([454, 100])\n",
      "params {'epochs': 10, 'lr': 0.0003, 'batch_size': 32, 'drop1': 0.3, 'drop2': 0.1}\n",
      "iter 1 of 1 X_train shape torch.Size([454, 100])\n",
      "params {'epochs': 10, 'lr': 0.0003, 'batch_size': 32, 'drop1': 0.1, 'drop2': 0.3}\n",
      "iter 1 of 1 X_train shape torch.Size([454, 100])\n",
      "params {'epochs': 10, 'lr': 0.3, 'batch_size': 32, 'drop1': 0.1, 'drop2': 0.3}\n",
      "iter 1 of 1 X_train shape torch.Size([454, 100])\n",
      "params {'epochs': 10, 'lr': 0.0003, 'batch_size': 64, 'drop1': 0.1, 'drop2': 0.1}\n",
      "iter 1 of 1 X_train shape torch.Size([454, 100])\n",
      "params {'epochs': 10, 'lr': 0.003, 'batch_size': 64, 'drop1': 0.1, 'drop2': 0.1}\n",
      "iter 1 of 1 X_train shape torch.Size([454, 100])\n",
      "params {'epochs': 10, 'lr': 0.003, 'batch_size': 32, 'drop1': 0.1, 'drop2': 0.1}\n",
      "iter 1 of 1 X_train shape torch.Size([454, 100])\n",
      "params {'epochs': 10, 'lr': 3e-05, 'batch_size': 32, 'drop1': 0.1, 'drop2': 0.1}\n",
      "iter 1 of 1 X_train shape torch.Size([454, 100])\n",
      "params {'epochs': 10, 'lr': 0.003, 'batch_size': 32, 'drop1': 0.3, 'drop2': 0.3}\n",
      "iter 1 of 1 X_train shape torch.Size([454, 100])\n"
     ]
    },
    {
     "name": "stderr",
     "output_type": "stream",
     "text": [
      "/home/z1157095/anaconda3/envs/hyper-mnist/lib/python3.9/site-packages/sklearn/metrics/_classification.py:1344: UndefinedMetricWarning: Precision is ill-defined and being set to 0.0 due to no predicted samples. Use `zero_division` parameter to control this behavior.\n",
      "  _warn_prf(average, modifier, msg_start, len(result))\n"
     ]
    },
    {
     "name": "stdout",
     "output_type": "stream",
     "text": [
      "params {'epochs': 10, 'lr': 0.03, 'batch_size': 32, 'drop1': 0.1, 'drop2': 0.1}\n",
      "iter 1 of 1 X_train shape torch.Size([454, 100])\n",
      "params {'epochs': 10, 'lr': 0.3, 'batch_size': 64, 'drop1': 0.1, 'drop2': 0.1}\n",
      "iter 1 of 1 X_train shape torch.Size([454, 100])\n",
      "params {'epochs': 10, 'lr': 3e-05, 'batch_size': 32, 'drop1': 0.3, 'drop2': 0.1}\n",
      "iter 1 of 1 X_train shape torch.Size([454, 100])\n",
      "params {'epochs': 10, 'lr': 3e-05, 'batch_size': 64, 'drop1': 0.1, 'drop2': 0.3}\n",
      "iter 1 of 1 X_train shape torch.Size([454, 100])\n",
      "params {'epochs': 10, 'lr': 3e-05, 'batch_size': 64, 'drop1': 0.1, 'drop2': 0.1}\n",
      "iter 1 of 1 X_train shape torch.Size([454, 100])\n",
      "params {'epochs': 10, 'lr': 0.3, 'batch_size': 64, 'drop1': 0.3, 'drop2': 0.3}\n",
      "iter 1 of 1 X_train shape torch.Size([454, 100])\n"
     ]
    },
    {
     "name": "stderr",
     "output_type": "stream",
     "text": [
      "/home/z1157095/anaconda3/envs/hyper-mnist/lib/python3.9/site-packages/sklearn/metrics/_classification.py:1344: UndefinedMetricWarning: Precision is ill-defined and being set to 0.0 due to no predicted samples. Use `zero_division` parameter to control this behavior.\n",
      "  _warn_prf(average, modifier, msg_start, len(result))\n"
     ]
    },
    {
     "name": "stdout",
     "output_type": "stream",
     "text": [
      "params {'epochs': 10, 'lr': 3e-05, 'batch_size': 64, 'drop1': 0.3, 'drop2': 0.1}\n",
      "iter 1 of 1 X_train shape torch.Size([454, 100])\n",
      "params {'epochs': 10, 'lr': 0.3, 'batch_size': 32, 'drop1': 0.1, 'drop2': 0.1}\n",
      "iter 1 of 1 X_train shape torch.Size([454, 100])\n",
      "params {'epochs': 10, 'lr': 0.03, 'batch_size': 64, 'drop1': 0.3, 'drop2': 0.1}\n",
      "iter 1 of 1 X_train shape torch.Size([454, 100])\n",
      "================= Summary =================\n",
      "Mode              : Best f : Steps : Time  \n",
      "----------------  : ----   : ----  : ----  \n",
      "Initial solution  : 50     : 1     : 1.46 s\n",
      "Random seeding    : 53.61  : 19    : 29 s  \n",
      "Local sampling    : 54.94  : 17    : 29 s  \n",
      "Duplicates        : -      : 58    : -     \n",
      "----------------  : ----   : ----  : ----  \n",
      "Total             : 54.94  : 95    : 60 s  \n",
      "===========================================\n",
      "Hill-Valley-with-noise_network_fn1_{'epochs': 10, 'lr': 0.003, 'batch_size': 64, 'drop1': 0.1, 'drop2': 0.1}\n"
     ]
    },
    {
     "data": {
      "text/plain": [
       "{'epochs': 10, 'lr': 0.003, 'batch_size': 64, 'drop1': 0.1, 'drop2': 0.1}"
      ]
     },
     "execution_count": 25,
     "metadata": {},
     "output_type": "execute_result"
    }
   ],
   "source": [
    "param_grid = {\n",
    "                \"epochs\": CommonHyperparams.ht_epochs,\n",
    "                \"lr\": CommonHyperparams.lr,\n",
    "                \"batch_size\": CommonHyperparams.batch_size,\n",
    "                \"drop1\": pyhopper.choice([0.1, 0.3, 0.5, 0.7], is_ordinal=True),\n",
    "                \"drop2\": pyhopper.choice([0.1, 0.3, 0.5, 0.7], is_ordinal=True),\n",
    "             }\n",
    "\n",
    "nn_fn1_best_params, nn_fn1_history = pyhopper_best_params(\n",
    "    model_fn=network_fn1,\n",
    "    param_grid=param_grid,\n",
    "    data=(X_train, y_train),\n",
    "    train_size=train_max_size,\n",
    "    DATA=DATA,\n",
    "    device=DEVICE,\n",
    "    time=TIME_BUDGET,\n",
    ")\n",
    "\n",
    "nn_fn1_best_params"
   ]
  },
  {
   "cell_type": "code",
   "execution_count": 26,
   "id": "7b0143ba",
   "metadata": {},
   "outputs": [
    {
     "name": "stdout",
     "output_type": "stream",
     "text": [
      "iter 1 of 1 X_train shape torch.Size([606, 100])\n"
     ]
    }
   ],
   "source": [
    "nn1_results = test_model(\n",
    "    model_fn=network_fn1(**nn_fn1_best_params),\n",
    "    data=(X, y),\n",
    "    train_size=eval_train_max_size,\n",
    "    iters=10\n",
    ")"
   ]
  },
  {
   "cell_type": "code",
   "execution_count": 27,
   "id": "fb03b139",
   "metadata": {},
   "outputs": [
    {
     "name": "stdout",
     "output_type": "stream",
     "text": [
      "metric balanced_accuracy\n",
      "dataset_name Hill-Valley-with-noise\n",
      "Hill-Valley-with-noise: 50.15 ~ nan (max: 50.15)\n"
     ]
    }
   ],
   "source": [
    "print_mean_std_max(nn1_results, DATA)"
   ]
  },
  {
   "cell_type": "markdown",
   "id": "fc25ca37",
   "metadata": {},
   "source": [
    "### Dropout 2 layers"
   ]
  },
  {
   "cell_type": "code",
   "execution_count": 28,
   "id": "dcb8e41c",
   "metadata": {},
   "outputs": [],
   "source": [
    "set_seed(SEED)\n",
    "\n",
    "network_fn2=get_parametrized_dropout_net2(DEVICE=DEVICE, n_features=n_features, n_classes=n_classes)"
   ]
  },
  {
   "cell_type": "code",
   "execution_count": 29,
   "id": "6ded59e5",
   "metadata": {},
   "outputs": [
    {
     "name": "stdout",
     "output_type": "stream",
     "text": [
      "THIS IS TEST RUN\n",
      "| DEVICE: cpu\n",
      "| model_fn network_fn2\n",
      "\n",
      "pyhopper X.shape: (606, 100) y.shape: (606,) train_size: 454\n"
     ]
    },
    {
     "data": {
      "application/vnd.jupyter.widget-view+json": {
       "model_id": "116d385e21cf4940bb691069233aab3e",
       "version_major": 2,
       "version_minor": 0
      },
      "text/plain": [
       "  0%|          | [00:00<?]"
      ]
     },
     "metadata": {},
     "output_type": "display_data"
    },
    {
     "name": "stdout",
     "output_type": "stream",
     "text": [
      "Search is scheduled for 01:00 (m:s)\n",
      "params {'epochs': 10, 'lr': 3e-05, 'batch_size': 32, 'drop1': 0.3, 'drop2': 0.3, 'drop3': 0.3}\n",
      "iter 1 of 1 X_train shape torch.Size([454, 100])\n",
      "params {'epochs': 10, 'lr': 0.003, 'batch_size': 96, 'drop1': 0.1, 'drop2': 0.5, 'drop3': 0.3}\n",
      "iter 1 of 1 X_train shape torch.Size([454, 100])\n",
      "params {'epochs': 10, 'lr': 0.0003, 'batch_size': 256, 'drop1': 0.3, 'drop2': 0.7, 'drop3': 0.7}\n",
      "iter 1 of 1 X_train shape torch.Size([454, 100])\n",
      "params {'epochs': 10, 'lr': 0.0003, 'batch_size': 480, 'drop1': 0.7, 'drop2': 0.1, 'drop3': 0.3}\n",
      "iter 1 of 1 X_train shape torch.Size([454, 100])\n",
      "params {'epochs': 10, 'lr': 3e-05, 'batch_size': 384, 'drop1': 0.1, 'drop2': 0.3, 'drop3': 0.3}\n",
      "iter 1 of 1 X_train shape torch.Size([454, 100])\n",
      "params {'epochs': 10, 'lr': 3e-05, 'batch_size': 96, 'drop1': 0.7, 'drop2': 0.1, 'drop3': 0.3}\n",
      "iter 1 of 1 X_train shape torch.Size([454, 100])\n",
      "params {'epochs': 10, 'lr': 0.0003, 'batch_size': 160, 'drop1': 0.3, 'drop2': 0.3, 'drop3': 0.1}\n",
      "iter 1 of 1 X_train shape torch.Size([454, 100])\n",
      "params {'epochs': 10, 'lr': 3e-05, 'batch_size': 320, 'drop1': 0.5, 'drop2': 0.1, 'drop3': 0.5}\n",
      "iter 1 of 1 X_train shape torch.Size([454, 100])\n",
      "params {'epochs': 10, 'lr': 0.03, 'batch_size': 256, 'drop1': 0.7, 'drop2': 0.3, 'drop3': 0.5}\n",
      "iter 1 of 1 X_train shape torch.Size([454, 100])\n",
      "params {'epochs': 10, 'lr': 0.3, 'batch_size': 224, 'drop1': 0.1, 'drop2': 0.3, 'drop3': 0.7}\n",
      "iter 1 of 1 X_train shape torch.Size([454, 100])\n",
      "params {'epochs': 10, 'lr': 0.3, 'batch_size': 64, 'drop1': 0.3, 'drop2': 0.1, 'drop3': 0.3}\n",
      "iter 1 of 1 X_train shape torch.Size([454, 100])\n"
     ]
    },
    {
     "name": "stderr",
     "output_type": "stream",
     "text": [
      "/home/z1157095/anaconda3/envs/hyper-mnist/lib/python3.9/site-packages/sklearn/metrics/_classification.py:1344: UndefinedMetricWarning: Precision is ill-defined and being set to 0.0 due to no predicted samples. Use `zero_division` parameter to control this behavior.\n",
      "  _warn_prf(average, modifier, msg_start, len(result))\n"
     ]
    },
    {
     "name": "stdout",
     "output_type": "stream",
     "text": [
      "params {'epochs': 10, 'lr': 3e-05, 'batch_size': 64, 'drop1': 0.1, 'drop2': 0.5, 'drop3': 0.1}\n",
      "iter 1 of 1 X_train shape torch.Size([454, 100])\n",
      "params {'epochs': 10, 'lr': 3e-05, 'batch_size': 480, 'drop1': 0.3, 'drop2': 0.3, 'drop3': 0.5}\n",
      "iter 1 of 1 X_train shape torch.Size([454, 100])\n"
     ]
    },
    {
     "name": "stderr",
     "output_type": "stream",
     "text": [
      "/home/z1157095/anaconda3/envs/hyper-mnist/lib/python3.9/site-packages/sklearn/metrics/_classification.py:1344: UndefinedMetricWarning: Precision is ill-defined and being set to 0.0 due to no predicted samples. Use `zero_division` parameter to control this behavior.\n",
      "  _warn_prf(average, modifier, msg_start, len(result))\n"
     ]
    },
    {
     "name": "stdout",
     "output_type": "stream",
     "text": [
      "params {'epochs': 10, 'lr': 0.0003, 'batch_size': 160, 'drop1': 0.7, 'drop2': 0.3, 'drop3': 0.7}\n",
      "iter 1 of 1 X_train shape torch.Size([454, 100])\n",
      "params {'epochs': 10, 'lr': 0.03, 'batch_size': 224, 'drop1': 0.3, 'drop2': 0.7, 'drop3': 0.5}\n",
      "iter 1 of 1 X_train shape torch.Size([454, 100])\n",
      "params {'epochs': 10, 'lr': 0.03, 'batch_size': 96, 'drop1': 0.7, 'drop2': 0.5, 'drop3': 0.5}\n",
      "iter 1 of 1 X_train shape torch.Size([454, 100])\n"
     ]
    },
    {
     "name": "stderr",
     "output_type": "stream",
     "text": [
      "/home/z1157095/anaconda3/envs/hyper-mnist/lib/python3.9/site-packages/sklearn/metrics/_classification.py:1344: UndefinedMetricWarning: Precision is ill-defined and being set to 0.0 due to no predicted samples. Use `zero_division` parameter to control this behavior.\n",
      "  _warn_prf(average, modifier, msg_start, len(result))\n"
     ]
    },
    {
     "name": "stdout",
     "output_type": "stream",
     "text": [
      "params {'epochs': 10, 'lr': 3e-05, 'batch_size': 224, 'drop1': 0.7, 'drop2': 0.7, 'drop3': 0.1}\n",
      "iter 1 of 1 X_train shape torch.Size([454, 100])\n",
      "params {'epochs': 10, 'lr': 0.03, 'batch_size': 416, 'drop1': 0.5, 'drop2': 0.5, 'drop3': 0.3}\n",
      "iter 1 of 1 X_train shape torch.Size([454, 100])\n",
      "params {'epochs': 10, 'lr': 0.03, 'batch_size': 288, 'drop1': 0.3, 'drop2': 0.3, 'drop3': 0.1}\n",
      "iter 1 of 1 X_train shape torch.Size([454, 100])\n",
      "params {'epochs': 10, 'lr': 0.03, 'batch_size': 160, 'drop1': 0.3, 'drop2': 0.3, 'drop3': 0.1}\n",
      "iter 1 of 1 X_train shape torch.Size([454, 100])\n",
      "params {'epochs': 10, 'lr': 0.0003, 'batch_size': 192, 'drop1': 0.3, 'drop2': 0.1, 'drop3': 0.3}\n",
      "iter 1 of 1 X_train shape torch.Size([454, 100])\n",
      "params {'epochs': 10, 'lr': 0.0003, 'batch_size': 160, 'drop1': 0.5, 'drop2': 0.3, 'drop3': 0.1}\n",
      "iter 1 of 1 X_train shape torch.Size([454, 100])\n",
      "params {'epochs': 10, 'lr': 0.0003, 'batch_size': 224, 'drop1': 0.3, 'drop2': 0.3, 'drop3': 0.1}\n",
      "iter 1 of 1 X_train shape torch.Size([454, 100])\n",
      "params {'epochs': 10, 'lr': 3e-05, 'batch_size': 160, 'drop1': 0.3, 'drop2': 0.1, 'drop3': 0.1}\n",
      "iter 1 of 1 X_train shape torch.Size([454, 100])\n",
      "params {'epochs': 10, 'lr': 0.3, 'batch_size': 192, 'drop1': 0.3, 'drop2': 0.3, 'drop3': 0.1}\n",
      "iter 1 of 1 X_train shape torch.Size([454, 100])\n",
      "params {'epochs': 10, 'lr': 3e-05, 'batch_size': 256, 'drop1': 0.3, 'drop2': 0.3, 'drop3': 0.1}\n",
      "iter 1 of 1 X_train shape torch.Size([454, 100])\n"
     ]
    },
    {
     "name": "stderr",
     "output_type": "stream",
     "text": [
      "/home/z1157095/anaconda3/envs/hyper-mnist/lib/python3.9/site-packages/sklearn/metrics/_classification.py:1344: UndefinedMetricWarning: Precision is ill-defined and being set to 0.0 due to no predicted samples. Use `zero_division` parameter to control this behavior.\n",
      "  _warn_prf(average, modifier, msg_start, len(result))\n"
     ]
    },
    {
     "name": "stdout",
     "output_type": "stream",
     "text": [
      "params {'epochs': 10, 'lr': 0.003, 'batch_size': 160, 'drop1': 0.3, 'drop2': 0.3, 'drop3': 0.1}\n",
      "iter 1 of 1 X_train shape torch.Size([454, 100])\n",
      "params {'epochs': 10, 'lr': 0.0003, 'batch_size': 256, 'drop1': 0.3, 'drop2': 0.3, 'drop3': 0.1}\n",
      "iter 1 of 1 X_train shape torch.Size([454, 100])\n",
      "params {'epochs': 10, 'lr': 0.3, 'batch_size': 160, 'drop1': 0.3, 'drop2': 0.1, 'drop3': 0.3}\n",
      "iter 1 of 1 X_train shape torch.Size([454, 100])\n",
      "params {'epochs': 10, 'lr': 0.3, 'batch_size': 224, 'drop1': 0.1, 'drop2': 0.3, 'drop3': 0.1}\n",
      "iter 1 of 1 X_train shape torch.Size([454, 100])\n",
      "params {'epochs': 10, 'lr': 0.0003, 'batch_size': 416, 'drop1': 0.5, 'drop2': 0.3, 'drop3': 0.3}\n",
      "iter 1 of 1 X_train shape torch.Size([454, 100])\n",
      "params {'epochs': 10, 'lr': 0.0003, 'batch_size': 288, 'drop1': 0.3, 'drop2': 0.3, 'drop3': 0.1}\n",
      "iter 1 of 1 X_train shape torch.Size([454, 100])\n",
      "params {'epochs': 10, 'lr': 0.3, 'batch_size': 288, 'drop1': 0.3, 'drop2': 0.3, 'drop3': 0.3}\n",
      "iter 1 of 1 X_train shape torch.Size([454, 100])\n",
      "params {'epochs': 10, 'lr': 0.003, 'batch_size': 32, 'drop1': 0.5, 'drop2': 0.5, 'drop3': 0.3}\n",
      "iter 1 of 1 X_train shape torch.Size([454, 100])\n",
      "params {'epochs': 10, 'lr': 0.0003, 'batch_size': 192, 'drop1': 0.3, 'drop2': 0.3, 'drop3': 0.1}\n",
      "iter 1 of 1 X_train shape torch.Size([454, 100])\n",
      "params {'epochs': 10, 'lr': 0.3, 'batch_size': 256, 'drop1': 0.3, 'drop2': 0.3, 'drop3': 0.1}\n",
      "iter 1 of 1 X_train shape torch.Size([454, 100])\n",
      "params {'epochs': 10, 'lr': 0.03, 'batch_size': 256, 'drop1': 0.3, 'drop2': 0.3, 'drop3': 0.1}\n",
      "iter 1 of 1 X_train shape torch.Size([454, 100])\n",
      "params {'epochs': 10, 'lr': 0.0003, 'batch_size': 384, 'drop1': 0.3, 'drop2': 0.3, 'drop3': 0.1}\n",
      "iter 1 of 1 X_train shape torch.Size([454, 100])\n",
      "================= Summary =================\n",
      "Mode              : Best f : Steps : Time  \n",
      "----------------  : ----   : ----  : ----  \n",
      "Initial solution  : 50     : 1     : 1.95 s\n",
      "Random seeding    : 58.33  : 17    : 28 s  \n",
      "Local sampling    : 61.65  : 20    : 29 s  \n",
      "Duplicates        : -      : 7     : -     \n",
      "----------------  : ----   : ----  : ----  \n",
      "Total             : 61.65  : 45    : 60 s  \n",
      "===========================================\n",
      "Hill-Valley-with-noise_network_fn2_{'epochs': 10, 'lr': 0.0003, 'batch_size': 256, 'drop1': 0.3, 'drop2': 0.3, 'drop3': 0.1}\n"
     ]
    },
    {
     "name": "stderr",
     "output_type": "stream",
     "text": [
      "/home/z1157095/anaconda3/envs/hyper-mnist/lib/python3.9/site-packages/sklearn/metrics/_classification.py:1344: UndefinedMetricWarning: Precision is ill-defined and being set to 0.0 due to no predicted samples. Use `zero_division` parameter to control this behavior.\n",
      "  _warn_prf(average, modifier, msg_start, len(result))\n"
     ]
    },
    {
     "data": {
      "text/plain": [
       "{'epochs': 10,\n",
       " 'lr': 0.0003,\n",
       " 'batch_size': 256,\n",
       " 'drop1': 0.3,\n",
       " 'drop2': 0.3,\n",
       " 'drop3': 0.1}"
      ]
     },
     "execution_count": 29,
     "metadata": {},
     "output_type": "execute_result"
    }
   ],
   "source": [
    "param_grid = {\n",
    "                \"epochs\": CommonHyperparams.ht_epochs,\n",
    "                \"lr\": CommonHyperparams.lr,\n",
    "                \"batch_size\": CommonHyperparams.batch_size,\n",
    "                \"drop1\": pyhopper.choice([0.1, 0.3, 0.5, 0.7], is_ordinal=True),\n",
    "                \"drop2\": pyhopper.choice([0.1, 0.3, 0.5, 0.7], is_ordinal=True),\n",
    "                \"drop3\": pyhopper.choice([0.1, 0.3, 0.5, 0.7], is_ordinal=True),\n",
    "             }\n",
    "\n",
    "nn_fn2_best_params, nn_fn2_history = pyhopper_best_params(\n",
    "    model_fn=network_fn2,\n",
    "    param_grid=param_grid,\n",
    "    data=(X_train, y_train),\n",
    "    train_size=train_max_size,\n",
    "    DATA=DATA,\n",
    "    device=DEVICE,\n",
    "    time=TIME_BUDGET,\n",
    ")\n",
    "nn_fn2_best_params"
   ]
  },
  {
   "cell_type": "code",
   "execution_count": 30,
   "id": "326bbde0",
   "metadata": {},
   "outputs": [
    {
     "name": "stdout",
     "output_type": "stream",
     "text": [
      "iter 1 of 1 X_train shape torch.Size([606, 100])\n"
     ]
    }
   ],
   "source": [
    "nn2_results = test_model(\n",
    "    model_fn=network_fn2(**nn_fn2_best_params),\n",
    "    data=(X, y),\n",
    "    train_size=eval_train_max_size,\n",
    "    iters=10\n",
    ")"
   ]
  },
  {
   "cell_type": "code",
   "execution_count": 31,
   "id": "5412e9d8",
   "metadata": {},
   "outputs": [
    {
     "name": "stdout",
     "output_type": "stream",
     "text": [
      "metric balanced_accuracy\n",
      "dataset_name Hill-Valley-with-noise\n",
      "Hill-Valley-with-noise: 50.88 ~ nan (max: 50.88)\n"
     ]
    }
   ],
   "source": [
    "print_mean_std_max(nn2_results, DATA)"
   ]
  },
  {
   "cell_type": "markdown",
   "id": "8349efaf",
   "metadata": {},
   "source": [
    "### Dropout 3 layers"
   ]
  },
  {
   "cell_type": "code",
   "execution_count": 32,
   "id": "865638db",
   "metadata": {},
   "outputs": [],
   "source": [
    "set_seed(SEED)\n",
    "\n",
    "network_fn3=get_parametrized_dropout_net3(DEVICE=DEVICE, n_features=n_features, n_classes=n_classes)"
   ]
  },
  {
   "cell_type": "code",
   "execution_count": 33,
   "id": "5321d73a",
   "metadata": {},
   "outputs": [
    {
     "name": "stdout",
     "output_type": "stream",
     "text": [
      "THIS IS TEST RUN\n",
      "| DEVICE: cpu\n",
      "| model_fn network_fn3\n",
      "\n",
      "pyhopper X.shape: (606, 100) y.shape: (606,) train_size: 454\n"
     ]
    },
    {
     "data": {
      "application/vnd.jupyter.widget-view+json": {
       "model_id": "4d856c209eed49fa96b7db83b472fce0",
       "version_major": 2,
       "version_minor": 0
      },
      "text/plain": [
       "  0%|          | [00:00<?]"
      ]
     },
     "metadata": {},
     "output_type": "display_data"
    },
    {
     "name": "stdout",
     "output_type": "stream",
     "text": [
      "Search is scheduled for 01:00 (m:s)\n",
      "params {'epochs': 10, 'lr': 3e-05, 'batch_size': 32, 'drop1': 0.3, 'drop2': 0.3, 'drop3': 0.3, 'drop4': 0.3}\n",
      "iter 1 of 1 X_train shape torch.Size([454, 100])\n",
      "params {'epochs': 10, 'lr': 3e-05, 'batch_size': 320, 'drop1': 0.7, 'drop2': 0.7, 'drop3': 0.3, 'drop4': 0.7}\n",
      "iter 1 of 1 X_train shape torch.Size([454, 100])\n"
     ]
    },
    {
     "name": "stderr",
     "output_type": "stream",
     "text": [
      "/home/z1157095/anaconda3/envs/hyper-mnist/lib/python3.9/site-packages/sklearn/metrics/_classification.py:1344: UndefinedMetricWarning: Precision is ill-defined and being set to 0.0 due to no predicted samples. Use `zero_division` parameter to control this behavior.\n",
      "  _warn_prf(average, modifier, msg_start, len(result))\n"
     ]
    },
    {
     "name": "stdout",
     "output_type": "stream",
     "text": [
      "params {'epochs': 10, 'lr': 0.3, 'batch_size': 512, 'drop1': 0.5, 'drop2': 0.5, 'drop3': 0.5, 'drop4': 0.1}\n",
      "iter 1 of 1 X_train shape torch.Size([454, 100])\n",
      "params {'epochs': 10, 'lr': 0.3, 'batch_size': 128, 'drop1': 0.1, 'drop2': 0.1, 'drop3': 0.7, 'drop4': 0.3}\n",
      "iter 1 of 1 X_train shape torch.Size([454, 100])\n",
      "params {'epochs': 10, 'lr': 0.0003, 'batch_size': 64, 'drop1': 0.3, 'drop2': 0.3, 'drop3': 0.5, 'drop4': 0.1}\n",
      "iter 1 of 1 X_train shape torch.Size([454, 100])\n",
      "params {'epochs': 10, 'lr': 3e-05, 'batch_size': 128, 'drop1': 0.7, 'drop2': 0.7, 'drop3': 0.1, 'drop4': 0.1}\n",
      "iter 1 of 1 X_train shape torch.Size([454, 100])\n",
      "params {'epochs': 10, 'lr': 3e-05, 'batch_size': 320, 'drop1': 0.5, 'drop2': 0.7, 'drop3': 0.3, 'drop4': 0.7}\n",
      "iter 1 of 1 X_train shape torch.Size([454, 100])\n",
      "params {'epochs': 10, 'lr': 3e-05, 'batch_size': 512, 'drop1': 0.3, 'drop2': 0.5, 'drop3': 0.5, 'drop4': 0.3}\n",
      "iter 1 of 1 X_train shape torch.Size([454, 100])\n",
      "params {'epochs': 10, 'lr': 3e-05, 'batch_size': 512, 'drop1': 0.3, 'drop2': 0.3, 'drop3': 0.5, 'drop4': 0.7}\n",
      "iter 1 of 1 X_train shape torch.Size([454, 100])\n",
      "params {'epochs': 10, 'lr': 0.03, 'batch_size': 416, 'drop1': 0.3, 'drop2': 0.1, 'drop3': 0.7, 'drop4': 0.7}\n",
      "iter 1 of 1 X_train shape torch.Size([454, 100])\n"
     ]
    },
    {
     "name": "stderr",
     "output_type": "stream",
     "text": [
      "/home/z1157095/anaconda3/envs/hyper-mnist/lib/python3.9/site-packages/sklearn/metrics/_classification.py:1344: UndefinedMetricWarning: Precision is ill-defined and being set to 0.0 due to no predicted samples. Use `zero_division` parameter to control this behavior.\n",
      "  _warn_prf(average, modifier, msg_start, len(result))\n"
     ]
    },
    {
     "name": "stdout",
     "output_type": "stream",
     "text": [
      "params {'epochs': 10, 'lr': 0.003, 'batch_size': 256, 'drop1': 0.1, 'drop2': 0.5, 'drop3': 0.3, 'drop4': 0.5}\n",
      "iter 1 of 1 X_train shape torch.Size([454, 100])\n",
      "params {'epochs': 10, 'lr': 3e-05, 'batch_size': 288, 'drop1': 0.7, 'drop2': 0.3, 'drop3': 0.5, 'drop4': 0.5}\n",
      "iter 1 of 1 X_train shape torch.Size([454, 100])\n",
      "params {'epochs': 10, 'lr': 3e-05, 'batch_size': 320, 'drop1': 0.5, 'drop2': 0.3, 'drop3': 0.7, 'drop4': 0.7}\n",
      "iter 1 of 1 X_train shape torch.Size([454, 100])\n",
      "params {'epochs': 10, 'lr': 0.03, 'batch_size': 224, 'drop1': 0.1, 'drop2': 0.7, 'drop3': 0.3, 'drop4': 0.5}\n",
      "iter 1 of 1 X_train shape torch.Size([454, 100])\n"
     ]
    },
    {
     "name": "stderr",
     "output_type": "stream",
     "text": [
      "/home/z1157095/anaconda3/envs/hyper-mnist/lib/python3.9/site-packages/sklearn/metrics/_classification.py:1344: UndefinedMetricWarning: Precision is ill-defined and being set to 0.0 due to no predicted samples. Use `zero_division` parameter to control this behavior.\n",
      "  _warn_prf(average, modifier, msg_start, len(result))\n"
     ]
    },
    {
     "name": "stdout",
     "output_type": "stream",
     "text": [
      "params {'epochs': 10, 'lr': 0.03, 'batch_size': 224, 'drop1': 0.1, 'drop2': 0.7, 'drop3': 0.1, 'drop4': 0.5}\n",
      "iter 1 of 1 X_train shape torch.Size([454, 100])\n",
      "params {'epochs': 10, 'lr': 0.003, 'batch_size': 288, 'drop1': 0.3, 'drop2': 0.7, 'drop3': 0.5, 'drop4': 0.1}\n",
      "iter 1 of 1 X_train shape torch.Size([454, 100])\n"
     ]
    },
    {
     "name": "stderr",
     "output_type": "stream",
     "text": [
      "/home/z1157095/anaconda3/envs/hyper-mnist/lib/python3.9/site-packages/sklearn/metrics/_classification.py:1344: UndefinedMetricWarning: Precision is ill-defined and being set to 0.0 due to no predicted samples. Use `zero_division` parameter to control this behavior.\n",
      "  _warn_prf(average, modifier, msg_start, len(result))\n"
     ]
    },
    {
     "name": "stdout",
     "output_type": "stream",
     "text": [
      "params {'epochs': 10, 'lr': 0.03, 'batch_size': 384, 'drop1': 0.5, 'drop2': 0.5, 'drop3': 0.7, 'drop4': 0.5}\n",
      "iter 1 of 1 X_train shape torch.Size([454, 100])\n",
      "params {'epochs': 10, 'lr': 0.0003, 'batch_size': 352, 'drop1': 0.3, 'drop2': 0.5, 'drop3': 0.1, 'drop4': 0.7}\n",
      "iter 1 of 1 X_train shape torch.Size([454, 100])\n"
     ]
    },
    {
     "name": "stderr",
     "output_type": "stream",
     "text": [
      "/home/z1157095/anaconda3/envs/hyper-mnist/lib/python3.9/site-packages/sklearn/metrics/_classification.py:1344: UndefinedMetricWarning: Precision is ill-defined and being set to 0.0 due to no predicted samples. Use `zero_division` parameter to control this behavior.\n",
      "  _warn_prf(average, modifier, msg_start, len(result))\n"
     ]
    },
    {
     "name": "stdout",
     "output_type": "stream",
     "text": [
      "params {'epochs': 10, 'lr': 0.0003, 'batch_size': 320, 'drop1': 0.3, 'drop2': 0.1, 'drop3': 0.5, 'drop4': 0.5}\n",
      "iter 1 of 1 X_train shape torch.Size([454, 100])\n",
      "params {'epochs': 10, 'lr': 3e-05, 'batch_size': 32, 'drop1': 0.1, 'drop2': 0.7, 'drop3': 0.3, 'drop4': 0.7}\n",
      "iter 1 of 1 X_train shape torch.Size([454, 100])\n",
      "params {'epochs': 10, 'lr': 0.003, 'batch_size': 32, 'drop1': 0.1, 'drop2': 0.7, 'drop3': 0.1, 'drop4': 0.7}\n",
      "iter 1 of 1 X_train shape torch.Size([454, 100])\n",
      "params {'epochs': 10, 'lr': 0.3, 'batch_size': 64, 'drop1': 0.1, 'drop2': 0.7, 'drop3': 0.1, 'drop4': 0.7}\n",
      "iter 1 of 1 X_train shape torch.Size([454, 100])\n",
      "params {'epochs': 10, 'lr': 0.3, 'batch_size': 32, 'drop1': 0.1, 'drop2': 0.7, 'drop3': 0.3, 'drop4': 0.7}\n",
      "iter 1 of 1 X_train shape torch.Size([454, 100])\n"
     ]
    },
    {
     "name": "stderr",
     "output_type": "stream",
     "text": [
      "/home/z1157095/anaconda3/envs/hyper-mnist/lib/python3.9/site-packages/sklearn/metrics/_classification.py:1344: UndefinedMetricWarning: Precision is ill-defined and being set to 0.0 due to no predicted samples. Use `zero_division` parameter to control this behavior.\n",
      "  _warn_prf(average, modifier, msg_start, len(result))\n"
     ]
    },
    {
     "name": "stdout",
     "output_type": "stream",
     "text": [
      "params {'epochs': 10, 'lr': 0.003, 'batch_size': 32, 'drop1': 0.1, 'drop2': 0.7, 'drop3': 0.3, 'drop4': 0.7}\n",
      "iter 1 of 1 X_train shape torch.Size([454, 100])\n"
     ]
    },
    {
     "name": "stderr",
     "output_type": "stream",
     "text": [
      "/home/z1157095/anaconda3/envs/hyper-mnist/lib/python3.9/site-packages/sklearn/metrics/_classification.py:1344: UndefinedMetricWarning: Precision is ill-defined and being set to 0.0 due to no predicted samples. Use `zero_division` parameter to control this behavior.\n",
      "  _warn_prf(average, modifier, msg_start, len(result))\n"
     ]
    },
    {
     "name": "stdout",
     "output_type": "stream",
     "text": [
      "params {'epochs': 10, 'lr': 3e-05, 'batch_size': 32, 'drop1': 0.3, 'drop2': 0.3, 'drop3': 0.5, 'drop4': 0.3}\n",
      "iter 1 of 1 X_train shape torch.Size([454, 100])\n",
      "params {'epochs': 10, 'lr': 3e-05, 'batch_size': 96, 'drop1': 0.1, 'drop2': 0.7, 'drop3': 0.3, 'drop4': 0.7}\n",
      "iter 1 of 1 X_train shape torch.Size([454, 100])\n"
     ]
    },
    {
     "name": "stderr",
     "output_type": "stream",
     "text": [
      "/home/z1157095/anaconda3/envs/hyper-mnist/lib/python3.9/site-packages/sklearn/metrics/_classification.py:1344: UndefinedMetricWarning: Precision is ill-defined and being set to 0.0 due to no predicted samples. Use `zero_division` parameter to control this behavior.\n",
      "  _warn_prf(average, modifier, msg_start, len(result))\n"
     ]
    },
    {
     "name": "stdout",
     "output_type": "stream",
     "text": [
      "params {'epochs': 10, 'lr': 3e-05, 'batch_size': 32, 'drop1': 0.1, 'drop2': 0.3, 'drop3': 0.3, 'drop4': 0.5}\n",
      "iter 1 of 1 X_train shape torch.Size([454, 100])\n"
     ]
    },
    {
     "name": "stderr",
     "output_type": "stream",
     "text": [
      "/home/z1157095/anaconda3/envs/hyper-mnist/lib/python3.9/site-packages/sklearn/metrics/_classification.py:1344: UndefinedMetricWarning: Precision is ill-defined and being set to 0.0 due to no predicted samples. Use `zero_division` parameter to control this behavior.\n",
      "  _warn_prf(average, modifier, msg_start, len(result))\n"
     ]
    },
    {
     "name": "stdout",
     "output_type": "stream",
     "text": [
      "params {'epochs': 10, 'lr': 0.03, 'batch_size': 32, 'drop1': 0.1, 'drop2': 0.7, 'drop3': 0.1, 'drop4': 0.7}\n",
      "iter 1 of 1 X_train shape torch.Size([454, 100])\n",
      "==================== Summary ===================\n",
      "Mode              : Best f : Steps : Time       \n",
      "----------------  : ----   : ----  : ----       \n",
      "Initial solution  : 50     : 1     : 3.45 s     \n",
      "Random seeding    : 53.61  : 19    : 28 s       \n",
      "Local sampling    : 50.93  : 8     : 30 s       \n",
      "Duplicates        : -      : 4     : -          \n",
      "----------------  : ----   : ----  : ----       \n",
      "Total             : 53.61  : 32    : 01:01 (m:s)\n",
      "================================================\n",
      "Hill-Valley-with-noise_network_fn3_{'epochs': 10, 'lr': 3e-05, 'batch_size': 32, 'drop1': 0.1, 'drop2': 0.7, 'drop3': 0.3, 'drop4': 0.7}\n"
     ]
    },
    {
     "name": "stderr",
     "output_type": "stream",
     "text": [
      "/home/z1157095/anaconda3/envs/hyper-mnist/lib/python3.9/site-packages/sklearn/metrics/_classification.py:1344: UndefinedMetricWarning: Precision is ill-defined and being set to 0.0 due to no predicted samples. Use `zero_division` parameter to control this behavior.\n",
      "  _warn_prf(average, modifier, msg_start, len(result))\n"
     ]
    },
    {
     "data": {
      "text/plain": [
       "{'epochs': 10,\n",
       " 'lr': 3e-05,\n",
       " 'batch_size': 32,\n",
       " 'drop1': 0.1,\n",
       " 'drop2': 0.7,\n",
       " 'drop3': 0.3,\n",
       " 'drop4': 0.7}"
      ]
     },
     "execution_count": 33,
     "metadata": {},
     "output_type": "execute_result"
    }
   ],
   "source": [
    "param_grid = {\n",
    "                \"epochs\": CommonHyperparams.ht_epochs,\n",
    "                \"lr\": CommonHyperparams.lr,\n",
    "                \"batch_size\": CommonHyperparams.batch_size,\n",
    "                \"first_hidden_layer\": CommonHyperparams.ht_first_hidden,\n",
    "                \"drop1\": pyhopper.choice([0.1, 0.3, 0.5, 0.7], is_ordinal=True),\n",
    "                \"drop2\": pyhopper.choice([0.1, 0.3, 0.5, 0.7], is_ordinal=True),\n",
    "                \"drop3\": pyhopper.choice([0.1, 0.3, 0.5, 0.7], is_ordinal=True),\n",
    "                \"drop4\": pyhopper.choice([0.1, 0.3, 0.5, 0.7], is_ordinal=True),\n",
    "             }\n",
    "\n",
    "nn_fn3_best_params, nn_fn3_history = pyhopper_best_params(\n",
    "    model_fn=network_fn3,\n",
    "    param_grid=param_grid,\n",
    "    data=(X_train, y_train),\n",
    "    train_size=train_max_size,\n",
    "    DATA=DATA,\n",
    "    device=DEVICE,\n",
    "    time=TIME_BUDGET,\n",
    ")\n",
    "\n",
    "nn_fn3_best_params"
   ]
  },
  {
   "cell_type": "code",
   "execution_count": 34,
   "id": "aa8b864e",
   "metadata": {},
   "outputs": [
    {
     "name": "stdout",
     "output_type": "stream",
     "text": [
      "iter 1 of 1 X_train shape torch.Size([606, 100])\n"
     ]
    },
    {
     "name": "stderr",
     "output_type": "stream",
     "text": [
      "/home/z1157095/anaconda3/envs/hyper-mnist/lib/python3.9/site-packages/sklearn/metrics/_classification.py:1344: UndefinedMetricWarning: Precision is ill-defined and being set to 0.0 due to no predicted samples. Use `zero_division` parameter to control this behavior.\n",
      "  _warn_prf(average, modifier, msg_start, len(result))\n"
     ]
    }
   ],
   "source": [
    "nn3_results = test_model(\n",
    "    model_fn=network_fn3(**nn_fn3_best_params),\n",
    "    data=(X, y),\n",
    "    train_size=eval_train_max_size,\n",
    "    iters=10\n",
    ")"
   ]
  },
  {
   "cell_type": "code",
   "execution_count": 35,
   "id": "fdb86765-3874-4023-8e26-b40ccc6df903",
   "metadata": {
    "tags": []
   },
   "outputs": [
    {
     "name": "stdout",
     "output_type": "stream",
     "text": [
      "metric balanced_accuracy\n",
      "dataset_name Hill-Valley-with-noise\n",
      "Hill-Valley-with-noise: 50.00 ~ nan (max: 50.00)\n"
     ]
    }
   ],
   "source": [
    "print_mean_std_max(nn3_results, DATA)"
   ]
  },
  {
   "cell_type": "code",
   "execution_count": null,
   "id": "e933db2e",
   "metadata": {},
   "outputs": [],
   "source": []
  },
  {
   "cell_type": "code",
   "execution_count": null,
   "id": "ac32477a",
   "metadata": {},
   "outputs": [],
   "source": []
  },
  {
   "cell_type": "markdown",
   "id": "d82e3c9a-94c1-4984-a311-e0091c453333",
   "metadata": {},
   "source": [
    "### Hypernetwork"
   ]
  },
  {
   "cell_type": "code",
   "execution_count": 20,
   "id": "599dbc82",
   "metadata": {},
   "outputs": [],
   "source": [
    "set_seed(SEED)\n",
    "\n",
    "network_hp_fn=get_parametrized_hypertab_fn(DEVICE=DEVICE, n_features=n_features, n_classes=n_classes)"
   ]
  },
  {
   "cell_type": "markdown",
   "id": "b76e319a",
   "metadata": {},
   "source": [
    "#### Find hyperparams"
   ]
  },
  {
   "cell_type": "code",
   "execution_count": 21,
   "id": "5235e59c",
   "metadata": {},
   "outputs": [
    {
     "name": "stdout",
     "output_type": "stream",
     "text": [
      "THIS IS TEST RUN\n",
      "| DEVICE: cpu\n",
      "| model_fn network_hp_fn\n",
      "\n",
      "pyhopper X.shape: (606, 100) y.shape: (606,) train_size: 454\n"
     ]
    },
    {
     "data": {
      "application/vnd.jupyter.widget-view+json": {
       "model_id": "32f9bf0cff924445a3a0f1d58d2add4c",
       "version_major": 2,
       "version_minor": 0
      },
      "text/plain": [
       "  0%|          | [00:00<?]"
      ]
     },
     "metadata": {},
     "output_type": "display_data"
    },
    {
     "name": "stdout",
     "output_type": "stream",
     "text": [
      "Search is scheduled for 01:00 (m:s)\n",
      "params {'epochs': 10, 'masks_no': 50, 'mask_size': 2, 'target_size': 5, 'first_hidden_layer': 32, 'lr': 3e-05, 'batch_size': 32}\n",
      "iter 1 of 1 X_train shape torch.Size([454, 100])\n",
      "params {'epochs': 10, 'masks_no': 200, 'mask_size': 90, 'target_size': 5, 'first_hidden_layer': 32, 'lr': 0.03, 'batch_size': 384}\n",
      "iter 1 of 1 X_train shape torch.Size([454, 100])\n",
      "params {'epochs': 10, 'masks_no': 100, 'mask_size': 2, 'target_size': 20, 'first_hidden_layer': 256, 'lr': 0.0003, 'batch_size': 448}\n",
      "iter 1 of 1 X_train shape torch.Size([454, 100])\n",
      "params {'epochs': 10, 'masks_no': 200, 'mask_size': 2, 'target_size': 5, 'first_hidden_layer': 256, 'lr': 3e-05, 'batch_size': 192}\n",
      "iter 1 of 1 X_train shape torch.Size([454, 100])\n"
     ]
    },
    {
     "name": "stderr",
     "output_type": "stream",
     "text": [
      "/home/z1157095/anaconda3/envs/hyper-mnist/lib/python3.9/site-packages/sklearn/metrics/_classification.py:1344: UndefinedMetricWarning: Precision is ill-defined and being set to 0.0 due to no predicted samples. Use `zero_division` parameter to control this behavior.\n",
      "  _warn_prf(average, modifier, msg_start, len(result))\n"
     ]
    },
    {
     "name": "stdout",
     "output_type": "stream",
     "text": [
      "params {'epochs': 10, 'masks_no': 200, 'mask_size': 2, 'target_size': 5, 'first_hidden_layer': 512, 'lr': 0.03, 'batch_size': 448}\n",
      "iter 1 of 1 X_train shape torch.Size([454, 100])\n",
      "params {'epochs': 10, 'masks_no': 50, 'mask_size': 50, 'target_size': 10, 'first_hidden_layer': 256, 'lr': 3e-05, 'batch_size': 320}\n",
      "iter 1 of 1 X_train shape torch.Size([454, 100])\n",
      "params {'epochs': 10, 'masks_no': 200, 'mask_size': 2, 'target_size': 50, 'first_hidden_layer': 512, 'lr': 0.3, 'batch_size': 480}\n",
      "iter 1 of 1 X_train shape torch.Size([454, 100])\n"
     ]
    },
    {
     "name": "stderr",
     "output_type": "stream",
     "text": [
      "/home/z1157095/anaconda3/envs/hyper-mnist/lib/python3.9/site-packages/sklearn/metrics/_classification.py:1344: UndefinedMetricWarning: Precision is ill-defined and being set to 0.0 due to no predicted samples. Use `zero_division` parameter to control this behavior.\n",
      "  _warn_prf(average, modifier, msg_start, len(result))\n"
     ]
    },
    {
     "name": "stdout",
     "output_type": "stream",
     "text": [
      "params {'epochs': 10, 'masks_no': 100, 'mask_size': 50, 'target_size': 50, 'first_hidden_layer': 512, 'lr': 0.0003, 'batch_size': 224}\n",
      "iter 1 of 1 X_train shape torch.Size([454, 100])\n",
      "params {'epochs': 10, 'masks_no': 100, 'mask_size': 5, 'target_size': 50, 'first_hidden_layer': 32, 'lr': 0.0003, 'batch_size': 320}\n",
      "iter 1 of 1 X_train shape torch.Size([454, 100])\n",
      "params {'epochs': 10, 'masks_no': 300, 'mask_size': 20, 'target_size': 5, 'first_hidden_layer': 64, 'lr': 0.03, 'batch_size': 64}\n",
      "iter 1 of 1 X_train shape torch.Size([454, 100])\n",
      "params {'epochs': 10, 'masks_no': 150, 'mask_size': 90, 'target_size': 50, 'first_hidden_layer': 32, 'lr': 0.003, 'batch_size': 224}\n",
      "iter 1 of 1 X_train shape torch.Size([454, 100])\n",
      "params {'epochs': 10, 'masks_no': 300, 'mask_size': 5, 'target_size': 20, 'first_hidden_layer': 256, 'lr': 0.0003, 'batch_size': 96}\n",
      "iter 1 of 1 X_train shape torch.Size([454, 100])\n",
      "params {'epochs': 10, 'masks_no': 300, 'mask_size': 2, 'target_size': 20, 'first_hidden_layer': 64, 'lr': 0.03, 'batch_size': 192}\n",
      "iter 1 of 1 X_train shape torch.Size([454, 100])\n",
      "params {'epochs': 10, 'masks_no': 100, 'mask_size': 5, 'target_size': 10, 'first_hidden_layer': 512, 'lr': 0.03, 'batch_size': 352}\n",
      "iter 1 of 1 X_train shape torch.Size([454, 100])\n",
      "params {'epochs': 10, 'masks_no': 300, 'mask_size': 50, 'target_size': 50, 'first_hidden_layer': 64, 'lr': 3e-05, 'batch_size': 160}\n",
      "iter 1 of 1 X_train shape torch.Size([454, 100])\n",
      "params {'epochs': 10, 'masks_no': 300, 'mask_size': 50, 'target_size': 20, 'first_hidden_layer': 64, 'lr': 0.03, 'batch_size': 128}\n",
      "iter 1 of 1 X_train shape torch.Size([454, 100])\n"
     ]
    },
    {
     "name": "stderr",
     "output_type": "stream",
     "text": [
      "/home/z1157095/anaconda3/envs/hyper-mnist/lib/python3.9/site-packages/sklearn/metrics/_classification.py:1344: UndefinedMetricWarning: Precision is ill-defined and being set to 0.0 due to no predicted samples. Use `zero_division` parameter to control this behavior.\n",
      "  _warn_prf(average, modifier, msg_start, len(result))\n"
     ]
    },
    {
     "name": "stdout",
     "output_type": "stream",
     "text": [
      "params {'epochs': 10, 'masks_no': 150, 'mask_size': 20, 'target_size': 10, 'first_hidden_layer': 32, 'lr': 0.0003, 'batch_size': 64}\n",
      "iter 1 of 1 X_train shape torch.Size([454, 100])\n",
      "params {'epochs': 10, 'masks_no': 300, 'mask_size': 10, 'target_size': 5, 'first_hidden_layer': 64, 'lr': 0.3, 'batch_size': 32}\n",
      "iter 1 of 1 X_train shape torch.Size([454, 100])\n",
      "params {'epochs': 10, 'masks_no': 300, 'mask_size': 5, 'target_size': 5, 'first_hidden_layer': 64, 'lr': 0.03, 'batch_size': 64}\n",
      "iter 1 of 1 X_train shape torch.Size([454, 100])\n",
      "params {'epochs': 10, 'masks_no': 100, 'mask_size': 2, 'target_size': 5, 'first_hidden_layer': 64, 'lr': 0.03, 'batch_size': 64}\n",
      "iter 1 of 1 X_train shape torch.Size([454, 100])\n",
      "params {'epochs': 10, 'masks_no': 100, 'mask_size': 50, 'target_size': 5, 'first_hidden_layer': 64, 'lr': 0.03, 'batch_size': 96}\n",
      "iter 1 of 1 X_train shape torch.Size([454, 100])\n"
     ]
    },
    {
     "name": "stderr",
     "output_type": "stream",
     "text": [
      "/home/z1157095/anaconda3/envs/hyper-mnist/lib/python3.9/site-packages/sklearn/metrics/_classification.py:1344: UndefinedMetricWarning: Precision is ill-defined and being set to 0.0 due to no predicted samples. Use `zero_division` parameter to control this behavior.\n",
      "  _warn_prf(average, modifier, msg_start, len(result))\n"
     ]
    },
    {
     "name": "stdout",
     "output_type": "stream",
     "text": [
      "params {'epochs': 10, 'masks_no': 200, 'mask_size': 20, 'target_size': 20, 'first_hidden_layer': 64, 'lr': 0.03, 'batch_size': 64}\n",
      "iter 1 of 1 X_train shape torch.Size([454, 100])\n",
      "params {'epochs': 10, 'masks_no': 100, 'mask_size': 20, 'target_size': 5, 'first_hidden_layer': 64, 'lr': 3e-05, 'batch_size': 128}\n",
      "iter 1 of 1 X_train shape torch.Size([454, 100])\n",
      "params {'epochs': 10, 'masks_no': 100, 'mask_size': 20, 'target_size': 10, 'first_hidden_layer': 64, 'lr': 0.3, 'batch_size': 64}\n",
      "iter 1 of 1 X_train shape torch.Size([454, 100])\n",
      "params {'epochs': 10, 'masks_no': 300, 'mask_size': 90, 'target_size': 5, 'first_hidden_layer': 64, 'lr': 0.03, 'batch_size': 96}\n",
      "iter 1 of 1 X_train shape torch.Size([454, 100])\n",
      "params {'epochs': 10, 'masks_no': 100, 'mask_size': 2, 'target_size': 5, 'first_hidden_layer': 512, 'lr': 0.03, 'batch_size': 64}\n",
      "iter 1 of 1 X_train shape torch.Size([454, 100])\n",
      "params {'epochs': 10, 'masks_no': 200, 'mask_size': 90, 'target_size': 10, 'first_hidden_layer': 512, 'lr': 0.003, 'batch_size': 160}\n",
      "iter 1 of 1 X_train shape torch.Size([454, 100])\n",
      "params {'epochs': 10, 'masks_no': 200, 'mask_size': 90, 'target_size': 20, 'first_hidden_layer': 512, 'lr': 0.003, 'batch_size': 128}\n",
      "iter 1 of 1 X_train shape torch.Size([454, 100])\n",
      "params {'epochs': 10, 'masks_no': 200, 'mask_size': 90, 'target_size': 10, 'first_hidden_layer': 64, 'lr': 0.003, 'batch_size': 160}\n",
      "iter 1 of 1 X_train shape torch.Size([454, 100])\n",
      "params {'epochs': 10, 'masks_no': 200, 'mask_size': 2, 'target_size': 50, 'first_hidden_layer': 256, 'lr': 3e-05, 'batch_size': 128}\n",
      "iter 1 of 1 X_train shape torch.Size([454, 100])\n",
      "================= Summary =================\n",
      "Mode              : Best f : Steps : Time  \n",
      "----------------  : ----   : ----  : ----  \n",
      "Initial solution  : 50     : 1     : 1.44 s\n",
      "Random seeding    : 57.58  : 15    : 30 s  \n",
      "Local sampling    : 59.71  : 14    : 27 s  \n",
      "Duplicates        : -      : 2     : -     \n",
      "----------------  : ----   : ----  : ----  \n",
      "Total             : 59.71  : 32    : 58 s  \n",
      "===========================================\n",
      "Hill-Valley-with-noise_network_hp_fn_{'epochs': 10, 'masks_no': 200, 'mask_size': 90, 'target_size': 10, 'first_hidden_layer': 512, 'lr': 0.003, 'batch_size': 160}\n"
     ]
    },
    {
     "data": {
      "text/plain": [
       "{'epochs': 10,\n",
       " 'masks_no': 200,\n",
       " 'mask_size': 90,\n",
       " 'target_size': 10,\n",
       " 'first_hidden_layer': 512,\n",
       " 'lr': 0.003,\n",
       " 'batch_size': 160}"
      ]
     },
     "execution_count": 21,
     "metadata": {},
     "output_type": "execute_result"
    }
   ],
   "source": [
    "param_grid = {\n",
    "    \"epochs\": CommonHyperparams.ht_epochs,\n",
    "    \"masks_no\": CommonHyperparams.ht_mask_no,\n",
    "    \"mask_size\": CommonHyperparams.ht_mask_size,\n",
    "    \"target_size\": CommonHyperparams.ht_target_size,\n",
    "    \"first_hidden_layer\": CommonHyperparams.ht_first_hidden,\n",
    "    \"lr\": CommonHyperparams.lr,\n",
    "    \"batch_size\": CommonHyperparams.batch_size,\n",
    "}\n",
    "\n",
    "hp_best_params, hp_history = pyhopper_best_params(\n",
    "    model_fn=network_hp_fn, \n",
    "    param_grid=param_grid,\n",
    "    data=(X_train, y_train),\n",
    "    train_size=train_max_size,\n",
    "    DATA=DATA,\n",
    "    device=DEVICE,\n",
    "    time=TIME_BUDGET,\n",
    ")\n",
    "\n",
    "hp_best_params"
   ]
  },
  {
   "cell_type": "code",
   "execution_count": 22,
   "id": "b4b9203a",
   "metadata": {
    "jupyter": {
     "outputs_hidden": true
    },
    "tags": []
   },
   "outputs": [
    {
     "data": {
      "text/plain": [
       "{'epochs': 10,\n",
       " 'masks_no': 200,\n",
       " 'mask_size': 90,\n",
       " 'target_size': 10,\n",
       " 'first_hidden_layer': 512,\n",
       " 'lr': 0.003,\n",
       " 'batch_size': 160}"
      ]
     },
     "execution_count": 22,
     "metadata": {},
     "output_type": "execute_result"
    }
   ],
   "source": [
    "hp_best_params"
   ]
  },
  {
   "cell_type": "markdown",
   "id": "7fe02f07-52f6-4735-93f5-8e14bd22803f",
   "metadata": {},
   "source": [
    "#### Train using the best hyperparams"
   ]
  },
  {
   "cell_type": "code",
   "execution_count": 23,
   "id": "283d9aca-1f98-42e6-b229-e14e937cb431",
   "metadata": {
    "tags": []
   },
   "outputs": [
    {
     "name": "stdout",
     "output_type": "stream",
     "text": [
      "iter 1 of 1 X_train shape torch.Size([606, 100])\n"
     ]
    },
    {
     "name": "stderr",
     "output_type": "stream",
     "text": [
      "100%|██████████| 10/10 [00:02<00:00,  4.07it/s]\n"
     ]
    }
   ],
   "source": [
    "hyper_results = test_model(\n",
    "    model_fn=network_hp_fn(**hp_best_params, verbose=True),\n",
    "    data=(X, y),\n",
    "    train_size=eval_train_max_size,\n",
    "    iters=10\n",
    ")"
   ]
  },
  {
   "cell_type": "code",
   "execution_count": 24,
   "id": "b2129c6b-2c65-458e-b175-51aaf313fa42",
   "metadata": {},
   "outputs": [
    {
     "name": "stdout",
     "output_type": "stream",
     "text": [
      "metric balanced_accuracy\n",
      "dataset_name Hill-Valley-with-noise\n",
      "Hill-Valley-with-noise: 50.14 ~ nan (max: 50.14)\n"
     ]
    }
   ],
   "source": [
    "print_mean_std_max(hyper_results, DATA)"
   ]
  },
  {
   "cell_type": "markdown",
   "id": "239982a0",
   "metadata": {},
   "source": [
    " \n",
    " "
   ]
  },
  {
   "cell_type": "markdown",
   "id": "4303adc6",
   "metadata": {},
   "source": [
    " "
   ]
  },
  {
   "cell_type": "code",
   "execution_count": null,
   "id": "e5591c07",
   "metadata": {},
   "outputs": [],
   "source": []
  },
  {
   "cell_type": "markdown",
   "id": "aeff3d0b",
   "metadata": {},
   "source": [
    "## NODE"
   ]
  },
  {
   "cell_type": "code",
   "execution_count": 21,
   "id": "cb094e40",
   "metadata": {},
   "outputs": [],
   "source": [
    "set_seed(SEED)\n",
    "\n",
    "node_fn=get_parametrized_node_fn(X_train=X_train, n_classes=n_classes, n_features=n_features, DEVICE=DEVICE)"
   ]
  },
  {
   "cell_type": "code",
   "execution_count": null,
   "id": "217206a4",
   "metadata": {},
   "outputs": [],
   "source": []
  },
  {
   "cell_type": "markdown",
   "id": "5fad4799",
   "metadata": {},
   "source": [
    "#### Tune hyperparams"
   ]
  },
  {
   "cell_type": "code",
   "execution_count": 21,
   "id": "3f66019e",
   "metadata": {
    "scrolled": true
   },
   "outputs": [
    {
     "name": "stdout",
     "output_type": "stream",
     "text": [
      "THIS IS TEST RUN\n",
      "| DEVICE: cpu\n",
      "| model_fn node_fn\n",
      "\n",
      "pyhopper X.shape: (606, 100) y.shape: (606,) train_size: 454\n"
     ]
    },
    {
     "data": {
      "application/vnd.jupyter.widget-view+json": {
       "model_id": "5407b6bfbb634260be466c319cc5e8e5",
       "version_major": 2,
       "version_minor": 0
      },
      "text/plain": [
       "  0%|          | [00:00<?]"
      ]
     },
     "metadata": {},
     "output_type": "display_data"
    },
    {
     "name": "stdout",
     "output_type": "stream",
     "text": [
      "Search is scheduled for 01:00 (m:s)\n",
      "params {'layer_dim': 256, 'num_layers': 3, 'depth': 4, 'batch_size': 32}\n",
      "iter 1 of 1 X_train shape torch.Size([454, 100])\n"
     ]
    },
    {
     "name": "stderr",
     "output_type": "stream",
     "text": [
      "/home/z1157095/hypernet-cnn/deps/node/node/lib/odst.py:72: UserWarning: __floordiv__ is deprecated, and its behavior will change in a future version of pytorch. It currently rounds toward 0 (like the 'trunc' function NOT 'floor'). This results in incorrect rounding for negative values. To keep the current behavior, use torch.div(a, b, rounding_mode='trunc'), or for actual floor division, use torch.div(a, b, rounding_mode='floor').\n",
      "  bin_codes = (indices.view(1, -1) // offsets.view(-1, 1) % 2).to(torch.float32)\n",
      "/home/z1157095/hypernet-cnn/deps/node/node/lib/odst.py:113: UserWarning: Data-aware initialization is performed on less than 1000 data points. This may cause instability.To avoid potential problems, run this model on a data batch with at least 1000 data samples.You can do so manually before training. Use with torch.no_grad() for memory efficiency.\n",
      "  warn(\"Data-aware initialization is performed on less than 1000 data points. This may cause instability.\"\n",
      "/home/z1157095/anaconda3/envs/hyper-mnist/lib/python3.9/site-packages/qhoptim/pyt/qhadam.py:133: UserWarning: This overload of add_ is deprecated:\n",
      "\tadd_(Number alpha, Tensor other)\n",
      "Consider using one of the following signatures instead:\n",
      "\tadd_(Tensor other, *, Number alpha) (Triggered internally at  ../torch/csrc/utils/python_arg_parser.cpp:1055.)\n",
      "  exp_avg.mul_(beta1_adj).add_(1.0 - beta1_adj, d_p)\n"
     ]
    },
    {
     "name": "stdout",
     "output_type": "stream",
     "text": [
      "==================== Summary ===================\n",
      "Mode              : Best f : Steps : Time       \n",
      "----------------  : ----   : ----  : ----       \n",
      "Initial solution  : 50     : 1     : 18:24 (m:s)\n",
      "----------------  : ----   : ----  : ----       \n",
      "Total             : 50     : 1     : 18:24 (m:s)\n",
      "================================================\n",
      "Hill-Valley-with-noise_node_fn_{'layer_dim': 256, 'num_layers': 3, 'depth': 4, 'batch_size': 32}\n"
     ]
    },
    {
     "name": "stderr",
     "output_type": "stream",
     "text": [
      "/home/z1157095/anaconda3/envs/hyper-mnist/lib/python3.9/site-packages/sklearn/metrics/_classification.py:1344: UndefinedMetricWarning: Precision is ill-defined and being set to 0.0 due to no predicted samples. Use `zero_division` parameter to control this behavior.\n",
      "  _warn_prf(average, modifier, msg_start, len(result))\n"
     ]
    },
    {
     "data": {
      "text/plain": [
       "{'layer_dim': 256, 'num_layers': 3, 'depth': 4, 'batch_size': 32}"
      ]
     },
     "execution_count": 21,
     "metadata": {},
     "output_type": "execute_result"
    }
   ],
   "source": [
    "# 'layer_dim': hp.quniform('layer_dim', 100, 1200, 100),\n",
    "# 'num_layers': hp.quniform('num_layers', 1, 4, 1),\n",
    "# 'depth': hp.quniform('depth', 2, 7, 1)\n",
    "                    \n",
    "param_grid = {\n",
    "    'layer_dim': pyhopper.int(64, 512, power_of=2),\n",
    "    'num_layers': pyhopper.int(1, 5),\n",
    "    'depth': pyhopper.int(2, 7),\n",
    "    'batch_size': CommonHyperparams.batch_size,\n",
    "}\n",
    "\n",
    "node_best, node_history = pyhopper_best_params(\n",
    "    model_fn=node_fn,\n",
    "    param_grid=param_grid,\n",
    "    data=(X_train, y_train),\n",
    "    train_size=train_max_size,\n",
    "    DATA=DATA,\n",
    "    device=DEVICE,\n",
    "    time=TIME_BUDGET\n",
    ")\n",
    "\n",
    "node_best"
   ]
  },
  {
   "cell_type": "code",
   "execution_count": null,
   "id": "5b053c73",
   "metadata": {},
   "outputs": [],
   "source": []
  },
  {
   "cell_type": "markdown",
   "id": "734b53a7",
   "metadata": {},
   "source": [
    "#### Use best hyperparams"
   ]
  },
  {
   "cell_type": "code",
   "execution_count": 22,
   "id": "c9266352",
   "metadata": {
    "tags": []
   },
   "outputs": [
    {
     "name": "stdout",
     "output_type": "stream",
     "text": [
      "iter 1 of 1 X_train shape torch.Size([606, 100])\n"
     ]
    }
   ],
   "source": [
    "%%capture --no-stdout\n",
    "\n",
    "node_results = test_model(\n",
    "    model_fn=node_fn(**node_best),\n",
    "    data=(X, y),\n",
    "    train_size=eval_train_max_size,\n",
    "    iters=10\n",
    ")"
   ]
  },
  {
   "cell_type": "code",
   "execution_count": 23,
   "id": "43c26243",
   "metadata": {},
   "outputs": [
    {
     "name": "stdout",
     "output_type": "stream",
     "text": [
      "metric balanced_accuracy\n",
      "dataset_name Hill-Valley-with-noise\n",
      "Hill-Valley-with-noise: 50.00 ~ nan (max: 50.00)\n"
     ]
    }
   ],
   "source": [
    "print_mean_std_max(node_results, DATA)"
   ]
  },
  {
   "cell_type": "code",
   "execution_count": null,
   "id": "aead365d",
   "metadata": {},
   "outputs": [],
   "source": []
  },
  {
   "cell_type": "markdown",
   "id": "aa987cfe",
   "metadata": {},
   "source": [
    "# Collect analytics"
   ]
  },
  {
   "cell_type": "code",
   "execution_count": null,
   "id": "e9878479",
   "metadata": {},
   "outputs": [],
   "source": []
  },
  {
   "cell_type": "code",
   "execution_count": 43,
   "id": "6ffd69a1",
   "metadata": {},
   "outputs": [],
   "source": [
    "d = {}"
   ]
  },
  {
   "cell_type": "code",
   "execution_count": 44,
   "id": "1818d2c8",
   "metadata": {},
   "outputs": [],
   "source": [
    "if 'cpu' in DEVICE:\n",
    "    d['Random forest'] = rf_dframe.groupby(\"Class\")['Metric'].agg(['mean', 'std', 'max'])\n",
    "    d['XGBoost'] = xgb_dframe.groupby(\"Class\")['Metric'].agg(['mean', 'std', 'max'])\n",
    "    d['Random Subspace'] = bagging_results.groupby(\"Class\")['Metric'].agg(['mean', 'std', 'max'])\n",
    "    d['Ensembles'] = ensemble_results.groupby(\"Class\")['Metric'].agg(['mean', 'std', 'max'])"
   ]
  },
  {
   "cell_type": "code",
   "execution_count": 63,
   "id": "6c53193f",
   "metadata": {},
   "outputs": [],
   "source": [
    "if 'cuda' in DEVICE:\n",
    "    d['Hypernet'] = hyper_results.groupby(\"Class\")['Metric'].agg(['mean', 'std', 'max'])\n",
    "    d['Dropout_1'] = nn1_results.groupby(\"Class\")['Metric'].agg(['mean', 'std', 'max'])\n",
    "    d['Dropout_2'] = nn2_results.groupby(\"Class\")['Metric'].agg(['mean', 'std', 'max'])\n",
    "    d['Dropout_3'] = nn3_results.groupby(\"Class\")['Metric'].agg(['mean', 'std', 'max'])\n",
    "    d['Node'] = node_results.groupby(\"Class\")['Metric'].agg(['mean', 'std', 'max'])\n"
   ]
  },
  {
   "cell_type": "code",
   "execution_count": 49,
   "id": "7f523ee2",
   "metadata": {},
   "outputs": [
    {
     "data": {
      "text/html": [
       "<div>\n",
       "<style scoped>\n",
       "    .dataframe tbody tr th:only-of-type {\n",
       "        vertical-align: middle;\n",
       "    }\n",
       "\n",
       "    .dataframe tbody tr th {\n",
       "        vertical-align: top;\n",
       "    }\n",
       "\n",
       "    .dataframe thead th {\n",
       "        text-align: right;\n",
       "    }\n",
       "</style>\n",
       "<table border=\"1\" class=\"dataframe\">\n",
       "  <thead>\n",
       "    <tr style=\"text-align: right;\">\n",
       "      <th></th>\n",
       "      <th></th>\n",
       "      <th>mean</th>\n",
       "      <th>std</th>\n",
       "      <th>max</th>\n",
       "    </tr>\n",
       "    <tr>\n",
       "      <th></th>\n",
       "      <th>Class</th>\n",
       "      <th></th>\n",
       "      <th></th>\n",
       "      <th></th>\n",
       "    </tr>\n",
       "  </thead>\n",
       "  <tbody>\n",
       "    <tr>\n",
       "      <th rowspan=\"8\" valign=\"top\">Random forest</th>\n",
       "      <th>0</th>\n",
       "      <td>56.856187</td>\n",
       "      <td>0.000000</td>\n",
       "      <td>56.856187</td>\n",
       "    </tr>\n",
       "    <tr>\n",
       "      <th>1</th>\n",
       "      <td>46.905537</td>\n",
       "      <td>0.000000</td>\n",
       "      <td>46.905537</td>\n",
       "    </tr>\n",
       "    <tr>\n",
       "      <th>F1 score</th>\n",
       "      <td>49.655172</td>\n",
       "      <td>0.000000</td>\n",
       "      <td>49.655172</td>\n",
       "    </tr>\n",
       "    <tr>\n",
       "      <th>Precision</th>\n",
       "      <td>52.747253</td>\n",
       "      <td>0.000000</td>\n",
       "      <td>52.747253</td>\n",
       "    </tr>\n",
       "    <tr>\n",
       "      <th>Recall</th>\n",
       "      <td>46.905537</td>\n",
       "      <td>0.000000</td>\n",
       "      <td>46.905537</td>\n",
       "    </tr>\n",
       "    <tr>\n",
       "      <th>Total</th>\n",
       "      <td>51.815182</td>\n",
       "      <td>0.000000</td>\n",
       "      <td>51.815182</td>\n",
       "    </tr>\n",
       "    <tr>\n",
       "      <th>balanced_accuracy</th>\n",
       "      <td>51.880862</td>\n",
       "      <td>0.000000</td>\n",
       "      <td>51.880862</td>\n",
       "    </tr>\n",
       "    <tr>\n",
       "      <th>roc_auc</th>\n",
       "      <td>54.137570</td>\n",
       "      <td>0.000000</td>\n",
       "      <td>54.137570</td>\n",
       "    </tr>\n",
       "    <tr>\n",
       "      <th rowspan=\"8\" valign=\"top\">XGBoost</th>\n",
       "      <th>0</th>\n",
       "      <td>52.842809</td>\n",
       "      <td>0.000000</td>\n",
       "      <td>52.842809</td>\n",
       "    </tr>\n",
       "    <tr>\n",
       "      <th>1</th>\n",
       "      <td>49.837134</td>\n",
       "      <td>0.000000</td>\n",
       "      <td>49.837134</td>\n",
       "    </tr>\n",
       "    <tr>\n",
       "      <th>F1 score</th>\n",
       "      <td>50.915141</td>\n",
       "      <td>0.000000</td>\n",
       "      <td>50.915141</td>\n",
       "    </tr>\n",
       "    <tr>\n",
       "      <th>Precision</th>\n",
       "      <td>52.040816</td>\n",
       "      <td>0.000000</td>\n",
       "      <td>52.040816</td>\n",
       "    </tr>\n",
       "    <tr>\n",
       "      <th>Recall</th>\n",
       "      <td>49.837134</td>\n",
       "      <td>0.000000</td>\n",
       "      <td>49.837134</td>\n",
       "    </tr>\n",
       "    <tr>\n",
       "      <th>Total</th>\n",
       "      <td>51.320132</td>\n",
       "      <td>0.000000</td>\n",
       "      <td>51.320132</td>\n",
       "    </tr>\n",
       "    <tr>\n",
       "      <th>balanced_accuracy</th>\n",
       "      <td>51.339971</td>\n",
       "      <td>0.000000</td>\n",
       "      <td>51.339971</td>\n",
       "    </tr>\n",
       "    <tr>\n",
       "      <th>roc_auc</th>\n",
       "      <td>51.981088</td>\n",
       "      <td>0.000000</td>\n",
       "      <td>51.981088</td>\n",
       "    </tr>\n",
       "    <tr>\n",
       "      <th rowspan=\"8\" valign=\"top\">Random Subspace</th>\n",
       "      <th>0</th>\n",
       "      <td>75.451505</td>\n",
       "      <td>4.490415</td>\n",
       "      <td>86.287625</td>\n",
       "    </tr>\n",
       "    <tr>\n",
       "      <th>1</th>\n",
       "      <td>35.244300</td>\n",
       "      <td>4.492018</td>\n",
       "      <td>44.299674</td>\n",
       "    </tr>\n",
       "    <tr>\n",
       "      <th>F1 score</th>\n",
       "      <td>44.180028</td>\n",
       "      <td>3.978891</td>\n",
       "      <td>51.612903</td>\n",
       "    </tr>\n",
       "    <tr>\n",
       "      <th>Precision</th>\n",
       "      <td>59.764888</td>\n",
       "      <td>4.870938</td>\n",
       "      <td>70.503597</td>\n",
       "    </tr>\n",
       "    <tr>\n",
       "      <th>Recall</th>\n",
       "      <td>35.244300</td>\n",
       "      <td>4.492018</td>\n",
       "      <td>44.299674</td>\n",
       "    </tr>\n",
       "    <tr>\n",
       "      <th>Total</th>\n",
       "      <td>55.082508</td>\n",
       "      <td>2.438674</td>\n",
       "      <td>58.745875</td>\n",
       "    </tr>\n",
       "    <tr>\n",
       "      <th>balanced_accuracy</th>\n",
       "      <td>55.347902</td>\n",
       "      <td>2.438146</td>\n",
       "      <td>59.104725</td>\n",
       "    </tr>\n",
       "    <tr>\n",
       "      <th>roc_auc</th>\n",
       "      <td>58.784766</td>\n",
       "      <td>3.421513</td>\n",
       "      <td>64.830652</td>\n",
       "    </tr>\n",
       "    <tr>\n",
       "      <th rowspan=\"8\" valign=\"top\">Ensembles</th>\n",
       "      <th>0</th>\n",
       "      <td>66.622074</td>\n",
       "      <td>0.752818</td>\n",
       "      <td>67.892977</td>\n",
       "    </tr>\n",
       "    <tr>\n",
       "      <th>1</th>\n",
       "      <td>36.742671</td>\n",
       "      <td>1.463182</td>\n",
       "      <td>39.087948</td>\n",
       "    </tr>\n",
       "    <tr>\n",
       "      <th>F1 score</th>\n",
       "      <td>43.404559</td>\n",
       "      <td>1.170990</td>\n",
       "      <td>45.283019</td>\n",
       "    </tr>\n",
       "    <tr>\n",
       "      <th>Precision</th>\n",
       "      <td>53.045168</td>\n",
       "      <td>0.468804</td>\n",
       "      <td>53.846154</td>\n",
       "    </tr>\n",
       "    <tr>\n",
       "      <th>Recall</th>\n",
       "      <td>36.742671</td>\n",
       "      <td>1.463182</td>\n",
       "      <td>39.087948</td>\n",
       "    </tr>\n",
       "    <tr>\n",
       "      <th>Total</th>\n",
       "      <td>51.485149</td>\n",
       "      <td>0.396650</td>\n",
       "      <td>52.145215</td>\n",
       "    </tr>\n",
       "    <tr>\n",
       "      <th>balanced_accuracy</th>\n",
       "      <td>51.682372</td>\n",
       "      <td>0.383054</td>\n",
       "      <td>52.324251</td>\n",
       "    </tr>\n",
       "    <tr>\n",
       "      <th>roc_auc</th>\n",
       "      <td>52.004401</td>\n",
       "      <td>0.316074</td>\n",
       "      <td>52.489841</td>\n",
       "    </tr>\n",
       "  </tbody>\n",
       "</table>\n",
       "</div>"
      ],
      "text/plain": [
       "                                        mean       std        max\n",
       "                Class                                            \n",
       "Random forest   0                  56.856187  0.000000  56.856187\n",
       "                1                  46.905537  0.000000  46.905537\n",
       "                F1 score           49.655172  0.000000  49.655172\n",
       "                Precision          52.747253  0.000000  52.747253\n",
       "                Recall             46.905537  0.000000  46.905537\n",
       "                Total              51.815182  0.000000  51.815182\n",
       "                balanced_accuracy  51.880862  0.000000  51.880862\n",
       "                roc_auc            54.137570  0.000000  54.137570\n",
       "XGBoost         0                  52.842809  0.000000  52.842809\n",
       "                1                  49.837134  0.000000  49.837134\n",
       "                F1 score           50.915141  0.000000  50.915141\n",
       "                Precision          52.040816  0.000000  52.040816\n",
       "                Recall             49.837134  0.000000  49.837134\n",
       "                Total              51.320132  0.000000  51.320132\n",
       "                balanced_accuracy  51.339971  0.000000  51.339971\n",
       "                roc_auc            51.981088  0.000000  51.981088\n",
       "Random Subspace 0                  75.451505  4.490415  86.287625\n",
       "                1                  35.244300  4.492018  44.299674\n",
       "                F1 score           44.180028  3.978891  51.612903\n",
       "                Precision          59.764888  4.870938  70.503597\n",
       "                Recall             35.244300  4.492018  44.299674\n",
       "                Total              55.082508  2.438674  58.745875\n",
       "                balanced_accuracy  55.347902  2.438146  59.104725\n",
       "                roc_auc            58.784766  3.421513  64.830652\n",
       "Ensembles       0                  66.622074  0.752818  67.892977\n",
       "                1                  36.742671  1.463182  39.087948\n",
       "                F1 score           43.404559  1.170990  45.283019\n",
       "                Precision          53.045168  0.468804  53.846154\n",
       "                Recall             36.742671  1.463182  39.087948\n",
       "                Total              51.485149  0.396650  52.145215\n",
       "                balanced_accuracy  51.682372  0.383054  52.324251\n",
       "                roc_auc            52.004401  0.316074  52.489841"
      ]
     },
     "execution_count": 49,
     "metadata": {},
     "output_type": "execute_result"
    }
   ],
   "source": [
    "all_models_df=pd.concat(d, axis=0)\n",
    "all_models_df"
   ]
  },
  {
   "cell_type": "code",
   "execution_count": null,
   "id": "f9873e81",
   "metadata": {},
   "outputs": [],
   "source": []
  },
  {
   "cell_type": "code",
   "execution_count": 66,
   "id": "80d25d88",
   "metadata": {},
   "outputs": [],
   "source": [
    "all_models_df.to_csv(FILE_NAME)"
   ]
  },
  {
   "cell_type": "code",
   "execution_count": null,
   "id": "3164db00",
   "metadata": {},
   "outputs": [],
   "source": []
  },
  {
   "cell_type": "code",
   "execution_count": 67,
   "id": "0654fd20",
   "metadata": {},
   "outputs": [
    {
     "name": "stderr",
     "output_type": "stream",
     "text": [
      "COMET WARNING: Comet has disabled auto-logging functionality as it has been imported after the following ML modules: sklearn, torch. Metrics and hyperparameters can still be logged using comet_ml.log_metrics() and comet_ml.log_parameters()\n",
      "COMET WARNING: As you are running in a Jupyter environment, you will need to call `experiment.end()` when finished to ensure all metrics and code are logged before exiting.\n",
      "COMET INFO: Experiment is live on comet.ml https://www.comet.com/abulenok/hypernet-uci-tune/149575beb906407eacd784e140ed9789\n",
      "\n"
     ]
    },
    {
     "data": {
      "text/plain": [
       "{'web': 'https://www.comet.com/api/asset/download?assetId=ebb6e7a67520408ab4c331339ea83125&experimentKey=149575beb906407eacd784e140ed9789',\n",
       " 'api': 'https://www.comet.com/api/rest/v2/experiment/asset/get-asset?assetId=ebb6e7a67520408ab4c331339ea83125&experimentKey=149575beb906407eacd784e140ed9789',\n",
       " 'assetId': 'ebb6e7a67520408ab4c331339ea83125'}"
      ]
     },
     "execution_count": 67,
     "metadata": {},
     "output_type": "execute_result"
    }
   ],
   "source": [
    "exp = Experiment('CKx9rZkSCV9YDeW8zbPqhwMux', 'hypernet-uci3-tune')\n",
    "# exp.log_parameters({\"epochs\": epochs, \"mask_size\": mask_size, \"masks_no\": masks_no, \"data_size\": data_size})\n",
    "exp.add_tag(f\"hypernet-tune3{DATA}\")\n",
    "exp.log_table(FILE_NAME, all_models_df)"
   ]
  },
  {
   "cell_type": "markdown",
   "id": "ce733782",
   "metadata": {},
   "source": [
    "### Replace some data in existing"
   ]
  },
  {
   "cell_type": "code",
   "execution_count": 68,
   "id": "a0a197e0",
   "metadata": {},
   "outputs": [],
   "source": [
    "# tmp_df = pd.concat(d, axis=0)\n",
    "# tmp_df = tmp_df.reset_index()\n",
    "# tmp_df = tmp_df.rename(columns={tmp_df.columns[0]: DATA})\n",
    "\n",
    "# tmp_df"
   ]
  },
  {
   "cell_type": "code",
   "execution_count": 69,
   "id": "8fdbf166",
   "metadata": {},
   "outputs": [],
   "source": [
    "# all_models_df = pd.read_csv(f\"{DATA}_metrics.csv\")\n",
    "# all_models_df = all_models_df.rename(columns={all_models_df.columns[0]: DATA})\n",
    "# all_models_df = all_models_df.drop(all_models_df[all_models_df.iloc[:, 0] == 'Hypernet'].index)\n",
    "# all_models_df = all_models_df.drop(all_models_df[all_models_df.iloc[:, 0] == 'HypernetPCA'].index)\n",
    "\n",
    "# all_models_df"
   ]
  },
  {
   "cell_type": "code",
   "execution_count": 70,
   "id": "d2cc3246",
   "metadata": {},
   "outputs": [],
   "source": [
    "# all_models_df = pd.concat([all_models_df, tmp_df])\n",
    "# all_models_df"
   ]
  },
  {
   "cell_type": "code",
   "execution_count": null,
   "id": "fff93119",
   "metadata": {},
   "outputs": [],
   "source": []
  },
  {
   "cell_type": "code",
   "execution_count": null,
   "id": "9a5ebc5e",
   "metadata": {},
   "outputs": [],
   "source": []
  },
  {
   "cell_type": "markdown",
   "id": "d2661b3c",
   "metadata": {},
   "source": [
    "f\"{DATA}_metrics.csv\""
   ]
  },
  {
   "cell_type": "markdown",
   "id": "301081fb",
   "metadata": {},
   "source": [
    "all_models_df = pd.read_csv(f\"{DATA}_metrics.csv\")"
   ]
  },
  {
   "cell_type": "markdown",
   "id": "685ec22f",
   "metadata": {},
   "source": [
    "all_models_df.reset_index()"
   ]
  },
  {
   "cell_type": "code",
   "execution_count": null,
   "id": "fcccc753",
   "metadata": {},
   "outputs": [],
   "source": []
  },
  {
   "cell_type": "code",
   "execution_count": 74,
   "id": "1bf024fd",
   "metadata": {},
   "outputs": [],
   "source": [
    "# all_models_df = all_models_df.drop(all_models_df.columns[0], axis=1)\n",
    "# all_models_df"
   ]
  },
  {
   "cell_type": "code",
   "execution_count": null,
   "id": "04ca3f98",
   "metadata": {},
   "outputs": [],
   "source": []
  },
  {
   "cell_type": "markdown",
   "id": "20c8b85c",
   "metadata": {},
   "source": [
    "tmp = all_models_df"
   ]
  },
  {
   "cell_type": "markdown",
   "id": "3d0025ae",
   "metadata": {},
   "source": [
    "tmp = tmp.rename(columns={tmp.columns[0]: DATA})"
   ]
  },
  {
   "cell_type": "markdown",
   "id": "da9973a6",
   "metadata": {},
   "source": [
    "tmp[tmp['Class'] == \"balanced_accuracy\"]"
   ]
  },
  {
   "cell_type": "code",
   "execution_count": null,
   "id": "d49403f0",
   "metadata": {},
   "outputs": [],
   "source": []
  }
 ],
 "metadata": {
  "kernelspec": {
   "display_name": "Python 3 (ipykernel)",
   "language": "python",
   "name": "python3"
  },
  "language_info": {
   "codemirror_mode": {
    "name": "ipython",
    "version": 3
   },
   "file_extension": ".py",
   "mimetype": "text/x-python",
   "name": "python",
   "nbconvert_exporter": "python",
   "pygments_lexer": "ipython3",
   "version": "3.9.12"
  }
 },
 "nbformat": 4,
 "nbformat_minor": 5
}
