{
 "cells": [
  {
   "cell_type": "code",
   "execution_count": 1,
   "id": "01de83ab",
   "metadata": {},
   "outputs": [],
   "source": [
    "import torch"
   ]
  },
  {
   "cell_type": "code",
   "execution_count": 2,
   "id": "dc12a648-b80a-4eca-afc3-79331e4db7fc",
   "metadata": {},
   "outputs": [],
   "source": [
    "from comet_ml import Experiment, Optimizer"
   ]
  },
  {
   "cell_type": "code",
   "execution_count": 3,
   "id": "2fdadf44-450a-4006-ac5a-bed9840409f6",
   "metadata": {},
   "outputs": [
    {
     "name": "stderr",
     "output_type": "stream",
     "text": [
      "/tmp/ipykernel_1197867/655870062.py:16: MatplotlibDeprecationWarning: The seaborn styles shipped by Matplotlib are deprecated since 3.6, as they no longer correspond to the styles shipped by seaborn. However, they will remain available as 'seaborn-v0_8-<style>'. Alternatively, directly use the seaborn API instead.\n",
      "  plt.style.use(\"seaborn\")\n"
     ]
    }
   ],
   "source": [
    "import pandas as pd\n",
    "import numpy as np\n",
    "from sklearn.preprocessing import LabelEncoder, StandardScaler\n",
    "from sklearn.model_selection import train_test_split\n",
    "from collections import defaultdict\n",
    "from tqdm import trange\n",
    "import torch\n",
    "import os\n",
    "import matplotlib.pyplot as plt\n",
    "from io import BytesIO\n",
    "import base64\n",
    "import sklearn\n",
    "import time\n",
    "import datetime\n",
    "\n",
    "plt.style.use(\"seaborn\")\n",
    "torch.set_default_dtype(torch.float32)"
   ]
  },
  {
   "cell_type": "code",
   "execution_count": 4,
   "id": "6a37b70c-292b-4c14-85ed-3c93020dc182",
   "metadata": {},
   "outputs": [],
   "source": [
    "from sklearn.metrics import roc_auc_score, f1_score, precision_score, recall_score, balanced_accuracy_score"
   ]
  },
  {
   "cell_type": "code",
   "execution_count": 5,
   "id": "3085114d-cf61-4625-97c5-10f34c00d335",
   "metadata": {},
   "outputs": [],
   "source": [
    "from hypertab import HypernetworkPCA, TrainingModes, Hypernetwork\n",
    "from hypertab.interfaces import HypernetworkSklearnInterface\n",
    "# from ipynb.fs.defs.MNIST_benchmark import test_model\n",
    "from sklearn.model_selection import GridSearchCV, RandomizedSearchCV"
   ]
  },
  {
   "cell_type": "code",
   "execution_count": 6,
   "id": "d62c6026",
   "metadata": {},
   "outputs": [],
   "source": [
    "from sklearn.metrics import classification_report, balanced_accuracy_score, accuracy_score"
   ]
  },
  {
   "cell_type": "code",
   "execution_count": 7,
   "id": "f84a62eb-e16d-4519-ad76-2237037833c0",
   "metadata": {},
   "outputs": [
    {
     "name": "stderr",
     "output_type": "stream",
     "text": [
      "/home/MCB/wwydmanski/miniconda3/envs/torch/lib/python3.9/site-packages/tqdm/auto.py:21: TqdmWarning: IProgress not found. Please update jupyter and ipywidgets. See https://ipywidgets.readthedocs.io/en/stable/user_install.html\n",
      "  from .autonotebook import tqdm as notebook_tqdm\n"
     ]
    }
   ],
   "source": [
    "import pyhopper\n",
    "import sklearn.datasets"
   ]
  },
  {
   "cell_type": "code",
   "execution_count": 8,
   "id": "d12953cc-1ec5-46a9-933a-714e5ceafd1d",
   "metadata": {},
   "outputs": [
    {
     "data": {
      "text/plain": [
       "1"
      ]
     },
     "execution_count": 8,
     "metadata": {},
     "output_type": "execute_result"
    }
   ],
   "source": [
    "from loguru import logger\n",
    "\n",
    "logger.add(\"log.txt\", format='{time:YYYY-MM-DD HH:mm:ss.SSS} | {message}')"
   ]
  },
  {
   "cell_type": "code",
   "execution_count": 9,
   "id": "04d1ae25-987c-4043-9771-829c928723de",
   "metadata": {},
   "outputs": [],
   "source": [
    "DEVICE=\"cuda:0\""
   ]
  },
  {
   "cell_type": "code",
   "execution_count": 10,
   "id": "72ab68a8",
   "metadata": {},
   "outputs": [],
   "source": [
    "GS_METRIC = 'balanced_accuracy'"
   ]
  },
  {
   "cell_type": "markdown",
   "id": "82db70f7",
   "metadata": {},
   "source": [
    "# Load data"
   ]
  },
  {
   "cell_type": "code",
   "execution_count": 11,
   "id": "30a5727b",
   "metadata": {},
   "outputs": [],
   "source": [
    "TEST_RUN = False"
   ]
  },
  {
   "cell_type": "markdown",
   "id": "5c287f46",
   "metadata": {},
   "source": [
    "# Preprocess"
   ]
  },
  {
   "cell_type": "code",
   "execution_count": 12,
   "id": "a8e64dd6",
   "metadata": {},
   "outputs": [],
   "source": [
    "def train_test_split_tuple(X, y, train_size=None):\n",
    "    if isinstance(X, tuple) and isinstance(y, tuple):\n",
    "        X_train, X_test = X\n",
    "        y_train, y_test = y\n",
    "    else:    \n",
    "        X_train, X_test, y_train, y_test = train_test_split(X, y, train_size=train_size, stratify=y)\n",
    "    \n",
    "    return X_train, X_test, y_train, y_test"
   ]
  },
  {
   "cell_type": "code",
   "execution_count": 13,
   "id": "bdc5ffdd-e04d-425f-8d6c-bd8456644faf",
   "metadata": {},
   "outputs": [],
   "source": [
    "import numpy as np\n",
    "np.random.seed(42)\n",
    "\n",
    "def prepare_data(X, y, size=None):\n",
    "    if isinstance(X, tuple) and isinstance(y, tuple):\n",
    "        X_train, X_test = X\n",
    "        y_train, y_test = y\n",
    "    else:    \n",
    "        X_train, X_test, y_train, y_test = train_test_split(X, y, train_size=size, stratify=y)\n",
    "    # X_train, y_train = imblearn.over_sampling.RandomOverSampler(random_state=42).fit_resample(X_train, y_train)\n",
    "    \n",
    "    scaler = StandardScaler()\n",
    "    X_train = scaler.fit_transform(X_train)\n",
    "    X_test = scaler.transform(X_test)\n",
    "    \n",
    "    X_train, X_test, y_train, y_test = [torch.from_numpy(x) for x in [X_train, X_test, y_train, y_test]]\n",
    "    \n",
    "    return X_train, X_test, y_train, y_test"
   ]
  },
  {
   "cell_type": "markdown",
   "id": "d223075b-b7d8-414e-97c9-ade8bda5f0fd",
   "metadata": {},
   "source": [
    "## Benchmark"
   ]
  },
  {
   "cell_type": "code",
   "execution_count": 14,
   "id": "b9f92f86-4c40-492c-8d48-f23efa85eb16",
   "metadata": {},
   "outputs": [],
   "source": [
    "criterion = torch.nn.CrossEntropyLoss()"
   ]
  },
  {
   "cell_type": "code",
   "execution_count": 15,
   "id": "5aa90ca0-8a00-4491-b111-ce7eee0e9c33",
   "metadata": {},
   "outputs": [],
   "source": [
    "def _summarize_results(y_pred, y_score, y_test, labels):\n",
    "    results = []\n",
    "    for idx, label in enumerate(labels):\n",
    "        y_pred_filt = y_pred[y_test==idx]\n",
    "        y_test_filt = y_test[y_test==idx]\n",
    "#         acc = (y_pred_filt==y_test_filt.numpy()).sum()/len(y_test_filt)*100\n",
    "        acc = accuracy_score(y_test_filt, y_pred_filt)\n",
    "        results.append({\n",
    "            \"Class\": label,\n",
    "            \"Metric\": acc\n",
    "        })\n",
    "        \n",
    "#     acc = (y_pred==y_test.numpy()).sum()/len(y_test)*100 \n",
    "    acc = accuracy_score(y_test, y_pred)\n",
    "    results.append({\n",
    "        \"Class\": \"Total\",\n",
    "        \"Metric\": acc\n",
    "    })\n",
    "    \n",
    "    results.append({\n",
    "        \"Class\": \"balanced_accuracy\",\n",
    "        \"Metric\": balanced_accuracy_score(y_test, torch.from_numpy(y_pred)).item()*100\n",
    "    })\n",
    "    \n",
    "    try:\n",
    "        results.append({\n",
    "            \"Class\": \"F1 score\",\n",
    "            \"Metric\": f1_score(y_test, torch.from_numpy(y_pred)).item()*100\n",
    "        })\n",
    "        results.append({\n",
    "            \"Class\": \"roc_auc\",\n",
    "            \"Metric\": roc_auc_score(y_test, torch.from_numpy(y_score[:, 1])).item()*100\n",
    "        })\n",
    "        results.append({\n",
    "            \"Class\": \"Precision\",\n",
    "            \"Metric\": precision_score(y_test, torch.from_numpy(y_pred)).item()*100\n",
    "        })\n",
    "        results.append({\n",
    "            \"Class\": \"Recall\",\n",
    "            \"Metric\": recall_score(y_test, torch.from_numpy(y_pred)).item()*100\n",
    "        })\n",
    "    except ValueError:\n",
    "        pass\n",
    "    return results\n",
    "\n",
    "def test_model(model_fn, data, train_size, label_encoder=None, iters=10, as_numpy=False):\n",
    "    if TEST_RUN:\n",
    "        iters = 1\n",
    "        \n",
    "    if label_encoder is not None:\n",
    "        labels = label_encoder.classes_\n",
    "    else:\n",
    "        labels = sorted(pd.unique(data[1][0] if isinstance(data[1], tuple) else data[1]))\n",
    "\n",
    "    \n",
    "    results = []\n",
    "    \n",
    "    X, y = data\n",
    "\n",
    "    for i in range(iters):\n",
    "        X_train, X_test, y_train, y_test = prepare_data(*data, train_size)\n",
    "        print('iter', i+1, 'of', iters, 'X_train shape', X_train.shape)\n",
    "\n",
    "        model = model_fn()\n",
    "\n",
    "        if as_numpy:\n",
    "            model.fit(X_train.numpy(), y_train.numpy());\n",
    "        else:\n",
    "            model.fit(X_train, y_train)\n",
    "        \n",
    "        y_pred = model.predict(X_test)\n",
    "        y_score = model.predict_proba(X_test)\n",
    "        results.extend(_summarize_results(y_pred, y_score, y_test, labels))\n",
    "\n",
    "    dframe = pd.DataFrame.from_dict(results)\n",
    "    # sns.violinplot(data=dframe[dframe[\"Class\"]!=\"Loss\"], y=\"Class\", x=\"Metric\", orient='h')\n",
    "    return dframe"
   ]
  },
  {
   "cell_type": "markdown",
   "id": "23f351cf",
   "metadata": {},
   "source": [
    "### Param search"
   ]
  },
  {
   "cell_type": "code",
   "execution_count": 16,
   "id": "ecee618e",
   "metadata": {},
   "outputs": [],
   "source": [
    "def pyhopper_best_params(model_fn, param_grid, data, train_size, metric=GS_METRIC, time=\"30m\", default_params={}):\n",
    "    if TEST_RUN:\n",
    "        time = 60\n",
    "        if 'epochs' in param_grid:\n",
    "            param_grid[\"epochs\"] = pyhopper.choice([10])\n",
    "    \n",
    "    X, y = data\n",
    "    print('pyhopper', X.shape, y.shape, train_size)\n",
    "        \n",
    "    def objective(params):\n",
    "    #     print(\"Training...\")\n",
    "        print('params',params)\n",
    "        model_results = test_model(\n",
    "                        model_fn(\n",
    "                            **default_params,\n",
    "                            **params\n",
    "                        ),\n",
    "                        (X, y),\n",
    "                        train_size,\n",
    "                        None, 5)\n",
    "        with open(f\"params/{DATA}_{model_fn.__name__}_params.txt\", \"a\") as f:\n",
    "            f.write(str(params) + \", \" + str(model_results[model_results[\"Class\"]==metric][\"Metric\"].mean()) + \"\\n\")\n",
    "        return model_results[model_results[\"Class\"]==metric][\"Metric\"].mean()\n",
    "\n",
    "    from pyhopper.callbacks import History\n",
    "    search = pyhopper.Search(param_grid)\n",
    "\n",
    "    best_params = search.run(objective, \"maximize\", time, n_jobs=1, seeding_ratio=0.5)\n",
    "    \n",
    "    with open(f\"{DATA}_{model_fn.__name__}_best_params.txt\", \"a\") as f:\n",
    "            f.write(str(best_params))\n",
    "    \n",
    "    print(f\"{DATA}_{model_fn.__name__}_{best_params}\")\n",
    "    return best_params\n"
   ]
  },
  {
   "cell_type": "code",
   "execution_count": 17,
   "id": "026edf4f",
   "metadata": {},
   "outputs": [],
   "source": [
    "d = {}"
   ]
  },
  {
   "cell_type": "code",
   "execution_count": 18,
   "id": "b789cbd2",
   "metadata": {
    "tags": [
     "parameters"
    ]
   },
   "outputs": [],
   "source": [
    "DATA = \"Connectionist\""
   ]
  },
  {
   "cell_type": "markdown",
   "id": "6f2d4d55",
   "metadata": {},
   "source": [
    "# TRAIN"
   ]
  },
  {
   "cell_type": "code",
   "execution_count": 19,
   "id": "d47877e8",
   "metadata": {},
   "outputs": [
    {
     "name": "stdout",
     "output_type": "stream",
     "text": [
      "(208, 60) 2 145\n"
     ]
    }
   ],
   "source": [
    "import sklearn\n",
    "import sklearn.datasets\n",
    "\n",
    "if DATA == \"BreastCancer\":\n",
    "    dataset = sklearn.datasets.load_breast_cancer()\n",
    "    X = dataset['data']\n",
    "    y = dataset['target']\n",
    "elif DATA == \"Connectionist\":\n",
    "    dataset = pd.read_csv(\"https://archive.ics.uci.edu/ml/machine-learning-databases/undocumented/connectionist-bench/sonar/sonar.all-data\", header=None)\n",
    "    X = dataset.values[:, :-1].astype(float)\n",
    "    y = dataset.values[:, -1]\n",
    "    y = LabelEncoder().fit_transform(y)\n",
    "elif DATA == \"Dermatology\":\n",
    "    dataset = pd.read_csv(\"https://archive.ics.uci.edu/ml/machine-learning-databases/dermatology/dermatology.data\", header=None, na_values=\"?\").dropna()\n",
    "    X = dataset.values[:, :-1].astype(float)\n",
    "    y = dataset.values[:, -1].astype(int) - 1\n",
    "elif DATA == \"Glass\":\n",
    "    dataset = pd.read_csv(\"https://archive.ics.uci.edu/ml/machine-learning-databases/glass/glass.data\", header=None, na_values=\"?\").dropna()\n",
    "    X = dataset.values[:, :-1].astype(float)\n",
    "    y = dataset.values[:, -1].astype(int)\n",
    "    y = LabelEncoder().fit_transform(y).astype(int)\n",
    "    \n",
    "elif DATA == \"Cleveland\":\n",
    "    dataset = pd.read_csv(\"https://archive.ics.uci.edu/ml/machine-learning-databases/heart-disease/processed.cleveland.data\", header=None, na_values=\"?\").dropna()\n",
    "    X = dataset.values[:, :-1].astype(float)\n",
    "    y = dataset.values[:, -1].astype(int)\n",
    "    y = LabelEncoder().fit_transform(y).astype(int)\n",
    "\n",
    "elif DATA == \"CNAE9\":\n",
    "    dataset = pd.read_csv(\"https://archive.ics.uci.edu/ml/machine-learning-databases/00233/CNAE-9.data\", header=None, na_values=\"?\").dropna()\n",
    "    X = dataset.values[:, 1:].astype(float)\n",
    "    y = dataset.values[:, 0].astype(int)\n",
    "    y = LabelEncoder().fit_transform(y).astype(int)\n",
    "\n",
    "max_size = int(len(X)*0.7)\n",
    "print(X.shape, len(np.unique(y)), max_size)"
   ]
  },
  {
   "cell_type": "code",
   "execution_count": 20,
   "id": "85f1625b",
   "metadata": {},
   "outputs": [
    {
     "name": "stdout",
     "output_type": "stream",
     "text": [
      "{0: 111, 1: 97}\n",
      "n_classes 2\n",
      "n_features 60\n"
     ]
    }
   ],
   "source": [
    "n_classes = len(np.unique(y))\n",
    "n_features = X.shape[1]\n",
    "unique, counts = np.unique(y, return_counts=True)\n",
    "\n",
    "print(dict(zip(unique, counts)))\n",
    "\n",
    "print('n_classes', n_classes)\n",
    "print('n_features', n_features)"
   ]
  },
  {
   "cell_type": "code",
   "execution_count": 21,
   "id": "649b158c",
   "metadata": {},
   "outputs": [
    {
     "name": "stdout",
     "output_type": "stream",
     "text": [
      "train_max_size 124\n",
      "eval_max_size 166\n"
     ]
    }
   ],
   "source": [
    "X_train, X_test, y_train, y_test = train_test_split(X, y, train_size=0.8, stratify=y, random_state=42)\n",
    "\n",
    "eval_max_size = int(len(X_train))\n",
    "train_max_size = int(len(X_train) * 0.75)\n",
    "print('train_max_size', train_max_size)\n",
    "print('eval_max_size', eval_max_size)"
   ]
  },
  {
   "cell_type": "code",
   "execution_count": 22,
   "id": "2de7b1e9",
   "metadata": {},
   "outputs": [
    {
     "data": {
      "text/plain": [
       "(166, 60)"
      ]
     },
     "execution_count": 22,
     "metadata": {},
     "output_type": "execute_result"
    }
   ],
   "source": [
    "X_train.shape"
   ]
  },
  {
   "cell_type": "markdown",
   "id": "484716b4",
   "metadata": {},
   "source": [
    "## HyperTab"
   ]
  },
  {
   "cell_type": "code",
   "execution_count": 23,
   "id": "e25919f3",
   "metadata": {},
   "outputs": [],
   "source": [
    "def hypertab_fn(epochs=150, masks_no=100, mask_size=100, target_size=100, lr=3e-4, batch_size=64, verbose=False):\n",
    "    def _inner():\n",
    "        hypernet = Hypernetwork(\n",
    "                        target_architecture=[(mask_size, target_size), (target_size, n_classes)],\n",
    "                        test_nodes=masks_no,\n",
    "                        architecture=torch.nn.Sequential(torch.nn.Linear(n_features, 32), \n",
    "                            torch.nn.ReLU(),\n",
    "                            torch.nn.Linear(32, 128),\n",
    "                            torch.nn.ReLU(),\n",
    "                            torch.nn.Dropout(),\n",
    "                            torch.nn.Linear(128, 128),\n",
    "                            torch.nn.ReLU(),\n",
    "                        ),\n",
    "                        mode=TrainingModes.CARTHESIAN,\n",
    "                    ).to(DEVICE)    \n",
    "        hypernet = hypernet.train()\n",
    "\n",
    "        network = HypernetworkSklearnInterface(hypernet, device=DEVICE, epochs=epochs, batch_size=batch_size, verbose=verbose, lr=3e-4)\n",
    "        return network\n",
    "    return _inner"
   ]
  },
  {
   "cell_type": "code",
   "execution_count": null,
   "id": "c8c9e3db",
   "metadata": {},
   "outputs": [
    {
     "name": "stdout",
     "output_type": "stream",
     "text": [
      "pyhopper (166, 60) (166,) 124\n"
     ]
    },
    {
     "name": "stderr",
     "output_type": "stream",
     "text": [
      "  0%|                                                                                                                                                       | [00:00<?]"
     ]
    },
    {
     "name": "stdout",
     "output_type": "stream",
     "text": [
      "Search is scheduled for 01:00:00 (h:m:s)\n",
      "params {'epochs': 100, 'masks_no': 10, 'mask_size': 2, 'target_size': 5, 'batch_size': 32}\n",
      "iter 1 of 5 X_train shape torch.Size([124, 60])\n",
      "iter 2 of 5 X_train shape torch.Size([124, 60])\n",
      "iter 3 of 5 X_train shape torch.Size([124, 60])\n",
      "iter 4 of 5 X_train shape torch.Size([124, 60])\n",
      "iter 5 of 5 X_train shape torch.Size([124, 60])\n"
     ]
    },
    {
     "name": "stderr",
     "output_type": "stream",
     "text": [
      "Best f: 76.2 (out of 1 params):   5%|████▋                                                                                               | [02:48<57:10, 0.4 param/min]"
     ]
    },
    {
     "name": "stdout",
     "output_type": "stream",
     "text": [
      "params {'epochs': 100, 'masks_no': 50, 'mask_size': 20, 'target_size': 50, 'batch_size': 32}\n",
      "iter 1 of 5 X_train shape torch.Size([124, 60])\n"
     ]
    }
   ],
   "source": [
    "param_grid = {\n",
    "    \"epochs\": pyhopper.choice([100, 150]),\n",
    "    \"masks_no\": pyhopper.choice([10, 20, 50, 80, 100, 150, 200]),\n",
    "    \"mask_size\": pyhopper.choice([2, 5, 10, 15, 20, 25]),\n",
    "    \"target_size\": pyhopper.choice([5, 10, 20, 50]),\n",
    "    \"batch_size\": pyhopper.choice([32, 64]),\n",
    "}\n",
    "#{'epochs': 100, 'masks_no': 10, 'mask_size': 2, 'target_size': 5, 'lr': 3e-05, 'batch_size': 32}\n",
    "hp_best_params = pyhopper_best_params(\n",
    "    hypertab_fn, param_grid, data=(X_train, y_train), train_size=train_max_size, time=\"60m\"\n",
    ")\n",
    "hp_best_params"
   ]
  },
  {
   "cell_type": "code",
   "execution_count": 57,
   "id": "1e32c64d",
   "metadata": {},
   "outputs": [],
   "source": [
    "epochs = hp_best_params['epochs']\n",
    "masks_no = hp_best_params['masks_no']\n",
    "mask_size = hp_best_params['mask_size']\n",
    "target_size = hp_best_params['target_size']\n",
    "lr = 3e-4\n",
    "batch_size = hp_best_params['batch_size']\n",
    "\n",
    "model = hypertab_fn(\n",
    "    epochs, \n",
    "    masks_no, \n",
    "    mask_size, \n",
    "    target_size, \n",
    "    lr,\n",
    "    batch_size=batch_size,\n",
    "    verbose=True)()"
   ]
  },
  {
   "cell_type": "code",
   "execution_count": 58,
   "id": "707cc49e",
   "metadata": {
    "collapsed": true,
    "jupyter": {
     "outputs_hidden": true
    },
    "tags": []
   },
   "outputs": [
    {
     "name": "stderr",
     "output_type": "stream",
     "text": [
      "\n",
      "\n",
      "  0%|                                                                                                                                          | 0/150 [00:00<?, ?it/s]\u001b[A\u001b[A\n",
      "\n",
      "  1%|▊                                                                                                                                 | 1/150 [00:01<03:47,  1.52s/it]\u001b[A\u001b[A\n",
      "\n",
      "  1%|█▋                                                                                                                                | 2/150 [00:01<02:05,  1.17it/s]\u001b[A\u001b[A\n",
      "\n",
      "  2%|██▌                                                                                                                               | 3/150 [00:02<01:32,  1.60it/s]\u001b[A\u001b[A\n",
      "\n",
      "  3%|███▍                                                                                                                              | 4/150 [00:02<01:16,  1.90it/s]\u001b[A\u001b[A\n",
      "\n",
      "  3%|████▎                                                                                                                             | 5/150 [00:02<01:06,  2.16it/s]\u001b[A\u001b[A\n",
      "\n",
      "  4%|█████▏                                                                                                                            | 6/150 [00:03<01:01,  2.34it/s]\u001b[A\u001b[A\n",
      "\n",
      "  5%|██████                                                                                                                            | 7/150 [00:03<00:56,  2.52it/s]\u001b[A\u001b[A\n",
      "\n",
      "  5%|██████▉                                                                                                                           | 8/150 [00:04<00:53,  2.67it/s]\u001b[A\u001b[A\n",
      "\n",
      "  6%|███████▊                                                                                                                          | 9/150 [00:04<00:56,  2.48it/s]\u001b[A\u001b[A\n",
      "\n",
      "  7%|████████▌                                                                                                                        | 10/150 [00:04<01:01,  2.27it/s]\u001b[A\u001b[A\n",
      "\n",
      "  7%|█████████▍                                                                                                                       | 11/150 [00:05<01:09,  2.00it/s]\u001b[A\u001b[A\n",
      "\n",
      "  8%|██████████▎                                                                                                                      | 12/150 [00:06<01:06,  2.09it/s]\u001b[A\u001b[A\n",
      "\n",
      "  9%|███████████▏                                                                                                                     | 13/150 [00:06<01:07,  2.04it/s]\u001b[A\u001b[A\n",
      "\n",
      "  9%|████████████                                                                                                                     | 14/150 [00:07<01:04,  2.11it/s]\u001b[A\u001b[A\n",
      "\n",
      " 10%|████████████▉                                                                                                                    | 15/150 [00:07<01:05,  2.06it/s]\u001b[A\u001b[A\n",
      "\n",
      " 11%|█████████████▊                                                                                                                   | 16/150 [00:07<00:57,  2.34it/s]\u001b[A\u001b[A\n",
      "\n",
      " 11%|██████████████▌                                                                                                                  | 17/150 [00:08<00:53,  2.48it/s]\u001b[A\u001b[A\n",
      "\n",
      " 12%|███████████████▍                                                                                                                 | 18/150 [00:08<00:52,  2.52it/s]\u001b[A\u001b[A\n",
      "\n",
      " 13%|████████████████▎                                                                                                                | 19/150 [00:08<00:49,  2.65it/s]\u001b[A\u001b[A\n",
      "\n",
      " 13%|█████████████████▏                                                                                                               | 20/150 [00:09<00:46,  2.77it/s]\u001b[A\u001b[A\n",
      "\n",
      " 14%|██████████████████                                                                                                               | 21/150 [00:09<00:46,  2.76it/s]\u001b[A\u001b[A\n",
      "\n",
      " 15%|██████████████████▉                                                                                                              | 22/150 [00:09<00:46,  2.76it/s]\u001b[A\u001b[A\n",
      "\n",
      " 15%|███████████████████▊                                                                                                             | 23/150 [00:10<00:48,  2.62it/s]\u001b[A\u001b[A\n",
      "\n",
      " 16%|████████████████████▋                                                                                                            | 24/150 [00:10<00:51,  2.44it/s]\u001b[A\u001b[A\n",
      "\n",
      " 17%|█████████████████████▌                                                                                                           | 25/150 [00:11<00:50,  2.48it/s]\u001b[A\u001b[A\n",
      "\n",
      " 17%|██████████████████████▎                                                                                                          | 26/150 [00:11<00:45,  2.74it/s]\u001b[A\u001b[A\n",
      "\n",
      " 18%|███████████████████████▏                                                                                                         | 27/150 [00:11<00:40,  3.05it/s]\u001b[A\u001b[A\n",
      "\n",
      " 19%|████████████████████████                                                                                                         | 28/150 [00:12<00:38,  3.20it/s]\u001b[A\u001b[A\n",
      "\n",
      " 19%|████████████████████████▉                                                                                                        | 29/150 [00:12<00:35,  3.43it/s]\u001b[A\u001b[A\n",
      "\n",
      " 20%|█████████████████████████▊                                                                                                       | 30/150 [00:12<00:33,  3.63it/s]\u001b[A\u001b[A\n",
      "\n",
      " 21%|██████████████████████████▋                                                                                                      | 31/150 [00:12<00:31,  3.77it/s]\u001b[A\u001b[A\n",
      "\n",
      " 21%|███████████████████████████▌                                                                                                     | 32/150 [00:12<00:30,  3.88it/s]\u001b[A\u001b[A\n",
      "\n",
      " 22%|████████████████████████████▍                                                                                                    | 33/150 [00:13<00:29,  4.00it/s]\u001b[A\u001b[A\n",
      "\n",
      " 23%|█████████████████████████████▏                                                                                                   | 34/150 [00:13<00:29,  3.89it/s]\u001b[A\u001b[A\n",
      "\n",
      " 23%|██████████████████████████████                                                                                                   | 35/150 [00:13<00:30,  3.76it/s]\u001b[A\u001b[A\n",
      "\n",
      " 24%|██████████████████████████████▉                                                                                                  | 36/150 [00:14<00:33,  3.38it/s]\u001b[A\u001b[A\n",
      "\n",
      " 25%|███████████████████████████████▊                                                                                                 | 37/150 [00:14<00:33,  3.37it/s]\u001b[A\u001b[A\n",
      "\n",
      " 25%|████████████████████████████████▋                                                                                                | 38/150 [00:14<00:34,  3.23it/s]\u001b[A\u001b[A\n",
      "\n",
      " 26%|█████████████████████████████████▌                                                                                               | 39/150 [00:15<00:34,  3.23it/s]\u001b[A\u001b[A\n",
      "\n",
      " 27%|██████████████████████████████████▍                                                                                              | 40/150 [00:15<00:35,  3.09it/s]\u001b[A\u001b[A\n",
      "\n",
      " 27%|███████████████████████████████████▎                                                                                             | 41/150 [00:15<00:39,  2.74it/s]\u001b[A\u001b[A\n",
      "\n",
      " 28%|████████████████████████████████████                                                                                             | 42/150 [00:16<00:40,  2.70it/s]\u001b[A\u001b[A\n",
      "\n",
      " 29%|████████████████████████████████████▉                                                                                            | 43/150 [00:16<00:40,  2.67it/s]\u001b[A\u001b[A\n",
      "\n",
      " 29%|█████████████████████████████████████▊                                                                                           | 44/150 [00:17<00:39,  2.71it/s]\u001b[A\u001b[A\n",
      "\n",
      " 30%|██████████████████████████████████████▋                                                                                          | 45/150 [00:17<00:40,  2.58it/s]\u001b[A\u001b[A\n",
      "\n",
      " 31%|███████████████████████████████████████▌                                                                                         | 46/150 [00:17<00:38,  2.73it/s]\u001b[A\u001b[A\n",
      "\n",
      " 31%|████████████████████████████████████████▍                                                                                        | 47/150 [00:18<00:37,  2.73it/s]\u001b[A\u001b[A\n",
      "\n",
      " 32%|█████████████████████████████████████████▎                                                                                       | 48/150 [00:18<00:37,  2.74it/s]\u001b[A\u001b[A\n",
      "\n",
      " 33%|██████████████████████████████████████████▏                                                                                      | 49/150 [00:18<00:37,  2.66it/s]\u001b[A\u001b[A\n",
      "\n",
      " 33%|███████████████████████████████████████████                                                                                      | 50/150 [00:19<00:36,  2.75it/s]\u001b[A\u001b[A\n",
      "\n",
      " 34%|███████████████████████████████████████████▊                                                                                     | 51/150 [00:19<00:35,  2.80it/s]\u001b[A\u001b[A\n",
      "\n",
      " 35%|████████████████████████████████████████████▋                                                                                    | 52/150 [00:19<00:33,  2.93it/s]\u001b[A\u001b[A\n",
      "\n",
      " 35%|█████████████████████████████████████████████▌                                                                                   | 53/150 [00:20<00:30,  3.23it/s]\u001b[A\u001b[A\n",
      "\n",
      " 36%|██████████████████████████████████████████████▍                                                                                  | 54/150 [00:20<00:30,  3.12it/s]\u001b[A\u001b[A\n",
      "\n",
      " 37%|███████████████████████████████████████████████▎                                                                                 | 55/150 [00:20<00:35,  2.65it/s]\u001b[A\u001b[A\n",
      "\n",
      " 37%|████████████████████████████████████████████████▏                                                                                | 56/150 [00:21<00:36,  2.56it/s]\u001b[A\u001b[A\n",
      "\n",
      " 38%|█████████████████████████████████████████████████                                                                                | 57/150 [00:21<00:38,  2.40it/s]\u001b[A\u001b[A\n",
      "\n",
      " 39%|█████████████████████████████████████████████████▉                                                                               | 58/150 [00:22<00:36,  2.53it/s]\u001b[A\u001b[A\n",
      "\n",
      " 39%|██████████████████████████████████████████████████▋                                                                              | 59/150 [00:22<00:37,  2.46it/s]\u001b[A\u001b[A\n",
      "\n",
      " 40%|███████████████████████████████████████████████████▌                                                                             | 60/150 [00:23<00:35,  2.55it/s]\u001b[A\u001b[A\n",
      "\n",
      " 41%|████████████████████████████████████████████████████▍                                                                            | 61/150 [00:23<00:32,  2.72it/s]\u001b[A\u001b[A\n",
      "\n",
      " 41%|█████████████████████████████████████████████████████▎                                                                           | 62/150 [00:23<00:29,  2.98it/s]\u001b[A\u001b[A\n",
      "\n",
      " 42%|██████████████████████████████████████████████████████▏                                                                          | 63/150 [00:23<00:29,  2.99it/s]\u001b[A\u001b[A\n",
      "\n",
      " 43%|███████████████████████████████████████████████████████                                                                          | 64/150 [00:24<00:28,  3.03it/s]\u001b[A\u001b[A\n",
      "\n",
      " 43%|███████████████████████████████████████████████████████▉                                                                         | 65/150 [00:24<00:27,  3.14it/s]\u001b[A\u001b[A\n",
      "\n",
      " 44%|████████████████████████████████████████████████████████▊                                                                        | 66/150 [00:24<00:26,  3.22it/s]\u001b[A\u001b[A\n",
      "\n",
      " 45%|█████████████████████████████████████████████████████████▌                                                                       | 67/150 [00:25<00:26,  3.17it/s]\u001b[A\u001b[A\n",
      "\n",
      " 45%|██████████████████████████████████████████████████████████▍                                                                      | 68/150 [00:25<00:27,  2.96it/s]\u001b[A\u001b[A\n",
      "\n",
      " 46%|███████████████████████████████████████████████████████████▎                                                                     | 69/150 [00:25<00:28,  2.87it/s]\u001b[A\u001b[A\n",
      "\n",
      " 47%|████████████████████████████████████████████████████████████▏                                                                    | 70/150 [00:26<00:27,  2.86it/s]\u001b[A\u001b[A\n",
      "\n",
      " 47%|█████████████████████████████████████████████████████████████                                                                    | 71/150 [00:26<00:30,  2.58it/s]\u001b[A\u001b[A\n",
      "\n",
      " 48%|█████████████████████████████████████████████████████████████▉                                                                   | 72/150 [00:27<00:32,  2.42it/s]\u001b[A\u001b[A\n",
      "\n",
      " 49%|██████████████████████████████████████████████████████████████▊                                                                  | 73/150 [00:27<00:32,  2.35it/s]\u001b[A\u001b[A\n",
      "\n",
      " 49%|███████████████████████████████████████████████████████████████▋                                                                 | 74/150 [00:28<00:31,  2.40it/s]\u001b[A\u001b[A\n",
      "\n",
      " 50%|████████████████████████████████████████████████████████████████▌                                                                | 75/150 [00:28<00:29,  2.58it/s]\u001b[A\u001b[A\n",
      "\n",
      " 51%|█████████████████████████████████████████████████████████████████▎                                                               | 76/150 [00:28<00:27,  2.70it/s]\u001b[A\u001b[A\n",
      "\n",
      " 51%|██████████████████████████████████████████████████████████████████▏                                                              | 77/150 [00:29<00:25,  2.88it/s]\u001b[A\u001b[A\n",
      "\n",
      " 52%|███████████████████████████████████████████████████████████████████                                                              | 78/150 [00:29<00:27,  2.64it/s]\u001b[A\u001b[A\n",
      "\n",
      " 53%|███████████████████████████████████████████████████████████████████▉                                                             | 79/150 [00:29<00:25,  2.81it/s]\u001b[A\u001b[A\n",
      "\n",
      " 53%|████████████████████████████████████████████████████████████████████▊                                                            | 80/150 [00:30<00:22,  3.12it/s]\u001b[A\u001b[A\n",
      "\n",
      " 54%|█████████████████████████████████████████████████████████████████████▋                                                           | 81/150 [00:30<00:20,  3.42it/s]\u001b[A\u001b[A\n",
      "\n",
      " 55%|██████████████████████████████████████████████████████████████████████▌                                                          | 82/150 [00:30<00:19,  3.47it/s]\u001b[A\u001b[A\n",
      "\n",
      " 55%|███████████████████████████████████████████████████████████████████████▍                                                         | 83/150 [00:30<00:21,  3.13it/s]\u001b[A\u001b[A\n",
      "\n",
      " 56%|████████████████████████████████████████████████████████████████████████▏                                                        | 84/150 [00:31<00:21,  3.02it/s]\u001b[A\u001b[A\n",
      "\n",
      " 57%|█████████████████████████████████████████████████████████████████████████                                                        | 85/150 [00:31<00:22,  2.84it/s]\u001b[A\u001b[A\n",
      "\n",
      " 57%|█████████████████████████████████████████████████████████████████████████▉                                                       | 86/150 [00:32<00:22,  2.83it/s]\u001b[A\u001b[A\n",
      "\n",
      " 58%|██████████████████████████████████████████████████████████████████████████▊                                                      | 87/150 [00:32<00:23,  2.70it/s]\u001b[A\u001b[A\n",
      "\n",
      " 59%|███████████████████████████████████████████████████████████████████████████▋                                                     | 88/150 [00:32<00:25,  2.48it/s]\u001b[A\u001b[A\n",
      "\n",
      " 59%|████████████████████████████████████████████████████████████████████████████▌                                                    | 89/150 [00:33<00:25,  2.43it/s]\u001b[A\u001b[A\n",
      "\n",
      " 60%|█████████████████████████████████████████████████████████████████████████████▍                                                   | 90/150 [00:33<00:25,  2.37it/s]\u001b[A\u001b[A\n",
      "\n",
      " 61%|██████████████████████████████████████████████████████████████████████████████▎                                                  | 91/150 [00:34<00:22,  2.59it/s]\u001b[A\u001b[A\n",
      "\n",
      " 61%|███████████████████████████████████████████████████████████████████████████████                                                  | 92/150 [00:34<00:20,  2.85it/s]\u001b[A\u001b[A\n",
      "\n",
      " 62%|███████████████████████████████████████████████████████████████████████████████▉                                                 | 93/150 [00:34<00:19,  2.90it/s]\u001b[A\u001b[A\n",
      "\n",
      " 63%|████████████████████████████████████████████████████████████████████████████████▊                                                | 94/150 [00:35<00:19,  2.85it/s]\u001b[A\u001b[A\n",
      "\n",
      " 63%|█████████████████████████████████████████████████████████████████████████████████▋                                               | 95/150 [00:35<00:18,  3.05it/s]\u001b[A\u001b[A\n",
      "\n",
      " 64%|██████████████████████████████████████████████████████████████████████████████████▌                                              | 96/150 [00:35<00:16,  3.33it/s]\u001b[A\u001b[A\n",
      "\n",
      " 65%|███████████████████████████████████████████████████████████████████████████████████▍                                             | 97/150 [00:35<00:16,  3.28it/s]\u001b[A\u001b[A\n",
      "\n",
      " 65%|████████████████████████████████████████████████████████████████████████████████████▎                                            | 98/150 [00:36<00:16,  3.14it/s]\u001b[A\u001b[A\n",
      "\n",
      " 66%|█████████████████████████████████████████████████████████████████████████████████████▏                                           | 99/150 [00:36<00:17,  2.98it/s]\u001b[A\u001b[A\n",
      "\n",
      " 67%|█████████████████████████████████████████████████████████████████████████████████████▎                                          | 100/150 [00:36<00:17,  2.89it/s]\u001b[A\u001b[A\n",
      "\n",
      " 67%|██████████████████████████████████████████████████████████████████████████████████████▏                                         | 101/150 [00:37<00:16,  2.97it/s]\u001b[A\u001b[A\n",
      "\n",
      " 68%|███████████████████████████████████████████████████████████████████████████████████████                                         | 102/150 [00:37<00:16,  2.90it/s]\u001b[A\u001b[A\n",
      "\n",
      " 69%|███████████████████████████████████████████████████████████████████████████████████████▉                                        | 103/150 [00:37<00:16,  2.92it/s]\u001b[A\u001b[A\n",
      "\n",
      " 69%|████████████████████████████████████████████████████████████████████████████████████████▋                                       | 104/150 [00:38<00:15,  2.91it/s]\u001b[A\u001b[A\n",
      "\n",
      " 70%|█████████████████████████████████████████████████████████████████████████████████████████▌                                      | 105/150 [00:38<00:15,  2.84it/s]\u001b[A\u001b[A\n",
      "\n",
      " 71%|██████████████████████████████████████████████████████████████████████████████████████████▍                                     | 106/150 [00:39<00:15,  2.86it/s]\u001b[A\u001b[A\n",
      "\n",
      " 71%|███████████████████████████████████████████████████████████████████████████████████████████▎                                    | 107/150 [00:39<00:15,  2.81it/s]\u001b[A\u001b[A\n",
      "\n",
      " 72%|████████████████████████████████████████████████████████████████████████████████████████████▏                                   | 108/150 [00:39<00:13,  3.01it/s]\u001b[A\u001b[A\n",
      "\n",
      " 73%|█████████████████████████████████████████████████████████████████████████████████████████████                                   | 109/150 [00:39<00:12,  3.26it/s]\u001b[A\u001b[A\n",
      "\n",
      " 73%|█████████████████████████████████████████████████████████████████████████████████████████████▊                                  | 110/150 [00:40<00:11,  3.41it/s]\u001b[A\u001b[A\n",
      "\n",
      " 74%|██████████████████████████████████████████████████████████████████████████████████████████████▋                                 | 111/150 [00:40<00:11,  3.43it/s]\u001b[A\u001b[A\n",
      "\n",
      " 75%|███████████████████████████████████████████████████████████████████████████████████████████████▌                                | 112/150 [00:40<00:11,  3.26it/s]\u001b[A\u001b[A\n",
      "\n",
      " 75%|████████████████████████████████████████████████████████████████████████████████████████████████▍                               | 113/150 [00:41<00:12,  2.98it/s]\u001b[A\u001b[A\n",
      "\n",
      " 76%|█████████████████████████████████████████████████████████████████████████████████████████████████▎                              | 114/150 [00:41<00:12,  2.80it/s]\u001b[A\u001b[A\n",
      "\n",
      " 77%|██████████████████████████████████████████████████████████████████████████████████████████████████▏                             | 115/150 [00:42<00:12,  2.71it/s]\u001b[A\u001b[A\n",
      "\n",
      " 77%|██████████████████████████████████████████████████████████████████████████████████████████████████▉                             | 116/150 [00:42<00:11,  2.86it/s]\u001b[A\u001b[A\n",
      "\n",
      " 78%|███████████████████████████████████████████████████████████████████████████████████████████████████▊                            | 117/150 [00:42<00:10,  3.11it/s]\u001b[A\u001b[A\n",
      "\n",
      " 79%|████████████████████████████████████████████████████████████████████████████████████████████████████▋                           | 118/150 [00:42<00:09,  3.23it/s]\u001b[A\u001b[A\n",
      "\n",
      " 79%|█████████████████████████████████████████████████████████████████████████████████████████████████████▌                          | 119/150 [00:43<00:09,  3.32it/s]\u001b[A\u001b[A\n",
      "\n",
      " 80%|██████████████████████████████████████████████████████████████████████████████████████████████████████▍                         | 120/150 [00:43<00:08,  3.36it/s]\u001b[A\u001b[A\n",
      "\n",
      " 81%|███████████████████████████████████████████████████████████████████████████████████████████████████████▎                        | 121/150 [00:43<00:08,  3.34it/s]\u001b[A\u001b[A\n",
      "\n",
      " 81%|████████████████████████████████████████████████████████████████████████████████████████████████████████                        | 122/150 [00:44<00:08,  3.33it/s]\u001b[A\u001b[A\n",
      "\n",
      " 82%|████████████████████████████████████████████████████████████████████████████████████████████████████████▉                       | 123/150 [00:44<00:07,  3.51it/s]\u001b[A\u001b[A\n",
      "\n",
      " 83%|█████████████████████████████████████████████████████████████████████████████████████████████████████████▊                      | 124/150 [00:44<00:07,  3.50it/s]\u001b[A\u001b[A\n",
      "\n",
      " 83%|██████████████████████████████████████████████████████████████████████████████████████████████████████████▋                     | 125/150 [00:44<00:07,  3.29it/s]\u001b[A\u001b[A\n",
      "\n",
      " 84%|███████████████████████████████████████████████████████████████████████████████████████████████████████████▌                    | 126/150 [00:45<00:07,  3.09it/s]\u001b[A\u001b[A\n",
      "\n",
      " 85%|████████████████████████████████████████████████████████████████████████████████████████████████████████████▎                   | 127/150 [00:45<00:07,  3.02it/s]\u001b[A\u001b[A\n",
      "\n",
      " 85%|█████████████████████████████████████████████████████████████████████████████████████████████████████████████▏                  | 128/150 [00:45<00:06,  3.16it/s]\u001b[A\u001b[A\n",
      "\n",
      " 86%|██████████████████████████████████████████████████████████████████████████████████████████████████████████████                  | 129/150 [00:46<00:06,  3.42it/s]\u001b[A\u001b[A\n",
      "\n",
      " 87%|██████████████████████████████████████████████████████████████████████████████████████████████████████████████▉                 | 130/150 [00:46<00:05,  3.45it/s]\u001b[A\u001b[A\n",
      "\n",
      " 87%|███████████████████████████████████████████████████████████████████████████████████████████████████████████████▊                | 131/150 [00:46<00:05,  3.56it/s]\u001b[A\u001b[A\n",
      "\n",
      " 88%|████████████████████████████████████████████████████████████████████████████████████████████████████████████████▋               | 132/150 [00:47<00:05,  3.42it/s]\u001b[A\u001b[A\n",
      "\n",
      " 89%|█████████████████████████████████████████████████████████████████████████████████████████████████████████████████▍              | 133/150 [00:47<00:04,  3.46it/s]\u001b[A\u001b[A\n",
      "\n",
      " 89%|██████████████████████████████████████████████████████████████████████████████████████████████████████████████████▎             | 134/150 [00:47<00:04,  3.39it/s]\u001b[A\u001b[A\n",
      "\n",
      " 90%|███████████████████████████████████████████████████████████████████████████████████████████████████████████████████▏            | 135/150 [00:48<00:04,  3.04it/s]\u001b[A\u001b[A\n",
      "\n",
      " 91%|████████████████████████████████████████████████████████████████████████████████████████████████████████████████████            | 136/150 [00:48<00:04,  2.82it/s]\u001b[A\u001b[A\n",
      "\n",
      " 91%|████████████████████████████████████████████████████████████████████████████████████████████████████████████████████▉           | 137/150 [00:48<00:04,  2.74it/s]\u001b[A\u001b[A\n",
      "\n",
      " 92%|█████████████████████████████████████████████████████████████████████████████████████████████████████████████████████▊          | 138/150 [00:49<00:04,  2.73it/s]\u001b[A\u001b[A\n",
      "\n",
      " 93%|██████████████████████████████████████████████████████████████████████████████████████████████████████████████████████▌         | 139/150 [00:49<00:04,  2.67it/s]\u001b[A\u001b[A\n",
      "\n",
      " 93%|███████████████████████████████████████████████████████████████████████████████████████████████████████████████████████▍        | 140/150 [00:49<00:03,  2.70it/s]\u001b[A\u001b[A\n",
      "\n",
      " 94%|████████████████████████████████████████████████████████████████████████████████████████████████████████████████████████▎       | 141/150 [00:50<00:03,  2.76it/s]\u001b[A\u001b[A\n",
      "\n",
      " 95%|█████████████████████████████████████████████████████████████████████████████████████████████████████████████████████████▏      | 142/150 [00:50<00:02,  2.75it/s]\u001b[A\u001b[A\n",
      "\n",
      " 95%|██████████████████████████████████████████████████████████████████████████████████████████████████████████████████████████      | 143/150 [00:51<00:02,  2.69it/s]\u001b[A\u001b[A\n",
      "\n",
      " 96%|██████████████████████████████████████████████████████████████████████████████████████████████████████████████████████████▉     | 144/150 [00:51<00:02,  2.54it/s]\u001b[A\u001b[A\n",
      "\n",
      " 97%|███████████████████████████████████████████████████████████████████████████████████████████████████████████████████████████▋    | 145/150 [00:51<00:02,  2.44it/s]\u001b[A\u001b[A\n",
      "\n",
      " 97%|████████████████████████████████████████████████████████████████████████████████████████████████████████████████████████████▌   | 146/150 [00:52<00:01,  2.53it/s]\u001b[A\u001b[A\n",
      "\n",
      " 98%|█████████████████████████████████████████████████████████████████████████████████████████████████████████████████████████████▍  | 147/150 [00:52<00:01,  2.57it/s]\u001b[A\u001b[A\n",
      "\n",
      " 99%|██████████████████████████████████████████████████████████████████████████████████████████████████████████████████████████████▎ | 148/150 [00:53<00:00,  2.55it/s]\u001b[A\u001b[A\n",
      "\n",
      " 99%|███████████████████████████████████████████████████████████████████████████████████████████████████████████████████████████████▏| 149/150 [00:53<00:00,  2.59it/s]\u001b[A\u001b[A\n",
      "\n",
      "100%|████████████████████████████████████████████████████████████████████████████████████████████████████████████████████████████████| 150/150 [00:53<00:00,  2.79it/s]\u001b[A\u001b[A\n"
     ]
    }
   ],
   "source": [
    "model.fit(X_train, y_train)\n",
    "\n",
    "y_pred = model.predict(X_test)\n",
    "y_score = model.predict_proba(X_test)\n",
    "hyper_results = _summarize_results(y_pred, \n",
    "                                   y_score, \n",
    "                                   torch.from_numpy(y_test), \n",
    "                                   torch.from_numpy(np.unique(y)))\n",
    "hyper_results = pd.DataFrame(hyper_results)"
   ]
  },
  {
   "cell_type": "code",
   "execution_count": 59,
   "id": "e9015d72",
   "metadata": {},
   "outputs": [
    {
     "name": "stdout",
     "output_type": "stream",
     "text": [
      "166: 0.833 ~ nan, (max: 0.833)\n"
     ]
    }
   ],
   "source": [
    "res = hyper_results[hyper_results[\"Class\"]==\"Total\"].reset_index(drop=True)[\"Metric\"]\n",
    "print(f\"{eval_max_size}: {res.mean():.3f} ~ {res.std():.2f}, (max: {res.max():.3f})\")"
   ]
  },
  {
   "cell_type": "code",
   "execution_count": 60,
   "id": "f99e91c1",
   "metadata": {},
   "outputs": [],
   "source": [
    "with open(\"results/\" + DATA + \"_hypertab.txt\", \"w\") as f:\n",
    "    f.write(f\"{eval_max_size}: {res.mean():.3f} ~ {res.std():.2f}, (max: {res.max():.3f})\")"
   ]
  },
  {
   "cell_type": "markdown",
   "id": "d72a59e8",
   "metadata": {},
   "source": [
    "## XGBoost"
   ]
  },
  {
   "cell_type": "code",
   "execution_count": 26,
   "id": "5e39e721",
   "metadata": {},
   "outputs": [
    {
     "data": {
      "text/plain": [
       "'1.7.4'"
      ]
     },
     "execution_count": 26,
     "metadata": {},
     "output_type": "execute_result"
    }
   ],
   "source": [
    "import xgboost\n",
    "xgboost.__version__"
   ]
  },
  {
   "cell_type": "code",
   "execution_count": 27,
   "id": "04eb6928",
   "metadata": {},
   "outputs": [],
   "source": [
    "def get_xgboost(**params):\n",
    "    random_seed = np.random.randint(1024)\n",
    "    def _inner():\n",
    "        return xgboost.XGBClassifier(\n",
    "            verbosity=0,\n",
    "            random_state=random_seed,\n",
    "            use_label_encoder=False,\n",
    "            **params\n",
    "        )\n",
    "    return _inner    "
   ]
  },
  {
   "cell_type": "code",
   "execution_count": null,
   "id": "b46c8900",
   "metadata": {
    "tags": []
   },
   "outputs": [
    {
     "name": "stdout",
     "output_type": "stream",
     "text": [
      "pyhopper (166, 60) (166,) 124\n"
     ]
    },
    {
     "name": "stderr",
     "output_type": "stream",
     "text": [
      "  0%|                                                                                                                                                                                                                                                      | [00:00<?]"
     ]
    },
    {
     "name": "stdout",
     "output_type": "stream",
     "text": [
      "Search is scheduled for 10:00 (m:s)\n",
      "params {'n_estimators': 50, 'max_depth': 2, 'learning_rate': 0.0010000000000000002, 'min_child_weight': 1, 'gamma': 0}\n",
      "iter 1 of 5 X_train shape torch.Size([124, 60])\n"
     ]
    },
    {
     "name": "stderr",
     "output_type": "stream",
     "text": [
      "/home/MCB/wwydmanski/miniconda3/envs/torch/lib/python3.9/site-packages/xgboost/sklearn.py:1395: UserWarning: `use_label_encoder` is deprecated in 1.7.0.\n",
      "  warnings.warn(\"`use_label_encoder` is deprecated in 1.7.0.\")\n"
     ]
    },
    {
     "name": "stdout",
     "output_type": "stream",
     "text": [
      "iter 2 of 5 X_train shape torch.Size([124, 60])\n"
     ]
    },
    {
     "name": "stderr",
     "output_type": "stream",
     "text": [
      "/home/MCB/wwydmanski/miniconda3/envs/torch/lib/python3.9/site-packages/xgboost/sklearn.py:1395: UserWarning: `use_label_encoder` is deprecated in 1.7.0.\n",
      "  warnings.warn(\"`use_label_encoder` is deprecated in 1.7.0.\")\n"
     ]
    },
    {
     "name": "stdout",
     "output_type": "stream",
     "text": [
      "iter 3 of 5 X_train shape torch.Size([124, 60])\n"
     ]
    },
    {
     "name": "stderr",
     "output_type": "stream",
     "text": [
      "/home/MCB/wwydmanski/miniconda3/envs/torch/lib/python3.9/site-packages/xgboost/sklearn.py:1395: UserWarning: `use_label_encoder` is deprecated in 1.7.0.\n",
      "  warnings.warn(\"`use_label_encoder` is deprecated in 1.7.0.\")\n"
     ]
    },
    {
     "name": "stdout",
     "output_type": "stream",
     "text": [
      "iter 4 of 5 X_train shape torch.Size([124, 60])\n"
     ]
    },
    {
     "name": "stderr",
     "output_type": "stream",
     "text": [
      "/home/MCB/wwydmanski/miniconda3/envs/torch/lib/python3.9/site-packages/xgboost/sklearn.py:1395: UserWarning: `use_label_encoder` is deprecated in 1.7.0.\n",
      "  warnings.warn(\"`use_label_encoder` is deprecated in 1.7.0.\")\n"
     ]
    },
    {
     "name": "stdout",
     "output_type": "stream",
     "text": [
      "iter 5 of 5 X_train shape torch.Size([124, 60])\n"
     ]
    },
    {
     "name": "stderr",
     "output_type": "stream",
     "text": [
      "/home/MCB/wwydmanski/miniconda3/envs/torch/lib/python3.9/site-packages/xgboost/sklearn.py:1395: UserWarning: `use_label_encoder` is deprecated in 1.7.0.\n",
      "  warnings.warn(\"`use_label_encoder` is deprecated in 1.7.0.\")\n",
      "Best f: 65.5 (out of 1 params):  33%|████████████████████████████████████████████████████████████████▋                                                                                                                                  | [03:18<06:40, 0.3 param/min]/home/MCB/wwydmanski/miniconda3/envs/torch/lib/python3.9/site-packages/xgboost/sklearn.py:1395: UserWarning: `use_label_encoder` is deprecated in 1.7.0.\n",
      "  warnings.warn(\"`use_label_encoder` is deprecated in 1.7.0.\")\n"
     ]
    },
    {
     "name": "stdout",
     "output_type": "stream",
     "text": [
      "params {'n_estimators': 1750, 'max_depth': 10, 'learning_rate': 0.005165355928600319, 'min_child_weight': 4, 'gamma': 0.1}\n",
      "iter 1 of 5 X_train shape torch.Size([124, 60])\n",
      "iter 3 of 5 X_train shape torch.Size([124, 60])\n"
     ]
    },
    {
     "name": "stderr",
     "output_type": "stream",
     "text": [
      "/home/MCB/wwydmanski/miniconda3/envs/torch/lib/python3.9/site-packages/xgboost/sklearn.py:1395: UserWarning: `use_label_encoder` is deprecated in 1.7.0.\n",
      "  warnings.warn(\"`use_label_encoder` is deprecated in 1.7.0.\")\n"
     ]
    },
    {
     "name": "stdout",
     "output_type": "stream",
     "text": [
      "iter 4 of 5 X_train shape torch.Size([124, 60])\n"
     ]
    },
    {
     "name": "stderr",
     "output_type": "stream",
     "text": [
      "/home/MCB/wwydmanski/miniconda3/envs/torch/lib/python3.9/site-packages/xgboost/sklearn.py:1395: UserWarning: `use_label_encoder` is deprecated in 1.7.0.\n",
      "  warnings.warn(\"`use_label_encoder` is deprecated in 1.7.0.\")\n"
     ]
    },
    {
     "name": "stdout",
     "output_type": "stream",
     "text": [
      "iter 5 of 5 X_train shape torch.Size([124, 60])\n"
     ]
    },
    {
     "name": "stderr",
     "output_type": "stream",
     "text": [
      "/home/MCB/wwydmanski/miniconda3/envs/torch/lib/python3.9/site-packages/xgboost/sklearn.py:1395: UserWarning: `use_label_encoder` is deprecated in 1.7.0.\n",
      "  warnings.warn(\"`use_label_encoder` is deprecated in 1.7.0.\")\n"
     ]
    }
   ],
   "source": [
    "param_grid = {\n",
    "                'n_estimators': pyhopper.int(50, 3000, multiple_of=50, init=50),\n",
    "                'max_depth': pyhopper.choice([2, 3, 5, 10, 15]),\n",
    "                'learning_rate': pyhopper.float(1e-5,1e-1, log=True),\n",
    "                'min_child_weight': pyhopper.choice([1, 2, 4, 8, 16, 32]),\n",
    "                'gamma': pyhopper.choice([0, 0.001, 0.1, 1]),\n",
    "             }\n",
    "\n",
    "xgbc = get_xgboost()\n",
    "\n",
    "xgbt_best1 = pyhopper_best_params(get_xgboost, param_grid, data=(X_train, y_train), train_size=train_max_size, time=\"10m\")"
   ]
  },
  {
   "cell_type": "code",
   "execution_count": null,
   "id": "53e43c59",
   "metadata": {},
   "outputs": [],
   "source": [
    "xgbt_best1"
   ]
  },
  {
   "cell_type": "code",
   "execution_count": null,
   "id": "c99a57b8",
   "metadata": {},
   "outputs": [],
   "source": [
    "model = get_xgboost(**xgbt_best1)()\n",
    "\n",
    "model.fit(X_train, y_train)\n",
    "\n",
    "y_pred = model.predict(X_test)\n",
    "y_score = model.predict_proba(X_test)\n",
    "hyper_results = _summarize_results(y_pred, \n",
    "                                   y_score, \n",
    "                                   torch.from_numpy(y_test), \n",
    "                                   torch.from_numpy(np.unique(y)))\n",
    "hyper_results = pd.DataFrame(hyper_results)"
   ]
  },
  {
   "cell_type": "code",
   "execution_count": null,
   "id": "4a6e5fff",
   "metadata": {},
   "outputs": [],
   "source": [
    "res = hyper_results[hyper_results[\"Class\"]==\"Total\"].reset_index(drop=True)[\"Metric\"]\n",
    "print(f\"{eval_max_size}: {res.mean():.3f} ~ {res.std():.2f}, (max: {res.max():.3f})\")"
   ]
  },
  {
   "cell_type": "code",
   "execution_count": null,
   "id": "4b6fa020",
   "metadata": {},
   "outputs": [],
   "source": [
    "with open(\"results/\" + DATA + \"_xgboost.txt\", \"w\") as f:\n",
    "    f.write(f\"{eval_max_size}: {res.mean():.3f} ~ {res.std():.2f}, (max: {res.max():.3f})\")"
   ]
  }
 ],
 "metadata": {
  "kernelspec": {
   "display_name": "Python 3 (ipykernel)",
   "language": "python",
   "name": "python3"
  },
  "language_info": {
   "codemirror_mode": {
    "name": "ipython",
    "version": 3
   },
   "file_extension": ".py",
   "mimetype": "text/x-python",
   "name": "python",
   "nbconvert_exporter": "python",
   "pygments_lexer": "ipython3",
   "version": "3.9.16"
  }
 },
 "nbformat": 4,
 "nbformat_minor": 5
}
