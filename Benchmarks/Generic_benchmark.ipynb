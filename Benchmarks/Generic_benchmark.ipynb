{
 "cells": [
  {
   "cell_type": "code",
   "execution_count": 1,
   "id": "1f2cc04c-430f-4cbd-886c-fc6f4e13f745",
   "metadata": {},
   "outputs": [],
   "source": [
    "from dotenv import load_dotenv\n",
    "load_dotenv()\n",
    "\n",
    "import os"
   ]
  },
  {
   "cell_type": "code",
   "execution_count": 2,
   "id": "7bae9662-f26b-4c2d-abda-4ece5ae442d1",
   "metadata": {},
   "outputs": [],
   "source": [
    "from comet_ml import Experiment, Optimizer\n",
    "\n",
    "import torch\n",
    "import torchvision.transforms as transforms\n",
    "import torchvision.datasets as datasets\n",
    "import matplotlib.pyplot as plt\n",
    "import numpy as np\n",
    "import torch.nn.functional as F\n",
    "import torch.utils.data as data_utils\n",
    "import pandas as pd\n",
    "from collections import defaultdict\n",
    "\n",
    "torch.set_default_dtype(torch.float32)"
   ]
  },
  {
   "cell_type": "code",
   "execution_count": 3,
   "id": "6d6729d5-7f5a-4c1d-b3a4-5cdea977527f",
   "metadata": {},
   "outputs": [],
   "source": [
    "from sklearn.metrics import roc_auc_score, f1_score, precision_score, recall_score\n",
    "from sklearn.model_selection import train_test_split"
   ]
  },
  {
   "cell_type": "code",
   "execution_count": 4,
   "id": "cb4e5243-8400-446f-9d34-56180ebbe820",
   "metadata": {},
   "outputs": [],
   "source": [
    "from tabular_hypernet import HypernetworkPCA, TrainingModes, Hypernetwork, HypernetworkEmbeddings, HypernetworkWithFeatureSelector\n",
    "from tabular_hypernet.modules import SimpleNetwork\n",
    "from tabular_hypernet.training_utils import train_slow_step, train_model, train_carthesian\n",
    "from tabular_hypernet.interfaces import HypernetworkSklearnInterface, SimpleSklearnInterface\n",
    "from tabular_hypernet.mask_design.feature_selection import feature_variances, VarianceWithSoftmaxMasksSelector\n",
    "from tabular_hypernet.mask_design.feature_selection import IncByOneTempScheduler, HalfHalfTempScheduler\n",
    "from tabular_hypernet.mask_design.feature_selection import get_feature_accuracies, AccMasksSelector"
   ]
  },
  {
   "cell_type": "code",
   "execution_count": 5,
   "id": "b4e19f32-82b9-4376-bda1-238d72cae2ec",
   "metadata": {},
   "outputs": [],
   "source": [
    "from io import BytesIO"
   ]
  },
  {
   "cell_type": "code",
   "execution_count": 6,
   "id": "aa3c18d1-1d56-4393-9441-245420fb3c29",
   "metadata": {},
   "outputs": [],
   "source": [
    "import seaborn as sns"
   ]
  },
  {
   "cell_type": "code",
   "execution_count": 7,
   "id": "04d1ae25-987c-4043-9771-829c928723de",
   "metadata": {},
   "outputs": [],
   "source": [
    "DEVICE=\"cuda:0\""
   ]
  },
  {
   "cell_type": "code",
   "execution_count": 8,
   "id": "4a1a1e98-a8b4-4df2-aae6-b593fe61667a",
   "metadata": {},
   "outputs": [
    {
     "ename": "ModuleNotFoundError",
     "evalue": "No module named 'loguru'",
     "output_type": "error",
     "traceback": [
      "\u001b[0;31m---------------------------------------------------------------------------\u001b[0m",
      "\u001b[0;31mModuleNotFoundError\u001b[0m                       Traceback (most recent call last)",
      "Cell \u001b[0;32mIn [8], line 1\u001b[0m\n\u001b[0;32m----> 1\u001b[0m \u001b[38;5;28;01mfrom\u001b[39;00m \u001b[38;5;21;01mloguru\u001b[39;00m \u001b[38;5;28;01mimport\u001b[39;00m logger\n\u001b[1;32m      3\u001b[0m logger\u001b[38;5;241m.\u001b[39madd(\u001b[38;5;124m\"\u001b[39m\u001b[38;5;124mlog.txt\u001b[39m\u001b[38;5;124m\"\u001b[39m, \u001b[38;5;28mformat\u001b[39m\u001b[38;5;241m=\u001b[39m\u001b[38;5;124m'\u001b[39m\u001b[38;5;124m{\u001b[39m\u001b[38;5;124mtime:YYYY-MM-DD HH:mm:ss.SSS} | \u001b[39m\u001b[38;5;132;01m{message}\u001b[39;00m\u001b[38;5;124m'\u001b[39m)\n",
      "\u001b[0;31mModuleNotFoundError\u001b[0m: No module named 'loguru'"
     ]
    }
   ],
   "source": [
    "from loguru import logger\n",
    "\n",
    "logger.add(\"log.txt\", format='{time:YYYY-MM-DD HH:mm:ss.SSS} | {message}')"
   ]
  },
  {
   "cell_type": "markdown",
   "id": "84952386",
   "metadata": {},
   "source": [
    "# Global Params"
   ]
  },
  {
   "cell_type": "code",
   "execution_count": 10,
   "id": "898970ff",
   "metadata": {},
   "outputs": [],
   "source": [
    "g_epochs = 150\n",
    "g_mask_size = 100\n",
    "g_masks_no = 100\n",
    "g_data_size = 100\n",
    "\n",
    "log_to_comet = True\n",
    "comet_experiment_name = \"mnist-benchmark-hypernet\"\n",
    "\n",
    "g_iters = 10"
   ]
  },
  {
   "cell_type": "markdown",
   "id": "860d6a12-93e8-4000-91d8-97c9d01951e6",
   "metadata": {},
   "source": [
    "## Load data"
   ]
  },
  {
   "cell_type": "code",
   "execution_count": 11,
   "id": "c7b4e185-c95f-4eff-9d33-3c84eb6ed1d2",
   "metadata": {},
   "outputs": [
    {
     "name": "stdout",
     "output_type": "stream",
     "text": [
      "Downloading http://yann.lecun.com/exdb/mnist/train-images-idx3-ubyte.gz\n",
      "Downloading http://yann.lecun.com/exdb/mnist/train-images-idx3-ubyte.gz to ./data/train/MNIST/raw/train-images-idx3-ubyte.gz\n"
     ]
    },
    {
     "data": {
      "application/vnd.jupyter.widget-view+json": {
       "model_id": "2b66434fdbe344d6b1bf71706e8763df",
       "version_major": 2,
       "version_minor": 0
      },
      "text/plain": [
       "  0%|          | 0/9912422 [00:00<?, ?it/s]"
      ]
     },
     "metadata": {},
     "output_type": "display_data"
    },
    {
     "name": "stdout",
     "output_type": "stream",
     "text": [
      "Extracting ./data/train/MNIST/raw/train-images-idx3-ubyte.gz to ./data/train/MNIST/raw\n",
      "\n",
      "Downloading http://yann.lecun.com/exdb/mnist/train-labels-idx1-ubyte.gz\n",
      "Downloading http://yann.lecun.com/exdb/mnist/train-labels-idx1-ubyte.gz to ./data/train/MNIST/raw/train-labels-idx1-ubyte.gz\n"
     ]
    },
    {
     "data": {
      "application/vnd.jupyter.widget-view+json": {
       "model_id": "ee8d16fd59f14f65afcd915caf13c108",
       "version_major": 2,
       "version_minor": 0
      },
      "text/plain": [
       "  0%|          | 0/28881 [00:00<?, ?it/s]"
      ]
     },
     "metadata": {},
     "output_type": "display_data"
    },
    {
     "name": "stdout",
     "output_type": "stream",
     "text": [
      "Extracting ./data/train/MNIST/raw/train-labels-idx1-ubyte.gz to ./data/train/MNIST/raw\n",
      "\n",
      "Downloading http://yann.lecun.com/exdb/mnist/t10k-images-idx3-ubyte.gz\n",
      "Downloading http://yann.lecun.com/exdb/mnist/t10k-images-idx3-ubyte.gz to ./data/train/MNIST/raw/t10k-images-idx3-ubyte.gz\n"
     ]
    },
    {
     "data": {
      "application/vnd.jupyter.widget-view+json": {
       "model_id": "adf40ba3d6f34e66a713346c41a72eea",
       "version_major": 2,
       "version_minor": 0
      },
      "text/plain": [
       "  0%|          | 0/1648877 [00:00<?, ?it/s]"
      ]
     },
     "metadata": {},
     "output_type": "display_data"
    },
    {
     "name": "stdout",
     "output_type": "stream",
     "text": [
      "Extracting ./data/train/MNIST/raw/t10k-images-idx3-ubyte.gz to ./data/train/MNIST/raw\n",
      "\n",
      "Downloading http://yann.lecun.com/exdb/mnist/t10k-labels-idx1-ubyte.gz\n",
      "Downloading http://yann.lecun.com/exdb/mnist/t10k-labels-idx1-ubyte.gz to ./data/train/MNIST/raw/t10k-labels-idx1-ubyte.gz\n"
     ]
    },
    {
     "data": {
      "application/vnd.jupyter.widget-view+json": {
       "model_id": "ef009b5d0949404a8ed86f8a01b6a201",
       "version_major": 2,
       "version_minor": 0
      },
      "text/plain": [
       "  0%|          | 0/4542 [00:00<?, ?it/s]"
      ]
     },
     "metadata": {},
     "output_type": "display_data"
    },
    {
     "name": "stdout",
     "output_type": "stream",
     "text": [
      "Extracting ./data/train/MNIST/raw/t10k-labels-idx1-ubyte.gz to ./data/train/MNIST/raw\n",
      "\n",
      "Downloading http://yann.lecun.com/exdb/mnist/train-images-idx3-ubyte.gz\n",
      "Downloading http://yann.lecun.com/exdb/mnist/train-images-idx3-ubyte.gz to ./data/test/MNIST/raw/train-images-idx3-ubyte.gz\n"
     ]
    },
    {
     "data": {
      "application/vnd.jupyter.widget-view+json": {
       "model_id": "94333dc0105241c581688b7967d0e944",
       "version_major": 2,
       "version_minor": 0
      },
      "text/plain": [
       "  0%|          | 0/9912422 [00:00<?, ?it/s]"
      ]
     },
     "metadata": {},
     "output_type": "display_data"
    },
    {
     "name": "stdout",
     "output_type": "stream",
     "text": [
      "Extracting ./data/test/MNIST/raw/train-images-idx3-ubyte.gz to ./data/test/MNIST/raw\n",
      "\n",
      "Downloading http://yann.lecun.com/exdb/mnist/train-labels-idx1-ubyte.gz\n",
      "Downloading http://yann.lecun.com/exdb/mnist/train-labels-idx1-ubyte.gz to ./data/test/MNIST/raw/train-labels-idx1-ubyte.gz\n"
     ]
    },
    {
     "data": {
      "application/vnd.jupyter.widget-view+json": {
       "model_id": "a048ca0c70a04edba9e70744335cf35b",
       "version_major": 2,
       "version_minor": 0
      },
      "text/plain": [
       "  0%|          | 0/28881 [00:00<?, ?it/s]"
      ]
     },
     "metadata": {},
     "output_type": "display_data"
    },
    {
     "name": "stdout",
     "output_type": "stream",
     "text": [
      "Extracting ./data/test/MNIST/raw/train-labels-idx1-ubyte.gz to ./data/test/MNIST/raw\n",
      "\n",
      "Downloading http://yann.lecun.com/exdb/mnist/t10k-images-idx3-ubyte.gz\n",
      "Downloading http://yann.lecun.com/exdb/mnist/t10k-images-idx3-ubyte.gz to ./data/test/MNIST/raw/t10k-images-idx3-ubyte.gz\n"
     ]
    },
    {
     "data": {
      "application/vnd.jupyter.widget-view+json": {
       "model_id": "7fd80a19d788484ca3a20225ef1e666f",
       "version_major": 2,
       "version_minor": 0
      },
      "text/plain": [
       "  0%|          | 0/1648877 [00:00<?, ?it/s]"
      ]
     },
     "metadata": {},
     "output_type": "display_data"
    },
    {
     "name": "stdout",
     "output_type": "stream",
     "text": [
      "Extracting ./data/test/MNIST/raw/t10k-images-idx3-ubyte.gz to ./data/test/MNIST/raw\n",
      "\n",
      "Downloading http://yann.lecun.com/exdb/mnist/t10k-labels-idx1-ubyte.gz\n",
      "Downloading http://yann.lecun.com/exdb/mnist/t10k-labels-idx1-ubyte.gz to ./data/test/MNIST/raw/t10k-labels-idx1-ubyte.gz\n"
     ]
    },
    {
     "data": {
      "application/vnd.jupyter.widget-view+json": {
       "model_id": "09aa38cd5ec54b52a48cb0f3f2eb9463",
       "version_major": 2,
       "version_minor": 0
      },
      "text/plain": [
       "  0%|          | 0/4542 [00:00<?, ?it/s]"
      ]
     },
     "metadata": {},
     "output_type": "display_data"
    },
    {
     "name": "stdout",
     "output_type": "stream",
     "text": [
      "Extracting ./data/test/MNIST/raw/t10k-labels-idx1-ubyte.gz to ./data/test/MNIST/raw\n",
      "\n"
     ]
    }
   ],
   "source": [
    "mods = [transforms.ToTensor(), \n",
    "        transforms.Normalize((0.1307,), (0.3081,)),    #mean and std of MNIST\n",
    "        transforms.Lambda(lambda x: torch.flatten(x))]\n",
    "mods = transforms.Compose(mods)\n",
    "\n",
    "trainset = datasets.MNIST(root='./data/train', train=True, download=True, transform=mods)\n",
    "testset = datasets.MNIST(root='./data/test', train=False, download=True, transform=mods)"
   ]
  },
  {
   "cell_type": "code",
   "execution_count": 12,
   "id": "15c8de04-4cec-45be-97b0-0ddd58361f90",
   "metadata": {},
   "outputs": [],
   "source": [
    "X, y = trainset.data.numpy(), trainset.targets.numpy()"
   ]
  },
  {
   "cell_type": "code",
   "execution_count": 13,
   "id": "a2dcb4bc-f5df-47bd-8cd6-516bd90fcf2a",
   "metadata": {},
   "outputs": [],
   "source": [
    "def prepare_data(X, y, size=None):\n",
    "    X = X.reshape(-1, 784)\n",
    "    X_train, X_test, y_train, y_test = train_test_split(X, y, train_size=size, stratify=y, random_state=42)\n",
    "    \n",
    "    X_train, X_test, y_train, y_test = [torch.from_numpy(x) for x in [X_train, X_test, y_train, y_test]]\n",
    "    \n",
    "    return X_train, X_test, y_train, y_test"
   ]
  },
  {
   "cell_type": "code",
   "execution_count": 14,
   "id": "7dae2192-4c61-4a6e-b23c-e3d661077645",
   "metadata": {},
   "outputs": [],
   "source": [
    "def _summarize_results(y_pred, y_score, y_test, labels):\n",
    "    results = []\n",
    "    for idx, label in enumerate(labels):\n",
    "        y_pred_filt = y_pred[y_test==idx]\n",
    "        y_test_filt = y_test[y_test==idx]\n",
    "        acc = (y_pred_filt==y_test_filt.numpy()).sum()/len(y_test_filt)*100\n",
    "        results.append({\n",
    "            \"Class\": label,\n",
    "            \"Metric\": acc\n",
    "        })\n",
    "        \n",
    "    acc = (y_pred==y_test.numpy()).sum()/len(y_test)*100    \n",
    "    results.append({\n",
    "        \"Class\": \"Total\",\n",
    "        \"Metric\": acc\n",
    "    })\n",
    "    try:\n",
    "        results.append({\n",
    "            \"Class\": \"F1 score\",\n",
    "            \"Metric\": f1_score(y_test, torch.from_numpy(y_pred)).item()*100\n",
    "        })\n",
    "        results.append({\n",
    "            \"Class\": \"ROC score\",\n",
    "            \"Metric\": roc_auc_score(y_test, torch.from_numpy(y_score[:, 1])).item()*100\n",
    "        })\n",
    "        results.append({\n",
    "            \"Class\": \"Precision\",\n",
    "            \"Metric\": precision_score(y_test, torch.from_numpy(y_pred)).item()*100\n",
    "        })\n",
    "        results.append({\n",
    "            \"Class\": \"Recall\",\n",
    "            \"Metric\": recall_score(y_test, torch.from_numpy(y_pred)).item()*100\n",
    "        })\n",
    "    except ValueError:\n",
    "        pass\n",
    "    results.append({\n",
    "        \"Class\": \"Loss\",\n",
    "        \"Metric\": criterion(torch.from_numpy(y_score), y_test).item()*100\n",
    "    })\n",
    "    return results\n",
    "\n",
    "def test_model(model_fn, data, train_size, label_encoder=None, iters=10, as_numpy=False):\n",
    "    if label_encoder is not None:\n",
    "        labels = label_encoder.classes_\n",
    "    else:\n",
    "        labels = sorted(pd.unique(data[1]))\n",
    "    \n",
    "    results = []\n",
    "\n",
    "    for i in range(iters):\n",
    "        X_train, X_test, y_train, y_test = prepare_data(*data, train_size)\n",
    "        \n",
    "        model = model_fn()\n",
    "\n",
    "        if as_numpy:\n",
    "            model.fit(X_train.numpy(), y_train.numpy());\n",
    "        else:\n",
    "            model.fit(X_train, y_train)\n",
    "        \n",
    "        y_pred = model.predict(X_test)\n",
    "        y_score = model.predict_proba(X_test)\n",
    "        results.extend(_summarize_results(y_pred, y_score, y_test, labels))\n",
    "\n",
    "    dframe = pd.DataFrame.from_dict(results)\n",
    "    sns.violinplot(data=dframe[dframe[\"Class\"]!=\"Loss\"], y=\"Class\", x=\"Metric\", orient='h')\n",
    "    return dframe"
   ]
  },
  {
   "cell_type": "code",
   "execution_count": 15,
   "id": "6193e068-26c5-410e-a6f3-4d7db4add5f5",
   "metadata": {},
   "outputs": [],
   "source": [
    "criterion = torch.nn.CrossEntropyLoss()"
   ]
  },
  {
   "cell_type": "markdown",
   "id": "51a10b12-c8b1-4562-8b22-3af79b5cfbfa",
   "metadata": {},
   "source": [
    "## Benchmark"
   ]
  },
  {
   "cell_type": "markdown",
   "id": "9de34e27-10af-42ce-9435-d9d17dd13008",
   "metadata": {},
   "source": [
    "### XGBoost"
   ]
  },
  {
   "cell_type": "code",
   "execution_count": 16,
   "id": "9f7809d2-d92b-4a37-ba3b-17337cf3f3f4",
   "metadata": {},
   "outputs": [
    {
     "ename": "ModuleNotFoundError",
     "evalue": "No module named 'xgboost'",
     "output_type": "error",
     "traceback": [
      "\u001b[0;31m---------------------------------------------------------------------------\u001b[0m",
      "\u001b[0;31mModuleNotFoundError\u001b[0m                       Traceback (most recent call last)",
      "Cell \u001b[0;32mIn [16], line 1\u001b[0m\n\u001b[0;32m----> 1\u001b[0m \u001b[38;5;28;01mfrom\u001b[39;00m \u001b[38;5;21;01mxgboost\u001b[39;00m \u001b[38;5;28;01mimport\u001b[39;00m XGBClassifier\n",
      "\u001b[0;31mModuleNotFoundError\u001b[0m: No module named 'xgboost'"
     ]
    }
   ],
   "source": [
    "from xgboost import XGBClassifier"
   ]
  },
  {
   "cell_type": "code",
   "execution_count": null,
   "id": "51842fed-3e2d-4150-ad3c-e971bf4390ae",
   "metadata": {},
   "outputs": [],
   "source": [
    "def get_xgboost():\n",
    "    random_seed = np.random.randint(1024)\n",
    "    return XGBClassifier(\n",
    "        verbosity=0,\n",
    "        random_state=random_seed,\n",
    "        subsample=0.98,\n",
    "        use_label_encoder=False)\n",
    "\n",
    "xgb_dframe = test_model(get_xgboost, \n",
    "                        (X, y),\n",
    "                        100,\n",
    "                        None, iters=g_iters)"
   ]
  },
  {
   "cell_type": "code",
   "execution_count": null,
   "id": "40a5e0ce-2d8a-4d9b-af2b-2baeef468acc",
   "metadata": {},
   "outputs": [],
   "source": [
    "xgb_dframe[xgb_dframe[\"Class\"]==\"Total\"].max()"
   ]
  },
  {
   "cell_type": "markdown",
   "id": "553e0556-9964-4663-a456-4862715a8e4d",
   "metadata": {},
   "source": [
    "### Random forest"
   ]
  },
  {
   "cell_type": "code",
   "execution_count": 17,
   "id": "6758728e-d6c8-4d23-9aa7-ba7998704411",
   "metadata": {},
   "outputs": [],
   "source": [
    "from sklearn.ensemble import RandomForestClassifier"
   ]
  },
  {
   "cell_type": "code",
   "execution_count": 18,
   "id": "3325fd3b-8a85-46eb-896c-46bf8d768a89",
   "metadata": {},
   "outputs": [
    {
     "ename": "NameError",
     "evalue": "name 'estimators' is not defined",
     "output_type": "error",
     "traceback": [
      "\u001b[0;31m---------------------------------------------------------------------------\u001b[0m",
      "\u001b[0;31mNameError\u001b[0m                                 Traceback (most recent call last)",
      "Cell \u001b[0;32mIn [18], line 8\u001b[0m\n\u001b[1;32m      4\u001b[0m         \u001b[38;5;28;01mreturn\u001b[39;00m RandomForestClassifier(\n\u001b[1;32m      5\u001b[0m             random_state\u001b[38;5;241m=\u001b[39mrandom_seed)\n\u001b[1;32m      6\u001b[0m     \u001b[38;5;28;01mreturn\u001b[39;00m _inner\n\u001b[0;32m----> 8\u001b[0m rf_dframe \u001b[38;5;241m=\u001b[39m test_model(get_rf(\u001b[43mestimators\u001b[49m), \n\u001b[1;32m      9\u001b[0m                         (X, y),\n\u001b[1;32m     10\u001b[0m                         \u001b[38;5;241m10\u001b[39m,\n\u001b[1;32m     11\u001b[0m                         \u001b[38;5;28;01mNone\u001b[39;00m, iters\u001b[38;5;241m=\u001b[39mg_iters)\n",
      "\u001b[0;31mNameError\u001b[0m: name 'estimators' is not defined"
     ]
    }
   ],
   "source": [
    "def get_rf(n_estimator):\n",
    "    def _inner():\n",
    "        random_seed = np.random.randint(1024)\n",
    "        return RandomForestClassifier(\n",
    "            random_state=random_seed)\n",
    "    return _inner\n",
    "\n",
    "rf_dframe = test_model(get_rf(estimators), \n",
    "                        (X, y),\n",
    "                        10,\n",
    "                        None, iters=g_iters)"
   ]
  },
  {
   "cell_type": "code",
   "execution_count": null,
   "id": "0b7419f2-5b07-4428-bbd0-9ed4f0529283",
   "metadata": {},
   "outputs": [],
   "source": [
    "rf_dframe[rf_dframe[\"Class\"]==\"Total\"].max()"
   ]
  },
  {
   "cell_type": "markdown",
   "id": "0268b22a-78ac-4f51-bd7d-5e49576abef9",
   "metadata": {
    "tags": []
   },
   "source": [
    "### HypernetworkPCA"
   ]
  },
  {
   "cell_type": "code",
   "execution_count": 19,
   "id": "6e5536d6-cf9d-4a2b-9d7b-184c0ac27a84",
   "metadata": {},
   "outputs": [],
   "source": [
    "def network_pca_fn(epochs=10, masks_no=100, mask_size=100):\n",
    "    def _inner():\n",
    "        hypernet = HypernetworkPCA(\n",
    "                        target_architecture=[(mask_size, 100), (100, 10)], \n",
    "                        test_nodes=masks_no,\n",
    "                        architecture=torch.nn.Sequential(torch.nn.Linear(64, 32), \n",
    "                            torch.nn.ReLU(),\n",
    "                            torch.nn.Linear(32, 128),\n",
    "                            torch.nn.ReLU(),\n",
    "                            torch.nn.Dropout(),\n",
    "                            torch.nn.Linear(128, 128),\n",
    "                            torch.nn.ReLU(),\n",
    "                        ),\n",
    "                        mode=TrainingModes.CARTHESIAN,\n",
    "                        input_size=784\n",
    "                    ).to(DEVICE)    \n",
    "        hypernet = hypernet.train()\n",
    "\n",
    "        network = HypernetworkSklearnInterface(hypernet, device=DEVICE, epochs=epochs, batch_size=64)\n",
    "        return network\n",
    "    return _inner"
   ]
  },
  {
   "cell_type": "code",
   "execution_count": 20,
   "id": "1e43b7af-9be5-427a-be2e-4f134ba1e644",
   "metadata": {},
   "outputs": [],
   "source": [
    "def figure_to_html():\n",
    "    tmpfile = BytesIO()\n",
    "    plt.gcf().savefig(tmpfile, format='png')\n",
    "    encoded = base64.b64encode(tmpfile.getvalue()).decode('utf-8')\n",
    "\n",
    "    html = '<img src=\\'data:image/png;base64,{}\\'>'.format(encoded)\n",
    "    return html"
   ]
  },
  {
   "cell_type": "code",
   "execution_count": 21,
   "id": "f5b3a72c-14cf-4d70-bb83-1f0a8aad5144",
   "metadata": {
    "jupyter": {
     "outputs_hidden": true
    },
    "scrolled": true,
    "tags": []
   },
   "outputs": [
    {
     "name": "stdout",
     "output_type": "stream",
     "text": [
      "torch.Size([1, 128])\n"
     ]
    },
    {
     "ename": "AssertionError",
     "evalue": "Torch not compiled with CUDA enabled",
     "output_type": "error",
     "traceback": [
      "\u001b[0;31m---------------------------------------------------------------------------\u001b[0m",
      "\u001b[0;31mAssertionError\u001b[0m                            Traceback (most recent call last)",
      "Cell \u001b[0;32mIn [21], line 11\u001b[0m\n\u001b[1;32m      8\u001b[0m     exp\u001b[38;5;241m.\u001b[39mlog_parameters({\u001b[38;5;124m\"\u001b[39m\u001b[38;5;124mepochs\u001b[39m\u001b[38;5;124m\"\u001b[39m: epochs, \u001b[38;5;124m\"\u001b[39m\u001b[38;5;124mmask_size\u001b[39m\u001b[38;5;124m\"\u001b[39m: mask_size, \u001b[38;5;124m\"\u001b[39m\u001b[38;5;124mmasks_no\u001b[39m\u001b[38;5;124m\"\u001b[39m: masks_no, \u001b[38;5;124m\"\u001b[39m\u001b[38;5;124mdata_size\u001b[39m\u001b[38;5;124m\"\u001b[39m: data_size})\n\u001b[1;32m      9\u001b[0m     exp\u001b[38;5;241m.\u001b[39madd_tag(\u001b[38;5;124m\"\u001b[39m\u001b[38;5;124mhypernet-pca\u001b[39m\u001b[38;5;124m\"\u001b[39m)\n\u001b[0;32m---> 11\u001b[0m hyper_pca_results \u001b[38;5;241m=\u001b[39m \u001b[43mtest_model\u001b[49m\u001b[43m(\u001b[49m\u001b[43mnetwork_pca_fn\u001b[49m\u001b[43m(\u001b[49m\u001b[43mepochs\u001b[49m\u001b[43m,\u001b[49m\u001b[43m \u001b[49m\u001b[43mmasks_no\u001b[49m\u001b[43m)\u001b[49m\u001b[43m,\u001b[49m\n\u001b[1;32m     12\u001b[0m \u001b[43m                \u001b[49m\u001b[43m(\u001b[49m\u001b[43mX\u001b[49m\u001b[43m,\u001b[49m\u001b[43m \u001b[49m\u001b[43my\u001b[49m\u001b[43m)\u001b[49m\u001b[43m,\u001b[49m\n\u001b[1;32m     13\u001b[0m \u001b[43m                \u001b[49m\u001b[43mdata_size\u001b[49m\u001b[43m,\u001b[49m\n\u001b[1;32m     14\u001b[0m \u001b[43m                \u001b[49m\u001b[38;5;28;43;01mNone\u001b[39;49;00m\u001b[43m,\u001b[49m\u001b[43m \u001b[49m\u001b[43mg_iters\u001b[49m\u001b[43m)\u001b[49m\n\u001b[1;32m     16\u001b[0m \u001b[38;5;28;01mif\u001b[39;00m log_to_comet:\n\u001b[1;32m     17\u001b[0m     exp\u001b[38;5;241m.\u001b[39mlog_table(\u001b[38;5;124m\"\u001b[39m\u001b[38;5;124mmetrics.csv\u001b[39m\u001b[38;5;124m\"\u001b[39m, hyper_pca_results\u001b[38;5;241m.\u001b[39mgroupby(\u001b[38;5;124m\"\u001b[39m\u001b[38;5;124mClass\u001b[39m\u001b[38;5;124m\"\u001b[39m)[\u001b[38;5;124m'\u001b[39m\u001b[38;5;124mMetric\u001b[39m\u001b[38;5;124m'\u001b[39m]\u001b[38;5;241m.\u001b[39magg([\u001b[38;5;124m'\u001b[39m\u001b[38;5;124mmean\u001b[39m\u001b[38;5;124m'\u001b[39m, \u001b[38;5;124m'\u001b[39m\u001b[38;5;124mstd\u001b[39m\u001b[38;5;124m'\u001b[39m]))\n",
      "Cell \u001b[0;32mIn [14], line 53\u001b[0m, in \u001b[0;36mtest_model\u001b[0;34m(model_fn, data, train_size, label_encoder, iters, as_numpy)\u001b[0m\n\u001b[1;32m     50\u001b[0m \u001b[38;5;28;01mfor\u001b[39;00m i \u001b[38;5;129;01min\u001b[39;00m \u001b[38;5;28mrange\u001b[39m(iters):\n\u001b[1;32m     51\u001b[0m     X_train, X_test, y_train, y_test \u001b[38;5;241m=\u001b[39m prepare_data(\u001b[38;5;241m*\u001b[39mdata, train_size)\n\u001b[0;32m---> 53\u001b[0m     model \u001b[38;5;241m=\u001b[39m \u001b[43mmodel_fn\u001b[49m\u001b[43m(\u001b[49m\u001b[43m)\u001b[49m\n\u001b[1;32m     55\u001b[0m     \u001b[38;5;28;01mif\u001b[39;00m as_numpy:\n\u001b[1;32m     56\u001b[0m         model\u001b[38;5;241m.\u001b[39mfit(X_train\u001b[38;5;241m.\u001b[39mnumpy(), y_train\u001b[38;5;241m.\u001b[39mnumpy());\n",
      "Cell \u001b[0;32mIn [19], line 3\u001b[0m, in \u001b[0;36mnetwork_pca_fn.<locals>._inner\u001b[0;34m()\u001b[0m\n\u001b[1;32m      2\u001b[0m \u001b[38;5;28;01mdef\u001b[39;00m \u001b[38;5;21m_inner\u001b[39m():\n\u001b[0;32m----> 3\u001b[0m     hypernet \u001b[38;5;241m=\u001b[39m \u001b[43mHypernetworkPCA\u001b[49m\u001b[43m(\u001b[49m\n\u001b[1;32m      4\u001b[0m \u001b[43m                    \u001b[49m\u001b[43mtarget_architecture\u001b[49m\u001b[38;5;241;43m=\u001b[39;49m\u001b[43m[\u001b[49m\u001b[43m(\u001b[49m\u001b[43mmask_size\u001b[49m\u001b[43m,\u001b[49m\u001b[43m \u001b[49m\u001b[38;5;241;43m100\u001b[39;49m\u001b[43m)\u001b[49m\u001b[43m,\u001b[49m\u001b[43m \u001b[49m\u001b[43m(\u001b[49m\u001b[38;5;241;43m100\u001b[39;49m\u001b[43m,\u001b[49m\u001b[43m \u001b[49m\u001b[38;5;241;43m10\u001b[39;49m\u001b[43m)\u001b[49m\u001b[43m]\u001b[49m\u001b[43m,\u001b[49m\u001b[43m \u001b[49m\n\u001b[1;32m      5\u001b[0m \u001b[43m                    \u001b[49m\u001b[43mtest_nodes\u001b[49m\u001b[38;5;241;43m=\u001b[39;49m\u001b[43mmasks_no\u001b[49m\u001b[43m,\u001b[49m\n\u001b[1;32m      6\u001b[0m \u001b[43m                    \u001b[49m\u001b[43marchitecture\u001b[49m\u001b[38;5;241;43m=\u001b[39;49m\u001b[43mtorch\u001b[49m\u001b[38;5;241;43m.\u001b[39;49m\u001b[43mnn\u001b[49m\u001b[38;5;241;43m.\u001b[39;49m\u001b[43mSequential\u001b[49m\u001b[43m(\u001b[49m\u001b[43mtorch\u001b[49m\u001b[38;5;241;43m.\u001b[39;49m\u001b[43mnn\u001b[49m\u001b[38;5;241;43m.\u001b[39;49m\u001b[43mLinear\u001b[49m\u001b[43m(\u001b[49m\u001b[38;5;241;43m64\u001b[39;49m\u001b[43m,\u001b[49m\u001b[43m \u001b[49m\u001b[38;5;241;43m32\u001b[39;49m\u001b[43m)\u001b[49m\u001b[43m,\u001b[49m\u001b[43m \u001b[49m\n\u001b[1;32m      7\u001b[0m \u001b[43m                        \u001b[49m\u001b[43mtorch\u001b[49m\u001b[38;5;241;43m.\u001b[39;49m\u001b[43mnn\u001b[49m\u001b[38;5;241;43m.\u001b[39;49m\u001b[43mReLU\u001b[49m\u001b[43m(\u001b[49m\u001b[43m)\u001b[49m\u001b[43m,\u001b[49m\n\u001b[1;32m      8\u001b[0m \u001b[43m                        \u001b[49m\u001b[43mtorch\u001b[49m\u001b[38;5;241;43m.\u001b[39;49m\u001b[43mnn\u001b[49m\u001b[38;5;241;43m.\u001b[39;49m\u001b[43mLinear\u001b[49m\u001b[43m(\u001b[49m\u001b[38;5;241;43m32\u001b[39;49m\u001b[43m,\u001b[49m\u001b[43m \u001b[49m\u001b[38;5;241;43m128\u001b[39;49m\u001b[43m)\u001b[49m\u001b[43m,\u001b[49m\n\u001b[1;32m      9\u001b[0m \u001b[43m                        \u001b[49m\u001b[43mtorch\u001b[49m\u001b[38;5;241;43m.\u001b[39;49m\u001b[43mnn\u001b[49m\u001b[38;5;241;43m.\u001b[39;49m\u001b[43mReLU\u001b[49m\u001b[43m(\u001b[49m\u001b[43m)\u001b[49m\u001b[43m,\u001b[49m\n\u001b[1;32m     10\u001b[0m \u001b[43m                        \u001b[49m\u001b[43mtorch\u001b[49m\u001b[38;5;241;43m.\u001b[39;49m\u001b[43mnn\u001b[49m\u001b[38;5;241;43m.\u001b[39;49m\u001b[43mDropout\u001b[49m\u001b[43m(\u001b[49m\u001b[43m)\u001b[49m\u001b[43m,\u001b[49m\n\u001b[1;32m     11\u001b[0m \u001b[43m                        \u001b[49m\u001b[43mtorch\u001b[49m\u001b[38;5;241;43m.\u001b[39;49m\u001b[43mnn\u001b[49m\u001b[38;5;241;43m.\u001b[39;49m\u001b[43mLinear\u001b[49m\u001b[43m(\u001b[49m\u001b[38;5;241;43m128\u001b[39;49m\u001b[43m,\u001b[49m\u001b[43m \u001b[49m\u001b[38;5;241;43m128\u001b[39;49m\u001b[43m)\u001b[49m\u001b[43m,\u001b[49m\n\u001b[1;32m     12\u001b[0m \u001b[43m                        \u001b[49m\u001b[43mtorch\u001b[49m\u001b[38;5;241;43m.\u001b[39;49m\u001b[43mnn\u001b[49m\u001b[38;5;241;43m.\u001b[39;49m\u001b[43mReLU\u001b[49m\u001b[43m(\u001b[49m\u001b[43m)\u001b[49m\u001b[43m,\u001b[49m\n\u001b[1;32m     13\u001b[0m \u001b[43m                    \u001b[49m\u001b[43m)\u001b[49m\u001b[43m,\u001b[49m\n\u001b[1;32m     14\u001b[0m \u001b[43m                    \u001b[49m\u001b[43mmode\u001b[49m\u001b[38;5;241;43m=\u001b[39;49m\u001b[43mTrainingModes\u001b[49m\u001b[38;5;241;43m.\u001b[39;49m\u001b[43mCARTHESIAN\u001b[49m\u001b[43m,\u001b[49m\n\u001b[1;32m     15\u001b[0m \u001b[43m                    \u001b[49m\u001b[43minput_size\u001b[49m\u001b[38;5;241;43m=\u001b[39;49m\u001b[38;5;241;43m784\u001b[39;49m\n\u001b[1;32m     16\u001b[0m \u001b[43m                \u001b[49m\u001b[43m)\u001b[49m\u001b[38;5;241m.\u001b[39mto(DEVICE)    \n\u001b[1;32m     17\u001b[0m     hypernet \u001b[38;5;241m=\u001b[39m hypernet\u001b[38;5;241m.\u001b[39mtrain()\n\u001b[1;32m     19\u001b[0m     network \u001b[38;5;241m=\u001b[39m HypernetworkSklearnInterface(hypernet, device\u001b[38;5;241m=\u001b[39mDEVICE, epochs\u001b[38;5;241m=\u001b[39mepochs, batch_size\u001b[38;5;241m=\u001b[39m\u001b[38;5;241m64\u001b[39m)\n",
      "File \u001b[0;32m~/uni/ML/hypernet-cnn/hypernet/tabular_hypernet/hypernetwork.py:228\u001b[0m, in \u001b[0;36mHypernetworkPCA.__init__\u001b[0;34m(self, input_size, *args, **kwargs)\u001b[0m\n\u001b[1;32m    226\u001b[0m \u001b[38;5;28;01mdef\u001b[39;00m \u001b[38;5;21m__init__\u001b[39m(\u001b[38;5;28mself\u001b[39m, input_size\u001b[38;5;241m=\u001b[39m\u001b[38;5;241m784\u001b[39m, \u001b[38;5;241m*\u001b[39margs, \u001b[38;5;241m*\u001b[39m\u001b[38;5;241m*\u001b[39mkwargs):\n\u001b[1;32m    227\u001b[0m     \u001b[38;5;28;01mtry\u001b[39;00m:\n\u001b[0;32m--> 228\u001b[0m         \u001b[38;5;28;43msuper\u001b[39;49m\u001b[43m(\u001b[49m\u001b[43m)\u001b[49m\u001b[38;5;241;43m.\u001b[39;49m\u001b[38;5;21;43m__init__\u001b[39;49m\u001b[43m(\u001b[49m\u001b[38;5;241;43m*\u001b[39;49m\u001b[43margs\u001b[49m\u001b[43m,\u001b[49m\u001b[43m \u001b[49m\u001b[38;5;241;43m*\u001b[39;49m\u001b[38;5;241;43m*\u001b[39;49m\u001b[43mkwargs\u001b[49m\u001b[43m)\u001b[49m\n\u001b[1;32m    229\u001b[0m     \u001b[38;5;28;01mexcept\u001b[39;00m \u001b[38;5;167;01mValueError\u001b[39;00m:\n\u001b[1;32m    230\u001b[0m         \u001b[38;5;66;03m# It happens during `self._create_mask(test_nodes)`\u001b[39;00m\n\u001b[1;32m    231\u001b[0m         \u001b[38;5;66;03m# due to wrong mask size\u001b[39;00m\n\u001b[1;32m    232\u001b[0m         \u001b[38;5;28;01mpass\u001b[39;00m\n",
      "File \u001b[0;32m~/uni/ML/hypernet-cnn/hypernet/tabular_hypernet/hypernetwork.py:55\u001b[0m, in \u001b[0;36mHypernetwork.__init__\u001b[0;34m(self, architecture, target_architecture, test_nodes, mode, device)\u001b[0m\n\u001b[1;32m     53\u001b[0m output_layer \u001b[38;5;241m=\u001b[39m torch\u001b[38;5;241m.\u001b[39mnn\u001b[38;5;241m.\u001b[39mLinear(out_dim[\u001b[38;5;241m1\u001b[39m], \u001b[38;5;28mself\u001b[39m\u001b[38;5;241m.\u001b[39mout_size)\n\u001b[1;32m     54\u001b[0m \u001b[38;5;28mself\u001b[39m\u001b[38;5;241m.\u001b[39mmodel\u001b[38;5;241m.\u001b[39madd_module(\u001b[38;5;124m\"\u001b[39m\u001b[38;5;124moutput_layer\u001b[39m\u001b[38;5;124m\"\u001b[39m, output_layer)\n\u001b[0;32m---> 55\u001b[0m \u001b[38;5;28mself\u001b[39m\u001b[38;5;241m.\u001b[39mmodel \u001b[38;5;241m=\u001b[39m \u001b[38;5;28;43mself\u001b[39;49m\u001b[38;5;241;43m.\u001b[39;49m\u001b[43mmodel\u001b[49m\u001b[38;5;241;43m.\u001b[39;49m\u001b[43mto\u001b[49m\u001b[43m(\u001b[49m\u001b[43mdevice\u001b[49m\u001b[43m)\u001b[49m\n\u001b[1;32m     57\u001b[0m \u001b[38;5;28mself\u001b[39m\u001b[38;5;241m.\u001b[39mdropout \u001b[38;5;241m=\u001b[39m torch\u001b[38;5;241m.\u001b[39mnn\u001b[38;5;241m.\u001b[39mDropout()\n\u001b[1;32m     59\u001b[0m \u001b[38;5;28mself\u001b[39m\u001b[38;5;241m.\u001b[39mrelu \u001b[38;5;241m=\u001b[39m torch\u001b[38;5;241m.\u001b[39mrelu\n",
      "File \u001b[0;32m~/uni/ML/hypernet_venv/lib/python3.10/site-packages/torch/nn/modules/module.py:927\u001b[0m, in \u001b[0;36mModule.to\u001b[0;34m(self, *args, **kwargs)\u001b[0m\n\u001b[1;32m    923\u001b[0m         \u001b[38;5;28;01mreturn\u001b[39;00m t\u001b[38;5;241m.\u001b[39mto(device, dtype \u001b[38;5;28;01mif\u001b[39;00m t\u001b[38;5;241m.\u001b[39mis_floating_point() \u001b[38;5;129;01mor\u001b[39;00m t\u001b[38;5;241m.\u001b[39mis_complex() \u001b[38;5;28;01melse\u001b[39;00m \u001b[38;5;28;01mNone\u001b[39;00m,\n\u001b[1;32m    924\u001b[0m                     non_blocking, memory_format\u001b[38;5;241m=\u001b[39mconvert_to_format)\n\u001b[1;32m    925\u001b[0m     \u001b[38;5;28;01mreturn\u001b[39;00m t\u001b[38;5;241m.\u001b[39mto(device, dtype \u001b[38;5;28;01mif\u001b[39;00m t\u001b[38;5;241m.\u001b[39mis_floating_point() \u001b[38;5;129;01mor\u001b[39;00m t\u001b[38;5;241m.\u001b[39mis_complex() \u001b[38;5;28;01melse\u001b[39;00m \u001b[38;5;28;01mNone\u001b[39;00m, non_blocking)\n\u001b[0;32m--> 927\u001b[0m \u001b[38;5;28;01mreturn\u001b[39;00m \u001b[38;5;28;43mself\u001b[39;49m\u001b[38;5;241;43m.\u001b[39;49m\u001b[43m_apply\u001b[49m\u001b[43m(\u001b[49m\u001b[43mconvert\u001b[49m\u001b[43m)\u001b[49m\n",
      "File \u001b[0;32m~/uni/ML/hypernet_venv/lib/python3.10/site-packages/torch/nn/modules/module.py:579\u001b[0m, in \u001b[0;36mModule._apply\u001b[0;34m(self, fn)\u001b[0m\n\u001b[1;32m    577\u001b[0m \u001b[38;5;28;01mdef\u001b[39;00m \u001b[38;5;21m_apply\u001b[39m(\u001b[38;5;28mself\u001b[39m, fn):\n\u001b[1;32m    578\u001b[0m     \u001b[38;5;28;01mfor\u001b[39;00m module \u001b[38;5;129;01min\u001b[39;00m \u001b[38;5;28mself\u001b[39m\u001b[38;5;241m.\u001b[39mchildren():\n\u001b[0;32m--> 579\u001b[0m         \u001b[43mmodule\u001b[49m\u001b[38;5;241;43m.\u001b[39;49m\u001b[43m_apply\u001b[49m\u001b[43m(\u001b[49m\u001b[43mfn\u001b[49m\u001b[43m)\u001b[49m\n\u001b[1;32m    581\u001b[0m     \u001b[38;5;28;01mdef\u001b[39;00m \u001b[38;5;21mcompute_should_use_set_data\u001b[39m(tensor, tensor_applied):\n\u001b[1;32m    582\u001b[0m         \u001b[38;5;28;01mif\u001b[39;00m torch\u001b[38;5;241m.\u001b[39m_has_compatible_shallow_copy_type(tensor, tensor_applied):\n\u001b[1;32m    583\u001b[0m             \u001b[38;5;66;03m# If the new tensor has compatible tensor type as the existing tensor,\u001b[39;00m\n\u001b[1;32m    584\u001b[0m             \u001b[38;5;66;03m# the current behavior is to change the tensor in-place using `.data =`,\u001b[39;00m\n\u001b[0;32m   (...)\u001b[0m\n\u001b[1;32m    589\u001b[0m             \u001b[38;5;66;03m# global flag to let the user control whether they want the future\u001b[39;00m\n\u001b[1;32m    590\u001b[0m             \u001b[38;5;66;03m# behavior of overwriting the existing tensor or not.\u001b[39;00m\n",
      "File \u001b[0;32m~/uni/ML/hypernet_venv/lib/python3.10/site-packages/torch/nn/modules/module.py:602\u001b[0m, in \u001b[0;36mModule._apply\u001b[0;34m(self, fn)\u001b[0m\n\u001b[1;32m    598\u001b[0m \u001b[38;5;66;03m# Tensors stored in modules are graph leaves, and we don't want to\u001b[39;00m\n\u001b[1;32m    599\u001b[0m \u001b[38;5;66;03m# track autograd history of `param_applied`, so we have to use\u001b[39;00m\n\u001b[1;32m    600\u001b[0m \u001b[38;5;66;03m# `with torch.no_grad():`\u001b[39;00m\n\u001b[1;32m    601\u001b[0m \u001b[38;5;28;01mwith\u001b[39;00m torch\u001b[38;5;241m.\u001b[39mno_grad():\n\u001b[0;32m--> 602\u001b[0m     param_applied \u001b[38;5;241m=\u001b[39m \u001b[43mfn\u001b[49m\u001b[43m(\u001b[49m\u001b[43mparam\u001b[49m\u001b[43m)\u001b[49m\n\u001b[1;32m    603\u001b[0m should_use_set_data \u001b[38;5;241m=\u001b[39m compute_should_use_set_data(param, param_applied)\n\u001b[1;32m    604\u001b[0m \u001b[38;5;28;01mif\u001b[39;00m should_use_set_data:\n",
      "File \u001b[0;32m~/uni/ML/hypernet_venv/lib/python3.10/site-packages/torch/nn/modules/module.py:925\u001b[0m, in \u001b[0;36mModule.to.<locals>.convert\u001b[0;34m(t)\u001b[0m\n\u001b[1;32m    922\u001b[0m \u001b[38;5;28;01mif\u001b[39;00m convert_to_format \u001b[38;5;129;01mis\u001b[39;00m \u001b[38;5;129;01mnot\u001b[39;00m \u001b[38;5;28;01mNone\u001b[39;00m \u001b[38;5;129;01mand\u001b[39;00m t\u001b[38;5;241m.\u001b[39mdim() \u001b[38;5;129;01min\u001b[39;00m (\u001b[38;5;241m4\u001b[39m, \u001b[38;5;241m5\u001b[39m):\n\u001b[1;32m    923\u001b[0m     \u001b[38;5;28;01mreturn\u001b[39;00m t\u001b[38;5;241m.\u001b[39mto(device, dtype \u001b[38;5;28;01mif\u001b[39;00m t\u001b[38;5;241m.\u001b[39mis_floating_point() \u001b[38;5;129;01mor\u001b[39;00m t\u001b[38;5;241m.\u001b[39mis_complex() \u001b[38;5;28;01melse\u001b[39;00m \u001b[38;5;28;01mNone\u001b[39;00m,\n\u001b[1;32m    924\u001b[0m                 non_blocking, memory_format\u001b[38;5;241m=\u001b[39mconvert_to_format)\n\u001b[0;32m--> 925\u001b[0m \u001b[38;5;28;01mreturn\u001b[39;00m \u001b[43mt\u001b[49m\u001b[38;5;241;43m.\u001b[39;49m\u001b[43mto\u001b[49m\u001b[43m(\u001b[49m\u001b[43mdevice\u001b[49m\u001b[43m,\u001b[49m\u001b[43m \u001b[49m\u001b[43mdtype\u001b[49m\u001b[43m \u001b[49m\u001b[38;5;28;43;01mif\u001b[39;49;00m\u001b[43m \u001b[49m\u001b[43mt\u001b[49m\u001b[38;5;241;43m.\u001b[39;49m\u001b[43mis_floating_point\u001b[49m\u001b[43m(\u001b[49m\u001b[43m)\u001b[49m\u001b[43m \u001b[49m\u001b[38;5;129;43;01mor\u001b[39;49;00m\u001b[43m \u001b[49m\u001b[43mt\u001b[49m\u001b[38;5;241;43m.\u001b[39;49m\u001b[43mis_complex\u001b[49m\u001b[43m(\u001b[49m\u001b[43m)\u001b[49m\u001b[43m \u001b[49m\u001b[38;5;28;43;01melse\u001b[39;49;00m\u001b[43m \u001b[49m\u001b[38;5;28;43;01mNone\u001b[39;49;00m\u001b[43m,\u001b[49m\u001b[43m \u001b[49m\u001b[43mnon_blocking\u001b[49m\u001b[43m)\u001b[49m\n",
      "File \u001b[0;32m~/uni/ML/hypernet_venv/lib/python3.10/site-packages/torch/cuda/__init__.py:211\u001b[0m, in \u001b[0;36m_lazy_init\u001b[0;34m()\u001b[0m\n\u001b[1;32m    207\u001b[0m     \u001b[38;5;28;01mraise\u001b[39;00m \u001b[38;5;167;01mRuntimeError\u001b[39;00m(\n\u001b[1;32m    208\u001b[0m         \u001b[38;5;124m\"\u001b[39m\u001b[38;5;124mCannot re-initialize CUDA in forked subprocess. To use CUDA with \u001b[39m\u001b[38;5;124m\"\u001b[39m\n\u001b[1;32m    209\u001b[0m         \u001b[38;5;124m\"\u001b[39m\u001b[38;5;124mmultiprocessing, you must use the \u001b[39m\u001b[38;5;124m'\u001b[39m\u001b[38;5;124mspawn\u001b[39m\u001b[38;5;124m'\u001b[39m\u001b[38;5;124m start method\u001b[39m\u001b[38;5;124m\"\u001b[39m)\n\u001b[1;32m    210\u001b[0m \u001b[38;5;28;01mif\u001b[39;00m \u001b[38;5;129;01mnot\u001b[39;00m \u001b[38;5;28mhasattr\u001b[39m(torch\u001b[38;5;241m.\u001b[39m_C, \u001b[38;5;124m'\u001b[39m\u001b[38;5;124m_cuda_getDeviceCount\u001b[39m\u001b[38;5;124m'\u001b[39m):\n\u001b[0;32m--> 211\u001b[0m     \u001b[38;5;28;01mraise\u001b[39;00m \u001b[38;5;167;01mAssertionError\u001b[39;00m(\u001b[38;5;124m\"\u001b[39m\u001b[38;5;124mTorch not compiled with CUDA enabled\u001b[39m\u001b[38;5;124m\"\u001b[39m)\n\u001b[1;32m    212\u001b[0m \u001b[38;5;28;01mif\u001b[39;00m _cudart \u001b[38;5;129;01mis\u001b[39;00m \u001b[38;5;28;01mNone\u001b[39;00m:\n\u001b[1;32m    213\u001b[0m     \u001b[38;5;28;01mraise\u001b[39;00m \u001b[38;5;167;01mAssertionError\u001b[39;00m(\n\u001b[1;32m    214\u001b[0m         \u001b[38;5;124m\"\u001b[39m\u001b[38;5;124mlibcudart functions unavailable. It looks like you have a broken build?\u001b[39m\u001b[38;5;124m\"\u001b[39m)\n",
      "\u001b[0;31mAssertionError\u001b[0m: Torch not compiled with CUDA enabled"
     ]
    }
   ],
   "source": [
    "epochs = g_epochs\n",
    "mask_size = g_mask_size\n",
    "masks_no = g_masks_no\n",
    "data_size = g_data_size\n",
    "\n",
    "if log_to_comet:\n",
    "    exp = Experiment(os.environ.get(\"COMET_KEY\"), comet_experiment_name)\n",
    "    exp.log_parameters({\"epochs\": epochs, \"mask_size\": mask_size, \"masks_no\": masks_no, \"data_size\": data_size})\n",
    "    exp.add_tag(\"hypernet-pca\")\n",
    "\n",
    "hyper_pca_results = test_model(network_pca_fn(epochs, masks_no),\n",
    "                (X, y),\n",
    "                data_size,\n",
    "                None, g_iters)\n",
    "\n",
    "if log_to_comet:\n",
    "    exp.log_table(\"metrics.csv\", hyper_pca_results.groupby(\"Class\")['Metric'].agg(['mean', 'std']))"
   ]
  },
  {
   "cell_type": "code",
   "execution_count": 22,
   "id": "057574bf-0687-438a-ab01-5eeea7b05478",
   "metadata": {},
   "outputs": [
    {
     "ename": "NameError",
     "evalue": "name 'hyper_pca_results' is not defined",
     "output_type": "error",
     "traceback": [
      "\u001b[0;31m---------------------------------------------------------------------------\u001b[0m",
      "\u001b[0;31mNameError\u001b[0m                                 Traceback (most recent call last)",
      "Cell \u001b[0;32mIn [22], line 1\u001b[0m\n\u001b[0;32m----> 1\u001b[0m \u001b[43mhyper_pca_results\u001b[49m[hyper_pca_results[\u001b[38;5;124m\"\u001b[39m\u001b[38;5;124mClass\u001b[39m\u001b[38;5;124m\"\u001b[39m]\u001b[38;5;241m==\u001b[39m\u001b[38;5;124m\"\u001b[39m\u001b[38;5;124mTotal\u001b[39m\u001b[38;5;124m\"\u001b[39m]\u001b[38;5;241m.\u001b[39mreset_index(drop\u001b[38;5;241m=\u001b[39m\u001b[38;5;28;01mTrue\u001b[39;00m)\u001b[38;5;241m.\u001b[39mmax()\n",
      "\u001b[0;31mNameError\u001b[0m: name 'hyper_pca_results' is not defined"
     ]
    }
   ],
   "source": [
    "hyper_pca_results[hyper_pca_results[\"Class\"]==\"Total\"].reset_index(drop=True).max()"
   ]
  },
  {
   "cell_type": "markdown",
   "id": "ea4f0115",
   "metadata": {},
   "source": [
    "## Hypernetwork with feature selection"
   ]
  },
  {
   "cell_type": "markdown",
   "id": "736a4cb8",
   "metadata": {},
   "source": [
    "### Accuracy based feature selector"
   ]
  },
  {
   "cell_type": "code",
   "execution_count": null,
   "id": "f8ebfb8d",
   "metadata": {},
   "outputs": [],
   "source": [
    "def network_acc_fn(epochs=10, masks_no=100, mask_size=100, temp_scheduler=None):\n",
    "    def _inner():\n",
    "        \n",
    "        res = get_feature_accuracies(trainset, file='comet_experiment_name')\n",
    "        mask_selector = AccMasksSelector(res, mask_size, temp_scheduler)\n",
    "        \n",
    "        hypernet = HypernetworkWithFeatureSelector(\n",
    "                        target_architecture=[(100, 100), (100, 10)], \n",
    "                        test_nodes=masks_no,\n",
    "                        architecture=torch.nn.Sequential(torch.nn.Linear(784, 32), \n",
    "                            torch.nn.ReLU(),\n",
    "                            torch.nn.Linear(32, 128),\n",
    "                            torch.nn.ReLU(),\n",
    "                            torch.nn.Dropout(),\n",
    "                            torch.nn.Linear(128, 128),\n",
    "                            torch.nn.ReLU(),\n",
    "                        ),\n",
    "                        mode=TrainingModes.CARTHESIAN,\n",
    "                        input_size=784,\n",
    "                        feature_selector=mask_selector\n",
    "                    ).to(DEVICE)    \n",
    "        hypernet = hypernet.train()\n",
    "\n",
    "        network = HypernetworkSklearnInterface(hypernet, device=DEVICE, epochs=epochs, batch_size=64)\n",
    "        return network\n",
    "    return _inner\n"
   ]
  },
  {
   "cell_type": "markdown",
   "id": "e921d38b",
   "metadata": {},
   "source": [
    "#### Temp 1..10"
   ]
  },
  {
   "cell_type": "code",
   "execution_count": null,
   "id": "3f522c60",
   "metadata": {},
   "outputs": [],
   "source": [
    "epochs = g_epochs\n",
    "mask_size = g_mask_size\n",
    "masks_no = g_masks_no\n",
    "data_size = g_data_size\n",
    "\n",
    "if log_to_comet:\n",
    "    exp = Experiment(os.environ.get(\"COMET_KEY\"), comet_experiment_name)\n",
    "    exp.log_parameters({\"epochs\": epochs, \"mask_size\": mask_size, \"masks_no\": masks_no, \"data_size\": data_size})\n",
    "    exp.add_tag(\"ft-acc-1to10\")\n",
    "\n",
    "temp_scheduler = IncByOneTempScheduler(1, n=mask_size, max_temp=10)\n",
    "hyper_acc_T_1_to_10_results = test_model(network_acc_fn(epochs, masks_no, mask_size, temp_scheduler=temp_scheduler),\n",
    "                                (X, y),\n",
    "                                data_size,\n",
    "                                None, g_iters)\n",
    "if log_to_comet:\n",
    "    exp.log_table(\"metrics.csv\", hyper_acc_T_1_to_10_results.groupby(\"Class\")['Metric'].agg(['mean', 'std']))"
   ]
  },
  {
   "cell_type": "code",
   "execution_count": null,
   "id": "a035c8f7",
   "metadata": {},
   "outputs": [],
   "source": [
    "hyper_acc_T_1_to_10_results[hyper_acc_T_1_to_10_results[\"Class\"]==\"Total\"].reset_index(drop=True).max()"
   ]
  },
  {
   "cell_type": "markdown",
   "id": "681b6b82",
   "metadata": {},
   "source": [
    "#### Temp 1..50"
   ]
  },
  {
   "cell_type": "code",
   "execution_count": null,
   "id": "b4e4463f",
   "metadata": {},
   "outputs": [],
   "source": [
    "if log_to_comet:\n",
    "    exp = Experiment(os.environ.get(\"COMET_KEY\"), comet_experiment_name)\n",
    "    exp.log_parameters({\"epochs\": epochs, \"mask_size\": mask_size, \"masks_no\": masks_no, \"data_size\": data_size})\n",
    "    exp.add_tag(\"ft-acc-1to50\")\n",
    "\n",
    "\n",
    "temp_scheduler = IncByOneTempScheduler(1, n=mask_size, max_temp=50)\n",
    "hyper_acc_T_1_to_50_results = test_model(network_acc_fn(epochs, masks_no, temp_scheduler=temp_scheduler),\n",
    "                                (X, y),\n",
    "                                data_size,\n",
    "                                None, g_iters)\n",
    "\n",
    "if log_to_comet:\n",
    "    exp.log_table(\"metrics.csv\", hyper_acc_T_1_to_50_results.groupby(\"Class\")['Metric'].agg(['mean', 'std']))"
   ]
  },
  {
   "cell_type": "code",
   "execution_count": null,
   "id": "02f78e54",
   "metadata": {},
   "outputs": [],
   "source": [
    "hyper_acc_T_1_to_50_results[hyper_acc_T_1_to_50_results[\"Class\"]==\"Total\"].reset_index(drop=True).max()"
   ]
  },
  {
   "cell_type": "markdown",
   "id": "587ac10f",
   "metadata": {},
   "source": [
    "#### Temp 1..100"
   ]
  },
  {
   "cell_type": "code",
   "execution_count": null,
   "id": "44f5665c",
   "metadata": {},
   "outputs": [],
   "source": [
    "if log_to_comet:\n",
    "    exp = Experiment(os.environ.get(\"COMET_KEY\"), comet_experiment_name)\n",
    "    exp.log_parameters({\"epochs\": epochs, \"mask_size\": mask_size, \"masks_no\": masks_no, \"data_size\": data_size})\n",
    "    exp.add_tag(\"ft-acc-1to100\")\n",
    "\n",
    "\n",
    "temp_scheduler = IncByOneTempScheduler(1, n=mask_size, max_temp=100)\n",
    "hyper_acc_T_1_to_100_results = test_model(network_acc_fn(epochs, masks_no, temp_scheduler=temp_scheduler),\n",
    "                                (X, y),\n",
    "                                data_size,\n",
    "                                None, g_iters)\n",
    "\n",
    "if log_to_comet:\n",
    "    exp.log_table(\"metrics.csv\", hyper_acc_T_1_to_100_results.groupby(\"Class\")['Metric'].agg(['mean', 'std']))"
   ]
  },
  {
   "cell_type": "code",
   "execution_count": null,
   "id": "2262aba5",
   "metadata": {},
   "outputs": [],
   "source": [
    "hyper_acc_T_1_to_100_results[hyper_acc_T_1_to_100_results[\"Class\"]==\"Total\"].reset_index(drop=True).max()"
   ]
  },
  {
   "cell_type": "markdown",
   "id": "bbef76dc",
   "metadata": {},
   "source": [
    "### Variance based feature selector\n"
   ]
  },
  {
   "cell_type": "code",
   "execution_count": null,
   "id": "747def38",
   "metadata": {},
   "outputs": [],
   "source": [
    "def network_var_fn(epochs=10, masks_no=100, mask_size=100, temp_scheduler=None):\n",
    "    def _inner():\n",
    "        res = feature_variances((trainset, trainset))\n",
    "        mask_selector = VarianceWithSoftmaxMasksSelector(res, mask_size, temp_scheduler)\n",
    "        \n",
    "        hypernet = HypernetworkWithFeatureSelector(\n",
    "                        target_architecture=[(mask_size, 100), (100, 10)], \n",
    "                        test_nodes=masks_no,\n",
    "                        architecture=torch.nn.Sequential(torch.nn.Linear(784, 32), \n",
    "                            torch.nn.ReLU(),\n",
    "                            torch.nn.Linear(32, 128),\n",
    "                            torch.nn.ReLU(),\n",
    "                            torch.nn.Dropout(),\n",
    "                            torch.nn.Linear(128, 128),\n",
    "                            torch.nn.ReLU(),\n",
    "                        ),\n",
    "                        mode=TrainingModes.CARTHESIAN,\n",
    "                        input_size=784,\n",
    "                        feature_selector=mask_selector\n",
    "                    ).to(DEVICE)    \n",
    "        hypernet = hypernet.train()\n",
    "\n",
    "        network = HypernetworkSklearnInterface(hypernet, device=DEVICE, epochs=epochs, batch_size=64)\n",
    "        return network\n",
    "    return _inner"
   ]
  },
  {
   "cell_type": "markdown",
   "id": "3aaccf6e",
   "metadata": {},
   "source": [
    "#### Temp 1..10"
   ]
  },
  {
   "cell_type": "code",
   "execution_count": null,
   "id": "984b6ad9",
   "metadata": {},
   "outputs": [],
   "source": [
    "epochs = g_epochs\n",
    "mask_size = g_mask_size\n",
    "masks_no = g_masks_no\n",
    "data_size = g_data_size\n",
    "\n",
    "if log_to_comet:\n",
    "    exp = Experiment(os.environ.get(\"COMET_KEY\"), comet_experiment_name)\n",
    "    exp.log_parameters({\"epochs\": epochs, \"mask_size\": mask_size, \"masks_no\": masks_no, \"data_size\": data_size})\n",
    "    exp.add_tag(\"ft-var-1to10\")\n",
    "\n",
    "temp_scheduler = IncByOneTempScheduler(1, n=mask_size, max_temp=10)\n",
    "hyper_var_T_1_to_10_results = test_model(network_var_fn(epochs, masks_no, mask_size, temp_scheduler=temp_scheduler),\n",
    "                                (X, y),\n",
    "                                data_size,\n",
    "                                None, g_iters)\n",
    "\n",
    "if log_to_comet:\n",
    "    exp.log_table(\"metrics.csv\", hyper_var_T_1_to_10_results.groupby(\"Class\")['Metric'].agg(['mean', 'std']))"
   ]
  },
  {
   "cell_type": "code",
   "execution_count": null,
   "id": "a72b6710",
   "metadata": {},
   "outputs": [],
   "source": [
    "hyper_var_T_1_to_10_results[hyper_var_T_1_to_10_results[\"Class\"]==\"Total\"].reset_index(drop=True).max()"
   ]
  },
  {
   "cell_type": "markdown",
   "id": "acd6152e",
   "metadata": {},
   "source": [
    "#### Temp 1..50"
   ]
  },
  {
   "cell_type": "code",
   "execution_count": null,
   "id": "8abb84fb",
   "metadata": {},
   "outputs": [],
   "source": [
    "if log_to_comet:\n",
    "    exp = Experiment(os.environ.get(\"COMET_KEY\"), comet_experiment_name)\n",
    "    exp.log_parameters({\"epochs\": epochs, \"mask_size\": mask_size, \"masks_no\": masks_no, \"data_size\": data_size})\n",
    "    exp.add_tag(\"ft-var-1to50\")\n",
    "\n",
    "\n",
    "temp_scheduler = IncByOneTempScheduler(1, n=mask_size, max_temp=50)\n",
    "hyper_var_T_1_to_50_results = test_model(network_var_fn(epochs, masks_no, temp_scheduler=temp_scheduler),\n",
    "                                (X, y),\n",
    "                                data_size,\n",
    "                                None, g_iters)\n",
    "\n",
    "if log_to_comet:\n",
    "    exp.log_table(\"metrics.csv\", hyper_var_T_1_to_50_results.groupby(\"Class\")['Metric'].agg(['mean', 'std']))"
   ]
  },
  {
   "cell_type": "code",
   "execution_count": null,
   "id": "1b0ab7c1",
   "metadata": {},
   "outputs": [],
   "source": [
    "hyper_var_T_1_to_50_results[hyper_var_T_1_to_50_results[\"Class\"]==\"Total\"].reset_index(drop=True).max()"
   ]
  },
  {
   "cell_type": "markdown",
   "id": "bdcd0efa",
   "metadata": {},
   "source": [
    "#### Temp 1..100"
   ]
  },
  {
   "cell_type": "code",
   "execution_count": null,
   "id": "2f0fd4c9",
   "metadata": {},
   "outputs": [],
   "source": [
    "if log_to_comet:\n",
    "    exp = Experiment(os.environ.get(\"COMET_KEY\"), comet_experiment_name)\n",
    "    exp.log_parameters({\"epochs\": epochs, \"mask_size\": mask_size, \"masks_no\": masks_no, \"data_size\": data_size})\n",
    "    exp.add_tag(\"ft-var-1to50\")\n",
    "\n",
    "\n",
    "temp_scheduler = IncByOneTempScheduler(1, n=mask_size, max_temp=100)\n",
    "hyper_var_T_1_to_50_results = test_model(network_var_fn(epochs, masks_no, temp_scheduler=temp_scheduler),\n",
    "                                (X, y),\n",
    "                                data_size,\n",
    "                                None, g_iters)\n",
    "\n",
    "if log_to_comet:\n",
    "    exp.log_table(\"metrics.csv\", hyper_var_T_1_to_100_results.groupby(\"Class\")['Metric'].agg(['mean', 'std']))"
   ]
  },
  {
   "cell_type": "code",
   "execution_count": null,
   "id": "8e29885f",
   "metadata": {},
   "outputs": [],
   "source": [
    "hyper_var_T_1_to_100_results[hyper_var_T_1_to_100_results[\"Class\"]==\"Total\"].reset_index(drop=True).max()"
   ]
  },
  {
   "cell_type": "code",
   "execution_count": null,
   "id": "0a686435",
   "metadata": {},
   "outputs": [],
   "source": []
  },
  {
   "cell_type": "markdown",
   "id": "bfee1b29-5a3b-4487-8bd3-28b00d82cd40",
   "metadata": {
    "tags": []
   },
   "source": [
    "### Hypernetwork"
   ]
  },
  {
   "cell_type": "code",
   "execution_count": 89,
   "id": "e91eb5c1-65f5-4ce3-a6a8-34cb82664ae3",
   "metadata": {},
   "outputs": [],
   "source": [
    "def network_fn(epochs=10, masks_no=100):\n",
    "    def _inner():\n",
    "        hypernet = Hypernetwork(\n",
    "                        target_architecture=[(100, 100), (100, 10)], \n",
    "                        test_nodes=masks_no,\n",
    "                        architecture=torch.nn.Sequential(torch.nn.Linear(784, 32), \n",
    "                            torch.nn.ReLU(),\n",
    "                            torch.nn.Linear(32, 128),\n",
    "                            torch.nn.ReLU(),\n",
    "                            torch.nn.Dropout(),\n",
    "                            torch.nn.Linear(128, 128),\n",
    "                            torch.nn.ReLU(),\n",
    "                        ),\n",
    "                        mode=TrainingModes.CARTHESIAN,\n",
    "                    ).to(DEVICE)    \n",
    "        hypernet = hypernet.train()\n",
    "\n",
    "        network = HypernetworkSklearnInterface(hypernet, device=DEVICE, epochs=epochs, batch_size=64)\n",
    "        return network\n",
    "    return _inner"
   ]
  },
  {
   "cell_type": "code",
   "execution_count": 91,
   "id": "baea04b2-0d40-47ba-9e18-95286ee0dfd3",
   "metadata": {
    "tags": []
   },
   "outputs": [
    {
     "name": "stderr",
     "output_type": "stream",
     "text": [
      "COMET INFO: ---------------------------\n",
      "COMET INFO: Comet.ml Experiment Summary\n",
      "COMET INFO: ---------------------------\n",
      "COMET INFO:   Data:\n",
      "COMET INFO:     display_summary_level : 1\n",
      "COMET INFO:     url                   : https://www.comet.com/wwydmanski/mnist-benchmark-hypernet/028b16b740a94290bc50c8f9ef5fb7a7\n",
      "COMET INFO:   Metrics [count] (min, max):\n",
      "COMET INFO:     loss [30180] : (0.0, 44.67570114135742)\n",
      "COMET INFO:   Parameters:\n",
      "COMET INFO:     bootstrap                  : True\n",
      "COMET INFO:     ccp_alpha                  : 0.0\n",
      "COMET INFO:     class_weight               : 1\n",
      "COMET INFO:     copy                       : True\n",
      "COMET INFO:     criterion                  : gini\n",
      "COMET INFO:     data_size                  : 100\n",
      "COMET INFO:     epochs                     : 150\n",
      "COMET INFO:     iterated_power             : auto\n",
      "COMET INFO:     mask_size                  : 100\n",
      "COMET INFO:     masks_no                   : 50\n",
      "COMET INFO:     max_depth                  : 1\n",
      "COMET INFO:     max_features               : sqrt\n",
      "COMET INFO:     max_leaf_nodes             : 1\n",
      "COMET INFO:     max_samples                : 1\n",
      "COMET INFO:     min_impurity_decrease      : 0.0\n",
      "COMET INFO:     min_samples_leaf           : 1\n",
      "COMET INFO:     min_samples_split          : 2\n",
      "COMET INFO:     min_weight_fraction_leaf   : 0.0\n",
      "COMET INFO:     n_components               : 64\n",
      "COMET INFO:     n_estimators               : 64\n",
      "COMET INFO:     n_jobs                     : 1\n",
      "COMET INFO:     n_oversamples              : 10\n",
      "COMET INFO:     oob_score                  : False\n",
      "COMET INFO:     power_iteration_normalizer : auto\n",
      "COMET INFO:     random_state               : 564\n",
      "COMET INFO:     splitter                   : best\n",
      "COMET INFO:     svd_solver                 : auto\n",
      "COMET INFO:     tol                        : 0.0\n",
      "COMET INFO:     verbose                    : 0\n",
      "COMET INFO:     warm_start                 : False\n",
      "COMET INFO:     whiten                     : False\n",
      "COMET INFO:   Uploads:\n",
      "COMET INFO:     conda-environment-definition : 1\n",
      "COMET INFO:     conda-info                   : 1\n",
      "COMET INFO:     conda-specification          : 1\n",
      "COMET INFO:     dataframe                    : 1 (257 bytes)\n",
      "COMET INFO:     environment details          : 1\n",
      "COMET INFO:     filename                     : 1\n",
      "COMET INFO:     git metadata                 : 1\n",
      "COMET INFO:     git-patch (uncompressed)     : 1 (42.67 KB)\n",
      "COMET INFO:     installed packages           : 1\n",
      "COMET INFO:     model graph                  : 1\n",
      "COMET INFO:     notebook                     : 1\n",
      "COMET INFO:     os packages                  : 1\n",
      "COMET INFO:     source_code                  : 1\n",
      "COMET INFO: ---------------------------\n",
      "COMET WARNING: As you are running in a Jupyter environment, you will need to call `experiment.end()` when finished to ensure all metrics and code are logged before exiting.\n",
      "COMET INFO: Experiment is live on comet.ml https://www.comet.com/wwydmanski/mnist-benchmark-hypernet/66aff9175d0b47acaa79a12446b7e714\n",
      "\n"
     ]
    },
    {
     "name": "stdout",
     "output_type": "stream",
     "text": [
      "torch.Size([1, 128])\n"
     ]
    },
    {
     "name": "stderr",
     "output_type": "stream",
     "text": [
      "100%|█████████████████████████████████████████████████████████████████████████████████| 150/150 [04:55<00:00,  1.97s/it]\n"
     ]
    },
    {
     "name": "stdout",
     "output_type": "stream",
     "text": [
      "torch.Size([1, 128])\n"
     ]
    },
    {
     "name": "stderr",
     "output_type": "stream",
     "text": [
      "100%|█████████████████████████████████████████████████████████████████████████████████| 150/150 [01:53<00:00,  1.32it/s]\n"
     ]
    },
    {
     "name": "stdout",
     "output_type": "stream",
     "text": [
      "torch.Size([1, 128])\n"
     ]
    },
    {
     "name": "stderr",
     "output_type": "stream",
     "text": [
      "100%|█████████████████████████████████████████████████████████████████████████████████| 150/150 [03:35<00:00,  1.44s/it]\n"
     ]
    },
    {
     "name": "stdout",
     "output_type": "stream",
     "text": [
      "torch.Size([1, 128])\n"
     ]
    },
    {
     "name": "stderr",
     "output_type": "stream",
     "text": [
      "100%|█████████████████████████████████████████████████████████████████████████████████| 150/150 [01:53<00:00,  1.32it/s]\n"
     ]
    },
    {
     "name": "stdout",
     "output_type": "stream",
     "text": [
      "torch.Size([1, 128])\n"
     ]
    },
    {
     "name": "stderr",
     "output_type": "stream",
     "text": [
      "100%|█████████████████████████████████████████████████████████████████████████████████| 150/150 [04:40<00:00,  1.87s/it]\n"
     ]
    },
    {
     "name": "stdout",
     "output_type": "stream",
     "text": [
      "torch.Size([1, 128])\n"
     ]
    },
    {
     "name": "stderr",
     "output_type": "stream",
     "text": [
      "100%|█████████████████████████████████████████████████████████████████████████████████| 150/150 [01:54<00:00,  1.31it/s]\n"
     ]
    },
    {
     "name": "stdout",
     "output_type": "stream",
     "text": [
      "torch.Size([1, 128])\n"
     ]
    },
    {
     "name": "stderr",
     "output_type": "stream",
     "text": [
      "100%|█████████████████████████████████████████████████████████████████████████████████| 150/150 [03:54<00:00,  1.56s/it]\n"
     ]
    },
    {
     "name": "stdout",
     "output_type": "stream",
     "text": [
      "torch.Size([1, 128])\n"
     ]
    },
    {
     "name": "stderr",
     "output_type": "stream",
     "text": [
      "100%|█████████████████████████████████████████████████████████████████████████████████| 150/150 [01:54<00:00,  1.31it/s]\n"
     ]
    },
    {
     "name": "stdout",
     "output_type": "stream",
     "text": [
      "torch.Size([1, 128])\n"
     ]
    },
    {
     "name": "stderr",
     "output_type": "stream",
     "text": [
      "100%|█████████████████████████████████████████████████████████████████████████████████| 150/150 [02:44<00:00,  1.09s/it]\n"
     ]
    },
    {
     "name": "stdout",
     "output_type": "stream",
     "text": [
      "torch.Size([1, 128])\n"
     ]
    },
    {
     "name": "stderr",
     "output_type": "stream",
     "text": [
      "100%|█████████████████████████████████████████████████████████████████████████████████| 150/150 [01:53<00:00,  1.32it/s]\n"
     ]
    },
    {
     "data": {
      "text/plain": [
       "{'web': 'https://www.comet.com/api/asset/download?assetId=bb002e6e91e14bc8a5166fc00ace9d93&experimentKey=66aff9175d0b47acaa79a12446b7e714',\n",
       " 'api': 'https://www.comet.com/api/rest/v2/experiment/asset/get-asset?assetId=bb002e6e91e14bc8a5166fc00ace9d93&experimentKey=66aff9175d0b47acaa79a12446b7e714',\n",
       " 'assetId': 'bb002e6e91e14bc8a5166fc00ace9d93'}"
      ]
     },
     "execution_count": 91,
     "metadata": {},
     "output_type": "execute_result"
    },
    {
     "data": {
      "image/png": "[encoded data removed]",
      "text/plain": [
       "<Figure size 432x288 with 1 Axes>"
      ]
     },
     "metadata": {
      "needs_background": "light"
     },
     "output_type": "display_data"
    }
   ],
   "source": [
    "epochs = g_epochs\n",
    "mask_size = g_mask_size\n",
    "masks_no = g_masks_no\n",
    "data_size = g_data_size\n",
    "\n",
    "if log_to_comet:\n",
    "    exp = Experiment(os.environ.get(\"COMET_KEY\"), comet_experiment_name)\n",
    "    exp.log_parameters({\"epochs\": epochs, \"mask_size\": mask_size, \"masks_no\": masks_no, \"data_size\": data_size})\n",
    "    exp.add_tag(\"hypernet\")\n",
    "\n",
    "nn_results = test_model(network_fn(epochs, masks_no),\n",
    "                (X, y),\n",
    "                data_size,\n",
    "                None, g_iters)\n",
    "if log_to_comet:\n",
    "    exp.log_table(\"metrics.csv\", nn_results.groupby(\"Class\")['Metric'].agg(['mean', 'std']))"
   ]
  },
  {
   "cell_type": "code",
   "execution_count": 93,
   "id": "f4fdd005-4a0b-46f6-925b-ebb8f1468f21",
   "metadata": {},
   "outputs": [
    {
     "name": "stderr",
     "output_type": "stream",
     "text": [
      "/tmp/ipykernel_1302138/3257954908.py:1: FutureWarning: Dropping of nuisance columns in DataFrame reductions (with 'numeric_only=None') is deprecated; in a future version this will raise TypeError.  Select only valid columns before calling the reduction.\n",
      "  nn_results[nn_results[\"Class\"]==\"Total\"].reset_index(drop=True).mean()\n"
     ]
    },
    {
     "data": {
      "text/plain": [
       "Metric    78.871619\n",
       "dtype: float64"
      ]
     },
     "execution_count": 93,
     "metadata": {},
     "output_type": "execute_result"
    }
   ],
   "source": [
    "nn_results[nn_results[\"Class\"]==\"Total\"].reset_index(drop=True).mean()"
   ]
  },
  {
   "cell_type": "code",
   "execution_count": 19,
   "id": "e978e242-ad04-4a14-a44d-763e114e3702",
   "metadata": {},
   "outputs": [],
   "source": [
    "def network_fn(epochs=10, masks_no=100):\n",
    "    def _inner():\n",
    "        hypernet = HypernetworkEmbeddings(\n",
    "                        target_architecture=[(100, 100), (100, 10)], \n",
    "                        test_nodes=masks_no,\n",
    "                        architecture=torch.nn.Sequential(torch.nn.Linear(8, 32), \n",
    "                            torch.nn.ReLU(),\n",
    "                            torch.nn.Linear(32, 128),\n",
    "                            torch.nn.ReLU(),\n",
    "                            torch.nn.Dropout(),\n",
    "                            torch.nn.Linear(128, 128),\n",
    "                            torch.nn.ReLU(),\n",
    "                        ),\n",
    "                        input_size=784,\n",
    "                        mode=TrainingModes.CARTHESIAN,\n",
    "                    ).to(DEVICE)    \n",
    "        hypernet = hypernet.train()\n",
    "\n",
    "        network = HypernetworkSklearnInterface(hypernet, device=DEVICE, epochs=epochs, batch_size=64)\n",
    "        return network\n",
    "    return _inner"
   ]
  },
  {
   "cell_type": "code",
   "execution_count": 20,
   "id": "6c8e6e0a-23e9-4cfc-ae29-c28d8ed7827d",
   "metadata": {
    "tags": []
   },
   "outputs": [
    {
     "name": "stderr",
     "output_type": "stream",
     "text": [
      "COMET INFO: ---------------------------\n",
      "COMET INFO: Comet.ml Experiment Summary\n",
      "COMET INFO: ---------------------------\n",
      "COMET INFO:   Data:\n",
      "COMET INFO:     display_summary_level : 1\n",
      "COMET INFO:     url                   : https://www.comet.com/wwydmanski/mnist-benchmark-hypernet/1bd46462176744b1a6f511cd201b7f9b\n",
      "COMET INFO:   Metrics [count] (min, max):\n",
      "COMET INFO:     loss [30000] : (0.22336599230766296, 6093.2392578125)\n",
      "COMET INFO:   Parameters:\n",
      "COMET INFO:     data_size : 100\n",
      "COMET INFO:     epochs    : 150\n",
      "COMET INFO:     mask_size : 100\n",
      "COMET INFO:     masks_no  : 50\n",
      "COMET INFO:   Uploads:\n",
      "COMET INFO:     conda-environment-definition : 1\n",
      "COMET INFO:     conda-info                   : 1\n",
      "COMET INFO:     conda-specification          : 1\n",
      "COMET INFO:     dataframe                    : 1 (262 bytes)\n",
      "COMET INFO:     environment details          : 1\n",
      "COMET INFO:     filename                     : 1\n",
      "COMET INFO:     git metadata                 : 1\n",
      "COMET INFO:     git-patch (uncompressed)     : 1 (42.70 KB)\n",
      "COMET INFO:     installed packages           : 1\n",
      "COMET INFO:     model graph                  : 1\n",
      "COMET INFO:     notebook                     : 1\n",
      "COMET INFO:     os packages                  : 1\n",
      "COMET INFO:     source_code                  : 1\n",
      "COMET INFO: ---------------------------\n",
      "COMET WARNING: As you are running in a Jupyter environment, you will need to call `experiment.end()` when finished to ensure all metrics and code are logged before exiting.\n",
      "COMET INFO: Experiment is live on comet.ml https://www.comet.com/wwydmanski/mnist-benchmark-hypernet/42a8b7ae63104d138f14a6a4740d43d7\n",
      "\n"
     ]
    },
    {
     "name": "stdout",
     "output_type": "stream",
     "text": [
      "torch.Size([1, 128])\n"
     ]
    },
    {
     "ename": "ValueError",
     "evalue": "kth(=99) out of bounds (8)",
     "output_type": "error",
     "traceback": [
      "\u001b[0;31m---------------------------------------------------------------------------\u001b[0m",
      "\u001b[0;31mValueError\u001b[0m                                Traceback (most recent call last)",
      "Input \u001b[0;32mIn [20]\u001b[0m, in \u001b[0;36m<cell line: 10>\u001b[0;34m()\u001b[0m\n\u001b[1;32m      7\u001b[0m exp\u001b[38;5;241m.\u001b[39mlog_parameters({\u001b[38;5;124m\"\u001b[39m\u001b[38;5;124mepochs\u001b[39m\u001b[38;5;124m\"\u001b[39m: epochs, \u001b[38;5;124m\"\u001b[39m\u001b[38;5;124mmask_size\u001b[39m\u001b[38;5;124m\"\u001b[39m: \u001b[38;5;241m100\u001b[39m, \u001b[38;5;124m\"\u001b[39m\u001b[38;5;124mmasks_no\u001b[39m\u001b[38;5;124m\"\u001b[39m: \u001b[38;5;241m50\u001b[39m, \u001b[38;5;124m\"\u001b[39m\u001b[38;5;124mdata_size\u001b[39m\u001b[38;5;124m\"\u001b[39m: data_size})\n\u001b[1;32m      8\u001b[0m exp\u001b[38;5;241m.\u001b[39madd_tag(\u001b[38;5;124m\"\u001b[39m\u001b[38;5;124mhypernet-embeddings\u001b[39m\u001b[38;5;124m\"\u001b[39m)\n\u001b[0;32m---> 10\u001b[0m nn_results \u001b[38;5;241m=\u001b[39m \u001b[43mtest_model\u001b[49m\u001b[43m(\u001b[49m\u001b[43mnetwork_fn\u001b[49m\u001b[43m(\u001b[49m\u001b[43mepochs\u001b[49m\u001b[43m,\u001b[49m\u001b[43m \u001b[49m\u001b[43mmasks_no\u001b[49m\u001b[43m)\u001b[49m\u001b[43m,\u001b[49m\n\u001b[1;32m     11\u001b[0m \u001b[43m                \u001b[49m\u001b[43m(\u001b[49m\u001b[43mX\u001b[49m\u001b[43m,\u001b[49m\u001b[43m \u001b[49m\u001b[43my\u001b[49m\u001b[43m)\u001b[49m\u001b[43m,\u001b[49m\n\u001b[1;32m     12\u001b[0m \u001b[43m                \u001b[49m\u001b[43mdata_size\u001b[49m\u001b[43m,\u001b[49m\n\u001b[1;32m     13\u001b[0m \u001b[43m                \u001b[49m\u001b[38;5;28;43;01mNone\u001b[39;49;00m\u001b[43m,\u001b[49m\u001b[43m \u001b[49m\u001b[38;5;241;43m4\u001b[39;49m\u001b[43m)\u001b[49m\n\u001b[1;32m     15\u001b[0m exp\u001b[38;5;241m.\u001b[39mlog_table(\u001b[38;5;124m\"\u001b[39m\u001b[38;5;124mmetrics.csv\u001b[39m\u001b[38;5;124m\"\u001b[39m, nn_results\u001b[38;5;241m.\u001b[39mgroupby(\u001b[38;5;124m\"\u001b[39m\u001b[38;5;124mClass\u001b[39m\u001b[38;5;124m\"\u001b[39m)\u001b[38;5;241m.\u001b[39mmean())\n",
      "Input \u001b[0;32mIn [12]\u001b[0m, in \u001b[0;36mtest_model\u001b[0;34m(model_fn, data, train_size, label_encoder, iters, as_numpy)\u001b[0m\n\u001b[1;32m     50\u001b[0m \u001b[38;5;28;01mfor\u001b[39;00m i \u001b[38;5;129;01min\u001b[39;00m \u001b[38;5;28mrange\u001b[39m(iters):\n\u001b[1;32m     51\u001b[0m     X_train, X_test, y_train, y_test \u001b[38;5;241m=\u001b[39m prepare_data(\u001b[38;5;241m*\u001b[39mdata, train_size)\n\u001b[0;32m---> 53\u001b[0m     model \u001b[38;5;241m=\u001b[39m \u001b[43mmodel_fn\u001b[49m\u001b[43m(\u001b[49m\u001b[43m)\u001b[49m\n\u001b[1;32m     55\u001b[0m     \u001b[38;5;28;01mif\u001b[39;00m as_numpy:\n\u001b[1;32m     56\u001b[0m         model\u001b[38;5;241m.\u001b[39mfit(X_train\u001b[38;5;241m.\u001b[39mnumpy(), y_train\u001b[38;5;241m.\u001b[39mnumpy());\n",
      "Input \u001b[0;32mIn [19]\u001b[0m, in \u001b[0;36mnetwork_fn.<locals>._inner\u001b[0;34m()\u001b[0m\n\u001b[1;32m      2\u001b[0m \u001b[38;5;28;01mdef\u001b[39;00m \u001b[38;5;21m_inner\u001b[39m():\n\u001b[0;32m----> 3\u001b[0m     hypernet \u001b[38;5;241m=\u001b[39m \u001b[43mHypernetworkEmbeddings\u001b[49m\u001b[43m(\u001b[49m\n\u001b[1;32m      4\u001b[0m \u001b[43m                    \u001b[49m\u001b[43mtarget_architecture\u001b[49m\u001b[38;5;241;43m=\u001b[39;49m\u001b[43m[\u001b[49m\u001b[43m(\u001b[49m\u001b[38;5;241;43m100\u001b[39;49m\u001b[43m,\u001b[49m\u001b[43m \u001b[49m\u001b[38;5;241;43m100\u001b[39;49m\u001b[43m)\u001b[49m\u001b[43m,\u001b[49m\u001b[43m \u001b[49m\u001b[43m(\u001b[49m\u001b[38;5;241;43m100\u001b[39;49m\u001b[43m,\u001b[49m\u001b[43m \u001b[49m\u001b[38;5;241;43m10\u001b[39;49m\u001b[43m)\u001b[49m\u001b[43m]\u001b[49m\u001b[43m,\u001b[49m\u001b[43m \u001b[49m\n\u001b[1;32m      5\u001b[0m \u001b[43m                    \u001b[49m\u001b[43mtest_nodes\u001b[49m\u001b[38;5;241;43m=\u001b[39;49m\u001b[43mmasks_no\u001b[49m\u001b[43m,\u001b[49m\n\u001b[1;32m      6\u001b[0m \u001b[43m                    \u001b[49m\u001b[43marchitecture\u001b[49m\u001b[38;5;241;43m=\u001b[39;49m\u001b[43mtorch\u001b[49m\u001b[38;5;241;43m.\u001b[39;49m\u001b[43mnn\u001b[49m\u001b[38;5;241;43m.\u001b[39;49m\u001b[43mSequential\u001b[49m\u001b[43m(\u001b[49m\u001b[43mtorch\u001b[49m\u001b[38;5;241;43m.\u001b[39;49m\u001b[43mnn\u001b[49m\u001b[38;5;241;43m.\u001b[39;49m\u001b[43mLinear\u001b[49m\u001b[43m(\u001b[49m\u001b[38;5;241;43m8\u001b[39;49m\u001b[43m,\u001b[49m\u001b[43m \u001b[49m\u001b[38;5;241;43m32\u001b[39;49m\u001b[43m)\u001b[49m\u001b[43m,\u001b[49m\u001b[43m \u001b[49m\n\u001b[1;32m      7\u001b[0m \u001b[43m                        \u001b[49m\u001b[43mtorch\u001b[49m\u001b[38;5;241;43m.\u001b[39;49m\u001b[43mnn\u001b[49m\u001b[38;5;241;43m.\u001b[39;49m\u001b[43mReLU\u001b[49m\u001b[43m(\u001b[49m\u001b[43m)\u001b[49m\u001b[43m,\u001b[49m\n\u001b[1;32m      8\u001b[0m \u001b[43m                        \u001b[49m\u001b[43mtorch\u001b[49m\u001b[38;5;241;43m.\u001b[39;49m\u001b[43mnn\u001b[49m\u001b[38;5;241;43m.\u001b[39;49m\u001b[43mLinear\u001b[49m\u001b[43m(\u001b[49m\u001b[38;5;241;43m32\u001b[39;49m\u001b[43m,\u001b[49m\u001b[43m \u001b[49m\u001b[38;5;241;43m128\u001b[39;49m\u001b[43m)\u001b[49m\u001b[43m,\u001b[49m\n\u001b[1;32m      9\u001b[0m \u001b[43m                        \u001b[49m\u001b[43mtorch\u001b[49m\u001b[38;5;241;43m.\u001b[39;49m\u001b[43mnn\u001b[49m\u001b[38;5;241;43m.\u001b[39;49m\u001b[43mReLU\u001b[49m\u001b[43m(\u001b[49m\u001b[43m)\u001b[49m\u001b[43m,\u001b[49m\n\u001b[1;32m     10\u001b[0m \u001b[43m                        \u001b[49m\u001b[43mtorch\u001b[49m\u001b[38;5;241;43m.\u001b[39;49m\u001b[43mnn\u001b[49m\u001b[38;5;241;43m.\u001b[39;49m\u001b[43mDropout\u001b[49m\u001b[43m(\u001b[49m\u001b[43m)\u001b[49m\u001b[43m,\u001b[49m\n\u001b[1;32m     11\u001b[0m \u001b[43m                        \u001b[49m\u001b[43mtorch\u001b[49m\u001b[38;5;241;43m.\u001b[39;49m\u001b[43mnn\u001b[49m\u001b[38;5;241;43m.\u001b[39;49m\u001b[43mLinear\u001b[49m\u001b[43m(\u001b[49m\u001b[38;5;241;43m128\u001b[39;49m\u001b[43m,\u001b[49m\u001b[43m \u001b[49m\u001b[38;5;241;43m128\u001b[39;49m\u001b[43m)\u001b[49m\u001b[43m,\u001b[49m\n\u001b[1;32m     12\u001b[0m \u001b[43m                        \u001b[49m\u001b[43mtorch\u001b[49m\u001b[38;5;241;43m.\u001b[39;49m\u001b[43mnn\u001b[49m\u001b[38;5;241;43m.\u001b[39;49m\u001b[43mReLU\u001b[49m\u001b[43m(\u001b[49m\u001b[43m)\u001b[49m\u001b[43m,\u001b[49m\n\u001b[1;32m     13\u001b[0m \u001b[43m                    \u001b[49m\u001b[43m)\u001b[49m\u001b[43m,\u001b[49m\n\u001b[1;32m     14\u001b[0m \u001b[43m                    \u001b[49m\u001b[43minput_size\u001b[49m\u001b[38;5;241;43m=\u001b[39;49m\u001b[38;5;241;43m784\u001b[39;49m\u001b[43m,\u001b[49m\n\u001b[1;32m     15\u001b[0m \u001b[43m                    \u001b[49m\u001b[43mmode\u001b[49m\u001b[38;5;241;43m=\u001b[39;49m\u001b[43mTrainingModes\u001b[49m\u001b[38;5;241;43m.\u001b[39;49m\u001b[43mCARTHESIAN\u001b[49m\u001b[43m,\u001b[49m\n\u001b[1;32m     16\u001b[0m \u001b[43m                \u001b[49m\u001b[43m)\u001b[49m\u001b[38;5;241m.\u001b[39mto(DEVICE)    \n\u001b[1;32m     17\u001b[0m     hypernet \u001b[38;5;241m=\u001b[39m hypernet\u001b[38;5;241m.\u001b[39mtrain()\n\u001b[1;32m     19\u001b[0m     network \u001b[38;5;241m=\u001b[39m HypernetworkSklearnInterface(hypernet, device\u001b[38;5;241m=\u001b[39mDEVICE, epochs\u001b[38;5;241m=\u001b[39mepochs, batch_size\u001b[38;5;241m=\u001b[39m\u001b[38;5;241m64\u001b[39m)\n",
      "File \u001b[0;32m~/external/hypernet-cnn/hypernet/tabular_hypernet/hypernetwork.py:199\u001b[0m, in \u001b[0;36mHypernetworkEmbeddings.__init__\u001b[0;34m(self, input_size, *args, **kwargs)\u001b[0m\n\u001b[1;32m    198\u001b[0m \u001b[38;5;28;01mdef\u001b[39;00m \u001b[38;5;21m__init__\u001b[39m(\u001b[38;5;28mself\u001b[39m, input_size\u001b[38;5;241m=\u001b[39m\u001b[38;5;241m784\u001b[39m, \u001b[38;5;241m*\u001b[39margs, \u001b[38;5;241m*\u001b[39m\u001b[38;5;241m*\u001b[39mkwargs):\n\u001b[0;32m--> 199\u001b[0m     \u001b[38;5;28;43msuper\u001b[39;49m\u001b[43m(\u001b[49m\u001b[43m)\u001b[49m\u001b[38;5;241;43m.\u001b[39;49m\u001b[38;5;21;43m__init__\u001b[39;49m\u001b[43m(\u001b[49m\u001b[38;5;241;43m*\u001b[39;49m\u001b[43margs\u001b[49m\u001b[43m,\u001b[49m\u001b[43m \u001b[49m\u001b[38;5;241;43m*\u001b[39;49m\u001b[38;5;241;43m*\u001b[39;49m\u001b[43mkwargs\u001b[49m\u001b[43m)\u001b[49m\n\u001b[1;32m    200\u001b[0m     \u001b[38;5;28mself\u001b[39m\u001b[38;5;241m.\u001b[39mmodel \u001b[38;5;241m=\u001b[39m \u001b[38;5;28mself\u001b[39m\u001b[38;5;241m.\u001b[39mmodel[:\u001b[38;5;241m-\u001b[39m\u001b[38;5;241m1\u001b[39m]\u001b[38;5;241m.\u001b[39mto(\u001b[38;5;124m\"\u001b[39m\u001b[38;5;124mcpu\u001b[39m\u001b[38;5;124m\"\u001b[39m)\n\u001b[1;32m    201\u001b[0m     \u001b[38;5;28mself\u001b[39m\u001b[38;5;241m.\u001b[39minput_size \u001b[38;5;241m=\u001b[39m input_size\n",
      "File \u001b[0;32m~/external/hypernet-cnn/hypernet/tabular_hypernet/hypernetwork.py:62\u001b[0m, in \u001b[0;36mHypernetwork.__init__\u001b[0;34m(self, architecture, target_architecture, test_nodes, mode, device)\u001b[0m\n\u001b[1;32m     60\u001b[0m \u001b[38;5;28mself\u001b[39m\u001b[38;5;241m.\u001b[39mtemplate \u001b[38;5;241m=\u001b[39m np\u001b[38;5;241m.\u001b[39mzeros(\u001b[38;5;28mself\u001b[39m\u001b[38;5;241m.\u001b[39minput_size)\n\u001b[1;32m     61\u001b[0m \u001b[38;5;28mself\u001b[39m\u001b[38;5;241m.\u001b[39mtest_nodes \u001b[38;5;241m=\u001b[39m test_nodes\n\u001b[0;32m---> 62\u001b[0m \u001b[38;5;28mself\u001b[39m\u001b[38;5;241m.\u001b[39mtest_mask \u001b[38;5;241m=\u001b[39m \u001b[38;5;28;43mself\u001b[39;49m\u001b[38;5;241;43m.\u001b[39;49m\u001b[43m_create_mask\u001b[49m\u001b[43m(\u001b[49m\u001b[43mtest_nodes\u001b[49m\u001b[43m)\u001b[49m\n\u001b[1;32m     64\u001b[0m \u001b[38;5;28mself\u001b[39m\u001b[38;5;241m.\u001b[39m_retrained \u001b[38;5;241m=\u001b[39m \u001b[38;5;28;01mTrue\u001b[39;00m\n\u001b[1;32m     65\u001b[0m \u001b[38;5;28mself\u001b[39m\u001b[38;5;241m.\u001b[39m_test_nets \u001b[38;5;241m=\u001b[39m \u001b[38;5;28;01mNone\u001b[39;00m\n",
      "File \u001b[0;32m~/external/hypernet-cnn/hypernet/tabular_hypernet/hypernetwork.py:181\u001b[0m, in \u001b[0;36mHypernetwork._create_mask\u001b[0;34m(self, count)\u001b[0m\n\u001b[1;32m    179\u001b[0m \u001b[38;5;28;01mdef\u001b[39;00m \u001b[38;5;21m_create_mask\u001b[39m(\u001b[38;5;28mself\u001b[39m, count):\n\u001b[1;32m    180\u001b[0m     \u001b[38;5;66;03m# masks = np.random.choice((len(self.template)), (count, self.mask_size), False)\u001b[39;00m\n\u001b[0;32m--> 181\u001b[0m     masks \u001b[38;5;241m=\u001b[39m \u001b[43mHypernetwork\u001b[49m\u001b[38;5;241;43m.\u001b[39;49m\u001b[43mrandom_choice_noreplace2\u001b[49m\u001b[43m(\u001b[49m\u001b[43mnp\u001b[49m\u001b[38;5;241;43m.\u001b[39;49m\u001b[43marange\u001b[49m\u001b[43m(\u001b[49m\u001b[38;5;28;43mlen\u001b[39;49m\u001b[43m(\u001b[49m\u001b[38;5;28;43mself\u001b[39;49m\u001b[38;5;241;43m.\u001b[39;49m\u001b[43mtemplate\u001b[49m\u001b[43m)\u001b[49m\u001b[43m)\u001b[49m\u001b[43m,\u001b[49m\u001b[43m \u001b[49m\u001b[38;5;28;43mself\u001b[39;49m\u001b[38;5;241;43m.\u001b[39;49m\u001b[43mmask_size\u001b[49m\u001b[43m,\u001b[49m\u001b[43m \u001b[49m\u001b[43mcount\u001b[49m\u001b[43m)\u001b[49m\n\u001b[1;32m    182\u001b[0m     tmp \u001b[38;5;241m=\u001b[39m np\u001b[38;5;241m.\u001b[39marray([\u001b[38;5;28mself\u001b[39m\u001b[38;5;241m.\u001b[39mtemplate\u001b[38;5;241m.\u001b[39mcopy() \u001b[38;5;28;01mfor\u001b[39;00m _ \u001b[38;5;129;01min\u001b[39;00m \u001b[38;5;28mrange\u001b[39m(count)])\n\u001b[1;32m    183\u001b[0m     \u001b[38;5;28;01mfor\u001b[39;00m i, mask \u001b[38;5;129;01min\u001b[39;00m \u001b[38;5;28menumerate\u001b[39m(masks):\n",
      "File \u001b[0;32m~/external/hypernet-cnn/hypernet/tabular_hypernet/hypernetwork.py:177\u001b[0m, in \u001b[0;36mHypernetwork.random_choice_noreplace2\u001b[0;34m(l, n_sample, num_draw)\u001b[0m\n\u001b[1;32m    169\u001b[0m \u001b[38;5;124;03m'''\u001b[39;00m\n\u001b[1;32m    170\u001b[0m \u001b[38;5;124;03ml: 1-D array or list\u001b[39;00m\n\u001b[1;32m    171\u001b[0m \u001b[38;5;124;03mn_sample: sample size for each draw\u001b[39;00m\n\u001b[0;32m   (...)\u001b[0m\n\u001b[1;32m    174\u001b[0m \u001b[38;5;124;03mIntuition: Randomly generate numbers, get the index of the smallest n_sample number for each row.\u001b[39;00m\n\u001b[1;32m    175\u001b[0m \u001b[38;5;124;03m'''\u001b[39;00m\n\u001b[1;32m    176\u001b[0m l \u001b[38;5;241m=\u001b[39m np\u001b[38;5;241m.\u001b[39marray(l)\n\u001b[0;32m--> 177\u001b[0m \u001b[38;5;28;01mreturn\u001b[39;00m l[\u001b[43mnp\u001b[49m\u001b[38;5;241;43m.\u001b[39;49m\u001b[43margpartition\u001b[49m\u001b[43m(\u001b[49m\u001b[43mnp\u001b[49m\u001b[38;5;241;43m.\u001b[39;49m\u001b[43mrandom\u001b[49m\u001b[38;5;241;43m.\u001b[39;49m\u001b[43mrand\u001b[49m\u001b[43m(\u001b[49m\u001b[43mnum_draw\u001b[49m\u001b[43m,\u001b[49m\u001b[38;5;28;43mlen\u001b[39;49m\u001b[43m(\u001b[49m\u001b[43ml\u001b[49m\u001b[43m)\u001b[49m\u001b[43m)\u001b[49m\u001b[43m,\u001b[49m\u001b[43m \u001b[49m\u001b[43mn_sample\u001b[49m\u001b[38;5;241;43m-\u001b[39;49m\u001b[38;5;241;43m1\u001b[39;49m\u001b[43m,\u001b[49m\u001b[43maxis\u001b[49m\u001b[38;5;241;43m=\u001b[39;49m\u001b[38;5;241;43m-\u001b[39;49m\u001b[38;5;241;43m1\u001b[39;49m\u001b[43m)\u001b[49m[:,:n_sample]]\n",
      "File \u001b[0;32m<__array_function__ internals>:180\u001b[0m, in \u001b[0;36margpartition\u001b[0;34m(*args, **kwargs)\u001b[0m\n",
      "File \u001b[0;32m~/external/miniconda3/envs/img_processing/lib/python3.8/site-packages/numpy/core/fromnumeric.py:845\u001b[0m, in \u001b[0;36margpartition\u001b[0;34m(a, kth, axis, kind, order)\u001b[0m\n\u001b[1;32m    766\u001b[0m \u001b[38;5;129m@array_function_dispatch\u001b[39m(_argpartition_dispatcher)\n\u001b[1;32m    767\u001b[0m \u001b[38;5;28;01mdef\u001b[39;00m \u001b[38;5;21margpartition\u001b[39m(a, kth, axis\u001b[38;5;241m=\u001b[39m\u001b[38;5;241m-\u001b[39m\u001b[38;5;241m1\u001b[39m, kind\u001b[38;5;241m=\u001b[39m\u001b[38;5;124m'\u001b[39m\u001b[38;5;124mintroselect\u001b[39m\u001b[38;5;124m'\u001b[39m, order\u001b[38;5;241m=\u001b[39m\u001b[38;5;28;01mNone\u001b[39;00m):\n\u001b[1;32m    768\u001b[0m     \u001b[38;5;124;03m\"\"\"\u001b[39;00m\n\u001b[1;32m    769\u001b[0m \u001b[38;5;124;03m    Perform an indirect partition along the given axis using the\u001b[39;00m\n\u001b[1;32m    770\u001b[0m \u001b[38;5;124;03m    algorithm specified by the `kind` keyword. It returns an array of\u001b[39;00m\n\u001b[0;32m   (...)\u001b[0m\n\u001b[1;32m    843\u001b[0m \n\u001b[1;32m    844\u001b[0m \u001b[38;5;124;03m    \"\"\"\u001b[39;00m\n\u001b[0;32m--> 845\u001b[0m     \u001b[38;5;28;01mreturn\u001b[39;00m \u001b[43m_wrapfunc\u001b[49m\u001b[43m(\u001b[49m\u001b[43ma\u001b[49m\u001b[43m,\u001b[49m\u001b[43m \u001b[49m\u001b[38;5;124;43m'\u001b[39;49m\u001b[38;5;124;43margpartition\u001b[39;49m\u001b[38;5;124;43m'\u001b[39;49m\u001b[43m,\u001b[49m\u001b[43m \u001b[49m\u001b[43mkth\u001b[49m\u001b[43m,\u001b[49m\u001b[43m \u001b[49m\u001b[43maxis\u001b[49m\u001b[38;5;241;43m=\u001b[39;49m\u001b[43maxis\u001b[49m\u001b[43m,\u001b[49m\u001b[43m \u001b[49m\u001b[43mkind\u001b[49m\u001b[38;5;241;43m=\u001b[39;49m\u001b[43mkind\u001b[49m\u001b[43m,\u001b[49m\u001b[43m \u001b[49m\u001b[43morder\u001b[49m\u001b[38;5;241;43m=\u001b[39;49m\u001b[43morder\u001b[49m\u001b[43m)\u001b[49m\n",
      "File \u001b[0;32m~/external/miniconda3/envs/img_processing/lib/python3.8/site-packages/numpy/core/fromnumeric.py:57\u001b[0m, in \u001b[0;36m_wrapfunc\u001b[0;34m(obj, method, *args, **kwds)\u001b[0m\n\u001b[1;32m     54\u001b[0m     \u001b[38;5;28;01mreturn\u001b[39;00m _wrapit(obj, method, \u001b[38;5;241m*\u001b[39margs, \u001b[38;5;241m*\u001b[39m\u001b[38;5;241m*\u001b[39mkwds)\n\u001b[1;32m     56\u001b[0m \u001b[38;5;28;01mtry\u001b[39;00m:\n\u001b[0;32m---> 57\u001b[0m     \u001b[38;5;28;01mreturn\u001b[39;00m \u001b[43mbound\u001b[49m\u001b[43m(\u001b[49m\u001b[38;5;241;43m*\u001b[39;49m\u001b[43margs\u001b[49m\u001b[43m,\u001b[49m\u001b[43m \u001b[49m\u001b[38;5;241;43m*\u001b[39;49m\u001b[38;5;241;43m*\u001b[39;49m\u001b[43mkwds\u001b[49m\u001b[43m)\u001b[49m\n\u001b[1;32m     58\u001b[0m \u001b[38;5;28;01mexcept\u001b[39;00m \u001b[38;5;167;01mTypeError\u001b[39;00m:\n\u001b[1;32m     59\u001b[0m     \u001b[38;5;66;03m# A TypeError occurs if the object does have such a method in its\u001b[39;00m\n\u001b[1;32m     60\u001b[0m     \u001b[38;5;66;03m# class, but its signature is not identical to that of NumPy's. This\u001b[39;00m\n\u001b[0;32m   (...)\u001b[0m\n\u001b[1;32m     64\u001b[0m     \u001b[38;5;66;03m# Call _wrapit from within the except clause to ensure a potential\u001b[39;00m\n\u001b[1;32m     65\u001b[0m     \u001b[38;5;66;03m# exception has a traceback chain.\u001b[39;00m\n\u001b[1;32m     66\u001b[0m     \u001b[38;5;28;01mreturn\u001b[39;00m _wrapit(obj, method, \u001b[38;5;241m*\u001b[39margs, \u001b[38;5;241m*\u001b[39m\u001b[38;5;241m*\u001b[39mkwds)\n",
      "\u001b[0;31mValueError\u001b[0m: kth(=99) out of bounds (8)"
     ]
    }
   ],
   "source": [
    "epochs = g_epochs\n",
    "mask_size = g_mask_size\n",
    "masks_no = g_masks_no\n",
    "data_size = g_data_size\n",
    "\n",
    "if log_to_comet:\n",
    "    exp = Experiment(os.environ.get(\"COMET_KEY\"), comet_experiment_name)\n",
    "    exp.log_parameters({\"epochs\": epochs, \"mask_size\": mask_size, \"masks_no\": masks_no, \"data_size\": data_size})\n",
    "    exp.add_tag(\"hypernet-embeddings\")\n",
    "\n",
    "nn_results = test_model(network_fn(epochs, masks_no),\n",
    "                (X, y),\n",
    "                data_size,\n",
    "                None, g_iters)\n",
    "\n",
    "if log_to_comet:\n",
    "    exp.log_table(\"metrics.csv\", nn_results.groupby(\"Class\")['Metric'].agg(['mean', 'std']))"
   ]
  },
  {
   "cell_type": "code",
   "execution_count": 18,
   "id": "73de76f8-6cd8-480f-bd4c-99a07b28d060",
   "metadata": {},
   "outputs": [
    {
     "data": {
      "text/plain": [
       "Class         Total\n",
       "Metric    69.694491\n",
       "dtype: object"
      ]
     },
     "execution_count": 18,
     "metadata": {},
     "output_type": "execute_result"
    }
   ],
   "source": [
    "nn_results[nn_results[\"Class\"]==\"Total\"].reset_index(drop=True).max()"
   ]
  },
  {
   "cell_type": "markdown",
   "id": "87e21a55-7762-4d47-90ac-e4673281eaf2",
   "metadata": {
    "tags": []
   },
   "source": [
    "### TabNet"
   ]
  },
  {
   "cell_type": "code",
   "execution_count": 39,
   "id": "ce0eada6-0ed4-48d6-9d79-9b790e220bd6",
   "metadata": {},
   "outputs": [],
   "source": [
    "from pytorch_tabnet.tab_model import TabNetClassifier, TabNetRegressor"
   ]
  },
  {
   "cell_type": "code",
   "execution_count": 44,
   "id": "87d2fdc4-dd62-4546-93c2-eb2ab63b03f5",
   "metadata": {
    "collapsed": true,
    "jupyter": {
     "outputs_hidden": true
    },
    "tags": []
   },
   "outputs": [
    {
     "name": "stdout",
     "output_type": "stream",
     "text": [
      "epoch 0  | loss: 4.49442 |  0:00:00s\n",
      "epoch 1  | loss: 4.10065 |  0:00:00s\n",
      "epoch 2  | loss: 3.69994 |  0:00:00s\n",
      "epoch 3  | loss: 3.47651 |  0:00:00s\n",
      "epoch 4  | loss: 3.53598 |  0:00:00s\n",
      "epoch 5  | loss: 3.38709 |  0:00:01s\n",
      "epoch 6  | loss: 3.26813 |  0:00:01s\n",
      "epoch 7  | loss: 3.2686  |  0:00:01s\n",
      "epoch 8  | loss: 3.1316  |  0:00:01s\n",
      "epoch 9  | loss: 3.13288 |  0:00:01s\n",
      "epoch 10 | loss: 2.90717 |  0:00:01s\n",
      "epoch 11 | loss: 2.95466 |  0:00:01s\n",
      "epoch 12 | loss: 2.85828 |  0:00:02s\n",
      "epoch 13 | loss: 2.76352 |  0:00:02s\n",
      "epoch 14 | loss: 2.74836 |  0:00:02s\n",
      "epoch 15 | loss: 2.78355 |  0:00:02s\n",
      "epoch 16 | loss: 2.78048 |  0:00:02s\n",
      "epoch 17 | loss: 2.60539 |  0:00:02s\n",
      "epoch 18 | loss: 2.60996 |  0:00:03s\n",
      "epoch 19 | loss: 2.57146 |  0:00:03s\n",
      "epoch 20 | loss: 2.58619 |  0:00:03s\n",
      "epoch 21 | loss: 2.50692 |  0:00:03s\n",
      "epoch 22 | loss: 2.51857 |  0:00:03s\n",
      "epoch 23 | loss: 2.4401  |  0:00:03s\n",
      "epoch 24 | loss: 2.3768  |  0:00:03s\n",
      "epoch 25 | loss: 2.36941 |  0:00:04s\n",
      "epoch 26 | loss: 2.29808 |  0:00:04s\n",
      "epoch 27 | loss: 2.26678 |  0:00:04s\n",
      "epoch 28 | loss: 2.2721  |  0:00:04s\n",
      "epoch 29 | loss: 2.17755 |  0:00:04s\n",
      "epoch 30 | loss: 2.20728 |  0:00:04s\n",
      "epoch 31 | loss: 2.17393 |  0:00:04s\n",
      "epoch 32 | loss: 2.07571 |  0:00:04s\n",
      "epoch 33 | loss: 2.18402 |  0:00:04s\n",
      "epoch 34 | loss: 2.07062 |  0:00:04s\n",
      "epoch 35 | loss: 2.05766 |  0:00:04s\n",
      "epoch 36 | loss: 1.99591 |  0:00:04s\n",
      "epoch 37 | loss: 1.95382 |  0:00:05s\n",
      "epoch 38 | loss: 1.9921  |  0:00:05s\n",
      "epoch 39 | loss: 1.94727 |  0:00:05s\n",
      "epoch 40 | loss: 1.95334 |  0:00:05s\n",
      "epoch 41 | loss: 1.93126 |  0:00:05s\n",
      "epoch 42 | loss: 1.88594 |  0:00:05s\n",
      "epoch 43 | loss: 1.87786 |  0:00:05s\n",
      "epoch 44 | loss: 1.82377 |  0:00:05s\n",
      "epoch 45 | loss: 1.88377 |  0:00:05s\n",
      "epoch 46 | loss: 1.81917 |  0:00:05s\n",
      "epoch 47 | loss: 1.82935 |  0:00:05s\n",
      "epoch 48 | loss: 1.81481 |  0:00:06s\n",
      "epoch 49 | loss: 1.75484 |  0:00:06s\n",
      "epoch 50 | loss: 1.7189  |  0:00:06s\n",
      "epoch 51 | loss: 1.71539 |  0:00:06s\n",
      "epoch 52 | loss: 1.75858 |  0:00:06s\n",
      "epoch 53 | loss: 1.7569  |  0:00:06s\n",
      "epoch 54 | loss: 1.68159 |  0:00:06s\n",
      "epoch 55 | loss: 1.68643 |  0:00:06s\n",
      "epoch 56 | loss: 1.70806 |  0:00:06s\n",
      "epoch 57 | loss: 1.69622 |  0:00:06s\n",
      "epoch 58 | loss: 1.72244 |  0:00:07s\n",
      "epoch 59 | loss: 1.68014 |  0:00:07s\n",
      "epoch 60 | loss: 1.68685 |  0:00:07s\n",
      "epoch 61 | loss: 1.61746 |  0:00:07s\n",
      "epoch 62 | loss: 1.64144 |  0:00:07s\n",
      "epoch 63 | loss: 1.60662 |  0:00:07s\n",
      "epoch 64 | loss: 1.59022 |  0:00:07s\n",
      "epoch 65 | loss: 1.58305 |  0:00:07s\n",
      "epoch 66 | loss: 1.50914 |  0:00:07s\n",
      "epoch 67 | loss: 1.48385 |  0:00:08s\n",
      "epoch 68 | loss: 1.52237 |  0:00:08s\n",
      "epoch 69 | loss: 1.53135 |  0:00:08s\n",
      "epoch 70 | loss: 1.52836 |  0:00:08s\n",
      "epoch 71 | loss: 1.50274 |  0:00:08s\n",
      "epoch 72 | loss: 1.47876 |  0:00:08s\n",
      "epoch 73 | loss: 1.51661 |  0:00:08s\n",
      "epoch 74 | loss: 1.43731 |  0:00:08s\n",
      "epoch 75 | loss: 1.4388  |  0:00:08s\n",
      "epoch 76 | loss: 1.47771 |  0:00:08s\n",
      "epoch 77 | loss: 1.45116 |  0:00:08s\n",
      "epoch 78 | loss: 1.44527 |  0:00:08s\n",
      "epoch 79 | loss: 1.42627 |  0:00:08s\n",
      "epoch 80 | loss: 1.37651 |  0:00:08s\n",
      "epoch 81 | loss: 1.35797 |  0:00:09s\n",
      "epoch 82 | loss: 1.35327 |  0:00:09s\n",
      "epoch 83 | loss: 1.39696 |  0:00:09s\n",
      "epoch 84 | loss: 1.35141 |  0:00:09s\n",
      "epoch 85 | loss: 1.28599 |  0:00:09s\n",
      "epoch 86 | loss: 1.23841 |  0:00:09s\n",
      "epoch 87 | loss: 1.27094 |  0:00:09s\n",
      "epoch 88 | loss: 1.23213 |  0:00:09s\n",
      "epoch 89 | loss: 1.20223 |  0:00:09s\n",
      "epoch 90 | loss: 1.2771  |  0:00:09s\n",
      "epoch 91 | loss: 1.26001 |  0:00:09s\n",
      "epoch 92 | loss: 1.20041 |  0:00:09s\n",
      "epoch 93 | loss: 1.22948 |  0:00:09s\n",
      "epoch 94 | loss: 1.23629 |  0:00:09s\n",
      "epoch 95 | loss: 1.21853 |  0:00:09s\n",
      "epoch 96 | loss: 1.22646 |  0:00:10s\n",
      "epoch 97 | loss: 1.16283 |  0:00:10s\n",
      "epoch 98 | loss: 1.17208 |  0:00:10s\n",
      "epoch 99 | loss: 1.14966 |  0:00:10s\n"
     ]
    }
   ],
   "source": [
    "%%capture --no-stdout\n",
    "\n",
    "def tabnet_fn():\n",
    "    clf = TabNetClassifier(verbose=1,n_d=64, n_a=64, n_steps=5,\n",
    "        gamma=1.5, n_independent=2, n_shared=2,\n",
    "        cat_emb_dim=1,\n",
    "        lambda_sparse=1e-4, momentum=0.3, clip_value=2.,\n",
    "        optimizer_fn=torch.optim.Adam,\n",
    "        optimizer_params=dict(lr=1e-2))\n",
    "    return clf\n",
    "\n",
    "tabnet_results = test_model(tabnet_fn,\n",
    "                    (X, y),\n",
    "                    1024, None, 1, as_numpy=True)"
   ]
  },
  {
   "cell_type": "code",
   "execution_count": 34,
   "id": "0686793c-6d21-445c-96c5-721772968b86",
   "metadata": {},
   "outputs": [
    {
     "data": {
      "text/html": [
       "<div>\n",
       "<style scoped>\n",
       "    .dataframe tbody tr th:only-of-type {\n",
       "        vertical-align: middle;\n",
       "    }\n",
       "\n",
       "    .dataframe tbody tr th {\n",
       "        vertical-align: top;\n",
       "    }\n",
       "\n",
       "    .dataframe thead th {\n",
       "        text-align: right;\n",
       "    }\n",
       "</style>\n",
       "<table border=\"1\" class=\"dataframe\">\n",
       "  <thead>\n",
       "    <tr style=\"text-align: right;\">\n",
       "      <th></th>\n",
       "      <th>Class</th>\n",
       "      <th>Metric</th>\n",
       "    </tr>\n",
       "  </thead>\n",
       "  <tbody>\n",
       "    <tr>\n",
       "      <th>0</th>\n",
       "      <td>Total</td>\n",
       "      <td>61.61659</td>\n",
       "    </tr>\n",
       "  </tbody>\n",
       "</table>\n",
       "</div>"
      ],
      "text/plain": [
       "   Class    Metric\n",
       "0  Total  61.61659"
      ]
     },
     "execution_count": 34,
     "metadata": {},
     "output_type": "execute_result"
    }
   ],
   "source": [
    "tabnet_results[tabnet_results[\"Class\"]==\"Total\"].reset_index(drop=True)"
   ]
  },
  {
   "cell_type": "markdown",
   "id": "84d4d42d-88e3-4bce-adf6-769a9aab2d9d",
   "metadata": {},
   "source": [
    "### NODE"
   ]
  },
  {
   "cell_type": "code",
   "execution_count": 14,
   "id": "f1fd787c-3d24-49af-bc9e-2d9f7b8ca9b7",
   "metadata": {},
   "outputs": [],
   "source": [
    "from qhoptim.pyt import QHAdam\n",
    "import node"
   ]
  },
  {
   "cell_type": "code",
   "execution_count": 15,
   "id": "23d3cb2f-0ced-4253-a446-0aca8cd9d168",
   "metadata": {},
   "outputs": [],
   "source": [
    "X_init = X.reshape(-1, 784)"
   ]
  },
  {
   "cell_type": "code",
   "execution_count": 37,
   "id": "967ef875-1456-44eb-a9fe-d18d0d343ddb",
   "metadata": {},
   "outputs": [],
   "source": [
    "def node_fn(layer_dims):\n",
    "    def _inner():\n",
    "        network = torch.nn.Sequential(\n",
    "            node.DenseBlock(X_init.shape[1], layer_dims, num_layers=2, tree_dim=11, depth=6, flatten_output=False,\n",
    "                           choice_function=node.entmax15, bin_function=node.entmoid15),\n",
    "            node.Lambda(lambda x: x[..., :10].mean(dim=-2))\n",
    "        )\n",
    "        \n",
    "        with torch.no_grad():\n",
    "            res = network(torch.as_tensor(X_init[:1000], device='cpu').to(torch.float32))\n",
    "        \n",
    "        network = network.to(DEVICE)\n",
    "        network.device=DEVICE\n",
    "            \n",
    "        optimizer_params = { 'nus':(0.7, 1.0), 'betas':(0.95, 0.998) }\n",
    "        optim = QHAdam(network.parameters(), **optimizer_params)\n",
    "            \n",
    "        network = SimpleSklearnInterface(network, device=DEVICE, epochs=500, batch_size=32)\n",
    "        network.optimizer = optim\n",
    "        return network\n",
    "    return _inner"
   ]
  },
  {
   "cell_type": "code",
   "execution_count": null,
   "id": "8799bc45-3499-4b0c-91a2-368897e6d80f",
   "metadata": {
    "tags": []
   },
   "outputs": [
    {
     "name": "stderr",
     "output_type": "stream",
     "text": [
      "COMET INFO: ---------------------------\n",
      "COMET INFO: Comet.ml Experiment Summary\n",
      "COMET INFO: ---------------------------\n",
      "COMET INFO:   Data:\n",
      "COMET INFO:     display_summary_level : 1\n",
      "COMET INFO:     url                   : https://www.comet.com/wwydmanski/mnist-benchmark-hypernet/6d8d95615641402b98577a488e29c52c\n",
      "COMET INFO:   Metrics [count] (min, max):\n",
      "COMET INFO:     loss [200] : (0.3375752866268158, 2.302137851715088)\n",
      "COMET INFO:   Uploads:\n",
      "COMET INFO:     conda-environment-definition : 1\n",
      "COMET INFO:     conda-info                   : 1\n",
      "COMET INFO:     conda-specification          : 1\n",
      "COMET INFO:     environment details          : 1\n",
      "COMET INFO:     filename                     : 1\n",
      "COMET INFO:     git metadata                 : 1\n",
      "COMET INFO:     git-patch (uncompressed)     : 1 (42.67 KB)\n",
      "COMET INFO:     installed packages           : 1\n",
      "COMET INFO:     model graph                  : 1\n",
      "COMET INFO:     notebook                     : 1\n",
      "COMET INFO:     os packages                  : 1\n",
      "COMET INFO:     source_code                  : 1\n",
      "COMET INFO: ---------------------------\n",
      "COMET WARNING: As you are running in a Jupyter environment, you will need to call `experiment.end()` when finished to ensure all metrics and code are logged before exiting.\n",
      "COMET INFO: Experiment is live on comet.ml https://www.comet.com/wwydmanski/mnist-benchmark-hypernet/fcd1382af2f1415c81309e0d989457ab\n",
      "\n",
      "/home/MCB/wwydmanski/external/hypernet-cnn/Benchmarks/node/odst.py:72: UserWarning: __floordiv__ is deprecated, and its behavior will change in a future version of pytorch. It currently rounds toward 0 (like the 'trunc' function NOT 'floor'). This results in incorrect rounding for negative values. To keep the current behavior, use torch.div(a, b, rounding_mode='trunc'), or for actual floor division, use torch.div(a, b, rounding_mode='floor').\n",
      "  bin_codes = (indices.view(1, -1) // offsets.view(-1, 1) % 2).to(torch.float32)\n",
      "/home/MCB/wwydmanski/external/hypernet-cnn/Benchmarks/node/odst.py:72: UserWarning: __floordiv__ is deprecated, and its behavior will change in a future version of pytorch. It currently rounds toward 0 (like the 'trunc' function NOT 'floor'). This results in incorrect rounding for negative values. To keep the current behavior, use torch.div(a, b, rounding_mode='trunc'), or for actual floor division, use torch.div(a, b, rounding_mode='floor').\n",
      "  bin_codes = (indices.view(1, -1) // offsets.view(-1, 1) % 2).to(torch.float32)\n",
      "/home/MCB/wwydmanski/external/hypernet-cnn/Benchmarks/node/odst.py:72: UserWarning: __floordiv__ is deprecated, and its behavior will change in a future version of pytorch. It currently rounds toward 0 (like the 'trunc' function NOT 'floor'). This results in incorrect rounding for negative values. To keep the current behavior, use torch.div(a, b, rounding_mode='trunc'), or for actual floor division, use torch.div(a, b, rounding_mode='floor').\n",
      "  bin_codes = (indices.view(1, -1) // offsets.view(-1, 1) % 2).to(torch.float32)\n"
     ]
    }
   ],
   "source": [
    "exp = Experiment(os.environ.get(\"COMET_KEY\"), comet_experiment_name)\n",
    "exp.add_tag(\"node\")\n",
    "\n",
    "node_results = test_model(node_fn(512),\n",
    "                            (X, y),\n",
    "                            100,\n",
    "                            None, 10\n",
    "                         )\n",
    "plt.title(layers)\n",
    "plt.show()"
   ]
  },
  {
   "cell_type": "code",
   "execution_count": 50,
   "id": "994c1260-b938-40a6-8903-54015bad9eff",
   "metadata": {},
   "outputs": [
    {
     "data": {
      "text/html": [
       "<div>\n",
       "<style scoped>\n",
       "    .dataframe tbody tr th:only-of-type {\n",
       "        vertical-align: middle;\n",
       "    }\n",
       "\n",
       "    .dataframe tbody tr th {\n",
       "        vertical-align: top;\n",
       "    }\n",
       "\n",
       "    .dataframe thead th {\n",
       "        text-align: right;\n",
       "    }\n",
       "</style>\n",
       "<table border=\"1\" class=\"dataframe\">\n",
       "  <thead>\n",
       "    <tr style=\"text-align: right;\">\n",
       "      <th></th>\n",
       "      <th>Class</th>\n",
       "      <th>Metric</th>\n",
       "    </tr>\n",
       "  </thead>\n",
       "  <tbody>\n",
       "    <tr>\n",
       "      <th>0</th>\n",
       "      <td>Total</td>\n",
       "      <td>75.242070</td>\n",
       "    </tr>\n",
       "    <tr>\n",
       "      <th>1</th>\n",
       "      <td>Total</td>\n",
       "      <td>74.041736</td>\n",
       "    </tr>\n",
       "    <tr>\n",
       "      <th>2</th>\n",
       "      <td>Total</td>\n",
       "      <td>75.803005</td>\n",
       "    </tr>\n",
       "    <tr>\n",
       "      <th>3</th>\n",
       "      <td>Total</td>\n",
       "      <td>75.988314</td>\n",
       "    </tr>\n",
       "    <tr>\n",
       "      <th>4</th>\n",
       "      <td>Total</td>\n",
       "      <td>74.517529</td>\n",
       "    </tr>\n",
       "    <tr>\n",
       "      <th>5</th>\n",
       "      <td>Total</td>\n",
       "      <td>75.666110</td>\n",
       "    </tr>\n",
       "    <tr>\n",
       "      <th>6</th>\n",
       "      <td>Total</td>\n",
       "      <td>76.679466</td>\n",
       "    </tr>\n",
       "    <tr>\n",
       "      <th>7</th>\n",
       "      <td>Total</td>\n",
       "      <td>74.490818</td>\n",
       "    </tr>\n",
       "    <tr>\n",
       "      <th>8</th>\n",
       "      <td>Total</td>\n",
       "      <td>75.302170</td>\n",
       "    </tr>\n",
       "    <tr>\n",
       "      <th>9</th>\n",
       "      <td>Total</td>\n",
       "      <td>76.133556</td>\n",
       "    </tr>\n",
       "  </tbody>\n",
       "</table>\n",
       "</div>"
      ],
      "text/plain": [
       "   Class     Metric\n",
       "0  Total  75.242070\n",
       "1  Total  74.041736\n",
       "2  Total  75.803005\n",
       "3  Total  75.988314\n",
       "4  Total  74.517529\n",
       "5  Total  75.666110\n",
       "6  Total  76.679466\n",
       "7  Total  74.490818\n",
       "8  Total  75.302170\n",
       "9  Total  76.133556"
      ]
     },
     "execution_count": 50,
     "metadata": {},
     "output_type": "execute_result"
    }
   ],
   "source": [
    "node_results[node_results[\"Class\"]==\"Total\"].reset_index(drop=True)"
   ]
  }
 ],
 "metadata": {
  "kernelspec": {
   "display_name": "Python 3 (ipykernel)",
   "language": "python",
   "name": "python3"
  },
  "language_info": {
   "codemirror_mode": {
    "name": "ipython",
    "version": 3
   },
   "file_extension": ".py",
   "mimetype": "text/x-python",
   "name": "python",
   "nbconvert_exporter": "python",
   "pygments_lexer": "ipython3",
   "version": "3.9.12"
  }
 },
 "nbformat": 4,
 "nbformat_minor": 5
}
