{
 "cells": [
  {
   "cell_type": "code",
   "execution_count": 1,
   "id": "dc12a648-b80a-4eca-afc3-79331e4db7fc",
   "metadata": {},
   "outputs": [],
   "source": [
    "from comet_ml import Experiment, Optimizer"
   ]
  },
  {
   "cell_type": "code",
   "execution_count": 2,
   "id": "2fdadf44-450a-4006-ac5a-bed9840409f6",
   "metadata": {},
   "outputs": [],
   "source": [
    "import pandas as pd\n",
    "import numpy as np\n",
    "from sklearn.preprocessing import LabelEncoder, StandardScaler\n",
    "from sklearn.model_selection import train_test_split\n",
    "from collections import defaultdict\n",
    "from tqdm import trange\n",
    "import torch\n",
    "import seaborn as sns\n",
    "import os\n",
    "\n",
    "torch.set_default_dtype(torch.float32)"
   ]
  },
  {
   "cell_type": "code",
   "execution_count": 3,
   "id": "3085114d-cf61-4625-97c5-10f34c00d335",
   "metadata": {},
   "outputs": [],
   "source": [
    "from tabular_hypernet import Hypernetwork\n",
    "from tabular_hypernet.training_utils import train_slow_step, train_model\n",
    "from tabular_hypernet.hypernetwork import SklearnInterface"
   ]
  },
  {
   "cell_type": "code",
   "execution_count": 4,
   "id": "71891b02-e21f-4fe4-a54a-8c56610bcb3b",
   "metadata": {},
   "outputs": [],
   "source": [
    "DEVICE = 'cuda:1'"
   ]
  },
  {
   "cell_type": "markdown",
   "id": "56f26fc6-18c5-48a4-a479-cff173008af1",
   "metadata": {},
   "source": [
    "## Load data"
   ]
  },
  {
   "cell_type": "code",
   "execution_count": 5,
   "id": "c35c736f-294c-4eea-b7d3-364079f184b9",
   "metadata": {},
   "outputs": [],
   "source": [
    "data = pd.read_csv(\"../data/Blastchar/churn.csv\")"
   ]
  },
  {
   "cell_type": "code",
   "execution_count": 6,
   "id": "cb145598-e52e-4595-8c5b-ad94767e5f32",
   "metadata": {},
   "outputs": [
    {
     "name": "stdout",
     "output_type": "stream",
     "text": [
      "0 samples: 5174 (73.5%)\n",
      "1 samples: 1869 (26.5%)\n"
     ]
    }
   ],
   "source": [
    "def show_fractions(arr):\n",
    "    for cls_ in sorted(pd.unique(arr)):\n",
    "        print(f\"{cls_} samples: {(arr==cls_).sum()} ({(arr==cls_).sum()/len(arr)*100:.1f}%)\")\n",
    "\n",
    "processed_data = data.copy()\n",
    "del processed_data[\"customerID\"]\n",
    "\n",
    "y_label_enc = LabelEncoder()\n",
    "y = y_label_enc.fit_transform(processed_data[\"Churn\"].values)\n",
    "del processed_data[\"Churn\"]\n",
    "\n",
    "show_fractions(y)"
   ]
  },
  {
   "cell_type": "code",
   "execution_count": 7,
   "id": "fdb8b71b-7c57-4a04-8f51-4b8bdd6177ee",
   "metadata": {},
   "outputs": [
    {
     "name": "stdout",
     "output_type": "stream",
     "text": [
      "(7043, 19)\n"
     ]
    }
   ],
   "source": [
    "label_encoders = {}\n",
    "\n",
    "for col in processed_data.columns:\n",
    "    if processed_data[col].dtype == 'object':\n",
    "        encoder = LabelEncoder()\n",
    "        processed_data[col] = encoder.fit_transform(processed_data[col].values)\n",
    "        label_encoders[col] = encoder\n",
    "        \n",
    "X = processed_data.values\n",
    "print(X.shape)"
   ]
  },
  {
   "cell_type": "markdown",
   "id": "f3ebd8d0-d845-41f0-bf71-7bd6cb0d8b4e",
   "metadata": {},
   "source": [
    "### Split it into train and test set"
   ]
  },
  {
   "cell_type": "code",
   "execution_count": 8,
   "id": "220962a3-1cfd-4dd1-b030-336bff717634",
   "metadata": {},
   "outputs": [],
   "source": [
    "class GenericDataset(torch.utils.data.IterableDataset):\n",
    "    def __init__(self, data, shuffle: bool=False, samples_no: int=None):\n",
    "        samples = samples_no or len(data[0])\n",
    "        self.indices = np.arange(samples)\n",
    "        self.shuffle = True\n",
    "        if shuffle:\n",
    "            self.indices = np.random.permutation(self.indices)\n",
    "        self.index = 0\n",
    "        self.max_samples = samples\n",
    "        self.data_x = data[0].to(torch.float32)\n",
    "        self.data_y = data[1]\n",
    "\n",
    "    def __iter__(self):\n",
    "        if self.shuffle:\n",
    "            self.indices = np.random.permutation(self.indices)\n",
    "        while self.index < self.max_samples:\n",
    "            _idx = self.indices[self.index]\n",
    "            yield self.data_x[_idx], self.data_y[_idx]\n",
    "            self.index += 1\n",
    "    \n",
    "    def __len__(self):\n",
    "        return self.data_x.shape[0]\n",
    "    \n",
    "def get_dataloader(X, y, size=None, batch_size=32):\n",
    "    train_dataset = GenericDataset((X, y), size)\n",
    "    trainloader = torch.utils.data.DataLoader(train_dataset, batch_size=batch_size, num_workers=1)\n",
    "    \n",
    "    return trainloader"
   ]
  },
  {
   "cell_type": "code",
   "execution_count": 9,
   "id": "ca0a827a-0e1f-4f5c-b15d-3354f075021e",
   "metadata": {},
   "outputs": [
    {
     "name": "stdout",
     "output_type": "stream",
     "text": [
      "Training data:\n",
      "0 samples: 3873 (73.3%)\n",
      "1 samples: 1409 (26.7%)\n",
      "Test data:\n",
      "0 samples: 1301 (73.9%)\n",
      "1 samples: 460 (26.1%)\n"
     ]
    }
   ],
   "source": [
    "X_train, X_test, y_train, y_test = train_test_split(X, y)\n",
    "\n",
    "print(\"Training data:\")\n",
    "show_fractions(y_train)\n",
    "\n",
    "print(\"Test data:\")\n",
    "show_fractions(y_test)"
   ]
  },
  {
   "cell_type": "markdown",
   "id": "60fe0004-328f-4646-9572-1c2939fbe7dd",
   "metadata": {},
   "source": [
    "## Preprocess"
   ]
  },
  {
   "cell_type": "code",
   "execution_count": 10,
   "id": "94b13ebb-c3bb-4299-a4c8-60f199b5f9a1",
   "metadata": {},
   "outputs": [],
   "source": [
    "scaler = StandardScaler()\n",
    "X_train = scaler.fit_transform(X_train)\n",
    "X_test = scaler.transform(X_test)"
   ]
  },
  {
   "cell_type": "code",
   "execution_count": 11,
   "id": "41f75592-2256-445e-b926-6ab9e2b2481f",
   "metadata": {},
   "outputs": [],
   "source": [
    "X_train, X_test, y_train, y_test = [torch.from_numpy(x) for x in [X_train, X_test, y_train, y_test]]"
   ]
  },
  {
   "cell_type": "markdown",
   "id": "d223075b-b7d8-414e-97c9-ade8bda5f0fd",
   "metadata": {},
   "source": [
    "## Benchmark"
   ]
  },
  {
   "cell_type": "code",
   "execution_count": 12,
   "id": "5aa90ca0-8a00-4491-b111-ce7eee0e9c33",
   "metadata": {},
   "outputs": [],
   "source": [
    "criterion = torch.nn.CrossEntropyLoss()\n",
    "\n",
    "def _summarize_results(y_pred, y_score, y_test, labels):\n",
    "    results = []\n",
    "    for idx, label in enumerate(labels):\n",
    "        y_pred_filt = y_pred[y_test==idx]\n",
    "        y_test_filt = y_test[y_test==idx]\n",
    "        acc = (y_pred_filt==y_test_filt.numpy()).sum()/len(y_test_filt)*100\n",
    "        results.append({\n",
    "            \"Class\": label,\n",
    "            \"Accuracy\": acc\n",
    "        })\n",
    "        \n",
    "    acc = (y_pred==y_test.numpy()).sum()/len(y_test)*100    \n",
    "    results.append({\n",
    "        \"Class\": \"Total\",\n",
    "        \"Accuracy\": acc\n",
    "    })\n",
    "    results.append({\n",
    "        \"Class\": \"Loss\",\n",
    "        \"Accuracy\": criterion(torch.from_numpy(y_score), y_test).item()\n",
    "    })\n",
    "    return results\n",
    "\n",
    "\n",
    "def test_model(model_fn, train_data, test_data, label_encoder=None, iters=10):\n",
    "    X_train, y_train = train_data\n",
    "    X_test, y_test = test_data\n",
    "    if label_encoder is not None:\n",
    "        labels = label_encoder.classes_\n",
    "    else:\n",
    "        labels = sorted(pd.unique(test_data))\n",
    "    \n",
    "    results = []\n",
    "\n",
    "    for i in trange(iters):\n",
    "        model = model_fn()\n",
    "\n",
    "        model.fit(X_train, y_train);    \n",
    "        y_pred = model.predict(X_test)\n",
    "        y_score = model.predict_proba(X_test)\n",
    "        results.extend(_summarize_results(y_pred, y_score, y_test, labels))\n",
    "\n",
    "    dframe = pd.DataFrame.from_dict(results)\n",
    "    sns.boxplot(data=dframe.iloc[:-1], y=\"Class\", x=\"Accuracy\", orient='h')\n",
    "    return dframe"
   ]
  },
  {
   "cell_type": "markdown",
   "id": "bf59445b-c0f0-4ee7-bfe9-5c8a57c22b86",
   "metadata": {},
   "source": [
    "### XGBoost"
   ]
  },
  {
   "cell_type": "code",
   "execution_count": 13,
   "id": "aacc321b-420a-47f3-88af-6bb02aa0ddbb",
   "metadata": {},
   "outputs": [],
   "source": [
    "from xgboost import XGBClassifier"
   ]
  },
  {
   "cell_type": "code",
   "execution_count": 14,
   "id": "d5cedd88-43b4-465c-b1e1-6a0b620ae73a",
   "metadata": {},
   "outputs": [],
   "source": [
    "# xgb_dframe = test_model(lambda: XGBClassifier(verbosity=0, use_label_encoder=False), \n",
    "#                         (X_train, y_train), \n",
    "#                         (X_test, y_test),\n",
    "#                         label_encoder=y_label_enc, iters=1)"
   ]
  },
  {
   "cell_type": "code",
   "execution_count": 15,
   "id": "f530a0df-271a-495f-b49d-2cffe523c328",
   "metadata": {},
   "outputs": [],
   "source": [
    "# xgb_dframe"
   ]
  },
  {
   "cell_type": "markdown",
   "id": "1d60779d-0042-49af-8a32-e6d0b59e1589",
   "metadata": {},
   "source": [
    "## Hypernetwork"
   ]
  },
  {
   "cell_type": "code",
   "execution_count": 30,
   "id": "6e5536d6-cf9d-4a2b-9d7b-184c0ac27a84",
   "metadata": {},
   "outputs": [],
   "source": [
    "def network_fn(mask_size, masks_no):\n",
    "    def _inner():\n",
    "        network = Hypernetwork(inp_size=X_train.shape[1], \n",
    "                            out_size=y.max().item()+1, \n",
    "                            mask_size=mask_size,\n",
    "                            layers=[128, 128, 128],\n",
    "                            node_hidden_size=100, \n",
    "                            test_nodes=masks_no, device=DEVICE).to(DEVICE)\n",
    "\n",
    "        network = SklearnInterface(network, device=DEVICE, epochs=200, batch_size=32)\n",
    "        return network\n",
    "    return _inner"
   ]
  },
  {
   "cell_type": "code",
   "execution_count": 31,
   "id": "0ebb9bb0-d040-45e7-ac94-ccacc10d1c73",
   "metadata": {},
   "outputs": [],
   "source": [
    "trainloader, testloader = get_dataloader(X_train, y_train), get_dataloader(X_test, y_test)"
   ]
  },
  {
   "cell_type": "code",
   "execution_count": null,
   "id": "2d14ceb3-18e7-405e-8bd7-edeb55c84f53",
   "metadata": {
    "tags": []
   },
   "outputs": [
    {
     "name": "stderr",
     "output_type": "stream",
     "text": [
      "COMET INFO: ---------------------------\n",
      "COMET INFO: Comet.ml Experiment Summary\n",
      "COMET INFO: ---------------------------\n",
      "COMET INFO:   Data:\n",
      "COMET INFO:     display_summary_level : 1\n",
      "COMET INFO:     url                   : https://www.comet.ml/wwydmanski/blastchar-hypernet/42f5b6b07e8a440b854947aab1527771\n",
      "COMET INFO:   Metrics [count] (min, max):\n",
      "COMET INFO:     loss [8400] : (0.28790003061294556, 0.736473798751831)\n",
      "COMET INFO:   Parameters:\n",
      "COMET INFO:     5 : 5\n",
      "COMET INFO:   Uploads:\n",
      "COMET INFO:     dataframe                : 1 (1.17 KB)\n",
      "COMET INFO:     environment details      : 1\n",
      "COMET INFO:     filename                 : 1\n",
      "COMET INFO:     git metadata             : 1\n",
      "COMET INFO:     git-patch (uncompressed) : 1 (24.90 KB)\n",
      "COMET INFO:     installed packages       : 1\n",
      "COMET INFO:     model graph              : 1\n",
      "COMET INFO:     notebook                 : 1\n",
      "COMET INFO:     os packages              : 1\n",
      "COMET INFO:     source_code              : 1\n",
      "COMET INFO: ---------------------------\n",
      "COMET WARNING: As you are running in a Jupyter environment, you will need to call `experiment.end()` when finished to ensure all metrics and code are logged before exiting.\n",
      "COMET INFO: Experiment is live on comet.ml https://www.comet.ml/wwydmanski/blastchar-hypernet/1a0f5a6c2c624be49ac05fae4c9559ad\n",
      "\n",
      "  0%|                                                                                             | 0/1 [00:00<?, ?it/s]\n",
      "  0%|                                                                                           | 0/200 [00:00<?, ?it/s]\u001b[A\n",
      "  0%|▍                                                                                  | 1/200 [00:03<12:57,  3.91s/it]\u001b[A\n",
      "  1%|▊                                                                                  | 2/200 [00:07<12:19,  3.74s/it]\u001b[A\n",
      "  2%|█▏                                                                                 | 3/200 [00:11<12:45,  3.88s/it]\u001b[A\n",
      "  2%|█▋                                                                                 | 4/200 [00:15<13:08,  4.02s/it]\u001b[A\n",
      "  2%|██                                                                                 | 5/200 [00:20<13:18,  4.10s/it]\u001b[A\n",
      "  3%|██▍                                                                                | 6/200 [00:24<13:20,  4.13s/it]\u001b[A\n",
      "  4%|██▉                                                                                | 7/200 [00:28<12:59,  4.04s/it]\u001b[A\n",
      "  4%|███▎                                                                               | 8/200 [00:32<13:05,  4.09s/it]\u001b[A\n",
      "  4%|███▋                                                                               | 9/200 [00:36<12:55,  4.06s/it]\u001b[A\n",
      "  5%|████                                                                              | 10/200 [00:40<12:44,  4.02s/it]\u001b[A\n",
      "  6%|████▌                                                                             | 11/200 [00:44<12:31,  3.97s/it]\u001b[A\n",
      "  6%|████▉                                                                             | 12/200 [00:47<12:12,  3.89s/it]\u001b[A\n",
      "  6%|█████▎                                                                            | 13/200 [00:51<12:00,  3.85s/it]\u001b[A\n",
      "  7%|█████▋                                                                            | 14/200 [00:55<11:40,  3.77s/it]\u001b[A\n",
      "  8%|██████▏                                                                           | 15/200 [00:59<11:59,  3.89s/it]\u001b[A\n",
      "  8%|██████▌                                                                           | 16/200 [01:02<11:06,  3.62s/it]\u001b[A\n",
      "  8%|██████▉                                                                           | 17/200 [01:06<11:07,  3.65s/it]\u001b[A\n",
      "  9%|███████▍                                                                          | 18/200 [01:09<11:08,  3.68s/it]\u001b[A\n",
      " 10%|███████▊                                                                          | 19/200 [01:13<11:28,  3.80s/it]\u001b[A\n",
      " 10%|████████▏                                                                         | 20/200 [01:17<11:38,  3.88s/it]\u001b[A\n",
      " 10%|████████▌                                                                         | 21/200 [01:21<11:37,  3.90s/it]\u001b[A\n",
      " 11%|█████████                                                                         | 22/200 [01:25<11:32,  3.89s/it]\u001b[A\n",
      " 12%|█████████▍                                                                        | 23/200 [01:29<11:41,  3.96s/it]\u001b[A\n",
      " 12%|█████████▊                                                                        | 24/200 [01:33<11:36,  3.96s/it]\u001b[A\n",
      " 12%|██████████▎                                                                       | 25/200 [01:37<11:27,  3.93s/it]\u001b[A\n",
      " 13%|██████████▋                                                                       | 26/200 [01:41<11:39,  4.02s/it]\u001b[A\n",
      " 14%|███████████                                                                       | 27/200 [01:46<11:42,  4.06s/it]\u001b[A\n",
      " 14%|███████████▍                                                                      | 28/200 [01:50<11:46,  4.11s/it]\u001b[A"
     ]
    }
   ],
   "source": [
    "hypernet_res = []\n",
    "for mask_size in [15, 10, 5]:\n",
    "    for masks_no in [20, 15, 5, 50]:\n",
    "        exp = Experiment(os.environ.get(\"COMET_KEY\"), \"blastchar-hypernet\")\n",
    "        exp.log_parameters({mask_size: mask_size, masks_no: masks_no})\n",
    "        nn_results = test_model(network_fn(mask_size, masks_no),\n",
    "                                (X_train, y_train), \n",
    "                                (X_test, y_test), \n",
    "                                y_label_enc, 1)\n",
    "        nn_results[\"MasksNo\"] = masks_no\n",
    "        nn_results[\"MaskSize\"] = mask_size\n",
    "        exp.log_dataframe_profile(nn_results)\n",
    "        \n",
    "        plt.title(f\"Masks: {masks_no}, mask size: {mask_size}\")\n",
    "        hypernet_res.append(nn_results)\n",
    "        break\n",
    "    break"
   ]
  },
  {
   "cell_type": "code",
   "execution_count": 28,
   "id": "2d353843-a6e5-4b95-a768-a6524f6e6ff0",
   "metadata": {},
   "outputs": [
    {
     "data": {
      "text/html": [
       "<div>\n",
       "<style scoped>\n",
       "    .dataframe tbody tr th:only-of-type {\n",
       "        vertical-align: middle;\n",
       "    }\n",
       "\n",
       "    .dataframe tbody tr th {\n",
       "        vertical-align: top;\n",
       "    }\n",
       "\n",
       "    .dataframe thead th {\n",
       "        text-align: right;\n",
       "    }\n",
       "</style>\n",
       "<table border=\"1\" class=\"dataframe\">\n",
       "  <thead>\n",
       "    <tr style=\"text-align: right;\">\n",
       "      <th></th>\n",
       "      <th>Class</th>\n",
       "      <th>Accuracy</th>\n",
       "    </tr>\n",
       "  </thead>\n",
       "  <tbody>\n",
       "    <tr>\n",
       "      <th>2</th>\n",
       "      <td>Total</td>\n",
       "      <td>73.197047</td>\n",
       "    </tr>\n",
       "    <tr>\n",
       "      <th>6</th>\n",
       "      <td>Total</td>\n",
       "      <td>72.458830</td>\n",
       "    </tr>\n",
       "    <tr>\n",
       "      <th>10</th>\n",
       "      <td>Total</td>\n",
       "      <td>71.663827</td>\n",
       "    </tr>\n",
       "    <tr>\n",
       "      <th>14</th>\n",
       "      <td>Total</td>\n",
       "      <td>72.856332</td>\n",
       "    </tr>\n",
       "    <tr>\n",
       "      <th>18</th>\n",
       "      <td>Total</td>\n",
       "      <td>72.174901</td>\n",
       "    </tr>\n",
       "    <tr>\n",
       "      <th>22</th>\n",
       "      <td>Total</td>\n",
       "      <td>70.868825</td>\n",
       "    </tr>\n",
       "    <tr>\n",
       "      <th>26</th>\n",
       "      <td>Total</td>\n",
       "      <td>72.799546</td>\n",
       "    </tr>\n",
       "    <tr>\n",
       "      <th>30</th>\n",
       "      <td>Total</td>\n",
       "      <td>72.004543</td>\n",
       "    </tr>\n",
       "    <tr>\n",
       "      <th>34</th>\n",
       "      <td>Total</td>\n",
       "      <td>74.105622</td>\n",
       "    </tr>\n",
       "    <tr>\n",
       "      <th>38</th>\n",
       "      <td>Total</td>\n",
       "      <td>71.720613</td>\n",
       "    </tr>\n",
       "  </tbody>\n",
       "</table>\n",
       "</div>"
      ],
      "text/plain": [
       "    Class   Accuracy\n",
       "2   Total  73.197047\n",
       "6   Total  72.458830\n",
       "10  Total  71.663827\n",
       "14  Total  72.856332\n",
       "18  Total  72.174901\n",
       "22  Total  70.868825\n",
       "26  Total  72.799546\n",
       "30  Total  72.004543\n",
       "34  Total  74.105622\n",
       "38  Total  71.720613"
      ]
     },
     "execution_count": 28,
     "metadata": {},
     "output_type": "execute_result"
    }
   ],
   "source": [
    "nn_results[nn_results[\"Class\"]==\"Total\"]"
   ]
  }
 ],
 "metadata": {
  "kernelspec": {
   "display_name": "img_processing",
   "language": "python",
   "name": "img_processing"
  },
  "language_info": {
   "codemirror_mode": {
    "name": "ipython",
    "version": 3
   },
   "file_extension": ".py",
   "mimetype": "text/x-python",
   "name": "python",
   "nbconvert_exporter": "python",
   "pygments_lexer": "ipython3",
   "version": "3.8.12"
  }
 },
 "nbformat": 4,
 "nbformat_minor": 5
}
