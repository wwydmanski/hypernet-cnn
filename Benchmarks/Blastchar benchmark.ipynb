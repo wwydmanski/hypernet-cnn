{
 "cells": [
  {
   "cell_type": "code",
   "execution_count": 2,
   "id": "dc12a648-b80a-4eca-afc3-79331e4db7fc",
   "metadata": {},
   "outputs": [],
   "source": [
    "from comet_ml import Experiment, Optimizer"
   ]
  },
  {
   "cell_type": "code",
   "execution_count": 3,
   "id": "2fdadf44-450a-4006-ac5a-bed9840409f6",
   "metadata": {},
   "outputs": [],
   "source": [
    "import pandas as pd\n",
    "import numpy as np\n",
    "from sklearn.preprocessing import LabelEncoder, StandardScaler\n",
    "from sklearn.model_selection import train_test_split\n",
    "from collections import defaultdict\n",
    "from tqdm import trange\n",
    "import torch\n",
    "import seaborn as sns\n",
    "import os\n",
    "import matplotlib.pyplot as plt\n",
    "from io import BytesIO\n",
    "import base64\n",
    "import time\n",
    "import datetime\n",
    "\n",
    "plt.style.use(\"seaborn\")\n",
    "torch.set_default_dtype(torch.float32)"
   ]
  },
  {
   "cell_type": "code",
   "execution_count": 4,
   "id": "c7585d3a-dff3-43e2-bc0f-f024306021a7",
   "metadata": {},
   "outputs": [],
   "source": [
    "import node"
   ]
  },
  {
   "cell_type": "code",
   "execution_count": 5,
   "id": "6a37b70c-292b-4c14-85ed-3c93020dc182",
   "metadata": {},
   "outputs": [],
   "source": [
    "from sklearn.metrics import roc_auc_score, f1_score, precision_score, recall_score"
   ]
  },
  {
   "cell_type": "code",
   "execution_count": 6,
   "id": "3085114d-cf61-4625-97c5-10f34c00d335",
   "metadata": {},
   "outputs": [],
   "source": [
    "from tabular_hypernet import Hypernetwork, TrainingModes\n",
    "from tabular_hypernet.modules import SimpleNetwork\n",
    "from tabular_hypernet.training_utils import train_slow_step, train_model, train_carthesian\n",
    "from tabular_hypernet.interfaces import HypernetworkSklearnInterface, SimpleSklearnInterface"
   ]
  },
  {
   "cell_type": "code",
   "execution_count": 73,
   "id": "b3f2383c-9e53-4dde-b418-94e1934fd909",
   "metadata": {
    "collapsed": true,
    "jupyter": {
     "outputs_hidden": true
    },
    "tags": []
   },
   "outputs": [
    {
     "name": "stderr",
     "output_type": "stream",
     "text": [
      "COMET INFO: ---------------------------\n",
      "COMET INFO: Comet.ml Experiment Summary\n",
      "COMET INFO: ---------------------------\n",
      "COMET INFO:   Data:\n",
      "COMET INFO:     display_summary_level : 1\n",
      "COMET INFO:     url                   : https://www.comet.ml/wwydmanski/blastchar-hypernet/be4662246a1b4a5a955bb6a7a5e4d3f9\n",
      "COMET INFO:   Metrics [count] (min, max):\n",
      "COMET INFO:     loss [254495] : (0.035909686237573624, 1.4508302211761475)\n",
      "COMET INFO:   Parameters:\n",
      "COMET INFO:     copy      : True\n",
      "COMET INFO:     data_size : 5948\n",
      "COMET INFO:     epochs    : 50\n",
      "COMET INFO:     mask_size : 5\n",
      "COMET INFO:     masks_no  : 50\n",
      "COMET INFO:     with_mean : True\n",
      "COMET INFO:     with_std  : True\n",
      "COMET INFO:   Uploads:\n",
      "COMET INFO:     environment details      : 1\n",
      "COMET INFO:     filename                 : 1\n",
      "COMET INFO:     git metadata             : 1\n",
      "COMET INFO:     git-patch (uncompressed) : 1 (859.60 KB)\n",
      "COMET INFO:     installed packages       : 1\n",
      "COMET INFO:     model graph              : 1\n",
      "COMET INFO:     notebook                 : 1\n",
      "COMET INFO:     os packages              : 1\n",
      "COMET INFO:     source_code              : 1\n",
      "COMET INFO: ---------------------------\n",
      "COMET INFO: Uploading 1 metrics, params and output messages\n",
      "COMET INFO: Waiting for completion of the file uploads (may take several seconds)\n",
      "COMET INFO: The Python SDK has 10800 seconds to finish before aborting...\n",
      "COMET INFO: All files uploaded, waiting for confirmation they have been all received\n"
     ]
    }
   ],
   "source": [
    "from benchmark_utils import show_fractions"
   ]
  },
  {
   "cell_type": "code",
   "execution_count": 7,
   "id": "d12953cc-1ec5-46a9-933a-714e5ceafd1d",
   "metadata": {},
   "outputs": [
    {
     "data": {
      "text/plain": [
       "1"
      ]
     },
     "execution_count": 7,
     "metadata": {},
     "output_type": "execute_result"
    }
   ],
   "source": [
    "from loguru import logger\n",
    "\n",
    "logger.add(\"log.txt\", format='{time:YYYY-MM-DD HH:mm:ss.SSS} | {message}')"
   ]
  },
  {
   "cell_type": "code",
   "execution_count": 8,
   "id": "71891b02-e21f-4fe4-a54a-8c56610bcb3b",
   "metadata": {},
   "outputs": [],
   "source": [
    "DEVICE = 'cuda:1'"
   ]
  },
  {
   "cell_type": "markdown",
   "id": "56f26fc6-18c5-48a4-a479-cff173008af1",
   "metadata": {},
   "source": [
    "## Load data"
   ]
  },
  {
   "cell_type": "code",
   "execution_count": 121,
   "id": "c35c736f-294c-4eea-b7d3-364079f184b9",
   "metadata": {},
   "outputs": [],
   "source": [
    "data = pd.read_csv(\"../data/Blastchar/churn.csv\")"
   ]
  },
  {
   "cell_type": "code",
   "execution_count": 123,
   "id": "cb145598-e52e-4595-8c5b-ad94767e5f32",
   "metadata": {},
   "outputs": [
    {
     "name": "stdout",
     "output_type": "stream",
     "text": [
      "0 samples: 5163 (73.4%)\n",
      "1 samples: 1869 (26.6%)\n"
     ]
    }
   ],
   "source": [
    "processed_data = data.copy()\n",
    "del processed_data[\"customerID\"]\n",
    "processed_data = processed_data[processed_data['TotalCharges'] != \" \"]\n",
    "processed_data['TotalCharges'] = pd.to_numeric(processed_data['TotalCharges'])\n",
    "\n",
    "y_label_enc = LabelEncoder()\n",
    "y = y_label_enc.fit_transform(processed_data[\"Churn\"].values)\n",
    "del processed_data[\"Churn\"]\n",
    "\n",
    "show_fractions(y)"
   ]
  },
  {
   "cell_type": "markdown",
   "id": "093dc563-0b76-4420-8785-3512e51681dd",
   "metadata": {},
   "source": [
    "### Preprocess features"
   ]
  },
  {
   "cell_type": "code",
   "execution_count": 124,
   "id": "fdb8b71b-7c57-4a04-8f51-4b8bdd6177ee",
   "metadata": {},
   "outputs": [
    {
     "name": "stdout",
     "output_type": "stream",
     "text": [
      "(7032, 19)\n"
     ]
    }
   ],
   "source": [
    "label_encoders = {}\n",
    "for col in processed_data.columns:\n",
    "    if processed_data[col].dtype == 'object':\n",
    "        encoder = LabelEncoder()\n",
    "        processed_data[col] = encoder.fit_transform(processed_data[col].values)\n",
    "        label_encoders[col] = encoder\n",
    "        \n",
    "X = processed_data.values\n",
    "print(X.shape)"
   ]
  },
  {
   "cell_type": "markdown",
   "id": "f3ebd8d0-d845-41f0-bf71-7bd6cb0d8b4e",
   "metadata": {},
   "source": [
    "### Split it into train and test set"
   ]
  },
  {
   "cell_type": "code",
   "execution_count": 125,
   "id": "220962a3-1cfd-4dd1-b030-336bff717634",
   "metadata": {},
   "outputs": [],
   "source": []
  },
  {
   "cell_type": "code",
   "execution_count": 126,
   "id": "3931b7b5-02cd-41af-a958-255483d3c7a1",
   "metadata": {},
   "outputs": [],
   "source": [
    "import imblearn"
   ]
  },
  {
   "cell_type": "markdown",
   "id": "60fe0004-328f-4646-9572-1c2939fbe7dd",
   "metadata": {},
   "source": [
    "## Preprocess"
   ]
  },
  {
   "cell_type": "code",
   "execution_count": 127,
   "id": "bdc5ffdd-e04d-425f-8d6c-bd8456644faf",
   "metadata": {},
   "outputs": [],
   "source": [
    "np.random.seed(42)\n",
    "\n",
    "def prepare_data(X, y, size=None):\n",
    "    X_train, X_test, y_train, y_test = train_test_split(X, y, train_size=size)\n",
    "    X_train, y_train = imblearn.over_sampling.RandomOverSampler(random_state=42).fit_resample(X_train, y_train)\n",
    "    \n",
    "    scaler = StandardScaler()\n",
    "    X_train = scaler.fit_transform(X_train)\n",
    "    X_test = scaler.transform(X_test)\n",
    "    \n",
    "    X_train, X_test, y_train, y_test = [torch.from_numpy(x) for x in [X_train, X_test, y_train, y_test]]\n",
    "    \n",
    "    return X_train, X_test, y_train, y_test"
   ]
  },
  {
   "cell_type": "code",
   "execution_count": 128,
   "id": "ca0a827a-0e1f-4f5c-b15d-3354f075021e",
   "metadata": {},
   "outputs": [
    {
     "name": "stdout",
     "output_type": "stream",
     "text": [
      "Training data:\n",
      "0 samples: 67 (50.0%)\n",
      "1 samples: 67 (50.0%)\n",
      "Test data:\n",
      "0 samples: 5096 (73.5%)\n",
      "1 samples: 1836 (26.5%)\n"
     ]
    }
   ],
   "source": [
    "X_train, X_test, y_train, y_test = prepare_data(X, y, size=100)\n",
    "\n",
    "print(\"Training data:\")\n",
    "show_fractions(y_train)\n",
    "\n",
    "print(\"Test data:\")\n",
    "show_fractions(y_test)"
   ]
  },
  {
   "cell_type": "markdown",
   "id": "d223075b-b7d8-414e-97c9-ade8bda5f0fd",
   "metadata": {},
   "source": [
    "## Benchmark"
   ]
  },
  {
   "cell_type": "code",
   "execution_count": null,
   "id": "b9f92f86-4c40-492c-8d48-f23efa85eb16",
   "metadata": {},
   "outputs": [],
   "source": [
    "criterion = torch.nn.CrossEntropyLoss()"
   ]
  },
  {
   "cell_type": "code",
   "execution_count": 129,
   "id": "5aa90ca0-8a00-4491-b111-ce7eee0e9c33",
   "metadata": {},
   "outputs": [],
   "source": []
  },
  {
   "cell_type": "markdown",
   "id": "bf59445b-c0f0-4ee7-bfe9-5c8a57c22b86",
   "metadata": {},
   "source": [
    "### XGBoost"
   ]
  },
  {
   "cell_type": "code",
   "execution_count": 130,
   "id": "aacc321b-420a-47f3-88af-6bb02aa0ddbb",
   "metadata": {},
   "outputs": [],
   "source": [
    "from xgboost import XGBClassifier"
   ]
  },
  {
   "cell_type": "code",
   "execution_count": 134,
   "id": "d5cedd88-43b4-465c-b1e1-6a0b620ae73a",
   "metadata": {},
   "outputs": [
    {
     "name": "stdout",
     "output_type": "stream",
     "text": [
      "torch.Size([7756, 19])\n",
      "1\n",
      "2\n",
      "3\n",
      "4\n",
      "5\n",
      "6\n",
      "7\n",
      "8\n",
      "9\n",
      "10\n"
     ]
    },
    {
     "data": {
      "image/png": "[encoded data removed]",
      "text/plain": [
       "<Figure size 576x396 with 1 Axes>"
      ]
     },
     "metadata": {},
     "output_type": "display_data"
    }
   ],
   "source": [
    "def get_xgboost():\n",
    "    random_seed = np.random.randint(1024)\n",
    "    return XGBClassifier(\n",
    "        verbosity=0,\n",
    "        random_state=random_seed,\n",
    "        subsample=0.98,\n",
    "        use_label_encoder=False)\n",
    "\n",
    "xgb_dframe = test_model(get_xgboost, \n",
    "                        (X, y),\n",
    "                        label_encoder=y_label_enc, iters=10)"
   ]
  },
  {
   "cell_type": "code",
   "execution_count": 135,
   "id": "f530a0df-271a-495f-b49d-2cffe523c328",
   "metadata": {},
   "outputs": [
    {
     "name": "stdout",
     "output_type": "stream",
     "text": [
      "F1: 63.334 ~ 1.538\n",
      "C-statistics: 84.489 ~ 0.647\n",
      "Precision: 52.265 ~ 1.796\n",
      "Recall: 80.412 ~ 1.826\n"
     ]
    }
   ],
   "source": [
    "print_statistics(xgb_dframe)"
   ]
  },
  {
   "cell_type": "markdown",
   "id": "555f70df-66b8-44c6-8b51-8165b847d034",
   "metadata": {},
   "source": [
    "### Neural network"
   ]
  },
  {
   "cell_type": "code",
   "execution_count": 144,
   "id": "f7ee0197-e3ab-4fe0-8962-4761d416ab57",
   "metadata": {},
   "outputs": [],
   "source": [
    "def simple_network_fn(epochs):\n",
    "    def _inner():\n",
    "#         net = SimpleNetwork(X_train.shape[1], outputs=2).to(DEVICE)\n",
    "        net = torch.nn.Sequential(\n",
    "            torch.nn.Dropout(1-5/19),\n",
    "            torch.nn.Linear(X_train.shape[1], 100),\n",
    "            torch.nn.ReLU(),\n",
    "            torch.nn.Dropout(0.5),\n",
    "            torch.nn.Linear(100, 2)\n",
    "        ).to(DEVICE)\n",
    "        return SimpleSklearnInterface(net, device=DEVICE, epochs=epochs, batch_size=32)\n",
    "    return _inner"
   ]
  },
  {
   "cell_type": "code",
   "execution_count": 146,
   "id": "c0a58805-64a0-4347-a106-0a85c44e3b64",
   "metadata": {
    "tags": []
   },
   "outputs": [
    {
     "name": "stdout",
     "output_type": "stream",
     "text": [
      "torch.Size([5956, 19])\n",
      "1\n",
      "2\n",
      "3\n",
      "4\n"
     ]
    },
    {
     "data": {
      "image/png": "[encoded data removed]",
      "text/plain": [
       "<Figure size 576x396 with 1 Axes>"
      ]
     },
     "metadata": {},
     "output_type": "display_data"
    }
   ],
   "source": [
    "simple_nn_results = test_model(simple_network_fn(50),\n",
    "                (X, y),\n",
    "                y_label_enc, 4, data_size=4000)"
   ]
  },
  {
   "cell_type": "code",
   "execution_count": 147,
   "id": "2950a561-79f3-4a7d-b399-e6bd66d12bd0",
   "metadata": {},
   "outputs": [
    {
     "name": "stdout",
     "output_type": "stream",
     "text": [
      "F1: 62.019 ~ 1.123\n",
      "C-statistics: 82.112 ~ 1.402\n",
      "Precision: 51.662 ~ 1.753\n",
      "Recall: 77.642 ~ 1.397\n"
     ]
    }
   ],
   "source": [
    "print_statistics(simple_nn_results)"
   ]
  },
  {
   "cell_type": "markdown",
   "id": "d08dcdab-2c4b-4a05-822b-912037488763",
   "metadata": {},
   "source": [
    "### NODE"
   ]
  },
  {
   "cell_type": "code",
   "execution_count": null,
   "id": "64d10cad-57b5-488c-9a94-63259bd0c13e",
   "metadata": {},
   "outputs": [],
   "source": [
    "from qhoptim.pyt import QHAdam"
   ]
  },
  {
   "cell_type": "code",
   "execution_count": null,
   "id": "806be7a7-e4c8-4525-a38f-9ae16a3bd229",
   "metadata": {},
   "outputs": [],
   "source": [
    "def node_fn(layer_dims):\n",
    "    def _inner():\n",
    "        network = torch.nn.Sequential(\n",
    "            node.DenseBlock(X_train.shape[1], layer_dims, num_layers=1, tree_dim=2, depth=6, flatten_output=False,\n",
    "                           choice_function=node.entmax15, bin_function=node.entmoid15),\n",
    "            node.Lambda(lambda x: x.mean(dim=1))\n",
    "        )\n",
    "        \n",
    "        with torch.no_grad():\n",
    "            res = network(torch.as_tensor(X_train[:1000], device='cpu').to(torch.float32))\n",
    "        \n",
    "        network = network.to(DEVICE)\n",
    "        network.device=DEVICE\n",
    "            \n",
    "        optimizer_params = { 'nus':(0.7, 1.0), 'betas':(0.95, 0.998) }\n",
    "        optim = QHAdam(network.parameters(), **optimizer_params)\n",
    "            \n",
    "        network = SimpleSklearnInterface(network, device=DEVICE, epochs=150, batch_size=32)\n",
    "        network.optimizer = optim\n",
    "        return network\n",
    "    return _inner"
   ]
  },
  {
   "cell_type": "code",
   "execution_count": null,
   "id": "f6e447c1-63a6-4c90-b22e-5e0852817f9b",
   "metadata": {
    "tags": []
   },
   "outputs": [],
   "source": [
    "%%capture --no-stdout\n",
    "\n",
    "node_results = test_model(node_fn(128),\n",
    "                (X, y),\n",
    "                y_label_enc, 4, data_size=4000)"
   ]
  },
  {
   "cell_type": "code",
   "execution_count": 22,
   "id": "fb5ac4ab-0f69-4bf8-90c8-0b46ddfe369a",
   "metadata": {},
   "outputs": [
    {
     "ename": "NameError",
     "evalue": "name 'node_results' is not defined",
     "output_type": "error",
     "traceback": [
      "\u001b[0;31m---------------------------------------------------------------------------\u001b[0m",
      "\u001b[0;31mNameError\u001b[0m                                 Traceback (most recent call last)",
      "\u001b[0;32m/tmp/ipykernel_2942995/1474731695.py\u001b[0m in \u001b[0;36m<module>\u001b[0;34m\u001b[0m\n\u001b[0;32m----> 1\u001b[0;31m \u001b[0mprint_statistics\u001b[0m\u001b[0;34m(\u001b[0m\u001b[0mnode_results\u001b[0m\u001b[0;34m)\u001b[0m\u001b[0;34m\u001b[0m\u001b[0;34m\u001b[0m\u001b[0m\n\u001b[0m",
      "\u001b[0;31mNameError\u001b[0m: name 'node_results' is not defined"
     ]
    }
   ],
   "source": [
    "print_statistics(node_results)"
   ]
  },
  {
   "cell_type": "code",
   "execution_count": 100,
   "id": "11d696b0-f5b6-4508-9fff-5166fad29e9a",
   "metadata": {},
   "outputs": [
    {
     "data": {
      "text/plain": [
       "torch.Size([7784, 19])"
      ]
     },
     "execution_count": 100,
     "metadata": {},
     "output_type": "execute_result"
    }
   ],
   "source": []
  },
  {
   "cell_type": "markdown",
   "id": "1d60779d-0042-49af-8a32-e6d0b59e1589",
   "metadata": {
    "tags": []
   },
   "source": [
    "### Hypernetwork"
   ]
  },
  {
   "cell_type": "code",
   "execution_count": 143,
   "id": "6e5536d6-cf9d-4a2b-9d7b-184c0ac27a84",
   "metadata": {},
   "outputs": [],
   "source": [
    "def network_fn(epochs=10, mask_size=15, test_nodes=15):\n",
    "    def _inner():\n",
    "        network = Hypernetwork(inp_size=X_train.shape[1], \n",
    "                            out_size=y.max().item()+1, \n",
    "                            mask_size=mask_size,\n",
    "                            layers=[128, 128, 128],\n",
    "                            node_hidden_size=100, \n",
    "                            mode=TrainingModes.CARTHESIAN,\n",
    "                            test_nodes=test_nodes, device=DEVICE).to(DEVICE)\n",
    "\n",
    "        network = HypernetworkSklearnInterface(network, device=DEVICE, epochs=epochs, batch_size=32)\n",
    "        return network\n",
    "    return _inner"
   ]
  },
  {
   "cell_type": "code",
   "execution_count": 140,
   "id": "1e43b7af-9be5-427a-be2e-4f134ba1e644",
   "metadata": {},
   "outputs": [],
   "source": [
    "def figure_to_html():\n",
    "    tmpfile = BytesIO()\n",
    "    plt.gcf().savefig(tmpfile, format='png')\n",
    "    encoded = base64.b64encode(tmpfile.getvalue()).decode('utf-8')\n",
    "\n",
    "    html = '<img src=\\'data:image/png;base64,{}\\'>'.format(encoded)\n",
    "    return html"
   ]
  },
  {
   "cell_type": "code",
   "execution_count": 141,
   "id": "f5b3a72c-14cf-4d70-bb83-1f0a8aad5144",
   "metadata": {
    "tags": []
   },
   "outputs": [
    {
     "name": "stderr",
     "output_type": "stream",
     "text": [
      "COMET INFO: ---------------------------\n",
      "COMET INFO: Comet.ml Experiment Summary\n",
      "COMET INFO: ---------------------------\n",
      "COMET INFO:   Data:\n",
      "COMET INFO:     display_summary_level : 1\n",
      "COMET INFO:     url                   : https://www.comet.ml/wwydmanski/blastchar-hypernet/35e981470a254c9a914e298f82834f96\n",
      "COMET INFO:   Metrics [count] (min, max):\n",
      "COMET INFO:     loss [93150] : (0.0556909516453743, 1.5526331663131714)\n",
      "COMET INFO:   Parameters:\n",
      "COMET INFO:     base_score        : 0.5\n",
      "COMET INFO:     begin_iteration   : 0\n",
      "COMET INFO:     booster           : gbtree\n",
      "COMET INFO:     colsample_bylevel : 1\n",
      "COMET INFO:     colsample_bytree  : 1\n",
      "COMET INFO:     copy              : True\n",
      "COMET INFO:     data_size         : 1446\n",
      "COMET INFO:     end_iteration     : 100\n",
      "COMET INFO:     epochs            : 100\n",
      "COMET INFO:     feature_names     : ['f0', 'f1', 'f2', 'f3', 'f4', 'f5', 'f6', 'f7', 'f8', 'f9', 'f10', 'f11', 'f12', 'f13', 'f14', 'f15', 'f16', 'f17', 'f18']\n",
      "COMET INFO:     gamma             : 0\n",
      "COMET INFO:     learning_rate     : 0.1\n",
      "COMET INFO:     mask_size         : 5\n",
      "COMET INFO:     masks_no          : 50\n",
      "COMET INFO:     max_delta_step    : 0\n",
      "COMET INFO:     max_depth         : 3\n",
      "COMET INFO:     min_child_weight  : 1\n",
      "COMET INFO:     n_estimators      : 100\n",
      "COMET INFO:     nthread           : 1\n",
      "COMET INFO:     objective         : binary:logistic\n",
      "COMET INFO:     rank              : 0\n",
      "COMET INFO:     reg_alpha         : 0\n",
      "COMET INFO:     reg_lambda        : 1\n",
      "COMET INFO:     scale_pos_weight  : 1\n",
      "COMET INFO:     seed              : 737\n",
      "COMET INFO:     silent            : 1\n",
      "COMET INFO:     subsample         : 0.98\n",
      "COMET INFO:     use_label_encoder : False\n",
      "COMET INFO:     verbosity         : 0\n",
      "COMET INFO:     with_mean         : True\n",
      "COMET INFO:     with_std          : True\n",
      "COMET INFO:   Uploads:\n",
      "COMET INFO:     environment details      : 1\n",
      "COMET INFO:     filename                 : 1\n",
      "COMET INFO:     git metadata             : 1\n",
      "COMET INFO:     git-patch (uncompressed) : 1 (912.08 KB)\n",
      "COMET INFO:     installed packages       : 1\n",
      "COMET INFO:     model graph              : 1\n",
      "COMET INFO:     notebook                 : 1\n",
      "COMET INFO:     os packages              : 1\n",
      "COMET INFO:     source_code              : 1\n",
      "COMET INFO: ---------------------------\n",
      "COMET WARNING: As you are running in a Jupyter environment, you will need to call `experiment.end()` when finished to ensure all metrics and code are logged before exiting.\n",
      "COMET INFO: Experiment is live on comet.ml https://www.comet.ml/wwydmanski/blastchar-hypernet/6ffbab71371947e4b3b0aea2390610a3\n",
      "\n"
     ]
    },
    {
     "name": "stdout",
     "output_type": "stream",
     "text": [
      "torch.Size([1430, 19])\n",
      "1\n",
      "TrainingModes.CARTHESIAN\n"
     ]
    },
    {
     "name": "stderr",
     "output_type": "stream",
     "text": [
      "100%|██████████████████████████████████████████████████████████████████████████████████████████████████████████████████████████████████████████████████████████████████████████████| 10/10 [01:25<00:00,  8.52s/it]\n"
     ]
    },
    {
     "name": "stdout",
     "output_type": "stream",
     "text": [
      "2\n",
      "TrainingModes.CARTHESIAN\n"
     ]
    },
    {
     "name": "stderr",
     "output_type": "stream",
     "text": [
      "100%|██████████████████████████████████████████████████████████████████████████████████████████████████████████████████████████████████████████████████████████████████████████████| 10/10 [01:31<00:00,  9.13s/it]\n"
     ]
    },
    {
     "name": "stdout",
     "output_type": "stream",
     "text": [
      "3\n",
      "TrainingModes.CARTHESIAN\n"
     ]
    },
    {
     "name": "stderr",
     "output_type": "stream",
     "text": [
      "100%|██████████████████████████████████████████████████████████████████████████████████████████████████████████████████████████████████████████████████████████████████████████████| 10/10 [01:23<00:00,  8.38s/it]\n"
     ]
    },
    {
     "name": "stdout",
     "output_type": "stream",
     "text": [
      "4\n",
      "TrainingModes.CARTHESIAN\n"
     ]
    },
    {
     "name": "stderr",
     "output_type": "stream",
     "text": [
      "100%|██████████████████████████████████████████████████████████████████████████████████████████████████████████████████████████████████████████████████████████████████████████████| 10/10 [01:25<00:00,  8.56s/it]\n"
     ]
    },
    {
     "data": {
      "image/png": "[encoded data removed]",
      "text/plain": [
       "<Figure size 576x396 with 1 Axes>"
      ]
     },
     "metadata": {},
     "output_type": "display_data"
    }
   ],
   "source": [
    "epochs = 100\n",
    "mask_size = 5\n",
    "masks_no = 50\n",
    "X_train, X_test, y_train, y_test = prepare_data(X, y, 1000)\n",
    "data_size = X_train.shape[0]\n",
    "\n",
    "exp = Experiment(os.environ.get(\"COMET_KEY\"), \"blastchar-hypernet\")\n",
    "exp.log_parameters({\"epochs\": epochs, \"mask_size\": 5, \"masks_no\": 50, \"data_size\": data_size})\n",
    "exp.add_tag(\"blastchar-benchmark\")\n",
    "\n",
    "nn_results = test_model(network_fn(epochs, 5, 50),\n",
    "                (X, y),\n",
    "                y_label_enc, 4, data_size=100)\n",
    "\n",
    "# exp.log_table(\"metrics.csv\", nn_results.groupby(\"Class\").mean())\n",
    "# exp.log_metric(\"f1_score\", nn_results.groupby(\"Class\").mean().loc[\"F1 score\"])"
   ]
  },
  {
   "cell_type": "code",
   "execution_count": 142,
   "id": "b950280b-188d-4321-8db6-9cb69912a242",
   "metadata": {},
   "outputs": [
    {
     "name": "stdout",
     "output_type": "stream",
     "text": [
      "F1: 58.020 ~ 1.809\n",
      "C-statistics: 78.869 ~ 0.459\n",
      "Precision: 45.767 ~ 4.063\n",
      "Recall: 80.496 ~ 7.647\n"
     ]
    }
   ],
   "source": [
    "print_statistics(nn_results)"
   ]
  },
  {
   "cell_type": "code",
   "execution_count": null,
   "id": "d919c645-e3e3-4598-82aa-95d764b28ec9",
   "metadata": {
    "tags": []
   },
   "outputs": [],
   "source": [
    "mask_size = 5\n",
    "total = 15\n",
    "current = 0\n",
    "\n",
    "res = {}\n",
    "for epochs in [100, 150, 200, 300, 500]:\n",
    "    for masks_no in [50, 30, 70]:\n",
    "        current += 1\n",
    "        description = f\"{epochs=}, {mask_size=}, {masks_no=}\"\n",
    "        exp = Experiment(os.environ.get(\"COMET_KEY\"), \"blastchar-hypernet\")\n",
    "\n",
    "        nn_results = test_model(network_fn(epochs, mask_size, masks_no),\n",
    "                        (X, y),\n",
    "                        y_label_enc, 4, data_size=100)\n",
    "\n",
    "        exp.log_parameters({\"epochs\": epochs, \"mask_size\": mask_size, \"masks_no\": masks_no})\n",
    "        exp.add_tag(\"hypernet-full-optim\")\n",
    "        exp.log_table(\"metrics.csv\", nn_results.groupby(\"Class\").mean())\n",
    "        exp.log_metric(\"f1_score\", nn_results.groupby(\"Class\").mean().loc[\"F1 score\"])\n",
    "\n",
    "        res[description] = nn_results\n",
    "        logger.info(description)\n",
    "        logger.info(f\"{current}/{total}\")\n",
    "        print_statistics(res[description])"
   ]
  },
  {
   "cell_type": "code",
   "execution_count": 70,
   "id": "a5e94e8c-0bc4-4c16-b0b7-0c4699157359",
   "metadata": {
    "tags": []
   },
   "outputs": [
    {
     "name": "stdout",
     "output_type": "stream",
     "text": [
      "epochs=100, mask_size=5, masks_no=50\n",
      "F1: 60.890 ~ 1.154\n",
      "C-statistics: 83.136 ~ 0.376\n",
      "Precision: 53.227 ~ 5.449\n",
      "Recall: 72.538 ~ 8.134\n",
      "epochs=100, mask_size=5, masks_no=30\n",
      "F1: 60.464 ~ 1.268\n",
      "C-statistics: 82.603 ~ 0.516\n",
      "Precision: 49.242 ~ 4.728\n",
      "Recall: 79.565 ~ 7.094\n",
      "epochs=100, mask_size=5, masks_no=70\n",
      "F1: 49.704 ~ 10.204\n",
      "C-statistics: 82.516 ~ 1.119\n",
      "Precision: 65.107 ~ 6.064\n",
      "Recall: 43.269 ~ 17.677\n"
     ]
    }
   ],
   "source": [
    "for key in res.keys():\n",
    "    print(key)\n",
    "    print_statistics(res[key])"
   ]
  },
  {
   "cell_type": "code",
   "execution_count": 66,
   "id": "2f51ef20-60e8-432a-912b-9dca8c0bedcc",
   "metadata": {},
   "outputs": [
    {
     "data": {
      "text/plain": [
       "'RKwbRoPWKvsMjkjK3JobL0J5e'"
      ]
     },
     "execution_count": 66,
     "metadata": {},
     "output_type": "execute_result"
    }
   ],
   "source": [
    "exp.run_id"
   ]
  },
  {
   "cell_type": "markdown",
   "id": "61056655-7f66-480e-ba54-ae15216c425d",
   "metadata": {},
   "source": [
    "#### Hyperparameter optimizations"
   ]
  },
  {
   "cell_type": "code",
   "execution_count": 59,
   "id": "8a0b520f-f5ab-4e80-8346-35d01d4085bc",
   "metadata": {
    "collapsed": true,
    "jupyter": {
     "outputs_hidden": true
    },
    "tags": []
   },
   "outputs": [
    {
     "name": "stderr",
     "output_type": "stream",
     "text": [
      "COMET WARNING: As you are running in a Jupyter environment, you will need to call `experiment.end()` when finished to ensure all metrics and code are logged before exiting.\n",
      "COMET INFO: Experiment is live on comet.ml https://www.comet.ml/wwydmanski/hypernetwork/2f2240ba58c34d798b713d7a10cca508\n",
      "\n",
      "  4%|█████▊                                                                                                                                           | 6/150 [02:30<1:00:08, 25.06s/it, loss=0.533, test_acc=73.4]\n"
     ]
    },
    {
     "ename": "KeyboardInterrupt",
     "evalue": "",
     "output_type": "error",
     "traceback": [
      "\u001b[0;31m---------------------------------------------------------------------------\u001b[0m",
      "\u001b[0;31mKeyboardInterrupt\u001b[0m                         Traceback (most recent call last)",
      "\u001b[0;32m/tmp/ipykernel_2376274/3608060521.py\u001b[0m in \u001b[0;36m<module>\u001b[0;34m\u001b[0m\n\u001b[1;32m      2\u001b[0m \u001b[0;34m\u001b[0m\u001b[0m\n\u001b[1;32m      3\u001b[0m \u001b[0mhypernet\u001b[0m \u001b[0;34m=\u001b[0m \u001b[0mnetwork_fn\u001b[0m\u001b[0;34m(\u001b[0m\u001b[0;36m1500\u001b[0m\u001b[0;34m,\u001b[0m \u001b[0;36m5\u001b[0m\u001b[0;34m,\u001b[0m \u001b[0;36m50\u001b[0m\u001b[0;34m)\u001b[0m\u001b[0;34m(\u001b[0m\u001b[0;34m)\u001b[0m\u001b[0;34m\u001b[0m\u001b[0;34m\u001b[0m\u001b[0m\n\u001b[0;32m----> 4\u001b[0;31m train_carthesian(hypernet.network,\n\u001b[0m\u001b[1;32m      5\u001b[0m                 \u001b[0mhypernet\u001b[0m\u001b[0;34m.\u001b[0m\u001b[0moptimizer\u001b[0m\u001b[0;34m,\u001b[0m\u001b[0;34m\u001b[0m\u001b[0;34m\u001b[0m\u001b[0m\n\u001b[1;32m      6\u001b[0m                 \u001b[0mhypernet\u001b[0m\u001b[0;34m.\u001b[0m\u001b[0mcriterion\u001b[0m\u001b[0;34m,\u001b[0m\u001b[0;34m\u001b[0m\u001b[0;34m\u001b[0m\u001b[0m\n",
      "\u001b[0;32m~/projects/hypernet-cnn/hypernet/tabular_hypernet/training_utils.py\u001b[0m in \u001b[0;36mtrain_carthesian\u001b[0;34m(hypernet, optimizer, criterion, loaders, data_size, epochs, masks_no, tag, device, test_every)\u001b[0m\n\u001b[1;32m    358\u001b[0m                     \u001b[0moptimizer\u001b[0m\u001b[0;34m.\u001b[0m\u001b[0mzero_grad\u001b[0m\u001b[0;34m(\u001b[0m\u001b[0;34m)\u001b[0m\u001b[0;34m\u001b[0m\u001b[0;34m\u001b[0m\u001b[0m\n\u001b[1;32m    359\u001b[0m \u001b[0;34m\u001b[0m\u001b[0m\n\u001b[0;32m--> 360\u001b[0;31m                     \u001b[0moutputs\u001b[0m \u001b[0;34m=\u001b[0m \u001b[0mhypernet\u001b[0m\u001b[0;34m(\u001b[0m\u001b[0minputs\u001b[0m\u001b[0;34m,\u001b[0m \u001b[0mmasks\u001b[0m\u001b[0;34m)\u001b[0m\u001b[0;34m\u001b[0m\u001b[0;34m\u001b[0m\u001b[0m\n\u001b[0m\u001b[1;32m    361\u001b[0m                     \u001b[0mloss\u001b[0m \u001b[0;34m=\u001b[0m \u001b[0mcriterion\u001b[0m\u001b[0;34m(\u001b[0m\u001b[0moutputs\u001b[0m\u001b[0;34m,\u001b[0m \u001b[0mlabels\u001b[0m\u001b[0;34m)\u001b[0m\u001b[0;34m\u001b[0m\u001b[0;34m\u001b[0m\u001b[0m\n\u001b[1;32m    362\u001b[0m                     \u001b[0mloss\u001b[0m\u001b[0;34m.\u001b[0m\u001b[0mbackward\u001b[0m\u001b[0;34m(\u001b[0m\u001b[0;34m)\u001b[0m\u001b[0;34m\u001b[0m\u001b[0;34m\u001b[0m\u001b[0m\n",
      "\u001b[0;32m~/.conda/envs/img_processing/lib/python3.8/site-packages/torch/nn/modules/module.py\u001b[0m in \u001b[0;36m_call_impl\u001b[0;34m(self, *input, **kwargs)\u001b[0m\n\u001b[1;32m   1100\u001b[0m         if not (self._backward_hooks or self._forward_hooks or self._forward_pre_hooks or _global_backward_hooks\n\u001b[1;32m   1101\u001b[0m                 or _global_forward_hooks or _global_forward_pre_hooks):\n\u001b[0;32m-> 1102\u001b[0;31m             \u001b[0;32mreturn\u001b[0m \u001b[0mforward_call\u001b[0m\u001b[0;34m(\u001b[0m\u001b[0;34m*\u001b[0m\u001b[0minput\u001b[0m\u001b[0;34m,\u001b[0m \u001b[0;34m**\u001b[0m\u001b[0mkwargs\u001b[0m\u001b[0;34m)\u001b[0m\u001b[0;34m\u001b[0m\u001b[0;34m\u001b[0m\u001b[0m\n\u001b[0m\u001b[1;32m   1103\u001b[0m         \u001b[0;31m# Do not call functions when jit is used\u001b[0m\u001b[0;34m\u001b[0m\u001b[0;34m\u001b[0m\u001b[0;34m\u001b[0m\u001b[0m\n\u001b[1;32m   1104\u001b[0m         \u001b[0mfull_backward_hooks\u001b[0m\u001b[0;34m,\u001b[0m \u001b[0mnon_full_backward_hooks\u001b[0m \u001b[0;34m=\u001b[0m \u001b[0;34m[\u001b[0m\u001b[0;34m]\u001b[0m\u001b[0;34m,\u001b[0m \u001b[0;34m[\u001b[0m\u001b[0;34m]\u001b[0m\u001b[0;34m\u001b[0m\u001b[0;34m\u001b[0m\u001b[0m\n",
      "\u001b[0;32m~/projects/hypernet-cnn/hypernet/tabular_hypernet/hypernetwork.py\u001b[0m in \u001b[0;36mforward\u001b[0;34m(self, data, mask)\u001b[0m\n\u001b[1;32m    119\u001b[0m             \u001b[0mself\u001b[0m\u001b[0;34m.\u001b[0m\u001b[0m_retrained\u001b[0m \u001b[0;34m=\u001b[0m \u001b[0;32mTrue\u001b[0m\u001b[0;34m\u001b[0m\u001b[0;34m\u001b[0m\u001b[0m\n\u001b[1;32m    120\u001b[0m             \u001b[0;32mif\u001b[0m \u001b[0mself\u001b[0m\u001b[0;34m.\u001b[0m\u001b[0mmode\u001b[0m \u001b[0;34m==\u001b[0m \u001b[0mTrainingModes\u001b[0m\u001b[0;34m.\u001b[0m\u001b[0mSLOW_STEP\u001b[0m \u001b[0;32mor\u001b[0m \u001b[0mself\u001b[0m\u001b[0;34m.\u001b[0m\u001b[0mmode\u001b[0m \u001b[0;34m==\u001b[0m \u001b[0mTrainingModes\u001b[0m\u001b[0;34m.\u001b[0m\u001b[0mCARTHESIAN\u001b[0m\u001b[0;34m:\u001b[0m\u001b[0;34m\u001b[0m\u001b[0;34m\u001b[0m\u001b[0m\n\u001b[0;32m--> 121\u001b[0;31m                 \u001b[0;32mreturn\u001b[0m \u001b[0mself\u001b[0m\u001b[0;34m.\u001b[0m\u001b[0m_slow_step_training\u001b[0m\u001b[0;34m(\u001b[0m\u001b[0mdata\u001b[0m\u001b[0;34m,\u001b[0m \u001b[0mmask\u001b[0m\u001b[0;34m)\u001b[0m\u001b[0;34m\u001b[0m\u001b[0;34m\u001b[0m\u001b[0m\n\u001b[0m\u001b[1;32m    122\u001b[0m \u001b[0;34m\u001b[0m\u001b[0m\n\u001b[1;32m    123\u001b[0m             \u001b[0;32mif\u001b[0m \u001b[0mmask\u001b[0m \u001b[0;32mis\u001b[0m \u001b[0;32mNone\u001b[0m\u001b[0;34m:\u001b[0m\u001b[0;34m\u001b[0m\u001b[0;34m\u001b[0m\u001b[0m\n",
      "\u001b[0;32m~/projects/hypernet-cnn/hypernet/tabular_hypernet/hypernetwork.py\u001b[0m in \u001b[0;36m_slow_step_training\u001b[0;34m(self, data, mask)\u001b[0m\n\u001b[1;32m     82\u001b[0m \u001b[0;34m\u001b[0m\u001b[0m\n\u001b[1;32m     83\u001b[0m         \u001b[0mmasked_data\u001b[0m \u001b[0;34m=\u001b[0m \u001b[0mdata\u001b[0m\u001b[0;34m[\u001b[0m\u001b[0;34m:\u001b[0m\u001b[0;34m,\u001b[0m \u001b[0mmask\u001b[0m\u001b[0;34m]\u001b[0m\u001b[0;34m\u001b[0m\u001b[0;34m\u001b[0m\u001b[0m\n\u001b[0;32m---> 84\u001b[0;31m         \u001b[0mres\u001b[0m \u001b[0;34m=\u001b[0m \u001b[0mnn\u001b[0m\u001b[0;34m(\u001b[0m\u001b[0mmasked_data\u001b[0m\u001b[0;34m)\u001b[0m\u001b[0;34m\u001b[0m\u001b[0;34m\u001b[0m\u001b[0m\n\u001b[0m\u001b[1;32m     85\u001b[0m         \u001b[0;32mreturn\u001b[0m \u001b[0mres\u001b[0m\u001b[0;34m\u001b[0m\u001b[0;34m\u001b[0m\u001b[0m\n\u001b[1;32m     86\u001b[0m \u001b[0;34m\u001b[0m\u001b[0m\n",
      "\u001b[0;32m~/.conda/envs/img_processing/lib/python3.8/site-packages/torch/nn/modules/module.py\u001b[0m in \u001b[0;36m_call_impl\u001b[0;34m(self, *input, **kwargs)\u001b[0m\n\u001b[1;32m   1100\u001b[0m         if not (self._backward_hooks or self._forward_hooks or self._forward_pre_hooks or _global_backward_hooks\n\u001b[1;32m   1101\u001b[0m                 or _global_forward_hooks or _global_forward_pre_hooks):\n\u001b[0;32m-> 1102\u001b[0;31m             \u001b[0;32mreturn\u001b[0m \u001b[0mforward_call\u001b[0m\u001b[0;34m(\u001b[0m\u001b[0;34m*\u001b[0m\u001b[0minput\u001b[0m\u001b[0;34m,\u001b[0m \u001b[0;34m**\u001b[0m\u001b[0mkwargs\u001b[0m\u001b[0;34m)\u001b[0m\u001b[0;34m\u001b[0m\u001b[0;34m\u001b[0m\u001b[0m\n\u001b[0m\u001b[1;32m   1103\u001b[0m         \u001b[0;31m# Do not call functions when jit is used\u001b[0m\u001b[0;34m\u001b[0m\u001b[0;34m\u001b[0m\u001b[0;34m\u001b[0m\u001b[0m\n\u001b[1;32m   1104\u001b[0m         \u001b[0mfull_backward_hooks\u001b[0m\u001b[0;34m,\u001b[0m \u001b[0mnon_full_backward_hooks\u001b[0m \u001b[0;34m=\u001b[0m \u001b[0;34m[\u001b[0m\u001b[0;34m]\u001b[0m\u001b[0;34m,\u001b[0m \u001b[0;34m[\u001b[0m\u001b[0;34m]\u001b[0m\u001b[0;34m\u001b[0m\u001b[0;34m\u001b[0m\u001b[0m\n",
      "\u001b[0;32m~/projects/hypernet-cnn/hypernet/tabular_hypernet/modules.py\u001b[0m in \u001b[0;36mforward\u001b[0;34m(self, data)\u001b[0m\n\u001b[1;32m     67\u001b[0m \u001b[0;34m\u001b[0m\u001b[0m\n\u001b[1;32m     68\u001b[0m     \u001b[0;32mdef\u001b[0m \u001b[0mforward\u001b[0m\u001b[0;34m(\u001b[0m\u001b[0mself\u001b[0m\u001b[0;34m,\u001b[0m \u001b[0mdata\u001b[0m\u001b[0;34m)\u001b[0m\u001b[0;34m:\u001b[0m\u001b[0;34m\u001b[0m\u001b[0;34m\u001b[0m\u001b[0m\n\u001b[0;32m---> 69\u001b[0;31m         \u001b[0mout\u001b[0m \u001b[0;34m=\u001b[0m \u001b[0mF\u001b[0m\u001b[0;34m.\u001b[0m\u001b[0mlinear\u001b[0m\u001b[0;34m(\u001b[0m\u001b[0mdata\u001b[0m\u001b[0;34m,\u001b[0m \u001b[0mself\u001b[0m\u001b[0;34m.\u001b[0m\u001b[0minp_weights\u001b[0m\u001b[0;34m,\u001b[0m \u001b[0mself\u001b[0m\u001b[0;34m.\u001b[0m\u001b[0minp_bias\u001b[0m\u001b[0;34m)\u001b[0m\u001b[0;34m\u001b[0m\u001b[0;34m\u001b[0m\u001b[0m\n\u001b[0m\u001b[1;32m     70\u001b[0m         \u001b[0mout\u001b[0m \u001b[0;34m=\u001b[0m \u001b[0mself\u001b[0m\u001b[0;34m.\u001b[0m\u001b[0mrelu\u001b[0m\u001b[0;34m(\u001b[0m\u001b[0mout\u001b[0m\u001b[0;34m)\u001b[0m\u001b[0;34m\u001b[0m\u001b[0;34m\u001b[0m\u001b[0m\n\u001b[1;32m     71\u001b[0m         \u001b[0mout\u001b[0m \u001b[0;34m=\u001b[0m \u001b[0mF\u001b[0m\u001b[0;34m.\u001b[0m\u001b[0mlinear\u001b[0m\u001b[0;34m(\u001b[0m\u001b[0mout\u001b[0m\u001b[0;34m,\u001b[0m \u001b[0mself\u001b[0m\u001b[0;34m.\u001b[0m\u001b[0moutput_weights\u001b[0m\u001b[0;34m,\u001b[0m \u001b[0mself\u001b[0m\u001b[0;34m.\u001b[0m\u001b[0moutput_bias\u001b[0m\u001b[0;34m)\u001b[0m\u001b[0;34m\u001b[0m\u001b[0;34m\u001b[0m\u001b[0m\n",
      "\u001b[0;32m~/.conda/envs/img_processing/lib/python3.8/site-packages/torch/nn/functional.py\u001b[0m in \u001b[0;36mlinear\u001b[0;34m(input, weight, bias)\u001b[0m\n\u001b[1;32m   1846\u001b[0m     \u001b[0;32mif\u001b[0m \u001b[0mhas_torch_function_variadic\u001b[0m\u001b[0;34m(\u001b[0m\u001b[0minput\u001b[0m\u001b[0;34m,\u001b[0m \u001b[0mweight\u001b[0m\u001b[0;34m,\u001b[0m \u001b[0mbias\u001b[0m\u001b[0;34m)\u001b[0m\u001b[0;34m:\u001b[0m\u001b[0;34m\u001b[0m\u001b[0;34m\u001b[0m\u001b[0m\n\u001b[1;32m   1847\u001b[0m         \u001b[0;32mreturn\u001b[0m \u001b[0mhandle_torch_function\u001b[0m\u001b[0;34m(\u001b[0m\u001b[0mlinear\u001b[0m\u001b[0;34m,\u001b[0m \u001b[0;34m(\u001b[0m\u001b[0minput\u001b[0m\u001b[0;34m,\u001b[0m \u001b[0mweight\u001b[0m\u001b[0;34m,\u001b[0m \u001b[0mbias\u001b[0m\u001b[0;34m)\u001b[0m\u001b[0;34m,\u001b[0m \u001b[0minput\u001b[0m\u001b[0;34m,\u001b[0m \u001b[0mweight\u001b[0m\u001b[0;34m,\u001b[0m \u001b[0mbias\u001b[0m\u001b[0;34m=\u001b[0m\u001b[0mbias\u001b[0m\u001b[0;34m)\u001b[0m\u001b[0;34m\u001b[0m\u001b[0;34m\u001b[0m\u001b[0m\n\u001b[0;32m-> 1848\u001b[0;31m     \u001b[0;32mreturn\u001b[0m \u001b[0mtorch\u001b[0m\u001b[0;34m.\u001b[0m\u001b[0m_C\u001b[0m\u001b[0;34m.\u001b[0m\u001b[0m_nn\u001b[0m\u001b[0;34m.\u001b[0m\u001b[0mlinear\u001b[0m\u001b[0;34m(\u001b[0m\u001b[0minput\u001b[0m\u001b[0;34m,\u001b[0m \u001b[0mweight\u001b[0m\u001b[0;34m,\u001b[0m \u001b[0mbias\u001b[0m\u001b[0;34m)\u001b[0m\u001b[0;34m\u001b[0m\u001b[0;34m\u001b[0m\u001b[0m\n\u001b[0m\u001b[1;32m   1849\u001b[0m \u001b[0;34m\u001b[0m\u001b[0m\n\u001b[1;32m   1850\u001b[0m \u001b[0;34m\u001b[0m\u001b[0m\n",
      "\u001b[0;31mKeyboardInterrupt\u001b[0m: "
     ]
    }
   ],
   "source": [
    "X_train, X_test, y_train, y_test = prepare_data(X, y)\n",
    "\n",
    "hypernet = network_fn(150, 5, 50)()\n",
    "train_carthesian(hypernet.network,\n",
    "                hypernet.optimizer,\n",
    "                hypernet.criterion,\n",
    "                (get_dataloader(X_train, y_train, batch_size=batch_size),\n",
    "                 get_dataloader(X_test, y_test, batch_size=64)),\n",
    "                X_train.shape[0],\n",
    "                150,\n",
    "                50,\n",
    "                \"carthesian-blastchar\", device=DEVICE, test_every=5)"
   ]
  },
  {
   "cell_type": "code",
   "execution_count": 31,
   "id": "32c40e84-3b71-4f69-ab3c-6def7b59b19e",
   "metadata": {},
   "outputs": [
    {
     "data": {
      "text/plain": [
       "0.740488358886996"
      ]
     },
     "execution_count": 31,
     "metadata": {},
     "output_type": "execute_result"
    }
   ],
   "source": [
    "(y_pred==y_test.numpy()).mean()"
   ]
  },
  {
   "cell_type": "code",
   "execution_count": 30,
   "id": "2d14ceb3-18e7-405e-8bd7-edeb55c84f53",
   "metadata": {
    "collapsed": true,
    "jupyter": {
     "outputs_hidden": true
    },
    "tags": []
   },
   "outputs": [
    {
     "name": "stderr",
     "output_type": "stream",
     "text": [
      "COMET WARNING: As you are running in a Jupyter environment, you will need to call `experiment.end()` when finished to ensure all metrics and code are logged before exiting.\n",
      "COMET INFO: Experiment is live on comet.ml https://www.comet.ml/wwydmanski/blastchar-hypernet/3edb7f6be6b04865ba9197e471dc32a6\n",
      "\n",
      "COMET INFO: ---------------------------\n",
      "COMET INFO: Comet.ml Experiment Summary\n",
      "COMET INFO: ---------------------------\n",
      "COMET INFO:   Data:\n",
      "COMET INFO:     display_summary_level : 1\n",
      "COMET INFO:     url                   : https://www.comet.ml/wwydmanski/blastchar-hypernet/3edb7f6be6b04865ba9197e471dc32a6\n",
      "COMET INFO:   Parameters:\n",
      "COMET INFO:     batch_size : 32\n",
      "COMET INFO:   Uploads:\n",
      "COMET INFO:     environment details      : 1\n",
      "COMET INFO:     filename                 : 1\n",
      "COMET INFO:     git metadata             : 1\n",
      "COMET INFO:     git-patch (uncompressed) : 1 (856.46 KB)\n",
      "COMET INFO:     installed packages       : 1\n",
      "COMET INFO:     notebook                 : 1\n",
      "COMET INFO:     os packages              : 1\n",
      "COMET INFO:     source_code              : 1\n",
      "COMET INFO: ---------------------------\n",
      "COMET WARNING: As you are running in a Jupyter environment, you will need to call `experiment.end()` when finished to ensure all metrics and code are logged before exiting.\n"
     ]
    },
    {
     "ename": "KeyboardInterrupt",
     "evalue": "",
     "output_type": "error",
     "traceback": [
      "\u001b[0;31m---------------------------------------------------------------------------\u001b[0m",
      "\u001b[0;31mKeyboardInterrupt\u001b[0m                         Traceback (most recent call last)",
      "\u001b[0;32m/tmp/ipykernel_1990566/3505450139.py\u001b[0m in \u001b[0;36m<module>\u001b[0;34m\u001b[0m\n\u001b[1;32m     13\u001b[0m \u001b[0;34m\u001b[0m\u001b[0m\n\u001b[1;32m     14\u001b[0m \u001b[0mhypernet\u001b[0m \u001b[0;34m=\u001b[0m \u001b[0mnetwork_fn\u001b[0m\u001b[0;34m(\u001b[0m\u001b[0mbatch_size\u001b[0m\u001b[0;34m,\u001b[0m \u001b[0;36m5\u001b[0m\u001b[0;34m,\u001b[0m \u001b[0;36m50\u001b[0m\u001b[0;34m)\u001b[0m\u001b[0;34m(\u001b[0m\u001b[0;34m)\u001b[0m\u001b[0;34m\u001b[0m\u001b[0;34m\u001b[0m\u001b[0m\n\u001b[0;32m---> 15\u001b[0;31m train_carthesian(hypernet.network,\n\u001b[0m\u001b[1;32m     16\u001b[0m                 \u001b[0mhypernet\u001b[0m\u001b[0;34m.\u001b[0m\u001b[0moptimizer\u001b[0m\u001b[0;34m,\u001b[0m\u001b[0;34m\u001b[0m\u001b[0;34m\u001b[0m\u001b[0m\n\u001b[1;32m     17\u001b[0m                 \u001b[0mhypernet\u001b[0m\u001b[0;34m.\u001b[0m\u001b[0mcriterion\u001b[0m\u001b[0;34m,\u001b[0m\u001b[0;34m\u001b[0m\u001b[0;34m\u001b[0m\u001b[0m\n",
      "\u001b[0;32m~/projects/hypernet-cnn/hypernet/tabular_hypernet/training_utils.py\u001b[0m in \u001b[0;36mtrain_carthesian\u001b[0;34m(hypernet, optimizer, criterion, loaders, data_size, epochs, masks_no, tag, device, test_every)\u001b[0m\n\u001b[1;32m    319\u001b[0m         \u001b[0;32mreturn\u001b[0m \u001b[0mself\u001b[0m\u001b[0;34m.\u001b[0m\u001b[0mdata_x\u001b[0m\u001b[0;34m.\u001b[0m\u001b[0mshape\u001b[0m\u001b[0;34m[\u001b[0m\u001b[0;36m0\u001b[0m\u001b[0;34m]\u001b[0m\u001b[0;34m\u001b[0m\u001b[0;34m\u001b[0m\u001b[0m\n\u001b[1;32m    320\u001b[0m \u001b[0;34m\u001b[0m\u001b[0m\n\u001b[0;32m--> 321\u001b[0;31m \u001b[0;32mdef\u001b[0m \u001b[0mget_dataloader\u001b[0m\u001b[0;34m(\u001b[0m\u001b[0mX\u001b[0m\u001b[0;34m,\u001b[0m \u001b[0my\u001b[0m\u001b[0;34m,\u001b[0m \u001b[0msize\u001b[0m\u001b[0;34m=\u001b[0m\u001b[0;32mNone\u001b[0m\u001b[0;34m,\u001b[0m \u001b[0mbatch_size\u001b[0m\u001b[0;34m=\u001b[0m\u001b[0;36m32\u001b[0m\u001b[0;34m)\u001b[0m\u001b[0;34m:\u001b[0m\u001b[0;34m\u001b[0m\u001b[0;34m\u001b[0m\u001b[0m\n\u001b[0m\u001b[1;32m    322\u001b[0m     \u001b[0mtrain_dataset\u001b[0m \u001b[0;34m=\u001b[0m \u001b[0mGenericDataset\u001b[0m\u001b[0;34m(\u001b[0m\u001b[0;34m(\u001b[0m\u001b[0mX\u001b[0m\u001b[0;34m,\u001b[0m \u001b[0my\u001b[0m\u001b[0;34m)\u001b[0m\u001b[0;34m,\u001b[0m \u001b[0msize\u001b[0m\u001b[0;34m)\u001b[0m\u001b[0;34m\u001b[0m\u001b[0;34m\u001b[0m\u001b[0m\n\u001b[1;32m    323\u001b[0m     \u001b[0mtrainloader\u001b[0m \u001b[0;34m=\u001b[0m \u001b[0mtorch\u001b[0m\u001b[0;34m.\u001b[0m\u001b[0mutils\u001b[0m\u001b[0;34m.\u001b[0m\u001b[0mdata\u001b[0m\u001b[0;34m.\u001b[0m\u001b[0mDataLoader\u001b[0m\u001b[0;34m(\u001b[0m\u001b[0mtrain_dataset\u001b[0m\u001b[0;34m,\u001b[0m \u001b[0mbatch_size\u001b[0m\u001b[0;34m=\u001b[0m\u001b[0mbatch_size\u001b[0m\u001b[0;34m,\u001b[0m \u001b[0mnum_workers\u001b[0m\u001b[0;34m=\u001b[0m\u001b[0;36m1\u001b[0m\u001b[0;34m)\u001b[0m\u001b[0;34m\u001b[0m\u001b[0;34m\u001b[0m\u001b[0m\n",
      "\u001b[0;32m~/.conda/envs/img_processing/lib/python3.8/site-packages/comet_ml/__init__.py\u001b[0m in \u001b[0;36m__init__\u001b[0;34m(self, api_key, project_name, workspace, log_code, log_graph, auto_param_logging, auto_metric_logging, parse_args, auto_output_logging, log_env_details, log_git_metadata, log_git_patch, disabled, log_env_gpu, log_env_host, display_summary, log_env_cpu, display_summary_level, optimizer_data, auto_weight_logging, auto_log_co2, auto_metric_step_rate, auto_histogram_tensorboard_logging, auto_histogram_epoch_rate, auto_histogram_weight_logging, auto_histogram_gradient_logging, auto_histogram_activation_logging)\u001b[0m\n\u001b[1;32m    300\u001b[0m \u001b[0;34m\u001b[0m\u001b[0m\n\u001b[1;32m    301\u001b[0m         \u001b[0;32mif\u001b[0m \u001b[0mself\u001b[0m\u001b[0;34m.\u001b[0m\u001b[0mdisabled\u001b[0m \u001b[0;32mis\u001b[0m \u001b[0;32mnot\u001b[0m \u001b[0;32mTrue\u001b[0m\u001b[0;34m:\u001b[0m\u001b[0;34m\u001b[0m\u001b[0;34m\u001b[0m\u001b[0m\n\u001b[0;32m--> 302\u001b[0;31m             \u001b[0mself\u001b[0m\u001b[0;34m.\u001b[0m\u001b[0m_start\u001b[0m\u001b[0;34m(\u001b[0m\u001b[0;34m)\u001b[0m\u001b[0;34m\u001b[0m\u001b[0;34m\u001b[0m\u001b[0m\n\u001b[0m\u001b[1;32m    303\u001b[0m \u001b[0;34m\u001b[0m\u001b[0m\n\u001b[1;32m    304\u001b[0m             \u001b[0;32mif\u001b[0m \u001b[0mself\u001b[0m\u001b[0;34m.\u001b[0m\u001b[0malive\u001b[0m \u001b[0;32mis\u001b[0m \u001b[0;32mTrue\u001b[0m\u001b[0;34m:\u001b[0m\u001b[0;34m\u001b[0m\u001b[0;34m\u001b[0m\u001b[0m\n",
      "\u001b[0;32m~/.conda/envs/img_processing/lib/python3.8/site-packages/comet_ml/experiment.py\u001b[0m in \u001b[0;36m_start\u001b[0;34m(self, log_initial_data_asynchronously)\u001b[0m\n\u001b[1;32m    934\u001b[0m \u001b[0;34m\u001b[0m\u001b[0m\n\u001b[1;32m    935\u001b[0m             \u001b[0;32mtry\u001b[0m\u001b[0;34m:\u001b[0m\u001b[0;34m\u001b[0m\u001b[0;34m\u001b[0m\u001b[0m\n\u001b[0;32m--> 936\u001b[0;31m                 \u001b[0mself\u001b[0m\u001b[0;34m.\u001b[0m\u001b[0m_log_cloud_details\u001b[0m\u001b[0;34m(\u001b[0m\u001b[0;34m)\u001b[0m\u001b[0;34m\u001b[0m\u001b[0;34m\u001b[0m\u001b[0m\n\u001b[0m\u001b[1;32m    937\u001b[0m             \u001b[0;32mexcept\u001b[0m \u001b[0mException\u001b[0m\u001b[0;34m:\u001b[0m\u001b[0;34m\u001b[0m\u001b[0;34m\u001b[0m\u001b[0m\n\u001b[1;32m    938\u001b[0m                 \u001b[0mLOGGER\u001b[0m\u001b[0;34m.\u001b[0m\u001b[0merror\u001b[0m\u001b[0;34m(\u001b[0m\u001b[0;34m\"Failed to log cloud details\"\u001b[0m\u001b[0;34m,\u001b[0m \u001b[0mexc_info\u001b[0m\u001b[0;34m=\u001b[0m\u001b[0;32mTrue\u001b[0m\u001b[0;34m)\u001b[0m\u001b[0;34m\u001b[0m\u001b[0;34m\u001b[0m\u001b[0m\n",
      "\u001b[0;32m~/.conda/envs/img_processing/lib/python3.8/site-packages/comet_ml/experiment.py\u001b[0m in \u001b[0;36m_log_cloud_details\u001b[0;34m(self)\u001b[0m\n\u001b[1;32m   4226\u001b[0m         \u001b[0;32mif\u001b[0m \u001b[0mself\u001b[0m\u001b[0;34m.\u001b[0m\u001b[0malive\u001b[0m\u001b[0;34m:\u001b[0m\u001b[0;34m\u001b[0m\u001b[0;34m\u001b[0m\u001b[0m\n\u001b[1;32m   4227\u001b[0m             \u001b[0;32mif\u001b[0m \u001b[0mself\u001b[0m\u001b[0;34m.\u001b[0m\u001b[0mconfig\u001b[0m\u001b[0;34m[\u001b[0m\u001b[0;34m\"comet.override_feature.use_http_messages\"\u001b[0m\u001b[0;34m]\u001b[0m\u001b[0;34m:\u001b[0m\u001b[0;34m\u001b[0m\u001b[0;34m\u001b[0m\u001b[0m\n\u001b[0;32m-> 4228\u001b[0;31m                 \u001b[0mcloud_details\u001b[0m \u001b[0;34m=\u001b[0m \u001b[0mget_env_cloud_details\u001b[0m\u001b[0;34m(\u001b[0m\u001b[0;34m)\u001b[0m\u001b[0;34m\u001b[0m\u001b[0;34m\u001b[0m\u001b[0m\n\u001b[0m\u001b[1;32m   4229\u001b[0m                 \u001b[0;32mif\u001b[0m \u001b[0mcloud_details\u001b[0m\u001b[0;34m:\u001b[0m\u001b[0;34m\u001b[0m\u001b[0;34m\u001b[0m\u001b[0m\n\u001b[1;32m   4230\u001b[0m                     message = CloudDetailsMessage(\n",
      "\u001b[0;32m~/.conda/envs/img_processing/lib/python3.8/site-packages/comet_ml/env_logging.py\u001b[0m in \u001b[0;36mget_env_cloud_details\u001b[0;34m(timeout)\u001b[0m\n\u001b[1;32m    315\u001b[0m         \u001b[0;32mtry\u001b[0m\u001b[0;34m:\u001b[0m\u001b[0;34m\u001b[0m\u001b[0;34m\u001b[0m\u001b[0m\n\u001b[1;32m    316\u001b[0m             \u001b[0mparams\u001b[0m \u001b[0;34m=\u001b[0m \u001b[0mCLOUD_METADATA_MAPPING\u001b[0m\u001b[0;34m[\u001b[0m\u001b[0mprovider\u001b[0m\u001b[0;34m]\u001b[0m\u001b[0;34m\u001b[0m\u001b[0;34m\u001b[0m\u001b[0m\n\u001b[0;32m--> 317\u001b[0;31m             response = requests.get(\n\u001b[0m\u001b[1;32m    318\u001b[0m                 \u001b[0mparams\u001b[0m\u001b[0;34m[\u001b[0m\u001b[0;34m\"url\"\u001b[0m\u001b[0;34m]\u001b[0m\u001b[0;34m,\u001b[0m \u001b[0mheaders\u001b[0m\u001b[0;34m=\u001b[0m\u001b[0mparams\u001b[0m\u001b[0;34m[\u001b[0m\u001b[0;34m\"headers\"\u001b[0m\u001b[0;34m]\u001b[0m\u001b[0;34m,\u001b[0m \u001b[0mtimeout\u001b[0m\u001b[0;34m=\u001b[0m\u001b[0mtimeout\u001b[0m\u001b[0;34m\u001b[0m\u001b[0;34m\u001b[0m\u001b[0m\n\u001b[1;32m    319\u001b[0m             )\n",
      "\u001b[0;32m~/.conda/envs/img_processing/lib/python3.8/site-packages/requests/api.py\u001b[0m in \u001b[0;36mget\u001b[0;34m(url, params, **kwargs)\u001b[0m\n\u001b[1;32m     73\u001b[0m     \"\"\"\n\u001b[1;32m     74\u001b[0m \u001b[0;34m\u001b[0m\u001b[0m\n\u001b[0;32m---> 75\u001b[0;31m     \u001b[0;32mreturn\u001b[0m \u001b[0mrequest\u001b[0m\u001b[0;34m(\u001b[0m\u001b[0;34m'get'\u001b[0m\u001b[0;34m,\u001b[0m \u001b[0murl\u001b[0m\u001b[0;34m,\u001b[0m \u001b[0mparams\u001b[0m\u001b[0;34m=\u001b[0m\u001b[0mparams\u001b[0m\u001b[0;34m,\u001b[0m \u001b[0;34m**\u001b[0m\u001b[0mkwargs\u001b[0m\u001b[0;34m)\u001b[0m\u001b[0;34m\u001b[0m\u001b[0;34m\u001b[0m\u001b[0m\n\u001b[0m\u001b[1;32m     76\u001b[0m \u001b[0;34m\u001b[0m\u001b[0m\n\u001b[1;32m     77\u001b[0m \u001b[0;34m\u001b[0m\u001b[0m\n",
      "\u001b[0;32m~/.conda/envs/img_processing/lib/python3.8/site-packages/requests/api.py\u001b[0m in \u001b[0;36mrequest\u001b[0;34m(method, url, **kwargs)\u001b[0m\n\u001b[1;32m     59\u001b[0m     \u001b[0;31m# cases, and look like a memory leak in others.\u001b[0m\u001b[0;34m\u001b[0m\u001b[0;34m\u001b[0m\u001b[0;34m\u001b[0m\u001b[0m\n\u001b[1;32m     60\u001b[0m     \u001b[0;32mwith\u001b[0m \u001b[0msessions\u001b[0m\u001b[0;34m.\u001b[0m\u001b[0mSession\u001b[0m\u001b[0;34m(\u001b[0m\u001b[0;34m)\u001b[0m \u001b[0;32mas\u001b[0m \u001b[0msession\u001b[0m\u001b[0;34m:\u001b[0m\u001b[0;34m\u001b[0m\u001b[0;34m\u001b[0m\u001b[0m\n\u001b[0;32m---> 61\u001b[0;31m         \u001b[0;32mreturn\u001b[0m \u001b[0msession\u001b[0m\u001b[0;34m.\u001b[0m\u001b[0mrequest\u001b[0m\u001b[0;34m(\u001b[0m\u001b[0mmethod\u001b[0m\u001b[0;34m=\u001b[0m\u001b[0mmethod\u001b[0m\u001b[0;34m,\u001b[0m \u001b[0murl\u001b[0m\u001b[0;34m=\u001b[0m\u001b[0murl\u001b[0m\u001b[0;34m,\u001b[0m \u001b[0;34m**\u001b[0m\u001b[0mkwargs\u001b[0m\u001b[0;34m)\u001b[0m\u001b[0;34m\u001b[0m\u001b[0;34m\u001b[0m\u001b[0m\n\u001b[0m\u001b[1;32m     62\u001b[0m \u001b[0;34m\u001b[0m\u001b[0m\n\u001b[1;32m     63\u001b[0m \u001b[0;34m\u001b[0m\u001b[0m\n",
      "\u001b[0;32m~/.conda/envs/img_processing/lib/python3.8/site-packages/requests/sessions.py\u001b[0m in \u001b[0;36mrequest\u001b[0;34m(self, method, url, params, data, headers, cookies, files, auth, timeout, allow_redirects, proxies, hooks, stream, verify, cert, json)\u001b[0m\n\u001b[1;32m    527\u001b[0m         }\n\u001b[1;32m    528\u001b[0m         \u001b[0msend_kwargs\u001b[0m\u001b[0;34m.\u001b[0m\u001b[0mupdate\u001b[0m\u001b[0;34m(\u001b[0m\u001b[0msettings\u001b[0m\u001b[0;34m)\u001b[0m\u001b[0;34m\u001b[0m\u001b[0;34m\u001b[0m\u001b[0m\n\u001b[0;32m--> 529\u001b[0;31m         \u001b[0mresp\u001b[0m \u001b[0;34m=\u001b[0m \u001b[0mself\u001b[0m\u001b[0;34m.\u001b[0m\u001b[0msend\u001b[0m\u001b[0;34m(\u001b[0m\u001b[0mprep\u001b[0m\u001b[0;34m,\u001b[0m \u001b[0;34m**\u001b[0m\u001b[0msend_kwargs\u001b[0m\u001b[0;34m)\u001b[0m\u001b[0;34m\u001b[0m\u001b[0;34m\u001b[0m\u001b[0m\n\u001b[0m\u001b[1;32m    530\u001b[0m \u001b[0;34m\u001b[0m\u001b[0m\n\u001b[1;32m    531\u001b[0m         \u001b[0;32mreturn\u001b[0m \u001b[0mresp\u001b[0m\u001b[0;34m\u001b[0m\u001b[0;34m\u001b[0m\u001b[0m\n",
      "\u001b[0;32m~/.conda/envs/img_processing/lib/python3.8/site-packages/requests/sessions.py\u001b[0m in \u001b[0;36msend\u001b[0;34m(self, request, **kwargs)\u001b[0m\n\u001b[1;32m    643\u001b[0m \u001b[0;34m\u001b[0m\u001b[0m\n\u001b[1;32m    644\u001b[0m         \u001b[0;31m# Send the request\u001b[0m\u001b[0;34m\u001b[0m\u001b[0;34m\u001b[0m\u001b[0;34m\u001b[0m\u001b[0m\n\u001b[0;32m--> 645\u001b[0;31m         \u001b[0mr\u001b[0m \u001b[0;34m=\u001b[0m \u001b[0madapter\u001b[0m\u001b[0;34m.\u001b[0m\u001b[0msend\u001b[0m\u001b[0;34m(\u001b[0m\u001b[0mrequest\u001b[0m\u001b[0;34m,\u001b[0m \u001b[0;34m**\u001b[0m\u001b[0mkwargs\u001b[0m\u001b[0;34m)\u001b[0m\u001b[0;34m\u001b[0m\u001b[0;34m\u001b[0m\u001b[0m\n\u001b[0m\u001b[1;32m    646\u001b[0m \u001b[0;34m\u001b[0m\u001b[0m\n\u001b[1;32m    647\u001b[0m         \u001b[0;31m# Total elapsed time of the request (approximately)\u001b[0m\u001b[0;34m\u001b[0m\u001b[0;34m\u001b[0m\u001b[0;34m\u001b[0m\u001b[0m\n",
      "\u001b[0;32m~/.conda/envs/img_processing/lib/python3.8/site-packages/requests/adapters.py\u001b[0m in \u001b[0;36msend\u001b[0;34m(self, request, stream, timeout, verify, cert, proxies)\u001b[0m\n\u001b[1;32m    438\u001b[0m         \u001b[0;32mtry\u001b[0m\u001b[0;34m:\u001b[0m\u001b[0;34m\u001b[0m\u001b[0;34m\u001b[0m\u001b[0m\n\u001b[1;32m    439\u001b[0m             \u001b[0;32mif\u001b[0m \u001b[0;32mnot\u001b[0m \u001b[0mchunked\u001b[0m\u001b[0;34m:\u001b[0m\u001b[0;34m\u001b[0m\u001b[0;34m\u001b[0m\u001b[0m\n\u001b[0;32m--> 440\u001b[0;31m                 resp = conn.urlopen(\n\u001b[0m\u001b[1;32m    441\u001b[0m                     \u001b[0mmethod\u001b[0m\u001b[0;34m=\u001b[0m\u001b[0mrequest\u001b[0m\u001b[0;34m.\u001b[0m\u001b[0mmethod\u001b[0m\u001b[0;34m,\u001b[0m\u001b[0;34m\u001b[0m\u001b[0;34m\u001b[0m\u001b[0m\n\u001b[1;32m    442\u001b[0m                     \u001b[0murl\u001b[0m\u001b[0;34m=\u001b[0m\u001b[0murl\u001b[0m\u001b[0;34m,\u001b[0m\u001b[0;34m\u001b[0m\u001b[0;34m\u001b[0m\u001b[0m\n",
      "\u001b[0;32m~/.conda/envs/img_processing/lib/python3.8/site-packages/urllib3/connectionpool.py\u001b[0m in \u001b[0;36murlopen\u001b[0;34m(self, method, url, body, headers, retries, redirect, assert_same_host, timeout, pool_timeout, release_conn, chunked, body_pos, **response_kw)\u001b[0m\n\u001b[1;32m    701\u001b[0m \u001b[0;34m\u001b[0m\u001b[0m\n\u001b[1;32m    702\u001b[0m             \u001b[0;31m# Make the request on the httplib connection object.\u001b[0m\u001b[0;34m\u001b[0m\u001b[0;34m\u001b[0m\u001b[0;34m\u001b[0m\u001b[0m\n\u001b[0;32m--> 703\u001b[0;31m             httplib_response = self._make_request(\n\u001b[0m\u001b[1;32m    704\u001b[0m                 \u001b[0mconn\u001b[0m\u001b[0;34m,\u001b[0m\u001b[0;34m\u001b[0m\u001b[0;34m\u001b[0m\u001b[0m\n\u001b[1;32m    705\u001b[0m                 \u001b[0mmethod\u001b[0m\u001b[0;34m,\u001b[0m\u001b[0;34m\u001b[0m\u001b[0;34m\u001b[0m\u001b[0m\n",
      "\u001b[0;32m~/.conda/envs/img_processing/lib/python3.8/site-packages/urllib3/connectionpool.py\u001b[0m in \u001b[0;36m_make_request\u001b[0;34m(self, conn, method, url, timeout, chunked, **httplib_request_kw)\u001b[0m\n\u001b[1;32m    396\u001b[0m                 \u001b[0mconn\u001b[0m\u001b[0;34m.\u001b[0m\u001b[0mrequest_chunked\u001b[0m\u001b[0;34m(\u001b[0m\u001b[0mmethod\u001b[0m\u001b[0;34m,\u001b[0m \u001b[0murl\u001b[0m\u001b[0;34m,\u001b[0m \u001b[0;34m**\u001b[0m\u001b[0mhttplib_request_kw\u001b[0m\u001b[0;34m)\u001b[0m\u001b[0;34m\u001b[0m\u001b[0;34m\u001b[0m\u001b[0m\n\u001b[1;32m    397\u001b[0m             \u001b[0;32melse\u001b[0m\u001b[0;34m:\u001b[0m\u001b[0;34m\u001b[0m\u001b[0;34m\u001b[0m\u001b[0m\n\u001b[0;32m--> 398\u001b[0;31m                 \u001b[0mconn\u001b[0m\u001b[0;34m.\u001b[0m\u001b[0mrequest\u001b[0m\u001b[0;34m(\u001b[0m\u001b[0mmethod\u001b[0m\u001b[0;34m,\u001b[0m \u001b[0murl\u001b[0m\u001b[0;34m,\u001b[0m \u001b[0;34m**\u001b[0m\u001b[0mhttplib_request_kw\u001b[0m\u001b[0;34m)\u001b[0m\u001b[0;34m\u001b[0m\u001b[0;34m\u001b[0m\u001b[0m\n\u001b[0m\u001b[1;32m    399\u001b[0m \u001b[0;34m\u001b[0m\u001b[0m\n\u001b[1;32m    400\u001b[0m         \u001b[0;31m# We are swallowing BrokenPipeError (errno.EPIPE) since the server is\u001b[0m\u001b[0;34m\u001b[0m\u001b[0;34m\u001b[0m\u001b[0;34m\u001b[0m\u001b[0m\n",
      "\u001b[0;32m~/.conda/envs/img_processing/lib/python3.8/site-packages/urllib3/connection.py\u001b[0m in \u001b[0;36mrequest\u001b[0;34m(self, method, url, body, headers)\u001b[0m\n\u001b[1;32m    237\u001b[0m         \u001b[0;32mif\u001b[0m \u001b[0;34m\"user-agent\"\u001b[0m \u001b[0;32mnot\u001b[0m \u001b[0;32min\u001b[0m \u001b[0;34m(\u001b[0m\u001b[0msix\u001b[0m\u001b[0;34m.\u001b[0m\u001b[0mensure_str\u001b[0m\u001b[0;34m(\u001b[0m\u001b[0mk\u001b[0m\u001b[0;34m.\u001b[0m\u001b[0mlower\u001b[0m\u001b[0;34m(\u001b[0m\u001b[0;34m)\u001b[0m\u001b[0;34m)\u001b[0m \u001b[0;32mfor\u001b[0m \u001b[0mk\u001b[0m \u001b[0;32min\u001b[0m \u001b[0mheaders\u001b[0m\u001b[0;34m)\u001b[0m\u001b[0;34m:\u001b[0m\u001b[0;34m\u001b[0m\u001b[0;34m\u001b[0m\u001b[0m\n\u001b[1;32m    238\u001b[0m             \u001b[0mheaders\u001b[0m\u001b[0;34m[\u001b[0m\u001b[0;34m\"User-Agent\"\u001b[0m\u001b[0;34m]\u001b[0m \u001b[0;34m=\u001b[0m \u001b[0m_get_default_user_agent\u001b[0m\u001b[0;34m(\u001b[0m\u001b[0;34m)\u001b[0m\u001b[0;34m\u001b[0m\u001b[0;34m\u001b[0m\u001b[0m\n\u001b[0;32m--> 239\u001b[0;31m         \u001b[0msuper\u001b[0m\u001b[0;34m(\u001b[0m\u001b[0mHTTPConnection\u001b[0m\u001b[0;34m,\u001b[0m \u001b[0mself\u001b[0m\u001b[0;34m)\u001b[0m\u001b[0;34m.\u001b[0m\u001b[0mrequest\u001b[0m\u001b[0;34m(\u001b[0m\u001b[0mmethod\u001b[0m\u001b[0;34m,\u001b[0m \u001b[0murl\u001b[0m\u001b[0;34m,\u001b[0m \u001b[0mbody\u001b[0m\u001b[0;34m=\u001b[0m\u001b[0mbody\u001b[0m\u001b[0;34m,\u001b[0m \u001b[0mheaders\u001b[0m\u001b[0;34m=\u001b[0m\u001b[0mheaders\u001b[0m\u001b[0;34m)\u001b[0m\u001b[0;34m\u001b[0m\u001b[0;34m\u001b[0m\u001b[0m\n\u001b[0m\u001b[1;32m    240\u001b[0m \u001b[0;34m\u001b[0m\u001b[0m\n\u001b[1;32m    241\u001b[0m     \u001b[0;32mdef\u001b[0m \u001b[0mrequest_chunked\u001b[0m\u001b[0;34m(\u001b[0m\u001b[0mself\u001b[0m\u001b[0;34m,\u001b[0m \u001b[0mmethod\u001b[0m\u001b[0;34m,\u001b[0m \u001b[0murl\u001b[0m\u001b[0;34m,\u001b[0m \u001b[0mbody\u001b[0m\u001b[0;34m=\u001b[0m\u001b[0;32mNone\u001b[0m\u001b[0;34m,\u001b[0m \u001b[0mheaders\u001b[0m\u001b[0;34m=\u001b[0m\u001b[0;32mNone\u001b[0m\u001b[0;34m)\u001b[0m\u001b[0;34m:\u001b[0m\u001b[0;34m\u001b[0m\u001b[0;34m\u001b[0m\u001b[0m\n",
      "\u001b[0;32m~/.conda/envs/img_processing/lib/python3.8/http/client.py\u001b[0m in \u001b[0;36mrequest\u001b[0;34m(self, method, url, body, headers, encode_chunked)\u001b[0m\n\u001b[1;32m   1254\u001b[0m                 encode_chunked=False):\n\u001b[1;32m   1255\u001b[0m         \u001b[0;34m\"\"\"Send a complete request to the server.\"\"\"\u001b[0m\u001b[0;34m\u001b[0m\u001b[0;34m\u001b[0m\u001b[0m\n\u001b[0;32m-> 1256\u001b[0;31m         \u001b[0mself\u001b[0m\u001b[0;34m.\u001b[0m\u001b[0m_send_request\u001b[0m\u001b[0;34m(\u001b[0m\u001b[0mmethod\u001b[0m\u001b[0;34m,\u001b[0m \u001b[0murl\u001b[0m\u001b[0;34m,\u001b[0m \u001b[0mbody\u001b[0m\u001b[0;34m,\u001b[0m \u001b[0mheaders\u001b[0m\u001b[0;34m,\u001b[0m \u001b[0mencode_chunked\u001b[0m\u001b[0;34m)\u001b[0m\u001b[0;34m\u001b[0m\u001b[0;34m\u001b[0m\u001b[0m\n\u001b[0m\u001b[1;32m   1257\u001b[0m \u001b[0;34m\u001b[0m\u001b[0m\n\u001b[1;32m   1258\u001b[0m     \u001b[0;32mdef\u001b[0m \u001b[0m_send_request\u001b[0m\u001b[0;34m(\u001b[0m\u001b[0mself\u001b[0m\u001b[0;34m,\u001b[0m \u001b[0mmethod\u001b[0m\u001b[0;34m,\u001b[0m \u001b[0murl\u001b[0m\u001b[0;34m,\u001b[0m \u001b[0mbody\u001b[0m\u001b[0;34m,\u001b[0m \u001b[0mheaders\u001b[0m\u001b[0;34m,\u001b[0m \u001b[0mencode_chunked\u001b[0m\u001b[0;34m)\u001b[0m\u001b[0;34m:\u001b[0m\u001b[0;34m\u001b[0m\u001b[0;34m\u001b[0m\u001b[0m\n",
      "\u001b[0;32m~/.conda/envs/img_processing/lib/python3.8/http/client.py\u001b[0m in \u001b[0;36m_send_request\u001b[0;34m(self, method, url, body, headers, encode_chunked)\u001b[0m\n\u001b[1;32m   1300\u001b[0m             \u001b[0;31m# default charset of iso-8859-1.\u001b[0m\u001b[0;34m\u001b[0m\u001b[0;34m\u001b[0m\u001b[0;34m\u001b[0m\u001b[0m\n\u001b[1;32m   1301\u001b[0m             \u001b[0mbody\u001b[0m \u001b[0;34m=\u001b[0m \u001b[0m_encode\u001b[0m\u001b[0;34m(\u001b[0m\u001b[0mbody\u001b[0m\u001b[0;34m,\u001b[0m \u001b[0;34m'body'\u001b[0m\u001b[0;34m)\u001b[0m\u001b[0;34m\u001b[0m\u001b[0;34m\u001b[0m\u001b[0m\n\u001b[0;32m-> 1302\u001b[0;31m         \u001b[0mself\u001b[0m\u001b[0;34m.\u001b[0m\u001b[0mendheaders\u001b[0m\u001b[0;34m(\u001b[0m\u001b[0mbody\u001b[0m\u001b[0;34m,\u001b[0m \u001b[0mencode_chunked\u001b[0m\u001b[0;34m=\u001b[0m\u001b[0mencode_chunked\u001b[0m\u001b[0;34m)\u001b[0m\u001b[0;34m\u001b[0m\u001b[0;34m\u001b[0m\u001b[0m\n\u001b[0m\u001b[1;32m   1303\u001b[0m \u001b[0;34m\u001b[0m\u001b[0m\n\u001b[1;32m   1304\u001b[0m     \u001b[0;32mdef\u001b[0m \u001b[0mgetresponse\u001b[0m\u001b[0;34m(\u001b[0m\u001b[0mself\u001b[0m\u001b[0;34m)\u001b[0m\u001b[0;34m:\u001b[0m\u001b[0;34m\u001b[0m\u001b[0;34m\u001b[0m\u001b[0m\n",
      "\u001b[0;32m~/.conda/envs/img_processing/lib/python3.8/http/client.py\u001b[0m in \u001b[0;36mendheaders\u001b[0;34m(self, message_body, encode_chunked)\u001b[0m\n\u001b[1;32m   1249\u001b[0m         \u001b[0;32melse\u001b[0m\u001b[0;34m:\u001b[0m\u001b[0;34m\u001b[0m\u001b[0;34m\u001b[0m\u001b[0m\n\u001b[1;32m   1250\u001b[0m             \u001b[0;32mraise\u001b[0m \u001b[0mCannotSendHeader\u001b[0m\u001b[0;34m(\u001b[0m\u001b[0;34m)\u001b[0m\u001b[0;34m\u001b[0m\u001b[0;34m\u001b[0m\u001b[0m\n\u001b[0;32m-> 1251\u001b[0;31m         \u001b[0mself\u001b[0m\u001b[0;34m.\u001b[0m\u001b[0m_send_output\u001b[0m\u001b[0;34m(\u001b[0m\u001b[0mmessage_body\u001b[0m\u001b[0;34m,\u001b[0m \u001b[0mencode_chunked\u001b[0m\u001b[0;34m=\u001b[0m\u001b[0mencode_chunked\u001b[0m\u001b[0;34m)\u001b[0m\u001b[0;34m\u001b[0m\u001b[0;34m\u001b[0m\u001b[0m\n\u001b[0m\u001b[1;32m   1252\u001b[0m \u001b[0;34m\u001b[0m\u001b[0m\n\u001b[1;32m   1253\u001b[0m     def request(self, method, url, body=None, headers={}, *,\n",
      "\u001b[0;32m~/.conda/envs/img_processing/lib/python3.8/http/client.py\u001b[0m in \u001b[0;36m_send_output\u001b[0;34m(self, message_body, encode_chunked)\u001b[0m\n\u001b[1;32m   1009\u001b[0m         \u001b[0mmsg\u001b[0m \u001b[0;34m=\u001b[0m \u001b[0;34mb\"\\r\\n\"\u001b[0m\u001b[0;34m.\u001b[0m\u001b[0mjoin\u001b[0m\u001b[0;34m(\u001b[0m\u001b[0mself\u001b[0m\u001b[0;34m.\u001b[0m\u001b[0m_buffer\u001b[0m\u001b[0;34m)\u001b[0m\u001b[0;34m\u001b[0m\u001b[0;34m\u001b[0m\u001b[0m\n\u001b[1;32m   1010\u001b[0m         \u001b[0;32mdel\u001b[0m \u001b[0mself\u001b[0m\u001b[0;34m.\u001b[0m\u001b[0m_buffer\u001b[0m\u001b[0;34m[\u001b[0m\u001b[0;34m:\u001b[0m\u001b[0;34m]\u001b[0m\u001b[0;34m\u001b[0m\u001b[0;34m\u001b[0m\u001b[0m\n\u001b[0;32m-> 1011\u001b[0;31m         \u001b[0mself\u001b[0m\u001b[0;34m.\u001b[0m\u001b[0msend\u001b[0m\u001b[0;34m(\u001b[0m\u001b[0mmsg\u001b[0m\u001b[0;34m)\u001b[0m\u001b[0;34m\u001b[0m\u001b[0;34m\u001b[0m\u001b[0m\n\u001b[0m\u001b[1;32m   1012\u001b[0m \u001b[0;34m\u001b[0m\u001b[0m\n\u001b[1;32m   1013\u001b[0m         \u001b[0;32mif\u001b[0m \u001b[0mmessage_body\u001b[0m \u001b[0;32mis\u001b[0m \u001b[0;32mnot\u001b[0m \u001b[0;32mNone\u001b[0m\u001b[0;34m:\u001b[0m\u001b[0;34m\u001b[0m\u001b[0;34m\u001b[0m\u001b[0m\n",
      "\u001b[0;32m~/.conda/envs/img_processing/lib/python3.8/http/client.py\u001b[0m in \u001b[0;36msend\u001b[0;34m(self, data)\u001b[0m\n\u001b[1;32m    949\u001b[0m         \u001b[0;32mif\u001b[0m \u001b[0mself\u001b[0m\u001b[0;34m.\u001b[0m\u001b[0msock\u001b[0m \u001b[0;32mis\u001b[0m \u001b[0;32mNone\u001b[0m\u001b[0;34m:\u001b[0m\u001b[0;34m\u001b[0m\u001b[0;34m\u001b[0m\u001b[0m\n\u001b[1;32m    950\u001b[0m             \u001b[0;32mif\u001b[0m \u001b[0mself\u001b[0m\u001b[0;34m.\u001b[0m\u001b[0mauto_open\u001b[0m\u001b[0;34m:\u001b[0m\u001b[0;34m\u001b[0m\u001b[0;34m\u001b[0m\u001b[0m\n\u001b[0;32m--> 951\u001b[0;31m                 \u001b[0mself\u001b[0m\u001b[0;34m.\u001b[0m\u001b[0mconnect\u001b[0m\u001b[0;34m(\u001b[0m\u001b[0;34m)\u001b[0m\u001b[0;34m\u001b[0m\u001b[0;34m\u001b[0m\u001b[0m\n\u001b[0m\u001b[1;32m    952\u001b[0m             \u001b[0;32melse\u001b[0m\u001b[0;34m:\u001b[0m\u001b[0;34m\u001b[0m\u001b[0;34m\u001b[0m\u001b[0m\n\u001b[1;32m    953\u001b[0m                 \u001b[0;32mraise\u001b[0m \u001b[0mNotConnected\u001b[0m\u001b[0;34m(\u001b[0m\u001b[0;34m)\u001b[0m\u001b[0;34m\u001b[0m\u001b[0;34m\u001b[0m\u001b[0m\n",
      "\u001b[0;32m~/.conda/envs/img_processing/lib/python3.8/site-packages/urllib3/connection.py\u001b[0m in \u001b[0;36mconnect\u001b[0;34m(self)\u001b[0m\n\u001b[1;32m    203\u001b[0m \u001b[0;34m\u001b[0m\u001b[0m\n\u001b[1;32m    204\u001b[0m     \u001b[0;32mdef\u001b[0m \u001b[0mconnect\u001b[0m\u001b[0;34m(\u001b[0m\u001b[0mself\u001b[0m\u001b[0;34m)\u001b[0m\u001b[0;34m:\u001b[0m\u001b[0;34m\u001b[0m\u001b[0;34m\u001b[0m\u001b[0m\n\u001b[0;32m--> 205\u001b[0;31m         \u001b[0mconn\u001b[0m \u001b[0;34m=\u001b[0m \u001b[0mself\u001b[0m\u001b[0;34m.\u001b[0m\u001b[0m_new_conn\u001b[0m\u001b[0;34m(\u001b[0m\u001b[0;34m)\u001b[0m\u001b[0;34m\u001b[0m\u001b[0;34m\u001b[0m\u001b[0m\n\u001b[0m\u001b[1;32m    206\u001b[0m         \u001b[0mself\u001b[0m\u001b[0;34m.\u001b[0m\u001b[0m_prepare_conn\u001b[0m\u001b[0;34m(\u001b[0m\u001b[0mconn\u001b[0m\u001b[0;34m)\u001b[0m\u001b[0;34m\u001b[0m\u001b[0;34m\u001b[0m\u001b[0m\n\u001b[1;32m    207\u001b[0m \u001b[0;34m\u001b[0m\u001b[0m\n",
      "\u001b[0;32m~/.conda/envs/img_processing/lib/python3.8/site-packages/urllib3/connection.py\u001b[0m in \u001b[0;36m_new_conn\u001b[0;34m(self)\u001b[0m\n\u001b[1;32m    172\u001b[0m \u001b[0;34m\u001b[0m\u001b[0m\n\u001b[1;32m    173\u001b[0m         \u001b[0;32mtry\u001b[0m\u001b[0;34m:\u001b[0m\u001b[0;34m\u001b[0m\u001b[0;34m\u001b[0m\u001b[0m\n\u001b[0;32m--> 174\u001b[0;31m             conn = connection.create_connection(\n\u001b[0m\u001b[1;32m    175\u001b[0m                 \u001b[0;34m(\u001b[0m\u001b[0mself\u001b[0m\u001b[0;34m.\u001b[0m\u001b[0m_dns_host\u001b[0m\u001b[0;34m,\u001b[0m \u001b[0mself\u001b[0m\u001b[0;34m.\u001b[0m\u001b[0mport\u001b[0m\u001b[0;34m)\u001b[0m\u001b[0;34m,\u001b[0m \u001b[0mself\u001b[0m\u001b[0;34m.\u001b[0m\u001b[0mtimeout\u001b[0m\u001b[0;34m,\u001b[0m \u001b[0;34m**\u001b[0m\u001b[0mextra_kw\u001b[0m\u001b[0;34m\u001b[0m\u001b[0;34m\u001b[0m\u001b[0m\n\u001b[1;32m    176\u001b[0m             )\n",
      "\u001b[0;32m~/.conda/envs/img_processing/lib/python3.8/site-packages/urllib3/util/connection.py\u001b[0m in \u001b[0;36mcreate_connection\u001b[0;34m(address, timeout, source_address, socket_options)\u001b[0m\n\u001b[1;32m     83\u001b[0m             \u001b[0;32mif\u001b[0m \u001b[0msource_address\u001b[0m\u001b[0;34m:\u001b[0m\u001b[0;34m\u001b[0m\u001b[0;34m\u001b[0m\u001b[0m\n\u001b[1;32m     84\u001b[0m                 \u001b[0msock\u001b[0m\u001b[0;34m.\u001b[0m\u001b[0mbind\u001b[0m\u001b[0;34m(\u001b[0m\u001b[0msource_address\u001b[0m\u001b[0;34m)\u001b[0m\u001b[0;34m\u001b[0m\u001b[0;34m\u001b[0m\u001b[0m\n\u001b[0;32m---> 85\u001b[0;31m             \u001b[0msock\u001b[0m\u001b[0;34m.\u001b[0m\u001b[0mconnect\u001b[0m\u001b[0;34m(\u001b[0m\u001b[0msa\u001b[0m\u001b[0;34m)\u001b[0m\u001b[0;34m\u001b[0m\u001b[0;34m\u001b[0m\u001b[0m\n\u001b[0m\u001b[1;32m     86\u001b[0m             \u001b[0;32mreturn\u001b[0m \u001b[0msock\u001b[0m\u001b[0;34m\u001b[0m\u001b[0;34m\u001b[0m\u001b[0m\n\u001b[1;32m     87\u001b[0m \u001b[0;34m\u001b[0m\u001b[0m\n",
      "\u001b[0;31mKeyboardInterrupt\u001b[0m: "
     ]
    }
   ],
   "source": [
    "from tabular_hypernet.training_utils import train_slow_step\n",
    "hypernet_res = []\n",
    "for batch_size in [4, 8, 16, 32, 64]:\n",
    "    start = time.time()\n",
    "\n",
    "    exp = Experiment(os.environ.get(\"COMET_KEY\"), \"blastchar-hypernet\")\n",
    "    exp.log_parameters({\"batch_size\": batch_size})\n",
    "    # nn_results = test_model(network_fn(batch_size),\n",
    "    #                         (X_train, y_train), \n",
    "    #                         (X_test, y_test), \n",
    "    #                         y_label_enc, 1)\n",
    "\n",
    "    hypernet = network_fn(batch_size)()\n",
    "    train_carthesian(hypernet.network,\n",
    "                    hypernet.optimizer,\n",
    "                    hypernet.criterion,\n",
    "                    (get_dataloader(X_train, y_train, batch_size=batch_size),\n",
    "                     get_dataloader(X_test, y_test, batch_size=64)),\n",
    "                    X_train.shape[0],\n",
    "                    1500,\n",
    "                    15,\n",
    "                    exp, device=DEVICE, test_every=50)\n",
    "                    \n",
    "                    \n",
    "    nn_results[\"Batch size\"] = batch_size\n",
    "    plt.title(f\"Batch size: {batch_size}\")\n",
    "\n",
    "    loss = nn_results[nn_results[\"Class\"]==\"Loss\"][\"Accuracy\"]\n",
    "    accuracy = nn_results[nn_results[\"Class\"]==\"Total\"][\"Accuracy\"]\n",
    "    exp.log_metric(\"mean_loss\", loss.mean())\n",
    "    exp.log_metric(\"loss_std\", loss.std())\n",
    "    exp.log_metric(\"mean_acc\", accuracy.mean())\n",
    "    exp.log_metric(\"acc_std\", accuracy.std())\n",
    "\n",
    "    exp.log_dataframe_profile(nn_results)\n",
    "    exp.log_html(figure_to_html())\n",
    "    plt.show()\n",
    "\n",
    "    hypernet_res.append(nn_results)\n",
    "\n",
    "    end = datetime.timedelta(seconds=time.time()-start)\n",
    "    logger.info(f\"{batch_size=} done in {str(end)}. Loss: {loss.mean():.3g}+-{loss.std():.3g}. Acc: {accuracy.mean():.1f}+-{accuracy.std():.2f}\")"
   ]
  },
  {
   "cell_type": "markdown",
   "id": "05400f77-e34c-44ea-9618-f11e428aa6a8",
   "metadata": {
    "tags": []
   },
   "source": [
    "### TabNet"
   ]
  },
  {
   "cell_type": "code",
   "execution_count": null,
   "id": "ce0eada6-0ed4-48d6-9d79-9b790e220bd6",
   "metadata": {},
   "outputs": [],
   "source": [
    "from pytorch_tabnet.tab_model import TabNetClassifier, TabNetRegressor"
   ]
  },
  {
   "cell_type": "code",
   "execution_count": 149,
   "id": "bb1cf77a-8707-4e4a-aa6c-18d9529ab20c",
   "metadata": {},
   "outputs": [
    {
     "data": {
      "text/plain": [
       "(134, 19)"
      ]
     },
     "execution_count": 149,
     "metadata": {},
     "output_type": "execute_result"
    }
   ],
   "source": [
    "np.array(X_train).shape"
   ]
  },
  {
   "cell_type": "code",
   "execution_count": 150,
   "id": "87d2fdc4-dd62-4546-93c2-eb2ab63b03f5",
   "metadata": {
    "collapsed": true,
    "jupyter": {
     "outputs_hidden": true
    },
    "tags": []
   },
   "outputs": [
    {
     "name": "stdout",
     "output_type": "stream",
     "text": [
      "Device used : cuda\n",
      "No early stopping will be performed, last training weights will be used.\n",
      "epoch 0  | loss: 0.84536 |  0:00:00s\n",
      "epoch 1  | loss: 0.70384 |  0:00:00s\n",
      "epoch 2  | loss: 0.62857 |  0:00:00s\n",
      "epoch 3  | loss: 0.5942  |  0:00:00s\n",
      "epoch 4  | loss: 0.59312 |  0:00:00s\n",
      "epoch 5  | loss: 0.54083 |  0:00:00s\n",
      "epoch 6  | loss: 0.52085 |  0:00:00s\n",
      "epoch 7  | loss: 0.50849 |  0:00:00s\n",
      "epoch 8  | loss: 0.50789 |  0:00:00s\n",
      "epoch 9  | loss: 0.47963 |  0:00:00s\n",
      "epoch 10 | loss: 0.4389  |  0:00:00s\n",
      "epoch 11 | loss: 0.43232 |  0:00:00s\n",
      "epoch 12 | loss: 0.40346 |  0:00:00s\n",
      "epoch 13 | loss: 0.3868  |  0:00:00s\n",
      "epoch 14 | loss: 0.40405 |  0:00:00s\n",
      "epoch 15 | loss: 0.39284 |  0:00:00s\n",
      "epoch 16 | loss: 0.39727 |  0:00:00s\n",
      "epoch 17 | loss: 0.36165 |  0:00:00s\n",
      "epoch 18 | loss: 0.38959 |  0:00:00s\n",
      "epoch 19 | loss: 0.40563 |  0:00:00s\n",
      "epoch 20 | loss: 0.40416 |  0:00:00s\n",
      "epoch 21 | loss: 0.31999 |  0:00:00s\n",
      "epoch 22 | loss: 0.3385  |  0:00:00s\n",
      "epoch 23 | loss: 0.32313 |  0:00:00s\n",
      "epoch 24 | loss: 0.34857 |  0:00:00s\n",
      "epoch 25 | loss: 0.31737 |  0:00:00s\n",
      "epoch 26 | loss: 0.31537 |  0:00:00s\n",
      "epoch 27 | loss: 0.29475 |  0:00:01s\n",
      "epoch 28 | loss: 0.35188 |  0:00:01s\n",
      "epoch 29 | loss: 0.26201 |  0:00:01s\n",
      "epoch 30 | loss: 0.2783  |  0:00:01s\n",
      "epoch 31 | loss: 0.31973 |  0:00:01s\n",
      "epoch 32 | loss: 0.25642 |  0:00:01s\n",
      "epoch 33 | loss: 0.30302 |  0:00:01s\n",
      "epoch 34 | loss: 0.27639 |  0:00:01s\n",
      "epoch 35 | loss: 0.27139 |  0:00:01s\n",
      "epoch 36 | loss: 0.24576 |  0:00:01s\n",
      "epoch 37 | loss: 0.23103 |  0:00:01s\n",
      "epoch 38 | loss: 0.25159 |  0:00:01s\n",
      "epoch 39 | loss: 0.22013 |  0:00:01s\n",
      "epoch 40 | loss: 0.28297 |  0:00:01s\n",
      "epoch 41 | loss: 0.20178 |  0:00:01s\n",
      "epoch 42 | loss: 0.21679 |  0:00:01s\n",
      "epoch 43 | loss: 0.21594 |  0:00:01s\n",
      "epoch 44 | loss: 0.18421 |  0:00:01s\n",
      "epoch 45 | loss: 0.16029 |  0:00:01s\n",
      "epoch 46 | loss: 0.17786 |  0:00:01s\n",
      "epoch 47 | loss: 0.13994 |  0:00:01s\n",
      "epoch 48 | loss: 0.14605 |  0:00:01s\n",
      "epoch 49 | loss: 0.19678 |  0:00:01s\n",
      "epoch 50 | loss: 0.15141 |  0:00:01s\n",
      "epoch 51 | loss: 0.13923 |  0:00:01s\n",
      "epoch 52 | loss: 0.17612 |  0:00:01s\n",
      "epoch 53 | loss: 0.20275 |  0:00:01s\n",
      "epoch 54 | loss: 0.22255 |  0:00:02s\n",
      "epoch 55 | loss: 0.22995 |  0:00:02s\n",
      "epoch 56 | loss: 0.13044 |  0:00:02s\n",
      "epoch 57 | loss: 0.15418 |  0:00:02s\n",
      "epoch 58 | loss: 0.14294 |  0:00:02s\n",
      "epoch 59 | loss: 0.13968 |  0:00:02s\n",
      "epoch 60 | loss: 0.13694 |  0:00:02s\n",
      "epoch 61 | loss: 0.22443 |  0:00:02s\n",
      "epoch 62 | loss: 0.255   |  0:00:02s\n",
      "epoch 63 | loss: 0.22144 |  0:00:02s\n",
      "epoch 64 | loss: 0.20007 |  0:00:02s\n",
      "epoch 65 | loss: 0.22809 |  0:00:02s\n",
      "epoch 66 | loss: 0.15602 |  0:00:02s\n",
      "epoch 67 | loss: 0.28655 |  0:00:02s\n",
      "epoch 68 | loss: 0.13934 |  0:00:02s\n",
      "epoch 69 | loss: 0.20152 |  0:00:02s\n",
      "epoch 70 | loss: 0.18584 |  0:00:02s\n",
      "epoch 71 | loss: 0.21086 |  0:00:02s\n",
      "epoch 72 | loss: 0.17273 |  0:00:02s\n",
      "epoch 73 | loss: 0.14313 |  0:00:02s\n",
      "epoch 74 | loss: 0.10053 |  0:00:02s\n",
      "epoch 75 | loss: 0.1196  |  0:00:02s\n",
      "epoch 76 | loss: 0.13687 |  0:00:02s\n",
      "epoch 77 | loss: 0.107   |  0:00:02s\n",
      "epoch 78 | loss: 0.16149 |  0:00:02s\n",
      "epoch 79 | loss: 0.17017 |  0:00:02s\n",
      "epoch 80 | loss: 0.161   |  0:00:02s\n",
      "epoch 81 | loss: 0.12811 |  0:00:03s\n",
      "epoch 82 | loss: 0.08774 |  0:00:03s\n",
      "epoch 83 | loss: 0.23324 |  0:00:03s\n",
      "epoch 84 | loss: 0.19212 |  0:00:03s\n",
      "epoch 85 | loss: 0.1403  |  0:00:03s\n",
      "epoch 86 | loss: 0.1761  |  0:00:03s\n",
      "epoch 87 | loss: 0.17647 |  0:00:03s\n",
      "epoch 88 | loss: 0.16545 |  0:00:03s\n",
      "epoch 89 | loss: 0.15273 |  0:00:03s\n",
      "epoch 90 | loss: 0.11642 |  0:00:03s\n",
      "epoch 91 | loss: 0.14837 |  0:00:03s\n",
      "epoch 92 | loss: 0.09186 |  0:00:03s\n",
      "epoch 93 | loss: 0.1543  |  0:00:03s\n",
      "epoch 94 | loss: 0.09768 |  0:00:03s\n",
      "epoch 95 | loss: 0.12307 |  0:00:03s\n",
      "epoch 96 | loss: 0.13241 |  0:00:03s\n",
      "epoch 97 | loss: 0.09914 |  0:00:03s\n",
      "epoch 98 | loss: 0.08243 |  0:00:03s\n",
      "epoch 99 | loss: 0.0689  |  0:00:03s\n",
      "Device used : cuda\n",
      "No early stopping will be performed, last training weights will be used.\n",
      "epoch 0  | loss: 0.85204 |  0:00:00s\n",
      "epoch 1  | loss: 0.69099 |  0:00:00s\n",
      "epoch 2  | loss: 0.56101 |  0:00:00s\n",
      "epoch 3  | loss: 0.53719 |  0:00:00s\n",
      "epoch 4  | loss: 0.50547 |  0:00:00s\n",
      "epoch 5  | loss: 0.47715 |  0:00:00s\n",
      "epoch 6  | loss: 0.47875 |  0:00:00s\n",
      "epoch 7  | loss: 0.44946 |  0:00:00s\n",
      "epoch 8  | loss: 0.47054 |  0:00:00s\n",
      "epoch 9  | loss: 0.44551 |  0:00:00s\n",
      "epoch 10 | loss: 0.4339  |  0:00:00s\n",
      "epoch 11 | loss: 0.38998 |  0:00:00s\n",
      "epoch 12 | loss: 0.36779 |  0:00:00s\n",
      "epoch 13 | loss: 0.39327 |  0:00:00s\n",
      "epoch 14 | loss: 0.37555 |  0:00:00s\n",
      "epoch 15 | loss: 0.42735 |  0:00:00s\n",
      "epoch 16 | loss: 0.37792 |  0:00:00s\n",
      "epoch 17 | loss: 0.40392 |  0:00:00s\n",
      "epoch 18 | loss: 0.37278 |  0:00:00s\n",
      "epoch 19 | loss: 0.35063 |  0:00:00s\n",
      "epoch 20 | loss: 0.36673 |  0:00:00s\n",
      "epoch 21 | loss: 0.38195 |  0:00:00s\n",
      "epoch 22 | loss: 0.31711 |  0:00:00s\n",
      "epoch 23 | loss: 0.30625 |  0:00:00s\n",
      "epoch 24 | loss: 0.3444  |  0:00:00s\n",
      "epoch 25 | loss: 0.30927 |  0:00:00s\n",
      "epoch 26 | loss: 0.23907 |  0:00:00s\n",
      "epoch 27 | loss: 0.26679 |  0:00:00s\n",
      "epoch 28 | loss: 0.25156 |  0:00:00s\n",
      "epoch 29 | loss: 0.27452 |  0:00:00s\n",
      "epoch 30 | loss: 0.21343 |  0:00:00s\n",
      "epoch 31 | loss: 0.21813 |  0:00:00s\n",
      "epoch 32 | loss: 0.17317 |  0:00:00s\n",
      "epoch 33 | loss: 0.17418 |  0:00:01s\n",
      "epoch 34 | loss: 0.18574 |  0:00:01s\n",
      "epoch 35 | loss: 0.14489 |  0:00:01s\n",
      "epoch 36 | loss: 0.15128 |  0:00:01s\n",
      "epoch 37 | loss: 0.14451 |  0:00:01s\n",
      "epoch 38 | loss: 0.1506  |  0:00:01s\n",
      "epoch 39 | loss: 0.15034 |  0:00:01s\n",
      "epoch 40 | loss: 0.12844 |  0:00:01s\n",
      "epoch 41 | loss: 0.13048 |  0:00:01s\n",
      "epoch 42 | loss: 0.12132 |  0:00:01s\n",
      "epoch 43 | loss: 0.12281 |  0:00:01s\n",
      "epoch 44 | loss: 0.11012 |  0:00:01s\n",
      "epoch 45 | loss: 0.09973 |  0:00:01s\n",
      "epoch 46 | loss: 0.1686  |  0:00:01s\n",
      "epoch 47 | loss: 0.11476 |  0:00:01s\n",
      "epoch 48 | loss: 0.18018 |  0:00:01s\n",
      "epoch 49 | loss: 0.10755 |  0:00:01s\n",
      "epoch 50 | loss: 0.13416 |  0:00:01s\n",
      "epoch 51 | loss: 0.17095 |  0:00:01s\n",
      "epoch 52 | loss: 0.08635 |  0:00:01s\n",
      "epoch 53 | loss: 0.15535 |  0:00:01s\n",
      "epoch 54 | loss: 0.10347 |  0:00:01s\n",
      "epoch 55 | loss: 0.07647 |  0:00:01s\n",
      "epoch 56 | loss: 0.11408 |  0:00:01s\n",
      "epoch 57 | loss: 0.07594 |  0:00:01s\n",
      "epoch 58 | loss: 0.07533 |  0:00:01s\n",
      "epoch 59 | loss: 0.18784 |  0:00:01s\n",
      "epoch 60 | loss: 0.08761 |  0:00:01s\n",
      "epoch 61 | loss: 0.07894 |  0:00:01s\n",
      "epoch 62 | loss: 0.07683 |  0:00:01s\n",
      "epoch 63 | loss: 0.10098 |  0:00:01s\n",
      "epoch 64 | loss: 0.11322 |  0:00:01s\n",
      "epoch 65 | loss: 0.07094 |  0:00:01s\n",
      "epoch 66 | loss: 0.07326 |  0:00:02s\n",
      "epoch 67 | loss: 0.07367 |  0:00:02s\n",
      "epoch 68 | loss: 0.07106 |  0:00:02s\n",
      "epoch 69 | loss: 0.0639  |  0:00:02s\n",
      "epoch 70 | loss: 0.072   |  0:00:02s\n",
      "epoch 71 | loss: 0.0512  |  0:00:02s\n",
      "epoch 72 | loss: 0.1469  |  0:00:02s\n",
      "epoch 73 | loss: 0.06794 |  0:00:02s\n",
      "epoch 74 | loss: 0.05893 |  0:00:02s\n",
      "epoch 75 | loss: 0.12029 |  0:00:02s\n",
      "epoch 76 | loss: 0.05613 |  0:00:02s\n",
      "epoch 77 | loss: 0.1172  |  0:00:02s\n",
      "epoch 78 | loss: 0.09577 |  0:00:02s\n",
      "epoch 79 | loss: 0.07955 |  0:00:02s\n",
      "epoch 80 | loss: 0.07537 |  0:00:02s\n",
      "epoch 81 | loss: 0.07009 |  0:00:02s\n",
      "epoch 82 | loss: 0.11182 |  0:00:02s\n",
      "epoch 83 | loss: 0.06248 |  0:00:02s\n",
      "epoch 84 | loss: 0.10612 |  0:00:02s\n",
      "epoch 85 | loss: 0.08311 |  0:00:02s\n",
      "epoch 86 | loss: 0.13112 |  0:00:02s\n",
      "epoch 87 | loss: 0.03976 |  0:00:02s\n",
      "epoch 88 | loss: 0.08548 |  0:00:02s\n",
      "epoch 89 | loss: 0.07615 |  0:00:02s\n",
      "epoch 90 | loss: 0.05733 |  0:00:02s\n",
      "epoch 91 | loss: 0.04043 |  0:00:02s\n",
      "epoch 92 | loss: 0.0862  |  0:00:02s\n",
      "epoch 93 | loss: 0.05767 |  0:00:02s\n",
      "epoch 94 | loss: 0.07006 |  0:00:02s\n",
      "epoch 95 | loss: 0.05215 |  0:00:02s\n",
      "epoch 96 | loss: 0.0551  |  0:00:02s\n",
      "epoch 97 | loss: 0.09618 |  0:00:02s\n",
      "epoch 98 | loss: 0.07954 |  0:00:02s\n",
      "epoch 99 | loss: 0.07653 |  0:00:03s\n",
      "Device used : cuda\n",
      "No early stopping will be performed, last training weights will be used.\n",
      "epoch 0  | loss: 0.7503  |  0:00:00s\n",
      "epoch 1  | loss: 0.71518 |  0:00:00s\n",
      "epoch 2  | loss: 0.64403 |  0:00:00s\n",
      "epoch 3  | loss: 0.58756 |  0:00:00s\n",
      "epoch 4  | loss: 0.56271 |  0:00:00s\n",
      "epoch 5  | loss: 0.56436 |  0:00:00s\n",
      "epoch 6  | loss: 0.51796 |  0:00:00s\n",
      "epoch 7  | loss: 0.47159 |  0:00:00s\n",
      "epoch 8  | loss: 0.45931 |  0:00:00s\n",
      "epoch 9  | loss: 0.4283  |  0:00:00s\n",
      "epoch 10 | loss: 0.43208 |  0:00:00s\n",
      "epoch 11 | loss: 0.37785 |  0:00:00s\n",
      "epoch 12 | loss: 0.41484 |  0:00:00s\n",
      "epoch 13 | loss: 0.38372 |  0:00:00s\n",
      "epoch 14 | loss: 0.30947 |  0:00:00s\n",
      "epoch 15 | loss: 0.32093 |  0:00:00s\n",
      "epoch 16 | loss: 0.31352 |  0:00:00s\n",
      "epoch 17 | loss: 0.25469 |  0:00:00s\n",
      "epoch 18 | loss: 0.30048 |  0:00:00s\n",
      "epoch 19 | loss: 0.28668 |  0:00:00s\n",
      "epoch 20 | loss: 0.28278 |  0:00:00s\n",
      "epoch 21 | loss: 0.32265 |  0:00:00s\n",
      "epoch 22 | loss: 0.28046 |  0:00:00s\n",
      "epoch 23 | loss: 0.30171 |  0:00:00s\n",
      "epoch 24 | loss: 0.29747 |  0:00:00s\n",
      "epoch 25 | loss: 0.27785 |  0:00:00s\n",
      "epoch 26 | loss: 0.30703 |  0:00:00s\n",
      "epoch 27 | loss: 0.25279 |  0:00:00s\n",
      "epoch 28 | loss: 0.31545 |  0:00:00s\n",
      "epoch 29 | loss: 0.1992  |  0:00:01s\n",
      "epoch 30 | loss: 0.23548 |  0:00:01s\n",
      "epoch 31 | loss: 0.247   |  0:00:01s\n",
      "epoch 32 | loss: 0.19344 |  0:00:01s\n",
      "epoch 33 | loss: 0.18387 |  0:00:01s\n",
      "epoch 34 | loss: 0.16275 |  0:00:01s\n",
      "epoch 35 | loss: 0.18774 |  0:00:01s\n",
      "epoch 36 | loss: 0.18259 |  0:00:01s\n",
      "epoch 37 | loss: 0.15419 |  0:00:01s\n",
      "epoch 38 | loss: 0.15668 |  0:00:01s\n",
      "epoch 39 | loss: 0.23008 |  0:00:01s\n",
      "epoch 40 | loss: 0.16403 |  0:00:01s\n",
      "epoch 41 | loss: 0.1359  |  0:00:01s\n",
      "epoch 42 | loss: 0.20317 |  0:00:01s\n",
      "epoch 43 | loss: 0.17442 |  0:00:01s\n",
      "epoch 44 | loss: 0.10617 |  0:00:01s\n",
      "epoch 45 | loss: 0.13186 |  0:00:01s\n",
      "epoch 46 | loss: 0.11608 |  0:00:01s\n",
      "epoch 47 | loss: 0.08702 |  0:00:01s\n",
      "epoch 48 | loss: 0.15405 |  0:00:01s\n",
      "epoch 49 | loss: 0.13276 |  0:00:01s\n",
      "epoch 50 | loss: 0.15206 |  0:00:01s\n",
      "epoch 51 | loss: 0.13428 |  0:00:01s\n",
      "epoch 52 | loss: 0.1335  |  0:00:01s\n",
      "epoch 53 | loss: 0.09591 |  0:00:01s\n",
      "epoch 54 | loss: 0.13598 |  0:00:01s\n",
      "epoch 55 | loss: 0.08134 |  0:00:01s\n",
      "epoch 56 | loss: 0.12354 |  0:00:01s\n",
      "epoch 57 | loss: 0.15441 |  0:00:02s\n",
      "epoch 58 | loss: 0.14894 |  0:00:02s\n",
      "epoch 59 | loss: 0.17908 |  0:00:02s\n",
      "epoch 60 | loss: 0.11862 |  0:00:02s\n",
      "epoch 61 | loss: 0.11973 |  0:00:02s\n",
      "epoch 62 | loss: 0.12053 |  0:00:02s\n",
      "epoch 63 | loss: 0.137   |  0:00:02s\n",
      "epoch 64 | loss: 0.1207  |  0:00:02s\n",
      "epoch 65 | loss: 0.11474 |  0:00:02s\n",
      "epoch 66 | loss: 0.11651 |  0:00:02s\n",
      "epoch 67 | loss: 0.11826 |  0:00:02s\n",
      "epoch 68 | loss: 0.13394 |  0:00:02s\n",
      "epoch 69 | loss: 0.13951 |  0:00:02s\n",
      "epoch 70 | loss: 0.15736 |  0:00:02s\n",
      "epoch 71 | loss: 0.15418 |  0:00:02s\n",
      "epoch 72 | loss: 0.15065 |  0:00:02s\n",
      "epoch 73 | loss: 0.15866 |  0:00:02s\n",
      "epoch 74 | loss: 0.19135 |  0:00:02s\n",
      "epoch 75 | loss: 0.08771 |  0:00:02s\n",
      "epoch 76 | loss: 0.15824 |  0:00:02s\n",
      "epoch 77 | loss: 0.10927 |  0:00:02s\n",
      "epoch 78 | loss: 0.11058 |  0:00:02s\n",
      "epoch 79 | loss: 0.12067 |  0:00:02s\n",
      "epoch 80 | loss: 0.10808 |  0:00:02s\n",
      "epoch 81 | loss: 0.10102 |  0:00:02s\n",
      "epoch 82 | loss: 0.10109 |  0:00:02s\n",
      "epoch 83 | loss: 0.07311 |  0:00:02s\n",
      "epoch 84 | loss: 0.0936  |  0:00:03s\n",
      "epoch 85 | loss: 0.10127 |  0:00:03s\n",
      "epoch 86 | loss: 0.08331 |  0:00:03s\n",
      "epoch 87 | loss: 0.08292 |  0:00:03s\n",
      "epoch 88 | loss: 0.06338 |  0:00:03s\n",
      "epoch 89 | loss: 0.16526 |  0:00:03s\n",
      "epoch 90 | loss: 0.11209 |  0:00:03s\n",
      "epoch 91 | loss: 0.07775 |  0:00:03s\n",
      "epoch 92 | loss: 0.12523 |  0:00:03s\n",
      "epoch 93 | loss: 0.13229 |  0:00:03s\n",
      "epoch 94 | loss: 0.0752  |  0:00:03s\n",
      "epoch 95 | loss: 0.10408 |  0:00:03s\n",
      "epoch 96 | loss: 0.08498 |  0:00:03s\n",
      "epoch 97 | loss: 0.07883 |  0:00:03s\n",
      "epoch 98 | loss: 0.05886 |  0:00:03s\n",
      "epoch 99 | loss: 0.11861 |  0:00:03s\n",
      "Device used : cuda\n",
      "No early stopping will be performed, last training weights will be used.\n",
      "epoch 0  | loss: 1.03048 |  0:00:00s\n",
      "epoch 1  | loss: 0.75774 |  0:00:00s\n",
      "epoch 2  | loss: 0.64339 |  0:00:00s\n",
      "epoch 3  | loss: 0.61996 |  0:00:00s\n",
      "epoch 4  | loss: 0.60435 |  0:00:00s\n",
      "epoch 5  | loss: 0.6211  |  0:00:00s\n",
      "epoch 6  | loss: 0.56754 |  0:00:00s\n",
      "epoch 7  | loss: 0.58345 |  0:00:00s\n",
      "epoch 8  | loss: 0.57981 |  0:00:00s\n",
      "epoch 9  | loss: 0.54065 |  0:00:00s\n",
      "epoch 10 | loss: 0.52307 |  0:00:00s\n",
      "epoch 11 | loss: 0.50084 |  0:00:00s\n",
      "epoch 12 | loss: 0.52402 |  0:00:00s\n",
      "epoch 13 | loss: 0.47227 |  0:00:00s\n",
      "epoch 14 | loss: 0.50475 |  0:00:00s\n",
      "epoch 15 | loss: 0.43891 |  0:00:00s\n",
      "epoch 16 | loss: 0.39932 |  0:00:00s\n",
      "epoch 17 | loss: 0.4352  |  0:00:00s\n",
      "epoch 18 | loss: 0.42256 |  0:00:00s\n",
      "epoch 19 | loss: 0.44111 |  0:00:00s\n",
      "epoch 20 | loss: 0.38908 |  0:00:00s\n",
      "epoch 21 | loss: 0.36357 |  0:00:00s\n",
      "epoch 22 | loss: 0.41042 |  0:00:00s\n",
      "epoch 23 | loss: 0.36857 |  0:00:00s\n",
      "epoch 24 | loss: 0.37629 |  0:00:00s\n",
      "epoch 25 | loss: 0.38187 |  0:00:00s\n",
      "epoch 26 | loss: 0.3341  |  0:00:00s\n",
      "epoch 27 | loss: 0.35771 |  0:00:00s\n",
      "epoch 28 | loss: 0.26878 |  0:00:00s\n",
      "epoch 29 | loss: 0.2694  |  0:00:00s\n",
      "epoch 30 | loss: 0.24158 |  0:00:00s\n",
      "epoch 31 | loss: 0.29172 |  0:00:00s\n",
      "epoch 32 | loss: 0.25144 |  0:00:00s\n",
      "epoch 33 | loss: 0.30843 |  0:00:01s\n",
      "epoch 34 | loss: 0.33336 |  0:00:01s\n",
      "epoch 35 | loss: 0.23286 |  0:00:01s\n",
      "epoch 36 | loss: 0.22749 |  0:00:01s\n",
      "epoch 37 | loss: 0.20669 |  0:00:01s\n",
      "epoch 38 | loss: 0.20893 |  0:00:01s\n",
      "epoch 39 | loss: 0.18724 |  0:00:01s\n",
      "epoch 40 | loss: 0.18429 |  0:00:01s\n",
      "epoch 41 | loss: 0.2031  |  0:00:01s\n",
      "epoch 42 | loss: 0.25666 |  0:00:01s\n",
      "epoch 43 | loss: 0.20119 |  0:00:01s\n",
      "epoch 44 | loss: 0.15866 |  0:00:01s\n",
      "epoch 45 | loss: 0.13951 |  0:00:01s\n",
      "epoch 46 | loss: 0.15787 |  0:00:01s\n",
      "epoch 47 | loss: 0.18085 |  0:00:01s\n",
      "epoch 48 | loss: 0.13102 |  0:00:01s\n",
      "epoch 49 | loss: 0.13798 |  0:00:01s\n",
      "epoch 50 | loss: 0.1072  |  0:00:01s\n",
      "epoch 51 | loss: 0.19003 |  0:00:01s\n",
      "epoch 52 | loss: 0.1378  |  0:00:01s\n",
      "epoch 53 | loss: 0.10236 |  0:00:01s\n",
      "epoch 54 | loss: 0.12069 |  0:00:01s\n",
      "epoch 55 | loss: 0.15668 |  0:00:01s\n",
      "epoch 56 | loss: 0.14565 |  0:00:01s\n",
      "epoch 57 | loss: 0.14305 |  0:00:01s\n",
      "epoch 58 | loss: 0.15891 |  0:00:01s\n",
      "epoch 59 | loss: 0.12466 |  0:00:01s\n",
      "epoch 60 | loss: 0.20398 |  0:00:01s\n",
      "epoch 61 | loss: 0.17635 |  0:00:01s\n",
      "epoch 62 | loss: 0.15709 |  0:00:01s\n",
      "epoch 63 | loss: 0.22311 |  0:00:01s\n",
      "epoch 64 | loss: 0.18172 |  0:00:01s\n",
      "epoch 65 | loss: 0.13592 |  0:00:01s\n",
      "epoch 66 | loss: 0.1024  |  0:00:02s\n",
      "epoch 67 | loss: 0.18602 |  0:00:02s\n",
      "epoch 68 | loss: 0.14437 |  0:00:02s\n",
      "epoch 69 | loss: 0.11235 |  0:00:02s\n",
      "epoch 70 | loss: 0.11223 |  0:00:02s\n",
      "epoch 71 | loss: 0.10895 |  0:00:02s\n",
      "epoch 72 | loss: 0.12291 |  0:00:02s\n",
      "epoch 73 | loss: 0.16577 |  0:00:02s\n",
      "epoch 74 | loss: 0.20043 |  0:00:02s\n",
      "epoch 75 | loss: 0.11829 |  0:00:02s\n",
      "epoch 76 | loss: 0.10109 |  0:00:02s\n",
      "epoch 77 | loss: 0.1314  |  0:00:02s\n",
      "epoch 78 | loss: 0.11635 |  0:00:02s\n",
      "epoch 79 | loss: 0.11004 |  0:00:02s\n",
      "epoch 80 | loss: 0.14409 |  0:00:02s\n",
      "epoch 81 | loss: 0.13495 |  0:00:02s\n",
      "epoch 82 | loss: 0.11656 |  0:00:02s\n",
      "epoch 83 | loss: 0.1199  |  0:00:02s\n",
      "epoch 84 | loss: 0.09197 |  0:00:02s\n",
      "epoch 85 | loss: 0.11633 |  0:00:02s\n",
      "epoch 86 | loss: 0.10344 |  0:00:02s\n",
      "epoch 87 | loss: 0.10054 |  0:00:02s\n",
      "epoch 88 | loss: 0.14537 |  0:00:02s\n",
      "epoch 89 | loss: 0.14452 |  0:00:02s\n",
      "epoch 90 | loss: 0.13354 |  0:00:02s\n",
      "epoch 91 | loss: 0.18248 |  0:00:02s\n",
      "epoch 92 | loss: 0.1752  |  0:00:02s\n",
      "epoch 93 | loss: 0.16894 |  0:00:02s\n",
      "epoch 94 | loss: 0.15855 |  0:00:02s\n",
      "epoch 95 | loss: 0.19642 |  0:00:02s\n",
      "epoch 96 | loss: 0.17635 |  0:00:03s\n",
      "epoch 97 | loss: 0.31328 |  0:00:03s\n",
      "epoch 98 | loss: 0.13864 |  0:00:03s\n",
      "epoch 99 | loss: 0.11642 |  0:00:03s\n"
     ]
    },
    {
     "data": {
      "image/png": "[encoded data removed]",
      "text/plain": [
       "<Figure size 576x396 with 1 Axes>"
      ]
     },
     "metadata": {},
     "output_type": "display_data"
    }
   ],
   "source": [
    "def tabnet_fn():\n",
    "    clf = TabNetClassifier(seed=np.random.randint(1024))\n",
    "    return clf\n",
    "\n",
    "tabnet_results = test_model(tabnet_fn,\n",
    "                    (np.array(X_train), np.array(y_train)), \n",
    "                    (X_test, y_test),\n",
    "                    y_label_enc, 4)"
   ]
  },
  {
   "cell_type": "code",
   "execution_count": 151,
   "id": "39d660b2-4a34-4150-9cfd-5ce11b9d75d7",
   "metadata": {},
   "outputs": [
    {
     "name": "stdout",
     "output_type": "stream",
     "text": [
      "F1: 48.135 ~ 3.153\n",
      "C-statistics: 69.298 ~ 2.537\n",
      "Precision: 40.670 ~ 2.924\n",
      "Recall: 59.028 ~ 4.102\n"
     ]
    },
    {
     "name": "stderr",
     "output_type": "stream",
     "text": [
      "/tmp/ipykernel_276146/3812846823.py:66: FutureWarning: Dropping of nuisance columns in DataFrame reductions (with 'numeric_only=None') is deprecated; in a future version this will raise TypeError.  Select only valid columns before calling the reduction.\n",
      "  mean, std = dframe[dframe[\"Class\"]==\"F1 score\"].mean(), dframe[dframe[\"Class\"]==\"F1 score\"].std()\n",
      "/tmp/ipykernel_276146/3812846823.py:69: FutureWarning: Dropping of nuisance columns in DataFrame reductions (with 'numeric_only=None') is deprecated; in a future version this will raise TypeError.  Select only valid columns before calling the reduction.\n",
      "  mean, std = dframe[dframe[\"Class\"]==\"ROC score\"].mean(), dframe[dframe[\"Class\"]==\"ROC score\"].std()\n",
      "/tmp/ipykernel_276146/3812846823.py:72: FutureWarning: Dropping of nuisance columns in DataFrame reductions (with 'numeric_only=None') is deprecated; in a future version this will raise TypeError.  Select only valid columns before calling the reduction.\n",
      "  mean, std = dframe[dframe[\"Class\"]==\"Precision\"].mean(), dframe[dframe[\"Class\"]==\"Precision\"].std()\n",
      "/tmp/ipykernel_276146/3812846823.py:75: FutureWarning: Dropping of nuisance columns in DataFrame reductions (with 'numeric_only=None') is deprecated; in a future version this will raise TypeError.  Select only valid columns before calling the reduction.\n",
      "  mean, std = dframe[dframe[\"Class\"]==\"Recall\"].mean(), dframe[dframe[\"Class\"]==\"Recall\"].std()\n"
     ]
    }
   ],
   "source": [
    "print_statistics(tabnet_results)"
   ]
  }
 ],
 "metadata": {
  "kernelspec": {
   "display_name": "img_processing",
   "language": "python",
   "name": "img_processing"
  },
  "language_info": {
   "codemirror_mode": {
    "name": "ipython",
    "version": 3
   },
   "file_extension": ".py",
   "mimetype": "text/x-python",
   "name": "python",
   "nbconvert_exporter": "python",
   "pygments_lexer": "ipython3",
   "version": "3.8.12"
  }
 },
 "nbformat": 4,
 "nbformat_minor": 5
}
