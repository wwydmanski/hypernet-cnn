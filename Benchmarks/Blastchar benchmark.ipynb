{
 "cells": [
  {
   "cell_type": "code",
   "execution_count": 1,
   "id": "dc12a648-b80a-4eca-afc3-79331e4db7fc",
   "metadata": {},
   "outputs": [],
   "source": [
    "from comet_ml import Experiment, Optimizer"
   ]
  },
  {
   "cell_type": "code",
   "execution_count": 2,
   "id": "2fdadf44-450a-4006-ac5a-bed9840409f6",
   "metadata": {},
   "outputs": [],
   "source": [
    "import pandas as pd\n",
    "import numpy as np\n",
    "from sklearn.preprocessing import LabelEncoder, StandardScaler\n",
    "from sklearn.model_selection import train_test_split\n",
    "from collections import defaultdict\n",
    "from tqdm import trange\n",
    "import torch\n",
    "import seaborn as sns\n",
    "import os\n",
    "import matplotlib.pyplot as plt\n",
    "from io import BytesIO\n",
    "import base64\n",
    "import time\n",
    "import datetime\n",
    "\n",
    "plt.style.use(\"seaborn\")\n",
    "torch.set_default_dtype(torch.float32)"
   ]
  },
  {
   "cell_type": "code",
   "execution_count": 3,
   "id": "c7585d3a-dff3-43e2-bc0f-f024306021a7",
   "metadata": {},
   "outputs": [],
   "source": [
    "import node"
   ]
  },
  {
   "cell_type": "code",
   "execution_count": 4,
   "id": "6a37b70c-292b-4c14-85ed-3c93020dc182",
   "metadata": {},
   "outputs": [],
   "source": [
    "from sklearn.metrics import roc_auc_score, f1_score, precision_score, recall_score"
   ]
  },
  {
   "cell_type": "code",
   "execution_count": 5,
   "id": "3085114d-cf61-4625-97c5-10f34c00d335",
   "metadata": {},
   "outputs": [],
   "source": [
    "from tabular_hypernet import Hypernetwork\n",
    "from tabular_hypernet.modules import SimpleNetwork\n",
    "from tabular_hypernet.training_utils import train_slow_step, train_model, basic_train_loop\n",
    "from tabular_hypernet.interfaces import HypernetworkSklearnInterface, SimpleSklearnInterface"
   ]
  },
  {
   "cell_type": "code",
   "execution_count": 6,
   "id": "d12953cc-1ec5-46a9-933a-714e5ceafd1d",
   "metadata": {},
   "outputs": [
    {
     "data": {
      "text/plain": [
       "1"
      ]
     },
     "execution_count": 6,
     "metadata": {},
     "output_type": "execute_result"
    }
   ],
   "source": [
    "from loguru import logger\n",
    "\n",
    "logger.add(\"log.txt\", format='{time:YYYY-MM-DD HH:mm:ss.SSS} | {message}')"
   ]
  },
  {
   "cell_type": "code",
   "execution_count": 7,
   "id": "71891b02-e21f-4fe4-a54a-8c56610bcb3b",
   "metadata": {},
   "outputs": [],
   "source": [
    "DEVICE = 'cuda:1'"
   ]
  },
  {
   "cell_type": "markdown",
   "id": "56f26fc6-18c5-48a4-a479-cff173008af1",
   "metadata": {},
   "source": [
    "## Load data"
   ]
  },
  {
   "cell_type": "code",
   "execution_count": 8,
   "id": "c35c736f-294c-4eea-b7d3-364079f184b9",
   "metadata": {},
   "outputs": [],
   "source": [
    "data = pd.read_csv(\"../data/Blastchar/churn.csv\")"
   ]
  },
  {
   "cell_type": "code",
   "execution_count": 9,
   "id": "cb145598-e52e-4595-8c5b-ad94767e5f32",
   "metadata": {},
   "outputs": [
    {
     "name": "stdout",
     "output_type": "stream",
     "text": [
      "0 samples: 5174 (73.5%)\n",
      "1 samples: 1869 (26.5%)\n"
     ]
    }
   ],
   "source": [
    "def show_fractions(arr):\n",
    "    for cls_ in sorted(pd.unique(arr)):\n",
    "        print(f\"{cls_} samples: {(arr==cls_).sum()} ({(arr==cls_).sum()/len(arr)*100:.1f}%)\")\n",
    "\n",
    "processed_data = data.copy()\n",
    "del processed_data[\"customerID\"]\n",
    "\n",
    "y_label_enc = LabelEncoder()\n",
    "y = y_label_enc.fit_transform(processed_data[\"Churn\"].values)\n",
    "del processed_data[\"Churn\"]\n",
    "\n",
    "show_fractions(y)"
   ]
  },
  {
   "cell_type": "code",
   "execution_count": 10,
   "id": "fdb8b71b-7c57-4a04-8f51-4b8bdd6177ee",
   "metadata": {},
   "outputs": [
    {
     "name": "stdout",
     "output_type": "stream",
     "text": [
      "(7043, 19)\n"
     ]
    }
   ],
   "source": [
    "label_encoders = {}\n",
    "\n",
    "for col in processed_data.columns:\n",
    "    if processed_data[col].dtype == 'object':\n",
    "        encoder = LabelEncoder()\n",
    "        processed_data[col] = encoder.fit_transform(processed_data[col].values)\n",
    "        label_encoders[col] = encoder\n",
    "        \n",
    "X = processed_data.values\n",
    "print(X.shape)"
   ]
  },
  {
   "cell_type": "markdown",
   "id": "f3ebd8d0-d845-41f0-bf71-7bd6cb0d8b4e",
   "metadata": {},
   "source": [
    "### Split it into train and test set"
   ]
  },
  {
   "cell_type": "code",
   "execution_count": 11,
   "id": "220962a3-1cfd-4dd1-b030-336bff717634",
   "metadata": {},
   "outputs": [],
   "source": [
    "class GenericDataset(torch.utils.data.IterableDataset):\n",
    "    def __init__(self, data, shuffle: bool=False, samples_no: int=None):\n",
    "        samples = samples_no or len(data[0])\n",
    "        self.indices = np.arange(samples)\n",
    "        self.shuffle = True\n",
    "        if shuffle:\n",
    "            self.indices = np.random.permutation(self.indices)\n",
    "        self.index = 0\n",
    "        self.max_samples = samples\n",
    "        self.data_x = data[0].to(torch.float32)\n",
    "        self.data_y = data[1]\n",
    "\n",
    "    def __iter__(self):\n",
    "        if self.shuffle:\n",
    "            self.indices = np.random.permutation(self.indices)\n",
    "        while self.index < self.max_samples:\n",
    "            _idx = self.indices[self.index]\n",
    "            yield self.data_x[_idx], self.data_y[_idx]\n",
    "            self.index += 1\n",
    "    \n",
    "    def __len__(self):\n",
    "        return self.data_x.shape[0]\n",
    "\n",
    "class OversamplingDataset(GenericDataset):\n",
    "    def __init__(self, *args, **kwargs):\n",
    "        super().__init__(*args, **kwargs)\n",
    "        fractions = {i: (self.data_y==i).sum()/len(self.data_y) for i in self.data_y.unique()}\n",
    "        print(fractions)\n",
    "        \n",
    "\n",
    "def get_dataloader(X, y, size=None, batch_size=32):\n",
    "    train_dataset = GenericDataset((X, y))\n",
    "    trainloader = torch.utils.data.DataLoader(train_dataset, batch_size=batch_size, num_workers=1)\n",
    "    \n",
    "    return trainloader"
   ]
  },
  {
   "cell_type": "code",
   "execution_count": 12,
   "id": "3931b7b5-02cd-41af-a958-255483d3c7a1",
   "metadata": {},
   "outputs": [],
   "source": [
    "import imblearn"
   ]
  },
  {
   "cell_type": "code",
   "execution_count": 13,
   "id": "ca0a827a-0e1f-4f5c-b15d-3354f075021e",
   "metadata": {},
   "outputs": [
    {
     "name": "stdout",
     "output_type": "stream",
     "text": [
      "Training data:\n",
      "0 samples: 75 (50.0%)\n",
      "1 samples: 75 (50.0%)\n",
      "Test data:\n",
      "0 samples: 5099 (73.4%)\n",
      "1 samples: 1844 (26.6%)\n"
     ]
    }
   ],
   "source": [
    "X_train, X_test, y_train, y_test = train_test_split(X, y, train_size=100)\n",
    "\n",
    "X_train, y_train = imblearn.over_sampling.RandomOverSampler(random_state=42).fit_resample(X_train, y_train)\n",
    "\n",
    "\n",
    "print(\"Training data:\")\n",
    "show_fractions(y_train)\n",
    "\n",
    "print(\"Test data:\")\n",
    "show_fractions(y_test)"
   ]
  },
  {
   "cell_type": "markdown",
   "id": "60fe0004-328f-4646-9572-1c2939fbe7dd",
   "metadata": {},
   "source": [
    "## Preprocess"
   ]
  },
  {
   "cell_type": "code",
   "execution_count": 14,
   "id": "94b13ebb-c3bb-4299-a4c8-60f199b5f9a1",
   "metadata": {},
   "outputs": [],
   "source": [
    "scaler = StandardScaler()\n",
    "X_train = scaler.fit_transform(X_train)\n",
    "X_test = scaler.transform(X_test)"
   ]
  },
  {
   "cell_type": "code",
   "execution_count": 15,
   "id": "41f75592-2256-445e-b926-6ab9e2b2481f",
   "metadata": {},
   "outputs": [],
   "source": [
    "X_train, X_test, y_train, y_test = [torch.from_numpy(x) for x in [X_train, X_test, y_train, y_test]]"
   ]
  },
  {
   "cell_type": "markdown",
   "id": "d223075b-b7d8-414e-97c9-ade8bda5f0fd",
   "metadata": {},
   "source": [
    "## Benchmark"
   ]
  },
  {
   "cell_type": "code",
   "execution_count": 16,
   "id": "5aa90ca0-8a00-4491-b111-ce7eee0e9c33",
   "metadata": {},
   "outputs": [],
   "source": [
    "criterion = torch.nn.CrossEntropyLoss()\n",
    "\n",
    "def _summarize_results(y_pred, y_score, y_test, labels):\n",
    "    results = []\n",
    "    for idx, label in enumerate(labels):\n",
    "        y_pred_filt = y_pred[y_test==idx]\n",
    "        y_test_filt = y_test[y_test==idx]\n",
    "        acc = (y_pred_filt==y_test_filt.numpy()).sum()/len(y_test_filt)*100\n",
    "        results.append({\n",
    "            \"Class\": label,\n",
    "            \"Metric\": acc\n",
    "        })\n",
    "        \n",
    "    acc = (y_pred==y_test.numpy()).sum()/len(y_test)*100    \n",
    "    results.append({\n",
    "        \"Class\": \"Total\",\n",
    "        \"Metric\": acc\n",
    "    })\n",
    "    results.append({\n",
    "        \"Class\": \"F1 score\",\n",
    "        \"Metric\": f1_score(y_test, torch.from_numpy(y_pred)).item()*100\n",
    "    })\n",
    "    results.append({\n",
    "        \"Class\": \"ROC score\",\n",
    "        \"Metric\": roc_auc_score(y_test, torch.from_numpy(y_score[:, 1])).item()*100\n",
    "    })\n",
    "    results.append({\n",
    "        \"Class\": \"Precision\",\n",
    "        \"Metric\": precision_score(y_test, torch.from_numpy(y_pred)).item()*100\n",
    "    })\n",
    "    results.append({\n",
    "        \"Class\": \"Recall\",\n",
    "        \"Metric\": recall_score(y_test, torch.from_numpy(y_pred)).item()*100\n",
    "    })\n",
    "    results.append({\n",
    "        \"Class\": \"Loss\",\n",
    "        \"Metric\": criterion(torch.from_numpy(y_score), y_test).item()*100\n",
    "    })\n",
    "    return results\n",
    "\n",
    "\n",
    "def test_model(model_fn, train_data, test_data, label_encoder=None, iters=10):\n",
    "    X_train, y_train = train_data\n",
    "    X_test, y_test = test_data\n",
    "    if label_encoder is not None:\n",
    "        labels = label_encoder.classes_\n",
    "    else:\n",
    "        labels = sorted(pd.unique(test_data))\n",
    "    \n",
    "    results = []\n",
    "\n",
    "    for i in range(iters):\n",
    "        model = model_fn()\n",
    "\n",
    "        model.fit(X_train, y_train);    \n",
    "        \n",
    "        y_pred = model.predict(X_test)\n",
    "        y_score = model.predict_proba(X_test)\n",
    "        results.extend(_summarize_results(y_pred, y_score, y_test, labels))\n",
    "\n",
    "    dframe = pd.DataFrame.from_dict(results)\n",
    "    sns.violinplot(data=dframe[dframe[\"Class\"]!=\"Loss\"], y=\"Class\", x=\"Metric\", orient='h')\n",
    "    return dframe\n",
    "\n",
    "def print_statistics(dframe):\n",
    "    mean, std = dframe[dframe[\"Class\"]==\"F1 score\"].mean(), dframe[dframe[\"Class\"]==\"F1 score\"].std()\n",
    "    print(f\"F1: {mean.values[0]:.3f} ~ {std.values[0]:.3f}\")\n",
    "\n",
    "    mean, std = dframe[dframe[\"Class\"]==\"ROC score\"].mean(), dframe[dframe[\"Class\"]==\"ROC score\"].std()\n",
    "    print(f\"C-statistics: {mean.values[0]:.3f} ~ {std.values[0]:.3f}\")\n",
    "\n",
    "    mean, std = dframe[dframe[\"Class\"]==\"Precision\"].mean(), dframe[dframe[\"Class\"]==\"Precision\"].std()\n",
    "    print(f\"Precision: {mean.values[0]:.3f} ~ {std.values[0]:.3f}\")\n",
    "\n",
    "    mean, std = dframe[dframe[\"Class\"]==\"Recall\"].mean(), dframe[dframe[\"Class\"]==\"Recall\"].std()\n",
    "    print(f\"Recall: {mean.values[0]:.3f} ~ {std.values[0]:.3f}\")\n",
    "    \n",
    "def log_statistics(dframe):\n",
    "    mean, std = dframe[dframe[\"Class\"]==\"F1 score\"].mean(), dframe[dframe[\"Class\"]==\"F1 score\"].std()\n",
    "    logger.info(f\"F1: {mean.values[0]:.3f} ~ {std.values[0]:.3f}\")\n",
    "\n",
    "    mean, std = dframe[dframe[\"Class\"]==\"ROC score\"].mean(), dframe[dframe[\"Class\"]==\"ROC score\"].std()\n",
    "    logger.info(f\"C-statistics: {mean.values[0]:.3f} ~ {std.values[0]:.3f}\")\n",
    "\n",
    "    mean, std = dframe[dframe[\"Class\"]==\"Precision\"].mean(), dframe[dframe[\"Class\"]==\"Precision\"].std()\n",
    "    logger.info(f\"Precision: {mean.values[0]:.3f} ~ {std.values[0]:.3f}\")\n",
    "\n",
    "    mean, std = dframe[dframe[\"Class\"]==\"Recall\"].mean(), dframe[dframe[\"Class\"]==\"Recall\"].std()\n",
    "    logger.info(f\"Recall: {mean.values[0]:.3f} ~ {std.values[0]:.3f}\")"
   ]
  },
  {
   "cell_type": "markdown",
   "id": "bf59445b-c0f0-4ee7-bfe9-5c8a57c22b86",
   "metadata": {},
   "source": [
    "### XGBoost"
   ]
  },
  {
   "cell_type": "code",
   "execution_count": 131,
   "id": "aacc321b-420a-47f3-88af-6bb02aa0ddbb",
   "metadata": {},
   "outputs": [],
   "source": [
    "from xgboost import XGBClassifier"
   ]
  },
  {
   "cell_type": "code",
   "execution_count": 132,
   "id": "d5cedd88-43b4-465c-b1e1-6a0b620ae73a",
   "metadata": {},
   "outputs": [
    {
     "data": {
      "image/png": "[encoded data removed]",
      "text/plain": [
       "<Figure size 576x396 with 1 Axes>"
      ]
     },
     "metadata": {},
     "output_type": "display_data"
    }
   ],
   "source": [
    "def get_xgboost():\n",
    "    random_seed = np.random.randint(1024)\n",
    "    return XGBClassifier(\n",
    "        verbosity=0,\n",
    "        random_state=random_seed,\n",
    "        subsample=0.98,\n",
    "        use_label_encoder=False)\n",
    "\n",
    "xgb_dframe = test_model(get_xgboost, \n",
    "                        (X_train, y_train), \n",
    "                        (X_test, y_test),\n",
    "                        label_encoder=y_label_enc, iters=10)"
   ]
  },
  {
   "cell_type": "code",
   "execution_count": 133,
   "id": "f530a0df-271a-495f-b49d-2cffe523c328",
   "metadata": {},
   "outputs": [
    {
     "name": "stdout",
     "output_type": "stream",
     "text": [
      "F1: 55.353 ~ 0.355\n",
      "C-statistics: 77.489 ~ 0.292\n",
      "Precision: 47.875 ~ 0.328\n",
      "Recall: 65.605 ~ 0.707\n"
     ]
    },
    {
     "name": "stderr",
     "output_type": "stream",
     "text": [
      "/tmp/ipykernel_276146/3812846823.py:66: FutureWarning: Dropping of nuisance columns in DataFrame reductions (with 'numeric_only=None') is deprecated; in a future version this will raise TypeError.  Select only valid columns before calling the reduction.\n",
      "  mean, std = dframe[dframe[\"Class\"]==\"F1 score\"].mean(), dframe[dframe[\"Class\"]==\"F1 score\"].std()\n",
      "/tmp/ipykernel_276146/3812846823.py:69: FutureWarning: Dropping of nuisance columns in DataFrame reductions (with 'numeric_only=None') is deprecated; in a future version this will raise TypeError.  Select only valid columns before calling the reduction.\n",
      "  mean, std = dframe[dframe[\"Class\"]==\"ROC score\"].mean(), dframe[dframe[\"Class\"]==\"ROC score\"].std()\n",
      "/tmp/ipykernel_276146/3812846823.py:72: FutureWarning: Dropping of nuisance columns in DataFrame reductions (with 'numeric_only=None') is deprecated; in a future version this will raise TypeError.  Select only valid columns before calling the reduction.\n",
      "  mean, std = dframe[dframe[\"Class\"]==\"Precision\"].mean(), dframe[dframe[\"Class\"]==\"Precision\"].std()\n",
      "/tmp/ipykernel_276146/3812846823.py:75: FutureWarning: Dropping of nuisance columns in DataFrame reductions (with 'numeric_only=None') is deprecated; in a future version this will raise TypeError.  Select only valid columns before calling the reduction.\n",
      "  mean, std = dframe[dframe[\"Class\"]==\"Recall\"].mean(), dframe[dframe[\"Class\"]==\"Recall\"].std()\n"
     ]
    }
   ],
   "source": [
    "print_statistics(xgb_dframe)"
   ]
  },
  {
   "cell_type": "markdown",
   "id": "555f70df-66b8-44c6-8b51-8165b847d034",
   "metadata": {},
   "source": [
    "### Neural network"
   ]
  },
  {
   "cell_type": "code",
   "execution_count": 142,
   "id": "f7ee0197-e3ab-4fe0-8962-4761d416ab57",
   "metadata": {},
   "outputs": [],
   "source": [
    "def simple_network_fn(epochs):\n",
    "    def _inner():\n",
    "#         net = SimpleNetwork(X_train.shape[1], outputs=2).to(DEVICE)\n",
    "        net = torch.nn.Sequential(\n",
    "#             torch.nn.Dropout(1-15/19),\n",
    "            torch.nn.Linear(X_train.shape[1], 100),\n",
    "            torch.nn.ReLU(),\n",
    "#             torch.nn.Dropout(0.5),\n",
    "            torch.nn.Linear(100, 2)\n",
    "        ).to(DEVICE)\n",
    "        return SimpleSklearnInterface(net, device=DEVICE, epochs=epochs, batch_size=32)\n",
    "    return _inner"
   ]
  },
  {
   "cell_type": "code",
   "execution_count": 143,
   "id": "c0a58805-64a0-4347-a106-0a85c44e3b64",
   "metadata": {},
   "outputs": [
    {
     "data": {
      "image/png": "[encoded data removed]",
      "text/plain": [
       "<Figure size 576x396 with 1 Axes>"
      ]
     },
     "metadata": {},
     "output_type": "display_data"
    }
   ],
   "source": [
    "simple_nn_results = test_model(simple_network_fn(150),\n",
    "                (X_train, y_train), \n",
    "                (X_test, y_test),\n",
    "                y_label_enc, 4)"
   ]
  },
  {
   "cell_type": "code",
   "execution_count": 145,
   "id": "2950a561-79f3-4a7d-b399-e6bd66d12bd0",
   "metadata": {},
   "outputs": [
    {
     "name": "stdout",
     "output_type": "stream",
     "text": [
      "F1: 58.791 ~ 0.489\n",
      "C-statistics: 81.163 ~ 0.167\n",
      "Precision: 48.158 ~ 0.670\n",
      "Recall: 75.463 ~ 0.801\n"
     ]
    },
    {
     "name": "stderr",
     "output_type": "stream",
     "text": [
      "/tmp/ipykernel_276146/3812846823.py:66: FutureWarning: Dropping of nuisance columns in DataFrame reductions (with 'numeric_only=None') is deprecated; in a future version this will raise TypeError.  Select only valid columns before calling the reduction.\n",
      "  mean, std = dframe[dframe[\"Class\"]==\"F1 score\"].mean(), dframe[dframe[\"Class\"]==\"F1 score\"].std()\n",
      "/tmp/ipykernel_276146/3812846823.py:69: FutureWarning: Dropping of nuisance columns in DataFrame reductions (with 'numeric_only=None') is deprecated; in a future version this will raise TypeError.  Select only valid columns before calling the reduction.\n",
      "  mean, std = dframe[dframe[\"Class\"]==\"ROC score\"].mean(), dframe[dframe[\"Class\"]==\"ROC score\"].std()\n",
      "/tmp/ipykernel_276146/3812846823.py:72: FutureWarning: Dropping of nuisance columns in DataFrame reductions (with 'numeric_only=None') is deprecated; in a future version this will raise TypeError.  Select only valid columns before calling the reduction.\n",
      "  mean, std = dframe[dframe[\"Class\"]==\"Precision\"].mean(), dframe[dframe[\"Class\"]==\"Precision\"].std()\n",
      "/tmp/ipykernel_276146/3812846823.py:75: FutureWarning: Dropping of nuisance columns in DataFrame reductions (with 'numeric_only=None') is deprecated; in a future version this will raise TypeError.  Select only valid columns before calling the reduction.\n",
      "  mean, std = dframe[dframe[\"Class\"]==\"Recall\"].mean(), dframe[dframe[\"Class\"]==\"Recall\"].std()\n"
     ]
    }
   ],
   "source": [
    "print_statistics(simple_nn_results)"
   ]
  },
  {
   "cell_type": "markdown",
   "id": "d08dcdab-2c4b-4a05-822b-912037488763",
   "metadata": {},
   "source": [
    "### NODE"
   ]
  },
  {
   "cell_type": "code",
   "execution_count": 74,
   "id": "64d10cad-57b5-488c-9a94-63259bd0c13e",
   "metadata": {},
   "outputs": [],
   "source": [
    "from qhoptim.pyt import QHAdam"
   ]
  },
  {
   "cell_type": "code",
   "execution_count": 107,
   "id": "806be7a7-e4c8-4525-a38f-9ae16a3bd229",
   "metadata": {},
   "outputs": [],
   "source": [
    "def node_fn(layer_dims):\n",
    "    def _inner():\n",
    "        network = torch.nn.Sequential(\n",
    "            node.DenseBlock(X_train.shape[1], layer_dims, num_layers=1, tree_dim=2, depth=6, flatten_output=False,\n",
    "                           choice_function=node.entmax15, bin_function=node.entmoid15),\n",
    "            node.Lambda(lambda x: x.mean(dim=1))\n",
    "        )\n",
    "        \n",
    "        with torch.no_grad():\n",
    "            res = network(torch.as_tensor(X_train[:1000], device='cpu').to(torch.float32))\n",
    "        \n",
    "        network = network.to(DEVICE)\n",
    "        network.device=DEVICE\n",
    "            \n",
    "        optimizer_params = { 'nus':(0.7, 1.0), 'betas':(0.95, 0.998) }\n",
    "        optim = QHAdam(network.parameters(), **optimizer_params)\n",
    "            \n",
    "        network = SimpleSklearnInterface(network, device=DEVICE, epochs=150, batch_size=32)\n",
    "        network.optimizer = optim\n",
    "        return network\n",
    "    return _inner"
   ]
  },
  {
   "cell_type": "code",
   "execution_count": 146,
   "id": "f6e447c1-63a6-4c90-b22e-5e0852817f9b",
   "metadata": {
    "tags": []
   },
   "outputs": [
    {
     "name": "stderr",
     "output_type": "stream",
     "text": [
      "/home/wwydmanski/.conda/envs/img_processing/lib/python3.8/site-packages/node/odst.py:113: UserWarning: Data-aware initialization is performed on less than 1000 data points. This may cause instability.To avoid potential problems, run this model on a data batch with at least 1000 data samples.You can do so manually before training. Use with torch.no_grad() for memory efficiency.\n",
      "  warn(\"Data-aware initialization is performed on less than 1000 data points. This may cause instability.\"\n",
      "/home/wwydmanski/.conda/envs/img_processing/lib/python3.8/site-packages/node/odst.py:113: UserWarning: Data-aware initialization is performed on less than 1000 data points. This may cause instability.To avoid potential problems, run this model on a data batch with at least 1000 data samples.You can do so manually before training. Use with torch.no_grad() for memory efficiency.\n",
      "  warn(\"Data-aware initialization is performed on less than 1000 data points. This may cause instability.\"\n",
      "/home/wwydmanski/.conda/envs/img_processing/lib/python3.8/site-packages/node/odst.py:113: UserWarning: Data-aware initialization is performed on less than 1000 data points. This may cause instability.To avoid potential problems, run this model on a data batch with at least 1000 data samples.You can do so manually before training. Use with torch.no_grad() for memory efficiency.\n",
      "  warn(\"Data-aware initialization is performed on less than 1000 data points. This may cause instability.\"\n",
      "/home/wwydmanski/.conda/envs/img_processing/lib/python3.8/site-packages/node/odst.py:113: UserWarning: Data-aware initialization is performed on less than 1000 data points. This may cause instability.To avoid potential problems, run this model on a data batch with at least 1000 data samples.You can do so manually before training. Use with torch.no_grad() for memory efficiency.\n",
      "  warn(\"Data-aware initialization is performed on less than 1000 data points. This may cause instability.\"\n"
     ]
    },
    {
     "data": {
      "image/png": "[encoded data removed]",
      "text/plain": [
       "<Figure size 576x396 with 1 Axes>"
      ]
     },
     "metadata": {},
     "output_type": "display_data"
    }
   ],
   "source": [
    "node_results = test_model(node_fn(128),\n",
    "                (X_train, y_train), \n",
    "                (X_test, y_test),\n",
    "                y_label_enc, 4)"
   ]
  },
  {
   "cell_type": "code",
   "execution_count": 148,
   "id": "fb5ac4ab-0f69-4bf8-90c8-0b46ddfe369a",
   "metadata": {},
   "outputs": [
    {
     "name": "stdout",
     "output_type": "stream",
     "text": [
      "F1: 59.550 ~ 0.134\n",
      "C-statistics: 82.738 ~ 0.093\n",
      "Precision: 46.044 ~ 0.228\n",
      "Recall: 84.273 ~ 0.370\n"
     ]
    },
    {
     "name": "stderr",
     "output_type": "stream",
     "text": [
      "/tmp/ipykernel_276146/3812846823.py:66: FutureWarning: Dropping of nuisance columns in DataFrame reductions (with 'numeric_only=None') is deprecated; in a future version this will raise TypeError.  Select only valid columns before calling the reduction.\n",
      "  mean, std = dframe[dframe[\"Class\"]==\"F1 score\"].mean(), dframe[dframe[\"Class\"]==\"F1 score\"].std()\n",
      "/tmp/ipykernel_276146/3812846823.py:69: FutureWarning: Dropping of nuisance columns in DataFrame reductions (with 'numeric_only=None') is deprecated; in a future version this will raise TypeError.  Select only valid columns before calling the reduction.\n",
      "  mean, std = dframe[dframe[\"Class\"]==\"ROC score\"].mean(), dframe[dframe[\"Class\"]==\"ROC score\"].std()\n",
      "/tmp/ipykernel_276146/3812846823.py:72: FutureWarning: Dropping of nuisance columns in DataFrame reductions (with 'numeric_only=None') is deprecated; in a future version this will raise TypeError.  Select only valid columns before calling the reduction.\n",
      "  mean, std = dframe[dframe[\"Class\"]==\"Precision\"].mean(), dframe[dframe[\"Class\"]==\"Precision\"].std()\n",
      "/tmp/ipykernel_276146/3812846823.py:75: FutureWarning: Dropping of nuisance columns in DataFrame reductions (with 'numeric_only=None') is deprecated; in a future version this will raise TypeError.  Select only valid columns before calling the reduction.\n",
      "  mean, std = dframe[dframe[\"Class\"]==\"Recall\"].mean(), dframe[dframe[\"Class\"]==\"Recall\"].std()\n"
     ]
    }
   ],
   "source": [
    "print_statistics(node_results)"
   ]
  },
  {
   "cell_type": "markdown",
   "id": "1d60779d-0042-49af-8a32-e6d0b59e1589",
   "metadata": {
    "tags": []
   },
   "source": [
    "### Hypernetwork"
   ]
  },
  {
   "cell_type": "code",
   "execution_count": 20,
   "id": "6e5536d6-cf9d-4a2b-9d7b-184c0ac27a84",
   "metadata": {},
   "outputs": [],
   "source": [
    "def network_fn(batch_size):\n",
    "    def _inner():\n",
    "        network = Hypernetwork(inp_size=X_train.shape[1], \n",
    "                            out_size=y.max().item()+1, \n",
    "                            mask_size=15,\n",
    "                            layers=[128, 128, 128],\n",
    "                            node_hidden_size=100, \n",
    "                            test_nodes=15, device=DEVICE).to(DEVICE)\n",
    "\n",
    "        network = HypernetworkSklearnInterface(network, device=DEVICE, epochs=1500, batch_size=batch_size)\n",
    "        return network\n",
    "    return _inner"
   ]
  },
  {
   "cell_type": "code",
   "execution_count": 18,
   "id": "1e43b7af-9be5-427a-be2e-4f134ba1e644",
   "metadata": {},
   "outputs": [],
   "source": [
    "def figure_to_html():\n",
    "    tmpfile = BytesIO()\n",
    "    plt.gcf().savefig(tmpfile, format='png')\n",
    "    encoded = base64.b64encode(tmpfile.getvalue()).decode('utf-8')\n",
    "\n",
    "    html = '<img src=\\'data:image/png;base64,{}\\'>'.format(encoded)\n",
    "    return html"
   ]
  },
  {
   "cell_type": "code",
   "execution_count": 19,
   "id": "f2a5bfb3-e838-40a5-a489-ac101c481cfa",
   "metadata": {},
   "outputs": [
    {
     "data": {
      "text/plain": [
       "torch.Size([150, 19])"
      ]
     },
     "execution_count": 19,
     "metadata": {},
     "output_type": "execute_result"
    }
   ],
   "source": [
    "X_train.shape"
   ]
  },
  {
   "cell_type": "code",
   "execution_count": null,
   "id": "f5b3a72c-14cf-4d70-bb83-1f0a8aad5144",
   "metadata": {},
   "outputs": [
    {
     "name": "stderr",
     "output_type": "stream",
     "text": [
      "100%|███████████████████████████████████████████████████████████████████████████████| 1500/1500 [05:11<00:00,  4.81it/s]\n",
      " 49%|██████████████████████████████████████▉                                         | 731/1500 [02:32<02:41,  4.77it/s]"
     ]
    }
   ],
   "source": [
    "nn_results = test_model(network_fn(1500),\n",
    "                (X_train, y_train), \n",
    "                (X_test, y_test),\n",
    "                y_label_enc, 4)"
   ]
  },
  {
   "cell_type": "code",
   "execution_count": 163,
   "id": "a4798106-e389-4cae-9f01-c1667bb2a423",
   "metadata": {},
   "outputs": [
    {
     "name": "stdout",
     "output_type": "stream",
     "text": [
      "F1: 51.015 ~ 2.377\n",
      "C-statistics: 74.728 ~ 1.471\n",
      "Precision: 46.972 ~ 1.275\n",
      "Recall: 55.910 ~ 4.324\n"
     ]
    },
    {
     "name": "stderr",
     "output_type": "stream",
     "text": [
      "/tmp/ipykernel_276146/3812846823.py:66: FutureWarning: Dropping of nuisance columns in DataFrame reductions (with 'numeric_only=None') is deprecated; in a future version this will raise TypeError.  Select only valid columns before calling the reduction.\n",
      "  mean, std = dframe[dframe[\"Class\"]==\"F1 score\"].mean(), dframe[dframe[\"Class\"]==\"F1 score\"].std()\n",
      "/tmp/ipykernel_276146/3812846823.py:69: FutureWarning: Dropping of nuisance columns in DataFrame reductions (with 'numeric_only=None') is deprecated; in a future version this will raise TypeError.  Select only valid columns before calling the reduction.\n",
      "  mean, std = dframe[dframe[\"Class\"]==\"ROC score\"].mean(), dframe[dframe[\"Class\"]==\"ROC score\"].std()\n",
      "/tmp/ipykernel_276146/3812846823.py:72: FutureWarning: Dropping of nuisance columns in DataFrame reductions (with 'numeric_only=None') is deprecated; in a future version this will raise TypeError.  Select only valid columns before calling the reduction.\n",
      "  mean, std = dframe[dframe[\"Class\"]==\"Precision\"].mean(), dframe[dframe[\"Class\"]==\"Precision\"].std()\n",
      "/tmp/ipykernel_276146/3812846823.py:75: FutureWarning: Dropping of nuisance columns in DataFrame reductions (with 'numeric_only=None') is deprecated; in a future version this will raise TypeError.  Select only valid columns before calling the reduction.\n",
      "  mean, std = dframe[dframe[\"Class\"]==\"Recall\"].mean(), dframe[dframe[\"Class\"]==\"Recall\"].std()\n"
     ]
    }
   ],
   "source": [
    "print_statistics(nn_results)"
   ]
  },
  {
   "cell_type": "code",
   "execution_count": 164,
   "id": "4ea9b195-bc9c-4582-bdd6-99e5073b9ae2",
   "metadata": {
    "collapsed": true,
    "jupyter": {
     "outputs_hidden": true
    },
    "tags": []
   },
   "outputs": [
    {
     "data": {
      "text/plain": [
       "{50:         Class     Metric\n",
       " 0          No  66.320736\n",
       " 1         Yes  77.614379\n",
       " 2       Total  69.307216\n",
       " 3    F1 score  57.217426\n",
       " 4   ROC score  78.311167\n",
       " 5   Precision  45.310016\n",
       " 6      Recall  77.614379\n",
       " 7        Loss  57.040131\n",
       " 8          No  70.119444\n",
       " 9         Yes  68.082789\n",
       " 10      Total  69.580873\n",
       " 11   F1 score  54.206418\n",
       " 12  ROC score  76.747164\n",
       " 13  Precision  45.028818\n",
       " 14     Recall  68.082789\n",
       " 15       Loss  55.312008\n",
       " 16         No  59.917760\n",
       " 17        Yes  76.851852\n",
       " 18      Total  64.395794\n",
       " 19   F1 score  53.305629\n",
       " 20  ROC score  77.189197\n",
       " 21  Precision  40.803933\n",
       " 22     Recall  76.851852\n",
       " 23       Loss  61.701262\n",
       " 24         No  72.841198\n",
       " 25        Yes  66.557734\n",
       " 26      Total  71.179605\n",
       " 27   F1 score  54.983127\n",
       " 28  ROC score  77.348116\n",
       " 29  Precision  46.837869\n",
       " 30     Recall  66.557734\n",
       " 31       Loss  53.947181,\n",
       " 100:         Class     Metric\n",
       " 0          No  66.849422\n",
       " 1         Yes  77.342048\n",
       " 2       Total  69.624082\n",
       " 3    F1 score  57.385330\n",
       " 4   ROC score  78.928149\n",
       " 5   Precision  45.615162\n",
       " 6      Recall  77.342048\n",
       " 7        Loss  56.698143\n",
       " 8          No  75.817505\n",
       " 9         Yes  61.328976\n",
       " 10      Total  71.986173\n",
       " 11   F1 score  53.657374\n",
       " 12  ROC score  76.490852\n",
       " 13  Precision  47.691656\n",
       " 14     Recall  61.328976\n",
       " 15       Loss  51.641953\n",
       " 16         No  69.649501\n",
       " 17        Yes  68.082789\n",
       " 18      Total  69.235201\n",
       " 19   F1 score  53.925798\n",
       " 20  ROC score  75.728005\n",
       " 21  Precision  44.642857\n",
       " 22     Recall  68.082789\n",
       " 23       Loss  56.199598\n",
       " 24         No  72.429998\n",
       " 25        Yes  67.265795\n",
       " 26      Total  71.064381\n",
       " 27   F1 score  55.146238\n",
       " 28  ROC score  78.294999\n",
       " 29  Precision  46.727204\n",
       " 30     Recall  67.265795\n",
       " 31       Loss  54.434341,\n",
       " 150:         Class     Metric\n",
       " 0          No  76.228706\n",
       " 1         Yes  64.760349\n",
       " 2       Total  73.196025\n",
       " 3    F1 score  56.098136\n",
       " 4   ROC score  78.624260\n",
       " 5   Precision  49.479817\n",
       " 6      Recall  64.760349\n",
       " 7        Loss  52.605277\n",
       " 8          No  66.673194\n",
       " 9         Yes  73.747277\n",
       " 10      Total  68.543857\n",
       " 11   F1 score  55.355683\n",
       " 12  ROC score  75.274112\n",
       " 13  Precision  44.306283\n",
       " 14     Recall  73.747277\n",
       " 15       Loss  61.924595\n",
       " 16         No  65.889955\n",
       " 17        Yes  75.272331\n",
       " 18      Total  68.371021\n",
       " 19   F1 score  55.725806\n",
       " 20  ROC score  74.734452\n",
       " 21  Precision  44.238156\n",
       " 22     Recall  75.272331\n",
       " 23       Loss  63.455015\n",
       " 24         No  78.793812\n",
       " 25        Yes  60.021786\n",
       " 26      Total  73.829757\n",
       " 27   F1 score  54.812236\n",
       " 28  ROC score  76.242624\n",
       " 29  Precision  50.434783\n",
       " 30     Recall  60.021786\n",
       " 31       Loss  51.874655,\n",
       " 200:         Class     Metric\n",
       " 0          No  77.090268\n",
       " 1         Yes  59.749455\n",
       " 2       Total  72.504681\n",
       " 3    F1 score  53.473068\n",
       " 4   ROC score  77.936484\n",
       " 5   Precision  48.389943\n",
       " 6      Recall  59.749455\n",
       " 7        Loss  56.346190\n",
       " 8          No  73.859409\n",
       " 9         Yes  64.814815\n",
       " 10      Total  71.467665\n",
       " 11   F1 score  54.574639\n",
       " 12  ROC score  75.293970\n",
       " 13  Precision  47.128713\n",
       " 14     Recall  64.814815\n",
       " 15       Loss  57.451403\n",
       " 16         No  77.246916\n",
       " 17        Yes  63.671024\n",
       " 18      Total  73.656921\n",
       " 19   F1 score  56.107511\n",
       " 20  ROC score  78.319363\n",
       " 21  Precision  50.150150\n",
       " 22     Recall  63.671024\n",
       " 23       Loss  56.799513\n",
       " 24         No  79.714118\n",
       " 25        Yes  55.228758\n",
       " 26      Total  73.239234\n",
       " 27   F1 score  52.187339\n",
       " 28  ROC score  76.333180\n",
       " 29  Precision  49.463415\n",
       " 30     Recall  55.228758\n",
       " 31       Loss  54.455817,\n",
       " 300:         Class     Metric\n",
       " 0          No  72.704132\n",
       " 1         Yes  62.309368\n",
       " 2       Total  69.955351\n",
       " 3    F1 score  52.309099\n",
       " 4   ROC score  75.061388\n",
       " 5   Precision  45.074862\n",
       " 6      Recall  62.309368\n",
       " 7        Loss  78.379697\n",
       " 8          No  77.716859\n",
       " 9         Yes  53.921569\n",
       " 10      Total  71.424456\n",
       " 11   F1 score  49.949546\n",
       " 12  ROC score  71.737385\n",
       " 13  Precision  46.522556\n",
       " 14     Recall  53.921569\n",
       " 15       Loss  77.639300\n",
       " 16         No  76.189544\n",
       " 17        Yes  56.862745\n",
       " 18      Total  71.078784\n",
       " 19   F1 score  50.976562\n",
       " 20  ROC score  73.462339\n",
       " 21  Precision  46.194690\n",
       " 22     Recall  56.862745\n",
       " 23       Loss  68.967807\n",
       " 24         No  74.877619\n",
       " 25        Yes  61.710240\n",
       " 26      Total  71.395650\n",
       " 27   F1 score  53.292568\n",
       " 28  ROC score  76.050557\n",
       " 29  Precision  46.895695\n",
       " 30     Recall  61.710240\n",
       " 31       Loss  65.680075,\n",
       " 500:         Class      Metric\n",
       " 0          No   74.760133\n",
       " 1         Yes   60.457516\n",
       " 2       Total   70.977963\n",
       " 3    F1 score   52.420307\n",
       " 4   ROC score   73.626815\n",
       " 5   Precision   46.269279\n",
       " 6      Recall   60.457516\n",
       " 7        Loss   99.978000\n",
       " 8          No   75.073429\n",
       " 9         Yes   59.313725\n",
       " 10      Total   70.905948\n",
       " 11   F1 score   51.881848\n",
       " 12  ROC score   74.993686\n",
       " 13  Precision   46.104996\n",
       " 14     Recall   59.313725\n",
       " 15       Loss   92.859459\n",
       " 16         No   81.691796\n",
       " 17        Yes   54.302832\n",
       " 18      Total   74.449085\n",
       " 19   F1 score   52.919321\n",
       " 20  ROC score   77.063787\n",
       " 21  Precision   51.604555\n",
       " 22     Recall   54.302832\n",
       " 23       Loss   97.894269\n",
       " 24         No   69.101234\n",
       " 25        Yes   64.705882\n",
       " 26      Total   67.938931\n",
       " 27   F1 score   51.629726\n",
       " 28  ROC score   72.063804\n",
       " 29  Precision   42.950108\n",
       " 30     Recall   64.705882\n",
       " 31       Loss  124.403739,\n",
       " 700:         Class      Metric\n",
       " 0          No   78.793812\n",
       " 1         Yes   52.233115\n",
       " 2       Total   71.770128\n",
       " 3    F1 score   49.458484\n",
       " 4   ROC score   74.502786\n",
       " 5   Precision   46.963761\n",
       " 6      Recall   52.233115\n",
       " 7        Loss  113.438106\n",
       " 8          No   78.460936\n",
       " 9         Yes   59.694989\n",
       " 10      Total   73.498488\n",
       " 11   F1 score   54.365079\n",
       " 12  ROC score   78.106570\n",
       " 13  Precision   49.908925\n",
       " 14     Recall   59.694989\n",
       " 15       Loss   99.144852\n",
       " 16         No   84.002350\n",
       " 17        Yes   43.954248\n",
       " 18      Total   73.412070\n",
       " 19   F1 score   46.647399\n",
       " 20  ROC score   75.054434\n",
       " 21  Precision   49.692118\n",
       " 22     Recall   43.954248\n",
       " 23       Loss  115.229785\n",
       " 24         No   74.936362\n",
       " 25        Yes   56.971678\n",
       " 26      Total   70.185799\n",
       " 27   F1 score   50.264296\n",
       " 28  ROC score   73.988151\n",
       " 29  Precision   44.969905\n",
       " 30     Recall   56.971678\n",
       " 31       Loss  110.533762,\n",
       " 1000:         Class      Metric\n",
       " 0          No   76.679068\n",
       " 1         Yes   55.283224\n",
       " 2       Total   71.021172\n",
       " 3    F1 score   50.222662\n",
       " 4   ROC score   73.009044\n",
       " 5   Precision   46.010879\n",
       " 6      Recall   55.283224\n",
       " 7        Loss  148.194027\n",
       " 8          No   79.851185\n",
       " 9         Yes   48.856209\n",
       " 10      Total   71.654904\n",
       " 11   F1 score   47.687400\n",
       " 12  ROC score   72.759078\n",
       " 13  Precision   46.573209\n",
       " 14     Recall   48.856209\n",
       " 15       Loss  121.402466\n",
       " 16         No   79.518308\n",
       " 17        Yes   48.965142\n",
       " 18      Total   71.438859\n",
       " 19   F1 score   47.553557\n",
       " 20  ROC score   74.408326\n",
       " 21  Precision   46.221080\n",
       " 22     Recall   48.965142\n",
       " 23       Loss  129.504752\n",
       " 24         No   81.378500\n",
       " 25        Yes   50.980392\n",
       " 26      Total   73.340055\n",
       " 27   F1 score   50.282031\n",
       " 28  ROC score   74.604008\n",
       " 29  Precision   49.602544\n",
       " 30     Recall   50.980392\n",
       " 31       Loss  100.971091}"
      ]
     },
     "execution_count": 164,
     "metadata": {},
     "output_type": "execute_result"
    }
   ],
   "source": [
    "res"
   ]
  },
  {
   "cell_type": "code",
   "execution_count": null,
   "id": "d919c645-e3e3-4598-82aa-95d764b28ec9",
   "metadata": {
    "collapsed": true,
    "jupyter": {
     "outputs_hidden": true
    },
    "tags": []
   },
   "outputs": [
    {
     "name": "stderr",
     "output_type": "stream",
     "text": [
      "100%|███████████████████████████████████████████████████████████████████████████████████| 50/50 [00:10<00:00,  4.92it/s]\n",
      "100%|███████████████████████████████████████████████████████████████████████████████████| 50/50 [00:09<00:00,  5.00it/s]\n",
      "100%|███████████████████████████████████████████████████████████████████████████████████| 50/50 [00:10<00:00,  4.94it/s]\n",
      "100%|███████████████████████████████████████████████████████████████████████████████████| 50/50 [00:10<00:00,  4.86it/s]\n",
      "2022-05-11 08:28:15.072 | INFO     | __main__:<module>:8 - Number of epochs: 50\n",
      "/tmp/ipykernel_276146/3812846823.py:79: FutureWarning: Dropping of nuisance columns in DataFrame reductions (with 'numeric_only=None') is deprecated; in a future version this will raise TypeError.  Select only valid columns before calling the reduction.\n",
      "  mean, std = dframe[dframe[\"Class\"]==\"F1 score\"].mean(), dframe[dframe[\"Class\"]==\"F1 score\"].std()\n",
      "2022-05-11 08:28:15.075 | INFO     | __main__:log_statistics:80 - F1: 54.928 ~ 1.673\n",
      "/tmp/ipykernel_276146/3812846823.py:82: FutureWarning: Dropping of nuisance columns in DataFrame reductions (with 'numeric_only=None') is deprecated; in a future version this will raise TypeError.  Select only valid columns before calling the reduction.\n",
      "  mean, std = dframe[dframe[\"Class\"]==\"ROC score\"].mean(), dframe[dframe[\"Class\"]==\"ROC score\"].std()\n",
      "2022-05-11 08:28:15.077 | INFO     | __main__:log_statistics:83 - C-statistics: 77.399 ~ 0.659\n",
      "/tmp/ipykernel_276146/3812846823.py:85: FutureWarning: Dropping of nuisance columns in DataFrame reductions (with 'numeric_only=None') is deprecated; in a future version this will raise TypeError.  Select only valid columns before calling the reduction.\n",
      "  mean, std = dframe[dframe[\"Class\"]==\"Precision\"].mean(), dframe[dframe[\"Class\"]==\"Precision\"].std()\n",
      "2022-05-11 08:28:15.079 | INFO     | __main__:log_statistics:86 - Precision: 44.495 ~ 2.586\n",
      "/tmp/ipykernel_276146/3812846823.py:88: FutureWarning: Dropping of nuisance columns in DataFrame reductions (with 'numeric_only=None') is deprecated; in a future version this will raise TypeError.  Select only valid columns before calling the reduction.\n",
      "  mean, std = dframe[dframe[\"Class\"]==\"Recall\"].mean(), dframe[dframe[\"Class\"]==\"Recall\"].std()\n",
      "2022-05-11 08:28:15.081 | INFO     | __main__:log_statistics:89 - Recall: 72.277 ~ 5.765\n",
      "100%|█████████████████████████████████████████████████████████████████████████████████| 100/100 [00:20<00:00,  4.90it/s]\n",
      "100%|█████████████████████████████████████████████████████████████████████████████████| 100/100 [00:20<00:00,  4.96it/s]\n",
      "100%|█████████████████████████████████████████████████████████████████████████████████| 100/100 [00:20<00:00,  4.89it/s]\n",
      "100%|█████████████████████████████████████████████████████████████████████████████████| 100/100 [00:20<00:00,  4.96it/s]\n",
      "2022-05-11 08:29:40.809 | INFO     | __main__:<module>:8 - Number of epochs: 100\n",
      "/tmp/ipykernel_276146/3812846823.py:79: FutureWarning: Dropping of nuisance columns in DataFrame reductions (with 'numeric_only=None') is deprecated; in a future version this will raise TypeError.  Select only valid columns before calling the reduction.\n",
      "  mean, std = dframe[dframe[\"Class\"]==\"F1 score\"].mean(), dframe[dframe[\"Class\"]==\"F1 score\"].std()\n",
      "2022-05-11 08:29:40.812 | INFO     | __main__:log_statistics:80 - F1: 55.029 ~ 1.699\n",
      "/tmp/ipykernel_276146/3812846823.py:82: FutureWarning: Dropping of nuisance columns in DataFrame reductions (with 'numeric_only=None') is deprecated; in a future version this will raise TypeError.  Select only valid columns before calling the reduction.\n",
      "  mean, std = dframe[dframe[\"Class\"]==\"ROC score\"].mean(), dframe[dframe[\"Class\"]==\"ROC score\"].std()\n",
      "2022-05-11 08:29:40.814 | INFO     | __main__:log_statistics:83 - C-statistics: 77.361 ~ 1.500\n",
      "/tmp/ipykernel_276146/3812846823.py:85: FutureWarning: Dropping of nuisance columns in DataFrame reductions (with 'numeric_only=None') is deprecated; in a future version this will raise TypeError.  Select only valid columns before calling the reduction.\n",
      "  mean, std = dframe[dframe[\"Class\"]==\"Precision\"].mean(), dframe[dframe[\"Class\"]==\"Precision\"].std()\n",
      "2022-05-11 08:29:40.816 | INFO     | __main__:log_statistics:86 - Precision: 46.169 ~ 1.325\n",
      "/tmp/ipykernel_276146/3812846823.py:88: FutureWarning: Dropping of nuisance columns in DataFrame reductions (with 'numeric_only=None') is deprecated; in a future version this will raise TypeError.  Select only valid columns before calling the reduction.\n",
      "  mean, std = dframe[dframe[\"Class\"]==\"Recall\"].mean(), dframe[dframe[\"Class\"]==\"Recall\"].std()\n",
      "2022-05-11 08:29:40.818 | INFO     | __main__:log_statistics:89 - Recall: 68.505 ~ 6.616\n",
      "100%|█████████████████████████████████████████████████████████████████████████████████| 150/150 [00:30<00:00,  4.95it/s]\n",
      "100%|█████████████████████████████████████████████████████████████████████████████████| 150/150 [00:30<00:00,  4.97it/s]\n",
      "100%|█████████████████████████████████████████████████████████████████████████████████| 150/150 [00:30<00:00,  4.95it/s]\n",
      "100%|█████████████████████████████████████████████████████████████████████████████████| 150/150 [00:30<00:00,  4.96it/s]\n",
      "2022-05-11 08:31:46.279 | INFO     | __main__:<module>:8 - Number of epochs: 150\n",
      "/tmp/ipykernel_276146/3812846823.py:79: FutureWarning: Dropping of nuisance columns in DataFrame reductions (with 'numeric_only=None') is deprecated; in a future version this will raise TypeError.  Select only valid columns before calling the reduction.\n",
      "  mean, std = dframe[dframe[\"Class\"]==\"F1 score\"].mean(), dframe[dframe[\"Class\"]==\"F1 score\"].std()\n",
      "2022-05-11 08:31:46.281 | INFO     | __main__:log_statistics:80 - F1: 55.498 ~ 0.549\n",
      "/tmp/ipykernel_276146/3812846823.py:82: FutureWarning: Dropping of nuisance columns in DataFrame reductions (with 'numeric_only=None') is deprecated; in a future version this will raise TypeError.  Select only valid columns before calling the reduction.\n",
      "  mean, std = dframe[dframe[\"Class\"]==\"ROC score\"].mean(), dframe[dframe[\"Class\"]==\"ROC score\"].std()\n",
      "2022-05-11 08:31:46.283 | INFO     | __main__:log_statistics:83 - C-statistics: 76.219 ~ 1.721\n",
      "/tmp/ipykernel_276146/3812846823.py:85: FutureWarning: Dropping of nuisance columns in DataFrame reductions (with 'numeric_only=None') is deprecated; in a future version this will raise TypeError.  Select only valid columns before calling the reduction.\n",
      "  mean, std = dframe[dframe[\"Class\"]==\"Precision\"].mean(), dframe[dframe[\"Class\"]==\"Precision\"].std()\n",
      "2022-05-11 08:31:46.285 | INFO     | __main__:log_statistics:86 - Precision: 47.115 ~ 3.305\n",
      "/tmp/ipykernel_276146/3812846823.py:88: FutureWarning: Dropping of nuisance columns in DataFrame reductions (with 'numeric_only=None') is deprecated; in a future version this will raise TypeError.  Select only valid columns before calling the reduction.\n",
      "  mean, std = dframe[dframe[\"Class\"]==\"Recall\"].mean(), dframe[dframe[\"Class\"]==\"Recall\"].std()\n",
      "2022-05-11 08:31:46.287 | INFO     | __main__:log_statistics:89 - Recall: 68.450 ~ 7.286\n",
      "100%|█████████████████████████████████████████████████████████████████████████████████| 200/200 [00:39<00:00,  5.03it/s]\n",
      "100%|█████████████████████████████████████████████████████████████████████████████████| 200/200 [00:39<00:00,  5.02it/s]\n",
      "100%|█████████████████████████████████████████████████████████████████████████████████| 200/200 [00:39<00:00,  5.09it/s]\n",
      "100%|█████████████████████████████████████████████████████████████████████████████████| 200/200 [00:39<00:00,  5.10it/s]\n",
      "2022-05-11 08:34:28.937 | INFO     | __main__:<module>:8 - Number of epochs: 200\n",
      "/tmp/ipykernel_276146/3812846823.py:79: FutureWarning: Dropping of nuisance columns in DataFrame reductions (with 'numeric_only=None') is deprecated; in a future version this will raise TypeError.  Select only valid columns before calling the reduction.\n",
      "  mean, std = dframe[dframe[\"Class\"]==\"F1 score\"].mean(), dframe[dframe[\"Class\"]==\"F1 score\"].std()\n",
      "2022-05-11 08:34:28.940 | INFO     | __main__:log_statistics:80 - F1: 54.086 ~ 1.664\n",
      "/tmp/ipykernel_276146/3812846823.py:82: FutureWarning: Dropping of nuisance columns in DataFrame reductions (with 'numeric_only=None') is deprecated; in a future version this will raise TypeError.  Select only valid columns before calling the reduction.\n",
      "  mean, std = dframe[dframe[\"Class\"]==\"ROC score\"].mean(), dframe[dframe[\"Class\"]==\"ROC score\"].std()\n",
      "2022-05-11 08:34:28.942 | INFO     | __main__:log_statistics:83 - C-statistics: 76.971 ~ 1.411\n",
      "/tmp/ipykernel_276146/3812846823.py:85: FutureWarning: Dropping of nuisance columns in DataFrame reductions (with 'numeric_only=None') is deprecated; in a future version this will raise TypeError.  Select only valid columns before calling the reduction.\n",
      "  mean, std = dframe[dframe[\"Class\"]==\"Precision\"].mean(), dframe[dframe[\"Class\"]==\"Precision\"].std()\n",
      "2022-05-11 08:34:28.944 | INFO     | __main__:log_statistics:86 - Precision: 48.783 ~ 1.319\n",
      "/tmp/ipykernel_276146/3812846823.py:88: FutureWarning: Dropping of nuisance columns in DataFrame reductions (with 'numeric_only=None') is deprecated; in a future version this will raise TypeError.  Select only valid columns before calling the reduction.\n",
      "  mean, std = dframe[dframe[\"Class\"]==\"Recall\"].mean(), dframe[dframe[\"Class\"]==\"Recall\"].std()\n",
      "2022-05-11 08:34:28.946 | INFO     | __main__:log_statistics:89 - Recall: 60.866 ~ 4.339\n",
      "100%|█████████████████████████████████████████████████████████████████████████████████| 300/300 [01:00<00:00,  4.98it/s]\n",
      "100%|█████████████████████████████████████████████████████████████████████████████████| 300/300 [01:00<00:00,  4.98it/s]\n",
      "100%|█████████████████████████████████████████████████████████████████████████████████| 300/300 [01:00<00:00,  4.96it/s]\n",
      "100%|█████████████████████████████████████████████████████████████████████████████████| 300/300 [01:00<00:00,  4.96it/s]\n",
      "2022-05-11 08:38:34.902 | INFO     | __main__:<module>:8 - Number of epochs: 300\n",
      "/tmp/ipykernel_276146/3812846823.py:79: FutureWarning: Dropping of nuisance columns in DataFrame reductions (with 'numeric_only=None') is deprecated; in a future version this will raise TypeError.  Select only valid columns before calling the reduction.\n",
      "  mean, std = dframe[dframe[\"Class\"]==\"F1 score\"].mean(), dframe[dframe[\"Class\"]==\"F1 score\"].std()\n",
      "2022-05-11 08:38:34.905 | INFO     | __main__:log_statistics:80 - F1: 51.632 ~ 1.469\n",
      "/tmp/ipykernel_276146/3812846823.py:82: FutureWarning: Dropping of nuisance columns in DataFrame reductions (with 'numeric_only=None') is deprecated; in a future version this will raise TypeError.  Select only valid columns before calling the reduction.\n",
      "  mean, std = dframe[dframe[\"Class\"]==\"ROC score\"].mean(), dframe[dframe[\"Class\"]==\"ROC score\"].std()\n",
      "2022-05-11 08:38:34.908 | INFO     | __main__:log_statistics:83 - C-statistics: 74.078 ~ 1.890\n",
      "/tmp/ipykernel_276146/3812846823.py:85: FutureWarning: Dropping of nuisance columns in DataFrame reductions (with 'numeric_only=None') is deprecated; in a future version this will raise TypeError.  Select only valid columns before calling the reduction.\n",
      "  mean, std = dframe[dframe[\"Class\"]==\"Precision\"].mean(), dframe[dframe[\"Class\"]==\"Precision\"].std()\n",
      "2022-05-11 08:38:34.910 | INFO     | __main__:log_statistics:86 - Precision: 46.172 ~ 0.785\n",
      "/tmp/ipykernel_276146/3812846823.py:88: FutureWarning: Dropping of nuisance columns in DataFrame reductions (with 'numeric_only=None') is deprecated; in a future version this will raise TypeError.  Select only valid columns before calling the reduction.\n",
      "  mean, std = dframe[dframe[\"Class\"]==\"Recall\"].mean(), dframe[dframe[\"Class\"]==\"Recall\"].std()\n",
      "2022-05-11 08:38:34.912 | INFO     | __main__:log_statistics:89 - Recall: 58.701 ~ 4.012\n",
      "100%|█████████████████████████████████████████████████████████████████████████████████| 500/500 [01:43<00:00,  4.82it/s]\n",
      "100%|█████████████████████████████████████████████████████████████████████████████████| 500/500 [01:44<00:00,  4.78it/s]\n",
      "100%|█████████████████████████████████████████████████████████████████████████████████| 500/500 [01:45<00:00,  4.74it/s]\n",
      "100%|█████████████████████████████████████████████████████████████████████████████████| 500/500 [01:44<00:00,  4.77it/s]\n",
      "2022-05-11 08:45:38.072 | INFO     | __main__:<module>:8 - Number of epochs: 500\n",
      "/tmp/ipykernel_276146/3812846823.py:79: FutureWarning: Dropping of nuisance columns in DataFrame reductions (with 'numeric_only=None') is deprecated; in a future version this will raise TypeError.  Select only valid columns before calling the reduction.\n",
      "  mean, std = dframe[dframe[\"Class\"]==\"F1 score\"].mean(), dframe[dframe[\"Class\"]==\"F1 score\"].std()\n",
      "2022-05-11 08:45:38.074 | INFO     | __main__:log_statistics:80 - F1: 52.213 ~ 0.575\n",
      "/tmp/ipykernel_276146/3812846823.py:82: FutureWarning: Dropping of nuisance columns in DataFrame reductions (with 'numeric_only=None') is deprecated; in a future version this will raise TypeError.  Select only valid columns before calling the reduction.\n",
      "  mean, std = dframe[dframe[\"Class\"]==\"ROC score\"].mean(), dframe[dframe[\"Class\"]==\"ROC score\"].std()\n",
      "2022-05-11 08:45:38.077 | INFO     | __main__:log_statistics:83 - C-statistics: 74.437 ~ 2.121\n",
      "/tmp/ipykernel_276146/3812846823.py:85: FutureWarning: Dropping of nuisance columns in DataFrame reductions (with 'numeric_only=None') is deprecated; in a future version this will raise TypeError.  Select only valid columns before calling the reduction.\n",
      "  mean, std = dframe[dframe[\"Class\"]==\"Precision\"].mean(), dframe[dframe[\"Class\"]==\"Precision\"].std()\n",
      "2022-05-11 08:45:38.079 | INFO     | __main__:log_statistics:86 - Precision: 46.732 ~ 3.589\n",
      "/tmp/ipykernel_276146/3812846823.py:88: FutureWarning: Dropping of nuisance columns in DataFrame reductions (with 'numeric_only=None') is deprecated; in a future version this will raise TypeError.  Select only valid columns before calling the reduction.\n",
      "  mean, std = dframe[dframe[\"Class\"]==\"Recall\"].mean(), dframe[dframe[\"Class\"]==\"Recall\"].std()\n",
      "2022-05-11 08:45:38.080 | INFO     | __main__:log_statistics:89 - Recall: 59.695 ~ 4.278\n",
      "100%|█████████████████████████████████████████████████████████████████████████████████| 700/700 [02:24<00:00,  4.83it/s]\n",
      "100%|█████████████████████████████████████████████████████████████████████████████████| 700/700 [02:26<00:00,  4.79it/s]\n",
      " 34%|███████████████████████████▍                                                     | 237/700 [00:49<01:37,  4.76it/s]"
     ]
    }
   ],
   "source": [
    "res = {}\n",
    "for epochs in [50, 100, 150, 200, 300, 500, 700, 1000]:\n",
    "    nn_results = test_model(network_fn(epochs),\n",
    "                    (X_train, y_train), \n",
    "                    (X_test, y_test),\n",
    "                    y_label_enc, 4)\n",
    "    res[epochs] = nn_results\n",
    "    logger.info(f\"Number of epochs: {epochs}\")\n",
    "    log_statistics(res[epochs])"
   ]
  },
  {
   "cell_type": "code",
   "execution_count": 166,
   "id": "a5e94e8c-0bc4-4c16-b0b7-0c4699157359",
   "metadata": {
    "collapsed": true,
    "jupyter": {
     "outputs_hidden": true
    },
    "tags": []
   },
   "outputs": [
    {
     "name": "stdout",
     "output_type": "stream",
     "text": [
      "F1: 54.928 ~ 1.673\n",
      "C-statistics: 77.399 ~ 0.659\n",
      "Precision: 44.495 ~ 2.586\n",
      "Recall: 72.277 ~ 5.765\n",
      "F1: 55.029 ~ 1.699\n",
      "C-statistics: 77.361 ~ 1.500\n",
      "Precision: 46.169 ~ 1.325\n",
      "Recall: 68.505 ~ 6.616\n",
      "F1: 55.498 ~ 0.549\n",
      "C-statistics: 76.219 ~ 1.721\n",
      "Precision: 47.115 ~ 3.305\n",
      "Recall: 68.450 ~ 7.286\n",
      "F1: 54.086 ~ 1.664\n",
      "C-statistics: 76.971 ~ 1.411\n",
      "Precision: 48.783 ~ 1.319\n",
      "Recall: 60.866 ~ 4.339\n",
      "F1: 51.632 ~ 1.469\n",
      "C-statistics: 74.078 ~ 1.890\n",
      "Precision: 46.172 ~ 0.785\n",
      "Recall: 58.701 ~ 4.012\n",
      "F1: 52.213 ~ 0.575\n",
      "C-statistics: 74.437 ~ 2.121\n",
      "Precision: 46.732 ~ 3.589\n",
      "Recall: 59.695 ~ 4.278\n",
      "F1: 50.184 ~ 3.190\n",
      "C-statistics: 75.413 ~ 1.848\n",
      "Precision: 47.884 ~ 2.360\n",
      "Recall: 53.214 ~ 6.900\n",
      "F1: 48.936 ~ 1.521\n",
      "C-statistics: 73.695 ~ 0.945\n",
      "Precision: 47.102 ~ 1.683\n",
      "Recall: 51.021 ~ 3.005\n"
     ]
    },
    {
     "name": "stderr",
     "output_type": "stream",
     "text": [
      "/tmp/ipykernel_276146/3812846823.py:66: FutureWarning: Dropping of nuisance columns in DataFrame reductions (with 'numeric_only=None') is deprecated; in a future version this will raise TypeError.  Select only valid columns before calling the reduction.\n",
      "  mean, std = dframe[dframe[\"Class\"]==\"F1 score\"].mean(), dframe[dframe[\"Class\"]==\"F1 score\"].std()\n",
      "/tmp/ipykernel_276146/3812846823.py:69: FutureWarning: Dropping of nuisance columns in DataFrame reductions (with 'numeric_only=None') is deprecated; in a future version this will raise TypeError.  Select only valid columns before calling the reduction.\n",
      "  mean, std = dframe[dframe[\"Class\"]==\"ROC score\"].mean(), dframe[dframe[\"Class\"]==\"ROC score\"].std()\n",
      "/tmp/ipykernel_276146/3812846823.py:72: FutureWarning: Dropping of nuisance columns in DataFrame reductions (with 'numeric_only=None') is deprecated; in a future version this will raise TypeError.  Select only valid columns before calling the reduction.\n",
      "  mean, std = dframe[dframe[\"Class\"]==\"Precision\"].mean(), dframe[dframe[\"Class\"]==\"Precision\"].std()\n",
      "/tmp/ipykernel_276146/3812846823.py:75: FutureWarning: Dropping of nuisance columns in DataFrame reductions (with 'numeric_only=None') is deprecated; in a future version this will raise TypeError.  Select only valid columns before calling the reduction.\n",
      "  mean, std = dframe[dframe[\"Class\"]==\"Recall\"].mean(), dframe[dframe[\"Class\"]==\"Recall\"].std()\n"
     ]
    }
   ],
   "source": [
    "for key in res.keys():\n",
    "    print_statistics(res[key])"
   ]
  },
  {
   "cell_type": "markdown",
   "id": "61056655-7f66-480e-ba54-ae15216c425d",
   "metadata": {},
   "source": [
    "#### Hyperparameter optimizations"
   ]
  },
  {
   "cell_type": "code",
   "execution_count": null,
   "id": "2d14ceb3-18e7-405e-8bd7-edeb55c84f53",
   "metadata": {
    "tags": []
   },
   "outputs": [
    {
     "name": "stderr",
     "output_type": "stream",
     "text": [
      "COMET INFO: ---------------------------\n",
      "COMET INFO: Comet.ml Experiment Summary\n",
      "COMET INFO: ---------------------------\n",
      "COMET INFO:   Data:\n",
      "COMET INFO:     display_summary_level : 1\n",
      "COMET INFO:     url                   : https://www.comet.ml/wwydmanski/blastchar-hypernet/88800e08f98b4b0297685774fa4f06a0\n",
      "COMET INFO:   Parameters:\n",
      "COMET INFO:     batch_size : 4\n",
      "COMET INFO:   Uploads:\n",
      "COMET INFO:     environment details      : 1\n",
      "COMET INFO:     filename                 : 1\n",
      "COMET INFO:     git metadata             : 1\n",
      "COMET INFO:     git-patch (uncompressed) : 1 (299.15 KB)\n",
      "COMET INFO:     installed packages       : 1\n",
      "COMET INFO:     notebook                 : 1\n",
      "COMET INFO:     os packages              : 1\n",
      "COMET INFO:     source_code              : 1\n",
      "COMET INFO: ---------------------------\n",
      "COMET WARNING: As you are running in a Jupyter environment, you will need to call `experiment.end()` when finished to ensure all metrics and code are logged before exiting.\n"
     ]
    }
   ],
   "source": [
    "hypernet_res = []\n",
    "for batch_size in [4, 8, 16, 32, 64]:\n",
    "    start = time.time()\n",
    "\n",
    "    exp = Experiment(os.environ.get(\"COMET_KEY\"), \"blastchar-hypernet\")\n",
    "    exp.log_parameters({\"batch_size\": batch_size})\n",
    "    nn_results = test_model(network_fn(batch_size),\n",
    "                            (X_train, y_train), \n",
    "                            (X_test, y_test), \n",
    "                            y_label_enc, 1)\n",
    "    nn_results[\"Epochs\"] = epochs\n",
    "    plt.title(f\"Epochs: {epochs}\")\n",
    "\n",
    "    loss = nn_results[nn_results[\"Class\"]==\"Loss\"][\"Accuracy\"]\n",
    "    accuracy = nn_results[nn_results[\"Class\"]==\"Total\"][\"Accuracy\"]\n",
    "    exp.log_metric(\"mean_loss\", loss.mean())\n",
    "    exp.log_metric(\"loss_std\", loss.std())\n",
    "    exp.log_metric(\"mean_acc\", accuracy.mean())\n",
    "    exp.log_metric(\"acc_std\", accuracy.std())\n",
    "\n",
    "    exp.log_dataframe_profile(nn_results)\n",
    "    exp.log_html(figure_to_html())\n",
    "    plt.show()\n",
    "\n",
    "    hypernet_res.append(nn_results)\n",
    "\n",
    "    end = datetime.timedelta(seconds=time.time()-start)\n",
    "    logger.info(f\"{epochs=} done in {str(end)}. Loss: {loss.mean():.3g}+-{loss.std():.3g}. Acc: {accuracy.mean():.1f}+-{accuracy.std():.2f}\")"
   ]
  },
  {
   "cell_type": "markdown",
   "id": "05400f77-e34c-44ea-9618-f11e428aa6a8",
   "metadata": {
    "tags": []
   },
   "source": [
    "### TabNet"
   ]
  },
  {
   "cell_type": "code",
   "execution_count": null,
   "id": "ce0eada6-0ed4-48d6-9d79-9b790e220bd6",
   "metadata": {},
   "outputs": [],
   "source": [
    "from pytorch_tabnet.tab_model import TabNetClassifier, TabNetRegressor"
   ]
  },
  {
   "cell_type": "code",
   "execution_count": 149,
   "id": "bb1cf77a-8707-4e4a-aa6c-18d9529ab20c",
   "metadata": {},
   "outputs": [
    {
     "data": {
      "text/plain": [
       "(134, 19)"
      ]
     },
     "execution_count": 149,
     "metadata": {},
     "output_type": "execute_result"
    }
   ],
   "source": [
    "np.array(X_train).shape"
   ]
  },
  {
   "cell_type": "code",
   "execution_count": 150,
   "id": "87d2fdc4-dd62-4546-93c2-eb2ab63b03f5",
   "metadata": {
    "collapsed": true,
    "jupyter": {
     "outputs_hidden": true
    },
    "tags": []
   },
   "outputs": [
    {
     "name": "stdout",
     "output_type": "stream",
     "text": [
      "Device used : cuda\n",
      "No early stopping will be performed, last training weights will be used.\n",
      "epoch 0  | loss: 0.84536 |  0:00:00s\n",
      "epoch 1  | loss: 0.70384 |  0:00:00s\n",
      "epoch 2  | loss: 0.62857 |  0:00:00s\n",
      "epoch 3  | loss: 0.5942  |  0:00:00s\n",
      "epoch 4  | loss: 0.59312 |  0:00:00s\n",
      "epoch 5  | loss: 0.54083 |  0:00:00s\n",
      "epoch 6  | loss: 0.52085 |  0:00:00s\n",
      "epoch 7  | loss: 0.50849 |  0:00:00s\n",
      "epoch 8  | loss: 0.50789 |  0:00:00s\n",
      "epoch 9  | loss: 0.47963 |  0:00:00s\n",
      "epoch 10 | loss: 0.4389  |  0:00:00s\n",
      "epoch 11 | loss: 0.43232 |  0:00:00s\n",
      "epoch 12 | loss: 0.40346 |  0:00:00s\n",
      "epoch 13 | loss: 0.3868  |  0:00:00s\n",
      "epoch 14 | loss: 0.40405 |  0:00:00s\n",
      "epoch 15 | loss: 0.39284 |  0:00:00s\n",
      "epoch 16 | loss: 0.39727 |  0:00:00s\n",
      "epoch 17 | loss: 0.36165 |  0:00:00s\n",
      "epoch 18 | loss: 0.38959 |  0:00:00s\n",
      "epoch 19 | loss: 0.40563 |  0:00:00s\n",
      "epoch 20 | loss: 0.40416 |  0:00:00s\n",
      "epoch 21 | loss: 0.31999 |  0:00:00s\n",
      "epoch 22 | loss: 0.3385  |  0:00:00s\n",
      "epoch 23 | loss: 0.32313 |  0:00:00s\n",
      "epoch 24 | loss: 0.34857 |  0:00:00s\n",
      "epoch 25 | loss: 0.31737 |  0:00:00s\n",
      "epoch 26 | loss: 0.31537 |  0:00:00s\n",
      "epoch 27 | loss: 0.29475 |  0:00:01s\n",
      "epoch 28 | loss: 0.35188 |  0:00:01s\n",
      "epoch 29 | loss: 0.26201 |  0:00:01s\n",
      "epoch 30 | loss: 0.2783  |  0:00:01s\n",
      "epoch 31 | loss: 0.31973 |  0:00:01s\n",
      "epoch 32 | loss: 0.25642 |  0:00:01s\n",
      "epoch 33 | loss: 0.30302 |  0:00:01s\n",
      "epoch 34 | loss: 0.27639 |  0:00:01s\n",
      "epoch 35 | loss: 0.27139 |  0:00:01s\n",
      "epoch 36 | loss: 0.24576 |  0:00:01s\n",
      "epoch 37 | loss: 0.23103 |  0:00:01s\n",
      "epoch 38 | loss: 0.25159 |  0:00:01s\n",
      "epoch 39 | loss: 0.22013 |  0:00:01s\n",
      "epoch 40 | loss: 0.28297 |  0:00:01s\n",
      "epoch 41 | loss: 0.20178 |  0:00:01s\n",
      "epoch 42 | loss: 0.21679 |  0:00:01s\n",
      "epoch 43 | loss: 0.21594 |  0:00:01s\n",
      "epoch 44 | loss: 0.18421 |  0:00:01s\n",
      "epoch 45 | loss: 0.16029 |  0:00:01s\n",
      "epoch 46 | loss: 0.17786 |  0:00:01s\n",
      "epoch 47 | loss: 0.13994 |  0:00:01s\n",
      "epoch 48 | loss: 0.14605 |  0:00:01s\n",
      "epoch 49 | loss: 0.19678 |  0:00:01s\n",
      "epoch 50 | loss: 0.15141 |  0:00:01s\n",
      "epoch 51 | loss: 0.13923 |  0:00:01s\n",
      "epoch 52 | loss: 0.17612 |  0:00:01s\n",
      "epoch 53 | loss: 0.20275 |  0:00:01s\n",
      "epoch 54 | loss: 0.22255 |  0:00:02s\n",
      "epoch 55 | loss: 0.22995 |  0:00:02s\n",
      "epoch 56 | loss: 0.13044 |  0:00:02s\n",
      "epoch 57 | loss: 0.15418 |  0:00:02s\n",
      "epoch 58 | loss: 0.14294 |  0:00:02s\n",
      "epoch 59 | loss: 0.13968 |  0:00:02s\n",
      "epoch 60 | loss: 0.13694 |  0:00:02s\n",
      "epoch 61 | loss: 0.22443 |  0:00:02s\n",
      "epoch 62 | loss: 0.255   |  0:00:02s\n",
      "epoch 63 | loss: 0.22144 |  0:00:02s\n",
      "epoch 64 | loss: 0.20007 |  0:00:02s\n",
      "epoch 65 | loss: 0.22809 |  0:00:02s\n",
      "epoch 66 | loss: 0.15602 |  0:00:02s\n",
      "epoch 67 | loss: 0.28655 |  0:00:02s\n",
      "epoch 68 | loss: 0.13934 |  0:00:02s\n",
      "epoch 69 | loss: 0.20152 |  0:00:02s\n",
      "epoch 70 | loss: 0.18584 |  0:00:02s\n",
      "epoch 71 | loss: 0.21086 |  0:00:02s\n",
      "epoch 72 | loss: 0.17273 |  0:00:02s\n",
      "epoch 73 | loss: 0.14313 |  0:00:02s\n",
      "epoch 74 | loss: 0.10053 |  0:00:02s\n",
      "epoch 75 | loss: 0.1196  |  0:00:02s\n",
      "epoch 76 | loss: 0.13687 |  0:00:02s\n",
      "epoch 77 | loss: 0.107   |  0:00:02s\n",
      "epoch 78 | loss: 0.16149 |  0:00:02s\n",
      "epoch 79 | loss: 0.17017 |  0:00:02s\n",
      "epoch 80 | loss: 0.161   |  0:00:02s\n",
      "epoch 81 | loss: 0.12811 |  0:00:03s\n",
      "epoch 82 | loss: 0.08774 |  0:00:03s\n",
      "epoch 83 | loss: 0.23324 |  0:00:03s\n",
      "epoch 84 | loss: 0.19212 |  0:00:03s\n",
      "epoch 85 | loss: 0.1403  |  0:00:03s\n",
      "epoch 86 | loss: 0.1761  |  0:00:03s\n",
      "epoch 87 | loss: 0.17647 |  0:00:03s\n",
      "epoch 88 | loss: 0.16545 |  0:00:03s\n",
      "epoch 89 | loss: 0.15273 |  0:00:03s\n",
      "epoch 90 | loss: 0.11642 |  0:00:03s\n",
      "epoch 91 | loss: 0.14837 |  0:00:03s\n",
      "epoch 92 | loss: 0.09186 |  0:00:03s\n",
      "epoch 93 | loss: 0.1543  |  0:00:03s\n",
      "epoch 94 | loss: 0.09768 |  0:00:03s\n",
      "epoch 95 | loss: 0.12307 |  0:00:03s\n",
      "epoch 96 | loss: 0.13241 |  0:00:03s\n",
      "epoch 97 | loss: 0.09914 |  0:00:03s\n",
      "epoch 98 | loss: 0.08243 |  0:00:03s\n",
      "epoch 99 | loss: 0.0689  |  0:00:03s\n",
      "Device used : cuda\n",
      "No early stopping will be performed, last training weights will be used.\n",
      "epoch 0  | loss: 0.85204 |  0:00:00s\n",
      "epoch 1  | loss: 0.69099 |  0:00:00s\n",
      "epoch 2  | loss: 0.56101 |  0:00:00s\n",
      "epoch 3  | loss: 0.53719 |  0:00:00s\n",
      "epoch 4  | loss: 0.50547 |  0:00:00s\n",
      "epoch 5  | loss: 0.47715 |  0:00:00s\n",
      "epoch 6  | loss: 0.47875 |  0:00:00s\n",
      "epoch 7  | loss: 0.44946 |  0:00:00s\n",
      "epoch 8  | loss: 0.47054 |  0:00:00s\n",
      "epoch 9  | loss: 0.44551 |  0:00:00s\n",
      "epoch 10 | loss: 0.4339  |  0:00:00s\n",
      "epoch 11 | loss: 0.38998 |  0:00:00s\n",
      "epoch 12 | loss: 0.36779 |  0:00:00s\n",
      "epoch 13 | loss: 0.39327 |  0:00:00s\n",
      "epoch 14 | loss: 0.37555 |  0:00:00s\n",
      "epoch 15 | loss: 0.42735 |  0:00:00s\n",
      "epoch 16 | loss: 0.37792 |  0:00:00s\n",
      "epoch 17 | loss: 0.40392 |  0:00:00s\n",
      "epoch 18 | loss: 0.37278 |  0:00:00s\n",
      "epoch 19 | loss: 0.35063 |  0:00:00s\n",
      "epoch 20 | loss: 0.36673 |  0:00:00s\n",
      "epoch 21 | loss: 0.38195 |  0:00:00s\n",
      "epoch 22 | loss: 0.31711 |  0:00:00s\n",
      "epoch 23 | loss: 0.30625 |  0:00:00s\n",
      "epoch 24 | loss: 0.3444  |  0:00:00s\n",
      "epoch 25 | loss: 0.30927 |  0:00:00s\n",
      "epoch 26 | loss: 0.23907 |  0:00:00s\n",
      "epoch 27 | loss: 0.26679 |  0:00:00s\n",
      "epoch 28 | loss: 0.25156 |  0:00:00s\n",
      "epoch 29 | loss: 0.27452 |  0:00:00s\n",
      "epoch 30 | loss: 0.21343 |  0:00:00s\n",
      "epoch 31 | loss: 0.21813 |  0:00:00s\n",
      "epoch 32 | loss: 0.17317 |  0:00:00s\n",
      "epoch 33 | loss: 0.17418 |  0:00:01s\n",
      "epoch 34 | loss: 0.18574 |  0:00:01s\n",
      "epoch 35 | loss: 0.14489 |  0:00:01s\n",
      "epoch 36 | loss: 0.15128 |  0:00:01s\n",
      "epoch 37 | loss: 0.14451 |  0:00:01s\n",
      "epoch 38 | loss: 0.1506  |  0:00:01s\n",
      "epoch 39 | loss: 0.15034 |  0:00:01s\n",
      "epoch 40 | loss: 0.12844 |  0:00:01s\n",
      "epoch 41 | loss: 0.13048 |  0:00:01s\n",
      "epoch 42 | loss: 0.12132 |  0:00:01s\n",
      "epoch 43 | loss: 0.12281 |  0:00:01s\n",
      "epoch 44 | loss: 0.11012 |  0:00:01s\n",
      "epoch 45 | loss: 0.09973 |  0:00:01s\n",
      "epoch 46 | loss: 0.1686  |  0:00:01s\n",
      "epoch 47 | loss: 0.11476 |  0:00:01s\n",
      "epoch 48 | loss: 0.18018 |  0:00:01s\n",
      "epoch 49 | loss: 0.10755 |  0:00:01s\n",
      "epoch 50 | loss: 0.13416 |  0:00:01s\n",
      "epoch 51 | loss: 0.17095 |  0:00:01s\n",
      "epoch 52 | loss: 0.08635 |  0:00:01s\n",
      "epoch 53 | loss: 0.15535 |  0:00:01s\n",
      "epoch 54 | loss: 0.10347 |  0:00:01s\n",
      "epoch 55 | loss: 0.07647 |  0:00:01s\n",
      "epoch 56 | loss: 0.11408 |  0:00:01s\n",
      "epoch 57 | loss: 0.07594 |  0:00:01s\n",
      "epoch 58 | loss: 0.07533 |  0:00:01s\n",
      "epoch 59 | loss: 0.18784 |  0:00:01s\n",
      "epoch 60 | loss: 0.08761 |  0:00:01s\n",
      "epoch 61 | loss: 0.07894 |  0:00:01s\n",
      "epoch 62 | loss: 0.07683 |  0:00:01s\n",
      "epoch 63 | loss: 0.10098 |  0:00:01s\n",
      "epoch 64 | loss: 0.11322 |  0:00:01s\n",
      "epoch 65 | loss: 0.07094 |  0:00:01s\n",
      "epoch 66 | loss: 0.07326 |  0:00:02s\n",
      "epoch 67 | loss: 0.07367 |  0:00:02s\n",
      "epoch 68 | loss: 0.07106 |  0:00:02s\n",
      "epoch 69 | loss: 0.0639  |  0:00:02s\n",
      "epoch 70 | loss: 0.072   |  0:00:02s\n",
      "epoch 71 | loss: 0.0512  |  0:00:02s\n",
      "epoch 72 | loss: 0.1469  |  0:00:02s\n",
      "epoch 73 | loss: 0.06794 |  0:00:02s\n",
      "epoch 74 | loss: 0.05893 |  0:00:02s\n",
      "epoch 75 | loss: 0.12029 |  0:00:02s\n",
      "epoch 76 | loss: 0.05613 |  0:00:02s\n",
      "epoch 77 | loss: 0.1172  |  0:00:02s\n",
      "epoch 78 | loss: 0.09577 |  0:00:02s\n",
      "epoch 79 | loss: 0.07955 |  0:00:02s\n",
      "epoch 80 | loss: 0.07537 |  0:00:02s\n",
      "epoch 81 | loss: 0.07009 |  0:00:02s\n",
      "epoch 82 | loss: 0.11182 |  0:00:02s\n",
      "epoch 83 | loss: 0.06248 |  0:00:02s\n",
      "epoch 84 | loss: 0.10612 |  0:00:02s\n",
      "epoch 85 | loss: 0.08311 |  0:00:02s\n",
      "epoch 86 | loss: 0.13112 |  0:00:02s\n",
      "epoch 87 | loss: 0.03976 |  0:00:02s\n",
      "epoch 88 | loss: 0.08548 |  0:00:02s\n",
      "epoch 89 | loss: 0.07615 |  0:00:02s\n",
      "epoch 90 | loss: 0.05733 |  0:00:02s\n",
      "epoch 91 | loss: 0.04043 |  0:00:02s\n",
      "epoch 92 | loss: 0.0862  |  0:00:02s\n",
      "epoch 93 | loss: 0.05767 |  0:00:02s\n",
      "epoch 94 | loss: 0.07006 |  0:00:02s\n",
      "epoch 95 | loss: 0.05215 |  0:00:02s\n",
      "epoch 96 | loss: 0.0551  |  0:00:02s\n",
      "epoch 97 | loss: 0.09618 |  0:00:02s\n",
      "epoch 98 | loss: 0.07954 |  0:00:02s\n",
      "epoch 99 | loss: 0.07653 |  0:00:03s\n",
      "Device used : cuda\n",
      "No early stopping will be performed, last training weights will be used.\n",
      "epoch 0  | loss: 0.7503  |  0:00:00s\n",
      "epoch 1  | loss: 0.71518 |  0:00:00s\n",
      "epoch 2  | loss: 0.64403 |  0:00:00s\n",
      "epoch 3  | loss: 0.58756 |  0:00:00s\n",
      "epoch 4  | loss: 0.56271 |  0:00:00s\n",
      "epoch 5  | loss: 0.56436 |  0:00:00s\n",
      "epoch 6  | loss: 0.51796 |  0:00:00s\n",
      "epoch 7  | loss: 0.47159 |  0:00:00s\n",
      "epoch 8  | loss: 0.45931 |  0:00:00s\n",
      "epoch 9  | loss: 0.4283  |  0:00:00s\n",
      "epoch 10 | loss: 0.43208 |  0:00:00s\n",
      "epoch 11 | loss: 0.37785 |  0:00:00s\n",
      "epoch 12 | loss: 0.41484 |  0:00:00s\n",
      "epoch 13 | loss: 0.38372 |  0:00:00s\n",
      "epoch 14 | loss: 0.30947 |  0:00:00s\n",
      "epoch 15 | loss: 0.32093 |  0:00:00s\n",
      "epoch 16 | loss: 0.31352 |  0:00:00s\n",
      "epoch 17 | loss: 0.25469 |  0:00:00s\n",
      "epoch 18 | loss: 0.30048 |  0:00:00s\n",
      "epoch 19 | loss: 0.28668 |  0:00:00s\n",
      "epoch 20 | loss: 0.28278 |  0:00:00s\n",
      "epoch 21 | loss: 0.32265 |  0:00:00s\n",
      "epoch 22 | loss: 0.28046 |  0:00:00s\n",
      "epoch 23 | loss: 0.30171 |  0:00:00s\n",
      "epoch 24 | loss: 0.29747 |  0:00:00s\n",
      "epoch 25 | loss: 0.27785 |  0:00:00s\n",
      "epoch 26 | loss: 0.30703 |  0:00:00s\n",
      "epoch 27 | loss: 0.25279 |  0:00:00s\n",
      "epoch 28 | loss: 0.31545 |  0:00:00s\n",
      "epoch 29 | loss: 0.1992  |  0:00:01s\n",
      "epoch 30 | loss: 0.23548 |  0:00:01s\n",
      "epoch 31 | loss: 0.247   |  0:00:01s\n",
      "epoch 32 | loss: 0.19344 |  0:00:01s\n",
      "epoch 33 | loss: 0.18387 |  0:00:01s\n",
      "epoch 34 | loss: 0.16275 |  0:00:01s\n",
      "epoch 35 | loss: 0.18774 |  0:00:01s\n",
      "epoch 36 | loss: 0.18259 |  0:00:01s\n",
      "epoch 37 | loss: 0.15419 |  0:00:01s\n",
      "epoch 38 | loss: 0.15668 |  0:00:01s\n",
      "epoch 39 | loss: 0.23008 |  0:00:01s\n",
      "epoch 40 | loss: 0.16403 |  0:00:01s\n",
      "epoch 41 | loss: 0.1359  |  0:00:01s\n",
      "epoch 42 | loss: 0.20317 |  0:00:01s\n",
      "epoch 43 | loss: 0.17442 |  0:00:01s\n",
      "epoch 44 | loss: 0.10617 |  0:00:01s\n",
      "epoch 45 | loss: 0.13186 |  0:00:01s\n",
      "epoch 46 | loss: 0.11608 |  0:00:01s\n",
      "epoch 47 | loss: 0.08702 |  0:00:01s\n",
      "epoch 48 | loss: 0.15405 |  0:00:01s\n",
      "epoch 49 | loss: 0.13276 |  0:00:01s\n",
      "epoch 50 | loss: 0.15206 |  0:00:01s\n",
      "epoch 51 | loss: 0.13428 |  0:00:01s\n",
      "epoch 52 | loss: 0.1335  |  0:00:01s\n",
      "epoch 53 | loss: 0.09591 |  0:00:01s\n",
      "epoch 54 | loss: 0.13598 |  0:00:01s\n",
      "epoch 55 | loss: 0.08134 |  0:00:01s\n",
      "epoch 56 | loss: 0.12354 |  0:00:01s\n",
      "epoch 57 | loss: 0.15441 |  0:00:02s\n",
      "epoch 58 | loss: 0.14894 |  0:00:02s\n",
      "epoch 59 | loss: 0.17908 |  0:00:02s\n",
      "epoch 60 | loss: 0.11862 |  0:00:02s\n",
      "epoch 61 | loss: 0.11973 |  0:00:02s\n",
      "epoch 62 | loss: 0.12053 |  0:00:02s\n",
      "epoch 63 | loss: 0.137   |  0:00:02s\n",
      "epoch 64 | loss: 0.1207  |  0:00:02s\n",
      "epoch 65 | loss: 0.11474 |  0:00:02s\n",
      "epoch 66 | loss: 0.11651 |  0:00:02s\n",
      "epoch 67 | loss: 0.11826 |  0:00:02s\n",
      "epoch 68 | loss: 0.13394 |  0:00:02s\n",
      "epoch 69 | loss: 0.13951 |  0:00:02s\n",
      "epoch 70 | loss: 0.15736 |  0:00:02s\n",
      "epoch 71 | loss: 0.15418 |  0:00:02s\n",
      "epoch 72 | loss: 0.15065 |  0:00:02s\n",
      "epoch 73 | loss: 0.15866 |  0:00:02s\n",
      "epoch 74 | loss: 0.19135 |  0:00:02s\n",
      "epoch 75 | loss: 0.08771 |  0:00:02s\n",
      "epoch 76 | loss: 0.15824 |  0:00:02s\n",
      "epoch 77 | loss: 0.10927 |  0:00:02s\n",
      "epoch 78 | loss: 0.11058 |  0:00:02s\n",
      "epoch 79 | loss: 0.12067 |  0:00:02s\n",
      "epoch 80 | loss: 0.10808 |  0:00:02s\n",
      "epoch 81 | loss: 0.10102 |  0:00:02s\n",
      "epoch 82 | loss: 0.10109 |  0:00:02s\n",
      "epoch 83 | loss: 0.07311 |  0:00:02s\n",
      "epoch 84 | loss: 0.0936  |  0:00:03s\n",
      "epoch 85 | loss: 0.10127 |  0:00:03s\n",
      "epoch 86 | loss: 0.08331 |  0:00:03s\n",
      "epoch 87 | loss: 0.08292 |  0:00:03s\n",
      "epoch 88 | loss: 0.06338 |  0:00:03s\n",
      "epoch 89 | loss: 0.16526 |  0:00:03s\n",
      "epoch 90 | loss: 0.11209 |  0:00:03s\n",
      "epoch 91 | loss: 0.07775 |  0:00:03s\n",
      "epoch 92 | loss: 0.12523 |  0:00:03s\n",
      "epoch 93 | loss: 0.13229 |  0:00:03s\n",
      "epoch 94 | loss: 0.0752  |  0:00:03s\n",
      "epoch 95 | loss: 0.10408 |  0:00:03s\n",
      "epoch 96 | loss: 0.08498 |  0:00:03s\n",
      "epoch 97 | loss: 0.07883 |  0:00:03s\n",
      "epoch 98 | loss: 0.05886 |  0:00:03s\n",
      "epoch 99 | loss: 0.11861 |  0:00:03s\n",
      "Device used : cuda\n",
      "No early stopping will be performed, last training weights will be used.\n",
      "epoch 0  | loss: 1.03048 |  0:00:00s\n",
      "epoch 1  | loss: 0.75774 |  0:00:00s\n",
      "epoch 2  | loss: 0.64339 |  0:00:00s\n",
      "epoch 3  | loss: 0.61996 |  0:00:00s\n",
      "epoch 4  | loss: 0.60435 |  0:00:00s\n",
      "epoch 5  | loss: 0.6211  |  0:00:00s\n",
      "epoch 6  | loss: 0.56754 |  0:00:00s\n",
      "epoch 7  | loss: 0.58345 |  0:00:00s\n",
      "epoch 8  | loss: 0.57981 |  0:00:00s\n",
      "epoch 9  | loss: 0.54065 |  0:00:00s\n",
      "epoch 10 | loss: 0.52307 |  0:00:00s\n",
      "epoch 11 | loss: 0.50084 |  0:00:00s\n",
      "epoch 12 | loss: 0.52402 |  0:00:00s\n",
      "epoch 13 | loss: 0.47227 |  0:00:00s\n",
      "epoch 14 | loss: 0.50475 |  0:00:00s\n",
      "epoch 15 | loss: 0.43891 |  0:00:00s\n",
      "epoch 16 | loss: 0.39932 |  0:00:00s\n",
      "epoch 17 | loss: 0.4352  |  0:00:00s\n",
      "epoch 18 | loss: 0.42256 |  0:00:00s\n",
      "epoch 19 | loss: 0.44111 |  0:00:00s\n",
      "epoch 20 | loss: 0.38908 |  0:00:00s\n",
      "epoch 21 | loss: 0.36357 |  0:00:00s\n",
      "epoch 22 | loss: 0.41042 |  0:00:00s\n",
      "epoch 23 | loss: 0.36857 |  0:00:00s\n",
      "epoch 24 | loss: 0.37629 |  0:00:00s\n",
      "epoch 25 | loss: 0.38187 |  0:00:00s\n",
      "epoch 26 | loss: 0.3341  |  0:00:00s\n",
      "epoch 27 | loss: 0.35771 |  0:00:00s\n",
      "epoch 28 | loss: 0.26878 |  0:00:00s\n",
      "epoch 29 | loss: 0.2694  |  0:00:00s\n",
      "epoch 30 | loss: 0.24158 |  0:00:00s\n",
      "epoch 31 | loss: 0.29172 |  0:00:00s\n",
      "epoch 32 | loss: 0.25144 |  0:00:00s\n",
      "epoch 33 | loss: 0.30843 |  0:00:01s\n",
      "epoch 34 | loss: 0.33336 |  0:00:01s\n",
      "epoch 35 | loss: 0.23286 |  0:00:01s\n",
      "epoch 36 | loss: 0.22749 |  0:00:01s\n",
      "epoch 37 | loss: 0.20669 |  0:00:01s\n",
      "epoch 38 | loss: 0.20893 |  0:00:01s\n",
      "epoch 39 | loss: 0.18724 |  0:00:01s\n",
      "epoch 40 | loss: 0.18429 |  0:00:01s\n",
      "epoch 41 | loss: 0.2031  |  0:00:01s\n",
      "epoch 42 | loss: 0.25666 |  0:00:01s\n",
      "epoch 43 | loss: 0.20119 |  0:00:01s\n",
      "epoch 44 | loss: 0.15866 |  0:00:01s\n",
      "epoch 45 | loss: 0.13951 |  0:00:01s\n",
      "epoch 46 | loss: 0.15787 |  0:00:01s\n",
      "epoch 47 | loss: 0.18085 |  0:00:01s\n",
      "epoch 48 | loss: 0.13102 |  0:00:01s\n",
      "epoch 49 | loss: 0.13798 |  0:00:01s\n",
      "epoch 50 | loss: 0.1072  |  0:00:01s\n",
      "epoch 51 | loss: 0.19003 |  0:00:01s\n",
      "epoch 52 | loss: 0.1378  |  0:00:01s\n",
      "epoch 53 | loss: 0.10236 |  0:00:01s\n",
      "epoch 54 | loss: 0.12069 |  0:00:01s\n",
      "epoch 55 | loss: 0.15668 |  0:00:01s\n",
      "epoch 56 | loss: 0.14565 |  0:00:01s\n",
      "epoch 57 | loss: 0.14305 |  0:00:01s\n",
      "epoch 58 | loss: 0.15891 |  0:00:01s\n",
      "epoch 59 | loss: 0.12466 |  0:00:01s\n",
      "epoch 60 | loss: 0.20398 |  0:00:01s\n",
      "epoch 61 | loss: 0.17635 |  0:00:01s\n",
      "epoch 62 | loss: 0.15709 |  0:00:01s\n",
      "epoch 63 | loss: 0.22311 |  0:00:01s\n",
      "epoch 64 | loss: 0.18172 |  0:00:01s\n",
      "epoch 65 | loss: 0.13592 |  0:00:01s\n",
      "epoch 66 | loss: 0.1024  |  0:00:02s\n",
      "epoch 67 | loss: 0.18602 |  0:00:02s\n",
      "epoch 68 | loss: 0.14437 |  0:00:02s\n",
      "epoch 69 | loss: 0.11235 |  0:00:02s\n",
      "epoch 70 | loss: 0.11223 |  0:00:02s\n",
      "epoch 71 | loss: 0.10895 |  0:00:02s\n",
      "epoch 72 | loss: 0.12291 |  0:00:02s\n",
      "epoch 73 | loss: 0.16577 |  0:00:02s\n",
      "epoch 74 | loss: 0.20043 |  0:00:02s\n",
      "epoch 75 | loss: 0.11829 |  0:00:02s\n",
      "epoch 76 | loss: 0.10109 |  0:00:02s\n",
      "epoch 77 | loss: 0.1314  |  0:00:02s\n",
      "epoch 78 | loss: 0.11635 |  0:00:02s\n",
      "epoch 79 | loss: 0.11004 |  0:00:02s\n",
      "epoch 80 | loss: 0.14409 |  0:00:02s\n",
      "epoch 81 | loss: 0.13495 |  0:00:02s\n",
      "epoch 82 | loss: 0.11656 |  0:00:02s\n",
      "epoch 83 | loss: 0.1199  |  0:00:02s\n",
      "epoch 84 | loss: 0.09197 |  0:00:02s\n",
      "epoch 85 | loss: 0.11633 |  0:00:02s\n",
      "epoch 86 | loss: 0.10344 |  0:00:02s\n",
      "epoch 87 | loss: 0.10054 |  0:00:02s\n",
      "epoch 88 | loss: 0.14537 |  0:00:02s\n",
      "epoch 89 | loss: 0.14452 |  0:00:02s\n",
      "epoch 90 | loss: 0.13354 |  0:00:02s\n",
      "epoch 91 | loss: 0.18248 |  0:00:02s\n",
      "epoch 92 | loss: 0.1752  |  0:00:02s\n",
      "epoch 93 | loss: 0.16894 |  0:00:02s\n",
      "epoch 94 | loss: 0.15855 |  0:00:02s\n",
      "epoch 95 | loss: 0.19642 |  0:00:02s\n",
      "epoch 96 | loss: 0.17635 |  0:00:03s\n",
      "epoch 97 | loss: 0.31328 |  0:00:03s\n",
      "epoch 98 | loss: 0.13864 |  0:00:03s\n",
      "epoch 99 | loss: 0.11642 |  0:00:03s\n"
     ]
    },
    {
     "data": {
      "image/png": "[encoded data removed]",
      "text/plain": [
       "<Figure size 576x396 with 1 Axes>"
      ]
     },
     "metadata": {},
     "output_type": "display_data"
    }
   ],
   "source": [
    "def tabnet_fn():\n",
    "    clf = TabNetClassifier(seed=np.random.randint(1024))\n",
    "    return clf\n",
    "\n",
    "tabnet_results = test_model(tabnet_fn,\n",
    "                    (np.array(X_train), np.array(y_train)), \n",
    "                    (X_test, y_test),\n",
    "                    y_label_enc, 4)"
   ]
  },
  {
   "cell_type": "code",
   "execution_count": 151,
   "id": "39d660b2-4a34-4150-9cfd-5ce11b9d75d7",
   "metadata": {},
   "outputs": [
    {
     "name": "stdout",
     "output_type": "stream",
     "text": [
      "F1: 48.135 ~ 3.153\n",
      "C-statistics: 69.298 ~ 2.537\n",
      "Precision: 40.670 ~ 2.924\n",
      "Recall: 59.028 ~ 4.102\n"
     ]
    },
    {
     "name": "stderr",
     "output_type": "stream",
     "text": [
      "/tmp/ipykernel_276146/3812846823.py:66: FutureWarning: Dropping of nuisance columns in DataFrame reductions (with 'numeric_only=None') is deprecated; in a future version this will raise TypeError.  Select only valid columns before calling the reduction.\n",
      "  mean, std = dframe[dframe[\"Class\"]==\"F1 score\"].mean(), dframe[dframe[\"Class\"]==\"F1 score\"].std()\n",
      "/tmp/ipykernel_276146/3812846823.py:69: FutureWarning: Dropping of nuisance columns in DataFrame reductions (with 'numeric_only=None') is deprecated; in a future version this will raise TypeError.  Select only valid columns before calling the reduction.\n",
      "  mean, std = dframe[dframe[\"Class\"]==\"ROC score\"].mean(), dframe[dframe[\"Class\"]==\"ROC score\"].std()\n",
      "/tmp/ipykernel_276146/3812846823.py:72: FutureWarning: Dropping of nuisance columns in DataFrame reductions (with 'numeric_only=None') is deprecated; in a future version this will raise TypeError.  Select only valid columns before calling the reduction.\n",
      "  mean, std = dframe[dframe[\"Class\"]==\"Precision\"].mean(), dframe[dframe[\"Class\"]==\"Precision\"].std()\n",
      "/tmp/ipykernel_276146/3812846823.py:75: FutureWarning: Dropping of nuisance columns in DataFrame reductions (with 'numeric_only=None') is deprecated; in a future version this will raise TypeError.  Select only valid columns before calling the reduction.\n",
      "  mean, std = dframe[dframe[\"Class\"]==\"Recall\"].mean(), dframe[dframe[\"Class\"]==\"Recall\"].std()\n"
     ]
    }
   ],
   "source": [
    "print_statistics(tabnet_results)"
   ]
  }
 ],
 "metadata": {
  "kernelspec": {
   "display_name": "img_processing",
   "language": "python",
   "name": "img_processing"
  },
  "language_info": {
   "codemirror_mode": {
    "name": "ipython",
    "version": 3
   },
   "file_extension": ".py",
   "mimetype": "text/x-python",
   "name": "python",
   "nbconvert_exporter": "python",
   "pygments_lexer": "ipython3",
   "version": "3.8.12"
  }
 },
 "nbformat": 4,
 "nbformat_minor": 5
}
