{
 "cells": [
  {
   "cell_type": "code",
   "execution_count": 1,
   "id": "dc12a648-b80a-4eca-afc3-79331e4db7fc",
   "metadata": {},
   "outputs": [],
   "source": [
    "from comet_ml import Experiment, Optimizer"
   ]
  },
  {
   "cell_type": "code",
   "execution_count": 2,
   "id": "2fdadf44-450a-4006-ac5a-bed9840409f6",
   "metadata": {},
   "outputs": [],
   "source": [
    "import pandas as pd\n",
    "import numpy as np\n",
    "from sklearn.preprocessing import LabelEncoder, StandardScaler\n",
    "from sklearn.model_selection import train_test_split\n",
    "from collections import defaultdict\n",
    "from tqdm import trange\n",
    "import torch\n",
    "import seaborn as sns\n",
    "import os\n",
    "import matplotlib.pyplot as plt\n",
    "from io import BytesIO\n",
    "import base64\n",
    "import time\n",
    "import datetime\n",
    "\n",
    "plt.style.use(\"seaborn\")\n",
    "torch.set_default_dtype(torch.float32)"
   ]
  },
  {
   "cell_type": "code",
   "execution_count": 3,
   "id": "c7585d3a-dff3-43e2-bc0f-f024306021a7",
   "metadata": {},
   "outputs": [],
   "source": [
    "import node"
   ]
  },
  {
   "cell_type": "code",
   "execution_count": 4,
   "id": "6a37b70c-292b-4c14-85ed-3c93020dc182",
   "metadata": {},
   "outputs": [],
   "source": [
    "from sklearn.metrics import roc_auc_score, f1_score, precision_score, recall_score"
   ]
  },
  {
   "cell_type": "code",
   "execution_count": 5,
   "id": "3085114d-cf61-4625-97c5-10f34c00d335",
   "metadata": {},
   "outputs": [],
   "source": [
    "from tabular_hypernet import Hypernetwork\n",
    "from tabular_hypernet.modules import SimpleNetwork\n",
    "from tabular_hypernet.training_utils import train_slow_step, train_model\n",
    "from tabular_hypernet.interfaces import HypernetworkSklearnInterface, SimpleSklearnInterface"
   ]
  },
  {
   "cell_type": "code",
   "execution_count": 6,
   "id": "d12953cc-1ec5-46a9-933a-714e5ceafd1d",
   "metadata": {},
   "outputs": [
    {
     "data": {
      "text/plain": [
       "1"
      ]
     },
     "execution_count": 6,
     "metadata": {},
     "output_type": "execute_result"
    }
   ],
   "source": [
    "from loguru import logger\n",
    "\n",
    "logger.add(\"log.txt\", format='{time:YYYY-MM-DD HH:mm:ss.SSS} | {message}')"
   ]
  },
  {
   "cell_type": "code",
   "execution_count": 7,
   "id": "71891b02-e21f-4fe4-a54a-8c56610bcb3b",
   "metadata": {},
   "outputs": [],
   "source": [
    "DEVICE = 'cuda:1'"
   ]
  },
  {
   "cell_type": "markdown",
   "id": "56f26fc6-18c5-48a4-a479-cff173008af1",
   "metadata": {},
   "source": [
    "## Load data"
   ]
  },
  {
   "cell_type": "code",
   "execution_count": 8,
   "id": "c35c736f-294c-4eea-b7d3-364079f184b9",
   "metadata": {},
   "outputs": [],
   "source": [
    "data = pd.read_csv(\"../data/Blastchar/churn.csv\")"
   ]
  },
  {
   "cell_type": "code",
   "execution_count": 9,
   "id": "cb145598-e52e-4595-8c5b-ad94767e5f32",
   "metadata": {},
   "outputs": [
    {
     "name": "stdout",
     "output_type": "stream",
     "text": [
      "0 samples: 5174 (73.5%)\n",
      "1 samples: 1869 (26.5%)\n"
     ]
    }
   ],
   "source": [
    "def show_fractions(arr):\n",
    "    for cls_ in sorted(pd.unique(arr)):\n",
    "        print(f\"{cls_} samples: {(arr==cls_).sum()} ({(arr==cls_).sum()/len(arr)*100:.1f}%)\")\n",
    "\n",
    "processed_data = data.copy()\n",
    "del processed_data[\"customerID\"]\n",
    "\n",
    "y_label_enc = LabelEncoder()\n",
    "y = y_label_enc.fit_transform(processed_data[\"Churn\"].values)\n",
    "del processed_data[\"Churn\"]\n",
    "\n",
    "show_fractions(y)"
   ]
  },
  {
   "cell_type": "code",
   "execution_count": 10,
   "id": "fdb8b71b-7c57-4a04-8f51-4b8bdd6177ee",
   "metadata": {},
   "outputs": [
    {
     "name": "stdout",
     "output_type": "stream",
     "text": [
      "(7043, 19)\n"
     ]
    }
   ],
   "source": [
    "label_encoders = {}\n",
    "\n",
    "for col in processed_data.columns:\n",
    "    if processed_data[col].dtype == 'object':\n",
    "        encoder = LabelEncoder()\n",
    "        processed_data[col] = encoder.fit_transform(processed_data[col].values)\n",
    "        label_encoders[col] = encoder\n",
    "        \n",
    "X = processed_data.values\n",
    "print(X.shape)"
   ]
  },
  {
   "cell_type": "markdown",
   "id": "f3ebd8d0-d845-41f0-bf71-7bd6cb0d8b4e",
   "metadata": {},
   "source": [
    "### Split it into train and test set"
   ]
  },
  {
   "cell_type": "code",
   "execution_count": 11,
   "id": "220962a3-1cfd-4dd1-b030-336bff717634",
   "metadata": {},
   "outputs": [],
   "source": [
    "class GenericDataset(torch.utils.data.IterableDataset):\n",
    "    def __init__(self, data, shuffle: bool=False, samples_no: int=None):\n",
    "        samples = samples_no or len(data[0])\n",
    "        self.indices = np.arange(samples)\n",
    "        self.shuffle = True\n",
    "        if shuffle:\n",
    "            self.indices = np.random.permutation(self.indices)\n",
    "        self.index = 0\n",
    "        self.max_samples = samples\n",
    "        self.data_x = data[0].to(torch.float32)\n",
    "        self.data_y = data[1]\n",
    "\n",
    "    def __iter__(self):\n",
    "        if self.shuffle:\n",
    "            self.indices = np.random.permutation(self.indices)\n",
    "        while self.index < self.max_samples:\n",
    "            _idx = self.indices[self.index]\n",
    "            yield self.data_x[_idx], self.data_y[_idx]\n",
    "            self.index += 1\n",
    "    \n",
    "    def __len__(self):\n",
    "        return self.data_x.shape[0]\n",
    "\n",
    "class OversamplingDataset(GenericDataset):\n",
    "    def __init__(self, *args, **kwargs):\n",
    "        super().__init__(*args, **kwargs)\n",
    "        fractions = {i: (self.data_y==i).sum()/len(self.data_y) for i in self.data_y.unique()}\n",
    "        print(fractions)\n",
    "        \n",
    "\n",
    "def get_dataloader(X, y, size=None, batch_size=32):\n",
    "    train_dataset = GenericDataset((X, y))\n",
    "    trainloader = torch.utils.data.DataLoader(train_dataset, batch_size=batch_size, num_workers=1)\n",
    "    \n",
    "    return trainloader"
   ]
  },
  {
   "cell_type": "code",
   "execution_count": 12,
   "id": "3931b7b5-02cd-41af-a958-255483d3c7a1",
   "metadata": {},
   "outputs": [],
   "source": [
    "import imblearn"
   ]
  },
  {
   "cell_type": "code",
   "execution_count": 13,
   "id": "ca0a827a-0e1f-4f5c-b15d-3354f075021e",
   "metadata": {},
   "outputs": [
    {
     "name": "stdout",
     "output_type": "stream",
     "text": [
      "Training data:\n",
      "0 samples: 723 (50.0%)\n",
      "1 samples: 723 (50.0%)\n",
      "Test data:\n",
      "0 samples: 4451 (73.7%)\n",
      "1 samples: 1592 (26.3%)\n"
     ]
    }
   ],
   "source": [
    "# np.random.seed(42)\n",
    "X_train, X_test, y_train, y_test = train_test_split(X, y, train_size=1000)\n",
    "\n",
    "X_train, y_train = imblearn.over_sampling.RandomOverSampler().fit_resample(X_train, y_train)\n",
    "\n",
    "\n",
    "print(\"Training data:\")\n",
    "show_fractions(y_train)\n",
    "\n",
    "print(\"Test data:\")\n",
    "show_fractions(y_test)"
   ]
  },
  {
   "cell_type": "markdown",
   "id": "60fe0004-328f-4646-9572-1c2939fbe7dd",
   "metadata": {},
   "source": [
    "## Preprocess"
   ]
  },
  {
   "cell_type": "code",
   "execution_count": 14,
   "id": "94b13ebb-c3bb-4299-a4c8-60f199b5f9a1",
   "metadata": {},
   "outputs": [],
   "source": [
    "scaler = StandardScaler()\n",
    "X_train = scaler.fit_transform(X_train)\n",
    "X_test = scaler.transform(X_test)"
   ]
  },
  {
   "cell_type": "code",
   "execution_count": 15,
   "id": "41f75592-2256-445e-b926-6ab9e2b2481f",
   "metadata": {},
   "outputs": [],
   "source": [
    "X_train, X_test, y_train, y_test = [torch.from_numpy(x) for x in [X_train, X_test, y_train, y_test]]"
   ]
  },
  {
   "cell_type": "markdown",
   "id": "d223075b-b7d8-414e-97c9-ade8bda5f0fd",
   "metadata": {},
   "source": [
    "## Benchmark"
   ]
  },
  {
   "cell_type": "code",
   "execution_count": 16,
   "id": "5aa90ca0-8a00-4491-b111-ce7eee0e9c33",
   "metadata": {},
   "outputs": [],
   "source": [
    "criterion = torch.nn.CrossEntropyLoss()\n",
    "\n",
    "def _summarize_results(y_pred, y_score, y_test, labels):\n",
    "    results = []\n",
    "    for idx, label in enumerate(labels):\n",
    "        y_pred_filt = y_pred[y_test==idx]\n",
    "        y_test_filt = y_test[y_test==idx]\n",
    "        acc = (y_pred_filt==y_test_filt.numpy()).sum()/len(y_test_filt)*100\n",
    "        results.append({\n",
    "            \"Class\": label,\n",
    "            \"Metric\": acc\n",
    "        })\n",
    "        \n",
    "    acc = (y_pred==y_test.numpy()).sum()/len(y_test)*100    \n",
    "    results.append({\n",
    "        \"Class\": \"Total\",\n",
    "        \"Metric\": acc\n",
    "    })\n",
    "    results.append({\n",
    "        \"Class\": \"F1 score\",\n",
    "        \"Metric\": f1_score(y_test, torch.from_numpy(y_pred)).item()*100\n",
    "    })\n",
    "    results.append({\n",
    "        \"Class\": \"ROC score\",\n",
    "        \"Metric\": roc_auc_score(y_test, torch.from_numpy(y_score[:, 1])).item()*100\n",
    "    })\n",
    "    results.append({\n",
    "        \"Class\": \"Precision\",\n",
    "        \"Metric\": precision_score(y_test, torch.from_numpy(y_pred)).item()*100\n",
    "    })\n",
    "    results.append({\n",
    "        \"Class\": \"Recall\",\n",
    "        \"Metric\": recall_score(y_test, torch.from_numpy(y_pred)).item()*100\n",
    "    })\n",
    "    results.append({\n",
    "        \"Class\": \"Loss\",\n",
    "        \"Metric\": criterion(torch.from_numpy(y_score), y_test).item()*100\n",
    "    })\n",
    "    return results\n",
    "\n",
    "\n",
    "def test_model(model_fn, train_data, test_data, label_encoder=None, iters=10):\n",
    "    X_train, y_train = train_data\n",
    "    X_test, y_test = test_data\n",
    "    if label_encoder is not None:\n",
    "        labels = label_encoder.classes_\n",
    "    else:\n",
    "        labels = sorted(pd.unique(test_data))\n",
    "    \n",
    "    results = []\n",
    "\n",
    "    for i in range(iters):\n",
    "        model = model_fn()\n",
    "\n",
    "        model.fit(X_train, y_train);    \n",
    "        \n",
    "        y_pred = model.predict(X_test)\n",
    "        y_score = model.predict_proba(X_test)\n",
    "        results.extend(_summarize_results(y_pred, y_score, y_test, labels))\n",
    "\n",
    "    dframe = pd.DataFrame.from_dict(results)\n",
    "    sns.violinplot(data=dframe[dframe[\"Class\"]!=\"Loss\"], y=\"Class\", x=\"Metric\", orient='h')\n",
    "    return dframe\n",
    "\n",
    "def print_statistics(dframe):\n",
    "    mean, std = dframe[dframe[\"Class\"]==\"F1 score\"].mean(), dframe[dframe[\"Class\"]==\"F1 score\"].std()\n",
    "    print(f\"F1: {mean.values[0]:.3f} ~ {std.values[0]:.3f}\")\n",
    "\n",
    "    mean, std = dframe[dframe[\"Class\"]==\"ROC score\"].mean(), dframe[dframe[\"Class\"]==\"ROC score\"].std()\n",
    "    print(f\"C-statistics: {mean.values[0]:.3f} ~ {std.values[0]:.3f}\")\n",
    "\n",
    "    mean, std = dframe[dframe[\"Class\"]==\"Precision\"].mean(), dframe[dframe[\"Class\"]==\"Precision\"].std()\n",
    "    print(f\"Precision: {mean.values[0]:.3f} ~ {std.values[0]:.3f}\")\n",
    "\n",
    "    mean, std = dframe[dframe[\"Class\"]==\"Recall\"].mean(), dframe[dframe[\"Class\"]==\"Recall\"].std()\n",
    "    print(f\"Recall: {mean.values[0]:.3f} ~ {std.values[0]:.3f}\")\n",
    "    \n",
    "def log_statistics(dframe):\n",
    "    mean, std = dframe[dframe[\"Class\"]==\"F1 score\"].mean(), dframe[dframe[\"Class\"]==\"F1 score\"].std()\n",
    "    logger.info(f\"F1: {mean.values[0]:.3f} ~ {std.values[0]:.3f}\")\n",
    "\n",
    "    mean, std = dframe[dframe[\"Class\"]==\"ROC score\"].mean(), dframe[dframe[\"Class\"]==\"ROC score\"].std()\n",
    "    logger.info(f\"C-statistics: {mean.values[0]:.3f} ~ {std.values[0]:.3f}\")\n",
    "\n",
    "    mean, std = dframe[dframe[\"Class\"]==\"Precision\"].mean(), dframe[dframe[\"Class\"]==\"Precision\"].std()\n",
    "    logger.info(f\"Precision: {mean.values[0]:.3f} ~ {std.values[0]:.3f}\")\n",
    "\n",
    "    mean, std = dframe[dframe[\"Class\"]==\"Recall\"].mean(), dframe[dframe[\"Class\"]==\"Recall\"].std()\n",
    "    logger.info(f\"Recall: {mean.values[0]:.3f} ~ {std.values[0]:.3f}\")"
   ]
  },
  {
   "cell_type": "markdown",
   "id": "bf59445b-c0f0-4ee7-bfe9-5c8a57c22b86",
   "metadata": {},
   "source": [
    "### XGBoost"
   ]
  },
  {
   "cell_type": "code",
   "execution_count": 17,
   "id": "aacc321b-420a-47f3-88af-6bb02aa0ddbb",
   "metadata": {},
   "outputs": [],
   "source": [
    "from xgboost import XGBClassifier"
   ]
  },
  {
   "cell_type": "code",
   "execution_count": 18,
   "id": "d5cedd88-43b4-465c-b1e1-6a0b620ae73a",
   "metadata": {},
   "outputs": [
    {
     "data": {
      "image/png": "[encoded data removed]",
      "text/plain": [
       "<Figure size 576x396 with 1 Axes>"
      ]
     },
     "metadata": {},
     "output_type": "display_data"
    }
   ],
   "source": [
    "def get_xgboost():\n",
    "    random_seed = np.random.randint(1024)\n",
    "    return XGBClassifier(\n",
    "        verbosity=0,\n",
    "        random_state=random_seed,\n",
    "        subsample=0.98,\n",
    "        use_label_encoder=False)\n",
    "\n",
    "xgb_dframe = test_model(get_xgboost, \n",
    "                        (X_train, y_train), \n",
    "                        (X_test, y_test),\n",
    "                        label_encoder=y_label_enc, iters=10)"
   ]
  },
  {
   "cell_type": "code",
   "execution_count": 73,
   "id": "f530a0df-271a-495f-b49d-2cffe523c328",
   "metadata": {},
   "outputs": [
    {
     "name": "stdout",
     "output_type": "stream",
     "text": [
      "F1: 60.509 ~ 0.284\n",
      "C-statistics: 82.926 ~ 0.121\n",
      "Precision: 51.717 ~ 0.295\n",
      "Recall: 72.906 ~ 0.443\n"
     ]
    },
    {
     "name": "stderr",
     "output_type": "stream",
     "text": [
      "/tmp/ipykernel_627365/3812846823.py:66: FutureWarning: Dropping of nuisance columns in DataFrame reductions (with 'numeric_only=None') is deprecated; in a future version this will raise TypeError.  Select only valid columns before calling the reduction.\n",
      "  mean, std = dframe[dframe[\"Class\"]==\"F1 score\"].mean(), dframe[dframe[\"Class\"]==\"F1 score\"].std()\n",
      "/tmp/ipykernel_627365/3812846823.py:69: FutureWarning: Dropping of nuisance columns in DataFrame reductions (with 'numeric_only=None') is deprecated; in a future version this will raise TypeError.  Select only valid columns before calling the reduction.\n",
      "  mean, std = dframe[dframe[\"Class\"]==\"ROC score\"].mean(), dframe[dframe[\"Class\"]==\"ROC score\"].std()\n",
      "/tmp/ipykernel_627365/3812846823.py:72: FutureWarning: Dropping of nuisance columns in DataFrame reductions (with 'numeric_only=None') is deprecated; in a future version this will raise TypeError.  Select only valid columns before calling the reduction.\n",
      "  mean, std = dframe[dframe[\"Class\"]==\"Precision\"].mean(), dframe[dframe[\"Class\"]==\"Precision\"].std()\n",
      "/tmp/ipykernel_627365/3812846823.py:75: FutureWarning: Dropping of nuisance columns in DataFrame reductions (with 'numeric_only=None') is deprecated; in a future version this will raise TypeError.  Select only valid columns before calling the reduction.\n",
      "  mean, std = dframe[dframe[\"Class\"]==\"Recall\"].mean(), dframe[dframe[\"Class\"]==\"Recall\"].std()\n"
     ]
    }
   ],
   "source": [
    "print_statistics(xgb_dframe)"
   ]
  },
  {
   "cell_type": "markdown",
   "id": "555f70df-66b8-44c6-8b51-8165b847d034",
   "metadata": {},
   "source": [
    "### Neural network"
   ]
  },
  {
   "cell_type": "code",
   "execution_count": 19,
   "id": "f7ee0197-e3ab-4fe0-8962-4761d416ab57",
   "metadata": {},
   "outputs": [],
   "source": [
    "def simple_network_fn(epochs):\n",
    "    def _inner():\n",
    "#         net = SimpleNetwork(X_train.shape[1], outputs=2).to(DEVICE)\n",
    "        net = torch.nn.Sequential(\n",
    "            torch.nn.Dropout(1-15/19),\n",
    "            torch.nn.Linear(X_train.shape[1], 100),\n",
    "            torch.nn.ReLU(),\n",
    "            torch.nn.Dropout(0.5),\n",
    "            torch.nn.Linear(100, 2)\n",
    "        ).to(DEVICE)\n",
    "        return SimpleSklearnInterface(net, device=DEVICE, epochs=epochs, batch_size=32)\n",
    "    return _inner"
   ]
  },
  {
   "cell_type": "code",
   "execution_count": 20,
   "id": "c0a58805-64a0-4347-a106-0a85c44e3b64",
   "metadata": {
    "tags": []
   },
   "outputs": [
    {
     "data": {
      "image/png": "[encoded data removed]",
      "text/plain": [
       "<Figure size 576x396 with 1 Axes>"
      ]
     },
     "metadata": {},
     "output_type": "display_data"
    }
   ],
   "source": [
    "simple_nn_results = test_model(simple_network_fn(150),\n",
    "                (X_train, y_train), \n",
    "                (X_test, y_test),\n",
    "                y_label_enc, 4)"
   ]
  },
  {
   "cell_type": "code",
   "execution_count": 21,
   "id": "2950a561-79f3-4a7d-b399-e6bd66d12bd0",
   "metadata": {},
   "outputs": [
    {
     "name": "stdout",
     "output_type": "stream",
     "text": [
      "F1: 61.294 ~ 0.285\n",
      "C-statistics: 82.697 ~ 0.240\n",
      "Precision: 51.031 ~ 0.378\n",
      "Recall: 76.727 ~ 0.402\n"
     ]
    },
    {
     "name": "stderr",
     "output_type": "stream",
     "text": [
      "/tmp/ipykernel_912531/3812846823.py:66: FutureWarning: Dropping of nuisance columns in DataFrame reductions (with 'numeric_only=None') is deprecated; in a future version this will raise TypeError.  Select only valid columns before calling the reduction.\n",
      "  mean, std = dframe[dframe[\"Class\"]==\"F1 score\"].mean(), dframe[dframe[\"Class\"]==\"F1 score\"].std()\n",
      "/tmp/ipykernel_912531/3812846823.py:69: FutureWarning: Dropping of nuisance columns in DataFrame reductions (with 'numeric_only=None') is deprecated; in a future version this will raise TypeError.  Select only valid columns before calling the reduction.\n",
      "  mean, std = dframe[dframe[\"Class\"]==\"ROC score\"].mean(), dframe[dframe[\"Class\"]==\"ROC score\"].std()\n",
      "/tmp/ipykernel_912531/3812846823.py:72: FutureWarning: Dropping of nuisance columns in DataFrame reductions (with 'numeric_only=None') is deprecated; in a future version this will raise TypeError.  Select only valid columns before calling the reduction.\n",
      "  mean, std = dframe[dframe[\"Class\"]==\"Precision\"].mean(), dframe[dframe[\"Class\"]==\"Precision\"].std()\n",
      "/tmp/ipykernel_912531/3812846823.py:75: FutureWarning: Dropping of nuisance columns in DataFrame reductions (with 'numeric_only=None') is deprecated; in a future version this will raise TypeError.  Select only valid columns before calling the reduction.\n",
      "  mean, std = dframe[dframe[\"Class\"]==\"Recall\"].mean(), dframe[dframe[\"Class\"]==\"Recall\"].std()\n"
     ]
    }
   ],
   "source": [
    "print_statistics(simple_nn_results)"
   ]
  },
  {
   "cell_type": "markdown",
   "id": "d08dcdab-2c4b-4a05-822b-912037488763",
   "metadata": {},
   "source": [
    "### NODE"
   ]
  },
  {
   "cell_type": "code",
   "execution_count": 30,
   "id": "64d10cad-57b5-488c-9a94-63259bd0c13e",
   "metadata": {},
   "outputs": [],
   "source": [
    "from qhoptim.pyt import QHAdam"
   ]
  },
  {
   "cell_type": "code",
   "execution_count": 31,
   "id": "806be7a7-e4c8-4525-a38f-9ae16a3bd229",
   "metadata": {},
   "outputs": [],
   "source": [
    "def node_fn(layer_dims):\n",
    "    def _inner():\n",
    "        network = torch.nn.Sequential(\n",
    "            node.DenseBlock(X_train.shape[1], layer_dims, num_layers=1, tree_dim=2, depth=6, flatten_output=False,\n",
    "                           choice_function=node.entmax15, bin_function=node.entmoid15),\n",
    "            node.Lambda(lambda x: x.mean(dim=1))\n",
    "        )\n",
    "        \n",
    "        with torch.no_grad():\n",
    "            res = network(torch.as_tensor(X_train[:1000], device='cpu').to(torch.float32))\n",
    "        \n",
    "        network = network.to(DEVICE)\n",
    "        network.device=DEVICE\n",
    "            \n",
    "        optimizer_params = { 'nus':(0.7, 1.0), 'betas':(0.95, 0.998) }\n",
    "        optim = QHAdam(network.parameters(), **optimizer_params)\n",
    "            \n",
    "        network = SimpleSklearnInterface(network, device=DEVICE, epochs=150, batch_size=32)\n",
    "        network.optimizer = optim\n",
    "        return network\n",
    "    return _inner"
   ]
  },
  {
   "cell_type": "code",
   "execution_count": 32,
   "id": "f6e447c1-63a6-4c90-b22e-5e0852817f9b",
   "metadata": {
    "tags": []
   },
   "outputs": [
    {
     "name": "stderr",
     "output_type": "stream",
     "text": [
      "/home/wwydmanski/.conda/envs/img_processing/lib/python3.8/site-packages/node/odst.py:113: UserWarning: Data-aware initialization is performed on less than 1000 data points. This may cause instability.To avoid potential problems, run this model on a data batch with at least 1000 data samples.You can do so manually before training. Use with torch.no_grad() for memory efficiency.\n",
      "  warn(\"Data-aware initialization is performed on less than 1000 data points. This may cause instability.\"\n",
      "/home/wwydmanski/.conda/envs/img_processing/lib/python3.8/site-packages/qhoptim/pyt/qhadam.py:133: UserWarning: This overload of add_ is deprecated:\n",
      "\tadd_(Number alpha, Tensor other)\n",
      "Consider using one of the following signatures instead:\n",
      "\tadd_(Tensor other, *, Number alpha) (Triggered internally at  /opt/conda/conda-bld/pytorch_1634272068694/work/torch/csrc/utils/python_arg_parser.cpp:1050.)\n",
      "  exp_avg.mul_(beta1_adj).add_(1.0 - beta1_adj, d_p)\n",
      "/home/wwydmanski/.conda/envs/img_processing/lib/python3.8/site-packages/node/odst.py:113: UserWarning: Data-aware initialization is performed on less than 1000 data points. This may cause instability.To avoid potential problems, run this model on a data batch with at least 1000 data samples.You can do so manually before training. Use with torch.no_grad() for memory efficiency.\n",
      "  warn(\"Data-aware initialization is performed on less than 1000 data points. This may cause instability.\"\n",
      "/home/wwydmanski/.conda/envs/img_processing/lib/python3.8/site-packages/node/odst.py:113: UserWarning: Data-aware initialization is performed on less than 1000 data points. This may cause instability.To avoid potential problems, run this model on a data batch with at least 1000 data samples.You can do so manually before training. Use with torch.no_grad() for memory efficiency.\n",
      "  warn(\"Data-aware initialization is performed on less than 1000 data points. This may cause instability.\"\n",
      "/home/wwydmanski/.conda/envs/img_processing/lib/python3.8/site-packages/node/odst.py:113: UserWarning: Data-aware initialization is performed on less than 1000 data points. This may cause instability.To avoid potential problems, run this model on a data batch with at least 1000 data samples.You can do so manually before training. Use with torch.no_grad() for memory efficiency.\n",
      "  warn(\"Data-aware initialization is performed on less than 1000 data points. This may cause instability.\"\n"
     ]
    },
    {
     "data": {
      "image/png": "[encoded data removed]",
      "text/plain": [
       "<Figure size 576x396 with 1 Axes>"
      ]
     },
     "metadata": {},
     "output_type": "display_data"
    }
   ],
   "source": [
    "node_results = test_model(node_fn(128),\n",
    "                (X_train, y_train), \n",
    "                (X_test, y_test),\n",
    "                y_label_enc, 4)"
   ]
  },
  {
   "cell_type": "code",
   "execution_count": 33,
   "id": "fb5ac4ab-0f69-4bf8-90c8-0b46ddfe369a",
   "metadata": {},
   "outputs": [
    {
     "name": "stdout",
     "output_type": "stream",
     "text": [
      "F1: 58.855 ~ 0.387\n",
      "C-statistics: 81.151 ~ 0.116\n",
      "Precision: 48.258 ~ 0.522\n",
      "Recall: 75.420 ~ 0.314\n"
     ]
    },
    {
     "name": "stderr",
     "output_type": "stream",
     "text": [
      "/tmp/ipykernel_627365/3812846823.py:66: FutureWarning: Dropping of nuisance columns in DataFrame reductions (with 'numeric_only=None') is deprecated; in a future version this will raise TypeError.  Select only valid columns before calling the reduction.\n",
      "  mean, std = dframe[dframe[\"Class\"]==\"F1 score\"].mean(), dframe[dframe[\"Class\"]==\"F1 score\"].std()\n",
      "/tmp/ipykernel_627365/3812846823.py:69: FutureWarning: Dropping of nuisance columns in DataFrame reductions (with 'numeric_only=None') is deprecated; in a future version this will raise TypeError.  Select only valid columns before calling the reduction.\n",
      "  mean, std = dframe[dframe[\"Class\"]==\"ROC score\"].mean(), dframe[dframe[\"Class\"]==\"ROC score\"].std()\n",
      "/tmp/ipykernel_627365/3812846823.py:72: FutureWarning: Dropping of nuisance columns in DataFrame reductions (with 'numeric_only=None') is deprecated; in a future version this will raise TypeError.  Select only valid columns before calling the reduction.\n",
      "  mean, std = dframe[dframe[\"Class\"]==\"Precision\"].mean(), dframe[dframe[\"Class\"]==\"Precision\"].std()\n",
      "/tmp/ipykernel_627365/3812846823.py:75: FutureWarning: Dropping of nuisance columns in DataFrame reductions (with 'numeric_only=None') is deprecated; in a future version this will raise TypeError.  Select only valid columns before calling the reduction.\n",
      "  mean, std = dframe[dframe[\"Class\"]==\"Recall\"].mean(), dframe[dframe[\"Class\"]==\"Recall\"].std()\n"
     ]
    }
   ],
   "source": [
    "print_statistics(node_results)"
   ]
  },
  {
   "cell_type": "code",
   "execution_count": 34,
   "id": "11d696b0-f5b6-4508-9fff-5166fad29e9a",
   "metadata": {},
   "outputs": [
    {
     "data": {
      "text/plain": [
       "torch.Size([152, 19])"
      ]
     },
     "execution_count": 34,
     "metadata": {},
     "output_type": "execute_result"
    }
   ],
   "source": [
    "X_train.shape"
   ]
  },
  {
   "cell_type": "markdown",
   "id": "1d60779d-0042-49af-8a32-e6d0b59e1589",
   "metadata": {
    "tags": []
   },
   "source": [
    "### Hypernetwork"
   ]
  },
  {
   "cell_type": "code",
   "execution_count": 22,
   "id": "6e5536d6-cf9d-4a2b-9d7b-184c0ac27a84",
   "metadata": {},
   "outputs": [],
   "source": [
    "def network_fn(epochs):\n",
    "    def _inner():\n",
    "        network = Hypernetwork(inp_size=X_train.shape[1], \n",
    "                            out_size=y.max().item()+1, \n",
    "                            mask_size=15,\n",
    "                            layers=[128, 128, 128],\n",
    "                            node_hidden_size=100, \n",
    "                            test_nodes=15, device=DEVICE).to(DEVICE)\n",
    "\n",
    "        network = HypernetworkSklearnInterface(network, device=DEVICE, epochs=epochs, batch_size=32)\n",
    "        return network\n",
    "    return _inner"
   ]
  },
  {
   "cell_type": "code",
   "execution_count": 23,
   "id": "426e77d2-3401-4891-b58d-425e9112102f",
   "metadata": {},
   "outputs": [
    {
     "ename": "AssertionError",
     "evalue": "[0.19917154 0.024545  ]",
     "output_type": "error",
     "traceback": [
      "\u001b[0;31m---------------------------------------------------------------------------\u001b[0m",
      "\u001b[0;31mAssertionError\u001b[0m                            Traceback (most recent call last)",
      "\u001b[0;32m/tmp/ipykernel_912531/1859682568.py\u001b[0m in \u001b[0;36m<module>\u001b[0;34m\u001b[0m\n\u001b[1;32m      7\u001b[0m \u001b[0;34m\u001b[0m\u001b[0m\n\u001b[1;32m      8\u001b[0m \u001b[0;34m\u001b[0m\u001b[0m\n\u001b[0;32m----> 9\u001b[0;31m \u001b[0;32massert\u001b[0m \u001b[0mnp\u001b[0m\u001b[0;34m.\u001b[0m\u001b[0misclose\u001b[0m\u001b[0;34m(\u001b[0m\u001b[0mres\u001b[0m\u001b[0;34m[\u001b[0m\u001b[0;36m0\u001b[0m\u001b[0;34m]\u001b[0m\u001b[0;34m[\u001b[0m\u001b[0;36m0\u001b[0m\u001b[0;34m]\u001b[0m\u001b[0;34m,\u001b[0m \u001b[0;34m-\u001b[0m\u001b[0;36m0.1093888\u001b[0m\u001b[0;34m)\u001b[0m \u001b[0;32mand\u001b[0m \u001b[0mnp\u001b[0m\u001b[0;34m.\u001b[0m\u001b[0misclose\u001b[0m\u001b[0;34m(\u001b[0m\u001b[0mres\u001b[0m\u001b[0;34m[\u001b[0m\u001b[0;36m0\u001b[0m\u001b[0;34m]\u001b[0m\u001b[0;34m[\u001b[0m\u001b[0;36m1\u001b[0m\u001b[0;34m]\u001b[0m\u001b[0;34m,\u001b[0m \u001b[0;34m-\u001b[0m\u001b[0;36m0.14375031\u001b[0m\u001b[0;34m)\u001b[0m\u001b[0;34m,\u001b[0m \u001b[0mres\u001b[0m\u001b[0;34m[\u001b[0m\u001b[0;36m0\u001b[0m\u001b[0;34m]\u001b[0m\u001b[0;34m\u001b[0m\u001b[0;34m\u001b[0m\u001b[0m\n\u001b[0m",
      "\u001b[0;31mAssertionError\u001b[0m: [0.19917154 0.024545  ]"
     ]
    }
   ],
   "source": [
    "# # torch.manual_seed(42)\n",
    "# # np.random.seed(42)\n",
    "\n",
    "# hypernet = network_fn(2)()\n",
    "# hypernet.network.to(\"cpu\")\n",
    "# res = hypernet.network(X_train[:1].float(), hypernet.network.test_mask[:1].to(\"cpu\").float()).detach().numpy()\n",
    "\n",
    "\n",
    "# # assert np.isclose(res[0][0], -0.1093888) and np.isclose(res[0][1], -0.14375031), res[0]"
   ]
  },
  {
   "cell_type": "code",
   "execution_count": 24,
   "id": "1e43b7af-9be5-427a-be2e-4f134ba1e644",
   "metadata": {},
   "outputs": [],
   "source": [
    "def figure_to_html():\n",
    "    tmpfile = BytesIO()\n",
    "    plt.gcf().savefig(tmpfile, format='png')\n",
    "    encoded = base64.b64encode(tmpfile.getvalue()).decode('utf-8')\n",
    "\n",
    "    html = '<img src=\\'data:image/png;base64,{}\\'>'.format(encoded)\n",
    "    return html"
   ]
  },
  {
   "cell_type": "code",
   "execution_count": 25,
   "id": "f5b3a72c-14cf-4d70-bb83-1f0a8aad5144",
   "metadata": {},
   "outputs": [
    {
     "name": "stderr",
     "output_type": "stream",
     "text": [
      "100%|█████████████████████████████████████████████████████████████████████████████████████████████████████████████████████████████████████████████████████████████████████| 150/150 [00:42<00:00,  3.55it/s]\n",
      "100%|█████████████████████████████████████████████████████████████████████████████████████████████████████████████████████████████████████████████████████████████████████| 150/150 [00:42<00:00,  3.54it/s]\n",
      "100%|█████████████████████████████████████████████████████████████████████████████████████████████████████████████████████████████████████████████████████████████████████| 150/150 [00:42<00:00,  3.51it/s]\n",
      "100%|█████████████████████████████████████████████████████████████████████████████████████████████████████████████████████████████████████████████████████████████████████| 150/150 [00:43<00:00,  3.47it/s]\n"
     ]
    },
    {
     "data": {
      "image/png": "[encoded data removed]",
      "text/plain": [
       "<Figure size 576x396 with 1 Axes>"
      ]
     },
     "metadata": {},
     "output_type": "display_data"
    }
   ],
   "source": [
    "nn_results = test_model(network_fn(150),\n",
    "                (X_train, y_train), \n",
    "                (X_test, y_test),\n",
    "                y_label_enc, 4)"
   ]
  },
  {
   "cell_type": "code",
   "execution_count": null,
   "id": "b950280b-188d-4321-8db6-9cb69912a242",
   "metadata": {},
   "outputs": [],
   "source": []
  },
  {
   "cell_type": "code",
   "execution_count": 25,
   "id": "d919c645-e3e3-4598-82aa-95d764b28ec9",
   "metadata": {
    "collapsed": true,
    "jupyter": {
     "outputs_hidden": true
    },
    "tags": []
   },
   "outputs": [
    {
     "name": "stderr",
     "output_type": "stream",
     "text": [
      "100%|█████████████████████████████████████████████████████████████████████████████████████████████████████████████████████████████████████████████████████████████████████████████████████████████████| 5/5 [00:00<00:00,  6.48it/s]\n",
      " 20%|██████████████████████████████████████▌                                                                                                                                                          | 1/5 [00:00<00:00,  5.90it/s]\n"
     ]
    },
    {
     "ename": "KeyboardInterrupt",
     "evalue": "",
     "output_type": "error",
     "traceback": [
      "\u001b[0;31m---------------------------------------------------------------------------\u001b[0m",
      "\u001b[0;31mKeyboardInterrupt\u001b[0m                         Traceback (most recent call last)",
      "\u001b[0;32m/tmp/ipykernel_396117/777050372.py\u001b[0m in \u001b[0;36m<module>\u001b[0;34m\u001b[0m\n\u001b[1;32m      1\u001b[0m \u001b[0mres\u001b[0m \u001b[0;34m=\u001b[0m \u001b[0;34m{\u001b[0m\u001b[0;34m}\u001b[0m\u001b[0;34m\u001b[0m\u001b[0;34m\u001b[0m\u001b[0m\n\u001b[1;32m      2\u001b[0m \u001b[0;32mfor\u001b[0m \u001b[0mepochs\u001b[0m \u001b[0;32min\u001b[0m \u001b[0;34m[\u001b[0m\u001b[0;36m5\u001b[0m\u001b[0;34m,\u001b[0m \u001b[0;36m10\u001b[0m\u001b[0;34m,\u001b[0m \u001b[0;36m20\u001b[0m\u001b[0;34m,\u001b[0m \u001b[0;36m50\u001b[0m\u001b[0;34m,\u001b[0m \u001b[0;36m100\u001b[0m\u001b[0;34m]\u001b[0m\u001b[0;34m:\u001b[0m\u001b[0;34m\u001b[0m\u001b[0;34m\u001b[0m\u001b[0m\n\u001b[0;32m----> 3\u001b[0;31m     nn_results = test_model(network_fn(epochs),\n\u001b[0m\u001b[1;32m      4\u001b[0m                     \u001b[0;34m(\u001b[0m\u001b[0mX_train\u001b[0m\u001b[0;34m,\u001b[0m \u001b[0my_train\u001b[0m\u001b[0;34m)\u001b[0m\u001b[0;34m,\u001b[0m\u001b[0;34m\u001b[0m\u001b[0;34m\u001b[0m\u001b[0m\n\u001b[1;32m      5\u001b[0m                     \u001b[0;34m(\u001b[0m\u001b[0mX_test\u001b[0m\u001b[0;34m,\u001b[0m \u001b[0my_test\u001b[0m\u001b[0;34m)\u001b[0m\u001b[0;34m,\u001b[0m\u001b[0;34m\u001b[0m\u001b[0;34m\u001b[0m\u001b[0m\n",
      "\u001b[0;32m/tmp/ipykernel_396117/3812846823.py\u001b[0m in \u001b[0;36mtest_model\u001b[0;34m(model_fn, train_data, test_data, label_encoder, iters)\u001b[0m\n\u001b[1;32m     53\u001b[0m         \u001b[0mmodel\u001b[0m \u001b[0;34m=\u001b[0m \u001b[0mmodel_fn\u001b[0m\u001b[0;34m(\u001b[0m\u001b[0;34m)\u001b[0m\u001b[0;34m\u001b[0m\u001b[0;34m\u001b[0m\u001b[0m\n\u001b[1;32m     54\u001b[0m \u001b[0;34m\u001b[0m\u001b[0m\n\u001b[0;32m---> 55\u001b[0;31m         \u001b[0mmodel\u001b[0m\u001b[0;34m.\u001b[0m\u001b[0mfit\u001b[0m\u001b[0;34m(\u001b[0m\u001b[0mX_train\u001b[0m\u001b[0;34m,\u001b[0m \u001b[0my_train\u001b[0m\u001b[0;34m)\u001b[0m\u001b[0;34m;\u001b[0m\u001b[0;34m\u001b[0m\u001b[0;34m\u001b[0m\u001b[0m\n\u001b[0m\u001b[1;32m     56\u001b[0m \u001b[0;34m\u001b[0m\u001b[0m\n\u001b[1;32m     57\u001b[0m         \u001b[0my_pred\u001b[0m \u001b[0;34m=\u001b[0m \u001b[0mmodel\u001b[0m\u001b[0;34m.\u001b[0m\u001b[0mpredict\u001b[0m\u001b[0;34m(\u001b[0m\u001b[0mX_test\u001b[0m\u001b[0;34m)\u001b[0m\u001b[0;34m\u001b[0m\u001b[0;34m\u001b[0m\u001b[0m\n",
      "\u001b[0;32m~/projects/hypernet-cnn/hypernet/tabular_hypernet/interfaces.py\u001b[0m in \u001b[0;36mfit\u001b[0;34m(self, X, y)\u001b[0m\n\u001b[1;32m     80\u001b[0m             \u001b[0;32mpass\u001b[0m\u001b[0;34m\u001b[0m\u001b[0;34m\u001b[0m\u001b[0m\n\u001b[1;32m     81\u001b[0m         \u001b[0mtrain_data\u001b[0m \u001b[0;34m=\u001b[0m \u001b[0mget_dataloader\u001b[0m\u001b[0;34m(\u001b[0m\u001b[0mX\u001b[0m\u001b[0;34m,\u001b[0m \u001b[0my\u001b[0m\u001b[0;34m,\u001b[0m \u001b[0mbatch_size\u001b[0m\u001b[0;34m=\u001b[0m\u001b[0mself\u001b[0m\u001b[0;34m.\u001b[0m\u001b[0mbatch_size\u001b[0m\u001b[0;34m)\u001b[0m\u001b[0;34m\u001b[0m\u001b[0;34m\u001b[0m\u001b[0m\n\u001b[0;32m---> 82\u001b[0;31m         train_model(\n\u001b[0m\u001b[1;32m     83\u001b[0m             \u001b[0mself\u001b[0m\u001b[0;34m.\u001b[0m\u001b[0mnetwork\u001b[0m\u001b[0;34m,\u001b[0m\u001b[0;34m\u001b[0m\u001b[0;34m\u001b[0m\u001b[0m\n\u001b[1;32m     84\u001b[0m             \u001b[0mself\u001b[0m\u001b[0;34m.\u001b[0m\u001b[0moptimizer\u001b[0m\u001b[0;34m,\u001b[0m\u001b[0;34m\u001b[0m\u001b[0;34m\u001b[0m\u001b[0m\n",
      "\u001b[0;32m~/projects/hypernet-cnn/hypernet/tabular_hypernet/training_utils.py\u001b[0m in \u001b[0;36mtrain_model\u001b[0;34m(hypernet, optimizer, criterion, trainloader, epochs, device)\u001b[0m\n\u001b[1;32m    244\u001b[0m         \u001b[0;32mfor\u001b[0m \u001b[0m_\u001b[0m \u001b[0;32min\u001b[0m \u001b[0mt\u001b[0m\u001b[0;34m:\u001b[0m\u001b[0;34m\u001b[0m\u001b[0;34m\u001b[0m\u001b[0m\n\u001b[1;32m    245\u001b[0m             \u001b[0mhypernet\u001b[0m\u001b[0;34m.\u001b[0m\u001b[0mtrain\u001b[0m\u001b[0;34m(\u001b[0m\u001b[0;34m)\u001b[0m\u001b[0;34m\u001b[0m\u001b[0;34m\u001b[0m\u001b[0m\n\u001b[0;32m--> 246\u001b[0;31m             \u001b[0;32mfor\u001b[0m \u001b[0m_\u001b[0m\u001b[0;34m,\u001b[0m \u001b[0mdata\u001b[0m \u001b[0;32min\u001b[0m \u001b[0menumerate\u001b[0m\u001b[0;34m(\u001b[0m\u001b[0mtrainloader\u001b[0m\u001b[0;34m)\u001b[0m\u001b[0;34m:\u001b[0m\u001b[0;34m\u001b[0m\u001b[0;34m\u001b[0m\u001b[0m\n\u001b[0m\u001b[1;32m    247\u001b[0m                 \u001b[0;32mtry\u001b[0m\u001b[0;34m:\u001b[0m\u001b[0;34m\u001b[0m\u001b[0;34m\u001b[0m\u001b[0m\n\u001b[1;32m    248\u001b[0m                     \u001b[0minputs\u001b[0m\u001b[0;34m,\u001b[0m \u001b[0mlabels\u001b[0m\u001b[0;34m,\u001b[0m \u001b[0m_\u001b[0m \u001b[0;34m=\u001b[0m \u001b[0mdata\u001b[0m\u001b[0;34m\u001b[0m\u001b[0;34m\u001b[0m\u001b[0m\n",
      "\u001b[0;32m~/.conda/envs/img_processing/lib/python3.8/site-packages/torch/utils/data/dataloader.py\u001b[0m in \u001b[0;36m__iter__\u001b[0;34m(self)\u001b[0m\n\u001b[1;32m    357\u001b[0m             \u001b[0;32mreturn\u001b[0m \u001b[0mself\u001b[0m\u001b[0;34m.\u001b[0m\u001b[0m_iterator\u001b[0m\u001b[0;34m\u001b[0m\u001b[0;34m\u001b[0m\u001b[0m\n\u001b[1;32m    358\u001b[0m         \u001b[0;32melse\u001b[0m\u001b[0;34m:\u001b[0m\u001b[0;34m\u001b[0m\u001b[0;34m\u001b[0m\u001b[0m\n\u001b[0;32m--> 359\u001b[0;31m             \u001b[0;32mreturn\u001b[0m \u001b[0mself\u001b[0m\u001b[0;34m.\u001b[0m\u001b[0m_get_iterator\u001b[0m\u001b[0;34m(\u001b[0m\u001b[0;34m)\u001b[0m\u001b[0;34m\u001b[0m\u001b[0;34m\u001b[0m\u001b[0m\n\u001b[0m\u001b[1;32m    360\u001b[0m \u001b[0;34m\u001b[0m\u001b[0m\n\u001b[1;32m    361\u001b[0m     \u001b[0;34m@\u001b[0m\u001b[0mproperty\u001b[0m\u001b[0;34m\u001b[0m\u001b[0;34m\u001b[0m\u001b[0m\n",
      "\u001b[0;32m~/.conda/envs/img_processing/lib/python3.8/site-packages/torch/utils/data/dataloader.py\u001b[0m in \u001b[0;36m_get_iterator\u001b[0;34m(self)\u001b[0m\n\u001b[1;32m    303\u001b[0m         \u001b[0;32melse\u001b[0m\u001b[0;34m:\u001b[0m\u001b[0;34m\u001b[0m\u001b[0;34m\u001b[0m\u001b[0m\n\u001b[1;32m    304\u001b[0m             \u001b[0mself\u001b[0m\u001b[0;34m.\u001b[0m\u001b[0mcheck_worker_number_rationality\u001b[0m\u001b[0;34m(\u001b[0m\u001b[0;34m)\u001b[0m\u001b[0;34m\u001b[0m\u001b[0;34m\u001b[0m\u001b[0m\n\u001b[0;32m--> 305\u001b[0;31m             \u001b[0;32mreturn\u001b[0m \u001b[0m_MultiProcessingDataLoaderIter\u001b[0m\u001b[0;34m(\u001b[0m\u001b[0mself\u001b[0m\u001b[0;34m)\u001b[0m\u001b[0;34m\u001b[0m\u001b[0;34m\u001b[0m\u001b[0m\n\u001b[0m\u001b[1;32m    306\u001b[0m \u001b[0;34m\u001b[0m\u001b[0m\n\u001b[1;32m    307\u001b[0m     \u001b[0;34m@\u001b[0m\u001b[0mproperty\u001b[0m\u001b[0;34m\u001b[0m\u001b[0;34m\u001b[0m\u001b[0m\n",
      "\u001b[0;32m~/.conda/envs/img_processing/lib/python3.8/site-packages/torch/utils/data/dataloader.py\u001b[0m in \u001b[0;36m__init__\u001b[0;34m(self, loader)\u001b[0m\n\u001b[1;32m    916\u001b[0m             \u001b[0;31m#     before it starts, and __del__ tries to join but will get:\u001b[0m\u001b[0;34m\u001b[0m\u001b[0;34m\u001b[0m\u001b[0;34m\u001b[0m\u001b[0m\n\u001b[1;32m    917\u001b[0m             \u001b[0;31m#     AssertionError: can only join a started process.\u001b[0m\u001b[0;34m\u001b[0m\u001b[0;34m\u001b[0m\u001b[0;34m\u001b[0m\u001b[0m\n\u001b[0;32m--> 918\u001b[0;31m             \u001b[0mw\u001b[0m\u001b[0;34m.\u001b[0m\u001b[0mstart\u001b[0m\u001b[0;34m(\u001b[0m\u001b[0;34m)\u001b[0m\u001b[0;34m\u001b[0m\u001b[0;34m\u001b[0m\u001b[0m\n\u001b[0m\u001b[1;32m    919\u001b[0m             \u001b[0mself\u001b[0m\u001b[0;34m.\u001b[0m\u001b[0m_index_queues\u001b[0m\u001b[0;34m.\u001b[0m\u001b[0mappend\u001b[0m\u001b[0;34m(\u001b[0m\u001b[0mindex_queue\u001b[0m\u001b[0;34m)\u001b[0m\u001b[0;34m\u001b[0m\u001b[0;34m\u001b[0m\u001b[0m\n\u001b[1;32m    920\u001b[0m             \u001b[0mself\u001b[0m\u001b[0;34m.\u001b[0m\u001b[0m_workers\u001b[0m\u001b[0;34m.\u001b[0m\u001b[0mappend\u001b[0m\u001b[0;34m(\u001b[0m\u001b[0mw\u001b[0m\u001b[0;34m)\u001b[0m\u001b[0;34m\u001b[0m\u001b[0;34m\u001b[0m\u001b[0m\n",
      "\u001b[0;32m~/.conda/envs/img_processing/lib/python3.8/multiprocessing/process.py\u001b[0m in \u001b[0;36mstart\u001b[0;34m(self)\u001b[0m\n\u001b[1;32m    119\u001b[0m                \u001b[0;34m'daemonic processes are not allowed to have children'\u001b[0m\u001b[0;34m\u001b[0m\u001b[0;34m\u001b[0m\u001b[0m\n\u001b[1;32m    120\u001b[0m         \u001b[0m_cleanup\u001b[0m\u001b[0;34m(\u001b[0m\u001b[0;34m)\u001b[0m\u001b[0;34m\u001b[0m\u001b[0;34m\u001b[0m\u001b[0m\n\u001b[0;32m--> 121\u001b[0;31m         \u001b[0mself\u001b[0m\u001b[0;34m.\u001b[0m\u001b[0m_popen\u001b[0m \u001b[0;34m=\u001b[0m \u001b[0mself\u001b[0m\u001b[0;34m.\u001b[0m\u001b[0m_Popen\u001b[0m\u001b[0;34m(\u001b[0m\u001b[0mself\u001b[0m\u001b[0;34m)\u001b[0m\u001b[0;34m\u001b[0m\u001b[0;34m\u001b[0m\u001b[0m\n\u001b[0m\u001b[1;32m    122\u001b[0m         \u001b[0mself\u001b[0m\u001b[0;34m.\u001b[0m\u001b[0m_sentinel\u001b[0m \u001b[0;34m=\u001b[0m \u001b[0mself\u001b[0m\u001b[0;34m.\u001b[0m\u001b[0m_popen\u001b[0m\u001b[0;34m.\u001b[0m\u001b[0msentinel\u001b[0m\u001b[0;34m\u001b[0m\u001b[0;34m\u001b[0m\u001b[0m\n\u001b[1;32m    123\u001b[0m         \u001b[0;31m# Avoid a refcycle if the target function holds an indirect\u001b[0m\u001b[0;34m\u001b[0m\u001b[0;34m\u001b[0m\u001b[0;34m\u001b[0m\u001b[0m\n",
      "\u001b[0;32m~/.conda/envs/img_processing/lib/python3.8/multiprocessing/context.py\u001b[0m in \u001b[0;36m_Popen\u001b[0;34m(process_obj)\u001b[0m\n\u001b[1;32m    222\u001b[0m     \u001b[0;34m@\u001b[0m\u001b[0mstaticmethod\u001b[0m\u001b[0;34m\u001b[0m\u001b[0;34m\u001b[0m\u001b[0m\n\u001b[1;32m    223\u001b[0m     \u001b[0;32mdef\u001b[0m \u001b[0m_Popen\u001b[0m\u001b[0;34m(\u001b[0m\u001b[0mprocess_obj\u001b[0m\u001b[0;34m)\u001b[0m\u001b[0;34m:\u001b[0m\u001b[0;34m\u001b[0m\u001b[0;34m\u001b[0m\u001b[0m\n\u001b[0;32m--> 224\u001b[0;31m         \u001b[0;32mreturn\u001b[0m \u001b[0m_default_context\u001b[0m\u001b[0;34m.\u001b[0m\u001b[0mget_context\u001b[0m\u001b[0;34m(\u001b[0m\u001b[0;34m)\u001b[0m\u001b[0;34m.\u001b[0m\u001b[0mProcess\u001b[0m\u001b[0;34m.\u001b[0m\u001b[0m_Popen\u001b[0m\u001b[0;34m(\u001b[0m\u001b[0mprocess_obj\u001b[0m\u001b[0;34m)\u001b[0m\u001b[0;34m\u001b[0m\u001b[0;34m\u001b[0m\u001b[0m\n\u001b[0m\u001b[1;32m    225\u001b[0m \u001b[0;34m\u001b[0m\u001b[0m\n\u001b[1;32m    226\u001b[0m \u001b[0;32mclass\u001b[0m \u001b[0mDefaultContext\u001b[0m\u001b[0;34m(\u001b[0m\u001b[0mBaseContext\u001b[0m\u001b[0;34m)\u001b[0m\u001b[0;34m:\u001b[0m\u001b[0;34m\u001b[0m\u001b[0;34m\u001b[0m\u001b[0m\n",
      "\u001b[0;32m~/.conda/envs/img_processing/lib/python3.8/multiprocessing/context.py\u001b[0m in \u001b[0;36m_Popen\u001b[0;34m(process_obj)\u001b[0m\n\u001b[1;32m    275\u001b[0m         \u001b[0;32mdef\u001b[0m \u001b[0m_Popen\u001b[0m\u001b[0;34m(\u001b[0m\u001b[0mprocess_obj\u001b[0m\u001b[0;34m)\u001b[0m\u001b[0;34m:\u001b[0m\u001b[0;34m\u001b[0m\u001b[0;34m\u001b[0m\u001b[0m\n\u001b[1;32m    276\u001b[0m             \u001b[0;32mfrom\u001b[0m \u001b[0;34m.\u001b[0m\u001b[0mpopen_fork\u001b[0m \u001b[0;32mimport\u001b[0m \u001b[0mPopen\u001b[0m\u001b[0;34m\u001b[0m\u001b[0;34m\u001b[0m\u001b[0m\n\u001b[0;32m--> 277\u001b[0;31m             \u001b[0;32mreturn\u001b[0m \u001b[0mPopen\u001b[0m\u001b[0;34m(\u001b[0m\u001b[0mprocess_obj\u001b[0m\u001b[0;34m)\u001b[0m\u001b[0;34m\u001b[0m\u001b[0;34m\u001b[0m\u001b[0m\n\u001b[0m\u001b[1;32m    278\u001b[0m \u001b[0;34m\u001b[0m\u001b[0m\n\u001b[1;32m    279\u001b[0m     \u001b[0;32mclass\u001b[0m \u001b[0mSpawnProcess\u001b[0m\u001b[0;34m(\u001b[0m\u001b[0mprocess\u001b[0m\u001b[0;34m.\u001b[0m\u001b[0mBaseProcess\u001b[0m\u001b[0;34m)\u001b[0m\u001b[0;34m:\u001b[0m\u001b[0;34m\u001b[0m\u001b[0;34m\u001b[0m\u001b[0m\n",
      "\u001b[0;32m~/.conda/envs/img_processing/lib/python3.8/multiprocessing/popen_fork.py\u001b[0m in \u001b[0;36m__init__\u001b[0;34m(self, process_obj)\u001b[0m\n\u001b[1;32m     14\u001b[0m \u001b[0;34m\u001b[0m\u001b[0m\n\u001b[1;32m     15\u001b[0m     \u001b[0;32mdef\u001b[0m \u001b[0m__init__\u001b[0m\u001b[0;34m(\u001b[0m\u001b[0mself\u001b[0m\u001b[0;34m,\u001b[0m \u001b[0mprocess_obj\u001b[0m\u001b[0;34m)\u001b[0m\u001b[0;34m:\u001b[0m\u001b[0;34m\u001b[0m\u001b[0;34m\u001b[0m\u001b[0m\n\u001b[0;32m---> 16\u001b[0;31m         \u001b[0mutil\u001b[0m\u001b[0;34m.\u001b[0m\u001b[0m_flush_std_streams\u001b[0m\u001b[0;34m(\u001b[0m\u001b[0;34m)\u001b[0m\u001b[0;34m\u001b[0m\u001b[0;34m\u001b[0m\u001b[0m\n\u001b[0m\u001b[1;32m     17\u001b[0m         \u001b[0mself\u001b[0m\u001b[0;34m.\u001b[0m\u001b[0mreturncode\u001b[0m \u001b[0;34m=\u001b[0m \u001b[0;32mNone\u001b[0m\u001b[0;34m\u001b[0m\u001b[0;34m\u001b[0m\u001b[0m\n\u001b[1;32m     18\u001b[0m         \u001b[0mself\u001b[0m\u001b[0;34m.\u001b[0m\u001b[0mfinalizer\u001b[0m \u001b[0;34m=\u001b[0m \u001b[0;32mNone\u001b[0m\u001b[0;34m\u001b[0m\u001b[0;34m\u001b[0m\u001b[0m\n",
      "\u001b[0;32m~/.conda/envs/img_processing/lib/python3.8/multiprocessing/util.py\u001b[0m in \u001b[0;36m_flush_std_streams\u001b[0;34m()\u001b[0m\n\u001b[1;32m    433\u001b[0m \u001b[0;32mdef\u001b[0m \u001b[0m_flush_std_streams\u001b[0m\u001b[0;34m(\u001b[0m\u001b[0;34m)\u001b[0m\u001b[0;34m:\u001b[0m\u001b[0;34m\u001b[0m\u001b[0;34m\u001b[0m\u001b[0m\n\u001b[1;32m    434\u001b[0m     \u001b[0;32mtry\u001b[0m\u001b[0;34m:\u001b[0m\u001b[0;34m\u001b[0m\u001b[0;34m\u001b[0m\u001b[0m\n\u001b[0;32m--> 435\u001b[0;31m         \u001b[0msys\u001b[0m\u001b[0;34m.\u001b[0m\u001b[0mstdout\u001b[0m\u001b[0;34m.\u001b[0m\u001b[0mflush\u001b[0m\u001b[0;34m(\u001b[0m\u001b[0;34m)\u001b[0m\u001b[0;34m\u001b[0m\u001b[0;34m\u001b[0m\u001b[0m\n\u001b[0m\u001b[1;32m    436\u001b[0m     \u001b[0;32mexcept\u001b[0m \u001b[0;34m(\u001b[0m\u001b[0mAttributeError\u001b[0m\u001b[0;34m,\u001b[0m \u001b[0mValueError\u001b[0m\u001b[0;34m)\u001b[0m\u001b[0;34m:\u001b[0m\u001b[0;34m\u001b[0m\u001b[0;34m\u001b[0m\u001b[0m\n\u001b[1;32m    437\u001b[0m         \u001b[0;32mpass\u001b[0m\u001b[0;34m\u001b[0m\u001b[0;34m\u001b[0m\u001b[0m\n",
      "\u001b[0;32m~/.conda/envs/img_processing/lib/python3.8/site-packages/ipykernel/iostream.py\u001b[0m in \u001b[0;36mflush\u001b[0;34m(self)\u001b[0m\n\u001b[1;32m    464\u001b[0m                 \u001b[0mself\u001b[0m\u001b[0;34m.\u001b[0m\u001b[0mpub_thread\u001b[0m\u001b[0;34m.\u001b[0m\u001b[0mschedule\u001b[0m\u001b[0;34m(\u001b[0m\u001b[0mevt\u001b[0m\u001b[0;34m.\u001b[0m\u001b[0mset\u001b[0m\u001b[0;34m)\u001b[0m\u001b[0;34m\u001b[0m\u001b[0;34m\u001b[0m\u001b[0m\n\u001b[1;32m    465\u001b[0m                 \u001b[0;31m# and give a timeout to avoid\u001b[0m\u001b[0;34m\u001b[0m\u001b[0;34m\u001b[0m\u001b[0;34m\u001b[0m\u001b[0m\n\u001b[0;32m--> 466\u001b[0;31m                 \u001b[0;32mif\u001b[0m \u001b[0;32mnot\u001b[0m \u001b[0mevt\u001b[0m\u001b[0;34m.\u001b[0m\u001b[0mwait\u001b[0m\u001b[0;34m(\u001b[0m\u001b[0mself\u001b[0m\u001b[0;34m.\u001b[0m\u001b[0mflush_timeout\u001b[0m\u001b[0;34m)\u001b[0m\u001b[0;34m:\u001b[0m\u001b[0;34m\u001b[0m\u001b[0;34m\u001b[0m\u001b[0m\n\u001b[0m\u001b[1;32m    467\u001b[0m                     \u001b[0;31m# write directly to __stderr__ instead of warning because\u001b[0m\u001b[0;34m\u001b[0m\u001b[0;34m\u001b[0m\u001b[0;34m\u001b[0m\u001b[0m\n\u001b[1;32m    468\u001b[0m                     \u001b[0;31m# if this is happening sys.stderr may be the problem.\u001b[0m\u001b[0;34m\u001b[0m\u001b[0;34m\u001b[0m\u001b[0;34m\u001b[0m\u001b[0m\n",
      "\u001b[0;32m~/.conda/envs/img_processing/lib/python3.8/threading.py\u001b[0m in \u001b[0;36mwait\u001b[0;34m(self, timeout)\u001b[0m\n\u001b[1;32m    556\u001b[0m             \u001b[0msignaled\u001b[0m \u001b[0;34m=\u001b[0m \u001b[0mself\u001b[0m\u001b[0;34m.\u001b[0m\u001b[0m_flag\u001b[0m\u001b[0;34m\u001b[0m\u001b[0;34m\u001b[0m\u001b[0m\n\u001b[1;32m    557\u001b[0m             \u001b[0;32mif\u001b[0m \u001b[0;32mnot\u001b[0m \u001b[0msignaled\u001b[0m\u001b[0;34m:\u001b[0m\u001b[0;34m\u001b[0m\u001b[0;34m\u001b[0m\u001b[0m\n\u001b[0;32m--> 558\u001b[0;31m                 \u001b[0msignaled\u001b[0m \u001b[0;34m=\u001b[0m \u001b[0mself\u001b[0m\u001b[0;34m.\u001b[0m\u001b[0m_cond\u001b[0m\u001b[0;34m.\u001b[0m\u001b[0mwait\u001b[0m\u001b[0;34m(\u001b[0m\u001b[0mtimeout\u001b[0m\u001b[0;34m)\u001b[0m\u001b[0;34m\u001b[0m\u001b[0;34m\u001b[0m\u001b[0m\n\u001b[0m\u001b[1;32m    559\u001b[0m             \u001b[0;32mreturn\u001b[0m \u001b[0msignaled\u001b[0m\u001b[0;34m\u001b[0m\u001b[0;34m\u001b[0m\u001b[0m\n\u001b[1;32m    560\u001b[0m \u001b[0;34m\u001b[0m\u001b[0m\n",
      "\u001b[0;32m~/.conda/envs/img_processing/lib/python3.8/threading.py\u001b[0m in \u001b[0;36mwait\u001b[0;34m(self, timeout)\u001b[0m\n\u001b[1;32m    304\u001b[0m             \u001b[0;32melse\u001b[0m\u001b[0;34m:\u001b[0m\u001b[0;34m\u001b[0m\u001b[0;34m\u001b[0m\u001b[0m\n\u001b[1;32m    305\u001b[0m                 \u001b[0;32mif\u001b[0m \u001b[0mtimeout\u001b[0m \u001b[0;34m>\u001b[0m \u001b[0;36m0\u001b[0m\u001b[0;34m:\u001b[0m\u001b[0;34m\u001b[0m\u001b[0;34m\u001b[0m\u001b[0m\n\u001b[0;32m--> 306\u001b[0;31m                     \u001b[0mgotit\u001b[0m \u001b[0;34m=\u001b[0m \u001b[0mwaiter\u001b[0m\u001b[0;34m.\u001b[0m\u001b[0macquire\u001b[0m\u001b[0;34m(\u001b[0m\u001b[0;32mTrue\u001b[0m\u001b[0;34m,\u001b[0m \u001b[0mtimeout\u001b[0m\u001b[0;34m)\u001b[0m\u001b[0;34m\u001b[0m\u001b[0;34m\u001b[0m\u001b[0m\n\u001b[0m\u001b[1;32m    307\u001b[0m                 \u001b[0;32melse\u001b[0m\u001b[0;34m:\u001b[0m\u001b[0;34m\u001b[0m\u001b[0;34m\u001b[0m\u001b[0m\n\u001b[1;32m    308\u001b[0m                     \u001b[0mgotit\u001b[0m \u001b[0;34m=\u001b[0m \u001b[0mwaiter\u001b[0m\u001b[0;34m.\u001b[0m\u001b[0macquire\u001b[0m\u001b[0;34m(\u001b[0m\u001b[0;32mFalse\u001b[0m\u001b[0;34m)\u001b[0m\u001b[0;34m\u001b[0m\u001b[0;34m\u001b[0m\u001b[0m\n",
      "\u001b[0;31mKeyboardInterrupt\u001b[0m: "
     ]
    }
   ],
   "source": [
    "res = {}\n",
    "for epochs in [100]:\n",
    "    nn_results = test_model(network_fn(epochs),\n",
    "                    (X_train, y_train), \n",
    "                    (X_test, y_test),\n",
    "                    y_label_enc, 4)\n",
    "    exp = Experiment(os.environ.get(\"COMET_KEY\"), \"blastchar-hypernet\")\n",
    "    exp.log_parameters({\"epochs\": epochs})\n",
    "    exp.add_tag(\"hypernet-epoch-optim\")\n",
    "    exp.log_table(\"metrics.csv\", nn_results.groupby(\"Class\").mean())\n",
    "    exp.log_metric(\"f1_score\", nn_results.groupby(\"Class\").mean().loc[\"F1 score\"])\n",
    "    \n",
    "    res[epochs] = nn_results\n",
    "    logger.info(f\"Number of epochs: {epochs}\")\n",
    "    print_statistics(res[epochs])\n",
    "    "
   ]
  },
  {
   "cell_type": "code",
   "execution_count": 26,
   "id": "a5e94e8c-0bc4-4c16-b0b7-0c4699157359",
   "metadata": {
    "tags": []
   },
   "outputs": [
    {
     "name": "stdout",
     "output_type": "stream",
     "text": [
      "F1: 60.194 ~ 0.317\n",
      "C-statistics: 82.064 ~ 0.352\n",
      "Precision: 53.665 ~ 1.332\n",
      "Recall: 68.640 ~ 2.559\n"
     ]
    },
    {
     "name": "stderr",
     "output_type": "stream",
     "text": [
      "/tmp/ipykernel_912531/3812846823.py:66: FutureWarning: Dropping of nuisance columns in DataFrame reductions (with 'numeric_only=None') is deprecated; in a future version this will raise TypeError.  Select only valid columns before calling the reduction.\n",
      "  mean, std = dframe[dframe[\"Class\"]==\"F1 score\"].mean(), dframe[dframe[\"Class\"]==\"F1 score\"].std()\n",
      "/tmp/ipykernel_912531/3812846823.py:69: FutureWarning: Dropping of nuisance columns in DataFrame reductions (with 'numeric_only=None') is deprecated; in a future version this will raise TypeError.  Select only valid columns before calling the reduction.\n",
      "  mean, std = dframe[dframe[\"Class\"]==\"ROC score\"].mean(), dframe[dframe[\"Class\"]==\"ROC score\"].std()\n",
      "/tmp/ipykernel_912531/3812846823.py:72: FutureWarning: Dropping of nuisance columns in DataFrame reductions (with 'numeric_only=None') is deprecated; in a future version this will raise TypeError.  Select only valid columns before calling the reduction.\n",
      "  mean, std = dframe[dframe[\"Class\"]==\"Precision\"].mean(), dframe[dframe[\"Class\"]==\"Precision\"].std()\n",
      "/tmp/ipykernel_912531/3812846823.py:75: FutureWarning: Dropping of nuisance columns in DataFrame reductions (with 'numeric_only=None') is deprecated; in a future version this will raise TypeError.  Select only valid columns before calling the reduction.\n",
      "  mean, std = dframe[dframe[\"Class\"]==\"Recall\"].mean(), dframe[dframe[\"Class\"]==\"Recall\"].std()\n"
     ]
    }
   ],
   "source": [
    "print_statistics(nn_results)"
   ]
  },
  {
   "cell_type": "code",
   "execution_count": null,
   "id": "a7268ee7-a31a-4ffd-b52d-364a5584cff7",
   "metadata": {},
   "outputs": [],
   "source": []
  },
  {
   "cell_type": "markdown",
   "id": "61056655-7f66-480e-ba54-ae15216c425d",
   "metadata": {},
   "source": [
    "#### Hyperparameter optimizations"
   ]
  },
  {
   "cell_type": "code",
   "execution_count": 27,
   "id": "2d14ceb3-18e7-405e-8bd7-edeb55c84f53",
   "metadata": {
    "tags": []
   },
   "outputs": [
    {
     "name": "stderr",
     "output_type": "stream",
     "text": [
      "COMET INFO: ---------------------------\n",
      "COMET INFO: Comet.ml Experiment Summary\n",
      "COMET INFO: ---------------------------\n",
      "COMET INFO:   Data:\n",
      "COMET INFO:     display_summary_level : 1\n",
      "COMET INFO:     url                   : https://www.comet.ml/wwydmanski/blastchar-hypernet/603fe5d1bb1941e28f04da6158ba3d89\n",
      "COMET INFO:   Metrics [count] (min, max):\n",
      "COMET INFO:     loss [251]         : (0.003964078612625599, 1.5225090980529785)\n",
      "COMET INFO:     test_accuracy [13] : (65.86489989917904, 72.76393489845888)\n",
      "COMET INFO:     test_loss [13]     : (0.008956598734179165, 0.010721816477301003)\n",
      "COMET INFO:   Parameters:\n",
      "COMET INFO:     batch_size              : 4\n",
      "COMET INFO:     check_val_every_n_epoch : 5\n",
      "COMET INFO:     lr                      : 0.0003\n",
      "COMET INFO:     mask_size               : 15\n",
      "COMET INFO:     masks_no                : 15\n",
      "COMET INFO:     max_epochs              : 1500\n",
      "COMET INFO:     node_hidden_size        : 100\n",
      "COMET INFO:     test_nodes              : 15\n",
      "COMET INFO:     training_size           : 150\n",
      "COMET INFO:   Uploads:\n",
      "COMET INFO:     environment details      : 1\n",
      "COMET INFO:     filename                 : 1\n",
      "COMET INFO:     git metadata             : 1\n",
      "COMET INFO:     git-patch (uncompressed) : 1 (6.64 KB)\n",
      "COMET INFO:     installed packages       : 1\n",
      "COMET INFO:     model graph              : 1\n",
      "COMET INFO:     notebook                 : 1\n",
      "COMET INFO:     os packages              : 1\n",
      "COMET INFO:     source_code              : 1\n",
      "COMET INFO: ---------------------------\n",
      "COMET WARNING: As you are running in a Jupyter environment, you will need to call `experiment.end()` when finished to ensure all metrics and code are logged before exiting.\n",
      "COMET INFO: Experiment is live on comet.ml https://www.comet.ml/wwydmanski/blastchar-hypernet/6c5492023b344435983c871264543af8\n",
      "\n",
      " 69%|██████████████████████████████████████████████████████████████████████████████████████████████████████████████▊                                                  | 1032/1500 [05:20<02:25,  3.22it/s, loss=2.36, test_acc=73.7]\n"
     ]
    },
    {
     "ename": "KeyboardInterrupt",
     "evalue": "",
     "output_type": "error",
     "traceback": [
      "\u001b[0;31m---------------------------------------------------------------------------\u001b[0m",
      "\u001b[0;31mKeyboardInterrupt\u001b[0m                         Traceback (most recent call last)",
      "\u001b[0;32m/tmp/ipykernel_78521/1419957083.py\u001b[0m in \u001b[0;36m<module>\u001b[0;34m\u001b[0m\n\u001b[1;32m     12\u001b[0m \u001b[0;34m\u001b[0m\u001b[0m\n\u001b[1;32m     13\u001b[0m     \u001b[0mhypernet\u001b[0m \u001b[0;34m=\u001b[0m \u001b[0mnetwork_fn\u001b[0m\u001b[0;34m(\u001b[0m\u001b[0mbatch_size\u001b[0m\u001b[0;34m)\u001b[0m\u001b[0;34m(\u001b[0m\u001b[0;34m)\u001b[0m\u001b[0;34m\u001b[0m\u001b[0;34m\u001b[0m\u001b[0m\n\u001b[0;32m---> 14\u001b[0;31m     train_slow_step(hypernet.network,\n\u001b[0m\u001b[1;32m     15\u001b[0m                     \u001b[0mhypernet\u001b[0m\u001b[0;34m.\u001b[0m\u001b[0moptimizer\u001b[0m\u001b[0;34m,\u001b[0m\u001b[0;34m\u001b[0m\u001b[0;34m\u001b[0m\u001b[0m\n\u001b[1;32m     16\u001b[0m                     \u001b[0mhypernet\u001b[0m\u001b[0;34m.\u001b[0m\u001b[0mcriterion\u001b[0m\u001b[0;34m,\u001b[0m\u001b[0;34m\u001b[0m\u001b[0;34m\u001b[0m\u001b[0m\n",
      "\u001b[0;32m~/projects/hypernet-cnn/hypernet/tabular_hypernet/training_utils.py\u001b[0m in \u001b[0;36mtrain_slow_step\u001b[0;34m(hypernet, optimizer, criterion, loaders, data_size, epochs, masks_no, experiment, tag, device, project_name, test_every)\u001b[0m\n\u001b[1;32m    185\u001b[0m             \u001b[0mcorrect\u001b[0m \u001b[0;34m=\u001b[0m \u001b[0;36m0\u001b[0m\u001b[0;34m\u001b[0m\u001b[0;34m\u001b[0m\u001b[0m\n\u001b[1;32m    186\u001b[0m             \u001b[0mdenom\u001b[0m \u001b[0;34m=\u001b[0m \u001b[0;36m0\u001b[0m\u001b[0;34m\u001b[0m\u001b[0;34m\u001b[0m\u001b[0m\n\u001b[0;32m--> 187\u001b[0;31m \u001b[0;34m\u001b[0m\u001b[0m\n\u001b[0m\u001b[1;32m    188\u001b[0m             \u001b[0mhypernet\u001b[0m\u001b[0;34m.\u001b[0m\u001b[0meval\u001b[0m\u001b[0;34m(\u001b[0m\u001b[0;34m)\u001b[0m\u001b[0;34m\u001b[0m\u001b[0;34m\u001b[0m\u001b[0m\n\u001b[1;32m    189\u001b[0m             \u001b[0;32mif\u001b[0m \u001b[0mepoch\u001b[0m\u001b[0;34m%\u001b[0m\u001b[0mtest_every\u001b[0m\u001b[0;34m==\u001b[0m\u001b[0;36m0\u001b[0m\u001b[0;34m:\u001b[0m\u001b[0;34m\u001b[0m\u001b[0;34m\u001b[0m\u001b[0m\n",
      "\u001b[0;32m~/.conda/envs/img_processing/lib/python3.8/site-packages/torch/nn/modules/module.py\u001b[0m in \u001b[0;36m_call_impl\u001b[0;34m(self, *input, **kwargs)\u001b[0m\n\u001b[1;32m   1100\u001b[0m         if not (self._backward_hooks or self._forward_hooks or self._forward_pre_hooks or _global_backward_hooks\n\u001b[1;32m   1101\u001b[0m                 or _global_forward_hooks or _global_forward_pre_hooks):\n\u001b[0;32m-> 1102\u001b[0;31m             \u001b[0;32mreturn\u001b[0m \u001b[0mforward_call\u001b[0m\u001b[0;34m(\u001b[0m\u001b[0;34m*\u001b[0m\u001b[0minput\u001b[0m\u001b[0;34m,\u001b[0m \u001b[0;34m**\u001b[0m\u001b[0mkwargs\u001b[0m\u001b[0;34m)\u001b[0m\u001b[0;34m\u001b[0m\u001b[0;34m\u001b[0m\u001b[0m\n\u001b[0m\u001b[1;32m   1103\u001b[0m         \u001b[0;31m# Do not call functions when jit is used\u001b[0m\u001b[0;34m\u001b[0m\u001b[0;34m\u001b[0m\u001b[0;34m\u001b[0m\u001b[0m\n\u001b[1;32m   1104\u001b[0m         \u001b[0mfull_backward_hooks\u001b[0m\u001b[0;34m,\u001b[0m \u001b[0mnon_full_backward_hooks\u001b[0m \u001b[0;34m=\u001b[0m \u001b[0;34m[\u001b[0m\u001b[0;34m]\u001b[0m\u001b[0;34m,\u001b[0m \u001b[0;34m[\u001b[0m\u001b[0;34m]\u001b[0m\u001b[0;34m\u001b[0m\u001b[0;34m\u001b[0m\u001b[0m\n",
      "\u001b[0;32m~/projects/hypernet-cnn/hypernet/tabular_hypernet/hypernetwork.py\u001b[0m in \u001b[0;36mforward\u001b[0;34m(self, data, mask)\u001b[0m\n\u001b[1;32m    115\u001b[0m             \u001b[0mself\u001b[0m\u001b[0;34m.\u001b[0m\u001b[0m_retrained\u001b[0m \u001b[0;34m=\u001b[0m \u001b[0;32mTrue\u001b[0m\u001b[0;34m\u001b[0m\u001b[0;34m\u001b[0m\u001b[0m\n\u001b[1;32m    116\u001b[0m             \u001b[0;32mif\u001b[0m \u001b[0mself\u001b[0m\u001b[0;34m.\u001b[0m\u001b[0mmode\u001b[0m \u001b[0;34m==\u001b[0m \u001b[0;34m\"slow_step\"\u001b[0m\u001b[0;34m:\u001b[0m\u001b[0;34m\u001b[0m\u001b[0;34m\u001b[0m\u001b[0m\n\u001b[0;32m--> 117\u001b[0;31m                 \u001b[0;32mreturn\u001b[0m \u001b[0mself\u001b[0m\u001b[0;34m.\u001b[0m\u001b[0m_slow_step_training\u001b[0m\u001b[0;34m(\u001b[0m\u001b[0mdata\u001b[0m\u001b[0;34m,\u001b[0m \u001b[0mmask\u001b[0m\u001b[0;34m)\u001b[0m\u001b[0;34m\u001b[0m\u001b[0;34m\u001b[0m\u001b[0m\n\u001b[0m\u001b[1;32m    118\u001b[0m             \u001b[0;32mif\u001b[0m \u001b[0mmask\u001b[0m \u001b[0;32mis\u001b[0m \u001b[0;32mNone\u001b[0m\u001b[0;34m:\u001b[0m\u001b[0;34m\u001b[0m\u001b[0;34m\u001b[0m\u001b[0m\n\u001b[1;32m    119\u001b[0m                 \u001b[0mmask\u001b[0m \u001b[0;34m=\u001b[0m \u001b[0mself\u001b[0m\u001b[0;34m.\u001b[0m\u001b[0m_create_mask\u001b[0m\u001b[0;34m(\u001b[0m\u001b[0mlen\u001b[0m\u001b[0;34m(\u001b[0m\u001b[0mdata\u001b[0m\u001b[0;34m)\u001b[0m\u001b[0;34m)\u001b[0m\u001b[0;34m\u001b[0m\u001b[0;34m\u001b[0m\u001b[0m\n",
      "\u001b[0;32m~/projects/hypernet-cnn/hypernet/tabular_hypernet/hypernetwork.py\u001b[0m in \u001b[0;36m_slow_step_training\u001b[0;34m(self, data, mask)\u001b[0m\n\u001b[1;32m     70\u001b[0m         \u001b[0mweights\u001b[0m \u001b[0;34m=\u001b[0m \u001b[0mself\u001b[0m\u001b[0;34m.\u001b[0m\u001b[0mcraft_network\u001b[0m\u001b[0;34m(\u001b[0m\u001b[0mmask\u001b[0m\u001b[0;34m[\u001b[0m\u001b[0;34m:\u001b[0m\u001b[0;36m1\u001b[0m\u001b[0;34m]\u001b[0m\u001b[0;34m)\u001b[0m\u001b[0;34m\u001b[0m\u001b[0;34m\u001b[0m\u001b[0m\n\u001b[1;32m     71\u001b[0m         \u001b[0mmask\u001b[0m \u001b[0;34m=\u001b[0m \u001b[0mmask\u001b[0m\u001b[0;34m[\u001b[0m\u001b[0;36m0\u001b[0m\u001b[0;34m]\u001b[0m\u001b[0;34m.\u001b[0m\u001b[0mto\u001b[0m\u001b[0;34m(\u001b[0m\u001b[0mtorch\u001b[0m\u001b[0;34m.\u001b[0m\u001b[0mbool\u001b[0m\u001b[0;34m)\u001b[0m\u001b[0;34m\u001b[0m\u001b[0;34m\u001b[0m\u001b[0m\n\u001b[0;32m---> 72\u001b[0;31m         nn = InsertableNet(\n\u001b[0m\u001b[1;32m     73\u001b[0m             \u001b[0mweights\u001b[0m\u001b[0;34m[\u001b[0m\u001b[0;36m0\u001b[0m\u001b[0;34m]\u001b[0m\u001b[0;34m,\u001b[0m\u001b[0;34m\u001b[0m\u001b[0;34m\u001b[0m\u001b[0m\n\u001b[1;32m     74\u001b[0m             \u001b[0mself\u001b[0m\u001b[0;34m.\u001b[0m\u001b[0mmask_size\u001b[0m\u001b[0;34m,\u001b[0m\u001b[0;34m\u001b[0m\u001b[0;34m\u001b[0m\u001b[0m\n",
      "\u001b[0;32m~/projects/hypernet-cnn/hypernet/tabular_hypernet/modules.py\u001b[0m in \u001b[0;36m__init__\u001b[0;34m(self, weights, inp_size, out_size, layers)\u001b[0m\n\u001b[1;32m     59\u001b[0m         \u001b[0mhidden_b_size\u001b[0m \u001b[0;34m=\u001b[0m \u001b[0mout_size\u001b[0m\u001b[0;34m\u001b[0m\u001b[0;34m\u001b[0m\u001b[0m\n\u001b[1;32m     60\u001b[0m \u001b[0;34m\u001b[0m\u001b[0m\n\u001b[0;32m---> 61\u001b[0;31m         \u001b[0mself\u001b[0m\u001b[0;34m.\u001b[0m\u001b[0minp_weights\u001b[0m \u001b[0;34m=\u001b[0m \u001b[0mweights\u001b[0m\u001b[0;34m[\u001b[0m\u001b[0;34m:\u001b[0m\u001b[0minput_w_size\u001b[0m\u001b[0;34m]\u001b[0m\u001b[0;34m.\u001b[0m\u001b[0mreshape\u001b[0m\u001b[0;34m(\u001b[0m\u001b[0;34m(\u001b[0m\u001b[0mlayers\u001b[0m\u001b[0;34m[\u001b[0m\u001b[0;36m0\u001b[0m\u001b[0;34m]\u001b[0m\u001b[0;34m,\u001b[0m \u001b[0minp_size\u001b[0m\u001b[0;34m)\u001b[0m\u001b[0;34m)\u001b[0m\u001b[0;34m\u001b[0m\u001b[0;34m\u001b[0m\u001b[0m\n\u001b[0m\u001b[1;32m     62\u001b[0m         \u001b[0mself\u001b[0m\u001b[0;34m.\u001b[0m\u001b[0minp_bias\u001b[0m \u001b[0;34m=\u001b[0m \u001b[0mweights\u001b[0m\u001b[0;34m[\u001b[0m\u001b[0minput_w_size\u001b[0m\u001b[0;34m:\u001b[0m\u001b[0minput_w_size\u001b[0m\u001b[0;34m+\u001b[0m\u001b[0minput_b_size\u001b[0m\u001b[0;34m]\u001b[0m\u001b[0;34m\u001b[0m\u001b[0;34m\u001b[0m\u001b[0m\n\u001b[1;32m     63\u001b[0m \u001b[0;34m\u001b[0m\u001b[0m\n",
      "\u001b[0;31mKeyboardInterrupt\u001b[0m: "
     ]
    }
   ],
   "source": [
    "from tabular_hypernet.training_utils import train_slow_step\n",
    "hypernet_res = []\n",
    "for batch_size in [4, 8, 16, 32, 64]:\n",
    "    start = time.time()\n",
    "\n",
    "    exp = Experiment(os.environ.get(\"COMET_KEY\"), \"blastchar-hypernet\")\n",
    "    exp.log_parameters({\"batch_size\": batch_size})\n",
    "    # nn_results = test_model(network_fn(batch_size),\n",
    "    #                         (X_train, y_train), \n",
    "    #                         (X_test, y_test), \n",
    "    #                         y_label_enc, 1)\n",
    "\n",
    "    hypernet = network_fn(batch_size)()\n",
    "    train_slow_step(hypernet.network,\n",
    "                    hypernet.optimizer,\n",
    "                    hypernet.criterion,\n",
    "                    (get_dataloader(X_train, y_train, batch_size=batch_size),\n",
    "                     get_dataloader(X_test, y_test, batch_size=64)),\n",
    "                    X_train.shape[0],\n",
    "                    1500,\n",
    "                    15,\n",
    "                    exp, device=DEVICE, test_every=50)\n",
    "                    \n",
    "                    \n",
    "    nn_results[\"Batch size\"] = batch_size\n",
    "    plt.title(f\"Batch size: {batch_size}\")\n",
    "\n",
    "    loss = nn_results[nn_results[\"Class\"]==\"Loss\"][\"Accuracy\"]\n",
    "    accuracy = nn_results[nn_results[\"Class\"]==\"Total\"][\"Accuracy\"]\n",
    "    exp.log_metric(\"mean_loss\", loss.mean())\n",
    "    exp.log_metric(\"loss_std\", loss.std())\n",
    "    exp.log_metric(\"mean_acc\", accuracy.mean())\n",
    "    exp.log_metric(\"acc_std\", accuracy.std())\n",
    "\n",
    "    exp.log_dataframe_profile(nn_results)\n",
    "    exp.log_html(figure_to_html())\n",
    "    plt.show()\n",
    "\n",
    "    hypernet_res.append(nn_results)\n",
    "\n",
    "    end = datetime.timedelta(seconds=time.time()-start)\n",
    "    logger.info(f\"{batch_size=} done in {str(end)}. Loss: {loss.mean():.3g}+-{loss.std():.3g}. Acc: {accuracy.mean():.1f}+-{accuracy.std():.2f}\")"
   ]
  },
  {
   "cell_type": "markdown",
   "id": "05400f77-e34c-44ea-9618-f11e428aa6a8",
   "metadata": {
    "tags": []
   },
   "source": [
    "### TabNet"
   ]
  },
  {
   "cell_type": "code",
   "execution_count": null,
   "id": "ce0eada6-0ed4-48d6-9d79-9b790e220bd6",
   "metadata": {},
   "outputs": [],
   "source": [
    "from pytorch_tabnet.tab_model import TabNetClassifier, TabNetRegressor"
   ]
  },
  {
   "cell_type": "code",
   "execution_count": 149,
   "id": "bb1cf77a-8707-4e4a-aa6c-18d9529ab20c",
   "metadata": {},
   "outputs": [
    {
     "data": {
      "text/plain": [
       "(134, 19)"
      ]
     },
     "execution_count": 149,
     "metadata": {},
     "output_type": "execute_result"
    }
   ],
   "source": [
    "np.array(X_train).shape"
   ]
  },
  {
   "cell_type": "code",
   "execution_count": 150,
   "id": "87d2fdc4-dd62-4546-93c2-eb2ab63b03f5",
   "metadata": {
    "collapsed": true,
    "jupyter": {
     "outputs_hidden": true
    },
    "tags": []
   },
   "outputs": [
    {
     "name": "stdout",
     "output_type": "stream",
     "text": [
      "Device used : cuda\n",
      "No early stopping will be performed, last training weights will be used.\n",
      "epoch 0  | loss: 0.84536 |  0:00:00s\n",
      "epoch 1  | loss: 0.70384 |  0:00:00s\n",
      "epoch 2  | loss: 0.62857 |  0:00:00s\n",
      "epoch 3  | loss: 0.5942  |  0:00:00s\n",
      "epoch 4  | loss: 0.59312 |  0:00:00s\n",
      "epoch 5  | loss: 0.54083 |  0:00:00s\n",
      "epoch 6  | loss: 0.52085 |  0:00:00s\n",
      "epoch 7  | loss: 0.50849 |  0:00:00s\n",
      "epoch 8  | loss: 0.50789 |  0:00:00s\n",
      "epoch 9  | loss: 0.47963 |  0:00:00s\n",
      "epoch 10 | loss: 0.4389  |  0:00:00s\n",
      "epoch 11 | loss: 0.43232 |  0:00:00s\n",
      "epoch 12 | loss: 0.40346 |  0:00:00s\n",
      "epoch 13 | loss: 0.3868  |  0:00:00s\n",
      "epoch 14 | loss: 0.40405 |  0:00:00s\n",
      "epoch 15 | loss: 0.39284 |  0:00:00s\n",
      "epoch 16 | loss: 0.39727 |  0:00:00s\n",
      "epoch 17 | loss: 0.36165 |  0:00:00s\n",
      "epoch 18 | loss: 0.38959 |  0:00:00s\n",
      "epoch 19 | loss: 0.40563 |  0:00:00s\n",
      "epoch 20 | loss: 0.40416 |  0:00:00s\n",
      "epoch 21 | loss: 0.31999 |  0:00:00s\n",
      "epoch 22 | loss: 0.3385  |  0:00:00s\n",
      "epoch 23 | loss: 0.32313 |  0:00:00s\n",
      "epoch 24 | loss: 0.34857 |  0:00:00s\n",
      "epoch 25 | loss: 0.31737 |  0:00:00s\n",
      "epoch 26 | loss: 0.31537 |  0:00:00s\n",
      "epoch 27 | loss: 0.29475 |  0:00:01s\n",
      "epoch 28 | loss: 0.35188 |  0:00:01s\n",
      "epoch 29 | loss: 0.26201 |  0:00:01s\n",
      "epoch 30 | loss: 0.2783  |  0:00:01s\n",
      "epoch 31 | loss: 0.31973 |  0:00:01s\n",
      "epoch 32 | loss: 0.25642 |  0:00:01s\n",
      "epoch 33 | loss: 0.30302 |  0:00:01s\n",
      "epoch 34 | loss: 0.27639 |  0:00:01s\n",
      "epoch 35 | loss: 0.27139 |  0:00:01s\n",
      "epoch 36 | loss: 0.24576 |  0:00:01s\n",
      "epoch 37 | loss: 0.23103 |  0:00:01s\n",
      "epoch 38 | loss: 0.25159 |  0:00:01s\n",
      "epoch 39 | loss: 0.22013 |  0:00:01s\n",
      "epoch 40 | loss: 0.28297 |  0:00:01s\n",
      "epoch 41 | loss: 0.20178 |  0:00:01s\n",
      "epoch 42 | loss: 0.21679 |  0:00:01s\n",
      "epoch 43 | loss: 0.21594 |  0:00:01s\n",
      "epoch 44 | loss: 0.18421 |  0:00:01s\n",
      "epoch 45 | loss: 0.16029 |  0:00:01s\n",
      "epoch 46 | loss: 0.17786 |  0:00:01s\n",
      "epoch 47 | loss: 0.13994 |  0:00:01s\n",
      "epoch 48 | loss: 0.14605 |  0:00:01s\n",
      "epoch 49 | loss: 0.19678 |  0:00:01s\n",
      "epoch 50 | loss: 0.15141 |  0:00:01s\n",
      "epoch 51 | loss: 0.13923 |  0:00:01s\n",
      "epoch 52 | loss: 0.17612 |  0:00:01s\n",
      "epoch 53 | loss: 0.20275 |  0:00:01s\n",
      "epoch 54 | loss: 0.22255 |  0:00:02s\n",
      "epoch 55 | loss: 0.22995 |  0:00:02s\n",
      "epoch 56 | loss: 0.13044 |  0:00:02s\n",
      "epoch 57 | loss: 0.15418 |  0:00:02s\n",
      "epoch 58 | loss: 0.14294 |  0:00:02s\n",
      "epoch 59 | loss: 0.13968 |  0:00:02s\n",
      "epoch 60 | loss: 0.13694 |  0:00:02s\n",
      "epoch 61 | loss: 0.22443 |  0:00:02s\n",
      "epoch 62 | loss: 0.255   |  0:00:02s\n",
      "epoch 63 | loss: 0.22144 |  0:00:02s\n",
      "epoch 64 | loss: 0.20007 |  0:00:02s\n",
      "epoch 65 | loss: 0.22809 |  0:00:02s\n",
      "epoch 66 | loss: 0.15602 |  0:00:02s\n",
      "epoch 67 | loss: 0.28655 |  0:00:02s\n",
      "epoch 68 | loss: 0.13934 |  0:00:02s\n",
      "epoch 69 | loss: 0.20152 |  0:00:02s\n",
      "epoch 70 | loss: 0.18584 |  0:00:02s\n",
      "epoch 71 | loss: 0.21086 |  0:00:02s\n",
      "epoch 72 | loss: 0.17273 |  0:00:02s\n",
      "epoch 73 | loss: 0.14313 |  0:00:02s\n",
      "epoch 74 | loss: 0.10053 |  0:00:02s\n",
      "epoch 75 | loss: 0.1196  |  0:00:02s\n",
      "epoch 76 | loss: 0.13687 |  0:00:02s\n",
      "epoch 77 | loss: 0.107   |  0:00:02s\n",
      "epoch 78 | loss: 0.16149 |  0:00:02s\n",
      "epoch 79 | loss: 0.17017 |  0:00:02s\n",
      "epoch 80 | loss: 0.161   |  0:00:02s\n",
      "epoch 81 | loss: 0.12811 |  0:00:03s\n",
      "epoch 82 | loss: 0.08774 |  0:00:03s\n",
      "epoch 83 | loss: 0.23324 |  0:00:03s\n",
      "epoch 84 | loss: 0.19212 |  0:00:03s\n",
      "epoch 85 | loss: 0.1403  |  0:00:03s\n",
      "epoch 86 | loss: 0.1761  |  0:00:03s\n",
      "epoch 87 | loss: 0.17647 |  0:00:03s\n",
      "epoch 88 | loss: 0.16545 |  0:00:03s\n",
      "epoch 89 | loss: 0.15273 |  0:00:03s\n",
      "epoch 90 | loss: 0.11642 |  0:00:03s\n",
      "epoch 91 | loss: 0.14837 |  0:00:03s\n",
      "epoch 92 | loss: 0.09186 |  0:00:03s\n",
      "epoch 93 | loss: 0.1543  |  0:00:03s\n",
      "epoch 94 | loss: 0.09768 |  0:00:03s\n",
      "epoch 95 | loss: 0.12307 |  0:00:03s\n",
      "epoch 96 | loss: 0.13241 |  0:00:03s\n",
      "epoch 97 | loss: 0.09914 |  0:00:03s\n",
      "epoch 98 | loss: 0.08243 |  0:00:03s\n",
      "epoch 99 | loss: 0.0689  |  0:00:03s\n",
      "Device used : cuda\n",
      "No early stopping will be performed, last training weights will be used.\n",
      "epoch 0  | loss: 0.85204 |  0:00:00s\n",
      "epoch 1  | loss: 0.69099 |  0:00:00s\n",
      "epoch 2  | loss: 0.56101 |  0:00:00s\n",
      "epoch 3  | loss: 0.53719 |  0:00:00s\n",
      "epoch 4  | loss: 0.50547 |  0:00:00s\n",
      "epoch 5  | loss: 0.47715 |  0:00:00s\n",
      "epoch 6  | loss: 0.47875 |  0:00:00s\n",
      "epoch 7  | loss: 0.44946 |  0:00:00s\n",
      "epoch 8  | loss: 0.47054 |  0:00:00s\n",
      "epoch 9  | loss: 0.44551 |  0:00:00s\n",
      "epoch 10 | loss: 0.4339  |  0:00:00s\n",
      "epoch 11 | loss: 0.38998 |  0:00:00s\n",
      "epoch 12 | loss: 0.36779 |  0:00:00s\n",
      "epoch 13 | loss: 0.39327 |  0:00:00s\n",
      "epoch 14 | loss: 0.37555 |  0:00:00s\n",
      "epoch 15 | loss: 0.42735 |  0:00:00s\n",
      "epoch 16 | loss: 0.37792 |  0:00:00s\n",
      "epoch 17 | loss: 0.40392 |  0:00:00s\n",
      "epoch 18 | loss: 0.37278 |  0:00:00s\n",
      "epoch 19 | loss: 0.35063 |  0:00:00s\n",
      "epoch 20 | loss: 0.36673 |  0:00:00s\n",
      "epoch 21 | loss: 0.38195 |  0:00:00s\n",
      "epoch 22 | loss: 0.31711 |  0:00:00s\n",
      "epoch 23 | loss: 0.30625 |  0:00:00s\n",
      "epoch 24 | loss: 0.3444  |  0:00:00s\n",
      "epoch 25 | loss: 0.30927 |  0:00:00s\n",
      "epoch 26 | loss: 0.23907 |  0:00:00s\n",
      "epoch 27 | loss: 0.26679 |  0:00:00s\n",
      "epoch 28 | loss: 0.25156 |  0:00:00s\n",
      "epoch 29 | loss: 0.27452 |  0:00:00s\n",
      "epoch 30 | loss: 0.21343 |  0:00:00s\n",
      "epoch 31 | loss: 0.21813 |  0:00:00s\n",
      "epoch 32 | loss: 0.17317 |  0:00:00s\n",
      "epoch 33 | loss: 0.17418 |  0:00:01s\n",
      "epoch 34 | loss: 0.18574 |  0:00:01s\n",
      "epoch 35 | loss: 0.14489 |  0:00:01s\n",
      "epoch 36 | loss: 0.15128 |  0:00:01s\n",
      "epoch 37 | loss: 0.14451 |  0:00:01s\n",
      "epoch 38 | loss: 0.1506  |  0:00:01s\n",
      "epoch 39 | loss: 0.15034 |  0:00:01s\n",
      "epoch 40 | loss: 0.12844 |  0:00:01s\n",
      "epoch 41 | loss: 0.13048 |  0:00:01s\n",
      "epoch 42 | loss: 0.12132 |  0:00:01s\n",
      "epoch 43 | loss: 0.12281 |  0:00:01s\n",
      "epoch 44 | loss: 0.11012 |  0:00:01s\n",
      "epoch 45 | loss: 0.09973 |  0:00:01s\n",
      "epoch 46 | loss: 0.1686  |  0:00:01s\n",
      "epoch 47 | loss: 0.11476 |  0:00:01s\n",
      "epoch 48 | loss: 0.18018 |  0:00:01s\n",
      "epoch 49 | loss: 0.10755 |  0:00:01s\n",
      "epoch 50 | loss: 0.13416 |  0:00:01s\n",
      "epoch 51 | loss: 0.17095 |  0:00:01s\n",
      "epoch 52 | loss: 0.08635 |  0:00:01s\n",
      "epoch 53 | loss: 0.15535 |  0:00:01s\n",
      "epoch 54 | loss: 0.10347 |  0:00:01s\n",
      "epoch 55 | loss: 0.07647 |  0:00:01s\n",
      "epoch 56 | loss: 0.11408 |  0:00:01s\n",
      "epoch 57 | loss: 0.07594 |  0:00:01s\n",
      "epoch 58 | loss: 0.07533 |  0:00:01s\n",
      "epoch 59 | loss: 0.18784 |  0:00:01s\n",
      "epoch 60 | loss: 0.08761 |  0:00:01s\n",
      "epoch 61 | loss: 0.07894 |  0:00:01s\n",
      "epoch 62 | loss: 0.07683 |  0:00:01s\n",
      "epoch 63 | loss: 0.10098 |  0:00:01s\n",
      "epoch 64 | loss: 0.11322 |  0:00:01s\n",
      "epoch 65 | loss: 0.07094 |  0:00:01s\n",
      "epoch 66 | loss: 0.07326 |  0:00:02s\n",
      "epoch 67 | loss: 0.07367 |  0:00:02s\n",
      "epoch 68 | loss: 0.07106 |  0:00:02s\n",
      "epoch 69 | loss: 0.0639  |  0:00:02s\n",
      "epoch 70 | loss: 0.072   |  0:00:02s\n",
      "epoch 71 | loss: 0.0512  |  0:00:02s\n",
      "epoch 72 | loss: 0.1469  |  0:00:02s\n",
      "epoch 73 | loss: 0.06794 |  0:00:02s\n",
      "epoch 74 | loss: 0.05893 |  0:00:02s\n",
      "epoch 75 | loss: 0.12029 |  0:00:02s\n",
      "epoch 76 | loss: 0.05613 |  0:00:02s\n",
      "epoch 77 | loss: 0.1172  |  0:00:02s\n",
      "epoch 78 | loss: 0.09577 |  0:00:02s\n",
      "epoch 79 | loss: 0.07955 |  0:00:02s\n",
      "epoch 80 | loss: 0.07537 |  0:00:02s\n",
      "epoch 81 | loss: 0.07009 |  0:00:02s\n",
      "epoch 82 | loss: 0.11182 |  0:00:02s\n",
      "epoch 83 | loss: 0.06248 |  0:00:02s\n",
      "epoch 84 | loss: 0.10612 |  0:00:02s\n",
      "epoch 85 | loss: 0.08311 |  0:00:02s\n",
      "epoch 86 | loss: 0.13112 |  0:00:02s\n",
      "epoch 87 | loss: 0.03976 |  0:00:02s\n",
      "epoch 88 | loss: 0.08548 |  0:00:02s\n",
      "epoch 89 | loss: 0.07615 |  0:00:02s\n",
      "epoch 90 | loss: 0.05733 |  0:00:02s\n",
      "epoch 91 | loss: 0.04043 |  0:00:02s\n",
      "epoch 92 | loss: 0.0862  |  0:00:02s\n",
      "epoch 93 | loss: 0.05767 |  0:00:02s\n",
      "epoch 94 | loss: 0.07006 |  0:00:02s\n",
      "epoch 95 | loss: 0.05215 |  0:00:02s\n",
      "epoch 96 | loss: 0.0551  |  0:00:02s\n",
      "epoch 97 | loss: 0.09618 |  0:00:02s\n",
      "epoch 98 | loss: 0.07954 |  0:00:02s\n",
      "epoch 99 | loss: 0.07653 |  0:00:03s\n",
      "Device used : cuda\n",
      "No early stopping will be performed, last training weights will be used.\n",
      "epoch 0  | loss: 0.7503  |  0:00:00s\n",
      "epoch 1  | loss: 0.71518 |  0:00:00s\n",
      "epoch 2  | loss: 0.64403 |  0:00:00s\n",
      "epoch 3  | loss: 0.58756 |  0:00:00s\n",
      "epoch 4  | loss: 0.56271 |  0:00:00s\n",
      "epoch 5  | loss: 0.56436 |  0:00:00s\n",
      "epoch 6  | loss: 0.51796 |  0:00:00s\n",
      "epoch 7  | loss: 0.47159 |  0:00:00s\n",
      "epoch 8  | loss: 0.45931 |  0:00:00s\n",
      "epoch 9  | loss: 0.4283  |  0:00:00s\n",
      "epoch 10 | loss: 0.43208 |  0:00:00s\n",
      "epoch 11 | loss: 0.37785 |  0:00:00s\n",
      "epoch 12 | loss: 0.41484 |  0:00:00s\n",
      "epoch 13 | loss: 0.38372 |  0:00:00s\n",
      "epoch 14 | loss: 0.30947 |  0:00:00s\n",
      "epoch 15 | loss: 0.32093 |  0:00:00s\n",
      "epoch 16 | loss: 0.31352 |  0:00:00s\n",
      "epoch 17 | loss: 0.25469 |  0:00:00s\n",
      "epoch 18 | loss: 0.30048 |  0:00:00s\n",
      "epoch 19 | loss: 0.28668 |  0:00:00s\n",
      "epoch 20 | loss: 0.28278 |  0:00:00s\n",
      "epoch 21 | loss: 0.32265 |  0:00:00s\n",
      "epoch 22 | loss: 0.28046 |  0:00:00s\n",
      "epoch 23 | loss: 0.30171 |  0:00:00s\n",
      "epoch 24 | loss: 0.29747 |  0:00:00s\n",
      "epoch 25 | loss: 0.27785 |  0:00:00s\n",
      "epoch 26 | loss: 0.30703 |  0:00:00s\n",
      "epoch 27 | loss: 0.25279 |  0:00:00s\n",
      "epoch 28 | loss: 0.31545 |  0:00:00s\n",
      "epoch 29 | loss: 0.1992  |  0:00:01s\n",
      "epoch 30 | loss: 0.23548 |  0:00:01s\n",
      "epoch 31 | loss: 0.247   |  0:00:01s\n",
      "epoch 32 | loss: 0.19344 |  0:00:01s\n",
      "epoch 33 | loss: 0.18387 |  0:00:01s\n",
      "epoch 34 | loss: 0.16275 |  0:00:01s\n",
      "epoch 35 | loss: 0.18774 |  0:00:01s\n",
      "epoch 36 | loss: 0.18259 |  0:00:01s\n",
      "epoch 37 | loss: 0.15419 |  0:00:01s\n",
      "epoch 38 | loss: 0.15668 |  0:00:01s\n",
      "epoch 39 | loss: 0.23008 |  0:00:01s\n",
      "epoch 40 | loss: 0.16403 |  0:00:01s\n",
      "epoch 41 | loss: 0.1359  |  0:00:01s\n",
      "epoch 42 | loss: 0.20317 |  0:00:01s\n",
      "epoch 43 | loss: 0.17442 |  0:00:01s\n",
      "epoch 44 | loss: 0.10617 |  0:00:01s\n",
      "epoch 45 | loss: 0.13186 |  0:00:01s\n",
      "epoch 46 | loss: 0.11608 |  0:00:01s\n",
      "epoch 47 | loss: 0.08702 |  0:00:01s\n",
      "epoch 48 | loss: 0.15405 |  0:00:01s\n",
      "epoch 49 | loss: 0.13276 |  0:00:01s\n",
      "epoch 50 | loss: 0.15206 |  0:00:01s\n",
      "epoch 51 | loss: 0.13428 |  0:00:01s\n",
      "epoch 52 | loss: 0.1335  |  0:00:01s\n",
      "epoch 53 | loss: 0.09591 |  0:00:01s\n",
      "epoch 54 | loss: 0.13598 |  0:00:01s\n",
      "epoch 55 | loss: 0.08134 |  0:00:01s\n",
      "epoch 56 | loss: 0.12354 |  0:00:01s\n",
      "epoch 57 | loss: 0.15441 |  0:00:02s\n",
      "epoch 58 | loss: 0.14894 |  0:00:02s\n",
      "epoch 59 | loss: 0.17908 |  0:00:02s\n",
      "epoch 60 | loss: 0.11862 |  0:00:02s\n",
      "epoch 61 | loss: 0.11973 |  0:00:02s\n",
      "epoch 62 | loss: 0.12053 |  0:00:02s\n",
      "epoch 63 | loss: 0.137   |  0:00:02s\n",
      "epoch 64 | loss: 0.1207  |  0:00:02s\n",
      "epoch 65 | loss: 0.11474 |  0:00:02s\n",
      "epoch 66 | loss: 0.11651 |  0:00:02s\n",
      "epoch 67 | loss: 0.11826 |  0:00:02s\n",
      "epoch 68 | loss: 0.13394 |  0:00:02s\n",
      "epoch 69 | loss: 0.13951 |  0:00:02s\n",
      "epoch 70 | loss: 0.15736 |  0:00:02s\n",
      "epoch 71 | loss: 0.15418 |  0:00:02s\n",
      "epoch 72 | loss: 0.15065 |  0:00:02s\n",
      "epoch 73 | loss: 0.15866 |  0:00:02s\n",
      "epoch 74 | loss: 0.19135 |  0:00:02s\n",
      "epoch 75 | loss: 0.08771 |  0:00:02s\n",
      "epoch 76 | loss: 0.15824 |  0:00:02s\n",
      "epoch 77 | loss: 0.10927 |  0:00:02s\n",
      "epoch 78 | loss: 0.11058 |  0:00:02s\n",
      "epoch 79 | loss: 0.12067 |  0:00:02s\n",
      "epoch 80 | loss: 0.10808 |  0:00:02s\n",
      "epoch 81 | loss: 0.10102 |  0:00:02s\n",
      "epoch 82 | loss: 0.10109 |  0:00:02s\n",
      "epoch 83 | loss: 0.07311 |  0:00:02s\n",
      "epoch 84 | loss: 0.0936  |  0:00:03s\n",
      "epoch 85 | loss: 0.10127 |  0:00:03s\n",
      "epoch 86 | loss: 0.08331 |  0:00:03s\n",
      "epoch 87 | loss: 0.08292 |  0:00:03s\n",
      "epoch 88 | loss: 0.06338 |  0:00:03s\n",
      "epoch 89 | loss: 0.16526 |  0:00:03s\n",
      "epoch 90 | loss: 0.11209 |  0:00:03s\n",
      "epoch 91 | loss: 0.07775 |  0:00:03s\n",
      "epoch 92 | loss: 0.12523 |  0:00:03s\n",
      "epoch 93 | loss: 0.13229 |  0:00:03s\n",
      "epoch 94 | loss: 0.0752  |  0:00:03s\n",
      "epoch 95 | loss: 0.10408 |  0:00:03s\n",
      "epoch 96 | loss: 0.08498 |  0:00:03s\n",
      "epoch 97 | loss: 0.07883 |  0:00:03s\n",
      "epoch 98 | loss: 0.05886 |  0:00:03s\n",
      "epoch 99 | loss: 0.11861 |  0:00:03s\n",
      "Device used : cuda\n",
      "No early stopping will be performed, last training weights will be used.\n",
      "epoch 0  | loss: 1.03048 |  0:00:00s\n",
      "epoch 1  | loss: 0.75774 |  0:00:00s\n",
      "epoch 2  | loss: 0.64339 |  0:00:00s\n",
      "epoch 3  | loss: 0.61996 |  0:00:00s\n",
      "epoch 4  | loss: 0.60435 |  0:00:00s\n",
      "epoch 5  | loss: 0.6211  |  0:00:00s\n",
      "epoch 6  | loss: 0.56754 |  0:00:00s\n",
      "epoch 7  | loss: 0.58345 |  0:00:00s\n",
      "epoch 8  | loss: 0.57981 |  0:00:00s\n",
      "epoch 9  | loss: 0.54065 |  0:00:00s\n",
      "epoch 10 | loss: 0.52307 |  0:00:00s\n",
      "epoch 11 | loss: 0.50084 |  0:00:00s\n",
      "epoch 12 | loss: 0.52402 |  0:00:00s\n",
      "epoch 13 | loss: 0.47227 |  0:00:00s\n",
      "epoch 14 | loss: 0.50475 |  0:00:00s\n",
      "epoch 15 | loss: 0.43891 |  0:00:00s\n",
      "epoch 16 | loss: 0.39932 |  0:00:00s\n",
      "epoch 17 | loss: 0.4352  |  0:00:00s\n",
      "epoch 18 | loss: 0.42256 |  0:00:00s\n",
      "epoch 19 | loss: 0.44111 |  0:00:00s\n",
      "epoch 20 | loss: 0.38908 |  0:00:00s\n",
      "epoch 21 | loss: 0.36357 |  0:00:00s\n",
      "epoch 22 | loss: 0.41042 |  0:00:00s\n",
      "epoch 23 | loss: 0.36857 |  0:00:00s\n",
      "epoch 24 | loss: 0.37629 |  0:00:00s\n",
      "epoch 25 | loss: 0.38187 |  0:00:00s\n",
      "epoch 26 | loss: 0.3341  |  0:00:00s\n",
      "epoch 27 | loss: 0.35771 |  0:00:00s\n",
      "epoch 28 | loss: 0.26878 |  0:00:00s\n",
      "epoch 29 | loss: 0.2694  |  0:00:00s\n",
      "epoch 30 | loss: 0.24158 |  0:00:00s\n",
      "epoch 31 | loss: 0.29172 |  0:00:00s\n",
      "epoch 32 | loss: 0.25144 |  0:00:00s\n",
      "epoch 33 | loss: 0.30843 |  0:00:01s\n",
      "epoch 34 | loss: 0.33336 |  0:00:01s\n",
      "epoch 35 | loss: 0.23286 |  0:00:01s\n",
      "epoch 36 | loss: 0.22749 |  0:00:01s\n",
      "epoch 37 | loss: 0.20669 |  0:00:01s\n",
      "epoch 38 | loss: 0.20893 |  0:00:01s\n",
      "epoch 39 | loss: 0.18724 |  0:00:01s\n",
      "epoch 40 | loss: 0.18429 |  0:00:01s\n",
      "epoch 41 | loss: 0.2031  |  0:00:01s\n",
      "epoch 42 | loss: 0.25666 |  0:00:01s\n",
      "epoch 43 | loss: 0.20119 |  0:00:01s\n",
      "epoch 44 | loss: 0.15866 |  0:00:01s\n",
      "epoch 45 | loss: 0.13951 |  0:00:01s\n",
      "epoch 46 | loss: 0.15787 |  0:00:01s\n",
      "epoch 47 | loss: 0.18085 |  0:00:01s\n",
      "epoch 48 | loss: 0.13102 |  0:00:01s\n",
      "epoch 49 | loss: 0.13798 |  0:00:01s\n",
      "epoch 50 | loss: 0.1072  |  0:00:01s\n",
      "epoch 51 | loss: 0.19003 |  0:00:01s\n",
      "epoch 52 | loss: 0.1378  |  0:00:01s\n",
      "epoch 53 | loss: 0.10236 |  0:00:01s\n",
      "epoch 54 | loss: 0.12069 |  0:00:01s\n",
      "epoch 55 | loss: 0.15668 |  0:00:01s\n",
      "epoch 56 | loss: 0.14565 |  0:00:01s\n",
      "epoch 57 | loss: 0.14305 |  0:00:01s\n",
      "epoch 58 | loss: 0.15891 |  0:00:01s\n",
      "epoch 59 | loss: 0.12466 |  0:00:01s\n",
      "epoch 60 | loss: 0.20398 |  0:00:01s\n",
      "epoch 61 | loss: 0.17635 |  0:00:01s\n",
      "epoch 62 | loss: 0.15709 |  0:00:01s\n",
      "epoch 63 | loss: 0.22311 |  0:00:01s\n",
      "epoch 64 | loss: 0.18172 |  0:00:01s\n",
      "epoch 65 | loss: 0.13592 |  0:00:01s\n",
      "epoch 66 | loss: 0.1024  |  0:00:02s\n",
      "epoch 67 | loss: 0.18602 |  0:00:02s\n",
      "epoch 68 | loss: 0.14437 |  0:00:02s\n",
      "epoch 69 | loss: 0.11235 |  0:00:02s\n",
      "epoch 70 | loss: 0.11223 |  0:00:02s\n",
      "epoch 71 | loss: 0.10895 |  0:00:02s\n",
      "epoch 72 | loss: 0.12291 |  0:00:02s\n",
      "epoch 73 | loss: 0.16577 |  0:00:02s\n",
      "epoch 74 | loss: 0.20043 |  0:00:02s\n",
      "epoch 75 | loss: 0.11829 |  0:00:02s\n",
      "epoch 76 | loss: 0.10109 |  0:00:02s\n",
      "epoch 77 | loss: 0.1314  |  0:00:02s\n",
      "epoch 78 | loss: 0.11635 |  0:00:02s\n",
      "epoch 79 | loss: 0.11004 |  0:00:02s\n",
      "epoch 80 | loss: 0.14409 |  0:00:02s\n",
      "epoch 81 | loss: 0.13495 |  0:00:02s\n",
      "epoch 82 | loss: 0.11656 |  0:00:02s\n",
      "epoch 83 | loss: 0.1199  |  0:00:02s\n",
      "epoch 84 | loss: 0.09197 |  0:00:02s\n",
      "epoch 85 | loss: 0.11633 |  0:00:02s\n",
      "epoch 86 | loss: 0.10344 |  0:00:02s\n",
      "epoch 87 | loss: 0.10054 |  0:00:02s\n",
      "epoch 88 | loss: 0.14537 |  0:00:02s\n",
      "epoch 89 | loss: 0.14452 |  0:00:02s\n",
      "epoch 90 | loss: 0.13354 |  0:00:02s\n",
      "epoch 91 | loss: 0.18248 |  0:00:02s\n",
      "epoch 92 | loss: 0.1752  |  0:00:02s\n",
      "epoch 93 | loss: 0.16894 |  0:00:02s\n",
      "epoch 94 | loss: 0.15855 |  0:00:02s\n",
      "epoch 95 | loss: 0.19642 |  0:00:02s\n",
      "epoch 96 | loss: 0.17635 |  0:00:03s\n",
      "epoch 97 | loss: 0.31328 |  0:00:03s\n",
      "epoch 98 | loss: 0.13864 |  0:00:03s\n",
      "epoch 99 | loss: 0.11642 |  0:00:03s\n"
     ]
    },
    {
     "data": {
      "image/png": "[encoded data removed]",
      "text/plain": [
       "<Figure size 576x396 with 1 Axes>"
      ]
     },
     "metadata": {},
     "output_type": "display_data"
    }
   ],
   "source": [
    "def tabnet_fn():\n",
    "    clf = TabNetClassifier(seed=np.random.randint(1024))\n",
    "    return clf\n",
    "\n",
    "tabnet_results = test_model(tabnet_fn,\n",
    "                    (np.array(X_train), np.array(y_train)), \n",
    "                    (X_test, y_test),\n",
    "                    y_label_enc, 4)"
   ]
  },
  {
   "cell_type": "code",
   "execution_count": 151,
   "id": "39d660b2-4a34-4150-9cfd-5ce11b9d75d7",
   "metadata": {},
   "outputs": [
    {
     "name": "stdout",
     "output_type": "stream",
     "text": [
      "F1: 48.135 ~ 3.153\n",
      "C-statistics: 69.298 ~ 2.537\n",
      "Precision: 40.670 ~ 2.924\n",
      "Recall: 59.028 ~ 4.102\n"
     ]
    },
    {
     "name": "stderr",
     "output_type": "stream",
     "text": [
      "/tmp/ipykernel_276146/3812846823.py:66: FutureWarning: Dropping of nuisance columns in DataFrame reductions (with 'numeric_only=None') is deprecated; in a future version this will raise TypeError.  Select only valid columns before calling the reduction.\n",
      "  mean, std = dframe[dframe[\"Class\"]==\"F1 score\"].mean(), dframe[dframe[\"Class\"]==\"F1 score\"].std()\n",
      "/tmp/ipykernel_276146/3812846823.py:69: FutureWarning: Dropping of nuisance columns in DataFrame reductions (with 'numeric_only=None') is deprecated; in a future version this will raise TypeError.  Select only valid columns before calling the reduction.\n",
      "  mean, std = dframe[dframe[\"Class\"]==\"ROC score\"].mean(), dframe[dframe[\"Class\"]==\"ROC score\"].std()\n",
      "/tmp/ipykernel_276146/3812846823.py:72: FutureWarning: Dropping of nuisance columns in DataFrame reductions (with 'numeric_only=None') is deprecated; in a future version this will raise TypeError.  Select only valid columns before calling the reduction.\n",
      "  mean, std = dframe[dframe[\"Class\"]==\"Precision\"].mean(), dframe[dframe[\"Class\"]==\"Precision\"].std()\n",
      "/tmp/ipykernel_276146/3812846823.py:75: FutureWarning: Dropping of nuisance columns in DataFrame reductions (with 'numeric_only=None') is deprecated; in a future version this will raise TypeError.  Select only valid columns before calling the reduction.\n",
      "  mean, std = dframe[dframe[\"Class\"]==\"Recall\"].mean(), dframe[dframe[\"Class\"]==\"Recall\"].std()\n"
     ]
    }
   ],
   "source": [
    "print_statistics(tabnet_results)"
   ]
  }
 ],
 "metadata": {
  "kernelspec": {
   "display_name": "img_processing",
   "language": "python",
   "name": "img_processing"
  },
  "language_info": {
   "codemirror_mode": {
    "name": "ipython",
    "version": 3
   },
   "file_extension": ".py",
   "mimetype": "text/x-python",
   "name": "python",
   "nbconvert_exporter": "python",
   "pygments_lexer": "ipython3",
   "version": "3.8.12"
  }
 },
 "nbformat": 4,
 "nbformat_minor": 5
}
