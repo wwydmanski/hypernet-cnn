{
 "cells": [
  {
   "cell_type": "code",
   "execution_count": 1,
   "id": "01de83ab",
   "metadata": {},
   "outputs": [],
   "source": [
    "import torch"
   ]
  },
  {
   "cell_type": "code",
   "execution_count": 2,
   "id": "dc12a648-b80a-4eca-afc3-79331e4db7fc",
   "metadata": {},
   "outputs": [],
   "source": [
    "from comet_ml import Experiment, Optimizer"
   ]
  },
  {
   "cell_type": "code",
   "execution_count": 3,
   "id": "2fdadf44-450a-4006-ac5a-bed9840409f6",
   "metadata": {},
   "outputs": [],
   "source": [
    "import pandas as pd\n",
    "import numpy as np\n",
    "from sklearn.preprocessing import LabelEncoder, StandardScaler\n",
    "from sklearn.model_selection import train_test_split\n",
    "from collections import defaultdict\n",
    "from tqdm import trange\n",
    "import torch\n",
    "import seaborn as sns\n",
    "import os\n",
    "import matplotlib.pyplot as plt\n",
    "from io import BytesIO\n",
    "import base64\n",
    "import sklearn\n",
    "import time\n",
    "import datetime\n",
    "\n",
    "plt.style.use(\"seaborn\")\n",
    "torch.set_default_dtype(torch.float32)"
   ]
  },
  {
   "cell_type": "code",
   "execution_count": 4,
   "id": "c7585d3a-dff3-43e2-bc0f-f024306021a7",
   "metadata": {},
   "outputs": [],
   "source": [
    "import node"
   ]
  },
  {
   "cell_type": "code",
   "execution_count": 5,
   "id": "6a37b70c-292b-4c14-85ed-3c93020dc182",
   "metadata": {},
   "outputs": [],
   "source": [
    "from sklearn.metrics import roc_auc_score, f1_score, precision_score, recall_score, balanced_accuracy_score"
   ]
  },
  {
   "cell_type": "code",
   "execution_count": 6,
   "id": "3085114d-cf61-4625-97c5-10f34c00d335",
   "metadata": {},
   "outputs": [],
   "source": [
    "from tabular_hypernet import HypernetworkPCA, TrainingModes, Hypernetwork\n",
    "from tabular_hypernet.modules import SimpleNetwork\n",
    "from tabular_hypernet.training_utils import train_slow_step, train_model, train_carthesian\n",
    "from tabular_hypernet.interfaces import HypernetworkSklearnInterface, SimpleSklearnInterface\n",
    "# from ipynb.fs.defs.MNIST_benchmark import test_model\n",
    "from sklearn.model_selection import GridSearchCV, RandomizedSearchCV"
   ]
  },
  {
   "cell_type": "code",
   "execution_count": 7,
   "id": "d62c6026",
   "metadata": {},
   "outputs": [],
   "source": [
    "from sklearn.metrics import classification_report, balanced_accuracy_score"
   ]
  },
  {
   "cell_type": "code",
   "execution_count": 8,
   "id": "f84a62eb-e16d-4519-ad76-2237037833c0",
   "metadata": {},
   "outputs": [],
   "source": [
    "import pyhopper"
   ]
  },
  {
   "cell_type": "code",
   "execution_count": 9,
   "id": "d12953cc-1ec5-46a9-933a-714e5ceafd1d",
   "metadata": {},
   "outputs": [
    {
     "data": {
      "text/plain": [
       "1"
      ]
     },
     "execution_count": 9,
     "metadata": {},
     "output_type": "execute_result"
    }
   ],
   "source": [
    "from loguru import logger\n",
    "\n",
    "logger.add(\"log.txt\", format='{time:YYYY-MM-DD HH:mm:ss.SSS} | {message}')"
   ]
  },
  {
   "cell_type": "code",
   "execution_count": 10,
   "id": "aa3c18d1-1d56-4393-9441-245420fb3c29",
   "metadata": {},
   "outputs": [],
   "source": [
    "import seaborn as sns"
   ]
  },
  {
   "cell_type": "code",
   "execution_count": 11,
   "id": "04d1ae25-987c-4043-9771-829c928723de",
   "metadata": {},
   "outputs": [],
   "source": [
    "DEVICE=\"cuda:0\""
   ]
  },
  {
   "cell_type": "code",
   "execution_count": 12,
   "id": "4a1a1e98-a8b4-4df2-aae6-b593fe61667a",
   "metadata": {},
   "outputs": [
    {
     "data": {
      "text/plain": [
       "2"
      ]
     },
     "execution_count": 12,
     "metadata": {},
     "output_type": "execute_result"
    }
   ],
   "source": [
    "from loguru import logger\n",
    "\n",
    "logger.add(\"log.txt\", format='{time:YYYY-MM-DD HH:mm:ss.SSS} | {message}')"
   ]
  },
  {
   "cell_type": "markdown",
   "id": "82db70f7",
   "metadata": {},
   "source": [
    "# Load data"
   ]
  },
  {
   "cell_type": "code",
   "execution_count": 13,
   "id": "9d631c29",
   "metadata": {},
   "outputs": [],
   "source": [
    "DATA = \"Ionosphere\""
   ]
  },
  {
   "cell_type": "code",
   "execution_count": 14,
   "id": "ba2d025f",
   "metadata": {
    "scrolled": false
   },
   "outputs": [
    {
     "name": "stdout",
     "output_type": "stream",
     "text": [
      "(351, 33) 2\n"
     ]
    }
   ],
   "source": [
    "if DATA == \"Ionosphere\":\n",
    "    ionosphere = pd.read_csv('https://archive.ics.uci.edu/ml/machine-learning-databases/ionosphere/ionosphere.data', header=None)\n",
    "    ionosphere = ionosphere.drop(1, axis=1)\n",
    "    X = ionosphere.values[:, :-1].astype(float)\n",
    "    y = ionosphere.values[:, -1]\n",
    "    y = LabelEncoder().fit_transform(y).astype(int)\n",
    "    #(351, 33) 2 #auc roc\n",
    "    GS_METRIC = \"ROC score\"\n",
    "    \n",
    "elif DATA == \"Libras\":\n",
    "    libras = pd.read_csv('https://archive.ics.uci.edu/ml/machine-learning-databases/libras/movement_libras.data', header=None)\n",
    "    X = libras.values[:, :-1].astype(float)\n",
    "    y = libras.values[:, -1].astype(int)\n",
    "    y -= 1\n",
    "    #(360, 90) 15\n",
    "    GS_METRIC = \"Balanced Acc score\"\n",
    "    \n",
    "elif DATA == \"Lymphography\":\n",
    "    lymphography = pd.read_csv('https://archive.ics.uci.edu/ml/machine-learning-databases/lymphography/lymphography.data', header=None)\n",
    "    X = lymphography.values[:, 1:].astype(float)\n",
    "    y = lymphography.values[:, 0].astype(int)\n",
    "    y -= 1\n",
    "    #(148, 18) 4\n",
    "    GS_METRIC = \"Balanced Acc score\"\n",
    "    \n",
    "print(X.shape, len(np.unique(y)))\n"
   ]
  },
  {
   "cell_type": "code",
   "execution_count": 15,
   "id": "3e85869a",
   "metadata": {},
   "outputs": [
    {
     "data": {
      "text/plain": [
       "2"
      ]
     },
     "execution_count": 15,
     "metadata": {},
     "output_type": "execute_result"
    }
   ],
   "source": [
    "n_classes = len(np.unique(y))\n",
    "n_classes"
   ]
  },
  {
   "cell_type": "code",
   "execution_count": 16,
   "id": "6305ff4d",
   "metadata": {},
   "outputs": [
    {
     "name": "stdout",
     "output_type": "stream",
     "text": [
      "{0: 126, 1: 225}\n"
     ]
    }
   ],
   "source": [
    "unique, counts = np.unique(y, return_counts=True)\n",
    "\n",
    "print(dict(zip(unique, counts)))"
   ]
  },
  {
   "cell_type": "code",
   "execution_count": 17,
   "id": "fe2c8e0d",
   "metadata": {},
   "outputs": [
    {
     "data": {
      "text/plain": [
       "33"
      ]
     },
     "execution_count": 17,
     "metadata": {},
     "output_type": "execute_result"
    }
   ],
   "source": [
    "n_features = X.shape[1]\n",
    "n_features"
   ]
  },
  {
   "cell_type": "code",
   "execution_count": 18,
   "id": "d4777a7f",
   "metadata": {},
   "outputs": [],
   "source": [
    "max_size = int(len(X)*0.7)"
   ]
  },
  {
   "cell_type": "code",
   "execution_count": 19,
   "id": "38876ff8",
   "metadata": {},
   "outputs": [
    {
     "name": "stdout",
     "output_type": "stream",
     "text": [
      "dataset size: 351 | max training size: 245\n"
     ]
    }
   ],
   "source": [
    "print('dataset size:', len(X), '|', 'max training size:', max_size)"
   ]
  },
  {
   "cell_type": "code",
   "execution_count": 20,
   "id": "30a5727b",
   "metadata": {},
   "outputs": [],
   "source": [
    "TEST_RUN = True"
   ]
  },
  {
   "cell_type": "code",
   "execution_count": null,
   "id": "507c32bf",
   "metadata": {},
   "outputs": [],
   "source": [
    "GS_METRIC = ''"
   ]
  },
  {
   "cell_type": "markdown",
   "id": "5c287f46",
   "metadata": {},
   "source": [
    "# Preprocess"
   ]
  },
  {
   "cell_type": "code",
   "execution_count": 21,
   "id": "bdc5ffdd-e04d-425f-8d6c-bd8456644faf",
   "metadata": {},
   "outputs": [],
   "source": [
    "import imblearn\n",
    "np.random.seed(42)\n",
    "\n",
    "def prepare_data(X, y, size=None):\n",
    "    X_train, X_test, y_train, y_test = train_test_split(X, y, train_size=size, stratify=y)\n",
    "    # X_train, y_train = imblearn.over_sampling.RandomOverSampler(random_state=42).fit_resample(X_train, y_train)\n",
    "    \n",
    "    scaler = StandardScaler()\n",
    "    X_train = scaler.fit_transform(X_train)\n",
    "    X_test = scaler.transform(X_test)\n",
    "    \n",
    "    X_train, X_test, y_train, y_test = [torch.from_numpy(x) for x in [X_train, X_test, y_train, y_test]]\n",
    "    \n",
    "    return X_train, X_test, y_train, y_test"
   ]
  },
  {
   "cell_type": "code",
   "execution_count": 22,
   "id": "ca0a827a-0e1f-4f5c-b15d-3354f075021e",
   "metadata": {},
   "outputs": [],
   "source": [
    "X_train, X_test, y_train, y_test = prepare_data(X, y, size=100)"
   ]
  },
  {
   "cell_type": "markdown",
   "id": "d223075b-b7d8-414e-97c9-ade8bda5f0fd",
   "metadata": {},
   "source": [
    "## Benchmark"
   ]
  },
  {
   "cell_type": "code",
   "execution_count": 23,
   "id": "b9f92f86-4c40-492c-8d48-f23efa85eb16",
   "metadata": {},
   "outputs": [],
   "source": [
    "criterion = torch.nn.CrossEntropyLoss()"
   ]
  },
  {
   "cell_type": "code",
   "execution_count": 24,
   "id": "5aa90ca0-8a00-4491-b111-ce7eee0e9c33",
   "metadata": {},
   "outputs": [],
   "source": [
    "def _summarize_results(y_pred, y_score, y_test, labels):\n",
    "    results = []\n",
    "    for idx, label in enumerate(labels):\n",
    "        y_pred_filt = y_pred[y_test==idx]\n",
    "        y_test_filt = y_test[y_test==idx]\n",
    "        acc = (y_pred_filt==y_test_filt.numpy()).sum()/len(y_test_filt)*100\n",
    "        results.append({\n",
    "            \"Class\": label,\n",
    "            \"Metric\": acc\n",
    "        })\n",
    "        \n",
    "    acc = (y_pred==y_test.numpy()).sum()/len(y_test)*100    \n",
    "    results.append({\n",
    "        \"Class\": \"Total\",\n",
    "        \"Metric\": acc\n",
    "    })\n",
    "    \n",
    "    \n",
    "    results.append({\n",
    "        \"Class\": \"Balanced Acc score\",\n",
    "        \"Metric\": balanced_accuracy_score(y_test, torch.from_numpy(y_pred)).item()*100\n",
    "    })\n",
    "    \n",
    "    try:\n",
    "        results.append({\n",
    "            \"Class\": \"F1 score\",\n",
    "            \"Metric\": f1_score(y_test, torch.from_numpy(y_pred)).item()*100\n",
    "        })\n",
    "        results.append({\n",
    "            \"Class\": \"ROC score\",\n",
    "            \"Metric\": roc_auc_score(y_test, torch.from_numpy(y_score[:, 1])).item()*100\n",
    "        })\n",
    "        results.append({\n",
    "            \"Class\": \"Precision\",\n",
    "            \"Metric\": precision_score(y_test, torch.from_numpy(y_pred)).item()*100\n",
    "        })\n",
    "        results.append({\n",
    "            \"Class\": \"Recall\",\n",
    "            \"Metric\": recall_score(y_test, torch.from_numpy(y_pred)).item()*100\n",
    "        })\n",
    "    except ValueError:\n",
    "        pass\n",
    "    return results\n",
    "\n",
    "def test_model(model_fn, data, train_size, label_encoder=None, iters=10, as_numpy=False):\n",
    "    if TEST_RUN:\n",
    "        iters = 1\n",
    "        \n",
    "    if label_encoder is not None:\n",
    "        labels = label_encoder.classes_\n",
    "    else:\n",
    "        labels = sorted(pd.unique(data[1]))\n",
    "    \n",
    "    results = []\n",
    "\n",
    "    for i in range(iters):\n",
    "        print('iter', i+1, 'of', iters)\n",
    "        X_train, X_test, y_train, y_test = prepare_data(*data, train_size)\n",
    "        \n",
    "        model = model_fn()\n",
    "\n",
    "        if as_numpy:\n",
    "            model.fit(X_train.numpy(), y_train.numpy());\n",
    "        else:\n",
    "            model.fit(X_train, y_train)\n",
    "        \n",
    "        y_pred = model.predict(X_test)\n",
    "        y_score = model.predict_proba(X_test)\n",
    "        results.extend(_summarize_results(y_pred, y_score, y_test, labels))\n",
    "\n",
    "    dframe = pd.DataFrame.from_dict(results)\n",
    "    sns.violinplot(data=dframe[dframe[\"Class\"]!=\"Loss\"], y=\"Class\", x=\"Metric\", orient='h')\n",
    "    return dframe"
   ]
  },
  {
   "cell_type": "markdown",
   "id": "23f351cf",
   "metadata": {},
   "source": [
    "### Param search"
   ]
  },
  {
   "cell_type": "code",
   "execution_count": 25,
   "id": "d1a95790",
   "metadata": {},
   "outputs": [],
   "source": [
    "def grid_search_best_params(model_fn, param_grid, data_size=max_size, scoring=GS_METRIC):\n",
    "    if TEST_RUN:\n",
    "        tmp = {k: [v[0]] for k, v in param_grid.items()}\n",
    "        param_grid = tmp\n",
    "        \n",
    "    X_train, X_test, y_train, y_test = prepare_data(X, y, data_size)\n",
    "\n",
    "    cv_clf = GridSearchCV(\n",
    "        estimator=model_fn(), \n",
    "        param_grid=param_grid,\n",
    "        scoring=scoring, \n",
    "        return_train_score=True,\n",
    "        verbose=1, \n",
    "        cv=5,\n",
    "    )\n",
    "\n",
    "    res = cv_clf.fit(X_train, y_train)\n",
    "\n",
    "    print(f'best params for {DATA}', res.best_params_)\n",
    "    print('mean_train_score', cv_clf.cv_results_['mean_train_score'].mean())\n",
    "    print('std_train_score', cv_clf.cv_results_['std_train_score'].mean())\n",
    "\n",
    "    predictions = cv_clf.predict(X_test) \n",
    "    print(classification_report(y_test, predictions))\n",
    "    \n",
    "    with open(f\"{DATA}_{model_fn.__name__}_best_params.txt\", \"a\") as f:\n",
    "            f.write(str(res.best_params_) + \", \" + str(balanced_accuracy_score(y_test, predictions)) + \"\\n\")\n",
    "    \n",
    "    print(f\"{DATA}_{model_fn.__name__}_{res.best_params_}\")\n",
    "    \n",
    "    return res.best_params_"
   ]
  },
  {
   "cell_type": "code",
   "execution_count": 26,
   "id": "ecee618e",
   "metadata": {},
   "outputs": [],
   "source": [
    "def pyhopper_best_params(model_fn, param_grid, data_size=max_size, metric=GS_METRIC, time=\"30m\"):\n",
    "    if TEST_RUN:\n",
    "        time = 60\n",
    "        \n",
    "    def objective(params):\n",
    "    #     print(\"Training...\")\n",
    "        model_results = test_model(\n",
    "                        model_fn(\n",
    "                            **params\n",
    "                        ),\n",
    "                        (X, y),\n",
    "                        data_size,\n",
    "                        None, 5)\n",
    "        with open(f\"{DATA}_{model_fn.__name__}_params.txt\", \"a\") as f:\n",
    "            f.write(str(params) + \", \" + str(model_results[model_results[\"Class\"]==metric][\"Metric\"].mean()) + \"\\n\")\n",
    "        return model_results[model_results[\"Class\"]==metric][\"Metric\"].mean()\n",
    "\n",
    "    from pyhopper.callbacks import History\n",
    "    search = pyhopper.Search(param_grid)\n",
    "\n",
    "    best_params = search.run(objective, \"maximize\", time, n_jobs=\"1x per-gpu\", seeding_ratio=0.5)\n",
    "    \n",
    "    with open(f\"{DATA}_{model_fn.__name__}_best_params.txt\", \"a\") as f:\n",
    "            f.write(str(best_params))\n",
    "    \n",
    "    print(f\"{DATA}_{model_fn.__name__}_{best_params}\")\n",
    "    return best_params\n"
   ]
  },
  {
   "cell_type": "code",
   "execution_count": null,
   "id": "57f3796d",
   "metadata": {},
   "outputs": [],
   "source": []
  },
  {
   "cell_type": "markdown",
   "id": "20f51db3",
   "metadata": {},
   "source": [
    "# TRAIN MODELS"
   ]
  },
  {
   "cell_type": "markdown",
   "id": "bf59445b-c0f0-4ee7-bfe9-5c8a57c22b86",
   "metadata": {},
   "source": [
    "### XGBoost"
   ]
  },
  {
   "cell_type": "code",
   "execution_count": 27,
   "id": "aacc321b-420a-47f3-88af-6bb02aa0ddbb",
   "metadata": {},
   "outputs": [],
   "source": [
    "from xgboost import XGBClassifier"
   ]
  },
  {
   "cell_type": "code",
   "execution_count": 28,
   "id": "50c27ad3",
   "metadata": {},
   "outputs": [
    {
     "data": {
      "text/plain": [
       "'1.6.0'"
      ]
     },
     "execution_count": 28,
     "metadata": {},
     "output_type": "execute_result"
    }
   ],
   "source": [
    "import xgboost\n",
    "xgboost.__version__"
   ]
  },
  {
   "cell_type": "code",
   "execution_count": 29,
   "id": "63e24c17",
   "metadata": {},
   "outputs": [],
   "source": [
    "def get_xgboost(params={}):\n",
    "    random_seed = np.random.randint(1024)\n",
    "    def _inner():\n",
    "        return XGBClassifier(\n",
    "            verbosity=0,\n",
    "            random_state=random_seed,\n",
    "            use_label_encoder=False,\n",
    "            **params\n",
    "        )\n",
    "    return _inner    "
   ]
  },
  {
   "cell_type": "markdown",
   "id": "8213082c",
   "metadata": {},
   "source": [
    "#### Hyperparam tuning"
   ]
  },
  {
   "cell_type": "code",
   "execution_count": 30,
   "id": "da7af406",
   "metadata": {},
   "outputs": [
    {
     "name": "stdout",
     "output_type": "stream",
     "text": [
      "Fitting 5 folds for each of 1 candidates, totalling 5 fits\n",
      "best params for Ionosphere {'gamma': 0, 'learning_rate': 0.001, 'max_depth': 2, 'min_child_weight': 1, 'n_estimators': 50}\n",
      "mean_train_score 0.8871475072658171\n",
      "std_train_score 0.012023981265966193\n",
      "              precision    recall  f1-score   support\n",
      "\n",
      "           0       0.84      0.97      0.90        38\n",
      "           1       0.98      0.90      0.94        68\n",
      "\n",
      "    accuracy                           0.92       106\n",
      "   macro avg       0.91      0.94      0.92       106\n",
      "weighted avg       0.93      0.92      0.93       106\n",
      "\n",
      "Ionosphere__inner_{'gamma': 0, 'learning_rate': 0.001, 'max_depth': 2, 'min_child_weight': 1, 'n_estimators': 50}\n"
     ]
    }
   ],
   "source": [
    "param_grid = {\n",
    "                'n_estimators': [50, 100, 500, 1000, 1500, 3000],\n",
    "                'max_depth': [2, 3, 5, 10, 15],\n",
    "                'learning_rate': [0.001, 0.01, 0.1, 1],\n",
    "                'min_child_weight': [1, 2, 4, 8, 16, 32],\n",
    "                'gamma': [0, 0.001, 0.1, 1],\n",
    "                'reg_lambda': [0, 1e-4, 1e-3, 1e-2, 0.1, 1, 10],\n",
    "                'reg_alpha': [0, 1e-4, 1e-3, 1e-2, 0.1, 1, 10],\n",
    "             }\n",
    "\n",
    "xgbc = get_xgboost()\n",
    "\n",
    "xgbt_best1 = grid_search_best_params(xgbc, param_grid)"
   ]
  },
  {
   "cell_type": "code",
   "execution_count": null,
   "id": "51d8fb3a",
   "metadata": {},
   "outputs": [],
   "source": []
  },
  {
   "cell_type": "code",
   "execution_count": 31,
   "id": "858bc970",
   "metadata": {},
   "outputs": [
    {
     "name": "stdout",
     "output_type": "stream",
     "text": [
      "Fitting 5 folds for each of 1 candidates, totalling 5 fits\n",
      "best params for Ionosphere {'subsample': 0.6}\n",
      "mean_train_score 0.9173822490498548\n",
      "std_train_score 0.008756759963332835\n",
      "              precision    recall  f1-score   support\n",
      "\n",
      "           0       0.83      0.89      0.86        38\n",
      "           1       0.94      0.90      0.92        68\n",
      "\n",
      "    accuracy                           0.90       106\n",
      "   macro avg       0.88      0.90      0.89       106\n",
      "weighted avg       0.90      0.90      0.90       106\n",
      "\n",
      "Ionosphere__inner_{'subsample': 0.6}\n"
     ]
    }
   ],
   "source": [
    "param_grid = {\n",
    "                'subsample': [0.6, 0.7, 0.8, 0.9, 1]\n",
    "             }\n",
    "\n",
    "xgbc = get_xgboost(xgbt_best1)\n",
    "\n",
    "xgbt_best2 = grid_search_best_params(xgbc, param_grid)"
   ]
  },
  {
   "cell_type": "markdown",
   "id": "95fb0f7b",
   "metadata": {},
   "source": [
    "#### Best Params"
   ]
  },
  {
   "cell_type": "markdown",
   "id": "da2aa500",
   "metadata": {},
   "source": [
    "'Ionosphere' {'gamma': 0, 'learning_rate': 0.1, 'max_depth': 5, 'min_child_weight': 2, 'n_estimators': 1500}\n"
   ]
  },
  {
   "cell_type": "code",
   "execution_count": 32,
   "id": "511d7466",
   "metadata": {},
   "outputs": [],
   "source": [
    "xgboost_best = {**xgbt_best1, **xgbt_best2}"
   ]
  },
  {
   "cell_type": "code",
   "execution_count": 33,
   "id": "d5cedd88-43b4-465c-b1e1-6a0b620ae73a",
   "metadata": {
    "scrolled": true
   },
   "outputs": [
    {
     "name": "stdout",
     "output_type": "stream",
     "text": [
      "iter 1 of 1\n"
     ]
    },
    {
     "data": {
      "image/png": "[encoded data removed]",
      "text/plain": [
       "<Figure size 576x396 with 1 Axes>"
      ]
     },
     "metadata": {},
     "output_type": "display_data"
    }
   ],
   "source": [
    "data_size = max_size\n",
    "\n",
    "xgb_dframe = test_model(get_xgboost(xgboost_best),\n",
    "                        (X, y),\n",
    "                        data_size,\n",
    "                        label_encoder=None, iters=20)"
   ]
  },
  {
   "cell_type": "code",
   "execution_count": 34,
   "id": "f530a0df-271a-495f-b49d-2cffe523c328",
   "metadata": {},
   "outputs": [
    {
     "name": "stdout",
     "output_type": "stream",
     "text": [
      "245: 91.51 ~ nan (max: 91.51)\n"
     ]
    }
   ],
   "source": [
    "res = xgb_dframe[xgb_dframe[\"Class\"]==\"Total\"].reset_index(drop=True)[\"Metric\"]\n",
    "print(f\"{data_size}: {res.mean():.2f} ~ {res.std():.2f} (max: {res.max():.2f})\")"
   ]
  },
  {
   "cell_type": "code",
   "execution_count": 35,
   "id": "e53148cb",
   "metadata": {
    "scrolled": true
   },
   "outputs": [
    {
     "data": {
      "text/html": [
       "<div>\n",
       "<style scoped>\n",
       "    .dataframe tbody tr th:only-of-type {\n",
       "        vertical-align: middle;\n",
       "    }\n",
       "\n",
       "    .dataframe tbody tr th {\n",
       "        vertical-align: top;\n",
       "    }\n",
       "\n",
       "    .dataframe thead th {\n",
       "        text-align: right;\n",
       "    }\n",
       "</style>\n",
       "<table border=\"1\" class=\"dataframe\">\n",
       "  <thead>\n",
       "    <tr style=\"text-align: right;\">\n",
       "      <th></th>\n",
       "      <th>Metric</th>\n",
       "    </tr>\n",
       "    <tr>\n",
       "      <th>Class</th>\n",
       "      <th></th>\n",
       "    </tr>\n",
       "  </thead>\n",
       "  <tbody>\n",
       "    <tr>\n",
       "      <th>0</th>\n",
       "      <td>89.473684</td>\n",
       "    </tr>\n",
       "    <tr>\n",
       "      <th>1</th>\n",
       "      <td>92.647059</td>\n",
       "    </tr>\n",
       "    <tr>\n",
       "      <th>Balanced Acc score</th>\n",
       "      <td>91.060372</td>\n",
       "    </tr>\n",
       "    <tr>\n",
       "      <th>F1 score</th>\n",
       "      <td>93.333333</td>\n",
       "    </tr>\n",
       "    <tr>\n",
       "      <th>Precision</th>\n",
       "      <td>94.029851</td>\n",
       "    </tr>\n",
       "    <tr>\n",
       "      <th>ROC score</th>\n",
       "      <td>96.381579</td>\n",
       "    </tr>\n",
       "    <tr>\n",
       "      <th>Recall</th>\n",
       "      <td>92.647059</td>\n",
       "    </tr>\n",
       "    <tr>\n",
       "      <th>Total</th>\n",
       "      <td>91.509434</td>\n",
       "    </tr>\n",
       "  </tbody>\n",
       "</table>\n",
       "</div>"
      ],
      "text/plain": [
       "                       Metric\n",
       "Class                        \n",
       "0                   89.473684\n",
       "1                   92.647059\n",
       "Balanced Acc score  91.060372\n",
       "F1 score            93.333333\n",
       "Precision           94.029851\n",
       "ROC score           96.381579\n",
       "Recall              92.647059\n",
       "Total               91.509434"
      ]
     },
     "execution_count": 35,
     "metadata": {},
     "output_type": "execute_result"
    }
   ],
   "source": [
    "xgb_dframe.groupby(['Class']).mean()"
   ]
  },
  {
   "cell_type": "markdown",
   "id": "d08dcdab-2c4b-4a05-822b-912037488763",
   "metadata": {},
   "source": [
    "### NODE"
   ]
  },
  {
   "cell_type": "code",
   "execution_count": 36,
   "id": "64d10cad-57b5-488c-9a94-63259bd0c13e",
   "metadata": {},
   "outputs": [],
   "source": [
    "from qhoptim.pyt import QHAdam"
   ]
  },
  {
   "cell_type": "code",
   "execution_count": 71,
   "id": "806be7a7-e4c8-4525-a38f-9ae16a3bd229",
   "metadata": {},
   "outputs": [],
   "source": [
    "def node_fn(layer_dim=128, num_layers=1, depth=3):\n",
    "    def _inner():\n",
    "        network = torch.nn.Sequential(\n",
    "            node.DenseBlock(X_train.shape[1], \n",
    "                            layer_dim=layer_dim,\n",
    "                            num_layers=num_layers, \n",
    "                            tree_dim=n_classes+1, \n",
    "                            depth=depth, \n",
    "                            flatten_output=False,\n",
    "                            choice_function=node.entmax15, \n",
    "                            bin_function=node.entmoid15\n",
    "                           ),\n",
    "            node.Lambda(lambda x: x.mean(dim=1))\n",
    "        )\n",
    "        \n",
    "        with torch.no_grad():\n",
    "            res = network(torch.as_tensor(X_train, device='cpu').to(torch.float32))\n",
    "        \n",
    "        network = network.to(DEVICE)\n",
    "        network.device=DEVICE\n",
    "            \n",
    "        optimizer_params = { 'nus':(0.7, 1.0), 'betas':(0.95, 0.998) }\n",
    "        optim = QHAdam(network.parameters(), **optimizer_params)\n",
    "            \n",
    "        network = SimpleSklearnInterface(network, device=DEVICE, epochs=150, batch_size=32)\n",
    "        network.optimizer = optim\n",
    "        return network\n",
    "    return _inner"
   ]
  },
  {
   "cell_type": "markdown",
   "id": "d404841f",
   "metadata": {},
   "source": [
    "#### Tune hyperparams"
   ]
  },
  {
   "cell_type": "code",
   "execution_count": 72,
   "id": "816a242b",
   "metadata": {},
   "outputs": [
    {
     "data": {
      "application/vnd.jupyter.widget-view+json": {
       "model_id": "582107ad592d40a887227675baef5a5a",
       "version_major": 2,
       "version_minor": 0
      },
      "text/plain": [
       "  0%|          | [00:00<?]"
      ]
     },
     "metadata": {},
     "output_type": "display_data"
    },
    {
     "name": "stdout",
     "output_type": "stream",
     "text": [
      "Search is scheduled for 01:00 (m:s)\n",
      "iter 1 of 1\n"
     ]
    },
    {
     "name": "stderr",
     "output_type": "stream",
     "text": [
      "/home/z1157095/hypernet-cnn/deps/node/node/lib/odst.py:72: UserWarning: __floordiv__ is deprecated, and its behavior will change in a future version of pytorch. It currently rounds toward 0 (like the 'trunc' function NOT 'floor'). This results in incorrect rounding for negative values. To keep the current behavior, use torch.div(a, b, rounding_mode='trunc'), or for actual floor division, use torch.div(a, b, rounding_mode='floor').\n",
      "  bin_codes = (indices.view(1, -1) // offsets.view(-1, 1) % 2).to(torch.float32)\n",
      "/home/z1157095/hypernet-cnn/deps/node/node/lib/odst.py:113: UserWarning: Data-aware initialization is performed on less than 1000 data points. This may cause instability.To avoid potential problems, run this model on a data batch with at least 1000 data samples.You can do so manually before training. Use with torch.no_grad() for memory efficiency.\n",
      "  warn(\"Data-aware initialization is performed on less than 1000 data points. This may cause instability.\"\n"
     ]
    },
    {
     "name": "stdout",
     "output_type": "stream",
     "text": [
      "================ Summary ================\n",
      "Mode              : Best f : Steps : Time\n",
      "----------------  : ----   : ----  : ----\n",
      "Initial solution  : 89.16  : 1     : 40 s\n",
      "----------------  : ----   : ----  : ----\n",
      "Total             : 89.16  : 1     : 40 s\n",
      "=========================================\n",
      "Ionosphere_node_fn_{'layer_dim': 256, 'num_layers': 3, 'depth': 4}\n"
     ]
    },
    {
     "data": {
      "text/plain": [
       "{'layer_dim': 256, 'num_layers': 3, 'depth': 4}"
      ]
     },
     "execution_count": 72,
     "metadata": {},
     "output_type": "execute_result"
    },
    {
     "data": {
      "image/png": "[encoded data removed]",
      "text/plain": [
       "<Figure size 576x396 with 1 Axes>"
      ]
     },
     "metadata": {},
     "output_type": "display_data"
    }
   ],
   "source": [
    "# 'layer_dim': hp.quniform('layer_dim', 100, 1200, 100),\n",
    "# 'num_layers': hp.quniform('num_layers', 1, 4, 1),\n",
    "# 'depth': hp.quniform('depth', 2, 7, 1)\n",
    "                    \n",
    "param_grid = {\n",
    "    'layer_dim': pyhopper.int(64, 1024, power_of=2),\n",
    "    'num_layers': pyhopper.int(1, 5),\n",
    "    'depth': pyhopper.int(2, 7),\n",
    "}\n",
    "\n",
    "node_best = pyhopper_best_params(node_fn, param_grid, time=\"90m\")\n",
    "node_best"
   ]
  },
  {
   "cell_type": "code",
   "execution_count": null,
   "id": "6c8e91b1",
   "metadata": {},
   "outputs": [],
   "source": []
  },
  {
   "cell_type": "markdown",
   "id": "e7772daf",
   "metadata": {},
   "source": [
    "#### Use best hyperparams"
   ]
  },
  {
   "cell_type": "code",
   "execution_count": 73,
   "id": "f6e447c1-63a6-4c90-b22e-5e0852817f9b",
   "metadata": {
    "tags": []
   },
   "outputs": [
    {
     "name": "stdout",
     "output_type": "stream",
     "text": [
      "iter 1 of 1\n",
      "245: 97.52 ~ nan, (max: 97.52)\n"
     ]
    }
   ],
   "source": [
    "%%capture --no-stdout\n",
    "\n",
    "size=max_size\n",
    "\n",
    "node_results = test_model(node_fn(**node_best),\n",
    "                    (X, y),\n",
    "                    size,\n",
    "                    label_encoder=None, iters=10)\n",
    "res = node_results[node_results[\"Class\"]==\"ROC score\"].reset_index(drop=True)[\"Metric\"]\n",
    "print(f\"{size}: {res.mean():.2f} ~ {res.std():.2f}, (max: {res.max():.2f})\")"
   ]
  },
  {
   "cell_type": "code",
   "execution_count": 75,
   "id": "3e34c1ec-8872-4501-8b2b-186020ae5908",
   "metadata": {},
   "outputs": [
    {
     "name": "stdout",
     "output_type": "stream",
     "text": [
      "245: 88.74 ~ nan, (max: 88.74)\n"
     ]
    }
   ],
   "source": [
    "res = node_results[node_results[\"Class\"]==\"Balanced Acc score\"].reset_index(drop=True)[\"Metric\"]\n",
    "print(f\"{size}: {res.mean():.2f} ~ {res.std():.2f}, (max: {res.max():.2f})\")"
   ]
  },
  {
   "cell_type": "code",
   "execution_count": null,
   "id": "8437ea73-72bf-4b18-94d4-eb58a8da9792",
   "metadata": {},
   "outputs": [],
   "source": []
  },
  {
   "cell_type": "code",
   "execution_count": null,
   "id": "11d696b0-f5b6-4508-9fff-5166fad29e9a",
   "metadata": {},
   "outputs": [],
   "source": []
  },
  {
   "cell_type": "markdown",
   "id": "753c2e4d-aca4-4eb1-b3ea-a1926fd44efe",
   "metadata": {},
   "source": [
    "### Dropout Neural network"
   ]
  },
  {
   "cell_type": "code",
   "execution_count": 40,
   "id": "9c97f270-5e57-4cea-b2f1-3204451b0f0f",
   "metadata": {},
   "outputs": [],
   "source": [
    "def network_fn1(epochs=100, drop1=0.3, drop2=0.5, batch_size=32, lr=3e-4):\n",
    "    \n",
    "    def _inner():\n",
    "        network = torch.nn.Sequential(\n",
    "                        torch.nn.Dropout(drop1),\n",
    "                        torch.nn.Linear(n_features, 64),\n",
    "                        torch.nn.ReLU(),\n",
    "                        torch.nn.Dropout(drop2),\n",
    "                        torch.nn.Linear(64, n_classes)\n",
    "                    ).to(DEVICE).train()\n",
    "\n",
    "        network = SimpleSklearnInterface(network, epochs=epochs, batch_size=batch_size, lr=3e-4)\n",
    "        return network\n",
    "    return _inner\n",
    "\n",
    "\n",
    "\n",
    "def network_fn2(epochs=100, drop1=0.3, drop2=0.5, drop3=0.5, batch_size=32, lr=3e-4):\n",
    "    \n",
    "    def _inner():\n",
    "        network = torch.nn.Sequential(\n",
    "                        torch.nn.Dropout(drop1),\n",
    "                        torch.nn.Linear(n_features, 64),\n",
    "                        torch.nn.ReLU(),\n",
    "                        torch.nn.Dropout(drop2),\n",
    "                        torch.nn.Linear(64, 64),\n",
    "                        torch.nn.ReLU(),\n",
    "                        torch.nn.Dropout(drop3),\n",
    "                        torch.nn.Linear(64, n_classes)\n",
    "                    ).to(DEVICE).train()\n",
    "\n",
    "        network = SimpleSklearnInterface(network, epochs=epochs, batch_size=batch_size, lr=3e-4)\n",
    "        return network\n",
    "    return _inner\n",
    "\n",
    "\n",
    "\n",
    "def network_fn3(epochs=100, drop1=0.3, drop2=0.5, drop3=0.5, drop4=0.5, batch_size=32, lr=3e-4):\n",
    "    \n",
    "    def _inner():\n",
    "        network = torch.nn.Sequential(\n",
    "                        torch.nn.Dropout(drop1),\n",
    "                        torch.nn.Linear(n_features, 64),\n",
    "                        torch.nn.ReLU(),\n",
    "                        torch.nn.Dropout(drop2),\n",
    "                        torch.nn.Linear(64, 128),\n",
    "                        torch.nn.ReLU(),\n",
    "                        torch.nn.Dropout(drop3),\n",
    "                        torch.nn.Linear(128, 64),\n",
    "                        torch.nn.ReLU(),\n",
    "                        torch.nn.Dropout(drop4),\n",
    "                        torch.nn.Linear(64, n_classes)\n",
    "                    ).to(DEVICE).train()\n",
    "\n",
    "        network = SimpleSklearnInterface(network, epochs=epochs, batch_size=batch_size, lr=3e-4)\n",
    "        return network\n",
    "    return _inner"
   ]
  },
  {
   "cell_type": "code",
   "execution_count": null,
   "id": "cb7bb2f6",
   "metadata": {},
   "outputs": [],
   "source": []
  },
  {
   "cell_type": "markdown",
   "id": "64652732",
   "metadata": {},
   "source": [
    "#### Find Hyperparams"
   ]
  },
  {
   "cell_type": "markdown",
   "id": "256e43a3",
   "metadata": {},
   "source": [
    "### Dropout 1 layer"
   ]
  },
  {
   "cell_type": "code",
   "execution_count": 41,
   "id": "41850a57",
   "metadata": {
    "scrolled": true
   },
   "outputs": [
    {
     "data": {
      "application/vnd.jupyter.widget-view+json": {
       "model_id": "bcf953d641fd473f9673ce0b99ca1222",
       "version_major": 2,
       "version_minor": 0
      },
      "text/plain": [
       "  0%|          | [00:00<?]"
      ]
     },
     "metadata": {},
     "output_type": "display_data"
    },
    {
     "name": "stdout",
     "output_type": "stream",
     "text": [
      "Search is scheduled for 01:00 (m:s)\n",
      "iter 1 of 1\n",
      "iter 1 of 1\n",
      "iter 1 of 1\n",
      "iter 1 of 1\n",
      "==================== Summary ===================\n",
      "Mode              : Best f : Steps : Time       \n",
      "----------------  : ----   : ----  : ----       \n",
      "Initial solution  : 84.06  : 1     : 15.58 s    \n",
      "Random seeding    : 81.42  : 1     : 14.31 s    \n",
      "Local sampling    : 91.37  : 2     : 31 s       \n",
      "----------------  : ----   : ----  : ----       \n",
      "Total             : 91.37  : 4     : 01:01 (m:s)\n",
      "================================================\n",
      "Ionosphere_network_fn1_{'epochs': 100, 'drop1': 0.3, 'drop2': 0.1, 'lr': 3e-05, 'batch_size': 32}\n"
     ]
    },
    {
     "data": {
      "text/plain": [
       "{'epochs': 100, 'drop1': 0.3, 'drop2': 0.1, 'lr': 3e-05, 'batch_size': 32}"
      ]
     },
     "execution_count": 41,
     "metadata": {},
     "output_type": "execute_result"
    },
    {
     "data": {
      "image/png": "[encoded data removed]",
      "text/plain": [
       "<Figure size 576x396 with 1 Axes>"
      ]
     },
     "metadata": {},
     "output_type": "display_data"
    }
   ],
   "source": [
    "param_grid = {\n",
    "                \"epochs\": pyhopper.choice([100, 150]),\n",
    "                \"drop1\": pyhopper.choice([0.1, 0.3, 0.5, 0.7], is_ordinal=True),\n",
    "                \"drop2\": pyhopper.choice([0.1, 0.3, 0.5, 0.7], is_ordinal=True),\n",
    "                \"lr\": pyhopper.choice([3e-5, 3e-4, 3e-3, 3e-2, 3e-1]),\n",
    "                \"batch_size\": pyhopper.choice([32, 64]),\n",
    "             }\n",
    "\n",
    "nn_fn1_best_params = pyhopper_best_params(network_fn1, param_grid, time=\"60m\")\n",
    "nn_fn1_best_params"
   ]
  },
  {
   "cell_type": "code",
   "execution_count": 42,
   "id": "7b0143ba",
   "metadata": {},
   "outputs": [
    {
     "name": "stdout",
     "output_type": "stream",
     "text": [
      "iter 1 of 1\n"
     ]
    },
    {
     "data": {
      "image/png": "[encoded data removed]",
      "text/plain": [
       "<Figure size 576x396 with 1 Axes>"
      ]
     },
     "metadata": {},
     "output_type": "display_data"
    }
   ],
   "source": [
    "data_size = max_size\n",
    "\n",
    "nn1_results = test_model(network_fn1(**nn_fn1_best_params),\n",
    "                (X, y),\n",
    "                data_size,\n",
    "                None, 10)"
   ]
  },
  {
   "cell_type": "code",
   "execution_count": 43,
   "id": "fb03b139",
   "metadata": {},
   "outputs": [
    {
     "name": "stdout",
     "output_type": "stream",
     "text": [
      "245: 91.80 ~ nan (max: 91.80)\n"
     ]
    }
   ],
   "source": [
    "res = nn1_results[nn1_results[\"Class\"]==\"Balanced Acc score\"][\"Metric\"]\n",
    "print(f\"{data_size}: {res.mean():.2f} ~ {res.std():.2f} (max: {res.max():.2f})\")"
   ]
  },
  {
   "cell_type": "markdown",
   "id": "fc25ca37",
   "metadata": {},
   "source": [
    "### Dropout 2 layers"
   ]
  },
  {
   "cell_type": "code",
   "execution_count": 44,
   "id": "6ded59e5",
   "metadata": {},
   "outputs": [
    {
     "data": {
      "application/vnd.jupyter.widget-view+json": {
       "model_id": "6349d377a9184bad94028a15760b8ac8",
       "version_major": 2,
       "version_minor": 0
      },
      "text/plain": [
       "  0%|          | [00:00<?]"
      ]
     },
     "metadata": {},
     "output_type": "display_data"
    },
    {
     "name": "stdout",
     "output_type": "stream",
     "text": [
      "Search is scheduled for 01:00 (m:s)\n",
      "iter 1 of 1\n",
      "iter 1 of 1\n",
      "iter 1 of 1\n",
      "==================== Summary ===================\n",
      "Mode              : Best f : Steps : Time       \n",
      "----------------  : ----   : ----  : ----       \n",
      "Initial solution  : 89.47  : 1     : 15.85 s    \n",
      "Random seeding    : 92.69  : 1     : 22 s       \n",
      "Local sampling    : 87.27  : 1     : 24 s       \n",
      "----------------  : ----   : ----  : ----       \n",
      "Total             : 92.69  : 3     : 01:02 (m:s)\n",
      "================================================\n",
      "Ionosphere_network_fn2_{'epochs': 150, 'drop1': 0.5, 'drop2': 0.5, 'drop3': 0.3, 'lr': 0.003, 'batch_size': 64}\n"
     ]
    },
    {
     "data": {
      "text/plain": [
       "{'epochs': 150,\n",
       " 'drop1': 0.5,\n",
       " 'drop2': 0.5,\n",
       " 'drop3': 0.3,\n",
       " 'lr': 0.003,\n",
       " 'batch_size': 64}"
      ]
     },
     "execution_count": 44,
     "metadata": {},
     "output_type": "execute_result"
    },
    {
     "data": {
      "image/png": "[encoded data removed]",
      "text/plain": [
       "<Figure size 576x396 with 1 Axes>"
      ]
     },
     "metadata": {},
     "output_type": "display_data"
    }
   ],
   "source": [
    "param_grid = {\n",
    "                \"epochs\": pyhopper.choice([100, 150]),\n",
    "                \"drop1\": pyhopper.choice([0.1, 0.3, 0.5, 0.7], is_ordinal=True),\n",
    "                \"drop2\": pyhopper.choice([0.1, 0.3, 0.5, 0.7], is_ordinal=True),\n",
    "                \"drop3\": pyhopper.choice([0.1, 0.3, 0.5, 0.7], is_ordinal=True),\n",
    "                \"lr\": pyhopper.choice([3e-5, 3e-4, 3e-3, 3e-2, 3e-1]),\n",
    "                \"batch_size\": pyhopper.choice([32, 64]),\n",
    "             }\n",
    "\n",
    "nn_fn2_best_params = pyhopper_best_params(network_fn2, param_grid, time=\"70m\")\n",
    "nn_fn2_best_params"
   ]
  },
  {
   "cell_type": "code",
   "execution_count": 45,
   "id": "326bbde0",
   "metadata": {},
   "outputs": [
    {
     "name": "stdout",
     "output_type": "stream",
     "text": [
      "iter 1 of 1\n"
     ]
    },
    {
     "data": {
      "image/png": "[encoded data removed]",
      "text/plain": [
       "<Figure size 576x396 with 1 Axes>"
      ]
     },
     "metadata": {},
     "output_type": "display_data"
    }
   ],
   "source": [
    "data_size = max_size\n",
    "\n",
    "nn2_results = test_model(network_fn2(**nn_fn2_best_params),\n",
    "                (X, y),\n",
    "                data_size,\n",
    "                None, 10)"
   ]
  },
  {
   "cell_type": "markdown",
   "id": "8349efaf",
   "metadata": {},
   "source": [
    "### Dropout 3 layers"
   ]
  },
  {
   "cell_type": "code",
   "execution_count": 46,
   "id": "5321d73a",
   "metadata": {},
   "outputs": [
    {
     "data": {
      "application/vnd.jupyter.widget-view+json": {
       "model_id": "a0f60bd0b92a46e8b67f099a73e0b3df",
       "version_major": 2,
       "version_minor": 0
      },
      "text/plain": [
       "  0%|          | [00:00<?]"
      ]
     },
     "metadata": {},
     "output_type": "display_data"
    },
    {
     "name": "stdout",
     "output_type": "stream",
     "text": [
      "Search is scheduled for 01:00 (m:s)\n",
      "iter 1 of 1\n",
      "iter 1 of 1\n",
      "iter 1 of 1\n",
      "================== Summary =================\n",
      "Mode              : Best f : Steps : Time   \n",
      "----------------  : ----   : ----  : ----   \n",
      "Initial solution  : 86.11  : 1     : 16.66 s\n",
      "Random seeding    : 83.48  : 1     : 22 s   \n",
      "Local sampling    : 92.69  : 1     : 14.81 s\n",
      "----------------  : ----   : ----  : ----   \n",
      "Total             : 92.69  : 3     : 54 s   \n",
      "============================================\n",
      "Ionosphere_network_fn3_{'epochs': 100, 'drop1': 0.3, 'drop2': 0.3, 'drop3': 0.3, 'drop4': 0.3, 'lr': 3e-05, 'batch_size': 64}\n"
     ]
    },
    {
     "data": {
      "text/plain": [
       "{'epochs': 100,\n",
       " 'drop1': 0.3,\n",
       " 'drop2': 0.3,\n",
       " 'drop3': 0.3,\n",
       " 'drop4': 0.3,\n",
       " 'lr': 3e-05,\n",
       " 'batch_size': 64}"
      ]
     },
     "execution_count": 46,
     "metadata": {},
     "output_type": "execute_result"
    },
    {
     "data": {
      "image/png": "[encoded data removed]",
      "text/plain": [
       "<Figure size 576x396 with 1 Axes>"
      ]
     },
     "metadata": {},
     "output_type": "display_data"
    }
   ],
   "source": [
    "param_grid = {\n",
    "                \"epochs\": pyhopper.choice([100, 150]),\n",
    "                \"drop1\": pyhopper.choice([0.1, 0.3, 0.5, 0.7], is_ordinal=True),\n",
    "                \"drop2\": pyhopper.choice([0.1, 0.3, 0.5, 0.7], is_ordinal=True),\n",
    "                \"drop3\": pyhopper.choice([0.1, 0.3, 0.5, 0.7], is_ordinal=True),\n",
    "                \"drop4\": pyhopper.choice([0.1, 0.3, 0.5, 0.7], is_ordinal=True),\n",
    "                \"lr\": pyhopper.choice([3e-5, 3e-4, 3e-3, 3e-2, 3e-1]),\n",
    "                \"batch_size\": pyhopper.choice([32, 64]),\n",
    "             }\n",
    "\n",
    "nn_fn3_best_params = pyhopper_best_params(network_fn3, param_grid, time=\"75m\")\n",
    "nn_fn3_best_params"
   ]
  },
  {
   "cell_type": "code",
   "execution_count": 47,
   "id": "aa8b864e",
   "metadata": {},
   "outputs": [
    {
     "name": "stdout",
     "output_type": "stream",
     "text": [
      "iter 1 of 1\n"
     ]
    },
    {
     "data": {
      "image/png": "[encoded data removed]",
      "text/plain": [
       "<Figure size 576x396 with 1 Axes>"
      ]
     },
     "metadata": {},
     "output_type": "display_data"
    }
   ],
   "source": [
    "data_size = max_size\n",
    "\n",
    "nn3_results = test_model(network_fn3(**nn_fn3_best_params),\n",
    "                (X, y),\n",
    "                data_size,\n",
    "                None, 10)"
   ]
  },
  {
   "cell_type": "code",
   "execution_count": null,
   "id": "fdb86765-3874-4023-8e26-b40ccc6df903",
   "metadata": {
    "scrolled": true,
    "tags": []
   },
   "outputs": [],
   "source": []
  },
  {
   "cell_type": "code",
   "execution_count": null,
   "id": "e933db2e",
   "metadata": {},
   "outputs": [],
   "source": []
  },
  {
   "cell_type": "markdown",
   "id": "1d60779d-0042-49af-8a32-e6d0b59e1589",
   "metadata": {
    "tags": []
   },
   "source": [
    "### HypernetworkPCA"
   ]
  },
  {
   "cell_type": "code",
   "execution_count": 48,
   "id": "6e5536d6-cf9d-4a2b-9d7b-184c0ac27a84",
   "metadata": {},
   "outputs": [],
   "source": [
    "def network_pca_fn(epochs=100, masks_no=100, mask_size=100, target_size=100, n_comp=5, lr=3e-4, batch_size=64):\n",
    "    def _inner():\n",
    "        hypernet = HypernetworkPCA(\n",
    "                        target_architecture=[(mask_size, target_size), (target_size, n_classes)], \n",
    "                        test_nodes=masks_no,\n",
    "                        architecture=torch.nn.Sequential(torch.nn.Linear(n_comp, 32), \n",
    "                            torch.nn.ReLU(),\n",
    "                            torch.nn.Linear(32, 128),\n",
    "                            torch.nn.ReLU(),\n",
    "                            torch.nn.Dropout(),\n",
    "                            torch.nn.Linear(128, 128),\n",
    "                            torch.nn.ReLU(),\n",
    "                        ),\n",
    "                        mode=TrainingModes.CARTHESIAN,\n",
    "                        input_size=n_features\n",
    "                    ).to(DEVICE)    \n",
    "        hypernet = hypernet.train()\n",
    "\n",
    "        network = HypernetworkSklearnInterface(hypernet, device=DEVICE, epochs=epochs, batch_size=batch_size, verbose=False, lr=3e-4)\n",
    "        return network\n",
    "    return _inner"
   ]
  },
  {
   "cell_type": "code",
   "execution_count": 49,
   "id": "1e43b7af-9be5-427a-be2e-4f134ba1e644",
   "metadata": {},
   "outputs": [],
   "source": [
    "def figure_to_html():\n",
    "    tmpfile = BytesIO()\n",
    "    plt.gcf().savefig(tmpfile, format='png')\n",
    "    encoded = base64.b64encode(tmpfile.getvalue()).decode('utf-8')\n",
    "\n",
    "    html = '<img src=\\'data:image/png;base64,{}\\'>'.format(encoded)\n",
    "    return html"
   ]
  },
  {
   "cell_type": "code",
   "execution_count": 50,
   "id": "6a257e5d",
   "metadata": {},
   "outputs": [
    {
     "data": {
      "text/plain": [
       "4"
      ]
     },
     "execution_count": 50,
     "metadata": {},
     "output_type": "execute_result"
    }
   ],
   "source": [
    "X.shape[1] // 7"
   ]
  },
  {
   "cell_type": "markdown",
   "id": "be2e5638-be6d-4a42-8eb4-be84078643bb",
   "metadata": {},
   "source": [
    "#### Find hyperparams"
   ]
  },
  {
   "cell_type": "code",
   "execution_count": 51,
   "id": "45f2e4fc",
   "metadata": {
    "scrolled": true
   },
   "outputs": [
    {
     "data": {
      "application/vnd.jupyter.widget-view+json": {
       "model_id": "b5136fbfedf94463b985658e3f39a6bc",
       "version_major": 2,
       "version_minor": 0
      },
      "text/plain": [
       "  0%|          | [00:00<?]"
      ]
     },
     "metadata": {},
     "output_type": "display_data"
    },
    {
     "name": "stdout",
     "output_type": "stream",
     "text": [
      "Search is scheduled for 01:00 (m:s)\n",
      "iter 1 of 1\n",
      "torch.Size([1, 128])\n",
      "33\n",
      "==================== Summary ===================\n",
      "Mode              : Best f : Steps : Time       \n",
      "----------------  : ----   : ----  : ----       \n",
      "Initial solution  : 91.37  : 1     : 02:22 (m:s)\n",
      "----------------  : ----   : ----  : ----       \n",
      "Total             : 91.37  : 1     : 02:22 (m:s)\n",
      "================================================\n",
      "Ionosphere_network_pca_fn_{'epochs': 100, 'masks_no': 50, 'mask_size': 11, 'target_size': 5, 'n_comp': 5, 'lr': 3e-05, 'batch_size': 32}\n"
     ]
    },
    {
     "data": {
      "text/plain": [
       "{'epochs': 100,\n",
       " 'masks_no': 50,\n",
       " 'mask_size': 11,\n",
       " 'target_size': 5,\n",
       " 'n_comp': 5,\n",
       " 'lr': 3e-05,\n",
       " 'batch_size': 32}"
      ]
     },
     "execution_count": 51,
     "metadata": {},
     "output_type": "execute_result"
    },
    {
     "data": {
      "image/png": "[encoded data removed]",
      "text/plain": [
       "<Figure size 576x396 with 1 Axes>"
      ]
     },
     "metadata": {},
     "output_type": "display_data"
    }
   ],
   "source": [
    "param_grid = {\n",
    "    \"epochs\": pyhopper.choice([100, 150]),\n",
    "    \"masks_no\": pyhopper.int(10, 80, multiple_of=10),\n",
    "    \"mask_size\": pyhopper.int(3, 20),\n",
    "    \"target_size\": pyhopper.choice([5, 10, 20, 50]),\n",
    "    \"n_comp\": pyhopper.int(3, 20),\n",
    "    \"lr\": pyhopper.choice([3e-5, 3e-4, 3e-3, 3e-2, 3e-1]),\n",
    "    \"batch_size\": pyhopper.choice([32, 64]),\n",
    "\n",
    "}\n",
    "\n",
    "hp_pca_best_params = pyhopper_best_params(network_pca_fn, param_grid, time=\"90m\")\n",
    "hp_pca_best_params"
   ]
  },
  {
   "cell_type": "code",
   "execution_count": null,
   "id": "a9569bae-98d8-4d2b-9643-3e57fe6bdcbf",
   "metadata": {
    "jupyter": {
     "outputs_hidden": true
    },
    "scrolled": true,
    "tags": []
   },
   "outputs": [],
   "source": []
  },
  {
   "cell_type": "code",
   "execution_count": 52,
   "id": "df7c4b5b",
   "metadata": {},
   "outputs": [
    {
     "data": {
      "text/plain": [
       "{'epochs': 100,\n",
       " 'masks_no': 50,\n",
       " 'mask_size': 11,\n",
       " 'target_size': 5,\n",
       " 'n_comp': 5,\n",
       " 'lr': 3e-05,\n",
       " 'batch_size': 32}"
      ]
     },
     "execution_count": 52,
     "metadata": {},
     "output_type": "execute_result"
    }
   ],
   "source": [
    "hp_pca_best_params"
   ]
  },
  {
   "cell_type": "markdown",
   "id": "ffa4f868",
   "metadata": {},
   "source": [
    "'Libras'\n",
    "{'epochs': 150,\n",
    " 'masks_no': 70,\n",
    " 'mask_size': 20,\n",
    " 'target_size': 10,\n",
    " 'n_comp': 10}"
   ]
  },
  {
   "cell_type": "markdown",
   "id": "c8454fdc",
   "metadata": {},
   "source": [
    "'Lymphography' {'epochs': 120, 'masks_no': 50, 'mask_size': 4, 'target_size': 20, 'n_comp': 6}"
   ]
  },
  {
   "cell_type": "code",
   "execution_count": 53,
   "id": "e81b7e72",
   "metadata": {},
   "outputs": [
    {
     "data": {
      "text/plain": [
       "'Ionosphere'"
      ]
     },
     "execution_count": 53,
     "metadata": {},
     "output_type": "execute_result"
    }
   ],
   "source": [
    "DATA"
   ]
  },
  {
   "cell_type": "markdown",
   "id": "803eafa7",
   "metadata": {},
   "source": [
    "Ionosphere\n",
    "{'epochs': 100, 'masks_no': 60, 'mask_size': 5, 'target_size': 10}\n"
   ]
  },
  {
   "cell_type": "code",
   "execution_count": 54,
   "id": "f5b3a72c-14cf-4d70-bb83-1f0a8aad5144",
   "metadata": {
    "scrolled": true,
    "tags": []
   },
   "outputs": [
    {
     "name": "stdout",
     "output_type": "stream",
     "text": [
      "iter 1 of 1\n",
      "torch.Size([1, 128])\n",
      "33\n"
     ]
    },
    {
     "data": {
      "image/png": "[encoded data removed]",
      "text/plain": [
       "<Figure size 576x396 with 1 Axes>"
      ]
     },
     "metadata": {},
     "output_type": "display_data"
    }
   ],
   "source": [
    "epochs = hp_pca_best_params['epochs']\n",
    "masks_no = hp_pca_best_params['masks_no']\n",
    "mask_size = hp_pca_best_params['mask_size']\n",
    "target_size = hp_pca_best_params['target_size']\n",
    "n_comp = hp_pca_best_params['n_comp']\n",
    "data_size = max_size\n",
    "\n",
    "nn_pca_results = test_model(network_pca_fn(target_size=target_size, mask_size=mask_size, masks_no=masks_no, n_comp=n_comp),\n",
    "                (X, y),\n",
    "                data_size,\n",
    "                None, 10)\n",
    "\n",
    "# exp.log_table(\"metrics.csv\", nn_pca_results.groupby(\"Class\").mean())\n",
    "# exp.log_metric(\"f1_score\", nn_pca_results.groupby(\"Class\").mean().loc[\"F1 score\"])"
   ]
  },
  {
   "cell_type": "code",
   "execution_count": 55,
   "id": "b950280b-188d-4321-8db6-9cb69912a242",
   "metadata": {},
   "outputs": [
    {
     "name": "stdout",
     "output_type": "stream",
     "text": [
      "245: 94.34 ~ nan (max: 94.34)\n"
     ]
    }
   ],
   "source": [
    "res = nn_pca_results[nn_pca_results[\"Class\"]==\"Total\"].reset_index(drop=True)[\"Metric\"]\n",
    "print(f\"{data_size}: {res.mean():.2f} ~ {res.std():.2f} (max: {res.max():.2f})\")"
   ]
  },
  {
   "cell_type": "code",
   "execution_count": null,
   "id": "db6e0de7",
   "metadata": {},
   "outputs": [],
   "source": []
  },
  {
   "cell_type": "markdown",
   "id": "d82e3c9a-94c1-4984-a311-e0091c453333",
   "metadata": {},
   "source": [
    "### Hypernetwork"
   ]
  },
  {
   "cell_type": "code",
   "execution_count": 56,
   "id": "f81bdd75-482c-47ee-a9b3-4c2348f3b871",
   "metadata": {},
   "outputs": [],
   "source": [
    "def network_hp_fn(epochs=150, masks_no=100, mask_size=100, target_size=100, lr=3e-4, batch_size=64):\n",
    "    def _inner():\n",
    "        hypernet = Hypernetwork(\n",
    "                        target_architecture=[(mask_size, target_size), (target_size, n_classes)],\n",
    "                        test_nodes=masks_no,\n",
    "                        architecture=torch.nn.Sequential(torch.nn.Linear(n_features, 32), \n",
    "                            torch.nn.ReLU(),\n",
    "                            torch.nn.Linear(32, 128),\n",
    "                            torch.nn.ReLU(),\n",
    "                            torch.nn.Dropout(),\n",
    "                            torch.nn.Linear(128, 128),\n",
    "                            torch.nn.ReLU(),\n",
    "                        ),\n",
    "                        mode=TrainingModes.CARTHESIAN,\n",
    "                    ).to(DEVICE)    \n",
    "        hypernet = hypernet.train()\n",
    "\n",
    "        network = HypernetworkSklearnInterface(hypernet, device=DEVICE, epochs=epochs, batch_size=batch_size, verbose=False, lr=3e-4)\n",
    "        return network\n",
    "    return _inner"
   ]
  },
  {
   "cell_type": "markdown",
   "id": "b76e319a",
   "metadata": {},
   "source": [
    "#### Find hyperparams"
   ]
  },
  {
   "cell_type": "code",
   "execution_count": 57,
   "id": "5235e59c",
   "metadata": {},
   "outputs": [
    {
     "data": {
      "application/vnd.jupyter.widget-view+json": {
       "model_id": "c585d180abe7434bbad50f0b0605f8d3",
       "version_major": 2,
       "version_minor": 0
      },
      "text/plain": [
       "  0%|          | [00:00<?]"
      ]
     },
     "metadata": {},
     "output_type": "display_data"
    },
    {
     "name": "stdout",
     "output_type": "stream",
     "text": [
      "Search is scheduled for 01:00 (m:s)\n",
      "iter 1 of 1\n",
      "torch.Size([1, 128])\n",
      "==================== Summary ===================\n",
      "Mode              : Best f : Steps : Time       \n",
      "----------------  : ----   : ----  : ----       \n",
      "Initial solution  : 90.79  : 1     : 02:13 (m:s)\n",
      "----------------  : ----   : ----  : ----       \n",
      "Total             : 90.79  : 1     : 02:13 (m:s)\n",
      "================================================\n",
      "Ionosphere_network_hp_fn_{'epochs': 100, 'masks_no': 50, 'mask_size': 6, 'target_size': 5, 'lr': 3e-05, 'batch_size': 32}\n"
     ]
    },
    {
     "data": {
      "text/plain": [
       "{'epochs': 100,\n",
       " 'masks_no': 50,\n",
       " 'mask_size': 6,\n",
       " 'target_size': 5,\n",
       " 'lr': 3e-05,\n",
       " 'batch_size': 32}"
      ]
     },
     "execution_count": 57,
     "metadata": {},
     "output_type": "execute_result"
    },
    {
     "data": {
      "image/png": "[encoded data removed]",
      "text/plain": [
       "<Figure size 576x396 with 1 Axes>"
      ]
     },
     "metadata": {},
     "output_type": "display_data"
    }
   ],
   "source": [
    "param_grid = {\n",
    "    \"epochs\": pyhopper.choice([100, 150]),\n",
    "    \"masks_no\": pyhopper.int(10, 80, multiple_of=10),\n",
    "    \"mask_size\": pyhopper.int(2, 10),\n",
    "    \"target_size\": pyhopper.choice([5, 10, 20, 50]),\n",
    "    \"lr\": pyhopper.choice([3e-5, 3e-4, 3e-3, 3e-2, 3e-1]),\n",
    "    \"batch_size\": pyhopper.choice([32, 64]),\n",
    "}\n",
    "\n",
    "hp_best_params = pyhopper_best_params(network_hp_fn, param_grid, time=\"90m\")\n",
    "hp_best_params"
   ]
  },
  {
   "cell_type": "code",
   "execution_count": null,
   "id": "b4b9203a",
   "metadata": {
    "jupyter": {
     "outputs_hidden": true
    },
    "scrolled": true,
    "tags": []
   },
   "outputs": [],
   "source": []
  },
  {
   "cell_type": "markdown",
   "id": "7fe02f07-52f6-4735-93f5-8e14bd22803f",
   "metadata": {},
   "source": [
    "#### Train using the best hyperparams"
   ]
  },
  {
   "cell_type": "code",
   "execution_count": 58,
   "id": "283d9aca-1f98-42e6-b229-e14e937cb431",
   "metadata": {
    "scrolled": true,
    "tags": []
   },
   "outputs": [
    {
     "name": "stdout",
     "output_type": "stream",
     "text": [
      "iter 1 of 1\n",
      "torch.Size([1, 128])\n"
     ]
    },
    {
     "data": {
      "image/png": "[encoded data removed]",
      "text/plain": [
       "<Figure size 576x396 with 1 Axes>"
      ]
     },
     "metadata": {},
     "output_type": "display_data"
    }
   ],
   "source": [
    "epochs = hp_best_params['epochs']\n",
    "masks_no = hp_best_params['masks_no']\n",
    "mask_size = hp_best_params['mask_size']\n",
    "target_size = hp_best_params['target_size']\n",
    "data_size = max_size\n",
    "\n",
    "hyper_results = test_model(network_hp_fn(epochs, masks_no, mask_size, target_size),\n",
    "                    (X, y),\n",
    "                    data_size,\n",
    "                    None, 10)"
   ]
  },
  {
   "cell_type": "code",
   "execution_count": 59,
   "id": "b2129c6b-2c65-458e-b175-51aaf313fa42",
   "metadata": {},
   "outputs": [
    {
     "name": "stdout",
     "output_type": "stream",
     "text": [
      "245: 93.40 ~ nan, (max: 93.40)\n"
     ]
    }
   ],
   "source": [
    "res = hyper_results[hyper_results[\"Class\"]==\"Total\"].reset_index(drop=True)[\"Metric\"]\n",
    "print(f\"{data_size}: {res.mean():.2f} ~ {res.std():.2f}, (max: {res.max():.2f})\")"
   ]
  },
  {
   "cell_type": "code",
   "execution_count": 60,
   "id": "ec1fac41-87b6-4544-8009-f1cc99d3a4e3",
   "metadata": {
    "scrolled": true
   },
   "outputs": [
    {
     "data": {
      "text/html": [
       "<div>\n",
       "<style scoped>\n",
       "    .dataframe tbody tr th:only-of-type {\n",
       "        vertical-align: middle;\n",
       "    }\n",
       "\n",
       "    .dataframe tbody tr th {\n",
       "        vertical-align: top;\n",
       "    }\n",
       "\n",
       "    .dataframe thead th {\n",
       "        text-align: right;\n",
       "    }\n",
       "</style>\n",
       "<table border=\"1\" class=\"dataframe\">\n",
       "  <thead>\n",
       "    <tr style=\"text-align: right;\">\n",
       "      <th></th>\n",
       "      <th>Class</th>\n",
       "      <th>Metric</th>\n",
       "    </tr>\n",
       "  </thead>\n",
       "  <tbody>\n",
       "    <tr>\n",
       "      <th>0</th>\n",
       "      <td>ROC score</td>\n",
       "      <td>98.684211</td>\n",
       "    </tr>\n",
       "  </tbody>\n",
       "</table>\n",
       "</div>"
      ],
      "text/plain": [
       "       Class     Metric\n",
       "0  ROC score  98.684211"
      ]
     },
     "execution_count": 60,
     "metadata": {},
     "output_type": "execute_result"
    }
   ],
   "source": [
    "hyper_results[hyper_results[\"Class\"]==\"ROC score\"].reset_index(drop=True)"
   ]
  },
  {
   "cell_type": "markdown",
   "id": "dcdb5810-96c6-4010-af1e-a59b0b9f6b65",
   "metadata": {},
   "source": [
    "### Random forest"
   ]
  },
  {
   "cell_type": "code",
   "execution_count": 61,
   "id": "6758728e-d6c8-4d23-9aa7-ba7998704411",
   "metadata": {},
   "outputs": [],
   "source": [
    "from sklearn.ensemble import RandomForestClassifier"
   ]
  },
  {
   "cell_type": "code",
   "execution_count": 62,
   "id": "6da01b25",
   "metadata": {},
   "outputs": [],
   "source": [
    "def get_rf(params={}):\n",
    "    random_seed = np.random.randint(1024)\n",
    "    def _inner():\n",
    "        return RandomForestClassifier(\n",
    "            random_state=random_seed,\n",
    "            **params\n",
    "        )\n",
    "    return _inner"
   ]
  },
  {
   "cell_type": "markdown",
   "id": "f73ccafa",
   "metadata": {},
   "source": [
    "#### Find hyperparams"
   ]
  },
  {
   "cell_type": "code",
   "execution_count": 63,
   "id": "8dc080fd",
   "metadata": {},
   "outputs": [
    {
     "name": "stdout",
     "output_type": "stream",
     "text": [
      "Fitting 5 folds for each of 1 candidates, totalling 5 fits\n",
      "best params for Ionosphere {'criterion': 'gini', 'max_depth': None, 'max_features': None, 'n_estimators': 50}\n",
      "mean_train_score 0.9985714285714286\n",
      "std_train_score 0.0028571428571428467\n",
      "              precision    recall  f1-score   support\n",
      "\n",
      "           0       0.88      0.92      0.90        38\n",
      "           1       0.95      0.93      0.94        68\n",
      "\n",
      "    accuracy                           0.92       106\n",
      "   macro avg       0.91      0.92      0.92       106\n",
      "weighted avg       0.93      0.92      0.92       106\n",
      "\n",
      "Ionosphere__inner_{'criterion': 'gini', 'max_depth': None, 'max_features': None, 'n_estimators': 50}\n"
     ]
    },
    {
     "data": {
      "text/plain": [
       "{'criterion': 'gini',\n",
       " 'max_depth': None,\n",
       " 'max_features': None,\n",
       " 'n_estimators': 50}"
      ]
     },
     "execution_count": 63,
     "metadata": {},
     "output_type": "execute_result"
    }
   ],
   "source": [
    "param_grid = {\n",
    "                'n_estimators': [50, 100, 500, 1000, 1500, 3000],\n",
    "                'max_features': [None, 'sqrt', 0.2, 0.3, 0.5, 0.7],\n",
    "                'criterion' :['gini', 'entropy'],\n",
    "                'max_depth': [None, 2, 4, 8, 16],\n",
    "             }\n",
    "rf = get_rf()\n",
    "\n",
    "rf_best = grid_search_best_params(rf, param_grid)\n",
    "rf_best"
   ]
  },
  {
   "cell_type": "markdown",
   "id": "dcf8eaa2",
   "metadata": {},
   "source": [
    "#### Use best params"
   ]
  },
  {
   "cell_type": "code",
   "execution_count": 64,
   "id": "3325fd3b-8a85-46eb-896c-46bf8d768a89",
   "metadata": {},
   "outputs": [
    {
     "name": "stdout",
     "output_type": "stream",
     "text": [
      "iter 1 of 1\n"
     ]
    },
    {
     "data": {
      "image/png": "[encoded data removed]",
      "text/plain": [
       "<Figure size 576x396 with 1 Axes>"
      ]
     },
     "metadata": {},
     "output_type": "display_data"
    }
   ],
   "source": [
    "size = max_size\n",
    "\n",
    "rf_dframe = test_model(get_rf(rf_best), \n",
    "                        (X, y),\n",
    "                        size,\n",
    "                        None, iters=10)"
   ]
  },
  {
   "cell_type": "code",
   "execution_count": 65,
   "id": "ef5c7048-e644-4808-bdb1-ab2768475ec2",
   "metadata": {},
   "outputs": [
    {
     "name": "stdout",
     "output_type": "stream",
     "text": [
      "245: 89.01 ~ nan, (max: 89.01)\n"
     ]
    }
   ],
   "source": [
    "res = rf_dframe[rf_dframe[\"Class\"]==\"Balanced Acc score\"].reset_index(drop=True)[\"Metric\"]\n",
    "print(f\"{size}: {res.mean():.2f} ~ {res.std():.2f}, (max: {res.max():.2f})\")"
   ]
  },
  {
   "cell_type": "code",
   "execution_count": 66,
   "id": "58ff14ed",
   "metadata": {},
   "outputs": [
    {
     "name": "stdout",
     "output_type": "stream",
     "text": [
      "245: 95.86 ~ nan, (max: 95.86)\n"
     ]
    }
   ],
   "source": [
    "res = rf_dframe[rf_dframe[\"Class\"]==\"ROC score\"].reset_index(drop=True)[\"Metric\"]\n",
    "print(f\"{size}: {res.mean():.2f} ~ {res.std():.2f}, (max: {res.max():.2f})\")"
   ]
  },
  {
   "cell_type": "code",
   "execution_count": null,
   "id": "7a543f33",
   "metadata": {},
   "outputs": [],
   "source": []
  },
  {
   "cell_type": "markdown",
   "id": "aa987cfe",
   "metadata": {},
   "source": [
    "# Collect analytics"
   ]
  },
  {
   "cell_type": "code",
   "execution_count": 67,
   "id": "6ffd69a1",
   "metadata": {},
   "outputs": [],
   "source": [
    "d = {}"
   ]
  },
  {
   "cell_type": "code",
   "execution_count": 68,
   "id": "6c53193f",
   "metadata": {},
   "outputs": [],
   "source": [
    "d['Random forest'] = rf_dframe.groupby(\"Class\")['Metric'].agg(['mean', 'std', 'max'])\n",
    "d['Hypernet'] = hyper_results.groupby(\"Class\")['Metric'].agg(['mean', 'std', 'max'])\n",
    "d['HypernetPCA'] = nn_pca_results.groupby(\"Class\")['Metric'].agg(['mean', 'std', 'max'])\n",
    "d['Dropout_1'] = nn1_results.groupby(\"Class\")['Metric'].agg(['mean', 'std', 'max'])\n",
    "d['Dropout_2'] = nn2_results.groupby(\"Class\")['Metric'].agg(['mean', 'std', 'max'])\n",
    "d['Dropout_3'] = nn3_results.groupby(\"Class\")['Metric'].agg(['mean', 'std', 'max'])\n",
    "d['Node'] = node_results.groupby(\"Class\")['Metric'].agg(['mean', 'std', 'max'])\n",
    "d['XGBoost'] = xgb_dframe.groupby(\"Class\")['Metric'].agg(['mean', 'std', 'max'])"
   ]
  },
  {
   "cell_type": "code",
   "execution_count": 69,
   "id": "7f523ee2",
   "metadata": {},
   "outputs": [
    {
     "data": {
      "text/html": [
       "<div>\n",
       "<style scoped>\n",
       "    .dataframe tbody tr th:only-of-type {\n",
       "        vertical-align: middle;\n",
       "    }\n",
       "\n",
       "    .dataframe tbody tr th {\n",
       "        vertical-align: top;\n",
       "    }\n",
       "\n",
       "    .dataframe thead th {\n",
       "        text-align: right;\n",
       "    }\n",
       "</style>\n",
       "<table border=\"1\" class=\"dataframe\">\n",
       "  <thead>\n",
       "    <tr style=\"text-align: right;\">\n",
       "      <th></th>\n",
       "      <th></th>\n",
       "      <th>mean</th>\n",
       "      <th>std</th>\n",
       "      <th>max</th>\n",
       "    </tr>\n",
       "    <tr>\n",
       "      <th></th>\n",
       "      <th>Class</th>\n",
       "      <th></th>\n",
       "      <th></th>\n",
       "      <th></th>\n",
       "    </tr>\n",
       "  </thead>\n",
       "  <tbody>\n",
       "    <tr>\n",
       "      <th rowspan=\"5\" valign=\"top\">Random forest</th>\n",
       "      <th>0</th>\n",
       "      <td>86.842105</td>\n",
       "      <td>NaN</td>\n",
       "      <td>86.842105</td>\n",
       "    </tr>\n",
       "    <tr>\n",
       "      <th>1</th>\n",
       "      <td>91.176471</td>\n",
       "      <td>NaN</td>\n",
       "      <td>91.176471</td>\n",
       "    </tr>\n",
       "    <tr>\n",
       "      <th>Balanced Acc score</th>\n",
       "      <td>89.009288</td>\n",
       "      <td>NaN</td>\n",
       "      <td>89.009288</td>\n",
       "    </tr>\n",
       "    <tr>\n",
       "      <th>F1 score</th>\n",
       "      <td>91.851852</td>\n",
       "      <td>NaN</td>\n",
       "      <td>91.851852</td>\n",
       "    </tr>\n",
       "    <tr>\n",
       "      <th>Precision</th>\n",
       "      <td>92.537313</td>\n",
       "      <td>NaN</td>\n",
       "      <td>92.537313</td>\n",
       "    </tr>\n",
       "    <tr>\n",
       "      <th>...</th>\n",
       "      <th>...</th>\n",
       "      <td>...</td>\n",
       "      <td>...</td>\n",
       "      <td>...</td>\n",
       "    </tr>\n",
       "    <tr>\n",
       "      <th rowspan=\"5\" valign=\"top\">XGBoost</th>\n",
       "      <th>F1 score</th>\n",
       "      <td>93.333333</td>\n",
       "      <td>NaN</td>\n",
       "      <td>93.333333</td>\n",
       "    </tr>\n",
       "    <tr>\n",
       "      <th>Precision</th>\n",
       "      <td>94.029851</td>\n",
       "      <td>NaN</td>\n",
       "      <td>94.029851</td>\n",
       "    </tr>\n",
       "    <tr>\n",
       "      <th>ROC score</th>\n",
       "      <td>96.381579</td>\n",
       "      <td>NaN</td>\n",
       "      <td>96.381579</td>\n",
       "    </tr>\n",
       "    <tr>\n",
       "      <th>Recall</th>\n",
       "      <td>92.647059</td>\n",
       "      <td>NaN</td>\n",
       "      <td>92.647059</td>\n",
       "    </tr>\n",
       "    <tr>\n",
       "      <th>Total</th>\n",
       "      <td>91.509434</td>\n",
       "      <td>NaN</td>\n",
       "      <td>91.509434</td>\n",
       "    </tr>\n",
       "  </tbody>\n",
       "</table>\n",
       "<p>64 rows × 3 columns</p>\n",
       "</div>"
      ],
      "text/plain": [
       "                                       mean  std        max\n",
       "              Class                                        \n",
       "Random forest 0                   86.842105  NaN  86.842105\n",
       "              1                   91.176471  NaN  91.176471\n",
       "              Balanced Acc score  89.009288  NaN  89.009288\n",
       "              F1 score            91.851852  NaN  91.851852\n",
       "              Precision           92.537313  NaN  92.537313\n",
       "...                                     ...  ...        ...\n",
       "XGBoost       F1 score            93.333333  NaN  93.333333\n",
       "              Precision           94.029851  NaN  94.029851\n",
       "              ROC score           96.381579  NaN  96.381579\n",
       "              Recall              92.647059  NaN  92.647059\n",
       "              Total               91.509434  NaN  91.509434\n",
       "\n",
       "[64 rows x 3 columns]"
      ]
     },
     "execution_count": 69,
     "metadata": {},
     "output_type": "execute_result"
    }
   ],
   "source": [
    "all_models_df=pd.concat(d, axis=0)\n",
    "all_models_df"
   ]
  },
  {
   "cell_type": "code",
   "execution_count": null,
   "id": "60823a71",
   "metadata": {},
   "outputs": [],
   "source": [
    "os.environ['COMET_KEY'] = ''"
   ]
  },
  {
   "cell_type": "code",
   "execution_count": null,
   "id": "0654fd20",
   "metadata": {},
   "outputs": [],
   "source": [
    "exp = Experiment(os.environ.get(\"COMET_KEY\"), 'hypernet-uci-tune')\n",
    "exp.log_parameters({\"epochs\": epochs, \"mask_size\": mask_size, \"masks_no\": masks_no, \"data_size\": data_size})\n",
    "exp.add_tag(f\"hypernet-tune1{DATA}\")\n",
    "exp.log_table(f\"{DATA}_metrics.csv\", all_models_df)"
   ]
  },
  {
   "cell_type": "code",
   "execution_count": 77,
   "id": "8fdbf166",
   "metadata": {},
   "outputs": [],
   "source": []
  },
  {
   "cell_type": "code",
   "execution_count": null,
   "id": "d2cc3246",
   "metadata": {},
   "outputs": [],
   "source": [
    "all_models_df.to_csv(f\"{DATA}_metrics.csv\")"
   ]
  },
  {
   "cell_type": "code",
   "execution_count": 86,
   "id": "e6b6d6f5",
   "metadata": {},
   "outputs": [
    {
     "data": {
      "text/plain": [
       "'Lymphography_metrics.csv'"
      ]
     },
     "execution_count": 86,
     "metadata": {},
     "output_type": "execute_result"
    }
   ],
   "source": [
    "f\"{DATA}_metrics.csv\""
   ]
  },
  {
   "cell_type": "code",
   "execution_count": 84,
   "id": "9a061329",
   "metadata": {},
   "outputs": [],
   "source": [
    "# all_models_df = pd.read_csv(f\"{DATA}_metrics.csv\")"
   ]
  },
  {
   "cell_type": "code",
   "execution_count": 71,
   "id": "e39d56bd",
   "metadata": {},
   "outputs": [
    {
     "data": {
      "text/html": [
       "<div>\n",
       "<style scoped>\n",
       "    .dataframe tbody tr th:only-of-type {\n",
       "        vertical-align: middle;\n",
       "    }\n",
       "\n",
       "    .dataframe tbody tr th {\n",
       "        vertical-align: top;\n",
       "    }\n",
       "\n",
       "    .dataframe thead th {\n",
       "        text-align: right;\n",
       "    }\n",
       "</style>\n",
       "<table border=\"1\" class=\"dataframe\">\n",
       "  <thead>\n",
       "    <tr style=\"text-align: right;\">\n",
       "      <th></th>\n",
       "      <th></th>\n",
       "      <th>mean</th>\n",
       "      <th>std</th>\n",
       "      <th>max</th>\n",
       "    </tr>\n",
       "    <tr>\n",
       "      <th></th>\n",
       "      <th>Class</th>\n",
       "      <th></th>\n",
       "      <th></th>\n",
       "      <th></th>\n",
       "    </tr>\n",
       "  </thead>\n",
       "  <tbody>\n",
       "    <tr>\n",
       "      <th rowspan=\"5\" valign=\"top\">Random forest</th>\n",
       "      <th>0</th>\n",
       "      <td>81.578947</td>\n",
       "      <td>NaN</td>\n",
       "      <td>81.578947</td>\n",
       "    </tr>\n",
       "    <tr>\n",
       "      <th>1</th>\n",
       "      <td>94.117647</td>\n",
       "      <td>NaN</td>\n",
       "      <td>94.117647</td>\n",
       "    </tr>\n",
       "    <tr>\n",
       "      <th>Balanced Acc score</th>\n",
       "      <td>87.848297</td>\n",
       "      <td>NaN</td>\n",
       "      <td>87.848297</td>\n",
       "    </tr>\n",
       "    <tr>\n",
       "      <th>F1 score</th>\n",
       "      <td>92.086331</td>\n",
       "      <td>NaN</td>\n",
       "      <td>92.086331</td>\n",
       "    </tr>\n",
       "    <tr>\n",
       "      <th>Precision</th>\n",
       "      <td>90.140845</td>\n",
       "      <td>NaN</td>\n",
       "      <td>90.140845</td>\n",
       "    </tr>\n",
       "    <tr>\n",
       "      <th>...</th>\n",
       "      <th>...</th>\n",
       "      <td>...</td>\n",
       "      <td>...</td>\n",
       "      <td>...</td>\n",
       "    </tr>\n",
       "    <tr>\n",
       "      <th rowspan=\"5\" valign=\"top\">XGBoost</th>\n",
       "      <th>F1 score</th>\n",
       "      <td>93.333333</td>\n",
       "      <td>NaN</td>\n",
       "      <td>93.333333</td>\n",
       "    </tr>\n",
       "    <tr>\n",
       "      <th>Precision</th>\n",
       "      <td>94.029851</td>\n",
       "      <td>NaN</td>\n",
       "      <td>94.029851</td>\n",
       "    </tr>\n",
       "    <tr>\n",
       "      <th>ROC score</th>\n",
       "      <td>96.381579</td>\n",
       "      <td>NaN</td>\n",
       "      <td>96.381579</td>\n",
       "    </tr>\n",
       "    <tr>\n",
       "      <th>Recall</th>\n",
       "      <td>92.647059</td>\n",
       "      <td>NaN</td>\n",
       "      <td>92.647059</td>\n",
       "    </tr>\n",
       "    <tr>\n",
       "      <th>Total</th>\n",
       "      <td>91.509434</td>\n",
       "      <td>NaN</td>\n",
       "      <td>91.509434</td>\n",
       "    </tr>\n",
       "  </tbody>\n",
       "</table>\n",
       "<p>64 rows × 3 columns</p>\n",
       "</div>"
      ],
      "text/plain": [
       "                                       mean  std        max\n",
       "              Class                                        \n",
       "Random forest 0                   81.578947  NaN  81.578947\n",
       "              1                   94.117647  NaN  94.117647\n",
       "              Balanced Acc score  87.848297  NaN  87.848297\n",
       "              F1 score            92.086331  NaN  92.086331\n",
       "              Precision           90.140845  NaN  90.140845\n",
       "...                                     ...  ...        ...\n",
       "XGBoost       F1 score            93.333333  NaN  93.333333\n",
       "              Precision           94.029851  NaN  94.029851\n",
       "              ROC score           96.381579  NaN  96.381579\n",
       "              Recall              92.647059  NaN  92.647059\n",
       "              Total               91.509434  NaN  91.509434\n",
       "\n",
       "[64 rows x 3 columns]"
      ]
     },
     "execution_count": 71,
     "metadata": {},
     "output_type": "execute_result"
    }
   ],
   "source": [
    "all_models_df"
   ]
  },
  {
   "cell_type": "code",
   "execution_count": 72,
   "id": "7beddf19",
   "metadata": {},
   "outputs": [],
   "source": [
    "tmp = all_models_df.reset_index()"
   ]
  },
  {
   "cell_type": "code",
   "execution_count": 73,
   "id": "1996040f",
   "metadata": {},
   "outputs": [],
   "source": [
    "tmp = tmp.rename(columns={'Unnamed: 0': DATA})"
   ]
  },
  {
   "cell_type": "code",
   "execution_count": 74,
   "id": "b9ee21a9",
   "metadata": {},
   "outputs": [
    {
     "data": {
      "text/html": [
       "<div>\n",
       "<style scoped>\n",
       "    .dataframe tbody tr th:only-of-type {\n",
       "        vertical-align: middle;\n",
       "    }\n",
       "\n",
       "    .dataframe tbody tr th {\n",
       "        vertical-align: top;\n",
       "    }\n",
       "\n",
       "    .dataframe thead th {\n",
       "        text-align: right;\n",
       "    }\n",
       "</style>\n",
       "<table border=\"1\" class=\"dataframe\">\n",
       "  <thead>\n",
       "    <tr style=\"text-align: right;\">\n",
       "      <th></th>\n",
       "      <th>level_0</th>\n",
       "      <th>Class</th>\n",
       "      <th>mean</th>\n",
       "      <th>std</th>\n",
       "      <th>max</th>\n",
       "    </tr>\n",
       "  </thead>\n",
       "  <tbody>\n",
       "    <tr>\n",
       "      <th>2</th>\n",
       "      <td>Random forest</td>\n",
       "      <td>Balanced Acc score</td>\n",
       "      <td>87.848297</td>\n",
       "      <td>NaN</td>\n",
       "      <td>87.848297</td>\n",
       "    </tr>\n",
       "    <tr>\n",
       "      <th>10</th>\n",
       "      <td>Hypernet</td>\n",
       "      <td>Balanced Acc score</td>\n",
       "      <td>93.846749</td>\n",
       "      <td>NaN</td>\n",
       "      <td>93.846749</td>\n",
       "    </tr>\n",
       "    <tr>\n",
       "      <th>18</th>\n",
       "      <td>HypernetPCA</td>\n",
       "      <td>Balanced Acc score</td>\n",
       "      <td>96.633127</td>\n",
       "      <td>NaN</td>\n",
       "      <td>96.633127</td>\n",
       "    </tr>\n",
       "    <tr>\n",
       "      <th>26</th>\n",
       "      <td>Dropout_1</td>\n",
       "      <td>Balanced Acc score</td>\n",
       "      <td>87.267802</td>\n",
       "      <td>NaN</td>\n",
       "      <td>87.267802</td>\n",
       "    </tr>\n",
       "    <tr>\n",
       "      <th>34</th>\n",
       "      <td>Dropout_2</td>\n",
       "      <td>Balanced Acc score</td>\n",
       "      <td>88.583591</td>\n",
       "      <td>NaN</td>\n",
       "      <td>88.583591</td>\n",
       "    </tr>\n",
       "    <tr>\n",
       "      <th>42</th>\n",
       "      <td>Dropout_3</td>\n",
       "      <td>Balanced Acc score</td>\n",
       "      <td>92.685759</td>\n",
       "      <td>NaN</td>\n",
       "      <td>92.685759</td>\n",
       "    </tr>\n",
       "    <tr>\n",
       "      <th>50</th>\n",
       "      <td>Node</td>\n",
       "      <td>Balanced Acc score</td>\n",
       "      <td>87.848297</td>\n",
       "      <td>NaN</td>\n",
       "      <td>87.848297</td>\n",
       "    </tr>\n",
       "    <tr>\n",
       "      <th>58</th>\n",
       "      <td>XGBoost</td>\n",
       "      <td>Balanced Acc score</td>\n",
       "      <td>91.060372</td>\n",
       "      <td>NaN</td>\n",
       "      <td>91.060372</td>\n",
       "    </tr>\n",
       "  </tbody>\n",
       "</table>\n",
       "</div>"
      ],
      "text/plain": [
       "          level_0               Class       mean  std        max\n",
       "2   Random forest  Balanced Acc score  87.848297  NaN  87.848297\n",
       "10       Hypernet  Balanced Acc score  93.846749  NaN  93.846749\n",
       "18    HypernetPCA  Balanced Acc score  96.633127  NaN  96.633127\n",
       "26      Dropout_1  Balanced Acc score  87.267802  NaN  87.267802\n",
       "34      Dropout_2  Balanced Acc score  88.583591  NaN  88.583591\n",
       "42      Dropout_3  Balanced Acc score  92.685759  NaN  92.685759\n",
       "50           Node  Balanced Acc score  87.848297  NaN  87.848297\n",
       "58        XGBoost  Balanced Acc score  91.060372  NaN  91.060372"
      ]
     },
     "execution_count": 74,
     "metadata": {},
     "output_type": "execute_result"
    }
   ],
   "source": [
    "tmp[tmp['Class'] == 'Balanced Acc score']"
   ]
  },
  {
   "cell_type": "code",
   "execution_count": null,
   "id": "b0f287e0",
   "metadata": {},
   "outputs": [],
   "source": []
  }
 ],
 "metadata": {
  "kernelspec": {
   "display_name": "Python 3 (ipykernel)",
   "language": "python",
   "name": "python3"
  },
  "language_info": {
   "codemirror_mode": {
    "name": "ipython",
    "version": 3
   },
   "file_extension": ".py",
   "mimetype": "text/x-python",
   "name": "python",
   "nbconvert_exporter": "python",
   "pygments_lexer": "ipython3",
   "version": "3.9.12"
  }
 },
 "nbformat": 4,
 "nbformat_minor": 5
}
