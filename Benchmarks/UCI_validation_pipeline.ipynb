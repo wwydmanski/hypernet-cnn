{
 "cells": [
  {
   "cell_type": "code",
   "execution_count": 2,
   "id": "01de83ab",
   "metadata": {},
   "outputs": [],
   "source": [
    "import torch"
   ]
  },
  {
   "cell_type": "code",
   "execution_count": 1,
   "id": "dc12a648-b80a-4eca-afc3-79331e4db7fc",
   "metadata": {},
   "outputs": [],
   "source": [
    "from comet_ml import Experiment, Optimizer"
   ]
  },
  {
   "cell_type": "code",
   "execution_count": 3,
   "id": "2fdadf44-450a-4006-ac5a-bed9840409f6",
   "metadata": {},
   "outputs": [
    {
     "name": "stderr",
     "output_type": "stream",
     "text": [
      "/tmp/ipykernel_1888184/655870062.py:16: MatplotlibDeprecationWarning: The seaborn styles shipped by Matplotlib are deprecated since 3.6, as they no longer correspond to the styles shipped by seaborn. However, they will remain available as 'seaborn-v0_8-<style>'. Alternatively, directly use the seaborn API instead.\n",
      "  plt.style.use(\"seaborn\")\n"
     ]
    }
   ],
   "source": [
    "import pandas as pd\n",
    "import numpy as np\n",
    "from sklearn.preprocessing import LabelEncoder, StandardScaler\n",
    "from sklearn.model_selection import train_test_split\n",
    "from collections import defaultdict\n",
    "from tqdm import trange\n",
    "import torch\n",
    "import os\n",
    "import matplotlib.pyplot as plt\n",
    "from io import BytesIO\n",
    "import base64\n",
    "import sklearn\n",
    "import time\n",
    "import datetime\n",
    "\n",
    "plt.style.use(\"seaborn\")\n",
    "torch.set_default_dtype(torch.float32)"
   ]
  },
  {
   "cell_type": "code",
   "execution_count": 4,
   "id": "6a37b70c-292b-4c14-85ed-3c93020dc182",
   "metadata": {},
   "outputs": [],
   "source": [
    "from sklearn.metrics import roc_auc_score, f1_score, precision_score, recall_score, balanced_accuracy_score"
   ]
  },
  {
   "cell_type": "code",
   "execution_count": 5,
   "id": "3085114d-cf61-4625-97c5-10f34c00d335",
   "metadata": {},
   "outputs": [],
   "source": [
    "from hypertab import HypernetworkPCA, TrainingModes, Hypernetwork\n",
    "from hypertab.interfaces import HypernetworkSklearnInterface\n",
    "# from ipynb.fs.defs.MNIST_benchmark import test_model\n",
    "from sklearn.model_selection import GridSearchCV, RandomizedSearchCV"
   ]
  },
  {
   "cell_type": "code",
   "execution_count": 6,
   "id": "d62c6026",
   "metadata": {},
   "outputs": [],
   "source": [
    "from sklearn.metrics import classification_report, balanced_accuracy_score, accuracy_score"
   ]
  },
  {
   "cell_type": "code",
   "execution_count": 7,
   "id": "f84a62eb-e16d-4519-ad76-2237037833c0",
   "metadata": {},
   "outputs": [
    {
     "name": "stderr",
     "output_type": "stream",
     "text": [
      "/home/MCB/wwydmanski/miniconda3/envs/torch/lib/python3.9/site-packages/tqdm/auto.py:21: TqdmWarning: IProgress not found. Please update jupyter and ipywidgets. See https://ipywidgets.readthedocs.io/en/stable/user_install.html\n",
      "  from .autonotebook import tqdm as notebook_tqdm\n"
     ]
    }
   ],
   "source": [
    "import pyhopper\n",
    "import sklearn.datasets"
   ]
  },
  {
   "cell_type": "code",
   "execution_count": 8,
   "id": "d12953cc-1ec5-46a9-933a-714e5ceafd1d",
   "metadata": {},
   "outputs": [
    {
     "ename": "ModuleNotFoundError",
     "evalue": "No module named 'loguru'",
     "output_type": "error",
     "traceback": [
      "\u001b[0;31m---------------------------------------------------------------------------\u001b[0m",
      "\u001b[0;31mModuleNotFoundError\u001b[0m                       Traceback (most recent call last)",
      "Cell \u001b[0;32mIn[8], line 1\u001b[0m\n\u001b[0;32m----> 1\u001b[0m \u001b[39mfrom\u001b[39;00m \u001b[39mloguru\u001b[39;00m \u001b[39mimport\u001b[39;00m logger\n\u001b[1;32m      3\u001b[0m logger\u001b[39m.\u001b[39madd(\u001b[39m\"\u001b[39m\u001b[39mlog.txt\u001b[39m\u001b[39m\"\u001b[39m, \u001b[39mformat\u001b[39m\u001b[39m=\u001b[39m\u001b[39m'\u001b[39m\u001b[39m{\u001b[39m\u001b[39mtime:YYYY-MM-DD HH:mm:ss.SSS} | \u001b[39m\u001b[39m{message}\u001b[39;00m\u001b[39m'\u001b[39m)\n",
      "\u001b[0;31mModuleNotFoundError\u001b[0m: No module named 'loguru'"
     ]
    }
   ],
   "source": [
    "from loguru import logger\n",
    "\n",
    "logger.add(\"log.txt\", format='{time:YYYY-MM-DD HH:mm:ss.SSS} | {message}')"
   ]
  },
  {
   "cell_type": "code",
   "execution_count": 9,
   "id": "04d1ae25-987c-4043-9771-829c928723de",
   "metadata": {},
   "outputs": [],
   "source": [
    "DEVICE=\"cuda:0\""
   ]
  },
  {
   "cell_type": "code",
   "execution_count": 10,
   "id": "72ab68a8",
   "metadata": {},
   "outputs": [],
   "source": [
    "GS_METRIC = 'balanced_accuracy'"
   ]
  },
  {
   "cell_type": "markdown",
   "id": "82db70f7",
   "metadata": {},
   "source": [
    "# Load data"
   ]
  },
  {
   "cell_type": "code",
   "execution_count": 11,
   "id": "30a5727b",
   "metadata": {},
   "outputs": [],
   "source": [
    "TEST_RUN = False"
   ]
  },
  {
   "cell_type": "markdown",
   "id": "5c287f46",
   "metadata": {},
   "source": [
    "# Preprocess"
   ]
  },
  {
   "cell_type": "code",
   "execution_count": 12,
   "id": "a8e64dd6",
   "metadata": {},
   "outputs": [],
   "source": [
    "def train_test_split_tuple(X, y, train_size=None):\n",
    "    if isinstance(X, tuple) and isinstance(y, tuple):\n",
    "        X_train, X_test = X\n",
    "        y_train, y_test = y\n",
    "    else:    \n",
    "        X_train, X_test, y_train, y_test = train_test_split(X, y, train_size=train_size, stratify=y)\n",
    "    \n",
    "    return X_train, X_test, y_train, y_test"
   ]
  },
  {
   "cell_type": "code",
   "execution_count": 13,
   "id": "bdc5ffdd-e04d-425f-8d6c-bd8456644faf",
   "metadata": {},
   "outputs": [],
   "source": [
    "import numpy as np\n",
    "np.random.seed(42)\n",
    "\n",
    "def prepare_data(X, y, size=None):\n",
    "    if isinstance(X, tuple) and isinstance(y, tuple):\n",
    "        X_train, X_test = X\n",
    "        y_train, y_test = y\n",
    "    else:    \n",
    "        X_train, X_test, y_train, y_test = train_test_split(X, y, train_size=size, stratify=y)\n",
    "    # X_train, y_train = imblearn.over_sampling.RandomOverSampler(random_state=42).fit_resample(X_train, y_train)\n",
    "    \n",
    "    scaler = StandardScaler()\n",
    "    X_train = scaler.fit_transform(X_train)\n",
    "    X_test = scaler.transform(X_test)\n",
    "    \n",
    "    X_train, X_test, y_train, y_test = [torch.from_numpy(x) for x in [X_train, X_test, y_train, y_test]]\n",
    "    \n",
    "    return X_train, X_test, y_train, y_test"
   ]
  },
  {
   "cell_type": "markdown",
   "id": "d223075b-b7d8-414e-97c9-ade8bda5f0fd",
   "metadata": {},
   "source": [
    "## Benchmark"
   ]
  },
  {
   "cell_type": "code",
   "execution_count": 14,
   "id": "b9f92f86-4c40-492c-8d48-f23efa85eb16",
   "metadata": {},
   "outputs": [],
   "source": [
    "criterion = torch.nn.CrossEntropyLoss()"
   ]
  },
  {
   "cell_type": "code",
   "execution_count": 15,
   "id": "5aa90ca0-8a00-4491-b111-ce7eee0e9c33",
   "metadata": {},
   "outputs": [],
   "source": [
    "def _summarize_results(y_pred, y_score, y_test, labels):\n",
    "    results = []\n",
    "    for idx, label in enumerate(labels):\n",
    "        y_pred_filt = y_pred[y_test==idx]\n",
    "        y_test_filt = y_test[y_test==idx]\n",
    "#         acc = (y_pred_filt==y_test_filt.numpy()).sum()/len(y_test_filt)*100\n",
    "        acc = accuracy_score(y_test_filt, y_pred_filt)\n",
    "        results.append({\n",
    "            \"Class\": label,\n",
    "            \"Metric\": acc\n",
    "        })\n",
    "        \n",
    "#     acc = (y_pred==y_test.numpy()).sum()/len(y_test)*100 \n",
    "    acc = accuracy_score(y_test, y_pred)\n",
    "    results.append({\n",
    "        \"Class\": \"Total\",\n",
    "        \"Metric\": acc\n",
    "    })\n",
    "    \n",
    "    results.append({\n",
    "        \"Class\": \"balanced_accuracy\",\n",
    "        \"Metric\": balanced_accuracy_score(y_test, torch.from_numpy(y_pred)).item()*100\n",
    "    })\n",
    "    \n",
    "    try:\n",
    "        results.append({\n",
    "            \"Class\": \"F1 score\",\n",
    "            \"Metric\": f1_score(y_test, torch.from_numpy(y_pred)).item()*100\n",
    "        })\n",
    "        results.append({\n",
    "            \"Class\": \"roc_auc\",\n",
    "            \"Metric\": roc_auc_score(y_test, torch.from_numpy(y_score[:, 1])).item()*100\n",
    "        })\n",
    "        results.append({\n",
    "            \"Class\": \"Precision\",\n",
    "            \"Metric\": precision_score(y_test, torch.from_numpy(y_pred)).item()*100\n",
    "        })\n",
    "        results.append({\n",
    "            \"Class\": \"Recall\",\n",
    "            \"Metric\": recall_score(y_test, torch.from_numpy(y_pred)).item()*100\n",
    "        })\n",
    "    except ValueError:\n",
    "        pass\n",
    "    return results\n",
    "\n",
    "def test_model(model_fn, data, train_size, label_encoder=None, iters=10, as_numpy=False):\n",
    "    if TEST_RUN:\n",
    "        iters = 1\n",
    "        \n",
    "    if label_encoder is not None:\n",
    "        labels = label_encoder.classes_\n",
    "    else:\n",
    "        labels = sorted(pd.unique(data[1][0] if isinstance(data[1], tuple) else data[1]))\n",
    "\n",
    "    \n",
    "    results = []\n",
    "    \n",
    "    X, y = data\n",
    "\n",
    "    for i in range(iters):\n",
    "        X_train, X_test, y_train, y_test = prepare_data(*data, train_size)\n",
    "        print('iter', i+1, 'of', iters, 'X_train shape', X_train.shape)\n",
    "\n",
    "        model = model_fn()\n",
    "\n",
    "        if as_numpy:\n",
    "            model.fit(X_train.numpy(), y_train.numpy());\n",
    "        else:\n",
    "            model.fit(X_train, y_train)\n",
    "        \n",
    "        y_pred = model.predict(X_test)\n",
    "        y_score = model.predict_proba(X_test)\n",
    "        results.extend(_summarize_results(y_pred, y_score, y_test, labels))\n",
    "\n",
    "    dframe = pd.DataFrame.from_dict(results)\n",
    "    sns.violinplot(data=dframe[dframe[\"Class\"]!=\"Loss\"], y=\"Class\", x=\"Metric\", orient='h')\n",
    "    return dframe"
   ]
  },
  {
   "cell_type": "markdown",
   "id": "23f351cf",
   "metadata": {},
   "source": [
    "### Param search"
   ]
  },
  {
   "cell_type": "code",
   "execution_count": 16,
   "id": "ecee618e",
   "metadata": {},
   "outputs": [],
   "source": [
    "def pyhopper_best_params(model_fn, param_grid, data, train_size, metric=GS_METRIC, time=\"30m\", default_params={}):\n",
    "    if TEST_RUN:\n",
    "        time = 60\n",
    "        if 'epochs' in param_grid:\n",
    "            param_grid[\"epochs\"] = pyhopper.choice([10])\n",
    "    \n",
    "    X, y = data\n",
    "    print('pyhopper', X.shape, y.shape, train_size)\n",
    "        \n",
    "    def objective(params):\n",
    "    #     print(\"Training...\")\n",
    "        print('params',params)\n",
    "        model_results = test_model(\n",
    "                        model_fn(\n",
    "                            **default_params,\n",
    "                            **params\n",
    "                        ),\n",
    "                        (X, y),\n",
    "                        train_size,\n",
    "                        None, 5)\n",
    "        with open(f\"params/{DATA}_{model_fn.__name__}_params.txt\", \"a\") as f:\n",
    "            f.write(str(params) + \", \" + str(model_results[model_results[\"Class\"]==metric][\"Metric\"].mean()) + \"\\n\")\n",
    "        return model_results[model_results[\"Class\"]==metric][\"Metric\"].mean()\n",
    "\n",
    "    from pyhopper.callbacks import History\n",
    "    search = pyhopper.Search(param_grid)\n",
    "\n",
    "    best_params = search.run(objective, \"maximize\", time, n_jobs=1, seeding_ratio=0.5)\n",
    "    \n",
    "    with open(f\"{DATA}_{model_fn.__name__}_best_params.txt\", \"a\") as f:\n",
    "            f.write(str(best_params))\n",
    "    \n",
    "    print(f\"{DATA}_{model_fn.__name__}_{best_params}\")\n",
    "    return best_params\n"
   ]
  },
  {
   "cell_type": "code",
   "execution_count": null,
   "id": "83a58e5d",
   "metadata": {},
   "outputs": [],
   "source": []
  },
  {
   "cell_type": "code",
   "execution_count": 17,
   "id": "026edf4f",
   "metadata": {},
   "outputs": [],
   "source": [
    "d = {}"
   ]
  },
  {
   "cell_type": "markdown",
   "id": "6f2d4d55",
   "metadata": {},
   "source": [
    "# TRAIN"
   ]
  },
  {
   "cell_type": "code",
   "execution_count": 18,
   "id": "b789cbd2",
   "metadata": {},
   "outputs": [],
   "source": [
    "DATA = \"BreastCancer\""
   ]
  },
  {
   "cell_type": "code",
   "execution_count": 23,
   "id": "d47877e8",
   "metadata": {},
   "outputs": [
    {
     "name": "stdout",
     "output_type": "stream",
     "text": [
      "(569, 30) 2 398\n"
     ]
    }
   ],
   "source": [
    "import sklearn\n",
    "import sklearn.datasets\n",
    "\n",
    "if DATA == \"BreastCancer\":\n",
    "    dataset = sklearn.datasets.load_breast_cancer()\n",
    "    X = dataset['data']\n",
    "    y = dataset['target']\n",
    "elif DATA == \"Connectionist\":\n",
    "    dataset = pd.read_csv(\"https://archive.ics.uci.edu/ml/machine-learning-databases/undocumented/connectionist-bench/sonar/sonar.all-data\", header=None)\n",
    "    X = dataset.values[:, :-1].astype(float)\n",
    "    y = dataset.values[:, -1]\n",
    "    y = LabelEncoder().fit_transform(y)\n",
    "elif DATA == \"Dermatology\":\n",
    "    dataset = pd.read_csv(\"https://archive.ics.uci.edu/ml/machine-learning-databases/dermatology/dermatology.data\", header=None, na_values=\"?\").dropna()\n",
    "    X = dataset.values[:, :-1].astype(float)\n",
    "    y = dataset.values[:, -1].astype(int) - 1\n",
    "elif DATA == \"Glass\":\n",
    "    dataset = pd.read_csv(\"https://archive.ics.uci.edu/ml/machine-learning-databases/glass/glass.data\", header=None, na_values=\"?\").dropna()\n",
    "    X = dataset.values[:, :-1].astype(float)\n",
    "    y = dataset.values[:, -1].astype(int)\n",
    "    y = LabelEncoder().fit_transform(y).astype(int)\n",
    "    \n",
    "elif DATA == \"Cleveland\":\n",
    "    dataset = pd.read_csv(\"https://archive.ics.uci.edu/ml/machine-learning-databases/heart-disease/processed.cleveland.data\", header=None, na_values=\"?\").dropna()\n",
    "    X = dataset.values[:, :-1].astype(float)\n",
    "    y = dataset.values[:, -1].astype(int)\n",
    "    y = LabelEncoder().fit_transform(y).astype(int)\n",
    "\n",
    "elif DATA == \"CNAE9\":\n",
    "    dataset = pd.read_csv(\"https://archive.ics.uci.edu/ml/machine-learning-databases/00233/CNAE-9.data\", header=None, na_values=\"?\").dropna()\n",
    "    X = dataset.values[:, 1:].astype(float)\n",
    "    y = dataset.values[:, 0].astype(int)\n",
    "    y = LabelEncoder().fit_transform(y).astype(int)\n",
    "\n",
    "max_size = int(len(X)*0.7)\n",
    "print(X.shape, len(np.unique(y)), max_size)"
   ]
  },
  {
   "cell_type": "code",
   "execution_count": 24,
   "id": "85f1625b",
   "metadata": {},
   "outputs": [
    {
     "name": "stdout",
     "output_type": "stream",
     "text": [
      "{0: 212, 1: 357}\n",
      "n_classes 2\n",
      "n_features 30\n"
     ]
    }
   ],
   "source": [
    "n_classes = len(np.unique(y))\n",
    "n_features = X.shape[1]\n",
    "unique, counts = np.unique(y, return_counts=True)\n",
    "\n",
    "print(dict(zip(unique, counts)))\n",
    "\n",
    "print('n_classes', n_classes)\n",
    "print('n_features', n_features)"
   ]
  },
  {
   "cell_type": "code",
   "execution_count": 25,
   "id": "649b158c",
   "metadata": {},
   "outputs": [
    {
     "name": "stdout",
     "output_type": "stream",
     "text": [
      "train_max_size 341\n",
      "eval_max_size 455\n"
     ]
    }
   ],
   "source": [
    "X_train, X_test, y_train, y_test = train_test_split(X, y, train_size=0.8, stratify=y, random_state=42)\n",
    "\n",
    "eval_max_size = int(len(X_train))\n",
    "train_max_size = int(len(X_train) * 0.75)\n",
    "print('train_max_size', train_max_size)\n",
    "print('eval_max_size', eval_max_size)"
   ]
  },
  {
   "cell_type": "code",
   "execution_count": 26,
   "id": "2de7b1e9",
   "metadata": {},
   "outputs": [
    {
     "data": {
      "text/plain": [
       "(455, 30)"
      ]
     },
     "execution_count": 26,
     "metadata": {},
     "output_type": "execute_result"
    }
   ],
   "source": [
    "X_train.shape"
   ]
  },
  {
   "attachments": {},
   "cell_type": "markdown",
   "id": "484716b4",
   "metadata": {},
   "source": [
    "## HyperTab"
   ]
  },
  {
   "cell_type": "code",
   "execution_count": 27,
   "id": "e25919f3",
   "metadata": {},
   "outputs": [],
   "source": [
    "def hypertab_fn(epochs=150, masks_no=100, mask_size=100, target_size=100, lr=3e-4, batch_size=64, verbose=False):\n",
    "    def _inner():\n",
    "        hypernet = Hypernetwork(\n",
    "                        target_architecture=[(mask_size, target_size), (target_size, n_classes)],\n",
    "                        test_nodes=masks_no,\n",
    "                        architecture=torch.nn.Sequential(torch.nn.Linear(n_features, 32), \n",
    "                            torch.nn.ReLU(),\n",
    "                            torch.nn.Linear(32, 128),\n",
    "                            torch.nn.ReLU(),\n",
    "                            torch.nn.Dropout(),\n",
    "                            torch.nn.Linear(128, 128),\n",
    "                            torch.nn.ReLU(),\n",
    "                        ),\n",
    "                        mode=TrainingModes.CARTHESIAN,\n",
    "                    ).to(DEVICE)    \n",
    "        hypernet = hypernet.train()\n",
    "\n",
    "        network = HypernetworkSklearnInterface(hypernet, device=DEVICE, epochs=epochs, batch_size=batch_size, verbose=verbose, lr=lr)\n",
    "        return network\n",
    "    return _inner"
   ]
  },
  {
   "cell_type": "code",
   "execution_count": 28,
   "id": "c8c9e3db",
   "metadata": {},
   "outputs": [
    {
     "name": "stdout",
     "output_type": "stream",
     "text": [
      "pyhopper (455, 30) (455,) 341\n"
     ]
    },
    {
     "name": "stderr",
     "output_type": "stream",
     "text": [
      "  0%|          | [00:00<?]"
     ]
    },
    {
     "name": "stdout",
     "output_type": "stream",
     "text": [
      "Search is scheduled for 01:30:00 (h:m:s)\n",
      "params {'epochs': 100, 'masks_no': 10, 'mask_size': 2, 'target_size': 5, 'lr': 3e-05, 'batch_size': 32}\n",
      "iter 1 of 5 X_train shape torch.Size([341, 30])\n"
     ]
    }
   ],
   "source": [
    "param_grid = {\n",
    "    \"epochs\": pyhopper.choice([100, 150]),\n",
    "    \"masks_no\": pyhopper.choice([10, 20, 50, 80, 100, 150, 200]),\n",
    "    \"mask_size\": pyhopper.choice([2, 5, 10, 15, 20, 25]),\n",
    "    \"target_size\": pyhopper.choice([5, 10, 20, 50]),\n",
    "    \"lr\": pyhopper.choice([3e-5, 3e-4, 3e-3, 3e-2, 3e-1]),\n",
    "    \"batch_size\": pyhopper.choice([32, 64]),\n",
    "}\n",
    "#{'epochs': 100, 'masks_no': 10, 'mask_size': 2, 'target_size': 5, 'lr': 3e-05, 'batch_size': 32}\n",
    "hp_best_params = pyhopper_best_params(\n",
    "    hypertab_fn, param_grid, data=(X_train, y_train), train_size=train_max_size, time=\"90m\"\n",
    ")\n",
    "hp_best_params"
   ]
  },
  {
   "cell_type": "code",
   "execution_count": 30,
   "id": "1e32c64d",
   "metadata": {},
   "outputs": [],
   "source": [
    "epochs = hp_best_params['epochs']\n",
    "masks_no = hp_best_params['masks_no']\n",
    "mask_size = hp_best_params['mask_size']\n",
    "target_size = hp_best_params['target_size']\n",
    "\n",
    "model = network_hp_fn(epochs, masks_no, mask_size, target_size, verbose=True)()"
   ]
  },
  {
   "cell_type": "code",
   "execution_count": 48,
   "id": "707cc49e",
   "metadata": {},
   "outputs": [],
   "source": [
    "model.fit(X_train, y_train)\n",
    "\n",
    "y_pred = model.predict(X_test)\n",
    "y_score = model.predict_proba(X_test)\n",
    "hyper_results = _summarize_results(y_pred, \n",
    "                                   y_score, \n",
    "                                   torch.from_numpy(y_test), \n",
    "                                   torch.from_numpy(np.unique(y)))\n",
    "hyper_results = pd.DataFrame(hyper_results)"
   ]
  },
  {
   "cell_type": "code",
   "execution_count": 49,
   "id": "e9015d72",
   "metadata": {},
   "outputs": [
    {
     "name": "stdout",
     "output_type": "stream",
     "text": [
      "455: 0.93 ~ nan, (max: 0.93)\n"
     ]
    }
   ],
   "source": [
    "res = hyper_results[hyper_results[\"Class\"]==\"Total\"].reset_index(drop=True)[\"Metric\"]\n",
    "print(f\"{eval_max_size}: {res.mean():.3f} ~ {res.std():.2f}, (max: {res.max():.3f})\")"
   ]
  },
  {
   "cell_type": "code",
   "execution_count": 51,
   "id": "f99e91c1",
   "metadata": {},
   "outputs": [],
   "source": [
    "with open(DATA+\".txt\", \"w\") as f:\n",
    "    f.write(f\"{eval_max_size}: {res.mean():.3f} ~ {res.std():.2f}, (max: {res.max():.3f})\")"
   ]
  },
  {
   "cell_type": "markdown",
   "id": "c607909b",
   "metadata": {},
   "source": [
    "## Connectionist"
   ]
  },
  {
   "cell_type": "code",
   "execution_count": 52,
   "id": "627c9491",
   "metadata": {},
   "outputs": [],
   "source": [
    "DATA = \"Connectionist\""
   ]
  },
  {
   "cell_type": "code",
   "execution_count": 53,
   "id": "11c6da53",
   "metadata": {},
   "outputs": [],
   "source": [
    "dataset = pd.read_csv(\"https://archive.ics.uci.edu/ml/machine-learning-databases/undocumented/connectionist-bench/sonar/sonar.all-data\", header=None)\n",
    "X = dataset.values[:, :-1].astype(float)\n",
    "y = dataset.values[:, -1]\n",
    "y = LabelEncoder().fit_transform(y)"
   ]
  },
  {
   "cell_type": "code",
   "execution_count": 54,
   "id": "7fd30dd1",
   "metadata": {},
   "outputs": [
    {
     "name": "stdout",
     "output_type": "stream",
     "text": [
      "{0: 111, 1: 97}\n",
      "n_classes 2\n",
      "n_features 60\n"
     ]
    }
   ],
   "source": [
    "n_classes = len(np.unique(y))\n",
    "n_features = X.shape[1]\n",
    "unique, counts = np.unique(y, return_counts=True)\n",
    "\n",
    "print(dict(zip(unique, counts)))\n",
    "\n",
    "print('n_classes', n_classes)\n",
    "print('n_features', n_features)"
   ]
  },
  {
   "cell_type": "code",
   "execution_count": 55,
   "id": "9d179f3b",
   "metadata": {},
   "outputs": [
    {
     "name": "stdout",
     "output_type": "stream",
     "text": [
      "train_max_size 124\n",
      "eval_max_size 166\n"
     ]
    }
   ],
   "source": [
    "X_train, X_test, y_train, y_test = train_test_split(X, y, train_size=0.8, stratify=y)\n",
    "\n",
    "eval_max_size = int(len(X_train))\n",
    "train_max_size = int(len(X_train) * 0.75)\n",
    "print('train_max_size', train_max_size)\n",
    "print('eval_max_size', eval_max_size)"
   ]
  },
  {
   "cell_type": "code",
   "execution_count": 64,
   "id": "9e4d6669",
   "metadata": {},
   "outputs": [],
   "source": [
    "def network_hp_fn(epochs=150, masks_no=100, mask_size=100, target_size=100, lr=3e-4, batch_size=64):\n",
    "    def _inner():\n",
    "        hypernet = Hypernetwork(\n",
    "                        target_architecture=[(mask_size, target_size), (target_size, n_classes)],\n",
    "                        test_nodes=masks_no,\n",
    "                        architecture=torch.nn.Sequential(torch.nn.Linear(n_features, 128), \n",
    "                            torch.nn.ReLU(),\n",
    "                            torch.nn.Linear(128, 256),\n",
    "                            torch.nn.ReLU(),\n",
    "                            torch.nn.Dropout(),\n",
    "                            torch.nn.Linear(256, 256),\n",
    "                            torch.nn.ReLU(),\n",
    "                        ),\n",
    "                        mode=TrainingModes.CARTHESIAN,\n",
    "                    ).to(DEVICE)    \n",
    "        hypernet = hypernet.train()\n",
    "\n",
    "        network = HypernetworkSklearnInterface(hypernet, device=DEVICE, epochs=epochs, batch_size=batch_size, verbose=True, lr=3e-4)\n",
    "        return network\n",
    "    return _inner"
   ]
  },
  {
   "cell_type": "code",
   "execution_count": null,
   "id": "3ab1f928",
   "metadata": {
    "scrolled": true
   },
   "outputs": [
    {
     "name": "stdout",
     "output_type": "stream",
     "text": [
      "pyhopper (166, 60) (166,) 124\n"
     ]
    },
    {
     "data": {
      "application/vnd.jupyter.widget-view+json": {
       "model_id": "0e4945b74d0a4c0c94cfa7e319582782",
       "version_major": 2,
       "version_minor": 0
      },
      "text/plain": [
       "  0%|          | [00:00<?]"
      ]
     },
     "metadata": {},
     "output_type": "display_data"
    },
    {
     "name": "stdout",
     "output_type": "stream",
     "text": [
      "Search is scheduled for 01:00:00 (h:m:s)\n",
      "params {'epochs': 100, 'masks_no': 10, 'mask_size': 5, 'target_size': 5, 'lr': 3e-05, 'batch_size': 32}\n",
      "iter 1 of 5 X_train shape torch.Size([124, 60])\n",
      "iter 2 of 5 X_train shape torch.Size([124, 60])\n",
      "iter 3 of 5 X_train shape torch.Size([124, 60])\n",
      "iter 4 of 5 X_train shape torch.Size([124, 60])\n",
      "iter 5 of 5 X_train shape torch.Size([124, 60])\n",
      "params {'epochs': 150, 'masks_no': 200, 'mask_size': 10, 'target_size': 10, 'lr': 0.003, 'batch_size': 32}\n",
      "iter 1 of 5 X_train shape torch.Size([124, 60])\n",
      "iter 2 of 5 X_train shape torch.Size([124, 60])\n",
      "iter 3 of 5 X_train shape torch.Size([124, 60])\n"
     ]
    }
   ],
   "source": [
    "param_grid = {\n",
    "    \"epochs\": pyhopper.choice([100, 150]),\n",
    "    \"masks_no\": pyhopper.choice([10, 20, 50, 80, 100, 150, 200]),\n",
    "    \"mask_size\": pyhopper.choice([5, 10, 15, 25, 50, 70]),\n",
    "    \"target_size\": pyhopper.choice([5, 10, 20, 50, 100, 150]),\n",
    "    \"lr\": pyhopper.choice([3e-5, 3e-4, 3e-3, 3e-2, 3e-1]),\n",
    "    \"batch_size\": pyhopper.choice([32, 64]),\n",
    "}\n",
    "\n",
    "hp_best_params = pyhopper_best_params(\n",
    "    network_hp_fn, param_grid, data=(X_train, y_train), train_size=train_max_size, time=\"60m\"\n",
    ")\n",
    "hp_best_params"
   ]
  },
  {
   "cell_type": "code",
   "execution_count": 74,
   "id": "2b865380",
   "metadata": {},
   "outputs": [],
   "source": [
    "epochs = hp_best_params['epochs']\n",
    "masks_no = hp_best_params['masks_no']\n",
    "mask_size = hp_best_params['mask_size']\n",
    "target_size = hp_best_params['target_size']\n",
    "\n",
    "model = network_hp_fn(epochs, masks_no, mask_size, target_size)()"
   ]
  },
  {
   "cell_type": "code",
   "execution_count": 75,
   "id": "9d98551e",
   "metadata": {},
   "outputs": [
    {
     "name": "stderr",
     "output_type": "stream",
     "text": [
      "100%|███████████████████████████████████████████████████████████████████████████████████████████████████████████████████████████████████████████████████████████████████████████████████████████████████████████| 100/100 [01:27<00:00,  1.14it/s]\n"
     ]
    }
   ],
   "source": [
    "model.fit(X_train, y_train)\n",
    "\n",
    "y_pred = model.predict(X_test)\n",
    "y_score = model.predict_proba(X_test)\n",
    "hyper_results = _summarize_results(y_pred, \n",
    "                                   y_score, \n",
    "                                   torch.from_numpy(y_test), \n",
    "                                   torch.from_numpy(np.unique(y)))\n",
    "hyper_results = pd.DataFrame(hyper_results)"
   ]
  },
  {
   "cell_type": "code",
   "execution_count": 76,
   "id": "58e21441",
   "metadata": {},
   "outputs": [
    {
     "name": "stdout",
     "output_type": "stream",
     "text": [
      "166: 0.810 ~ nan, (max: 0.810)\n"
     ]
    }
   ],
   "source": [
    "res = hyper_results[hyper_results[\"Class\"]==\"Total\"].reset_index(drop=True)[\"Metric\"]\n",
    "print(f\"{X_train.shape[0]}: {res.mean():.3f} ~ {res.std():.2f}, (max: {res.max():.3f})\")"
   ]
  },
  {
   "cell_type": "code",
   "execution_count": 77,
   "id": "3747e4a3",
   "metadata": {},
   "outputs": [],
   "source": [
    "with open(DATA+\".txt\", \"w\") as f:\n",
    "    f.write(f\"{eval_max_size}: {res.mean():.3f} ~ {res.std():.2f}, (max: {res.max():.3f})\")"
   ]
  },
  {
   "cell_type": "markdown",
   "id": "3aa8a833",
   "metadata": {},
   "source": [
    "## Dermatology"
   ]
  },
  {
   "cell_type": "code",
   "execution_count": 78,
   "id": "2e586850",
   "metadata": {},
   "outputs": [],
   "source": [
    "DATA = \"Dermatology\""
   ]
  },
  {
   "cell_type": "code",
   "execution_count": 79,
   "id": "3f1ea21d",
   "metadata": {},
   "outputs": [],
   "source": [
    "dataset = pd.read_csv(\"https://archive.ics.uci.edu/ml/machine-learning-databases/dermatology/dermatology.data\", header=None, na_values=\"?\").dropna()\n",
    "X = dataset.values[:, :-1].astype(float)\n",
    "y = dataset.values[:, -1].astype(int) - 1"
   ]
  },
  {
   "cell_type": "code",
   "execution_count": 80,
   "id": "c18b54e7",
   "metadata": {},
   "outputs": [
    {
     "name": "stdout",
     "output_type": "stream",
     "text": [
      "{0: 111, 1: 60, 2: 71, 3: 48, 4: 48, 5: 20}\n",
      "n_classes 6\n",
      "n_features 34\n"
     ]
    }
   ],
   "source": [
    "n_classes = len(np.unique(y))\n",
    "n_features = X.shape[1]\n",
    "unique, counts = np.unique(y, return_counts=True)\n",
    "\n",
    "print(dict(zip(unique, counts)))\n",
    "\n",
    "print('n_classes', n_classes)\n",
    "print('n_features', n_features)"
   ]
  },
  {
   "cell_type": "code",
   "execution_count": 81,
   "id": "58905df7",
   "metadata": {},
   "outputs": [
    {
     "name": "stdout",
     "output_type": "stream",
     "text": [
      "train_max_size 214\n",
      "eval_max_size 286\n"
     ]
    }
   ],
   "source": [
    "X_train, X_test, y_train, y_test = train_test_split(X, y, train_size=0.8, stratify=y)\n",
    "\n",
    "eval_max_size = int(len(X_train))\n",
    "train_max_size = int(len(X_train) * 0.75)\n",
    "print('train_max_size', train_max_size)\n",
    "print('eval_max_size', eval_max_size)"
   ]
  },
  {
   "cell_type": "code",
   "execution_count": 82,
   "id": "81461698",
   "metadata": {},
   "outputs": [],
   "source": [
    "def network_hp_fn(epochs=150, masks_no=100, mask_size=100, target_size=100, lr=3e-4, batch_size=64):\n",
    "    def _inner():\n",
    "        hypernet = Hypernetwork(\n",
    "                        target_architecture=[(mask_size, target_size), (target_size, n_classes)],\n",
    "                        test_nodes=masks_no,\n",
    "                        architecture=torch.nn.Sequential(torch.nn.Linear(n_features, 64), \n",
    "                            torch.nn.ReLU(),\n",
    "                            torch.nn.Linear(64, 128),\n",
    "                            torch.nn.ReLU(),\n",
    "                            torch.nn.Dropout(),\n",
    "                            torch.nn.Linear(128, 128),\n",
    "                            torch.nn.ReLU(),\n",
    "                        ),\n",
    "                        mode=TrainingModes.CARTHESIAN,\n",
    "                    ).to(DEVICE)    \n",
    "        hypernet = hypernet.train()\n",
    "\n",
    "        network = HypernetworkSklearnInterface(hypernet, device=DEVICE, epochs=epochs, batch_size=batch_size, verbose=False, lr=3e-4)\n",
    "        return network\n",
    "    return _inner"
   ]
  },
  {
   "cell_type": "code",
   "execution_count": 86,
   "id": "9d95a993",
   "metadata": {},
   "outputs": [
    {
     "data": {
      "text/plain": [
       "(286, 34)"
      ]
     },
     "execution_count": 86,
     "metadata": {},
     "output_type": "execute_result"
    }
   ],
   "source": [
    "X_train.shape"
   ]
  },
  {
   "cell_type": "code",
   "execution_count": 87,
   "id": "1f2370ed",
   "metadata": {
    "scrolled": true
   },
   "outputs": [
    {
     "name": "stdout",
     "output_type": "stream",
     "text": [
      "pyhopper (286, 34) (286,) 214\n"
     ]
    },
    {
     "data": {
      "application/vnd.jupyter.widget-view+json": {
       "model_id": "ba0491934d6b4b6faeeb16099e2e659c",
       "version_major": 2,
       "version_minor": 0
      },
      "text/plain": [
       "  0%|          | [00:00<?]"
      ]
     },
     "metadata": {},
     "output_type": "display_data"
    },
    {
     "name": "stdout",
     "output_type": "stream",
     "text": [
      "Search is scheduled for 30:00 (m:s)\n",
      "params {'epochs': 100, 'masks_no': 10, 'mask_size': 5, 'target_size': 10, 'lr': 0.0003, 'batch_size': 16}\n",
      "iter 1 of 5 X_train shape torch.Size([214, 34])\n",
      "iter 2 of 5 X_train shape torch.Size([214, 34])\n",
      "iter 3 of 5 X_train shape torch.Size([214, 34])\n",
      "iter 4 of 5 X_train shape torch.Size([214, 34])\n",
      "iter 5 of 5 X_train shape torch.Size([214, 34])\n",
      "params {'epochs': 150, 'masks_no': 10, 'mask_size': 15, 'target_size': 100, 'lr': 0.0003, 'batch_size': 64}\n",
      "iter 1 of 5 X_train shape torch.Size([214, 34])\n",
      "iter 2 of 5 X_train shape torch.Size([214, 34])\n",
      "iter 3 of 5 X_train shape torch.Size([214, 34])\n",
      "iter 4 of 5 X_train shape torch.Size([214, 34])\n",
      "iter 5 of 5 X_train shape torch.Size([214, 34])\n",
      "params {'epochs': 100, 'masks_no': 20, 'mask_size': 15, 'target_size': 50, 'lr': 0.0003, 'batch_size': 32}\n",
      "iter 1 of 5 X_train shape torch.Size([214, 34])\n",
      "iter 2 of 5 X_train shape torch.Size([214, 34])\n",
      "iter 3 of 5 X_train shape torch.Size([214, 34])\n",
      "iter 4 of 5 X_train shape torch.Size([214, 34])\n",
      "iter 5 of 5 X_train shape torch.Size([214, 34])\n",
      "params {'epochs': 150, 'masks_no': 20, 'mask_size': 10, 'target_size': 100, 'lr': 0.0003, 'batch_size': 64}\n",
      "iter 1 of 5 X_train shape torch.Size([214, 34])\n",
      "iter 2 of 5 X_train shape torch.Size([214, 34])\n",
      "iter 3 of 5 X_train shape torch.Size([214, 34])\n",
      "iter 4 of 5 X_train shape torch.Size([214, 34])\n",
      "iter 5 of 5 X_train shape torch.Size([214, 34])\n",
      "params {'epochs': 150, 'masks_no': 200, 'mask_size': 20, 'target_size': 10, 'lr': 0.0003, 'batch_size': 32}\n",
      "iter 1 of 5 X_train shape torch.Size([214, 34])\n",
      "iter 2 of 5 X_train shape torch.Size([214, 34])\n",
      "iter 3 of 5 X_train shape torch.Size([214, 34])\n",
      "iter 4 of 5 X_train shape torch.Size([214, 34])\n",
      "iter 5 of 5 X_train shape torch.Size([214, 34])\n",
      "====================== Summary ======================\n",
      "Mode              : Best f : Steps : Time            \n",
      "----------------  : ----   : ----  : ----            \n",
      "Initial solution  : 95.56  : 1     : 07:22 (m:s)     \n",
      "Random seeding    : 98.44  : 2     : 07:40 (m:s)     \n",
      "Local sampling    : 97.39  : 2     : 01:05:52 (h:m:s)\n",
      "Duplicates        : -      : 1     : -               \n",
      "----------------  : ----   : ----  : ----            \n",
      "Total             : 98.44  : 6     : 01:20:54 (h:m:s)\n",
      "=====================================================\n",
      "Dermatology_network_hp_fn_{'epochs': 150, 'masks_no': 10, 'mask_size': 15, 'target_size': 100, 'lr': 0.0003, 'batch_size': 64}\n"
     ]
    },
    {
     "data": {
      "text/plain": [
       "{'epochs': 150,\n",
       " 'masks_no': 10,\n",
       " 'mask_size': 15,\n",
       " 'target_size': 100,\n",
       " 'lr': 0.0003,\n",
       " 'batch_size': 64}"
      ]
     },
     "execution_count": 87,
     "metadata": {},
     "output_type": "execute_result"
    },
    {
     "data": {
      "image/png": "[encoded data removed]",
      "text/plain": [
       "<Figure size 800x550 with 1 Axes>"
      ]
     },
     "metadata": {},
     "output_type": "display_data"
    }
   ],
   "source": [
    "param_grid = {\n",
    "    \"epochs\": pyhopper.choice([100, 150]),\n",
    "    \"masks_no\": pyhopper.choice([10, 20, 50, 100, 150, 200]),\n",
    "    \"mask_size\": pyhopper.choice([5, 10, 15, 20, 25]),\n",
    "    \"target_size\": pyhopper.choice([10, 50, 100]),\n",
    "    \"lr\": pyhopper.choice([3e-4]),\n",
    "    \"batch_size\": pyhopper.choice([16, 32, 64]),\n",
    "}\n",
    "\n",
    "hp_best_params = pyhopper_best_params(\n",
    "    network_hp_fn, param_grid, data=(X_train, y_train), train_size=train_max_size, time=\"30m\"\n",
    ")\n",
    "hp_best_params"
   ]
  },
  {
   "cell_type": "code",
   "execution_count": 88,
   "id": "9a29cba6",
   "metadata": {},
   "outputs": [],
   "source": [
    "epochs = hp_best_params['epochs']\n",
    "masks_no = hp_best_params['masks_no']\n",
    "mask_size = hp_best_params['mask_size']\n",
    "target_size = hp_best_params['target_size']\n",
    "\n",
    "model = network_hp_fn(epochs, masks_no, mask_size, target_size)()"
   ]
  },
  {
   "cell_type": "code",
   "execution_count": 89,
   "id": "e82ab7c2",
   "metadata": {},
   "outputs": [],
   "source": [
    "model.fit(X_train, y_train)\n",
    "\n",
    "y_pred = model.predict(X_test)\n",
    "y_score = model.predict_proba(X_test)\n",
    "hyper_results = _summarize_results(y_pred, \n",
    "                                   y_score, \n",
    "                                   torch.from_numpy(y_test), \n",
    "                                   torch.from_numpy(np.unique(y)))\n",
    "hyper_results = pd.DataFrame(hyper_results)"
   ]
  },
  {
   "cell_type": "code",
   "execution_count": null,
   "id": "a897ae6b",
   "metadata": {},
   "outputs": [],
   "source": [
    "res = hyper_results[hyper_results[\"Class\"]==\"Total\"].reset_index(drop=True)[\"Metric\"]\n",
    "print(f\"{eval_max_size}: {res.mean():.2f} ~ {res.std():.2f}, (max: {res.max():.2f})\")"
   ]
  },
  {
   "cell_type": "code",
   "execution_count": null,
   "id": "c86d5015",
   "metadata": {},
   "outputs": [],
   "source": [
    "with open(DATA+\".txt\", \"w\") as f:\n",
    "    f.write(f\"{eval_max_size}: {res.mean():.3f} ~ {res.std():.2f}, (max: {res.max():.3f})\")"
   ]
  },
  {
   "cell_type": "markdown",
   "id": "dd6b288e",
   "metadata": {},
   "source": [
    "## Glass"
   ]
  },
  {
   "cell_type": "code",
   "execution_count": null,
   "id": "27837c50",
   "metadata": {},
   "outputs": [],
   "source": [
    "DATA = \"Glass\""
   ]
  },
  {
   "cell_type": "code",
   "execution_count": null,
   "id": "cd5eb985",
   "metadata": {},
   "outputs": [],
   "source": [
    "dataset = pd.read_csv(\"https://archive.ics.uci.edu/ml/machine-learning-databases/glass/glass.data\", header=None, na_values=\"?\").dropna()\n",
    "X = dataset.values[:, :-1].astype(float)\n",
    "y = dataset.values[:, -1].astype(int)\n",
    "y = LabelEncoder().fit_transform(y).astype(int)"
   ]
  },
  {
   "cell_type": "code",
   "execution_count": null,
   "id": "3a8240fa",
   "metadata": {},
   "outputs": [],
   "source": [
    "n_classes = len(np.unique(y if not isinstance(y, tuple) else y_train))\n",
    "n_features = X.shape[1] if not isinstance(X, tuple) else X_train.shape[1]\n",
    "unique, counts = np.unique(y if not isinstance(y, tuple) else y_train, return_counts=True)\n",
    "\n",
    "print(dict(zip(unique, counts)))\n",
    "\n",
    "print('n_classes', n_classes)\n",
    "print('n_features', n_features)"
   ]
  },
  {
   "cell_type": "code",
   "execution_count": null,
   "id": "d700b085",
   "metadata": {},
   "outputs": [],
   "source": [
    "X_train, X_test, y_train, y_test = train_test_split_tuple(X, y, train_size=0.8)\n",
    "\n",
    "eval_max_size = int(len(X_train))\n",
    "train_max_size = int(len(X_train) * 0.75)\n",
    "print('train_max_size', train_max_size)\n",
    "print('eval_max_size', eval_max_size)"
   ]
  },
  {
   "cell_type": "code",
   "execution_count": null,
   "id": "40727760",
   "metadata": {},
   "outputs": [],
   "source": [
    "def network_hp_fn(epochs=150, masks_no=100, mask_size=100, target_size=100, lr=3e-4, batch_size=64, verbose=False):\n",
    "    def _inner():\n",
    "        hypernet = Hypernetwork(\n",
    "                        target_architecture=[(mask_size, target_size), (target_size, n_classes)],\n",
    "                        test_nodes=masks_no,\n",
    "                        architecture=torch.nn.Sequential(torch.nn.Linear(n_features, 64), \n",
    "                            torch.nn.ReLU(),\n",
    "                            torch.nn.Linear(64, 128),\n",
    "                            torch.nn.ReLU(),\n",
    "                            torch.nn.Dropout(),\n",
    "                            torch.nn.Linear(128, 128),\n",
    "                            torch.nn.ReLU(),\n",
    "                        ),\n",
    "                        mode=TrainingModes.CARTHESIAN,\n",
    "                    ).to(DEVICE)    \n",
    "        hypernet = hypernet.train()\n",
    "\n",
    "        network = HypernetworkSklearnInterface(hypernet, device=DEVICE, epochs=epochs, batch_size=batch_size, verbose=verbose, lr=lr)\n",
    "        return network\n",
    "    return _inner\n"
   ]
  },
  {
   "cell_type": "code",
   "execution_count": null,
   "id": "19e62410",
   "metadata": {},
   "outputs": [],
   "source": [
    "param_grid = {\n",
    "    \"epochs\": pyhopper.choice([100]),\n",
    "    \"masks_no\": pyhopper.choice([5, 10, 50, 70, 100, 150, 200]),\n",
    "    \"mask_size\": pyhopper.choice([2, 5, 10, 20, 50, 90]),\n",
    "    \"target_size\": pyhopper.choice([5, 10, 20, 50]),\n",
    "    \"lr\": pyhopper.choice([3e-5, 3e-4, 3e-3, 3e-2, 3e-1]),\n",
    "    \"batch_size\": pyhopper.choice([32, 64]),\n",
    "}\n",
    "\n",
    "hp_best_params = pyhopper_best_params(\n",
    "    network_hp_fn, param_grid, data=(X_train, y_train), train_size=train_max_size, time=\"300m\"\n",
    ")\n",
    "hp_best_params"
   ]
  },
  {
   "cell_type": "code",
   "execution_count": null,
   "id": "e16f83a9",
   "metadata": {},
   "outputs": [],
   "source": [
    "epochs = hp_best_params['epochs']\n",
    "masks_no = hp_best_params['masks_no']\n",
    "mask_size = hp_best_params['mask_size']\n",
    "target_size = hp_best_params['target_size']\n",
    "\n",
    "model = network_hp_fn(epochs, masks_no, mask_size, target_size, verbose=True)()"
   ]
  },
  {
   "cell_type": "code",
   "execution_count": null,
   "id": "42f86a62",
   "metadata": {},
   "outputs": [],
   "source": [
    "model.fit(X_train, y_train)\n",
    "\n",
    "y_pred = model.predict(X_test)\n",
    "y_score = model.predict_proba(X_test)\n",
    "hyper_results = _summarize_results(y_pred, \n",
    "                                   y_score, \n",
    "                                   torch.from_numpy(y_test), \n",
    "                                   torch.from_numpy(np.unique(y)))\n",
    "hyper_results = pd.DataFrame(hyper_results)"
   ]
  },
  {
   "cell_type": "code",
   "execution_count": null,
   "id": "8a57d5a8",
   "metadata": {},
   "outputs": [],
   "source": [
    "res = hyper_results[hyper_results[\"Class\"]==\"Total\"].reset_index(drop=True)[\"Metric\"]\n",
    "print(f\"{eval_max_size}: {res.mean():.2f} ~ {res.std():.2f}, (max: {res.max():.2f})\")"
   ]
  },
  {
   "cell_type": "code",
   "execution_count": null,
   "id": "f3a7c668",
   "metadata": {},
   "outputs": [],
   "source": [
    "with open(DATA+\".txt\", \"w\") as f:\n",
    "    f.write(f\"{eval_max_size}: {res.mean():.3f} ~ {res.std():.2f}, (max: {res.max():.3f})\")"
   ]
  },
  {
   "cell_type": "markdown",
   "id": "47d8ea6c",
   "metadata": {},
   "source": [
    "## Cleveland"
   ]
  },
  {
   "cell_type": "code",
   "execution_count": null,
   "id": "fd2b4490",
   "metadata": {},
   "outputs": [],
   "source": [
    "DATA = \"Cleveland\""
   ]
  },
  {
   "cell_type": "code",
   "execution_count": null,
   "id": "a66a78f0",
   "metadata": {},
   "outputs": [],
   "source": [
    "dataset = pd.read_csv(\"https://archive.ics.uci.edu/ml/machine-learning-databases/heart-disease/processed.cleveland.data\", header=None, na_values=\"?\").dropna()\n",
    "X = dataset.values[:, :-1].astype(float)\n",
    "y = dataset.values[:, -1].astype(int)\n",
    "y = LabelEncoder().fit_transform(y).astype(int)"
   ]
  },
  {
   "cell_type": "code",
   "execution_count": null,
   "id": "5ab082d1",
   "metadata": {},
   "outputs": [],
   "source": [
    "n_classes = len(np.unique(y if not isinstance(y, tuple) else y_train))\n",
    "n_features = X.shape[1] if not isinstance(X, tuple) else X_train.shape[1]\n",
    "unique, counts = np.unique(y if not isinstance(y, tuple) else y_train, return_counts=True)\n",
    "\n",
    "print(dict(zip(unique, counts)))\n",
    "\n",
    "print('n_classes', n_classes)\n",
    "print('n_features', n_features)"
   ]
  },
  {
   "cell_type": "code",
   "execution_count": null,
   "id": "e050818c",
   "metadata": {},
   "outputs": [],
   "source": [
    "X_train, X_test, y_train, y_test = train_test_split_tuple(X, y, train_size=0.8)\n",
    "\n",
    "eval_max_size = int(len(X_train))\n",
    "train_max_size = int(len(X_train) * 0.75)\n",
    "print('train_max_size', train_max_size)\n",
    "print('eval_max_size', eval_max_size)"
   ]
  },
  {
   "cell_type": "code",
   "execution_count": null,
   "id": "332e719a",
   "metadata": {},
   "outputs": [],
   "source": [
    "def network_hp_fn(epochs=150, masks_no=100, mask_size=100, target_size=100, lr=3e-4, batch_size=64, verbose=False):\n",
    "    def _inner():\n",
    "        hypernet = Hypernetwork(\n",
    "                        target_architecture=[(mask_size, target_size), (target_size, n_classes)],\n",
    "                        test_nodes=masks_no,\n",
    "                        architecture=torch.nn.Sequential(torch.nn.Linear(n_features, 64), \n",
    "                            torch.nn.ReLU(),\n",
    "                            torch.nn.Linear(64, 128),\n",
    "                            torch.nn.ReLU(),\n",
    "                            torch.nn.Dropout(),\n",
    "                            torch.nn.Linear(128, 128),\n",
    "                            torch.nn.ReLU(),\n",
    "                        ),\n",
    "                        mode=TrainingModes.CARTHESIAN,\n",
    "                    ).to(DEVICE)    \n",
    "        hypernet = hypernet.train()\n",
    "\n",
    "        network = HypernetworkSklearnInterface(hypernet, device=DEVICE, epochs=epochs, batch_size=batch_size, verbose=verbose, lr=lr)\n",
    "        return network\n",
    "    return _inner\n"
   ]
  },
  {
   "cell_type": "code",
   "execution_count": null,
   "id": "83f14cea",
   "metadata": {},
   "outputs": [],
   "source": [
    "param_grid = {\n",
    "    \"epochs\": pyhopper.choice([100]),\n",
    "    \"masks_no\": pyhopper.choice([5, 10, 50, 70, 100, 150, 200]),\n",
    "    \"mask_size\": pyhopper.choice([2, 5, 10, 20, 50, 90]),\n",
    "    \"target_size\": pyhopper.choice([5, 10, 20, 50]),\n",
    "    \"lr\": pyhopper.choice([3e-5, 3e-4, 3e-3, 3e-2, 3e-1]),\n",
    "    \"batch_size\": pyhopper.choice([32, 64]),\n",
    "}\n",
    "\n",
    "hp_best_params = pyhopper_best_params(\n",
    "    network_hp_fn, param_grid, data=(X_train, y_train), train_size=train_max_size, time=\"300m\"\n",
    ")\n",
    "hp_best_params"
   ]
  },
  {
   "cell_type": "code",
   "execution_count": null,
   "id": "79593b11",
   "metadata": {},
   "outputs": [],
   "source": [
    "epochs = hp_best_params['epochs']\n",
    "masks_no = hp_best_params['masks_no']\n",
    "mask_size = hp_best_params['mask_size']\n",
    "target_size = hp_best_params['target_size']\n",
    "\n",
    "model = network_hp_fn(epochs, masks_no, mask_size, target_size, verbose=True)()"
   ]
  },
  {
   "cell_type": "code",
   "execution_count": null,
   "id": "6b4400a4",
   "metadata": {},
   "outputs": [],
   "source": [
    "model.fit(X_train, y_train)\n",
    "\n",
    "y_pred = model.predict(X_test)\n",
    "y_score = model.predict_proba(X_test)\n",
    "hyper_results = _summarize_results(y_pred, \n",
    "                                   y_score, \n",
    "                                   torch.from_numpy(y_test), \n",
    "                                   torch.from_numpy(np.unique(y)))\n",
    "hyper_results = pd.DataFrame(hyper_results)"
   ]
  },
  {
   "cell_type": "code",
   "execution_count": null,
   "id": "08390a60",
   "metadata": {},
   "outputs": [],
   "source": [
    "with open(DATA+\".txt\", \"w\") as f:\n",
    "    f.write(f\"{eval_max_size}: {res.mean():.3f} ~ {res.std():.2f}, (max: {res.max():.3f})\")"
   ]
  },
  {
   "cell_type": "markdown",
   "id": "0b85be52",
   "metadata": {},
   "source": [
    "# cnae"
   ]
  },
  {
   "cell_type": "code",
   "execution_count": null,
   "id": "cf501dd0",
   "metadata": {},
   "outputs": [],
   "source": [
    "DATA = \"cnae\""
   ]
  },
  {
   "cell_type": "code",
   "execution_count": null,
   "id": "63cd38b8",
   "metadata": {},
   "outputs": [],
   "source": [
    "if DATA == \"cnae\":\n",
    "    cnae = pd.read_csv('https://archive.ics.uci.edu/ml/machine-learning-databases/00233/CNAE-9.data', header=None)\n",
    "    cnae = cnae.drop(1, axis=1)\n",
    "    X = cnae.values[:, 1:].astype(float)\n",
    "    y = cnae.values[:, 0]\n",
    "    y = LabelEncoder().fit_transform(y).astype(int)\n",
    "    #(1080, 855) 2\n",
    "\n",
    "print(X.shape, len(np.unique(y)))"
   ]
  },
  {
   "cell_type": "code",
   "execution_count": null,
   "id": "7dfc78b4",
   "metadata": {},
   "outputs": [],
   "source": [
    "n_classes = len(np.unique(y))\n",
    "n_features = X.shape[1]\n",
    "unique, counts = np.unique(y, return_counts=True)\n",
    "\n",
    "print(dict(zip(unique, counts)))\n",
    "\n",
    "print('n_classes', n_classes)\n",
    "print('n_features', n_features)"
   ]
  },
  {
   "cell_type": "code",
   "execution_count": null,
   "id": "1f5ac7ca",
   "metadata": {},
   "outputs": [],
   "source": [
    "X_train, X_test, y_train, y_test = train_test_split(X, y, train_size=0.8, stratify=y)\n",
    "\n",
    "eval_max_size = int(len(X_train))\n",
    "train_max_size = int(len(X_train) * 0.75)\n",
    "print('train_max_size', train_max_size)\n",
    "print('eval_max_size', eval_max_size)"
   ]
  },
  {
   "cell_type": "code",
   "execution_count": null,
   "id": "9be895e1",
   "metadata": {},
   "outputs": [],
   "source": [
    "def network_hp_fn(epochs=150, masks_no=100, mask_size=100, target_size=100, lr=3e-4, batch_size=64, verbose=False):\n",
    "    def _inner():\n",
    "        hypernet = Hypernetwork(\n",
    "                        target_architecture=[(mask_size, target_size), (target_size, n_classes)],\n",
    "                        test_nodes=masks_no,\n",
    "                        architecture=torch.nn.Sequential(torch.nn.Linear(n_features, 64), \n",
    "                            torch.nn.ReLU(),\n",
    "                            torch.nn.Linear(64, 128),\n",
    "                            torch.nn.ReLU(),\n",
    "                            torch.nn.Dropout(),\n",
    "                            torch.nn.Linear(128, 128),\n",
    "                            torch.nn.ReLU(),\n",
    "                        ),\n",
    "                        mode=TrainingModes.CARTHESIAN,\n",
    "                    ).to(DEVICE)    \n",
    "        hypernet = hypernet.train()\n",
    "\n",
    "        network = HypernetworkSklearnInterface(hypernet, device=DEVICE, epochs=epochs, batch_size=batch_size, verbose=verbose, lr=lr)\n",
    "        return network\n",
    "    return _inner\n"
   ]
  },
  {
   "cell_type": "code",
   "execution_count": null,
   "id": "5d566c5f",
   "metadata": {},
   "outputs": [],
   "source": [
    "param_grid = {\n",
    "    \"epochs\": pyhopper.choice([100]),\n",
    "    \"masks_no\": pyhopper.choice([3, 5, 10, 50, 75, 100, 150]),\n",
    "    \"mask_size\": pyhopper.choice([5, 10, 20, 50, 100, 200, 400, 600, 750]),\n",
    "    \"target_size\": pyhopper.choice([5, 10, 20, 50]),\n",
    "    \"lr\": pyhopper.choice([3e-5, 3e-4, 3e-3, 3e-2, 3e-1]),\n",
    "    \"batch_size\": pyhopper.choice([64]),\n",
    "}\n",
    "\n",
    "hp_best_params = pyhopper_best_params(\n",
    "    network_hp_fn, param_grid, data=(X_train, y_train), train_size=train_max_size, time=\"480m\"\n",
    ")\n",
    "hp_best_params"
   ]
  },
  {
   "cell_type": "code",
   "execution_count": null,
   "id": "906b7a4f",
   "metadata": {},
   "outputs": [],
   "source": [
    "epochs = 100#hp_best_params['epochs']\n",
    "masks_no = hp_best_params['masks_no']\n",
    "mask_size = hp_best_params['mask_size']\n",
    "target_size = hp_best_params['target_size']\n",
    "batch_size = hp_best_params['batch_size']\n",
    "lr = hp_best_params['lr']\n",
    "\n",
    "\n",
    "hyper_results = test_model(network_hp_fn(epochs, masks_no, mask_size, target_size, batch_size=batch_size,verbose=True),\n",
    "                    (X, y),\n",
    "                    eval_max_size,\n",
    "                    None, 10)"
   ]
  },
  {
   "cell_type": "code",
   "execution_count": null,
   "id": "33da4013",
   "metadata": {},
   "outputs": [],
   "source": [
    "res = hyper_results[hyper_results[\"Class\"]==\"Total\"].reset_index(drop=True)[\"Metric\"]\n",
    "print(f\"{eval_max_size}: {res.mean():.2f} ~ {res.std():.2f}, (max: {res.max():.2f})\")"
   ]
  },
  {
   "cell_type": "code",
   "execution_count": null,
   "id": "f8d5dd5b",
   "metadata": {},
   "outputs": [],
   "source": [
    "d[DATA] = hyper_results.groupby(\"Class\")['Metric'].agg(['mean', 'std', 'max'])"
   ]
  },
  {
   "cell_type": "code",
   "execution_count": null,
   "id": "a7eb98e4",
   "metadata": {},
   "outputs": [],
   "source": []
  },
  {
   "cell_type": "code",
   "execution_count": null,
   "id": "ec3118bd",
   "metadata": {},
   "outputs": [],
   "source": [
    "d"
   ]
  },
  {
   "cell_type": "code",
   "execution_count": null,
   "id": "30c26a06",
   "metadata": {},
   "outputs": [],
   "source": []
  }
 ],
 "metadata": {
  "kernelspec": {
   "display_name": "torch",
   "language": "python",
   "name": "python3"
  },
  "language_info": {
   "codemirror_mode": {
    "name": "ipython",
    "version": 3
   },
   "file_extension": ".py",
   "mimetype": "text/x-python",
   "name": "python",
   "nbconvert_exporter": "python",
   "pygments_lexer": "ipython3",
   "version": "3.9.16"
  }
 },
 "nbformat": 4,
 "nbformat_minor": 5
}
