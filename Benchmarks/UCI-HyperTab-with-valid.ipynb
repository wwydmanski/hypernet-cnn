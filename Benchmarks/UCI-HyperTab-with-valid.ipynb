{
 "cells": [
  {
   "cell_type": "code",
   "execution_count": 1,
   "id": "01de83ab",
   "metadata": {},
   "outputs": [],
   "source": [
    "import torch"
   ]
  },
  {
   "cell_type": "code",
   "execution_count": 2,
   "id": "dc12a648-b80a-4eca-afc3-79331e4db7fc",
   "metadata": {},
   "outputs": [],
   "source": [
    "from comet_ml import Experiment, Optimizer"
   ]
  },
  {
   "cell_type": "code",
   "execution_count": 3,
   "id": "2fdadf44-450a-4006-ac5a-bed9840409f6",
   "metadata": {},
   "outputs": [],
   "source": [
    "import pandas as pd\n",
    "import numpy as np\n",
    "from sklearn.preprocessing import LabelEncoder, StandardScaler\n",
    "from sklearn.model_selection import train_test_split\n",
    "from collections import defaultdict\n",
    "from tqdm import trange\n",
    "import torch\n",
    "import seaborn as sns\n",
    "import os\n",
    "import matplotlib.pyplot as plt\n",
    "from io import BytesIO\n",
    "import base64\n",
    "import sklearn\n",
    "import time\n",
    "import datetime\n",
    "\n",
    "plt.style.use(\"seaborn\")\n",
    "torch.set_default_dtype(torch.float32)"
   ]
  },
  {
   "cell_type": "code",
   "execution_count": 4,
   "id": "6a37b70c-292b-4c14-85ed-3c93020dc182",
   "metadata": {},
   "outputs": [],
   "source": [
    "from sklearn.metrics import roc_auc_score, f1_score, precision_score, recall_score, balanced_accuracy_score"
   ]
  },
  {
   "cell_type": "code",
   "execution_count": 5,
   "id": "3085114d-cf61-4625-97c5-10f34c00d335",
   "metadata": {},
   "outputs": [],
   "source": [
    "from tabular_hypernet import HypernetworkPCA, TrainingModes, Hypernetwork\n",
    "from tabular_hypernet.modules import SimpleNetwork\n",
    "from tabular_hypernet.training_utils import train_slow_step, train_model, train_carthesian\n",
    "from tabular_hypernet.interfaces import HypernetworkSklearnInterface, SimpleSklearnInterface\n",
    "# from ipynb.fs.defs.MNIST_benchmark import test_model\n",
    "from sklearn.model_selection import GridSearchCV, RandomizedSearchCV"
   ]
  },
  {
   "cell_type": "code",
   "execution_count": 6,
   "id": "d62c6026",
   "metadata": {},
   "outputs": [],
   "source": [
    "from sklearn.metrics import classification_report, balanced_accuracy_score"
   ]
  },
  {
   "cell_type": "code",
   "execution_count": 7,
   "id": "f84a62eb-e16d-4519-ad76-2237037833c0",
   "metadata": {},
   "outputs": [],
   "source": [
    "import pyhopper"
   ]
  },
  {
   "cell_type": "code",
   "execution_count": 8,
   "id": "d12953cc-1ec5-46a9-933a-714e5ceafd1d",
   "metadata": {},
   "outputs": [
    {
     "data": {
      "text/plain": [
       "1"
      ]
     },
     "execution_count": 8,
     "metadata": {},
     "output_type": "execute_result"
    }
   ],
   "source": [
    "from loguru import logger\n",
    "\n",
    "logger.add(\"log.txt\", format='{time:YYYY-MM-DD HH:mm:ss.SSS} | {message}')"
   ]
  },
  {
   "cell_type": "code",
   "execution_count": 9,
   "id": "aa3c18d1-1d56-4393-9441-245420fb3c29",
   "metadata": {},
   "outputs": [],
   "source": [
    "import seaborn as sns"
   ]
  },
  {
   "cell_type": "code",
   "execution_count": 10,
   "id": "04d1ae25-987c-4043-9771-829c928723de",
   "metadata": {},
   "outputs": [],
   "source": [
    "DEVICE=\"cuda:0\""
   ]
  },
  {
   "cell_type": "code",
   "execution_count": 11,
   "id": "4a1a1e98-a8b4-4df2-aae6-b593fe61667a",
   "metadata": {},
   "outputs": [
    {
     "data": {
      "text/plain": [
       "2"
      ]
     },
     "execution_count": 11,
     "metadata": {},
     "output_type": "execute_result"
    }
   ],
   "source": [
    "from loguru import logger\n",
    "\n",
    "logger.add(\"log.txt\", format='{time:YYYY-MM-DD HH:mm:ss.SSS} | {message}')"
   ]
  },
  {
   "cell_type": "code",
   "execution_count": 12,
   "id": "72ab68a8",
   "metadata": {},
   "outputs": [],
   "source": [
    "GS_METRIC = 'balanced_accuracy'"
   ]
  },
  {
   "cell_type": "markdown",
   "id": "82db70f7",
   "metadata": {},
   "source": [
    "# Load data"
   ]
  },
  {
   "cell_type": "code",
   "execution_count": 13,
   "id": "30a5727b",
   "metadata": {},
   "outputs": [],
   "source": [
    "TEST_RUN = False"
   ]
  },
  {
   "cell_type": "code",
   "execution_count": null,
   "id": "507c32bf",
   "metadata": {},
   "outputs": [],
   "source": []
  },
  {
   "cell_type": "markdown",
   "id": "5c287f46",
   "metadata": {},
   "source": [
    "# Preprocess"
   ]
  },
  {
   "cell_type": "code",
   "execution_count": 14,
   "id": "a8e64dd6",
   "metadata": {},
   "outputs": [],
   "source": [
    "def train_test_split_tuple(X, y, train_size=None):\n",
    "    if isinstance(X, tuple) and isinstance(y, tuple):\n",
    "        X_train, X_test = X\n",
    "        y_train, y_test = y\n",
    "    else:    \n",
    "        X_train, X_test, y_train, y_test = train_test_split(X, y, train_size=size, stratify=y)\n",
    "    \n",
    "    return X_train, X_test, y_train, y_test"
   ]
  },
  {
   "cell_type": "code",
   "execution_count": 15,
   "id": "bdc5ffdd-e04d-425f-8d6c-bd8456644faf",
   "metadata": {},
   "outputs": [],
   "source": [
    "import imblearn\n",
    "np.random.seed(42)\n",
    "\n",
    "def prepare_data(X, y, size=None):\n",
    "    if isinstance(X, tuple) and isinstance(y, tuple):\n",
    "        X_train, X_test = X\n",
    "        y_train, y_test = y\n",
    "    else:    \n",
    "        X_train, X_test, y_train, y_test = train_test_split(X, y, train_size=size, stratify=y)\n",
    "    # X_train, y_train = imblearn.over_sampling.RandomOverSampler(random_state=42).fit_resample(X_train, y_train)\n",
    "    \n",
    "    scaler = StandardScaler()\n",
    "    X_train = scaler.fit_transform(X_train)\n",
    "    X_test = scaler.transform(X_test)\n",
    "    \n",
    "    X_train, X_test, y_train, y_test = [torch.from_numpy(x) for x in [X_train, X_test, y_train, y_test]]\n",
    "    \n",
    "    return X_train, X_test, y_train, y_test"
   ]
  },
  {
   "cell_type": "code",
   "execution_count": null,
   "id": "ca0a827a-0e1f-4f5c-b15d-3354f075021e",
   "metadata": {},
   "outputs": [],
   "source": []
  },
  {
   "cell_type": "markdown",
   "id": "d223075b-b7d8-414e-97c9-ade8bda5f0fd",
   "metadata": {},
   "source": [
    "## Benchmark"
   ]
  },
  {
   "cell_type": "code",
   "execution_count": 16,
   "id": "b9f92f86-4c40-492c-8d48-f23efa85eb16",
   "metadata": {},
   "outputs": [],
   "source": [
    "criterion = torch.nn.CrossEntropyLoss()"
   ]
  },
  {
   "cell_type": "code",
   "execution_count": 17,
   "id": "5aa90ca0-8a00-4491-b111-ce7eee0e9c33",
   "metadata": {},
   "outputs": [],
   "source": [
    "def _summarize_results(y_pred, y_score, y_test, labels):\n",
    "    results = []\n",
    "    for idx, label in enumerate(labels):\n",
    "        y_pred_filt = y_pred[y_test==idx]\n",
    "        y_test_filt = y_test[y_test==idx]\n",
    "        acc = (y_pred_filt==y_test_filt.numpy()).sum()/len(y_test_filt)*100\n",
    "        results.append({\n",
    "            \"Class\": label,\n",
    "            \"Metric\": acc\n",
    "        })\n",
    "        \n",
    "    acc = (y_pred==y_test.numpy()).sum()/len(y_test)*100    \n",
    "    results.append({\n",
    "        \"Class\": \"Total\",\n",
    "        \"Metric\": acc\n",
    "    })\n",
    "    \n",
    "    \n",
    "    results.append({\n",
    "        \"Class\": \"balanced_accuracy\",\n",
    "        \"Metric\": balanced_accuracy_score(y_test, torch.from_numpy(y_pred)).item()*100\n",
    "    })\n",
    "    \n",
    "    try:\n",
    "        results.append({\n",
    "            \"Class\": \"F1 score\",\n",
    "            \"Metric\": f1_score(y_test, torch.from_numpy(y_pred)).item()*100\n",
    "        })\n",
    "        results.append({\n",
    "            \"Class\": \"roc_auc\",\n",
    "            \"Metric\": roc_auc_score(y_test, torch.from_numpy(y_score[:, 1])).item()*100\n",
    "        })\n",
    "        results.append({\n",
    "            \"Class\": \"Precision\",\n",
    "            \"Metric\": precision_score(y_test, torch.from_numpy(y_pred)).item()*100\n",
    "        })\n",
    "        results.append({\n",
    "            \"Class\": \"Recall\",\n",
    "            \"Metric\": recall_score(y_test, torch.from_numpy(y_pred)).item()*100\n",
    "        })\n",
    "    except ValueError:\n",
    "        pass\n",
    "    return results\n",
    "\n",
    "def test_model(model_fn, data, train_size, label_encoder=None, iters=10, as_numpy=False):\n",
    "    if TEST_RUN:\n",
    "        iters = 1\n",
    "        \n",
    "    if label_encoder is not None:\n",
    "        labels = label_encoder.classes_\n",
    "    else:\n",
    "        labels = sorted(pd.unique(data[1][0] if isinstance(data[1], tuple) else data[1]))\n",
    "\n",
    "    \n",
    "    results = []\n",
    "    \n",
    "    X, y = data\n",
    "\n",
    "    for i in range(iters):\n",
    "        X_train, X_test, y_train, y_test = prepare_data(*data, train_size)\n",
    "        print('iter', i+1, 'of', iters, 'X_train shape', X_train.shape)\n",
    "\n",
    "        model = model_fn()\n",
    "\n",
    "        if as_numpy:\n",
    "            model.fit(X_train.numpy(), y_train.numpy());\n",
    "        else:\n",
    "            model.fit(X_train, y_train)\n",
    "        \n",
    "        y_pred = model.predict(X_test)\n",
    "        y_score = model.predict_proba(X_test)\n",
    "        results.extend(_summarize_results(y_pred, y_score, y_test, labels))\n",
    "\n",
    "    dframe = pd.DataFrame.from_dict(results)\n",
    "    sns.violinplot(data=dframe[dframe[\"Class\"]!=\"Loss\"], y=\"Class\", x=\"Metric\", orient='h')\n",
    "    return dframe"
   ]
  },
  {
   "cell_type": "markdown",
   "id": "23f351cf",
   "metadata": {},
   "source": [
    "### Param search"
   ]
  },
  {
   "cell_type": "code",
   "execution_count": null,
   "id": "d1a95790",
   "metadata": {},
   "outputs": [],
   "source": []
  },
  {
   "cell_type": "code",
   "execution_count": 18,
   "id": "ecee618e",
   "metadata": {},
   "outputs": [],
   "source": [
    "def pyhopper_best_params(model_fn, param_grid, data, train_size, metric=GS_METRIC, time=\"30m\", default_params={}):\n",
    "    if TEST_RUN:\n",
    "        time = 60\n",
    "        if 'epochs' in param_grid:\n",
    "            param_grid[\"epochs\"] = pyhopper.choice([10])\n",
    "    \n",
    "    X, y = data\n",
    "    print('pyhopper', X.shape, y.shape, train_size)\n",
    "        \n",
    "    def objective(params):\n",
    "    #     print(\"Training...\")\n",
    "        print('params',params)\n",
    "        model_results = test_model(\n",
    "                        model_fn(\n",
    "                            **default_params,\n",
    "                            **params\n",
    "                        ),\n",
    "                        (X, y),\n",
    "                        train_size,\n",
    "                        None, 5)\n",
    "        with open(f\"{DATA}_{model_fn.__name__}_params.txt\", \"a\") as f:\n",
    "            f.write(str(params) + \", \" + str(model_results[model_results[\"Class\"]==metric][\"Metric\"].mean()) + \"\\n\")\n",
    "        return model_results[model_results[\"Class\"]==metric][\"Metric\"].mean()\n",
    "\n",
    "    from pyhopper.callbacks import History\n",
    "    search = pyhopper.Search(param_grid)\n",
    "\n",
    "    best_params = search.run(objective, \"maximize\", time, n_jobs=\"1x per-gpu\", seeding_ratio=0.5)\n",
    "    \n",
    "    with open(f\"{DATA}_{model_fn.__name__}_best_params.txt\", \"a\") as f:\n",
    "            f.write(str(best_params))\n",
    "    \n",
    "    print(f\"{DATA}_{model_fn.__name__}_{best_params}\")\n",
    "    return best_params\n"
   ]
  },
  {
   "cell_type": "code",
   "execution_count": null,
   "id": "83a58e5d",
   "metadata": {},
   "outputs": [],
   "source": []
  },
  {
   "cell_type": "code",
   "execution_count": 19,
   "id": "026edf4f",
   "metadata": {},
   "outputs": [],
   "source": [
    "d = {}"
   ]
  },
  {
   "cell_type": "markdown",
   "id": "6f2d4d55",
   "metadata": {},
   "source": [
    "# TRAIN"
   ]
  },
  {
   "cell_type": "markdown",
   "id": "82805b43",
   "metadata": {},
   "source": [
    "# Ionosphere"
   ]
  },
  {
   "cell_type": "code",
   "execution_count": 20,
   "id": "b789cbd2",
   "metadata": {},
   "outputs": [],
   "source": [
    "DATA = \"Ionosphere\""
   ]
  },
  {
   "cell_type": "code",
   "execution_count": 21,
   "id": "d47877e8",
   "metadata": {},
   "outputs": [],
   "source": [
    "if DATA == \"Ionosphere\":\n",
    "    ionosphere = pd.read_csv('https://archive.ics.uci.edu/ml/machine-learning-databases/ionosphere/ionosphere.data', header=None)\n",
    "    ionosphere = ionosphere.drop(1, axis=1)\n",
    "    X = ionosphere.values[:, :-1].astype(float)\n",
    "    y = ionosphere.values[:, -1]\n",
    "    y = LabelEncoder().fit_transform(y).astype(int)\n",
    "    #(351, 33) 2\n",
    "    GS_METRIC = \"balanced_accuracy\"\n",
    "\n"
   ]
  },
  {
   "cell_type": "code",
   "execution_count": 22,
   "id": "85f1625b",
   "metadata": {},
   "outputs": [
    {
     "name": "stdout",
     "output_type": "stream",
     "text": [
      "{0: 126, 1: 225}\n",
      "n_classes 2\n",
      "n_features 33\n"
     ]
    }
   ],
   "source": [
    "n_classes = len(np.unique(y))\n",
    "n_features = X.shape[1]\n",
    "unique, counts = np.unique(y, return_counts=True)\n",
    "\n",
    "print(dict(zip(unique, counts)))\n",
    "\n",
    "print('n_classes', n_classes)\n",
    "print('n_features', n_features)"
   ]
  },
  {
   "cell_type": "code",
   "execution_count": 23,
   "id": "649b158c",
   "metadata": {},
   "outputs": [
    {
     "name": "stdout",
     "output_type": "stream",
     "text": [
      "train_max_size 210\n",
      "eval_max_size 280\n"
     ]
    }
   ],
   "source": [
    "X_train, X_test, y_train, y_test = train_test_split(X, y, train_size=0.8, stratify=y)\n",
    "\n",
    "eval_max_size = int(len(X_train))\n",
    "train_max_size = int(len(X_train) * 0.75)\n",
    "print('train_max_size', train_max_size)\n",
    "print('eval_max_size', eval_max_size)"
   ]
  },
  {
   "cell_type": "code",
   "execution_count": 24,
   "id": "2de7b1e9",
   "metadata": {},
   "outputs": [
    {
     "data": {
      "text/plain": [
       "(280, 33)"
      ]
     },
     "execution_count": 24,
     "metadata": {},
     "output_type": "execute_result"
    }
   ],
   "source": [
    "X_train.shape"
   ]
  },
  {
   "cell_type": "code",
   "execution_count": 25,
   "id": "e25919f3",
   "metadata": {},
   "outputs": [],
   "source": [
    "def network_hp_fn(epochs=150, masks_no=100, mask_size=100, target_size=100, lr=3e-4, batch_size=64, verbose=False):\n",
    "    def _inner():\n",
    "        hypernet = Hypernetwork(\n",
    "                        target_architecture=[(mask_size, target_size), (target_size, n_classes)],\n",
    "                        test_nodes=masks_no,\n",
    "                        architecture=torch.nn.Sequential(torch.nn.Linear(n_features, 32), \n",
    "                            torch.nn.ReLU(),\n",
    "                            torch.nn.Linear(32, 128),\n",
    "                            torch.nn.ReLU(),\n",
    "                            torch.nn.Dropout(),\n",
    "                            torch.nn.Linear(128, 128),\n",
    "                            torch.nn.ReLU(),\n",
    "                        ),\n",
    "                        mode=TrainingModes.CARTHESIAN,\n",
    "                    ).to(DEVICE)    \n",
    "        hypernet = hypernet.train()\n",
    "\n",
    "        network = HypernetworkSklearnInterface(hypernet, device=DEVICE, epochs=epochs, batch_size=batch_size, verbose=verbose, lr=lr)\n",
    "        return network\n",
    "    return _inner"
   ]
  },
  {
   "cell_type": "code",
   "execution_count": 26,
   "id": "c8c9e3db",
   "metadata": {},
   "outputs": [
    {
     "name": "stdout",
     "output_type": "stream",
     "text": [
      "pyhopper (280, 33) (280,) 210\n"
     ]
    },
    {
     "data": {
      "application/vnd.jupyter.widget-view+json": {
       "model_id": "4857f7e1bfc7465f84bed7dd38f3951b",
       "version_major": 2,
       "version_minor": 0
      },
      "text/plain": [
       "  0%|          | [00:00<?]"
      ]
     },
     "metadata": {},
     "output_type": "display_data"
    },
    {
     "name": "stdout",
     "output_type": "stream",
     "text": [
      "Search is scheduled for 01:30:00 (h:m:s)\n",
      "params {'epochs': 100, 'masks_no': 10, 'mask_size': 2, 'target_size': 5, 'lr': 3e-05, 'batch_size': 32}\n",
      "iter 1 of 5 X_train shape torch.Size([210, 33])\n",
      "torch.Size([1, 128])\n",
      "iter 2 of 5 X_train shape torch.Size([210, 33])\n",
      "torch.Size([1, 128])\n",
      "iter 3 of 5 X_train shape torch.Size([210, 33])\n",
      "torch.Size([1, 128])\n",
      "iter 4 of 5 X_train shape torch.Size([210, 33])\n",
      "torch.Size([1, 128])\n",
      "iter 5 of 5 X_train shape torch.Size([210, 33])\n",
      "torch.Size([1, 128])\n",
      "params {'epochs': 100, 'masks_no': 50, 'mask_size': 25, 'target_size': 20, 'lr': 0.0003, 'batch_size': 64}\n",
      "iter 1 of 5 X_train shape torch.Size([210, 33])\n",
      "torch.Size([1, 128])\n",
      "iter 2 of 5 X_train shape torch.Size([210, 33])\n",
      "torch.Size([1, 128])\n",
      "iter 3 of 5 X_train shape torch.Size([210, 33])\n",
      "torch.Size([1, 128])\n",
      "iter 4 of 5 X_train shape torch.Size([210, 33])\n",
      "torch.Size([1, 128])\n",
      "iter 5 of 5 X_train shape torch.Size([210, 33])\n",
      "torch.Size([1, 128])\n",
      "params {'epochs': 150, 'masks_no': 50, 'mask_size': 15, 'target_size': 20, 'lr': 0.003, 'batch_size': 64}\n",
      "iter 1 of 5 X_train shape torch.Size([210, 33])\n",
      "torch.Size([1, 128])\n",
      "iter 2 of 5 X_train shape torch.Size([210, 33])\n",
      "torch.Size([1, 128])\n",
      "iter 3 of 5 X_train shape torch.Size([210, 33])\n",
      "torch.Size([1, 128])\n",
      "iter 4 of 5 X_train shape torch.Size([210, 33])\n",
      "torch.Size([1, 128])\n",
      "iter 5 of 5 X_train shape torch.Size([210, 33])\n",
      "torch.Size([1, 128])\n",
      "params {'epochs': 150, 'masks_no': 80, 'mask_size': 2, 'target_size': 50, 'lr': 0.03, 'batch_size': 32}\n",
      "iter 1 of 5 X_train shape torch.Size([210, 33])\n",
      "torch.Size([1, 128])\n",
      "iter 2 of 5 X_train shape torch.Size([210, 33])\n",
      "torch.Size([1, 128])\n"
     ]
    },
    {
     "name": "stderr",
     "output_type": "stream",
     "text": [
      "/home/z1157095/anaconda3/envs/hyper-mnist/lib/python3.9/site-packages/sklearn/metrics/_classification.py:1334: UndefinedMetricWarning: Precision is ill-defined and being set to 0.0 due to no predicted samples. Use `zero_division` parameter to control this behavior.\n",
      "  _warn_prf(average, modifier, msg_start, len(result))\n"
     ]
    },
    {
     "name": "stdout",
     "output_type": "stream",
     "text": [
      "iter 3 of 5 X_train shape torch.Size([210, 33])\n",
      "torch.Size([1, 128])\n",
      "iter 4 of 5 X_train shape torch.Size([210, 33])\n",
      "torch.Size([1, 128])\n",
      "iter 5 of 5 X_train shape torch.Size([210, 33])\n",
      "torch.Size([1, 128])\n",
      "params {'epochs': 100, 'masks_no': 100, 'mask_size': 10, 'target_size': 10, 'lr': 0.03, 'batch_size': 64}\n",
      "iter 1 of 5 X_train shape torch.Size([210, 33])\n",
      "torch.Size([1, 128])\n",
      "iter 2 of 5 X_train shape torch.Size([210, 33])\n",
      "torch.Size([1, 128])\n",
      "iter 3 of 5 X_train shape torch.Size([210, 33])\n",
      "torch.Size([1, 128])\n",
      "iter 4 of 5 X_train shape torch.Size([210, 33])\n",
      "torch.Size([1, 128])\n",
      "iter 5 of 5 X_train shape torch.Size([210, 33])\n",
      "torch.Size([1, 128])\n",
      "params {'epochs': 150, 'masks_no': 100, 'mask_size': 2, 'target_size': 20, 'lr': 0.003, 'batch_size': 32}\n",
      "iter 1 of 5 X_train shape torch.Size([210, 33])\n",
      "torch.Size([1, 128])\n",
      "iter 2 of 5 X_train shape torch.Size([210, 33])\n",
      "torch.Size([1, 128])\n",
      "iter 3 of 5 X_train shape torch.Size([210, 33])\n",
      "torch.Size([1, 128])\n",
      "iter 4 of 5 X_train shape torch.Size([210, 33])\n",
      "torch.Size([1, 128])\n",
      "iter 5 of 5 X_train shape torch.Size([210, 33])\n",
      "torch.Size([1, 128])\n",
      "params {'epochs': 150, 'masks_no': 20, 'mask_size': 15, 'target_size': 50, 'lr': 0.003, 'batch_size': 64}\n",
      "iter 1 of 5 X_train shape torch.Size([210, 33])\n",
      "torch.Size([1, 128])\n",
      "iter 2 of 5 X_train shape torch.Size([210, 33])\n",
      "torch.Size([1, 128])\n",
      "iter 3 of 5 X_train shape torch.Size([210, 33])\n",
      "torch.Size([1, 128])\n",
      "iter 4 of 5 X_train shape torch.Size([210, 33])\n",
      "torch.Size([1, 128])\n",
      "iter 5 of 5 X_train shape torch.Size([210, 33])\n",
      "torch.Size([1, 128])\n",
      "params {'epochs': 150, 'masks_no': 80, 'mask_size': 15, 'target_size': 10, 'lr': 0.003, 'batch_size': 64}\n",
      "iter 1 of 5 X_train shape torch.Size([210, 33])\n",
      "torch.Size([1, 128])\n",
      "iter 2 of 5 X_train shape torch.Size([210, 33])\n",
      "torch.Size([1, 128])\n",
      "iter 3 of 5 X_train shape torch.Size([210, 33])\n",
      "torch.Size([1, 128])\n",
      "iter 4 of 5 X_train shape torch.Size([210, 33])\n",
      "torch.Size([1, 128])\n",
      "iter 5 of 5 X_train shape torch.Size([210, 33])\n",
      "torch.Size([1, 128])\n",
      "params {'epochs': 150, 'masks_no': 50, 'mask_size': 2, 'target_size': 20, 'lr': 0.0003, 'batch_size': 64}\n",
      "iter 1 of 5 X_train shape torch.Size([210, 33])\n",
      "torch.Size([1, 128])\n",
      "iter 2 of 5 X_train shape torch.Size([210, 33])\n",
      "torch.Size([1, 128])\n",
      "iter 3 of 5 X_train shape torch.Size([210, 33])\n",
      "torch.Size([1, 128])\n",
      "iter 4 of 5 X_train shape torch.Size([210, 33])\n",
      "torch.Size([1, 128])\n",
      "iter 5 of 5 X_train shape torch.Size([210, 33])\n",
      "torch.Size([1, 128])\n",
      "====================== Summary ======================\n",
      "Mode              : Best f : Steps : Time            \n",
      "----------------  : ----   : ----  : ----            \n",
      "Initial solution  : 68.36  : 1     : 02:55 (m:s)     \n",
      "Random seeding    : 94.98  : 5     : 01:00:27 (h:m:s)\n",
      "Local sampling    : 94.58  : 3     : 23:34 (m:s)     \n",
      "----------------  : ----   : ----  : ----            \n",
      "Total             : 94.98  : 9     : 01:26:56 (h:m:s)\n",
      "=====================================================\n",
      "Ionosphere_network_hp_fn_{'epochs': 150, 'masks_no': 50, 'mask_size': 15, 'target_size': 20, 'lr': 0.003, 'batch_size': 64}\n"
     ]
    },
    {
     "data": {
      "text/plain": [
       "{'epochs': 150,\n",
       " 'masks_no': 50,\n",
       " 'mask_size': 15,\n",
       " 'target_size': 20,\n",
       " 'lr': 0.003,\n",
       " 'batch_size': 64}"
      ]
     },
     "execution_count": 26,
     "metadata": {},
     "output_type": "execute_result"
    },
    {
     "data": {
      "image/png": "[encoded data removed]",
      "text/plain": [
       "<Figure size 576x396 with 1 Axes>"
      ]
     },
     "metadata": {},
     "output_type": "display_data"
    }
   ],
   "source": [
    "\n",
    "param_grid = {\n",
    "    \"epochs\": pyhopper.choice([100, 150]),\n",
    "    \"masks_no\": pyhopper.choice([10, 20, 50, 80, 100, 150, 200]),\n",
    "    \"mask_size\": pyhopper.choice([2, 5, 10, 15, 20, 25]),\n",
    "    \"target_size\": pyhopper.choice([5, 10, 20, 50]),\n",
    "    \"lr\": pyhopper.choice([3e-5, 3e-4, 3e-3, 3e-2, 3e-1]),\n",
    "    \"batch_size\": pyhopper.choice([32, 64]),\n",
    "}\n",
    "#{'epochs': 100, 'masks_no': 10, 'mask_size': 2, 'target_size': 5, 'lr': 3e-05, 'batch_size': 32}\n",
    "hp_best_params = pyhopper_best_params(\n",
    "    network_hp_fn, param_grid, data=(X_train, y_train), train_size=train_max_size, time=\"90m\"\n",
    ")\n",
    "hp_best_params"
   ]
  },
  {
   "cell_type": "code",
   "execution_count": 27,
   "id": "1e32c64d",
   "metadata": {},
   "outputs": [
    {
     "name": "stdout",
     "output_type": "stream",
     "text": [
      "iter 1 of 10 X_train shape torch.Size([280, 33])\n",
      "torch.Size([1, 128])\n"
     ]
    },
    {
     "name": "stderr",
     "output_type": "stream",
     "text": [
      "100%|██████████| 150/150 [01:51<00:00,  1.35it/s]\n"
     ]
    },
    {
     "name": "stdout",
     "output_type": "stream",
     "text": [
      "iter 2 of 10 X_train shape torch.Size([280, 33])\n",
      "torch.Size([1, 128])\n"
     ]
    },
    {
     "name": "stderr",
     "output_type": "stream",
     "text": [
      "100%|██████████| 150/150 [01:51<00:00,  1.35it/s]\n"
     ]
    },
    {
     "name": "stdout",
     "output_type": "stream",
     "text": [
      "iter 3 of 10 X_train shape torch.Size([280, 33])\n",
      "torch.Size([1, 128])\n"
     ]
    },
    {
     "name": "stderr",
     "output_type": "stream",
     "text": [
      "100%|██████████| 150/150 [01:50<00:00,  1.35it/s]\n"
     ]
    },
    {
     "name": "stdout",
     "output_type": "stream",
     "text": [
      "iter 4 of 10 X_train shape torch.Size([280, 33])\n",
      "torch.Size([1, 128])\n"
     ]
    },
    {
     "name": "stderr",
     "output_type": "stream",
     "text": [
      "100%|██████████| 150/150 [01:50<00:00,  1.36it/s]\n"
     ]
    },
    {
     "name": "stdout",
     "output_type": "stream",
     "text": [
      "iter 5 of 10 X_train shape torch.Size([280, 33])\n",
      "torch.Size([1, 128])\n"
     ]
    },
    {
     "name": "stderr",
     "output_type": "stream",
     "text": [
      "100%|██████████| 150/150 [01:51<00:00,  1.35it/s]\n"
     ]
    },
    {
     "name": "stdout",
     "output_type": "stream",
     "text": [
      "iter 6 of 10 X_train shape torch.Size([280, 33])\n",
      "torch.Size([1, 128])\n"
     ]
    },
    {
     "name": "stderr",
     "output_type": "stream",
     "text": [
      "100%|██████████| 150/150 [01:51<00:00,  1.35it/s]\n"
     ]
    },
    {
     "name": "stdout",
     "output_type": "stream",
     "text": [
      "iter 7 of 10 X_train shape torch.Size([280, 33])\n",
      "torch.Size([1, 128])\n"
     ]
    },
    {
     "name": "stderr",
     "output_type": "stream",
     "text": [
      "100%|██████████| 150/150 [01:51<00:00,  1.35it/s]\n"
     ]
    },
    {
     "name": "stdout",
     "output_type": "stream",
     "text": [
      "iter 8 of 10 X_train shape torch.Size([280, 33])\n",
      "torch.Size([1, 128])\n"
     ]
    },
    {
     "name": "stderr",
     "output_type": "stream",
     "text": [
      "100%|██████████| 150/150 [01:50<00:00,  1.35it/s]\n"
     ]
    },
    {
     "name": "stdout",
     "output_type": "stream",
     "text": [
      "iter 9 of 10 X_train shape torch.Size([280, 33])\n",
      "torch.Size([1, 128])\n"
     ]
    },
    {
     "name": "stderr",
     "output_type": "stream",
     "text": [
      "100%|██████████| 150/150 [01:49<00:00,  1.36it/s]\n"
     ]
    },
    {
     "name": "stdout",
     "output_type": "stream",
     "text": [
      "iter 10 of 10 X_train shape torch.Size([280, 33])\n",
      "torch.Size([1, 128])\n"
     ]
    },
    {
     "name": "stderr",
     "output_type": "stream",
     "text": [
      "100%|██████████| 150/150 [01:49<00:00,  1.37it/s]\n"
     ]
    },
    {
     "data": {
      "image/png": "[encoded data removed]",
      "text/plain": [
       "<Figure size 576x396 with 1 Axes>"
      ]
     },
     "metadata": {},
     "output_type": "display_data"
    }
   ],
   "source": [
    "epochs = hp_best_params['epochs']\n",
    "masks_no = hp_best_params['masks_no']\n",
    "mask_size = hp_best_params['mask_size']\n",
    "target_size = hp_best_params['target_size']\n",
    "\n",
    "\n",
    "hyper_results = test_model(network_hp_fn(epochs, masks_no, mask_size, target_size, verbose=True),\n",
    "                    (X, y),\n",
    "                    eval_max_size,\n",
    "                    None, 10)"
   ]
  },
  {
   "cell_type": "code",
   "execution_count": 28,
   "id": "e9015d72",
   "metadata": {},
   "outputs": [
    {
     "name": "stdout",
     "output_type": "stream",
     "text": [
      "280: 96.34 ~ 1.51, (max: 98.59)\n"
     ]
    }
   ],
   "source": [
    "res = hyper_results[hyper_results[\"Class\"]==\"Total\"].reset_index(drop=True)[\"Metric\"]\n",
    "print(f\"{eval_max_size}: {res.mean():.2f} ~ {res.std():.2f}, (max: {res.max():.2f})\")"
   ]
  },
  {
   "cell_type": "code",
   "execution_count": 29,
   "id": "f99e91c1",
   "metadata": {},
   "outputs": [],
   "source": [
    "d[DATA] = hyper_results.groupby(\"Class\")['Metric'].agg(['mean', 'std', 'max'])"
   ]
  },
  {
   "cell_type": "markdown",
   "id": "c607909b",
   "metadata": {},
   "source": [
    "# Libras"
   ]
  },
  {
   "cell_type": "code",
   "execution_count": 30,
   "id": "627c9491",
   "metadata": {},
   "outputs": [],
   "source": [
    "DATA = \"Libras\""
   ]
  },
  {
   "cell_type": "code",
   "execution_count": 31,
   "id": "11c6da53",
   "metadata": {},
   "outputs": [],
   "source": [
    "if DATA == \"Libras\":\n",
    "    libras = pd.read_csv('https://archive.ics.uci.edu/ml/machine-learning-databases/libras/movement_libras.data', header=None)\n",
    "    X = libras.values[:, :-1].astype(float)\n",
    "    y = libras.values[:, -1].astype(int)\n",
    "    y = LabelEncoder().fit_transform(y).astype(int)\n",
    "    #(360, 90) 15\n",
    "    GS_METRIC = \"balanced_accuracy\""
   ]
  },
  {
   "cell_type": "code",
   "execution_count": 32,
   "id": "7fd30dd1",
   "metadata": {},
   "outputs": [
    {
     "name": "stdout",
     "output_type": "stream",
     "text": [
      "{0: 24, 1: 24, 2: 24, 3: 24, 4: 24, 5: 24, 6: 24, 7: 24, 8: 24, 9: 24, 10: 24, 11: 24, 12: 24, 13: 24, 14: 24}\n",
      "n_classes 15\n",
      "n_features 90\n"
     ]
    }
   ],
   "source": [
    "n_classes = len(np.unique(y))\n",
    "n_features = X.shape[1]\n",
    "unique, counts = np.unique(y, return_counts=True)\n",
    "\n",
    "print(dict(zip(unique, counts)))\n",
    "\n",
    "print('n_classes', n_classes)\n",
    "print('n_features', n_features)"
   ]
  },
  {
   "cell_type": "code",
   "execution_count": 33,
   "id": "9d179f3b",
   "metadata": {},
   "outputs": [
    {
     "name": "stdout",
     "output_type": "stream",
     "text": [
      "train_max_size 216\n",
      "eval_max_size 288\n"
     ]
    }
   ],
   "source": [
    "X_train, X_test, y_train, y_test = train_test_split(X, y, train_size=0.8, stratify=y)\n",
    "\n",
    "eval_max_size = int(len(X_train))\n",
    "train_max_size = int(len(X_train) * 0.75)\n",
    "print('train_max_size', train_max_size)\n",
    "print('eval_max_size', eval_max_size)"
   ]
  },
  {
   "cell_type": "code",
   "execution_count": 34,
   "id": "9e4d6669",
   "metadata": {},
   "outputs": [],
   "source": [
    "def network_hp_fn(epochs=150, masks_no=100, mask_size=100, target_size=100, lr=3e-4, batch_size=64):\n",
    "    def _inner():\n",
    "        hypernet = Hypernetwork(\n",
    "                        target_architecture=[(mask_size, target_size), (target_size, n_classes)],\n",
    "                        test_nodes=masks_no,\n",
    "                        architecture=torch.nn.Sequential(torch.nn.Linear(n_features, 128), \n",
    "                            torch.nn.ReLU(),\n",
    "                            torch.nn.Linear(128, 256),\n",
    "                            torch.nn.ReLU(),\n",
    "                            torch.nn.Dropout(),\n",
    "                            torch.nn.Linear(256, 256),\n",
    "                            torch.nn.ReLU(),\n",
    "                        ),\n",
    "                        mode=TrainingModes.CARTHESIAN,\n",
    "                    ).to(DEVICE)    \n",
    "        hypernet = hypernet.train()\n",
    "\n",
    "        network = HypernetworkSklearnInterface(hypernet, device=DEVICE, epochs=epochs, batch_size=batch_size, verbose=False, lr=3e-4)\n",
    "        return network\n",
    "    return _inner"
   ]
  },
  {
   "cell_type": "code",
   "execution_count": 35,
   "id": "3ab1f928",
   "metadata": {},
   "outputs": [
    {
     "name": "stdout",
     "output_type": "stream",
     "text": [
      "pyhopper (288, 90) (288,) 216\n"
     ]
    },
    {
     "data": {
      "application/vnd.jupyter.widget-view+json": {
       "model_id": "ce3707980e0b46049ac1ebaf428946ac",
       "version_major": 2,
       "version_minor": 0
      },
      "text/plain": [
       "  0%|          | [00:00<?]"
      ]
     },
     "metadata": {},
     "output_type": "display_data"
    },
    {
     "name": "stdout",
     "output_type": "stream",
     "text": [
      "Search is scheduled for 02:00:00 (h:m:s)\n",
      "params {'epochs': 100, 'masks_no': 10, 'mask_size': 5, 'target_size': 5, 'lr': 3e-05, 'batch_size': 32}\n",
      "iter 1 of 5 X_train shape torch.Size([216, 90])\n",
      "torch.Size([1, 256])\n",
      "iter 2 of 5 X_train shape torch.Size([216, 90])\n",
      "torch.Size([1, 256])\n",
      "iter 3 of 5 X_train shape torch.Size([216, 90])\n",
      "torch.Size([1, 256])\n",
      "iter 4 of 5 X_train shape torch.Size([216, 90])\n",
      "torch.Size([1, 256])\n",
      "iter 5 of 5 X_train shape torch.Size([216, 90])\n",
      "torch.Size([1, 256])\n",
      "params {'epochs': 100, 'masks_no': 80, 'mask_size': 70, 'target_size': 100, 'lr': 0.0003, 'batch_size': 32}\n",
      "iter 1 of 5 X_train shape torch.Size([216, 90])\n",
      "torch.Size([1, 256])\n",
      "iter 2 of 5 X_train shape torch.Size([216, 90])\n",
      "torch.Size([1, 256])\n",
      "iter 3 of 5 X_train shape torch.Size([216, 90])\n",
      "torch.Size([1, 256])\n",
      "iter 4 of 5 X_train shape torch.Size([216, 90])\n",
      "torch.Size([1, 256])\n",
      "iter 5 of 5 X_train shape torch.Size([216, 90])\n",
      "torch.Size([1, 256])\n",
      "params {'epochs': 150, 'masks_no': 200, 'mask_size': 10, 'target_size': 100, 'lr': 0.03, 'batch_size': 64}\n",
      "iter 1 of 5 X_train shape torch.Size([216, 90])\n",
      "torch.Size([1, 256])\n",
      "iter 2 of 5 X_train shape torch.Size([216, 90])\n",
      "torch.Size([1, 256])\n",
      "iter 3 of 5 X_train shape torch.Size([216, 90])\n",
      "torch.Size([1, 256])\n",
      "iter 4 of 5 X_train shape torch.Size([216, 90])\n",
      "torch.Size([1, 256])\n",
      "iter 5 of 5 X_train shape torch.Size([216, 90])\n",
      "torch.Size([1, 256])\n",
      "params {'epochs': 100, 'masks_no': 10, 'mask_size': 15, 'target_size': 50, 'lr': 3e-05, 'batch_size': 32}\n",
      "iter 1 of 5 X_train shape torch.Size([216, 90])\n",
      "torch.Size([1, 256])\n",
      "iter 2 of 5 X_train shape torch.Size([216, 90])\n",
      "torch.Size([1, 256])\n",
      "iter 3 of 5 X_train shape torch.Size([216, 90])\n",
      "torch.Size([1, 256])\n",
      "iter 4 of 5 X_train shape torch.Size([216, 90])\n",
      "torch.Size([1, 256])\n",
      "iter 5 of 5 X_train shape torch.Size([216, 90])\n",
      "torch.Size([1, 256])\n",
      "params {'epochs': 100, 'masks_no': 20, 'mask_size': 10, 'target_size': 10, 'lr': 3e-05, 'batch_size': 32}\n",
      "iter 1 of 5 X_train shape torch.Size([216, 90])\n",
      "torch.Size([1, 256])\n",
      "iter 2 of 5 X_train shape torch.Size([216, 90])\n",
      "torch.Size([1, 256])\n",
      "iter 3 of 5 X_train shape torch.Size([216, 90])\n",
      "torch.Size([1, 256])\n",
      "iter 4 of 5 X_train shape torch.Size([216, 90])\n",
      "torch.Size([1, 256])\n",
      "iter 5 of 5 X_train shape torch.Size([216, 90])\n",
      "torch.Size([1, 256])\n",
      "params {'epochs': 100, 'masks_no': 20, 'mask_size': 50, 'target_size': 150, 'lr': 0.3, 'batch_size': 32}\n",
      "iter 1 of 5 X_train shape torch.Size([216, 90])\n",
      "torch.Size([1, 256])\n",
      "iter 2 of 5 X_train shape torch.Size([216, 90])\n",
      "torch.Size([1, 256])\n",
      "iter 3 of 5 X_train shape torch.Size([216, 90])\n",
      "torch.Size([1, 256])\n",
      "iter 4 of 5 X_train shape torch.Size([216, 90])\n",
      "torch.Size([1, 256])\n",
      "iter 5 of 5 X_train shape torch.Size([216, 90])\n",
      "torch.Size([1, 256])\n",
      "params {'epochs': 150, 'masks_no': 50, 'mask_size': 70, 'target_size': 20, 'lr': 3e-05, 'batch_size': 32}\n",
      "iter 1 of 5 X_train shape torch.Size([216, 90])\n",
      "torch.Size([1, 256])\n",
      "iter 2 of 5 X_train shape torch.Size([216, 90])\n",
      "torch.Size([1, 256])\n",
      "iter 3 of 5 X_train shape torch.Size([216, 90])\n",
      "torch.Size([1, 256])\n",
      "iter 4 of 5 X_train shape torch.Size([216, 90])\n",
      "torch.Size([1, 256])\n",
      "iter 5 of 5 X_train shape torch.Size([216, 90])\n",
      "torch.Size([1, 256])\n",
      "params {'epochs': 150, 'masks_no': 150, 'mask_size': 70, 'target_size': 100, 'lr': 0.03, 'batch_size': 64}\n",
      "iter 1 of 5 X_train shape torch.Size([216, 90])\n",
      "torch.Size([1, 256])\n",
      "iter 2 of 5 X_train shape torch.Size([216, 90])\n",
      "torch.Size([1, 256])\n",
      "iter 3 of 5 X_train shape torch.Size([216, 90])\n",
      "torch.Size([1, 256])\n",
      "iter 4 of 5 X_train shape torch.Size([216, 90])\n",
      "torch.Size([1, 256])\n",
      "iter 5 of 5 X_train shape torch.Size([216, 90])\n",
      "torch.Size([1, 256])\n",
      "params {'epochs': 100, 'masks_no': 200, 'mask_size': 10, 'target_size': 20, 'lr': 0.3, 'batch_size': 64}\n",
      "iter 1 of 5 X_train shape torch.Size([216, 90])\n",
      "torch.Size([1, 256])\n",
      "iter 2 of 5 X_train shape torch.Size([216, 90])\n",
      "torch.Size([1, 256])\n",
      "iter 3 of 5 X_train shape torch.Size([216, 90])\n",
      "torch.Size([1, 256])\n",
      "iter 4 of 5 X_train shape torch.Size([216, 90])\n",
      "torch.Size([1, 256])\n",
      "iter 5 of 5 X_train shape torch.Size([216, 90])\n",
      "torch.Size([1, 256])\n",
      "params {'epochs': 150, 'masks_no': 10, 'mask_size': 10, 'target_size': 100, 'lr': 0.03, 'batch_size': 64}\n",
      "iter 1 of 5 X_train shape torch.Size([216, 90])\n",
      "torch.Size([1, 256])\n",
      "iter 2 of 5 X_train shape torch.Size([216, 90])\n",
      "torch.Size([1, 256])\n",
      "iter 3 of 5 X_train shape torch.Size([216, 90])\n",
      "torch.Size([1, 256])\n",
      "iter 4 of 5 X_train shape torch.Size([216, 90])\n",
      "torch.Size([1, 256])\n",
      "iter 5 of 5 X_train shape torch.Size([216, 90])\n",
      "torch.Size([1, 256])\n",
      "params {'epochs': 150, 'masks_no': 200, 'mask_size': 25, 'target_size': 100, 'lr': 0.3, 'batch_size': 64}\n",
      "iter 1 of 5 X_train shape torch.Size([216, 90])\n",
      "torch.Size([1, 256])\n",
      "iter 2 of 5 X_train shape torch.Size([216, 90])\n",
      "torch.Size([1, 256])\n",
      "iter 3 of 5 X_train shape torch.Size([216, 90])\n",
      "torch.Size([1, 256])\n",
      "iter 4 of 5 X_train shape torch.Size([216, 90])\n",
      "torch.Size([1, 256])\n",
      "iter 5 of 5 X_train shape torch.Size([216, 90])\n",
      "torch.Size([1, 256])\n",
      "====================== Summary ======================\n",
      "Mode              : Best f : Steps : Time            \n",
      "----------------  : ----   : ----  : ----            \n",
      "Initial solution  : 76.8   : 1     : 02:56 (m:s)     \n",
      "Random seeding    : 87.8   : 6     : 59:31 (m:s)     \n",
      "Local sampling    : 87.13  : 4     : 01:02:11 (h:m:s)\n",
      "----------------  : ----   : ----  : ----            \n",
      "Total             : 87.8   : 11    : 02:04:38 (h:m:s)\n",
      "=====================================================\n",
      "Libras_network_hp_fn_{'epochs': 150, 'masks_no': 200, 'mask_size': 10, 'target_size': 100, 'lr': 0.03, 'batch_size': 64}\n"
     ]
    },
    {
     "data": {
      "text/plain": [
       "{'epochs': 150,\n",
       " 'masks_no': 200,\n",
       " 'mask_size': 10,\n",
       " 'target_size': 100,\n",
       " 'lr': 0.03,\n",
       " 'batch_size': 64}"
      ]
     },
     "execution_count": 35,
     "metadata": {},
     "output_type": "execute_result"
    },
    {
     "data": {
      "image/png": "[encoded data removed]",
      "text/plain": [
       "<Figure size 576x396 with 1 Axes>"
      ]
     },
     "metadata": {},
     "output_type": "display_data"
    }
   ],
   "source": [
    "param_grid = {\n",
    "    \"epochs\": pyhopper.choice([100, 150]),\n",
    "    \"masks_no\": pyhopper.choice([10, 20, 50, 80, 100, 150, 200]),\n",
    "    \"mask_size\": pyhopper.choice([5, 10, 15, 25, 50, 70]),\n",
    "    \"target_size\": pyhopper.choice([5, 10, 20, 50, 100, 150]),\n",
    "    \"lr\": pyhopper.choice([3e-5, 3e-4, 3e-3, 3e-2, 3e-1]),\n",
    "    \"batch_size\": pyhopper.choice([32, 64]),\n",
    "}\n",
    "\n",
    "hp_best_params = pyhopper_best_params(\n",
    "    network_hp_fn, param_grid, data=(X_train, y_train), train_size=train_max_size, time=\"120m\"\n",
    ")\n",
    "hp_best_params"
   ]
  },
  {
   "cell_type": "code",
   "execution_count": 36,
   "id": "0c6b1165",
   "metadata": {},
   "outputs": [
    {
     "name": "stdout",
     "output_type": "stream",
     "text": [
      "iter 1 of 10 X_train shape torch.Size([288, 90])\n",
      "torch.Size([1, 256])\n",
      "iter 2 of 10 X_train shape torch.Size([288, 90])\n",
      "torch.Size([1, 256])\n",
      "iter 3 of 10 X_train shape torch.Size([288, 90])\n",
      "torch.Size([1, 256])\n",
      "iter 4 of 10 X_train shape torch.Size([288, 90])\n",
      "torch.Size([1, 256])\n",
      "iter 5 of 10 X_train shape torch.Size([288, 90])\n",
      "torch.Size([1, 256])\n",
      "iter 6 of 10 X_train shape torch.Size([288, 90])\n",
      "torch.Size([1, 256])\n",
      "iter 7 of 10 X_train shape torch.Size([288, 90])\n",
      "torch.Size([1, 256])\n",
      "iter 8 of 10 X_train shape torch.Size([288, 90])\n",
      "torch.Size([1, 256])\n",
      "iter 9 of 10 X_train shape torch.Size([288, 90])\n",
      "torch.Size([1, 256])\n",
      "iter 10 of 10 X_train shape torch.Size([288, 90])\n",
      "torch.Size([1, 256])\n"
     ]
    },
    {
     "data": {
      "image/png": "[encoded data removed]",
      "text/plain": [
       "<Figure size 576x396 with 1 Axes>"
      ]
     },
     "metadata": {},
     "output_type": "display_data"
    }
   ],
   "source": [
    "epochs = hp_best_params['epochs']\n",
    "masks_no = hp_best_params['masks_no']\n",
    "mask_size = hp_best_params['mask_size']\n",
    "target_size = hp_best_params['target_size']\n",
    "\n",
    "hyper_results = test_model(network_hp_fn(epochs, masks_no, mask_size, target_size),\n",
    "                    (X, y),\n",
    "                    eval_max_size,\n",
    "                    None, 10)"
   ]
  },
  {
   "cell_type": "code",
   "execution_count": 37,
   "id": "d7f87c59",
   "metadata": {},
   "outputs": [
    {
     "name": "stdout",
     "output_type": "stream",
     "text": [
      "288: 89.86 ~ 3.14, (max: 94.44)\n"
     ]
    }
   ],
   "source": [
    "res = hyper_results[hyper_results[\"Class\"]==\"Total\"].reset_index(drop=True)[\"Metric\"]\n",
    "print(f\"{eval_max_size}: {res.mean():.2f} ~ {res.std():.2f}, (max: {res.max():.2f})\")"
   ]
  },
  {
   "cell_type": "code",
   "execution_count": 38,
   "id": "6911a9a7",
   "metadata": {},
   "outputs": [],
   "source": [
    "d[DATA] = hyper_results.groupby(\"Class\")['Metric'].agg(['mean', 'std', 'max'])"
   ]
  },
  {
   "cell_type": "code",
   "execution_count": null,
   "id": "b34aa508",
   "metadata": {},
   "outputs": [],
   "source": []
  },
  {
   "cell_type": "markdown",
   "id": "3aa8a833",
   "metadata": {},
   "source": [
    "# Lymphography"
   ]
  },
  {
   "cell_type": "code",
   "execution_count": 39,
   "id": "2e586850",
   "metadata": {},
   "outputs": [],
   "source": [
    "DATA = \"Lymphography\""
   ]
  },
  {
   "cell_type": "code",
   "execution_count": 40,
   "id": "3f1ea21d",
   "metadata": {},
   "outputs": [],
   "source": [
    "if DATA == \"Lymphography\":\n",
    "    lymphography = pd.read_csv('https://archive.ics.uci.edu/ml/machine-learning-databases/lymphography/lymphography.data', header=None)\n",
    "    X = lymphography.values[:, 1:].astype(float)\n",
    "    y = lymphography.values[:, 0].astype(int)\n",
    "    y = LabelEncoder().fit_transform(y).astype(int)\n",
    "    #(148, 18) 4\n",
    "    GS_METRIC = \"balanced_accuracy\""
   ]
  },
  {
   "cell_type": "code",
   "execution_count": 41,
   "id": "c18b54e7",
   "metadata": {},
   "outputs": [
    {
     "name": "stdout",
     "output_type": "stream",
     "text": [
      "{0: 2, 1: 81, 2: 61, 3: 4}\n",
      "n_classes 4\n",
      "n_features 18\n"
     ]
    }
   ],
   "source": [
    "n_classes = len(np.unique(y))\n",
    "n_features = X.shape[1]\n",
    "unique, counts = np.unique(y, return_counts=True)\n",
    "\n",
    "print(dict(zip(unique, counts)))\n",
    "\n",
    "print('n_classes', n_classes)\n",
    "print('n_features', n_features)"
   ]
  },
  {
   "cell_type": "code",
   "execution_count": 42,
   "id": "58905df7",
   "metadata": {},
   "outputs": [
    {
     "name": "stdout",
     "output_type": "stream",
     "text": [
      "train_max_size 88\n",
      "eval_max_size 118\n"
     ]
    }
   ],
   "source": [
    "X_train, X_test, y_train, y_test = train_test_split(X, y, train_size=0.8, stratify=y)\n",
    "\n",
    "eval_max_size = int(len(X_train))\n",
    "train_max_size = int(len(X_train) * 0.75)\n",
    "print('train_max_size', train_max_size)\n",
    "print('eval_max_size', eval_max_size)"
   ]
  },
  {
   "cell_type": "code",
   "execution_count": 43,
   "id": "81461698",
   "metadata": {},
   "outputs": [],
   "source": [
    "def network_hp_fn(epochs=150, masks_no=100, mask_size=100, target_size=100, lr=3e-4, batch_size=64):\n",
    "    def _inner():\n",
    "        hypernet = Hypernetwork(\n",
    "                        target_architecture=[(mask_size, target_size), (target_size, n_classes)],\n",
    "                        test_nodes=masks_no,\n",
    "                        architecture=torch.nn.Sequential(torch.nn.Linear(n_features, 64), \n",
    "                            torch.nn.ReLU(),\n",
    "                            torch.nn.Linear(64, 128),\n",
    "                            torch.nn.ReLU(),\n",
    "                            torch.nn.Dropout(),\n",
    "                            torch.nn.Linear(128, 128),\n",
    "                            torch.nn.ReLU(),\n",
    "                        ),\n",
    "                        mode=TrainingModes.CARTHESIAN,\n",
    "                    ).to(DEVICE)    \n",
    "        hypernet = hypernet.train()\n",
    "\n",
    "        network = HypernetworkSklearnInterface(hypernet, device=DEVICE, epochs=epochs, batch_size=batch_size, verbose=False, lr=3e-4)\n",
    "        return network\n",
    "    return _inner"
   ]
  },
  {
   "cell_type": "code",
   "execution_count": 44,
   "id": "1f2370ed",
   "metadata": {},
   "outputs": [
    {
     "name": "stdout",
     "output_type": "stream",
     "text": [
      "pyhopper (118, 18) (118,) 88\n"
     ]
    },
    {
     "data": {
      "application/vnd.jupyter.widget-view+json": {
       "model_id": "62352723aeb44a8abb7804eec9b04792",
       "version_major": 2,
       "version_minor": 0
      },
      "text/plain": [
       "  0%|          | [00:00<?]"
      ]
     },
     "metadata": {},
     "output_type": "display_data"
    },
    {
     "name": "stdout",
     "output_type": "stream",
     "text": [
      "Search is scheduled for 03:00:00 (h:m:s)\n",
      "params {'epochs': 100, 'masks_no': 10, 'mask_size': 2, 'target_size': 5, 'lr': 3e-05, 'batch_size': 16}\n",
      "iter 1 of 5 X_train shape torch.Size([88, 18])\n",
      "torch.Size([1, 128])\n",
      "iter 2 of 5 X_train shape torch.Size([88, 18])\n",
      "torch.Size([1, 128])\n",
      "iter 3 of 5 X_train shape torch.Size([88, 18])\n",
      "torch.Size([1, 128])\n",
      "iter 4 of 5 X_train shape torch.Size([88, 18])\n",
      "torch.Size([1, 128])\n",
      "iter 5 of 5 X_train shape torch.Size([88, 18])\n",
      "torch.Size([1, 128])\n",
      "params {'epochs': 150, 'masks_no': 10, 'mask_size': 5, 'target_size': 20, 'lr': 0.0003, 'batch_size': 16}\n",
      "iter 1 of 5 X_train shape torch.Size([88, 18])\n",
      "torch.Size([1, 128])\n",
      "iter 2 of 5 X_train shape torch.Size([88, 18])\n",
      "torch.Size([1, 128])\n",
      "iter 3 of 5 X_train shape torch.Size([88, 18])\n",
      "torch.Size([1, 128])\n",
      "iter 4 of 5 X_train shape torch.Size([88, 18])\n",
      "torch.Size([1, 128])\n",
      "iter 5 of 5 X_train shape torch.Size([88, 18])\n",
      "torch.Size([1, 128])\n",
      "params {'epochs': 150, 'masks_no': 100, 'mask_size': 5, 'target_size': 50, 'lr': 0.03, 'batch_size': 16}\n",
      "iter 1 of 5 X_train shape torch.Size([88, 18])\n",
      "torch.Size([1, 128])\n",
      "iter 2 of 5 X_train shape torch.Size([88, 18])\n",
      "torch.Size([1, 128])\n",
      "iter 3 of 5 X_train shape torch.Size([88, 18])\n",
      "torch.Size([1, 128])\n",
      "iter 4 of 5 X_train shape torch.Size([88, 18])\n",
      "torch.Size([1, 128])\n",
      "iter 5 of 5 X_train shape torch.Size([88, 18])\n",
      "torch.Size([1, 128])\n",
      "params {'epochs': 100, 'masks_no': 10, 'mask_size': 7, 'target_size': 50, 'lr': 3e-05, 'batch_size': 64}\n",
      "iter 1 of 5 X_train shape torch.Size([88, 18])\n",
      "torch.Size([1, 128])\n",
      "iter 2 of 5 X_train shape torch.Size([88, 18])\n",
      "torch.Size([1, 128])\n",
      "iter 3 of 5 X_train shape torch.Size([88, 18])\n",
      "torch.Size([1, 128])\n",
      "iter 4 of 5 X_train shape torch.Size([88, 18])\n",
      "torch.Size([1, 128])\n",
      "iter 5 of 5 X_train shape torch.Size([88, 18])\n",
      "torch.Size([1, 128])\n",
      "params {'epochs': 150, 'masks_no': 20, 'mask_size': 7, 'target_size': 50, 'lr': 0.03, 'batch_size': 16}\n",
      "iter 1 of 5 X_train shape torch.Size([88, 18])\n",
      "torch.Size([1, 128])\n",
      "iter 2 of 5 X_train shape torch.Size([88, 18])\n",
      "torch.Size([1, 128])\n",
      "iter 3 of 5 X_train shape torch.Size([88, 18])\n",
      "torch.Size([1, 128])\n",
      "iter 4 of 5 X_train shape torch.Size([88, 18])\n",
      "torch.Size([1, 128])\n",
      "iter 5 of 5 X_train shape torch.Size([88, 18])\n",
      "torch.Size([1, 128])\n",
      "params {'epochs': 150, 'masks_no': 20, 'mask_size': 2, 'target_size': 50, 'lr': 0.3, 'batch_size': 32}\n",
      "iter 1 of 5 X_train shape torch.Size([88, 18])\n",
      "torch.Size([1, 128])\n",
      "iter 2 of 5 X_train shape torch.Size([88, 18])\n",
      "torch.Size([1, 128])\n",
      "iter 3 of 5 X_train shape torch.Size([88, 18])\n",
      "torch.Size([1, 128])\n",
      "iter 4 of 5 X_train shape torch.Size([88, 18])\n",
      "torch.Size([1, 128])\n",
      "iter 5 of 5 X_train shape torch.Size([88, 18])\n",
      "torch.Size([1, 128])\n",
      "params {'epochs': 100, 'masks_no': 50, 'mask_size': 18, 'target_size': 10, 'lr': 0.3, 'batch_size': 64}\n",
      "iter 1 of 5 X_train shape torch.Size([88, 18])\n",
      "torch.Size([1, 128])\n",
      "iter 2 of 5 X_train shape torch.Size([88, 18])\n",
      "torch.Size([1, 128])\n",
      "iter 3 of 5 X_train shape torch.Size([88, 18])\n",
      "torch.Size([1, 128])\n",
      "iter 4 of 5 X_train shape torch.Size([88, 18])\n",
      "torch.Size([1, 128])\n",
      "iter 5 of 5 X_train shape torch.Size([88, 18])\n",
      "torch.Size([1, 128])\n",
      "params {'epochs': 150, 'masks_no': 100, 'mask_size': 7, 'target_size': 50, 'lr': 0.3, 'batch_size': 32}\n",
      "iter 1 of 5 X_train shape torch.Size([88, 18])\n",
      "torch.Size([1, 128])\n",
      "iter 2 of 5 X_train shape torch.Size([88, 18])\n",
      "torch.Size([1, 128])\n",
      "iter 3 of 5 X_train shape torch.Size([88, 18])\n",
      "torch.Size([1, 128])\n",
      "iter 4 of 5 X_train shape torch.Size([88, 18])\n",
      "torch.Size([1, 128])\n",
      "iter 5 of 5 X_train shape torch.Size([88, 18])\n",
      "torch.Size([1, 128])\n",
      "params {'epochs': 100, 'masks_no': 100, 'mask_size': 18, 'target_size': 10, 'lr': 3e-05, 'batch_size': 16}\n",
      "iter 1 of 5 X_train shape torch.Size([88, 18])\n",
      "torch.Size([1, 128])\n",
      "iter 2 of 5 X_train shape torch.Size([88, 18])\n",
      "torch.Size([1, 128])\n",
      "iter 3 of 5 X_train shape torch.Size([88, 18])\n",
      "torch.Size([1, 128])\n",
      "iter 4 of 5 X_train shape torch.Size([88, 18])\n",
      "torch.Size([1, 128])\n",
      "iter 5 of 5 X_train shape torch.Size([88, 18])\n",
      "torch.Size([1, 128])\n",
      "params {'epochs': 150, 'masks_no': 50, 'mask_size': 15, 'target_size': 50, 'lr': 3e-05, 'batch_size': 64}\n",
      "iter 1 of 5 X_train shape torch.Size([88, 18])\n",
      "torch.Size([1, 128])\n",
      "iter 2 of 5 X_train shape torch.Size([88, 18])\n",
      "torch.Size([1, 128])\n",
      "iter 3 of 5 X_train shape torch.Size([88, 18])\n",
      "torch.Size([1, 128])\n",
      "iter 4 of 5 X_train shape torch.Size([88, 18])\n",
      "torch.Size([1, 128])\n",
      "iter 5 of 5 X_train shape torch.Size([88, 18])\n",
      "torch.Size([1, 128])\n",
      "params {'epochs': 150, 'masks_no': 20, 'mask_size': 10, 'target_size': 10, 'lr': 0.0003, 'batch_size': 16}\n",
      "iter 1 of 5 X_train shape torch.Size([88, 18])\n",
      "torch.Size([1, 128])\n",
      "iter 2 of 5 X_train shape torch.Size([88, 18])\n",
      "torch.Size([1, 128])\n",
      "iter 3 of 5 X_train shape torch.Size([88, 18])\n",
      "torch.Size([1, 128])\n",
      "iter 4 of 5 X_train shape torch.Size([88, 18])\n",
      "torch.Size([1, 128])\n",
      "iter 5 of 5 X_train shape torch.Size([88, 18])\n",
      "torch.Size([1, 128])\n",
      "params {'epochs': 150, 'masks_no': 10, 'mask_size': 15, 'target_size': 20, 'lr': 0.03, 'batch_size': 32}\n",
      "iter 1 of 5 X_train shape torch.Size([88, 18])\n",
      "torch.Size([1, 128])\n",
      "iter 2 of 5 X_train shape torch.Size([88, 18])\n",
      "torch.Size([1, 128])\n",
      "iter 3 of 5 X_train shape torch.Size([88, 18])\n",
      "torch.Size([1, 128])\n",
      "iter 4 of 5 X_train shape torch.Size([88, 18])\n",
      "torch.Size([1, 128])\n",
      "iter 5 of 5 X_train shape torch.Size([88, 18])\n",
      "torch.Size([1, 128])\n",
      "params {'epochs': 100, 'masks_no': 20, 'mask_size': 15, 'target_size': 5, 'lr': 0.03, 'batch_size': 16}\n",
      "iter 1 of 5 X_train shape torch.Size([88, 18])\n",
      "torch.Size([1, 128])\n",
      "iter 2 of 5 X_train shape torch.Size([88, 18])\n",
      "torch.Size([1, 128])\n",
      "iter 3 of 5 X_train shape torch.Size([88, 18])\n",
      "torch.Size([1, 128])\n",
      "iter 4 of 5 X_train shape torch.Size([88, 18])\n",
      "torch.Size([1, 128])\n",
      "iter 5 of 5 X_train shape torch.Size([88, 18])\n",
      "torch.Size([1, 128])\n",
      "params {'epochs': 100, 'masks_no': 200, 'mask_size': 15, 'target_size': 5, 'lr': 0.003, 'batch_size': 32}\n",
      "iter 1 of 5 X_train shape torch.Size([88, 18])\n",
      "torch.Size([1, 128])\n",
      "iter 2 of 5 X_train shape torch.Size([88, 18])\n",
      "torch.Size([1, 128])\n",
      "iter 3 of 5 X_train shape torch.Size([88, 18])\n",
      "torch.Size([1, 128])\n",
      "iter 4 of 5 X_train shape torch.Size([88, 18])\n",
      "torch.Size([1, 128])\n",
      "iter 5 of 5 X_train shape torch.Size([88, 18])\n",
      "torch.Size([1, 128])\n",
      "params {'epochs': 100, 'masks_no': 10, 'mask_size': 10, 'target_size': 50, 'lr': 0.3, 'batch_size': 64}\n",
      "iter 1 of 5 X_train shape torch.Size([88, 18])\n",
      "torch.Size([1, 128])\n",
      "iter 2 of 5 X_train shape torch.Size([88, 18])\n",
      "torch.Size([1, 128])\n",
      "iter 3 of 5 X_train shape torch.Size([88, 18])\n",
      "torch.Size([1, 128])\n",
      "iter 4 of 5 X_train shape torch.Size([88, 18])\n",
      "torch.Size([1, 128])\n",
      "iter 5 of 5 X_train shape torch.Size([88, 18])\n",
      "torch.Size([1, 128])\n",
      "params {'epochs': 150, 'masks_no': 200, 'mask_size': 7, 'target_size': 10, 'lr': 3e-05, 'batch_size': 64}\n",
      "iter 1 of 5 X_train shape torch.Size([88, 18])\n",
      "torch.Size([1, 128])\n",
      "iter 2 of 5 X_train shape torch.Size([88, 18])\n",
      "torch.Size([1, 128])\n",
      "iter 3 of 5 X_train shape torch.Size([88, 18])\n",
      "torch.Size([1, 128])\n",
      "iter 4 of 5 X_train shape torch.Size([88, 18])\n",
      "torch.Size([1, 128])\n",
      "iter 5 of 5 X_train shape torch.Size([88, 18])\n",
      "torch.Size([1, 128])\n",
      "params {'epochs': 100, 'masks_no': 10, 'mask_size': 5, 'target_size': 50, 'lr': 0.03, 'batch_size': 64}\n",
      "iter 1 of 5 X_train shape torch.Size([88, 18])\n",
      "torch.Size([1, 128])\n",
      "iter 2 of 5 X_train shape torch.Size([88, 18])\n",
      "torch.Size([1, 128])\n",
      "iter 3 of 5 X_train shape torch.Size([88, 18])\n",
      "torch.Size([1, 128])\n",
      "iter 4 of 5 X_train shape torch.Size([88, 18])\n",
      "torch.Size([1, 128])\n",
      "iter 5 of 5 X_train shape torch.Size([88, 18])\n",
      "torch.Size([1, 128])\n",
      "params {'epochs': 100, 'masks_no': 10, 'mask_size': 2, 'target_size': 5, 'lr': 3e-05, 'batch_size': 64}\n",
      "iter 1 of 5 X_train shape torch.Size([88, 18])\n",
      "torch.Size([1, 128])\n",
      "iter 2 of 5 X_train shape torch.Size([88, 18])\n",
      "torch.Size([1, 128])\n",
      "iter 3 of 5 X_train shape torch.Size([88, 18])\n",
      "torch.Size([1, 128])\n",
      "iter 4 of 5 X_train shape torch.Size([88, 18])\n",
      "torch.Size([1, 128])\n",
      "iter 5 of 5 X_train shape torch.Size([88, 18])\n",
      "torch.Size([1, 128])\n",
      "params {'epochs': 150, 'masks_no': 10, 'mask_size': 7, 'target_size': 5, 'lr': 3e-05, 'batch_size': 64}\n",
      "iter 1 of 5 X_train shape torch.Size([88, 18])\n",
      "torch.Size([1, 128])\n"
     ]
    },
    {
     "name": "stdout",
     "output_type": "stream",
     "text": [
      "iter 2 of 5 X_train shape torch.Size([88, 18])\n",
      "torch.Size([1, 128])\n",
      "iter 3 of 5 X_train shape torch.Size([88, 18])\n",
      "torch.Size([1, 128])\n",
      "iter 4 of 5 X_train shape torch.Size([88, 18])\n",
      "torch.Size([1, 128])\n",
      "iter 5 of 5 X_train shape torch.Size([88, 18])\n",
      "torch.Size([1, 128])\n",
      "params {'epochs': 100, 'masks_no': 10, 'mask_size': 5, 'target_size': 50, 'lr': 3e-05, 'batch_size': 64}\n",
      "iter 1 of 5 X_train shape torch.Size([88, 18])\n",
      "torch.Size([1, 128])\n",
      "iter 2 of 5 X_train shape torch.Size([88, 18])\n",
      "torch.Size([1, 128])\n",
      "iter 3 of 5 X_train shape torch.Size([88, 18])\n",
      "torch.Size([1, 128])\n",
      "iter 4 of 5 X_train shape torch.Size([88, 18])\n",
      "torch.Size([1, 128])\n",
      "iter 5 of 5 X_train shape torch.Size([88, 18])\n",
      "torch.Size([1, 128])\n",
      "params {'epochs': 100, 'masks_no': 20, 'mask_size': 7, 'target_size': 10, 'lr': 3e-05, 'batch_size': 16}\n",
      "iter 1 of 5 X_train shape torch.Size([88, 18])\n",
      "torch.Size([1, 128])\n",
      "iter 2 of 5 X_train shape torch.Size([88, 18])\n",
      "torch.Size([1, 128])\n",
      "iter 3 of 5 X_train shape torch.Size([88, 18])\n",
      "torch.Size([1, 128])\n",
      "iter 4 of 5 X_train shape torch.Size([88, 18])\n",
      "torch.Size([1, 128])\n",
      "iter 5 of 5 X_train shape torch.Size([88, 18])\n",
      "torch.Size([1, 128])\n",
      "params {'epochs': 150, 'masks_no': 10, 'mask_size': 2, 'target_size': 20, 'lr': 3e-05, 'batch_size': 64}\n",
      "iter 1 of 5 X_train shape torch.Size([88, 18])\n",
      "torch.Size([1, 128])\n",
      "iter 2 of 5 X_train shape torch.Size([88, 18])\n",
      "torch.Size([1, 128])\n",
      "iter 3 of 5 X_train shape torch.Size([88, 18])\n",
      "torch.Size([1, 128])\n",
      "iter 4 of 5 X_train shape torch.Size([88, 18])\n",
      "torch.Size([1, 128])\n",
      "iter 5 of 5 X_train shape torch.Size([88, 18])\n",
      "torch.Size([1, 128])\n",
      "params {'epochs': 100, 'masks_no': 100, 'mask_size': 7, 'target_size': 5, 'lr': 0.03, 'batch_size': 64}\n",
      "iter 1 of 5 X_train shape torch.Size([88, 18])\n",
      "torch.Size([1, 128])\n",
      "iter 2 of 5 X_train shape torch.Size([88, 18])\n",
      "torch.Size([1, 128])\n",
      "iter 3 of 5 X_train shape torch.Size([88, 18])\n",
      "torch.Size([1, 128])\n",
      "iter 4 of 5 X_train shape torch.Size([88, 18])\n",
      "torch.Size([1, 128])\n",
      "iter 5 of 5 X_train shape torch.Size([88, 18])\n",
      "torch.Size([1, 128])\n",
      "params {'epochs': 150, 'masks_no': 10, 'mask_size': 7, 'target_size': 50, 'lr': 3e-05, 'batch_size': 16}\n",
      "iter 1 of 5 X_train shape torch.Size([88, 18])\n",
      "torch.Size([1, 128])\n",
      "iter 2 of 5 X_train shape torch.Size([88, 18])\n",
      "torch.Size([1, 128])\n",
      "iter 3 of 5 X_train shape torch.Size([88, 18])\n",
      "torch.Size([1, 128])\n",
      "iter 4 of 5 X_train shape torch.Size([88, 18])\n",
      "torch.Size([1, 128])\n",
      "iter 5 of 5 X_train shape torch.Size([88, 18])\n",
      "torch.Size([1, 128])\n",
      "params {'epochs': 150, 'masks_no': 10, 'mask_size': 7, 'target_size': 10, 'lr': 3e-05, 'batch_size': 64}\n",
      "iter 1 of 5 X_train shape torch.Size([88, 18])\n",
      "torch.Size([1, 128])\n",
      "iter 2 of 5 X_train shape torch.Size([88, 18])\n",
      "torch.Size([1, 128])\n",
      "iter 3 of 5 X_train shape torch.Size([88, 18])\n",
      "torch.Size([1, 128])\n",
      "iter 4 of 5 X_train shape torch.Size([88, 18])\n",
      "torch.Size([1, 128])\n",
      "iter 5 of 5 X_train shape torch.Size([88, 18])\n",
      "torch.Size([1, 128])\n",
      "params {'epochs': 150, 'masks_no': 150, 'mask_size': 2, 'target_size': 5, 'lr': 3e-05, 'batch_size': 32}\n",
      "iter 1 of 5 X_train shape torch.Size([88, 18])\n",
      "torch.Size([1, 128])\n",
      "iter 2 of 5 X_train shape torch.Size([88, 18])\n",
      "torch.Size([1, 128])\n",
      "iter 3 of 5 X_train shape torch.Size([88, 18])\n",
      "torch.Size([1, 128])\n",
      "iter 4 of 5 X_train shape torch.Size([88, 18])\n",
      "torch.Size([1, 128])\n",
      "iter 5 of 5 X_train shape torch.Size([88, 18])\n",
      "torch.Size([1, 128])\n",
      "params {'epochs': 150, 'masks_no': 50, 'mask_size': 15, 'target_size': 50, 'lr': 3e-05, 'batch_size': 16}\n",
      "iter 1 of 5 X_train shape torch.Size([88, 18])\n",
      "torch.Size([1, 128])\n",
      "iter 2 of 5 X_train shape torch.Size([88, 18])\n",
      "torch.Size([1, 128])\n",
      "iter 3 of 5 X_train shape torch.Size([88, 18])\n",
      "torch.Size([1, 128])\n",
      "iter 4 of 5 X_train shape torch.Size([88, 18])\n",
      "torch.Size([1, 128])\n",
      "iter 5 of 5 X_train shape torch.Size([88, 18])\n",
      "torch.Size([1, 128])\n",
      "====================== Summary ======================\n",
      "Mode              : Best f : Steps : Time            \n",
      "----------------  : ----   : ----  : ----            \n",
      "Initial solution  : 36.25  : 1     : 02:39 (m:s)     \n",
      "Random seeding    : 80.21  : 13    : 01:35:01 (h:m:s)\n",
      "Local sampling    : 82.6   : 13    : 01:13:08 (h:m:s)\n",
      "Duplicates        : -      : 1     : -               \n",
      "----------------  : ----   : ----  : ----            \n",
      "Total             : 82.6   : 28    : 02:50:49 (h:m:s)\n",
      "=====================================================\n",
      "Lymphography_network_hp_fn_{'epochs': 150, 'masks_no': 10, 'mask_size': 7, 'target_size': 50, 'lr': 3e-05, 'batch_size': 16}\n"
     ]
    },
    {
     "data": {
      "text/plain": [
       "{'epochs': 150,\n",
       " 'masks_no': 10,\n",
       " 'mask_size': 7,\n",
       " 'target_size': 50,\n",
       " 'lr': 3e-05,\n",
       " 'batch_size': 16}"
      ]
     },
     "execution_count": 44,
     "metadata": {},
     "output_type": "execute_result"
    },
    {
     "data": {
      "image/png": "[encoded data removed]",
      "text/plain": [
       "<Figure size 576x396 with 1 Axes>"
      ]
     },
     "metadata": {},
     "output_type": "display_data"
    }
   ],
   "source": [
    "param_grid = {\n",
    "    \"epochs\": pyhopper.choice([100, 150]),\n",
    "    \"masks_no\": pyhopper.choice([10, 20, 50, 100, 150, 200]),\n",
    "    \"mask_size\": pyhopper.choice([2, 5, 7, 10, 15, 18]),\n",
    "    \"target_size\": pyhopper.choice([5, 10, 20, 50]),\n",
    "    \"lr\": pyhopper.choice([3e-5, 3e-4, 3e-3, 3e-2, 3e-1]),\n",
    "    \"batch_size\": pyhopper.choice([16, 32, 64]),\n",
    "}\n",
    "\n",
    "hp_best_params = pyhopper_best_params(\n",
    "    network_hp_fn, param_grid, data=(X_train, y_train), train_size=train_max_size, time=\"180m\"\n",
    ")\n",
    "hp_best_params"
   ]
  },
  {
   "cell_type": "code",
   "execution_count": 45,
   "id": "c611591f",
   "metadata": {},
   "outputs": [
    {
     "name": "stdout",
     "output_type": "stream",
     "text": [
      "iter 1 of 10 X_train shape torch.Size([118, 18])\n",
      "torch.Size([1, 128])\n",
      "iter 2 of 10 X_train shape torch.Size([118, 18])\n",
      "torch.Size([1, 128])\n"
     ]
    },
    {
     "name": "stderr",
     "output_type": "stream",
     "text": [
      "/tmp/ipykernel_297378/2619930025.py:6: RuntimeWarning: invalid value encountered in long_scalars\n",
      "  acc = (y_pred_filt==y_test_filt.numpy()).sum()/len(y_test_filt)*100\n"
     ]
    },
    {
     "name": "stdout",
     "output_type": "stream",
     "text": [
      "iter 3 of 10 X_train shape torch.Size([118, 18])\n",
      "torch.Size([1, 128])\n"
     ]
    },
    {
     "name": "stderr",
     "output_type": "stream",
     "text": [
      "/tmp/ipykernel_297378/2619930025.py:6: RuntimeWarning: invalid value encountered in long_scalars\n",
      "  acc = (y_pred_filt==y_test_filt.numpy()).sum()/len(y_test_filt)*100\n"
     ]
    },
    {
     "name": "stdout",
     "output_type": "stream",
     "text": [
      "iter 4 of 10 X_train shape torch.Size([118, 18])\n",
      "torch.Size([1, 128])\n"
     ]
    },
    {
     "name": "stderr",
     "output_type": "stream",
     "text": [
      "/tmp/ipykernel_297378/2619930025.py:6: RuntimeWarning: invalid value encountered in long_scalars\n",
      "  acc = (y_pred_filt==y_test_filt.numpy()).sum()/len(y_test_filt)*100\n"
     ]
    },
    {
     "name": "stdout",
     "output_type": "stream",
     "text": [
      "iter 5 of 10 X_train shape torch.Size([118, 18])\n",
      "torch.Size([1, 128])\n"
     ]
    },
    {
     "name": "stderr",
     "output_type": "stream",
     "text": [
      "/tmp/ipykernel_297378/2619930025.py:6: RuntimeWarning: invalid value encountered in long_scalars\n",
      "  acc = (y_pred_filt==y_test_filt.numpy()).sum()/len(y_test_filt)*100\n"
     ]
    },
    {
     "name": "stdout",
     "output_type": "stream",
     "text": [
      "iter 6 of 10 X_train shape torch.Size([118, 18])\n",
      "torch.Size([1, 128])\n"
     ]
    },
    {
     "name": "stderr",
     "output_type": "stream",
     "text": [
      "/tmp/ipykernel_297378/2619930025.py:6: RuntimeWarning: invalid value encountered in long_scalars\n",
      "  acc = (y_pred_filt==y_test_filt.numpy()).sum()/len(y_test_filt)*100\n"
     ]
    },
    {
     "name": "stdout",
     "output_type": "stream",
     "text": [
      "iter 7 of 10 X_train shape torch.Size([118, 18])\n",
      "torch.Size([1, 128])\n"
     ]
    },
    {
     "name": "stderr",
     "output_type": "stream",
     "text": [
      "/tmp/ipykernel_297378/2619930025.py:6: RuntimeWarning: invalid value encountered in long_scalars\n",
      "  acc = (y_pred_filt==y_test_filt.numpy()).sum()/len(y_test_filt)*100\n"
     ]
    },
    {
     "name": "stdout",
     "output_type": "stream",
     "text": [
      "iter 8 of 10 X_train shape torch.Size([118, 18])\n",
      "torch.Size([1, 128])\n"
     ]
    },
    {
     "name": "stderr",
     "output_type": "stream",
     "text": [
      "/tmp/ipykernel_297378/2619930025.py:6: RuntimeWarning: invalid value encountered in long_scalars\n",
      "  acc = (y_pred_filt==y_test_filt.numpy()).sum()/len(y_test_filt)*100\n"
     ]
    },
    {
     "name": "stdout",
     "output_type": "stream",
     "text": [
      "iter 9 of 10 X_train shape torch.Size([118, 18])\n",
      "torch.Size([1, 128])\n"
     ]
    },
    {
     "name": "stderr",
     "output_type": "stream",
     "text": [
      "/tmp/ipykernel_297378/2619930025.py:6: RuntimeWarning: invalid value encountered in long_scalars\n",
      "  acc = (y_pred_filt==y_test_filt.numpy()).sum()/len(y_test_filt)*100\n"
     ]
    },
    {
     "name": "stdout",
     "output_type": "stream",
     "text": [
      "iter 10 of 10 X_train shape torch.Size([118, 18])\n",
      "torch.Size([1, 128])\n"
     ]
    },
    {
     "name": "stderr",
     "output_type": "stream",
     "text": [
      "/tmp/ipykernel_297378/2619930025.py:6: RuntimeWarning: invalid value encountered in long_scalars\n",
      "  acc = (y_pred_filt==y_test_filt.numpy()).sum()/len(y_test_filt)*100\n",
      "/tmp/ipykernel_297378/2619930025.py:6: RuntimeWarning: invalid value encountered in long_scalars\n",
      "  acc = (y_pred_filt==y_test_filt.numpy()).sum()/len(y_test_filt)*100\n"
     ]
    },
    {
     "data": {
      "image/png": "[encoded data removed]",
      "text/plain": [
       "<Figure size 576x396 with 1 Axes>"
      ]
     },
     "metadata": {},
     "output_type": "display_data"
    }
   ],
   "source": [
    "epochs = hp_best_params['epochs']\n",
    "masks_no = hp_best_params['masks_no']\n",
    "mask_size = hp_best_params['mask_size']\n",
    "target_size = hp_best_params['target_size']\n",
    "lr = hp_best_params['lr']\n",
    "batch_size = hp_best_params['batch_size']\n",
    "\n",
    "hyper_results = test_model(network_hp_fn(epochs, masks_no, mask_size, target_size, lr=lr, batch_size=batch_size),\n",
    "                    (X, y),\n",
    "                    eval_max_size,\n",
    "                    None, 10)"
   ]
  },
  {
   "cell_type": "code",
   "execution_count": 46,
   "id": "85754529",
   "metadata": {},
   "outputs": [
    {
     "name": "stdout",
     "output_type": "stream",
     "text": [
      "118: 84.67 ~ 5.92, (max: 96.67)\n"
     ]
    }
   ],
   "source": [
    "res = hyper_results[hyper_results[\"Class\"]==\"Total\"].reset_index(drop=True)[\"Metric\"]\n",
    "print(f\"{eval_max_size}: {res.mean():.2f} ~ {res.std():.2f}, (max: {res.max():.2f})\")"
   ]
  },
  {
   "cell_type": "code",
   "execution_count": 47,
   "id": "d21d733e",
   "metadata": {},
   "outputs": [],
   "source": [
    "d[DATA] = hyper_results.groupby(\"Class\")['Metric'].agg(['mean', 'std', 'max'])"
   ]
  },
  {
   "cell_type": "code",
   "execution_count": null,
   "id": "5c706959",
   "metadata": {},
   "outputs": [],
   "source": []
  },
  {
   "cell_type": "markdown",
   "id": "dd6b288e",
   "metadata": {},
   "source": [
    "# Hill-Valley-without-noise"
   ]
  },
  {
   "cell_type": "code",
   "execution_count": 48,
   "id": "27837c50",
   "metadata": {},
   "outputs": [],
   "source": [
    "DATA = \"Hill-Valley-without-noise\""
   ]
  },
  {
   "cell_type": "code",
   "execution_count": 49,
   "id": "cd5eb985",
   "metadata": {},
   "outputs": [
    {
     "name": "stdout",
     "output_type": "stream",
     "text": [
      "train (606, 100) 2\n",
      "test (606, 100) 2\n"
     ]
    }
   ],
   "source": [
    "if DATA == \"Hill-Valley-without-noise\":\n",
    "    hill_valley_train = pd.read_csv('https://archive.ics.uci.edu/ml/machine-learning-databases/hill-valley/Hill_Valley_without_noise_Training.data')\n",
    "    hill_valley_test = pd.read_csv('https://archive.ics.uci.edu/ml/machine-learning-databases/hill-valley/Hill_Valley_without_noise_Testing.data')\n",
    "    \n",
    "    X_train = hill_valley_train.values[:, :-1].astype(float)\n",
    "    y_train = hill_valley_train.values[:, -1]\n",
    "    y_train = LabelEncoder().fit_transform(y_train).astype(int)\n",
    "    \n",
    "    X_test = hill_valley_test.values[:, :-1].astype(float)\n",
    "    y_test = hill_valley_test.values[:, -1]\n",
    "    y_test = LabelEncoder().fit_transform(y_test).astype(int)\n",
    "    \n",
    "    print('train', X_train.shape, len(np.unique(y_train)))\n",
    "    print('test', X_test.shape, len(np.unique(y_test)))\n",
    "    \n",
    "    X = (X_train, X_test)\n",
    "    y = (y_train, y_test)\n"
   ]
  },
  {
   "cell_type": "code",
   "execution_count": 50,
   "id": "3a8240fa",
   "metadata": {},
   "outputs": [
    {
     "name": "stdout",
     "output_type": "stream",
     "text": [
      "{0: 305, 1: 301}\n",
      "n_classes 2\n",
      "n_features 100\n"
     ]
    }
   ],
   "source": [
    "n_classes = len(np.unique(y if not isinstance(y, tuple) else y_train))\n",
    "n_features = X.shape[1] if not isinstance(X, tuple) else X_train.shape[1]\n",
    "unique, counts = np.unique(y if not isinstance(y, tuple) else y_train, return_counts=True)\n",
    "\n",
    "print(dict(zip(unique, counts)))\n",
    "\n",
    "print('n_classes', n_classes)\n",
    "print('n_features', n_features)"
   ]
  },
  {
   "cell_type": "code",
   "execution_count": 51,
   "id": "d700b085",
   "metadata": {},
   "outputs": [
    {
     "name": "stdout",
     "output_type": "stream",
     "text": [
      "train_max_size 454\n",
      "eval_max_size 606\n"
     ]
    }
   ],
   "source": [
    "X_train, X_test, y_train, y_test = train_test_split_tuple(X, y, train_size=0.8)\n",
    "\n",
    "eval_max_size = int(len(X_train))\n",
    "train_max_size = int(len(X_train) * 0.75)\n",
    "print('train_max_size', train_max_size)\n",
    "print('eval_max_size', eval_max_size)"
   ]
  },
  {
   "cell_type": "code",
   "execution_count": 52,
   "id": "40727760",
   "metadata": {},
   "outputs": [],
   "source": [
    "def network_hp_fn(epochs=150, masks_no=100, mask_size=100, target_size=100, lr=3e-4, batch_size=64, verbose=False):\n",
    "    def _inner():\n",
    "        hypernet = Hypernetwork(\n",
    "                        target_architecture=[(mask_size, target_size), (target_size, n_classes)],\n",
    "                        test_nodes=masks_no,\n",
    "                        architecture=torch.nn.Sequential(torch.nn.Linear(n_features, 64), \n",
    "                            torch.nn.ReLU(),\n",
    "                            torch.nn.Linear(64, 128),\n",
    "                            torch.nn.ReLU(),\n",
    "                            torch.nn.Dropout(),\n",
    "                            torch.nn.Linear(128, 128),\n",
    "                            torch.nn.ReLU(),\n",
    "                        ),\n",
    "                        mode=TrainingModes.CARTHESIAN,\n",
    "                    ).to(DEVICE)    \n",
    "        hypernet = hypernet.train()\n",
    "\n",
    "        network = HypernetworkSklearnInterface(hypernet, device=DEVICE, epochs=epochs, batch_size=batch_size, verbose=verbose, lr=lr)\n",
    "        return network\n",
    "    return _inner\n"
   ]
  },
  {
   "cell_type": "code",
   "execution_count": null,
   "id": "19e62410",
   "metadata": {},
   "outputs": [
    {
     "name": "stdout",
     "output_type": "stream",
     "text": [
      "pyhopper (606, 100) (606,) 454\n"
     ]
    },
    {
     "data": {
      "application/vnd.jupyter.widget-view+json": {
       "model_id": "0d2fbef02e5c4bde8f45ad102a522ce8",
       "version_major": 2,
       "version_minor": 0
      },
      "text/plain": [
       "  0%|          | [00:00<?]"
      ]
     },
     "metadata": {},
     "output_type": "display_data"
    },
    {
     "name": "stdout",
     "output_type": "stream",
     "text": [
      "Search is scheduled for 05:00:00 (h:m:s)\n",
      "params {'epochs': 100, 'masks_no': 5, 'mask_size': 2, 'target_size': 5, 'lr': 3e-05, 'batch_size': 32}\n",
      "iter 1 of 5 X_train shape torch.Size([454, 100])\n",
      "torch.Size([1, 128])\n",
      "iter 2 of 5 X_train shape torch.Size([454, 100])\n",
      "torch.Size([1, 128])\n",
      "iter 3 of 5 X_train shape torch.Size([454, 100])\n",
      "torch.Size([1, 128])\n",
      "iter 4 of 5 X_train shape torch.Size([454, 100])\n",
      "torch.Size([1, 128])\n",
      "iter 5 of 5 X_train shape torch.Size([454, 100])\n",
      "torch.Size([1, 128])\n",
      "params {'epochs': 100, 'masks_no': 150, 'mask_size': 50, 'target_size': 5, 'lr': 0.003, 'batch_size': 64}\n",
      "iter 1 of 5 X_train shape torch.Size([454, 100])\n",
      "torch.Size([1, 128])\n",
      "iter 2 of 5 X_train shape torch.Size([454, 100])\n",
      "torch.Size([1, 128])\n",
      "iter 3 of 5 X_train shape torch.Size([454, 100])\n",
      "torch.Size([1, 128])\n",
      "iter 4 of 5 X_train shape torch.Size([454, 100])\n",
      "torch.Size([1, 128])\n",
      "iter 5 of 5 X_train shape torch.Size([454, 100])\n",
      "torch.Size([1, 128])\n",
      "params {'epochs': 100, 'masks_no': 70, 'mask_size': 5, 'target_size': 50, 'lr': 0.03, 'batch_size': 64}\n",
      "iter 1 of 5 X_train shape torch.Size([454, 100])\n",
      "torch.Size([1, 128])\n",
      "iter 2 of 5 X_train shape torch.Size([454, 100])\n",
      "torch.Size([1, 128])\n",
      "iter 3 of 5 X_train shape torch.Size([454, 100])\n",
      "torch.Size([1, 128])\n"
     ]
    }
   ],
   "source": [
    "param_grid = {\n",
    "    \"epochs\": pyhopper.choice([100]),\n",
    "    \"masks_no\": pyhopper.choice([5, 10, 50, 70, 100, 150, 200]),\n",
    "    \"mask_size\": pyhopper.choice([2, 5, 10, 20, 50, 90]),\n",
    "    \"target_size\": pyhopper.choice([5, 10, 20, 50]),\n",
    "    \"lr\": pyhopper.choice([3e-5, 3e-4, 3e-3, 3e-2, 3e-1]),\n",
    "    \"batch_size\": pyhopper.choice([32, 64]),\n",
    "}\n",
    "\n",
    "hp_best_params = pyhopper_best_params(\n",
    "    network_hp_fn, param_grid, data=(X_train, y_train), train_size=train_max_size, time=\"300m\"\n",
    ")\n",
    "hp_best_params"
   ]
  },
  {
   "cell_type": "code",
   "execution_count": null,
   "id": "342018c7",
   "metadata": {},
   "outputs": [],
   "source": [
    "epochs = hp_best_params['epochs']\n",
    "masks_no = hp_best_params['masks_no']\n",
    "mask_size = hp_best_params['mask_size']\n",
    "target_size = hp_best_params['target_size']\n",
    "batch_size = hp_best_params['batch_size']\n",
    "lr = hp_best_params['lr']\n",
    "\n",
    "\n",
    "hyper_results = test_model(network_hp_fn(epochs, masks_no, mask_size, target_size, batch_size=batch_size,verbose=True),\n",
    "                    (X, y),\n",
    "                    eval_max_size,\n",
    "                    None, 10)"
   ]
  },
  {
   "cell_type": "code",
   "execution_count": null,
   "id": "f0d671a5",
   "metadata": {},
   "outputs": [],
   "source": [
    "res = hyper_results[hyper_results[\"Class\"]==\"Total\"].reset_index(drop=True)[\"Metric\"]\n",
    "print(f\"{eval_max_size}: {res.mean():.2f} ~ {res.std():.2f}, (max: {res.max():.2f})\")"
   ]
  },
  {
   "cell_type": "code",
   "execution_count": null,
   "id": "44c00209",
   "metadata": {},
   "outputs": [],
   "source": [
    "d[DATA] = hyper_results.groupby(\"Class\")['Metric'].agg(['mean', 'std', 'max'])"
   ]
  },
  {
   "cell_type": "code",
   "execution_count": null,
   "id": "4fba8f81",
   "metadata": {},
   "outputs": [],
   "source": []
  },
  {
   "cell_type": "markdown",
   "id": "47d8ea6c",
   "metadata": {},
   "source": [
    "# Hill-Valley-with-noise"
   ]
  },
  {
   "cell_type": "code",
   "execution_count": null,
   "id": "fd2b4490",
   "metadata": {},
   "outputs": [],
   "source": [
    "DATA = \"Hill-Valley-with-noise\""
   ]
  },
  {
   "cell_type": "code",
   "execution_count": null,
   "id": "a66a78f0",
   "metadata": {},
   "outputs": [],
   "source": [
    "if DATA == \"Hill-Valley-with-noise\":\n",
    "    hill_valley_train = pd.read_csv('https://archive.ics.uci.edu/ml/machine-learning-databases/hill-valley/Hill_Valley_with_noise_Training.data')\n",
    "    hill_valley_test = pd.read_csv('https://archive.ics.uci.edu/ml/machine-learning-databases/hill-valley/Hill_Valley_with_noise_Testing.data')\n",
    "    \n",
    "    X_train = hill_valley_train.values[:, :-1].astype(float)\n",
    "    y_train = hill_valley_train.values[:, -1]\n",
    "    y_train = LabelEncoder().fit_transform(y_train).astype(int)\n",
    "    \n",
    "    X_test = hill_valley_test.values[:, :-1].astype(float)\n",
    "    y_test = hill_valley_test.values[:, -1]\n",
    "    y_test = LabelEncoder().fit_transform(y_test).astype(int)\n",
    "    \n",
    "    print('train', X_train.shape, len(np.unique(y_train)))\n",
    "    print('test', X_test.shape, len(np.unique(y_test)))\n",
    "    \n",
    "    X = (X_train, X_test)\n",
    "    y = (y_train, y_test)\n"
   ]
  },
  {
   "cell_type": "code",
   "execution_count": null,
   "id": "5ab082d1",
   "metadata": {},
   "outputs": [],
   "source": [
    "n_classes = len(np.unique(y if not isinstance(y, tuple) else y_train))\n",
    "n_features = X.shape[1] if not isinstance(X, tuple) else X_train.shape[1]\n",
    "unique, counts = np.unique(y if not isinstance(y, tuple) else y_train, return_counts=True)\n",
    "\n",
    "print(dict(zip(unique, counts)))\n",
    "\n",
    "print('n_classes', n_classes)\n",
    "print('n_features', n_features)"
   ]
  },
  {
   "cell_type": "code",
   "execution_count": null,
   "id": "e050818c",
   "metadata": {},
   "outputs": [],
   "source": [
    "X_train, X_test, y_train, y_test = train_test_split_tuple(X, y, train_size=0.8)\n",
    "\n",
    "eval_max_size = int(len(X_train))\n",
    "train_max_size = int(len(X_train) * 0.75)\n",
    "print('train_max_size', train_max_size)\n",
    "print('eval_max_size', eval_max_size)"
   ]
  },
  {
   "cell_type": "code",
   "execution_count": null,
   "id": "332e719a",
   "metadata": {},
   "outputs": [],
   "source": [
    "def network_hp_fn(epochs=150, masks_no=100, mask_size=100, target_size=100, lr=3e-4, batch_size=64, verbose=False):\n",
    "    def _inner():\n",
    "        hypernet = Hypernetwork(\n",
    "                        target_architecture=[(mask_size, target_size), (target_size, n_classes)],\n",
    "                        test_nodes=masks_no,\n",
    "                        architecture=torch.nn.Sequential(torch.nn.Linear(n_features, 64), \n",
    "                            torch.nn.ReLU(),\n",
    "                            torch.nn.Linear(64, 128),\n",
    "                            torch.nn.ReLU(),\n",
    "                            torch.nn.Dropout(),\n",
    "                            torch.nn.Linear(128, 128),\n",
    "                            torch.nn.ReLU(),\n",
    "                        ),\n",
    "                        mode=TrainingModes.CARTHESIAN,\n",
    "                    ).to(DEVICE)    \n",
    "        hypernet = hypernet.train()\n",
    "\n",
    "        network = HypernetworkSklearnInterface(hypernet, device=DEVICE, epochs=epochs, batch_size=batch_size, verbose=verbose, lr=lr)\n",
    "        return network\n",
    "    return _inner\n"
   ]
  },
  {
   "cell_type": "code",
   "execution_count": null,
   "id": "83f14cea",
   "metadata": {},
   "outputs": [],
   "source": [
    "param_grid = {\n",
    "    \"epochs\": pyhopper.choice([100]),\n",
    "    \"masks_no\": pyhopper.choice([5, 10, 50, 70, 100, 150, 200]),\n",
    "    \"mask_size\": pyhopper.choice([2, 5, 10, 20, 50, 90]),\n",
    "    \"target_size\": pyhopper.choice([5, 10, 20, 50]),\n",
    "    \"lr\": pyhopper.choice([3e-5, 3e-4, 3e-3, 3e-2, 3e-1]),\n",
    "    \"batch_size\": pyhopper.choice([32, 64]),\n",
    "}\n",
    "\n",
    "hp_best_params = pyhopper_best_params(\n",
    "    network_hp_fn, param_grid, data=(X_train, y_train), train_size=train_max_size, time=\"300m\"\n",
    ")\n",
    "hp_best_params"
   ]
  },
  {
   "cell_type": "code",
   "execution_count": null,
   "id": "79593b11",
   "metadata": {},
   "outputs": [],
   "source": [
    "epochs = 100#hp_best_params['epochs']\n",
    "masks_no = hp_best_params['masks_no']\n",
    "mask_size = hp_best_params['mask_size']\n",
    "target_size = hp_best_params['target_size']\n",
    "batch_size = hp_best_params['batch_size']\n",
    "lr = hp_best_params['lr']\n",
    "\n",
    "\n",
    "hyper_results = test_model(network_hp_fn(epochs, masks_no, mask_size, target_size, batch_size=batch_size,verbose=True),\n",
    "                    (X, y),\n",
    "                    eval_max_size,\n",
    "                    None, 10)"
   ]
  },
  {
   "cell_type": "code",
   "execution_count": null,
   "id": "a1a4c96e",
   "metadata": {},
   "outputs": [],
   "source": [
    "res = hyper_results[hyper_results[\"Class\"]==\"Total\"].reset_index(drop=True)[\"Metric\"]\n",
    "print(f\"{eval_max_size}: {res.mean():.2f} ~ {res.std():.2f}, (max: {res.max():.2f})\")"
   ]
  },
  {
   "cell_type": "code",
   "execution_count": null,
   "id": "9118b273",
   "metadata": {},
   "outputs": [],
   "source": [
    "d[DATA] = hyper_results.groupby(\"Class\")['Metric'].agg(['mean', 'std', 'max'])"
   ]
  },
  {
   "cell_type": "code",
   "execution_count": null,
   "id": "08390a60",
   "metadata": {},
   "outputs": [],
   "source": []
  },
  {
   "cell_type": "markdown",
   "id": "0b85be52",
   "metadata": {},
   "source": [
    "# cnae"
   ]
  },
  {
   "cell_type": "code",
   "execution_count": null,
   "id": "cf501dd0",
   "metadata": {},
   "outputs": [],
   "source": [
    "DATA = \"cnae\""
   ]
  },
  {
   "cell_type": "code",
   "execution_count": null,
   "id": "63cd38b8",
   "metadata": {},
   "outputs": [],
   "source": [
    "if DATA == \"cnae\":\n",
    "    cnae = pd.read_csv('https://archive.ics.uci.edu/ml/machine-learning-databases/00233/CNAE-9.data', header=None)\n",
    "    cnae = cnae.drop(1, axis=1)\n",
    "    X = cnae.values[:, 1:].astype(float)\n",
    "    y = cnae.values[:, 0]\n",
    "    y = LabelEncoder().fit_transform(y).astype(int)\n",
    "    #(1080, 855) 2\n",
    "\n",
    "print(X.shape, len(np.unique(y)))"
   ]
  },
  {
   "cell_type": "code",
   "execution_count": null,
   "id": "7dfc78b4",
   "metadata": {},
   "outputs": [],
   "source": [
    "n_classes = len(np.unique(y))\n",
    "n_features = X.shape[1]\n",
    "unique, counts = np.unique(y, return_counts=True)\n",
    "\n",
    "print(dict(zip(unique, counts)))\n",
    "\n",
    "print('n_classes', n_classes)\n",
    "print('n_features', n_features)"
   ]
  },
  {
   "cell_type": "code",
   "execution_count": null,
   "id": "1f5ac7ca",
   "metadata": {},
   "outputs": [],
   "source": [
    "X_train, X_test, y_train, y_test = train_test_split(X, y, train_size=0.8, stratify=y)\n",
    "\n",
    "eval_max_size = int(len(X_train))\n",
    "train_max_size = int(len(X_train) * 0.75)\n",
    "print('train_max_size', train_max_size)\n",
    "print('eval_max_size', eval_max_size)"
   ]
  },
  {
   "cell_type": "code",
   "execution_count": null,
   "id": "9be895e1",
   "metadata": {},
   "outputs": [],
   "source": [
    "def network_hp_fn(epochs=150, masks_no=100, mask_size=100, target_size=100, lr=3e-4, batch_size=64, verbose=False):\n",
    "    def _inner():\n",
    "        hypernet = Hypernetwork(\n",
    "                        target_architecture=[(mask_size, target_size), (target_size, n_classes)],\n",
    "                        test_nodes=masks_no,\n",
    "                        architecture=torch.nn.Sequential(torch.nn.Linear(n_features, 64), \n",
    "                            torch.nn.ReLU(),\n",
    "                            torch.nn.Linear(64, 128),\n",
    "                            torch.nn.ReLU(),\n",
    "                            torch.nn.Dropout(),\n",
    "                            torch.nn.Linear(128, 128),\n",
    "                            torch.nn.ReLU(),\n",
    "                        ),\n",
    "                        mode=TrainingModes.CARTHESIAN,\n",
    "                    ).to(DEVICE)    \n",
    "        hypernet = hypernet.train()\n",
    "\n",
    "        network = HypernetworkSklearnInterface(hypernet, device=DEVICE, epochs=epochs, batch_size=batch_size, verbose=verbose, lr=lr)\n",
    "        return network\n",
    "    return _inner\n"
   ]
  },
  {
   "cell_type": "code",
   "execution_count": null,
   "id": "5d566c5f",
   "metadata": {},
   "outputs": [],
   "source": [
    "param_grid = {\n",
    "    \"epochs\": pyhopper.choice([100]),\n",
    "    \"masks_no\": pyhopper.choice([3, 5, 10, 50, 75, 100, 150]),\n",
    "    \"mask_size\": pyhopper.choice([5, 10, 20, 50, 100, 200, 400, 600, 750]),\n",
    "    \"target_size\": pyhopper.choice([5, 10, 20, 50]),\n",
    "    \"lr\": pyhopper.choice([3e-5, 3e-4, 3e-3, 3e-2, 3e-1]),\n",
    "    \"batch_size\": pyhopper.choice([64]),\n",
    "}\n",
    "\n",
    "hp_best_params = pyhopper_best_params(\n",
    "    network_hp_fn, param_grid, data=(X_train, y_train), train_size=train_max_size, time=\"480m\"\n",
    ")\n",
    "hp_best_params"
   ]
  },
  {
   "cell_type": "code",
   "execution_count": null,
   "id": "906b7a4f",
   "metadata": {},
   "outputs": [],
   "source": [
    "epochs = 100#hp_best_params['epochs']\n",
    "masks_no = hp_best_params['masks_no']\n",
    "mask_size = hp_best_params['mask_size']\n",
    "target_size = hp_best_params['target_size']\n",
    "batch_size = hp_best_params['batch_size']\n",
    "lr = hp_best_params['lr']\n",
    "\n",
    "\n",
    "hyper_results = test_model(network_hp_fn(epochs, masks_no, mask_size, target_size, batch_size=batch_size,verbose=True),\n",
    "                    (X, y),\n",
    "                    eval_max_size,\n",
    "                    None, 10)"
   ]
  },
  {
   "cell_type": "code",
   "execution_count": null,
   "id": "33da4013",
   "metadata": {},
   "outputs": [],
   "source": [
    "res = hyper_results[hyper_results[\"Class\"]==\"Total\"].reset_index(drop=True)[\"Metric\"]\n",
    "print(f\"{eval_max_size}: {res.mean():.2f} ~ {res.std():.2f}, (max: {res.max():.2f})\")"
   ]
  },
  {
   "cell_type": "code",
   "execution_count": null,
   "id": "f8d5dd5b",
   "metadata": {},
   "outputs": [],
   "source": [
    "d[DATA] = hyper_results.groupby(\"Class\")['Metric'].agg(['mean', 'std', 'max'])"
   ]
  },
  {
   "cell_type": "code",
   "execution_count": null,
   "id": "a7eb98e4",
   "metadata": {},
   "outputs": [],
   "source": []
  },
  {
   "cell_type": "code",
   "execution_count": null,
   "id": "ec3118bd",
   "metadata": {},
   "outputs": [],
   "source": [
    "d"
   ]
  },
  {
   "cell_type": "code",
   "execution_count": null,
   "id": "30c26a06",
   "metadata": {},
   "outputs": [],
   "source": []
  }
 ],
 "metadata": {
  "kernelspec": {
   "display_name": "Python 3 (ipykernel)",
   "language": "python",
   "name": "python3"
  },
  "language_info": {
   "codemirror_mode": {
    "name": "ipython",
    "version": 3
   },
   "file_extension": ".py",
   "mimetype": "text/x-python",
   "name": "python",
   "nbconvert_exporter": "python",
   "pygments_lexer": "ipython3",
   "version": "3.9.12"
  }
 },
 "nbformat": 4,
 "nbformat_minor": 5
}
