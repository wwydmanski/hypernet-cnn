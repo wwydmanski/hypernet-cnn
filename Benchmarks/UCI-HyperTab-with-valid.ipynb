{
 "cells": [
  {
   "cell_type": "code",
   "execution_count": 1,
   "id": "01de83ab",
   "metadata": {},
   "outputs": [],
   "source": [
    "import torch"
   ]
  },
  {
   "cell_type": "code",
   "execution_count": 2,
   "id": "dc12a648-b80a-4eca-afc3-79331e4db7fc",
   "metadata": {},
   "outputs": [],
   "source": [
    "from comet_ml import Experiment, Optimizer"
   ]
  },
  {
   "cell_type": "code",
   "execution_count": 3,
   "id": "2fdadf44-450a-4006-ac5a-bed9840409f6",
   "metadata": {},
   "outputs": [],
   "source": [
    "import pandas as pd\n",
    "import numpy as np\n",
    "from sklearn.preprocessing import LabelEncoder, StandardScaler\n",
    "from sklearn.model_selection import train_test_split\n",
    "from collections import defaultdict\n",
    "from tqdm import trange\n",
    "import torch\n",
    "import seaborn as sns\n",
    "import os\n",
    "import matplotlib.pyplot as plt\n",
    "from io import BytesIO\n",
    "import base64\n",
    "import sklearn\n",
    "import time\n",
    "import datetime\n",
    "\n",
    "plt.style.use(\"seaborn\")\n",
    "torch.set_default_dtype(torch.float32)"
   ]
  },
  {
   "cell_type": "code",
   "execution_count": 4,
   "id": "6a37b70c-292b-4c14-85ed-3c93020dc182",
   "metadata": {},
   "outputs": [],
   "source": [
    "from sklearn.metrics import roc_auc_score, f1_score, precision_score, recall_score, balanced_accuracy_score"
   ]
  },
  {
   "cell_type": "code",
   "execution_count": 5,
   "id": "3085114d-cf61-4625-97c5-10f34c00d335",
   "metadata": {},
   "outputs": [],
   "source": [
    "from tabular_hypernet import HypernetworkPCA, TrainingModes, Hypernetwork\n",
    "from tabular_hypernet.modules import SimpleNetwork\n",
    "from tabular_hypernet.training_utils import train_slow_step, train_model, train_carthesian\n",
    "from tabular_hypernet.interfaces import HypernetworkSklearnInterface, SimpleSklearnInterface\n",
    "# from ipynb.fs.defs.MNIST_benchmark import test_model\n",
    "from sklearn.model_selection import GridSearchCV, RandomizedSearchCV"
   ]
  },
  {
   "cell_type": "code",
   "execution_count": 6,
   "id": "d62c6026",
   "metadata": {},
   "outputs": [],
   "source": [
    "from sklearn.metrics import classification_report, balanced_accuracy_score"
   ]
  },
  {
   "cell_type": "code",
   "execution_count": 7,
   "id": "f84a62eb-e16d-4519-ad76-2237037833c0",
   "metadata": {},
   "outputs": [],
   "source": [
    "import pyhopper"
   ]
  },
  {
   "cell_type": "code",
   "execution_count": 8,
   "id": "d12953cc-1ec5-46a9-933a-714e5ceafd1d",
   "metadata": {},
   "outputs": [
    {
     "data": {
      "text/plain": [
       "1"
      ]
     },
     "execution_count": 8,
     "metadata": {},
     "output_type": "execute_result"
    }
   ],
   "source": [
    "from loguru import logger\n",
    "\n",
    "logger.add(\"log.txt\", format='{time:YYYY-MM-DD HH:mm:ss.SSS} | {message}')"
   ]
  },
  {
   "cell_type": "code",
   "execution_count": 9,
   "id": "aa3c18d1-1d56-4393-9441-245420fb3c29",
   "metadata": {},
   "outputs": [],
   "source": [
    "import seaborn as sns"
   ]
  },
  {
   "cell_type": "code",
   "execution_count": 10,
   "id": "04d1ae25-987c-4043-9771-829c928723de",
   "metadata": {},
   "outputs": [],
   "source": [
    "DEVICE=\"cuda:0\""
   ]
  },
  {
   "cell_type": "code",
   "execution_count": 11,
   "id": "4a1a1e98-a8b4-4df2-aae6-b593fe61667a",
   "metadata": {},
   "outputs": [
    {
     "data": {
      "text/plain": [
       "2"
      ]
     },
     "execution_count": 11,
     "metadata": {},
     "output_type": "execute_result"
    }
   ],
   "source": [
    "from loguru import logger\n",
    "\n",
    "logger.add(\"log.txt\", format='{time:YYYY-MM-DD HH:mm:ss.SSS} | {message}')"
   ]
  },
  {
   "cell_type": "code",
   "execution_count": 12,
   "id": "72ab68a8",
   "metadata": {},
   "outputs": [],
   "source": [
    "GS_METRIC = 'balanced_accuracy'"
   ]
  },
  {
   "cell_type": "markdown",
   "id": "82db70f7",
   "metadata": {},
   "source": [
    "# Load data"
   ]
  },
  {
   "cell_type": "code",
   "execution_count": 13,
   "id": "30a5727b",
   "metadata": {},
   "outputs": [],
   "source": [
    "TEST_RUN = False"
   ]
  },
  {
   "cell_type": "code",
   "execution_count": null,
   "id": "507c32bf",
   "metadata": {},
   "outputs": [],
   "source": []
  },
  {
   "cell_type": "markdown",
   "id": "5c287f46",
   "metadata": {},
   "source": [
    "# Preprocess"
   ]
  },
  {
   "cell_type": "code",
   "execution_count": 14,
   "id": "f087f146",
   "metadata": {},
   "outputs": [],
   "source": [
    "def train_test_split_tuple(X, y, train_size=None):\n",
    "    if isinstance(X, tuple) and isinstance(y, tuple):\n",
    "        X_train, X_test = X\n",
    "        y_train, y_test = y\n",
    "    else:    \n",
    "        X_train, X_test, y_train, y_test = train_test_split(X, y, train_size=size, stratify=y)\n",
    "    \n",
    "    return X_train, X_test, y_train, y_test"
   ]
  },
  {
   "cell_type": "code",
   "execution_count": null,
   "id": "5142a83f",
   "metadata": {},
   "outputs": [],
   "source": []
  },
  {
   "cell_type": "code",
   "execution_count": 15,
   "id": "bdc5ffdd-e04d-425f-8d6c-bd8456644faf",
   "metadata": {},
   "outputs": [],
   "source": [
    "import imblearn\n",
    "\n",
    "def prepare_data(X, y, size=None):\n",
    "    if isinstance(X, tuple) and isinstance(y, tuple):\n",
    "        X_train, X_test = X\n",
    "        y_train, y_test = y\n",
    "    else:    \n",
    "        X_train, X_test, y_train, y_test = train_test_split(X, y, train_size=size, stratify=y)\n",
    "    # X_train, y_train = imblearn.over_sampling.RandomOverSampler(random_state=42).fit_resample(X_train, y_train)\n",
    "    \n",
    "    scaler = StandardScaler()\n",
    "    X_train = scaler.fit_transform(X_train)\n",
    "    X_test = scaler.transform(X_test)\n",
    "    \n",
    "    X_train, X_test, y_train, y_test = [torch.from_numpy(x) for x in [X_train, X_test, y_train, y_test]]\n",
    "    \n",
    "    return X_train, X_test, y_train, y_test"
   ]
  },
  {
   "cell_type": "code",
   "execution_count": null,
   "id": "ca0a827a-0e1f-4f5c-b15d-3354f075021e",
   "metadata": {},
   "outputs": [],
   "source": []
  },
  {
   "cell_type": "markdown",
   "id": "d223075b-b7d8-414e-97c9-ade8bda5f0fd",
   "metadata": {},
   "source": [
    "## Benchmark"
   ]
  },
  {
   "cell_type": "code",
   "execution_count": 16,
   "id": "b9f92f86-4c40-492c-8d48-f23efa85eb16",
   "metadata": {},
   "outputs": [],
   "source": [
    "criterion = torch.nn.CrossEntropyLoss()"
   ]
  },
  {
   "cell_type": "code",
   "execution_count": 17,
   "id": "5aa90ca0-8a00-4491-b111-ce7eee0e9c33",
   "metadata": {},
   "outputs": [],
   "source": [
    "def _summarize_results(y_pred, y_score, y_test, labels):\n",
    "    results = []\n",
    "    for idx, label in enumerate(labels):\n",
    "        y_pred_filt = y_pred[y_test==idx]\n",
    "        y_test_filt = y_test[y_test==idx]\n",
    "        acc = (y_pred_filt==y_test_filt.numpy()).sum()/len(y_test_filt)*100\n",
    "        results.append({\n",
    "            \"Class\": label,\n",
    "            \"Metric\": acc\n",
    "        })\n",
    "        \n",
    "    acc = (y_pred==y_test.numpy()).sum()/len(y_test)*100    \n",
    "    results.append({\n",
    "        \"Class\": \"Total\",\n",
    "        \"Metric\": acc\n",
    "    })\n",
    "    \n",
    "    \n",
    "    results.append({\n",
    "        \"Class\": \"balanced_accuracy\",\n",
    "        \"Metric\": balanced_accuracy_score(y_test, torch.from_numpy(y_pred)).item()*100\n",
    "    })\n",
    "    \n",
    "    try:\n",
    "        results.append({\n",
    "            \"Class\": \"F1 score\",\n",
    "            \"Metric\": f1_score(y_test, torch.from_numpy(y_pred)).item()*100\n",
    "        })\n",
    "        results.append({\n",
    "            \"Class\": \"roc_auc\",\n",
    "            \"Metric\": roc_auc_score(y_test, torch.from_numpy(y_score[:, 1])).item()*100\n",
    "        })\n",
    "        results.append({\n",
    "            \"Class\": \"Precision\",\n",
    "            \"Metric\": precision_score(y_test, torch.from_numpy(y_pred)).item()*100\n",
    "        })\n",
    "        results.append({\n",
    "            \"Class\": \"Recall\",\n",
    "            \"Metric\": recall_score(y_test, torch.from_numpy(y_pred)).item()*100\n",
    "        })\n",
    "    except ValueError:\n",
    "        pass\n",
    "    return results\n",
    "\n",
    "def test_model(model_fn, data, train_size, label_encoder=None, iters=10, as_numpy=False):\n",
    "    if TEST_RUN:\n",
    "        iters = 1\n",
    "        \n",
    "    if label_encoder is not None:\n",
    "        labels = label_encoder.classes_\n",
    "    else:\n",
    "        labels = sorted(pd.unique(data[1][0] if isinstance(data[1], tuple) else data[1]))\n",
    "\n",
    "    \n",
    "    results = []\n",
    "    \n",
    "    X, y = data\n",
    "\n",
    "    for i in range(iters):\n",
    "        X_train, X_test, y_train, y_test = prepare_data(*data, train_size)\n",
    "        print('iter', i+1, 'of', iters, 'X_train shape', X_train.shape)\n",
    "\n",
    "        model = model_fn()\n",
    "\n",
    "        if as_numpy:\n",
    "            model.fit(X_train.numpy(), y_train.numpy());\n",
    "        else:\n",
    "            model.fit(X_train, y_train)\n",
    "        \n",
    "        y_pred = model.predict(X_test)\n",
    "        y_score = model.predict_proba(X_test)\n",
    "        results.extend(_summarize_results(y_pred, y_score, y_test, labels))\n",
    "\n",
    "    dframe = pd.DataFrame.from_dict(results)\n",
    "    sns.violinplot(data=dframe[dframe[\"Class\"]!=\"Loss\"], y=\"Class\", x=\"Metric\", orient='h')\n",
    "    return dframe"
   ]
  },
  {
   "cell_type": "markdown",
   "id": "23f351cf",
   "metadata": {},
   "source": [
    "### Param search"
   ]
  },
  {
   "cell_type": "code",
   "execution_count": null,
   "id": "d1a95790",
   "metadata": {},
   "outputs": [],
   "source": []
  },
  {
   "cell_type": "code",
   "execution_count": 18,
   "id": "ecee618e",
   "metadata": {},
   "outputs": [],
   "source": [
    "def pyhopper_best_params(model_fn, param_grid, data, train_size, metric=GS_METRIC, time=\"30m\", default_params={}):\n",
    "    if TEST_RUN:\n",
    "        time = 60\n",
    "        if 'epochs' in param_grid:\n",
    "            param_grid[\"epochs\"] = pyhopper.choice([10])\n",
    "    \n",
    "    X, y = data\n",
    "    print('pyhopper', X.shape, y.shape, train_size)\n",
    "        \n",
    "    def objective(params):\n",
    "    #     print(\"Training...\")\n",
    "        print('params',params)\n",
    "        model_results = test_model(\n",
    "                        model_fn(\n",
    "                            **default_params,\n",
    "                            **params\n",
    "                        ),\n",
    "                        (X, y),\n",
    "                        train_size,\n",
    "                        None, 5)\n",
    "        with open(f\"{DATA}_{model_fn.__name__}_params.txt\", \"a\") as f:\n",
    "            f.write(str(params) + \", \" + str(model_results[model_results[\"Class\"]==metric][\"Metric\"].mean()) + \"\\n\")\n",
    "        return model_results[model_results[\"Class\"]==metric][\"Metric\"].mean()\n",
    "\n",
    "    from pyhopper.callbacks import History\n",
    "    search = pyhopper.Search(param_grid)\n",
    "\n",
    "    best_params = search.run(objective, \"maximize\", time, n_jobs=\"1x per-gpu\", seeding_ratio=0.5)\n",
    "    \n",
    "    with open(f\"{DATA}_{model_fn.__name__}_best_params.txt\", \"a\") as f:\n",
    "            f.write(str(best_params))\n",
    "    \n",
    "    print(f\"{DATA}_{model_fn.__name__}_{best_params}\")\n",
    "    return best_params\n"
   ]
  },
  {
   "cell_type": "code",
   "execution_count": 19,
   "id": "944fb91e",
   "metadata": {},
   "outputs": [],
   "source": [
    "def set_seed():\n",
    "    np.random.seed(42)\n",
    "    torch.manual_seed(42)\n",
    "    import random\n",
    "\n",
    "    random.seed(42)"
   ]
  },
  {
   "cell_type": "code",
   "execution_count": 20,
   "id": "7f36d77d",
   "metadata": {},
   "outputs": [],
   "source": [
    "d = {}"
   ]
  },
  {
   "cell_type": "markdown",
   "id": "5cc5323f",
   "metadata": {},
   "source": [
    "# TRAIN"
   ]
  },
  {
   "cell_type": "markdown",
   "id": "be085e25",
   "metadata": {},
   "source": [
    "# Ionosphere"
   ]
  },
  {
   "cell_type": "code",
   "execution_count": 21,
   "id": "5a1ffee3",
   "metadata": {},
   "outputs": [],
   "source": [
    "set_seed()"
   ]
  },
  {
   "cell_type": "code",
   "execution_count": 22,
   "id": "0c02a507",
   "metadata": {},
   "outputs": [],
   "source": [
    "DATA = \"Ionosphere\""
   ]
  },
  {
   "cell_type": "code",
   "execution_count": 23,
   "id": "412ed182",
   "metadata": {},
   "outputs": [],
   "source": [
    "if DATA == \"Ionosphere\":\n",
    "    ionosphere = pd.read_csv('https://archive.ics.uci.edu/ml/machine-learning-databases/ionosphere/ionosphere.data', header=None)\n",
    "    ionosphere = ionosphere.drop(1, axis=1)\n",
    "    X = ionosphere.values[:, :-1].astype(float)\n",
    "    y = ionosphere.values[:, -1]\n",
    "    y = LabelEncoder().fit_transform(y).astype(int)\n",
    "    #(351, 33) 2\n",
    "    GS_METRIC = \"balanced_accuracy\"\n",
    "\n"
   ]
  },
  {
   "cell_type": "code",
   "execution_count": 24,
   "id": "987cac76",
   "metadata": {},
   "outputs": [
    {
     "name": "stdout",
     "output_type": "stream",
     "text": [
      "{0: 126, 1: 225}\n",
      "n_classes 2\n",
      "n_features 33\n"
     ]
    }
   ],
   "source": [
    "n_classes = len(np.unique(y))\n",
    "n_features = X.shape[1]\n",
    "unique, counts = np.unique(y, return_counts=True)\n",
    "\n",
    "print(dict(zip(unique, counts)))\n",
    "\n",
    "print('n_classes', n_classes)\n",
    "print('n_features', n_features)"
   ]
  },
  {
   "cell_type": "code",
   "execution_count": 25,
   "id": "6e884840",
   "metadata": {},
   "outputs": [
    {
     "name": "stdout",
     "output_type": "stream",
     "text": [
      "train_max_size 210\n",
      "eval_max_size 280\n"
     ]
    }
   ],
   "source": [
    "X_train, X_test, y_train, y_test = train_test_split(X, y, train_size=0.8, stratify=y)\n",
    "\n",
    "eval_max_size = int(len(X_train))\n",
    "train_max_size = int(len(X_train) * 0.75)\n",
    "print('train_max_size', train_max_size)\n",
    "print('eval_max_size', eval_max_size)"
   ]
  },
  {
   "cell_type": "code",
   "execution_count": 26,
   "id": "15630093",
   "metadata": {},
   "outputs": [
    {
     "data": {
      "text/plain": [
       "(280, 33)"
      ]
     },
     "execution_count": 26,
     "metadata": {},
     "output_type": "execute_result"
    }
   ],
   "source": [
    "X_train.shape"
   ]
  },
  {
   "cell_type": "code",
   "execution_count": 27,
   "id": "8cd85259",
   "metadata": {},
   "outputs": [],
   "source": [
    "def network_hp_fn(epochs=150, masks_no=100, mask_size=100, target_size=100, lr=3e-4, batch_size=64, verbose=False):\n",
    "    def _inner():\n",
    "        hypernet = Hypernetwork(\n",
    "                        target_architecture=[(mask_size, target_size), (target_size, n_classes)],\n",
    "                        test_nodes=masks_no,\n",
    "                        architecture=torch.nn.Sequential(torch.nn.Linear(n_features, 32), \n",
    "                            torch.nn.ReLU(),\n",
    "                            torch.nn.Linear(32, 128),\n",
    "                            torch.nn.ReLU(),\n",
    "                            torch.nn.Dropout(),\n",
    "                            torch.nn.Linear(128, 128),\n",
    "                            torch.nn.ReLU(),\n",
    "                        ),\n",
    "                        mode=TrainingModes.CARTHESIAN,\n",
    "                    ).to(DEVICE)    \n",
    "        hypernet = hypernet.train()\n",
    "\n",
    "        network = HypernetworkSklearnInterface(hypernet, device=DEVICE, epochs=epochs, batch_size=batch_size, verbose=verbose, lr=lr)\n",
    "        return network\n",
    "    return _inner"
   ]
  },
  {
   "cell_type": "code",
   "execution_count": 28,
   "id": "60b26384",
   "metadata": {},
   "outputs": [
    {
     "name": "stdout",
     "output_type": "stream",
     "text": [
      "pyhopper (280, 33) (280,) 210\n"
     ]
    },
    {
     "data": {
      "application/vnd.jupyter.widget-view+json": {
       "model_id": "65812ca63cad47c5b3ce3bfa20005cac",
       "version_major": 2,
       "version_minor": 0
      },
      "text/plain": [
       "  0%|          | [00:00<?]"
      ]
     },
     "metadata": {},
     "output_type": "display_data"
    },
    {
     "name": "stdout",
     "output_type": "stream",
     "text": [
      "Search is scheduled for 01:30:00 (h:m:s)\n",
      "params {'epochs': 100, 'masks_no': 10, 'mask_size': 2, 'target_size': 5, 'lr': 3e-05, 'batch_size': 32}\n",
      "iter 1 of 5 X_train shape torch.Size([210, 33])\n",
      "torch.Size([1, 128])\n",
      "iter 2 of 5 X_train shape torch.Size([210, 33])\n",
      "torch.Size([1, 128])\n",
      "iter 3 of 5 X_train shape torch.Size([210, 33])\n",
      "torch.Size([1, 128])\n",
      "iter 4 of 5 X_train shape torch.Size([210, 33])\n",
      "torch.Size([1, 128])\n",
      "iter 5 of 5 X_train shape torch.Size([210, 33])\n",
      "torch.Size([1, 128])\n",
      "params {'epochs': 150, 'masks_no': 20, 'mask_size': 20, 'target_size': 50, 'lr': 0.03, 'batch_size': 32}\n",
      "iter 1 of 5 X_train shape torch.Size([210, 33])\n",
      "torch.Size([1, 128])\n",
      "iter 2 of 5 X_train shape torch.Size([210, 33])\n",
      "torch.Size([1, 128])\n",
      "iter 3 of 5 X_train shape torch.Size([210, 33])\n",
      "torch.Size([1, 128])\n",
      "iter 4 of 5 X_train shape torch.Size([210, 33])\n",
      "torch.Size([1, 128])\n",
      "iter 5 of 5 X_train shape torch.Size([210, 33])\n",
      "torch.Size([1, 128])\n",
      "params {'epochs': 100, 'masks_no': 150, 'mask_size': 2, 'target_size': 10, 'lr': 3e-05, 'batch_size': 64}\n",
      "iter 1 of 5 X_train shape torch.Size([210, 33])\n",
      "torch.Size([1, 128])\n",
      "iter 2 of 5 X_train shape torch.Size([210, 33])\n",
      "torch.Size([1, 128])\n",
      "iter 3 of 5 X_train shape torch.Size([210, 33])\n",
      "torch.Size([1, 128])\n",
      "iter 4 of 5 X_train shape torch.Size([210, 33])\n",
      "torch.Size([1, 128])\n",
      "iter 5 of 5 X_train shape torch.Size([210, 33])\n",
      "torch.Size([1, 128])\n",
      "params {'epochs': 150, 'masks_no': 80, 'mask_size': 5, 'target_size': 10, 'lr': 0.3, 'batch_size': 32}\n",
      "iter 1 of 5 X_train shape torch.Size([210, 33])\n",
      "torch.Size([1, 128])\n",
      "iter 2 of 5 X_train shape torch.Size([210, 33])\n",
      "torch.Size([1, 128])\n",
      "iter 3 of 5 X_train shape torch.Size([210, 33])\n",
      "torch.Size([1, 128])\n",
      "iter 4 of 5 X_train shape torch.Size([210, 33])\n",
      "torch.Size([1, 128])\n",
      "iter 5 of 5 X_train shape torch.Size([210, 33])\n",
      "torch.Size([1, 128])\n",
      "params {'epochs': 100, 'masks_no': 80, 'mask_size': 5, 'target_size': 20, 'lr': 3e-05, 'batch_size': 32}\n",
      "iter 1 of 5 X_train shape torch.Size([210, 33])\n",
      "torch.Size([1, 128])\n",
      "iter 2 of 5 X_train shape torch.Size([210, 33])\n",
      "torch.Size([1, 128])\n",
      "iter 3 of 5 X_train shape torch.Size([210, 33])\n",
      "torch.Size([1, 128])\n",
      "iter 4 of 5 X_train shape torch.Size([210, 33])\n",
      "torch.Size([1, 128])\n",
      "iter 5 of 5 X_train shape torch.Size([210, 33])\n",
      "torch.Size([1, 128])\n",
      "params {'epochs': 100, 'masks_no': 20, 'mask_size': 25, 'target_size': 5, 'lr': 0.03, 'batch_size': 32}\n",
      "iter 1 of 5 X_train shape torch.Size([210, 33])\n",
      "torch.Size([1, 128])\n",
      "iter 2 of 5 X_train shape torch.Size([210, 33])\n",
      "torch.Size([1, 128])\n",
      "iter 3 of 5 X_train shape torch.Size([210, 33])\n",
      "torch.Size([1, 128])\n",
      "iter 4 of 5 X_train shape torch.Size([210, 33])\n",
      "torch.Size([1, 128])\n",
      "iter 5 of 5 X_train shape torch.Size([210, 33])\n",
      "torch.Size([1, 128])\n",
      "params {'epochs': 150, 'masks_no': 20, 'mask_size': 5, 'target_size': 50, 'lr': 0.003, 'batch_size': 32}\n",
      "iter 1 of 5 X_train shape torch.Size([210, 33])\n",
      "torch.Size([1, 128])\n",
      "iter 2 of 5 X_train shape torch.Size([210, 33])\n",
      "torch.Size([1, 128])\n",
      "iter 3 of 5 X_train shape torch.Size([210, 33])\n",
      "torch.Size([1, 128])\n",
      "iter 4 of 5 X_train shape torch.Size([210, 33])\n",
      "torch.Size([1, 128])\n",
      "iter 5 of 5 X_train shape torch.Size([210, 33])\n",
      "torch.Size([1, 128])\n",
      "params {'epochs': 150, 'masks_no': 50, 'mask_size': 2, 'target_size': 50, 'lr': 0.03, 'batch_size': 32}\n",
      "iter 1 of 5 X_train shape torch.Size([210, 33])\n",
      "torch.Size([1, 128])\n",
      "iter 2 of 5 X_train shape torch.Size([210, 33])\n",
      "torch.Size([1, 128])\n",
      "iter 3 of 5 X_train shape torch.Size([210, 33])\n",
      "torch.Size([1, 128])\n",
      "iter 4 of 5 X_train shape torch.Size([210, 33])\n",
      "torch.Size([1, 128])\n",
      "iter 5 of 5 X_train shape torch.Size([210, 33])\n",
      "torch.Size([1, 128])\n",
      "params {'epochs': 150, 'masks_no': 20, 'mask_size': 2, 'target_size': 50, 'lr': 0.03, 'batch_size': 32}\n",
      "iter 1 of 5 X_train shape torch.Size([210, 33])\n",
      "torch.Size([1, 128])\n",
      "iter 2 of 5 X_train shape torch.Size([210, 33])\n",
      "torch.Size([1, 128])\n",
      "iter 3 of 5 X_train shape torch.Size([210, 33])\n",
      "torch.Size([1, 128])\n",
      "iter 4 of 5 X_train shape torch.Size([210, 33])\n",
      "torch.Size([1, 128])\n",
      "iter 5 of 5 X_train shape torch.Size([210, 33])\n",
      "torch.Size([1, 128])\n",
      "====================== Summary ======================\n",
      "Mode              : Best f : Steps : Time            \n",
      "----------------  : ----   : ----  : ----            \n",
      "Initial solution  : 70.13  : 1     : 02:42 (m:s)     \n",
      "Random seeding    : 94.67  : 4     : 50:29 (m:s)     \n",
      "Local sampling    : 94.62  : 4     : 28:57 (m:s)     \n",
      "----------------  : ----   : ----  : ----            \n",
      "Total             : 94.67  : 9     : 01:22:08 (h:m:s)\n",
      "=====================================================\n",
      "Ionosphere_network_hp_fn_{'epochs': 150, 'masks_no': 20, 'mask_size': 20, 'target_size': 50, 'lr': 0.03, 'batch_size': 32}\n"
     ]
    },
    {
     "data": {
      "text/plain": [
       "{'epochs': 150,\n",
       " 'masks_no': 20,\n",
       " 'mask_size': 20,\n",
       " 'target_size': 50,\n",
       " 'lr': 0.03,\n",
       " 'batch_size': 32}"
      ]
     },
     "execution_count": 28,
     "metadata": {},
     "output_type": "execute_result"
    },
    {
     "data": {
      "image/png": "[encoded data removed]",
      "text/plain": [
       "<Figure size 576x396 with 1 Axes>"
      ]
     },
     "metadata": {},
     "output_type": "display_data"
    }
   ],
   "source": [
    "\n",
    "param_grid = {\n",
    "    \"epochs\": pyhopper.choice([100, 150]),\n",
    "    \"masks_no\": pyhopper.choice([10, 20, 50, 80, 100, 150, 200]),\n",
    "    \"mask_size\": pyhopper.choice([2, 5, 10, 15, 20, 25]),\n",
    "    \"target_size\": pyhopper.choice([5, 10, 20, 50]),\n",
    "    \"lr\": pyhopper.choice([3e-5, 3e-4, 3e-3, 3e-2, 3e-1]),\n",
    "    \"batch_size\": pyhopper.choice([32, 64]),\n",
    "}\n",
    "#{'epochs': 100, 'masks_no': 10, 'mask_size': 2, 'target_size': 5, 'lr': 3e-05, 'batch_size': 32}\n",
    "hp_best_params = pyhopper_best_params(\n",
    "    network_hp_fn, param_grid, data=(X_train, y_train), train_size=train_max_size, time=\"90m\"\n",
    ")\n",
    "hp_best_params"
   ]
  },
  {
   "cell_type": "code",
   "execution_count": 29,
   "id": "443fb50b",
   "metadata": {},
   "outputs": [
    {
     "name": "stdout",
     "output_type": "stream",
     "text": [
      "iter 1 of 1 X_train shape torch.Size([280, 33])\n",
      "torch.Size([1, 128])\n"
     ]
    },
    {
     "name": "stderr",
     "output_type": "stream",
     "text": [
      "100%|██████████| 150/150 [00:59<00:00,  2.53it/s]\n"
     ]
    },
    {
     "data": {
      "image/png": "[encoded data removed]",
      "text/plain": [
       "<Figure size 576x396 with 1 Axes>"
      ]
     },
     "metadata": {},
     "output_type": "display_data"
    }
   ],
   "source": [
    "epochs = hp_best_params['epochs']\n",
    "masks_no = hp_best_params['masks_no']\n",
    "mask_size = hp_best_params['mask_size']\n",
    "target_size = hp_best_params['target_size']\n",
    "\n",
    "\n",
    "hyper_results = test_model(network_hp_fn(epochs, masks_no, mask_size, target_size, verbose=True),\n",
    "                    ((X_train, X_test), (y_train, y_test)),\n",
    "                    eval_max_size,\n",
    "                    None, 1)"
   ]
  },
  {
   "cell_type": "code",
   "execution_count": 30,
   "id": "2ecc5992",
   "metadata": {},
   "outputs": [
    {
     "name": "stdout",
     "output_type": "stream",
     "text": [
      "280: 97.18 ~ nan, (max: 97.18)\n"
     ]
    }
   ],
   "source": [
    "res = hyper_results[hyper_results[\"Class\"]==\"Total\"].reset_index(drop=True)[\"Metric\"]\n",
    "print(f\"{eval_max_size}: {res.mean():.2f} ~ {res.std():.2f}, (max: {res.max():.2f})\")"
   ]
  },
  {
   "cell_type": "code",
   "execution_count": 31,
   "id": "392e1736",
   "metadata": {},
   "outputs": [],
   "source": [
    "hyper_results.to_csv(f\"{DATA}_hypertab_valid_metrics.csv\")"
   ]
  },
  {
   "cell_type": "markdown",
   "id": "43964823",
   "metadata": {},
   "source": [
    "# Libras"
   ]
  },
  {
   "cell_type": "code",
   "execution_count": 32,
   "id": "6fa0b91a",
   "metadata": {},
   "outputs": [],
   "source": [
    "set_seed()"
   ]
  },
  {
   "cell_type": "code",
   "execution_count": 33,
   "id": "0f6b82db",
   "metadata": {},
   "outputs": [],
   "source": [
    "DATA = \"Libras\""
   ]
  },
  {
   "cell_type": "code",
   "execution_count": 34,
   "id": "4b787a6d",
   "metadata": {},
   "outputs": [],
   "source": [
    "if DATA == \"Libras\":\n",
    "    libras = pd.read_csv('https://archive.ics.uci.edu/ml/machine-learning-databases/libras/movement_libras.data', header=None)\n",
    "    X = libras.values[:, :-1].astype(float)\n",
    "    y = libras.values[:, -1].astype(int)\n",
    "    y = LabelEncoder().fit_transform(y).astype(int)\n",
    "    #(360, 90) 15\n",
    "    GS_METRIC = \"balanced_accuracy\""
   ]
  },
  {
   "cell_type": "code",
   "execution_count": 35,
   "id": "7539efe8",
   "metadata": {},
   "outputs": [
    {
     "name": "stdout",
     "output_type": "stream",
     "text": [
      "{0: 24, 1: 24, 2: 24, 3: 24, 4: 24, 5: 24, 6: 24, 7: 24, 8: 24, 9: 24, 10: 24, 11: 24, 12: 24, 13: 24, 14: 24}\n",
      "n_classes 15\n",
      "n_features 90\n"
     ]
    }
   ],
   "source": [
    "n_classes = len(np.unique(y))\n",
    "n_features = X.shape[1]\n",
    "unique, counts = np.unique(y, return_counts=True)\n",
    "\n",
    "print(dict(zip(unique, counts)))\n",
    "\n",
    "print('n_classes', n_classes)\n",
    "print('n_features', n_features)"
   ]
  },
  {
   "cell_type": "code",
   "execution_count": 36,
   "id": "acce584b",
   "metadata": {},
   "outputs": [
    {
     "name": "stdout",
     "output_type": "stream",
     "text": [
      "train_max_size 216\n",
      "eval_max_size 288\n"
     ]
    }
   ],
   "source": [
    "X_train, X_test, y_train, y_test = train_test_split(X, y, train_size=0.8, stratify=y)\n",
    "\n",
    "eval_max_size = int(len(X_train))\n",
    "train_max_size = int(len(X_train) * 0.75)\n",
    "print('train_max_size', train_max_size)\n",
    "print('eval_max_size', eval_max_size)"
   ]
  },
  {
   "cell_type": "code",
   "execution_count": 37,
   "id": "3130ba29",
   "metadata": {},
   "outputs": [],
   "source": [
    "def network_hp_fn(epochs=150, masks_no=100, mask_size=100, target_size=100, lr=3e-4, batch_size=64):\n",
    "    def _inner():\n",
    "        hypernet = Hypernetwork(\n",
    "                        target_architecture=[(mask_size, target_size), (target_size, n_classes)],\n",
    "                        test_nodes=masks_no,\n",
    "                        architecture=torch.nn.Sequential(torch.nn.Linear(n_features, 128), \n",
    "                            torch.nn.ReLU(),\n",
    "                            torch.nn.Linear(128, 256),\n",
    "                            torch.nn.ReLU(),\n",
    "                            torch.nn.Dropout(),\n",
    "                            torch.nn.Linear(256, 256),\n",
    "                            torch.nn.ReLU(),\n",
    "                        ),\n",
    "                        mode=TrainingModes.CARTHESIAN,\n",
    "                    ).to(DEVICE)    \n",
    "        hypernet = hypernet.train()\n",
    "\n",
    "        network = HypernetworkSklearnInterface(hypernet, device=DEVICE, epochs=epochs, batch_size=batch_size, verbose=False, lr=3e-4)\n",
    "        return network\n",
    "    return _inner"
   ]
  },
  {
   "cell_type": "code",
   "execution_count": 38,
   "id": "e94c54c5",
   "metadata": {
    "scrolled": true
   },
   "outputs": [
    {
     "name": "stdout",
     "output_type": "stream",
     "text": [
      "pyhopper (288, 90) (288,) 216\n"
     ]
    },
    {
     "data": {
      "application/vnd.jupyter.widget-view+json": {
       "model_id": "ed01822be66d46d58980fc4e0d9e772a",
       "version_major": 2,
       "version_minor": 0
      },
      "text/plain": [
       "  0%|          | [00:00<?]"
      ]
     },
     "metadata": {},
     "output_type": "display_data"
    },
    {
     "name": "stdout",
     "output_type": "stream",
     "text": [
      "Search is scheduled for 02:00:00 (h:m:s)\n",
      "params {'epochs': 100, 'masks_no': 10, 'mask_size': 5, 'target_size': 5, 'lr': 3e-05, 'batch_size': 32}\n",
      "iter 1 of 5 X_train shape torch.Size([216, 90])\n",
      "torch.Size([1, 256])\n",
      "iter 2 of 5 X_train shape torch.Size([216, 90])\n",
      "torch.Size([1, 256])\n",
      "iter 3 of 5 X_train shape torch.Size([216, 90])\n",
      "torch.Size([1, 256])\n",
      "iter 4 of 5 X_train shape torch.Size([216, 90])\n",
      "torch.Size([1, 256])\n",
      "iter 5 of 5 X_train shape torch.Size([216, 90])\n",
      "torch.Size([1, 256])\n",
      "params {'epochs': 150, 'masks_no': 150, 'mask_size': 25, 'target_size': 50, 'lr': 3e-05, 'batch_size': 64}\n",
      "iter 1 of 5 X_train shape torch.Size([216, 90])\n",
      "torch.Size([1, 256])\n",
      "iter 2 of 5 X_train shape torch.Size([216, 90])\n",
      "torch.Size([1, 256])\n",
      "iter 3 of 5 X_train shape torch.Size([216, 90])\n",
      "torch.Size([1, 256])\n",
      "iter 4 of 5 X_train shape torch.Size([216, 90])\n",
      "torch.Size([1, 256])\n",
      "iter 5 of 5 X_train shape torch.Size([216, 90])\n",
      "torch.Size([1, 256])\n",
      "params {'epochs': 150, 'masks_no': 150, 'mask_size': 50, 'target_size': 100, 'lr': 0.3, 'batch_size': 64}\n",
      "iter 1 of 5 X_train shape torch.Size([216, 90])\n",
      "torch.Size([1, 256])\n",
      "iter 2 of 5 X_train shape torch.Size([216, 90])\n",
      "torch.Size([1, 256])\n",
      "iter 3 of 5 X_train shape torch.Size([216, 90])\n",
      "torch.Size([1, 256])\n",
      "iter 4 of 5 X_train shape torch.Size([216, 90])\n",
      "torch.Size([1, 256])\n",
      "iter 5 of 5 X_train shape torch.Size([216, 90])\n",
      "torch.Size([1, 256])\n",
      "params {'epochs': 150, 'masks_no': 150, 'mask_size': 5, 'target_size': 100, 'lr': 0.003, 'batch_size': 64}\n",
      "iter 1 of 5 X_train shape torch.Size([216, 90])\n",
      "torch.Size([1, 256])\n",
      "iter 2 of 5 X_train shape torch.Size([216, 90])\n",
      "torch.Size([1, 256])\n",
      "iter 3 of 5 X_train shape torch.Size([216, 90])\n",
      "torch.Size([1, 256])\n",
      "iter 4 of 5 X_train shape torch.Size([216, 90])\n",
      "torch.Size([1, 256])\n",
      "iter 5 of 5 X_train shape torch.Size([216, 90])\n",
      "torch.Size([1, 256])\n",
      "params {'epochs': 150, 'masks_no': 200, 'mask_size': 25, 'target_size': 150, 'lr': 3e-05, 'batch_size': 64}\n",
      "iter 1 of 5 X_train shape torch.Size([216, 90])\n",
      "torch.Size([1, 256])\n",
      "iter 2 of 5 X_train shape torch.Size([216, 90])\n",
      "torch.Size([1, 256])\n",
      "iter 3 of 5 X_train shape torch.Size([216, 90])\n",
      "torch.Size([1, 256])\n",
      "iter 4 of 5 X_train shape torch.Size([216, 90])\n",
      "torch.Size([1, 256])\n",
      "iter 5 of 5 X_train shape torch.Size([216, 90])\n",
      "torch.Size([1, 256])\n",
      "params {'epochs': 150, 'masks_no': 200, 'mask_size': 10, 'target_size': 100, 'lr': 0.003, 'batch_size': 32}\n",
      "iter 1 of 5 X_train shape torch.Size([216, 90])\n",
      "torch.Size([1, 256])\n",
      "iter 2 of 5 X_train shape torch.Size([216, 90])\n",
      "torch.Size([1, 256])\n",
      "iter 3 of 5 X_train shape torch.Size([216, 90])\n",
      "torch.Size([1, 256])\n",
      "iter 4 of 5 X_train shape torch.Size([216, 90])\n",
      "torch.Size([1, 256])\n",
      "iter 5 of 5 X_train shape torch.Size([216, 90])\n",
      "torch.Size([1, 256])\n",
      "====================== Summary ======================\n",
      "Mode              : Best f : Steps : Time            \n",
      "----------------  : ----   : ----  : ----            \n",
      "Initial solution  : 78.33  : 1     : 02:42 (m:s)     \n",
      "Random seeding    : 85.87  : 3     : 01:00:43 (h:m:s)\n",
      "Local sampling    : 87.53  : 2     : 01:10:28 (h:m:s)\n",
      "Duplicates        : -      : 1     : -               \n",
      "----------------  : ----   : ----  : ----            \n",
      "Total             : 87.53  : 7     : 02:13:53 (h:m:s)\n",
      "=====================================================\n",
      "Libras_network_hp_fn_{'epochs': 150, 'masks_no': 200, 'mask_size': 10, 'target_size': 100, 'lr': 0.003, 'batch_size': 32}\n"
     ]
    },
    {
     "data": {
      "text/plain": [
       "{'epochs': 150,\n",
       " 'masks_no': 200,\n",
       " 'mask_size': 10,\n",
       " 'target_size': 100,\n",
       " 'lr': 0.003,\n",
       " 'batch_size': 32}"
      ]
     },
     "execution_count": 38,
     "metadata": {},
     "output_type": "execute_result"
    },
    {
     "data": {
      "image/png": "[encoded data removed]",
      "text/plain": [
       "<Figure size 576x396 with 1 Axes>"
      ]
     },
     "metadata": {},
     "output_type": "display_data"
    }
   ],
   "source": [
    "param_grid = {\n",
    "    \"epochs\": pyhopper.choice([100, 150]),\n",
    "    \"masks_no\": pyhopper.choice([10, 20, 50, 80, 100, 150, 200]),\n",
    "    \"mask_size\": pyhopper.choice([5, 10, 15, 25, 50, 70]),\n",
    "    \"target_size\": pyhopper.choice([5, 10, 20, 50, 100, 150]),\n",
    "    \"lr\": pyhopper.choice([3e-5, 3e-4, 3e-3, 3e-2, 3e-1]),\n",
    "    \"batch_size\": pyhopper.choice([32, 64]),\n",
    "}\n",
    "\n",
    "hp_best_params = pyhopper_best_params(\n",
    "    network_hp_fn, param_grid, data=(X_train, y_train), train_size=train_max_size, time=\"120m\"\n",
    ")\n",
    "hp_best_params"
   ]
  },
  {
   "cell_type": "code",
   "execution_count": 39,
   "id": "e7b613ca",
   "metadata": {},
   "outputs": [
    {
     "name": "stdout",
     "output_type": "stream",
     "text": [
      "iter 1 of 1 X_train shape torch.Size([288, 90])\n",
      "torch.Size([1, 256])\n"
     ]
    },
    {
     "data": {
      "image/png": "[encoded data removed]",
      "text/plain": [
       "<Figure size 576x396 with 1 Axes>"
      ]
     },
     "metadata": {},
     "output_type": "display_data"
    }
   ],
   "source": [
    "epochs = hp_best_params['epochs']\n",
    "masks_no = hp_best_params['masks_no']\n",
    "mask_size = hp_best_params['mask_size']\n",
    "target_size = hp_best_params['target_size']\n",
    "\n",
    "hyper_results = test_model(network_hp_fn(epochs, masks_no, mask_size, target_size),\n",
    "                    ((X_train, X_test), (y_train, y_test)),\n",
    "                    eval_max_size,\n",
    "                    None, 1)"
   ]
  },
  {
   "cell_type": "code",
   "execution_count": 40,
   "id": "e5d32869",
   "metadata": {},
   "outputs": [
    {
     "name": "stdout",
     "output_type": "stream",
     "text": [
      "288: 81.94 ~ nan, (max: 81.94)\n"
     ]
    }
   ],
   "source": [
    "res = hyper_results[hyper_results[\"Class\"]==\"Total\"].reset_index(drop=True)[\"Metric\"]\n",
    "print(f\"{eval_max_size}: {res.mean():.2f} ~ {res.std():.2f}, (max: {res.max():.2f})\")"
   ]
  },
  {
   "cell_type": "code",
   "execution_count": 41,
   "id": "34e73da7",
   "metadata": {},
   "outputs": [],
   "source": [
    "d[DATA] = hyper_results.groupby(\"Class\")['Metric'].agg(['mean', 'std', 'max'])"
   ]
  },
  {
   "cell_type": "code",
   "execution_count": 42,
   "id": "f5d836cd",
   "metadata": {},
   "outputs": [],
   "source": [
    "hyper_results.to_csv(f\"{DATA}_hypertab_valid_metrics.csv\")"
   ]
  },
  {
   "cell_type": "code",
   "execution_count": 43,
   "id": "27953528",
   "metadata": {},
   "outputs": [
    {
     "data": {
      "text/plain": [
       "'Libras'"
      ]
     },
     "execution_count": 43,
     "metadata": {},
     "output_type": "execute_result"
    }
   ],
   "source": [
    "DATA"
   ]
  },
  {
   "cell_type": "code",
   "execution_count": 44,
   "id": "452d0828",
   "metadata": {},
   "outputs": [
    {
     "data": {
      "text/html": [
       "<div>\n",
       "<style scoped>\n",
       "    .dataframe tbody tr th:only-of-type {\n",
       "        vertical-align: middle;\n",
       "    }\n",
       "\n",
       "    .dataframe tbody tr th {\n",
       "        vertical-align: top;\n",
       "    }\n",
       "\n",
       "    .dataframe thead th {\n",
       "        text-align: right;\n",
       "    }\n",
       "</style>\n",
       "<table border=\"1\" class=\"dataframe\">\n",
       "  <thead>\n",
       "    <tr style=\"text-align: right;\">\n",
       "      <th></th>\n",
       "      <th>mean</th>\n",
       "      <th>std</th>\n",
       "      <th>max</th>\n",
       "    </tr>\n",
       "    <tr>\n",
       "      <th>Class</th>\n",
       "      <th></th>\n",
       "      <th></th>\n",
       "      <th></th>\n",
       "    </tr>\n",
       "  </thead>\n",
       "  <tbody>\n",
       "    <tr>\n",
       "      <th>0</th>\n",
       "      <td>100.000000</td>\n",
       "      <td>NaN</td>\n",
       "      <td>100.000000</td>\n",
       "    </tr>\n",
       "    <tr>\n",
       "      <th>1</th>\n",
       "      <td>100.000000</td>\n",
       "      <td>NaN</td>\n",
       "      <td>100.000000</td>\n",
       "    </tr>\n",
       "    <tr>\n",
       "      <th>2</th>\n",
       "      <td>100.000000</td>\n",
       "      <td>NaN</td>\n",
       "      <td>100.000000</td>\n",
       "    </tr>\n",
       "    <tr>\n",
       "      <th>3</th>\n",
       "      <td>100.000000</td>\n",
       "      <td>NaN</td>\n",
       "      <td>100.000000</td>\n",
       "    </tr>\n",
       "    <tr>\n",
       "      <th>4</th>\n",
       "      <td>80.000000</td>\n",
       "      <td>NaN</td>\n",
       "      <td>80.000000</td>\n",
       "    </tr>\n",
       "    <tr>\n",
       "      <th>5</th>\n",
       "      <td>80.000000</td>\n",
       "      <td>NaN</td>\n",
       "      <td>80.000000</td>\n",
       "    </tr>\n",
       "    <tr>\n",
       "      <th>6</th>\n",
       "      <td>100.000000</td>\n",
       "      <td>NaN</td>\n",
       "      <td>100.000000</td>\n",
       "    </tr>\n",
       "    <tr>\n",
       "      <th>7</th>\n",
       "      <td>40.000000</td>\n",
       "      <td>NaN</td>\n",
       "      <td>40.000000</td>\n",
       "    </tr>\n",
       "    <tr>\n",
       "      <th>8</th>\n",
       "      <td>80.000000</td>\n",
       "      <td>NaN</td>\n",
       "      <td>80.000000</td>\n",
       "    </tr>\n",
       "    <tr>\n",
       "      <th>9</th>\n",
       "      <td>50.000000</td>\n",
       "      <td>NaN</td>\n",
       "      <td>50.000000</td>\n",
       "    </tr>\n",
       "    <tr>\n",
       "      <th>10</th>\n",
       "      <td>60.000000</td>\n",
       "      <td>NaN</td>\n",
       "      <td>60.000000</td>\n",
       "    </tr>\n",
       "    <tr>\n",
       "      <th>11</th>\n",
       "      <td>100.000000</td>\n",
       "      <td>NaN</td>\n",
       "      <td>100.000000</td>\n",
       "    </tr>\n",
       "    <tr>\n",
       "      <th>12</th>\n",
       "      <td>80.000000</td>\n",
       "      <td>NaN</td>\n",
       "      <td>80.000000</td>\n",
       "    </tr>\n",
       "    <tr>\n",
       "      <th>13</th>\n",
       "      <td>100.000000</td>\n",
       "      <td>NaN</td>\n",
       "      <td>100.000000</td>\n",
       "    </tr>\n",
       "    <tr>\n",
       "      <th>14</th>\n",
       "      <td>60.000000</td>\n",
       "      <td>NaN</td>\n",
       "      <td>60.000000</td>\n",
       "    </tr>\n",
       "    <tr>\n",
       "      <th>Total</th>\n",
       "      <td>81.944444</td>\n",
       "      <td>NaN</td>\n",
       "      <td>81.944444</td>\n",
       "    </tr>\n",
       "    <tr>\n",
       "      <th>balanced_accuracy</th>\n",
       "      <td>82.000000</td>\n",
       "      <td>NaN</td>\n",
       "      <td>82.000000</td>\n",
       "    </tr>\n",
       "  </tbody>\n",
       "</table>\n",
       "</div>"
      ],
      "text/plain": [
       "                         mean  std         max\n",
       "Class                                         \n",
       "0                  100.000000  NaN  100.000000\n",
       "1                  100.000000  NaN  100.000000\n",
       "2                  100.000000  NaN  100.000000\n",
       "3                  100.000000  NaN  100.000000\n",
       "4                   80.000000  NaN   80.000000\n",
       "5                   80.000000  NaN   80.000000\n",
       "6                  100.000000  NaN  100.000000\n",
       "7                   40.000000  NaN   40.000000\n",
       "8                   80.000000  NaN   80.000000\n",
       "9                   50.000000  NaN   50.000000\n",
       "10                  60.000000  NaN   60.000000\n",
       "11                 100.000000  NaN  100.000000\n",
       "12                  80.000000  NaN   80.000000\n",
       "13                 100.000000  NaN  100.000000\n",
       "14                  60.000000  NaN   60.000000\n",
       "Total               81.944444  NaN   81.944444\n",
       "balanced_accuracy   82.000000  NaN   82.000000"
      ]
     },
     "execution_count": 44,
     "metadata": {},
     "output_type": "execute_result"
    }
   ],
   "source": [
    "d[DATA]"
   ]
  },
  {
   "cell_type": "markdown",
   "id": "db02a2d1",
   "metadata": {},
   "source": [
    "# Lymphography"
   ]
  },
  {
   "cell_type": "code",
   "execution_count": null,
   "id": "634254d0",
   "metadata": {},
   "outputs": [],
   "source": [
    "set_seed()"
   ]
  },
  {
   "cell_type": "code",
   "execution_count": 73,
   "id": "1bca3396",
   "metadata": {},
   "outputs": [],
   "source": [
    "DATA = \"Lymphography\""
   ]
  },
  {
   "cell_type": "code",
   "execution_count": 74,
   "id": "c76c2fd0",
   "metadata": {},
   "outputs": [],
   "source": [
    "if DATA == \"Lymphography\":\n",
    "    lymphography = pd.read_csv('https://archive.ics.uci.edu/ml/machine-learning-databases/lymphography/lymphography.data', header=None)\n",
    "    X = lymphography.values[:, 1:].astype(float)\n",
    "    y = lymphography.values[:, 0].astype(int)\n",
    "    y = LabelEncoder().fit_transform(y).astype(int)\n",
    "    #(148, 18) 4\n",
    "    GS_METRIC = \"balanced_accuracy\""
   ]
  },
  {
   "cell_type": "code",
   "execution_count": 75,
   "id": "9e17f7c2",
   "metadata": {},
   "outputs": [
    {
     "name": "stdout",
     "output_type": "stream",
     "text": [
      "{0: 2, 1: 81, 2: 61, 3: 4}\n",
      "n_classes 4\n",
      "n_features 18\n"
     ]
    }
   ],
   "source": [
    "n_classes = len(np.unique(y))\n",
    "n_features = X.shape[1]\n",
    "unique, counts = np.unique(y, return_counts=True)\n",
    "\n",
    "print(dict(zip(unique, counts)))\n",
    "\n",
    "print('n_classes', n_classes)\n",
    "print('n_features', n_features)"
   ]
  },
  {
   "cell_type": "code",
   "execution_count": 76,
   "id": "6bf67725",
   "metadata": {},
   "outputs": [
    {
     "name": "stdout",
     "output_type": "stream",
     "text": [
      "train_max_size 88\n",
      "eval_max_size 118\n"
     ]
    }
   ],
   "source": [
    "X_train, X_test, y_train, y_test = train_test_split(X, y, train_size=0.8, stratify=y)\n",
    "\n",
    "eval_max_size = int(len(X_train))\n",
    "train_max_size = int(len(X_train) * 0.75)\n",
    "print('train_max_size', train_max_size)\n",
    "print('eval_max_size', eval_max_size)"
   ]
  },
  {
   "cell_type": "code",
   "execution_count": 77,
   "id": "8a28f38c",
   "metadata": {},
   "outputs": [],
   "source": [
    "def network_hp_fn(epochs=150, masks_no=100, mask_size=100, target_size=100, lr=3e-4, batch_size=64):\n",
    "    def _inner():\n",
    "        hypernet = Hypernetwork(\n",
    "                        target_architecture=[(mask_size, target_size), (target_size, n_classes)],\n",
    "                        test_nodes=masks_no,\n",
    "                        architecture=torch.nn.Sequential(torch.nn.Linear(n_features, 64), \n",
    "                            torch.nn.ReLU(),\n",
    "                            torch.nn.Linear(64, 128),\n",
    "                            torch.nn.ReLU(),\n",
    "                            torch.nn.Dropout(),\n",
    "                            torch.nn.Linear(128, 128),\n",
    "                            torch.nn.ReLU(),\n",
    "                        ),\n",
    "                        mode=TrainingModes.CARTHESIAN,\n",
    "                    ).to(DEVICE)    \n",
    "        hypernet = hypernet.train()\n",
    "\n",
    "        network = HypernetworkSklearnInterface(hypernet, device=DEVICE, epochs=epochs, batch_size=batch_size, verbose=False, lr=3e-4)\n",
    "        return network\n",
    "    return _inner"
   ]
  },
  {
   "cell_type": "code",
   "execution_count": 78,
   "id": "f7d76c10",
   "metadata": {},
   "outputs": [
    {
     "name": "stdout",
     "output_type": "stream",
     "text": [
      "pyhopper (118, 18) (118,) 88\n"
     ]
    },
    {
     "data": {
      "application/vnd.jupyter.widget-view+json": {
       "model_id": "226b24673dc94ca2910df709cce5c0cd",
       "version_major": 2,
       "version_minor": 0
      },
      "text/plain": [
       "  0%|          | [00:00<?]"
      ]
     },
     "metadata": {},
     "output_type": "display_data"
    },
    {
     "name": "stdout",
     "output_type": "stream",
     "text": [
      "Search is scheduled for 01:00 (m:s)\n",
      "params {'epochs': 10, 'masks_no': 10, 'mask_size': 2, 'target_size': 5, 'lr': 3e-05, 'batch_size': 16}\n",
      "iter 1 of 1 X_train shape torch.Size([88, 18])\n",
      "torch.Size([1, 128])\n",
      "params {'epochs': 10, 'masks_no': 20, 'mask_size': 7, 'target_size': 5, 'lr': 0.03, 'batch_size': 64}\n",
      "iter 1 of 1 X_train shape torch.Size([88, 18])\n",
      "torch.Size([1, 128])\n",
      "params {'epochs': 10, 'masks_no': 100, 'mask_size': 5, 'target_size': 10, 'lr': 0.3, 'batch_size': 16}\n",
      "iter 1 of 1 X_train shape torch.Size([88, 18])\n",
      "torch.Size([1, 128])\n",
      "params {'epochs': 10, 'masks_no': 100, 'mask_size': 18, 'target_size': 5, 'lr': 0.3, 'batch_size': 64}\n",
      "iter 1 of 1 X_train shape torch.Size([88, 18])\n",
      "torch.Size([1, 128])\n",
      "params {'epochs': 10, 'masks_no': 100, 'mask_size': 5, 'target_size': 10, 'lr': 0.03, 'batch_size': 64}\n",
      "iter 1 of 1 X_train shape torch.Size([88, 18])\n",
      "torch.Size([1, 128])\n",
      "params {'epochs': 10, 'masks_no': 10, 'mask_size': 18, 'target_size': 5, 'lr': 3e-05, 'batch_size': 32}\n",
      "iter 1 of 1 X_train shape torch.Size([88, 18])\n",
      "torch.Size([1, 128])\n",
      "params {'epochs': 10, 'masks_no': 100, 'mask_size': 18, 'target_size': 5, 'lr': 0.03, 'batch_size': 32}\n",
      "iter 1 of 1 X_train shape torch.Size([88, 18])\n",
      "torch.Size([1, 128])\n",
      "params {'epochs': 10, 'masks_no': 100, 'mask_size': 15, 'target_size': 20, 'lr': 0.003, 'batch_size': 32}\n",
      "iter 1 of 1 X_train shape torch.Size([88, 18])\n",
      "torch.Size([1, 128])\n",
      "================= Summary =================\n",
      "Mode              : Best f : Steps : Time  \n",
      "----------------  : ----   : ----  : ----  \n",
      "Initial solution  : 37.5   : 1     : 3.03 s\n",
      "Random seeding    : 46.35  : 4     : 32 s  \n",
      "Local sampling    : 67.71  : 3     : 21 s  \n",
      "Duplicates        : -      : 1     : -     \n",
      "----------------  : ----   : ----  : ----  \n",
      "Total             : 67.71  : 9     : 56 s  \n",
      "===========================================\n",
      "Lymphography_network_hp_fn_{'epochs': 10, 'masks_no': 10, 'mask_size': 18, 'target_size': 5, 'lr': 3e-05, 'batch_size': 32}\n"
     ]
    },
    {
     "data": {
      "text/plain": [
       "{'epochs': 10,\n",
       " 'masks_no': 10,\n",
       " 'mask_size': 18,\n",
       " 'target_size': 5,\n",
       " 'lr': 3e-05,\n",
       " 'batch_size': 32}"
      ]
     },
     "execution_count": 78,
     "metadata": {},
     "output_type": "execute_result"
    },
    {
     "data": {
      "image/png": "[encoded data removed]",
      "text/plain": [
       "<Figure size 576x396 with 1 Axes>"
      ]
     },
     "metadata": {},
     "output_type": "display_data"
    }
   ],
   "source": [
    "param_grid = {\n",
    "    \"epochs\": pyhopper.choice([100, 150]),\n",
    "    \"masks_no\": pyhopper.choice([10, 20, 50, 100, 150, 200]),\n",
    "    \"mask_size\": pyhopper.choice([2, 5, 7, 10, 15, 18]),\n",
    "    \"target_size\": pyhopper.choice([5, 10, 20, 50]),\n",
    "    \"lr\": pyhopper.choice([3e-5, 3e-4, 3e-3, 3e-2, 3e-1]),\n",
    "    \"batch_size\": pyhopper.choice([16, 32, 64]),\n",
    "}\n",
    "\n",
    "hp_best_params = pyhopper_best_params(\n",
    "    network_hp_fn, param_grid, data=(X_train, y_train), train_size=train_max_size, time=\"180m\"\n",
    ")\n",
    "hp_best_params"
   ]
  },
  {
   "cell_type": "code",
   "execution_count": 79,
   "id": "7dff3560",
   "metadata": {},
   "outputs": [
    {
     "name": "stdout",
     "output_type": "stream",
     "text": [
      "iter 1 of 1 X_train shape torch.Size([118, 18])\n",
      "torch.Size([1, 128])\n"
     ]
    },
    {
     "name": "stderr",
     "output_type": "stream",
     "text": [
      "/tmp/ipykernel_1163503/2619930025.py:6: RuntimeWarning: invalid value encountered in long_scalars\n",
      "  acc = (y_pred_filt==y_test_filt.numpy()).sum()/len(y_test_filt)*100\n"
     ]
    },
    {
     "data": {
      "image/png": "[encoded data removed]",
      "text/plain": [
       "<Figure size 576x396 with 1 Axes>"
      ]
     },
     "metadata": {},
     "output_type": "display_data"
    }
   ],
   "source": [
    "epochs = hp_best_params['epochs']\n",
    "masks_no = hp_best_params['masks_no']\n",
    "mask_size = hp_best_params['mask_size']\n",
    "target_size = hp_best_params['target_size']\n",
    "lr = hp_best_params['lr']\n",
    "batch_size = hp_best_params['batch_size']\n",
    "\n",
    "hyper_results = test_model(network_hp_fn(epochs, masks_no, mask_size, target_size, lr=lr, batch_size=batch_size),\n",
    "                    ((X_train, X_test), (y_train, y_test)),\n",
    "                    eval_max_size,\n",
    "                    None, 1)"
   ]
  },
  {
   "cell_type": "code",
   "execution_count": 80,
   "id": "ce76e449",
   "metadata": {},
   "outputs": [
    {
     "name": "stdout",
     "output_type": "stream",
     "text": [
      "118: 80.00 ~ nan, (max: 80.00)\n"
     ]
    }
   ],
   "source": [
    "res = hyper_results[hyper_results[\"Class\"]==\"Total\"].reset_index(drop=True)[\"Metric\"]\n",
    "print(f\"{eval_max_size}: {res.mean():.2f} ~ {res.std():.2f}, (max: {res.max():.2f})\")"
   ]
  },
  {
   "cell_type": "code",
   "execution_count": 81,
   "id": "8a3d5255",
   "metadata": {},
   "outputs": [],
   "source": [
    "d[DATA] = hyper_results.groupby(\"Class\")['Metric'].agg(['mean', 'std', 'max'])"
   ]
  },
  {
   "cell_type": "code",
   "execution_count": 82,
   "id": "ffc81915",
   "metadata": {},
   "outputs": [],
   "source": [
    "hyper_results.to_csv(f\"{DATA}_hypertab_valid_metrics.csv\")"
   ]
  },
  {
   "cell_type": "markdown",
   "id": "8d466f24",
   "metadata": {},
   "source": [
    "# Hill-Valley-without-noise"
   ]
  },
  {
   "cell_type": "code",
   "execution_count": null,
   "id": "f21b4e0a",
   "metadata": {},
   "outputs": [],
   "source": [
    "set_seed()"
   ]
  },
  {
   "cell_type": "code",
   "execution_count": 83,
   "id": "c9ee78c5",
   "metadata": {},
   "outputs": [],
   "source": [
    "DATA = \"Hill-Valley-without-noise\""
   ]
  },
  {
   "cell_type": "code",
   "execution_count": 84,
   "id": "9aa84aad",
   "metadata": {},
   "outputs": [
    {
     "name": "stdout",
     "output_type": "stream",
     "text": [
      "train (606, 100) 2\n",
      "test (606, 100) 2\n"
     ]
    }
   ],
   "source": [
    "if DATA == \"Hill-Valley-without-noise\":\n",
    "    hill_valley_train = pd.read_csv('https://archive.ics.uci.edu/ml/machine-learning-databases/hill-valley/Hill_Valley_without_noise_Training.data')\n",
    "    hill_valley_test = pd.read_csv('https://archive.ics.uci.edu/ml/machine-learning-databases/hill-valley/Hill_Valley_without_noise_Testing.data')\n",
    "    \n",
    "    X_train = hill_valley_train.values[:, :-1].astype(float)\n",
    "    y_train = hill_valley_train.values[:, -1]\n",
    "    y_train = LabelEncoder().fit_transform(y_train).astype(int)\n",
    "    \n",
    "    X_test = hill_valley_test.values[:, :-1].astype(float)\n",
    "    y_test = hill_valley_test.values[:, -1]\n",
    "    y_test = LabelEncoder().fit_transform(y_test).astype(int)\n",
    "    \n",
    "    print('train', X_train.shape, len(np.unique(y_train)))\n",
    "    print('test', X_test.shape, len(np.unique(y_test)))\n",
    "    \n",
    "    X = (X_train, X_test)\n",
    "    y = (y_train, y_test)\n"
   ]
  },
  {
   "cell_type": "code",
   "execution_count": 85,
   "id": "18917b60",
   "metadata": {},
   "outputs": [
    {
     "name": "stdout",
     "output_type": "stream",
     "text": [
      "{0: 305, 1: 301}\n",
      "n_classes 2\n",
      "n_features 100\n"
     ]
    }
   ],
   "source": [
    "n_classes = len(np.unique(y if not isinstance(y, tuple) else y_train))\n",
    "n_features = X.shape[1] if not isinstance(X, tuple) else X_train.shape[1]\n",
    "unique, counts = np.unique(y if not isinstance(y, tuple) else y_train, return_counts=True)\n",
    "\n",
    "print(dict(zip(unique, counts)))\n",
    "\n",
    "print('n_classes', n_classes)\n",
    "print('n_features', n_features)"
   ]
  },
  {
   "cell_type": "code",
   "execution_count": 86,
   "id": "24d6eb39",
   "metadata": {},
   "outputs": [
    {
     "name": "stdout",
     "output_type": "stream",
     "text": [
      "train_max_size 454\n",
      "eval_max_size 606\n"
     ]
    }
   ],
   "source": [
    "X_train, X_test, y_train, y_test = train_test_split_tuple(X, y, train_size=0.8)\n",
    "\n",
    "eval_max_size = int(len(X_train))\n",
    "train_max_size = int(len(X_train) * 0.75)\n",
    "print('train_max_size', train_max_size)\n",
    "print('eval_max_size', eval_max_size)"
   ]
  },
  {
   "cell_type": "code",
   "execution_count": 87,
   "id": "e8887906",
   "metadata": {},
   "outputs": [],
   "source": [
    "def network_hp_fn(epochs=150, masks_no=100, mask_size=100, target_size=100, lr=3e-4, batch_size=64, verbose=False):\n",
    "    def _inner():\n",
    "        hypernet = Hypernetwork(\n",
    "                        target_architecture=[(mask_size, target_size), (target_size, n_classes)],\n",
    "                        test_nodes=masks_no,\n",
    "                        architecture=torch.nn.Sequential(torch.nn.Linear(n_features, 64), \n",
    "                            torch.nn.ReLU(),\n",
    "                            torch.nn.Linear(64, 128),\n",
    "                            torch.nn.ReLU(),\n",
    "                            torch.nn.Dropout(),\n",
    "                            torch.nn.Linear(128, 128),\n",
    "                            torch.nn.ReLU(),\n",
    "                        ),\n",
    "                        mode=TrainingModes.CARTHESIAN,\n",
    "                    ).to(DEVICE)    \n",
    "        hypernet = hypernet.train()\n",
    "\n",
    "        network = HypernetworkSklearnInterface(hypernet, device=DEVICE, epochs=epochs, batch_size=batch_size, verbose=verbose, lr=lr)\n",
    "        return network\n",
    "    return _inner\n"
   ]
  },
  {
   "cell_type": "code",
   "execution_count": 88,
   "id": "a3b5a217",
   "metadata": {},
   "outputs": [
    {
     "name": "stdout",
     "output_type": "stream",
     "text": [
      "pyhopper (606, 100) (606,) 454\n"
     ]
    },
    {
     "data": {
      "application/vnd.jupyter.widget-view+json": {
       "model_id": "0cb15694d2d1460caa633c539a786c05",
       "version_major": 2,
       "version_minor": 0
      },
      "text/plain": [
       "  0%|          | [00:00<?]"
      ]
     },
     "metadata": {},
     "output_type": "display_data"
    },
    {
     "name": "stdout",
     "output_type": "stream",
     "text": [
      "Search is scheduled for 01:00 (m:s)\n",
      "params {'epochs': 10, 'masks_no': 5, 'mask_size': 2, 'target_size': 5, 'lr': 3e-05, 'batch_size': 32}\n",
      "iter 1 of 1 X_train shape torch.Size([454, 100])\n",
      "torch.Size([1, 128])\n",
      "params {'epochs': 10, 'masks_no': 200, 'mask_size': 10, 'target_size': 5, 'lr': 0.03, 'batch_size': 32}\n",
      "iter 1 of 1 X_train shape torch.Size([454, 100])\n",
      "torch.Size([1, 128])\n",
      "==================== Summary ===================\n",
      "Mode              : Best f : Steps : Time       \n",
      "----------------  : ----   : ----  : ----       \n",
      "Initial solution  : 50     : 1     : 3.59 s     \n",
      "Random seeding    : 50     : 1     : 01:13 (m:s)\n",
      "----------------  : ----   : ----  : ----       \n",
      "Total             : 50     : 2     : 01:17 (m:s)\n",
      "================================================\n",
      "Hill-Valley-without-noise_network_hp_fn_{'epochs': 10, 'masks_no': 5, 'mask_size': 2, 'target_size': 5, 'lr': 3e-05, 'batch_size': 32}\n"
     ]
    },
    {
     "data": {
      "text/plain": [
       "{'epochs': 10,\n",
       " 'masks_no': 5,\n",
       " 'mask_size': 2,\n",
       " 'target_size': 5,\n",
       " 'lr': 3e-05,\n",
       " 'batch_size': 32}"
      ]
     },
     "execution_count": 88,
     "metadata": {},
     "output_type": "execute_result"
    },
    {
     "data": {
      "image/png": "[encoded data removed]",
      "text/plain": [
       "<Figure size 576x396 with 1 Axes>"
      ]
     },
     "metadata": {},
     "output_type": "display_data"
    }
   ],
   "source": [
    "param_grid = {\n",
    "    \"epochs\": pyhopper.choice([100]),\n",
    "    \"masks_no\": pyhopper.choice([5, 10, 50, 70, 100, 150, 200]),\n",
    "    \"mask_size\": pyhopper.choice([2, 5, 10, 20, 50, 90]),\n",
    "    \"target_size\": pyhopper.choice([5, 10, 20, 50]),\n",
    "    \"lr\": pyhopper.choice([3e-5, 3e-4, 3e-3, 3e-2, 3e-1]),\n",
    "    \"batch_size\": pyhopper.choice([32, 64]),\n",
    "}\n",
    "\n",
    "hp_best_params = pyhopper_best_params(\n",
    "    network_hp_fn, param_grid, data=(X_train, y_train), train_size=train_max_size, time=\"300m\"\n",
    ")\n",
    "hp_best_params"
   ]
  },
  {
   "cell_type": "code",
   "execution_count": null,
   "id": "5d3ea730",
   "metadata": {},
   "outputs": [],
   "source": []
  },
  {
   "cell_type": "code",
   "execution_count": 89,
   "id": "d5fe5d1a",
   "metadata": {},
   "outputs": [
    {
     "name": "stdout",
     "output_type": "stream",
     "text": [
      "iter 1 of 1 X_train shape torch.Size([606, 100])\n",
      "torch.Size([1, 128])\n"
     ]
    },
    {
     "name": "stderr",
     "output_type": "stream",
     "text": [
      "100%|██████████| 10/10 [00:04<00:00,  2.45it/s]\n",
      "/home/z1157095/anaconda3/envs/hyper-mnist/lib/python3.9/site-packages/sklearn/metrics/_classification.py:1334: UndefinedMetricWarning: Precision is ill-defined and being set to 0.0 due to no predicted samples. Use `zero_division` parameter to control this behavior.\n",
      "  _warn_prf(average, modifier, msg_start, len(result))\n"
     ]
    },
    {
     "data": {
      "image/png": "[encoded data removed]",
      "text/plain": [
       "<Figure size 576x396 with 1 Axes>"
      ]
     },
     "metadata": {},
     "output_type": "display_data"
    }
   ],
   "source": [
    "epochs = hp_best_params['epochs']\n",
    "masks_no = hp_best_params['masks_no']\n",
    "mask_size = hp_best_params['mask_size']\n",
    "target_size = hp_best_params['target_size']\n",
    "batch_size = hp_best_params['batch_size']\n",
    "lr = hp_best_params['lr']\n",
    "\n",
    "\n",
    "hyper_results = test_model(network_hp_fn(epochs, masks_no, mask_size, target_size, batch_size=batch_size,verbose=True),\n",
    "                    ((X_train, X_test), (y_train, y_test)),\n",
    "                    eval_max_size,\n",
    "                    None, 1)"
   ]
  },
  {
   "cell_type": "code",
   "execution_count": 90,
   "id": "b3f1a212",
   "metadata": {},
   "outputs": [
    {
     "name": "stdout",
     "output_type": "stream",
     "text": [
      "606: 48.68 ~ nan, (max: 48.68)\n"
     ]
    }
   ],
   "source": [
    "res = hyper_results[hyper_results[\"Class\"]==\"Total\"].reset_index(drop=True)[\"Metric\"]\n",
    "print(f\"{eval_max_size}: {res.mean():.2f} ~ {res.std():.2f}, (max: {res.max():.2f})\")"
   ]
  },
  {
   "cell_type": "code",
   "execution_count": 91,
   "id": "1ceb5b00",
   "metadata": {},
   "outputs": [],
   "source": [
    "d[DATA] = hyper_results.groupby(\"Class\")['Metric'].agg(['mean', 'std', 'max'])"
   ]
  },
  {
   "cell_type": "code",
   "execution_count": 92,
   "id": "cce68cb8",
   "metadata": {},
   "outputs": [
    {
     "data": {
      "text/plain": [
       "'Hill-Valley-without-noise'"
      ]
     },
     "execution_count": 92,
     "metadata": {},
     "output_type": "execute_result"
    }
   ],
   "source": [
    "DATA"
   ]
  },
  {
   "cell_type": "code",
   "execution_count": 93,
   "id": "326a473f",
   "metadata": {},
   "outputs": [
    {
     "data": {
      "text/html": [
       "<div>\n",
       "<style scoped>\n",
       "    .dataframe tbody tr th:only-of-type {\n",
       "        vertical-align: middle;\n",
       "    }\n",
       "\n",
       "    .dataframe tbody tr th {\n",
       "        vertical-align: top;\n",
       "    }\n",
       "\n",
       "    .dataframe thead th {\n",
       "        text-align: right;\n",
       "    }\n",
       "</style>\n",
       "<table border=\"1\" class=\"dataframe\">\n",
       "  <thead>\n",
       "    <tr style=\"text-align: right;\">\n",
       "      <th></th>\n",
       "      <th>mean</th>\n",
       "      <th>std</th>\n",
       "      <th>max</th>\n",
       "    </tr>\n",
       "    <tr>\n",
       "      <th>Class</th>\n",
       "      <th></th>\n",
       "      <th></th>\n",
       "      <th></th>\n",
       "    </tr>\n",
       "  </thead>\n",
       "  <tbody>\n",
       "    <tr>\n",
       "      <th>0</th>\n",
       "      <td>100.000000</td>\n",
       "      <td>NaN</td>\n",
       "      <td>100.000000</td>\n",
       "    </tr>\n",
       "    <tr>\n",
       "      <th>1</th>\n",
       "      <td>0.000000</td>\n",
       "      <td>NaN</td>\n",
       "      <td>0.000000</td>\n",
       "    </tr>\n",
       "    <tr>\n",
       "      <th>F1 score</th>\n",
       "      <td>0.000000</td>\n",
       "      <td>NaN</td>\n",
       "      <td>0.000000</td>\n",
       "    </tr>\n",
       "    <tr>\n",
       "      <th>Precision</th>\n",
       "      <td>0.000000</td>\n",
       "      <td>NaN</td>\n",
       "      <td>0.000000</td>\n",
       "    </tr>\n",
       "    <tr>\n",
       "      <th>Recall</th>\n",
       "      <td>0.000000</td>\n",
       "      <td>NaN</td>\n",
       "      <td>0.000000</td>\n",
       "    </tr>\n",
       "    <tr>\n",
       "      <th>Total</th>\n",
       "      <td>48.679868</td>\n",
       "      <td>NaN</td>\n",
       "      <td>48.679868</td>\n",
       "    </tr>\n",
       "    <tr>\n",
       "      <th>balanced_accuracy</th>\n",
       "      <td>50.000000</td>\n",
       "      <td>NaN</td>\n",
       "      <td>50.000000</td>\n",
       "    </tr>\n",
       "    <tr>\n",
       "      <th>roc_auc</th>\n",
       "      <td>54.692354</td>\n",
       "      <td>NaN</td>\n",
       "      <td>54.692354</td>\n",
       "    </tr>\n",
       "  </tbody>\n",
       "</table>\n",
       "</div>"
      ],
      "text/plain": [
       "                         mean  std         max\n",
       "Class                                         \n",
       "0                  100.000000  NaN  100.000000\n",
       "1                    0.000000  NaN    0.000000\n",
       "F1 score             0.000000  NaN    0.000000\n",
       "Precision            0.000000  NaN    0.000000\n",
       "Recall               0.000000  NaN    0.000000\n",
       "Total               48.679868  NaN   48.679868\n",
       "balanced_accuracy   50.000000  NaN   50.000000\n",
       "roc_auc             54.692354  NaN   54.692354"
      ]
     },
     "execution_count": 93,
     "metadata": {},
     "output_type": "execute_result"
    }
   ],
   "source": [
    "d[DATA]"
   ]
  },
  {
   "cell_type": "code",
   "execution_count": 94,
   "id": "4c6ee844",
   "metadata": {},
   "outputs": [],
   "source": [
    "hyper_results.to_csv(f\"{DATA}_hypertab_valid_metrics.csv\")"
   ]
  },
  {
   "cell_type": "markdown",
   "id": "23e68203",
   "metadata": {},
   "source": [
    "# Hill-Valley-with-noise"
   ]
  },
  {
   "cell_type": "code",
   "execution_count": null,
   "id": "ad02757a",
   "metadata": {},
   "outputs": [],
   "source": [
    "set_seed()"
   ]
  },
  {
   "cell_type": "code",
   "execution_count": 95,
   "id": "7f0d65cc",
   "metadata": {},
   "outputs": [],
   "source": [
    "DATA = \"Hill-Valley-with-noise\""
   ]
  },
  {
   "cell_type": "code",
   "execution_count": 96,
   "id": "22f0338f",
   "metadata": {},
   "outputs": [
    {
     "name": "stdout",
     "output_type": "stream",
     "text": [
      "train (606, 100) 2\n",
      "test (606, 100) 2\n"
     ]
    }
   ],
   "source": [
    "if DATA == \"Hill-Valley-with-noise\":\n",
    "    hill_valley_train = pd.read_csv('https://archive.ics.uci.edu/ml/machine-learning-databases/hill-valley/Hill_Valley_with_noise_Training.data')\n",
    "    hill_valley_test = pd.read_csv('https://archive.ics.uci.edu/ml/machine-learning-databases/hill-valley/Hill_Valley_with_noise_Testing.data')\n",
    "    \n",
    "    X_train = hill_valley_train.values[:, :-1].astype(float)\n",
    "    y_train = hill_valley_train.values[:, -1]\n",
    "    y_train = LabelEncoder().fit_transform(y_train).astype(int)\n",
    "    \n",
    "    X_test = hill_valley_test.values[:, :-1].astype(float)\n",
    "    y_test = hill_valley_test.values[:, -1]\n",
    "    y_test = LabelEncoder().fit_transform(y_test).astype(int)\n",
    "    \n",
    "    print('train', X_train.shape, len(np.unique(y_train)))\n",
    "    print('test', X_test.shape, len(np.unique(y_test)))\n",
    "    \n",
    "    X = (X_train, X_test)\n",
    "    y = (y_train, y_test)\n"
   ]
  },
  {
   "cell_type": "code",
   "execution_count": 97,
   "id": "d6384779",
   "metadata": {},
   "outputs": [
    {
     "name": "stdout",
     "output_type": "stream",
     "text": [
      "{0: 307, 1: 299}\n",
      "n_classes 2\n",
      "n_features 100\n"
     ]
    }
   ],
   "source": [
    "n_classes = len(np.unique(y if not isinstance(y, tuple) else y_train))\n",
    "n_features = X.shape[1] if not isinstance(X, tuple) else X_train.shape[1]\n",
    "unique, counts = np.unique(y if not isinstance(y, tuple) else y_train, return_counts=True)\n",
    "\n",
    "print(dict(zip(unique, counts)))\n",
    "\n",
    "print('n_classes', n_classes)\n",
    "print('n_features', n_features)"
   ]
  },
  {
   "cell_type": "code",
   "execution_count": 98,
   "id": "714a06bb",
   "metadata": {},
   "outputs": [
    {
     "name": "stdout",
     "output_type": "stream",
     "text": [
      "train_max_size 454\n",
      "eval_max_size 606\n"
     ]
    }
   ],
   "source": [
    "X_train, X_test, y_train, y_test = train_test_split_tuple(X, y, train_size=0.8)\n",
    "\n",
    "eval_max_size = int(len(X_train))\n",
    "train_max_size = int(len(X_train) * 0.75)\n",
    "print('train_max_size', train_max_size)\n",
    "print('eval_max_size', eval_max_size)"
   ]
  },
  {
   "cell_type": "code",
   "execution_count": 99,
   "id": "6ed642a8",
   "metadata": {},
   "outputs": [],
   "source": [
    "def network_hp_fn(epochs=150, masks_no=100, mask_size=100, target_size=100, lr=3e-4, batch_size=64, verbose=False):\n",
    "    def _inner():\n",
    "        hypernet = Hypernetwork(\n",
    "                        target_architecture=[(mask_size, target_size), (target_size, n_classes)],\n",
    "                        test_nodes=masks_no,\n",
    "                        architecture=torch.nn.Sequential(torch.nn.Linear(n_features, 64), \n",
    "                            torch.nn.ReLU(),\n",
    "                            torch.nn.Linear(64, 128),\n",
    "                            torch.nn.ReLU(),\n",
    "                            torch.nn.Dropout(),\n",
    "                            torch.nn.Linear(128, 128),\n",
    "                            torch.nn.ReLU(),\n",
    "                        ),\n",
    "                        mode=TrainingModes.CARTHESIAN,\n",
    "                    ).to(DEVICE)    \n",
    "        hypernet = hypernet.train()\n",
    "\n",
    "        network = HypernetworkSklearnInterface(hypernet, device=DEVICE, epochs=epochs, batch_size=batch_size, verbose=verbose, lr=lr)\n",
    "        return network\n",
    "    return _inner\n"
   ]
  },
  {
   "cell_type": "code",
   "execution_count": 100,
   "id": "096eee09",
   "metadata": {},
   "outputs": [
    {
     "name": "stdout",
     "output_type": "stream",
     "text": [
      "pyhopper (606, 100) (606,) 454\n"
     ]
    },
    {
     "data": {
      "application/vnd.jupyter.widget-view+json": {
       "model_id": "20e6cf66d67645c5b53a4844492e39a7",
       "version_major": 2,
       "version_minor": 0
      },
      "text/plain": [
       "  0%|          | [00:00<?]"
      ]
     },
     "metadata": {},
     "output_type": "display_data"
    },
    {
     "name": "stdout",
     "output_type": "stream",
     "text": [
      "Search is scheduled for 01:00 (m:s)\n",
      "params {'epochs': 10, 'masks_no': 5, 'mask_size': 2, 'target_size': 5, 'lr': 3e-05, 'batch_size': 32}\n",
      "iter 1 of 1 X_train shape torch.Size([454, 100])\n",
      "torch.Size([1, 128])\n",
      "params {'epochs': 10, 'masks_no': 150, 'mask_size': 90, 'target_size': 5, 'lr': 0.03, 'batch_size': 32}\n",
      "iter 1 of 1 X_train shape torch.Size([454, 100])\n",
      "torch.Size([1, 128])\n",
      "==================== Summary ===================\n",
      "Mode              : Best f : Steps : Time       \n",
      "----------------  : ----   : ----  : ----       \n",
      "Initial solution  : 50.17  : 1     : 3.60 s     \n",
      "Random seeding    : 59.66  : 1     : 60 s       \n",
      "----------------  : ----   : ----  : ----       \n",
      "Total             : 59.66  : 2     : 01:04 (m:s)\n",
      "================================================\n",
      "Hill-Valley-with-noise_network_hp_fn_{'epochs': 10, 'masks_no': 150, 'mask_size': 90, 'target_size': 5, 'lr': 0.03, 'batch_size': 32}\n"
     ]
    },
    {
     "data": {
      "text/plain": [
       "{'epochs': 10,\n",
       " 'masks_no': 150,\n",
       " 'mask_size': 90,\n",
       " 'target_size': 5,\n",
       " 'lr': 0.03,\n",
       " 'batch_size': 32}"
      ]
     },
     "execution_count": 100,
     "metadata": {},
     "output_type": "execute_result"
    },
    {
     "data": {
      "image/png": "[encoded data removed]",
      "text/plain": [
       "<Figure size 576x396 with 1 Axes>"
      ]
     },
     "metadata": {},
     "output_type": "display_data"
    }
   ],
   "source": [
    "param_grid = {\n",
    "    \"epochs\": pyhopper.choice([100]),\n",
    "    \"masks_no\": pyhopper.choice([5, 10, 50, 70, 100, 150, 200]),\n",
    "    \"mask_size\": pyhopper.choice([2, 5, 10, 20, 50, 90]),\n",
    "    \"target_size\": pyhopper.choice([5, 10, 20, 50]),\n",
    "    \"lr\": pyhopper.choice([3e-5, 3e-4, 3e-3, 3e-2, 3e-1]),\n",
    "    \"batch_size\": pyhopper.choice([32, 64]),\n",
    "}\n",
    "\n",
    "hp_best_params = pyhopper_best_params(\n",
    "    network_hp_fn, param_grid, data=(X_train, y_train), train_size=train_max_size, time=\"300m\"\n",
    ")\n",
    "hp_best_params"
   ]
  },
  {
   "cell_type": "code",
   "execution_count": 101,
   "id": "3ece22cf",
   "metadata": {},
   "outputs": [
    {
     "name": "stdout",
     "output_type": "stream",
     "text": [
      "iter 1 of 1 X_train shape torch.Size([606, 100])\n",
      "torch.Size([1, 128])\n"
     ]
    },
    {
     "name": "stderr",
     "output_type": "stream",
     "text": [
      "100%|██████████| 100/100 [11:41<00:00,  7.01s/it]\n"
     ]
    },
    {
     "data": {
      "image/png": "[encoded data removed]",
      "text/plain": [
       "<Figure size 576x396 with 1 Axes>"
      ]
     },
     "metadata": {},
     "output_type": "display_data"
    }
   ],
   "source": [
    "epochs = 100#hp_best_params['epochs']\n",
    "masks_no = hp_best_params['masks_no']\n",
    "mask_size = hp_best_params['mask_size']\n",
    "target_size = hp_best_params['target_size']\n",
    "batch_size = hp_best_params['batch_size']\n",
    "lr = hp_best_params['lr']\n",
    "\n",
    "\n",
    "hyper_results = test_model(network_hp_fn(epochs, masks_no, mask_size, target_size, batch_size=batch_size,verbose=True),\n",
    "                    ((X_train, X_test), (y_train, y_test)),\n",
    "                    eval_max_size,\n",
    "                    None, 1)"
   ]
  },
  {
   "cell_type": "code",
   "execution_count": 102,
   "id": "12228625",
   "metadata": {},
   "outputs": [
    {
     "name": "stdout",
     "output_type": "stream",
     "text": [
      "606: 70.63 ~ nan, (max: 70.63)\n"
     ]
    }
   ],
   "source": [
    "res = hyper_results[hyper_results[\"Class\"]==\"Total\"].reset_index(drop=True)[\"Metric\"]\n",
    "print(f\"{eval_max_size}: {res.mean():.2f} ~ {res.std():.2f}, (max: {res.max():.2f})\")"
   ]
  },
  {
   "cell_type": "code",
   "execution_count": 103,
   "id": "83607194",
   "metadata": {},
   "outputs": [],
   "source": [
    "d[DATA] = hyper_results.groupby(\"Class\")['Metric'].agg(['mean', 'std', 'max'])"
   ]
  },
  {
   "cell_type": "code",
   "execution_count": 104,
   "id": "7010679e",
   "metadata": {},
   "outputs": [],
   "source": [
    "hyper_results.to_csv(f\"{DATA}_hypertab_valid_metrics.csv\")"
   ]
  },
  {
   "cell_type": "markdown",
   "id": "e6dc20fb",
   "metadata": {},
   "source": [
    "# cnae"
   ]
  },
  {
   "cell_type": "code",
   "execution_count": 116,
   "id": "0462d50a",
   "metadata": {},
   "outputs": [
    {
     "ename": "NameError",
     "evalue": "name 'set_seed' is not defined",
     "output_type": "error",
     "traceback": [
      "\u001b[0;31m---------------------------------------------------------------------------\u001b[0m",
      "\u001b[0;31mNameError\u001b[0m                                 Traceback (most recent call last)",
      "Input \u001b[0;32mIn [116]\u001b[0m, in \u001b[0;36m<cell line: 1>\u001b[0;34m()\u001b[0m\n\u001b[0;32m----> 1\u001b[0m \u001b[43mset_seed\u001b[49m()\n",
      "\u001b[0;31mNameError\u001b[0m: name 'set_seed' is not defined"
     ]
    }
   ],
   "source": [
    "set_seed()"
   ]
  },
  {
   "cell_type": "code",
   "execution_count": 105,
   "id": "5be24360",
   "metadata": {},
   "outputs": [],
   "source": [
    "DATA = \"cnae\""
   ]
  },
  {
   "cell_type": "code",
   "execution_count": 106,
   "id": "f584028f",
   "metadata": {},
   "outputs": [
    {
     "name": "stdout",
     "output_type": "stream",
     "text": [
      "(1080, 855) 9\n"
     ]
    }
   ],
   "source": [
    "if DATA == \"cnae\":\n",
    "    cnae = pd.read_csv('https://archive.ics.uci.edu/ml/machine-learning-databases/00233/CNAE-9.data', header=None)\n",
    "    cnae = cnae.drop(1, axis=1)\n",
    "    X = cnae.values[:, 1:].astype(float)\n",
    "    y = cnae.values[:, 0]\n",
    "    y = LabelEncoder().fit_transform(y).astype(int)\n",
    "    #(1080, 855) 2\n",
    "\n",
    "print(X.shape, len(np.unique(y)))"
   ]
  },
  {
   "cell_type": "code",
   "execution_count": 107,
   "id": "81abe7d5",
   "metadata": {},
   "outputs": [
    {
     "name": "stdout",
     "output_type": "stream",
     "text": [
      "{0: 120, 1: 120, 2: 120, 3: 120, 4: 120, 5: 120, 6: 120, 7: 120, 8: 120}\n",
      "n_classes 9\n",
      "n_features 855\n"
     ]
    }
   ],
   "source": [
    "n_classes = len(np.unique(y))\n",
    "n_features = X.shape[1]\n",
    "unique, counts = np.unique(y, return_counts=True)\n",
    "\n",
    "print(dict(zip(unique, counts)))\n",
    "\n",
    "print('n_classes', n_classes)\n",
    "print('n_features', n_features)"
   ]
  },
  {
   "cell_type": "code",
   "execution_count": 108,
   "id": "dc525af9",
   "metadata": {},
   "outputs": [
    {
     "name": "stdout",
     "output_type": "stream",
     "text": [
      "train_max_size 648\n",
      "eval_max_size 864\n"
     ]
    }
   ],
   "source": [
    "X_train, X_test, y_train, y_test = train_test_split(X, y, train_size=0.8, stratify=y)\n",
    "\n",
    "eval_max_size = int(len(X_train))\n",
    "train_max_size = int(len(X_train) * 0.75)\n",
    "print('train_max_size', train_max_size)\n",
    "print('eval_max_size', eval_max_size)"
   ]
  },
  {
   "cell_type": "code",
   "execution_count": 109,
   "id": "29ab1cd4",
   "metadata": {},
   "outputs": [],
   "source": [
    "def network_hp_fn(epochs=150, masks_no=100, mask_size=100, target_size=100, lr=3e-4, batch_size=64, verbose=False):\n",
    "    def _inner():\n",
    "        hypernet = Hypernetwork(\n",
    "                        target_architecture=[(mask_size, target_size), (target_size, n_classes)],\n",
    "                        test_nodes=masks_no,\n",
    "                        architecture=torch.nn.Sequential(torch.nn.Linear(n_features, 64), \n",
    "                            torch.nn.ReLU(),\n",
    "                            torch.nn.Linear(64, 128),\n",
    "                            torch.nn.ReLU(),\n",
    "                            torch.nn.Dropout(),\n",
    "                            torch.nn.Linear(128, 128),\n",
    "                            torch.nn.ReLU(),\n",
    "                        ),\n",
    "                        mode=TrainingModes.CARTHESIAN,\n",
    "                    ).to(DEVICE)    \n",
    "        hypernet = hypernet.train()\n",
    "\n",
    "        network = HypernetworkSklearnInterface(hypernet, device=DEVICE, epochs=epochs, batch_size=batch_size, verbose=verbose, lr=lr)\n",
    "        return network\n",
    "    return _inner\n"
   ]
  },
  {
   "cell_type": "code",
   "execution_count": 110,
   "id": "085605c0",
   "metadata": {},
   "outputs": [
    {
     "name": "stdout",
     "output_type": "stream",
     "text": [
      "pyhopper (864, 855) (864,) 648\n"
     ]
    },
    {
     "data": {
      "application/vnd.jupyter.widget-view+json": {
       "model_id": "380813154bfe4f87b1553f66ceadc91f",
       "version_major": 2,
       "version_minor": 0
      },
      "text/plain": [
       "  0%|          | [00:00<?]"
      ]
     },
     "metadata": {},
     "output_type": "display_data"
    },
    {
     "name": "stdout",
     "output_type": "stream",
     "text": [
      "Search is scheduled for 01:00 (m:s)\n",
      "params {'epochs': 10, 'masks_no': 3, 'mask_size': 5, 'target_size': 5, 'lr': 3e-05, 'batch_size': 64}\n",
      "iter 1 of 1 X_train shape torch.Size([648, 855])\n",
      "torch.Size([1, 128])\n",
      "params {'epochs': 10, 'masks_no': 150, 'mask_size': 5, 'target_size': 5, 'lr': 0.0003, 'batch_size': 64}\n",
      "iter 1 of 1 X_train shape torch.Size([648, 855])\n",
      "torch.Size([1, 128])\n",
      "================= Summary =================\n",
      "Mode              : Best f : Steps : Time  \n",
      "----------------  : ----   : ----  : ----  \n",
      "Initial solution  : 11.11  : 1     : 2.52 s\n",
      "Random seeding    : 11.11  : 1     : 44 s  \n",
      "----------------  : ----   : ----  : ----  \n",
      "Total             : 11.11  : 2     : 47 s  \n",
      "===========================================\n",
      "cnae_network_hp_fn_{'epochs': 10, 'masks_no': 3, 'mask_size': 5, 'target_size': 5, 'lr': 3e-05, 'batch_size': 64}\n"
     ]
    },
    {
     "data": {
      "text/plain": [
       "{'epochs': 10,\n",
       " 'masks_no': 3,\n",
       " 'mask_size': 5,\n",
       " 'target_size': 5,\n",
       " 'lr': 3e-05,\n",
       " 'batch_size': 64}"
      ]
     },
     "execution_count": 110,
     "metadata": {},
     "output_type": "execute_result"
    },
    {
     "data": {
      "image/png": "[encoded data removed]",
      "text/plain": [
       "<Figure size 576x396 with 1 Axes>"
      ]
     },
     "metadata": {},
     "output_type": "display_data"
    }
   ],
   "source": [
    "param_grid = {\n",
    "    \"epochs\": pyhopper.choice([100]),\n",
    "    \"masks_no\": pyhopper.choice([3, 5, 10, 50, 75, 100, 150]),\n",
    "    \"mask_size\": pyhopper.choice([5, 10, 20, 50, 100, 200, 400, 600, 750]),\n",
    "    \"target_size\": pyhopper.choice([5, 10, 20, 50]),\n",
    "    \"lr\": pyhopper.choice([3e-5, 3e-4, 3e-3, 3e-2, 3e-1]),\n",
    "    \"batch_size\": pyhopper.choice([64]),\n",
    "}\n",
    "\n",
    "hp_best_params = pyhopper_best_params(\n",
    "    network_hp_fn, param_grid, data=(X_train, y_train), train_size=train_max_size, time=\"480m\"\n",
    ")\n",
    "hp_best_params"
   ]
  },
  {
   "cell_type": "code",
   "execution_count": 111,
   "id": "2c1053ca",
   "metadata": {},
   "outputs": [
    {
     "name": "stdout",
     "output_type": "stream",
     "text": [
      "iter 1 of 1 X_train shape torch.Size([864, 855])\n",
      "torch.Size([1, 128])\n"
     ]
    },
    {
     "name": "stderr",
     "output_type": "stream",
     "text": [
      "100%|██████████| 100/100 [00:27<00:00,  3.69it/s]\n"
     ]
    },
    {
     "data": {
      "image/png": "[encoded data removed]",
      "text/plain": [
       "<Figure size 576x396 with 1 Axes>"
      ]
     },
     "metadata": {},
     "output_type": "display_data"
    }
   ],
   "source": [
    "epochs = 100#hp_best_params['epochs']\n",
    "masks_no = hp_best_params['masks_no']\n",
    "mask_size = hp_best_params['mask_size']\n",
    "target_size = hp_best_params['target_size']\n",
    "batch_size = hp_best_params['batch_size']\n",
    "lr = hp_best_params['lr']\n",
    "\n",
    "\n",
    "hyper_results = test_model(network_hp_fn(epochs, masks_no, mask_size, target_size, batch_size=batch_size,verbose=True),\n",
    "                    ((X_train, X_test), (y_train, y_test)),\n",
    "                    eval_max_size,\n",
    "                    None, 1)"
   ]
  },
  {
   "cell_type": "code",
   "execution_count": 112,
   "id": "2070e454",
   "metadata": {},
   "outputs": [
    {
     "name": "stdout",
     "output_type": "stream",
     "text": [
      "864: 27.78 ~ nan, (max: 27.78)\n"
     ]
    }
   ],
   "source": [
    "res = hyper_results[hyper_results[\"Class\"]==\"Total\"].reset_index(drop=True)[\"Metric\"]\n",
    "print(f\"{eval_max_size}: {res.mean():.2f} ~ {res.std():.2f}, (max: {res.max():.2f})\")"
   ]
  },
  {
   "cell_type": "code",
   "execution_count": 113,
   "id": "3a76ff7b",
   "metadata": {},
   "outputs": [],
   "source": [
    "d[DATA] = hyper_results.groupby(\"Class\")['Metric'].agg(['mean', 'std', 'max'])"
   ]
  },
  {
   "cell_type": "code",
   "execution_count": 114,
   "id": "f606d5c9",
   "metadata": {},
   "outputs": [],
   "source": [
    "hyper_results.to_csv(f\"{DATA}_hypertab_valid_metrics.csv\")"
   ]
  },
  {
   "cell_type": "code",
   "execution_count": 115,
   "id": "a3faee1f",
   "metadata": {},
   "outputs": [
    {
     "data": {
      "text/plain": [
       "{'Libras':                          mean  std         max\n",
       " Class                                         \n",
       " 0                   80.000000  NaN   80.000000\n",
       " 1                  100.000000  NaN  100.000000\n",
       " 2                  100.000000  NaN  100.000000\n",
       " 3                   80.000000  NaN   80.000000\n",
       " 4                  100.000000  NaN  100.000000\n",
       " 5                  100.000000  NaN  100.000000\n",
       " 6                  100.000000  NaN  100.000000\n",
       " 7                   80.000000  NaN   80.000000\n",
       " 8                  100.000000  NaN  100.000000\n",
       " 9                   80.000000  NaN   80.000000\n",
       " 10                  60.000000  NaN   60.000000\n",
       " 11                 100.000000  NaN  100.000000\n",
       " 12                  40.000000  NaN   40.000000\n",
       " 13                 100.000000  NaN  100.000000\n",
       " 14                  50.000000  NaN   50.000000\n",
       " Total               84.722222  NaN   84.722222\n",
       " balanced_accuracy   84.666667  NaN   84.666667,\n",
       " 'Lymphography':                         mean  std        max\n",
       " Class                                       \n",
       " 0                        NaN  NaN        NaN\n",
       " 1                  94.117647  NaN  94.117647\n",
       " 2                  66.666667  NaN  66.666667\n",
       " 3                   0.000000  NaN   0.000000\n",
       " Total              80.000000  NaN  80.000000\n",
       " balanced_accuracy  53.594771  NaN  53.594771,\n",
       " 'Hill-Valley-without-noise':                          mean  std         max\n",
       " Class                                         \n",
       " 0                  100.000000  NaN  100.000000\n",
       " 1                    0.000000  NaN    0.000000\n",
       " F1 score             0.000000  NaN    0.000000\n",
       " Precision            0.000000  NaN    0.000000\n",
       " Recall               0.000000  NaN    0.000000\n",
       " Total               48.679868  NaN   48.679868\n",
       " balanced_accuracy   50.000000  NaN   50.000000\n",
       " roc_auc             54.692354  NaN   54.692354,\n",
       " 'Hill-Valley-with-noise':                         mean  std        max\n",
       " Class                                       \n",
       " 0                  43.143813  NaN  43.143813\n",
       " 1                  97.394137  NaN  97.394137\n",
       " F1 score           77.061856  NaN  77.061856\n",
       " Precision          63.752665  NaN  63.752665\n",
       " Recall             97.394137  NaN  97.394137\n",
       " Total              70.627063  NaN  70.627063\n",
       " balanced_accuracy  70.268975  NaN  70.268975\n",
       " roc_auc            95.688124  NaN  95.688124,\n",
       " 'cnae':                          mean  std         max\n",
       " Class                                         \n",
       " 0                    0.000000  NaN    0.000000\n",
       " 1                    4.166667  NaN    4.166667\n",
       " 2                   45.833333  NaN   45.833333\n",
       " 3                   58.333333  NaN   58.333333\n",
       " 4                   37.500000  NaN   37.500000\n",
       " 5                    0.000000  NaN    0.000000\n",
       " 6                    0.000000  NaN    0.000000\n",
       " 7                  100.000000  NaN  100.000000\n",
       " 8                    4.166667  NaN    4.166667\n",
       " Total               27.777778  NaN   27.777778\n",
       " balanced_accuracy   27.777778  NaN   27.777778}"
      ]
     },
     "execution_count": 115,
     "metadata": {},
     "output_type": "execute_result"
    }
   ],
   "source": [
    "d"
   ]
  },
  {
   "cell_type": "code",
   "execution_count": null,
   "id": "265dea02",
   "metadata": {},
   "outputs": [],
   "source": []
  }
 ],
 "metadata": {
  "kernelspec": {
   "display_name": "Python 3 (ipykernel)",
   "language": "python",
   "name": "python3"
  },
  "language_info": {
   "codemirror_mode": {
    "name": "ipython",
    "version": 3
   },
   "file_extension": ".py",
   "mimetype": "text/x-python",
   "name": "python",
   "nbconvert_exporter": "python",
   "pygments_lexer": "ipython3",
   "version": "3.9.12"
  }
 },
 "nbformat": 4,
 "nbformat_minor": 5
}
