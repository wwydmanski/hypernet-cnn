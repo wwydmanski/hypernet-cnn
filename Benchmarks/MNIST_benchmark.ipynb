{
 "cells": [
  {
   "cell_type": "code",
   "execution_count": 25,
   "id": "1f2cc04c-430f-4cbd-886c-fc6f4e13f745",
   "metadata": {},
   "outputs": [],
   "source": [
    "from dotenv import load_dotenv\n",
    "load_dotenv()\n",
    "\n",
    "import os"
   ]
  },
  {
   "cell_type": "code",
   "execution_count": 26,
   "id": "7bae9662-f26b-4c2d-abda-4ece5ae442d1",
   "metadata": {},
   "outputs": [],
   "source": [
    "from comet_ml import Experiment, Optimizer\n",
    "\n",
    "import torch\n",
    "import torchvision.transforms as transforms\n",
    "import torchvision.datasets as datasets\n",
    "import matplotlib.pyplot as plt\n",
    "import numpy as np\n",
    "import torch.nn.functional as F\n",
    "import torch.utils.data as data_utils\n",
    "import pandas as pd\n",
    "from collections import defaultdict\n",
    "\n",
    "torch.set_default_dtype(torch.float32)"
   ]
  },
  {
   "cell_type": "code",
   "execution_count": 27,
   "id": "6d6729d5-7f5a-4c1d-b3a4-5cdea977527f",
   "metadata": {},
   "outputs": [],
   "source": [
    "from sklearn.metrics import roc_auc_score, f1_score, precision_score, recall_score\n",
    "from sklearn.model_selection import train_test_split"
   ]
  },
  {
   "cell_type": "code",
   "execution_count": 28,
   "id": "cb4e5243-8400-446f-9d34-56180ebbe820",
   "metadata": {},
   "outputs": [],
   "source": [
    "from tabular_hypernet import HypernetworkPCA, TrainingModes, Hypernetwork\n",
    "from tabular_hypernet.modules import SimpleNetwork\n",
    "from tabular_hypernet.training_utils import train_slow_step, train_model, train_carthesian\n",
    "from tabular_hypernet.interfaces import HypernetworkSklearnInterface, SimpleSklearnInterface"
   ]
  },
  {
   "cell_type": "code",
   "execution_count": 29,
   "id": "b4e19f32-82b9-4376-bda1-238d72cae2ec",
   "metadata": {},
   "outputs": [],
   "source": [
    "from io import BytesIO"
   ]
  },
  {
   "cell_type": "code",
   "execution_count": 49,
   "id": "440451d3",
   "metadata": {},
   "outputs": [],
   "source": [
    "from sklearn.metrics import classification_report, balanced_accuracy_score, accuracy_score"
   ]
  },
  {
   "cell_type": "code",
   "execution_count": 31,
   "id": "aa3c18d1-1d56-4393-9441-245420fb3c29",
   "metadata": {},
   "outputs": [],
   "source": [
    "import seaborn as sns"
   ]
  },
  {
   "cell_type": "code",
   "execution_count": 32,
   "id": "04d1ae25-987c-4043-9771-829c928723de",
   "metadata": {},
   "outputs": [],
   "source": [
    "DEVICE=\"cuda:0\""
   ]
  },
  {
   "cell_type": "code",
   "execution_count": 33,
   "id": "4a1a1e98-a8b4-4df2-aae6-b593fe61667a",
   "metadata": {},
   "outputs": [
    {
     "data": {
      "text/plain": [
       "2"
      ]
     },
     "execution_count": 33,
     "metadata": {},
     "output_type": "execute_result"
    }
   ],
   "source": [
    "from loguru import logger\n",
    "\n",
    "logger.add(\"log.txt\", format='{time:YYYY-MM-DD HH:mm:ss.SSS} | {message}')"
   ]
  },
  {
   "cell_type": "code",
   "execution_count": 34,
   "id": "5aff0aed",
   "metadata": {},
   "outputs": [],
   "source": [
    "TEST_RUN = True"
   ]
  },
  {
   "cell_type": "markdown",
   "id": "860d6a12-93e8-4000-91d8-97c9d01951e6",
   "metadata": {},
   "source": [
    "## Load data"
   ]
  },
  {
   "cell_type": "code",
   "execution_count": 35,
   "id": "c7b4e185-c95f-4eff-9d33-3c84eb6ed1d2",
   "metadata": {},
   "outputs": [],
   "source": [
    "mods = [transforms.ToTensor(), \n",
    "        transforms.Normalize((0.1307,), (0.3081,)),    #mean and std of MNIST\n",
    "        transforms.Lambda(lambda x: torch.flatten(x))]\n",
    "mods = transforms.Compose(mods)\n",
    "\n",
    "trainset = datasets.MNIST(root='./data/train', train=True, download=True, transform=mods)\n",
    "testset = datasets.MNIST(root='./data/test', train=False, download=True, transform=mods)"
   ]
  },
  {
   "cell_type": "code",
   "execution_count": 110,
   "id": "dc198470",
   "metadata": {},
   "outputs": [
    {
     "data": {
      "text/plain": [
       "tensor([[[0.0000, 0.0000, 0.0000, 0.0000, 0.0000, 0.0000, 0.0000, 0.0000,\n",
       "          0.0000, 0.0000, 0.0000, 0.0000, 0.0000, 0.0000, 0.0000, 0.0000,\n",
       "          0.0000, 0.0000, 0.0000, 0.0000, 0.0000, 0.0000, 0.0000, 0.0000,\n",
       "          0.0000, 0.0000, 0.0000, 0.0000],\n",
       "         [0.0000, 0.0000, 0.0000, 0.0000, 0.0000, 0.0000, 0.0000, 0.0000,\n",
       "          0.0000, 0.0000, 0.0000, 0.0000, 0.0000, 0.0000, 0.0000, 0.0000,\n",
       "          0.0000, 0.0000, 0.0000, 0.0000, 0.0000, 0.0000, 0.0000, 0.0000,\n",
       "          0.0000, 0.0000, 0.0000, 0.0000],\n",
       "         [0.0000, 0.0000, 0.0000, 0.0000, 0.0000, 0.0000, 0.0000, 0.0000,\n",
       "          0.0000, 0.0000, 0.0000, 0.0000, 0.0000, 0.0000, 0.0000, 0.0000,\n",
       "          0.0000, 0.0000, 0.0000, 0.0000, 0.0000, 0.0000, 0.0000, 0.0000,\n",
       "          0.0000, 0.0000, 0.0000, 0.0000],\n",
       "         [0.0000, 0.0000, 0.0000, 0.0000, 0.0000, 0.0000, 0.0000, 0.0000,\n",
       "          0.0000, 0.0000, 0.0000, 0.0000, 0.0000, 0.0000, 0.0000, 0.0000,\n",
       "          0.0000, 0.0000, 0.0000, 0.0000, 0.0000, 0.0000, 0.0000, 0.0000,\n",
       "          0.0000, 0.0000, 0.0000, 0.0000],\n",
       "         [0.0000, 0.0000, 0.0000, 0.0000, 0.0000, 0.0000, 0.0000, 0.0000,\n",
       "          0.0000, 0.0000, 0.0000, 0.0000, 0.0000, 0.0000, 0.0000, 0.0000,\n",
       "          0.0000, 0.0000, 0.0000, 0.0000, 0.0000, 0.0000, 0.0000, 0.0000,\n",
       "          0.0000, 0.0000, 0.0000, 0.0000],\n",
       "         [0.0000, 0.0000, 0.0000, 0.0000, 0.0000, 0.0000, 0.0000, 0.0000,\n",
       "          0.0000, 0.0000, 0.0000, 0.0000, 0.0118, 0.0706, 0.0706, 0.0706,\n",
       "          0.4941, 0.5333, 0.6863, 0.1020, 0.6510, 1.0000, 0.9686, 0.4980,\n",
       "          0.0000, 0.0000, 0.0000, 0.0000],\n",
       "         [0.0000, 0.0000, 0.0000, 0.0000, 0.0000, 0.0000, 0.0000, 0.0000,\n",
       "          0.1176, 0.1412, 0.3686, 0.6039, 0.6667, 0.9922, 0.9922, 0.9922,\n",
       "          0.9922, 0.9922, 0.8824, 0.6745, 0.9922, 0.9490, 0.7647, 0.2510,\n",
       "          0.0000, 0.0000, 0.0000, 0.0000],\n",
       "         [0.0000, 0.0000, 0.0000, 0.0000, 0.0000, 0.0000, 0.0000, 0.1922,\n",
       "          0.9333, 0.9922, 0.9922, 0.9922, 0.9922, 0.9922, 0.9922, 0.9922,\n",
       "          0.9922, 0.9843, 0.3647, 0.3216, 0.3216, 0.2196, 0.1529, 0.0000,\n",
       "          0.0000, 0.0000, 0.0000, 0.0000],\n",
       "         [0.0000, 0.0000, 0.0000, 0.0000, 0.0000, 0.0000, 0.0000, 0.0706,\n",
       "          0.8588, 0.9922, 0.9922, 0.9922, 0.9922, 0.9922, 0.7765, 0.7137,\n",
       "          0.9686, 0.9451, 0.0000, 0.0000, 0.0000, 0.0000, 0.0000, 0.0000,\n",
       "          0.0000, 0.0000, 0.0000, 0.0000],\n",
       "         [0.0000, 0.0000, 0.0000, 0.0000, 0.0000, 0.0000, 0.0000, 0.0000,\n",
       "          0.3137, 0.6118, 0.4196, 0.9922, 0.9922, 0.8039, 0.0431, 0.0000,\n",
       "          0.1686, 0.6039, 0.0000, 0.0000, 0.0000, 0.0000, 0.0000, 0.0000,\n",
       "          0.0000, 0.0000, 0.0000, 0.0000],\n",
       "         [0.0000, 0.0000, 0.0000, 0.0000, 0.0000, 0.0000, 0.0000, 0.0000,\n",
       "          0.0000, 0.0549, 0.0039, 0.6039, 0.9922, 0.3529, 0.0000, 0.0000,\n",
       "          0.0000, 0.0000, 0.0000, 0.0000, 0.0000, 0.0000, 0.0000, 0.0000,\n",
       "          0.0000, 0.0000, 0.0000, 0.0000],\n",
       "         [0.0000, 0.0000, 0.0000, 0.0000, 0.0000, 0.0000, 0.0000, 0.0000,\n",
       "          0.0000, 0.0000, 0.0000, 0.5451, 0.9922, 0.7451, 0.0078, 0.0000,\n",
       "          0.0000, 0.0000, 0.0000, 0.0000, 0.0000, 0.0000, 0.0000, 0.0000,\n",
       "          0.0000, 0.0000, 0.0000, 0.0000],\n",
       "         [0.0000, 0.0000, 0.0000, 0.0000, 0.0000, 0.0000, 0.0000, 0.0000,\n",
       "          0.0000, 0.0000, 0.0000, 0.0431, 0.7451, 0.9922, 0.2745, 0.0000,\n",
       "          0.0000, 0.0000, 0.0000, 0.0000, 0.0000, 0.0000, 0.0000, 0.0000,\n",
       "          0.0000, 0.0000, 0.0000, 0.0000],\n",
       "         [0.0000, 0.0000, 0.0000, 0.0000, 0.0000, 0.0000, 0.0000, 0.0000,\n",
       "          0.0000, 0.0000, 0.0000, 0.0000, 0.1373, 0.9451, 0.8824, 0.6275,\n",
       "          0.4235, 0.0039, 0.0000, 0.0000, 0.0000, 0.0000, 0.0000, 0.0000,\n",
       "          0.0000, 0.0000, 0.0000, 0.0000],\n",
       "         [0.0000, 0.0000, 0.0000, 0.0000, 0.0000, 0.0000, 0.0000, 0.0000,\n",
       "          0.0000, 0.0000, 0.0000, 0.0000, 0.0000, 0.3176, 0.9412, 0.9922,\n",
       "          0.9922, 0.4667, 0.0980, 0.0000, 0.0000, 0.0000, 0.0000, 0.0000,\n",
       "          0.0000, 0.0000, 0.0000, 0.0000],\n",
       "         [0.0000, 0.0000, 0.0000, 0.0000, 0.0000, 0.0000, 0.0000, 0.0000,\n",
       "          0.0000, 0.0000, 0.0000, 0.0000, 0.0000, 0.0000, 0.1765, 0.7294,\n",
       "          0.9922, 0.9922, 0.5882, 0.1059, 0.0000, 0.0000, 0.0000, 0.0000,\n",
       "          0.0000, 0.0000, 0.0000, 0.0000],\n",
       "         [0.0000, 0.0000, 0.0000, 0.0000, 0.0000, 0.0000, 0.0000, 0.0000,\n",
       "          0.0000, 0.0000, 0.0000, 0.0000, 0.0000, 0.0000, 0.0000, 0.0627,\n",
       "          0.3647, 0.9882, 0.9922, 0.7333, 0.0000, 0.0000, 0.0000, 0.0000,\n",
       "          0.0000, 0.0000, 0.0000, 0.0000],\n",
       "         [0.0000, 0.0000, 0.0000, 0.0000, 0.0000, 0.0000, 0.0000, 0.0000,\n",
       "          0.0000, 0.0000, 0.0000, 0.0000, 0.0000, 0.0000, 0.0000, 0.0000,\n",
       "          0.0000, 0.9765, 0.9922, 0.9765, 0.2510, 0.0000, 0.0000, 0.0000,\n",
       "          0.0000, 0.0000, 0.0000, 0.0000],\n",
       "         [0.0000, 0.0000, 0.0000, 0.0000, 0.0000, 0.0000, 0.0000, 0.0000,\n",
       "          0.0000, 0.0000, 0.0000, 0.0000, 0.0000, 0.0000, 0.1804, 0.5098,\n",
       "          0.7176, 0.9922, 0.9922, 0.8118, 0.0078, 0.0000, 0.0000, 0.0000,\n",
       "          0.0000, 0.0000, 0.0000, 0.0000],\n",
       "         [0.0000, 0.0000, 0.0000, 0.0000, 0.0000, 0.0000, 0.0000, 0.0000,\n",
       "          0.0000, 0.0000, 0.0000, 0.0000, 0.1529, 0.5804, 0.8980, 0.9922,\n",
       "          0.9922, 0.9922, 0.9804, 0.7137, 0.0000, 0.0000, 0.0000, 0.0000,\n",
       "          0.0000, 0.0000, 0.0000, 0.0000],\n",
       "         [0.0000, 0.0000, 0.0000, 0.0000, 0.0000, 0.0000, 0.0000, 0.0000,\n",
       "          0.0000, 0.0000, 0.0941, 0.4471, 0.8667, 0.9922, 0.9922, 0.9922,\n",
       "          0.9922, 0.7882, 0.3059, 0.0000, 0.0000, 0.0000, 0.0000, 0.0000,\n",
       "          0.0000, 0.0000, 0.0000, 0.0000],\n",
       "         [0.0000, 0.0000, 0.0000, 0.0000, 0.0000, 0.0000, 0.0000, 0.0000,\n",
       "          0.0902, 0.2588, 0.8353, 0.9922, 0.9922, 0.9922, 0.9922, 0.7765,\n",
       "          0.3176, 0.0078, 0.0000, 0.0000, 0.0000, 0.0000, 0.0000, 0.0000,\n",
       "          0.0000, 0.0000, 0.0000, 0.0000],\n",
       "         [0.0000, 0.0000, 0.0000, 0.0000, 0.0000, 0.0000, 0.0706, 0.6706,\n",
       "          0.8588, 0.9922, 0.9922, 0.9922, 0.9922, 0.7647, 0.3137, 0.0353,\n",
       "          0.0000, 0.0000, 0.0000, 0.0000, 0.0000, 0.0000, 0.0000, 0.0000,\n",
       "          0.0000, 0.0000, 0.0000, 0.0000],\n",
       "         [0.0000, 0.0000, 0.0000, 0.0000, 0.2157, 0.6745, 0.8863, 0.9922,\n",
       "          0.9922, 0.9922, 0.9922, 0.9569, 0.5216, 0.0431, 0.0000, 0.0000,\n",
       "          0.0000, 0.0000, 0.0000, 0.0000, 0.0000, 0.0000, 0.0000, 0.0000,\n",
       "          0.0000, 0.0000, 0.0000, 0.0000],\n",
       "         [0.0000, 0.0000, 0.0000, 0.0000, 0.5333, 0.9922, 0.9922, 0.9922,\n",
       "          0.8314, 0.5294, 0.5176, 0.0627, 0.0000, 0.0000, 0.0000, 0.0000,\n",
       "          0.0000, 0.0000, 0.0000, 0.0000, 0.0000, 0.0000, 0.0000, 0.0000,\n",
       "          0.0000, 0.0000, 0.0000, 0.0000],\n",
       "         [0.0000, 0.0000, 0.0000, 0.0000, 0.0000, 0.0000, 0.0000, 0.0000,\n",
       "          0.0000, 0.0000, 0.0000, 0.0000, 0.0000, 0.0000, 0.0000, 0.0000,\n",
       "          0.0000, 0.0000, 0.0000, 0.0000, 0.0000, 0.0000, 0.0000, 0.0000,\n",
       "          0.0000, 0.0000, 0.0000, 0.0000],\n",
       "         [0.0000, 0.0000, 0.0000, 0.0000, 0.0000, 0.0000, 0.0000, 0.0000,\n",
       "          0.0000, 0.0000, 0.0000, 0.0000, 0.0000, 0.0000, 0.0000, 0.0000,\n",
       "          0.0000, 0.0000, 0.0000, 0.0000, 0.0000, 0.0000, 0.0000, 0.0000,\n",
       "          0.0000, 0.0000, 0.0000, 0.0000],\n",
       "         [0.0000, 0.0000, 0.0000, 0.0000, 0.0000, 0.0000, 0.0000, 0.0000,\n",
       "          0.0000, 0.0000, 0.0000, 0.0000, 0.0000, 0.0000, 0.0000, 0.0000,\n",
       "          0.0000, 0.0000, 0.0000, 0.0000, 0.0000, 0.0000, 0.0000, 0.0000,\n",
       "          0.0000, 0.0000, 0.0000, 0.0000]]])"
      ]
     },
     "execution_count": 110,
     "metadata": {},
     "output_type": "execute_result"
    }
   ],
   "source": [
    "tmp = datasets.MNIST(root='./data/train', download=True, train=True, transform=transforms.ToTensor())\n",
    "tmp[0][0]"
   ]
  },
  {
   "cell_type": "code",
   "execution_count": 111,
   "id": "47056d97",
   "metadata": {},
   "outputs": [
    {
     "data": {
      "text/plain": [
       "tensor([[[-0.4242, -0.4242, -0.4242, -0.4242, -0.4242, -0.4242, -0.4242,\n",
       "          -0.4242, -0.4242, -0.4242, -0.4242, -0.4242, -0.4242, -0.4242,\n",
       "          -0.4242, -0.4242, -0.4242, -0.4242, -0.4242, -0.4242, -0.4242,\n",
       "          -0.4242, -0.4242, -0.4242, -0.4242, -0.4242, -0.4242, -0.4242],\n",
       "         [-0.4242, -0.4242, -0.4242, -0.4242, -0.4242, -0.4242, -0.4242,\n",
       "          -0.4242, -0.4242, -0.4242, -0.4242, -0.4242, -0.4242, -0.4242,\n",
       "          -0.4242, -0.4242, -0.4242, -0.4242, -0.4242, -0.4242, -0.4242,\n",
       "          -0.4242, -0.4242, -0.4242, -0.4242, -0.4242, -0.4242, -0.4242],\n",
       "         [-0.4242, -0.4242, -0.4242, -0.4242, -0.4242, -0.4242, -0.4242,\n",
       "          -0.4242, -0.4242, -0.4242, -0.4242, -0.4242, -0.4242, -0.4242,\n",
       "          -0.4242, -0.4242, -0.4242, -0.4242, -0.4242, -0.4242, -0.4242,\n",
       "          -0.4242, -0.4242, -0.4242, -0.4242, -0.4242, -0.4242, -0.4242],\n",
       "         [-0.4242, -0.4242, -0.4242, -0.4242, -0.4242, -0.4242, -0.4242,\n",
       "          -0.4242, -0.4242, -0.4242, -0.4242, -0.4242, -0.4242, -0.4242,\n",
       "          -0.4242, -0.4242, -0.4242, -0.4242, -0.4242, -0.4242, -0.4242,\n",
       "          -0.4242, -0.4242, -0.4242, -0.4242, -0.4242, -0.4242, -0.4242],\n",
       "         [-0.4242, -0.4242, -0.4242, -0.4242, -0.4242, -0.4242, -0.4242,\n",
       "          -0.4242, -0.4242, -0.4242, -0.4242, -0.4242, -0.4242, -0.4242,\n",
       "          -0.4242, -0.4242, -0.4242, -0.4242, -0.4242, -0.4242, -0.4242,\n",
       "          -0.4242, -0.4242, -0.4242, -0.4242, -0.4242, -0.4242, -0.4242],\n",
       "         [-0.4242, -0.4242, -0.4242, -0.4242, -0.4242, -0.4242, -0.4242,\n",
       "          -0.4242, -0.4242, -0.4242, -0.4242, -0.4242, -0.3860, -0.1951,\n",
       "          -0.1951, -0.1951,  1.1795,  1.3068,  1.8032, -0.0933,  1.6887,\n",
       "           2.8215,  2.7197,  1.1923, -0.4242, -0.4242, -0.4242, -0.4242],\n",
       "         [-0.4242, -0.4242, -0.4242, -0.4242, -0.4242, -0.4242, -0.4242,\n",
       "          -0.4242, -0.0424,  0.0340,  0.7722,  1.5359,  1.7396,  2.7960,\n",
       "           2.7960,  2.7960,  2.7960,  2.7960,  2.4396,  1.7650,  2.7960,\n",
       "           2.6560,  2.0578,  0.3904, -0.4242, -0.4242, -0.4242, -0.4242],\n",
       "         [-0.4242, -0.4242, -0.4242, -0.4242, -0.4242, -0.4242, -0.4242,\n",
       "           0.1995,  2.6051,  2.7960,  2.7960,  2.7960,  2.7960,  2.7960,\n",
       "           2.7960,  2.7960,  2.7960,  2.7706,  0.7595,  0.6195,  0.6195,\n",
       "           0.2886,  0.0722, -0.4242, -0.4242, -0.4242, -0.4242, -0.4242],\n",
       "         [-0.4242, -0.4242, -0.4242, -0.4242, -0.4242, -0.4242, -0.4242,\n",
       "          -0.1951,  2.3633,  2.7960,  2.7960,  2.7960,  2.7960,  2.7960,\n",
       "           2.0960,  1.8923,  2.7197,  2.6433, -0.4242, -0.4242, -0.4242,\n",
       "          -0.4242, -0.4242, -0.4242, -0.4242, -0.4242, -0.4242, -0.4242],\n",
       "         [-0.4242, -0.4242, -0.4242, -0.4242, -0.4242, -0.4242, -0.4242,\n",
       "          -0.4242,  0.5940,  1.5614,  0.9377,  2.7960,  2.7960,  2.1851,\n",
       "          -0.2842, -0.4242,  0.1231,  1.5359, -0.4242, -0.4242, -0.4242,\n",
       "          -0.4242, -0.4242, -0.4242, -0.4242, -0.4242, -0.4242, -0.4242],\n",
       "         [-0.4242, -0.4242, -0.4242, -0.4242, -0.4242, -0.4242, -0.4242,\n",
       "          -0.4242, -0.4242, -0.2460, -0.4115,  1.5359,  2.7960,  0.7213,\n",
       "          -0.4242, -0.4242, -0.4242, -0.4242, -0.4242, -0.4242, -0.4242,\n",
       "          -0.4242, -0.4242, -0.4242, -0.4242, -0.4242, -0.4242, -0.4242],\n",
       "         [-0.4242, -0.4242, -0.4242, -0.4242, -0.4242, -0.4242, -0.4242,\n",
       "          -0.4242, -0.4242, -0.4242, -0.4242,  1.3450,  2.7960,  1.9942,\n",
       "          -0.3988, -0.4242, -0.4242, -0.4242, -0.4242, -0.4242, -0.4242,\n",
       "          -0.4242, -0.4242, -0.4242, -0.4242, -0.4242, -0.4242, -0.4242],\n",
       "         [-0.4242, -0.4242, -0.4242, -0.4242, -0.4242, -0.4242, -0.4242,\n",
       "          -0.4242, -0.4242, -0.4242, -0.4242, -0.2842,  1.9942,  2.7960,\n",
       "           0.4668, -0.4242, -0.4242, -0.4242, -0.4242, -0.4242, -0.4242,\n",
       "          -0.4242, -0.4242, -0.4242, -0.4242, -0.4242, -0.4242, -0.4242],\n",
       "         [-0.4242, -0.4242, -0.4242, -0.4242, -0.4242, -0.4242, -0.4242,\n",
       "          -0.4242, -0.4242, -0.4242, -0.4242, -0.4242,  0.0213,  2.6433,\n",
       "           2.4396,  1.6123,  0.9504, -0.4115, -0.4242, -0.4242, -0.4242,\n",
       "          -0.4242, -0.4242, -0.4242, -0.4242, -0.4242, -0.4242, -0.4242],\n",
       "         [-0.4242, -0.4242, -0.4242, -0.4242, -0.4242, -0.4242, -0.4242,\n",
       "          -0.4242, -0.4242, -0.4242, -0.4242, -0.4242, -0.4242,  0.6068,\n",
       "           2.6306,  2.7960,  2.7960,  1.0904, -0.1060, -0.4242, -0.4242,\n",
       "          -0.4242, -0.4242, -0.4242, -0.4242, -0.4242, -0.4242, -0.4242],\n",
       "         [-0.4242, -0.4242, -0.4242, -0.4242, -0.4242, -0.4242, -0.4242,\n",
       "          -0.4242, -0.4242, -0.4242, -0.4242, -0.4242, -0.4242, -0.4242,\n",
       "           0.1486,  1.9432,  2.7960,  2.7960,  1.4850, -0.0806, -0.4242,\n",
       "          -0.4242, -0.4242, -0.4242, -0.4242, -0.4242, -0.4242, -0.4242],\n",
       "         [-0.4242, -0.4242, -0.4242, -0.4242, -0.4242, -0.4242, -0.4242,\n",
       "          -0.4242, -0.4242, -0.4242, -0.4242, -0.4242, -0.4242, -0.4242,\n",
       "          -0.4242, -0.2206,  0.7595,  2.7833,  2.7960,  1.9560, -0.4242,\n",
       "          -0.4242, -0.4242, -0.4242, -0.4242, -0.4242, -0.4242, -0.4242],\n",
       "         [-0.4242, -0.4242, -0.4242, -0.4242, -0.4242, -0.4242, -0.4242,\n",
       "          -0.4242, -0.4242, -0.4242, -0.4242, -0.4242, -0.4242, -0.4242,\n",
       "          -0.4242, -0.4242, -0.4242,  2.7451,  2.7960,  2.7451,  0.3904,\n",
       "          -0.4242, -0.4242, -0.4242, -0.4242, -0.4242, -0.4242, -0.4242],\n",
       "         [-0.4242, -0.4242, -0.4242, -0.4242, -0.4242, -0.4242, -0.4242,\n",
       "          -0.4242, -0.4242, -0.4242, -0.4242, -0.4242, -0.4242, -0.4242,\n",
       "           0.1613,  1.2305,  1.9051,  2.7960,  2.7960,  2.2105, -0.3988,\n",
       "          -0.4242, -0.4242, -0.4242, -0.4242, -0.4242, -0.4242, -0.4242],\n",
       "         [-0.4242, -0.4242, -0.4242, -0.4242, -0.4242, -0.4242, -0.4242,\n",
       "          -0.4242, -0.4242, -0.4242, -0.4242, -0.4242,  0.0722,  1.4596,\n",
       "           2.4906,  2.7960,  2.7960,  2.7960,  2.7578,  1.8923, -0.4242,\n",
       "          -0.4242, -0.4242, -0.4242, -0.4242, -0.4242, -0.4242, -0.4242],\n",
       "         [-0.4242, -0.4242, -0.4242, -0.4242, -0.4242, -0.4242, -0.4242,\n",
       "          -0.4242, -0.4242, -0.4242, -0.1187,  1.0268,  2.3887,  2.7960,\n",
       "           2.7960,  2.7960,  2.7960,  2.1342,  0.5686, -0.4242, -0.4242,\n",
       "          -0.4242, -0.4242, -0.4242, -0.4242, -0.4242, -0.4242, -0.4242],\n",
       "         [-0.4242, -0.4242, -0.4242, -0.4242, -0.4242, -0.4242, -0.4242,\n",
       "          -0.4242, -0.1315,  0.4159,  2.2869,  2.7960,  2.7960,  2.7960,\n",
       "           2.7960,  2.0960,  0.6068, -0.3988, -0.4242, -0.4242, -0.4242,\n",
       "          -0.4242, -0.4242, -0.4242, -0.4242, -0.4242, -0.4242, -0.4242],\n",
       "         [-0.4242, -0.4242, -0.4242, -0.4242, -0.4242, -0.4242, -0.1951,\n",
       "           1.7523,  2.3633,  2.7960,  2.7960,  2.7960,  2.7960,  2.0578,\n",
       "           0.5940, -0.3097, -0.4242, -0.4242, -0.4242, -0.4242, -0.4242,\n",
       "          -0.4242, -0.4242, -0.4242, -0.4242, -0.4242, -0.4242, -0.4242],\n",
       "         [-0.4242, -0.4242, -0.4242, -0.4242,  0.2758,  1.7650,  2.4524,\n",
       "           2.7960,  2.7960,  2.7960,  2.7960,  2.6815,  1.2686, -0.2842,\n",
       "          -0.4242, -0.4242, -0.4242, -0.4242, -0.4242, -0.4242, -0.4242,\n",
       "          -0.4242, -0.4242, -0.4242, -0.4242, -0.4242, -0.4242, -0.4242],\n",
       "         [-0.4242, -0.4242, -0.4242, -0.4242,  1.3068,  2.7960,  2.7960,\n",
       "           2.7960,  2.2742,  1.2941,  1.2559, -0.2206, -0.4242, -0.4242,\n",
       "          -0.4242, -0.4242, -0.4242, -0.4242, -0.4242, -0.4242, -0.4242,\n",
       "          -0.4242, -0.4242, -0.4242, -0.4242, -0.4242, -0.4242, -0.4242],\n",
       "         [-0.4242, -0.4242, -0.4242, -0.4242, -0.4242, -0.4242, -0.4242,\n",
       "          -0.4242, -0.4242, -0.4242, -0.4242, -0.4242, -0.4242, -0.4242,\n",
       "          -0.4242, -0.4242, -0.4242, -0.4242, -0.4242, -0.4242, -0.4242,\n",
       "          -0.4242, -0.4242, -0.4242, -0.4242, -0.4242, -0.4242, -0.4242],\n",
       "         [-0.4242, -0.4242, -0.4242, -0.4242, -0.4242, -0.4242, -0.4242,\n",
       "          -0.4242, -0.4242, -0.4242, -0.4242, -0.4242, -0.4242, -0.4242,\n",
       "          -0.4242, -0.4242, -0.4242, -0.4242, -0.4242, -0.4242, -0.4242,\n",
       "          -0.4242, -0.4242, -0.4242, -0.4242, -0.4242, -0.4242, -0.4242],\n",
       "         [-0.4242, -0.4242, -0.4242, -0.4242, -0.4242, -0.4242, -0.4242,\n",
       "          -0.4242, -0.4242, -0.4242, -0.4242, -0.4242, -0.4242, -0.4242,\n",
       "          -0.4242, -0.4242, -0.4242, -0.4242, -0.4242, -0.4242, -0.4242,\n",
       "          -0.4242, -0.4242, -0.4242, -0.4242, -0.4242, -0.4242, -0.4242]]])"
      ]
     },
     "execution_count": 111,
     "metadata": {},
     "output_type": "execute_result"
    }
   ],
   "source": [
    "lolm = [transforms.ToTensor(), \n",
    "        transforms.Normalize((0.1307,), (0.3081,))]\n",
    "lolm = transforms.Compose(lolm)\n",
    "\n",
    "tmp1 = datasets.MNIST(root='./data/train', download=True, train=True, transform=lolm)\n",
    "tmp1[0][0]"
   ]
  },
  {
   "cell_type": "code",
   "execution_count": 113,
   "id": "3816433a",
   "metadata": {},
   "outputs": [
    {
     "data": {
      "text/plain": [
       "(0.13066047430038452, 0.30810782313346863)"
      ]
     },
     "execution_count": 113,
     "metadata": {},
     "output_type": "execute_result"
    }
   ],
   "source": [
    "def calculate_mean_and_std():\n",
    "    train_data = datasets.MNIST(root='./data/train', download=True, train=True, transform=transforms.ToTensor())\n",
    "    mean = (train_data.data.type(torch.float32) / 255).mean().item()\n",
    "    std = (train_data.data.type(torch.float32) / 255).std().item()\n",
    "    return mean, std\n",
    "\n",
    "mean, std = calculate_mean_and_std()\n",
    "mean, std"
   ]
  },
  {
   "cell_type": "code",
   "execution_count": null,
   "id": "cb95f830",
   "metadata": {},
   "outputs": [],
   "source": []
  },
  {
   "cell_type": "code",
   "execution_count": 36,
   "id": "15c8de04-4cec-45be-97b0-0ddd58361f90",
   "metadata": {},
   "outputs": [],
   "source": [
    "X, y = trainset.data.numpy(), trainset.targets.numpy()"
   ]
  },
  {
   "cell_type": "code",
   "execution_count": 60,
   "id": "a2dcb4bc-f5df-47bd-8cd6-516bd90fcf2a",
   "metadata": {},
   "outputs": [],
   "source": [
    "def prepare_data(X, y, size=None):\n",
    "    X = X.reshape(-1, 784)\n",
    "    X_train, X_test, y_train, y_test = train_test_split(X, y, train_size=size, stratify=y, random_state=42)\n",
    "    \n",
    "    X_train, X_test, y_train, y_test = [torch.from_numpy(x) for x in [X_train, X_test, y_train, y_test]]\n",
    "    \n",
    "    return X_train, X_test, y_train, y_test"
   ]
  },
  {
   "cell_type": "code",
   "execution_count": 61,
   "id": "544cd7d1",
   "metadata": {},
   "outputs": [],
   "source": [
    "X_train, X_test, y_train, y_test = prepare_data(X, y, size=100)"
   ]
  },
  {
   "cell_type": "code",
   "execution_count": null,
   "id": "8a9b5c02",
   "metadata": {},
   "outputs": [],
   "source": []
  },
  {
   "cell_type": "code",
   "execution_count": 62,
   "id": "9c67632a",
   "metadata": {},
   "outputs": [
    {
     "data": {
      "text/plain": [
       "torch.Size([100])"
      ]
     },
     "execution_count": 62,
     "metadata": {},
     "output_type": "execute_result"
    }
   ],
   "source": [
    "y_train.shape"
   ]
  },
  {
   "cell_type": "code",
   "execution_count": 63,
   "id": "5dca81bf",
   "metadata": {},
   "outputs": [
    {
     "name": "stdout",
     "output_type": "stream",
     "text": [
      "{0: 10, 1: 11, 2: 10, 3: 10, 4: 10, 5: 9, 6: 10, 7: 10, 8: 10, 9: 10}\n"
     ]
    }
   ],
   "source": [
    "unique, counts = np.unique(y_train, return_counts=True)\n",
    "\n",
    "print(dict(zip(unique, counts)))"
   ]
  },
  {
   "cell_type": "code",
   "execution_count": 64,
   "id": "f9f4af1c",
   "metadata": {},
   "outputs": [
    {
     "data": {
      "text/plain": [
       "torch.Size([59900])"
      ]
     },
     "execution_count": 64,
     "metadata": {},
     "output_type": "execute_result"
    }
   ],
   "source": [
    "y_test.shape"
   ]
  },
  {
   "cell_type": "code",
   "execution_count": 65,
   "id": "e198d15a",
   "metadata": {},
   "outputs": [
    {
     "name": "stdout",
     "output_type": "stream",
     "text": [
      "{0: 5913, 1: 6731, 2: 5948, 3: 6121, 4: 5832, 5: 5412, 6: 5908, 7: 6255, 8: 5841, 9: 5939}\n"
     ]
    }
   ],
   "source": [
    "unique, counts = np.unique(y_test, return_counts=True)\n",
    "\n",
    "print(dict(zip(unique, counts)))"
   ]
  },
  {
   "cell_type": "code",
   "execution_count": 86,
   "id": "7dae2192-4c61-4a6e-b23c-e3d661077645",
   "metadata": {},
   "outputs": [],
   "source": [
    "def _summarize_results(y_pred, y_score, y_test, labels):\n",
    "    results = []\n",
    "    for idx, label in enumerate(labels):\n",
    "        y_pred_filt = y_pred[y_test==idx]\n",
    "        y_test_filt = y_test[y_test==idx]\n",
    "        acc = (y_pred_filt==y_test_filt.numpy()).sum()/len(y_test_filt)*100\n",
    "        results.append({\n",
    "            \"Class\": label,\n",
    "            \"Metric\": acc\n",
    "        })\n",
    "        \n",
    "    acc = (y_pred==y_test.numpy()).sum()/len(y_test)*100    \n",
    "    results.append({\n",
    "        \"Class\": \"Total\",\n",
    "        \"Metric\": acc\n",
    "    })\n",
    "    \n",
    "    results.append({\n",
    "        \"Class\": \"acc_score\",\n",
    "        \"Metric\": accuracy_score(y_test, torch.from_numpy(y_pred)).item()*100\n",
    "    })\n",
    "    \n",
    "    results.append({\n",
    "        \"Class\": \"balanced_accuracy\",\n",
    "        \"Metric\": balanced_accuracy_score(y_test, torch.from_numpy(y_pred)).item()*100\n",
    "    })\n",
    "    \n",
    "    try:\n",
    "        results.append({\n",
    "            \"Class\": \"F1 score\",\n",
    "            \"Metric\": f1_score(y_test, torch.from_numpy(y_pred)).item()*100\n",
    "        })\n",
    "        results.append({\n",
    "            \"Class\": \"ROC score\",\n",
    "            \"Metric\": roc_auc_score(y_test, torch.from_numpy(y_score[:, 1])).item()*100\n",
    "        })\n",
    "        results.append({\n",
    "            \"Class\": \"Precision\",\n",
    "            \"Metric\": precision_score(y_test, torch.from_numpy(y_pred)).item()*100\n",
    "        })\n",
    "        results.append({\n",
    "            \"Class\": \"Recall\",\n",
    "            \"Metric\": recall_score(y_test, torch.from_numpy(y_pred)).item()*100\n",
    "        })\n",
    "    except ValueError:\n",
    "        pass\n",
    "    results.append({\n",
    "        \"Class\": \"Loss\",\n",
    "        \"Metric\": criterion(torch.from_numpy(y_score), y_test).item()*100\n",
    "    })\n",
    "    return results\n",
    "\n",
    "def test_model(model_fn, data, train_size, label_encoder=None, iters=10, as_numpy=False):\n",
    "    if TEST_RUN:\n",
    "        iters = 2\n",
    "    \n",
    "    if label_encoder is not None:\n",
    "        labels = label_encoder.classes_\n",
    "    else:\n",
    "        labels = sorted(pd.unique(data[1]))\n",
    "    \n",
    "    results = []\n",
    "\n",
    "    for i in range(iters):\n",
    "        X_train, X_test, y_train, y_test = prepare_data(*data, train_size)\n",
    "        \n",
    "        model = model_fn()\n",
    "\n",
    "        if as_numpy:\n",
    "            model.fit(X_train.numpy(), y_train.numpy());\n",
    "        else:\n",
    "            model.fit(X_train, y_train)\n",
    "        \n",
    "        y_pred = model.predict(X_test)\n",
    "        y_score = model.predict_proba(X_test)\n",
    "        results.extend(_summarize_results(y_pred, y_score, y_test, labels))\n",
    "\n",
    "    dframe = pd.DataFrame.from_dict(results)\n",
    "    sns.violinplot(data=dframe[dframe[\"Class\"]!=\"Loss\"], y=\"Class\", x=\"Metric\", orient='h')\n",
    "    return dframe"
   ]
  },
  {
   "cell_type": "code",
   "execution_count": 39,
   "id": "6193e068-26c5-410e-a6f3-4d7db4add5f5",
   "metadata": {},
   "outputs": [],
   "source": [
    "criterion = torch.nn.CrossEntropyLoss()"
   ]
  },
  {
   "cell_type": "markdown",
   "id": "51a10b12-c8b1-4562-8b22-3af79b5cfbfa",
   "metadata": {},
   "source": [
    "## Benchmark"
   ]
  },
  {
   "cell_type": "markdown",
   "id": "9de34e27-10af-42ce-9435-d9d17dd13008",
   "metadata": {},
   "source": [
    "### XGBoost"
   ]
  },
  {
   "cell_type": "markdown",
   "id": "c10972a6",
   "metadata": {},
   "source": [
    "from xgboost import XGBClassifier"
   ]
  },
  {
   "cell_type": "markdown",
   "id": "4af4ed89",
   "metadata": {},
   "source": [
    "def get_xgboost():\n",
    "    random_seed = np.random.randint(1024)\n",
    "    return XGBClassifier(\n",
    "        verbosity=0,\n",
    "        random_state=random_seed,\n",
    "        subsample=0.9,\n",
    "        eta=0.1,\n",
    "        use_label_encoder=False)\n",
    "\n",
    "xgb_dframe = test_model(get_xgboost, \n",
    "                        (X, y),\n",
    "                        100,\n",
    "                        None, iters=10)"
   ]
  },
  {
   "cell_type": "markdown",
   "id": "285c769f",
   "metadata": {},
   "source": [
    "xgb_dframe[xgb_dframe[\"Class\"]==\"Total\"].reset_index(drop=True)"
   ]
  },
  {
   "cell_type": "markdown",
   "id": "553e0556-9964-4663-a456-4862715a8e4d",
   "metadata": {},
   "source": [
    "### Random forest"
   ]
  },
  {
   "cell_type": "markdown",
   "id": "e4a75f13",
   "metadata": {},
   "source": [
    "from sklearn.ensemble import RandomForestClassifier"
   ]
  },
  {
   "cell_type": "markdown",
   "id": "37b697da",
   "metadata": {},
   "source": [
    "def get_rf(n_estimator):\n",
    "    def _inner():\n",
    "        random_seed = np.random.randint(1024)\n",
    "        return RandomForestClassifier(\n",
    "            random_state=random_seed)\n",
    "    return _inner\n",
    "\n",
    "rf_dframe = test_model(get_rf(estimators), \n",
    "                        (X, y),\n",
    "                        100,\n",
    "                        None, iters=10)"
   ]
  },
  {
   "cell_type": "markdown",
   "id": "80d98ada",
   "metadata": {},
   "source": [
    "rf_dframe[rf_dframe[\"Class\"]==\"Total\"].reset_index(drop=True).max()"
   ]
  },
  {
   "cell_type": "markdown",
   "id": "0268b22a-78ac-4f51-bd7d-5e49576abef9",
   "metadata": {
    "tags": []
   },
   "source": [
    "### HypernetworkPCA"
   ]
  },
  {
   "cell_type": "markdown",
   "id": "ab7dd534",
   "metadata": {},
   "source": [
    "def network_pca_fn(epochs=10, masks_no=100, mask_size=100):\n",
    "    def _inner():\n",
    "        hypernet = HypernetworkPCA(\n",
    "                        target_architecture=[(mask_size, 100), (100, 10)], \n",
    "                        test_nodes=masks_no,\n",
    "                        architecture=torch.nn.Sequential(torch.nn.Linear(16, 64), \n",
    "                            torch.nn.ReLU(),\n",
    "                            torch.nn.Linear(64, 128),\n",
    "                            torch.nn.ReLU(),\n",
    "                            torch.nn.Dropout(),\n",
    "                            torch.nn.Linear(128, 128),\n",
    "                            torch.nn.ReLU(),\n",
    "                        ),\n",
    "                        mode=TrainingModes.CARTHESIAN,\n",
    "                        input_size=784\n",
    "                    ).to(DEVICE)    \n",
    "        hypernet = hypernet.train()\n",
    "\n",
    "        network = HypernetworkSklearnInterface(hypernet, device=DEVICE, epochs=epochs, batch_size=64)\n",
    "        return network\n",
    "    return _inner"
   ]
  },
  {
   "cell_type": "markdown",
   "id": "74b30273",
   "metadata": {},
   "source": [
    "def figure_to_html():\n",
    "    tmpfile = BytesIO()\n",
    "    plt.gcf().savefig(tmpfile, format='png')\n",
    "    encoded = base64.b64encode(tmpfile.getvalue()).decode('utf-8')\n",
    "\n",
    "    html = '<img src=\\'data:image/png;base64,{}\\'>'.format(encoded)\n",
    "    return html"
   ]
  },
  {
   "cell_type": "markdown",
   "id": "e05abf97",
   "metadata": {
    "tags": []
   },
   "source": [
    "epochs = 150\n",
    "mask_size = 50\n",
    "masks_no = 100\n",
    "data_size = 100\n",
    "results = defaultdict(dict)\n",
    "\n",
    "hyper_pca_results = test_model(network_pca_fn(epochs, masks_no, mask_size),\n",
    "                (X, y),\n",
    "                data_size,\n",
    "                None, 4)\n",
    "results[mask_size][masks_no] = hyper_pca_results[hyper_pca_results[\"Class\"]==\"Total\"].reset_index(drop=True).mean()\n",
    "\n",
    "# exp.log_table(\"metrics.csv\", hyper_pca_results.groupby(\"Class\").mean())"
   ]
  },
  {
   "cell_type": "markdown",
   "id": "3e40d98d",
   "metadata": {},
   "source": [
    "hyper_pca_results[hyper_pca_results[\"Class\"]==\"Total\"].reset_index(drop=True).max()"
   ]
  },
  {
   "cell_type": "markdown",
   "id": "bfee1b29-5a3b-4487-8bd3-28b00d82cd40",
   "metadata": {
    "tags": []
   },
   "source": [
    "### Hypernetwork"
   ]
  },
  {
   "cell_type": "code",
   "execution_count": 40,
   "id": "e91eb5c1-65f5-4ce3-a6a8-34cb82664ae3",
   "metadata": {},
   "outputs": [],
   "source": [
    "def network_fn(epochs=10, masks_no=100, mask_size=100):\n",
    "    if TEST_RUN:\n",
    "        epochs = 1\n",
    "        \n",
    "    def _inner():\n",
    "        hypernet = Hypernetwork(\n",
    "                        target_architecture=[(mask_size, 100), (100, 10)], \n",
    "                        test_nodes=masks_no,\n",
    "                        architecture=torch.nn.Sequential(torch.nn.Linear(784, 32), \n",
    "                            torch.nn.ReLU(),\n",
    "                            torch.nn.Linear(32, 128),\n",
    "                            torch.nn.ReLU(),\n",
    "                            torch.nn.Dropout(),\n",
    "                            torch.nn.Linear(128, 128),\n",
    "                            torch.nn.ReLU(),\n",
    "                        ),\n",
    "                        mode=TrainingModes.CARTHESIAN,\n",
    "                    ).to(DEVICE)    \n",
    "        hypernet = hypernet.train()\n",
    "\n",
    "        network = HypernetworkSklearnInterface(hypernet, device=DEVICE, epochs=epochs, batch_size=64)\n",
    "        return network\n",
    "    return _inner"
   ]
  },
  {
   "cell_type": "code",
   "execution_count": 68,
   "id": "19847675",
   "metadata": {},
   "outputs": [
    {
     "data": {
      "text/plain": [
       "defaultdict(dict, {})"
      ]
     },
     "execution_count": 68,
     "metadata": {},
     "output_type": "execute_result"
    }
   ],
   "source": [
    "results_acc = defaultdict(dict)\n",
    "results_acc"
   ]
  },
  {
   "cell_type": "code",
   "execution_count": 78,
   "id": "fdd0311a",
   "metadata": {},
   "outputs": [],
   "source": [
    "results_ascore = defaultdict(dict)"
   ]
  },
  {
   "cell_type": "code",
   "execution_count": 79,
   "id": "48497454",
   "metadata": {},
   "outputs": [
    {
     "data": {
      "text/plain": [
       "defaultdict(dict, {})"
      ]
     },
     "execution_count": 79,
     "metadata": {},
     "output_type": "execute_result"
    }
   ],
   "source": [
    "results_ba = defaultdict(dict)\n",
    "results_ba"
   ]
  },
  {
   "cell_type": "code",
   "execution_count": 80,
   "id": "ba1844b5",
   "metadata": {},
   "outputs": [],
   "source": [
    "mask_sizes = [10, 20, 30, 50, 100, 150, 200, 300, 320, 350, 400]\n",
    "mask_numbers = [10, 20, 50, 80, 100, 200, 300, 350, 400]\n"
   ]
  },
  {
   "cell_type": "code",
   "execution_count": 93,
   "id": "baea04b2-0d40-47ba-9e18-95286ee0dfd3",
   "metadata": {
    "scrolled": true,
    "tags": []
   },
   "outputs": [
    {
     "name": "stdout",
     "output_type": "stream",
     "text": [
      "masks_no 10\n",
      "mask_size 10\n",
      "torch.Size([1, 128])\n"
     ]
    },
    {
     "name": "stderr",
     "output_type": "stream",
     "text": [
      "100%|██████████| 1/1 [00:00<00:00,  2.84it/s]\n"
     ]
    },
    {
     "name": "stdout",
     "output_type": "stream",
     "text": [
      "torch.Size([1, 128])\n"
     ]
    },
    {
     "name": "stderr",
     "output_type": "stream",
     "text": [
      "100%|██████████| 1/1 [00:00<00:00,  3.01it/s]\n",
      "/tmp/ipykernel_853189/260955257.py:18: FutureWarning: Dropping of nuisance columns in DataFrame reductions (with 'numeric_only=None') is deprecated; in a future version this will raise TypeError.  Select only valid columns before calling the reduction.\n",
      "  results_acc[mask_size][masks_no] = nn_results[nn_results[\"Class\"]==\"Total\"].reset_index(drop=True).mean()\n",
      "/tmp/ipykernel_853189/260955257.py:19: FutureWarning: Dropping of nuisance columns in DataFrame reductions (with 'numeric_only=None') is deprecated; in a future version this will raise TypeError.  Select only valid columns before calling the reduction.\n",
      "  results_ascore[mask_size][masks_no] = nn_results[nn_results[\"Class\"]==\"acc_score\"].reset_index(drop=True).mean()\n",
      "/tmp/ipykernel_853189/260955257.py:22: FutureWarning: Dropping of nuisance columns in DataFrame reductions (with 'numeric_only=None') is deprecated; in a future version this will raise TypeError.  Select only valid columns before calling the reduction.\n",
      "  results_ba[mask_size][masks_no] = nn_results[nn_results[\"Class\"]==\"balanced_accuracy\"].reset_index(drop=True).mean()\n"
     ]
    },
    {
     "data": {
      "image/png": "[encoded data removed]",
      "text/plain": [
       "<Figure size 432x288 with 1 Axes>"
      ]
     },
     "metadata": {
      "needs_background": "light"
     },
     "output_type": "display_data"
    }
   ],
   "source": [
    "epochs = 150\n",
    "# mask_size = 80\n",
    "# masks_no = 100\n",
    "data_size = 100\n",
    "# results = defaultdict(dict)\n",
    "\n",
    "for mask_size in mask_sizes:\n",
    "    for masks_no in mask_numbers:\n",
    "        \n",
    "        print('masks_no', masks_no)\n",
    "        print('mask_size', mask_size)\n",
    "        \n",
    "        nn_results = test_model(network_fn(epochs, masks_no, mask_size),\n",
    "                        (X, y),\n",
    "                        data_size,\n",
    "                        None, 4)\n",
    "        \n",
    "        results_acc[mask_size][masks_no] = nn_results[nn_results[\"Class\"]==\"Total\"].reset_index(drop=True).mean()\n",
    "        results_ascore[mask_size][masks_no] = nn_results[nn_results[\"Class\"]==\"acc_score\"].reset_index(drop=True).mean()\n",
    "\n",
    "        \n",
    "        results_ba[mask_size][masks_no] = nn_results[nn_results[\"Class\"]==\"balanced_accuracy\"].reset_index(drop=True).mean()\n",
    "        \n"
   ]
  },
  {
   "cell_type": "code",
   "execution_count": 94,
   "id": "0d5f8ea4",
   "metadata": {},
   "outputs": [
    {
     "name": "stderr",
     "output_type": "stream",
     "text": [
      "/tmp/ipykernel_853189/4037359792.py:1: FutureWarning: Dropping of nuisance columns in DataFrame reductions (with 'numeric_only=None') is deprecated; in a future version this will raise TypeError.  Select only valid columns before calling the reduction.\n",
      "  nn_results[nn_results[\"Class\"]==\"balanced_accuracy\"].reset_index(drop=True).mean()\n"
     ]
    },
    {
     "data": {
      "text/plain": [
       "Metric    15.884158\n",
       "dtype: float64"
      ]
     },
     "execution_count": 94,
     "metadata": {},
     "output_type": "execute_result"
    }
   ],
   "source": [
    "nn_results[nn_results[\"Class\"]==\"balanced_accuracy\"].reset_index(drop=True).mean()"
   ]
  },
  {
   "cell_type": "code",
   "execution_count": 95,
   "id": "f4fdd005-4a0b-46f6-925b-ebb8f1468f21",
   "metadata": {},
   "outputs": [
    {
     "data": {
      "text/html": [
       "<div>\n",
       "<style scoped>\n",
       "    .dataframe tbody tr th:only-of-type {\n",
       "        vertical-align: middle;\n",
       "    }\n",
       "\n",
       "    .dataframe tbody tr th {\n",
       "        vertical-align: top;\n",
       "    }\n",
       "\n",
       "    .dataframe thead th {\n",
       "        text-align: right;\n",
       "    }\n",
       "</style>\n",
       "<table border=\"1\" class=\"dataframe\">\n",
       "  <thead>\n",
       "    <tr style=\"text-align: right;\">\n",
       "      <th></th>\n",
       "      <th>Class</th>\n",
       "      <th>Metric</th>\n",
       "    </tr>\n",
       "  </thead>\n",
       "  <tbody>\n",
       "    <tr>\n",
       "      <th>0</th>\n",
       "      <td>0</td>\n",
       "      <td>1.944867</td>\n",
       "    </tr>\n",
       "    <tr>\n",
       "      <th>1</th>\n",
       "      <td>1</td>\n",
       "      <td>10.072798</td>\n",
       "    </tr>\n",
       "    <tr>\n",
       "      <th>2</th>\n",
       "      <td>2</td>\n",
       "      <td>0.033625</td>\n",
       "    </tr>\n",
       "    <tr>\n",
       "      <th>3</th>\n",
       "      <td>3</td>\n",
       "      <td>58.928280</td>\n",
       "    </tr>\n",
       "    <tr>\n",
       "      <th>4</th>\n",
       "      <td>4</td>\n",
       "      <td>0.000000</td>\n",
       "    </tr>\n",
       "    <tr>\n",
       "      <th>5</th>\n",
       "      <td>5</td>\n",
       "      <td>17.738359</td>\n",
       "    </tr>\n",
       "    <tr>\n",
       "      <th>6</th>\n",
       "      <td>6</td>\n",
       "      <td>12.474611</td>\n",
       "    </tr>\n",
       "    <tr>\n",
       "      <th>7</th>\n",
       "      <td>7</td>\n",
       "      <td>6.266986</td>\n",
       "    </tr>\n",
       "    <tr>\n",
       "      <th>8</th>\n",
       "      <td>8</td>\n",
       "      <td>0.000000</td>\n",
       "    </tr>\n",
       "    <tr>\n",
       "      <th>9</th>\n",
       "      <td>9</td>\n",
       "      <td>0.151541</td>\n",
       "    </tr>\n",
       "    <tr>\n",
       "      <th>10</th>\n",
       "      <td>Total</td>\n",
       "      <td>10.851419</td>\n",
       "    </tr>\n",
       "    <tr>\n",
       "      <th>11</th>\n",
       "      <td>acc_score</td>\n",
       "      <td>10.851419</td>\n",
       "    </tr>\n",
       "    <tr>\n",
       "      <th>12</th>\n",
       "      <td>balanced_accuracy</td>\n",
       "      <td>10.761107</td>\n",
       "    </tr>\n",
       "    <tr>\n",
       "      <th>13</th>\n",
       "      <td>Loss</td>\n",
       "      <td>298.519564</td>\n",
       "    </tr>\n",
       "    <tr>\n",
       "      <th>14</th>\n",
       "      <td>0</td>\n",
       "      <td>28.530357</td>\n",
       "    </tr>\n",
       "    <tr>\n",
       "      <th>15</th>\n",
       "      <td>1</td>\n",
       "      <td>21.319269</td>\n",
       "    </tr>\n",
       "    <tr>\n",
       "      <th>16</th>\n",
       "      <td>2</td>\n",
       "      <td>0.302623</td>\n",
       "    </tr>\n",
       "    <tr>\n",
       "      <th>17</th>\n",
       "      <td>3</td>\n",
       "      <td>0.000000</td>\n",
       "    </tr>\n",
       "    <tr>\n",
       "      <th>18</th>\n",
       "      <td>4</td>\n",
       "      <td>0.874486</td>\n",
       "    </tr>\n",
       "    <tr>\n",
       "      <th>19</th>\n",
       "      <td>5</td>\n",
       "      <td>0.184775</td>\n",
       "    </tr>\n",
       "    <tr>\n",
       "      <th>20</th>\n",
       "      <td>6</td>\n",
       "      <td>67.704807</td>\n",
       "    </tr>\n",
       "    <tr>\n",
       "      <th>21</th>\n",
       "      <td>7</td>\n",
       "      <td>32.246203</td>\n",
       "    </tr>\n",
       "    <tr>\n",
       "      <th>22</th>\n",
       "      <td>8</td>\n",
       "      <td>44.530046</td>\n",
       "    </tr>\n",
       "    <tr>\n",
       "      <th>23</th>\n",
       "      <td>9</td>\n",
       "      <td>14.379525</td>\n",
       "    </tr>\n",
       "    <tr>\n",
       "      <th>24</th>\n",
       "      <td>Total</td>\n",
       "      <td>21.156928</td>\n",
       "    </tr>\n",
       "    <tr>\n",
       "      <th>25</th>\n",
       "      <td>acc_score</td>\n",
       "      <td>21.156928</td>\n",
       "    </tr>\n",
       "    <tr>\n",
       "      <th>26</th>\n",
       "      <td>balanced_accuracy</td>\n",
       "      <td>21.007209</td>\n",
       "    </tr>\n",
       "    <tr>\n",
       "      <th>27</th>\n",
       "      <td>Loss</td>\n",
       "      <td>253.580451</td>\n",
       "    </tr>\n",
       "  </tbody>\n",
       "</table>\n",
       "</div>"
      ],
      "text/plain": [
       "                Class      Metric\n",
       "0                   0    1.944867\n",
       "1                   1   10.072798\n",
       "2                   2    0.033625\n",
       "3                   3   58.928280\n",
       "4                   4    0.000000\n",
       "5                   5   17.738359\n",
       "6                   6   12.474611\n",
       "7                   7    6.266986\n",
       "8                   8    0.000000\n",
       "9                   9    0.151541\n",
       "10              Total   10.851419\n",
       "11          acc_score   10.851419\n",
       "12  balanced_accuracy   10.761107\n",
       "13               Loss  298.519564\n",
       "14                  0   28.530357\n",
       "15                  1   21.319269\n",
       "16                  2    0.302623\n",
       "17                  3    0.000000\n",
       "18                  4    0.874486\n",
       "19                  5    0.184775\n",
       "20                  6   67.704807\n",
       "21                  7   32.246203\n",
       "22                  8   44.530046\n",
       "23                  9   14.379525\n",
       "24              Total   21.156928\n",
       "25          acc_score   21.156928\n",
       "26  balanced_accuracy   21.007209\n",
       "27               Loss  253.580451"
      ]
     },
     "execution_count": 95,
     "metadata": {},
     "output_type": "execute_result"
    }
   ],
   "source": [
    "nn_results"
   ]
  },
  {
   "cell_type": "code",
   "execution_count": 97,
   "id": "23a66196",
   "metadata": {},
   "outputs": [
    {
     "data": {
      "text/plain": [
       "defaultdict(dict,\n",
       "            {10: {10: Metric    16.004174\n",
       "              dtype: float64,\n",
       "              20: Metric    11.196995\n",
       "              dtype: float64,\n",
       "              50: Metric    11.609349\n",
       "              dtype: float64,\n",
       "              80: Metric    11.84808\n",
       "              dtype: float64},\n",
       "             20: {10: Metric    15.792988\n",
       "              dtype: float64},\n",
       "             30: {10: Metric    16.449917\n",
       "              dtype: float64},\n",
       "             50: {10: Metric    18.041736\n",
       "              dtype: float64},\n",
       "             100: {10: Metric    23.675292\n",
       "              dtype: float64}})"
      ]
     },
     "execution_count": 97,
     "metadata": {},
     "output_type": "execute_result"
    }
   ],
   "source": [
    "results_acc"
   ]
  },
  {
   "cell_type": "code",
   "execution_count": null,
   "id": "23473c1d",
   "metadata": {},
   "outputs": [],
   "source": []
  },
  {
   "cell_type": "code",
   "execution_count": 96,
   "id": "4196bbed",
   "metadata": {},
   "outputs": [
    {
     "data": {
      "text/plain": [
       "defaultdict(dict,\n",
       "            {10: {10: Metric    15.884158\n",
       "              dtype: float64,\n",
       "              20: Metric    11.357775\n",
       "              dtype: float64,\n",
       "              50: Metric    12.22237\n",
       "              dtype: float64},\n",
       "             20: {10: Metric    15.653939\n",
       "              dtype: float64},\n",
       "             30: {10: Metric    16.375295\n",
       "              dtype: float64},\n",
       "             50: {10: Metric    17.965792\n",
       "              dtype: float64},\n",
       "             100: {10: Metric    23.979276\n",
       "              dtype: float64}})"
      ]
     },
     "execution_count": 96,
     "metadata": {},
     "output_type": "execute_result"
    }
   ],
   "source": [
    "results_ba"
   ]
  },
  {
   "cell_type": "markdown",
   "id": "bf51acbc",
   "metadata": {},
   "source": [
    "Acc"
   ]
  },
  {
   "cell_type": "code",
   "execution_count": null,
   "id": "9cf0d84f",
   "metadata": {},
   "outputs": [],
   "source": [
    "res_acc_df = pd.DataFrame(results_acc)\n",
    "res_acc_df = res_acc_df.fillna(res_acc_df.iloc[0, 0])\n",
    "res_acc_df = res_acc_df.apply(lambda x: [i[0] if not isinstance(i, float) else i for i in x])\n",
    "res_acc_df = res_acc_df.loc[:, sorted(res_acc_df.columns)]\n",
    "plt.imshow(res_acc_df)\n",
    "plt.yticks(np.arange(len(res_acc_df)), res_acc_df.index);\n",
    "plt.xticks(np.arange(len(res_acc_df.columns)), res_acc_df.columns);\n",
    "plt.xlabel(\"Mask size\")\n",
    "plt.ylabel(\"Number of masks\")\n",
    "plt.colorbar()\n",
    "plt.title(\"Accuracy vs parameters\")"
   ]
  },
  {
   "cell_type": "markdown",
   "id": "05fcf838",
   "metadata": {},
   "source": [
    "BA"
   ]
  },
  {
   "cell_type": "code",
   "execution_count": null,
   "id": "1c38866a",
   "metadata": {},
   "outputs": [],
   "source": [
    "res_ba_df = pd.DataFrame(results_ba)\n",
    "res_ba_df = res_ba_df.fillna(res_ba_df.iloc[0, 0])\n",
    "res_ba_df = res_ba_df.apply(lambda x: [i[0] if not isinstance(i, float) else i for i in x])\n",
    "res_ba_df = res_ba_df.loc[:, sorted(res_ba_df.columns)]\n",
    "plt.imshow(res_ba_df)\n",
    "plt.yticks(np.arange(len(res_ba_df)), res_ba_df.index);\n",
    "plt.xticks(np.arange(len(res_ba_df.columns)), res_ba_df.columns);\n",
    "plt.xlabel(\"Mask size\")\n",
    "plt.ylabel(\"Number of masks\")\n",
    "plt.colorbar()\n",
    "plt.title(\"Accuracy vs parameters\")"
   ]
  },
  {
   "cell_type": "code",
   "execution_count": null,
   "id": "a48f2c23",
   "metadata": {},
   "outputs": [],
   "source": []
  },
  {
   "cell_type": "code",
   "execution_count": 87,
   "id": "f0cfb58c-4b53-48e7-b2bc-6cde0247d4ef",
   "metadata": {},
   "outputs": [
    {
     "data": {
      "text/plain": [
       "Text(0.5, 1.0, 'Accuracy vs parameters')"
      ]
     },
     "execution_count": 87,
     "metadata": {},
     "output_type": "execute_result"
    },
    {
     "data": {
      "image/png": "[encoded data removed]",
      "text/plain": [
       "<Figure size 432x288 with 2 Axes>"
      ]
     },
     "metadata": {
      "needs_background": "light"
     },
     "output_type": "display_data"
    }
   ],
   "source": [
    "res_df = pd.DataFrame(results)\n",
    "res_df = res_df.fillna(res_df.iloc[0, 0])\n",
    "res_df = res_df.apply(lambda x: [i[0] if not isinstance(i, float) else i for i in x])\n",
    "res_df = res_df.loc[:, sorted(res_df.columns)]\n",
    "plt.imshow(res_df)\n",
    "plt.yticks(np.arange(len(res_df)), res_df.index);\n",
    "plt.xticks(np.arange(len(res_df.columns)), res_df.columns);\n",
    "plt.xlabel(\"Mask size\")\n",
    "plt.ylabel(\"Number of masks\")\n",
    "plt.colorbar()\n",
    "plt.title(\"Accuracy vs parameters\")"
   ]
  },
  {
   "cell_type": "code",
   "execution_count": 97,
   "id": "c2fb9a0f-44c4-4724-b6b4-e911b17262d7",
   "metadata": {},
   "outputs": [
    {
     "data": {
      "text/html": [
       "<div>\n",
       "<style scoped>\n",
       "    .dataframe tbody tr th:only-of-type {\n",
       "        vertical-align: middle;\n",
       "    }\n",
       "\n",
       "    .dataframe tbody tr th {\n",
       "        vertical-align: top;\n",
       "    }\n",
       "\n",
       "    .dataframe thead th {\n",
       "        text-align: right;\n",
       "    }\n",
       "</style>\n",
       "<table border=\"1\" class=\"dataframe\">\n",
       "  <thead>\n",
       "    <tr style=\"text-align: right;\">\n",
       "      <th></th>\n",
       "      <th>10</th>\n",
       "      <th>20</th>\n",
       "      <th>30</th>\n",
       "      <th>50</th>\n",
       "      <th>100</th>\n",
       "      <th>150</th>\n",
       "      <th>200</th>\n",
       "      <th>300</th>\n",
       "      <th>320</th>\n",
       "      <th>350</th>\n",
       "      <th>400</th>\n",
       "    </tr>\n",
       "  </thead>\n",
       "  <tbody>\n",
       "    <tr>\n",
       "      <th>10</th>\n",
       "      <td>58.372287</td>\n",
       "      <td>65.863940</td>\n",
       "      <td>69.756678</td>\n",
       "      <td>72.218698</td>\n",
       "      <td>75.782137</td>\n",
       "      <td>76.437813</td>\n",
       "      <td>76.962437</td>\n",
       "      <td>76.985810</td>\n",
       "      <td>76.320534</td>\n",
       "      <td>76.738731</td>\n",
       "      <td>76.505426</td>\n",
       "    </tr>\n",
       "    <tr>\n",
       "      <th>20</th>\n",
       "      <td>62.079299</td>\n",
       "      <td>71.933639</td>\n",
       "      <td>75.136895</td>\n",
       "      <td>76.060100</td>\n",
       "      <td>78.363940</td>\n",
       "      <td>77.933222</td>\n",
       "      <td>78.408180</td>\n",
       "      <td>77.870618</td>\n",
       "      <td>76.481219</td>\n",
       "      <td>77.333472</td>\n",
       "      <td>77.084725</td>\n",
       "    </tr>\n",
       "    <tr>\n",
       "      <th>50</th>\n",
       "      <td>65.389816</td>\n",
       "      <td>75.664441</td>\n",
       "      <td>78.727045</td>\n",
       "      <td>77.997913</td>\n",
       "      <td>79.419032</td>\n",
       "      <td>78.694491</td>\n",
       "      <td>78.503339</td>\n",
       "      <td>77.222037</td>\n",
       "      <td>76.639816</td>\n",
       "      <td>76.511269</td>\n",
       "      <td>75.187813</td>\n",
       "    </tr>\n",
       "    <tr>\n",
       "      <th>80</th>\n",
       "      <td>72.590150</td>\n",
       "      <td>76.605593</td>\n",
       "      <td>78.643573</td>\n",
       "      <td>78.789232</td>\n",
       "      <td>79.005008</td>\n",
       "      <td>78.717863</td>\n",
       "      <td>77.631052</td>\n",
       "      <td>76.590150</td>\n",
       "      <td>75.983723</td>\n",
       "      <td>75.625626</td>\n",
       "      <td>74.436978</td>\n",
       "    </tr>\n",
       "    <tr>\n",
       "      <th>100</th>\n",
       "      <td>71.251669</td>\n",
       "      <td>76.804674</td>\n",
       "      <td>78.936978</td>\n",
       "      <td>78.876461</td>\n",
       "      <td>78.948247</td>\n",
       "      <td>78.023790</td>\n",
       "      <td>76.873539</td>\n",
       "      <td>76.524624</td>\n",
       "      <td>74.591820</td>\n",
       "      <td>74.946578</td>\n",
       "      <td>74.570952</td>\n",
       "    </tr>\n",
       "    <tr>\n",
       "      <th>200</th>\n",
       "      <td>71.723289</td>\n",
       "      <td>75.037563</td>\n",
       "      <td>78.945326</td>\n",
       "      <td>79.141486</td>\n",
       "      <td>78.507930</td>\n",
       "      <td>76.437813</td>\n",
       "      <td>75.053005</td>\n",
       "      <td>73.651920</td>\n",
       "      <td>73.748748</td>\n",
       "      <td>72.785893</td>\n",
       "      <td>72.484140</td>\n",
       "    </tr>\n",
       "    <tr>\n",
       "      <th>300</th>\n",
       "      <td>70.271703</td>\n",
       "      <td>76.404841</td>\n",
       "      <td>78.472871</td>\n",
       "      <td>78.381052</td>\n",
       "      <td>76.777963</td>\n",
       "      <td>74.710768</td>\n",
       "      <td>74.075125</td>\n",
       "      <td>72.976210</td>\n",
       "      <td>NaN</td>\n",
       "      <td>NaN</td>\n",
       "      <td>NaN</td>\n",
       "    </tr>\n",
       "    <tr>\n",
       "      <th>350</th>\n",
       "      <td>66.117279</td>\n",
       "      <td>77.535476</td>\n",
       "      <td>77.161102</td>\n",
       "      <td>77.738314</td>\n",
       "      <td>76.894825</td>\n",
       "      <td>72.527546</td>\n",
       "      <td>73.026294</td>\n",
       "      <td>71.957846</td>\n",
       "      <td>NaN</td>\n",
       "      <td>NaN</td>\n",
       "      <td>NaN</td>\n",
       "    </tr>\n",
       "    <tr>\n",
       "      <th>400</th>\n",
       "      <td>70.086394</td>\n",
       "      <td>76.842654</td>\n",
       "      <td>78.332220</td>\n",
       "      <td>77.928214</td>\n",
       "      <td>76.235810</td>\n",
       "      <td>73.696160</td>\n",
       "      <td>72.708681</td>\n",
       "      <td>NaN</td>\n",
       "      <td>NaN</td>\n",
       "      <td>NaN</td>\n",
       "      <td>NaN</td>\n",
       "    </tr>\n",
       "  </tbody>\n",
       "</table>\n",
       "</div>"
      ],
      "text/plain": [
       "           10         20         30         50         100        150  \\\n",
       "10   58.372287  65.863940  69.756678  72.218698  75.782137  76.437813   \n",
       "20   62.079299  71.933639  75.136895  76.060100  78.363940  77.933222   \n",
       "50   65.389816  75.664441  78.727045  77.997913  79.419032  78.694491   \n",
       "80   72.590150  76.605593  78.643573  78.789232  79.005008  78.717863   \n",
       "100  71.251669  76.804674  78.936978  78.876461  78.948247  78.023790   \n",
       "200  71.723289  75.037563  78.945326  79.141486  78.507930  76.437813   \n",
       "300  70.271703  76.404841  78.472871  78.381052  76.777963  74.710768   \n",
       "350  66.117279  77.535476  77.161102  77.738314  76.894825  72.527546   \n",
       "400  70.086394  76.842654  78.332220  77.928214  76.235810  73.696160   \n",
       "\n",
       "           200        300        320        350        400  \n",
       "10   76.962437  76.985810  76.320534  76.738731  76.505426  \n",
       "20   78.408180  77.870618  76.481219  77.333472  77.084725  \n",
       "50   78.503339  77.222037  76.639816  76.511269  75.187813  \n",
       "80   77.631052  76.590150  75.983723  75.625626  74.436978  \n",
       "100  76.873539  76.524624  74.591820  74.946578  74.570952  \n",
       "200  75.053005  73.651920  73.748748  72.785893  72.484140  \n",
       "300  74.075125  72.976210        NaN        NaN        NaN  \n",
       "350  73.026294  71.957846        NaN        NaN        NaN  \n",
       "400  72.708681        NaN        NaN        NaN        NaN  "
      ]
     },
     "execution_count": 97,
     "metadata": {},
     "output_type": "execute_result"
    }
   ],
   "source": [
    "res_df"
   ]
  },
  {
   "cell_type": "markdown",
   "id": "a8a87557-af51-4380-8be9-ca89ffb23822",
   "metadata": {},
   "source": [
    "### Neural network"
   ]
  },
  {
   "cell_type": "code",
   "execution_count": 67,
   "id": "9c97f270-5e57-4cea-b2f1-3204451b0f0f",
   "metadata": {},
   "outputs": [],
   "source": [
    "def network_fn():\n",
    "    def _inner():\n",
    "        network = torch.nn.Sequential(\n",
    "                        torch.nn.Dropout(1-700/784),\n",
    "                        torch.nn.Linear(784, 100),\n",
    "                        torch.nn.ReLU(),\n",
    "                        torch.nn.Dropout(0.5),\n",
    "                        torch.nn.Linear(100, 10)\n",
    "                    ).to(DEVICE).train()\n",
    "\n",
    "        network = SimpleSklearnInterface(network, epochs=150, batch_size=32)\n",
    "        return network\n",
    "    return _inner"
   ]
  },
  {
   "cell_type": "code",
   "execution_count": 68,
   "id": "fdb86765-3874-4023-8e26-b40ccc6df903",
   "metadata": {
    "tags": []
   },
   "outputs": [
    {
     "data": {
      "image/png": "[encoded data removed]",
      "text/plain": [
       "<Figure size 432x288 with 1 Axes>"
      ]
     },
     "metadata": {
      "needs_background": "light"
     },
     "output_type": "display_data"
    }
   ],
   "source": [
    "data_size = 100\n",
    "\n",
    "nn_results = test_model(network_fn(),\n",
    "                (X, y),\n",
    "                data_size,\n",
    "                None, 10)"
   ]
  },
  {
   "cell_type": "code",
   "execution_count": 72,
   "id": "d4ae98e9-f383-407d-97a0-8ac875b4d00a",
   "metadata": {},
   "outputs": [
    {
     "data": {
      "text/html": [
       "<div>\n",
       "<style scoped>\n",
       "    .dataframe tbody tr th:only-of-type {\n",
       "        vertical-align: middle;\n",
       "    }\n",
       "\n",
       "    .dataframe tbody tr th {\n",
       "        vertical-align: top;\n",
       "    }\n",
       "\n",
       "    .dataframe thead th {\n",
       "        text-align: right;\n",
       "    }\n",
       "</style>\n",
       "<table border=\"1\" class=\"dataframe\">\n",
       "  <thead>\n",
       "    <tr style=\"text-align: right;\">\n",
       "      <th></th>\n",
       "      <th>Class</th>\n",
       "      <th>Metric</th>\n",
       "    </tr>\n",
       "  </thead>\n",
       "  <tbody>\n",
       "    <tr>\n",
       "      <th>0</th>\n",
       "      <td>Total</td>\n",
       "      <td>69.295492</td>\n",
       "    </tr>\n",
       "    <tr>\n",
       "      <th>1</th>\n",
       "      <td>Total</td>\n",
       "      <td>71.482471</td>\n",
       "    </tr>\n",
       "    <tr>\n",
       "      <th>2</th>\n",
       "      <td>Total</td>\n",
       "      <td>69.442404</td>\n",
       "    </tr>\n",
       "    <tr>\n",
       "      <th>3</th>\n",
       "      <td>Total</td>\n",
       "      <td>67.570952</td>\n",
       "    </tr>\n",
       "    <tr>\n",
       "      <th>4</th>\n",
       "      <td>Total</td>\n",
       "      <td>73.928214</td>\n",
       "    </tr>\n",
       "    <tr>\n",
       "      <th>5</th>\n",
       "      <td>Total</td>\n",
       "      <td>69.030050</td>\n",
       "    </tr>\n",
       "    <tr>\n",
       "      <th>6</th>\n",
       "      <td>Total</td>\n",
       "      <td>70.273790</td>\n",
       "    </tr>\n",
       "    <tr>\n",
       "      <th>7</th>\n",
       "      <td>Total</td>\n",
       "      <td>69.377295</td>\n",
       "    </tr>\n",
       "    <tr>\n",
       "      <th>8</th>\n",
       "      <td>Total</td>\n",
       "      <td>68.782972</td>\n",
       "    </tr>\n",
       "    <tr>\n",
       "      <th>9</th>\n",
       "      <td>Total</td>\n",
       "      <td>69.527546</td>\n",
       "    </tr>\n",
       "  </tbody>\n",
       "</table>\n",
       "</div>"
      ],
      "text/plain": [
       "   Class     Metric\n",
       "0  Total  69.295492\n",
       "1  Total  71.482471\n",
       "2  Total  69.442404\n",
       "3  Total  67.570952\n",
       "4  Total  73.928214\n",
       "5  Total  69.030050\n",
       "6  Total  70.273790\n",
       "7  Total  69.377295\n",
       "8  Total  68.782972\n",
       "9  Total  69.527546"
      ]
     },
     "execution_count": 72,
     "metadata": {},
     "output_type": "execute_result"
    }
   ],
   "source": [
    "nn_results[nn_results[\"Class\"]==\"Total\"].reset_index(drop=True)"
   ]
  },
  {
   "cell_type": "markdown",
   "id": "87e21a55-7762-4d47-90ac-e4673281eaf2",
   "metadata": {
    "tags": []
   },
   "source": [
    "### TabNet"
   ]
  },
  {
   "cell_type": "code",
   "execution_count": 39,
   "id": "ce0eada6-0ed4-48d6-9d79-9b790e220bd6",
   "metadata": {},
   "outputs": [],
   "source": [
    "from pytorch_tabnet.tab_model import TabNetClassifier, TabNetRegressor"
   ]
  },
  {
   "cell_type": "code",
   "execution_count": 44,
   "id": "87d2fdc4-dd62-4546-93c2-eb2ab63b03f5",
   "metadata": {
    "collapsed": true,
    "jupyter": {
     "outputs_hidden": true
    },
    "tags": []
   },
   "outputs": [
    {
     "name": "stdout",
     "output_type": "stream",
     "text": [
      "epoch 0  | loss: 4.49442 |  0:00:00s\n",
      "epoch 1  | loss: 4.10065 |  0:00:00s\n",
      "epoch 2  | loss: 3.69994 |  0:00:00s\n",
      "epoch 3  | loss: 3.47651 |  0:00:00s\n",
      "epoch 4  | loss: 3.53598 |  0:00:00s\n",
      "epoch 5  | loss: 3.38709 |  0:00:01s\n",
      "epoch 6  | loss: 3.26813 |  0:00:01s\n",
      "epoch 7  | loss: 3.2686  |  0:00:01s\n",
      "epoch 8  | loss: 3.1316  |  0:00:01s\n",
      "epoch 9  | loss: 3.13288 |  0:00:01s\n",
      "epoch 10 | loss: 2.90717 |  0:00:01s\n",
      "epoch 11 | loss: 2.95466 |  0:00:01s\n",
      "epoch 12 | loss: 2.85828 |  0:00:02s\n",
      "epoch 13 | loss: 2.76352 |  0:00:02s\n",
      "epoch 14 | loss: 2.74836 |  0:00:02s\n",
      "epoch 15 | loss: 2.78355 |  0:00:02s\n",
      "epoch 16 | loss: 2.78048 |  0:00:02s\n",
      "epoch 17 | loss: 2.60539 |  0:00:02s\n",
      "epoch 18 | loss: 2.60996 |  0:00:03s\n",
      "epoch 19 | loss: 2.57146 |  0:00:03s\n",
      "epoch 20 | loss: 2.58619 |  0:00:03s\n",
      "epoch 21 | loss: 2.50692 |  0:00:03s\n",
      "epoch 22 | loss: 2.51857 |  0:00:03s\n",
      "epoch 23 | loss: 2.4401  |  0:00:03s\n",
      "epoch 24 | loss: 2.3768  |  0:00:03s\n",
      "epoch 25 | loss: 2.36941 |  0:00:04s\n",
      "epoch 26 | loss: 2.29808 |  0:00:04s\n",
      "epoch 27 | loss: 2.26678 |  0:00:04s\n",
      "epoch 28 | loss: 2.2721  |  0:00:04s\n",
      "epoch 29 | loss: 2.17755 |  0:00:04s\n",
      "epoch 30 | loss: 2.20728 |  0:00:04s\n",
      "epoch 31 | loss: 2.17393 |  0:00:04s\n",
      "epoch 32 | loss: 2.07571 |  0:00:04s\n",
      "epoch 33 | loss: 2.18402 |  0:00:04s\n",
      "epoch 34 | loss: 2.07062 |  0:00:04s\n",
      "epoch 35 | loss: 2.05766 |  0:00:04s\n",
      "epoch 36 | loss: 1.99591 |  0:00:04s\n",
      "epoch 37 | loss: 1.95382 |  0:00:05s\n",
      "epoch 38 | loss: 1.9921  |  0:00:05s\n",
      "epoch 39 | loss: 1.94727 |  0:00:05s\n",
      "epoch 40 | loss: 1.95334 |  0:00:05s\n",
      "epoch 41 | loss: 1.93126 |  0:00:05s\n",
      "epoch 42 | loss: 1.88594 |  0:00:05s\n",
      "epoch 43 | loss: 1.87786 |  0:00:05s\n",
      "epoch 44 | loss: 1.82377 |  0:00:05s\n",
      "epoch 45 | loss: 1.88377 |  0:00:05s\n",
      "epoch 46 | loss: 1.81917 |  0:00:05s\n",
      "epoch 47 | loss: 1.82935 |  0:00:05s\n",
      "epoch 48 | loss: 1.81481 |  0:00:06s\n",
      "epoch 49 | loss: 1.75484 |  0:00:06s\n",
      "epoch 50 | loss: 1.7189  |  0:00:06s\n",
      "epoch 51 | loss: 1.71539 |  0:00:06s\n",
      "epoch 52 | loss: 1.75858 |  0:00:06s\n",
      "epoch 53 | loss: 1.7569  |  0:00:06s\n",
      "epoch 54 | loss: 1.68159 |  0:00:06s\n",
      "epoch 55 | loss: 1.68643 |  0:00:06s\n",
      "epoch 56 | loss: 1.70806 |  0:00:06s\n",
      "epoch 57 | loss: 1.69622 |  0:00:06s\n",
      "epoch 58 | loss: 1.72244 |  0:00:07s\n",
      "epoch 59 | loss: 1.68014 |  0:00:07s\n",
      "epoch 60 | loss: 1.68685 |  0:00:07s\n",
      "epoch 61 | loss: 1.61746 |  0:00:07s\n",
      "epoch 62 | loss: 1.64144 |  0:00:07s\n",
      "epoch 63 | loss: 1.60662 |  0:00:07s\n",
      "epoch 64 | loss: 1.59022 |  0:00:07s\n",
      "epoch 65 | loss: 1.58305 |  0:00:07s\n",
      "epoch 66 | loss: 1.50914 |  0:00:07s\n",
      "epoch 67 | loss: 1.48385 |  0:00:08s\n",
      "epoch 68 | loss: 1.52237 |  0:00:08s\n",
      "epoch 69 | loss: 1.53135 |  0:00:08s\n",
      "epoch 70 | loss: 1.52836 |  0:00:08s\n",
      "epoch 71 | loss: 1.50274 |  0:00:08s\n",
      "epoch 72 | loss: 1.47876 |  0:00:08s\n",
      "epoch 73 | loss: 1.51661 |  0:00:08s\n",
      "epoch 74 | loss: 1.43731 |  0:00:08s\n",
      "epoch 75 | loss: 1.4388  |  0:00:08s\n",
      "epoch 76 | loss: 1.47771 |  0:00:08s\n",
      "epoch 77 | loss: 1.45116 |  0:00:08s\n",
      "epoch 78 | loss: 1.44527 |  0:00:08s\n",
      "epoch 79 | loss: 1.42627 |  0:00:08s\n",
      "epoch 80 | loss: 1.37651 |  0:00:08s\n",
      "epoch 81 | loss: 1.35797 |  0:00:09s\n",
      "epoch 82 | loss: 1.35327 |  0:00:09s\n",
      "epoch 83 | loss: 1.39696 |  0:00:09s\n",
      "epoch 84 | loss: 1.35141 |  0:00:09s\n",
      "epoch 85 | loss: 1.28599 |  0:00:09s\n",
      "epoch 86 | loss: 1.23841 |  0:00:09s\n",
      "epoch 87 | loss: 1.27094 |  0:00:09s\n",
      "epoch 88 | loss: 1.23213 |  0:00:09s\n",
      "epoch 89 | loss: 1.20223 |  0:00:09s\n",
      "epoch 90 | loss: 1.2771  |  0:00:09s\n",
      "epoch 91 | loss: 1.26001 |  0:00:09s\n",
      "epoch 92 | loss: 1.20041 |  0:00:09s\n",
      "epoch 93 | loss: 1.22948 |  0:00:09s\n",
      "epoch 94 | loss: 1.23629 |  0:00:09s\n",
      "epoch 95 | loss: 1.21853 |  0:00:09s\n",
      "epoch 96 | loss: 1.22646 |  0:00:10s\n",
      "epoch 97 | loss: 1.16283 |  0:00:10s\n",
      "epoch 98 | loss: 1.17208 |  0:00:10s\n",
      "epoch 99 | loss: 1.14966 |  0:00:10s\n"
     ]
    }
   ],
   "source": [
    "def tabnet_fn():\n",
    "    clf = TabNetClassifier(verbose=1,n_d=64, n_a=64, n_steps=5,\n",
    "        gamma=1.5, n_independent=2, n_shared=2,\n",
    "        cat_emb_dim=1,\n",
    "        lambda_sparse=1e-4, momentum=0.3, clip_value=2.,\n",
    "        optimizer_fn=torch.optim.Adam,\n",
    "        optimizer_params=dict(lr=1e-2))\n",
    "    return clf\n",
    "\n",
    "tabnet_results = test_model(tabnet_fn,\n",
    "                    (X, y),\n",
    "                    1024, None, 1, as_numpy=True)"
   ]
  },
  {
   "cell_type": "code",
   "execution_count": 34,
   "id": "0686793c-6d21-445c-96c5-721772968b86",
   "metadata": {},
   "outputs": [
    {
     "data": {
      "text/html": [
       "<div>\n",
       "<style scoped>\n",
       "    .dataframe tbody tr th:only-of-type {\n",
       "        vertical-align: middle;\n",
       "    }\n",
       "\n",
       "    .dataframe tbody tr th {\n",
       "        vertical-align: top;\n",
       "    }\n",
       "\n",
       "    .dataframe thead th {\n",
       "        text-align: right;\n",
       "    }\n",
       "</style>\n",
       "<table border=\"1\" class=\"dataframe\">\n",
       "  <thead>\n",
       "    <tr style=\"text-align: right;\">\n",
       "      <th></th>\n",
       "      <th>Class</th>\n",
       "      <th>Metric</th>\n",
       "    </tr>\n",
       "  </thead>\n",
       "  <tbody>\n",
       "    <tr>\n",
       "      <th>0</th>\n",
       "      <td>Total</td>\n",
       "      <td>61.61659</td>\n",
       "    </tr>\n",
       "  </tbody>\n",
       "</table>\n",
       "</div>"
      ],
      "text/plain": [
       "   Class    Metric\n",
       "0  Total  61.61659"
      ]
     },
     "execution_count": 34,
     "metadata": {},
     "output_type": "execute_result"
    }
   ],
   "source": [
    "tabnet_results[tabnet_results[\"Class\"]==\"Total\"].reset_index(drop=True)"
   ]
  },
  {
   "cell_type": "markdown",
   "id": "84d4d42d-88e3-4bce-adf6-769a9aab2d9d",
   "metadata": {},
   "source": [
    "### NODE"
   ]
  },
  {
   "cell_type": "code",
   "execution_count": 14,
   "id": "f1fd787c-3d24-49af-bc9e-2d9f7b8ca9b7",
   "metadata": {},
   "outputs": [],
   "source": [
    "from qhoptim.pyt import QHAdam\n",
    "import node"
   ]
  },
  {
   "cell_type": "code",
   "execution_count": 15,
   "id": "23d3cb2f-0ced-4253-a446-0aca8cd9d168",
   "metadata": {},
   "outputs": [],
   "source": [
    "X_init = X.reshape(-1, 784)"
   ]
  },
  {
   "cell_type": "code",
   "execution_count": 37,
   "id": "967ef875-1456-44eb-a9fe-d18d0d343ddb",
   "metadata": {},
   "outputs": [],
   "source": [
    "def node_fn(layer_dims):\n",
    "    def _inner():\n",
    "        network = torch.nn.Sequential(\n",
    "            node.DenseBlock(X_init.shape[1], layer_dims, num_layers=2, tree_dim=11, depth=6, flatten_output=False,\n",
    "                           choice_function=node.entmax15, bin_function=node.entmoid15),\n",
    "            node.Lambda(lambda x: x[..., :10].mean(dim=-2))\n",
    "        )\n",
    "        \n",
    "        with torch.no_grad():\n",
    "            res = network(torch.as_tensor(X_init[:1000], device='cpu').to(torch.float32))\n",
    "        \n",
    "        network = network.to(DEVICE)\n",
    "        network.device=DEVICE\n",
    "            \n",
    "        optimizer_params = { 'nus':(0.7, 1.0), 'betas':(0.95, 0.998) }\n",
    "        optim = QHAdam(network.parameters(), **optimizer_params)\n",
    "            \n",
    "        network = SimpleSklearnInterface(network, device=DEVICE, epochs=500, batch_size=32)\n",
    "        network.optimizer = optim\n",
    "        return network\n",
    "    return _inner"
   ]
  },
  {
   "cell_type": "code",
   "execution_count": null,
   "id": "8799bc45-3499-4b0c-91a2-368897e6d80f",
   "metadata": {
    "tags": []
   },
   "outputs": [
    {
     "name": "stderr",
     "output_type": "stream",
     "text": [
      "COMET INFO: ---------------------------\n",
      "COMET INFO: Comet.ml Experiment Summary\n",
      "COMET INFO: ---------------------------\n",
      "COMET INFO:   Data:\n",
      "COMET INFO:     display_summary_level : 1\n",
      "COMET INFO:     url                   : https://www.comet.com/wwydmanski/mnist-benchmark-hypernet/6d8d95615641402b98577a488e29c52c\n",
      "COMET INFO:   Metrics [count] (min, max):\n",
      "COMET INFO:     loss [200] : (0.3375752866268158, 2.302137851715088)\n",
      "COMET INFO:   Uploads:\n",
      "COMET INFO:     conda-environment-definition : 1\n",
      "COMET INFO:     conda-info                   : 1\n",
      "COMET INFO:     conda-specification          : 1\n",
      "COMET INFO:     environment details          : 1\n",
      "COMET INFO:     filename                     : 1\n",
      "COMET INFO:     git metadata                 : 1\n",
      "COMET INFO:     git-patch (uncompressed)     : 1 (42.67 KB)\n",
      "COMET INFO:     installed packages           : 1\n",
      "COMET INFO:     model graph                  : 1\n",
      "COMET INFO:     notebook                     : 1\n",
      "COMET INFO:     os packages                  : 1\n",
      "COMET INFO:     source_code                  : 1\n",
      "COMET INFO: ---------------------------\n",
      "COMET WARNING: As you are running in a Jupyter environment, you will need to call `experiment.end()` when finished to ensure all metrics and code are logged before exiting.\n",
      "COMET INFO: Experiment is live on comet.ml https://www.comet.com/wwydmanski/mnist-benchmark-hypernet/fcd1382af2f1415c81309e0d989457ab\n",
      "\n",
      "/home/MCB/wwydmanski/external/hypernet-cnn/Benchmarks/node/odst.py:72: UserWarning: __floordiv__ is deprecated, and its behavior will change in a future version of pytorch. It currently rounds toward 0 (like the 'trunc' function NOT 'floor'). This results in incorrect rounding for negative values. To keep the current behavior, use torch.div(a, b, rounding_mode='trunc'), or for actual floor division, use torch.div(a, b, rounding_mode='floor').\n",
      "  bin_codes = (indices.view(1, -1) // offsets.view(-1, 1) % 2).to(torch.float32)\n",
      "/home/MCB/wwydmanski/external/hypernet-cnn/Benchmarks/node/odst.py:72: UserWarning: __floordiv__ is deprecated, and its behavior will change in a future version of pytorch. It currently rounds toward 0 (like the 'trunc' function NOT 'floor'). This results in incorrect rounding for negative values. To keep the current behavior, use torch.div(a, b, rounding_mode='trunc'), or for actual floor division, use torch.div(a, b, rounding_mode='floor').\n",
      "  bin_codes = (indices.view(1, -1) // offsets.view(-1, 1) % 2).to(torch.float32)\n",
      "/home/MCB/wwydmanski/external/hypernet-cnn/Benchmarks/node/odst.py:72: UserWarning: __floordiv__ is deprecated, and its behavior will change in a future version of pytorch. It currently rounds toward 0 (like the 'trunc' function NOT 'floor'). This results in incorrect rounding for negative values. To keep the current behavior, use torch.div(a, b, rounding_mode='trunc'), or for actual floor division, use torch.div(a, b, rounding_mode='floor').\n",
      "  bin_codes = (indices.view(1, -1) // offsets.view(-1, 1) % 2).to(torch.float32)\n"
     ]
    }
   ],
   "source": [
    "exp = Experiment(os.environ.get(\"COMET_KEY\"), \"mnist-benchmark-hypernet\")\n",
    "exp.add_tag(\"node\")\n",
    "\n",
    "node_results = test_model(node_fn(512),\n",
    "                            (X, y),\n",
    "                            100,\n",
    "                            None, 10\n",
    "                         )\n",
    "plt.title(layers)\n",
    "plt.show()"
   ]
  },
  {
   "cell_type": "code",
   "execution_count": 50,
   "id": "994c1260-b938-40a6-8903-54015bad9eff",
   "metadata": {},
   "outputs": [
    {
     "data": {
      "text/html": [
       "<div>\n",
       "<style scoped>\n",
       "    .dataframe tbody tr th:only-of-type {\n",
       "        vertical-align: middle;\n",
       "    }\n",
       "\n",
       "    .dataframe tbody tr th {\n",
       "        vertical-align: top;\n",
       "    }\n",
       "\n",
       "    .dataframe thead th {\n",
       "        text-align: right;\n",
       "    }\n",
       "</style>\n",
       "<table border=\"1\" class=\"dataframe\">\n",
       "  <thead>\n",
       "    <tr style=\"text-align: right;\">\n",
       "      <th></th>\n",
       "      <th>Class</th>\n",
       "      <th>Metric</th>\n",
       "    </tr>\n",
       "  </thead>\n",
       "  <tbody>\n",
       "    <tr>\n",
       "      <th>0</th>\n",
       "      <td>Total</td>\n",
       "      <td>75.242070</td>\n",
       "    </tr>\n",
       "    <tr>\n",
       "      <th>1</th>\n",
       "      <td>Total</td>\n",
       "      <td>74.041736</td>\n",
       "    </tr>\n",
       "    <tr>\n",
       "      <th>2</th>\n",
       "      <td>Total</td>\n",
       "      <td>75.803005</td>\n",
       "    </tr>\n",
       "    <tr>\n",
       "      <th>3</th>\n",
       "      <td>Total</td>\n",
       "      <td>75.988314</td>\n",
       "    </tr>\n",
       "    <tr>\n",
       "      <th>4</th>\n",
       "      <td>Total</td>\n",
       "      <td>74.517529</td>\n",
       "    </tr>\n",
       "    <tr>\n",
       "      <th>5</th>\n",
       "      <td>Total</td>\n",
       "      <td>75.666110</td>\n",
       "    </tr>\n",
       "    <tr>\n",
       "      <th>6</th>\n",
       "      <td>Total</td>\n",
       "      <td>76.679466</td>\n",
       "    </tr>\n",
       "    <tr>\n",
       "      <th>7</th>\n",
       "      <td>Total</td>\n",
       "      <td>74.490818</td>\n",
       "    </tr>\n",
       "    <tr>\n",
       "      <th>8</th>\n",
       "      <td>Total</td>\n",
       "      <td>75.302170</td>\n",
       "    </tr>\n",
       "    <tr>\n",
       "      <th>9</th>\n",
       "      <td>Total</td>\n",
       "      <td>76.133556</td>\n",
       "    </tr>\n",
       "  </tbody>\n",
       "</table>\n",
       "</div>"
      ],
      "text/plain": [
       "   Class     Metric\n",
       "0  Total  75.242070\n",
       "1  Total  74.041736\n",
       "2  Total  75.803005\n",
       "3  Total  75.988314\n",
       "4  Total  74.517529\n",
       "5  Total  75.666110\n",
       "6  Total  76.679466\n",
       "7  Total  74.490818\n",
       "8  Total  75.302170\n",
       "9  Total  76.133556"
      ]
     },
     "execution_count": 50,
     "metadata": {},
     "output_type": "execute_result"
    }
   ],
   "source": [
    "node_results[node_results[\"Class\"]==\"Total\"].reset_index(drop=True)"
   ]
  }
 ],
 "metadata": {
  "kernelspec": {
   "display_name": "Python 3 (ipykernel)",
   "language": "python",
   "name": "python3"
  },
  "language_info": {
   "codemirror_mode": {
    "name": "ipython",
    "version": 3
   },
   "file_extension": ".py",
   "mimetype": "text/x-python",
   "name": "python",
   "nbconvert_exporter": "python",
   "pygments_lexer": "ipython3",
   "version": "3.9.12"
  }
 },
 "nbformat": 4,
 "nbformat_minor": 5
}
