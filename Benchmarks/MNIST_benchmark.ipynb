{
 "cells": [
  {
   "cell_type": "code",
   "execution_count": 3,
   "id": "1f2cc04c-430f-4cbd-886c-fc6f4e13f745",
   "metadata": {},
   "outputs": [],
   "source": [
    "from dotenv import load_dotenv\n",
    "load_dotenv()\n",
    "\n",
    "import os"
   ]
  },
  {
   "cell_type": "code",
   "execution_count": 4,
   "id": "7bae9662-f26b-4c2d-abda-4ece5ae442d1",
   "metadata": {},
   "outputs": [],
   "source": [
    "from comet_ml import Experiment, Optimizer\n",
    "\n",
    "import torch\n",
    "import torchvision.transforms as transforms\n",
    "import torchvision.datasets as datasets\n",
    "import matplotlib.pyplot as plt\n",
    "import numpy as np\n",
    "import torch.nn.functional as F\n",
    "import torch.utils.data as data_utils\n",
    "import pandas as pd\n",
    "from collections import defaultdict\n",
    "\n",
    "torch.set_default_dtype(torch.float32)"
   ]
  },
  {
   "cell_type": "code",
   "execution_count": 5,
   "id": "6d6729d5-7f5a-4c1d-b3a4-5cdea977527f",
   "metadata": {},
   "outputs": [],
   "source": [
    "from sklearn.metrics import roc_auc_score, f1_score, precision_score, recall_score\n",
    "from sklearn.model_selection import train_test_split"
   ]
  },
  {
   "cell_type": "code",
   "execution_count": 6,
   "id": "cb4e5243-8400-446f-9d34-56180ebbe820",
   "metadata": {},
   "outputs": [],
   "source": [
    "from tabular_hypernet import HypernetworkPCA, TrainingModes, Hypernetwork\n",
    "from tabular_hypernet.modules import SimpleNetwork\n",
    "from tabular_hypernet.training_utils import train_slow_step, train_model, train_carthesian\n",
    "from tabular_hypernet.interfaces import HypernetworkSklearnInterface, SimpleSklearnInterface"
   ]
  },
  {
   "cell_type": "code",
   "execution_count": 7,
   "id": "b4e19f32-82b9-4376-bda1-238d72cae2ec",
   "metadata": {},
   "outputs": [],
   "source": [
    "from io import BytesIO"
   ]
  },
  {
   "cell_type": "code",
   "execution_count": 8,
   "id": "aa3c18d1-1d56-4393-9441-245420fb3c29",
   "metadata": {},
   "outputs": [],
   "source": [
    "import seaborn as sns"
   ]
  },
  {
   "cell_type": "code",
   "execution_count": 9,
   "id": "04d1ae25-987c-4043-9771-829c928723de",
   "metadata": {},
   "outputs": [],
   "source": [
    "DEVICE=\"cuda:0\""
   ]
  },
  {
   "cell_type": "code",
   "execution_count": 10,
   "id": "4a1a1e98-a8b4-4df2-aae6-b593fe61667a",
   "metadata": {},
   "outputs": [
    {
     "data": {
      "text/plain": [
       "1"
      ]
     },
     "execution_count": 10,
     "metadata": {},
     "output_type": "execute_result"
    }
   ],
   "source": [
    "from loguru import logger\n",
    "\n",
    "logger.add(\"log.txt\", format='{time:YYYY-MM-DD HH:mm:ss.SSS} | {message}')"
   ]
  },
  {
   "cell_type": "markdown",
   "id": "860d6a12-93e8-4000-91d8-97c9d01951e6",
   "metadata": {},
   "source": [
    "## Load data"
   ]
  },
  {
   "cell_type": "code",
   "execution_count": 11,
   "id": "c7b4e185-c95f-4eff-9d33-3c84eb6ed1d2",
   "metadata": {},
   "outputs": [],
   "source": [
    "mods = [transforms.ToTensor(), \n",
    "        transforms.Normalize((0.1307,), (0.3081,)),    #mean and std of MNIST\n",
    "        transforms.Lambda(lambda x: torch.flatten(x))]\n",
    "mods = transforms.Compose(mods)\n",
    "\n",
    "trainset = datasets.MNIST(root='./data/train', train=True, download=True, transform=mods)\n",
    "testset = datasets.MNIST(root='./data/test', train=False, download=True, transform=mods)"
   ]
  },
  {
   "cell_type": "code",
   "execution_count": 12,
   "id": "15c8de04-4cec-45be-97b0-0ddd58361f90",
   "metadata": {},
   "outputs": [],
   "source": [
    "X, y = trainset.data.numpy(), trainset.targets.numpy()"
   ]
  },
  {
   "cell_type": "code",
   "execution_count": 13,
   "id": "a2dcb4bc-f5df-47bd-8cd6-516bd90fcf2a",
   "metadata": {},
   "outputs": [],
   "source": [
    "def prepare_data(X, y, size=None):\n",
    "    X = X.reshape(-1, 784)\n",
    "    X_train, X_test, y_train, y_test = train_test_split(X, y, train_size=size, stratify=y, random_state=42)\n",
    "    \n",
    "    X_train, X_test, y_train, y_test = [torch.from_numpy(x) for x in [X_train, X_test, y_train, y_test]]\n",
    "    \n",
    "    return X_train, X_test, y_train, y_test"
   ]
  },
  {
   "cell_type": "code",
   "execution_count": 14,
   "id": "7dae2192-4c61-4a6e-b23c-e3d661077645",
   "metadata": {},
   "outputs": [],
   "source": [
    "def _summarize_results(y_pred, y_score, y_test, labels):\n",
    "    results = []\n",
    "    for idx, label in enumerate(labels):\n",
    "        y_pred_filt = y_pred[y_test==idx]\n",
    "        y_test_filt = y_test[y_test==idx]\n",
    "        acc = (y_pred_filt==y_test_filt.numpy()).sum()/len(y_test_filt)*100\n",
    "        results.append({\n",
    "            \"Class\": label,\n",
    "            \"Metric\": acc\n",
    "        })\n",
    "        \n",
    "    acc = (y_pred==y_test.numpy()).sum()/len(y_test)*100    \n",
    "    results.append({\n",
    "        \"Class\": \"Total\",\n",
    "        \"Metric\": acc\n",
    "    })\n",
    "    try:\n",
    "        results.append({\n",
    "            \"Class\": \"F1 score\",\n",
    "            \"Metric\": f1_score(y_test, torch.from_numpy(y_pred)).item()*100\n",
    "        })\n",
    "        results.append({\n",
    "            \"Class\": \"ROC score\",\n",
    "            \"Metric\": roc_auc_score(y_test, torch.from_numpy(y_score[:, 1])).item()*100\n",
    "        })\n",
    "        results.append({\n",
    "            \"Class\": \"Precision\",\n",
    "            \"Metric\": precision_score(y_test, torch.from_numpy(y_pred)).item()*100\n",
    "        })\n",
    "        results.append({\n",
    "            \"Class\": \"Recall\",\n",
    "            \"Metric\": recall_score(y_test, torch.from_numpy(y_pred)).item()*100\n",
    "        })\n",
    "    except ValueError:\n",
    "        pass\n",
    "    results.append({\n",
    "        \"Class\": \"Loss\",\n",
    "        \"Metric\": criterion(torch.from_numpy(y_score), y_test).item()*100\n",
    "    })\n",
    "    return results\n",
    "\n",
    "def test_model(model_fn, data, train_size, label_encoder=None, iters=10, as_numpy=False):\n",
    "    if label_encoder is not None:\n",
    "        labels = label_encoder.classes_\n",
    "    else:\n",
    "        labels = sorted(pd.unique(data[1]))\n",
    "    \n",
    "    results = []\n",
    "\n",
    "    for i in range(iters):\n",
    "        X_train, X_test, y_train, y_test = prepare_data(*data, train_size)\n",
    "        \n",
    "        model = model_fn()\n",
    "\n",
    "        if as_numpy:\n",
    "            model.fit(X_train.numpy(), y_train.numpy());\n",
    "        else:\n",
    "            model.fit(X_train, y_train)\n",
    "        \n",
    "        y_pred = model.predict(X_test)\n",
    "        y_score = model.predict_proba(X_test)\n",
    "        results.extend(_summarize_results(y_pred, y_score, y_test, labels))\n",
    "\n",
    "    dframe = pd.DataFrame.from_dict(results)\n",
    "    sns.violinplot(data=dframe[dframe[\"Class\"]!=\"Loss\"], y=\"Class\", x=\"Metric\", orient='h')\n",
    "    return dframe"
   ]
  },
  {
   "cell_type": "code",
   "execution_count": 15,
   "id": "6193e068-26c5-410e-a6f3-4d7db4add5f5",
   "metadata": {},
   "outputs": [],
   "source": [
    "criterion = torch.nn.CrossEntropyLoss()"
   ]
  },
  {
   "cell_type": "markdown",
   "id": "51a10b12-c8b1-4562-8b22-3af79b5cfbfa",
   "metadata": {},
   "source": [
    "## Benchmark"
   ]
  },
  {
   "cell_type": "markdown",
   "id": "9de34e27-10af-42ce-9435-d9d17dd13008",
   "metadata": {},
   "source": [
    "### XGBoost"
   ]
  },
  {
   "cell_type": "code",
   "execution_count": 15,
   "id": "9f7809d2-d92b-4a37-ba3b-17337cf3f3f4",
   "metadata": {},
   "outputs": [],
   "source": [
    "from xgboost import XGBClassifier"
   ]
  },
  {
   "cell_type": "code",
   "execution_count": 16,
   "id": "51842fed-3e2d-4150-ad3c-e971bf4390ae",
   "metadata": {},
   "outputs": [
    {
     "data": {
      "image/png": "[encoded data removed]",
      "text/plain": [
       "<Figure size 432x288 with 1 Axes>"
      ]
     },
     "metadata": {
      "needs_background": "light"
     },
     "output_type": "display_data"
    }
   ],
   "source": [
    "def get_xgboost():\n",
    "    random_seed = np.random.randint(1024)\n",
    "    return XGBClassifier(\n",
    "        verbosity=0,\n",
    "        random_state=random_seed,\n",
    "        subsample=0.9,\n",
    "        eta=0.1,\n",
    "        use_label_encoder=False)\n",
    "\n",
    "xgb_dframe = test_model(get_xgboost, \n",
    "                        (X, y),\n",
    "                        100,\n",
    "                        None, iters=10)"
   ]
  },
  {
   "cell_type": "code",
   "execution_count": 52,
   "id": "40a5e0ce-2d8a-4d9b-af2b-2baeef468acc",
   "metadata": {},
   "outputs": [
    {
     "data": {
      "text/html": [
       "<div>\n",
       "<style scoped>\n",
       "    .dataframe tbody tr th:only-of-type {\n",
       "        vertical-align: middle;\n",
       "    }\n",
       "\n",
       "    .dataframe tbody tr th {\n",
       "        vertical-align: top;\n",
       "    }\n",
       "\n",
       "    .dataframe thead th {\n",
       "        text-align: right;\n",
       "    }\n",
       "</style>\n",
       "<table border=\"1\" class=\"dataframe\">\n",
       "  <thead>\n",
       "    <tr style=\"text-align: right;\">\n",
       "      <th></th>\n",
       "      <th>Class</th>\n",
       "      <th>Metric</th>\n",
       "    </tr>\n",
       "  </thead>\n",
       "  <tbody>\n",
       "    <tr>\n",
       "      <th>0</th>\n",
       "      <td>Total</td>\n",
       "      <td>64.031720</td>\n",
       "    </tr>\n",
       "    <tr>\n",
       "      <th>1</th>\n",
       "      <td>Total</td>\n",
       "      <td>63.694491</td>\n",
       "    </tr>\n",
       "    <tr>\n",
       "      <th>2</th>\n",
       "      <td>Total</td>\n",
       "      <td>63.530885</td>\n",
       "    </tr>\n",
       "    <tr>\n",
       "      <th>3</th>\n",
       "      <td>Total</td>\n",
       "      <td>62.928214</td>\n",
       "    </tr>\n",
       "    <tr>\n",
       "      <th>4</th>\n",
       "      <td>Total</td>\n",
       "      <td>63.425710</td>\n",
       "    </tr>\n",
       "    <tr>\n",
       "      <th>5</th>\n",
       "      <td>Total</td>\n",
       "      <td>63.519199</td>\n",
       "    </tr>\n",
       "    <tr>\n",
       "      <th>6</th>\n",
       "      <td>Total</td>\n",
       "      <td>63.327212</td>\n",
       "    </tr>\n",
       "    <tr>\n",
       "      <th>7</th>\n",
       "      <td>Total</td>\n",
       "      <td>63.475793</td>\n",
       "    </tr>\n",
       "    <tr>\n",
       "      <th>8</th>\n",
       "      <td>Total</td>\n",
       "      <td>63.315526</td>\n",
       "    </tr>\n",
       "    <tr>\n",
       "      <th>9</th>\n",
       "      <td>Total</td>\n",
       "      <td>63.622705</td>\n",
       "    </tr>\n",
       "  </tbody>\n",
       "</table>\n",
       "</div>"
      ],
      "text/plain": [
       "   Class     Metric\n",
       "0  Total  64.031720\n",
       "1  Total  63.694491\n",
       "2  Total  63.530885\n",
       "3  Total  62.928214\n",
       "4  Total  63.425710\n",
       "5  Total  63.519199\n",
       "6  Total  63.327212\n",
       "7  Total  63.475793\n",
       "8  Total  63.315526\n",
       "9  Total  63.622705"
      ]
     },
     "execution_count": 52,
     "metadata": {},
     "output_type": "execute_result"
    }
   ],
   "source": [
    "xgb_dframe[xgb_dframe[\"Class\"]==\"Total\"].reset_index(drop=True)"
   ]
  },
  {
   "cell_type": "markdown",
   "id": "553e0556-9964-4663-a456-4862715a8e4d",
   "metadata": {},
   "source": [
    "### Random forest"
   ]
  },
  {
   "cell_type": "code",
   "execution_count": 22,
   "id": "6758728e-d6c8-4d23-9aa7-ba7998704411",
   "metadata": {},
   "outputs": [],
   "source": [
    "from sklearn.ensemble import RandomForestClassifier"
   ]
  },
  {
   "cell_type": "code",
   "execution_count": 45,
   "id": "3325fd3b-8a85-46eb-896c-46bf8d768a89",
   "metadata": {},
   "outputs": [
    {
     "data": {
      "image/png": "[encoded data removed]",
      "text/plain": [
       "<Figure size 432x288 with 1 Axes>"
      ]
     },
     "metadata": {
      "needs_background": "light"
     },
     "output_type": "display_data"
    }
   ],
   "source": [
    "def get_rf(n_estimator):\n",
    "    def _inner():\n",
    "        random_seed = np.random.randint(1024)\n",
    "        return RandomForestClassifier(\n",
    "            random_state=random_seed)\n",
    "    return _inner\n",
    "\n",
    "rf_dframe = test_model(get_rf(estimators), \n",
    "                        (X, y),\n",
    "                        100,\n",
    "                        None, iters=10)"
   ]
  },
  {
   "cell_type": "code",
   "execution_count": 51,
   "id": "0b7419f2-5b07-4428-bbd0-9ed4f0529283",
   "metadata": {},
   "outputs": [
    {
     "data": {
      "text/plain": [
       "Class         Total\n",
       "Metric    73.155259\n",
       "dtype: object"
      ]
     },
     "execution_count": 51,
     "metadata": {},
     "output_type": "execute_result"
    }
   ],
   "source": [
    "rf_dframe[rf_dframe[\"Class\"]==\"Total\"].reset_index(drop=True).max()"
   ]
  },
  {
   "cell_type": "markdown",
   "id": "0268b22a-78ac-4f51-bd7d-5e49576abef9",
   "metadata": {
    "tags": []
   },
   "source": [
    "### HypernetworkPCA"
   ]
  },
  {
   "cell_type": "code",
   "execution_count": 111,
   "id": "6e5536d6-cf9d-4a2b-9d7b-184c0ac27a84",
   "metadata": {},
   "outputs": [],
   "source": [
    "def network_pca_fn(epochs=10, masks_no=100, mask_size=100):\n",
    "    def _inner():\n",
    "        hypernet = HypernetworkPCA(\n",
    "                        target_architecture=[(mask_size, 100), (100, 10)], \n",
    "                        test_nodes=masks_no,\n",
    "                        architecture=torch.nn.Sequential(torch.nn.Linear(16, 64), \n",
    "                            torch.nn.ReLU(),\n",
    "                            torch.nn.Linear(64, 128),\n",
    "                            torch.nn.ReLU(),\n",
    "                            torch.nn.Dropout(),\n",
    "                            torch.nn.Linear(128, 128),\n",
    "                            torch.nn.ReLU(),\n",
    "                        ),\n",
    "                        mode=TrainingModes.CARTHESIAN,\n",
    "                        input_size=784\n",
    "                    ).to(DEVICE)    \n",
    "        hypernet = hypernet.train()\n",
    "\n",
    "        network = HypernetworkSklearnInterface(hypernet, device=DEVICE, epochs=epochs, batch_size=64)\n",
    "        return network\n",
    "    return _inner"
   ]
  },
  {
   "cell_type": "code",
   "execution_count": 112,
   "id": "1e43b7af-9be5-427a-be2e-4f134ba1e644",
   "metadata": {},
   "outputs": [],
   "source": [
    "def figure_to_html():\n",
    "    tmpfile = BytesIO()\n",
    "    plt.gcf().savefig(tmpfile, format='png')\n",
    "    encoded = base64.b64encode(tmpfile.getvalue()).decode('utf-8')\n",
    "\n",
    "    html = '<img src=\\'data:image/png;base64,{}\\'>'.format(encoded)\n",
    "    return html"
   ]
  },
  {
   "cell_type": "code",
   "execution_count": 113,
   "id": "f5b3a72c-14cf-4d70-bb83-1f0a8aad5144",
   "metadata": {
    "tags": []
   },
   "outputs": [
    {
     "name": "stdout",
     "output_type": "stream",
     "text": [
      "torch.Size([1, 128])\n",
      "784\n"
     ]
    },
    {
     "name": "stderr",
     "output_type": "stream",
     "text": [
      "100%|██████████████████████████████████████████████████████████████████████████████████████████████████████████████████████████████| 150/150 [02:44<00:00,  1.09s/it]\n"
     ]
    },
    {
     "name": "stdout",
     "output_type": "stream",
     "text": [
      "torch.Size([1, 128])\n",
      "784\n"
     ]
    },
    {
     "name": "stderr",
     "output_type": "stream",
     "text": [
      "100%|██████████████████████████████████████████████████████████████████████████████████████████████████████████████████████████████| 150/150 [04:29<00:00,  1.80s/it]\n"
     ]
    },
    {
     "name": "stdout",
     "output_type": "stream",
     "text": [
      "torch.Size([1, 128])\n",
      "784\n"
     ]
    },
    {
     "name": "stderr",
     "output_type": "stream",
     "text": [
      "100%|██████████████████████████████████████████████████████████████████████████████████████████████████████████████████████████████| 150/150 [02:44<00:00,  1.09s/it]\n"
     ]
    },
    {
     "name": "stdout",
     "output_type": "stream",
     "text": [
      "torch.Size([1, 128])\n",
      "784\n"
     ]
    },
    {
     "name": "stderr",
     "output_type": "stream",
     "text": [
      "100%|██████████████████████████████████████████████████████████████████████████████████████████████████████████████████████████████| 150/150 [04:48<00:00,  1.92s/it]\n",
      "/tmp/ipykernel_3387654/2294287173.py:11: FutureWarning: Dropping of nuisance columns in DataFrame reductions (with 'numeric_only=None') is deprecated; in a future version this will raise TypeError.  Select only valid columns before calling the reduction.\n",
      "  results[mask_size][masks_no] = hyper_pca_results[hyper_pca_results[\"Class\"]==\"Total\"].reset_index(drop=True).mean()\n"
     ]
    },
    {
     "data": {
      "image/png": "[encoded data removed]",
      "text/plain": [
       "<Figure size 432x288 with 1 Axes>"
      ]
     },
     "metadata": {
      "needs_background": "light"
     },
     "output_type": "display_data"
    }
   ],
   "source": [
    "epochs = 150\n",
    "mask_size = 50\n",
    "masks_no = 100\n",
    "data_size = 100\n",
    "results = defaultdict(dict)\n",
    "\n",
    "hyper_pca_results = test_model(network_pca_fn(epochs, masks_no, mask_size),\n",
    "                (X, y),\n",
    "                data_size,\n",
    "                None, 4)\n",
    "results[mask_size][masks_no] = hyper_pca_results[hyper_pca_results[\"Class\"]==\"Total\"].reset_index(drop=True).mean()\n",
    "\n",
    "# exp.log_table(\"metrics.csv\", hyper_pca_results.groupby(\"Class\").mean())"
   ]
  },
  {
   "cell_type": "code",
   "execution_count": 117,
   "id": "057574bf-0687-438a-ab01-5eeea7b05478",
   "metadata": {},
   "outputs": [
    {
     "data": {
      "text/plain": [
       "Class         Total\n",
       "Metric    79.611018\n",
       "dtype: object"
      ]
     },
     "execution_count": 117,
     "metadata": {},
     "output_type": "execute_result"
    }
   ],
   "source": [
    "hyper_pca_results[hyper_pca_results[\"Class\"]==\"Total\"].reset_index(drop=True).max()"
   ]
  },
  {
   "cell_type": "markdown",
   "id": "bfee1b29-5a3b-4487-8bd3-28b00d82cd40",
   "metadata": {
    "tags": []
   },
   "source": [
    "### Hypernetwork"
   ]
  },
  {
   "cell_type": "code",
   "execution_count": 16,
   "id": "e91eb5c1-65f5-4ce3-a6a8-34cb82664ae3",
   "metadata": {},
   "outputs": [],
   "source": [
    "def network_fn(epochs=10, masks_no=100, mask_size=100):\n",
    "    def _inner():\n",
    "        hypernet = Hypernetwork(\n",
    "                        target_architecture=[(mask_size, 100), (100, 10)], \n",
    "                        test_nodes=masks_no,\n",
    "                        architecture=torch.nn.Sequential(torch.nn.Linear(784, 32), \n",
    "                            torch.nn.ReLU(),\n",
    "                            torch.nn.Linear(32, 128),\n",
    "                            torch.nn.ReLU(),\n",
    "                            torch.nn.Dropout(),\n",
    "                            torch.nn.Linear(128, 128),\n",
    "                            torch.nn.ReLU(),\n",
    "                        ),\n",
    "                        mode=TrainingModes.CARTHESIAN,\n",
    "                    ).to(DEVICE)    \n",
    "        hypernet = hypernet.train()\n",
    "\n",
    "        network = HypernetworkSklearnInterface(hypernet, device=DEVICE, epochs=epochs, batch_size=64)\n",
    "        return network\n",
    "    return _inner"
   ]
  },
  {
   "cell_type": "code",
   "execution_count": null,
   "id": "baea04b2-0d40-47ba-9e18-95286ee0dfd3",
   "metadata": {
    "tags": []
   },
   "outputs": [
    {
     "name": "stdout",
     "output_type": "stream",
     "text": [
      "torch.Size([1, 128])\n"
     ]
    },
    {
     "name": "stderr",
     "output_type": "stream",
     "text": [
      "100%|██████████████████████████████████████████████████████████████████████████████████████████████████████████████████████████████| 150/150 [01:38<00:00,  1.52it/s]\n"
     ]
    },
    {
     "name": "stdout",
     "output_type": "stream",
     "text": [
      "torch.Size([1, 128])\n"
     ]
    },
    {
     "name": "stderr",
     "output_type": "stream",
     "text": [
      " 47%|███████████████████████████████████████████████████████████▎                                                                   | 70/150 [02:12<02:34,  1.93s/it]"
     ]
    }
   ],
   "source": [
    "epochs = 150\n",
    "mask_size = 80\n",
    "masks_no = 100\n",
    "data_size = 100\n",
    "# results = defaultdict(dict)\n",
    "\n",
    "nn_results = test_model(network_fn(epochs, masks_no, mask_size),\n",
    "                (X, y),\n",
    "                data_size,\n",
    "                None, 4)\n",
    "results[mask_size][masks_no] = nn_results[nn_results[\"Class\"]==\"Total\"].reset_index(drop=True).mean()"
   ]
  },
  {
   "cell_type": "code",
   "execution_count": 84,
   "id": "f4fdd005-4a0b-46f6-925b-ebb8f1468f21",
   "metadata": {},
   "outputs": [
    {
     "data": {
      "text/plain": [
       "Class         Total\n",
       "Metric    78.974958\n",
       "dtype: object"
      ]
     },
     "execution_count": 84,
     "metadata": {},
     "output_type": "execute_result"
    }
   ],
   "source": [
    "nn_results[nn_results[\"Class\"]==\"Total\"].reset_index(drop=True).max()"
   ]
  },
  {
   "cell_type": "code",
   "execution_count": 87,
   "id": "f0cfb58c-4b53-48e7-b2bc-6cde0247d4ef",
   "metadata": {},
   "outputs": [
    {
     "data": {
      "text/plain": [
       "Text(0.5, 1.0, 'Accuracy vs parameters')"
      ]
     },
     "execution_count": 87,
     "metadata": {},
     "output_type": "execute_result"
    },
    {
     "data": {
      "image/png": "[encoded data removed]",
      "text/plain": [
       "<Figure size 432x288 with 2 Axes>"
      ]
     },
     "metadata": {
      "needs_background": "light"
     },
     "output_type": "display_data"
    }
   ],
   "source": [
    "res_df = pd.DataFrame(results)\n",
    "res_df = res_df.fillna(res_df.iloc[0, 0])\n",
    "res_df = res_df.apply(lambda x: [i[0] if not isinstance(i, float) else i for i in x])\n",
    "res_df = res_df.loc[:, sorted(res_df.columns)]\n",
    "plt.imshow(res_df)\n",
    "plt.yticks(np.arange(len(res_df)), res_df.index);\n",
    "plt.xticks(np.arange(len(res_df.columns)), res_df.columns);\n",
    "plt.xlabel(\"Mask size\")\n",
    "plt.ylabel(\"Number of masks\")\n",
    "plt.colorbar()\n",
    "plt.title(\"Accuracy vs parameters\")"
   ]
  },
  {
   "cell_type": "code",
   "execution_count": 97,
   "id": "c2fb9a0f-44c4-4724-b6b4-e911b17262d7",
   "metadata": {},
   "outputs": [
    {
     "data": {
      "text/html": [
       "<div>\n",
       "<style scoped>\n",
       "    .dataframe tbody tr th:only-of-type {\n",
       "        vertical-align: middle;\n",
       "    }\n",
       "\n",
       "    .dataframe tbody tr th {\n",
       "        vertical-align: top;\n",
       "    }\n",
       "\n",
       "    .dataframe thead th {\n",
       "        text-align: right;\n",
       "    }\n",
       "</style>\n",
       "<table border=\"1\" class=\"dataframe\">\n",
       "  <thead>\n",
       "    <tr style=\"text-align: right;\">\n",
       "      <th></th>\n",
       "      <th>10</th>\n",
       "      <th>20</th>\n",
       "      <th>30</th>\n",
       "      <th>50</th>\n",
       "      <th>100</th>\n",
       "      <th>150</th>\n",
       "      <th>200</th>\n",
       "      <th>300</th>\n",
       "      <th>320</th>\n",
       "      <th>350</th>\n",
       "      <th>400</th>\n",
       "    </tr>\n",
       "  </thead>\n",
       "  <tbody>\n",
       "    <tr>\n",
       "      <th>10</th>\n",
       "      <td>58.372287</td>\n",
       "      <td>65.863940</td>\n",
       "      <td>69.756678</td>\n",
       "      <td>72.218698</td>\n",
       "      <td>75.782137</td>\n",
       "      <td>76.437813</td>\n",
       "      <td>76.962437</td>\n",
       "      <td>76.985810</td>\n",
       "      <td>76.320534</td>\n",
       "      <td>76.738731</td>\n",
       "      <td>76.505426</td>\n",
       "    </tr>\n",
       "    <tr>\n",
       "      <th>20</th>\n",
       "      <td>62.079299</td>\n",
       "      <td>71.933639</td>\n",
       "      <td>75.136895</td>\n",
       "      <td>76.060100</td>\n",
       "      <td>78.363940</td>\n",
       "      <td>77.933222</td>\n",
       "      <td>78.408180</td>\n",
       "      <td>77.870618</td>\n",
       "      <td>76.481219</td>\n",
       "      <td>77.333472</td>\n",
       "      <td>77.084725</td>\n",
       "    </tr>\n",
       "    <tr>\n",
       "      <th>50</th>\n",
       "      <td>65.389816</td>\n",
       "      <td>75.664441</td>\n",
       "      <td>78.727045</td>\n",
       "      <td>77.997913</td>\n",
       "      <td>79.419032</td>\n",
       "      <td>78.694491</td>\n",
       "      <td>78.503339</td>\n",
       "      <td>77.222037</td>\n",
       "      <td>76.639816</td>\n",
       "      <td>76.511269</td>\n",
       "      <td>75.187813</td>\n",
       "    </tr>\n",
       "    <tr>\n",
       "      <th>80</th>\n",
       "      <td>72.590150</td>\n",
       "      <td>76.605593</td>\n",
       "      <td>78.643573</td>\n",
       "      <td>78.789232</td>\n",
       "      <td>79.005008</td>\n",
       "      <td>78.717863</td>\n",
       "      <td>77.631052</td>\n",
       "      <td>76.590150</td>\n",
       "      <td>75.983723</td>\n",
       "      <td>75.625626</td>\n",
       "      <td>74.436978</td>\n",
       "    </tr>\n",
       "    <tr>\n",
       "      <th>100</th>\n",
       "      <td>71.251669</td>\n",
       "      <td>76.804674</td>\n",
       "      <td>78.936978</td>\n",
       "      <td>78.876461</td>\n",
       "      <td>78.948247</td>\n",
       "      <td>78.023790</td>\n",
       "      <td>76.873539</td>\n",
       "      <td>76.524624</td>\n",
       "      <td>74.591820</td>\n",
       "      <td>74.946578</td>\n",
       "      <td>74.570952</td>\n",
       "    </tr>\n",
       "    <tr>\n",
       "      <th>200</th>\n",
       "      <td>71.723289</td>\n",
       "      <td>75.037563</td>\n",
       "      <td>78.945326</td>\n",
       "      <td>79.141486</td>\n",
       "      <td>78.507930</td>\n",
       "      <td>76.437813</td>\n",
       "      <td>75.053005</td>\n",
       "      <td>73.651920</td>\n",
       "      <td>73.748748</td>\n",
       "      <td>72.785893</td>\n",
       "      <td>72.484140</td>\n",
       "    </tr>\n",
       "    <tr>\n",
       "      <th>300</th>\n",
       "      <td>70.271703</td>\n",
       "      <td>76.404841</td>\n",
       "      <td>78.472871</td>\n",
       "      <td>78.381052</td>\n",
       "      <td>76.777963</td>\n",
       "      <td>74.710768</td>\n",
       "      <td>74.075125</td>\n",
       "      <td>72.976210</td>\n",
       "      <td>NaN</td>\n",
       "      <td>NaN</td>\n",
       "      <td>NaN</td>\n",
       "    </tr>\n",
       "    <tr>\n",
       "      <th>350</th>\n",
       "      <td>66.117279</td>\n",
       "      <td>77.535476</td>\n",
       "      <td>77.161102</td>\n",
       "      <td>77.738314</td>\n",
       "      <td>76.894825</td>\n",
       "      <td>72.527546</td>\n",
       "      <td>73.026294</td>\n",
       "      <td>71.957846</td>\n",
       "      <td>NaN</td>\n",
       "      <td>NaN</td>\n",
       "      <td>NaN</td>\n",
       "    </tr>\n",
       "    <tr>\n",
       "      <th>400</th>\n",
       "      <td>70.086394</td>\n",
       "      <td>76.842654</td>\n",
       "      <td>78.332220</td>\n",
       "      <td>77.928214</td>\n",
       "      <td>76.235810</td>\n",
       "      <td>73.696160</td>\n",
       "      <td>72.708681</td>\n",
       "      <td>NaN</td>\n",
       "      <td>NaN</td>\n",
       "      <td>NaN</td>\n",
       "      <td>NaN</td>\n",
       "    </tr>\n",
       "  </tbody>\n",
       "</table>\n",
       "</div>"
      ],
      "text/plain": [
       "           10         20         30         50         100        150  \\\n",
       "10   58.372287  65.863940  69.756678  72.218698  75.782137  76.437813   \n",
       "20   62.079299  71.933639  75.136895  76.060100  78.363940  77.933222   \n",
       "50   65.389816  75.664441  78.727045  77.997913  79.419032  78.694491   \n",
       "80   72.590150  76.605593  78.643573  78.789232  79.005008  78.717863   \n",
       "100  71.251669  76.804674  78.936978  78.876461  78.948247  78.023790   \n",
       "200  71.723289  75.037563  78.945326  79.141486  78.507930  76.437813   \n",
       "300  70.271703  76.404841  78.472871  78.381052  76.777963  74.710768   \n",
       "350  66.117279  77.535476  77.161102  77.738314  76.894825  72.527546   \n",
       "400  70.086394  76.842654  78.332220  77.928214  76.235810  73.696160   \n",
       "\n",
       "           200        300        320        350        400  \n",
       "10   76.962437  76.985810  76.320534  76.738731  76.505426  \n",
       "20   78.408180  77.870618  76.481219  77.333472  77.084725  \n",
       "50   78.503339  77.222037  76.639816  76.511269  75.187813  \n",
       "80   77.631052  76.590150  75.983723  75.625626  74.436978  \n",
       "100  76.873539  76.524624  74.591820  74.946578  74.570952  \n",
       "200  75.053005  73.651920  73.748748  72.785893  72.484140  \n",
       "300  74.075125  72.976210        NaN        NaN        NaN  \n",
       "350  73.026294  71.957846        NaN        NaN        NaN  \n",
       "400  72.708681        NaN        NaN        NaN        NaN  "
      ]
     },
     "execution_count": 97,
     "metadata": {},
     "output_type": "execute_result"
    }
   ],
   "source": [
    "res_df"
   ]
  },
  {
   "cell_type": "markdown",
   "id": "a8a87557-af51-4380-8be9-ca89ffb23822",
   "metadata": {},
   "source": [
    "### Neural network"
   ]
  },
  {
   "cell_type": "code",
   "execution_count": 67,
   "id": "9c97f270-5e57-4cea-b2f1-3204451b0f0f",
   "metadata": {},
   "outputs": [],
   "source": [
    "def network_fn():\n",
    "    def _inner():\n",
    "        network = torch.nn.Sequential(\n",
    "                        torch.nn.Dropout(1-700/784),\n",
    "                        torch.nn.Linear(784, 100),\n",
    "                        torch.nn.ReLU(),\n",
    "                        torch.nn.Dropout(0.5),\n",
    "                        torch.nn.Linear(100, 10)\n",
    "                    ).to(DEVICE).train()\n",
    "\n",
    "        network = SimpleSklearnInterface(network, epochs=150, batch_size=32)\n",
    "        return network\n",
    "    return _inner"
   ]
  },
  {
   "cell_type": "code",
   "execution_count": 68,
   "id": "fdb86765-3874-4023-8e26-b40ccc6df903",
   "metadata": {
    "tags": []
   },
   "outputs": [
    {
     "data": {
      "image/png": "[encoded data removed]",
      "text/plain": [
       "<Figure size 432x288 with 1 Axes>"
      ]
     },
     "metadata": {
      "needs_background": "light"
     },
     "output_type": "display_data"
    }
   ],
   "source": [
    "data_size = 100\n",
    "\n",
    "nn_results = test_model(network_fn(),\n",
    "                (X, y),\n",
    "                data_size,\n",
    "                None, 10)"
   ]
  },
  {
   "cell_type": "code",
   "execution_count": 72,
   "id": "d4ae98e9-f383-407d-97a0-8ac875b4d00a",
   "metadata": {},
   "outputs": [
    {
     "data": {
      "text/html": [
       "<div>\n",
       "<style scoped>\n",
       "    .dataframe tbody tr th:only-of-type {\n",
       "        vertical-align: middle;\n",
       "    }\n",
       "\n",
       "    .dataframe tbody tr th {\n",
       "        vertical-align: top;\n",
       "    }\n",
       "\n",
       "    .dataframe thead th {\n",
       "        text-align: right;\n",
       "    }\n",
       "</style>\n",
       "<table border=\"1\" class=\"dataframe\">\n",
       "  <thead>\n",
       "    <tr style=\"text-align: right;\">\n",
       "      <th></th>\n",
       "      <th>Class</th>\n",
       "      <th>Metric</th>\n",
       "    </tr>\n",
       "  </thead>\n",
       "  <tbody>\n",
       "    <tr>\n",
       "      <th>0</th>\n",
       "      <td>Total</td>\n",
       "      <td>69.295492</td>\n",
       "    </tr>\n",
       "    <tr>\n",
       "      <th>1</th>\n",
       "      <td>Total</td>\n",
       "      <td>71.482471</td>\n",
       "    </tr>\n",
       "    <tr>\n",
       "      <th>2</th>\n",
       "      <td>Total</td>\n",
       "      <td>69.442404</td>\n",
       "    </tr>\n",
       "    <tr>\n",
       "      <th>3</th>\n",
       "      <td>Total</td>\n",
       "      <td>67.570952</td>\n",
       "    </tr>\n",
       "    <tr>\n",
       "      <th>4</th>\n",
       "      <td>Total</td>\n",
       "      <td>73.928214</td>\n",
       "    </tr>\n",
       "    <tr>\n",
       "      <th>5</th>\n",
       "      <td>Total</td>\n",
       "      <td>69.030050</td>\n",
       "    </tr>\n",
       "    <tr>\n",
       "      <th>6</th>\n",
       "      <td>Total</td>\n",
       "      <td>70.273790</td>\n",
       "    </tr>\n",
       "    <tr>\n",
       "      <th>7</th>\n",
       "      <td>Total</td>\n",
       "      <td>69.377295</td>\n",
       "    </tr>\n",
       "    <tr>\n",
       "      <th>8</th>\n",
       "      <td>Total</td>\n",
       "      <td>68.782972</td>\n",
       "    </tr>\n",
       "    <tr>\n",
       "      <th>9</th>\n",
       "      <td>Total</td>\n",
       "      <td>69.527546</td>\n",
       "    </tr>\n",
       "  </tbody>\n",
       "</table>\n",
       "</div>"
      ],
      "text/plain": [
       "   Class     Metric\n",
       "0  Total  69.295492\n",
       "1  Total  71.482471\n",
       "2  Total  69.442404\n",
       "3  Total  67.570952\n",
       "4  Total  73.928214\n",
       "5  Total  69.030050\n",
       "6  Total  70.273790\n",
       "7  Total  69.377295\n",
       "8  Total  68.782972\n",
       "9  Total  69.527546"
      ]
     },
     "execution_count": 72,
     "metadata": {},
     "output_type": "execute_result"
    }
   ],
   "source": [
    "nn_results[nn_results[\"Class\"]==\"Total\"].reset_index(drop=True)"
   ]
  },
  {
   "cell_type": "markdown",
   "id": "87e21a55-7762-4d47-90ac-e4673281eaf2",
   "metadata": {
    "tags": []
   },
   "source": [
    "### TabNet"
   ]
  },
  {
   "cell_type": "code",
   "execution_count": 39,
   "id": "ce0eada6-0ed4-48d6-9d79-9b790e220bd6",
   "metadata": {},
   "outputs": [],
   "source": [
    "from pytorch_tabnet.tab_model import TabNetClassifier, TabNetRegressor"
   ]
  },
  {
   "cell_type": "code",
   "execution_count": 44,
   "id": "87d2fdc4-dd62-4546-93c2-eb2ab63b03f5",
   "metadata": {
    "collapsed": true,
    "jupyter": {
     "outputs_hidden": true
    },
    "tags": []
   },
   "outputs": [
    {
     "name": "stdout",
     "output_type": "stream",
     "text": [
      "epoch 0  | loss: 4.49442 |  0:00:00s\n",
      "epoch 1  | loss: 4.10065 |  0:00:00s\n",
      "epoch 2  | loss: 3.69994 |  0:00:00s\n",
      "epoch 3  | loss: 3.47651 |  0:00:00s\n",
      "epoch 4  | loss: 3.53598 |  0:00:00s\n",
      "epoch 5  | loss: 3.38709 |  0:00:01s\n",
      "epoch 6  | loss: 3.26813 |  0:00:01s\n",
      "epoch 7  | loss: 3.2686  |  0:00:01s\n",
      "epoch 8  | loss: 3.1316  |  0:00:01s\n",
      "epoch 9  | loss: 3.13288 |  0:00:01s\n",
      "epoch 10 | loss: 2.90717 |  0:00:01s\n",
      "epoch 11 | loss: 2.95466 |  0:00:01s\n",
      "epoch 12 | loss: 2.85828 |  0:00:02s\n",
      "epoch 13 | loss: 2.76352 |  0:00:02s\n",
      "epoch 14 | loss: 2.74836 |  0:00:02s\n",
      "epoch 15 | loss: 2.78355 |  0:00:02s\n",
      "epoch 16 | loss: 2.78048 |  0:00:02s\n",
      "epoch 17 | loss: 2.60539 |  0:00:02s\n",
      "epoch 18 | loss: 2.60996 |  0:00:03s\n",
      "epoch 19 | loss: 2.57146 |  0:00:03s\n",
      "epoch 20 | loss: 2.58619 |  0:00:03s\n",
      "epoch 21 | loss: 2.50692 |  0:00:03s\n",
      "epoch 22 | loss: 2.51857 |  0:00:03s\n",
      "epoch 23 | loss: 2.4401  |  0:00:03s\n",
      "epoch 24 | loss: 2.3768  |  0:00:03s\n",
      "epoch 25 | loss: 2.36941 |  0:00:04s\n",
      "epoch 26 | loss: 2.29808 |  0:00:04s\n",
      "epoch 27 | loss: 2.26678 |  0:00:04s\n",
      "epoch 28 | loss: 2.2721  |  0:00:04s\n",
      "epoch 29 | loss: 2.17755 |  0:00:04s\n",
      "epoch 30 | loss: 2.20728 |  0:00:04s\n",
      "epoch 31 | loss: 2.17393 |  0:00:04s\n",
      "epoch 32 | loss: 2.07571 |  0:00:04s\n",
      "epoch 33 | loss: 2.18402 |  0:00:04s\n",
      "epoch 34 | loss: 2.07062 |  0:00:04s\n",
      "epoch 35 | loss: 2.05766 |  0:00:04s\n",
      "epoch 36 | loss: 1.99591 |  0:00:04s\n",
      "epoch 37 | loss: 1.95382 |  0:00:05s\n",
      "epoch 38 | loss: 1.9921  |  0:00:05s\n",
      "epoch 39 | loss: 1.94727 |  0:00:05s\n",
      "epoch 40 | loss: 1.95334 |  0:00:05s\n",
      "epoch 41 | loss: 1.93126 |  0:00:05s\n",
      "epoch 42 | loss: 1.88594 |  0:00:05s\n",
      "epoch 43 | loss: 1.87786 |  0:00:05s\n",
      "epoch 44 | loss: 1.82377 |  0:00:05s\n",
      "epoch 45 | loss: 1.88377 |  0:00:05s\n",
      "epoch 46 | loss: 1.81917 |  0:00:05s\n",
      "epoch 47 | loss: 1.82935 |  0:00:05s\n",
      "epoch 48 | loss: 1.81481 |  0:00:06s\n",
      "epoch 49 | loss: 1.75484 |  0:00:06s\n",
      "epoch 50 | loss: 1.7189  |  0:00:06s\n",
      "epoch 51 | loss: 1.71539 |  0:00:06s\n",
      "epoch 52 | loss: 1.75858 |  0:00:06s\n",
      "epoch 53 | loss: 1.7569  |  0:00:06s\n",
      "epoch 54 | loss: 1.68159 |  0:00:06s\n",
      "epoch 55 | loss: 1.68643 |  0:00:06s\n",
      "epoch 56 | loss: 1.70806 |  0:00:06s\n",
      "epoch 57 | loss: 1.69622 |  0:00:06s\n",
      "epoch 58 | loss: 1.72244 |  0:00:07s\n",
      "epoch 59 | loss: 1.68014 |  0:00:07s\n",
      "epoch 60 | loss: 1.68685 |  0:00:07s\n",
      "epoch 61 | loss: 1.61746 |  0:00:07s\n",
      "epoch 62 | loss: 1.64144 |  0:00:07s\n",
      "epoch 63 | loss: 1.60662 |  0:00:07s\n",
      "epoch 64 | loss: 1.59022 |  0:00:07s\n",
      "epoch 65 | loss: 1.58305 |  0:00:07s\n",
      "epoch 66 | loss: 1.50914 |  0:00:07s\n",
      "epoch 67 | loss: 1.48385 |  0:00:08s\n",
      "epoch 68 | loss: 1.52237 |  0:00:08s\n",
      "epoch 69 | loss: 1.53135 |  0:00:08s\n",
      "epoch 70 | loss: 1.52836 |  0:00:08s\n",
      "epoch 71 | loss: 1.50274 |  0:00:08s\n",
      "epoch 72 | loss: 1.47876 |  0:00:08s\n",
      "epoch 73 | loss: 1.51661 |  0:00:08s\n",
      "epoch 74 | loss: 1.43731 |  0:00:08s\n",
      "epoch 75 | loss: 1.4388  |  0:00:08s\n",
      "epoch 76 | loss: 1.47771 |  0:00:08s\n",
      "epoch 77 | loss: 1.45116 |  0:00:08s\n",
      "epoch 78 | loss: 1.44527 |  0:00:08s\n",
      "epoch 79 | loss: 1.42627 |  0:00:08s\n",
      "epoch 80 | loss: 1.37651 |  0:00:08s\n",
      "epoch 81 | loss: 1.35797 |  0:00:09s\n",
      "epoch 82 | loss: 1.35327 |  0:00:09s\n",
      "epoch 83 | loss: 1.39696 |  0:00:09s\n",
      "epoch 84 | loss: 1.35141 |  0:00:09s\n",
      "epoch 85 | loss: 1.28599 |  0:00:09s\n",
      "epoch 86 | loss: 1.23841 |  0:00:09s\n",
      "epoch 87 | loss: 1.27094 |  0:00:09s\n",
      "epoch 88 | loss: 1.23213 |  0:00:09s\n",
      "epoch 89 | loss: 1.20223 |  0:00:09s\n",
      "epoch 90 | loss: 1.2771  |  0:00:09s\n",
      "epoch 91 | loss: 1.26001 |  0:00:09s\n",
      "epoch 92 | loss: 1.20041 |  0:00:09s\n",
      "epoch 93 | loss: 1.22948 |  0:00:09s\n",
      "epoch 94 | loss: 1.23629 |  0:00:09s\n",
      "epoch 95 | loss: 1.21853 |  0:00:09s\n",
      "epoch 96 | loss: 1.22646 |  0:00:10s\n",
      "epoch 97 | loss: 1.16283 |  0:00:10s\n",
      "epoch 98 | loss: 1.17208 |  0:00:10s\n",
      "epoch 99 | loss: 1.14966 |  0:00:10s\n"
     ]
    }
   ],
   "source": [
    "def tabnet_fn():\n",
    "    clf = TabNetClassifier(verbose=1,n_d=64, n_a=64, n_steps=5,\n",
    "        gamma=1.5, n_independent=2, n_shared=2,\n",
    "        cat_emb_dim=1,\n",
    "        lambda_sparse=1e-4, momentum=0.3, clip_value=2.,\n",
    "        optimizer_fn=torch.optim.Adam,\n",
    "        optimizer_params=dict(lr=1e-2))\n",
    "    return clf\n",
    "\n",
    "tabnet_results = test_model(tabnet_fn,\n",
    "                    (X, y),\n",
    "                    1024, None, 1, as_numpy=True)"
   ]
  },
  {
   "cell_type": "code",
   "execution_count": 34,
   "id": "0686793c-6d21-445c-96c5-721772968b86",
   "metadata": {},
   "outputs": [
    {
     "data": {
      "text/html": [
       "<div>\n",
       "<style scoped>\n",
       "    .dataframe tbody tr th:only-of-type {\n",
       "        vertical-align: middle;\n",
       "    }\n",
       "\n",
       "    .dataframe tbody tr th {\n",
       "        vertical-align: top;\n",
       "    }\n",
       "\n",
       "    .dataframe thead th {\n",
       "        text-align: right;\n",
       "    }\n",
       "</style>\n",
       "<table border=\"1\" class=\"dataframe\">\n",
       "  <thead>\n",
       "    <tr style=\"text-align: right;\">\n",
       "      <th></th>\n",
       "      <th>Class</th>\n",
       "      <th>Metric</th>\n",
       "    </tr>\n",
       "  </thead>\n",
       "  <tbody>\n",
       "    <tr>\n",
       "      <th>0</th>\n",
       "      <td>Total</td>\n",
       "      <td>61.61659</td>\n",
       "    </tr>\n",
       "  </tbody>\n",
       "</table>\n",
       "</div>"
      ],
      "text/plain": [
       "   Class    Metric\n",
       "0  Total  61.61659"
      ]
     },
     "execution_count": 34,
     "metadata": {},
     "output_type": "execute_result"
    }
   ],
   "source": [
    "tabnet_results[tabnet_results[\"Class\"]==\"Total\"].reset_index(drop=True)"
   ]
  },
  {
   "cell_type": "markdown",
   "id": "84d4d42d-88e3-4bce-adf6-769a9aab2d9d",
   "metadata": {},
   "source": [
    "### NODE"
   ]
  },
  {
   "cell_type": "code",
   "execution_count": 14,
   "id": "f1fd787c-3d24-49af-bc9e-2d9f7b8ca9b7",
   "metadata": {},
   "outputs": [],
   "source": [
    "from qhoptim.pyt import QHAdam\n",
    "import node"
   ]
  },
  {
   "cell_type": "code",
   "execution_count": 15,
   "id": "23d3cb2f-0ced-4253-a446-0aca8cd9d168",
   "metadata": {},
   "outputs": [],
   "source": [
    "X_init = X.reshape(-1, 784)"
   ]
  },
  {
   "cell_type": "code",
   "execution_count": 37,
   "id": "967ef875-1456-44eb-a9fe-d18d0d343ddb",
   "metadata": {},
   "outputs": [],
   "source": [
    "def node_fn(layer_dims):\n",
    "    def _inner():\n",
    "        network = torch.nn.Sequential(\n",
    "            node.DenseBlock(X_init.shape[1], layer_dims, num_layers=2, tree_dim=11, depth=6, flatten_output=False,\n",
    "                           choice_function=node.entmax15, bin_function=node.entmoid15),\n",
    "            node.Lambda(lambda x: x[..., :10].mean(dim=-2))\n",
    "        )\n",
    "        \n",
    "        with torch.no_grad():\n",
    "            res = network(torch.as_tensor(X_init[:1000], device='cpu').to(torch.float32))\n",
    "        \n",
    "        network = network.to(DEVICE)\n",
    "        network.device=DEVICE\n",
    "            \n",
    "        optimizer_params = { 'nus':(0.7, 1.0), 'betas':(0.95, 0.998) }\n",
    "        optim = QHAdam(network.parameters(), **optimizer_params)\n",
    "            \n",
    "        network = SimpleSklearnInterface(network, device=DEVICE, epochs=500, batch_size=32)\n",
    "        network.optimizer = optim\n",
    "        return network\n",
    "    return _inner"
   ]
  },
  {
   "cell_type": "code",
   "execution_count": null,
   "id": "8799bc45-3499-4b0c-91a2-368897e6d80f",
   "metadata": {
    "tags": []
   },
   "outputs": [
    {
     "name": "stderr",
     "output_type": "stream",
     "text": [
      "COMET INFO: ---------------------------\n",
      "COMET INFO: Comet.ml Experiment Summary\n",
      "COMET INFO: ---------------------------\n",
      "COMET INFO:   Data:\n",
      "COMET INFO:     display_summary_level : 1\n",
      "COMET INFO:     url                   : https://www.comet.com/wwydmanski/mnist-benchmark-hypernet/6d8d95615641402b98577a488e29c52c\n",
      "COMET INFO:   Metrics [count] (min, max):\n",
      "COMET INFO:     loss [200] : (0.3375752866268158, 2.302137851715088)\n",
      "COMET INFO:   Uploads:\n",
      "COMET INFO:     conda-environment-definition : 1\n",
      "COMET INFO:     conda-info                   : 1\n",
      "COMET INFO:     conda-specification          : 1\n",
      "COMET INFO:     environment details          : 1\n",
      "COMET INFO:     filename                     : 1\n",
      "COMET INFO:     git metadata                 : 1\n",
      "COMET INFO:     git-patch (uncompressed)     : 1 (42.67 KB)\n",
      "COMET INFO:     installed packages           : 1\n",
      "COMET INFO:     model graph                  : 1\n",
      "COMET INFO:     notebook                     : 1\n",
      "COMET INFO:     os packages                  : 1\n",
      "COMET INFO:     source_code                  : 1\n",
      "COMET INFO: ---------------------------\n",
      "COMET WARNING: As you are running in a Jupyter environment, you will need to call `experiment.end()` when finished to ensure all metrics and code are logged before exiting.\n",
      "COMET INFO: Experiment is live on comet.ml https://www.comet.com/wwydmanski/mnist-benchmark-hypernet/fcd1382af2f1415c81309e0d989457ab\n",
      "\n",
      "/home/MCB/wwydmanski/external/hypernet-cnn/Benchmarks/node/odst.py:72: UserWarning: __floordiv__ is deprecated, and its behavior will change in a future version of pytorch. It currently rounds toward 0 (like the 'trunc' function NOT 'floor'). This results in incorrect rounding for negative values. To keep the current behavior, use torch.div(a, b, rounding_mode='trunc'), or for actual floor division, use torch.div(a, b, rounding_mode='floor').\n",
      "  bin_codes = (indices.view(1, -1) // offsets.view(-1, 1) % 2).to(torch.float32)\n",
      "/home/MCB/wwydmanski/external/hypernet-cnn/Benchmarks/node/odst.py:72: UserWarning: __floordiv__ is deprecated, and its behavior will change in a future version of pytorch. It currently rounds toward 0 (like the 'trunc' function NOT 'floor'). This results in incorrect rounding for negative values. To keep the current behavior, use torch.div(a, b, rounding_mode='trunc'), or for actual floor division, use torch.div(a, b, rounding_mode='floor').\n",
      "  bin_codes = (indices.view(1, -1) // offsets.view(-1, 1) % 2).to(torch.float32)\n",
      "/home/MCB/wwydmanski/external/hypernet-cnn/Benchmarks/node/odst.py:72: UserWarning: __floordiv__ is deprecated, and its behavior will change in a future version of pytorch. It currently rounds toward 0 (like the 'trunc' function NOT 'floor'). This results in incorrect rounding for negative values. To keep the current behavior, use torch.div(a, b, rounding_mode='trunc'), or for actual floor division, use torch.div(a, b, rounding_mode='floor').\n",
      "  bin_codes = (indices.view(1, -1) // offsets.view(-1, 1) % 2).to(torch.float32)\n"
     ]
    }
   ],
   "source": [
    "exp = Experiment(os.environ.get(\"COMET_KEY\"), \"mnist-benchmark-hypernet\")\n",
    "exp.add_tag(\"node\")\n",
    "\n",
    "node_results = test_model(node_fn(512),\n",
    "                            (X, y),\n",
    "                            100,\n",
    "                            None, 10\n",
    "                         )\n",
    "plt.title(layers)\n",
    "plt.show()"
   ]
  },
  {
   "cell_type": "code",
   "execution_count": 50,
   "id": "994c1260-b938-40a6-8903-54015bad9eff",
   "metadata": {},
   "outputs": [
    {
     "data": {
      "text/html": [
       "<div>\n",
       "<style scoped>\n",
       "    .dataframe tbody tr th:only-of-type {\n",
       "        vertical-align: middle;\n",
       "    }\n",
       "\n",
       "    .dataframe tbody tr th {\n",
       "        vertical-align: top;\n",
       "    }\n",
       "\n",
       "    .dataframe thead th {\n",
       "        text-align: right;\n",
       "    }\n",
       "</style>\n",
       "<table border=\"1\" class=\"dataframe\">\n",
       "  <thead>\n",
       "    <tr style=\"text-align: right;\">\n",
       "      <th></th>\n",
       "      <th>Class</th>\n",
       "      <th>Metric</th>\n",
       "    </tr>\n",
       "  </thead>\n",
       "  <tbody>\n",
       "    <tr>\n",
       "      <th>0</th>\n",
       "      <td>Total</td>\n",
       "      <td>75.242070</td>\n",
       "    </tr>\n",
       "    <tr>\n",
       "      <th>1</th>\n",
       "      <td>Total</td>\n",
       "      <td>74.041736</td>\n",
       "    </tr>\n",
       "    <tr>\n",
       "      <th>2</th>\n",
       "      <td>Total</td>\n",
       "      <td>75.803005</td>\n",
       "    </tr>\n",
       "    <tr>\n",
       "      <th>3</th>\n",
       "      <td>Total</td>\n",
       "      <td>75.988314</td>\n",
       "    </tr>\n",
       "    <tr>\n",
       "      <th>4</th>\n",
       "      <td>Total</td>\n",
       "      <td>74.517529</td>\n",
       "    </tr>\n",
       "    <tr>\n",
       "      <th>5</th>\n",
       "      <td>Total</td>\n",
       "      <td>75.666110</td>\n",
       "    </tr>\n",
       "    <tr>\n",
       "      <th>6</th>\n",
       "      <td>Total</td>\n",
       "      <td>76.679466</td>\n",
       "    </tr>\n",
       "    <tr>\n",
       "      <th>7</th>\n",
       "      <td>Total</td>\n",
       "      <td>74.490818</td>\n",
       "    </tr>\n",
       "    <tr>\n",
       "      <th>8</th>\n",
       "      <td>Total</td>\n",
       "      <td>75.302170</td>\n",
       "    </tr>\n",
       "    <tr>\n",
       "      <th>9</th>\n",
       "      <td>Total</td>\n",
       "      <td>76.133556</td>\n",
       "    </tr>\n",
       "  </tbody>\n",
       "</table>\n",
       "</div>"
      ],
      "text/plain": [
       "   Class     Metric\n",
       "0  Total  75.242070\n",
       "1  Total  74.041736\n",
       "2  Total  75.803005\n",
       "3  Total  75.988314\n",
       "4  Total  74.517529\n",
       "5  Total  75.666110\n",
       "6  Total  76.679466\n",
       "7  Total  74.490818\n",
       "8  Total  75.302170\n",
       "9  Total  76.133556"
      ]
     },
     "execution_count": 50,
     "metadata": {},
     "output_type": "execute_result"
    }
   ],
   "source": [
    "node_results[node_results[\"Class\"]==\"Total\"].reset_index(drop=True)"
   ]
  }
 ],
 "metadata": {
  "kernelspec": {
   "display_name": "img_processing",
   "language": "python",
   "name": "img_processing"
  },
  "language_info": {
   "codemirror_mode": {
    "name": "ipython",
    "version": 3
   },
   "file_extension": ".py",
   "mimetype": "text/x-python",
   "name": "python",
   "nbconvert_exporter": "python",
   "pygments_lexer": "ipython3",
   "version": "3.8.13"
  }
 },
 "nbformat": 4,
 "nbformat_minor": 5
}
