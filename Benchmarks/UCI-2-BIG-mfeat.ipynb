{
 "cells": [
  {
   "cell_type": "code",
   "execution_count": 1,
   "id": "01de83ab",
   "metadata": {},
   "outputs": [],
   "source": [
    "import torch"
   ]
  },
  {
   "cell_type": "code",
   "execution_count": 2,
   "id": "dc12a648-b80a-4eca-afc3-79331e4db7fc",
   "metadata": {},
   "outputs": [],
   "source": [
    "from comet_ml import Experiment, Optimizer"
   ]
  },
  {
   "cell_type": "code",
   "execution_count": 3,
   "id": "2fdadf44-450a-4006-ac5a-bed9840409f6",
   "metadata": {},
   "outputs": [],
   "source": [
    "import pandas as pd\n",
    "import numpy as np\n",
    "from sklearn.preprocessing import LabelEncoder, StandardScaler\n",
    "from sklearn.model_selection import train_test_split\n",
    "from collections import defaultdict\n",
    "from tqdm import trange\n",
    "import torch\n",
    "import seaborn as sns\n",
    "import os\n",
    "import matplotlib.pyplot as plt\n",
    "from io import BytesIO\n",
    "import base64\n",
    "import sklearn\n",
    "import time\n",
    "import datetime\n",
    "\n",
    "plt.style.use(\"seaborn\")\n",
    "torch.set_default_dtype(torch.float32)"
   ]
  },
  {
   "cell_type": "code",
   "execution_count": 4,
   "id": "cbdec3d8",
   "metadata": {},
   "outputs": [],
   "source": [
    "import datetime\n"
   ]
  },
  {
   "cell_type": "code",
   "execution_count": 5,
   "id": "c7585d3a-dff3-43e2-bc0f-f024306021a7",
   "metadata": {},
   "outputs": [],
   "source": [
    "import node"
   ]
  },
  {
   "cell_type": "code",
   "execution_count": 6,
   "id": "6a37b70c-292b-4c14-85ed-3c93020dc182",
   "metadata": {},
   "outputs": [],
   "source": [
    "from sklearn.metrics import roc_auc_score, f1_score, precision_score, recall_score, balanced_accuracy_score"
   ]
  },
  {
   "cell_type": "code",
   "execution_count": 7,
   "id": "3085114d-cf61-4625-97c5-10f34c00d335",
   "metadata": {},
   "outputs": [],
   "source": [
    "from tabular_hypernet import HypernetworkPCA, TrainingModes, Hypernetwork\n",
    "from tabular_hypernet.modules import SimpleNetwork\n",
    "from tabular_hypernet.training_utils import train_slow_step, train_model, train_carthesian\n",
    "from tabular_hypernet.interfaces import HypernetworkSklearnInterface, SimpleSklearnInterface\n",
    "# from ipynb.fs.defs.MNIST_benchmark import test_model\n",
    "from sklearn.model_selection import GridSearchCV, RandomizedSearchCV"
   ]
  },
  {
   "cell_type": "code",
   "execution_count": 8,
   "id": "d62c6026",
   "metadata": {},
   "outputs": [],
   "source": [
    "from sklearn.metrics import classification_report, balanced_accuracy_score"
   ]
  },
  {
   "cell_type": "code",
   "execution_count": 9,
   "id": "6c014884",
   "metadata": {},
   "outputs": [],
   "source": [
    "import imblearn"
   ]
  },
  {
   "cell_type": "code",
   "execution_count": 10,
   "id": "f84a62eb-e16d-4519-ad76-2237037833c0",
   "metadata": {},
   "outputs": [],
   "source": [
    "import pyhopper"
   ]
  },
  {
   "cell_type": "code",
   "execution_count": 11,
   "id": "d12953cc-1ec5-46a9-933a-714e5ceafd1d",
   "metadata": {},
   "outputs": [
    {
     "data": {
      "text/plain": [
       "1"
      ]
     },
     "execution_count": 11,
     "metadata": {},
     "output_type": "execute_result"
    }
   ],
   "source": [
    "from loguru import logger\n",
    "\n",
    "logger.add(\"log_Lymf.txt\", format='{time:YYYY-MM-DD HH:mm:ss.SSS} | {message}')"
   ]
  },
  {
   "cell_type": "code",
   "execution_count": 12,
   "id": "aa3c18d1-1d56-4393-9441-245420fb3c29",
   "metadata": {},
   "outputs": [],
   "source": [
    "import seaborn as sns"
   ]
  },
  {
   "cell_type": "code",
   "execution_count": 13,
   "id": "04d1ae25-987c-4043-9771-829c928723de",
   "metadata": {},
   "outputs": [],
   "source": [
    "DEVICE=\"cuda:0\""
   ]
  },
  {
   "cell_type": "code",
   "execution_count": 14,
   "id": "4a1a1e98-a8b4-4df2-aae6-b593fe61667a",
   "metadata": {},
   "outputs": [
    {
     "data": {
      "text/plain": [
       "2"
      ]
     },
     "execution_count": 14,
     "metadata": {},
     "output_type": "execute_result"
    }
   ],
   "source": [
    "from loguru import logger\n",
    "\n",
    "logger.add(\"log.txt\", format='{time:YYYY-MM-DD HH:mm:ss.SSS} | {message}')"
   ]
  },
  {
   "cell_type": "code",
   "execution_count": 15,
   "id": "81b884da",
   "metadata": {},
   "outputs": [],
   "source": [
    "GS_METRIC = \"balanced_accuracy\""
   ]
  },
  {
   "cell_type": "code",
   "execution_count": 16,
   "id": "2401b41b",
   "metadata": {},
   "outputs": [],
   "source": [
    "import openml\n",
    "from openml.datasets import get_dataset"
   ]
  },
  {
   "cell_type": "code",
   "execution_count": null,
   "id": "ae015a7f",
   "metadata": {},
   "outputs": [],
   "source": []
  },
  {
   "cell_type": "markdown",
   "id": "82db70f7",
   "metadata": {},
   "source": [
    "# Load data"
   ]
  },
  {
   "cell_type": "code",
   "execution_count": 17,
   "id": "7add86f5",
   "metadata": {},
   "outputs": [],
   "source": [
    "DATA = \"mfeat\""
   ]
  },
  {
   "cell_type": "code",
   "execution_count": 18,
   "id": "ba2d025f",
   "metadata": {
    "scrolled": false
   },
   "outputs": [
    {
     "name": "stdout",
     "output_type": "stream",
     "text": [
      "(2000, 649) 10\n"
     ]
    }
   ],
   "source": [
    "if DATA == \"mfeat\":\n",
    "    fac = pd.read_csv(\"https://archive.ics.uci.edu/ml/machine-learning-databases/mfeat/mfeat-fac\", header=None, delim_whitespace=True)\n",
    "    fou = pd.read_csv(\"https://archive.ics.uci.edu/ml/machine-learning-databases/mfeat/mfeat-fou\", header=None, delim_whitespace=True)\n",
    "    kar = pd.read_csv(\"https://archive.ics.uci.edu/ml/machine-learning-databases/mfeat/mfeat-kar\", header=None, delim_whitespace=True)\n",
    "    mor = pd.read_csv(\"https://archive.ics.uci.edu/ml/machine-learning-databases/mfeat/mfeat-mor\", header=None, delim_whitespace=True)\n",
    "    pix = pd.read_csv(\"https://archive.ics.uci.edu/ml/machine-learning-databases/mfeat/mfeat-pix\", header=None, delim_whitespace=True)\n",
    "    zer = pd.read_csv(\"https://archive.ics.uci.edu/ml/machine-learning-databases/mfeat/mfeat-zer\", header=None, delim_whitespace=True)\n",
    "    \n",
    "    mfeat = pd.concat((fac, fou, kar, mor, pix, zer), axis=1)\n",
    "    \n",
    "    X = mfeat.values.astype(float)\n",
    "    y = np.array([int(np.floor(i/200)) for i in range(2000)])\n",
    "    y = LabelEncoder().fit_transform(y).astype(int)\n",
    "\n",
    "print(X.shape, len(np.unique(y)))"
   ]
  },
  {
   "cell_type": "code",
   "execution_count": 19,
   "id": "c587b420",
   "metadata": {},
   "outputs": [
    {
     "data": {
      "text/html": [
       "<div>\n",
       "<style scoped>\n",
       "    .dataframe tbody tr th:only-of-type {\n",
       "        vertical-align: middle;\n",
       "    }\n",
       "\n",
       "    .dataframe tbody tr th {\n",
       "        vertical-align: top;\n",
       "    }\n",
       "\n",
       "    .dataframe thead th {\n",
       "        text-align: right;\n",
       "    }\n",
       "</style>\n",
       "<table border=\"1\" class=\"dataframe\">\n",
       "  <thead>\n",
       "    <tr style=\"text-align: right;\">\n",
       "      <th></th>\n",
       "      <th>0</th>\n",
       "      <th>1</th>\n",
       "      <th>2</th>\n",
       "      <th>3</th>\n",
       "      <th>4</th>\n",
       "      <th>5</th>\n",
       "      <th>6</th>\n",
       "      <th>7</th>\n",
       "      <th>8</th>\n",
       "      <th>9</th>\n",
       "      <th>...</th>\n",
       "      <th>37</th>\n",
       "      <th>38</th>\n",
       "      <th>39</th>\n",
       "      <th>40</th>\n",
       "      <th>41</th>\n",
       "      <th>42</th>\n",
       "      <th>43</th>\n",
       "      <th>44</th>\n",
       "      <th>45</th>\n",
       "      <th>46</th>\n",
       "    </tr>\n",
       "  </thead>\n",
       "  <tbody>\n",
       "    <tr>\n",
       "      <th>0</th>\n",
       "      <td>98</td>\n",
       "      <td>236</td>\n",
       "      <td>531</td>\n",
       "      <td>673</td>\n",
       "      <td>607</td>\n",
       "      <td>647</td>\n",
       "      <td>2</td>\n",
       "      <td>9</td>\n",
       "      <td>3</td>\n",
       "      <td>6</td>\n",
       "      <td>...</td>\n",
       "      <td>1.713529</td>\n",
       "      <td>33.810340</td>\n",
       "      <td>9.858915</td>\n",
       "      <td>1.399891</td>\n",
       "      <td>148.138058</td>\n",
       "      <td>326.239452</td>\n",
       "      <td>9.711070</td>\n",
       "      <td>20.007248</td>\n",
       "      <td>47.032578</td>\n",
       "      <td>539.208457</td>\n",
       "    </tr>\n",
       "    <tr>\n",
       "      <th>1</th>\n",
       "      <td>121</td>\n",
       "      <td>193</td>\n",
       "      <td>607</td>\n",
       "      <td>611</td>\n",
       "      <td>585</td>\n",
       "      <td>665</td>\n",
       "      <td>7</td>\n",
       "      <td>9</td>\n",
       "      <td>2</td>\n",
       "      <td>4</td>\n",
       "      <td>...</td>\n",
       "      <td>2.590208</td>\n",
       "      <td>35.400531</td>\n",
       "      <td>70.681899</td>\n",
       "      <td>6.674412</td>\n",
       "      <td>155.135985</td>\n",
       "      <td>377.832675</td>\n",
       "      <td>8.140633</td>\n",
       "      <td>44.536711</td>\n",
       "      <td>46.338954</td>\n",
       "      <td>518.496567</td>\n",
       "    </tr>\n",
       "    <tr>\n",
       "      <th>2</th>\n",
       "      <td>115</td>\n",
       "      <td>141</td>\n",
       "      <td>590</td>\n",
       "      <td>605</td>\n",
       "      <td>557</td>\n",
       "      <td>627</td>\n",
       "      <td>12</td>\n",
       "      <td>6</td>\n",
       "      <td>3</td>\n",
       "      <td>3</td>\n",
       "      <td>...</td>\n",
       "      <td>1.476285</td>\n",
       "      <td>19.477230</td>\n",
       "      <td>30.093590</td>\n",
       "      <td>7.858211</td>\n",
       "      <td>150.126419</td>\n",
       "      <td>419.565747</td>\n",
       "      <td>4.530921</td>\n",
       "      <td>26.292170</td>\n",
       "      <td>44.574822</td>\n",
       "      <td>549.912691</td>\n",
       "    </tr>\n",
       "    <tr>\n",
       "      <th>3</th>\n",
       "      <td>90</td>\n",
       "      <td>122</td>\n",
       "      <td>627</td>\n",
       "      <td>692</td>\n",
       "      <td>607</td>\n",
       "      <td>642</td>\n",
       "      <td>0</td>\n",
       "      <td>6</td>\n",
       "      <td>4</td>\n",
       "      <td>5</td>\n",
       "      <td>...</td>\n",
       "      <td>1.349613</td>\n",
       "      <td>14.179518</td>\n",
       "      <td>30.564085</td>\n",
       "      <td>7.097728</td>\n",
       "      <td>173.840759</td>\n",
       "      <td>441.350376</td>\n",
       "      <td>3.706023</td>\n",
       "      <td>13.432311</td>\n",
       "      <td>51.739930</td>\n",
       "      <td>574.887814</td>\n",
       "    </tr>\n",
       "    <tr>\n",
       "      <th>4</th>\n",
       "      <td>157</td>\n",
       "      <td>167</td>\n",
       "      <td>681</td>\n",
       "      <td>666</td>\n",
       "      <td>587</td>\n",
       "      <td>666</td>\n",
       "      <td>8</td>\n",
       "      <td>6</td>\n",
       "      <td>1</td>\n",
       "      <td>4</td>\n",
       "      <td>...</td>\n",
       "      <td>0.667971</td>\n",
       "      <td>8.705403</td>\n",
       "      <td>30.242473</td>\n",
       "      <td>9.015714</td>\n",
       "      <td>167.021185</td>\n",
       "      <td>332.479997</td>\n",
       "      <td>1.806273</td>\n",
       "      <td>23.689300</td>\n",
       "      <td>50.407770</td>\n",
       "      <td>492.227513</td>\n",
       "    </tr>\n",
       "    <tr>\n",
       "      <th>...</th>\n",
       "      <td>...</td>\n",
       "      <td>...</td>\n",
       "      <td>...</td>\n",
       "      <td>...</td>\n",
       "      <td>...</td>\n",
       "      <td>...</td>\n",
       "      <td>...</td>\n",
       "      <td>...</td>\n",
       "      <td>...</td>\n",
       "      <td>...</td>\n",
       "      <td>...</td>\n",
       "      <td>...</td>\n",
       "      <td>...</td>\n",
       "      <td>...</td>\n",
       "      <td>...</td>\n",
       "      <td>...</td>\n",
       "      <td>...</td>\n",
       "      <td>...</td>\n",
       "      <td>...</td>\n",
       "      <td>...</td>\n",
       "      <td>...</td>\n",
       "    </tr>\n",
       "    <tr>\n",
       "      <th>1995</th>\n",
       "      <td>304</td>\n",
       "      <td>242</td>\n",
       "      <td>927</td>\n",
       "      <td>626</td>\n",
       "      <td>564</td>\n",
       "      <td>674</td>\n",
       "      <td>25</td>\n",
       "      <td>17</td>\n",
       "      <td>0</td>\n",
       "      <td>7</td>\n",
       "      <td>...</td>\n",
       "      <td>2.289602</td>\n",
       "      <td>37.077931</td>\n",
       "      <td>229.878330</td>\n",
       "      <td>6.376995</td>\n",
       "      <td>144.500902</td>\n",
       "      <td>393.876660</td>\n",
       "      <td>8.672527</td>\n",
       "      <td>152.791625</td>\n",
       "      <td>43.559482</td>\n",
       "      <td>501.537544</td>\n",
       "    </tr>\n",
       "    <tr>\n",
       "      <th>1996</th>\n",
       "      <td>324</td>\n",
       "      <td>330</td>\n",
       "      <td>919</td>\n",
       "      <td>713</td>\n",
       "      <td>609</td>\n",
       "      <td>693</td>\n",
       "      <td>28</td>\n",
       "      <td>16</td>\n",
       "      <td>8</td>\n",
       "      <td>9</td>\n",
       "      <td>...</td>\n",
       "      <td>2.230959</td>\n",
       "      <td>8.122498</td>\n",
       "      <td>224.796064</td>\n",
       "      <td>7.282318</td>\n",
       "      <td>187.335473</td>\n",
       "      <td>353.453408</td>\n",
       "      <td>1.389084</td>\n",
       "      <td>161.716981</td>\n",
       "      <td>53.922259</td>\n",
       "      <td>482.428339</td>\n",
       "    </tr>\n",
       "    <tr>\n",
       "      <th>1997</th>\n",
       "      <td>337</td>\n",
       "      <td>299</td>\n",
       "      <td>852</td>\n",
       "      <td>724</td>\n",
       "      <td>581</td>\n",
       "      <td>660</td>\n",
       "      <td>22</td>\n",
       "      <td>14</td>\n",
       "      <td>10</td>\n",
       "      <td>10</td>\n",
       "      <td>...</td>\n",
       "      <td>2.592315</td>\n",
       "      <td>23.227692</td>\n",
       "      <td>122.971707</td>\n",
       "      <td>6.250161</td>\n",
       "      <td>124.337857</td>\n",
       "      <td>359.585224</td>\n",
       "      <td>4.643621</td>\n",
       "      <td>101.472040</td>\n",
       "      <td>37.013903</td>\n",
       "      <td>430.544358</td>\n",
       "    </tr>\n",
       "    <tr>\n",
       "      <th>1998</th>\n",
       "      <td>247</td>\n",
       "      <td>261</td>\n",
       "      <td>866</td>\n",
       "      <td>633</td>\n",
       "      <td>565</td>\n",
       "      <td>615</td>\n",
       "      <td>24</td>\n",
       "      <td>15</td>\n",
       "      <td>2</td>\n",
       "      <td>4</td>\n",
       "      <td>...</td>\n",
       "      <td>3.369291</td>\n",
       "      <td>69.833696</td>\n",
       "      <td>175.418772</td>\n",
       "      <td>3.563793</td>\n",
       "      <td>140.067305</td>\n",
       "      <td>486.688709</td>\n",
       "      <td>16.109266</td>\n",
       "      <td>126.684436</td>\n",
       "      <td>41.154583</td>\n",
       "      <td>571.426195</td>\n",
       "    </tr>\n",
       "    <tr>\n",
       "      <th>1999</th>\n",
       "      <td>355</td>\n",
       "      <td>379</td>\n",
       "      <td>867</td>\n",
       "      <td>826</td>\n",
       "      <td>638</td>\n",
       "      <td>738</td>\n",
       "      <td>27</td>\n",
       "      <td>20</td>\n",
       "      <td>16</td>\n",
       "      <td>5</td>\n",
       "      <td>...</td>\n",
       "      <td>2.849961</td>\n",
       "      <td>6.117196</td>\n",
       "      <td>182.716876</td>\n",
       "      <td>5.031251</td>\n",
       "      <td>148.447749</td>\n",
       "      <td>336.818514</td>\n",
       "      <td>3.125481</td>\n",
       "      <td>160.045243</td>\n",
       "      <td>43.653824</td>\n",
       "      <td>408.171415</td>\n",
       "    </tr>\n",
       "  </tbody>\n",
       "</table>\n",
       "<p>2000 rows × 649 columns</p>\n",
       "</div>"
      ],
      "text/plain": [
       "       0    1    2    3    4    5   6   7   8   9   ...        37         38  \\\n",
       "0      98  236  531  673  607  647   2   9   3   6  ...  1.713529  33.810340   \n",
       "1     121  193  607  611  585  665   7   9   2   4  ...  2.590208  35.400531   \n",
       "2     115  141  590  605  557  627  12   6   3   3  ...  1.476285  19.477230   \n",
       "3      90  122  627  692  607  642   0   6   4   5  ...  1.349613  14.179518   \n",
       "4     157  167  681  666  587  666   8   6   1   4  ...  0.667971   8.705403   \n",
       "...   ...  ...  ...  ...  ...  ...  ..  ..  ..  ..  ...       ...        ...   \n",
       "1995  304  242  927  626  564  674  25  17   0   7  ...  2.289602  37.077931   \n",
       "1996  324  330  919  713  609  693  28  16   8   9  ...  2.230959   8.122498   \n",
       "1997  337  299  852  724  581  660  22  14  10  10  ...  2.592315  23.227692   \n",
       "1998  247  261  866  633  565  615  24  15   2   4  ...  3.369291  69.833696   \n",
       "1999  355  379  867  826  638  738  27  20  16   5  ...  2.849961   6.117196   \n",
       "\n",
       "              39        40          41          42         43          44  \\\n",
       "0       9.858915  1.399891  148.138058  326.239452   9.711070   20.007248   \n",
       "1      70.681899  6.674412  155.135985  377.832675   8.140633   44.536711   \n",
       "2      30.093590  7.858211  150.126419  419.565747   4.530921   26.292170   \n",
       "3      30.564085  7.097728  173.840759  441.350376   3.706023   13.432311   \n",
       "4      30.242473  9.015714  167.021185  332.479997   1.806273   23.689300   \n",
       "...          ...       ...         ...         ...        ...         ...   \n",
       "1995  229.878330  6.376995  144.500902  393.876660   8.672527  152.791625   \n",
       "1996  224.796064  7.282318  187.335473  353.453408   1.389084  161.716981   \n",
       "1997  122.971707  6.250161  124.337857  359.585224   4.643621  101.472040   \n",
       "1998  175.418772  3.563793  140.067305  486.688709  16.109266  126.684436   \n",
       "1999  182.716876  5.031251  148.447749  336.818514   3.125481  160.045243   \n",
       "\n",
       "             45          46  \n",
       "0     47.032578  539.208457  \n",
       "1     46.338954  518.496567  \n",
       "2     44.574822  549.912691  \n",
       "3     51.739930  574.887814  \n",
       "4     50.407770  492.227513  \n",
       "...         ...         ...  \n",
       "1995  43.559482  501.537544  \n",
       "1996  53.922259  482.428339  \n",
       "1997  37.013903  430.544358  \n",
       "1998  41.154583  571.426195  \n",
       "1999  43.653824  408.171415  \n",
       "\n",
       "[2000 rows x 649 columns]"
      ]
     },
     "execution_count": 19,
     "metadata": {},
     "output_type": "execute_result"
    }
   ],
   "source": [
    "mfeat"
   ]
  },
  {
   "cell_type": "code",
   "execution_count": 20,
   "id": "3e85869a",
   "metadata": {},
   "outputs": [
    {
     "data": {
      "text/plain": [
       "10"
      ]
     },
     "execution_count": 20,
     "metadata": {},
     "output_type": "execute_result"
    }
   ],
   "source": [
    "n_classes = len(np.unique(y if not isinstance(y, tuple) else y_train))\n",
    "n_classes"
   ]
  },
  {
   "cell_type": "code",
   "execution_count": 21,
   "id": "6305ff4d",
   "metadata": {},
   "outputs": [
    {
     "name": "stdout",
     "output_type": "stream",
     "text": [
      "{0: 200, 1: 200, 2: 200, 3: 200, 4: 200, 5: 200, 6: 200, 7: 200, 8: 200, 9: 200}\n"
     ]
    }
   ],
   "source": [
    "unique, counts = np.unique(y if not isinstance(y, tuple) else y_train, return_counts=True)\n",
    "\n",
    "print(dict(zip(unique, counts)))"
   ]
  },
  {
   "cell_type": "code",
   "execution_count": 22,
   "id": "fe2c8e0d",
   "metadata": {},
   "outputs": [
    {
     "data": {
      "text/plain": [
       "649"
      ]
     },
     "execution_count": 22,
     "metadata": {},
     "output_type": "execute_result"
    }
   ],
   "source": [
    "n_features = X.shape[1] if not isinstance(X, tuple) else X_train.shape[1]\n",
    "n_features"
   ]
  },
  {
   "cell_type": "code",
   "execution_count": 23,
   "id": "d4777a7f",
   "metadata": {},
   "outputs": [],
   "source": [
    "max_size = int(len(X)*0.7) if not isinstance(X, tuple) else len(X_train)"
   ]
  },
  {
   "cell_type": "code",
   "execution_count": 24,
   "id": "2e7a0ce3",
   "metadata": {},
   "outputs": [
    {
     "data": {
      "text/plain": [
       "1400"
      ]
     },
     "execution_count": 24,
     "metadata": {},
     "output_type": "execute_result"
    }
   ],
   "source": [
    "max_size"
   ]
  },
  {
   "cell_type": "code",
   "execution_count": 25,
   "id": "08475201",
   "metadata": {},
   "outputs": [
    {
     "data": {
      "text/plain": [
       "1400"
      ]
     },
     "execution_count": 25,
     "metadata": {},
     "output_type": "execute_result"
    }
   ],
   "source": [
    "GS_DATA_SIZE = max_size\n",
    "GS_DATA_SIZE"
   ]
  },
  {
   "cell_type": "code",
   "execution_count": 26,
   "id": "38876ff8",
   "metadata": {},
   "outputs": [],
   "source": [
    "# print('dataset size:', len(X), '|', 'max training size:', max_size)"
   ]
  },
  {
   "cell_type": "code",
   "execution_count": 27,
   "id": "30a5727b",
   "metadata": {},
   "outputs": [],
   "source": [
    "TEST_RUN = False"
   ]
  },
  {
   "cell_type": "code",
   "execution_count": null,
   "id": "507c32bf",
   "metadata": {},
   "outputs": [],
   "source": []
  },
  {
   "cell_type": "code",
   "execution_count": null,
   "id": "fa56e0fd",
   "metadata": {},
   "outputs": [],
   "source": []
  },
  {
   "cell_type": "code",
   "execution_count": null,
   "id": "69b77cb9",
   "metadata": {},
   "outputs": [],
   "source": []
  },
  {
   "cell_type": "markdown",
   "id": "5c287f46",
   "metadata": {},
   "source": [
    "# Preprocess"
   ]
  },
  {
   "cell_type": "code",
   "execution_count": 28,
   "id": "bdc5ffdd-e04d-425f-8d6c-bd8456644faf",
   "metadata": {},
   "outputs": [],
   "source": [
    "np.random.seed(42)\n",
    "\n",
    "def prepare_data(X, y, size=None):\n",
    "    if isinstance(X, tuple) and isinstance(y, tuple):\n",
    "        X_train, X_test = X\n",
    "        y_train, y_test = y\n",
    "    else:    \n",
    "        X_train, X_test, y_train, y_test = train_test_split(X, y, train_size=size, stratify=y)\n",
    "    # X_train, y_train = imblearn.over_sampling.RandomOverSampler(random_state=42).fit_resample(X_train, y_train)\n",
    "    \n",
    "    scaler = StandardScaler()\n",
    "    X_train = scaler.fit_transform(X_train)\n",
    "    X_test = scaler.transform(X_test)\n",
    "    \n",
    "    X_train, X_test, y_train, y_test = [torch.from_numpy(x) for x in [X_train, X_test, y_train, y_test]]\n",
    "    \n",
    "    return X_train, X_test, y_train, y_test"
   ]
  },
  {
   "cell_type": "code",
   "execution_count": 29,
   "id": "ca0a827a-0e1f-4f5c-b15d-3354f075021e",
   "metadata": {},
   "outputs": [],
   "source": [
    "X_train, X_test, y_train, y_test = prepare_data(X, y, size=max_size)"
   ]
  },
  {
   "cell_type": "code",
   "execution_count": null,
   "id": "281d7f1c",
   "metadata": {},
   "outputs": [],
   "source": []
  },
  {
   "cell_type": "markdown",
   "id": "d223075b-b7d8-414e-97c9-ade8bda5f0fd",
   "metadata": {},
   "source": [
    "## Benchmark"
   ]
  },
  {
   "cell_type": "code",
   "execution_count": 30,
   "id": "b9f92f86-4c40-492c-8d48-f23efa85eb16",
   "metadata": {},
   "outputs": [],
   "source": [
    "criterion = torch.nn.CrossEntropyLoss()"
   ]
  },
  {
   "cell_type": "code",
   "execution_count": 31,
   "id": "5aa90ca0-8a00-4491-b111-ce7eee0e9c33",
   "metadata": {},
   "outputs": [],
   "source": [
    "def _summarize_results(y_pred, y_score, y_test, labels):\n",
    "    results = []\n",
    "    for idx, label in enumerate(labels):\n",
    "        y_pred_filt = y_pred[y_test==idx]\n",
    "        y_test_filt = y_test[y_test==idx]\n",
    "        acc = (y_pred_filt==y_test_filt.numpy()).sum()/len(y_test_filt)*100\n",
    "        results.append({\n",
    "            \"Class\": label,\n",
    "            \"Metric\": acc\n",
    "        })\n",
    "        \n",
    "    acc = (y_pred==y_test.numpy()).sum()/len(y_test)*100    \n",
    "    results.append({\n",
    "        \"Class\": \"Total\",\n",
    "        \"Metric\": acc\n",
    "    })\n",
    "    \n",
    "    \n",
    "    results.append({\n",
    "        \"Class\": \"balanced_accuracy\",\n",
    "        \"Metric\": balanced_accuracy_score(y_test, torch.from_numpy(y_pred)).item()*100\n",
    "    })\n",
    "    \n",
    "    try:\n",
    "        results.append({\n",
    "            \"Class\": \"F1 score\",\n",
    "            \"Metric\": f1_score(y_test, torch.from_numpy(y_pred)).item()*100\n",
    "        })\n",
    "        results.append({\n",
    "            \"Class\": \"roc_auc\",\n",
    "            \"Metric\": roc_auc_score(y_test, torch.from_numpy(y_score[:, 1])).item()*100\n",
    "        })\n",
    "        results.append({\n",
    "            \"Class\": \"Precision\",\n",
    "            \"Metric\": precision_score(y_test, torch.from_numpy(y_pred)).item()*100\n",
    "        })\n",
    "        results.append({\n",
    "            \"Class\": \"Recall\",\n",
    "            \"Metric\": recall_score(y_test, torch.from_numpy(y_pred)).item()*100\n",
    "        })\n",
    "    except ValueError:\n",
    "        pass\n",
    "    return results\n",
    "\n",
    "def test_model(model_fn, data, train_size, label_encoder=None, iters=10, as_numpy=False):\n",
    "    if TEST_RUN:\n",
    "        iters = 1\n",
    "        \n",
    "    if label_encoder is not None:\n",
    "        labels = label_encoder.classes_\n",
    "    else:\n",
    "        labels = sorted(pd.unique(data[1][0] if isinstance(data[1], tuple) else data[1]))\n",
    "    \n",
    "    results = []\n",
    "\n",
    "    for i in range(iters):\n",
    "        print('iter', i+1, 'of', iters)\n",
    "        X_train, X_test, y_train, y_test = prepare_data(*data, train_size)\n",
    "        \n",
    "        model = model_fn()\n",
    "\n",
    "        if as_numpy:\n",
    "            model.fit(X_train.numpy(), y_train.numpy());\n",
    "        else:\n",
    "            model.fit(X_train, y_train)\n",
    "        \n",
    "        y_pred = model.predict(X_test)\n",
    "        y_score = model.predict_proba(X_test)\n",
    "        results.extend(_summarize_results(y_pred, y_score, y_test, labels))\n",
    "        \n",
    "        del model\n",
    "        torch.cuda.empty_cache()\n",
    "\n",
    "    dframe = pd.DataFrame.from_dict(results)\n",
    "#     sns.violinplot(data=dframe[dframe[\"Class\"]!=\"Loss\"], y=\"Class\", x=\"Metric\", orient='h')\n",
    "    return dframe"
   ]
  },
  {
   "cell_type": "markdown",
   "id": "23f351cf",
   "metadata": {},
   "source": [
    "### Param search"
   ]
  },
  {
   "cell_type": "code",
   "execution_count": null,
   "id": "d1a95790",
   "metadata": {},
   "outputs": [],
   "source": []
  },
  {
   "cell_type": "code",
   "execution_count": 32,
   "id": "ecee618e",
   "metadata": {},
   "outputs": [],
   "source": [
    "def pyhopper_best_params(model_fn, param_grid, data_size=GS_DATA_SIZE, metric=GS_METRIC, time=\"30m\", default_params={}, n_jobs=1):\n",
    "    if TEST_RUN:\n",
    "        time = 30\n",
    "        if 'epochs' in param_grid:\n",
    "            param_grid[\"epochs\"] = pyhopper.choice([10])\n",
    "        \n",
    "    logger.info(f\"pyhopper_best_params {model_fn.__name__}\")\n",
    "    \n",
    "    def objective(params):\n",
    "        torch.cuda.empty_cache()\n",
    "\n",
    "        model_results = test_model(\n",
    "                        model_fn(\n",
    "                            **default_params,\n",
    "                            **params\n",
    "                        ),\n",
    "                        (X, y),\n",
    "                        data_size,\n",
    "                        None, 5)\n",
    "        with open(f\"{DATA}_{model_fn.__name__}_params.txt\", \"a\") as f:\n",
    "            f.write(str(datetime.datetime.now()) + \", \" + str(params) + \", \" + str(model_results[model_results[\"Class\"]==metric][\"Metric\"].mean()) + \"\\n\")\n",
    "        return model_results[model_results[\"Class\"]==metric][\"Metric\"].mean()\n",
    "\n",
    "    from pyhopper.callbacks import History\n",
    "    search = pyhopper.Search(param_grid)\n",
    "\n",
    "    best_params = search.run(objective, \"maximize\", time, n_jobs=n_jobs, seeding_ratio=0.5)\n",
    "    \n",
    "    with open(f\"{DATA}_{model_fn.__name__}_best_params.txt\", \"a\") as f:\n",
    "            f.write(str(best_params))\n",
    "    \n",
    "    print(f\"{DATA}_{model_fn.__name__}_{best_params}\")\n",
    "    return best_params, search.history\n"
   ]
  },
  {
   "cell_type": "code",
   "execution_count": null,
   "id": "57f3796d",
   "metadata": {},
   "outputs": [],
   "source": [
    "\n",
    "\n"
   ]
  },
  {
   "cell_type": "code",
   "execution_count": null,
   "id": "228c7d71",
   "metadata": {},
   "outputs": [],
   "source": []
  },
  {
   "cell_type": "markdown",
   "id": "d34c8a73",
   "metadata": {},
   "source": [
    "xgboost_best = \n"
   ]
  },
  {
   "cell_type": "markdown",
   "id": "42444eeb",
   "metadata": {},
   "source": [
    "node_best = "
   ]
  },
  {
   "cell_type": "markdown",
   "id": "716f95ec",
   "metadata": {},
   "source": [
    "nn_fn1_best_params = "
   ]
  },
  {
   "cell_type": "markdown",
   "id": "ce69b587",
   "metadata": {},
   "source": [
    "nn_fn2_best_params = "
   ]
  },
  {
   "cell_type": "markdown",
   "id": "fd941273",
   "metadata": {},
   "source": [
    "nn_fn3_best_params = "
   ]
  },
  {
   "cell_type": "markdown",
   "id": "4e973980",
   "metadata": {},
   "source": [
    "hp_pca_best_params = \n"
   ]
  },
  {
   "cell_type": "markdown",
   "id": "d272aec6",
   "metadata": {},
   "source": [
    "hp_best_params = \n"
   ]
  },
  {
   "cell_type": "markdown",
   "id": "8b379c6c",
   "metadata": {},
   "source": [
    "rf_best = "
   ]
  },
  {
   "cell_type": "code",
   "execution_count": null,
   "id": "5db460f7",
   "metadata": {},
   "outputs": [],
   "source": []
  },
  {
   "cell_type": "markdown",
   "id": "20f51db3",
   "metadata": {},
   "source": [
    "# TRAIN MODELS"
   ]
  },
  {
   "cell_type": "markdown",
   "id": "bf59445b-c0f0-4ee7-bfe9-5c8a57c22b86",
   "metadata": {},
   "source": [
    "### XGBoost"
   ]
  },
  {
   "cell_type": "code",
   "execution_count": 33,
   "id": "aacc321b-420a-47f3-88af-6bb02aa0ddbb",
   "metadata": {},
   "outputs": [],
   "source": [
    "from xgboost import XGBClassifier"
   ]
  },
  {
   "cell_type": "code",
   "execution_count": 34,
   "id": "50c27ad3",
   "metadata": {},
   "outputs": [
    {
     "data": {
      "text/plain": [
       "'1.6.0'"
      ]
     },
     "execution_count": 34,
     "metadata": {},
     "output_type": "execute_result"
    }
   ],
   "source": [
    "import xgboost\n",
    "xgboost.__version__"
   ]
  },
  {
   "cell_type": "code",
   "execution_count": 35,
   "id": "63e24c17",
   "metadata": {},
   "outputs": [],
   "source": [
    "def get_xgboost(**params):\n",
    "    random_seed = np.random.randint(1024)\n",
    "    def _inner(**args):\n",
    "        return XGBClassifier(\n",
    "            verbosity=0,\n",
    "            random_state=random_seed,\n",
    "            use_label_encoder=False,\n",
    "            **params,\n",
    "            **args\n",
    "        )\n",
    "    return _inner    "
   ]
  },
  {
   "cell_type": "markdown",
   "id": "8213082c",
   "metadata": {},
   "source": [
    "#### Hyperparam tuning"
   ]
  },
  {
   "cell_type": "code",
   "execution_count": 36,
   "id": "da7af406",
   "metadata": {},
   "outputs": [
    {
     "name": "stderr",
     "output_type": "stream",
     "text": [
      "2022-12-21 15:48:15.388 | INFO     | __main__:pyhopper_best_params:7 - pyhopper_best_params get_xgboost\n"
     ]
    },
    {
     "data": {
      "application/vnd.jupyter.widget-view+json": {
       "model_id": "91796995014045b68a9aca7cf2ce84af",
       "version_major": 2,
       "version_minor": 0
      },
      "text/plain": [
       "  0%|          | [00:00<?]"
      ]
     },
     "metadata": {},
     "output_type": "display_data"
    },
    {
     "name": "stdout",
     "output_type": "stream",
     "text": [
      "Search is scheduled for 01:30:00 (h:m:s)\n",
      "iter 1 of 5\n",
      "iter 2 of 5\n",
      "iter 3 of 5\n",
      "iter 4 of 5\n",
      "iter 5 of 5\n",
      "iter 1 of 5\n",
      "iter 2 of 5\n",
      "iter 3 of 5\n",
      "iter 4 of 5\n",
      "iter 5 of 5\n",
      "iter 1 of 5\n",
      "iter 2 of 5\n",
      "iter 3 of 5\n",
      "iter 4 of 5\n",
      "iter 5 of 5\n",
      "iter 1 of 5\n",
      "iter 2 of 5\n",
      "iter 3 of 5\n",
      "iter 4 of 5\n",
      "iter 5 of 5\n",
      "iter 1 of 5\n",
      "iter 2 of 5\n",
      "iter 3 of 5\n",
      "iter 4 of 5\n",
      "iter 5 of 5\n",
      "iter 1 of 5\n",
      "iter 2 of 5\n",
      "iter 3 of 5\n",
      "iter 4 of 5\n",
      "iter 5 of 5\n",
      "iter 1 of 5\n",
      "iter 2 of 5\n",
      "iter 3 of 5\n",
      "iter 4 of 5\n",
      "iter 5 of 5\n",
      "iter 1 of 5\n",
      "iter 2 of 5\n",
      "iter 3 of 5\n",
      "iter 4 of 5\n",
      "iter 5 of 5\n",
      "iter 1 of 5\n",
      "iter 2 of 5\n",
      "iter 3 of 5\n",
      "iter 4 of 5\n",
      "iter 5 of 5\n",
      "iter 1 of 5\n",
      "iter 2 of 5\n",
      "iter 3 of 5\n",
      "iter 4 of 5\n",
      "iter 5 of 5\n",
      "iter 1 of 5\n",
      "iter 2 of 5\n",
      "iter 3 of 5\n",
      "iter 4 of 5\n",
      "iter 5 of 5\n",
      "iter 1 of 5\n",
      "iter 2 of 5\n",
      "iter 3 of 5\n",
      "iter 4 of 5\n",
      "iter 5 of 5\n",
      "iter 1 of 5\n",
      "iter 2 of 5\n",
      "iter 3 of 5\n",
      "iter 4 of 5\n",
      "iter 5 of 5\n",
      "iter 1 of 5\n",
      "iter 2 of 5\n",
      "iter 3 of 5\n",
      "iter 4 of 5\n",
      "iter 5 of 5\n",
      "iter 1 of 5\n",
      "iter 2 of 5\n",
      "iter 3 of 5\n",
      "iter 4 of 5\n",
      "iter 5 of 5\n",
      "iter 1 of 5\n",
      "iter 2 of 5\n",
      "iter 3 of 5\n",
      "iter 4 of 5\n",
      "iter 5 of 5\n",
      "iter 1 of 5\n",
      "iter 2 of 5\n",
      "iter 3 of 5\n",
      "iter 4 of 5\n",
      "iter 5 of 5\n",
      "iter 1 of 5\n",
      "iter 2 of 5\n",
      "iter 3 of 5\n",
      "iter 4 of 5\n",
      "iter 5 of 5\n",
      "iter 1 of 5\n",
      "iter 2 of 5\n",
      "iter 3 of 5\n",
      "iter 4 of 5\n",
      "iter 5 of 5\n",
      "iter 1 of 5\n",
      "iter 2 of 5\n",
      "iter 3 of 5\n",
      "iter 4 of 5\n",
      "iter 5 of 5\n",
      "iter 1 of 5\n",
      "iter 2 of 5\n",
      "iter 3 of 5\n",
      "iter 4 of 5\n",
      "iter 5 of 5\n",
      "iter 1 of 5\n",
      "iter 2 of 5\n",
      "iter 3 of 5\n",
      "iter 4 of 5\n",
      "iter 5 of 5\n",
      "iter 1 of 5\n",
      "iter 2 of 5\n",
      "iter 3 of 5\n",
      "iter 4 of 5\n",
      "iter 5 of 5\n",
      "iter 1 of 5\n",
      "iter 2 of 5\n",
      "iter 3 of 5\n",
      "iter 4 of 5\n",
      "iter 5 of 5\n",
      "iter 1 of 5\n",
      "iter 2 of 5\n",
      "iter 3 of 5\n",
      "iter 4 of 5\n",
      "iter 5 of 5\n",
      "iter 1 of 5\n",
      "iter 2 of 5\n",
      "iter 3 of 5\n",
      "iter 4 of 5\n",
      "iter 5 of 5\n",
      "iter 1 of 5\n",
      "iter 2 of 5\n",
      "iter 3 of 5\n",
      "iter 4 of 5\n",
      "iter 5 of 5\n",
      "iter 1 of 5\n",
      "iter 2 of 5\n",
      "iter 3 of 5\n",
      "iter 4 of 5\n",
      "iter 5 of 5\n",
      "iter 1 of 5\n",
      "iter 2 of 5\n",
      "iter 3 of 5\n",
      "iter 4 of 5\n",
      "iter 5 of 5\n",
      "iter 1 of 5\n",
      "iter 2 of 5\n",
      "iter 3 of 5\n",
      "iter 4 of 5\n",
      "iter 5 of 5\n",
      "iter 1 of 5\n",
      "iter 2 of 5\n",
      "iter 3 of 5\n",
      "iter 4 of 5\n",
      "iter 5 of 5\n",
      "iter 1 of 5\n",
      "iter 2 of 5\n",
      "iter 3 of 5\n",
      "iter 4 of 5\n",
      "iter 5 of 5\n",
      "iter 1 of 5\n",
      "iter 2 of 5\n",
      "iter 3 of 5\n",
      "iter 4 of 5\n",
      "iter 5 of 5\n",
      "iter 1 of 5\n",
      "iter 2 of 5\n",
      "iter 3 of 5\n",
      "iter 4 of 5\n",
      "iter 5 of 5\n",
      "iter 1 of 5\n",
      "iter 2 of 5\n",
      "iter 3 of 5\n",
      "iter 4 of 5\n",
      "iter 5 of 5\n",
      "iter 1 of 5\n",
      "iter 2 of 5\n",
      "iter 3 of 5\n",
      "iter 4 of 5\n",
      "iter 5 of 5\n",
      "iter 1 of 5\n",
      "iter 2 of 5\n",
      "iter 3 of 5\n",
      "iter 4 of 5\n",
      "iter 5 of 5\n",
      "====================== Summary ======================\n",
      "Mode              : Best f : Steps : Time            \n",
      "----------------  : ----   : ----  : ----            \n",
      "Initial solution  : 91.77  : 1     : 9.93 s          \n",
      "Random seeding    : 97.97  : 10    : 45:04 (m:s)     \n",
      "Local sampling    : 98.43  : 26    : 42:55 (m:s)     \n",
      "Duplicates        : -      : 3     : -               \n",
      "----------------  : ----   : ----  : ----            \n",
      "Total             : 98.43  : 40    : 01:28:10 (h:m:s)\n",
      "=====================================================\n",
      "mfeat_get_xgboost_{'n_estimators': 1000, 'max_depth': 5, 'learning_rate': 0.0299311094711767, 'min_child_weight': 8, 'gamma': 0}\n"
     ]
    }
   ],
   "source": [
    "param_grid = {\n",
    "                'n_estimators': pyhopper.choice([50, 100, 250, 500, 1000, 3000]),\n",
    "                'max_depth': pyhopper.choice([2, 3, 5, 10, 15]),\n",
    "                'learning_rate': pyhopper.float(1e-5,1e-1, log=True),\n",
    "                'min_child_weight': pyhopper.choice([1, 2, 4, 8, 16, 32]),\n",
    "                'gamma': pyhopper.choice([0, 0.001, 0.1, 1]),\n",
    "             }\n",
    "\n",
    "xgbt_best1, xgbt_history1 = pyhopper_best_params(get_xgboost, param_grid, time=\"90m\")"
   ]
  },
  {
   "cell_type": "code",
   "execution_count": null,
   "id": "51d8fb3a",
   "metadata": {},
   "outputs": [],
   "source": []
  },
  {
   "cell_type": "code",
   "execution_count": 37,
   "id": "858bc970",
   "metadata": {},
   "outputs": [
    {
     "name": "stderr",
     "output_type": "stream",
     "text": [
      "2022-12-21 17:16:25.156 | INFO     | __main__:pyhopper_best_params:7 - pyhopper_best_params get_xgboost\n"
     ]
    },
    {
     "data": {
      "application/vnd.jupyter.widget-view+json": {
       "model_id": "36b534fee89c478fa4a2e31dd71f5a33",
       "version_major": 2,
       "version_minor": 0
      },
      "text/plain": [
       "  0%|          | [00:00<?]"
      ]
     },
     "metadata": {},
     "output_type": "display_data"
    },
    {
     "name": "stdout",
     "output_type": "stream",
     "text": [
      "Search is scheduled for 01:30:00 (h:m:s)\n",
      "iter 1 of 5\n",
      "iter 2 of 5\n",
      "iter 3 of 5\n",
      "iter 4 of 5\n",
      "iter 5 of 5\n",
      "iter 1 of 5\n",
      "iter 2 of 5\n",
      "iter 3 of 5\n",
      "iter 4 of 5\n",
      "iter 5 of 5\n",
      "iter 1 of 5\n",
      "iter 2 of 5\n",
      "iter 3 of 5\n",
      "iter 4 of 5\n",
      "iter 5 of 5\n",
      "iter 1 of 5\n",
      "iter 2 of 5\n",
      "iter 3 of 5\n",
      "iter 4 of 5\n",
      "iter 5 of 5\n",
      "iter 1 of 5\n",
      "iter 2 of 5\n",
      "iter 3 of 5\n",
      "iter 4 of 5\n",
      "iter 5 of 5\n",
      "iter 1 of 5\n",
      "iter 2 of 5\n",
      "iter 3 of 5\n",
      "iter 4 of 5\n",
      "iter 5 of 5\n",
      "iter 1 of 5\n",
      "iter 2 of 5\n",
      "iter 3 of 5\n",
      "iter 4 of 5\n",
      "iter 5 of 5\n",
      "iter 1 of 5\n",
      "iter 2 of 5\n",
      "iter 3 of 5\n",
      "iter 4 of 5\n",
      "iter 5 of 5\n",
      "iter 1 of 5\n",
      "iter 2 of 5\n",
      "iter 3 of 5\n",
      "iter 4 of 5\n",
      "iter 5 of 5\n",
      "iter 1 of 5\n",
      "iter 2 of 5\n",
      "iter 3 of 5\n",
      "iter 4 of 5\n",
      "iter 5 of 5\n",
      "iter 1 of 5\n",
      "iter 2 of 5\n",
      "iter 3 of 5\n",
      "iter 4 of 5\n",
      "iter 5 of 5\n",
      "iter 1 of 5\n",
      "iter 2 of 5\n",
      "iter 3 of 5\n",
      "iter 4 of 5\n",
      "iter 5 of 5\n",
      "iter 1 of 5\n",
      "iter 2 of 5\n",
      "iter 3 of 5\n",
      "iter 4 of 5\n",
      "iter 5 of 5\n",
      "iter 1 of 5\n",
      "iter 2 of 5\n",
      "iter 3 of 5\n",
      "iter 4 of 5\n",
      "iter 5 of 5\n",
      "iter 1 of 5\n",
      "iter 2 of 5\n",
      "iter 3 of 5\n",
      "iter 4 of 5\n",
      "iter 5 of 5\n",
      "iter 1 of 5\n",
      "iter 2 of 5\n",
      "iter 3 of 5\n",
      "iter 4 of 5\n",
      "iter 5 of 5\n",
      "iter 1 of 5\n",
      "iter 2 of 5\n",
      "iter 3 of 5\n",
      "iter 4 of 5\n",
      "iter 5 of 5\n",
      "iter 1 of 5\n",
      "iter 2 of 5\n",
      "iter 3 of 5\n",
      "iter 4 of 5\n",
      "iter 5 of 5\n",
      "iter 1 of 5\n",
      "iter 2 of 5\n",
      "iter 3 of 5\n",
      "iter 4 of 5\n",
      "iter 5 of 5\n",
      "iter 1 of 5\n",
      "iter 2 of 5\n",
      "iter 3 of 5\n",
      "iter 4 of 5\n",
      "iter 5 of 5\n",
      "iter 1 of 5\n",
      "iter 2 of 5\n",
      "iter 3 of 5\n",
      "iter 4 of 5\n",
      "iter 5 of 5\n",
      "iter 1 of 5\n",
      "iter 2 of 5\n",
      "iter 3 of 5\n",
      "iter 4 of 5\n",
      "iter 5 of 5\n",
      "iter 1 of 5\n",
      "iter 2 of 5\n",
      "iter 3 of 5\n",
      "iter 4 of 5\n",
      "iter 5 of 5\n",
      "iter 1 of 5\n",
      "iter 2 of 5\n",
      "iter 3 of 5\n",
      "iter 4 of 5\n",
      "iter 5 of 5\n",
      "iter 1 of 5\n",
      "iter 2 of 5\n",
      "iter 3 of 5\n",
      "iter 4 of 5\n",
      "iter 5 of 5\n",
      "iter 1 of 5\n",
      "iter 2 of 5\n",
      "iter 3 of 5\n",
      "iter 4 of 5\n",
      "iter 5 of 5\n",
      "iter 1 of 5\n",
      "iter 2 of 5\n",
      "iter 3 of 5\n",
      "iter 4 of 5\n",
      "iter 5 of 5\n",
      "iter 1 of 5\n",
      "iter 2 of 5\n",
      "iter 3 of 5\n",
      "iter 4 of 5\n",
      "iter 5 of 5\n",
      "iter 1 of 5\n",
      "iter 2 of 5\n",
      "iter 3 of 5\n",
      "iter 4 of 5\n",
      "iter 5 of 5\n",
      "iter 1 of 5\n",
      "iter 2 of 5\n",
      "iter 3 of 5\n",
      "iter 4 of 5\n",
      "iter 5 of 5\n",
      "iter 1 of 5\n",
      "iter 2 of 5\n",
      "iter 3 of 5\n",
      "iter 4 of 5\n",
      "iter 5 of 5\n",
      "iter 1 of 5\n",
      "iter 2 of 5\n",
      "iter 3 of 5\n",
      "iter 4 of 5\n",
      "iter 5 of 5\n",
      "iter 1 of 5\n",
      "iter 2 of 5\n",
      "iter 3 of 5\n",
      "iter 4 of 5\n",
      "iter 5 of 5\n",
      "iter 1 of 5\n",
      "iter 2 of 5\n",
      "iter 3 of 5\n",
      "iter 4 of 5\n",
      "iter 5 of 5\n",
      "iter 1 of 5\n",
      "iter 2 of 5\n",
      "iter 3 of 5\n",
      "iter 4 of 5\n",
      "iter 5 of 5\n",
      "iter 1 of 5\n",
      "iter 2 of 5\n",
      "iter 3 of 5\n",
      "iter 4 of 5\n",
      "iter 5 of 5\n",
      "iter 1 of 5\n",
      "iter 2 of 5\n",
      "iter 3 of 5\n",
      "iter 4 of 5\n",
      "iter 5 of 5\n",
      "iter 1 of 5\n",
      "iter 2 of 5\n",
      "iter 3 of 5\n",
      "iter 4 of 5\n",
      "iter 5 of 5\n",
      "iter 1 of 5\n",
      "iter 2 of 5\n",
      "iter 3 of 5\n",
      "iter 4 of 5\n",
      "iter 5 of 5\n",
      "iter 1 of 5\n",
      "iter 2 of 5\n",
      "iter 3 of 5\n",
      "iter 4 of 5\n",
      "iter 5 of 5\n",
      "iter 1 of 5\n",
      "iter 2 of 5\n",
      "iter 3 of 5\n",
      "iter 4 of 5\n",
      "iter 5 of 5\n",
      "iter 1 of 5\n",
      "iter 2 of 5\n",
      "iter 3 of 5\n",
      "iter 4 of 5\n",
      "iter 5 of 5\n",
      "iter 1 of 5\n",
      "iter 2 of 5\n",
      "iter 3 of 5\n",
      "iter 4 of 5\n",
      "iter 5 of 5\n",
      "iter 1 of 5\n",
      "iter 2 of 5\n",
      "iter 3 of 5\n",
      "iter 4 of 5\n",
      "iter 5 of 5\n",
      "iter 1 of 5\n",
      "iter 2 of 5\n",
      "iter 3 of 5\n",
      "iter 4 of 5\n",
      "iter 5 of 5\n",
      "iter 1 of 5\n",
      "iter 2 of 5\n",
      "iter 3 of 5\n",
      "iter 4 of 5\n",
      "iter 5 of 5\n",
      "iter 1 of 5\n",
      "iter 2 of 5\n",
      "iter 3 of 5\n",
      "iter 4 of 5\n",
      "iter 5 of 5\n",
      "iter 1 of 5\n",
      "iter 2 of 5\n",
      "iter 3 of 5\n",
      "iter 4 of 5\n",
      "iter 5 of 5\n",
      "iter 1 of 5\n",
      "iter 2 of 5\n",
      "iter 3 of 5\n",
      "iter 4 of 5\n",
      "iter 5 of 5\n",
      "iter 1 of 5\n",
      "iter 2 of 5\n",
      "iter 3 of 5\n",
      "iter 4 of 5\n",
      "iter 5 of 5\n",
      "iter 1 of 5\n",
      "iter 2 of 5\n",
      "iter 3 of 5\n",
      "iter 4 of 5\n",
      "iter 5 of 5\n",
      "iter 1 of 5\n",
      "iter 2 of 5\n",
      "iter 3 of 5\n",
      "iter 4 of 5\n",
      "iter 5 of 5\n",
      "iter 1 of 5\n",
      "iter 2 of 5\n",
      "iter 3 of 5\n",
      "iter 4 of 5\n",
      "iter 5 of 5\n",
      "iter 1 of 5\n",
      "iter 2 of 5\n",
      "iter 3 of 5\n",
      "iter 4 of 5\n",
      "iter 5 of 5\n",
      "iter 1 of 5\n",
      "iter 2 of 5\n",
      "iter 3 of 5\n",
      "iter 4 of 5\n",
      "iter 5 of 5\n",
      "iter 1 of 5\n",
      "iter 2 of 5\n",
      "iter 3 of 5\n",
      "iter 4 of 5\n",
      "iter 5 of 5\n",
      "iter 1 of 5\n",
      "iter 2 of 5\n",
      "iter 3 of 5\n",
      "iter 4 of 5\n",
      "iter 5 of 5\n",
      "iter 1 of 5\n",
      "iter 2 of 5\n",
      "iter 3 of 5\n",
      "iter 4 of 5\n",
      "iter 5 of 5\n",
      "====================== Summary ======================\n",
      "Mode              : Best f : Steps : Time            \n",
      "----------------  : ----   : ----  : ----            \n",
      "Initial solution  : 97.77  : 1     : 01:31 (m:s)     \n",
      "Random seeding    : 98.3   : 29    : 44:35 (m:s)     \n",
      "Local sampling    : 98.6   : 28    : 43:47 (m:s)     \n",
      "Duplicates        : -      : 7     : -               \n",
      "----------------  : ----   : ----  : ----            \n",
      "Total             : 98.6   : 65    : 01:29:53 (h:m:s)\n",
      "=====================================================\n",
      "mfeat_get_xgboost_{'subsample': 0.6, 'reg_lambda': 6.855858542655573e-05, 'reg_alpha': 0.0038337781600264863}\n"
     ]
    }
   ],
   "source": [
    "param_grid = {\n",
    "                'subsample': pyhopper.choice([0.5, 0.6, 0.7, 0.8, 0.9, 1]),\n",
    "                'reg_lambda': pyhopper.float(1e-5, 10, init=0, log=True),\n",
    "                'reg_alpha': pyhopper.float(1e-5, 10, init=0, log=True),\n",
    "             }\n",
    "\n",
    "\n",
    "xgbt_best2, xgbt_history2 = pyhopper_best_params(get_xgboost, param_grid, time=\"90m\", default_params=xgbt_best1)"
   ]
  },
  {
   "cell_type": "markdown",
   "id": "95fb0f7b",
   "metadata": {},
   "source": [
    "#### Best Params"
   ]
  },
  {
   "cell_type": "markdown",
   "id": "da2aa500",
   "metadata": {},
   "source": [
    "'Ionosphere' {'gamma': 0, 'learning_rate': 0.1, 'max_depth': 5, 'min_child_weight': 2, 'n_estimators': 1500}\n"
   ]
  },
  {
   "cell_type": "code",
   "execution_count": 38,
   "id": "511d7466",
   "metadata": {},
   "outputs": [],
   "source": [
    "xgboost_best = {**xgbt_best1, **xgbt_best2}"
   ]
  },
  {
   "cell_type": "code",
   "execution_count": 39,
   "id": "d5cedd88-43b4-465c-b1e1-6a0b620ae73a",
   "metadata": {
    "scrolled": true
   },
   "outputs": [
    {
     "name": "stdout",
     "output_type": "stream",
     "text": [
      "iter 1 of 10\n",
      "iter 2 of 10\n",
      "iter 3 of 10\n",
      "iter 4 of 10\n",
      "iter 5 of 10\n",
      "iter 6 of 10\n",
      "iter 7 of 10\n",
      "iter 8 of 10\n",
      "iter 9 of 10\n",
      "iter 10 of 10\n"
     ]
    }
   ],
   "source": [
    "data_size = max_size\n",
    "\n",
    "xgb_dframe = test_model(get_xgboost(**xgboost_best),\n",
    "                        (X, y),\n",
    "                        data_size,\n",
    "                        label_encoder=None, iters=10)"
   ]
  },
  {
   "cell_type": "code",
   "execution_count": 40,
   "id": "f530a0df-271a-495f-b49d-2cffe523c328",
   "metadata": {},
   "outputs": [
    {
     "name": "stdout",
     "output_type": "stream",
     "text": [
      "1400: 98.03 ~ 0.44 (max: 98.67)\n"
     ]
    }
   ],
   "source": [
    "res = xgb_dframe[xgb_dframe[\"Class\"]==\"Total\"].reset_index(drop=True)[\"Metric\"]\n",
    "print(f\"{data_size}: {res.mean():.2f} ~ {res.std():.2f} (max: {res.max():.2f})\")"
   ]
  },
  {
   "cell_type": "code",
   "execution_count": 41,
   "id": "e53148cb",
   "metadata": {
    "scrolled": true
   },
   "outputs": [
    {
     "data": {
      "text/html": [
       "<div>\n",
       "<style scoped>\n",
       "    .dataframe tbody tr th:only-of-type {\n",
       "        vertical-align: middle;\n",
       "    }\n",
       "\n",
       "    .dataframe tbody tr th {\n",
       "        vertical-align: top;\n",
       "    }\n",
       "\n",
       "    .dataframe thead th {\n",
       "        text-align: right;\n",
       "    }\n",
       "</style>\n",
       "<table border=\"1\" class=\"dataframe\">\n",
       "  <thead>\n",
       "    <tr style=\"text-align: right;\">\n",
       "      <th></th>\n",
       "      <th>Metric</th>\n",
       "    </tr>\n",
       "    <tr>\n",
       "      <th>Class</th>\n",
       "      <th></th>\n",
       "    </tr>\n",
       "  </thead>\n",
       "  <tbody>\n",
       "    <tr>\n",
       "      <th>0</th>\n",
       "      <td>99.666667</td>\n",
       "    </tr>\n",
       "    <tr>\n",
       "      <th>1</th>\n",
       "      <td>98.333333</td>\n",
       "    </tr>\n",
       "    <tr>\n",
       "      <th>2</th>\n",
       "      <td>99.000000</td>\n",
       "    </tr>\n",
       "    <tr>\n",
       "      <th>3</th>\n",
       "      <td>96.666667</td>\n",
       "    </tr>\n",
       "    <tr>\n",
       "      <th>4</th>\n",
       "      <td>98.333333</td>\n",
       "    </tr>\n",
       "    <tr>\n",
       "      <th>5</th>\n",
       "      <td>96.833333</td>\n",
       "    </tr>\n",
       "    <tr>\n",
       "      <th>6</th>\n",
       "      <td>98.333333</td>\n",
       "    </tr>\n",
       "    <tr>\n",
       "      <th>7</th>\n",
       "      <td>97.000000</td>\n",
       "    </tr>\n",
       "    <tr>\n",
       "      <th>8</th>\n",
       "      <td>97.833333</td>\n",
       "    </tr>\n",
       "    <tr>\n",
       "      <th>9</th>\n",
       "      <td>98.333333</td>\n",
       "    </tr>\n",
       "    <tr>\n",
       "      <th>Total</th>\n",
       "      <td>98.033333</td>\n",
       "    </tr>\n",
       "    <tr>\n",
       "      <th>balanced_accuracy</th>\n",
       "      <td>98.033333</td>\n",
       "    </tr>\n",
       "  </tbody>\n",
       "</table>\n",
       "</div>"
      ],
      "text/plain": [
       "                      Metric\n",
       "Class                       \n",
       "0                  99.666667\n",
       "1                  98.333333\n",
       "2                  99.000000\n",
       "3                  96.666667\n",
       "4                  98.333333\n",
       "5                  96.833333\n",
       "6                  98.333333\n",
       "7                  97.000000\n",
       "8                  97.833333\n",
       "9                  98.333333\n",
       "Total              98.033333\n",
       "balanced_accuracy  98.033333"
      ]
     },
     "execution_count": 41,
     "metadata": {},
     "output_type": "execute_result"
    }
   ],
   "source": [
    "xgb_dframe.groupby(['Class']).mean()"
   ]
  },
  {
   "cell_type": "markdown",
   "id": "d08dcdab-2c4b-4a05-822b-912037488763",
   "metadata": {},
   "source": [
    "### NODE"
   ]
  },
  {
   "cell_type": "code",
   "execution_count": 42,
   "id": "64d10cad-57b5-488c-9a94-63259bd0c13e",
   "metadata": {},
   "outputs": [],
   "source": [
    "from qhoptim.pyt import QHAdam"
   ]
  },
  {
   "cell_type": "code",
   "execution_count": 43,
   "id": "806be7a7-e4c8-4525-a38f-9ae16a3bd229",
   "metadata": {},
   "outputs": [],
   "source": [
    "def node_fn(layer_dim=128, num_layers=1, depth=3, batch_size=32):\n",
    "    def _inner():\n",
    "        network = torch.nn.Sequential(\n",
    "            node.DenseBlock(X_train.shape[1], \n",
    "                            layer_dim=layer_dim,\n",
    "                            num_layers=num_layers, \n",
    "                            tree_dim=n_classes+1, \n",
    "                            depth=depth, \n",
    "                            flatten_output=False,\n",
    "                            choice_function=node.entmax15, \n",
    "                            bin_function=node.entmoid15\n",
    "                           ),\n",
    "            node.Lambda(lambda x: x.mean(dim=1))\n",
    "        )\n",
    "        \n",
    "        \n",
    "        network = network.to(DEVICE)\n",
    "        network.device=DEVICE\n",
    "        \n",
    "        with torch.no_grad():\n",
    "            res = network(torch.as_tensor(X_train[:1000], device=DEVICE).to(torch.float32))\n",
    "        \n",
    "            \n",
    "        optimizer_params = { 'nus':(0.7, 1.0), 'betas':(0.95, 0.998) }\n",
    "        optim = QHAdam(network.parameters(), **optimizer_params)\n",
    "            \n",
    "        network = SimpleSklearnInterface(network, device=DEVICE, epochs=150, batch_size=batch_size)\n",
    "        network.optimizer = optim\n",
    "        return network\n",
    "    return _inner"
   ]
  },
  {
   "cell_type": "markdown",
   "id": "d404841f",
   "metadata": {},
   "source": [
    "#### Tune hyperparams"
   ]
  },
  {
   "cell_type": "code",
   "execution_count": 44,
   "id": "816a242b",
   "metadata": {},
   "outputs": [
    {
     "name": "stderr",
     "output_type": "stream",
     "text": [
      "2022-12-21 18:49:25.651 | INFO     | __main__:pyhopper_best_params:7 - pyhopper_best_params node_fn\n"
     ]
    },
    {
     "data": {
      "application/vnd.jupyter.widget-view+json": {
       "model_id": "cdd3f119d0fa482fb879120ad0796279",
       "version_major": 2,
       "version_minor": 0
      },
      "text/plain": [
       "  0%|          | [00:00<?]"
      ]
     },
     "metadata": {},
     "output_type": "display_data"
    },
    {
     "name": "stdout",
     "output_type": "stream",
     "text": [
      "Search is scheduled for 03:00:00 (h:m:s)\n",
      "iter 1 of 5\n"
     ]
    },
    {
     "name": "stderr",
     "output_type": "stream",
     "text": [
      "/home/z1157095/hypernet-cnn/deps/node/node/lib/odst.py:72: UserWarning: __floordiv__ is deprecated, and its behavior will change in a future version of pytorch. It currently rounds toward 0 (like the 'trunc' function NOT 'floor'). This results in incorrect rounding for negative values. To keep the current behavior, use torch.div(a, b, rounding_mode='trunc'), or for actual floor division, use torch.div(a, b, rounding_mode='floor').\n",
      "  bin_codes = (indices.view(1, -1) // offsets.view(-1, 1) % 2).to(torch.float32)\n",
      "/home/z1157095/anaconda3/envs/hyper-mnist/lib/python3.9/site-packages/qhoptim/pyt/qhadam.py:133: UserWarning: This overload of add_ is deprecated:\n",
      "\tadd_(Number alpha, Tensor other)\n",
      "Consider using one of the following signatures instead:\n",
      "\tadd_(Tensor other, *, Number alpha) (Triggered internally at  ../torch/csrc/utils/python_arg_parser.cpp:1055.)\n",
      "  exp_avg.mul_(beta1_adj).add_(1.0 - beta1_adj, d_p)\n"
     ]
    },
    {
     "name": "stdout",
     "output_type": "stream",
     "text": [
      "iter 2 of 5\n"
     ]
    },
    {
     "name": "stderr",
     "output_type": "stream",
     "text": [
      "/home/z1157095/hypernet-cnn/deps/node/node/lib/odst.py:72: UserWarning: __floordiv__ is deprecated, and its behavior will change in a future version of pytorch. It currently rounds toward 0 (like the 'trunc' function NOT 'floor'). This results in incorrect rounding for negative values. To keep the current behavior, use torch.div(a, b, rounding_mode='trunc'), or for actual floor division, use torch.div(a, b, rounding_mode='floor').\n",
      "  bin_codes = (indices.view(1, -1) // offsets.view(-1, 1) % 2).to(torch.float32)\n"
     ]
    },
    {
     "name": "stdout",
     "output_type": "stream",
     "text": [
      "iter 3 of 5\n"
     ]
    },
    {
     "name": "stderr",
     "output_type": "stream",
     "text": [
      "/home/z1157095/hypernet-cnn/deps/node/node/lib/odst.py:72: UserWarning: __floordiv__ is deprecated, and its behavior will change in a future version of pytorch. It currently rounds toward 0 (like the 'trunc' function NOT 'floor'). This results in incorrect rounding for negative values. To keep the current behavior, use torch.div(a, b, rounding_mode='trunc'), or for actual floor division, use torch.div(a, b, rounding_mode='floor').\n",
      "  bin_codes = (indices.view(1, -1) // offsets.view(-1, 1) % 2).to(torch.float32)\n"
     ]
    },
    {
     "name": "stdout",
     "output_type": "stream",
     "text": [
      "iter 4 of 5\n"
     ]
    },
    {
     "name": "stderr",
     "output_type": "stream",
     "text": [
      "/home/z1157095/hypernet-cnn/deps/node/node/lib/odst.py:72: UserWarning: __floordiv__ is deprecated, and its behavior will change in a future version of pytorch. It currently rounds toward 0 (like the 'trunc' function NOT 'floor'). This results in incorrect rounding for negative values. To keep the current behavior, use torch.div(a, b, rounding_mode='trunc'), or for actual floor division, use torch.div(a, b, rounding_mode='floor').\n",
      "  bin_codes = (indices.view(1, -1) // offsets.view(-1, 1) % 2).to(torch.float32)\n"
     ]
    },
    {
     "name": "stdout",
     "output_type": "stream",
     "text": [
      "iter 5 of 5\n"
     ]
    },
    {
     "name": "stderr",
     "output_type": "stream",
     "text": [
      "/home/z1157095/hypernet-cnn/deps/node/node/lib/odst.py:72: UserWarning: __floordiv__ is deprecated, and its behavior will change in a future version of pytorch. It currently rounds toward 0 (like the 'trunc' function NOT 'floor'). This results in incorrect rounding for negative values. To keep the current behavior, use torch.div(a, b, rounding_mode='trunc'), or for actual floor division, use torch.div(a, b, rounding_mode='floor').\n",
      "  bin_codes = (indices.view(1, -1) // offsets.view(-1, 1) % 2).to(torch.float32)\n"
     ]
    },
    {
     "name": "stdout",
     "output_type": "stream",
     "text": [
      "iter 1 of 5\n"
     ]
    },
    {
     "name": "stderr",
     "output_type": "stream",
     "text": [
      "/home/z1157095/hypernet-cnn/deps/node/node/lib/odst.py:72: UserWarning: __floordiv__ is deprecated, and its behavior will change in a future version of pytorch. It currently rounds toward 0 (like the 'trunc' function NOT 'floor'). This results in incorrect rounding for negative values. To keep the current behavior, use torch.div(a, b, rounding_mode='trunc'), or for actual floor division, use torch.div(a, b, rounding_mode='floor').\n",
      "  bin_codes = (indices.view(1, -1) // offsets.view(-1, 1) % 2).to(torch.float32)\n"
     ]
    },
    {
     "name": "stdout",
     "output_type": "stream",
     "text": [
      "iter 2 of 5\n"
     ]
    },
    {
     "name": "stderr",
     "output_type": "stream",
     "text": [
      "/home/z1157095/hypernet-cnn/deps/node/node/lib/odst.py:72: UserWarning: __floordiv__ is deprecated, and its behavior will change in a future version of pytorch. It currently rounds toward 0 (like the 'trunc' function NOT 'floor'). This results in incorrect rounding for negative values. To keep the current behavior, use torch.div(a, b, rounding_mode='trunc'), or for actual floor division, use torch.div(a, b, rounding_mode='floor').\n",
      "  bin_codes = (indices.view(1, -1) // offsets.view(-1, 1) % 2).to(torch.float32)\n"
     ]
    },
    {
     "name": "stdout",
     "output_type": "stream",
     "text": [
      "iter 3 of 5\n"
     ]
    },
    {
     "name": "stderr",
     "output_type": "stream",
     "text": [
      "/home/z1157095/hypernet-cnn/deps/node/node/lib/odst.py:72: UserWarning: __floordiv__ is deprecated, and its behavior will change in a future version of pytorch. It currently rounds toward 0 (like the 'trunc' function NOT 'floor'). This results in incorrect rounding for negative values. To keep the current behavior, use torch.div(a, b, rounding_mode='trunc'), or for actual floor division, use torch.div(a, b, rounding_mode='floor').\n",
      "  bin_codes = (indices.view(1, -1) // offsets.view(-1, 1) % 2).to(torch.float32)\n"
     ]
    },
    {
     "name": "stdout",
     "output_type": "stream",
     "text": [
      "iter 4 of 5\n"
     ]
    },
    {
     "name": "stderr",
     "output_type": "stream",
     "text": [
      "/home/z1157095/hypernet-cnn/deps/node/node/lib/odst.py:72: UserWarning: __floordiv__ is deprecated, and its behavior will change in a future version of pytorch. It currently rounds toward 0 (like the 'trunc' function NOT 'floor'). This results in incorrect rounding for negative values. To keep the current behavior, use torch.div(a, b, rounding_mode='trunc'), or for actual floor division, use torch.div(a, b, rounding_mode='floor').\n",
      "  bin_codes = (indices.view(1, -1) // offsets.view(-1, 1) % 2).to(torch.float32)\n"
     ]
    },
    {
     "name": "stdout",
     "output_type": "stream",
     "text": [
      "iter 5 of 5\n"
     ]
    },
    {
     "name": "stderr",
     "output_type": "stream",
     "text": [
      "/home/z1157095/hypernet-cnn/deps/node/node/lib/odst.py:72: UserWarning: __floordiv__ is deprecated, and its behavior will change in a future version of pytorch. It currently rounds toward 0 (like the 'trunc' function NOT 'floor'). This results in incorrect rounding for negative values. To keep the current behavior, use torch.div(a, b, rounding_mode='trunc'), or for actual floor division, use torch.div(a, b, rounding_mode='floor').\n",
      "  bin_codes = (indices.view(1, -1) // offsets.view(-1, 1) % 2).to(torch.float32)\n"
     ]
    },
    {
     "name": "stdout",
     "output_type": "stream",
     "text": [
      "iter 1 of 5\n"
     ]
    },
    {
     "name": "stderr",
     "output_type": "stream",
     "text": [
      "/home/z1157095/hypernet-cnn/deps/node/node/lib/odst.py:72: UserWarning: __floordiv__ is deprecated, and its behavior will change in a future version of pytorch. It currently rounds toward 0 (like the 'trunc' function NOT 'floor'). This results in incorrect rounding for negative values. To keep the current behavior, use torch.div(a, b, rounding_mode='trunc'), or for actual floor division, use torch.div(a, b, rounding_mode='floor').\n",
      "  bin_codes = (indices.view(1, -1) // offsets.view(-1, 1) % 2).to(torch.float32)\n"
     ]
    },
    {
     "name": "stdout",
     "output_type": "stream",
     "text": [
      "iter 2 of 5\n"
     ]
    },
    {
     "name": "stderr",
     "output_type": "stream",
     "text": [
      "/home/z1157095/hypernet-cnn/deps/node/node/lib/odst.py:72: UserWarning: __floordiv__ is deprecated, and its behavior will change in a future version of pytorch. It currently rounds toward 0 (like the 'trunc' function NOT 'floor'). This results in incorrect rounding for negative values. To keep the current behavior, use torch.div(a, b, rounding_mode='trunc'), or for actual floor division, use torch.div(a, b, rounding_mode='floor').\n",
      "  bin_codes = (indices.view(1, -1) // offsets.view(-1, 1) % 2).to(torch.float32)\n"
     ]
    },
    {
     "name": "stdout",
     "output_type": "stream",
     "text": [
      "iter 3 of 5\n"
     ]
    },
    {
     "name": "stderr",
     "output_type": "stream",
     "text": [
      "/home/z1157095/hypernet-cnn/deps/node/node/lib/odst.py:72: UserWarning: __floordiv__ is deprecated, and its behavior will change in a future version of pytorch. It currently rounds toward 0 (like the 'trunc' function NOT 'floor'). This results in incorrect rounding for negative values. To keep the current behavior, use torch.div(a, b, rounding_mode='trunc'), or for actual floor division, use torch.div(a, b, rounding_mode='floor').\n",
      "  bin_codes = (indices.view(1, -1) // offsets.view(-1, 1) % 2).to(torch.float32)\n"
     ]
    },
    {
     "name": "stdout",
     "output_type": "stream",
     "text": [
      "iter 4 of 5\n"
     ]
    },
    {
     "name": "stderr",
     "output_type": "stream",
     "text": [
      "/home/z1157095/hypernet-cnn/deps/node/node/lib/odst.py:72: UserWarning: __floordiv__ is deprecated, and its behavior will change in a future version of pytorch. It currently rounds toward 0 (like the 'trunc' function NOT 'floor'). This results in incorrect rounding for negative values. To keep the current behavior, use torch.div(a, b, rounding_mode='trunc'), or for actual floor division, use torch.div(a, b, rounding_mode='floor').\n",
      "  bin_codes = (indices.view(1, -1) // offsets.view(-1, 1) % 2).to(torch.float32)\n"
     ]
    },
    {
     "name": "stdout",
     "output_type": "stream",
     "text": [
      "iter 5 of 5\n"
     ]
    },
    {
     "name": "stderr",
     "output_type": "stream",
     "text": [
      "/home/z1157095/hypernet-cnn/deps/node/node/lib/odst.py:72: UserWarning: __floordiv__ is deprecated, and its behavior will change in a future version of pytorch. It currently rounds toward 0 (like the 'trunc' function NOT 'floor'). This results in incorrect rounding for negative values. To keep the current behavior, use torch.div(a, b, rounding_mode='trunc'), or for actual floor division, use torch.div(a, b, rounding_mode='floor').\n",
      "  bin_codes = (indices.view(1, -1) // offsets.view(-1, 1) % 2).to(torch.float32)\n"
     ]
    },
    {
     "name": "stdout",
     "output_type": "stream",
     "text": [
      "iter 1 of 5\n"
     ]
    },
    {
     "name": "stderr",
     "output_type": "stream",
     "text": [
      "/home/z1157095/hypernet-cnn/deps/node/node/lib/odst.py:72: UserWarning: __floordiv__ is deprecated, and its behavior will change in a future version of pytorch. It currently rounds toward 0 (like the 'trunc' function NOT 'floor'). This results in incorrect rounding for negative values. To keep the current behavior, use torch.div(a, b, rounding_mode='trunc'), or for actual floor division, use torch.div(a, b, rounding_mode='floor').\n",
      "  bin_codes = (indices.view(1, -1) // offsets.view(-1, 1) % 2).to(torch.float32)\n"
     ]
    },
    {
     "name": "stdout",
     "output_type": "stream",
     "text": [
      "iter 2 of 5\n"
     ]
    },
    {
     "name": "stderr",
     "output_type": "stream",
     "text": [
      "/home/z1157095/hypernet-cnn/deps/node/node/lib/odst.py:72: UserWarning: __floordiv__ is deprecated, and its behavior will change in a future version of pytorch. It currently rounds toward 0 (like the 'trunc' function NOT 'floor'). This results in incorrect rounding for negative values. To keep the current behavior, use torch.div(a, b, rounding_mode='trunc'), or for actual floor division, use torch.div(a, b, rounding_mode='floor').\n",
      "  bin_codes = (indices.view(1, -1) // offsets.view(-1, 1) % 2).to(torch.float32)\n"
     ]
    },
    {
     "name": "stdout",
     "output_type": "stream",
     "text": [
      "iter 3 of 5\n"
     ]
    },
    {
     "name": "stderr",
     "output_type": "stream",
     "text": [
      "/home/z1157095/hypernet-cnn/deps/node/node/lib/odst.py:72: UserWarning: __floordiv__ is deprecated, and its behavior will change in a future version of pytorch. It currently rounds toward 0 (like the 'trunc' function NOT 'floor'). This results in incorrect rounding for negative values. To keep the current behavior, use torch.div(a, b, rounding_mode='trunc'), or for actual floor division, use torch.div(a, b, rounding_mode='floor').\n",
      "  bin_codes = (indices.view(1, -1) // offsets.view(-1, 1) % 2).to(torch.float32)\n"
     ]
    },
    {
     "name": "stdout",
     "output_type": "stream",
     "text": [
      "iter 4 of 5\n"
     ]
    },
    {
     "name": "stderr",
     "output_type": "stream",
     "text": [
      "/home/z1157095/hypernet-cnn/deps/node/node/lib/odst.py:72: UserWarning: __floordiv__ is deprecated, and its behavior will change in a future version of pytorch. It currently rounds toward 0 (like the 'trunc' function NOT 'floor'). This results in incorrect rounding for negative values. To keep the current behavior, use torch.div(a, b, rounding_mode='trunc'), or for actual floor division, use torch.div(a, b, rounding_mode='floor').\n",
      "  bin_codes = (indices.view(1, -1) // offsets.view(-1, 1) % 2).to(torch.float32)\n"
     ]
    },
    {
     "name": "stdout",
     "output_type": "stream",
     "text": [
      "iter 5 of 5\n"
     ]
    },
    {
     "name": "stderr",
     "output_type": "stream",
     "text": [
      "/home/z1157095/hypernet-cnn/deps/node/node/lib/odst.py:72: UserWarning: __floordiv__ is deprecated, and its behavior will change in a future version of pytorch. It currently rounds toward 0 (like the 'trunc' function NOT 'floor'). This results in incorrect rounding for negative values. To keep the current behavior, use torch.div(a, b, rounding_mode='trunc'), or for actual floor division, use torch.div(a, b, rounding_mode='floor').\n",
      "  bin_codes = (indices.view(1, -1) // offsets.view(-1, 1) % 2).to(torch.float32)\n"
     ]
    },
    {
     "name": "stdout",
     "output_type": "stream",
     "text": [
      "iter 1 of 5\n"
     ]
    },
    {
     "name": "stderr",
     "output_type": "stream",
     "text": [
      "/home/z1157095/hypernet-cnn/deps/node/node/lib/odst.py:72: UserWarning: __floordiv__ is deprecated, and its behavior will change in a future version of pytorch. It currently rounds toward 0 (like the 'trunc' function NOT 'floor'). This results in incorrect rounding for negative values. To keep the current behavior, use torch.div(a, b, rounding_mode='trunc'), or for actual floor division, use torch.div(a, b, rounding_mode='floor').\n",
      "  bin_codes = (indices.view(1, -1) // offsets.view(-1, 1) % 2).to(torch.float32)\n"
     ]
    },
    {
     "name": "stdout",
     "output_type": "stream",
     "text": [
      "iter 2 of 5\n"
     ]
    },
    {
     "name": "stderr",
     "output_type": "stream",
     "text": [
      "/home/z1157095/hypernet-cnn/deps/node/node/lib/odst.py:72: UserWarning: __floordiv__ is deprecated, and its behavior will change in a future version of pytorch. It currently rounds toward 0 (like the 'trunc' function NOT 'floor'). This results in incorrect rounding for negative values. To keep the current behavior, use torch.div(a, b, rounding_mode='trunc'), or for actual floor division, use torch.div(a, b, rounding_mode='floor').\n",
      "  bin_codes = (indices.view(1, -1) // offsets.view(-1, 1) % 2).to(torch.float32)\n"
     ]
    },
    {
     "name": "stdout",
     "output_type": "stream",
     "text": [
      "iter 3 of 5\n"
     ]
    },
    {
     "name": "stderr",
     "output_type": "stream",
     "text": [
      "/home/z1157095/hypernet-cnn/deps/node/node/lib/odst.py:72: UserWarning: __floordiv__ is deprecated, and its behavior will change in a future version of pytorch. It currently rounds toward 0 (like the 'trunc' function NOT 'floor'). This results in incorrect rounding for negative values. To keep the current behavior, use torch.div(a, b, rounding_mode='trunc'), or for actual floor division, use torch.div(a, b, rounding_mode='floor').\n",
      "  bin_codes = (indices.view(1, -1) // offsets.view(-1, 1) % 2).to(torch.float32)\n"
     ]
    },
    {
     "name": "stdout",
     "output_type": "stream",
     "text": [
      "iter 4 of 5\n"
     ]
    },
    {
     "name": "stderr",
     "output_type": "stream",
     "text": [
      "/home/z1157095/hypernet-cnn/deps/node/node/lib/odst.py:72: UserWarning: __floordiv__ is deprecated, and its behavior will change in a future version of pytorch. It currently rounds toward 0 (like the 'trunc' function NOT 'floor'). This results in incorrect rounding for negative values. To keep the current behavior, use torch.div(a, b, rounding_mode='trunc'), or for actual floor division, use torch.div(a, b, rounding_mode='floor').\n",
      "  bin_codes = (indices.view(1, -1) // offsets.view(-1, 1) % 2).to(torch.float32)\n"
     ]
    },
    {
     "name": "stdout",
     "output_type": "stream",
     "text": [
      "iter 5 of 5\n"
     ]
    },
    {
     "name": "stderr",
     "output_type": "stream",
     "text": [
      "/home/z1157095/hypernet-cnn/deps/node/node/lib/odst.py:72: UserWarning: __floordiv__ is deprecated, and its behavior will change in a future version of pytorch. It currently rounds toward 0 (like the 'trunc' function NOT 'floor'). This results in incorrect rounding for negative values. To keep the current behavior, use torch.div(a, b, rounding_mode='trunc'), or for actual floor division, use torch.div(a, b, rounding_mode='floor').\n",
      "  bin_codes = (indices.view(1, -1) // offsets.view(-1, 1) % 2).to(torch.float32)\n"
     ]
    },
    {
     "name": "stdout",
     "output_type": "stream",
     "text": [
      "iter 1 of 5\n"
     ]
    },
    {
     "name": "stderr",
     "output_type": "stream",
     "text": [
      "/home/z1157095/hypernet-cnn/deps/node/node/lib/odst.py:72: UserWarning: __floordiv__ is deprecated, and its behavior will change in a future version of pytorch. It currently rounds toward 0 (like the 'trunc' function NOT 'floor'). This results in incorrect rounding for negative values. To keep the current behavior, use torch.div(a, b, rounding_mode='trunc'), or for actual floor division, use torch.div(a, b, rounding_mode='floor').\n",
      "  bin_codes = (indices.view(1, -1) // offsets.view(-1, 1) % 2).to(torch.float32)\n"
     ]
    },
    {
     "name": "stdout",
     "output_type": "stream",
     "text": [
      "iter 2 of 5\n"
     ]
    },
    {
     "name": "stderr",
     "output_type": "stream",
     "text": [
      "/home/z1157095/hypernet-cnn/deps/node/node/lib/odst.py:72: UserWarning: __floordiv__ is deprecated, and its behavior will change in a future version of pytorch. It currently rounds toward 0 (like the 'trunc' function NOT 'floor'). This results in incorrect rounding for negative values. To keep the current behavior, use torch.div(a, b, rounding_mode='trunc'), or for actual floor division, use torch.div(a, b, rounding_mode='floor').\n",
      "  bin_codes = (indices.view(1, -1) // offsets.view(-1, 1) % 2).to(torch.float32)\n"
     ]
    },
    {
     "name": "stdout",
     "output_type": "stream",
     "text": [
      "iter 3 of 5\n"
     ]
    },
    {
     "name": "stderr",
     "output_type": "stream",
     "text": [
      "/home/z1157095/hypernet-cnn/deps/node/node/lib/odst.py:72: UserWarning: __floordiv__ is deprecated, and its behavior will change in a future version of pytorch. It currently rounds toward 0 (like the 'trunc' function NOT 'floor'). This results in incorrect rounding for negative values. To keep the current behavior, use torch.div(a, b, rounding_mode='trunc'), or for actual floor division, use torch.div(a, b, rounding_mode='floor').\n",
      "  bin_codes = (indices.view(1, -1) // offsets.view(-1, 1) % 2).to(torch.float32)\n"
     ]
    },
    {
     "name": "stdout",
     "output_type": "stream",
     "text": [
      "iter 4 of 5\n"
     ]
    },
    {
     "name": "stderr",
     "output_type": "stream",
     "text": [
      "/home/z1157095/hypernet-cnn/deps/node/node/lib/odst.py:72: UserWarning: __floordiv__ is deprecated, and its behavior will change in a future version of pytorch. It currently rounds toward 0 (like the 'trunc' function NOT 'floor'). This results in incorrect rounding for negative values. To keep the current behavior, use torch.div(a, b, rounding_mode='trunc'), or for actual floor division, use torch.div(a, b, rounding_mode='floor').\n",
      "  bin_codes = (indices.view(1, -1) // offsets.view(-1, 1) % 2).to(torch.float32)\n"
     ]
    },
    {
     "name": "stdout",
     "output_type": "stream",
     "text": [
      "iter 5 of 5\n"
     ]
    },
    {
     "name": "stderr",
     "output_type": "stream",
     "text": [
      "/home/z1157095/hypernet-cnn/deps/node/node/lib/odst.py:72: UserWarning: __floordiv__ is deprecated, and its behavior will change in a future version of pytorch. It currently rounds toward 0 (like the 'trunc' function NOT 'floor'). This results in incorrect rounding for negative values. To keep the current behavior, use torch.div(a, b, rounding_mode='trunc'), or for actual floor division, use torch.div(a, b, rounding_mode='floor').\n",
      "  bin_codes = (indices.view(1, -1) // offsets.view(-1, 1) % 2).to(torch.float32)\n"
     ]
    },
    {
     "name": "stdout",
     "output_type": "stream",
     "text": [
      "iter 1 of 5\n"
     ]
    },
    {
     "name": "stderr",
     "output_type": "stream",
     "text": [
      "/home/z1157095/hypernet-cnn/deps/node/node/lib/odst.py:72: UserWarning: __floordiv__ is deprecated, and its behavior will change in a future version of pytorch. It currently rounds toward 0 (like the 'trunc' function NOT 'floor'). This results in incorrect rounding for negative values. To keep the current behavior, use torch.div(a, b, rounding_mode='trunc'), or for actual floor division, use torch.div(a, b, rounding_mode='floor').\n",
      "  bin_codes = (indices.view(1, -1) // offsets.view(-1, 1) % 2).to(torch.float32)\n"
     ]
    },
    {
     "name": "stdout",
     "output_type": "stream",
     "text": [
      "iter 2 of 5\n"
     ]
    },
    {
     "name": "stderr",
     "output_type": "stream",
     "text": [
      "/home/z1157095/hypernet-cnn/deps/node/node/lib/odst.py:72: UserWarning: __floordiv__ is deprecated, and its behavior will change in a future version of pytorch. It currently rounds toward 0 (like the 'trunc' function NOT 'floor'). This results in incorrect rounding for negative values. To keep the current behavior, use torch.div(a, b, rounding_mode='trunc'), or for actual floor division, use torch.div(a, b, rounding_mode='floor').\n",
      "  bin_codes = (indices.view(1, -1) // offsets.view(-1, 1) % 2).to(torch.float32)\n"
     ]
    },
    {
     "name": "stdout",
     "output_type": "stream",
     "text": [
      "iter 3 of 5\n"
     ]
    },
    {
     "name": "stderr",
     "output_type": "stream",
     "text": [
      "/home/z1157095/hypernet-cnn/deps/node/node/lib/odst.py:72: UserWarning: __floordiv__ is deprecated, and its behavior will change in a future version of pytorch. It currently rounds toward 0 (like the 'trunc' function NOT 'floor'). This results in incorrect rounding for negative values. To keep the current behavior, use torch.div(a, b, rounding_mode='trunc'), or for actual floor division, use torch.div(a, b, rounding_mode='floor').\n",
      "  bin_codes = (indices.view(1, -1) // offsets.view(-1, 1) % 2).to(torch.float32)\n"
     ]
    },
    {
     "name": "stdout",
     "output_type": "stream",
     "text": [
      "iter 4 of 5\n"
     ]
    },
    {
     "name": "stderr",
     "output_type": "stream",
     "text": [
      "/home/z1157095/hypernet-cnn/deps/node/node/lib/odst.py:72: UserWarning: __floordiv__ is deprecated, and its behavior will change in a future version of pytorch. It currently rounds toward 0 (like the 'trunc' function NOT 'floor'). This results in incorrect rounding for negative values. To keep the current behavior, use torch.div(a, b, rounding_mode='trunc'), or for actual floor division, use torch.div(a, b, rounding_mode='floor').\n",
      "  bin_codes = (indices.view(1, -1) // offsets.view(-1, 1) % 2).to(torch.float32)\n"
     ]
    },
    {
     "name": "stdout",
     "output_type": "stream",
     "text": [
      "iter 5 of 5\n"
     ]
    },
    {
     "name": "stderr",
     "output_type": "stream",
     "text": [
      "/home/z1157095/hypernet-cnn/deps/node/node/lib/odst.py:72: UserWarning: __floordiv__ is deprecated, and its behavior will change in a future version of pytorch. It currently rounds toward 0 (like the 'trunc' function NOT 'floor'). This results in incorrect rounding for negative values. To keep the current behavior, use torch.div(a, b, rounding_mode='trunc'), or for actual floor division, use torch.div(a, b, rounding_mode='floor').\n",
      "  bin_codes = (indices.view(1, -1) // offsets.view(-1, 1) % 2).to(torch.float32)\n"
     ]
    },
    {
     "name": "stdout",
     "output_type": "stream",
     "text": [
      "iter 1 of 5\n"
     ]
    },
    {
     "name": "stderr",
     "output_type": "stream",
     "text": [
      "/home/z1157095/hypernet-cnn/deps/node/node/lib/odst.py:72: UserWarning: __floordiv__ is deprecated, and its behavior will change in a future version of pytorch. It currently rounds toward 0 (like the 'trunc' function NOT 'floor'). This results in incorrect rounding for negative values. To keep the current behavior, use torch.div(a, b, rounding_mode='trunc'), or for actual floor division, use torch.div(a, b, rounding_mode='floor').\n",
      "  bin_codes = (indices.view(1, -1) // offsets.view(-1, 1) % 2).to(torch.float32)\n"
     ]
    },
    {
     "name": "stdout",
     "output_type": "stream",
     "text": [
      "iter 2 of 5\n"
     ]
    },
    {
     "name": "stderr",
     "output_type": "stream",
     "text": [
      "/home/z1157095/hypernet-cnn/deps/node/node/lib/odst.py:72: UserWarning: __floordiv__ is deprecated, and its behavior will change in a future version of pytorch. It currently rounds toward 0 (like the 'trunc' function NOT 'floor'). This results in incorrect rounding for negative values. To keep the current behavior, use torch.div(a, b, rounding_mode='trunc'), or for actual floor division, use torch.div(a, b, rounding_mode='floor').\n",
      "  bin_codes = (indices.view(1, -1) // offsets.view(-1, 1) % 2).to(torch.float32)\n"
     ]
    },
    {
     "name": "stdout",
     "output_type": "stream",
     "text": [
      "iter 3 of 5\n"
     ]
    },
    {
     "name": "stderr",
     "output_type": "stream",
     "text": [
      "/home/z1157095/hypernet-cnn/deps/node/node/lib/odst.py:72: UserWarning: __floordiv__ is deprecated, and its behavior will change in a future version of pytorch. It currently rounds toward 0 (like the 'trunc' function NOT 'floor'). This results in incorrect rounding for negative values. To keep the current behavior, use torch.div(a, b, rounding_mode='trunc'), or for actual floor division, use torch.div(a, b, rounding_mode='floor').\n",
      "  bin_codes = (indices.view(1, -1) // offsets.view(-1, 1) % 2).to(torch.float32)\n"
     ]
    },
    {
     "name": "stdout",
     "output_type": "stream",
     "text": [
      "iter 4 of 5\n"
     ]
    },
    {
     "name": "stderr",
     "output_type": "stream",
     "text": [
      "/home/z1157095/hypernet-cnn/deps/node/node/lib/odst.py:72: UserWarning: __floordiv__ is deprecated, and its behavior will change in a future version of pytorch. It currently rounds toward 0 (like the 'trunc' function NOT 'floor'). This results in incorrect rounding for negative values. To keep the current behavior, use torch.div(a, b, rounding_mode='trunc'), or for actual floor division, use torch.div(a, b, rounding_mode='floor').\n",
      "  bin_codes = (indices.view(1, -1) // offsets.view(-1, 1) % 2).to(torch.float32)\n"
     ]
    },
    {
     "name": "stdout",
     "output_type": "stream",
     "text": [
      "iter 5 of 5\n"
     ]
    },
    {
     "name": "stderr",
     "output_type": "stream",
     "text": [
      "/home/z1157095/hypernet-cnn/deps/node/node/lib/odst.py:72: UserWarning: __floordiv__ is deprecated, and its behavior will change in a future version of pytorch. It currently rounds toward 0 (like the 'trunc' function NOT 'floor'). This results in incorrect rounding for negative values. To keep the current behavior, use torch.div(a, b, rounding_mode='trunc'), or for actual floor division, use torch.div(a, b, rounding_mode='floor').\n",
      "  bin_codes = (indices.view(1, -1) // offsets.view(-1, 1) % 2).to(torch.float32)\n"
     ]
    },
    {
     "name": "stdout",
     "output_type": "stream",
     "text": [
      "iter 1 of 5\n"
     ]
    },
    {
     "name": "stderr",
     "output_type": "stream",
     "text": [
      "/home/z1157095/hypernet-cnn/deps/node/node/lib/odst.py:72: UserWarning: __floordiv__ is deprecated, and its behavior will change in a future version of pytorch. It currently rounds toward 0 (like the 'trunc' function NOT 'floor'). This results in incorrect rounding for negative values. To keep the current behavior, use torch.div(a, b, rounding_mode='trunc'), or for actual floor division, use torch.div(a, b, rounding_mode='floor').\n",
      "  bin_codes = (indices.view(1, -1) // offsets.view(-1, 1) % 2).to(torch.float32)\n"
     ]
    },
    {
     "name": "stdout",
     "output_type": "stream",
     "text": [
      "iter 2 of 5\n"
     ]
    },
    {
     "name": "stderr",
     "output_type": "stream",
     "text": [
      "/home/z1157095/hypernet-cnn/deps/node/node/lib/odst.py:72: UserWarning: __floordiv__ is deprecated, and its behavior will change in a future version of pytorch. It currently rounds toward 0 (like the 'trunc' function NOT 'floor'). This results in incorrect rounding for negative values. To keep the current behavior, use torch.div(a, b, rounding_mode='trunc'), or for actual floor division, use torch.div(a, b, rounding_mode='floor').\n",
      "  bin_codes = (indices.view(1, -1) // offsets.view(-1, 1) % 2).to(torch.float32)\n"
     ]
    },
    {
     "name": "stdout",
     "output_type": "stream",
     "text": [
      "iter 3 of 5\n"
     ]
    },
    {
     "name": "stderr",
     "output_type": "stream",
     "text": [
      "/home/z1157095/hypernet-cnn/deps/node/node/lib/odst.py:72: UserWarning: __floordiv__ is deprecated, and its behavior will change in a future version of pytorch. It currently rounds toward 0 (like the 'trunc' function NOT 'floor'). This results in incorrect rounding for negative values. To keep the current behavior, use torch.div(a, b, rounding_mode='trunc'), or for actual floor division, use torch.div(a, b, rounding_mode='floor').\n",
      "  bin_codes = (indices.view(1, -1) // offsets.view(-1, 1) % 2).to(torch.float32)\n"
     ]
    },
    {
     "name": "stdout",
     "output_type": "stream",
     "text": [
      "iter 4 of 5\n"
     ]
    },
    {
     "name": "stderr",
     "output_type": "stream",
     "text": [
      "/home/z1157095/hypernet-cnn/deps/node/node/lib/odst.py:72: UserWarning: __floordiv__ is deprecated, and its behavior will change in a future version of pytorch. It currently rounds toward 0 (like the 'trunc' function NOT 'floor'). This results in incorrect rounding for negative values. To keep the current behavior, use torch.div(a, b, rounding_mode='trunc'), or for actual floor division, use torch.div(a, b, rounding_mode='floor').\n",
      "  bin_codes = (indices.view(1, -1) // offsets.view(-1, 1) % 2).to(torch.float32)\n"
     ]
    },
    {
     "name": "stdout",
     "output_type": "stream",
     "text": [
      "iter 5 of 5\n"
     ]
    },
    {
     "name": "stderr",
     "output_type": "stream",
     "text": [
      "/home/z1157095/hypernet-cnn/deps/node/node/lib/odst.py:72: UserWarning: __floordiv__ is deprecated, and its behavior will change in a future version of pytorch. It currently rounds toward 0 (like the 'trunc' function NOT 'floor'). This results in incorrect rounding for negative values. To keep the current behavior, use torch.div(a, b, rounding_mode='trunc'), or for actual floor division, use torch.div(a, b, rounding_mode='floor').\n",
      "  bin_codes = (indices.view(1, -1) // offsets.view(-1, 1) % 2).to(torch.float32)\n"
     ]
    },
    {
     "name": "stdout",
     "output_type": "stream",
     "text": [
      "iter 1 of 5\n"
     ]
    },
    {
     "name": "stderr",
     "output_type": "stream",
     "text": [
      "/home/z1157095/hypernet-cnn/deps/node/node/lib/odst.py:72: UserWarning: __floordiv__ is deprecated, and its behavior will change in a future version of pytorch. It currently rounds toward 0 (like the 'trunc' function NOT 'floor'). This results in incorrect rounding for negative values. To keep the current behavior, use torch.div(a, b, rounding_mode='trunc'), or for actual floor division, use torch.div(a, b, rounding_mode='floor').\n",
      "  bin_codes = (indices.view(1, -1) // offsets.view(-1, 1) % 2).to(torch.float32)\n"
     ]
    },
    {
     "name": "stdout",
     "output_type": "stream",
     "text": [
      "iter 2 of 5\n"
     ]
    },
    {
     "name": "stderr",
     "output_type": "stream",
     "text": [
      "/home/z1157095/hypernet-cnn/deps/node/node/lib/odst.py:72: UserWarning: __floordiv__ is deprecated, and its behavior will change in a future version of pytorch. It currently rounds toward 0 (like the 'trunc' function NOT 'floor'). This results in incorrect rounding for negative values. To keep the current behavior, use torch.div(a, b, rounding_mode='trunc'), or for actual floor division, use torch.div(a, b, rounding_mode='floor').\n",
      "  bin_codes = (indices.view(1, -1) // offsets.view(-1, 1) % 2).to(torch.float32)\n"
     ]
    },
    {
     "name": "stdout",
     "output_type": "stream",
     "text": [
      "iter 3 of 5\n"
     ]
    },
    {
     "name": "stderr",
     "output_type": "stream",
     "text": [
      "/home/z1157095/hypernet-cnn/deps/node/node/lib/odst.py:72: UserWarning: __floordiv__ is deprecated, and its behavior will change in a future version of pytorch. It currently rounds toward 0 (like the 'trunc' function NOT 'floor'). This results in incorrect rounding for negative values. To keep the current behavior, use torch.div(a, b, rounding_mode='trunc'), or for actual floor division, use torch.div(a, b, rounding_mode='floor').\n",
      "  bin_codes = (indices.view(1, -1) // offsets.view(-1, 1) % 2).to(torch.float32)\n"
     ]
    },
    {
     "name": "stdout",
     "output_type": "stream",
     "text": [
      "iter 4 of 5\n"
     ]
    },
    {
     "name": "stderr",
     "output_type": "stream",
     "text": [
      "/home/z1157095/hypernet-cnn/deps/node/node/lib/odst.py:72: UserWarning: __floordiv__ is deprecated, and its behavior will change in a future version of pytorch. It currently rounds toward 0 (like the 'trunc' function NOT 'floor'). This results in incorrect rounding for negative values. To keep the current behavior, use torch.div(a, b, rounding_mode='trunc'), or for actual floor division, use torch.div(a, b, rounding_mode='floor').\n",
      "  bin_codes = (indices.view(1, -1) // offsets.view(-1, 1) % 2).to(torch.float32)\n"
     ]
    },
    {
     "name": "stdout",
     "output_type": "stream",
     "text": [
      "iter 5 of 5\n"
     ]
    },
    {
     "name": "stderr",
     "output_type": "stream",
     "text": [
      "/home/z1157095/hypernet-cnn/deps/node/node/lib/odst.py:72: UserWarning: __floordiv__ is deprecated, and its behavior will change in a future version of pytorch. It currently rounds toward 0 (like the 'trunc' function NOT 'floor'). This results in incorrect rounding for negative values. To keep the current behavior, use torch.div(a, b, rounding_mode='trunc'), or for actual floor division, use torch.div(a, b, rounding_mode='floor').\n",
      "  bin_codes = (indices.view(1, -1) // offsets.view(-1, 1) % 2).to(torch.float32)\n"
     ]
    },
    {
     "name": "stdout",
     "output_type": "stream",
     "text": [
      "iter 1 of 5\n"
     ]
    },
    {
     "name": "stderr",
     "output_type": "stream",
     "text": [
      "/home/z1157095/hypernet-cnn/deps/node/node/lib/odst.py:72: UserWarning: __floordiv__ is deprecated, and its behavior will change in a future version of pytorch. It currently rounds toward 0 (like the 'trunc' function NOT 'floor'). This results in incorrect rounding for negative values. To keep the current behavior, use torch.div(a, b, rounding_mode='trunc'), or for actual floor division, use torch.div(a, b, rounding_mode='floor').\n",
      "  bin_codes = (indices.view(1, -1) // offsets.view(-1, 1) % 2).to(torch.float32)\n"
     ]
    },
    {
     "name": "stdout",
     "output_type": "stream",
     "text": [
      "iter 2 of 5\n"
     ]
    },
    {
     "name": "stderr",
     "output_type": "stream",
     "text": [
      "/home/z1157095/hypernet-cnn/deps/node/node/lib/odst.py:72: UserWarning: __floordiv__ is deprecated, and its behavior will change in a future version of pytorch. It currently rounds toward 0 (like the 'trunc' function NOT 'floor'). This results in incorrect rounding for negative values. To keep the current behavior, use torch.div(a, b, rounding_mode='trunc'), or for actual floor division, use torch.div(a, b, rounding_mode='floor').\n",
      "  bin_codes = (indices.view(1, -1) // offsets.view(-1, 1) % 2).to(torch.float32)\n"
     ]
    },
    {
     "name": "stdout",
     "output_type": "stream",
     "text": [
      "iter 3 of 5\n"
     ]
    },
    {
     "name": "stderr",
     "output_type": "stream",
     "text": [
      "/home/z1157095/hypernet-cnn/deps/node/node/lib/odst.py:72: UserWarning: __floordiv__ is deprecated, and its behavior will change in a future version of pytorch. It currently rounds toward 0 (like the 'trunc' function NOT 'floor'). This results in incorrect rounding for negative values. To keep the current behavior, use torch.div(a, b, rounding_mode='trunc'), or for actual floor division, use torch.div(a, b, rounding_mode='floor').\n",
      "  bin_codes = (indices.view(1, -1) // offsets.view(-1, 1) % 2).to(torch.float32)\n"
     ]
    },
    {
     "name": "stdout",
     "output_type": "stream",
     "text": [
      "iter 4 of 5\n"
     ]
    },
    {
     "name": "stderr",
     "output_type": "stream",
     "text": [
      "/home/z1157095/hypernet-cnn/deps/node/node/lib/odst.py:72: UserWarning: __floordiv__ is deprecated, and its behavior will change in a future version of pytorch. It currently rounds toward 0 (like the 'trunc' function NOT 'floor'). This results in incorrect rounding for negative values. To keep the current behavior, use torch.div(a, b, rounding_mode='trunc'), or for actual floor division, use torch.div(a, b, rounding_mode='floor').\n",
      "  bin_codes = (indices.view(1, -1) // offsets.view(-1, 1) % 2).to(torch.float32)\n"
     ]
    },
    {
     "name": "stdout",
     "output_type": "stream",
     "text": [
      "iter 5 of 5\n"
     ]
    },
    {
     "name": "stderr",
     "output_type": "stream",
     "text": [
      "/home/z1157095/hypernet-cnn/deps/node/node/lib/odst.py:72: UserWarning: __floordiv__ is deprecated, and its behavior will change in a future version of pytorch. It currently rounds toward 0 (like the 'trunc' function NOT 'floor'). This results in incorrect rounding for negative values. To keep the current behavior, use torch.div(a, b, rounding_mode='trunc'), or for actual floor division, use torch.div(a, b, rounding_mode='floor').\n",
      "  bin_codes = (indices.view(1, -1) // offsets.view(-1, 1) % 2).to(torch.float32)\n"
     ]
    },
    {
     "name": "stdout",
     "output_type": "stream",
     "text": [
      "iter 1 of 5\n"
     ]
    },
    {
     "name": "stderr",
     "output_type": "stream",
     "text": [
      "/home/z1157095/hypernet-cnn/deps/node/node/lib/odst.py:72: UserWarning: __floordiv__ is deprecated, and its behavior will change in a future version of pytorch. It currently rounds toward 0 (like the 'trunc' function NOT 'floor'). This results in incorrect rounding for negative values. To keep the current behavior, use torch.div(a, b, rounding_mode='trunc'), or for actual floor division, use torch.div(a, b, rounding_mode='floor').\n",
      "  bin_codes = (indices.view(1, -1) // offsets.view(-1, 1) % 2).to(torch.float32)\n"
     ]
    },
    {
     "name": "stdout",
     "output_type": "stream",
     "text": [
      "iter 2 of 5\n"
     ]
    },
    {
     "name": "stderr",
     "output_type": "stream",
     "text": [
      "/home/z1157095/hypernet-cnn/deps/node/node/lib/odst.py:72: UserWarning: __floordiv__ is deprecated, and its behavior will change in a future version of pytorch. It currently rounds toward 0 (like the 'trunc' function NOT 'floor'). This results in incorrect rounding for negative values. To keep the current behavior, use torch.div(a, b, rounding_mode='trunc'), or for actual floor division, use torch.div(a, b, rounding_mode='floor').\n",
      "  bin_codes = (indices.view(1, -1) // offsets.view(-1, 1) % 2).to(torch.float32)\n"
     ]
    },
    {
     "name": "stdout",
     "output_type": "stream",
     "text": [
      "iter 3 of 5\n"
     ]
    },
    {
     "name": "stderr",
     "output_type": "stream",
     "text": [
      "/home/z1157095/hypernet-cnn/deps/node/node/lib/odst.py:72: UserWarning: __floordiv__ is deprecated, and its behavior will change in a future version of pytorch. It currently rounds toward 0 (like the 'trunc' function NOT 'floor'). This results in incorrect rounding for negative values. To keep the current behavior, use torch.div(a, b, rounding_mode='trunc'), or for actual floor division, use torch.div(a, b, rounding_mode='floor').\n",
      "  bin_codes = (indices.view(1, -1) // offsets.view(-1, 1) % 2).to(torch.float32)\n"
     ]
    },
    {
     "name": "stdout",
     "output_type": "stream",
     "text": [
      "iter 4 of 5\n"
     ]
    },
    {
     "name": "stderr",
     "output_type": "stream",
     "text": [
      "/home/z1157095/hypernet-cnn/deps/node/node/lib/odst.py:72: UserWarning: __floordiv__ is deprecated, and its behavior will change in a future version of pytorch. It currently rounds toward 0 (like the 'trunc' function NOT 'floor'). This results in incorrect rounding for negative values. To keep the current behavior, use torch.div(a, b, rounding_mode='trunc'), or for actual floor division, use torch.div(a, b, rounding_mode='floor').\n",
      "  bin_codes = (indices.view(1, -1) // offsets.view(-1, 1) % 2).to(torch.float32)\n"
     ]
    },
    {
     "name": "stdout",
     "output_type": "stream",
     "text": [
      "iter 5 of 5\n"
     ]
    },
    {
     "name": "stderr",
     "output_type": "stream",
     "text": [
      "/home/z1157095/hypernet-cnn/deps/node/node/lib/odst.py:72: UserWarning: __floordiv__ is deprecated, and its behavior will change in a future version of pytorch. It currently rounds toward 0 (like the 'trunc' function NOT 'floor'). This results in incorrect rounding for negative values. To keep the current behavior, use torch.div(a, b, rounding_mode='trunc'), or for actual floor division, use torch.div(a, b, rounding_mode='floor').\n",
      "  bin_codes = (indices.view(1, -1) // offsets.view(-1, 1) % 2).to(torch.float32)\n"
     ]
    },
    {
     "name": "stdout",
     "output_type": "stream",
     "text": [
      "iter 1 of 5\n"
     ]
    },
    {
     "name": "stderr",
     "output_type": "stream",
     "text": [
      "/home/z1157095/hypernet-cnn/deps/node/node/lib/odst.py:72: UserWarning: __floordiv__ is deprecated, and its behavior will change in a future version of pytorch. It currently rounds toward 0 (like the 'trunc' function NOT 'floor'). This results in incorrect rounding for negative values. To keep the current behavior, use torch.div(a, b, rounding_mode='trunc'), or for actual floor division, use torch.div(a, b, rounding_mode='floor').\n",
      "  bin_codes = (indices.view(1, -1) // offsets.view(-1, 1) % 2).to(torch.float32)\n"
     ]
    },
    {
     "name": "stdout",
     "output_type": "stream",
     "text": [
      "iter 2 of 5\n"
     ]
    },
    {
     "name": "stderr",
     "output_type": "stream",
     "text": [
      "/home/z1157095/hypernet-cnn/deps/node/node/lib/odst.py:72: UserWarning: __floordiv__ is deprecated, and its behavior will change in a future version of pytorch. It currently rounds toward 0 (like the 'trunc' function NOT 'floor'). This results in incorrect rounding for negative values. To keep the current behavior, use torch.div(a, b, rounding_mode='trunc'), or for actual floor division, use torch.div(a, b, rounding_mode='floor').\n",
      "  bin_codes = (indices.view(1, -1) // offsets.view(-1, 1) % 2).to(torch.float32)\n"
     ]
    },
    {
     "name": "stdout",
     "output_type": "stream",
     "text": [
      "iter 3 of 5\n"
     ]
    },
    {
     "name": "stderr",
     "output_type": "stream",
     "text": [
      "/home/z1157095/hypernet-cnn/deps/node/node/lib/odst.py:72: UserWarning: __floordiv__ is deprecated, and its behavior will change in a future version of pytorch. It currently rounds toward 0 (like the 'trunc' function NOT 'floor'). This results in incorrect rounding for negative values. To keep the current behavior, use torch.div(a, b, rounding_mode='trunc'), or for actual floor division, use torch.div(a, b, rounding_mode='floor').\n",
      "  bin_codes = (indices.view(1, -1) // offsets.view(-1, 1) % 2).to(torch.float32)\n"
     ]
    },
    {
     "name": "stdout",
     "output_type": "stream",
     "text": [
      "iter 4 of 5\n"
     ]
    },
    {
     "name": "stderr",
     "output_type": "stream",
     "text": [
      "/home/z1157095/hypernet-cnn/deps/node/node/lib/odst.py:72: UserWarning: __floordiv__ is deprecated, and its behavior will change in a future version of pytorch. It currently rounds toward 0 (like the 'trunc' function NOT 'floor'). This results in incorrect rounding for negative values. To keep the current behavior, use torch.div(a, b, rounding_mode='trunc'), or for actual floor division, use torch.div(a, b, rounding_mode='floor').\n",
      "  bin_codes = (indices.view(1, -1) // offsets.view(-1, 1) % 2).to(torch.float32)\n"
     ]
    },
    {
     "name": "stdout",
     "output_type": "stream",
     "text": [
      "iter 5 of 5\n"
     ]
    },
    {
     "name": "stderr",
     "output_type": "stream",
     "text": [
      "/home/z1157095/hypernet-cnn/deps/node/node/lib/odst.py:72: UserWarning: __floordiv__ is deprecated, and its behavior will change in a future version of pytorch. It currently rounds toward 0 (like the 'trunc' function NOT 'floor'). This results in incorrect rounding for negative values. To keep the current behavior, use torch.div(a, b, rounding_mode='trunc'), or for actual floor division, use torch.div(a, b, rounding_mode='floor').\n",
      "  bin_codes = (indices.view(1, -1) // offsets.view(-1, 1) % 2).to(torch.float32)\n"
     ]
    },
    {
     "name": "stdout",
     "output_type": "stream",
     "text": [
      "iter 1 of 5\n"
     ]
    },
    {
     "name": "stderr",
     "output_type": "stream",
     "text": [
      "/home/z1157095/hypernet-cnn/deps/node/node/lib/odst.py:72: UserWarning: __floordiv__ is deprecated, and its behavior will change in a future version of pytorch. It currently rounds toward 0 (like the 'trunc' function NOT 'floor'). This results in incorrect rounding for negative values. To keep the current behavior, use torch.div(a, b, rounding_mode='trunc'), or for actual floor division, use torch.div(a, b, rounding_mode='floor').\n",
      "  bin_codes = (indices.view(1, -1) // offsets.view(-1, 1) % 2).to(torch.float32)\n"
     ]
    },
    {
     "name": "stdout",
     "output_type": "stream",
     "text": [
      "iter 2 of 5\n"
     ]
    },
    {
     "name": "stderr",
     "output_type": "stream",
     "text": [
      "/home/z1157095/hypernet-cnn/deps/node/node/lib/odst.py:72: UserWarning: __floordiv__ is deprecated, and its behavior will change in a future version of pytorch. It currently rounds toward 0 (like the 'trunc' function NOT 'floor'). This results in incorrect rounding for negative values. To keep the current behavior, use torch.div(a, b, rounding_mode='trunc'), or for actual floor division, use torch.div(a, b, rounding_mode='floor').\n",
      "  bin_codes = (indices.view(1, -1) // offsets.view(-1, 1) % 2).to(torch.float32)\n"
     ]
    },
    {
     "name": "stdout",
     "output_type": "stream",
     "text": [
      "iter 3 of 5\n"
     ]
    },
    {
     "name": "stderr",
     "output_type": "stream",
     "text": [
      "/home/z1157095/hypernet-cnn/deps/node/node/lib/odst.py:72: UserWarning: __floordiv__ is deprecated, and its behavior will change in a future version of pytorch. It currently rounds toward 0 (like the 'trunc' function NOT 'floor'). This results in incorrect rounding for negative values. To keep the current behavior, use torch.div(a, b, rounding_mode='trunc'), or for actual floor division, use torch.div(a, b, rounding_mode='floor').\n",
      "  bin_codes = (indices.view(1, -1) // offsets.view(-1, 1) % 2).to(torch.float32)\n"
     ]
    },
    {
     "name": "stdout",
     "output_type": "stream",
     "text": [
      "iter 4 of 5\n"
     ]
    },
    {
     "name": "stderr",
     "output_type": "stream",
     "text": [
      "/home/z1157095/hypernet-cnn/deps/node/node/lib/odst.py:72: UserWarning: __floordiv__ is deprecated, and its behavior will change in a future version of pytorch. It currently rounds toward 0 (like the 'trunc' function NOT 'floor'). This results in incorrect rounding for negative values. To keep the current behavior, use torch.div(a, b, rounding_mode='trunc'), or for actual floor division, use torch.div(a, b, rounding_mode='floor').\n",
      "  bin_codes = (indices.view(1, -1) // offsets.view(-1, 1) % 2).to(torch.float32)\n"
     ]
    },
    {
     "name": "stdout",
     "output_type": "stream",
     "text": [
      "iter 5 of 5\n"
     ]
    },
    {
     "name": "stderr",
     "output_type": "stream",
     "text": [
      "/home/z1157095/hypernet-cnn/deps/node/node/lib/odst.py:72: UserWarning: __floordiv__ is deprecated, and its behavior will change in a future version of pytorch. It currently rounds toward 0 (like the 'trunc' function NOT 'floor'). This results in incorrect rounding for negative values. To keep the current behavior, use torch.div(a, b, rounding_mode='trunc'), or for actual floor division, use torch.div(a, b, rounding_mode='floor').\n",
      "  bin_codes = (indices.view(1, -1) // offsets.view(-1, 1) % 2).to(torch.float32)\n"
     ]
    },
    {
     "name": "stdout",
     "output_type": "stream",
     "text": [
      "iter 1 of 5\n"
     ]
    },
    {
     "name": "stderr",
     "output_type": "stream",
     "text": [
      "/home/z1157095/hypernet-cnn/deps/node/node/lib/odst.py:72: UserWarning: __floordiv__ is deprecated, and its behavior will change in a future version of pytorch. It currently rounds toward 0 (like the 'trunc' function NOT 'floor'). This results in incorrect rounding for negative values. To keep the current behavior, use torch.div(a, b, rounding_mode='trunc'), or for actual floor division, use torch.div(a, b, rounding_mode='floor').\n",
      "  bin_codes = (indices.view(1, -1) // offsets.view(-1, 1) % 2).to(torch.float32)\n"
     ]
    },
    {
     "name": "stdout",
     "output_type": "stream",
     "text": [
      "iter 2 of 5\n"
     ]
    },
    {
     "name": "stderr",
     "output_type": "stream",
     "text": [
      "/home/z1157095/hypernet-cnn/deps/node/node/lib/odst.py:72: UserWarning: __floordiv__ is deprecated, and its behavior will change in a future version of pytorch. It currently rounds toward 0 (like the 'trunc' function NOT 'floor'). This results in incorrect rounding for negative values. To keep the current behavior, use torch.div(a, b, rounding_mode='trunc'), or for actual floor division, use torch.div(a, b, rounding_mode='floor').\n",
      "  bin_codes = (indices.view(1, -1) // offsets.view(-1, 1) % 2).to(torch.float32)\n"
     ]
    },
    {
     "name": "stdout",
     "output_type": "stream",
     "text": [
      "iter 3 of 5\n"
     ]
    },
    {
     "name": "stderr",
     "output_type": "stream",
     "text": [
      "/home/z1157095/hypernet-cnn/deps/node/node/lib/odst.py:72: UserWarning: __floordiv__ is deprecated, and its behavior will change in a future version of pytorch. It currently rounds toward 0 (like the 'trunc' function NOT 'floor'). This results in incorrect rounding for negative values. To keep the current behavior, use torch.div(a, b, rounding_mode='trunc'), or for actual floor division, use torch.div(a, b, rounding_mode='floor').\n",
      "  bin_codes = (indices.view(1, -1) // offsets.view(-1, 1) % 2).to(torch.float32)\n"
     ]
    },
    {
     "name": "stdout",
     "output_type": "stream",
     "text": [
      "iter 4 of 5\n"
     ]
    },
    {
     "name": "stderr",
     "output_type": "stream",
     "text": [
      "/home/z1157095/hypernet-cnn/deps/node/node/lib/odst.py:72: UserWarning: __floordiv__ is deprecated, and its behavior will change in a future version of pytorch. It currently rounds toward 0 (like the 'trunc' function NOT 'floor'). This results in incorrect rounding for negative values. To keep the current behavior, use torch.div(a, b, rounding_mode='trunc'), or for actual floor division, use torch.div(a, b, rounding_mode='floor').\n",
      "  bin_codes = (indices.view(1, -1) // offsets.view(-1, 1) % 2).to(torch.float32)\n"
     ]
    },
    {
     "name": "stdout",
     "output_type": "stream",
     "text": [
      "iter 5 of 5\n"
     ]
    },
    {
     "name": "stderr",
     "output_type": "stream",
     "text": [
      "/home/z1157095/hypernet-cnn/deps/node/node/lib/odst.py:72: UserWarning: __floordiv__ is deprecated, and its behavior will change in a future version of pytorch. It currently rounds toward 0 (like the 'trunc' function NOT 'floor'). This results in incorrect rounding for negative values. To keep the current behavior, use torch.div(a, b, rounding_mode='trunc'), or for actual floor division, use torch.div(a, b, rounding_mode='floor').\n",
      "  bin_codes = (indices.view(1, -1) // offsets.view(-1, 1) % 2).to(torch.float32)\n"
     ]
    },
    {
     "name": "stdout",
     "output_type": "stream",
     "text": [
      "iter 1 of 5\n"
     ]
    },
    {
     "name": "stderr",
     "output_type": "stream",
     "text": [
      "/home/z1157095/hypernet-cnn/deps/node/node/lib/odst.py:72: UserWarning: __floordiv__ is deprecated, and its behavior will change in a future version of pytorch. It currently rounds toward 0 (like the 'trunc' function NOT 'floor'). This results in incorrect rounding for negative values. To keep the current behavior, use torch.div(a, b, rounding_mode='trunc'), or for actual floor division, use torch.div(a, b, rounding_mode='floor').\n",
      "  bin_codes = (indices.view(1, -1) // offsets.view(-1, 1) % 2).to(torch.float32)\n"
     ]
    },
    {
     "name": "stdout",
     "output_type": "stream",
     "text": [
      "iter 2 of 5\n"
     ]
    },
    {
     "name": "stderr",
     "output_type": "stream",
     "text": [
      "/home/z1157095/hypernet-cnn/deps/node/node/lib/odst.py:72: UserWarning: __floordiv__ is deprecated, and its behavior will change in a future version of pytorch. It currently rounds toward 0 (like the 'trunc' function NOT 'floor'). This results in incorrect rounding for negative values. To keep the current behavior, use torch.div(a, b, rounding_mode='trunc'), or for actual floor division, use torch.div(a, b, rounding_mode='floor').\n",
      "  bin_codes = (indices.view(1, -1) // offsets.view(-1, 1) % 2).to(torch.float32)\n"
     ]
    },
    {
     "name": "stdout",
     "output_type": "stream",
     "text": [
      "iter 3 of 5\n"
     ]
    },
    {
     "name": "stderr",
     "output_type": "stream",
     "text": [
      "/home/z1157095/hypernet-cnn/deps/node/node/lib/odst.py:72: UserWarning: __floordiv__ is deprecated, and its behavior will change in a future version of pytorch. It currently rounds toward 0 (like the 'trunc' function NOT 'floor'). This results in incorrect rounding for negative values. To keep the current behavior, use torch.div(a, b, rounding_mode='trunc'), or for actual floor division, use torch.div(a, b, rounding_mode='floor').\n",
      "  bin_codes = (indices.view(1, -1) // offsets.view(-1, 1) % 2).to(torch.float32)\n"
     ]
    },
    {
     "name": "stdout",
     "output_type": "stream",
     "text": [
      "iter 4 of 5\n"
     ]
    },
    {
     "name": "stderr",
     "output_type": "stream",
     "text": [
      "/home/z1157095/hypernet-cnn/deps/node/node/lib/odst.py:72: UserWarning: __floordiv__ is deprecated, and its behavior will change in a future version of pytorch. It currently rounds toward 0 (like the 'trunc' function NOT 'floor'). This results in incorrect rounding for negative values. To keep the current behavior, use torch.div(a, b, rounding_mode='trunc'), or for actual floor division, use torch.div(a, b, rounding_mode='floor').\n",
      "  bin_codes = (indices.view(1, -1) // offsets.view(-1, 1) % 2).to(torch.float32)\n"
     ]
    },
    {
     "name": "stdout",
     "output_type": "stream",
     "text": [
      "iter 5 of 5\n"
     ]
    },
    {
     "name": "stderr",
     "output_type": "stream",
     "text": [
      "/home/z1157095/hypernet-cnn/deps/node/node/lib/odst.py:72: UserWarning: __floordiv__ is deprecated, and its behavior will change in a future version of pytorch. It currently rounds toward 0 (like the 'trunc' function NOT 'floor'). This results in incorrect rounding for negative values. To keep the current behavior, use torch.div(a, b, rounding_mode='trunc'), or for actual floor division, use torch.div(a, b, rounding_mode='floor').\n",
      "  bin_codes = (indices.view(1, -1) // offsets.view(-1, 1) % 2).to(torch.float32)\n"
     ]
    },
    {
     "name": "stdout",
     "output_type": "stream",
     "text": [
      "iter 1 of 5\n"
     ]
    },
    {
     "name": "stderr",
     "output_type": "stream",
     "text": [
      "/home/z1157095/hypernet-cnn/deps/node/node/lib/odst.py:72: UserWarning: __floordiv__ is deprecated, and its behavior will change in a future version of pytorch. It currently rounds toward 0 (like the 'trunc' function NOT 'floor'). This results in incorrect rounding for negative values. To keep the current behavior, use torch.div(a, b, rounding_mode='trunc'), or for actual floor division, use torch.div(a, b, rounding_mode='floor').\n",
      "  bin_codes = (indices.view(1, -1) // offsets.view(-1, 1) % 2).to(torch.float32)\n"
     ]
    },
    {
     "name": "stdout",
     "output_type": "stream",
     "text": [
      "iter 2 of 5\n"
     ]
    },
    {
     "name": "stderr",
     "output_type": "stream",
     "text": [
      "/home/z1157095/hypernet-cnn/deps/node/node/lib/odst.py:72: UserWarning: __floordiv__ is deprecated, and its behavior will change in a future version of pytorch. It currently rounds toward 0 (like the 'trunc' function NOT 'floor'). This results in incorrect rounding for negative values. To keep the current behavior, use torch.div(a, b, rounding_mode='trunc'), or for actual floor division, use torch.div(a, b, rounding_mode='floor').\n",
      "  bin_codes = (indices.view(1, -1) // offsets.view(-1, 1) % 2).to(torch.float32)\n"
     ]
    },
    {
     "name": "stdout",
     "output_type": "stream",
     "text": [
      "iter 3 of 5\n"
     ]
    },
    {
     "name": "stderr",
     "output_type": "stream",
     "text": [
      "/home/z1157095/hypernet-cnn/deps/node/node/lib/odst.py:72: UserWarning: __floordiv__ is deprecated, and its behavior will change in a future version of pytorch. It currently rounds toward 0 (like the 'trunc' function NOT 'floor'). This results in incorrect rounding for negative values. To keep the current behavior, use torch.div(a, b, rounding_mode='trunc'), or for actual floor division, use torch.div(a, b, rounding_mode='floor').\n",
      "  bin_codes = (indices.view(1, -1) // offsets.view(-1, 1) % 2).to(torch.float32)\n"
     ]
    },
    {
     "name": "stdout",
     "output_type": "stream",
     "text": [
      "iter 4 of 5\n"
     ]
    },
    {
     "name": "stderr",
     "output_type": "stream",
     "text": [
      "/home/z1157095/hypernet-cnn/deps/node/node/lib/odst.py:72: UserWarning: __floordiv__ is deprecated, and its behavior will change in a future version of pytorch. It currently rounds toward 0 (like the 'trunc' function NOT 'floor'). This results in incorrect rounding for negative values. To keep the current behavior, use torch.div(a, b, rounding_mode='trunc'), or for actual floor division, use torch.div(a, b, rounding_mode='floor').\n",
      "  bin_codes = (indices.view(1, -1) // offsets.view(-1, 1) % 2).to(torch.float32)\n"
     ]
    },
    {
     "name": "stdout",
     "output_type": "stream",
     "text": [
      "iter 5 of 5\n"
     ]
    },
    {
     "name": "stderr",
     "output_type": "stream",
     "text": [
      "/home/z1157095/hypernet-cnn/deps/node/node/lib/odst.py:72: UserWarning: __floordiv__ is deprecated, and its behavior will change in a future version of pytorch. It currently rounds toward 0 (like the 'trunc' function NOT 'floor'). This results in incorrect rounding for negative values. To keep the current behavior, use torch.div(a, b, rounding_mode='trunc'), or for actual floor division, use torch.div(a, b, rounding_mode='floor').\n",
      "  bin_codes = (indices.view(1, -1) // offsets.view(-1, 1) % 2).to(torch.float32)\n"
     ]
    },
    {
     "name": "stdout",
     "output_type": "stream",
     "text": [
      "iter 1 of 5\n"
     ]
    },
    {
     "name": "stderr",
     "output_type": "stream",
     "text": [
      "/home/z1157095/hypernet-cnn/deps/node/node/lib/odst.py:72: UserWarning: __floordiv__ is deprecated, and its behavior will change in a future version of pytorch. It currently rounds toward 0 (like the 'trunc' function NOT 'floor'). This results in incorrect rounding for negative values. To keep the current behavior, use torch.div(a, b, rounding_mode='trunc'), or for actual floor division, use torch.div(a, b, rounding_mode='floor').\n",
      "  bin_codes = (indices.view(1, -1) // offsets.view(-1, 1) % 2).to(torch.float32)\n"
     ]
    },
    {
     "name": "stdout",
     "output_type": "stream",
     "text": [
      "iter 2 of 5\n"
     ]
    },
    {
     "name": "stderr",
     "output_type": "stream",
     "text": [
      "/home/z1157095/hypernet-cnn/deps/node/node/lib/odst.py:72: UserWarning: __floordiv__ is deprecated, and its behavior will change in a future version of pytorch. It currently rounds toward 0 (like the 'trunc' function NOT 'floor'). This results in incorrect rounding for negative values. To keep the current behavior, use torch.div(a, b, rounding_mode='trunc'), or for actual floor division, use torch.div(a, b, rounding_mode='floor').\n",
      "  bin_codes = (indices.view(1, -1) // offsets.view(-1, 1) % 2).to(torch.float32)\n"
     ]
    },
    {
     "name": "stdout",
     "output_type": "stream",
     "text": [
      "iter 3 of 5\n"
     ]
    },
    {
     "name": "stderr",
     "output_type": "stream",
     "text": [
      "/home/z1157095/hypernet-cnn/deps/node/node/lib/odst.py:72: UserWarning: __floordiv__ is deprecated, and its behavior will change in a future version of pytorch. It currently rounds toward 0 (like the 'trunc' function NOT 'floor'). This results in incorrect rounding for negative values. To keep the current behavior, use torch.div(a, b, rounding_mode='trunc'), or for actual floor division, use torch.div(a, b, rounding_mode='floor').\n",
      "  bin_codes = (indices.view(1, -1) // offsets.view(-1, 1) % 2).to(torch.float32)\n"
     ]
    },
    {
     "name": "stdout",
     "output_type": "stream",
     "text": [
      "iter 4 of 5\n"
     ]
    },
    {
     "name": "stderr",
     "output_type": "stream",
     "text": [
      "/home/z1157095/hypernet-cnn/deps/node/node/lib/odst.py:72: UserWarning: __floordiv__ is deprecated, and its behavior will change in a future version of pytorch. It currently rounds toward 0 (like the 'trunc' function NOT 'floor'). This results in incorrect rounding for negative values. To keep the current behavior, use torch.div(a, b, rounding_mode='trunc'), or for actual floor division, use torch.div(a, b, rounding_mode='floor').\n",
      "  bin_codes = (indices.view(1, -1) // offsets.view(-1, 1) % 2).to(torch.float32)\n"
     ]
    },
    {
     "name": "stdout",
     "output_type": "stream",
     "text": [
      "iter 5 of 5\n"
     ]
    },
    {
     "name": "stderr",
     "output_type": "stream",
     "text": [
      "/home/z1157095/hypernet-cnn/deps/node/node/lib/odst.py:72: UserWarning: __floordiv__ is deprecated, and its behavior will change in a future version of pytorch. It currently rounds toward 0 (like the 'trunc' function NOT 'floor'). This results in incorrect rounding for negative values. To keep the current behavior, use torch.div(a, b, rounding_mode='trunc'), or for actual floor division, use torch.div(a, b, rounding_mode='floor').\n",
      "  bin_codes = (indices.view(1, -1) // offsets.view(-1, 1) % 2).to(torch.float32)\n"
     ]
    },
    {
     "name": "stdout",
     "output_type": "stream",
     "text": [
      "iter 1 of 5\n"
     ]
    },
    {
     "name": "stderr",
     "output_type": "stream",
     "text": [
      "/home/z1157095/hypernet-cnn/deps/node/node/lib/odst.py:72: UserWarning: __floordiv__ is deprecated, and its behavior will change in a future version of pytorch. It currently rounds toward 0 (like the 'trunc' function NOT 'floor'). This results in incorrect rounding for negative values. To keep the current behavior, use torch.div(a, b, rounding_mode='trunc'), or for actual floor division, use torch.div(a, b, rounding_mode='floor').\n",
      "  bin_codes = (indices.view(1, -1) // offsets.view(-1, 1) % 2).to(torch.float32)\n"
     ]
    },
    {
     "name": "stdout",
     "output_type": "stream",
     "text": [
      "iter 2 of 5\n"
     ]
    },
    {
     "name": "stderr",
     "output_type": "stream",
     "text": [
      "/home/z1157095/hypernet-cnn/deps/node/node/lib/odst.py:72: UserWarning: __floordiv__ is deprecated, and its behavior will change in a future version of pytorch. It currently rounds toward 0 (like the 'trunc' function NOT 'floor'). This results in incorrect rounding for negative values. To keep the current behavior, use torch.div(a, b, rounding_mode='trunc'), or for actual floor division, use torch.div(a, b, rounding_mode='floor').\n",
      "  bin_codes = (indices.view(1, -1) // offsets.view(-1, 1) % 2).to(torch.float32)\n"
     ]
    },
    {
     "name": "stdout",
     "output_type": "stream",
     "text": [
      "iter 3 of 5\n"
     ]
    },
    {
     "name": "stderr",
     "output_type": "stream",
     "text": [
      "/home/z1157095/hypernet-cnn/deps/node/node/lib/odst.py:72: UserWarning: __floordiv__ is deprecated, and its behavior will change in a future version of pytorch. It currently rounds toward 0 (like the 'trunc' function NOT 'floor'). This results in incorrect rounding for negative values. To keep the current behavior, use torch.div(a, b, rounding_mode='trunc'), or for actual floor division, use torch.div(a, b, rounding_mode='floor').\n",
      "  bin_codes = (indices.view(1, -1) // offsets.view(-1, 1) % 2).to(torch.float32)\n"
     ]
    },
    {
     "name": "stdout",
     "output_type": "stream",
     "text": [
      "iter 4 of 5\n"
     ]
    },
    {
     "name": "stderr",
     "output_type": "stream",
     "text": [
      "/home/z1157095/hypernet-cnn/deps/node/node/lib/odst.py:72: UserWarning: __floordiv__ is deprecated, and its behavior will change in a future version of pytorch. It currently rounds toward 0 (like the 'trunc' function NOT 'floor'). This results in incorrect rounding for negative values. To keep the current behavior, use torch.div(a, b, rounding_mode='trunc'), or for actual floor division, use torch.div(a, b, rounding_mode='floor').\n",
      "  bin_codes = (indices.view(1, -1) // offsets.view(-1, 1) % 2).to(torch.float32)\n"
     ]
    },
    {
     "name": "stdout",
     "output_type": "stream",
     "text": [
      "iter 5 of 5\n"
     ]
    },
    {
     "name": "stderr",
     "output_type": "stream",
     "text": [
      "/home/z1157095/hypernet-cnn/deps/node/node/lib/odst.py:72: UserWarning: __floordiv__ is deprecated, and its behavior will change in a future version of pytorch. It currently rounds toward 0 (like the 'trunc' function NOT 'floor'). This results in incorrect rounding for negative values. To keep the current behavior, use torch.div(a, b, rounding_mode='trunc'), or for actual floor division, use torch.div(a, b, rounding_mode='floor').\n",
      "  bin_codes = (indices.view(1, -1) // offsets.view(-1, 1) % 2).to(torch.float32)\n"
     ]
    },
    {
     "name": "stdout",
     "output_type": "stream",
     "text": [
      "iter 1 of 5\n"
     ]
    },
    {
     "name": "stderr",
     "output_type": "stream",
     "text": [
      "/home/z1157095/hypernet-cnn/deps/node/node/lib/odst.py:72: UserWarning: __floordiv__ is deprecated, and its behavior will change in a future version of pytorch. It currently rounds toward 0 (like the 'trunc' function NOT 'floor'). This results in incorrect rounding for negative values. To keep the current behavior, use torch.div(a, b, rounding_mode='trunc'), or for actual floor division, use torch.div(a, b, rounding_mode='floor').\n",
      "  bin_codes = (indices.view(1, -1) // offsets.view(-1, 1) % 2).to(torch.float32)\n"
     ]
    },
    {
     "name": "stdout",
     "output_type": "stream",
     "text": [
      "iter 2 of 5\n"
     ]
    },
    {
     "name": "stderr",
     "output_type": "stream",
     "text": [
      "/home/z1157095/hypernet-cnn/deps/node/node/lib/odst.py:72: UserWarning: __floordiv__ is deprecated, and its behavior will change in a future version of pytorch. It currently rounds toward 0 (like the 'trunc' function NOT 'floor'). This results in incorrect rounding for negative values. To keep the current behavior, use torch.div(a, b, rounding_mode='trunc'), or for actual floor division, use torch.div(a, b, rounding_mode='floor').\n",
      "  bin_codes = (indices.view(1, -1) // offsets.view(-1, 1) % 2).to(torch.float32)\n"
     ]
    },
    {
     "name": "stdout",
     "output_type": "stream",
     "text": [
      "iter 3 of 5\n"
     ]
    },
    {
     "name": "stderr",
     "output_type": "stream",
     "text": [
      "/home/z1157095/hypernet-cnn/deps/node/node/lib/odst.py:72: UserWarning: __floordiv__ is deprecated, and its behavior will change in a future version of pytorch. It currently rounds toward 0 (like the 'trunc' function NOT 'floor'). This results in incorrect rounding for negative values. To keep the current behavior, use torch.div(a, b, rounding_mode='trunc'), or for actual floor division, use torch.div(a, b, rounding_mode='floor').\n",
      "  bin_codes = (indices.view(1, -1) // offsets.view(-1, 1) % 2).to(torch.float32)\n"
     ]
    },
    {
     "name": "stdout",
     "output_type": "stream",
     "text": [
      "iter 4 of 5\n"
     ]
    },
    {
     "name": "stderr",
     "output_type": "stream",
     "text": [
      "/home/z1157095/hypernet-cnn/deps/node/node/lib/odst.py:72: UserWarning: __floordiv__ is deprecated, and its behavior will change in a future version of pytorch. It currently rounds toward 0 (like the 'trunc' function NOT 'floor'). This results in incorrect rounding for negative values. To keep the current behavior, use torch.div(a, b, rounding_mode='trunc'), or for actual floor division, use torch.div(a, b, rounding_mode='floor').\n",
      "  bin_codes = (indices.view(1, -1) // offsets.view(-1, 1) % 2).to(torch.float32)\n"
     ]
    },
    {
     "name": "stdout",
     "output_type": "stream",
     "text": [
      "iter 5 of 5\n"
     ]
    },
    {
     "name": "stderr",
     "output_type": "stream",
     "text": [
      "/home/z1157095/hypernet-cnn/deps/node/node/lib/odst.py:72: UserWarning: __floordiv__ is deprecated, and its behavior will change in a future version of pytorch. It currently rounds toward 0 (like the 'trunc' function NOT 'floor'). This results in incorrect rounding for negative values. To keep the current behavior, use torch.div(a, b, rounding_mode='trunc'), or for actual floor division, use torch.div(a, b, rounding_mode='floor').\n",
      "  bin_codes = (indices.view(1, -1) // offsets.view(-1, 1) % 2).to(torch.float32)\n"
     ]
    },
    {
     "name": "stdout",
     "output_type": "stream",
     "text": [
      "iter 1 of 5\n"
     ]
    },
    {
     "name": "stderr",
     "output_type": "stream",
     "text": [
      "/home/z1157095/hypernet-cnn/deps/node/node/lib/odst.py:72: UserWarning: __floordiv__ is deprecated, and its behavior will change in a future version of pytorch. It currently rounds toward 0 (like the 'trunc' function NOT 'floor'). This results in incorrect rounding for negative values. To keep the current behavior, use torch.div(a, b, rounding_mode='trunc'), or for actual floor division, use torch.div(a, b, rounding_mode='floor').\n",
      "  bin_codes = (indices.view(1, -1) // offsets.view(-1, 1) % 2).to(torch.float32)\n"
     ]
    },
    {
     "name": "stdout",
     "output_type": "stream",
     "text": [
      "iter 2 of 5\n"
     ]
    },
    {
     "name": "stderr",
     "output_type": "stream",
     "text": [
      "/home/z1157095/hypernet-cnn/deps/node/node/lib/odst.py:72: UserWarning: __floordiv__ is deprecated, and its behavior will change in a future version of pytorch. It currently rounds toward 0 (like the 'trunc' function NOT 'floor'). This results in incorrect rounding for negative values. To keep the current behavior, use torch.div(a, b, rounding_mode='trunc'), or for actual floor division, use torch.div(a, b, rounding_mode='floor').\n",
      "  bin_codes = (indices.view(1, -1) // offsets.view(-1, 1) % 2).to(torch.float32)\n"
     ]
    },
    {
     "name": "stdout",
     "output_type": "stream",
     "text": [
      "iter 3 of 5\n"
     ]
    },
    {
     "name": "stderr",
     "output_type": "stream",
     "text": [
      "/home/z1157095/hypernet-cnn/deps/node/node/lib/odst.py:72: UserWarning: __floordiv__ is deprecated, and its behavior will change in a future version of pytorch. It currently rounds toward 0 (like the 'trunc' function NOT 'floor'). This results in incorrect rounding for negative values. To keep the current behavior, use torch.div(a, b, rounding_mode='trunc'), or for actual floor division, use torch.div(a, b, rounding_mode='floor').\n",
      "  bin_codes = (indices.view(1, -1) // offsets.view(-1, 1) % 2).to(torch.float32)\n"
     ]
    },
    {
     "name": "stdout",
     "output_type": "stream",
     "text": [
      "iter 4 of 5\n"
     ]
    },
    {
     "name": "stderr",
     "output_type": "stream",
     "text": [
      "/home/z1157095/hypernet-cnn/deps/node/node/lib/odst.py:72: UserWarning: __floordiv__ is deprecated, and its behavior will change in a future version of pytorch. It currently rounds toward 0 (like the 'trunc' function NOT 'floor'). This results in incorrect rounding for negative values. To keep the current behavior, use torch.div(a, b, rounding_mode='trunc'), or for actual floor division, use torch.div(a, b, rounding_mode='floor').\n",
      "  bin_codes = (indices.view(1, -1) // offsets.view(-1, 1) % 2).to(torch.float32)\n"
     ]
    },
    {
     "name": "stdout",
     "output_type": "stream",
     "text": [
      "iter 5 of 5\n"
     ]
    },
    {
     "name": "stderr",
     "output_type": "stream",
     "text": [
      "/home/z1157095/hypernet-cnn/deps/node/node/lib/odst.py:72: UserWarning: __floordiv__ is deprecated, and its behavior will change in a future version of pytorch. It currently rounds toward 0 (like the 'trunc' function NOT 'floor'). This results in incorrect rounding for negative values. To keep the current behavior, use torch.div(a, b, rounding_mode='trunc'), or for actual floor division, use torch.div(a, b, rounding_mode='floor').\n",
      "  bin_codes = (indices.view(1, -1) // offsets.view(-1, 1) % 2).to(torch.float32)\n"
     ]
    },
    {
     "name": "stdout",
     "output_type": "stream",
     "text": [
      "iter 1 of 5\n"
     ]
    },
    {
     "name": "stderr",
     "output_type": "stream",
     "text": [
      "/home/z1157095/hypernet-cnn/deps/node/node/lib/odst.py:72: UserWarning: __floordiv__ is deprecated, and its behavior will change in a future version of pytorch. It currently rounds toward 0 (like the 'trunc' function NOT 'floor'). This results in incorrect rounding for negative values. To keep the current behavior, use torch.div(a, b, rounding_mode='trunc'), or for actual floor division, use torch.div(a, b, rounding_mode='floor').\n",
      "  bin_codes = (indices.view(1, -1) // offsets.view(-1, 1) % 2).to(torch.float32)\n"
     ]
    },
    {
     "name": "stdout",
     "output_type": "stream",
     "text": [
      "iter 2 of 5\n"
     ]
    },
    {
     "name": "stderr",
     "output_type": "stream",
     "text": [
      "/home/z1157095/hypernet-cnn/deps/node/node/lib/odst.py:72: UserWarning: __floordiv__ is deprecated, and its behavior will change in a future version of pytorch. It currently rounds toward 0 (like the 'trunc' function NOT 'floor'). This results in incorrect rounding for negative values. To keep the current behavior, use torch.div(a, b, rounding_mode='trunc'), or for actual floor division, use torch.div(a, b, rounding_mode='floor').\n",
      "  bin_codes = (indices.view(1, -1) // offsets.view(-1, 1) % 2).to(torch.float32)\n"
     ]
    },
    {
     "name": "stdout",
     "output_type": "stream",
     "text": [
      "iter 3 of 5\n"
     ]
    },
    {
     "name": "stderr",
     "output_type": "stream",
     "text": [
      "/home/z1157095/hypernet-cnn/deps/node/node/lib/odst.py:72: UserWarning: __floordiv__ is deprecated, and its behavior will change in a future version of pytorch. It currently rounds toward 0 (like the 'trunc' function NOT 'floor'). This results in incorrect rounding for negative values. To keep the current behavior, use torch.div(a, b, rounding_mode='trunc'), or for actual floor division, use torch.div(a, b, rounding_mode='floor').\n",
      "  bin_codes = (indices.view(1, -1) // offsets.view(-1, 1) % 2).to(torch.float32)\n"
     ]
    },
    {
     "name": "stdout",
     "output_type": "stream",
     "text": [
      "iter 4 of 5\n"
     ]
    },
    {
     "name": "stderr",
     "output_type": "stream",
     "text": [
      "/home/z1157095/hypernet-cnn/deps/node/node/lib/odst.py:72: UserWarning: __floordiv__ is deprecated, and its behavior will change in a future version of pytorch. It currently rounds toward 0 (like the 'trunc' function NOT 'floor'). This results in incorrect rounding for negative values. To keep the current behavior, use torch.div(a, b, rounding_mode='trunc'), or for actual floor division, use torch.div(a, b, rounding_mode='floor').\n",
      "  bin_codes = (indices.view(1, -1) // offsets.view(-1, 1) % 2).to(torch.float32)\n"
     ]
    },
    {
     "name": "stdout",
     "output_type": "stream",
     "text": [
      "iter 5 of 5\n"
     ]
    },
    {
     "name": "stderr",
     "output_type": "stream",
     "text": [
      "/home/z1157095/hypernet-cnn/deps/node/node/lib/odst.py:72: UserWarning: __floordiv__ is deprecated, and its behavior will change in a future version of pytorch. It currently rounds toward 0 (like the 'trunc' function NOT 'floor'). This results in incorrect rounding for negative values. To keep the current behavior, use torch.div(a, b, rounding_mode='trunc'), or for actual floor division, use torch.div(a, b, rounding_mode='floor').\n",
      "  bin_codes = (indices.view(1, -1) // offsets.view(-1, 1) % 2).to(torch.float32)\n"
     ]
    },
    {
     "name": "stdout",
     "output_type": "stream",
     "text": [
      "iter 1 of 5\n"
     ]
    },
    {
     "name": "stderr",
     "output_type": "stream",
     "text": [
      "/home/z1157095/hypernet-cnn/deps/node/node/lib/odst.py:72: UserWarning: __floordiv__ is deprecated, and its behavior will change in a future version of pytorch. It currently rounds toward 0 (like the 'trunc' function NOT 'floor'). This results in incorrect rounding for negative values. To keep the current behavior, use torch.div(a, b, rounding_mode='trunc'), or for actual floor division, use torch.div(a, b, rounding_mode='floor').\n",
      "  bin_codes = (indices.view(1, -1) // offsets.view(-1, 1) % 2).to(torch.float32)\n"
     ]
    },
    {
     "name": "stdout",
     "output_type": "stream",
     "text": [
      "iter 2 of 5\n"
     ]
    },
    {
     "name": "stderr",
     "output_type": "stream",
     "text": [
      "/home/z1157095/hypernet-cnn/deps/node/node/lib/odst.py:72: UserWarning: __floordiv__ is deprecated, and its behavior will change in a future version of pytorch. It currently rounds toward 0 (like the 'trunc' function NOT 'floor'). This results in incorrect rounding for negative values. To keep the current behavior, use torch.div(a, b, rounding_mode='trunc'), or for actual floor division, use torch.div(a, b, rounding_mode='floor').\n",
      "  bin_codes = (indices.view(1, -1) // offsets.view(-1, 1) % 2).to(torch.float32)\n"
     ]
    },
    {
     "name": "stdout",
     "output_type": "stream",
     "text": [
      "iter 3 of 5\n"
     ]
    },
    {
     "name": "stderr",
     "output_type": "stream",
     "text": [
      "/home/z1157095/hypernet-cnn/deps/node/node/lib/odst.py:72: UserWarning: __floordiv__ is deprecated, and its behavior will change in a future version of pytorch. It currently rounds toward 0 (like the 'trunc' function NOT 'floor'). This results in incorrect rounding for negative values. To keep the current behavior, use torch.div(a, b, rounding_mode='trunc'), or for actual floor division, use torch.div(a, b, rounding_mode='floor').\n",
      "  bin_codes = (indices.view(1, -1) // offsets.view(-1, 1) % 2).to(torch.float32)\n"
     ]
    },
    {
     "name": "stdout",
     "output_type": "stream",
     "text": [
      "iter 4 of 5\n"
     ]
    },
    {
     "name": "stderr",
     "output_type": "stream",
     "text": [
      "/home/z1157095/hypernet-cnn/deps/node/node/lib/odst.py:72: UserWarning: __floordiv__ is deprecated, and its behavior will change in a future version of pytorch. It currently rounds toward 0 (like the 'trunc' function NOT 'floor'). This results in incorrect rounding for negative values. To keep the current behavior, use torch.div(a, b, rounding_mode='trunc'), or for actual floor division, use torch.div(a, b, rounding_mode='floor').\n",
      "  bin_codes = (indices.view(1, -1) // offsets.view(-1, 1) % 2).to(torch.float32)\n"
     ]
    },
    {
     "name": "stdout",
     "output_type": "stream",
     "text": [
      "iter 5 of 5\n"
     ]
    },
    {
     "name": "stderr",
     "output_type": "stream",
     "text": [
      "/home/z1157095/hypernet-cnn/deps/node/node/lib/odst.py:72: UserWarning: __floordiv__ is deprecated, and its behavior will change in a future version of pytorch. It currently rounds toward 0 (like the 'trunc' function NOT 'floor'). This results in incorrect rounding for negative values. To keep the current behavior, use torch.div(a, b, rounding_mode='trunc'), or for actual floor division, use torch.div(a, b, rounding_mode='floor').\n",
      "  bin_codes = (indices.view(1, -1) // offsets.view(-1, 1) % 2).to(torch.float32)\n"
     ]
    },
    {
     "name": "stdout",
     "output_type": "stream",
     "text": [
      "iter 1 of 5\n"
     ]
    },
    {
     "name": "stderr",
     "output_type": "stream",
     "text": [
      "/home/z1157095/hypernet-cnn/deps/node/node/lib/odst.py:72: UserWarning: __floordiv__ is deprecated, and its behavior will change in a future version of pytorch. It currently rounds toward 0 (like the 'trunc' function NOT 'floor'). This results in incorrect rounding for negative values. To keep the current behavior, use torch.div(a, b, rounding_mode='trunc'), or for actual floor division, use torch.div(a, b, rounding_mode='floor').\n",
      "  bin_codes = (indices.view(1, -1) // offsets.view(-1, 1) % 2).to(torch.float32)\n"
     ]
    },
    {
     "name": "stdout",
     "output_type": "stream",
     "text": [
      "iter 2 of 5\n"
     ]
    },
    {
     "name": "stderr",
     "output_type": "stream",
     "text": [
      "/home/z1157095/hypernet-cnn/deps/node/node/lib/odst.py:72: UserWarning: __floordiv__ is deprecated, and its behavior will change in a future version of pytorch. It currently rounds toward 0 (like the 'trunc' function NOT 'floor'). This results in incorrect rounding for negative values. To keep the current behavior, use torch.div(a, b, rounding_mode='trunc'), or for actual floor division, use torch.div(a, b, rounding_mode='floor').\n",
      "  bin_codes = (indices.view(1, -1) // offsets.view(-1, 1) % 2).to(torch.float32)\n"
     ]
    },
    {
     "name": "stdout",
     "output_type": "stream",
     "text": [
      "iter 3 of 5\n"
     ]
    },
    {
     "name": "stderr",
     "output_type": "stream",
     "text": [
      "/home/z1157095/hypernet-cnn/deps/node/node/lib/odst.py:72: UserWarning: __floordiv__ is deprecated, and its behavior will change in a future version of pytorch. It currently rounds toward 0 (like the 'trunc' function NOT 'floor'). This results in incorrect rounding for negative values. To keep the current behavior, use torch.div(a, b, rounding_mode='trunc'), or for actual floor division, use torch.div(a, b, rounding_mode='floor').\n",
      "  bin_codes = (indices.view(1, -1) // offsets.view(-1, 1) % 2).to(torch.float32)\n"
     ]
    },
    {
     "name": "stdout",
     "output_type": "stream",
     "text": [
      "iter 4 of 5\n"
     ]
    },
    {
     "name": "stderr",
     "output_type": "stream",
     "text": [
      "/home/z1157095/hypernet-cnn/deps/node/node/lib/odst.py:72: UserWarning: __floordiv__ is deprecated, and its behavior will change in a future version of pytorch. It currently rounds toward 0 (like the 'trunc' function NOT 'floor'). This results in incorrect rounding for negative values. To keep the current behavior, use torch.div(a, b, rounding_mode='trunc'), or for actual floor division, use torch.div(a, b, rounding_mode='floor').\n",
      "  bin_codes = (indices.view(1, -1) // offsets.view(-1, 1) % 2).to(torch.float32)\n"
     ]
    },
    {
     "name": "stdout",
     "output_type": "stream",
     "text": [
      "iter 5 of 5\n"
     ]
    },
    {
     "name": "stderr",
     "output_type": "stream",
     "text": [
      "/home/z1157095/hypernet-cnn/deps/node/node/lib/odst.py:72: UserWarning: __floordiv__ is deprecated, and its behavior will change in a future version of pytorch. It currently rounds toward 0 (like the 'trunc' function NOT 'floor'). This results in incorrect rounding for negative values. To keep the current behavior, use torch.div(a, b, rounding_mode='trunc'), or for actual floor division, use torch.div(a, b, rounding_mode='floor').\n",
      "  bin_codes = (indices.view(1, -1) // offsets.view(-1, 1) % 2).to(torch.float32)\n"
     ]
    },
    {
     "name": "stdout",
     "output_type": "stream",
     "text": [
      "iter 1 of 5\n"
     ]
    },
    {
     "name": "stderr",
     "output_type": "stream",
     "text": [
      "/home/z1157095/hypernet-cnn/deps/node/node/lib/odst.py:72: UserWarning: __floordiv__ is deprecated, and its behavior will change in a future version of pytorch. It currently rounds toward 0 (like the 'trunc' function NOT 'floor'). This results in incorrect rounding for negative values. To keep the current behavior, use torch.div(a, b, rounding_mode='trunc'), or for actual floor division, use torch.div(a, b, rounding_mode='floor').\n",
      "  bin_codes = (indices.view(1, -1) // offsets.view(-1, 1) % 2).to(torch.float32)\n"
     ]
    },
    {
     "name": "stdout",
     "output_type": "stream",
     "text": [
      "iter 2 of 5\n"
     ]
    },
    {
     "name": "stderr",
     "output_type": "stream",
     "text": [
      "/home/z1157095/hypernet-cnn/deps/node/node/lib/odst.py:72: UserWarning: __floordiv__ is deprecated, and its behavior will change in a future version of pytorch. It currently rounds toward 0 (like the 'trunc' function NOT 'floor'). This results in incorrect rounding for negative values. To keep the current behavior, use torch.div(a, b, rounding_mode='trunc'), or for actual floor division, use torch.div(a, b, rounding_mode='floor').\n",
      "  bin_codes = (indices.view(1, -1) // offsets.view(-1, 1) % 2).to(torch.float32)\n"
     ]
    },
    {
     "name": "stdout",
     "output_type": "stream",
     "text": [
      "iter 3 of 5\n"
     ]
    },
    {
     "name": "stderr",
     "output_type": "stream",
     "text": [
      "/home/z1157095/hypernet-cnn/deps/node/node/lib/odst.py:72: UserWarning: __floordiv__ is deprecated, and its behavior will change in a future version of pytorch. It currently rounds toward 0 (like the 'trunc' function NOT 'floor'). This results in incorrect rounding for negative values. To keep the current behavior, use torch.div(a, b, rounding_mode='trunc'), or for actual floor division, use torch.div(a, b, rounding_mode='floor').\n",
      "  bin_codes = (indices.view(1, -1) // offsets.view(-1, 1) % 2).to(torch.float32)\n"
     ]
    },
    {
     "name": "stdout",
     "output_type": "stream",
     "text": [
      "iter 4 of 5\n"
     ]
    },
    {
     "name": "stderr",
     "output_type": "stream",
     "text": [
      "/home/z1157095/hypernet-cnn/deps/node/node/lib/odst.py:72: UserWarning: __floordiv__ is deprecated, and its behavior will change in a future version of pytorch. It currently rounds toward 0 (like the 'trunc' function NOT 'floor'). This results in incorrect rounding for negative values. To keep the current behavior, use torch.div(a, b, rounding_mode='trunc'), or for actual floor division, use torch.div(a, b, rounding_mode='floor').\n",
      "  bin_codes = (indices.view(1, -1) // offsets.view(-1, 1) % 2).to(torch.float32)\n"
     ]
    },
    {
     "name": "stdout",
     "output_type": "stream",
     "text": [
      "iter 5 of 5\n"
     ]
    },
    {
     "name": "stderr",
     "output_type": "stream",
     "text": [
      "/home/z1157095/hypernet-cnn/deps/node/node/lib/odst.py:72: UserWarning: __floordiv__ is deprecated, and its behavior will change in a future version of pytorch. It currently rounds toward 0 (like the 'trunc' function NOT 'floor'). This results in incorrect rounding for negative values. To keep the current behavior, use torch.div(a, b, rounding_mode='trunc'), or for actual floor division, use torch.div(a, b, rounding_mode='floor').\n",
      "  bin_codes = (indices.view(1, -1) // offsets.view(-1, 1) % 2).to(torch.float32)\n"
     ]
    },
    {
     "name": "stdout",
     "output_type": "stream",
     "text": [
      "iter 1 of 5\n"
     ]
    },
    {
     "name": "stderr",
     "output_type": "stream",
     "text": [
      "/home/z1157095/hypernet-cnn/deps/node/node/lib/odst.py:72: UserWarning: __floordiv__ is deprecated, and its behavior will change in a future version of pytorch. It currently rounds toward 0 (like the 'trunc' function NOT 'floor'). This results in incorrect rounding for negative values. To keep the current behavior, use torch.div(a, b, rounding_mode='trunc'), or for actual floor division, use torch.div(a, b, rounding_mode='floor').\n",
      "  bin_codes = (indices.view(1, -1) // offsets.view(-1, 1) % 2).to(torch.float32)\n"
     ]
    },
    {
     "name": "stdout",
     "output_type": "stream",
     "text": [
      "iter 2 of 5\n"
     ]
    },
    {
     "name": "stderr",
     "output_type": "stream",
     "text": [
      "/home/z1157095/hypernet-cnn/deps/node/node/lib/odst.py:72: UserWarning: __floordiv__ is deprecated, and its behavior will change in a future version of pytorch. It currently rounds toward 0 (like the 'trunc' function NOT 'floor'). This results in incorrect rounding for negative values. To keep the current behavior, use torch.div(a, b, rounding_mode='trunc'), or for actual floor division, use torch.div(a, b, rounding_mode='floor').\n",
      "  bin_codes = (indices.view(1, -1) // offsets.view(-1, 1) % 2).to(torch.float32)\n"
     ]
    },
    {
     "name": "stdout",
     "output_type": "stream",
     "text": [
      "iter 3 of 5\n"
     ]
    },
    {
     "name": "stderr",
     "output_type": "stream",
     "text": [
      "/home/z1157095/hypernet-cnn/deps/node/node/lib/odst.py:72: UserWarning: __floordiv__ is deprecated, and its behavior will change in a future version of pytorch. It currently rounds toward 0 (like the 'trunc' function NOT 'floor'). This results in incorrect rounding for negative values. To keep the current behavior, use torch.div(a, b, rounding_mode='trunc'), or for actual floor division, use torch.div(a, b, rounding_mode='floor').\n",
      "  bin_codes = (indices.view(1, -1) // offsets.view(-1, 1) % 2).to(torch.float32)\n"
     ]
    },
    {
     "name": "stdout",
     "output_type": "stream",
     "text": [
      "iter 4 of 5\n"
     ]
    },
    {
     "name": "stderr",
     "output_type": "stream",
     "text": [
      "/home/z1157095/hypernet-cnn/deps/node/node/lib/odst.py:72: UserWarning: __floordiv__ is deprecated, and its behavior will change in a future version of pytorch. It currently rounds toward 0 (like the 'trunc' function NOT 'floor'). This results in incorrect rounding for negative values. To keep the current behavior, use torch.div(a, b, rounding_mode='trunc'), or for actual floor division, use torch.div(a, b, rounding_mode='floor').\n",
      "  bin_codes = (indices.view(1, -1) // offsets.view(-1, 1) % 2).to(torch.float32)\n"
     ]
    },
    {
     "name": "stdout",
     "output_type": "stream",
     "text": [
      "iter 5 of 5\n"
     ]
    },
    {
     "name": "stderr",
     "output_type": "stream",
     "text": [
      "/home/z1157095/hypernet-cnn/deps/node/node/lib/odst.py:72: UserWarning: __floordiv__ is deprecated, and its behavior will change in a future version of pytorch. It currently rounds toward 0 (like the 'trunc' function NOT 'floor'). This results in incorrect rounding for negative values. To keep the current behavior, use torch.div(a, b, rounding_mode='trunc'), or for actual floor division, use torch.div(a, b, rounding_mode='floor').\n",
      "  bin_codes = (indices.view(1, -1) // offsets.view(-1, 1) % 2).to(torch.float32)\n"
     ]
    },
    {
     "name": "stdout",
     "output_type": "stream",
     "text": [
      "iter 1 of 5\n"
     ]
    },
    {
     "name": "stderr",
     "output_type": "stream",
     "text": [
      "/home/z1157095/hypernet-cnn/deps/node/node/lib/odst.py:72: UserWarning: __floordiv__ is deprecated, and its behavior will change in a future version of pytorch. It currently rounds toward 0 (like the 'trunc' function NOT 'floor'). This results in incorrect rounding for negative values. To keep the current behavior, use torch.div(a, b, rounding_mode='trunc'), or for actual floor division, use torch.div(a, b, rounding_mode='floor').\n",
      "  bin_codes = (indices.view(1, -1) // offsets.view(-1, 1) % 2).to(torch.float32)\n"
     ]
    },
    {
     "name": "stdout",
     "output_type": "stream",
     "text": [
      "iter 2 of 5\n"
     ]
    },
    {
     "name": "stderr",
     "output_type": "stream",
     "text": [
      "/home/z1157095/hypernet-cnn/deps/node/node/lib/odst.py:72: UserWarning: __floordiv__ is deprecated, and its behavior will change in a future version of pytorch. It currently rounds toward 0 (like the 'trunc' function NOT 'floor'). This results in incorrect rounding for negative values. To keep the current behavior, use torch.div(a, b, rounding_mode='trunc'), or for actual floor division, use torch.div(a, b, rounding_mode='floor').\n",
      "  bin_codes = (indices.view(1, -1) // offsets.view(-1, 1) % 2).to(torch.float32)\n"
     ]
    },
    {
     "name": "stdout",
     "output_type": "stream",
     "text": [
      "iter 3 of 5\n"
     ]
    },
    {
     "name": "stderr",
     "output_type": "stream",
     "text": [
      "/home/z1157095/hypernet-cnn/deps/node/node/lib/odst.py:72: UserWarning: __floordiv__ is deprecated, and its behavior will change in a future version of pytorch. It currently rounds toward 0 (like the 'trunc' function NOT 'floor'). This results in incorrect rounding for negative values. To keep the current behavior, use torch.div(a, b, rounding_mode='trunc'), or for actual floor division, use torch.div(a, b, rounding_mode='floor').\n",
      "  bin_codes = (indices.view(1, -1) // offsets.view(-1, 1) % 2).to(torch.float32)\n"
     ]
    },
    {
     "name": "stdout",
     "output_type": "stream",
     "text": [
      "iter 4 of 5\n"
     ]
    },
    {
     "name": "stderr",
     "output_type": "stream",
     "text": [
      "/home/z1157095/hypernet-cnn/deps/node/node/lib/odst.py:72: UserWarning: __floordiv__ is deprecated, and its behavior will change in a future version of pytorch. It currently rounds toward 0 (like the 'trunc' function NOT 'floor'). This results in incorrect rounding for negative values. To keep the current behavior, use torch.div(a, b, rounding_mode='trunc'), or for actual floor division, use torch.div(a, b, rounding_mode='floor').\n",
      "  bin_codes = (indices.view(1, -1) // offsets.view(-1, 1) % 2).to(torch.float32)\n"
     ]
    },
    {
     "name": "stdout",
     "output_type": "stream",
     "text": [
      "iter 5 of 5\n"
     ]
    },
    {
     "name": "stderr",
     "output_type": "stream",
     "text": [
      "/home/z1157095/hypernet-cnn/deps/node/node/lib/odst.py:72: UserWarning: __floordiv__ is deprecated, and its behavior will change in a future version of pytorch. It currently rounds toward 0 (like the 'trunc' function NOT 'floor'). This results in incorrect rounding for negative values. To keep the current behavior, use torch.div(a, b, rounding_mode='trunc'), or for actual floor division, use torch.div(a, b, rounding_mode='floor').\n",
      "  bin_codes = (indices.view(1, -1) // offsets.view(-1, 1) % 2).to(torch.float32)\n"
     ]
    },
    {
     "name": "stdout",
     "output_type": "stream",
     "text": [
      "iter 1 of 5\n"
     ]
    },
    {
     "name": "stderr",
     "output_type": "stream",
     "text": [
      "/home/z1157095/hypernet-cnn/deps/node/node/lib/odst.py:72: UserWarning: __floordiv__ is deprecated, and its behavior will change in a future version of pytorch. It currently rounds toward 0 (like the 'trunc' function NOT 'floor'). This results in incorrect rounding for negative values. To keep the current behavior, use torch.div(a, b, rounding_mode='trunc'), or for actual floor division, use torch.div(a, b, rounding_mode='floor').\n",
      "  bin_codes = (indices.view(1, -1) // offsets.view(-1, 1) % 2).to(torch.float32)\n"
     ]
    },
    {
     "name": "stdout",
     "output_type": "stream",
     "text": [
      "iter 2 of 5\n"
     ]
    },
    {
     "name": "stderr",
     "output_type": "stream",
     "text": [
      "/home/z1157095/hypernet-cnn/deps/node/node/lib/odst.py:72: UserWarning: __floordiv__ is deprecated, and its behavior will change in a future version of pytorch. It currently rounds toward 0 (like the 'trunc' function NOT 'floor'). This results in incorrect rounding for negative values. To keep the current behavior, use torch.div(a, b, rounding_mode='trunc'), or for actual floor division, use torch.div(a, b, rounding_mode='floor').\n",
      "  bin_codes = (indices.view(1, -1) // offsets.view(-1, 1) % 2).to(torch.float32)\n"
     ]
    },
    {
     "name": "stdout",
     "output_type": "stream",
     "text": [
      "iter 3 of 5\n"
     ]
    },
    {
     "name": "stderr",
     "output_type": "stream",
     "text": [
      "/home/z1157095/hypernet-cnn/deps/node/node/lib/odst.py:72: UserWarning: __floordiv__ is deprecated, and its behavior will change in a future version of pytorch. It currently rounds toward 0 (like the 'trunc' function NOT 'floor'). This results in incorrect rounding for negative values. To keep the current behavior, use torch.div(a, b, rounding_mode='trunc'), or for actual floor division, use torch.div(a, b, rounding_mode='floor').\n",
      "  bin_codes = (indices.view(1, -1) // offsets.view(-1, 1) % 2).to(torch.float32)\n"
     ]
    },
    {
     "name": "stdout",
     "output_type": "stream",
     "text": [
      "iter 4 of 5\n"
     ]
    },
    {
     "name": "stderr",
     "output_type": "stream",
     "text": [
      "/home/z1157095/hypernet-cnn/deps/node/node/lib/odst.py:72: UserWarning: __floordiv__ is deprecated, and its behavior will change in a future version of pytorch. It currently rounds toward 0 (like the 'trunc' function NOT 'floor'). This results in incorrect rounding for negative values. To keep the current behavior, use torch.div(a, b, rounding_mode='trunc'), or for actual floor division, use torch.div(a, b, rounding_mode='floor').\n",
      "  bin_codes = (indices.view(1, -1) // offsets.view(-1, 1) % 2).to(torch.float32)\n"
     ]
    },
    {
     "name": "stdout",
     "output_type": "stream",
     "text": [
      "iter 5 of 5\n"
     ]
    },
    {
     "name": "stderr",
     "output_type": "stream",
     "text": [
      "/home/z1157095/hypernet-cnn/deps/node/node/lib/odst.py:72: UserWarning: __floordiv__ is deprecated, and its behavior will change in a future version of pytorch. It currently rounds toward 0 (like the 'trunc' function NOT 'floor'). This results in incorrect rounding for negative values. To keep the current behavior, use torch.div(a, b, rounding_mode='trunc'), or for actual floor division, use torch.div(a, b, rounding_mode='floor').\n",
      "  bin_codes = (indices.view(1, -1) // offsets.view(-1, 1) % 2).to(torch.float32)\n"
     ]
    },
    {
     "name": "stdout",
     "output_type": "stream",
     "text": [
      "iter 1 of 5\n"
     ]
    },
    {
     "name": "stderr",
     "output_type": "stream",
     "text": [
      "/home/z1157095/hypernet-cnn/deps/node/node/lib/odst.py:72: UserWarning: __floordiv__ is deprecated, and its behavior will change in a future version of pytorch. It currently rounds toward 0 (like the 'trunc' function NOT 'floor'). This results in incorrect rounding for negative values. To keep the current behavior, use torch.div(a, b, rounding_mode='trunc'), or for actual floor division, use torch.div(a, b, rounding_mode='floor').\n",
      "  bin_codes = (indices.view(1, -1) // offsets.view(-1, 1) % 2).to(torch.float32)\n"
     ]
    },
    {
     "name": "stdout",
     "output_type": "stream",
     "text": [
      "iter 2 of 5\n"
     ]
    },
    {
     "name": "stderr",
     "output_type": "stream",
     "text": [
      "/home/z1157095/hypernet-cnn/deps/node/node/lib/odst.py:72: UserWarning: __floordiv__ is deprecated, and its behavior will change in a future version of pytorch. It currently rounds toward 0 (like the 'trunc' function NOT 'floor'). This results in incorrect rounding for negative values. To keep the current behavior, use torch.div(a, b, rounding_mode='trunc'), or for actual floor division, use torch.div(a, b, rounding_mode='floor').\n",
      "  bin_codes = (indices.view(1, -1) // offsets.view(-1, 1) % 2).to(torch.float32)\n"
     ]
    },
    {
     "name": "stdout",
     "output_type": "stream",
     "text": [
      "iter 3 of 5\n"
     ]
    },
    {
     "name": "stderr",
     "output_type": "stream",
     "text": [
      "/home/z1157095/hypernet-cnn/deps/node/node/lib/odst.py:72: UserWarning: __floordiv__ is deprecated, and its behavior will change in a future version of pytorch. It currently rounds toward 0 (like the 'trunc' function NOT 'floor'). This results in incorrect rounding for negative values. To keep the current behavior, use torch.div(a, b, rounding_mode='trunc'), or for actual floor division, use torch.div(a, b, rounding_mode='floor').\n",
      "  bin_codes = (indices.view(1, -1) // offsets.view(-1, 1) % 2).to(torch.float32)\n"
     ]
    },
    {
     "name": "stdout",
     "output_type": "stream",
     "text": [
      "iter 4 of 5\n"
     ]
    },
    {
     "name": "stderr",
     "output_type": "stream",
     "text": [
      "/home/z1157095/hypernet-cnn/deps/node/node/lib/odst.py:72: UserWarning: __floordiv__ is deprecated, and its behavior will change in a future version of pytorch. It currently rounds toward 0 (like the 'trunc' function NOT 'floor'). This results in incorrect rounding for negative values. To keep the current behavior, use torch.div(a, b, rounding_mode='trunc'), or for actual floor division, use torch.div(a, b, rounding_mode='floor').\n",
      "  bin_codes = (indices.view(1, -1) // offsets.view(-1, 1) % 2).to(torch.float32)\n"
     ]
    },
    {
     "name": "stdout",
     "output_type": "stream",
     "text": [
      "iter 5 of 5\n"
     ]
    },
    {
     "name": "stderr",
     "output_type": "stream",
     "text": [
      "/home/z1157095/hypernet-cnn/deps/node/node/lib/odst.py:72: UserWarning: __floordiv__ is deprecated, and its behavior will change in a future version of pytorch. It currently rounds toward 0 (like the 'trunc' function NOT 'floor'). This results in incorrect rounding for negative values. To keep the current behavior, use torch.div(a, b, rounding_mode='trunc'), or for actual floor division, use torch.div(a, b, rounding_mode='floor').\n",
      "  bin_codes = (indices.view(1, -1) // offsets.view(-1, 1) % 2).to(torch.float32)\n"
     ]
    },
    {
     "name": "stdout",
     "output_type": "stream",
     "text": [
      "iter 1 of 5\n"
     ]
    },
    {
     "name": "stderr",
     "output_type": "stream",
     "text": [
      "/home/z1157095/hypernet-cnn/deps/node/node/lib/odst.py:72: UserWarning: __floordiv__ is deprecated, and its behavior will change in a future version of pytorch. It currently rounds toward 0 (like the 'trunc' function NOT 'floor'). This results in incorrect rounding for negative values. To keep the current behavior, use torch.div(a, b, rounding_mode='trunc'), or for actual floor division, use torch.div(a, b, rounding_mode='floor').\n",
      "  bin_codes = (indices.view(1, -1) // offsets.view(-1, 1) % 2).to(torch.float32)\n"
     ]
    },
    {
     "name": "stdout",
     "output_type": "stream",
     "text": [
      "iter 2 of 5\n"
     ]
    },
    {
     "name": "stderr",
     "output_type": "stream",
     "text": [
      "/home/z1157095/hypernet-cnn/deps/node/node/lib/odst.py:72: UserWarning: __floordiv__ is deprecated, and its behavior will change in a future version of pytorch. It currently rounds toward 0 (like the 'trunc' function NOT 'floor'). This results in incorrect rounding for negative values. To keep the current behavior, use torch.div(a, b, rounding_mode='trunc'), or for actual floor division, use torch.div(a, b, rounding_mode='floor').\n",
      "  bin_codes = (indices.view(1, -1) // offsets.view(-1, 1) % 2).to(torch.float32)\n"
     ]
    },
    {
     "name": "stdout",
     "output_type": "stream",
     "text": [
      "iter 3 of 5\n"
     ]
    },
    {
     "name": "stderr",
     "output_type": "stream",
     "text": [
      "/home/z1157095/hypernet-cnn/deps/node/node/lib/odst.py:72: UserWarning: __floordiv__ is deprecated, and its behavior will change in a future version of pytorch. It currently rounds toward 0 (like the 'trunc' function NOT 'floor'). This results in incorrect rounding for negative values. To keep the current behavior, use torch.div(a, b, rounding_mode='trunc'), or for actual floor division, use torch.div(a, b, rounding_mode='floor').\n",
      "  bin_codes = (indices.view(1, -1) // offsets.view(-1, 1) % 2).to(torch.float32)\n"
     ]
    },
    {
     "name": "stdout",
     "output_type": "stream",
     "text": [
      "iter 4 of 5\n"
     ]
    },
    {
     "name": "stderr",
     "output_type": "stream",
     "text": [
      "/home/z1157095/hypernet-cnn/deps/node/node/lib/odst.py:72: UserWarning: __floordiv__ is deprecated, and its behavior will change in a future version of pytorch. It currently rounds toward 0 (like the 'trunc' function NOT 'floor'). This results in incorrect rounding for negative values. To keep the current behavior, use torch.div(a, b, rounding_mode='trunc'), or for actual floor division, use torch.div(a, b, rounding_mode='floor').\n",
      "  bin_codes = (indices.view(1, -1) // offsets.view(-1, 1) % 2).to(torch.float32)\n"
     ]
    },
    {
     "name": "stdout",
     "output_type": "stream",
     "text": [
      "iter 5 of 5\n"
     ]
    },
    {
     "name": "stderr",
     "output_type": "stream",
     "text": [
      "/home/z1157095/hypernet-cnn/deps/node/node/lib/odst.py:72: UserWarning: __floordiv__ is deprecated, and its behavior will change in a future version of pytorch. It currently rounds toward 0 (like the 'trunc' function NOT 'floor'). This results in incorrect rounding for negative values. To keep the current behavior, use torch.div(a, b, rounding_mode='trunc'), or for actual floor division, use torch.div(a, b, rounding_mode='floor').\n",
      "  bin_codes = (indices.view(1, -1) // offsets.view(-1, 1) % 2).to(torch.float32)\n"
     ]
    },
    {
     "name": "stdout",
     "output_type": "stream",
     "text": [
      "iter 1 of 5\n"
     ]
    },
    {
     "name": "stderr",
     "output_type": "stream",
     "text": [
      "/home/z1157095/hypernet-cnn/deps/node/node/lib/odst.py:72: UserWarning: __floordiv__ is deprecated, and its behavior will change in a future version of pytorch. It currently rounds toward 0 (like the 'trunc' function NOT 'floor'). This results in incorrect rounding for negative values. To keep the current behavior, use torch.div(a, b, rounding_mode='trunc'), or for actual floor division, use torch.div(a, b, rounding_mode='floor').\n",
      "  bin_codes = (indices.view(1, -1) // offsets.view(-1, 1) % 2).to(torch.float32)\n"
     ]
    },
    {
     "name": "stdout",
     "output_type": "stream",
     "text": [
      "iter 2 of 5\n"
     ]
    },
    {
     "name": "stderr",
     "output_type": "stream",
     "text": [
      "/home/z1157095/hypernet-cnn/deps/node/node/lib/odst.py:72: UserWarning: __floordiv__ is deprecated, and its behavior will change in a future version of pytorch. It currently rounds toward 0 (like the 'trunc' function NOT 'floor'). This results in incorrect rounding for negative values. To keep the current behavior, use torch.div(a, b, rounding_mode='trunc'), or for actual floor division, use torch.div(a, b, rounding_mode='floor').\n",
      "  bin_codes = (indices.view(1, -1) // offsets.view(-1, 1) % 2).to(torch.float32)\n"
     ]
    },
    {
     "name": "stdout",
     "output_type": "stream",
     "text": [
      "iter 3 of 5\n"
     ]
    },
    {
     "name": "stderr",
     "output_type": "stream",
     "text": [
      "/home/z1157095/hypernet-cnn/deps/node/node/lib/odst.py:72: UserWarning: __floordiv__ is deprecated, and its behavior will change in a future version of pytorch. It currently rounds toward 0 (like the 'trunc' function NOT 'floor'). This results in incorrect rounding for negative values. To keep the current behavior, use torch.div(a, b, rounding_mode='trunc'), or for actual floor division, use torch.div(a, b, rounding_mode='floor').\n",
      "  bin_codes = (indices.view(1, -1) // offsets.view(-1, 1) % 2).to(torch.float32)\n"
     ]
    },
    {
     "name": "stdout",
     "output_type": "stream",
     "text": [
      "iter 4 of 5\n"
     ]
    },
    {
     "name": "stderr",
     "output_type": "stream",
     "text": [
      "/home/z1157095/hypernet-cnn/deps/node/node/lib/odst.py:72: UserWarning: __floordiv__ is deprecated, and its behavior will change in a future version of pytorch. It currently rounds toward 0 (like the 'trunc' function NOT 'floor'). This results in incorrect rounding for negative values. To keep the current behavior, use torch.div(a, b, rounding_mode='trunc'), or for actual floor division, use torch.div(a, b, rounding_mode='floor').\n",
      "  bin_codes = (indices.view(1, -1) // offsets.view(-1, 1) % 2).to(torch.float32)\n"
     ]
    },
    {
     "name": "stdout",
     "output_type": "stream",
     "text": [
      "iter 5 of 5\n"
     ]
    },
    {
     "name": "stderr",
     "output_type": "stream",
     "text": [
      "/home/z1157095/hypernet-cnn/deps/node/node/lib/odst.py:72: UserWarning: __floordiv__ is deprecated, and its behavior will change in a future version of pytorch. It currently rounds toward 0 (like the 'trunc' function NOT 'floor'). This results in incorrect rounding for negative values. To keep the current behavior, use torch.div(a, b, rounding_mode='trunc'), or for actual floor division, use torch.div(a, b, rounding_mode='floor').\n",
      "  bin_codes = (indices.view(1, -1) // offsets.view(-1, 1) % 2).to(torch.float32)\n"
     ]
    },
    {
     "name": "stdout",
     "output_type": "stream",
     "text": [
      "iter 1 of 5\n"
     ]
    },
    {
     "name": "stderr",
     "output_type": "stream",
     "text": [
      "/home/z1157095/hypernet-cnn/deps/node/node/lib/odst.py:72: UserWarning: __floordiv__ is deprecated, and its behavior will change in a future version of pytorch. It currently rounds toward 0 (like the 'trunc' function NOT 'floor'). This results in incorrect rounding for negative values. To keep the current behavior, use torch.div(a, b, rounding_mode='trunc'), or for actual floor division, use torch.div(a, b, rounding_mode='floor').\n",
      "  bin_codes = (indices.view(1, -1) // offsets.view(-1, 1) % 2).to(torch.float32)\n"
     ]
    },
    {
     "name": "stdout",
     "output_type": "stream",
     "text": [
      "iter 2 of 5\n"
     ]
    },
    {
     "name": "stderr",
     "output_type": "stream",
     "text": [
      "/home/z1157095/hypernet-cnn/deps/node/node/lib/odst.py:72: UserWarning: __floordiv__ is deprecated, and its behavior will change in a future version of pytorch. It currently rounds toward 0 (like the 'trunc' function NOT 'floor'). This results in incorrect rounding for negative values. To keep the current behavior, use torch.div(a, b, rounding_mode='trunc'), or for actual floor division, use torch.div(a, b, rounding_mode='floor').\n",
      "  bin_codes = (indices.view(1, -1) // offsets.view(-1, 1) % 2).to(torch.float32)\n"
     ]
    },
    {
     "name": "stdout",
     "output_type": "stream",
     "text": [
      "iter 3 of 5\n"
     ]
    },
    {
     "name": "stderr",
     "output_type": "stream",
     "text": [
      "/home/z1157095/hypernet-cnn/deps/node/node/lib/odst.py:72: UserWarning: __floordiv__ is deprecated, and its behavior will change in a future version of pytorch. It currently rounds toward 0 (like the 'trunc' function NOT 'floor'). This results in incorrect rounding for negative values. To keep the current behavior, use torch.div(a, b, rounding_mode='trunc'), or for actual floor division, use torch.div(a, b, rounding_mode='floor').\n",
      "  bin_codes = (indices.view(1, -1) // offsets.view(-1, 1) % 2).to(torch.float32)\n"
     ]
    },
    {
     "name": "stdout",
     "output_type": "stream",
     "text": [
      "iter 4 of 5\n"
     ]
    },
    {
     "name": "stderr",
     "output_type": "stream",
     "text": [
      "/home/z1157095/hypernet-cnn/deps/node/node/lib/odst.py:72: UserWarning: __floordiv__ is deprecated, and its behavior will change in a future version of pytorch. It currently rounds toward 0 (like the 'trunc' function NOT 'floor'). This results in incorrect rounding for negative values. To keep the current behavior, use torch.div(a, b, rounding_mode='trunc'), or for actual floor division, use torch.div(a, b, rounding_mode='floor').\n",
      "  bin_codes = (indices.view(1, -1) // offsets.view(-1, 1) % 2).to(torch.float32)\n"
     ]
    },
    {
     "name": "stdout",
     "output_type": "stream",
     "text": [
      "iter 5 of 5\n"
     ]
    },
    {
     "name": "stderr",
     "output_type": "stream",
     "text": [
      "/home/z1157095/hypernet-cnn/deps/node/node/lib/odst.py:72: UserWarning: __floordiv__ is deprecated, and its behavior will change in a future version of pytorch. It currently rounds toward 0 (like the 'trunc' function NOT 'floor'). This results in incorrect rounding for negative values. To keep the current behavior, use torch.div(a, b, rounding_mode='trunc'), or for actual floor division, use torch.div(a, b, rounding_mode='floor').\n",
      "  bin_codes = (indices.view(1, -1) // offsets.view(-1, 1) % 2).to(torch.float32)\n"
     ]
    },
    {
     "name": "stdout",
     "output_type": "stream",
     "text": [
      "iter 1 of 5\n"
     ]
    },
    {
     "name": "stderr",
     "output_type": "stream",
     "text": [
      "/home/z1157095/hypernet-cnn/deps/node/node/lib/odst.py:72: UserWarning: __floordiv__ is deprecated, and its behavior will change in a future version of pytorch. It currently rounds toward 0 (like the 'trunc' function NOT 'floor'). This results in incorrect rounding for negative values. To keep the current behavior, use torch.div(a, b, rounding_mode='trunc'), or for actual floor division, use torch.div(a, b, rounding_mode='floor').\n",
      "  bin_codes = (indices.view(1, -1) // offsets.view(-1, 1) % 2).to(torch.float32)\n"
     ]
    },
    {
     "name": "stdout",
     "output_type": "stream",
     "text": [
      "iter 2 of 5\n"
     ]
    },
    {
     "name": "stderr",
     "output_type": "stream",
     "text": [
      "/home/z1157095/hypernet-cnn/deps/node/node/lib/odst.py:72: UserWarning: __floordiv__ is deprecated, and its behavior will change in a future version of pytorch. It currently rounds toward 0 (like the 'trunc' function NOT 'floor'). This results in incorrect rounding for negative values. To keep the current behavior, use torch.div(a, b, rounding_mode='trunc'), or for actual floor division, use torch.div(a, b, rounding_mode='floor').\n",
      "  bin_codes = (indices.view(1, -1) // offsets.view(-1, 1) % 2).to(torch.float32)\n"
     ]
    },
    {
     "name": "stdout",
     "output_type": "stream",
     "text": [
      "iter 3 of 5\n"
     ]
    },
    {
     "name": "stderr",
     "output_type": "stream",
     "text": [
      "/home/z1157095/hypernet-cnn/deps/node/node/lib/odst.py:72: UserWarning: __floordiv__ is deprecated, and its behavior will change in a future version of pytorch. It currently rounds toward 0 (like the 'trunc' function NOT 'floor'). This results in incorrect rounding for negative values. To keep the current behavior, use torch.div(a, b, rounding_mode='trunc'), or for actual floor division, use torch.div(a, b, rounding_mode='floor').\n",
      "  bin_codes = (indices.view(1, -1) // offsets.view(-1, 1) % 2).to(torch.float32)\n"
     ]
    },
    {
     "name": "stdout",
     "output_type": "stream",
     "text": [
      "iter 4 of 5\n"
     ]
    },
    {
     "name": "stderr",
     "output_type": "stream",
     "text": [
      "/home/z1157095/hypernet-cnn/deps/node/node/lib/odst.py:72: UserWarning: __floordiv__ is deprecated, and its behavior will change in a future version of pytorch. It currently rounds toward 0 (like the 'trunc' function NOT 'floor'). This results in incorrect rounding for negative values. To keep the current behavior, use torch.div(a, b, rounding_mode='trunc'), or for actual floor division, use torch.div(a, b, rounding_mode='floor').\n",
      "  bin_codes = (indices.view(1, -1) // offsets.view(-1, 1) % 2).to(torch.float32)\n"
     ]
    },
    {
     "name": "stdout",
     "output_type": "stream",
     "text": [
      "iter 5 of 5\n"
     ]
    },
    {
     "name": "stderr",
     "output_type": "stream",
     "text": [
      "/home/z1157095/hypernet-cnn/deps/node/node/lib/odst.py:72: UserWarning: __floordiv__ is deprecated, and its behavior will change in a future version of pytorch. It currently rounds toward 0 (like the 'trunc' function NOT 'floor'). This results in incorrect rounding for negative values. To keep the current behavior, use torch.div(a, b, rounding_mode='trunc'), or for actual floor division, use torch.div(a, b, rounding_mode='floor').\n",
      "  bin_codes = (indices.view(1, -1) // offsets.view(-1, 1) % 2).to(torch.float32)\n"
     ]
    },
    {
     "name": "stdout",
     "output_type": "stream",
     "text": [
      "====================== Summary ======================\n",
      "Mode              : Best f : Steps : Time            \n",
      "----------------  : ----   : ----  : ----            \n",
      "Initial solution  : 98.87  : 1     : 03:50 (m:s)     \n",
      "Random seeding    : 99.1   : 10    : 01:29:04 (h:m:s)\n",
      "Local sampling    : 98.97  : 22    : 01:23:19 (h:m:s)\n",
      "Duplicates        : -      : 72    : -               \n",
      "----------------  : ----   : ----  : ----            \n",
      "Total             : 99.1   : 105   : 02:56:14 (h:m:s)\n",
      "=====================================================\n",
      "mfeat_node_fn_{'layer_dim': 64, 'num_layers': 2, 'depth': 5, 'batch_size': 128}\n"
     ]
    },
    {
     "data": {
      "text/plain": [
       "{'layer_dim': 64, 'num_layers': 2, 'depth': 5, 'batch_size': 128}"
      ]
     },
     "execution_count": 44,
     "metadata": {},
     "output_type": "execute_result"
    }
   ],
   "source": [
    "# 'layer_dim': hp.quniform('layer_dim', 100, 1200, 100),\n",
    "# 'num_layers': hp.quniform('num_layers', 1, 4, 1),\n",
    "# 'depth': hp.quniform('depth', 2, 7, 1)\n",
    "                    \n",
    "param_grid = {\n",
    "    'layer_dim': pyhopper.int(64, 512, power_of=2), #1024\n",
    "    'num_layers': pyhopper.int(1, 5),\n",
    "    'depth': pyhopper.int(2, 7),\n",
    "    'batch_size': pyhopper.choice([128]),\n",
    "}\n",
    "\n",
    "node_best, node_history = pyhopper_best_params(node_fn, param_grid, time=\"180m\", n_jobs=1)\n",
    "node_best"
   ]
  },
  {
   "cell_type": "code",
   "execution_count": null,
   "id": "6c8e91b1",
   "metadata": {},
   "outputs": [],
   "source": []
  },
  {
   "cell_type": "markdown",
   "id": "e7772daf",
   "metadata": {},
   "source": [
    "#### Use best hyperparams"
   ]
  },
  {
   "cell_type": "code",
   "execution_count": 45,
   "id": "f6e447c1-63a6-4c90-b22e-5e0852817f9b",
   "metadata": {
    "tags": []
   },
   "outputs": [
    {
     "name": "stdout",
     "output_type": "stream",
     "text": [
      "iter 1 of 10\n",
      "iter 2 of 10\n",
      "iter 3 of 10\n",
      "iter 4 of 10\n",
      "iter 5 of 10\n",
      "iter 6 of 10\n",
      "iter 7 of 10\n",
      "iter 8 of 10\n",
      "iter 9 of 10\n",
      "iter 10 of 10\n",
      "1400: nan ~ nan, (max: nan)\n"
     ]
    }
   ],
   "source": [
    "%%capture --no-stdout\n",
    "\n",
    "size=max_size\n",
    "\n",
    "node_results = test_model(node_fn(**node_best),\n",
    "                    (X, y),\n",
    "                    size,\n",
    "                    label_encoder=None, iters=10)\n",
    "res = node_results[node_results[\"Class\"]==\"roc_auc\"].reset_index(drop=True)[\"Metric\"]\n",
    "print(f\"{size}: {res.mean():.2f} ~ {res.std():.2f}, (max: {res.max():.2f})\")"
   ]
  },
  {
   "cell_type": "code",
   "execution_count": null,
   "id": "8437ea73-72bf-4b18-94d4-eb58a8da9792",
   "metadata": {},
   "outputs": [],
   "source": []
  },
  {
   "cell_type": "code",
   "execution_count": null,
   "id": "11d696b0-f5b6-4508-9fff-5166fad29e9a",
   "metadata": {},
   "outputs": [],
   "source": []
  },
  {
   "cell_type": "markdown",
   "id": "753c2e4d-aca4-4eb1-b3ea-a1926fd44efe",
   "metadata": {},
   "source": [
    "### Dropout Neural network"
   ]
  },
  {
   "cell_type": "code",
   "execution_count": 46,
   "id": "9c97f270-5e57-4cea-b2f1-3204451b0f0f",
   "metadata": {},
   "outputs": [],
   "source": [
    "def network_fn1(epochs=100, drop1=0.3, drop2=0.5, batch_size=32, lr=3e-4):\n",
    "    \n",
    "    def _inner():\n",
    "        network = torch.nn.Sequential(\n",
    "                        torch.nn.Dropout(drop1),\n",
    "                        torch.nn.Linear(n_features, 64),\n",
    "                        torch.nn.ReLU(),\n",
    "                        torch.nn.Dropout(drop2),\n",
    "                        torch.nn.Linear(64, n_classes)\n",
    "                    ).to(DEVICE).train()\n",
    "\n",
    "        network = SimpleSklearnInterface(network, epochs=epochs, batch_size=batch_size, lr=lr)\n",
    "        return network\n",
    "    return _inner\n",
    "\n",
    "\n",
    "\n",
    "def network_fn2(epochs=100, drop1=0.3, drop2=0.5, drop3=0.5, batch_size=32, lr=3e-4):\n",
    "    \n",
    "    def _inner():\n",
    "        network = torch.nn.Sequential(\n",
    "                        torch.nn.Dropout(drop1),\n",
    "                        torch.nn.Linear(n_features, 64),\n",
    "                        torch.nn.ReLU(),\n",
    "                        torch.nn.Dropout(drop2),\n",
    "                        torch.nn.Linear(64, 64),\n",
    "                        torch.nn.ReLU(),\n",
    "                        torch.nn.Dropout(drop3),\n",
    "                        torch.nn.Linear(64, n_classes)\n",
    "                    ).to(DEVICE).train()\n",
    "\n",
    "        network = SimpleSklearnInterface(network, epochs=epochs, batch_size=batch_size, lr=lr)\n",
    "        return network\n",
    "    return _inner\n",
    "\n",
    "\n",
    "\n",
    "def network_fn3(epochs=100, drop1=0.3, drop2=0.5, drop3=0.5, drop4=0.5, batch_size=32, lr=3e-4):\n",
    "    \n",
    "    def _inner():\n",
    "        network = torch.nn.Sequential(\n",
    "                        torch.nn.Dropout(drop1),\n",
    "                        torch.nn.Linear(n_features, 64),\n",
    "                        torch.nn.ReLU(),\n",
    "                        torch.nn.Dropout(drop2),\n",
    "                        torch.nn.Linear(64, 128),\n",
    "                        torch.nn.ReLU(),\n",
    "                        torch.nn.Dropout(drop3),\n",
    "                        torch.nn.Linear(128, 64),\n",
    "                        torch.nn.ReLU(),\n",
    "                        torch.nn.Dropout(drop4),\n",
    "                        torch.nn.Linear(64, n_classes)\n",
    "                    ).to(DEVICE).train()\n",
    "\n",
    "        network = SimpleSklearnInterface(network, epochs=epochs, batch_size=batch_size, lr=lr)\n",
    "        return network\n",
    "    return _inner"
   ]
  },
  {
   "cell_type": "code",
   "execution_count": null,
   "id": "cb7bb2f6",
   "metadata": {},
   "outputs": [],
   "source": []
  },
  {
   "cell_type": "markdown",
   "id": "64652732",
   "metadata": {},
   "source": [
    "#### Find Hyperparams"
   ]
  },
  {
   "cell_type": "markdown",
   "id": "256e43a3",
   "metadata": {},
   "source": [
    "### Dropout 1 layer"
   ]
  },
  {
   "cell_type": "code",
   "execution_count": 47,
   "id": "41850a57",
   "metadata": {
    "scrolled": true
   },
   "outputs": [
    {
     "name": "stderr",
     "output_type": "stream",
     "text": [
      "2022-12-21 21:52:20.002 | INFO     | __main__:pyhopper_best_params:7 - pyhopper_best_params network_fn1\n"
     ]
    },
    {
     "data": {
      "application/vnd.jupyter.widget-view+json": {
       "model_id": "834f53fe41874e1ca83a08ab2cc5e2d8",
       "version_major": 2,
       "version_minor": 0
      },
      "text/plain": [
       "  0%|          | [00:00<?]"
      ]
     },
     "metadata": {},
     "output_type": "display_data"
    },
    {
     "name": "stdout",
     "output_type": "stream",
     "text": [
      "Search is scheduled for 01:00:00 (h:m:s)\n",
      "iter 1 of 5\n",
      "iter 2 of 5\n",
      "iter 3 of 5\n",
      "iter 4 of 5\n",
      "iter 5 of 5\n",
      "iter 1 of 5\n",
      "iter 2 of 5\n",
      "iter 3 of 5\n",
      "iter 4 of 5\n",
      "iter 5 of 5\n",
      "iter 1 of 5\n",
      "iter 2 of 5\n",
      "iter 3 of 5\n",
      "iter 4 of 5\n",
      "iter 5 of 5\n",
      "iter 1 of 5\n",
      "iter 2 of 5\n",
      "iter 3 of 5\n",
      "iter 4 of 5\n",
      "iter 5 of 5\n",
      "iter 1 of 5\n",
      "iter 2 of 5\n",
      "iter 3 of 5\n",
      "iter 4 of 5\n",
      "iter 5 of 5\n",
      "iter 1 of 5\n",
      "iter 2 of 5\n",
      "iter 3 of 5\n",
      "iter 4 of 5\n",
      "iter 5 of 5\n",
      "iter 1 of 5\n",
      "iter 2 of 5\n",
      "iter 3 of 5\n",
      "iter 4 of 5\n",
      "iter 5 of 5\n",
      "iter 1 of 5\n",
      "iter 2 of 5\n",
      "iter 3 of 5\n",
      "iter 4 of 5\n",
      "iter 5 of 5\n",
      "iter 1 of 5\n",
      "iter 2 of 5\n",
      "iter 3 of 5\n",
      "iter 4 of 5\n",
      "iter 5 of 5\n",
      "iter 1 of 5\n",
      "iter 2 of 5\n",
      "iter 3 of 5\n",
      "iter 4 of 5\n",
      "iter 5 of 5\n",
      "iter 1 of 5\n",
      "iter 2 of 5\n",
      "iter 3 of 5\n",
      "iter 4 of 5\n",
      "iter 5 of 5\n",
      "iter 1 of 5\n",
      "iter 2 of 5\n",
      "iter 3 of 5\n",
      "iter 4 of 5\n",
      "iter 5 of 5\n",
      "iter 1 of 5\n",
      "iter 2 of 5\n",
      "iter 3 of 5\n",
      "iter 4 of 5\n",
      "iter 5 of 5\n",
      "iter 1 of 5\n",
      "iter 2 of 5\n",
      "iter 3 of 5\n",
      "iter 4 of 5\n",
      "iter 5 of 5\n",
      "iter 1 of 5\n",
      "iter 2 of 5\n",
      "iter 3 of 5\n",
      "iter 4 of 5\n",
      "iter 5 of 5\n",
      "iter 1 of 5\n",
      "iter 2 of 5\n",
      "iter 3 of 5\n",
      "iter 4 of 5\n",
      "iter 5 of 5\n",
      "iter 1 of 5\n",
      "iter 2 of 5\n",
      "iter 3 of 5\n",
      "iter 4 of 5\n",
      "iter 5 of 5\n",
      "iter 1 of 5\n",
      "iter 2 of 5\n",
      "iter 3 of 5\n",
      "iter 4 of 5\n",
      "iter 5 of 5\n",
      "iter 1 of 5\n",
      "iter 2 of 5\n",
      "iter 3 of 5\n",
      "iter 4 of 5\n",
      "iter 5 of 5\n",
      "iter 1 of 5\n",
      "iter 2 of 5\n",
      "iter 3 of 5\n",
      "iter 4 of 5\n",
      "iter 5 of 5\n",
      "iter 1 of 5\n",
      "iter 2 of 5\n",
      "iter 3 of 5\n",
      "iter 4 of 5\n",
      "iter 5 of 5\n",
      "iter 1 of 5\n",
      "iter 2 of 5\n",
      "iter 3 of 5\n",
      "iter 4 of 5\n",
      "iter 5 of 5\n",
      "iter 1 of 5\n",
      "iter 2 of 5\n",
      "iter 3 of 5\n",
      "iter 4 of 5\n",
      "iter 5 of 5\n",
      "iter 1 of 5\n",
      "iter 2 of 5\n",
      "iter 3 of 5\n",
      "iter 4 of 5\n",
      "iter 5 of 5\n",
      "iter 1 of 5\n",
      "iter 2 of 5\n",
      "iter 3 of 5\n",
      "iter 4 of 5\n",
      "iter 5 of 5\n",
      "iter 1 of 5\n",
      "iter 2 of 5\n",
      "iter 3 of 5\n",
      "iter 3 of 5\n",
      "iter 4 of 5\n",
      "iter 5 of 5\n",
      "iter 1 of 5\n",
      "iter 2 of 5\n",
      "iter 3 of 5\n",
      "iter 4 of 5\n",
      "iter 5 of 5\n",
      "iter 1 of 5\n",
      "iter 2 of 5\n",
      "iter 3 of 5\n",
      "iter 4 of 5\n",
      "iter 5 of 5\n",
      "iter 1 of 5\n",
      "iter 2 of 5\n",
      "iter 3 of 5\n",
      "iter 4 of 5\n",
      "iter 5 of 5\n",
      "==================== Summary ===================\n",
      "Mode              : Best f : Steps : Time       \n",
      "----------------  : ----   : ----  : ----       \n",
      "Initial solution  : 96.33  : 1     : 01:46 (m:s)\n",
      "Random seeding    : 98.7   : 14    : 29:17 (m:s)\n",
      "Local sampling    : 99.1   : 15    : 27:02 (m:s)\n",
      "Duplicates        : -      : 12    : -          \n",
      "----------------  : ----   : ----  : ----       \n",
      "Total             : 99.1   : 42    : 58:05 (m:s)\n",
      "================================================\n",
      "mfeat_network_fn1_{'epochs': 100, 'drop1': 0.5, 'drop2': 0.7, 'lr': 0.003, 'batch_size': 128}\n"
     ]
    },
    {
     "data": {
      "text/plain": [
       "{'epochs': 100, 'drop1': 0.5, 'drop2': 0.7, 'lr': 0.003, 'batch_size': 128}"
      ]
     },
     "execution_count": 47,
     "metadata": {},
     "output_type": "execute_result"
    }
   ],
   "source": [
    "param_grid = {\n",
    "                \"epochs\": pyhopper.choice([100, 150]),\n",
    "                \"drop1\": pyhopper.choice([0.1, 0.3, 0.5, 0.7], is_ordinal=True),\n",
    "                \"drop2\": pyhopper.choice([0.1, 0.3, 0.5, 0.7], is_ordinal=True),\n",
    "                \"lr\": pyhopper.choice([3e-5, 3e-4, 3e-3, 3e-2]),\n",
    "                \"batch_size\": pyhopper.choice([128]),\n",
    "             }\n",
    "\n",
    "nn_fn1_best_params, nn_fn1_history = pyhopper_best_params(network_fn1, param_grid, time=\"60m\")\n",
    "nn_fn1_best_params"
   ]
  },
  {
   "cell_type": "code",
   "execution_count": 48,
   "id": "7b0143ba",
   "metadata": {},
   "outputs": [
    {
     "name": "stdout",
     "output_type": "stream",
     "text": [
      "iter 1 of 10\n",
      "iter 2 of 10\n",
      "iter 3 of 10\n",
      "iter 4 of 10\n",
      "iter 5 of 10\n",
      "iter 6 of 10\n",
      "iter 7 of 10\n",
      "iter 8 of 10\n",
      "iter 9 of 10\n",
      "iter 10 of 10\n"
     ]
    }
   ],
   "source": [
    "data_size = max_size\n",
    "\n",
    "nn1_results = test_model(network_fn1(**nn_fn1_best_params),\n",
    "                (X, y),\n",
    "                data_size,\n",
    "                None, 10)"
   ]
  },
  {
   "cell_type": "code",
   "execution_count": 49,
   "id": "fb03b139",
   "metadata": {},
   "outputs": [
    {
     "name": "stdout",
     "output_type": "stream",
     "text": [
      "1400: nan ~ nan (max: nan)\n"
     ]
    }
   ],
   "source": [
    "res = nn1_results[nn1_results[\"Class\"]==\"Balanced Acc score\"][\"Metric\"]\n",
    "print(f\"{data_size}: {res.mean():.2f} ~ {res.std():.2f} (max: {res.max():.2f})\")"
   ]
  },
  {
   "cell_type": "markdown",
   "id": "fc25ca37",
   "metadata": {},
   "source": [
    "### Dropout 2 layers"
   ]
  },
  {
   "cell_type": "code",
   "execution_count": 50,
   "id": "6ded59e5",
   "metadata": {},
   "outputs": [
    {
     "name": "stderr",
     "output_type": "stream",
     "text": [
      "2022-12-21 22:53:25.245 | INFO     | __main__:pyhopper_best_params:7 - pyhopper_best_params network_fn2\n"
     ]
    },
    {
     "data": {
      "application/vnd.jupyter.widget-view+json": {
       "model_id": "4270bc29c26d4776a26d6aa8ee557dd8",
       "version_major": 2,
       "version_minor": 0
      },
      "text/plain": [
       "  0%|          | [00:00<?]"
      ]
     },
     "metadata": {},
     "output_type": "display_data"
    },
    {
     "name": "stdout",
     "output_type": "stream",
     "text": [
      "Search is scheduled for 01:10:00 (h:m:s)\n",
      "iter 1 of 5\n",
      "iter 2 of 5\n",
      "iter 3 of 5\n",
      "iter 4 of 5\n",
      "iter 5 of 5\n",
      "iter 1 of 5\n",
      "iter 2 of 5\n",
      "iter 3 of 5\n",
      "iter 4 of 5\n",
      "iter 5 of 5\n",
      "iter 1 of 5\n",
      "iter 2 of 5\n",
      "iter 3 of 5\n",
      "iter 4 of 5\n",
      "iter 5 of 5\n",
      "iter 1 of 5\n",
      "iter 2 of 5\n",
      "iter 3 of 5\n",
      "iter 4 of 5\n",
      "iter 5 of 5\n",
      "iter 1 of 5\n",
      "iter 2 of 5\n",
      "iter 3 of 5\n",
      "iter 4 of 5\n",
      "iter 5 of 5\n",
      "iter 1 of 5\n",
      "iter 2 of 5\n",
      "iter 3 of 5\n",
      "iter 4 of 5\n",
      "iter 5 of 5\n",
      "iter 1 of 5\n",
      "iter 2 of 5\n",
      "iter 3 of 5\n",
      "iter 4 of 5\n",
      "iter 5 of 5\n",
      "iter 1 of 5\n",
      "iter 2 of 5\n",
      "iter 3 of 5\n",
      "iter 4 of 5\n",
      "iter 5 of 5\n",
      "iter 1 of 5\n",
      "iter 2 of 5\n",
      "iter 3 of 5\n",
      "iter 4 of 5\n",
      "iter 5 of 5\n",
      "iter 1 of 5\n",
      "iter 2 of 5\n",
      "iter 3 of 5\n",
      "iter 4 of 5\n",
      "iter 5 of 5\n",
      "iter 1 of 5\n",
      "iter 2 of 5\n",
      "iter 3 of 5\n",
      "iter 4 of 5\n",
      "iter 5 of 5\n",
      "iter 1 of 5\n",
      "iter 2 of 5\n",
      "iter 3 of 5\n",
      "iter 4 of 5\n",
      "iter 5 of 5\n",
      "iter 1 of 5\n",
      "iter 2 of 5\n",
      "iter 3 of 5\n",
      "iter 4 of 5\n",
      "iter 5 of 5\n",
      "iter 1 of 5\n",
      "iter 2 of 5\n",
      "iter 3 of 5\n",
      "iter 4 of 5\n",
      "iter 5 of 5\n",
      "iter 1 of 5\n",
      "iter 2 of 5\n",
      "iter 3 of 5\n",
      "iter 4 of 5\n",
      "iter 5 of 5\n",
      "iter 1 of 5\n",
      "iter 2 of 5\n",
      "iter 3 of 5\n",
      "iter 4 of 5\n",
      "iter 5 of 5\n",
      "iter 1 of 5\n",
      "iter 2 of 5\n",
      "iter 3 of 5\n",
      "iter 4 of 5\n",
      "iter 5 of 5\n",
      "iter 1 of 5\n",
      "iter 2 of 5\n",
      "iter 3 of 5\n",
      "iter 4 of 5\n",
      "iter 5 of 5\n",
      "iter 1 of 5\n",
      "iter 2 of 5\n",
      "iter 3 of 5\n",
      "iter 4 of 5\n",
      "iter 5 of 5\n",
      "iter 1 of 5\n",
      "iter 2 of 5\n",
      "iter 3 of 5\n",
      "iter 4 of 5\n",
      "iter 5 of 5\n",
      "iter 1 of 5\n",
      "iter 2 of 5\n",
      "iter 3 of 5\n",
      "iter 4 of 5\n",
      "iter 5 of 5\n",
      "iter 1 of 5\n",
      "iter 2 of 5\n",
      "iter 3 of 5\n",
      "iter 4 of 5\n",
      "iter 5 of 5\n",
      "iter 1 of 5\n",
      "iter 2 of 5\n",
      "iter 3 of 5\n",
      "iter 4 of 5\n",
      "iter 5 of 5\n",
      "iter 1 of 5\n",
      "iter 2 of 5\n",
      "iter 3 of 5\n",
      "iter 4 of 5\n",
      "iter 5 of 5\n",
      "iter 1 of 5\n",
      "iter 2 of 5\n",
      "iter 3 of 5\n",
      "iter 4 of 5\n",
      "iter 5 of 5\n",
      "iter 1 of 5\n",
      "iter 2 of 5\n",
      "iter 3 of 5\n",
      "iter 4 of 5\n",
      "iter 5 of 5\n",
      "iter 1 of 5\n",
      "iter 2 of 5\n",
      "iter 3 of 5\n",
      "iter 4 of 5\n",
      "iter 5 of 5\n",
      "iter 1 of 5\n",
      "iter 2 of 5\n",
      "iter 3 of 5\n",
      "iter 4 of 5\n",
      "iter 5 of 5\n",
      "iter 1 of 5\n",
      "iter 2 of 5\n",
      "iter 3 of 5\n",
      "iter 4 of 5\n",
      "iter 5 of 5\n",
      "iter 1 of 5\n",
      "iter 2 of 5\n",
      "iter 3 of 5\n",
      "iter 4 of 5\n",
      "iter 5 of 5\n",
      "iter 1 of 5\n",
      "iter 2 of 5\n",
      "iter 3 of 5\n",
      "iter 4 of 5\n",
      "iter 5 of 5\n",
      "iter 1 of 5\n",
      "iter 2 of 5\n",
      "iter 3 of 5\n",
      "iter 4 of 5\n",
      "iter 5 of 5\n",
      "iter 1 of 5\n",
      "iter 2 of 5\n",
      "iter 3 of 5\n",
      "iter 4 of 5\n",
      "iter 5 of 5\n",
      "====================== Summary ======================\n",
      "Mode              : Best f : Steps : Time            \n",
      "----------------  : ----   : ----  : ----            \n",
      "Initial solution  : 96.3   : 1     : 01:27 (m:s)     \n",
      "Random seeding    : 98.67  : 17    : 35:42 (m:s)     \n",
      "Local sampling    : 98.9   : 15    : 30:40 (m:s)     \n",
      "Duplicates        : -      : 16    : -               \n",
      "----------------  : ----   : ----  : ----            \n",
      "Total             : 98.9   : 49    : 01:07:50 (h:m:s)\n",
      "=====================================================\n",
      "mfeat_network_fn2_{'epochs': 150, 'drop1': 0.1, 'drop2': 0.7, 'drop3': 0.1, 'lr': 0.0003, 'batch_size': 128}\n"
     ]
    },
    {
     "data": {
      "text/plain": [
       "{'epochs': 150,\n",
       " 'drop1': 0.1,\n",
       " 'drop2': 0.7,\n",
       " 'drop3': 0.1,\n",
       " 'lr': 0.0003,\n",
       " 'batch_size': 128}"
      ]
     },
     "execution_count": 50,
     "metadata": {},
     "output_type": "execute_result"
    }
   ],
   "source": [
    "param_grid = {\n",
    "                \"epochs\": pyhopper.choice([100, 150]),\n",
    "                \"drop1\": pyhopper.choice([0.1, 0.3, 0.5, 0.7], is_ordinal=True),\n",
    "                \"drop2\": pyhopper.choice([0.1, 0.3, 0.5, 0.7], is_ordinal=True),\n",
    "                \"drop3\": pyhopper.choice([0.1, 0.3, 0.5, 0.7], is_ordinal=True),\n",
    "                \"lr\": pyhopper.choice([3e-5, 3e-4, 3e-3, 3e-2]),\n",
    "                \"batch_size\": pyhopper.choice([128]),\n",
    "             }\n",
    "\n",
    "nn_fn2_best_params, nn_fn2_history = pyhopper_best_params(network_fn2, param_grid, time=\"70m\")\n",
    "nn_fn2_best_params"
   ]
  },
  {
   "cell_type": "code",
   "execution_count": 51,
   "id": "326bbde0",
   "metadata": {},
   "outputs": [
    {
     "name": "stdout",
     "output_type": "stream",
     "text": [
      "iter 1 of 10\n",
      "iter 2 of 10\n",
      "iter 3 of 10\n",
      "iter 4 of 10\n",
      "iter 5 of 10\n",
      "iter 6 of 10\n",
      "iter 7 of 10\n",
      "iter 8 of 10\n",
      "iter 9 of 10\n",
      "iter 10 of 10\n"
     ]
    }
   ],
   "source": [
    "data_size = max_size\n",
    "\n",
    "nn2_results = test_model(network_fn2(**nn_fn2_best_params),\n",
    "                (X, y),\n",
    "                data_size,\n",
    "                None, 10)"
   ]
  },
  {
   "cell_type": "markdown",
   "id": "8349efaf",
   "metadata": {},
   "source": [
    "### Dropout 3 layers"
   ]
  },
  {
   "cell_type": "code",
   "execution_count": 52,
   "id": "5321d73a",
   "metadata": {},
   "outputs": [
    {
     "name": "stderr",
     "output_type": "stream",
     "text": [
      "2022-12-22 00:06:35.152 | INFO     | __main__:pyhopper_best_params:7 - pyhopper_best_params network_fn3\n"
     ]
    },
    {
     "data": {
      "application/vnd.jupyter.widget-view+json": {
       "model_id": "9ffeaf975d5d459dbf4932bfbea5430f",
       "version_major": 2,
       "version_minor": 0
      },
      "text/plain": [
       "  0%|          | [00:00<?]"
      ]
     },
     "metadata": {},
     "output_type": "display_data"
    },
    {
     "name": "stdout",
     "output_type": "stream",
     "text": [
      "Search is scheduled for 01:15:00 (h:m:s)\n",
      "iter 1 of 5\n",
      "iter 2 of 5\n",
      "iter 3 of 5\n",
      "iter 4 of 5\n",
      "iter 5 of 5\n",
      "iter 1 of 5\n",
      "iter 2 of 5\n",
      "iter 3 of 5\n",
      "iter 4 of 5\n",
      "iter 5 of 5\n",
      "iter 1 of 5\n",
      "iter 2 of 5\n",
      "iter 3 of 5\n",
      "iter 4 of 5\n",
      "iter 5 of 5\n",
      "iter 1 of 5\n",
      "iter 2 of 5\n",
      "iter 3 of 5\n",
      "iter 4 of 5\n",
      "iter 5 of 5\n",
      "iter 1 of 5\n",
      "iter 2 of 5\n",
      "iter 3 of 5\n",
      "iter 4 of 5\n",
      "iter 5 of 5\n",
      "iter 1 of 5\n",
      "iter 2 of 5\n",
      "iter 3 of 5\n",
      "iter 4 of 5\n",
      "iter 5 of 5\n",
      "iter 1 of 5\n",
      "iter 2 of 5\n",
      "iter 3 of 5\n",
      "iter 4 of 5\n",
      "iter 5 of 5\n",
      "iter 1 of 5\n",
      "iter 2 of 5\n",
      "iter 3 of 5\n",
      "iter 4 of 5\n",
      "iter 5 of 5\n",
      "iter 1 of 5\n",
      "iter 2 of 5\n",
      "iter 3 of 5\n",
      "iter 4 of 5\n",
      "iter 5 of 5\n",
      "iter 1 of 5\n",
      "iter 2 of 5\n",
      "iter 3 of 5\n",
      "iter 4 of 5\n",
      "iter 5 of 5\n",
      "iter 1 of 5\n",
      "iter 2 of 5\n",
      "iter 3 of 5\n",
      "iter 4 of 5\n",
      "iter 5 of 5\n",
      "iter 1 of 5\n",
      "iter 2 of 5\n",
      "iter 3 of 5\n",
      "iter 4 of 5\n",
      "iter 5 of 5\n",
      "iter 1 of 5\n",
      "iter 2 of 5\n",
      "iter 3 of 5\n",
      "iter 4 of 5\n",
      "iter 5 of 5\n",
      "iter 1 of 5\n",
      "iter 2 of 5\n",
      "iter 3 of 5\n",
      "iter 4 of 5\n",
      "iter 5 of 5\n",
      "iter 1 of 5\n",
      "iter 2 of 5\n",
      "iter 3 of 5\n",
      "iter 4 of 5\n",
      "iter 5 of 5\n",
      "iter 1 of 5\n",
      "iter 2 of 5\n",
      "iter 3 of 5\n",
      "iter 4 of 5\n",
      "iter 5 of 5\n",
      "iter 1 of 5\n",
      "iter 2 of 5\n",
      "iter 3 of 5\n",
      "iter 4 of 5\n",
      "iter 5 of 5\n",
      "iter 1 of 5\n",
      "iter 2 of 5\n",
      "iter 3 of 5\n",
      "iter 4 of 5\n",
      "iter 5 of 5\n",
      "iter 1 of 5\n",
      "iter 2 of 5\n",
      "iter 3 of 5\n",
      "iter 4 of 5\n",
      "iter 5 of 5\n",
      "iter 1 of 5\n",
      "iter 2 of 5\n",
      "iter 3 of 5\n",
      "iter 4 of 5\n",
      "iter 5 of 5\n",
      "iter 1 of 5\n",
      "iter 2 of 5\n",
      "iter 3 of 5\n",
      "iter 4 of 5\n",
      "iter 5 of 5\n",
      "iter 1 of 5\n",
      "iter 2 of 5\n",
      "iter 3 of 5\n",
      "iter 4 of 5\n",
      "iter 5 of 5\n",
      "iter 1 of 5\n",
      "iter 2 of 5\n",
      "iter 3 of 5\n",
      "iter 4 of 5\n",
      "iter 5 of 5\n",
      "iter 1 of 5\n",
      "iter 2 of 5\n",
      "iter 3 of 5\n",
      "iter 4 of 5\n",
      "iter 5 of 5\n",
      "iter 1 of 5\n",
      "iter 2 of 5\n",
      "iter 3 of 5\n",
      "iter 4 of 5\n",
      "iter 5 of 5\n",
      "iter 1 of 5\n",
      "iter 2 of 5\n",
      "iter 3 of 5\n",
      "iter 4 of 5\n",
      "iter 5 of 5\n",
      "iter 1 of 5\n",
      "iter 2 of 5\n",
      "iter 3 of 5\n",
      "iter 4 of 5\n",
      "iter 5 of 5\n",
      "iter 1 of 5\n",
      "iter 2 of 5\n",
      "iter 3 of 5\n",
      "iter 4 of 5\n",
      "iter 5 of 5\n",
      "iter 1 of 5\n",
      "iter 2 of 5\n",
      "iter 3 of 5\n",
      "iter 4 of 5\n",
      "iter 5 of 5\n",
      "iter 1 of 5\n",
      "iter 2 of 5\n",
      "iter 3 of 5\n",
      "iter 4 of 5\n",
      "iter 5 of 5\n",
      "iter 1 of 5\n",
      "iter 2 of 5\n",
      "iter 3 of 5\n",
      "iter 4 of 5\n",
      "iter 5 of 5\n",
      "====================== Summary ======================\n",
      "Mode              : Best f : Steps : Time            \n",
      "----------------  : ----   : ----  : ----            \n",
      "Initial solution  : 96.63  : 1     : 01:49 (m:s)     \n",
      "Random seeding    : 98.6   : 15    : 36:13 (m:s)     \n",
      "Local sampling    : 98.83  : 15    : 35:27 (m:s)     \n",
      "Duplicates        : -      : 7     : -               \n",
      "----------------  : ----   : ----  : ----            \n",
      "Total             : 98.83  : 38    : 01:13:30 (h:m:s)\n",
      "=====================================================\n",
      "mfeat_network_fn3_{'epochs': 150, 'drop1': 0.1, 'drop2': 0.5, 'drop3': 0.1, 'drop4': 0.1, 'lr': 0.003, 'batch_size': 128}\n"
     ]
    },
    {
     "data": {
      "text/plain": [
       "{'epochs': 150,\n",
       " 'drop1': 0.1,\n",
       " 'drop2': 0.5,\n",
       " 'drop3': 0.1,\n",
       " 'drop4': 0.1,\n",
       " 'lr': 0.003,\n",
       " 'batch_size': 128}"
      ]
     },
     "execution_count": 52,
     "metadata": {},
     "output_type": "execute_result"
    }
   ],
   "source": [
    "param_grid = {\n",
    "                \"epochs\": pyhopper.choice([100, 150]),\n",
    "                \"drop1\": pyhopper.choice([0.1, 0.3, 0.5, 0.7], is_ordinal=True),\n",
    "                \"drop2\": pyhopper.choice([0.1, 0.3, 0.5, 0.7], is_ordinal=True),\n",
    "                \"drop3\": pyhopper.choice([0.1, 0.3, 0.5, 0.7], is_ordinal=True),\n",
    "                \"drop4\": pyhopper.choice([0.1, 0.3, 0.5, 0.7], is_ordinal=True),\n",
    "                \"lr\": pyhopper.choice([3e-5, 3e-4, 3e-3, 3e-2]),\n",
    "                \"batch_size\": pyhopper.choice([128]),\n",
    "             }\n",
    "\n",
    "nn_fn3_best_params, nn_fn3_history = pyhopper_best_params(network_fn3, param_grid, time=\"75m\")\n",
    "nn_fn3_best_params"
   ]
  },
  {
   "cell_type": "code",
   "execution_count": 53,
   "id": "aa8b864e",
   "metadata": {},
   "outputs": [
    {
     "name": "stdout",
     "output_type": "stream",
     "text": [
      "iter 1 of 10\n",
      "iter 2 of 10\n",
      "iter 3 of 10\n",
      "iter 4 of 10\n",
      "iter 5 of 10\n",
      "iter 6 of 10\n",
      "iter 7 of 10\n",
      "iter 8 of 10\n",
      "iter 9 of 10\n",
      "iter 10 of 10\n"
     ]
    }
   ],
   "source": [
    "data_size = max_size\n",
    "\n",
    "nn3_results = test_model(network_fn3(**nn_fn3_best_params),\n",
    "                (X, y),\n",
    "                data_size,\n",
    "                None, 10)"
   ]
  },
  {
   "cell_type": "code",
   "execution_count": null,
   "id": "fdb86765-3874-4023-8e26-b40ccc6df903",
   "metadata": {
    "scrolled": true,
    "tags": []
   },
   "outputs": [],
   "source": []
  },
  {
   "cell_type": "markdown",
   "id": "1523b315",
   "metadata": {},
   "source": [
    "### Mask sizes"
   ]
  },
  {
   "cell_type": "code",
   "execution_count": 54,
   "id": "e933db2e",
   "metadata": {},
   "outputs": [
    {
     "data": {
      "text/plain": [
       "[194, 324, 454, 519]"
      ]
     },
     "execution_count": 54,
     "metadata": {},
     "output_type": "execute_result"
    }
   ],
   "source": [
    "mask_sizes = [int(n_features * 0.3), int(n_features * 0.5), int(n_features * 0.7), int(n_features * 0.8)]\n",
    "mask_sizes"
   ]
  },
  {
   "cell_type": "code",
   "execution_count": null,
   "id": "39820e79",
   "metadata": {},
   "outputs": [],
   "source": []
  },
  {
   "cell_type": "markdown",
   "id": "1d60779d-0042-49af-8a32-e6d0b59e1589",
   "metadata": {
    "tags": []
   },
   "source": [
    "### HypernetworkPCA"
   ]
  },
  {
   "cell_type": "code",
   "execution_count": 55,
   "id": "6e5536d6-cf9d-4a2b-9d7b-184c0ac27a84",
   "metadata": {},
   "outputs": [],
   "source": [
    "def network_pca_fn(epochs=100, masks_no=100, mask_size=100, target_size=100, n_comp=5, lr=3e-4, batch_size=64, verbose=False):\n",
    "    def _inner():\n",
    "        hypernet = HypernetworkPCA(\n",
    "                        target_architecture=[(mask_size, target_size), (target_size, n_classes)], \n",
    "                        test_nodes=masks_no,\n",
    "                        architecture=torch.nn.Sequential(torch.nn.Linear(n_comp, 64), \n",
    "                            torch.nn.ReLU(),\n",
    "                            torch.nn.Linear(64, 128),\n",
    "                            torch.nn.ReLU(),\n",
    "                            torch.nn.Dropout(),\n",
    "                            torch.nn.Linear(128, 128),\n",
    "                            torch.nn.ReLU(),\n",
    "                        ),\n",
    "                        mode=TrainingModes.CARTHESIAN,\n",
    "                        input_size=n_features\n",
    "                    ).to(DEVICE)    \n",
    "        hypernet = hypernet.train()\n",
    "\n",
    "        network = HypernetworkSklearnInterface(hypernet, device=DEVICE, epochs=epochs, batch_size=batch_size, verbose=verbose, lr=lr)\n",
    "        return network\n",
    "    return _inner"
   ]
  },
  {
   "cell_type": "code",
   "execution_count": 56,
   "id": "1e43b7af-9be5-427a-be2e-4f134ba1e644",
   "metadata": {},
   "outputs": [],
   "source": [
    "def figure_to_html():\n",
    "    tmpfile = BytesIO()\n",
    "    plt.gcf().savefig(tmpfile, format='png')\n",
    "    encoded = base64.b64encode(tmpfile.getvalue()).decode('utf-8')\n",
    "\n",
    "    html = '<img src=\\'data:image/png;base64,{}\\'>'.format(encoded)\n",
    "    return html"
   ]
  },
  {
   "cell_type": "code",
   "execution_count": null,
   "id": "6a257e5d",
   "metadata": {},
   "outputs": [],
   "source": []
  },
  {
   "cell_type": "markdown",
   "id": "be2e5638-be6d-4a42-8eb4-be84078643bb",
   "metadata": {},
   "source": [
    "#### Find hyperparams"
   ]
  },
  {
   "cell_type": "code",
   "execution_count": 57,
   "id": "45f2e4fc",
   "metadata": {
    "scrolled": true
   },
   "outputs": [
    {
     "name": "stderr",
     "output_type": "stream",
     "text": [
      "2022-12-22 01:25:32.402 | INFO     | __main__:pyhopper_best_params:7 - pyhopper_best_params network_pca_fn\n"
     ]
    },
    {
     "data": {
      "application/vnd.jupyter.widget-view+json": {
       "model_id": "230ad7b8542941f4872ac5b76075f3a2",
       "version_major": 2,
       "version_minor": 0
      },
      "text/plain": [
       "  0%|          | [00:00<?]"
      ]
     },
     "metadata": {},
     "output_type": "display_data"
    },
    {
     "name": "stdout",
     "output_type": "stream",
     "text": [
      "Search is scheduled for 08:00:00 (h:m:s)\n",
      "iter 1 of 5\n",
      "torch.Size([1, 128])\n",
      "649\n",
      "iter 2 of 5\n",
      "torch.Size([1, 128])\n",
      "649\n",
      "iter 3 of 5\n",
      "torch.Size([1, 128])\n",
      "649\n",
      "iter 4 of 5\n",
      "torch.Size([1, 128])\n",
      "649\n",
      "iter 5 of 5\n",
      "torch.Size([1, 128])\n",
      "649\n",
      "iter 1 of 5\n",
      "torch.Size([1, 128])\n",
      "649\n",
      "iter 2 of 5\n",
      "torch.Size([1, 128])\n",
      "649\n",
      "iter 3 of 5\n",
      "torch.Size([1, 128])\n",
      "649\n",
      "iter 4 of 5\n",
      "torch.Size([1, 128])\n",
      "649\n",
      "iter 5 of 5\n",
      "torch.Size([1, 128])\n",
      "649\n",
      "iter 1 of 5\n",
      "torch.Size([1, 128])\n",
      "649\n",
      "iter 2 of 5\n",
      "torch.Size([1, 128])\n",
      "649\n",
      "iter 3 of 5\n",
      "torch.Size([1, 128])\n",
      "649\n",
      "iter 4 of 5\n",
      "torch.Size([1, 128])\n",
      "649\n",
      "iter 5 of 5\n",
      "torch.Size([1, 128])\n",
      "649\n",
      "iter 1 of 5\n",
      "torch.Size([1, 128])\n",
      "649\n",
      "iter 2 of 5\n",
      "torch.Size([1, 128])\n",
      "649\n",
      "iter 3 of 5\n",
      "torch.Size([1, 128])\n",
      "649\n",
      "iter 4 of 5\n",
      "torch.Size([1, 128])\n",
      "649\n",
      "iter 5 of 5\n",
      "torch.Size([1, 128])\n",
      "649\n",
      "iter 1 of 5\n",
      "torch.Size([1, 128])\n",
      "649\n",
      "iter 2 of 5\n",
      "torch.Size([1, 128])\n",
      "649\n",
      "iter 3 of 5\n",
      "torch.Size([1, 128])\n",
      "649\n",
      "iter 4 of 5\n",
      "torch.Size([1, 128])\n",
      "649\n",
      "iter 5 of 5\n",
      "torch.Size([1, 128])\n",
      "649\n",
      "iter 1 of 5\n",
      "torch.Size([1, 128])\n",
      "649\n",
      "iter 2 of 5\n",
      "torch.Size([1, 128])\n",
      "649\n",
      "iter 3 of 5\n",
      "torch.Size([1, 128])\n",
      "649\n",
      "iter 4 of 5\n",
      "torch.Size([1, 128])\n",
      "649\n",
      "iter 5 of 5\n",
      "torch.Size([1, 128])\n",
      "649\n",
      "iter 1 of 5\n",
      "torch.Size([1, 128])\n",
      "649\n",
      "iter 2 of 5\n",
      "torch.Size([1, 128])\n",
      "649\n",
      "iter 3 of 5\n",
      "torch.Size([1, 128])\n",
      "649\n",
      "iter 4 of 5\n",
      "torch.Size([1, 128])\n",
      "649\n",
      "iter 5 of 5\n",
      "torch.Size([1, 128])\n",
      "649\n",
      "iter 1 of 5\n",
      "torch.Size([1, 128])\n",
      "649\n",
      "iter 2 of 5\n",
      "torch.Size([1, 128])\n",
      "649\n",
      "iter 3 of 5\n",
      "torch.Size([1, 128])\n",
      "649\n",
      "iter 4 of 5\n",
      "torch.Size([1, 128])\n",
      "649\n",
      "iter 5 of 5\n",
      "torch.Size([1, 128])\n",
      "649\n",
      "iter 1 of 5\n",
      "torch.Size([1, 128])\n",
      "649\n",
      "iter 2 of 5\n",
      "torch.Size([1, 128])\n",
      "649\n",
      "iter 3 of 5\n",
      "torch.Size([1, 128])\n",
      "649\n",
      "iter 4 of 5\n",
      "torch.Size([1, 128])\n",
      "649\n",
      "iter 5 of 5\n",
      "torch.Size([1, 128])\n",
      "649\n",
      "iter 1 of 5\n",
      "torch.Size([1, 128])\n",
      "649\n",
      "iter 2 of 5\n",
      "torch.Size([1, 128])\n",
      "649\n",
      "iter 3 of 5\n",
      "torch.Size([1, 128])\n",
      "649\n",
      "iter 4 of 5\n",
      "torch.Size([1, 128])\n",
      "649\n",
      "iter 5 of 5\n",
      "torch.Size([1, 128])\n",
      "649\n",
      "iter 1 of 5\n",
      "torch.Size([1, 128])\n",
      "649\n",
      "iter 2 of 5\n",
      "torch.Size([1, 128])\n",
      "649\n",
      "iter 3 of 5\n",
      "torch.Size([1, 128])\n",
      "649\n",
      "iter 4 of 5\n",
      "torch.Size([1, 128])\n",
      "649\n",
      "iter 5 of 5\n",
      "torch.Size([1, 128])\n",
      "649\n",
      "iter 1 of 5\n",
      "torch.Size([1, 128])\n",
      "649\n",
      "iter 2 of 5\n",
      "torch.Size([1, 128])\n",
      "649\n",
      "iter 3 of 5\n",
      "torch.Size([1, 128])\n",
      "649\n",
      "iter 4 of 5\n",
      "torch.Size([1, 128])\n",
      "649\n",
      "iter 5 of 5\n",
      "torch.Size([1, 128])\n",
      "649\n",
      "iter 1 of 5\n",
      "torch.Size([1, 128])\n",
      "649\n",
      "iter 2 of 5\n",
      "torch.Size([1, 128])\n",
      "649\n",
      "iter 3 of 5\n",
      "torch.Size([1, 128])\n",
      "649\n",
      "iter 4 of 5\n",
      "torch.Size([1, 128])\n",
      "649\n",
      "iter 5 of 5\n",
      "torch.Size([1, 128])\n",
      "649\n",
      "iter 1 of 5\n",
      "torch.Size([1, 128])\n",
      "649\n",
      "iter 2 of 5\n",
      "torch.Size([1, 128])\n",
      "649\n",
      "iter 3 of 5\n",
      "torch.Size([1, 128])\n",
      "649\n",
      "iter 4 of 5\n",
      "torch.Size([1, 128])\n",
      "649\n",
      "iter 5 of 5\n",
      "torch.Size([1, 128])\n",
      "649\n",
      "iter 1 of 5\n",
      "torch.Size([1, 128])\n",
      "649\n",
      "iter 2 of 5\n",
      "torch.Size([1, 128])\n",
      "649\n",
      "iter 3 of 5\n",
      "torch.Size([1, 128])\n",
      "649\n",
      "iter 4 of 5\n",
      "torch.Size([1, 128])\n",
      "649\n",
      "iter 5 of 5\n",
      "torch.Size([1, 128])\n",
      "649\n",
      "iter 1 of 5\n",
      "torch.Size([1, 128])\n",
      "649\n",
      "iter 2 of 5\n",
      "torch.Size([1, 128])\n",
      "649\n",
      "iter 3 of 5\n",
      "torch.Size([1, 128])\n",
      "649\n",
      "iter 4 of 5\n",
      "torch.Size([1, 128])\n",
      "649\n",
      "iter 5 of 5\n",
      "torch.Size([1, 128])\n",
      "649\n",
      "iter 1 of 5\n",
      "torch.Size([1, 128])\n",
      "649\n",
      "iter 2 of 5\n",
      "torch.Size([1, 128])\n",
      "649\n",
      "iter 3 of 5\n",
      "torch.Size([1, 128])\n",
      "649\n",
      "iter 4 of 5\n",
      "torch.Size([1, 128])\n",
      "649\n",
      "iter 5 of 5\n",
      "torch.Size([1, 128])\n",
      "649\n",
      "iter 1 of 5\n",
      "torch.Size([1, 128])\n",
      "649\n",
      "iter 2 of 5\n",
      "torch.Size([1, 128])\n",
      "649\n",
      "iter 3 of 5\n",
      "torch.Size([1, 128])\n",
      "649\n",
      "iter 4 of 5\n",
      "torch.Size([1, 128])\n",
      "649\n",
      "iter 5 of 5\n",
      "torch.Size([1, 128])\n",
      "649\n",
      "iter 1 of 5\n",
      "torch.Size([1, 128])\n",
      "649\n",
      "iter 2 of 5\n",
      "torch.Size([1, 128])\n",
      "649\n",
      "iter 3 of 5\n",
      "torch.Size([1, 128])\n",
      "649\n",
      "iter 4 of 5\n",
      "torch.Size([1, 128])\n",
      "649\n",
      "iter 5 of 5\n",
      "torch.Size([1, 128])\n",
      "649\n",
      "iter 1 of 5\n",
      "torch.Size([1, 128])\n",
      "649\n",
      "iter 2 of 5\n",
      "torch.Size([1, 128])\n",
      "649\n",
      "iter 3 of 5\n",
      "torch.Size([1, 128])\n",
      "649\n",
      "iter 4 of 5\n",
      "torch.Size([1, 128])\n",
      "649\n",
      "iter 5 of 5\n",
      "torch.Size([1, 128])\n",
      "649\n",
      "iter 1 of 5\n",
      "torch.Size([1, 128])\n",
      "649\n",
      "iter 2 of 5\n",
      "torch.Size([1, 128])\n",
      "649\n",
      "iter 3 of 5\n",
      "torch.Size([1, 128])\n",
      "649\n",
      "iter 4 of 5\n",
      "torch.Size([1, 128])\n",
      "649\n",
      "iter 5 of 5\n",
      "torch.Size([1, 128])\n",
      "649\n",
      "iter 1 of 5\n",
      "torch.Size([1, 128])\n",
      "649\n",
      "iter 2 of 5\n",
      "torch.Size([1, 128])\n",
      "649\n",
      "iter 3 of 5\n",
      "torch.Size([1, 128])\n",
      "649\n",
      "iter 4 of 5\n",
      "torch.Size([1, 128])\n",
      "649\n",
      "iter 5 of 5\n",
      "torch.Size([1, 128])\n",
      "649\n",
      "iter 1 of 5\n",
      "torch.Size([1, 128])\n",
      "649\n",
      "iter 2 of 5\n",
      "torch.Size([1, 128])\n",
      "649\n",
      "iter 3 of 5\n",
      "torch.Size([1, 128])\n",
      "649\n",
      "iter 4 of 5\n",
      "torch.Size([1, 128])\n",
      "649\n",
      "iter 5 of 5\n",
      "torch.Size([1, 128])\n",
      "649\n",
      "iter 1 of 5\n",
      "torch.Size([1, 128])\n",
      "649\n",
      "iter 2 of 5\n",
      "torch.Size([1, 128])\n",
      "649\n",
      "iter 3 of 5\n",
      "torch.Size([1, 128])\n",
      "649\n",
      "iter 4 of 5\n",
      "torch.Size([1, 128])\n",
      "649\n",
      "iter 5 of 5\n",
      "torch.Size([1, 128])\n",
      "649\n",
      "iter 1 of 5\n",
      "torch.Size([1, 128])\n",
      "649\n",
      "iter 2 of 5\n",
      "torch.Size([1, 128])\n",
      "649\n",
      "iter 3 of 5\n",
      "torch.Size([1, 128])\n",
      "649\n",
      "iter 4 of 5\n",
      "torch.Size([1, 128])\n",
      "649\n",
      "iter 5 of 5\n",
      "torch.Size([1, 128])\n",
      "649\n",
      "iter 1 of 5\n",
      "torch.Size([1, 128])\n",
      "649\n",
      "iter 2 of 5\n",
      "torch.Size([1, 128])\n",
      "649\n",
      "iter 3 of 5\n",
      "torch.Size([1, 128])\n",
      "649\n",
      "iter 4 of 5\n",
      "torch.Size([1, 128])\n",
      "649\n",
      "iter 5 of 5\n",
      "torch.Size([1, 128])\n",
      "649\n",
      "iter 1 of 5\n",
      "torch.Size([1, 128])\n",
      "649\n",
      "iter 2 of 5\n",
      "torch.Size([1, 128])\n",
      "649\n",
      "iter 3 of 5\n",
      "torch.Size([1, 128])\n",
      "649\n",
      "iter 4 of 5\n",
      "torch.Size([1, 128])\n",
      "649\n",
      "iter 5 of 5\n",
      "torch.Size([1, 128])\n",
      "649\n",
      "iter 1 of 5\n",
      "torch.Size([1, 128])\n",
      "649\n",
      "iter 2 of 5\n",
      "torch.Size([1, 128])\n",
      "649\n",
      "iter 3 of 5\n",
      "torch.Size([1, 128])\n",
      "649\n",
      "iter 4 of 5\n",
      "torch.Size([1, 128])\n",
      "649\n",
      "iter 5 of 5\n",
      "torch.Size([1, 128])\n",
      "649\n",
      "iter 1 of 5\n",
      "torch.Size([1, 128])\n",
      "649\n",
      "iter 2 of 5\n",
      "torch.Size([1, 128])\n",
      "649\n",
      "iter 3 of 5\n",
      "torch.Size([1, 128])\n",
      "649\n",
      "iter 4 of 5\n",
      "torch.Size([1, 128])\n",
      "649\n",
      "iter 5 of 5\n",
      "torch.Size([1, 128])\n",
      "649\n",
      "iter 1 of 5\n",
      "torch.Size([1, 128])\n",
      "649\n",
      "iter 2 of 5\n",
      "torch.Size([1, 128])\n",
      "649\n",
      "iter 3 of 5\n",
      "torch.Size([1, 128])\n",
      "649\n",
      "iter 4 of 5\n",
      "torch.Size([1, 128])\n",
      "649\n",
      "iter 5 of 5\n",
      "torch.Size([1, 128])\n",
      "649\n",
      "iter 1 of 5\n",
      "torch.Size([1, 128])\n",
      "649\n",
      "iter 2 of 5\n",
      "torch.Size([1, 128])\n",
      "649\n",
      "iter 3 of 5\n",
      "torch.Size([1, 128])\n",
      "649\n",
      "iter 4 of 5\n",
      "torch.Size([1, 128])\n",
      "649\n",
      "iter 5 of 5\n",
      "torch.Size([1, 128])\n",
      "649\n",
      "iter 1 of 5\n",
      "torch.Size([1, 128])\n",
      "649\n",
      "iter 2 of 5\n",
      "torch.Size([1, 128])\n",
      "649\n",
      "iter 3 of 5\n",
      "torch.Size([1, 128])\n",
      "649\n",
      "iter 4 of 5\n",
      "torch.Size([1, 128])\n",
      "649\n",
      "iter 5 of 5\n",
      "torch.Size([1, 128])\n",
      "649\n",
      "iter 1 of 5\n",
      "torch.Size([1, 128])\n",
      "649\n",
      "iter 2 of 5\n",
      "torch.Size([1, 128])\n",
      "649\n",
      "iter 3 of 5\n",
      "torch.Size([1, 128])\n",
      "649\n",
      "iter 4 of 5\n",
      "torch.Size([1, 128])\n",
      "649\n",
      "iter 5 of 5\n",
      "torch.Size([1, 128])\n",
      "649\n",
      "iter 1 of 5\n",
      "torch.Size([1, 128])\n",
      "649\n",
      "iter 2 of 5\n",
      "torch.Size([1, 128])\n",
      "649\n",
      "iter 3 of 5\n",
      "torch.Size([1, 128])\n",
      "649\n",
      "iter 4 of 5\n",
      "torch.Size([1, 128])\n",
      "649\n",
      "iter 5 of 5\n",
      "torch.Size([1, 128])\n",
      "649\n",
      "iter 1 of 5\n",
      "torch.Size([1, 128])\n",
      "649\n",
      "iter 2 of 5\n",
      "torch.Size([1, 128])\n",
      "649\n",
      "iter 3 of 5\n",
      "torch.Size([1, 128])\n",
      "649\n",
      "iter 4 of 5\n",
      "torch.Size([1, 128])\n",
      "649\n",
      "iter 5 of 5\n",
      "torch.Size([1, 128])\n",
      "649\n",
      "iter 1 of 5\n",
      "torch.Size([1, 128])\n",
      "649\n",
      "iter 2 of 5\n",
      "torch.Size([1, 128])\n",
      "649\n",
      "iter 3 of 5\n",
      "torch.Size([1, 128])\n",
      "649\n",
      "iter 4 of 5\n",
      "torch.Size([1, 128])\n",
      "649\n",
      "iter 5 of 5\n",
      "torch.Size([1, 128])\n",
      "649\n",
      "iter 1 of 5\n",
      "torch.Size([1, 128])\n",
      "649\n",
      "iter 2 of 5\n",
      "torch.Size([1, 128])\n",
      "649\n",
      "iter 3 of 5\n",
      "torch.Size([1, 128])\n",
      "649\n",
      "iter 4 of 5\n",
      "torch.Size([1, 128])\n",
      "649\n",
      "iter 5 of 5\n",
      "torch.Size([1, 128])\n",
      "649\n",
      "iter 1 of 5\n",
      "torch.Size([1, 128])\n",
      "649\n",
      "iter 2 of 5\n",
      "torch.Size([1, 128])\n",
      "649\n",
      "iter 3 of 5\n",
      "torch.Size([1, 128])\n",
      "649\n",
      "iter 4 of 5\n",
      "torch.Size([1, 128])\n",
      "649\n",
      "iter 5 of 5\n",
      "torch.Size([1, 128])\n",
      "649\n",
      "iter 1 of 5\n",
      "torch.Size([1, 128])\n",
      "649\n",
      "iter 2 of 5\n",
      "torch.Size([1, 128])\n",
      "649\n",
      "iter 3 of 5\n",
      "torch.Size([1, 128])\n",
      "649\n",
      "iter 4 of 5\n",
      "torch.Size([1, 128])\n",
      "649\n",
      "iter 5 of 5\n",
      "torch.Size([1, 128])\n",
      "649\n",
      "iter 1 of 5\n",
      "torch.Size([1, 128])\n",
      "649\n",
      "iter 2 of 5\n",
      "torch.Size([1, 128])\n",
      "649\n",
      "iter 3 of 5\n",
      "torch.Size([1, 128])\n",
      "649\n",
      "iter 4 of 5\n",
      "torch.Size([1, 128])\n",
      "649\n",
      "iter 5 of 5\n",
      "torch.Size([1, 128])\n",
      "649\n",
      "iter 1 of 5\n",
      "torch.Size([1, 128])\n",
      "649\n",
      "iter 2 of 5\n",
      "torch.Size([1, 128])\n",
      "649\n",
      "iter 3 of 5\n",
      "torch.Size([1, 128])\n",
      "649\n",
      "iter 4 of 5\n",
      "torch.Size([1, 128])\n",
      "649\n",
      "iter 5 of 5\n",
      "torch.Size([1, 128])\n",
      "649\n",
      "iter 1 of 5\n",
      "torch.Size([1, 128])\n",
      "649\n",
      "iter 2 of 5\n",
      "torch.Size([1, 128])\n",
      "649\n",
      "iter 3 of 5\n",
      "torch.Size([1, 128])\n",
      "649\n",
      "iter 4 of 5\n",
      "torch.Size([1, 128])\n",
      "649\n",
      "iter 5 of 5\n",
      "torch.Size([1, 128])\n",
      "649\n",
      "iter 1 of 5\n",
      "torch.Size([1, 128])\n",
      "649\n",
      "iter 2 of 5\n",
      "torch.Size([1, 128])\n",
      "649\n",
      "iter 3 of 5\n",
      "torch.Size([1, 128])\n",
      "649\n",
      "iter 4 of 5\n",
      "torch.Size([1, 128])\n",
      "649\n",
      "iter 5 of 5\n",
      "torch.Size([1, 128])\n",
      "649\n",
      "iter 1 of 5\n",
      "torch.Size([1, 128])\n",
      "649\n",
      "iter 2 of 5\n",
      "torch.Size([1, 128])\n",
      "649\n",
      "iter 3 of 5\n",
      "torch.Size([1, 128])\n",
      "649\n",
      "iter 4 of 5\n",
      "torch.Size([1, 128])\n",
      "649\n",
      "iter 5 of 5\n",
      "torch.Size([1, 128])\n",
      "649\n",
      "iter 1 of 5\n",
      "torch.Size([1, 128])\n",
      "649\n"
     ]
    },
    {
     "name": "stdout",
     "output_type": "stream",
     "text": [
      "iter 2 of 5\n",
      "torch.Size([1, 128])\n",
      "649\n",
      "iter 3 of 5\n",
      "torch.Size([1, 128])\n",
      "649\n",
      "iter 4 of 5\n",
      "torch.Size([1, 128])\n",
      "649\n",
      "iter 5 of 5\n",
      "torch.Size([1, 128])\n",
      "649\n",
      "iter 1 of 5\n",
      "torch.Size([1, 128])\n",
      "649\n",
      "iter 2 of 5\n",
      "torch.Size([1, 128])\n",
      "649\n",
      "iter 3 of 5\n",
      "torch.Size([1, 128])\n",
      "649\n",
      "iter 4 of 5\n",
      "torch.Size([1, 128])\n",
      "649\n",
      "iter 5 of 5\n",
      "torch.Size([1, 128])\n",
      "649\n",
      "iter 1 of 5\n",
      "torch.Size([1, 128])\n",
      "649\n",
      "iter 2 of 5\n",
      "torch.Size([1, 128])\n",
      "649\n",
      "iter 3 of 5\n",
      "torch.Size([1, 128])\n",
      "649\n",
      "iter 4 of 5\n",
      "torch.Size([1, 128])\n",
      "649\n",
      "iter 5 of 5\n",
      "torch.Size([1, 128])\n",
      "649\n",
      "iter 1 of 5\n",
      "torch.Size([1, 128])\n",
      "649\n",
      "iter 2 of 5\n",
      "torch.Size([1, 128])\n",
      "649\n",
      "iter 3 of 5\n",
      "torch.Size([1, 128])\n",
      "649\n",
      "iter 4 of 5\n",
      "torch.Size([1, 128])\n",
      "649\n",
      "iter 5 of 5\n",
      "torch.Size([1, 128])\n",
      "649\n",
      "iter 1 of 5\n",
      "torch.Size([1, 128])\n",
      "649\n",
      "iter 2 of 5\n",
      "torch.Size([1, 128])\n",
      "649\n",
      "iter 3 of 5\n",
      "torch.Size([1, 128])\n",
      "649\n",
      "iter 4 of 5\n",
      "torch.Size([1, 128])\n",
      "649\n",
      "iter 5 of 5\n",
      "torch.Size([1, 128])\n",
      "649\n",
      "iter 1 of 5\n",
      "torch.Size([1, 128])\n",
      "649\n",
      "iter 2 of 5\n",
      "torch.Size([1, 128])\n",
      "649\n",
      "iter 3 of 5\n",
      "torch.Size([1, 128])\n",
      "649\n",
      "iter 4 of 5\n",
      "torch.Size([1, 128])\n",
      "649\n",
      "iter 5 of 5\n",
      "torch.Size([1, 128])\n",
      "649\n",
      "iter 1 of 5\n",
      "torch.Size([1, 128])\n",
      "649\n",
      "iter 2 of 5\n",
      "torch.Size([1, 128])\n",
      "649\n",
      "iter 3 of 5\n",
      "torch.Size([1, 128])\n",
      "649\n",
      "iter 4 of 5\n",
      "torch.Size([1, 128])\n",
      "649\n",
      "iter 5 of 5\n",
      "torch.Size([1, 128])\n",
      "649\n",
      "iter 1 of 5\n",
      "torch.Size([1, 128])\n",
      "649\n",
      "iter 2 of 5\n",
      "torch.Size([1, 128])\n",
      "649\n",
      "iter 3 of 5\n",
      "torch.Size([1, 128])\n",
      "649\n",
      "iter 4 of 5\n",
      "torch.Size([1, 128])\n",
      "649\n",
      "iter 5 of 5\n",
      "torch.Size([1, 128])\n",
      "649\n",
      "iter 1 of 5\n",
      "torch.Size([1, 128])\n",
      "649\n",
      "iter 2 of 5\n",
      "torch.Size([1, 128])\n",
      "649\n",
      "iter 3 of 5\n",
      "torch.Size([1, 128])\n",
      "649\n",
      "iter 4 of 5\n",
      "torch.Size([1, 128])\n",
      "649\n",
      "iter 5 of 5\n",
      "torch.Size([1, 128])\n",
      "649\n",
      "iter 1 of 5\n",
      "torch.Size([1, 128])\n",
      "649\n",
      "iter 2 of 5\n",
      "torch.Size([1, 128])\n",
      "649\n",
      "iter 3 of 5\n",
      "torch.Size([1, 128])\n",
      "649\n",
      "iter 4 of 5\n",
      "torch.Size([1, 128])\n",
      "649\n",
      "iter 5 of 5\n",
      "torch.Size([1, 128])\n",
      "649\n",
      "iter 1 of 5\n",
      "torch.Size([1, 128])\n",
      "649\n",
      "iter 2 of 5\n",
      "torch.Size([1, 128])\n",
      "649\n",
      "iter 3 of 5\n",
      "torch.Size([1, 128])\n",
      "649\n",
      "iter 4 of 5\n",
      "torch.Size([1, 128])\n",
      "649\n",
      "iter 5 of 5\n",
      "torch.Size([1, 128])\n",
      "649\n",
      "iter 1 of 5\n",
      "torch.Size([1, 128])\n",
      "649\n",
      "iter 2 of 5\n",
      "torch.Size([1, 128])\n",
      "649\n",
      "iter 3 of 5\n",
      "torch.Size([1, 128])\n",
      "649\n",
      "iter 4 of 5\n",
      "torch.Size([1, 128])\n",
      "649\n",
      "iter 5 of 5\n",
      "torch.Size([1, 128])\n",
      "649\n",
      "iter 1 of 5\n",
      "torch.Size([1, 128])\n",
      "649\n",
      "iter 2 of 5\n",
      "torch.Size([1, 128])\n",
      "649\n",
      "iter 3 of 5\n",
      "torch.Size([1, 128])\n",
      "649\n",
      "iter 4 of 5\n",
      "torch.Size([1, 128])\n",
      "649\n",
      "iter 5 of 5\n",
      "torch.Size([1, 128])\n",
      "649\n",
      "iter 1 of 5\n",
      "torch.Size([1, 128])\n",
      "649\n",
      "iter 2 of 5\n",
      "torch.Size([1, 128])\n",
      "649\n",
      "iter 3 of 5\n",
      "torch.Size([1, 128])\n",
      "649\n",
      "iter 4 of 5\n",
      "torch.Size([1, 128])\n",
      "649\n",
      "iter 5 of 5\n",
      "torch.Size([1, 128])\n",
      "649\n",
      "iter 1 of 5\n",
      "torch.Size([1, 128])\n",
      "649\n",
      "iter 2 of 5\n",
      "torch.Size([1, 128])\n",
      "649\n",
      "iter 3 of 5\n",
      "torch.Size([1, 128])\n",
      "649\n",
      "iter 4 of 5\n",
      "torch.Size([1, 128])\n",
      "649\n",
      "iter 5 of 5\n",
      "torch.Size([1, 128])\n",
      "649\n",
      "iter 1 of 5\n",
      "torch.Size([1, 128])\n",
      "649\n",
      "iter 2 of 5\n",
      "torch.Size([1, 128])\n",
      "649\n",
      "iter 3 of 5\n",
      "torch.Size([1, 128])\n",
      "649\n",
      "iter 4 of 5\n",
      "torch.Size([1, 128])\n",
      "649\n",
      "iter 5 of 5\n",
      "torch.Size([1, 128])\n",
      "649\n",
      "iter 1 of 5\n",
      "torch.Size([1, 128])\n",
      "649\n",
      "iter 2 of 5\n",
      "torch.Size([1, 128])\n",
      "649\n",
      "iter 3 of 5\n",
      "torch.Size([1, 128])\n",
      "649\n",
      "iter 4 of 5\n",
      "torch.Size([1, 128])\n",
      "649\n",
      "iter 5 of 5\n",
      "torch.Size([1, 128])\n",
      "649\n",
      "iter 1 of 5\n",
      "torch.Size([1, 128])\n",
      "649\n",
      "iter 2 of 5\n",
      "torch.Size([1, 128])\n",
      "649\n",
      "iter 3 of 5\n",
      "torch.Size([1, 128])\n",
      "649\n",
      "iter 4 of 5\n",
      "torch.Size([1, 128])\n",
      "649\n",
      "iter 5 of 5\n",
      "torch.Size([1, 128])\n",
      "649\n",
      "iter 1 of 5\n",
      "torch.Size([1, 128])\n",
      "649\n",
      "iter 2 of 5\n",
      "torch.Size([1, 128])\n",
      "649\n",
      "iter 3 of 5\n",
      "torch.Size([1, 128])\n",
      "649\n",
      "iter 4 of 5\n",
      "torch.Size([1, 128])\n",
      "649\n",
      "iter 5 of 5\n",
      "torch.Size([1, 128])\n",
      "649\n",
      "iter 1 of 5\n",
      "torch.Size([1, 128])\n",
      "649\n",
      "iter 2 of 5\n",
      "torch.Size([1, 128])\n",
      "649\n",
      "iter 3 of 5\n",
      "torch.Size([1, 128])\n",
      "649\n",
      "iter 4 of 5\n",
      "torch.Size([1, 128])\n",
      "649\n",
      "iter 5 of 5\n",
      "torch.Size([1, 128])\n",
      "649\n",
      "iter 1 of 5\n",
      "torch.Size([1, 128])\n",
      "649\n",
      "iter 2 of 5\n",
      "torch.Size([1, 128])\n",
      "649\n",
      "iter 3 of 5\n",
      "torch.Size([1, 128])\n",
      "649\n",
      "iter 4 of 5\n",
      "torch.Size([1, 128])\n",
      "649\n",
      "iter 5 of 5\n",
      "torch.Size([1, 128])\n",
      "649\n",
      "iter 1 of 5\n",
      "torch.Size([1, 128])\n",
      "649\n",
      "iter 2 of 5\n",
      "torch.Size([1, 128])\n",
      "649\n",
      "iter 3 of 5\n",
      "torch.Size([1, 128])\n",
      "649\n",
      "iter 4 of 5\n",
      "torch.Size([1, 128])\n",
      "649\n",
      "iter 5 of 5\n",
      "torch.Size([1, 128])\n",
      "649\n",
      "iter 1 of 5\n",
      "torch.Size([1, 128])\n",
      "649\n",
      "iter 2 of 5\n",
      "torch.Size([1, 128])\n",
      "649\n",
      "iter 3 of 5\n",
      "torch.Size([1, 128])\n",
      "649\n",
      "iter 4 of 5\n",
      "torch.Size([1, 128])\n",
      "649\n",
      "iter 5 of 5\n",
      "torch.Size([1, 128])\n",
      "649\n",
      "iter 1 of 5\n",
      "torch.Size([1, 128])\n",
      "649\n",
      "iter 2 of 5\n",
      "torch.Size([1, 128])\n",
      "649\n",
      "iter 3 of 5\n",
      "torch.Size([1, 128])\n",
      "649\n",
      "iter 4 of 5\n",
      "torch.Size([1, 128])\n",
      "649\n",
      "iter 5 of 5\n",
      "torch.Size([1, 128])\n",
      "649\n",
      "iter 1 of 5\n",
      "torch.Size([1, 128])\n",
      "649\n",
      "iter 2 of 5\n",
      "torch.Size([1, 128])\n",
      "649\n",
      "iter 3 of 5\n",
      "torch.Size([1, 128])\n",
      "649\n",
      "iter 4 of 5\n",
      "torch.Size([1, 128])\n",
      "649\n",
      "iter 5 of 5\n",
      "torch.Size([1, 128])\n",
      "649\n",
      "iter 1 of 5\n",
      "torch.Size([1, 128])\n",
      "649\n",
      "iter 2 of 5\n",
      "torch.Size([1, 128])\n",
      "649\n",
      "iter 3 of 5\n",
      "torch.Size([1, 128])\n",
      "649\n",
      "iter 4 of 5\n",
      "torch.Size([1, 128])\n",
      "649\n",
      "iter 5 of 5\n",
      "torch.Size([1, 128])\n",
      "649\n",
      "iter 1 of 5\n",
      "torch.Size([1, 128])\n",
      "649\n",
      "iter 2 of 5\n",
      "torch.Size([1, 128])\n",
      "649\n",
      "iter 3 of 5\n",
      "torch.Size([1, 128])\n",
      "649\n",
      "iter 4 of 5\n",
      "torch.Size([1, 128])\n",
      "649\n",
      "iter 5 of 5\n",
      "torch.Size([1, 128])\n",
      "649\n",
      "iter 1 of 5\n",
      "torch.Size([1, 128])\n",
      "649\n",
      "iter 2 of 5\n",
      "torch.Size([1, 128])\n",
      "649\n",
      "iter 3 of 5\n",
      "torch.Size([1, 128])\n",
      "649\n",
      "iter 4 of 5\n",
      "torch.Size([1, 128])\n",
      "649\n",
      "iter 5 of 5\n",
      "torch.Size([1, 128])\n",
      "649\n",
      "iter 1 of 5\n",
      "torch.Size([1, 128])\n",
      "649\n",
      "iter 2 of 5\n",
      "torch.Size([1, 128])\n",
      "649\n",
      "iter 3 of 5\n",
      "torch.Size([1, 128])\n",
      "649\n",
      "iter 4 of 5\n",
      "torch.Size([1, 128])\n",
      "649\n",
      "iter 5 of 5\n",
      "torch.Size([1, 128])\n",
      "649\n",
      "iter 1 of 5\n",
      "torch.Size([1, 128])\n",
      "649\n",
      "iter 2 of 5\n",
      "torch.Size([1, 128])\n",
      "649\n",
      "iter 3 of 5\n",
      "torch.Size([1, 128])\n",
      "649\n",
      "iter 4 of 5\n",
      "torch.Size([1, 128])\n",
      "649\n",
      "iter 5 of 5\n",
      "torch.Size([1, 128])\n",
      "649\n",
      "iter 1 of 5\n",
      "torch.Size([1, 128])\n",
      "649\n",
      "iter 2 of 5\n",
      "torch.Size([1, 128])\n",
      "649\n",
      "iter 3 of 5\n",
      "torch.Size([1, 128])\n",
      "649\n",
      "iter 4 of 5\n",
      "torch.Size([1, 128])\n",
      "649\n",
      "iter 5 of 5\n",
      "torch.Size([1, 128])\n",
      "649\n",
      "iter 1 of 5\n",
      "torch.Size([1, 128])\n",
      "649\n",
      "iter 2 of 5\n",
      "torch.Size([1, 128])\n",
      "649\n",
      "iter 3 of 5\n",
      "torch.Size([1, 128])\n",
      "649\n",
      "iter 4 of 5\n",
      "torch.Size([1, 128])\n",
      "649\n",
      "iter 5 of 5\n",
      "torch.Size([1, 128])\n",
      "649\n",
      "iter 1 of 5\n",
      "torch.Size([1, 128])\n",
      "649\n",
      "iter 2 of 5\n",
      "torch.Size([1, 128])\n",
      "649\n",
      "iter 3 of 5\n",
      "torch.Size([1, 128])\n",
      "649\n",
      "iter 4 of 5\n",
      "torch.Size([1, 128])\n",
      "649\n",
      "iter 5 of 5\n",
      "torch.Size([1, 128])\n",
      "649\n",
      "iter 1 of 5\n",
      "torch.Size([1, 128])\n",
      "649\n",
      "iter 2 of 5\n",
      "torch.Size([1, 128])\n",
      "649\n",
      "iter 3 of 5\n",
      "torch.Size([1, 128])\n",
      "649\n",
      "iter 4 of 5\n",
      "torch.Size([1, 128])\n",
      "649\n",
      "iter 5 of 5\n",
      "torch.Size([1, 128])\n",
      "649\n",
      "iter 1 of 5\n",
      "torch.Size([1, 128])\n",
      "649\n",
      "iter 2 of 5\n",
      "torch.Size([1, 128])\n",
      "649\n",
      "iter 3 of 5\n",
      "torch.Size([1, 128])\n",
      "649\n",
      "iter 4 of 5\n",
      "torch.Size([1, 128])\n",
      "649\n",
      "iter 5 of 5\n",
      "torch.Size([1, 128])\n",
      "649\n",
      "iter 1 of 5\n",
      "torch.Size([1, 128])\n",
      "649\n",
      "iter 2 of 5\n",
      "torch.Size([1, 128])\n",
      "649\n",
      "iter 3 of 5\n",
      "torch.Size([1, 128])\n",
      "649\n",
      "iter 4 of 5\n",
      "torch.Size([1, 128])\n",
      "649\n",
      "iter 5 of 5\n",
      "torch.Size([1, 128])\n",
      "649\n",
      "iter 1 of 5\n",
      "torch.Size([1, 128])\n",
      "649\n",
      "iter 2 of 5\n",
      "torch.Size([1, 128])\n",
      "649\n",
      "iter 3 of 5\n",
      "torch.Size([1, 128])\n",
      "649\n",
      "iter 4 of 5\n",
      "torch.Size([1, 128])\n",
      "649\n",
      "iter 5 of 5\n",
      "torch.Size([1, 128])\n",
      "649\n",
      "iter 1 of 5\n",
      "torch.Size([1, 128])\n",
      "649\n",
      "iter 2 of 5\n",
      "torch.Size([1, 128])\n",
      "649\n",
      "iter 3 of 5\n",
      "torch.Size([1, 128])\n",
      "649\n",
      "iter 4 of 5\n",
      "torch.Size([1, 128])\n",
      "649\n",
      "iter 5 of 5\n",
      "torch.Size([1, 128])\n",
      "649\n",
      "iter 1 of 5\n",
      "torch.Size([1, 128])\n",
      "649\n",
      "iter 2 of 5\n",
      "torch.Size([1, 128])\n",
      "649\n",
      "iter 3 of 5\n",
      "torch.Size([1, 128])\n",
      "649\n",
      "iter 4 of 5\n",
      "torch.Size([1, 128])\n",
      "649\n",
      "iter 5 of 5\n",
      "torch.Size([1, 128])\n",
      "649\n",
      "iter 1 of 5\n",
      "torch.Size([1, 128])\n",
      "649\n",
      "iter 2 of 5\n",
      "torch.Size([1, 128])\n",
      "649\n",
      "iter 3 of 5\n",
      "torch.Size([1, 128])\n",
      "649\n",
      "iter 4 of 5\n",
      "torch.Size([1, 128])\n",
      "649\n",
      "iter 5 of 5\n",
      "torch.Size([1, 128])\n",
      "649\n",
      "iter 1 of 5\n",
      "torch.Size([1, 128])\n",
      "649\n",
      "iter 2 of 5\n",
      "torch.Size([1, 128])\n",
      "649\n",
      "iter 3 of 5\n",
      "torch.Size([1, 128])\n",
      "649\n",
      "iter 4 of 5\n",
      "torch.Size([1, 128])\n",
      "649\n",
      "iter 5 of 5\n",
      "torch.Size([1, 128])\n",
      "649\n",
      "iter 1 of 5\n",
      "torch.Size([1, 128])\n",
      "649\n",
      "iter 2 of 5\n",
      "torch.Size([1, 128])\n",
      "649\n",
      "iter 3 of 5\n",
      "torch.Size([1, 128])\n",
      "649\n",
      "iter 4 of 5\n",
      "torch.Size([1, 128])\n",
      "649\n",
      "iter 5 of 5\n",
      "torch.Size([1, 128])\n",
      "649\n",
      "iter 1 of 5\n",
      "torch.Size([1, 128])\n",
      "649\n",
      "iter 2 of 5\n",
      "torch.Size([1, 128])\n",
      "649\n",
      "iter 3 of 5\n",
      "torch.Size([1, 128])\n",
      "649\n",
      "iter 4 of 5\n",
      "torch.Size([1, 128])\n",
      "649\n",
      "iter 5 of 5\n",
      "torch.Size([1, 128])\n",
      "649\n",
      "iter 1 of 5\n",
      "torch.Size([1, 128])\n",
      "649\n",
      "iter 2 of 5\n",
      "torch.Size([1, 128])\n",
      "649\n",
      "iter 3 of 5\n",
      "torch.Size([1, 128])\n",
      "649\n",
      "iter 4 of 5\n",
      "torch.Size([1, 128])\n",
      "649\n",
      "iter 5 of 5\n",
      "torch.Size([1, 128])\n",
      "649\n",
      "iter 1 of 5\n",
      "torch.Size([1, 128])\n",
      "649\n",
      "iter 2 of 5\n",
      "torch.Size([1, 128])\n",
      "649\n",
      "iter 3 of 5\n",
      "torch.Size([1, 128])\n",
      "649\n"
     ]
    },
    {
     "name": "stdout",
     "output_type": "stream",
     "text": [
      "iter 4 of 5\n",
      "torch.Size([1, 128])\n",
      "649\n",
      "iter 5 of 5\n",
      "torch.Size([1, 128])\n",
      "649\n",
      "iter 1 of 5\n",
      "torch.Size([1, 128])\n",
      "649\n",
      "iter 2 of 5\n",
      "torch.Size([1, 128])\n",
      "649\n",
      "iter 3 of 5\n",
      "torch.Size([1, 128])\n",
      "649\n",
      "iter 4 of 5\n",
      "torch.Size([1, 128])\n",
      "649\n",
      "iter 5 of 5\n",
      "torch.Size([1, 128])\n",
      "649\n",
      "iter 1 of 5\n",
      "torch.Size([1, 128])\n",
      "649\n",
      "iter 2 of 5\n",
      "torch.Size([1, 128])\n",
      "649\n",
      "iter 3 of 5\n",
      "torch.Size([1, 128])\n",
      "649\n",
      "iter 4 of 5\n",
      "torch.Size([1, 128])\n",
      "649\n",
      "iter 5 of 5\n",
      "torch.Size([1, 128])\n",
      "649\n",
      "iter 1 of 5\n",
      "torch.Size([1, 128])\n",
      "649\n",
      "iter 2 of 5\n",
      "torch.Size([1, 128])\n",
      "649\n",
      "iter 3 of 5\n",
      "torch.Size([1, 128])\n",
      "649\n",
      "iter 4 of 5\n",
      "torch.Size([1, 128])\n",
      "649\n",
      "iter 5 of 5\n",
      "torch.Size([1, 128])\n",
      "649\n",
      "iter 1 of 5\n",
      "torch.Size([1, 128])\n",
      "649\n",
      "iter 2 of 5\n",
      "torch.Size([1, 128])\n",
      "649\n",
      "iter 3 of 5\n",
      "torch.Size([1, 128])\n",
      "649\n",
      "iter 4 of 5\n",
      "torch.Size([1, 128])\n",
      "649\n",
      "iter 5 of 5\n",
      "torch.Size([1, 128])\n",
      "649\n",
      "iter 1 of 5\n",
      "torch.Size([1, 128])\n",
      "649\n",
      "iter 2 of 5\n",
      "torch.Size([1, 128])\n",
      "649\n",
      "iter 3 of 5\n",
      "torch.Size([1, 128])\n",
      "649\n",
      "iter 4 of 5\n",
      "torch.Size([1, 128])\n",
      "649\n",
      "iter 5 of 5\n",
      "torch.Size([1, 128])\n",
      "649\n",
      "iter 1 of 5\n",
      "torch.Size([1, 128])\n",
      "649\n",
      "iter 2 of 5\n",
      "torch.Size([1, 128])\n",
      "649\n",
      "iter 3 of 5\n",
      "torch.Size([1, 128])\n",
      "649\n",
      "iter 4 of 5\n",
      "torch.Size([1, 128])\n",
      "649\n",
      "iter 5 of 5\n",
      "torch.Size([1, 128])\n",
      "649\n",
      "iter 1 of 5\n",
      "torch.Size([1, 128])\n",
      "649\n",
      "iter 2 of 5\n",
      "torch.Size([1, 128])\n",
      "649\n",
      "iter 3 of 5\n",
      "torch.Size([1, 128])\n",
      "649\n",
      "iter 4 of 5\n",
      "torch.Size([1, 128])\n",
      "649\n",
      "iter 5 of 5\n",
      "torch.Size([1, 128])\n",
      "649\n",
      "iter 1 of 5\n",
      "torch.Size([1, 128])\n",
      "649\n",
      "iter 2 of 5\n",
      "torch.Size([1, 128])\n",
      "649\n",
      "iter 3 of 5\n",
      "torch.Size([1, 128])\n",
      "649\n",
      "iter 4 of 5\n",
      "torch.Size([1, 128])\n",
      "649\n",
      "iter 5 of 5\n",
      "torch.Size([1, 128])\n",
      "649\n",
      "iter 1 of 5\n",
      "torch.Size([1, 128])\n",
      "649\n",
      "iter 2 of 5\n",
      "torch.Size([1, 128])\n",
      "649\n",
      "iter 3 of 5\n",
      "torch.Size([1, 128])\n",
      "649\n",
      "iter 4 of 5\n",
      "torch.Size([1, 128])\n",
      "649\n",
      "iter 5 of 5\n",
      "torch.Size([1, 128])\n",
      "649\n",
      "iter 1 of 5\n",
      "torch.Size([1, 128])\n",
      "649\n",
      "iter 2 of 5\n",
      "torch.Size([1, 128])\n",
      "649\n",
      "iter 3 of 5\n",
      "torch.Size([1, 128])\n",
      "649\n",
      "iter 4 of 5\n",
      "torch.Size([1, 128])\n",
      "649\n",
      "iter 5 of 5\n",
      "torch.Size([1, 128])\n",
      "649\n",
      "iter 1 of 5\n",
      "torch.Size([1, 128])\n",
      "649\n",
      "iter 2 of 5\n",
      "torch.Size([1, 128])\n",
      "649\n",
      "iter 3 of 5\n",
      "torch.Size([1, 128])\n",
      "649\n",
      "iter 4 of 5\n",
      "torch.Size([1, 128])\n",
      "649\n",
      "iter 5 of 5\n",
      "torch.Size([1, 128])\n",
      "649\n",
      "iter 1 of 5\n",
      "torch.Size([1, 128])\n",
      "649\n",
      "iter 2 of 5\n",
      "torch.Size([1, 128])\n",
      "649\n",
      "iter 3 of 5\n",
      "torch.Size([1, 128])\n",
      "649\n",
      "iter 4 of 5\n",
      "torch.Size([1, 128])\n",
      "649\n",
      "iter 5 of 5\n",
      "torch.Size([1, 128])\n",
      "649\n",
      "iter 1 of 5\n",
      "torch.Size([1, 128])\n",
      "649\n",
      "iter 2 of 5\n",
      "torch.Size([1, 128])\n",
      "649\n",
      "iter 3 of 5\n",
      "torch.Size([1, 128])\n",
      "649\n",
      "iter 4 of 5\n",
      "torch.Size([1, 128])\n",
      "649\n",
      "iter 5 of 5\n",
      "torch.Size([1, 128])\n",
      "649\n",
      "iter 1 of 5\n",
      "torch.Size([1, 128])\n",
      "649\n",
      "iter 2 of 5\n",
      "torch.Size([1, 128])\n",
      "649\n",
      "iter 3 of 5\n",
      "torch.Size([1, 128])\n",
      "649\n",
      "iter 4 of 5\n",
      "torch.Size([1, 128])\n",
      "649\n",
      "iter 5 of 5\n",
      "torch.Size([1, 128])\n",
      "649\n",
      "iter 1 of 5\n",
      "torch.Size([1, 128])\n",
      "649\n",
      "iter 2 of 5\n",
      "torch.Size([1, 128])\n",
      "649\n",
      "iter 3 of 5\n",
      "torch.Size([1, 128])\n",
      "649\n",
      "iter 4 of 5\n",
      "torch.Size([1, 128])\n",
      "649\n",
      "iter 5 of 5\n",
      "torch.Size([1, 128])\n",
      "649\n",
      "iter 1 of 5\n",
      "torch.Size([1, 128])\n",
      "649\n",
      "iter 2 of 5\n",
      "torch.Size([1, 128])\n",
      "649\n",
      "iter 3 of 5\n",
      "torch.Size([1, 128])\n",
      "649\n",
      "iter 4 of 5\n",
      "torch.Size([1, 128])\n",
      "649\n",
      "iter 5 of 5\n",
      "torch.Size([1, 128])\n",
      "649\n",
      "iter 1 of 5\n",
      "torch.Size([1, 128])\n",
      "649\n",
      "iter 2 of 5\n",
      "torch.Size([1, 128])\n",
      "649\n",
      "iter 3 of 5\n",
      "torch.Size([1, 128])\n",
      "649\n",
      "iter 4 of 5\n",
      "torch.Size([1, 128])\n",
      "649\n",
      "iter 5 of 5\n",
      "torch.Size([1, 128])\n",
      "649\n",
      "iter 1 of 5\n",
      "torch.Size([1, 128])\n",
      "649\n",
      "iter 2 of 5\n",
      "torch.Size([1, 128])\n",
      "649\n",
      "iter 3 of 5\n",
      "torch.Size([1, 128])\n",
      "649\n",
      "iter 4 of 5\n",
      "torch.Size([1, 128])\n",
      "649\n",
      "iter 5 of 5\n",
      "torch.Size([1, 128])\n",
      "649\n",
      "iter 1 of 5\n",
      "torch.Size([1, 128])\n",
      "649\n",
      "iter 2 of 5\n",
      "torch.Size([1, 128])\n",
      "649\n",
      "iter 3 of 5\n",
      "torch.Size([1, 128])\n",
      "649\n",
      "iter 4 of 5\n",
      "torch.Size([1, 128])\n",
      "649\n",
      "iter 5 of 5\n",
      "torch.Size([1, 128])\n",
      "649\n",
      "iter 1 of 5\n",
      "torch.Size([1, 128])\n",
      "649\n",
      "iter 2 of 5\n",
      "torch.Size([1, 128])\n",
      "649\n",
      "iter 3 of 5\n",
      "torch.Size([1, 128])\n",
      "649\n",
      "iter 4 of 5\n",
      "torch.Size([1, 128])\n",
      "649\n",
      "iter 5 of 5\n",
      "torch.Size([1, 128])\n",
      "649\n",
      "iter 1 of 5\n",
      "torch.Size([1, 128])\n",
      "649\n",
      "iter 2 of 5\n",
      "torch.Size([1, 128])\n",
      "649\n",
      "iter 3 of 5\n",
      "torch.Size([1, 128])\n",
      "649\n",
      "iter 4 of 5\n",
      "torch.Size([1, 128])\n",
      "649\n",
      "iter 5 of 5\n",
      "torch.Size([1, 128])\n",
      "649\n",
      "iter 1 of 5\n",
      "torch.Size([1, 128])\n",
      "649\n",
      "iter 2 of 5\n",
      "torch.Size([1, 128])\n",
      "649\n",
      "iter 3 of 5\n",
      "torch.Size([1, 128])\n",
      "649\n",
      "iter 4 of 5\n",
      "torch.Size([1, 128])\n",
      "649\n",
      "iter 5 of 5\n",
      "torch.Size([1, 128])\n",
      "649\n",
      "iter 1 of 5\n",
      "torch.Size([1, 128])\n",
      "649\n",
      "iter 2 of 5\n",
      "torch.Size([1, 128])\n",
      "649\n",
      "iter 3 of 5\n",
      "torch.Size([1, 128])\n",
      "649\n",
      "iter 4 of 5\n",
      "torch.Size([1, 128])\n",
      "649\n",
      "iter 5 of 5\n",
      "torch.Size([1, 128])\n",
      "649\n",
      "iter 1 of 5\n",
      "torch.Size([1, 128])\n",
      "649\n",
      "iter 2 of 5\n",
      "torch.Size([1, 128])\n",
      "649\n",
      "iter 3 of 5\n",
      "torch.Size([1, 128])\n",
      "649\n",
      "iter 4 of 5\n",
      "torch.Size([1, 128])\n",
      "649\n",
      "iter 5 of 5\n",
      "torch.Size([1, 128])\n",
      "649\n",
      "iter 1 of 5\n",
      "torch.Size([1, 128])\n",
      "649\n",
      "iter 2 of 5\n",
      "torch.Size([1, 128])\n",
      "649\n",
      "iter 3 of 5\n",
      "torch.Size([1, 128])\n",
      "649\n",
      "iter 4 of 5\n",
      "torch.Size([1, 128])\n",
      "649\n",
      "iter 5 of 5\n",
      "torch.Size([1, 128])\n",
      "649\n",
      "iter 1 of 5\n",
      "torch.Size([1, 128])\n",
      "649\n",
      "iter 2 of 5\n",
      "torch.Size([1, 128])\n",
      "649\n",
      "iter 3 of 5\n",
      "torch.Size([1, 128])\n",
      "649\n",
      "iter 4 of 5\n",
      "torch.Size([1, 128])\n",
      "649\n",
      "iter 5 of 5\n",
      "torch.Size([1, 128])\n",
      "649\n",
      "iter 1 of 5\n",
      "torch.Size([1, 128])\n",
      "649\n",
      "iter 2 of 5\n",
      "torch.Size([1, 128])\n",
      "649\n",
      "iter 3 of 5\n",
      "torch.Size([1, 128])\n",
      "649\n",
      "iter 4 of 5\n",
      "torch.Size([1, 128])\n",
      "649\n",
      "iter 5 of 5\n",
      "torch.Size([1, 128])\n",
      "649\n",
      "iter 1 of 5\n",
      "torch.Size([1, 128])\n",
      "649\n",
      "iter 2 of 5\n",
      "torch.Size([1, 128])\n",
      "649\n",
      "iter 3 of 5\n",
      "torch.Size([1, 128])\n",
      "649\n",
      "iter 4 of 5\n",
      "torch.Size([1, 128])\n",
      "649\n",
      "iter 5 of 5\n",
      "torch.Size([1, 128])\n",
      "649\n",
      "iter 1 of 5\n",
      "torch.Size([1, 128])\n",
      "649\n",
      "iter 2 of 5\n",
      "torch.Size([1, 128])\n",
      "649\n",
      "iter 3 of 5\n",
      "torch.Size([1, 128])\n",
      "649\n",
      "iter 4 of 5\n",
      "torch.Size([1, 128])\n",
      "649\n",
      "iter 5 of 5\n",
      "torch.Size([1, 128])\n",
      "649\n",
      "iter 1 of 5\n",
      "torch.Size([1, 128])\n",
      "649\n",
      "iter 2 of 5\n",
      "torch.Size([1, 128])\n",
      "649\n",
      "iter 3 of 5\n",
      "torch.Size([1, 128])\n",
      "649\n",
      "iter 4 of 5\n",
      "torch.Size([1, 128])\n",
      "649\n",
      "iter 5 of 5\n",
      "torch.Size([1, 128])\n",
      "649\n",
      "iter 1 of 5\n",
      "torch.Size([1, 128])\n",
      "649\n",
      "iter 2 of 5\n",
      "torch.Size([1, 128])\n",
      "649\n",
      "iter 3 of 5\n",
      "torch.Size([1, 128])\n",
      "649\n",
      "iter 4 of 5\n",
      "torch.Size([1, 128])\n",
      "649\n",
      "iter 5 of 5\n",
      "torch.Size([1, 128])\n",
      "649\n",
      "iter 1 of 5\n",
      "torch.Size([1, 128])\n",
      "649\n",
      "iter 2 of 5\n",
      "torch.Size([1, 128])\n",
      "649\n",
      "iter 3 of 5\n",
      "torch.Size([1, 128])\n",
      "649\n",
      "iter 4 of 5\n",
      "torch.Size([1, 128])\n",
      "649\n",
      "iter 5 of 5\n",
      "torch.Size([1, 128])\n",
      "649\n",
      "====================== Summary ======================\n",
      "Mode              : Best f : Steps : Time            \n",
      "----------------  : ----   : ----  : ----            \n",
      "Initial solution  : 95.83  : 1     : 02:52 (m:s)     \n",
      "Random seeding    : 98.77  : 56    : 03:59:35 (h:m:s)\n",
      "Local sampling    : 98.7   : 64    : 03:54:48 (h:m:s)\n",
      "Duplicates        : -      : 72    : -               \n",
      "----------------  : ----   : ----  : ----            \n",
      "Total             : 98.77  : 193   : 07:57:16 (h:m:s)\n",
      "=====================================================\n",
      "mfeat_network_pca_fn_{'epochs': 100, 'masks_no': 7, 'mask_size': 324, 'target_size': 20, 'n_comp': 5, 'lr': 0.0003, 'batch_size': 128}\n"
     ]
    },
    {
     "data": {
      "text/plain": [
       "{'epochs': 100,\n",
       " 'masks_no': 7,\n",
       " 'mask_size': 324,\n",
       " 'target_size': 20,\n",
       " 'n_comp': 5,\n",
       " 'lr': 0.0003,\n",
       " 'batch_size': 128}"
      ]
     },
     "execution_count": 57,
     "metadata": {},
     "output_type": "execute_result"
    }
   ],
   "source": [
    "param_grid = {\n",
    "    \"epochs\": pyhopper.choice([100]),\n",
    "    \"masks_no\": pyhopper.choice([5, 7, 20]),\n",
    "    \"mask_size\": pyhopper.choice(mask_sizes),\n",
    "    \"target_size\": pyhopper.choice([5, 10, 20, 50]),\n",
    "    \"n_comp\": pyhopper.choice([5]),\n",
    "    \"lr\": pyhopper.choice([3e-5, 3e-4, 3e-3, 3e-2, 3e-1]),\n",
    "    \"batch_size\": pyhopper.choice([128]),\n",
    "\n",
    "}\n",
    "\n",
    "hp_pca_best_params, hp_pca_history = pyhopper_best_params(network_pca_fn, param_grid, time=\"480m\")\n",
    "hp_pca_best_params"
   ]
  },
  {
   "cell_type": "code",
   "execution_count": null,
   "id": "a9569bae-98d8-4d2b-9643-3e57fe6bdcbf",
   "metadata": {
    "jupyter": {
     "outputs_hidden": true
    },
    "scrolled": true,
    "tags": []
   },
   "outputs": [],
   "source": []
  },
  {
   "cell_type": "code",
   "execution_count": 58,
   "id": "df7c4b5b",
   "metadata": {},
   "outputs": [
    {
     "data": {
      "text/plain": [
       "{'epochs': 100,\n",
       " 'masks_no': 7,\n",
       " 'mask_size': 324,\n",
       " 'target_size': 20,\n",
       " 'n_comp': 5,\n",
       " 'lr': 0.0003,\n",
       " 'batch_size': 128}"
      ]
     },
     "execution_count": 58,
     "metadata": {},
     "output_type": "execute_result"
    }
   ],
   "source": [
    "hp_pca_best_params"
   ]
  },
  {
   "cell_type": "markdown",
   "id": "ffa4f868",
   "metadata": {},
   "source": [
    "'Libras'\n",
    "{'epochs': 150,\n",
    " 'masks_no': 70,\n",
    " 'mask_size': 20,\n",
    " 'target_size': 10,\n",
    " 'n_comp': 10}"
   ]
  },
  {
   "cell_type": "markdown",
   "id": "c8454fdc",
   "metadata": {},
   "source": [
    "'Lymphography' {'epochs': 120, 'masks_no': 50, 'mask_size': 4, 'target_size': 20, 'n_comp': 6}"
   ]
  },
  {
   "cell_type": "code",
   "execution_count": 59,
   "id": "e81b7e72",
   "metadata": {},
   "outputs": [
    {
     "data": {
      "text/plain": [
       "'mfeat'"
      ]
     },
     "execution_count": 59,
     "metadata": {},
     "output_type": "execute_result"
    }
   ],
   "source": [
    "DATA"
   ]
  },
  {
   "cell_type": "markdown",
   "id": "803eafa7",
   "metadata": {},
   "source": [
    "Ionosphere\n",
    "{'epochs': 100, 'masks_no': 60, 'mask_size': 5, 'target_size': 10}\n"
   ]
  },
  {
   "cell_type": "code",
   "execution_count": 60,
   "id": "f5b3a72c-14cf-4d70-bb83-1f0a8aad5144",
   "metadata": {
    "scrolled": true,
    "tags": []
   },
   "outputs": [
    {
     "name": "stdout",
     "output_type": "stream",
     "text": [
      "iter 1 of 10\n",
      "torch.Size([1, 128])\n",
      "649\n"
     ]
    },
    {
     "name": "stderr",
     "output_type": "stream",
     "text": [
      "100%|██████████| 100/100 [00:56<00:00,  1.76it/s]\n"
     ]
    },
    {
     "name": "stdout",
     "output_type": "stream",
     "text": [
      "iter 2 of 10\n",
      "torch.Size([1, 128])\n",
      "649\n"
     ]
    },
    {
     "name": "stderr",
     "output_type": "stream",
     "text": [
      "100%|██████████| 100/100 [00:57<00:00,  1.74it/s]\n"
     ]
    },
    {
     "name": "stdout",
     "output_type": "stream",
     "text": [
      "iter 3 of 10\n",
      "torch.Size([1, 128])\n",
      "649\n"
     ]
    },
    {
     "name": "stderr",
     "output_type": "stream",
     "text": [
      "100%|██████████| 100/100 [00:56<00:00,  1.76it/s]\n"
     ]
    },
    {
     "name": "stdout",
     "output_type": "stream",
     "text": [
      "iter 4 of 10\n",
      "torch.Size([1, 128])\n",
      "649\n"
     ]
    },
    {
     "name": "stderr",
     "output_type": "stream",
     "text": [
      "100%|██████████| 100/100 [00:57<00:00,  1.74it/s]\n"
     ]
    },
    {
     "name": "stdout",
     "output_type": "stream",
     "text": [
      "iter 5 of 10\n",
      "torch.Size([1, 128])\n",
      "649\n"
     ]
    },
    {
     "name": "stderr",
     "output_type": "stream",
     "text": [
      "100%|██████████| 100/100 [00:57<00:00,  1.74it/s]\n"
     ]
    },
    {
     "name": "stdout",
     "output_type": "stream",
     "text": [
      "iter 6 of 10\n",
      "torch.Size([1, 128])\n",
      "649\n"
     ]
    },
    {
     "name": "stderr",
     "output_type": "stream",
     "text": [
      "100%|██████████| 100/100 [00:56<00:00,  1.76it/s]\n"
     ]
    },
    {
     "name": "stdout",
     "output_type": "stream",
     "text": [
      "iter 7 of 10\n",
      "torch.Size([1, 128])\n",
      "649\n"
     ]
    },
    {
     "name": "stderr",
     "output_type": "stream",
     "text": [
      "100%|██████████| 100/100 [00:56<00:00,  1.76it/s]\n"
     ]
    },
    {
     "name": "stdout",
     "output_type": "stream",
     "text": [
      "iter 8 of 10\n",
      "torch.Size([1, 128])\n",
      "649\n"
     ]
    },
    {
     "name": "stderr",
     "output_type": "stream",
     "text": [
      "100%|██████████| 100/100 [00:57<00:00,  1.74it/s]\n"
     ]
    },
    {
     "name": "stdout",
     "output_type": "stream",
     "text": [
      "iter 9 of 10\n",
      "torch.Size([1, 128])\n",
      "649\n"
     ]
    },
    {
     "name": "stderr",
     "output_type": "stream",
     "text": [
      "100%|██████████| 100/100 [00:56<00:00,  1.76it/s]\n"
     ]
    },
    {
     "name": "stdout",
     "output_type": "stream",
     "text": [
      "iter 10 of 10\n",
      "torch.Size([1, 128])\n",
      "649\n"
     ]
    },
    {
     "name": "stderr",
     "output_type": "stream",
     "text": [
      "100%|██████████| 100/100 [00:58<00:00,  1.72it/s]\n"
     ]
    }
   ],
   "source": [
    "epochs = 100#hp_pca_best_params['epochs']\n",
    "masks_no = hp_pca_best_params['masks_no']\n",
    "mask_size = hp_pca_best_params['mask_size']\n",
    "target_size = hp_pca_best_params['target_size']\n",
    "n_comp = hp_pca_best_params['n_comp']\n",
    "lr = hp_pca_best_params['lr']\n",
    "batch_size = hp_pca_best_params['batch_size']\n",
    "data_size = max_size\n",
    "\n",
    "nn_pca_results = test_model(network_pca_fn(target_size=target_size, mask_size=mask_size, masks_no=masks_no, n_comp=n_comp, epochs=epochs, verbose=True),\n",
    "                (X, y),\n",
    "                data_size,\n",
    "                None, 10)\n",
    "\n",
    "# exp.log_table(\"metrics.csv\", nn_pca_results.groupby(\"Class\").mean())\n",
    "# exp.log_metric(\"f1_score\", nn_pca_results.groupby(\"Class\").mean().loc[\"F1 score\"])"
   ]
  },
  {
   "cell_type": "code",
   "execution_count": 61,
   "id": "b950280b-188d-4321-8db6-9cb69912a242",
   "metadata": {},
   "outputs": [
    {
     "name": "stdout",
     "output_type": "stream",
     "text": [
      "1400: 98.33 ~ 0.51 (max: 99.00)\n"
     ]
    }
   ],
   "source": [
    "res = nn_pca_results[nn_pca_results[\"Class\"]==\"Total\"].reset_index(drop=True)[\"Metric\"]\n",
    "print(f\"{data_size}: {res.mean():.2f} ~ {res.std():.2f} (max: {res.max():.2f})\")"
   ]
  },
  {
   "cell_type": "code",
   "execution_count": null,
   "id": "db6e0de7",
   "metadata": {},
   "outputs": [],
   "source": []
  },
  {
   "cell_type": "markdown",
   "id": "d82e3c9a-94c1-4984-a311-e0091c453333",
   "metadata": {},
   "source": [
    "### Hypernetwork"
   ]
  },
  {
   "cell_type": "code",
   "execution_count": 62,
   "id": "f81bdd75-482c-47ee-a9b3-4c2348f3b871",
   "metadata": {},
   "outputs": [],
   "source": [
    "def network_hp_fn(epochs=150, masks_no=100, mask_size=100, target_size=100, lr=3e-4, batch_size=64, verbose=False):\n",
    "    def _inner():\n",
    "        hypernet = Hypernetwork(\n",
    "                        target_architecture=[(mask_size, target_size), (target_size, n_classes)],\n",
    "                        test_nodes=masks_no,\n",
    "                        architecture=torch.nn.Sequential(torch.nn.Linear(n_features, 64), \n",
    "                            torch.nn.ReLU(),\n",
    "                            torch.nn.Linear(64, 128),\n",
    "                            torch.nn.ReLU(),\n",
    "                            torch.nn.Dropout(),\n",
    "                            torch.nn.Linear(128, 128),\n",
    "                            torch.nn.ReLU(),\n",
    "                        ),\n",
    "                        mode=TrainingModes.CARTHESIAN,\n",
    "                    ).to(DEVICE)    \n",
    "        hypernet = hypernet.train()\n",
    "\n",
    "        network = HypernetworkSklearnInterface(hypernet, device=DEVICE, epochs=epochs, batch_size=batch_size, verbose=verbose, lr=lr)\n",
    "        return network\n",
    "    return _inner\n"
   ]
  },
  {
   "cell_type": "markdown",
   "id": "b76e319a",
   "metadata": {},
   "source": [
    "#### Find hyperparams"
   ]
  },
  {
   "cell_type": "code",
   "execution_count": 63,
   "id": "5235e59c",
   "metadata": {},
   "outputs": [
    {
     "name": "stderr",
     "output_type": "stream",
     "text": [
      "2022-12-22 09:32:21.840 | INFO     | __main__:pyhopper_best_params:7 - pyhopper_best_params network_hp_fn\n"
     ]
    },
    {
     "data": {
      "application/vnd.jupyter.widget-view+json": {
       "model_id": "e70e571538194ad38984a4c73240af6d",
       "version_major": 2,
       "version_minor": 0
      },
      "text/plain": [
       "  0%|          | [00:00<?]"
      ]
     },
     "metadata": {},
     "output_type": "display_data"
    },
    {
     "name": "stdout",
     "output_type": "stream",
     "text": [
      "Search is scheduled for 08:00:00 (h:m:s)\n",
      "iter 1 of 5\n",
      "torch.Size([1, 128])\n",
      "iter 2 of 5\n",
      "torch.Size([1, 128])\n",
      "iter 3 of 5\n",
      "torch.Size([1, 128])\n",
      "iter 4 of 5\n",
      "torch.Size([1, 128])\n",
      "iter 5 of 5\n",
      "torch.Size([1, 128])\n",
      "iter 1 of 5\n",
      "torch.Size([1, 128])\n",
      "iter 2 of 5\n",
      "torch.Size([1, 128])\n",
      "iter 3 of 5\n",
      "torch.Size([1, 128])\n",
      "iter 4 of 5\n",
      "torch.Size([1, 128])\n",
      "iter 5 of 5\n",
      "torch.Size([1, 128])\n",
      "iter 1 of 5\n",
      "torch.Size([1, 128])\n",
      "iter 2 of 5\n",
      "torch.Size([1, 128])\n",
      "iter 3 of 5\n",
      "torch.Size([1, 128])\n",
      "iter 4 of 5\n",
      "torch.Size([1, 128])\n",
      "iter 5 of 5\n",
      "torch.Size([1, 128])\n",
      "iter 1 of 5\n",
      "torch.Size([1, 128])\n",
      "iter 2 of 5\n",
      "torch.Size([1, 128])\n",
      "iter 3 of 5\n",
      "torch.Size([1, 128])\n",
      "iter 4 of 5\n",
      "torch.Size([1, 128])\n",
      "iter 5 of 5\n",
      "torch.Size([1, 128])\n",
      "iter 1 of 5\n",
      "torch.Size([1, 128])\n",
      "iter 2 of 5\n",
      "torch.Size([1, 128])\n",
      "iter 3 of 5\n",
      "torch.Size([1, 128])\n",
      "iter 4 of 5\n",
      "torch.Size([1, 128])\n",
      "iter 5 of 5\n",
      "torch.Size([1, 128])\n",
      "iter 1 of 5\n",
      "torch.Size([1, 128])\n",
      "iter 2 of 5\n",
      "torch.Size([1, 128])\n",
      "iter 3 of 5\n",
      "torch.Size([1, 128])\n",
      "iter 4 of 5\n",
      "torch.Size([1, 128])\n",
      "iter 5 of 5\n",
      "torch.Size([1, 128])\n",
      "iter 1 of 5\n",
      "torch.Size([1, 128])\n",
      "iter 2 of 5\n",
      "torch.Size([1, 128])\n",
      "iter 3 of 5\n",
      "torch.Size([1, 128])\n",
      "iter 4 of 5\n",
      "torch.Size([1, 128])\n",
      "iter 5 of 5\n",
      "torch.Size([1, 128])\n",
      "iter 1 of 5\n",
      "torch.Size([1, 128])\n",
      "iter 2 of 5\n",
      "torch.Size([1, 128])\n",
      "iter 3 of 5\n",
      "torch.Size([1, 128])\n",
      "iter 4 of 5\n",
      "torch.Size([1, 128])\n",
      "iter 5 of 5\n",
      "torch.Size([1, 128])\n",
      "iter 1 of 5\n",
      "torch.Size([1, 128])\n",
      "iter 2 of 5\n",
      "torch.Size([1, 128])\n",
      "iter 3 of 5\n",
      "torch.Size([1, 128])\n",
      "iter 4 of 5\n",
      "torch.Size([1, 128])\n",
      "iter 5 of 5\n",
      "torch.Size([1, 128])\n",
      "iter 1 of 5\n",
      "torch.Size([1, 128])\n",
      "iter 2 of 5\n",
      "torch.Size([1, 128])\n",
      "iter 3 of 5\n",
      "torch.Size([1, 128])\n",
      "iter 4 of 5\n",
      "torch.Size([1, 128])\n",
      "iter 5 of 5\n",
      "torch.Size([1, 128])\n",
      "iter 1 of 5\n",
      "torch.Size([1, 128])\n",
      "iter 2 of 5\n",
      "torch.Size([1, 128])\n",
      "iter 3 of 5\n",
      "torch.Size([1, 128])\n",
      "iter 4 of 5\n",
      "torch.Size([1, 128])\n",
      "iter 5 of 5\n",
      "torch.Size([1, 128])\n",
      "iter 1 of 5\n",
      "torch.Size([1, 128])\n",
      "iter 2 of 5\n",
      "torch.Size([1, 128])\n",
      "iter 3 of 5\n",
      "torch.Size([1, 128])\n",
      "iter 4 of 5\n",
      "torch.Size([1, 128])\n",
      "iter 5 of 5\n",
      "torch.Size([1, 128])\n",
      "iter 1 of 5\n",
      "torch.Size([1, 128])\n",
      "iter 2 of 5\n",
      "torch.Size([1, 128])\n",
      "iter 3 of 5\n",
      "torch.Size([1, 128])\n",
      "iter 4 of 5\n",
      "torch.Size([1, 128])\n",
      "iter 5 of 5\n",
      "torch.Size([1, 128])\n",
      "iter 1 of 5\n",
      "torch.Size([1, 128])\n",
      "iter 2 of 5\n",
      "torch.Size([1, 128])\n",
      "iter 3 of 5\n",
      "torch.Size([1, 128])\n",
      "iter 4 of 5\n",
      "torch.Size([1, 128])\n",
      "iter 5 of 5\n",
      "torch.Size([1, 128])\n",
      "iter 1 of 5\n",
      "torch.Size([1, 128])\n",
      "iter 2 of 5\n",
      "torch.Size([1, 128])\n",
      "iter 3 of 5\n",
      "torch.Size([1, 128])\n",
      "iter 4 of 5\n",
      "torch.Size([1, 128])\n",
      "iter 5 of 5\n",
      "torch.Size([1, 128])\n",
      "iter 1 of 5\n",
      "torch.Size([1, 128])\n",
      "iter 2 of 5\n",
      "torch.Size([1, 128])\n",
      "iter 3 of 5\n",
      "torch.Size([1, 128])\n",
      "iter 4 of 5\n",
      "torch.Size([1, 128])\n",
      "iter 5 of 5\n",
      "torch.Size([1, 128])\n",
      "iter 1 of 5\n",
      "torch.Size([1, 128])\n",
      "iter 2 of 5\n",
      "torch.Size([1, 128])\n",
      "iter 3 of 5\n",
      "torch.Size([1, 128])\n",
      "iter 4 of 5\n",
      "torch.Size([1, 128])\n",
      "iter 5 of 5\n",
      "torch.Size([1, 128])\n",
      "iter 1 of 5\n",
      "torch.Size([1, 128])\n",
      "iter 2 of 5\n",
      "torch.Size([1, 128])\n",
      "iter 3 of 5\n",
      "torch.Size([1, 128])\n",
      "iter 4 of 5\n",
      "torch.Size([1, 128])\n",
      "iter 5 of 5\n",
      "torch.Size([1, 128])\n",
      "iter 1 of 5\n",
      "torch.Size([1, 128])\n",
      "iter 2 of 5\n",
      "torch.Size([1, 128])\n",
      "iter 3 of 5\n",
      "torch.Size([1, 128])\n",
      "iter 4 of 5\n",
      "torch.Size([1, 128])\n",
      "iter 5 of 5\n",
      "torch.Size([1, 128])\n",
      "iter 1 of 5\n",
      "torch.Size([1, 128])\n",
      "iter 2 of 5\n",
      "torch.Size([1, 128])\n",
      "iter 3 of 5\n",
      "torch.Size([1, 128])\n",
      "iter 4 of 5\n",
      "torch.Size([1, 128])\n",
      "iter 5 of 5\n",
      "torch.Size([1, 128])\n",
      "iter 1 of 5\n",
      "torch.Size([1, 128])\n",
      "iter 2 of 5\n",
      "torch.Size([1, 128])\n",
      "iter 3 of 5\n",
      "torch.Size([1, 128])\n",
      "iter 4 of 5\n",
      "torch.Size([1, 128])\n",
      "iter 5 of 5\n",
      "torch.Size([1, 128])\n",
      "iter 1 of 5\n",
      "torch.Size([1, 128])\n",
      "iter 2 of 5\n",
      "torch.Size([1, 128])\n",
      "iter 3 of 5\n",
      "torch.Size([1, 128])\n",
      "iter 4 of 5\n",
      "torch.Size([1, 128])\n",
      "iter 5 of 5\n",
      "torch.Size([1, 128])\n",
      "iter 1 of 5\n",
      "torch.Size([1, 128])\n",
      "iter 2 of 5\n",
      "torch.Size([1, 128])\n",
      "iter 3 of 5\n",
      "torch.Size([1, 128])\n",
      "iter 4 of 5\n",
      "torch.Size([1, 128])\n",
      "iter 5 of 5\n",
      "torch.Size([1, 128])\n",
      "iter 1 of 5\n",
      "torch.Size([1, 128])\n",
      "iter 2 of 5\n",
      "torch.Size([1, 128])\n",
      "iter 3 of 5\n",
      "torch.Size([1, 128])\n",
      "iter 4 of 5\n",
      "torch.Size([1, 128])\n",
      "iter 5 of 5\n",
      "torch.Size([1, 128])\n",
      "iter 1 of 5\n",
      "torch.Size([1, 128])\n",
      "iter 2 of 5\n",
      "torch.Size([1, 128])\n",
      "iter 3 of 5\n",
      "torch.Size([1, 128])\n",
      "iter 4 of 5\n",
      "torch.Size([1, 128])\n",
      "iter 5 of 5\n",
      "torch.Size([1, 128])\n",
      "iter 1 of 5\n",
      "torch.Size([1, 128])\n",
      "iter 2 of 5\n",
      "torch.Size([1, 128])\n",
      "iter 3 of 5\n",
      "torch.Size([1, 128])\n",
      "iter 4 of 5\n",
      "torch.Size([1, 128])\n",
      "iter 5 of 5\n",
      "torch.Size([1, 128])\n",
      "iter 1 of 5\n",
      "torch.Size([1, 128])\n",
      "iter 2 of 5\n",
      "torch.Size([1, 128])\n",
      "iter 3 of 5\n",
      "torch.Size([1, 128])\n",
      "iter 4 of 5\n",
      "torch.Size([1, 128])\n",
      "iter 5 of 5\n",
      "torch.Size([1, 128])\n",
      "iter 1 of 5\n",
      "torch.Size([1, 128])\n",
      "iter 2 of 5\n",
      "torch.Size([1, 128])\n",
      "iter 3 of 5\n",
      "torch.Size([1, 128])\n",
      "iter 4 of 5\n",
      "torch.Size([1, 128])\n",
      "iter 5 of 5\n",
      "torch.Size([1, 128])\n",
      "iter 1 of 5\n",
      "torch.Size([1, 128])\n",
      "iter 2 of 5\n",
      "torch.Size([1, 128])\n",
      "iter 3 of 5\n",
      "torch.Size([1, 128])\n",
      "iter 4 of 5\n",
      "torch.Size([1, 128])\n",
      "iter 5 of 5\n",
      "torch.Size([1, 128])\n",
      "iter 1 of 5\n",
      "torch.Size([1, 128])\n",
      "iter 2 of 5\n",
      "torch.Size([1, 128])\n",
      "iter 3 of 5\n",
      "torch.Size([1, 128])\n",
      "iter 4 of 5\n",
      "torch.Size([1, 128])\n",
      "iter 5 of 5\n",
      "torch.Size([1, 128])\n",
      "iter 1 of 5\n",
      "torch.Size([1, 128])\n",
      "iter 2 of 5\n",
      "torch.Size([1, 128])\n",
      "iter 3 of 5\n",
      "torch.Size([1, 128])\n",
      "iter 4 of 5\n",
      "torch.Size([1, 128])\n",
      "iter 5 of 5\n",
      "torch.Size([1, 128])\n",
      "iter 1 of 5\n",
      "torch.Size([1, 128])\n",
      "iter 2 of 5\n",
      "torch.Size([1, 128])\n",
      "iter 3 of 5\n",
      "torch.Size([1, 128])\n",
      "iter 4 of 5\n",
      "torch.Size([1, 128])\n",
      "iter 5 of 5\n",
      "torch.Size([1, 128])\n",
      "iter 1 of 5\n",
      "torch.Size([1, 128])\n",
      "iter 2 of 5\n",
      "torch.Size([1, 128])\n",
      "iter 3 of 5\n",
      "torch.Size([1, 128])\n",
      "iter 4 of 5\n",
      "torch.Size([1, 128])\n",
      "iter 5 of 5\n",
      "torch.Size([1, 128])\n",
      "iter 1 of 5\n",
      "torch.Size([1, 128])\n",
      "iter 2 of 5\n",
      "torch.Size([1, 128])\n",
      "iter 3 of 5\n",
      "torch.Size([1, 128])\n",
      "iter 4 of 5\n",
      "torch.Size([1, 128])\n",
      "iter 5 of 5\n",
      "torch.Size([1, 128])\n",
      "iter 1 of 5\n",
      "torch.Size([1, 128])\n",
      "iter 2 of 5\n",
      "torch.Size([1, 128])\n",
      "iter 3 of 5\n",
      "torch.Size([1, 128])\n",
      "iter 4 of 5\n",
      "torch.Size([1, 128])\n",
      "iter 5 of 5\n",
      "torch.Size([1, 128])\n",
      "iter 1 of 5\n",
      "torch.Size([1, 128])\n",
      "iter 2 of 5\n",
      "torch.Size([1, 128])\n",
      "iter 3 of 5\n",
      "torch.Size([1, 128])\n",
      "iter 4 of 5\n",
      "torch.Size([1, 128])\n",
      "iter 5 of 5\n",
      "torch.Size([1, 128])\n",
      "iter 1 of 5\n",
      "torch.Size([1, 128])\n",
      "iter 2 of 5\n",
      "torch.Size([1, 128])\n",
      "iter 3 of 5\n",
      "torch.Size([1, 128])\n",
      "iter 4 of 5\n",
      "torch.Size([1, 128])\n",
      "iter 5 of 5\n",
      "torch.Size([1, 128])\n",
      "iter 1 of 5\n",
      "torch.Size([1, 128])\n",
      "iter 2 of 5\n",
      "torch.Size([1, 128])\n",
      "iter 3 of 5\n",
      "torch.Size([1, 128])\n",
      "iter 4 of 5\n",
      "torch.Size([1, 128])\n",
      "iter 5 of 5\n",
      "torch.Size([1, 128])\n",
      "iter 1 of 5\n",
      "torch.Size([1, 128])\n",
      "iter 2 of 5\n",
      "torch.Size([1, 128])\n",
      "iter 3 of 5\n",
      "torch.Size([1, 128])\n",
      "iter 4 of 5\n",
      "torch.Size([1, 128])\n",
      "iter 5 of 5\n",
      "torch.Size([1, 128])\n",
      "iter 1 of 5\n",
      "torch.Size([1, 128])\n",
      "iter 2 of 5\n",
      "torch.Size([1, 128])\n",
      "iter 3 of 5\n",
      "torch.Size([1, 128])\n",
      "iter 4 of 5\n",
      "torch.Size([1, 128])\n",
      "iter 5 of 5\n",
      "torch.Size([1, 128])\n",
      "iter 1 of 5\n",
      "torch.Size([1, 128])\n",
      "iter 2 of 5\n",
      "torch.Size([1, 128])\n",
      "iter 3 of 5\n",
      "torch.Size([1, 128])\n",
      "iter 4 of 5\n",
      "torch.Size([1, 128])\n",
      "iter 5 of 5\n",
      "torch.Size([1, 128])\n",
      "iter 1 of 5\n",
      "torch.Size([1, 128])\n",
      "iter 2 of 5\n",
      "torch.Size([1, 128])\n",
      "iter 3 of 5\n",
      "torch.Size([1, 128])\n",
      "iter 4 of 5\n",
      "torch.Size([1, 128])\n",
      "iter 5 of 5\n",
      "torch.Size([1, 128])\n",
      "iter 1 of 5\n",
      "torch.Size([1, 128])\n",
      "iter 2 of 5\n",
      "torch.Size([1, 128])\n",
      "iter 3 of 5\n",
      "torch.Size([1, 128])\n",
      "iter 4 of 5\n",
      "torch.Size([1, 128])\n",
      "iter 5 of 5\n",
      "torch.Size([1, 128])\n",
      "iter 1 of 5\n",
      "torch.Size([1, 128])\n",
      "iter 2 of 5\n",
      "torch.Size([1, 128])\n",
      "iter 3 of 5\n",
      "torch.Size([1, 128])\n",
      "iter 4 of 5\n",
      "torch.Size([1, 128])\n",
      "iter 5 of 5\n",
      "torch.Size([1, 128])\n",
      "iter 1 of 5\n",
      "torch.Size([1, 128])\n",
      "iter 2 of 5\n",
      "torch.Size([1, 128])\n",
      "iter 3 of 5\n",
      "torch.Size([1, 128])\n",
      "iter 4 of 5\n",
      "torch.Size([1, 128])\n",
      "iter 5 of 5\n",
      "torch.Size([1, 128])\n",
      "iter 1 of 5\n",
      "torch.Size([1, 128])\n",
      "iter 2 of 5\n",
      "torch.Size([1, 128])\n",
      "iter 3 of 5\n",
      "torch.Size([1, 128])\n",
      "iter 4 of 5\n",
      "torch.Size([1, 128])\n",
      "iter 5 of 5\n",
      "torch.Size([1, 128])\n",
      "iter 1 of 5\n",
      "torch.Size([1, 128])\n",
      "iter 2 of 5\n",
      "torch.Size([1, 128])\n",
      "iter 3 of 5\n",
      "torch.Size([1, 128])\n",
      "iter 4 of 5\n",
      "torch.Size([1, 128])\n",
      "iter 5 of 5\n",
      "torch.Size([1, 128])\n",
      "iter 1 of 5\n",
      "torch.Size([1, 128])\n",
      "iter 2 of 5\n",
      "torch.Size([1, 128])\n",
      "iter 3 of 5\n",
      "torch.Size([1, 128])\n",
      "iter 4 of 5\n",
      "torch.Size([1, 128])\n",
      "iter 5 of 5\n",
      "torch.Size([1, 128])\n",
      "iter 1 of 5\n",
      "torch.Size([1, 128])\n",
      "iter 2 of 5\n",
      "torch.Size([1, 128])\n",
      "iter 3 of 5\n",
      "torch.Size([1, 128])\n",
      "iter 4 of 5\n",
      "torch.Size([1, 128])\n",
      "iter 5 of 5\n",
      "torch.Size([1, 128])\n",
      "iter 1 of 5\n",
      "torch.Size([1, 128])\n",
      "iter 2 of 5\n",
      "torch.Size([1, 128])\n",
      "iter 3 of 5\n",
      "torch.Size([1, 128])\n"
     ]
    },
    {
     "name": "stdout",
     "output_type": "stream",
     "text": [
      "iter 4 of 5\n",
      "torch.Size([1, 128])\n",
      "iter 5 of 5\n",
      "torch.Size([1, 128])\n",
      "iter 1 of 5\n",
      "torch.Size([1, 128])\n",
      "iter 2 of 5\n",
      "torch.Size([1, 128])\n",
      "iter 3 of 5\n",
      "torch.Size([1, 128])\n",
      "iter 4 of 5\n",
      "torch.Size([1, 128])\n",
      "iter 5 of 5\n",
      "torch.Size([1, 128])\n",
      "iter 1 of 5\n",
      "torch.Size([1, 128])\n",
      "iter 2 of 5\n",
      "torch.Size([1, 128])\n",
      "iter 3 of 5\n",
      "torch.Size([1, 128])\n",
      "iter 4 of 5\n",
      "torch.Size([1, 128])\n",
      "iter 5 of 5\n",
      "torch.Size([1, 128])\n",
      "iter 1 of 5\n",
      "torch.Size([1, 128])\n",
      "iter 2 of 5\n",
      "torch.Size([1, 128])\n",
      "iter 3 of 5\n",
      "torch.Size([1, 128])\n",
      "iter 4 of 5\n",
      "torch.Size([1, 128])\n",
      "iter 5 of 5\n",
      "torch.Size([1, 128])\n",
      "iter 1 of 5\n",
      "torch.Size([1, 128])\n",
      "iter 2 of 5\n",
      "torch.Size([1, 128])\n",
      "iter 3 of 5\n",
      "torch.Size([1, 128])\n",
      "iter 4 of 5\n",
      "torch.Size([1, 128])\n",
      "iter 5 of 5\n",
      "torch.Size([1, 128])\n",
      "iter 1 of 5\n",
      "torch.Size([1, 128])\n",
      "iter 2 of 5\n",
      "torch.Size([1, 128])\n",
      "iter 3 of 5\n",
      "torch.Size([1, 128])\n",
      "iter 4 of 5\n",
      "torch.Size([1, 128])\n",
      "iter 5 of 5\n",
      "torch.Size([1, 128])\n",
      "iter 1 of 5\n",
      "torch.Size([1, 128])\n",
      "iter 2 of 5\n",
      "torch.Size([1, 128])\n",
      "iter 3 of 5\n",
      "torch.Size([1, 128])\n",
      "iter 4 of 5\n",
      "torch.Size([1, 128])\n",
      "iter 5 of 5\n",
      "torch.Size([1, 128])\n",
      "iter 1 of 5\n",
      "torch.Size([1, 128])\n",
      "iter 2 of 5\n",
      "torch.Size([1, 128])\n",
      "iter 3 of 5\n",
      "torch.Size([1, 128])\n",
      "iter 4 of 5\n",
      "torch.Size([1, 128])\n",
      "iter 5 of 5\n",
      "torch.Size([1, 128])\n",
      "iter 1 of 5\n",
      "torch.Size([1, 128])\n",
      "iter 2 of 5\n",
      "torch.Size([1, 128])\n",
      "iter 3 of 5\n",
      "torch.Size([1, 128])\n",
      "iter 4 of 5\n",
      "torch.Size([1, 128])\n",
      "iter 5 of 5\n",
      "torch.Size([1, 128])\n",
      "iter 1 of 5\n",
      "torch.Size([1, 128])\n",
      "iter 2 of 5\n",
      "torch.Size([1, 128])\n",
      "iter 3 of 5\n",
      "torch.Size([1, 128])\n",
      "iter 4 of 5\n",
      "torch.Size([1, 128])\n",
      "iter 5 of 5\n",
      "torch.Size([1, 128])\n",
      "iter 1 of 5\n",
      "torch.Size([1, 128])\n",
      "iter 2 of 5\n",
      "torch.Size([1, 128])\n",
      "iter 3 of 5\n",
      "torch.Size([1, 128])\n",
      "iter 4 of 5\n",
      "torch.Size([1, 128])\n",
      "iter 5 of 5\n",
      "torch.Size([1, 128])\n",
      "iter 1 of 5\n",
      "torch.Size([1, 128])\n",
      "iter 2 of 5\n",
      "torch.Size([1, 128])\n",
      "iter 3 of 5\n",
      "torch.Size([1, 128])\n",
      "iter 4 of 5\n",
      "torch.Size([1, 128])\n",
      "iter 5 of 5\n",
      "torch.Size([1, 128])\n",
      "iter 1 of 5\n",
      "torch.Size([1, 128])\n",
      "iter 2 of 5\n",
      "torch.Size([1, 128])\n",
      "iter 3 of 5\n",
      "torch.Size([1, 128])\n",
      "iter 4 of 5\n",
      "torch.Size([1, 128])\n",
      "iter 5 of 5\n",
      "torch.Size([1, 128])\n",
      "iter 1 of 5\n",
      "torch.Size([1, 128])\n",
      "iter 2 of 5\n",
      "torch.Size([1, 128])\n",
      "iter 3 of 5\n",
      "torch.Size([1, 128])\n",
      "iter 4 of 5\n",
      "torch.Size([1, 128])\n",
      "iter 5 of 5\n",
      "torch.Size([1, 128])\n",
      "iter 1 of 5\n",
      "torch.Size([1, 128])\n",
      "iter 2 of 5\n",
      "torch.Size([1, 128])\n",
      "iter 3 of 5\n",
      "torch.Size([1, 128])\n",
      "iter 4 of 5\n",
      "torch.Size([1, 128])\n",
      "iter 5 of 5\n",
      "torch.Size([1, 128])\n",
      "iter 1 of 5\n",
      "torch.Size([1, 128])\n",
      "iter 2 of 5\n",
      "torch.Size([1, 128])\n",
      "iter 3 of 5\n",
      "torch.Size([1, 128])\n",
      "iter 4 of 5\n",
      "torch.Size([1, 128])\n",
      "iter 5 of 5\n",
      "torch.Size([1, 128])\n",
      "iter 1 of 5\n",
      "torch.Size([1, 128])\n",
      "iter 2 of 5\n",
      "torch.Size([1, 128])\n",
      "iter 3 of 5\n",
      "torch.Size([1, 128])\n",
      "iter 4 of 5\n",
      "torch.Size([1, 128])\n",
      "iter 5 of 5\n",
      "torch.Size([1, 128])\n",
      "iter 1 of 5\n",
      "torch.Size([1, 128])\n",
      "iter 2 of 5\n",
      "torch.Size([1, 128])\n",
      "iter 3 of 5\n",
      "torch.Size([1, 128])\n",
      "iter 4 of 5\n",
      "torch.Size([1, 128])\n",
      "iter 5 of 5\n",
      "torch.Size([1, 128])\n",
      "iter 1 of 5\n",
      "torch.Size([1, 128])\n",
      "iter 2 of 5\n",
      "torch.Size([1, 128])\n",
      "iter 3 of 5\n",
      "torch.Size([1, 128])\n",
      "iter 4 of 5\n",
      "torch.Size([1, 128])\n",
      "iter 5 of 5\n",
      "torch.Size([1, 128])\n",
      "iter 1 of 5\n",
      "torch.Size([1, 128])\n",
      "iter 2 of 5\n",
      "torch.Size([1, 128])\n",
      "iter 3 of 5\n",
      "torch.Size([1, 128])\n",
      "iter 4 of 5\n",
      "torch.Size([1, 128])\n",
      "iter 5 of 5\n",
      "torch.Size([1, 128])\n",
      "iter 1 of 5\n",
      "torch.Size([1, 128])\n",
      "iter 2 of 5\n",
      "torch.Size([1, 128])\n",
      "iter 3 of 5\n",
      "torch.Size([1, 128])\n",
      "iter 4 of 5\n",
      "torch.Size([1, 128])\n",
      "iter 5 of 5\n",
      "torch.Size([1, 128])\n",
      "iter 1 of 5\n",
      "torch.Size([1, 128])\n",
      "iter 2 of 5\n",
      "torch.Size([1, 128])\n",
      "iter 3 of 5\n",
      "torch.Size([1, 128])\n",
      "iter 4 of 5\n",
      "torch.Size([1, 128])\n",
      "iter 5 of 5\n",
      "torch.Size([1, 128])\n",
      "iter 1 of 5\n",
      "torch.Size([1, 128])\n",
      "iter 2 of 5\n",
      "torch.Size([1, 128])\n",
      "iter 3 of 5\n",
      "torch.Size([1, 128])\n",
      "iter 4 of 5\n",
      "torch.Size([1, 128])\n",
      "iter 5 of 5\n",
      "torch.Size([1, 128])\n",
      "iter 1 of 5\n",
      "torch.Size([1, 128])\n",
      "iter 2 of 5\n",
      "torch.Size([1, 128])\n",
      "iter 3 of 5\n",
      "torch.Size([1, 128])\n",
      "iter 4 of 5\n",
      "torch.Size([1, 128])\n",
      "iter 5 of 5\n",
      "torch.Size([1, 128])\n",
      "iter 1 of 5\n",
      "torch.Size([1, 128])\n",
      "iter 2 of 5\n",
      "torch.Size([1, 128])\n",
      "iter 3 of 5\n",
      "torch.Size([1, 128])\n",
      "iter 4 of 5\n",
      "torch.Size([1, 128])\n",
      "iter 5 of 5\n",
      "torch.Size([1, 128])\n",
      "iter 1 of 5\n",
      "torch.Size([1, 128])\n",
      "iter 2 of 5\n",
      "torch.Size([1, 128])\n",
      "iter 3 of 5\n",
      "torch.Size([1, 128])\n",
      "iter 4 of 5\n",
      "torch.Size([1, 128])\n",
      "iter 5 of 5\n",
      "torch.Size([1, 128])\n",
      "iter 1 of 5\n",
      "torch.Size([1, 128])\n",
      "iter 2 of 5\n",
      "torch.Size([1, 128])\n",
      "iter 3 of 5\n",
      "torch.Size([1, 128])\n",
      "iter 4 of 5\n",
      "torch.Size([1, 128])\n",
      "iter 5 of 5\n",
      "torch.Size([1, 128])\n",
      "iter 1 of 5\n",
      "torch.Size([1, 128])\n",
      "iter 2 of 5\n",
      "torch.Size([1, 128])\n",
      "iter 3 of 5\n",
      "torch.Size([1, 128])\n",
      "iter 4 of 5\n",
      "torch.Size([1, 128])\n",
      "iter 5 of 5\n",
      "torch.Size([1, 128])\n",
      "iter 1 of 5\n",
      "torch.Size([1, 128])\n",
      "iter 2 of 5\n",
      "torch.Size([1, 128])\n",
      "iter 3 of 5\n",
      "torch.Size([1, 128])\n",
      "iter 4 of 5\n",
      "torch.Size([1, 128])\n",
      "iter 5 of 5\n",
      "torch.Size([1, 128])\n",
      "iter 1 of 5\n",
      "torch.Size([1, 128])\n",
      "iter 2 of 5\n",
      "torch.Size([1, 128])\n",
      "iter 3 of 5\n",
      "torch.Size([1, 128])\n",
      "iter 4 of 5\n",
      "torch.Size([1, 128])\n",
      "iter 5 of 5\n",
      "torch.Size([1, 128])\n",
      "iter 1 of 5\n",
      "torch.Size([1, 128])\n",
      "iter 2 of 5\n",
      "torch.Size([1, 128])\n",
      "iter 3 of 5\n",
      "torch.Size([1, 128])\n",
      "iter 4 of 5\n",
      "torch.Size([1, 128])\n",
      "iter 5 of 5\n",
      "torch.Size([1, 128])\n",
      "iter 1 of 5\n",
      "torch.Size([1, 128])\n",
      "iter 2 of 5\n",
      "torch.Size([1, 128])\n",
      "iter 3 of 5\n",
      "torch.Size([1, 128])\n",
      "iter 4 of 5\n",
      "torch.Size([1, 128])\n",
      "iter 5 of 5\n",
      "torch.Size([1, 128])\n",
      "iter 1 of 5\n",
      "torch.Size([1, 128])\n",
      "iter 2 of 5\n",
      "torch.Size([1, 128])\n",
      "iter 3 of 5\n",
      "torch.Size([1, 128])\n",
      "iter 4 of 5\n",
      "torch.Size([1, 128])\n",
      "iter 5 of 5\n",
      "torch.Size([1, 128])\n",
      "iter 1 of 5\n",
      "torch.Size([1, 128])\n",
      "iter 2 of 5\n",
      "torch.Size([1, 128])\n",
      "iter 3 of 5\n",
      "torch.Size([1, 128])\n",
      "iter 4 of 5\n",
      "torch.Size([1, 128])\n",
      "iter 5 of 5\n",
      "torch.Size([1, 128])\n",
      "iter 1 of 5\n",
      "torch.Size([1, 128])\n",
      "iter 2 of 5\n",
      "torch.Size([1, 128])\n",
      "iter 3 of 5\n",
      "torch.Size([1, 128])\n",
      "iter 4 of 5\n",
      "torch.Size([1, 128])\n",
      "iter 5 of 5\n",
      "torch.Size([1, 128])\n",
      "iter 1 of 5\n",
      "torch.Size([1, 128])\n",
      "iter 2 of 5\n",
      "torch.Size([1, 128])\n",
      "iter 3 of 5\n",
      "torch.Size([1, 128])\n",
      "iter 4 of 5\n",
      "torch.Size([1, 128])\n",
      "iter 5 of 5\n",
      "torch.Size([1, 128])\n",
      "iter 1 of 5\n",
      "torch.Size([1, 128])\n",
      "iter 2 of 5\n",
      "torch.Size([1, 128])\n",
      "iter 3 of 5\n",
      "torch.Size([1, 128])\n",
      "iter 4 of 5\n",
      "torch.Size([1, 128])\n",
      "iter 5 of 5\n",
      "torch.Size([1, 128])\n",
      "iter 1 of 5\n",
      "torch.Size([1, 128])\n",
      "iter 2 of 5\n",
      "torch.Size([1, 128])\n",
      "iter 3 of 5\n",
      "torch.Size([1, 128])\n",
      "iter 4 of 5\n",
      "torch.Size([1, 128])\n",
      "iter 5 of 5\n",
      "torch.Size([1, 128])\n",
      "iter 1 of 5\n",
      "torch.Size([1, 128])\n",
      "iter 2 of 5\n",
      "torch.Size([1, 128])\n",
      "iter 3 of 5\n",
      "torch.Size([1, 128])\n",
      "iter 4 of 5\n",
      "torch.Size([1, 128])\n",
      "iter 5 of 5\n",
      "torch.Size([1, 128])\n",
      "iter 1 of 5\n",
      "torch.Size([1, 128])\n",
      "iter 2 of 5\n",
      "torch.Size([1, 128])\n",
      "iter 3 of 5\n",
      "torch.Size([1, 128])\n",
      "iter 4 of 5\n",
      "torch.Size([1, 128])\n",
      "iter 5 of 5\n",
      "torch.Size([1, 128])\n",
      "iter 1 of 5\n",
      "torch.Size([1, 128])\n",
      "iter 2 of 5\n",
      "torch.Size([1, 128])\n",
      "iter 3 of 5\n",
      "torch.Size([1, 128])\n",
      "iter 4 of 5\n",
      "torch.Size([1, 128])\n",
      "iter 5 of 5\n",
      "torch.Size([1, 128])\n",
      "iter 1 of 5\n",
      "torch.Size([1, 128])\n",
      "iter 2 of 5\n",
      "torch.Size([1, 128])\n",
      "iter 3 of 5\n",
      "torch.Size([1, 128])\n",
      "iter 4 of 5\n",
      "torch.Size([1, 128])\n",
      "iter 5 of 5\n",
      "torch.Size([1, 128])\n",
      "iter 1 of 5\n",
      "torch.Size([1, 128])\n",
      "iter 2 of 5\n",
      "torch.Size([1, 128])\n",
      "iter 3 of 5\n",
      "torch.Size([1, 128])\n",
      "iter 4 of 5\n",
      "torch.Size([1, 128])\n",
      "iter 5 of 5\n",
      "torch.Size([1, 128])\n",
      "iter 1 of 5\n",
      "torch.Size([1, 128])\n",
      "iter 2 of 5\n",
      "torch.Size([1, 128])\n",
      "iter 3 of 5\n",
      "torch.Size([1, 128])\n",
      "iter 4 of 5\n",
      "torch.Size([1, 128])\n",
      "iter 5 of 5\n",
      "torch.Size([1, 128])\n",
      "iter 1 of 5\n",
      "torch.Size([1, 128])\n",
      "iter 2 of 5\n",
      "torch.Size([1, 128])\n",
      "iter 3 of 5\n",
      "torch.Size([1, 128])\n",
      "iter 4 of 5\n",
      "torch.Size([1, 128])\n",
      "iter 5 of 5\n",
      "torch.Size([1, 128])\n",
      "iter 1 of 5\n",
      "torch.Size([1, 128])\n",
      "iter 2 of 5\n",
      "torch.Size([1, 128])\n",
      "iter 3 of 5\n",
      "torch.Size([1, 128])\n",
      "iter 4 of 5\n",
      "torch.Size([1, 128])\n",
      "iter 5 of 5\n",
      "torch.Size([1, 128])\n",
      "iter 1 of 5\n",
      "torch.Size([1, 128])\n",
      "iter 2 of 5\n",
      "torch.Size([1, 128])\n",
      "iter 3 of 5\n",
      "torch.Size([1, 128])\n",
      "iter 4 of 5\n",
      "torch.Size([1, 128])\n",
      "iter 5 of 5\n",
      "torch.Size([1, 128])\n",
      "iter 1 of 5\n",
      "torch.Size([1, 128])\n",
      "iter 2 of 5\n",
      "torch.Size([1, 128])\n",
      "iter 3 of 5\n",
      "torch.Size([1, 128])\n",
      "iter 4 of 5\n",
      "torch.Size([1, 128])\n",
      "iter 5 of 5\n",
      "torch.Size([1, 128])\n",
      "iter 1 of 5\n",
      "torch.Size([1, 128])\n",
      "iter 2 of 5\n",
      "torch.Size([1, 128])\n",
      "iter 3 of 5\n",
      "torch.Size([1, 128])\n",
      "iter 4 of 5\n",
      "torch.Size([1, 128])\n",
      "iter 5 of 5\n",
      "torch.Size([1, 128])\n",
      "iter 1 of 5\n",
      "torch.Size([1, 128])\n",
      "iter 2 of 5\n",
      "torch.Size([1, 128])\n",
      "iter 3 of 5\n",
      "torch.Size([1, 128])\n",
      "iter 4 of 5\n",
      "torch.Size([1, 128])\n",
      "iter 5 of 5\n",
      "torch.Size([1, 128])\n",
      "iter 1 of 5\n",
      "torch.Size([1, 128])\n",
      "iter 2 of 5\n",
      "torch.Size([1, 128])\n"
     ]
    },
    {
     "name": "stdout",
     "output_type": "stream",
     "text": [
      "iter 3 of 5\n",
      "torch.Size([1, 128])\n",
      "iter 4 of 5\n",
      "torch.Size([1, 128])\n",
      "iter 5 of 5\n",
      "torch.Size([1, 128])\n",
      "iter 1 of 5\n",
      "torch.Size([1, 128])\n",
      "iter 2 of 5\n",
      "torch.Size([1, 128])\n",
      "iter 3 of 5\n",
      "torch.Size([1, 128])\n",
      "iter 4 of 5\n",
      "torch.Size([1, 128])\n",
      "iter 5 of 5\n",
      "torch.Size([1, 128])\n",
      "iter 1 of 5\n",
      "torch.Size([1, 128])\n",
      "iter 2 of 5\n",
      "torch.Size([1, 128])\n",
      "iter 3 of 5\n",
      "torch.Size([1, 128])\n",
      "iter 4 of 5\n",
      "torch.Size([1, 128])\n",
      "iter 5 of 5\n",
      "torch.Size([1, 128])\n",
      "iter 1 of 5\n",
      "torch.Size([1, 128])\n",
      "iter 2 of 5\n",
      "torch.Size([1, 128])\n",
      "iter 3 of 5\n",
      "torch.Size([1, 128])\n",
      "iter 4 of 5\n",
      "torch.Size([1, 128])\n",
      "iter 5 of 5\n",
      "torch.Size([1, 128])\n",
      "iter 1 of 5\n",
      "torch.Size([1, 128])\n",
      "iter 2 of 5\n",
      "torch.Size([1, 128])\n",
      "iter 3 of 5\n",
      "torch.Size([1, 128])\n",
      "iter 4 of 5\n",
      "torch.Size([1, 128])\n",
      "iter 5 of 5\n",
      "torch.Size([1, 128])\n",
      "iter 1 of 5\n",
      "torch.Size([1, 128])\n",
      "iter 2 of 5\n",
      "torch.Size([1, 128])\n",
      "iter 3 of 5\n",
      "torch.Size([1, 128])\n",
      "iter 4 of 5\n",
      "torch.Size([1, 128])\n",
      "iter 5 of 5\n",
      "torch.Size([1, 128])\n",
      "iter 1 of 5\n",
      "torch.Size([1, 128])\n",
      "iter 2 of 5\n",
      "torch.Size([1, 128])\n",
      "iter 3 of 5\n",
      "torch.Size([1, 128])\n",
      "iter 4 of 5\n",
      "torch.Size([1, 128])\n",
      "iter 5 of 5\n",
      "torch.Size([1, 128])\n",
      "iter 1 of 5\n",
      "torch.Size([1, 128])\n",
      "iter 2 of 5\n",
      "torch.Size([1, 128])\n",
      "iter 3 of 5\n",
      "torch.Size([1, 128])\n",
      "iter 4 of 5\n",
      "torch.Size([1, 128])\n",
      "iter 5 of 5\n",
      "torch.Size([1, 128])\n",
      "iter 1 of 5\n",
      "torch.Size([1, 128])\n",
      "iter 2 of 5\n",
      "torch.Size([1, 128])\n",
      "iter 3 of 5\n",
      "torch.Size([1, 128])\n",
      "iter 4 of 5\n",
      "torch.Size([1, 128])\n",
      "iter 5 of 5\n",
      "torch.Size([1, 128])\n",
      "iter 1 of 5\n",
      "torch.Size([1, 128])\n",
      "iter 2 of 5\n",
      "torch.Size([1, 128])\n",
      "iter 3 of 5\n",
      "torch.Size([1, 128])\n",
      "iter 4 of 5\n",
      "torch.Size([1, 128])\n",
      "iter 5 of 5\n",
      "torch.Size([1, 128])\n",
      "iter 1 of 5\n",
      "torch.Size([1, 128])\n",
      "iter 2 of 5\n",
      "torch.Size([1, 128])\n",
      "iter 3 of 5\n",
      "torch.Size([1, 128])\n",
      "iter 4 of 5\n",
      "torch.Size([1, 128])\n",
      "iter 5 of 5\n",
      "torch.Size([1, 128])\n",
      "iter 1 of 5\n",
      "torch.Size([1, 128])\n",
      "iter 2 of 5\n",
      "torch.Size([1, 128])\n",
      "iter 3 of 5\n",
      "torch.Size([1, 128])\n",
      "iter 4 of 5\n",
      "torch.Size([1, 128])\n",
      "iter 5 of 5\n",
      "torch.Size([1, 128])\n",
      "iter 1 of 5\n",
      "torch.Size([1, 128])\n",
      "iter 2 of 5\n",
      "torch.Size([1, 128])\n",
      "iter 3 of 5\n",
      "torch.Size([1, 128])\n",
      "iter 4 of 5\n",
      "torch.Size([1, 128])\n",
      "iter 5 of 5\n",
      "torch.Size([1, 128])\n",
      "iter 1 of 5\n",
      "torch.Size([1, 128])\n",
      "iter 2 of 5\n",
      "torch.Size([1, 128])\n",
      "iter 3 of 5\n",
      "torch.Size([1, 128])\n",
      "iter 4 of 5\n",
      "torch.Size([1, 128])\n",
      "iter 5 of 5\n",
      "torch.Size([1, 128])\n",
      "iter 1 of 5\n",
      "torch.Size([1, 128])\n",
      "iter 2 of 5\n",
      "torch.Size([1, 128])\n",
      "iter 3 of 5\n",
      "torch.Size([1, 128])\n",
      "iter 4 of 5\n",
      "torch.Size([1, 128])\n",
      "iter 5 of 5\n",
      "torch.Size([1, 128])\n",
      "iter 1 of 5\n",
      "torch.Size([1, 128])\n",
      "iter 2 of 5\n",
      "torch.Size([1, 128])\n",
      "iter 3 of 5\n",
      "torch.Size([1, 128])\n",
      "iter 4 of 5\n",
      "torch.Size([1, 128])\n",
      "iter 5 of 5\n",
      "torch.Size([1, 128])\n",
      "iter 1 of 5\n",
      "torch.Size([1, 128])\n",
      "iter 2 of 5\n",
      "torch.Size([1, 128])\n",
      "iter 3 of 5\n",
      "torch.Size([1, 128])\n",
      "iter 4 of 5\n",
      "torch.Size([1, 128])\n",
      "iter 5 of 5\n",
      "torch.Size([1, 128])\n",
      "iter 1 of 5\n",
      "torch.Size([1, 128])\n",
      "iter 2 of 5\n",
      "torch.Size([1, 128])\n",
      "iter 3 of 5\n",
      "torch.Size([1, 128])\n",
      "iter 4 of 5\n",
      "torch.Size([1, 128])\n",
      "iter 5 of 5\n",
      "torch.Size([1, 128])\n",
      "iter 1 of 5\n",
      "torch.Size([1, 128])\n",
      "iter 2 of 5\n",
      "torch.Size([1, 128])\n",
      "iter 3 of 5\n",
      "torch.Size([1, 128])\n",
      "iter 4 of 5\n",
      "torch.Size([1, 128])\n",
      "iter 5 of 5\n",
      "torch.Size([1, 128])\n",
      "iter 1 of 5\n",
      "torch.Size([1, 128])\n",
      "iter 2 of 5\n",
      "torch.Size([1, 128])\n",
      "iter 3 of 5\n",
      "torch.Size([1, 128])\n",
      "iter 4 of 5\n",
      "torch.Size([1, 128])\n",
      "iter 5 of 5\n",
      "torch.Size([1, 128])\n",
      "iter 1 of 5\n",
      "torch.Size([1, 128])\n",
      "iter 2 of 5\n",
      "torch.Size([1, 128])\n",
      "iter 3 of 5\n",
      "torch.Size([1, 128])\n",
      "iter 4 of 5\n",
      "torch.Size([1, 128])\n",
      "iter 5 of 5\n",
      "torch.Size([1, 128])\n",
      "iter 1 of 5\n",
      "torch.Size([1, 128])\n",
      "iter 2 of 5\n",
      "torch.Size([1, 128])\n",
      "iter 3 of 5\n",
      "torch.Size([1, 128])\n",
      "iter 4 of 5\n",
      "torch.Size([1, 128])\n",
      "iter 5 of 5\n",
      "torch.Size([1, 128])\n",
      "iter 1 of 5\n",
      "torch.Size([1, 128])\n",
      "iter 2 of 5\n",
      "torch.Size([1, 128])\n",
      "iter 3 of 5\n",
      "torch.Size([1, 128])\n",
      "iter 4 of 5\n",
      "torch.Size([1, 128])\n",
      "iter 5 of 5\n",
      "torch.Size([1, 128])\n",
      "iter 1 of 5\n",
      "torch.Size([1, 128])\n",
      "iter 2 of 5\n",
      "torch.Size([1, 128])\n",
      "iter 3 of 5\n",
      "torch.Size([1, 128])\n",
      "iter 4 of 5\n",
      "torch.Size([1, 128])\n",
      "iter 5 of 5\n",
      "torch.Size([1, 128])\n",
      "====================== Summary ======================\n",
      "Mode              : Best f : Steps : Time            \n",
      "----------------  : ----   : ----  : ----            \n",
      "Initial solution  : 96.2   : 1     : 02:21 (m:s)     \n",
      "Random seeding    : 98.63  : 60    : 03:58:32 (h:m:s)\n",
      "Local sampling    : 98.53  : 62    : 03:56:11 (h:m:s)\n",
      "Duplicates        : -      : 61    : -               \n",
      "----------------  : ----   : ----  : ----            \n",
      "Total             : 98.63  : 184   : 07:57:04 (h:m:s)\n",
      "=====================================================\n",
      "mfeat_network_hp_fn_{'epochs': 100, 'masks_no': 5, 'mask_size': 519, 'target_size': 50, 'lr': 0.0003, 'batch_size': 128}\n"
     ]
    },
    {
     "data": {
      "text/plain": [
       "{'epochs': 100,\n",
       " 'masks_no': 5,\n",
       " 'mask_size': 519,\n",
       " 'target_size': 50,\n",
       " 'lr': 0.0003,\n",
       " 'batch_size': 128}"
      ]
     },
     "execution_count": 63,
     "metadata": {},
     "output_type": "execute_result"
    }
   ],
   "source": [
    "param_grid = {\n",
    "    \"epochs\": pyhopper.choice([100]),\n",
    "    \"masks_no\": pyhopper.choice([3, 5, 7, 20]),\n",
    "    \"mask_size\": pyhopper.choice(mask_sizes),\n",
    "    \"target_size\": pyhopper.choice([5, 10, 20, 50]),\n",
    "    \"lr\": pyhopper.choice([3e-5, 3e-4, 3e-3, 3e-2, 3e-1]),\n",
    "    \"batch_size\": pyhopper.choice([128]),\n",
    "}\n",
    "\n",
    "hp_best_params, hp_history = pyhopper_best_params(network_hp_fn, param_grid, time=\"480m\")\n",
    "hp_best_params"
   ]
  },
  {
   "cell_type": "code",
   "execution_count": 64,
   "id": "b4b9203a",
   "metadata": {
    "jupyter": {
     "outputs_hidden": true
    },
    "scrolled": true,
    "tags": []
   },
   "outputs": [
    {
     "data": {
      "text/plain": [
       "{'epochs': 100,\n",
       " 'masks_no': 5,\n",
       " 'mask_size': 519,\n",
       " 'target_size': 50,\n",
       " 'lr': 0.0003,\n",
       " 'batch_size': 128}"
      ]
     },
     "execution_count": 64,
     "metadata": {},
     "output_type": "execute_result"
    }
   ],
   "source": [
    "hp_best_params"
   ]
  },
  {
   "cell_type": "markdown",
   "id": "7fe02f07-52f6-4735-93f5-8e14bd22803f",
   "metadata": {},
   "source": [
    "#### Train using the best hyperparams"
   ]
  },
  {
   "cell_type": "code",
   "execution_count": 65,
   "id": "283d9aca-1f98-42e6-b229-e14e937cb431",
   "metadata": {
    "scrolled": true,
    "tags": []
   },
   "outputs": [
    {
     "name": "stdout",
     "output_type": "stream",
     "text": [
      "iter 1 of 10\n",
      "torch.Size([1, 128])\n"
     ]
    },
    {
     "name": "stderr",
     "output_type": "stream",
     "text": [
      "100%|██████████| 100/100 [00:32<00:00,  3.09it/s]\n"
     ]
    },
    {
     "name": "stdout",
     "output_type": "stream",
     "text": [
      "iter 2 of 10\n",
      "torch.Size([1, 128])\n"
     ]
    },
    {
     "name": "stderr",
     "output_type": "stream",
     "text": [
      "100%|██████████| 100/100 [00:31<00:00,  3.17it/s]\n"
     ]
    },
    {
     "name": "stdout",
     "output_type": "stream",
     "text": [
      "iter 3 of 10\n",
      "torch.Size([1, 128])\n"
     ]
    },
    {
     "name": "stderr",
     "output_type": "stream",
     "text": [
      "100%|██████████| 100/100 [00:31<00:00,  3.17it/s]\n"
     ]
    },
    {
     "name": "stdout",
     "output_type": "stream",
     "text": [
      "iter 4 of 10\n",
      "torch.Size([1, 128])\n"
     ]
    },
    {
     "name": "stderr",
     "output_type": "stream",
     "text": [
      "100%|██████████| 100/100 [00:32<00:00,  3.10it/s]\n"
     ]
    },
    {
     "name": "stdout",
     "output_type": "stream",
     "text": [
      "iter 5 of 10\n",
      "torch.Size([1, 128])\n"
     ]
    },
    {
     "name": "stderr",
     "output_type": "stream",
     "text": [
      "100%|██████████| 100/100 [00:32<00:00,  3.07it/s]\n"
     ]
    },
    {
     "name": "stdout",
     "output_type": "stream",
     "text": [
      "iter 6 of 10\n",
      "torch.Size([1, 128])\n"
     ]
    },
    {
     "name": "stderr",
     "output_type": "stream",
     "text": [
      "100%|██████████| 100/100 [00:32<00:00,  3.07it/s]\n"
     ]
    },
    {
     "name": "stdout",
     "output_type": "stream",
     "text": [
      "iter 7 of 10\n",
      "torch.Size([1, 128])\n"
     ]
    },
    {
     "name": "stderr",
     "output_type": "stream",
     "text": [
      "100%|██████████| 100/100 [00:30<00:00,  3.23it/s]\n"
     ]
    },
    {
     "name": "stdout",
     "output_type": "stream",
     "text": [
      "iter 8 of 10\n",
      "torch.Size([1, 128])\n"
     ]
    },
    {
     "name": "stderr",
     "output_type": "stream",
     "text": [
      "100%|██████████| 100/100 [00:32<00:00,  3.11it/s]\n"
     ]
    },
    {
     "name": "stdout",
     "output_type": "stream",
     "text": [
      "iter 9 of 10\n",
      "torch.Size([1, 128])\n"
     ]
    },
    {
     "name": "stderr",
     "output_type": "stream",
     "text": [
      "100%|██████████| 100/100 [00:32<00:00,  3.10it/s]\n"
     ]
    },
    {
     "name": "stdout",
     "output_type": "stream",
     "text": [
      "iter 10 of 10\n",
      "torch.Size([1, 128])\n"
     ]
    },
    {
     "name": "stderr",
     "output_type": "stream",
     "text": [
      "100%|██████████| 100/100 [00:32<00:00,  3.09it/s]\n"
     ]
    }
   ],
   "source": [
    "epochs = 100#hp_best_params['epochs']\n",
    "masks_no = hp_best_params['masks_no']\n",
    "mask_size = hp_best_params['mask_size']\n",
    "target_size = hp_best_params['target_size']\n",
    "data_size = max_size\n",
    "batch_size = hp_best_params['batch_size']\n",
    "lr = hp_best_params['lr']\n",
    "\n",
    "\n",
    "hyper_results = test_model(network_hp_fn(epochs, masks_no, mask_size, target_size, batch_size=batch_size,verbose=True),\n",
    "                    (X, y),\n",
    "                    data_size,\n",
    "                    None, 10)"
   ]
  },
  {
   "cell_type": "code",
   "execution_count": 66,
   "id": "b2129c6b-2c65-458e-b175-51aaf313fa42",
   "metadata": {},
   "outputs": [
    {
     "name": "stdout",
     "output_type": "stream",
     "text": [
      "1400: 98.12 ~ 0.81, (max: 99.00)\n"
     ]
    }
   ],
   "source": [
    "res = hyper_results[hyper_results[\"Class\"]==\"balanced_accuracy\"].reset_index(drop=True)[\"Metric\"]\n",
    "print(f\"{data_size}: {res.mean():.2f} ~ {res.std():.2f}, (max: {res.max():.2f})\")"
   ]
  },
  {
   "cell_type": "markdown",
   "id": "dcdb5810-96c6-4010-af1e-a59b0b9f6b65",
   "metadata": {},
   "source": [
    "### Random forest"
   ]
  },
  {
   "cell_type": "code",
   "execution_count": 67,
   "id": "6758728e-d6c8-4d23-9aa7-ba7998704411",
   "metadata": {},
   "outputs": [],
   "source": [
    "from sklearn.ensemble import RandomForestClassifier"
   ]
  },
  {
   "cell_type": "code",
   "execution_count": 68,
   "id": "6da01b25",
   "metadata": {},
   "outputs": [],
   "source": [
    "def get_rf(**params):\n",
    "    random_seed = np.random.randint(1024)\n",
    "    def _inner():\n",
    "        return RandomForestClassifier(\n",
    "            random_state=random_seed,\n",
    "            **params\n",
    "        )\n",
    "    return _inner"
   ]
  },
  {
   "cell_type": "markdown",
   "id": "f73ccafa",
   "metadata": {},
   "source": [
    "#### Find hyperparams"
   ]
  },
  {
   "cell_type": "code",
   "execution_count": 69,
   "id": "8dc080fd",
   "metadata": {},
   "outputs": [
    {
     "name": "stderr",
     "output_type": "stream",
     "text": [
      "2022-12-22 17:34:47.365 | INFO     | __main__:pyhopper_best_params:7 - pyhopper_best_params get_rf\n"
     ]
    },
    {
     "data": {
      "application/vnd.jupyter.widget-view+json": {
       "model_id": "4b55d13e16974892adc161352c3b12b9",
       "version_major": 2,
       "version_minor": 0
      },
      "text/plain": [
       "  0%|          | [00:00<?]"
      ]
     },
     "metadata": {},
     "output_type": "display_data"
    },
    {
     "name": "stdout",
     "output_type": "stream",
     "text": [
      "Search is scheduled for 01:30:00 (h:m:s)\n",
      "iter 1 of 5\n",
      "iter 2 of 5\n",
      "iter 3 of 5\n",
      "iter 4 of 5\n",
      "iter 5 of 5\n",
      "iter 1 of 5\n",
      "iter 2 of 5\n",
      "iter 3 of 5\n",
      "iter 4 of 5\n",
      "iter 5 of 5\n",
      "iter 1 of 5\n",
      "iter 2 of 5\n",
      "iter 3 of 5\n",
      "iter 4 of 5\n",
      "iter 5 of 5\n",
      "iter 1 of 5\n",
      "iter 2 of 5\n",
      "iter 3 of 5\n",
      "iter 4 of 5\n",
      "iter 5 of 5\n",
      "iter 1 of 5\n",
      "iter 2 of 5\n",
      "iter 3 of 5\n",
      "iter 4 of 5\n",
      "iter 5 of 5\n",
      "iter 1 of 5\n",
      "iter 2 of 5\n",
      "iter 3 of 5\n",
      "iter 4 of 5\n",
      "iter 5 of 5\n",
      "iter 1 of 5\n",
      "iter 2 of 5\n",
      "iter 3 of 5\n",
      "iter 4 of 5\n",
      "iter 5 of 5\n",
      "iter 1 of 5\n",
      "iter 2 of 5\n",
      "iter 3 of 5\n",
      "iter 4 of 5\n",
      "iter 5 of 5\n",
      "iter 1 of 5\n",
      "iter 2 of 5\n",
      "iter 3 of 5\n",
      "iter 4 of 5\n",
      "iter 5 of 5\n",
      "iter 1 of 5\n",
      "iter 2 of 5\n",
      "iter 3 of 5\n",
      "iter 4 of 5\n",
      "iter 5 of 5\n",
      "iter 1 of 5\n",
      "iter 2 of 5\n",
      "iter 3 of 5\n",
      "iter 4 of 5\n",
      "iter 5 of 5\n",
      "iter 1 of 5\n",
      "iter 2 of 5\n",
      "iter 3 of 5\n",
      "iter 4 of 5\n",
      "iter 5 of 5\n",
      "iter 1 of 5\n",
      "iter 2 of 5\n",
      "iter 3 of 5\n",
      "iter 4 of 5\n",
      "iter 5 of 5\n",
      "iter 1 of 5\n",
      "iter 2 of 5\n",
      "iter 3 of 5\n",
      "iter 4 of 5\n",
      "iter 5 of 5\n",
      "iter 1 of 5\n",
      "iter 2 of 5\n",
      "iter 3 of 5\n",
      "iter 4 of 5\n",
      "iter 5 of 5\n",
      "iter 1 of 5\n",
      "iter 2 of 5\n",
      "iter 3 of 5\n",
      "iter 4 of 5\n",
      "iter 5 of 5\n",
      "iter 1 of 5\n",
      "iter 2 of 5\n",
      "iter 3 of 5\n",
      "iter 4 of 5\n",
      "iter 5 of 5\n",
      "iter 1 of 5\n",
      "iter 2 of 5\n",
      "iter 3 of 5\n",
      "iter 4 of 5\n",
      "iter 5 of 5\n",
      "iter 1 of 5\n",
      "iter 2 of 5\n",
      "iter 3 of 5\n",
      "iter 4 of 5\n",
      "iter 5 of 5\n",
      "iter 1 of 5\n",
      "iter 2 of 5\n",
      "iter 3 of 5\n",
      "iter 4 of 5\n",
      "iter 5 of 5\n",
      "iter 1 of 5\n",
      "iter 2 of 5\n",
      "iter 3 of 5\n",
      "iter 4 of 5\n",
      "iter 5 of 5\n",
      "====================== Summary ======================\n",
      "Mode              : Best f : Steps : Time            \n",
      "----------------  : ----   : ----  : ----            \n",
      "Initial solution  : 96.57  : 1     : 38 s            \n",
      "Random seeding    : 98.5   : 11    : 01:01:21 (h:m:s)\n",
      "Local sampling    : 98.77  : 9     : 49:27 (m:s)     \n",
      "Duplicates        : -      : 3     : -               \n",
      "----------------  : ----   : ----  : ----            \n",
      "Total             : 98.77  : 24    : 01:51:26 (h:m:s)\n",
      "=====================================================\n",
      "mfeat_get_rf_{'n_estimators': 3000, 'max_features': 'sqrt', 'criterion': 'entropy', 'max_depth': 16}\n"
     ]
    },
    {
     "data": {
      "text/plain": [
       "{'n_estimators': 3000,\n",
       " 'max_features': 'sqrt',\n",
       " 'criterion': 'entropy',\n",
       " 'max_depth': 16}"
      ]
     },
     "execution_count": 69,
     "metadata": {},
     "output_type": "execute_result"
    }
   ],
   "source": [
    "param_grid = {\n",
    "                'n_estimators': pyhopper.choice([50, 100, 200, 500, 1000, 3000]),\n",
    "                'max_features': pyhopper.choice([None, 'sqrt', 0.2, 0.3, 0.5, 0.7]),\n",
    "                'criterion' : pyhopper.choice(['gini', 'entropy']),\n",
    "                'max_depth': pyhopper.choice([None, 2, 4, 8, 16]),\n",
    "             }\n",
    "\n",
    "rf_best, rf_history = pyhopper_best_params(get_rf, param_grid, time=\"90m\")\n",
    "rf_best"
   ]
  },
  {
   "cell_type": "markdown",
   "id": "dcf8eaa2",
   "metadata": {},
   "source": [
    "#### Use best params"
   ]
  },
  {
   "cell_type": "code",
   "execution_count": 70,
   "id": "3325fd3b-8a85-46eb-896c-46bf8d768a89",
   "metadata": {},
   "outputs": [
    {
     "name": "stdout",
     "output_type": "stream",
     "text": [
      "iter 1 of 10\n",
      "iter 2 of 10\n",
      "iter 3 of 10\n",
      "iter 4 of 10\n",
      "iter 5 of 10\n",
      "iter 6 of 10\n",
      "iter 7 of 10\n",
      "iter 8 of 10\n",
      "iter 9 of 10\n",
      "iter 10 of 10\n"
     ]
    }
   ],
   "source": [
    "size = max_size\n",
    "\n",
    "rf_dframe = test_model(get_rf(**rf_best), \n",
    "                        (X, y),\n",
    "                        size,\n",
    "                        None, iters=10)"
   ]
  },
  {
   "cell_type": "code",
   "execution_count": null,
   "id": "7a543f33",
   "metadata": {},
   "outputs": [],
   "source": []
  },
  {
   "cell_type": "markdown",
   "id": "aa987cfe",
   "metadata": {},
   "source": [
    "# Collect analytics"
   ]
  },
  {
   "cell_type": "code",
   "execution_count": 71,
   "id": "6ffd69a1",
   "metadata": {},
   "outputs": [],
   "source": [
    "d = {}"
   ]
  },
  {
   "cell_type": "code",
   "execution_count": 72,
   "id": "6c53193f",
   "metadata": {},
   "outputs": [],
   "source": [
    "d['Random forest'] = rf_dframe.groupby(\"Class\")['Metric'].agg(['mean', 'std', 'max'])\n",
    "d['Hypernet'] = hyper_results.groupby(\"Class\")['Metric'].agg(['mean', 'std', 'max'])\n",
    "d['HypernetPCA'] = nn_pca_results.groupby(\"Class\")['Metric'].agg(['mean', 'std', 'max'])\n",
    "d['Dropout_1'] = nn1_results.groupby(\"Class\")['Metric'].agg(['mean', 'std', 'max'])\n",
    "d['Dropout_2'] = nn2_results.groupby(\"Class\")['Metric'].agg(['mean', 'std', 'max'])\n",
    "d['Dropout_3'] = nn3_results.groupby(\"Class\")['Metric'].agg(['mean', 'std', 'max'])\n",
    "d['Node'] = node_results.groupby(\"Class\")['Metric'].agg(['mean', 'std', 'max'])\n",
    "d['XGBoost'] = xgb_dframe.groupby(\"Class\")['Metric'].agg(['mean', 'std', 'max'])"
   ]
  },
  {
   "cell_type": "code",
   "execution_count": 73,
   "id": "7f523ee2",
   "metadata": {},
   "outputs": [
    {
     "data": {
      "text/html": [
       "<div>\n",
       "<style scoped>\n",
       "    .dataframe tbody tr th:only-of-type {\n",
       "        vertical-align: middle;\n",
       "    }\n",
       "\n",
       "    .dataframe tbody tr th {\n",
       "        vertical-align: top;\n",
       "    }\n",
       "\n",
       "    .dataframe thead th {\n",
       "        text-align: right;\n",
       "    }\n",
       "</style>\n",
       "<table border=\"1\" class=\"dataframe\">\n",
       "  <thead>\n",
       "    <tr style=\"text-align: right;\">\n",
       "      <th></th>\n",
       "      <th></th>\n",
       "      <th>mean</th>\n",
       "      <th>std</th>\n",
       "      <th>max</th>\n",
       "    </tr>\n",
       "    <tr>\n",
       "      <th></th>\n",
       "      <th>Class</th>\n",
       "      <th></th>\n",
       "      <th></th>\n",
       "      <th></th>\n",
       "    </tr>\n",
       "  </thead>\n",
       "  <tbody>\n",
       "    <tr>\n",
       "      <th rowspan=\"5\" valign=\"top\">Random forest</th>\n",
       "      <th>0</th>\n",
       "      <td>98.666667</td>\n",
       "      <td>1.314684</td>\n",
       "      <td>100.000000</td>\n",
       "    </tr>\n",
       "    <tr>\n",
       "      <th>1</th>\n",
       "      <td>99.666667</td>\n",
       "      <td>0.702728</td>\n",
       "      <td>100.000000</td>\n",
       "    </tr>\n",
       "    <tr>\n",
       "      <th>2</th>\n",
       "      <td>99.500000</td>\n",
       "      <td>0.805076</td>\n",
       "      <td>100.000000</td>\n",
       "    </tr>\n",
       "    <tr>\n",
       "      <th>3</th>\n",
       "      <td>98.833333</td>\n",
       "      <td>1.372121</td>\n",
       "      <td>100.000000</td>\n",
       "    </tr>\n",
       "    <tr>\n",
       "      <th>4</th>\n",
       "      <td>99.666667</td>\n",
       "      <td>0.702728</td>\n",
       "      <td>100.000000</td>\n",
       "    </tr>\n",
       "    <tr>\n",
       "      <th>...</th>\n",
       "      <th>...</th>\n",
       "      <td>...</td>\n",
       "      <td>...</td>\n",
       "      <td>...</td>\n",
       "    </tr>\n",
       "    <tr>\n",
       "      <th rowspan=\"5\" valign=\"top\">XGBoost</th>\n",
       "      <th>7</th>\n",
       "      <td>97.000000</td>\n",
       "      <td>1.892154</td>\n",
       "      <td>100.000000</td>\n",
       "    </tr>\n",
       "    <tr>\n",
       "      <th>8</th>\n",
       "      <td>97.833333</td>\n",
       "      <td>3.047970</td>\n",
       "      <td>100.000000</td>\n",
       "    </tr>\n",
       "    <tr>\n",
       "      <th>9</th>\n",
       "      <td>98.333333</td>\n",
       "      <td>1.756821</td>\n",
       "      <td>100.000000</td>\n",
       "    </tr>\n",
       "    <tr>\n",
       "      <th>Total</th>\n",
       "      <td>98.033333</td>\n",
       "      <td>0.436031</td>\n",
       "      <td>98.666667</td>\n",
       "    </tr>\n",
       "    <tr>\n",
       "      <th>balanced_accuracy</th>\n",
       "      <td>98.033333</td>\n",
       "      <td>0.436031</td>\n",
       "      <td>98.666667</td>\n",
       "    </tr>\n",
       "  </tbody>\n",
       "</table>\n",
       "<p>96 rows × 3 columns</p>\n",
       "</div>"
      ],
      "text/plain": [
       "                                      mean       std         max\n",
       "              Class                                             \n",
       "Random forest 0                  98.666667  1.314684  100.000000\n",
       "              1                  99.666667  0.702728  100.000000\n",
       "              2                  99.500000  0.805076  100.000000\n",
       "              3                  98.833333  1.372121  100.000000\n",
       "              4                  99.666667  0.702728  100.000000\n",
       "...                                    ...       ...         ...\n",
       "XGBoost       7                  97.000000  1.892154  100.000000\n",
       "              8                  97.833333  3.047970  100.000000\n",
       "              9                  98.333333  1.756821  100.000000\n",
       "              Total              98.033333  0.436031   98.666667\n",
       "              balanced_accuracy  98.033333  0.436031   98.666667\n",
       "\n",
       "[96 rows x 3 columns]"
      ]
     },
     "execution_count": 73,
     "metadata": {},
     "output_type": "execute_result"
    }
   ],
   "source": [
    "all_models_df=pd.concat(d, axis=0)\n",
    "all_models_df"
   ]
  },
  {
   "cell_type": "code",
   "execution_count": null,
   "id": "6aac13dc",
   "metadata": {},
   "outputs": [],
   "source": []
  },
  {
   "cell_type": "code",
   "execution_count": null,
   "id": "93f8b898",
   "metadata": {},
   "outputs": [],
   "source": []
  },
  {
   "cell_type": "code",
   "execution_count": 74,
   "id": "60823a71",
   "metadata": {},
   "outputs": [
    {
     "data": {
      "text/plain": [
       "'UXrV5UxyhTK3cyQNG6BDuc4bE'"
      ]
     },
     "execution_count": 74,
     "metadata": {},
     "output_type": "execute_result"
    }
   ],
   "source": [
    "os.environ['COMET_KEY']"
   ]
  },
  {
   "cell_type": "code",
   "execution_count": null,
   "id": "4a1f9da0",
   "metadata": {},
   "outputs": [],
   "source": []
  },
  {
   "cell_type": "code",
   "execution_count": 75,
   "id": "80d25d88",
   "metadata": {},
   "outputs": [],
   "source": [
    "all_models_df.to_csv(f\"{DATA}_metrics.csv\")"
   ]
  },
  {
   "cell_type": "code",
   "execution_count": 76,
   "id": "0654fd20",
   "metadata": {},
   "outputs": [
    {
     "name": "stderr",
     "output_type": "stream",
     "text": [
      "COMET WARNING: Comet has disabled auto-logging functionality as it has been imported after the following ML modules: torch. Metrics and hyperparameters can still be logged using comet_ml.log_metrics() and comet_ml.log_parameters()\n",
      "COMET WARNING: As you are running in a Jupyter environment, you will need to call `experiment.end()` when finished to ensure all metrics and code are logged before exiting.\n",
      "COMET INFO: Experiment is live on comet.ml https://www.comet.com/abulenok/hypernet-uci-tune/11b6ee48cbdf4c1289742b50841122a5\n",
      "\n"
     ]
    },
    {
     "data": {
      "text/plain": [
       "{'web': 'https://www.comet.com/api/asset/download?assetId=9b883c3a8baa449fb9cde78d73455f89&experimentKey=11b6ee48cbdf4c1289742b50841122a5',\n",
       " 'api': 'https://www.comet.com/api/rest/v2/experiment/asset/get-asset?assetId=9b883c3a8baa449fb9cde78d73455f89&experimentKey=11b6ee48cbdf4c1289742b50841122a5',\n",
       " 'assetId': '9b883c3a8baa449fb9cde78d73455f89'}"
      ]
     },
     "execution_count": 76,
     "metadata": {},
     "output_type": "execute_result"
    }
   ],
   "source": [
    "exp = Experiment(os.environ.get(\"COMET_KEY\"), 'hypernet-uci-tune')\n",
    "# exp.log_parameters({\"epochs\": epochs, \"mask_size\": mask_size, \"masks_no\": masks_no, \"data_size\": data_size})\n",
    "exp.add_tag(f\"hypernet-tune2{DATA}\")\n",
    "exp.log_table(f\"{DATA}_metrics.csv\", all_models_df)"
   ]
  },
  {
   "cell_type": "markdown",
   "id": "ce733782",
   "metadata": {},
   "source": [
    "### Replace some data in existing"
   ]
  },
  {
   "cell_type": "code",
   "execution_count": 77,
   "id": "a0a197e0",
   "metadata": {},
   "outputs": [],
   "source": [
    "# tmp_df = pd.concat(d, axis=0)\n",
    "# tmp_df = tmp_df.reset_index()\n",
    "# tmp_df = tmp_df.rename(columns={tmp_df.columns[0]: DATA})\n",
    "\n",
    "# tmp_df"
   ]
  },
  {
   "cell_type": "code",
   "execution_count": 105,
   "id": "8fdbf166",
   "metadata": {},
   "outputs": [],
   "source": [
    "# all_models_df = pd.read_csv(f\"{DATA}_metrics.csv\")\n",
    "# all_models_df = all_models_df.rename(columns={all_models_df.columns[0]: DATA})\n",
    "# all_models_df = all_models_df.drop(all_models_df[all_models_df.iloc[:, 0] == 'Hypernet'].index)\n",
    "# all_models_df = all_models_df.drop(all_models_df[all_models_df.iloc[:, 0] == 'HypernetPCA'].index)\n",
    "\n",
    "# all_models_df"
   ]
  },
  {
   "cell_type": "code",
   "execution_count": 106,
   "id": "d2cc3246",
   "metadata": {},
   "outputs": [],
   "source": [
    "# all_models_df = pd.concat([all_models_df, tmp_df])\n",
    "# all_models_df"
   ]
  },
  {
   "cell_type": "code",
   "execution_count": null,
   "id": "fff93119",
   "metadata": {},
   "outputs": [],
   "source": []
  },
  {
   "cell_type": "code",
   "execution_count": null,
   "id": "9a5ebc5e",
   "metadata": {},
   "outputs": [],
   "source": []
  },
  {
   "cell_type": "code",
   "execution_count": 77,
   "id": "e6b6d6f5",
   "metadata": {},
   "outputs": [
    {
     "data": {
      "text/plain": [
       "'mfeat_metrics.csv'"
      ]
     },
     "execution_count": 77,
     "metadata": {},
     "output_type": "execute_result"
    }
   ],
   "source": [
    "f\"{DATA}_metrics.csv\""
   ]
  },
  {
   "cell_type": "code",
   "execution_count": 78,
   "id": "9a061329",
   "metadata": {},
   "outputs": [],
   "source": [
    "all_models_df = pd.read_csv(f\"{DATA}_metrics.csv\")"
   ]
  },
  {
   "cell_type": "code",
   "execution_count": 79,
   "id": "e2fb29bc",
   "metadata": {},
   "outputs": [
    {
     "data": {
      "text/html": [
       "<div>\n",
       "<style scoped>\n",
       "    .dataframe tbody tr th:only-of-type {\n",
       "        vertical-align: middle;\n",
       "    }\n",
       "\n",
       "    .dataframe tbody tr th {\n",
       "        vertical-align: top;\n",
       "    }\n",
       "\n",
       "    .dataframe thead th {\n",
       "        text-align: right;\n",
       "    }\n",
       "</style>\n",
       "<table border=\"1\" class=\"dataframe\">\n",
       "  <thead>\n",
       "    <tr style=\"text-align: right;\">\n",
       "      <th></th>\n",
       "      <th>index</th>\n",
       "      <th>Unnamed: 0</th>\n",
       "      <th>Class</th>\n",
       "      <th>mean</th>\n",
       "      <th>std</th>\n",
       "      <th>max</th>\n",
       "    </tr>\n",
       "  </thead>\n",
       "  <tbody>\n",
       "    <tr>\n",
       "      <th>0</th>\n",
       "      <td>0</td>\n",
       "      <td>Random forest</td>\n",
       "      <td>0</td>\n",
       "      <td>98.666667</td>\n",
       "      <td>1.314684</td>\n",
       "      <td>100.000000</td>\n",
       "    </tr>\n",
       "    <tr>\n",
       "      <th>1</th>\n",
       "      <td>1</td>\n",
       "      <td>Random forest</td>\n",
       "      <td>1</td>\n",
       "      <td>99.666667</td>\n",
       "      <td>0.702728</td>\n",
       "      <td>100.000000</td>\n",
       "    </tr>\n",
       "    <tr>\n",
       "      <th>2</th>\n",
       "      <td>2</td>\n",
       "      <td>Random forest</td>\n",
       "      <td>2</td>\n",
       "      <td>99.500000</td>\n",
       "      <td>0.805076</td>\n",
       "      <td>100.000000</td>\n",
       "    </tr>\n",
       "    <tr>\n",
       "      <th>3</th>\n",
       "      <td>3</td>\n",
       "      <td>Random forest</td>\n",
       "      <td>3</td>\n",
       "      <td>98.833333</td>\n",
       "      <td>1.372121</td>\n",
       "      <td>100.000000</td>\n",
       "    </tr>\n",
       "    <tr>\n",
       "      <th>4</th>\n",
       "      <td>4</td>\n",
       "      <td>Random forest</td>\n",
       "      <td>4</td>\n",
       "      <td>99.666667</td>\n",
       "      <td>0.702728</td>\n",
       "      <td>100.000000</td>\n",
       "    </tr>\n",
       "    <tr>\n",
       "      <th>...</th>\n",
       "      <td>...</td>\n",
       "      <td>...</td>\n",
       "      <td>...</td>\n",
       "      <td>...</td>\n",
       "      <td>...</td>\n",
       "      <td>...</td>\n",
       "    </tr>\n",
       "    <tr>\n",
       "      <th>91</th>\n",
       "      <td>91</td>\n",
       "      <td>XGBoost</td>\n",
       "      <td>7</td>\n",
       "      <td>97.000000</td>\n",
       "      <td>1.892154</td>\n",
       "      <td>100.000000</td>\n",
       "    </tr>\n",
       "    <tr>\n",
       "      <th>92</th>\n",
       "      <td>92</td>\n",
       "      <td>XGBoost</td>\n",
       "      <td>8</td>\n",
       "      <td>97.833333</td>\n",
       "      <td>3.047970</td>\n",
       "      <td>100.000000</td>\n",
       "    </tr>\n",
       "    <tr>\n",
       "      <th>93</th>\n",
       "      <td>93</td>\n",
       "      <td>XGBoost</td>\n",
       "      <td>9</td>\n",
       "      <td>98.333333</td>\n",
       "      <td>1.756821</td>\n",
       "      <td>100.000000</td>\n",
       "    </tr>\n",
       "    <tr>\n",
       "      <th>94</th>\n",
       "      <td>94</td>\n",
       "      <td>XGBoost</td>\n",
       "      <td>Total</td>\n",
       "      <td>98.033333</td>\n",
       "      <td>0.436031</td>\n",
       "      <td>98.666667</td>\n",
       "    </tr>\n",
       "    <tr>\n",
       "      <th>95</th>\n",
       "      <td>95</td>\n",
       "      <td>XGBoost</td>\n",
       "      <td>balanced_accuracy</td>\n",
       "      <td>98.033333</td>\n",
       "      <td>0.436031</td>\n",
       "      <td>98.666667</td>\n",
       "    </tr>\n",
       "  </tbody>\n",
       "</table>\n",
       "<p>96 rows × 6 columns</p>\n",
       "</div>"
      ],
      "text/plain": [
       "    index     Unnamed: 0              Class       mean       std         max\n",
       "0       0  Random forest                  0  98.666667  1.314684  100.000000\n",
       "1       1  Random forest                  1  99.666667  0.702728  100.000000\n",
       "2       2  Random forest                  2  99.500000  0.805076  100.000000\n",
       "3       3  Random forest                  3  98.833333  1.372121  100.000000\n",
       "4       4  Random forest                  4  99.666667  0.702728  100.000000\n",
       "..    ...            ...                ...        ...       ...         ...\n",
       "91     91        XGBoost                  7  97.000000  1.892154  100.000000\n",
       "92     92        XGBoost                  8  97.833333  3.047970  100.000000\n",
       "93     93        XGBoost                  9  98.333333  1.756821  100.000000\n",
       "94     94        XGBoost              Total  98.033333  0.436031   98.666667\n",
       "95     95        XGBoost  balanced_accuracy  98.033333  0.436031   98.666667\n",
       "\n",
       "[96 rows x 6 columns]"
      ]
     },
     "execution_count": 79,
     "metadata": {},
     "output_type": "execute_result"
    }
   ],
   "source": [
    "all_models_df.reset_index()"
   ]
  },
  {
   "cell_type": "code",
   "execution_count": null,
   "id": "63595ccd",
   "metadata": {},
   "outputs": [],
   "source": []
  },
  {
   "cell_type": "code",
   "execution_count": null,
   "id": "fcccc753",
   "metadata": {},
   "outputs": [],
   "source": []
  },
  {
   "cell_type": "code",
   "execution_count": 80,
   "id": "1bf024fd",
   "metadata": {},
   "outputs": [],
   "source": [
    "# all_models_df = all_models_df.drop(all_models_df.columns[0], axis=1)\n",
    "# all_models_df"
   ]
  },
  {
   "cell_type": "code",
   "execution_count": null,
   "id": "04ca3f98",
   "metadata": {},
   "outputs": [],
   "source": []
  },
  {
   "cell_type": "code",
   "execution_count": null,
   "id": "398b55e1",
   "metadata": {},
   "outputs": [],
   "source": []
  },
  {
   "cell_type": "code",
   "execution_count": 81,
   "id": "c69f547c",
   "metadata": {},
   "outputs": [
    {
     "data": {
      "text/html": [
       "<div>\n",
       "<style scoped>\n",
       "    .dataframe tbody tr th:only-of-type {\n",
       "        vertical-align: middle;\n",
       "    }\n",
       "\n",
       "    .dataframe tbody tr th {\n",
       "        vertical-align: top;\n",
       "    }\n",
       "\n",
       "    .dataframe thead th {\n",
       "        text-align: right;\n",
       "    }\n",
       "</style>\n",
       "<table border=\"1\" class=\"dataframe\">\n",
       "  <thead>\n",
       "    <tr style=\"text-align: right;\">\n",
       "      <th></th>\n",
       "      <th>Unnamed: 0</th>\n",
       "      <th>Class</th>\n",
       "      <th>mean</th>\n",
       "      <th>std</th>\n",
       "      <th>max</th>\n",
       "    </tr>\n",
       "  </thead>\n",
       "  <tbody>\n",
       "    <tr>\n",
       "      <th>11</th>\n",
       "      <td>Random forest</td>\n",
       "      <td>balanced_accuracy</td>\n",
       "      <td>98.983333</td>\n",
       "      <td>0.355295</td>\n",
       "      <td>99.500000</td>\n",
       "    </tr>\n",
       "    <tr>\n",
       "      <th>23</th>\n",
       "      <td>Hypernet</td>\n",
       "      <td>balanced_accuracy</td>\n",
       "      <td>98.116667</td>\n",
       "      <td>0.805268</td>\n",
       "      <td>99.000000</td>\n",
       "    </tr>\n",
       "    <tr>\n",
       "      <th>35</th>\n",
       "      <td>HypernetPCA</td>\n",
       "      <td>balanced_accuracy</td>\n",
       "      <td>98.333333</td>\n",
       "      <td>0.509175</td>\n",
       "      <td>99.000000</td>\n",
       "    </tr>\n",
       "    <tr>\n",
       "      <th>47</th>\n",
       "      <td>Dropout_1</td>\n",
       "      <td>balanced_accuracy</td>\n",
       "      <td>98.600000</td>\n",
       "      <td>0.316228</td>\n",
       "      <td>98.833333</td>\n",
       "    </tr>\n",
       "    <tr>\n",
       "      <th>59</th>\n",
       "      <td>Dropout_2</td>\n",
       "      <td>balanced_accuracy</td>\n",
       "      <td>98.516667</td>\n",
       "      <td>0.461145</td>\n",
       "      <td>99.333333</td>\n",
       "    </tr>\n",
       "    <tr>\n",
       "      <th>71</th>\n",
       "      <td>Dropout_3</td>\n",
       "      <td>balanced_accuracy</td>\n",
       "      <td>98.266667</td>\n",
       "      <td>0.604510</td>\n",
       "      <td>99.000000</td>\n",
       "    </tr>\n",
       "    <tr>\n",
       "      <th>83</th>\n",
       "      <td>Node</td>\n",
       "      <td>balanced_accuracy</td>\n",
       "      <td>98.583333</td>\n",
       "      <td>0.446177</td>\n",
       "      <td>99.333333</td>\n",
       "    </tr>\n",
       "    <tr>\n",
       "      <th>95</th>\n",
       "      <td>XGBoost</td>\n",
       "      <td>balanced_accuracy</td>\n",
       "      <td>98.033333</td>\n",
       "      <td>0.436031</td>\n",
       "      <td>98.666667</td>\n",
       "    </tr>\n",
       "  </tbody>\n",
       "</table>\n",
       "</div>"
      ],
      "text/plain": [
       "       Unnamed: 0              Class       mean       std        max\n",
       "11  Random forest  balanced_accuracy  98.983333  0.355295  99.500000\n",
       "23       Hypernet  balanced_accuracy  98.116667  0.805268  99.000000\n",
       "35    HypernetPCA  balanced_accuracy  98.333333  0.509175  99.000000\n",
       "47      Dropout_1  balanced_accuracy  98.600000  0.316228  98.833333\n",
       "59      Dropout_2  balanced_accuracy  98.516667  0.461145  99.333333\n",
       "71      Dropout_3  balanced_accuracy  98.266667  0.604510  99.000000\n",
       "83           Node  balanced_accuracy  98.583333  0.446177  99.333333\n",
       "95        XGBoost  balanced_accuracy  98.033333  0.436031  98.666667"
      ]
     },
     "execution_count": 81,
     "metadata": {},
     "output_type": "execute_result"
    }
   ],
   "source": [
    "all_models_df[all_models_df['Class'] == 'balanced_accuracy']"
   ]
  },
  {
   "cell_type": "code",
   "execution_count": 82,
   "id": "7beddf19",
   "metadata": {},
   "outputs": [],
   "source": [
    "tmp = all_models_df"
   ]
  },
  {
   "cell_type": "code",
   "execution_count": 83,
   "id": "1996040f",
   "metadata": {},
   "outputs": [],
   "source": [
    "tmp = tmp.rename(columns={tmp.columns[0]: DATA})"
   ]
  },
  {
   "cell_type": "code",
   "execution_count": 84,
   "id": "36d69505",
   "metadata": {},
   "outputs": [
    {
     "data": {
      "text/html": [
       "<div>\n",
       "<style scoped>\n",
       "    .dataframe tbody tr th:only-of-type {\n",
       "        vertical-align: middle;\n",
       "    }\n",
       "\n",
       "    .dataframe tbody tr th {\n",
       "        vertical-align: top;\n",
       "    }\n",
       "\n",
       "    .dataframe thead th {\n",
       "        text-align: right;\n",
       "    }\n",
       "</style>\n",
       "<table border=\"1\" class=\"dataframe\">\n",
       "  <thead>\n",
       "    <tr style=\"text-align: right;\">\n",
       "      <th></th>\n",
       "      <th>mfeat</th>\n",
       "      <th>Class</th>\n",
       "      <th>mean</th>\n",
       "      <th>std</th>\n",
       "      <th>max</th>\n",
       "    </tr>\n",
       "  </thead>\n",
       "  <tbody>\n",
       "    <tr>\n",
       "      <th>0</th>\n",
       "      <td>Random forest</td>\n",
       "      <td>0</td>\n",
       "      <td>98.666667</td>\n",
       "      <td>1.314684</td>\n",
       "      <td>100.000000</td>\n",
       "    </tr>\n",
       "    <tr>\n",
       "      <th>1</th>\n",
       "      <td>Random forest</td>\n",
       "      <td>1</td>\n",
       "      <td>99.666667</td>\n",
       "      <td>0.702728</td>\n",
       "      <td>100.000000</td>\n",
       "    </tr>\n",
       "    <tr>\n",
       "      <th>2</th>\n",
       "      <td>Random forest</td>\n",
       "      <td>2</td>\n",
       "      <td>99.500000</td>\n",
       "      <td>0.805076</td>\n",
       "      <td>100.000000</td>\n",
       "    </tr>\n",
       "    <tr>\n",
       "      <th>3</th>\n",
       "      <td>Random forest</td>\n",
       "      <td>3</td>\n",
       "      <td>98.833333</td>\n",
       "      <td>1.372121</td>\n",
       "      <td>100.000000</td>\n",
       "    </tr>\n",
       "    <tr>\n",
       "      <th>4</th>\n",
       "      <td>Random forest</td>\n",
       "      <td>4</td>\n",
       "      <td>99.666667</td>\n",
       "      <td>0.702728</td>\n",
       "      <td>100.000000</td>\n",
       "    </tr>\n",
       "    <tr>\n",
       "      <th>...</th>\n",
       "      <td>...</td>\n",
       "      <td>...</td>\n",
       "      <td>...</td>\n",
       "      <td>...</td>\n",
       "      <td>...</td>\n",
       "    </tr>\n",
       "    <tr>\n",
       "      <th>91</th>\n",
       "      <td>XGBoost</td>\n",
       "      <td>7</td>\n",
       "      <td>97.000000</td>\n",
       "      <td>1.892154</td>\n",
       "      <td>100.000000</td>\n",
       "    </tr>\n",
       "    <tr>\n",
       "      <th>92</th>\n",
       "      <td>XGBoost</td>\n",
       "      <td>8</td>\n",
       "      <td>97.833333</td>\n",
       "      <td>3.047970</td>\n",
       "      <td>100.000000</td>\n",
       "    </tr>\n",
       "    <tr>\n",
       "      <th>93</th>\n",
       "      <td>XGBoost</td>\n",
       "      <td>9</td>\n",
       "      <td>98.333333</td>\n",
       "      <td>1.756821</td>\n",
       "      <td>100.000000</td>\n",
       "    </tr>\n",
       "    <tr>\n",
       "      <th>94</th>\n",
       "      <td>XGBoost</td>\n",
       "      <td>Total</td>\n",
       "      <td>98.033333</td>\n",
       "      <td>0.436031</td>\n",
       "      <td>98.666667</td>\n",
       "    </tr>\n",
       "    <tr>\n",
       "      <th>95</th>\n",
       "      <td>XGBoost</td>\n",
       "      <td>balanced_accuracy</td>\n",
       "      <td>98.033333</td>\n",
       "      <td>0.436031</td>\n",
       "      <td>98.666667</td>\n",
       "    </tr>\n",
       "  </tbody>\n",
       "</table>\n",
       "<p>96 rows × 5 columns</p>\n",
       "</div>"
      ],
      "text/plain": [
       "            mfeat              Class       mean       std         max\n",
       "0   Random forest                  0  98.666667  1.314684  100.000000\n",
       "1   Random forest                  1  99.666667  0.702728  100.000000\n",
       "2   Random forest                  2  99.500000  0.805076  100.000000\n",
       "3   Random forest                  3  98.833333  1.372121  100.000000\n",
       "4   Random forest                  4  99.666667  0.702728  100.000000\n",
       "..            ...                ...        ...       ...         ...\n",
       "91        XGBoost                  7  97.000000  1.892154  100.000000\n",
       "92        XGBoost                  8  97.833333  3.047970  100.000000\n",
       "93        XGBoost                  9  98.333333  1.756821  100.000000\n",
       "94        XGBoost              Total  98.033333  0.436031   98.666667\n",
       "95        XGBoost  balanced_accuracy  98.033333  0.436031   98.666667\n",
       "\n",
       "[96 rows x 5 columns]"
      ]
     },
     "execution_count": 84,
     "metadata": {},
     "output_type": "execute_result"
    }
   ],
   "source": [
    "tmp"
   ]
  },
  {
   "cell_type": "code",
   "execution_count": 85,
   "id": "b9ee21a9",
   "metadata": {},
   "outputs": [
    {
     "data": {
      "text/html": [
       "<div>\n",
       "<style scoped>\n",
       "    .dataframe tbody tr th:only-of-type {\n",
       "        vertical-align: middle;\n",
       "    }\n",
       "\n",
       "    .dataframe tbody tr th {\n",
       "        vertical-align: top;\n",
       "    }\n",
       "\n",
       "    .dataframe thead th {\n",
       "        text-align: right;\n",
       "    }\n",
       "</style>\n",
       "<table border=\"1\" class=\"dataframe\">\n",
       "  <thead>\n",
       "    <tr style=\"text-align: right;\">\n",
       "      <th></th>\n",
       "      <th>mfeat</th>\n",
       "      <th>Class</th>\n",
       "      <th>mean</th>\n",
       "      <th>std</th>\n",
       "      <th>max</th>\n",
       "    </tr>\n",
       "  </thead>\n",
       "  <tbody>\n",
       "    <tr>\n",
       "      <th>11</th>\n",
       "      <td>Random forest</td>\n",
       "      <td>balanced_accuracy</td>\n",
       "      <td>98.983333</td>\n",
       "      <td>0.355295</td>\n",
       "      <td>99.500000</td>\n",
       "    </tr>\n",
       "    <tr>\n",
       "      <th>23</th>\n",
       "      <td>Hypernet</td>\n",
       "      <td>balanced_accuracy</td>\n",
       "      <td>98.116667</td>\n",
       "      <td>0.805268</td>\n",
       "      <td>99.000000</td>\n",
       "    </tr>\n",
       "    <tr>\n",
       "      <th>35</th>\n",
       "      <td>HypernetPCA</td>\n",
       "      <td>balanced_accuracy</td>\n",
       "      <td>98.333333</td>\n",
       "      <td>0.509175</td>\n",
       "      <td>99.000000</td>\n",
       "    </tr>\n",
       "    <tr>\n",
       "      <th>47</th>\n",
       "      <td>Dropout_1</td>\n",
       "      <td>balanced_accuracy</td>\n",
       "      <td>98.600000</td>\n",
       "      <td>0.316228</td>\n",
       "      <td>98.833333</td>\n",
       "    </tr>\n",
       "    <tr>\n",
       "      <th>59</th>\n",
       "      <td>Dropout_2</td>\n",
       "      <td>balanced_accuracy</td>\n",
       "      <td>98.516667</td>\n",
       "      <td>0.461145</td>\n",
       "      <td>99.333333</td>\n",
       "    </tr>\n",
       "    <tr>\n",
       "      <th>71</th>\n",
       "      <td>Dropout_3</td>\n",
       "      <td>balanced_accuracy</td>\n",
       "      <td>98.266667</td>\n",
       "      <td>0.604510</td>\n",
       "      <td>99.000000</td>\n",
       "    </tr>\n",
       "    <tr>\n",
       "      <th>83</th>\n",
       "      <td>Node</td>\n",
       "      <td>balanced_accuracy</td>\n",
       "      <td>98.583333</td>\n",
       "      <td>0.446177</td>\n",
       "      <td>99.333333</td>\n",
       "    </tr>\n",
       "    <tr>\n",
       "      <th>95</th>\n",
       "      <td>XGBoost</td>\n",
       "      <td>balanced_accuracy</td>\n",
       "      <td>98.033333</td>\n",
       "      <td>0.436031</td>\n",
       "      <td>98.666667</td>\n",
       "    </tr>\n",
       "  </tbody>\n",
       "</table>\n",
       "</div>"
      ],
      "text/plain": [
       "            mfeat              Class       mean       std        max\n",
       "11  Random forest  balanced_accuracy  98.983333  0.355295  99.500000\n",
       "23       Hypernet  balanced_accuracy  98.116667  0.805268  99.000000\n",
       "35    HypernetPCA  balanced_accuracy  98.333333  0.509175  99.000000\n",
       "47      Dropout_1  balanced_accuracy  98.600000  0.316228  98.833333\n",
       "59      Dropout_2  balanced_accuracy  98.516667  0.461145  99.333333\n",
       "71      Dropout_3  balanced_accuracy  98.266667  0.604510  99.000000\n",
       "83           Node  balanced_accuracy  98.583333  0.446177  99.333333\n",
       "95        XGBoost  balanced_accuracy  98.033333  0.436031  98.666667"
      ]
     },
     "execution_count": 85,
     "metadata": {},
     "output_type": "execute_result"
    }
   ],
   "source": [
    "tmp[tmp['Class'] == \"balanced_accuracy\"]"
   ]
  },
  {
   "cell_type": "code",
   "execution_count": null,
   "id": "d49403f0",
   "metadata": {},
   "outputs": [],
   "source": []
  }
 ],
 "metadata": {
  "kernelspec": {
   "display_name": "Python 3 (ipykernel)",
   "language": "python",
   "name": "python3"
  },
  "language_info": {
   "codemirror_mode": {
    "name": "ipython",
    "version": 3
   },
   "file_extension": ".py",
   "mimetype": "text/x-python",
   "name": "python",
   "nbconvert_exporter": "python",
   "pygments_lexer": "ipython3",
   "version": "3.9.12"
  }
 },
 "nbformat": 4,
 "nbformat_minor": 5
}
