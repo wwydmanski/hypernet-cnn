{
 "cells": [
  {
   "cell_type": "code",
   "execution_count": 1,
   "id": "2fdadf44-450a-4006-ac5a-bed9840409f6",
   "metadata": {},
   "outputs": [],
   "source": [
    "import torch\n",
    "import pandas as pd\n",
    "import numpy as np\n",
    "from sklearn.metrics import roc_auc_score, f1_score, precision_score, recall_score, balanced_accuracy_score\n",
    "from sklearn.model_selection import GridSearchCV, RandomizedSearchCV\n",
    "import imblearn\n",
    "from sklearn.preprocessing import LabelEncoder, StandardScaler\n",
    "from sklearn.model_selection import train_test_split\n",
    "from collections import defaultdict\n",
    "from tqdm import trange\n",
    "import seaborn as sns\n",
    "import os\n",
    "import matplotlib.pyplot as plt\n",
    "from io import BytesIO\n",
    "import base64\n",
    "import sklearn\n",
    "import time\n",
    "import datetime\n",
    "import random\n",
    "\n",
    "plt.style.use(\"seaborn\")\n",
    "torch.set_default_dtype(torch.float32)"
   ]
  },
  {
   "cell_type": "code",
   "execution_count": 2,
   "id": "3085114d-cf61-4625-97c5-10f34c00d335",
   "metadata": {},
   "outputs": [],
   "source": [
    "from comet_ml import Experiment, Optimizer"
   ]
  },
  {
   "cell_type": "code",
   "execution_count": 3,
   "id": "6c014884",
   "metadata": {},
   "outputs": [],
   "source": [
    "import pyhopper"
   ]
  },
  {
   "cell_type": "code",
   "execution_count": 4,
   "id": "111d13bb",
   "metadata": {},
   "outputs": [
    {
     "data": {
      "text/plain": [
       "1"
      ]
     },
     "execution_count": 4,
     "metadata": {},
     "output_type": "execute_result"
    }
   ],
   "source": [
    "from loguru import logger\n",
    "\n",
    "logger.add(\"log.txt\", format='{time:YYYY-MM-DD HH:mm:ss.SSS} | {message}')"
   ]
  },
  {
   "cell_type": "code",
   "execution_count": 5,
   "id": "24fe4075",
   "metadata": {},
   "outputs": [],
   "source": [
    "from hypertab_benchmark_utils import *"
   ]
  },
  {
   "cell_type": "code",
   "execution_count": null,
   "id": "48c7c818",
   "metadata": {},
   "outputs": [],
   "source": []
  },
  {
   "cell_type": "markdown",
   "id": "62dfe7eb",
   "metadata": {},
   "source": [
    "# GLOBALS"
   ]
  },
  {
   "cell_type": "code",
   "execution_count": 6,
   "id": "04d1ae25-987c-4043-9771-829c928723de",
   "metadata": {},
   "outputs": [],
   "source": [
    "DEVICE=\"cpu\"#\"cuda:0\""
   ]
  },
  {
   "cell_type": "code",
   "execution_count": 7,
   "id": "81b884da",
   "metadata": {},
   "outputs": [],
   "source": [
    "GS_METRIC = \"balanced_accuracy\""
   ]
  },
  {
   "cell_type": "code",
   "execution_count": 8,
   "id": "81672aaa",
   "metadata": {},
   "outputs": [],
   "source": [
    "SEED = 42"
   ]
  },
  {
   "cell_type": "code",
   "execution_count": 9,
   "id": "7ac08b32",
   "metadata": {},
   "outputs": [],
   "source": [
    "TEST_RUN = False\n",
    "\n",
    "os.environ[\"HYPERTAB_TEST_RUN\"] = str(TEST_RUN)"
   ]
  },
  {
   "cell_type": "code",
   "execution_count": 10,
   "id": "3b8f8a6d",
   "metadata": {},
   "outputs": [],
   "source": [
    "TIME_BUDGET = \"30m\""
   ]
  },
  {
   "cell_type": "code",
   "execution_count": 11,
   "id": "2d709262",
   "metadata": {},
   "outputs": [],
   "source": [
    "DATA = \"Hill-Valley-with-noise\""
   ]
  },
  {
   "cell_type": "markdown",
   "id": "82db70f7",
   "metadata": {},
   "source": [
    "# Load data"
   ]
  },
  {
   "cell_type": "code",
   "execution_count": 12,
   "id": "dc257b78",
   "metadata": {},
   "outputs": [],
   "source": [
    "set_seed(SEED)"
   ]
  },
  {
   "cell_type": "code",
   "execution_count": 13,
   "id": "5d27dee4",
   "metadata": {},
   "outputs": [
    {
     "name": "stdout",
     "output_type": "stream",
     "text": [
      "train (606, 100) 2\n",
      "test (606, 100) 2\n"
     ]
    }
   ],
   "source": [
    "_X, _y = get_data(DATA)"
   ]
  },
  {
   "cell_type": "code",
   "execution_count": 14,
   "id": "c79baf7c",
   "metadata": {},
   "outputs": [
    {
     "name": "stdout",
     "output_type": "stream",
     "text": [
      "n_classes 2\n",
      "n_features 100\n"
     ]
    }
   ],
   "source": [
    "n_classes = get_n_classes(_X, _y)\n",
    "n_features = get_n_features(_X, _y)"
   ]
  },
  {
   "cell_type": "code",
   "execution_count": 15,
   "id": "b4eda59d",
   "metadata": {},
   "outputs": [
    {
     "name": "stdout",
     "output_type": "stream",
     "text": [
      "class counts {0: 606, 1: 606}\n"
     ]
    },
    {
     "data": {
      "text/plain": [
       "{0: 606, 1: 606}"
      ]
     },
     "execution_count": 15,
     "metadata": {},
     "output_type": "execute_result"
    }
   ],
   "source": [
    "get_each_class_counts(_X, _y)"
   ]
  },
  {
   "cell_type": "markdown",
   "id": "ecfe6b35",
   "metadata": {},
   "source": [
    "# Split"
   ]
  },
  {
   "cell_type": "code",
   "execution_count": 16,
   "id": "260dcd4c",
   "metadata": {},
   "outputs": [],
   "source": [
    "X_train, X_test, y_train, y_test = initial_split(_X, _y)\n",
    "\n",
    "X = X_train, X_test\n",
    "y = y_train, y_test"
   ]
  },
  {
   "cell_type": "code",
   "execution_count": 17,
   "id": "414d09a7",
   "metadata": {},
   "outputs": [
    {
     "name": "stdout",
     "output_type": "stream",
     "text": [
      "n_classes 2\n",
      "n_features 100\n"
     ]
    }
   ],
   "source": [
    "n_classes = get_n_classes(X_train, y_train)\n",
    "n_features = get_n_features(X_train, y_train)"
   ]
  },
  {
   "cell_type": "code",
   "execution_count": 18,
   "id": "ea2e111e",
   "metadata": {},
   "outputs": [
    {
     "name": "stdout",
     "output_type": "stream",
     "text": [
      "class counts {0: 307, 1: 299}\n"
     ]
    },
    {
     "data": {
      "text/plain": [
       "{0: 307, 1: 299}"
      ]
     },
     "execution_count": 18,
     "metadata": {},
     "output_type": "execute_result"
    }
   ],
   "source": [
    "get_each_class_counts(X_train, y_train)"
   ]
  },
  {
   "cell_type": "code",
   "execution_count": 19,
   "id": "09a65a46",
   "metadata": {},
   "outputs": [
    {
     "name": "stdout",
     "output_type": "stream",
     "text": [
      "eval_max_size 606\n",
      "train_max_size 454\n"
     ]
    }
   ],
   "source": [
    "eval_train_max_size, train_max_size = get_eval_and_benchmark_size(X_train=X_train)"
   ]
  },
  {
   "cell_type": "markdown",
   "id": "20f51db3",
   "metadata": {},
   "source": [
    "# TRAIN MODELS"
   ]
  },
  {
   "cell_type": "markdown",
   "id": "68d707a0",
   "metadata": {},
   "source": [
    "## Common hyperparams"
   ]
  },
  {
   "cell_type": "code",
   "execution_count": 20,
   "id": "f433c98e",
   "metadata": {},
   "outputs": [
    {
     "name": "stdout",
     "output_type": "stream",
     "text": [
      "_mask_sizes [2, 10, 25, 50, 70, 90]\n"
     ]
    }
   ],
   "source": [
    "_mask_sizes = [int(n_features*0.1), int(n_features*0.25), int(n_features*0.5), int(n_features*0.7), int(n_features*0.9)]\n",
    "if 2 not in _mask_sizes:\n",
    "    _mask_sizes.insert(0, 2)\n",
    "    \n",
    "print('_mask_sizes', _mask_sizes)\n",
    "\n",
    "class CommonHyperparams:\n",
    "    lr = pyhopper.choice([3e-5, 3e-4, 3e-3, 3e-2, 3e-1])\n",
    "    batch_size = pyhopper.int(32, 512, 32, 32)\n",
    "    ht_mask_size = pyhopper.choice(_mask_sizes)\n",
    "    ht_target_size = pyhopper.choice([5, 10, 20, 50])\n",
    "    ht_mask_no = pyhopper.choice([5, 10, 50, 100, 150, 200, 300])\n",
    "    ht_epochs = pyhopper.choice([100, 200])\n",
    "    ht_first_hidden = pyhopper.choice([32, 64, 256, 512])\n",
    "    "
   ]
  },
  {
   "cell_type": "markdown",
   "id": "c37e4297",
   "metadata": {},
   "source": [
    " "
   ]
  },
  {
   "cell_type": "markdown",
   "id": "d08dcdab-2c4b-4a05-822b-912037488763",
   "metadata": {},
   "source": [
    "## NODE"
   ]
  },
  {
   "cell_type": "code",
   "execution_count": 21,
   "id": "e1eaffa6",
   "metadata": {},
   "outputs": [],
   "source": [
    "set_seed(SEED)\n",
    "\n",
    "node_fn=get_parametrized_node_fn(X_train=X_train, n_classes=n_classes, n_features=n_features, DEVICE=DEVICE)"
   ]
  },
  {
   "cell_type": "code",
   "execution_count": null,
   "id": "806be7a7-e4c8-4525-a38f-9ae16a3bd229",
   "metadata": {},
   "outputs": [],
   "source": []
  },
  {
   "cell_type": "markdown",
   "id": "8dac1f77",
   "metadata": {},
   "source": [
    "#### Tune hyperparams"
   ]
  },
  {
   "cell_type": "code",
   "execution_count": 21,
   "id": "723921fd",
   "metadata": {
    "scrolled": true
   },
   "outputs": [
    {
     "name": "stdout",
     "output_type": "stream",
     "text": [
      "THIS IS TEST RUN\n",
      "| DEVICE: cpu\n",
      "| model_fn node_fn\n",
      "\n",
      "pyhopper X.shape: (606, 100) y.shape: (606,) train_size: 454\n"
     ]
    },
    {
     "data": {
      "application/vnd.jupyter.widget-view+json": {
       "model_id": "5407b6bfbb634260be466c319cc5e8e5",
       "version_major": 2,
       "version_minor": 0
      },
      "text/plain": [
       "  0%|          | [00:00<?]"
      ]
     },
     "metadata": {},
     "output_type": "display_data"
    },
    {
     "name": "stdout",
     "output_type": "stream",
     "text": [
      "Search is scheduled for 01:00 (m:s)\n",
      "params {'layer_dim': 256, 'num_layers': 3, 'depth': 4, 'batch_size': 32}\n",
      "iter 1 of 1 X_train shape torch.Size([454, 100])\n"
     ]
    },
    {
     "name": "stderr",
     "output_type": "stream",
     "text": [
      "/home/z1157095/hypernet-cnn/deps/node/node/lib/odst.py:72: UserWarning: __floordiv__ is deprecated, and its behavior will change in a future version of pytorch. It currently rounds toward 0 (like the 'trunc' function NOT 'floor'). This results in incorrect rounding for negative values. To keep the current behavior, use torch.div(a, b, rounding_mode='trunc'), or for actual floor division, use torch.div(a, b, rounding_mode='floor').\n",
      "  bin_codes = (indices.view(1, -1) // offsets.view(-1, 1) % 2).to(torch.float32)\n",
      "/home/z1157095/hypernet-cnn/deps/node/node/lib/odst.py:113: UserWarning: Data-aware initialization is performed on less than 1000 data points. This may cause instability.To avoid potential problems, run this model on a data batch with at least 1000 data samples.You can do so manually before training. Use with torch.no_grad() for memory efficiency.\n",
      "  warn(\"Data-aware initialization is performed on less than 1000 data points. This may cause instability.\"\n",
      "/home/z1157095/anaconda3/envs/hyper-mnist/lib/python3.9/site-packages/qhoptim/pyt/qhadam.py:133: UserWarning: This overload of add_ is deprecated:\n",
      "\tadd_(Number alpha, Tensor other)\n",
      "Consider using one of the following signatures instead:\n",
      "\tadd_(Tensor other, *, Number alpha) (Triggered internally at  ../torch/csrc/utils/python_arg_parser.cpp:1055.)\n",
      "  exp_avg.mul_(beta1_adj).add_(1.0 - beta1_adj, d_p)\n"
     ]
    },
    {
     "name": "stdout",
     "output_type": "stream",
     "text": [
      "==================== Summary ===================\n",
      "Mode              : Best f : Steps : Time       \n",
      "----------------  : ----   : ----  : ----       \n",
      "Initial solution  : 50     : 1     : 18:24 (m:s)\n",
      "----------------  : ----   : ----  : ----       \n",
      "Total             : 50     : 1     : 18:24 (m:s)\n",
      "================================================\n",
      "Hill-Valley-with-noise_node_fn_{'layer_dim': 256, 'num_layers': 3, 'depth': 4, 'batch_size': 32}\n"
     ]
    },
    {
     "name": "stderr",
     "output_type": "stream",
     "text": [
      "/home/z1157095/anaconda3/envs/hyper-mnist/lib/python3.9/site-packages/sklearn/metrics/_classification.py:1344: UndefinedMetricWarning: Precision is ill-defined and being set to 0.0 due to no predicted samples. Use `zero_division` parameter to control this behavior.\n",
      "  _warn_prf(average, modifier, msg_start, len(result))\n"
     ]
    },
    {
     "data": {
      "text/plain": [
       "{'layer_dim': 256, 'num_layers': 3, 'depth': 4, 'batch_size': 32}"
      ]
     },
     "execution_count": 21,
     "metadata": {},
     "output_type": "execute_result"
    }
   ],
   "source": [
    "# 'layer_dim': hp.quniform('layer_dim', 100, 1200, 100),\n",
    "# 'num_layers': hp.quniform('num_layers', 1, 4, 1),\n",
    "# 'depth': hp.quniform('depth', 2, 7, 1)\n",
    "                    \n",
    "param_grid = {\n",
    "    'layer_dim': pyhopper.int(64, 1024, power_of=2),\n",
    "    'num_layers': pyhopper.int(1, 5),\n",
    "    'depth': pyhopper.int(2, 7),\n",
    "    'batch_size': pyhopper.choice([32, 64, 128]),\n",
    "}\n",
    "\n",
    "node_best, node_history = pyhopper_best_params(\n",
    "    model_fn=node_fn,\n",
    "    param_grid=param_grid,\n",
    "    data=(X_train, y_train),\n",
    "    train_size=train_max_size,\n",
    "    DATA=DATA,\n",
    "    device=DEVICE,\n",
    "    time=\"180m\"\n",
    ")\n",
    "\n",
    "node_best"
   ]
  },
  {
   "cell_type": "code",
   "execution_count": null,
   "id": "0498be19",
   "metadata": {},
   "outputs": [],
   "source": []
  },
  {
   "cell_type": "markdown",
   "id": "a1afc979",
   "metadata": {},
   "source": [
    "#### Use best hyperparams"
   ]
  },
  {
   "cell_type": "code",
   "execution_count": 22,
   "id": "66a397d5",
   "metadata": {
    "tags": []
   },
   "outputs": [
    {
     "name": "stdout",
     "output_type": "stream",
     "text": [
      "iter 1 of 1 X_train shape torch.Size([606, 100])\n"
     ]
    }
   ],
   "source": [
    "%%capture --no-stdout\n",
    "\n",
    "node_results = test_model(\n",
    "    model_fn=node_fn(**node_best),\n",
    "    data=(X, y),\n",
    "    train_size=eval_train_max_size,\n",
    "    iters=10\n",
    ")"
   ]
  },
  {
   "cell_type": "code",
   "execution_count": 23,
   "id": "6aa5e49c",
   "metadata": {},
   "outputs": [
    {
     "name": "stdout",
     "output_type": "stream",
     "text": [
      "metric balanced_accuracy\n",
      "dataset_name Hill-Valley-with-noise\n",
      "Hill-Valley-with-noise: 50.00 ~ nan (max: 50.00)\n"
     ]
    }
   ],
   "source": [
    "print_mean_std_max(node_results, DATA)"
   ]
  },
  {
   "cell_type": "code",
   "execution_count": null,
   "id": "11d696b0-f5b6-4508-9fff-5166fad29e9a",
   "metadata": {},
   "outputs": [],
   "source": []
  },
  {
   "cell_type": "markdown",
   "id": "c61f6487",
   "metadata": {},
   "source": [
    " "
   ]
  },
  {
   "cell_type": "markdown",
   "id": "753c2e4d-aca4-4eb1-b3ea-a1926fd44efe",
   "metadata": {},
   "source": [
    "## Dropout Neural network"
   ]
  },
  {
   "cell_type": "markdown",
   "id": "64652732",
   "metadata": {},
   "source": [
    "#### Find Hyperparams"
   ]
  },
  {
   "cell_type": "markdown",
   "id": "256e43a3",
   "metadata": {},
   "source": [
    "### Dropout 1 layer"
   ]
  },
  {
   "cell_type": "code",
   "execution_count": 24,
   "id": "946f0004",
   "metadata": {},
   "outputs": [],
   "source": [
    "set_seed(SEED)\n",
    "\n",
    "network_fn1=get_parametrized_dropout_net1(DEVICE=DEVICE, n_features=n_features, n_classes=n_classes)"
   ]
  },
  {
   "cell_type": "code",
   "execution_count": 25,
   "id": "41850a57",
   "metadata": {},
   "outputs": [
    {
     "name": "stdout",
     "output_type": "stream",
     "text": [
      "THIS IS TEST RUN\n",
      "| DEVICE: cpu\n",
      "| model_fn network_fn1\n",
      "\n",
      "pyhopper X.shape: (606, 100) y.shape: (606,) train_size: 454\n"
     ]
    },
    {
     "data": {
      "application/vnd.jupyter.widget-view+json": {
       "model_id": "acc45cd8b4614aa69d9b35a70f511814",
       "version_major": 2,
       "version_minor": 0
      },
      "text/plain": [
       "  0%|          | [00:00<?]"
      ]
     },
     "metadata": {},
     "output_type": "display_data"
    },
    {
     "name": "stdout",
     "output_type": "stream",
     "text": [
      "Search is scheduled for 01:00 (m:s)\n",
      "params {'epochs': 10, 'lr': 3e-05, 'batch_size': 32, 'drop1': 0.3, 'drop2': 0.3}\n",
      "iter 1 of 1 X_train shape torch.Size([454, 100])\n",
      "params {'epochs': 10, 'lr': 0.3, 'batch_size': 64, 'drop1': 0.7, 'drop2': 0.7}\n",
      "iter 1 of 1 X_train shape torch.Size([454, 100])\n"
     ]
    },
    {
     "name": "stderr",
     "output_type": "stream",
     "text": [
      "/home/z1157095/anaconda3/envs/hyper-mnist/lib/python3.9/site-packages/sklearn/metrics/_classification.py:1344: UndefinedMetricWarning: Precision is ill-defined and being set to 0.0 due to no predicted samples. Use `zero_division` parameter to control this behavior.\n",
      "  _warn_prf(average, modifier, msg_start, len(result))\n"
     ]
    },
    {
     "name": "stdout",
     "output_type": "stream",
     "text": [
      "params {'epochs': 10, 'lr': 0.03, 'batch_size': 64, 'drop1': 0.7, 'drop2': 0.1}\n",
      "iter 1 of 1 X_train shape torch.Size([454, 100])\n",
      "params {'epochs': 10, 'lr': 0.03, 'batch_size': 64, 'drop1': 0.1, 'drop2': 0.1}\n",
      "iter 1 of 1 X_train shape torch.Size([454, 100])\n",
      "params {'epochs': 10, 'lr': 0.3, 'batch_size': 64, 'drop1': 0.7, 'drop2': 0.5}\n",
      "iter 1 of 1 X_train shape torch.Size([454, 100])\n",
      "params {'epochs': 10, 'lr': 3e-05, 'batch_size': 32, 'drop1': 0.1, 'drop2': 0.3}\n",
      "iter 1 of 1 X_train shape torch.Size([454, 100])\n",
      "params {'epochs': 10, 'lr': 0.0003, 'batch_size': 32, 'drop1': 0.1, 'drop2': 0.1}\n",
      "iter 1 of 1 X_train shape torch.Size([454, 100])\n",
      "params {'epochs': 10, 'lr': 0.0003, 'batch_size': 32, 'drop1': 0.1, 'drop2': 0.5}\n",
      "iter 1 of 1 X_train shape torch.Size([454, 100])\n",
      "params {'epochs': 10, 'lr': 0.3, 'batch_size': 64, 'drop1': 0.1, 'drop2': 0.3}\n",
      "iter 1 of 1 X_train shape torch.Size([454, 100])\n",
      "params {'epochs': 10, 'lr': 3e-05, 'batch_size': 64, 'drop1': 0.5, 'drop2': 0.1}\n",
      "iter 1 of 1 X_train shape torch.Size([454, 100])\n",
      "params {'epochs': 10, 'lr': 0.03, 'batch_size': 32, 'drop1': 0.5, 'drop2': 0.3}\n",
      "iter 1 of 1 X_train shape torch.Size([454, 100])\n",
      "params {'epochs': 10, 'lr': 0.003, 'batch_size': 64, 'drop1': 0.1, 'drop2': 0.3}\n",
      "iter 1 of 1 X_train shape torch.Size([454, 100])\n",
      "params {'epochs': 10, 'lr': 0.0003, 'batch_size': 64, 'drop1': 0.3, 'drop2': 0.7}\n",
      "iter 1 of 1 X_train shape torch.Size([454, 100])\n",
      "params {'epochs': 10, 'lr': 3e-05, 'batch_size': 64, 'drop1': 0.5, 'drop2': 0.3}\n",
      "iter 1 of 1 X_train shape torch.Size([454, 100])\n",
      "params {'epochs': 10, 'lr': 0.03, 'batch_size': 32, 'drop1': 0.7, 'drop2': 0.1}\n",
      "iter 1 of 1 X_train shape torch.Size([454, 100])\n",
      "params {'epochs': 10, 'lr': 3e-05, 'batch_size': 32, 'drop1': 0.3, 'drop2': 0.5}\n",
      "iter 1 of 1 X_train shape torch.Size([454, 100])\n",
      "params {'epochs': 10, 'lr': 0.003, 'batch_size': 32, 'drop1': 0.5, 'drop2': 0.7}\n",
      "iter 1 of 1 X_train shape torch.Size([454, 100])\n",
      "params {'epochs': 10, 'lr': 0.03, 'batch_size': 32, 'drop1': 0.3, 'drop2': 0.7}\n",
      "iter 1 of 1 X_train shape torch.Size([454, 100])\n"
     ]
    },
    {
     "name": "stderr",
     "output_type": "stream",
     "text": [
      "/home/z1157095/anaconda3/envs/hyper-mnist/lib/python3.9/site-packages/sklearn/metrics/_classification.py:1344: UndefinedMetricWarning: Precision is ill-defined and being set to 0.0 due to no predicted samples. Use `zero_division` parameter to control this behavior.\n",
      "  _warn_prf(average, modifier, msg_start, len(result))\n"
     ]
    },
    {
     "name": "stdout",
     "output_type": "stream",
     "text": [
      "params {'epochs': 10, 'lr': 0.003, 'batch_size': 32, 'drop1': 0.1, 'drop2': 0.7}\n",
      "iter 1 of 1 X_train shape torch.Size([454, 100])\n",
      "params {'epochs': 10, 'lr': 0.003, 'batch_size': 64, 'drop1': 0.3, 'drop2': 0.1}\n",
      "iter 1 of 1 X_train shape torch.Size([454, 100])\n",
      "params {'epochs': 10, 'lr': 0.0003, 'batch_size': 32, 'drop1': 0.3, 'drop2': 0.1}\n",
      "iter 1 of 1 X_train shape torch.Size([454, 100])\n",
      "params {'epochs': 10, 'lr': 0.0003, 'batch_size': 32, 'drop1': 0.1, 'drop2': 0.3}\n",
      "iter 1 of 1 X_train shape torch.Size([454, 100])\n",
      "params {'epochs': 10, 'lr': 0.3, 'batch_size': 32, 'drop1': 0.1, 'drop2': 0.3}\n",
      "iter 1 of 1 X_train shape torch.Size([454, 100])\n",
      "params {'epochs': 10, 'lr': 0.0003, 'batch_size': 64, 'drop1': 0.1, 'drop2': 0.1}\n",
      "iter 1 of 1 X_train shape torch.Size([454, 100])\n",
      "params {'epochs': 10, 'lr': 0.003, 'batch_size': 64, 'drop1': 0.1, 'drop2': 0.1}\n",
      "iter 1 of 1 X_train shape torch.Size([454, 100])\n",
      "params {'epochs': 10, 'lr': 0.003, 'batch_size': 32, 'drop1': 0.1, 'drop2': 0.1}\n",
      "iter 1 of 1 X_train shape torch.Size([454, 100])\n",
      "params {'epochs': 10, 'lr': 3e-05, 'batch_size': 32, 'drop1': 0.1, 'drop2': 0.1}\n",
      "iter 1 of 1 X_train shape torch.Size([454, 100])\n",
      "params {'epochs': 10, 'lr': 0.003, 'batch_size': 32, 'drop1': 0.3, 'drop2': 0.3}\n",
      "iter 1 of 1 X_train shape torch.Size([454, 100])\n"
     ]
    },
    {
     "name": "stderr",
     "output_type": "stream",
     "text": [
      "/home/z1157095/anaconda3/envs/hyper-mnist/lib/python3.9/site-packages/sklearn/metrics/_classification.py:1344: UndefinedMetricWarning: Precision is ill-defined and being set to 0.0 due to no predicted samples. Use `zero_division` parameter to control this behavior.\n",
      "  _warn_prf(average, modifier, msg_start, len(result))\n"
     ]
    },
    {
     "name": "stdout",
     "output_type": "stream",
     "text": [
      "params {'epochs': 10, 'lr': 0.03, 'batch_size': 32, 'drop1': 0.1, 'drop2': 0.1}\n",
      "iter 1 of 1 X_train shape torch.Size([454, 100])\n",
      "params {'epochs': 10, 'lr': 0.3, 'batch_size': 64, 'drop1': 0.1, 'drop2': 0.1}\n",
      "iter 1 of 1 X_train shape torch.Size([454, 100])\n",
      "params {'epochs': 10, 'lr': 3e-05, 'batch_size': 32, 'drop1': 0.3, 'drop2': 0.1}\n",
      "iter 1 of 1 X_train shape torch.Size([454, 100])\n",
      "params {'epochs': 10, 'lr': 3e-05, 'batch_size': 64, 'drop1': 0.1, 'drop2': 0.3}\n",
      "iter 1 of 1 X_train shape torch.Size([454, 100])\n",
      "params {'epochs': 10, 'lr': 3e-05, 'batch_size': 64, 'drop1': 0.1, 'drop2': 0.1}\n",
      "iter 1 of 1 X_train shape torch.Size([454, 100])\n",
      "params {'epochs': 10, 'lr': 0.3, 'batch_size': 64, 'drop1': 0.3, 'drop2': 0.3}\n",
      "iter 1 of 1 X_train shape torch.Size([454, 100])\n"
     ]
    },
    {
     "name": "stderr",
     "output_type": "stream",
     "text": [
      "/home/z1157095/anaconda3/envs/hyper-mnist/lib/python3.9/site-packages/sklearn/metrics/_classification.py:1344: UndefinedMetricWarning: Precision is ill-defined and being set to 0.0 due to no predicted samples. Use `zero_division` parameter to control this behavior.\n",
      "  _warn_prf(average, modifier, msg_start, len(result))\n"
     ]
    },
    {
     "name": "stdout",
     "output_type": "stream",
     "text": [
      "params {'epochs': 10, 'lr': 3e-05, 'batch_size': 64, 'drop1': 0.3, 'drop2': 0.1}\n",
      "iter 1 of 1 X_train shape torch.Size([454, 100])\n",
      "params {'epochs': 10, 'lr': 0.3, 'batch_size': 32, 'drop1': 0.1, 'drop2': 0.1}\n",
      "iter 1 of 1 X_train shape torch.Size([454, 100])\n",
      "params {'epochs': 10, 'lr': 0.03, 'batch_size': 64, 'drop1': 0.3, 'drop2': 0.1}\n",
      "iter 1 of 1 X_train shape torch.Size([454, 100])\n",
      "================= Summary =================\n",
      "Mode              : Best f : Steps : Time  \n",
      "----------------  : ----   : ----  : ----  \n",
      "Initial solution  : 50     : 1     : 1.46 s\n",
      "Random seeding    : 53.61  : 19    : 29 s  \n",
      "Local sampling    : 54.94  : 17    : 29 s  \n",
      "Duplicates        : -      : 58    : -     \n",
      "----------------  : ----   : ----  : ----  \n",
      "Total             : 54.94  : 95    : 60 s  \n",
      "===========================================\n",
      "Hill-Valley-with-noise_network_fn1_{'epochs': 10, 'lr': 0.003, 'batch_size': 64, 'drop1': 0.1, 'drop2': 0.1}\n"
     ]
    },
    {
     "data": {
      "text/plain": [
       "{'epochs': 10, 'lr': 0.003, 'batch_size': 64, 'drop1': 0.1, 'drop2': 0.1}"
      ]
     },
     "execution_count": 25,
     "metadata": {},
     "output_type": "execute_result"
    }
   ],
   "source": [
    "param_grid = {\n",
    "                \"epochs\": CommonHyperparams.ht_epochs,\n",
    "                \"lr\": CommonHyperparams.lr,\n",
    "                \"batch_size\": CommonHyperparams.batch_size,\n",
    "                \"drop1\": pyhopper.choice([0.1, 0.3, 0.5, 0.7], is_ordinal=True),\n",
    "                \"drop2\": pyhopper.choice([0.1, 0.3, 0.5, 0.7], is_ordinal=True),\n",
    "                \"batch_size\": pyhopper.choice([32, 64]),\n",
    "             }\n",
    "\n",
    "nn_fn1_best_params, nn_fn1_history = pyhopper_best_params(\n",
    "    model_fn=network_fn1,\n",
    "    param_grid=param_grid,\n",
    "    data=(X_train, y_train),\n",
    "    train_size=train_max_size,\n",
    "    DATA=DATA,\n",
    "    device=DEVICE,\n",
    "    time=\"60m\",\n",
    ")\n",
    "\n",
    "nn_fn1_best_params"
   ]
  },
  {
   "cell_type": "code",
   "execution_count": 26,
   "id": "7b0143ba",
   "metadata": {},
   "outputs": [
    {
     "name": "stdout",
     "output_type": "stream",
     "text": [
      "iter 1 of 1 X_train shape torch.Size([606, 100])\n"
     ]
    }
   ],
   "source": [
    "nn1_results = test_model(\n",
    "    model_fn=network_fn1(**nn_fn1_best_params),\n",
    "    data=(X, y),\n",
    "    train_size=eval_train_max_size,\n",
    "    iters=10\n",
    ")"
   ]
  },
  {
   "cell_type": "code",
   "execution_count": 27,
   "id": "fb03b139",
   "metadata": {},
   "outputs": [
    {
     "name": "stdout",
     "output_type": "stream",
     "text": [
      "metric balanced_accuracy\n",
      "dataset_name Hill-Valley-with-noise\n",
      "Hill-Valley-with-noise: 50.15 ~ nan (max: 50.15)\n"
     ]
    }
   ],
   "source": [
    "print_mean_std_max(nn1_results, DATA)"
   ]
  },
  {
   "cell_type": "markdown",
   "id": "fc25ca37",
   "metadata": {},
   "source": [
    "### Dropout 2 layers"
   ]
  },
  {
   "cell_type": "code",
   "execution_count": 28,
   "id": "dcb8e41c",
   "metadata": {},
   "outputs": [],
   "source": [
    "set_seed(SEED)\n",
    "\n",
    "network_fn2=get_parametrized_dropout_net2(DEVICE=DEVICE, n_features=n_features, n_classes=n_classes)"
   ]
  },
  {
   "cell_type": "code",
   "execution_count": 29,
   "id": "6ded59e5",
   "metadata": {},
   "outputs": [
    {
     "name": "stdout",
     "output_type": "stream",
     "text": [
      "THIS IS TEST RUN\n",
      "| DEVICE: cpu\n",
      "| model_fn network_fn2\n",
      "\n",
      "pyhopper X.shape: (606, 100) y.shape: (606,) train_size: 454\n"
     ]
    },
    {
     "data": {
      "application/vnd.jupyter.widget-view+json": {
       "model_id": "116d385e21cf4940bb691069233aab3e",
       "version_major": 2,
       "version_minor": 0
      },
      "text/plain": [
       "  0%|          | [00:00<?]"
      ]
     },
     "metadata": {},
     "output_type": "display_data"
    },
    {
     "name": "stdout",
     "output_type": "stream",
     "text": [
      "Search is scheduled for 01:00 (m:s)\n",
      "params {'epochs': 10, 'lr': 3e-05, 'batch_size': 32, 'drop1': 0.3, 'drop2': 0.3, 'drop3': 0.3}\n",
      "iter 1 of 1 X_train shape torch.Size([454, 100])\n",
      "params {'epochs': 10, 'lr': 0.003, 'batch_size': 96, 'drop1': 0.1, 'drop2': 0.5, 'drop3': 0.3}\n",
      "iter 1 of 1 X_train shape torch.Size([454, 100])\n",
      "params {'epochs': 10, 'lr': 0.0003, 'batch_size': 256, 'drop1': 0.3, 'drop2': 0.7, 'drop3': 0.7}\n",
      "iter 1 of 1 X_train shape torch.Size([454, 100])\n",
      "params {'epochs': 10, 'lr': 0.0003, 'batch_size': 480, 'drop1': 0.7, 'drop2': 0.1, 'drop3': 0.3}\n",
      "iter 1 of 1 X_train shape torch.Size([454, 100])\n",
      "params {'epochs': 10, 'lr': 3e-05, 'batch_size': 384, 'drop1': 0.1, 'drop2': 0.3, 'drop3': 0.3}\n",
      "iter 1 of 1 X_train shape torch.Size([454, 100])\n",
      "params {'epochs': 10, 'lr': 3e-05, 'batch_size': 96, 'drop1': 0.7, 'drop2': 0.1, 'drop3': 0.3}\n",
      "iter 1 of 1 X_train shape torch.Size([454, 100])\n",
      "params {'epochs': 10, 'lr': 0.0003, 'batch_size': 160, 'drop1': 0.3, 'drop2': 0.3, 'drop3': 0.1}\n",
      "iter 1 of 1 X_train shape torch.Size([454, 100])\n",
      "params {'epochs': 10, 'lr': 3e-05, 'batch_size': 320, 'drop1': 0.5, 'drop2': 0.1, 'drop3': 0.5}\n",
      "iter 1 of 1 X_train shape torch.Size([454, 100])\n",
      "params {'epochs': 10, 'lr': 0.03, 'batch_size': 256, 'drop1': 0.7, 'drop2': 0.3, 'drop3': 0.5}\n",
      "iter 1 of 1 X_train shape torch.Size([454, 100])\n",
      "params {'epochs': 10, 'lr': 0.3, 'batch_size': 224, 'drop1': 0.1, 'drop2': 0.3, 'drop3': 0.7}\n",
      "iter 1 of 1 X_train shape torch.Size([454, 100])\n",
      "params {'epochs': 10, 'lr': 0.3, 'batch_size': 64, 'drop1': 0.3, 'drop2': 0.1, 'drop3': 0.3}\n",
      "iter 1 of 1 X_train shape torch.Size([454, 100])\n"
     ]
    },
    {
     "name": "stderr",
     "output_type": "stream",
     "text": [
      "/home/z1157095/anaconda3/envs/hyper-mnist/lib/python3.9/site-packages/sklearn/metrics/_classification.py:1344: UndefinedMetricWarning: Precision is ill-defined and being set to 0.0 due to no predicted samples. Use `zero_division` parameter to control this behavior.\n",
      "  _warn_prf(average, modifier, msg_start, len(result))\n"
     ]
    },
    {
     "name": "stdout",
     "output_type": "stream",
     "text": [
      "params {'epochs': 10, 'lr': 3e-05, 'batch_size': 64, 'drop1': 0.1, 'drop2': 0.5, 'drop3': 0.1}\n",
      "iter 1 of 1 X_train shape torch.Size([454, 100])\n",
      "params {'epochs': 10, 'lr': 3e-05, 'batch_size': 480, 'drop1': 0.3, 'drop2': 0.3, 'drop3': 0.5}\n",
      "iter 1 of 1 X_train shape torch.Size([454, 100])\n"
     ]
    },
    {
     "name": "stderr",
     "output_type": "stream",
     "text": [
      "/home/z1157095/anaconda3/envs/hyper-mnist/lib/python3.9/site-packages/sklearn/metrics/_classification.py:1344: UndefinedMetricWarning: Precision is ill-defined and being set to 0.0 due to no predicted samples. Use `zero_division` parameter to control this behavior.\n",
      "  _warn_prf(average, modifier, msg_start, len(result))\n"
     ]
    },
    {
     "name": "stdout",
     "output_type": "stream",
     "text": [
      "params {'epochs': 10, 'lr': 0.0003, 'batch_size': 160, 'drop1': 0.7, 'drop2': 0.3, 'drop3': 0.7}\n",
      "iter 1 of 1 X_train shape torch.Size([454, 100])\n",
      "params {'epochs': 10, 'lr': 0.03, 'batch_size': 224, 'drop1': 0.3, 'drop2': 0.7, 'drop3': 0.5}\n",
      "iter 1 of 1 X_train shape torch.Size([454, 100])\n",
      "params {'epochs': 10, 'lr': 0.03, 'batch_size': 96, 'drop1': 0.7, 'drop2': 0.5, 'drop3': 0.5}\n",
      "iter 1 of 1 X_train shape torch.Size([454, 100])\n"
     ]
    },
    {
     "name": "stderr",
     "output_type": "stream",
     "text": [
      "/home/z1157095/anaconda3/envs/hyper-mnist/lib/python3.9/site-packages/sklearn/metrics/_classification.py:1344: UndefinedMetricWarning: Precision is ill-defined and being set to 0.0 due to no predicted samples. Use `zero_division` parameter to control this behavior.\n",
      "  _warn_prf(average, modifier, msg_start, len(result))\n"
     ]
    },
    {
     "name": "stdout",
     "output_type": "stream",
     "text": [
      "params {'epochs': 10, 'lr': 3e-05, 'batch_size': 224, 'drop1': 0.7, 'drop2': 0.7, 'drop3': 0.1}\n",
      "iter 1 of 1 X_train shape torch.Size([454, 100])\n",
      "params {'epochs': 10, 'lr': 0.03, 'batch_size': 416, 'drop1': 0.5, 'drop2': 0.5, 'drop3': 0.3}\n",
      "iter 1 of 1 X_train shape torch.Size([454, 100])\n",
      "params {'epochs': 10, 'lr': 0.03, 'batch_size': 288, 'drop1': 0.3, 'drop2': 0.3, 'drop3': 0.1}\n",
      "iter 1 of 1 X_train shape torch.Size([454, 100])\n",
      "params {'epochs': 10, 'lr': 0.03, 'batch_size': 160, 'drop1': 0.3, 'drop2': 0.3, 'drop3': 0.1}\n",
      "iter 1 of 1 X_train shape torch.Size([454, 100])\n",
      "params {'epochs': 10, 'lr': 0.0003, 'batch_size': 192, 'drop1': 0.3, 'drop2': 0.1, 'drop3': 0.3}\n",
      "iter 1 of 1 X_train shape torch.Size([454, 100])\n",
      "params {'epochs': 10, 'lr': 0.0003, 'batch_size': 160, 'drop1': 0.5, 'drop2': 0.3, 'drop3': 0.1}\n",
      "iter 1 of 1 X_train shape torch.Size([454, 100])\n",
      "params {'epochs': 10, 'lr': 0.0003, 'batch_size': 224, 'drop1': 0.3, 'drop2': 0.3, 'drop3': 0.1}\n",
      "iter 1 of 1 X_train shape torch.Size([454, 100])\n",
      "params {'epochs': 10, 'lr': 3e-05, 'batch_size': 160, 'drop1': 0.3, 'drop2': 0.1, 'drop3': 0.1}\n",
      "iter 1 of 1 X_train shape torch.Size([454, 100])\n",
      "params {'epochs': 10, 'lr': 0.3, 'batch_size': 192, 'drop1': 0.3, 'drop2': 0.3, 'drop3': 0.1}\n",
      "iter 1 of 1 X_train shape torch.Size([454, 100])\n",
      "params {'epochs': 10, 'lr': 3e-05, 'batch_size': 256, 'drop1': 0.3, 'drop2': 0.3, 'drop3': 0.1}\n",
      "iter 1 of 1 X_train shape torch.Size([454, 100])\n"
     ]
    },
    {
     "name": "stderr",
     "output_type": "stream",
     "text": [
      "/home/z1157095/anaconda3/envs/hyper-mnist/lib/python3.9/site-packages/sklearn/metrics/_classification.py:1344: UndefinedMetricWarning: Precision is ill-defined and being set to 0.0 due to no predicted samples. Use `zero_division` parameter to control this behavior.\n",
      "  _warn_prf(average, modifier, msg_start, len(result))\n"
     ]
    },
    {
     "name": "stdout",
     "output_type": "stream",
     "text": [
      "params {'epochs': 10, 'lr': 0.003, 'batch_size': 160, 'drop1': 0.3, 'drop2': 0.3, 'drop3': 0.1}\n",
      "iter 1 of 1 X_train shape torch.Size([454, 100])\n",
      "params {'epochs': 10, 'lr': 0.0003, 'batch_size': 256, 'drop1': 0.3, 'drop2': 0.3, 'drop3': 0.1}\n",
      "iter 1 of 1 X_train shape torch.Size([454, 100])\n",
      "params {'epochs': 10, 'lr': 0.3, 'batch_size': 160, 'drop1': 0.3, 'drop2': 0.1, 'drop3': 0.3}\n",
      "iter 1 of 1 X_train shape torch.Size([454, 100])\n",
      "params {'epochs': 10, 'lr': 0.3, 'batch_size': 224, 'drop1': 0.1, 'drop2': 0.3, 'drop3': 0.1}\n",
      "iter 1 of 1 X_train shape torch.Size([454, 100])\n",
      "params {'epochs': 10, 'lr': 0.0003, 'batch_size': 416, 'drop1': 0.5, 'drop2': 0.3, 'drop3': 0.3}\n",
      "iter 1 of 1 X_train shape torch.Size([454, 100])\n",
      "params {'epochs': 10, 'lr': 0.0003, 'batch_size': 288, 'drop1': 0.3, 'drop2': 0.3, 'drop3': 0.1}\n",
      "iter 1 of 1 X_train shape torch.Size([454, 100])\n",
      "params {'epochs': 10, 'lr': 0.3, 'batch_size': 288, 'drop1': 0.3, 'drop2': 0.3, 'drop3': 0.3}\n",
      "iter 1 of 1 X_train shape torch.Size([454, 100])\n",
      "params {'epochs': 10, 'lr': 0.003, 'batch_size': 32, 'drop1': 0.5, 'drop2': 0.5, 'drop3': 0.3}\n",
      "iter 1 of 1 X_train shape torch.Size([454, 100])\n",
      "params {'epochs': 10, 'lr': 0.0003, 'batch_size': 192, 'drop1': 0.3, 'drop2': 0.3, 'drop3': 0.1}\n",
      "iter 1 of 1 X_train shape torch.Size([454, 100])\n",
      "params {'epochs': 10, 'lr': 0.3, 'batch_size': 256, 'drop1': 0.3, 'drop2': 0.3, 'drop3': 0.1}\n",
      "iter 1 of 1 X_train shape torch.Size([454, 100])\n",
      "params {'epochs': 10, 'lr': 0.03, 'batch_size': 256, 'drop1': 0.3, 'drop2': 0.3, 'drop3': 0.1}\n",
      "iter 1 of 1 X_train shape torch.Size([454, 100])\n",
      "params {'epochs': 10, 'lr': 0.0003, 'batch_size': 384, 'drop1': 0.3, 'drop2': 0.3, 'drop3': 0.1}\n",
      "iter 1 of 1 X_train shape torch.Size([454, 100])\n",
      "================= Summary =================\n",
      "Mode              : Best f : Steps : Time  \n",
      "----------------  : ----   : ----  : ----  \n",
      "Initial solution  : 50     : 1     : 1.95 s\n",
      "Random seeding    : 58.33  : 17    : 28 s  \n",
      "Local sampling    : 61.65  : 20    : 29 s  \n",
      "Duplicates        : -      : 7     : -     \n",
      "----------------  : ----   : ----  : ----  \n",
      "Total             : 61.65  : 45    : 60 s  \n",
      "===========================================\n",
      "Hill-Valley-with-noise_network_fn2_{'epochs': 10, 'lr': 0.0003, 'batch_size': 256, 'drop1': 0.3, 'drop2': 0.3, 'drop3': 0.1}\n"
     ]
    },
    {
     "name": "stderr",
     "output_type": "stream",
     "text": [
      "/home/z1157095/anaconda3/envs/hyper-mnist/lib/python3.9/site-packages/sklearn/metrics/_classification.py:1344: UndefinedMetricWarning: Precision is ill-defined and being set to 0.0 due to no predicted samples. Use `zero_division` parameter to control this behavior.\n",
      "  _warn_prf(average, modifier, msg_start, len(result))\n"
     ]
    },
    {
     "data": {
      "text/plain": [
       "{'epochs': 10,\n",
       " 'lr': 0.0003,\n",
       " 'batch_size': 256,\n",
       " 'drop1': 0.3,\n",
       " 'drop2': 0.3,\n",
       " 'drop3': 0.1}"
      ]
     },
     "execution_count": 29,
     "metadata": {},
     "output_type": "execute_result"
    }
   ],
   "source": [
    "param_grid = {\n",
    "                \"epochs\": CommonHyperparams.ht_epochs,\n",
    "                \"lr\": CommonHyperparams.lr,\n",
    "                \"batch_size\": CommonHyperparams.batch_size,\n",
    "                \"drop1\": pyhopper.choice([0.1, 0.3, 0.5, 0.7], is_ordinal=True),\n",
    "                \"drop2\": pyhopper.choice([0.1, 0.3, 0.5, 0.7], is_ordinal=True),\n",
    "                \"drop3\": pyhopper.choice([0.1, 0.3, 0.5, 0.7], is_ordinal=True),\n",
    "             }\n",
    "\n",
    "nn_fn2_best_params, nn_fn2_history = pyhopper_best_params(\n",
    "    model_fn=network_fn2,\n",
    "    param_grid=param_grid,\n",
    "    data=(X_train, y_train),\n",
    "    train_size=train_max_size,\n",
    "    DATA=DATA,\n",
    "    device=DEVICE,\n",
    "    time=\"60m\",\n",
    ")\n",
    "nn_fn2_best_params"
   ]
  },
  {
   "cell_type": "code",
   "execution_count": 30,
   "id": "326bbde0",
   "metadata": {},
   "outputs": [
    {
     "name": "stdout",
     "output_type": "stream",
     "text": [
      "iter 1 of 1 X_train shape torch.Size([606, 100])\n"
     ]
    }
   ],
   "source": [
    "nn2_results = test_model(\n",
    "    model_fn=network_fn2(**nn_fn2_best_params),\n",
    "    data=(X, y),\n",
    "    train_size=eval_train_max_size,\n",
    "    iters=10\n",
    ")"
   ]
  },
  {
   "cell_type": "code",
   "execution_count": 31,
   "id": "5412e9d8",
   "metadata": {},
   "outputs": [
    {
     "name": "stdout",
     "output_type": "stream",
     "text": [
      "metric balanced_accuracy\n",
      "dataset_name Hill-Valley-with-noise\n",
      "Hill-Valley-with-noise: 50.88 ~ nan (max: 50.88)\n"
     ]
    }
   ],
   "source": [
    "print_mean_std_max(nn2_results, DATA)"
   ]
  },
  {
   "cell_type": "markdown",
   "id": "8349efaf",
   "metadata": {},
   "source": [
    "### Dropout 3 layers"
   ]
  },
  {
   "cell_type": "code",
   "execution_count": 32,
   "id": "865638db",
   "metadata": {},
   "outputs": [],
   "source": [
    "set_seed(SEED)\n",
    "\n",
    "network_fn3=get_parametrized_dropout_net3(DEVICE=DEVICE, n_features=n_features, n_classes=n_classes)"
   ]
  },
  {
   "cell_type": "code",
   "execution_count": 33,
   "id": "5321d73a",
   "metadata": {},
   "outputs": [
    {
     "name": "stdout",
     "output_type": "stream",
     "text": [
      "THIS IS TEST RUN\n",
      "| DEVICE: cpu\n",
      "| model_fn network_fn3\n",
      "\n",
      "pyhopper X.shape: (606, 100) y.shape: (606,) train_size: 454\n"
     ]
    },
    {
     "data": {
      "application/vnd.jupyter.widget-view+json": {
       "model_id": "4d856c209eed49fa96b7db83b472fce0",
       "version_major": 2,
       "version_minor": 0
      },
      "text/plain": [
       "  0%|          | [00:00<?]"
      ]
     },
     "metadata": {},
     "output_type": "display_data"
    },
    {
     "name": "stdout",
     "output_type": "stream",
     "text": [
      "Search is scheduled for 01:00 (m:s)\n",
      "params {'epochs': 10, 'lr': 3e-05, 'batch_size': 32, 'drop1': 0.3, 'drop2': 0.3, 'drop3': 0.3, 'drop4': 0.3}\n",
      "iter 1 of 1 X_train shape torch.Size([454, 100])\n",
      "params {'epochs': 10, 'lr': 3e-05, 'batch_size': 320, 'drop1': 0.7, 'drop2': 0.7, 'drop3': 0.3, 'drop4': 0.7}\n",
      "iter 1 of 1 X_train shape torch.Size([454, 100])\n"
     ]
    },
    {
     "name": "stderr",
     "output_type": "stream",
     "text": [
      "/home/z1157095/anaconda3/envs/hyper-mnist/lib/python3.9/site-packages/sklearn/metrics/_classification.py:1344: UndefinedMetricWarning: Precision is ill-defined and being set to 0.0 due to no predicted samples. Use `zero_division` parameter to control this behavior.\n",
      "  _warn_prf(average, modifier, msg_start, len(result))\n"
     ]
    },
    {
     "name": "stdout",
     "output_type": "stream",
     "text": [
      "params {'epochs': 10, 'lr': 0.3, 'batch_size': 512, 'drop1': 0.5, 'drop2': 0.5, 'drop3': 0.5, 'drop4': 0.1}\n",
      "iter 1 of 1 X_train shape torch.Size([454, 100])\n",
      "params {'epochs': 10, 'lr': 0.3, 'batch_size': 128, 'drop1': 0.1, 'drop2': 0.1, 'drop3': 0.7, 'drop4': 0.3}\n",
      "iter 1 of 1 X_train shape torch.Size([454, 100])\n",
      "params {'epochs': 10, 'lr': 0.0003, 'batch_size': 64, 'drop1': 0.3, 'drop2': 0.3, 'drop3': 0.5, 'drop4': 0.1}\n",
      "iter 1 of 1 X_train shape torch.Size([454, 100])\n",
      "params {'epochs': 10, 'lr': 3e-05, 'batch_size': 128, 'drop1': 0.7, 'drop2': 0.7, 'drop3': 0.1, 'drop4': 0.1}\n",
      "iter 1 of 1 X_train shape torch.Size([454, 100])\n",
      "params {'epochs': 10, 'lr': 3e-05, 'batch_size': 320, 'drop1': 0.5, 'drop2': 0.7, 'drop3': 0.3, 'drop4': 0.7}\n",
      "iter 1 of 1 X_train shape torch.Size([454, 100])\n",
      "params {'epochs': 10, 'lr': 3e-05, 'batch_size': 512, 'drop1': 0.3, 'drop2': 0.5, 'drop3': 0.5, 'drop4': 0.3}\n",
      "iter 1 of 1 X_train shape torch.Size([454, 100])\n",
      "params {'epochs': 10, 'lr': 3e-05, 'batch_size': 512, 'drop1': 0.3, 'drop2': 0.3, 'drop3': 0.5, 'drop4': 0.7}\n",
      "iter 1 of 1 X_train shape torch.Size([454, 100])\n",
      "params {'epochs': 10, 'lr': 0.03, 'batch_size': 416, 'drop1': 0.3, 'drop2': 0.1, 'drop3': 0.7, 'drop4': 0.7}\n",
      "iter 1 of 1 X_train shape torch.Size([454, 100])\n"
     ]
    },
    {
     "name": "stderr",
     "output_type": "stream",
     "text": [
      "/home/z1157095/anaconda3/envs/hyper-mnist/lib/python3.9/site-packages/sklearn/metrics/_classification.py:1344: UndefinedMetricWarning: Precision is ill-defined and being set to 0.0 due to no predicted samples. Use `zero_division` parameter to control this behavior.\n",
      "  _warn_prf(average, modifier, msg_start, len(result))\n"
     ]
    },
    {
     "name": "stdout",
     "output_type": "stream",
     "text": [
      "params {'epochs': 10, 'lr': 0.003, 'batch_size': 256, 'drop1': 0.1, 'drop2': 0.5, 'drop3': 0.3, 'drop4': 0.5}\n",
      "iter 1 of 1 X_train shape torch.Size([454, 100])\n",
      "params {'epochs': 10, 'lr': 3e-05, 'batch_size': 288, 'drop1': 0.7, 'drop2': 0.3, 'drop3': 0.5, 'drop4': 0.5}\n",
      "iter 1 of 1 X_train shape torch.Size([454, 100])\n",
      "params {'epochs': 10, 'lr': 3e-05, 'batch_size': 320, 'drop1': 0.5, 'drop2': 0.3, 'drop3': 0.7, 'drop4': 0.7}\n",
      "iter 1 of 1 X_train shape torch.Size([454, 100])\n",
      "params {'epochs': 10, 'lr': 0.03, 'batch_size': 224, 'drop1': 0.1, 'drop2': 0.7, 'drop3': 0.3, 'drop4': 0.5}\n",
      "iter 1 of 1 X_train shape torch.Size([454, 100])\n"
     ]
    },
    {
     "name": "stderr",
     "output_type": "stream",
     "text": [
      "/home/z1157095/anaconda3/envs/hyper-mnist/lib/python3.9/site-packages/sklearn/metrics/_classification.py:1344: UndefinedMetricWarning: Precision is ill-defined and being set to 0.0 due to no predicted samples. Use `zero_division` parameter to control this behavior.\n",
      "  _warn_prf(average, modifier, msg_start, len(result))\n"
     ]
    },
    {
     "name": "stdout",
     "output_type": "stream",
     "text": [
      "params {'epochs': 10, 'lr': 0.03, 'batch_size': 224, 'drop1': 0.1, 'drop2': 0.7, 'drop3': 0.1, 'drop4': 0.5}\n",
      "iter 1 of 1 X_train shape torch.Size([454, 100])\n",
      "params {'epochs': 10, 'lr': 0.003, 'batch_size': 288, 'drop1': 0.3, 'drop2': 0.7, 'drop3': 0.5, 'drop4': 0.1}\n",
      "iter 1 of 1 X_train shape torch.Size([454, 100])\n"
     ]
    },
    {
     "name": "stderr",
     "output_type": "stream",
     "text": [
      "/home/z1157095/anaconda3/envs/hyper-mnist/lib/python3.9/site-packages/sklearn/metrics/_classification.py:1344: UndefinedMetricWarning: Precision is ill-defined and being set to 0.0 due to no predicted samples. Use `zero_division` parameter to control this behavior.\n",
      "  _warn_prf(average, modifier, msg_start, len(result))\n"
     ]
    },
    {
     "name": "stdout",
     "output_type": "stream",
     "text": [
      "params {'epochs': 10, 'lr': 0.03, 'batch_size': 384, 'drop1': 0.5, 'drop2': 0.5, 'drop3': 0.7, 'drop4': 0.5}\n",
      "iter 1 of 1 X_train shape torch.Size([454, 100])\n",
      "params {'epochs': 10, 'lr': 0.0003, 'batch_size': 352, 'drop1': 0.3, 'drop2': 0.5, 'drop3': 0.1, 'drop4': 0.7}\n",
      "iter 1 of 1 X_train shape torch.Size([454, 100])\n"
     ]
    },
    {
     "name": "stderr",
     "output_type": "stream",
     "text": [
      "/home/z1157095/anaconda3/envs/hyper-mnist/lib/python3.9/site-packages/sklearn/metrics/_classification.py:1344: UndefinedMetricWarning: Precision is ill-defined and being set to 0.0 due to no predicted samples. Use `zero_division` parameter to control this behavior.\n",
      "  _warn_prf(average, modifier, msg_start, len(result))\n"
     ]
    },
    {
     "name": "stdout",
     "output_type": "stream",
     "text": [
      "params {'epochs': 10, 'lr': 0.0003, 'batch_size': 320, 'drop1': 0.3, 'drop2': 0.1, 'drop3': 0.5, 'drop4': 0.5}\n",
      "iter 1 of 1 X_train shape torch.Size([454, 100])\n",
      "params {'epochs': 10, 'lr': 3e-05, 'batch_size': 32, 'drop1': 0.1, 'drop2': 0.7, 'drop3': 0.3, 'drop4': 0.7}\n",
      "iter 1 of 1 X_train shape torch.Size([454, 100])\n",
      "params {'epochs': 10, 'lr': 0.003, 'batch_size': 32, 'drop1': 0.1, 'drop2': 0.7, 'drop3': 0.1, 'drop4': 0.7}\n",
      "iter 1 of 1 X_train shape torch.Size([454, 100])\n",
      "params {'epochs': 10, 'lr': 0.3, 'batch_size': 64, 'drop1': 0.1, 'drop2': 0.7, 'drop3': 0.1, 'drop4': 0.7}\n",
      "iter 1 of 1 X_train shape torch.Size([454, 100])\n",
      "params {'epochs': 10, 'lr': 0.3, 'batch_size': 32, 'drop1': 0.1, 'drop2': 0.7, 'drop3': 0.3, 'drop4': 0.7}\n",
      "iter 1 of 1 X_train shape torch.Size([454, 100])\n"
     ]
    },
    {
     "name": "stderr",
     "output_type": "stream",
     "text": [
      "/home/z1157095/anaconda3/envs/hyper-mnist/lib/python3.9/site-packages/sklearn/metrics/_classification.py:1344: UndefinedMetricWarning: Precision is ill-defined and being set to 0.0 due to no predicted samples. Use `zero_division` parameter to control this behavior.\n",
      "  _warn_prf(average, modifier, msg_start, len(result))\n"
     ]
    },
    {
     "name": "stdout",
     "output_type": "stream",
     "text": [
      "params {'epochs': 10, 'lr': 0.003, 'batch_size': 32, 'drop1': 0.1, 'drop2': 0.7, 'drop3': 0.3, 'drop4': 0.7}\n",
      "iter 1 of 1 X_train shape torch.Size([454, 100])\n"
     ]
    },
    {
     "name": "stderr",
     "output_type": "stream",
     "text": [
      "/home/z1157095/anaconda3/envs/hyper-mnist/lib/python3.9/site-packages/sklearn/metrics/_classification.py:1344: UndefinedMetricWarning: Precision is ill-defined and being set to 0.0 due to no predicted samples. Use `zero_division` parameter to control this behavior.\n",
      "  _warn_prf(average, modifier, msg_start, len(result))\n"
     ]
    },
    {
     "name": "stdout",
     "output_type": "stream",
     "text": [
      "params {'epochs': 10, 'lr': 3e-05, 'batch_size': 32, 'drop1': 0.3, 'drop2': 0.3, 'drop3': 0.5, 'drop4': 0.3}\n",
      "iter 1 of 1 X_train shape torch.Size([454, 100])\n",
      "params {'epochs': 10, 'lr': 3e-05, 'batch_size': 96, 'drop1': 0.1, 'drop2': 0.7, 'drop3': 0.3, 'drop4': 0.7}\n",
      "iter 1 of 1 X_train shape torch.Size([454, 100])\n"
     ]
    },
    {
     "name": "stderr",
     "output_type": "stream",
     "text": [
      "/home/z1157095/anaconda3/envs/hyper-mnist/lib/python3.9/site-packages/sklearn/metrics/_classification.py:1344: UndefinedMetricWarning: Precision is ill-defined and being set to 0.0 due to no predicted samples. Use `zero_division` parameter to control this behavior.\n",
      "  _warn_prf(average, modifier, msg_start, len(result))\n"
     ]
    },
    {
     "name": "stdout",
     "output_type": "stream",
     "text": [
      "params {'epochs': 10, 'lr': 3e-05, 'batch_size': 32, 'drop1': 0.1, 'drop2': 0.3, 'drop3': 0.3, 'drop4': 0.5}\n",
      "iter 1 of 1 X_train shape torch.Size([454, 100])\n"
     ]
    },
    {
     "name": "stderr",
     "output_type": "stream",
     "text": [
      "/home/z1157095/anaconda3/envs/hyper-mnist/lib/python3.9/site-packages/sklearn/metrics/_classification.py:1344: UndefinedMetricWarning: Precision is ill-defined and being set to 0.0 due to no predicted samples. Use `zero_division` parameter to control this behavior.\n",
      "  _warn_prf(average, modifier, msg_start, len(result))\n"
     ]
    },
    {
     "name": "stdout",
     "output_type": "stream",
     "text": [
      "params {'epochs': 10, 'lr': 0.03, 'batch_size': 32, 'drop1': 0.1, 'drop2': 0.7, 'drop3': 0.1, 'drop4': 0.7}\n",
      "iter 1 of 1 X_train shape torch.Size([454, 100])\n",
      "==================== Summary ===================\n",
      "Mode              : Best f : Steps : Time       \n",
      "----------------  : ----   : ----  : ----       \n",
      "Initial solution  : 50     : 1     : 3.45 s     \n",
      "Random seeding    : 53.61  : 19    : 28 s       \n",
      "Local sampling    : 50.93  : 8     : 30 s       \n",
      "Duplicates        : -      : 4     : -          \n",
      "----------------  : ----   : ----  : ----       \n",
      "Total             : 53.61  : 32    : 01:01 (m:s)\n",
      "================================================\n",
      "Hill-Valley-with-noise_network_fn3_{'epochs': 10, 'lr': 3e-05, 'batch_size': 32, 'drop1': 0.1, 'drop2': 0.7, 'drop3': 0.3, 'drop4': 0.7}\n"
     ]
    },
    {
     "name": "stderr",
     "output_type": "stream",
     "text": [
      "/home/z1157095/anaconda3/envs/hyper-mnist/lib/python3.9/site-packages/sklearn/metrics/_classification.py:1344: UndefinedMetricWarning: Precision is ill-defined and being set to 0.0 due to no predicted samples. Use `zero_division` parameter to control this behavior.\n",
      "  _warn_prf(average, modifier, msg_start, len(result))\n"
     ]
    },
    {
     "data": {
      "text/plain": [
       "{'epochs': 10,\n",
       " 'lr': 3e-05,\n",
       " 'batch_size': 32,\n",
       " 'drop1': 0.1,\n",
       " 'drop2': 0.7,\n",
       " 'drop3': 0.3,\n",
       " 'drop4': 0.7}"
      ]
     },
     "execution_count": 33,
     "metadata": {},
     "output_type": "execute_result"
    }
   ],
   "source": [
    "param_grid = {\n",
    "                \"epochs\": CommonHyperparams.ht_epochs,\n",
    "                \"lr\": CommonHyperparams.lr,\n",
    "                \"batch_size\": CommonHyperparams.batch_size,\n",
    "                \"first_hidden_layer\": CommonHyperparams.ht_first_hidden,\n",
    "                \"drop1\": pyhopper.choice([0.1, 0.3, 0.5, 0.7], is_ordinal=True),\n",
    "                \"drop2\": pyhopper.choice([0.1, 0.3, 0.5, 0.7], is_ordinal=True),\n",
    "                \"drop3\": pyhopper.choice([0.1, 0.3, 0.5, 0.7], is_ordinal=True),\n",
    "                \"drop4\": pyhopper.choice([0.1, 0.3, 0.5, 0.7], is_ordinal=True),\n",
    "             }\n",
    "\n",
    "nn_fn3_best_params, nn_fn3_history = pyhopper_best_params(\n",
    "    model_fn=network_fn3,\n",
    "    param_grid=param_grid,\n",
    "    data=(X_train, y_train),\n",
    "    train_size=train_max_size,\n",
    "    DATA=DATA,\n",
    "    device=DEVICE,\n",
    "    time=\"60m\",\n",
    ")\n",
    "\n",
    "nn_fn3_best_params"
   ]
  },
  {
   "cell_type": "code",
   "execution_count": 34,
   "id": "aa8b864e",
   "metadata": {},
   "outputs": [
    {
     "name": "stdout",
     "output_type": "stream",
     "text": [
      "iter 1 of 1 X_train shape torch.Size([606, 100])\n"
     ]
    },
    {
     "name": "stderr",
     "output_type": "stream",
     "text": [
      "/home/z1157095/anaconda3/envs/hyper-mnist/lib/python3.9/site-packages/sklearn/metrics/_classification.py:1344: UndefinedMetricWarning: Precision is ill-defined and being set to 0.0 due to no predicted samples. Use `zero_division` parameter to control this behavior.\n",
      "  _warn_prf(average, modifier, msg_start, len(result))\n"
     ]
    }
   ],
   "source": [
    "nn3_results = test_model(\n",
    "    model_fn=network_fn3(**nn_fn3_best_params),\n",
    "    data=(X, y),\n",
    "    train_size=eval_train_max_size,\n",
    "    iters=10\n",
    ")"
   ]
  },
  {
   "cell_type": "code",
   "execution_count": 35,
   "id": "fdb86765-3874-4023-8e26-b40ccc6df903",
   "metadata": {
    "tags": []
   },
   "outputs": [
    {
     "name": "stdout",
     "output_type": "stream",
     "text": [
      "metric balanced_accuracy\n",
      "dataset_name Hill-Valley-with-noise\n",
      "Hill-Valley-with-noise: 50.00 ~ nan (max: 50.00)\n"
     ]
    }
   ],
   "source": [
    "print_mean_std_max(nn3_results, DATA)"
   ]
  },
  {
   "cell_type": "code",
   "execution_count": null,
   "id": "e933db2e",
   "metadata": {},
   "outputs": [],
   "source": []
  },
  {
   "cell_type": "code",
   "execution_count": null,
   "id": "ac32477a",
   "metadata": {},
   "outputs": [],
   "source": []
  },
  {
   "cell_type": "markdown",
   "id": "d82e3c9a-94c1-4984-a311-e0091c453333",
   "metadata": {},
   "source": [
    "### Hypernetwork"
   ]
  },
  {
   "cell_type": "code",
   "execution_count": 20,
   "id": "599dbc82",
   "metadata": {},
   "outputs": [],
   "source": [
    "set_seed(SEED)\n",
    "\n",
    "network_hp_fn=get_parametrized_hypertab_fn(DEVICE=DEVICE, n_features=n_features, n_classes=n_classes)"
   ]
  },
  {
   "cell_type": "markdown",
   "id": "b76e319a",
   "metadata": {},
   "source": [
    "#### Find hyperparams"
   ]
  },
  {
   "cell_type": "code",
   "execution_count": 21,
   "id": "5235e59c",
   "metadata": {},
   "outputs": [
    {
     "name": "stdout",
     "output_type": "stream",
     "text": [
      "THIS IS TEST RUN\n",
      "| DEVICE: cpu\n",
      "| model_fn network_hp_fn\n",
      "\n",
      "pyhopper X.shape: (606, 100) y.shape: (606,) train_size: 454\n"
     ]
    },
    {
     "data": {
      "application/vnd.jupyter.widget-view+json": {
       "model_id": "32f9bf0cff924445a3a0f1d58d2add4c",
       "version_major": 2,
       "version_minor": 0
      },
      "text/plain": [
       "  0%|          | [00:00<?]"
      ]
     },
     "metadata": {},
     "output_type": "display_data"
    },
    {
     "name": "stdout",
     "output_type": "stream",
     "text": [
      "Search is scheduled for 01:00 (m:s)\n",
      "params {'epochs': 10, 'masks_no': 50, 'mask_size': 2, 'target_size': 5, 'first_hidden_layer': 32, 'lr': 3e-05, 'batch_size': 32}\n",
      "iter 1 of 1 X_train shape torch.Size([454, 100])\n",
      "params {'epochs': 10, 'masks_no': 200, 'mask_size': 90, 'target_size': 5, 'first_hidden_layer': 32, 'lr': 0.03, 'batch_size': 384}\n",
      "iter 1 of 1 X_train shape torch.Size([454, 100])\n",
      "params {'epochs': 10, 'masks_no': 100, 'mask_size': 2, 'target_size': 20, 'first_hidden_layer': 256, 'lr': 0.0003, 'batch_size': 448}\n",
      "iter 1 of 1 X_train shape torch.Size([454, 100])\n",
      "params {'epochs': 10, 'masks_no': 200, 'mask_size': 2, 'target_size': 5, 'first_hidden_layer': 256, 'lr': 3e-05, 'batch_size': 192}\n",
      "iter 1 of 1 X_train shape torch.Size([454, 100])\n"
     ]
    },
    {
     "name": "stderr",
     "output_type": "stream",
     "text": [
      "/home/z1157095/anaconda3/envs/hyper-mnist/lib/python3.9/site-packages/sklearn/metrics/_classification.py:1344: UndefinedMetricWarning: Precision is ill-defined and being set to 0.0 due to no predicted samples. Use `zero_division` parameter to control this behavior.\n",
      "  _warn_prf(average, modifier, msg_start, len(result))\n"
     ]
    },
    {
     "name": "stdout",
     "output_type": "stream",
     "text": [
      "params {'epochs': 10, 'masks_no': 200, 'mask_size': 2, 'target_size': 5, 'first_hidden_layer': 512, 'lr': 0.03, 'batch_size': 448}\n",
      "iter 1 of 1 X_train shape torch.Size([454, 100])\n",
      "params {'epochs': 10, 'masks_no': 50, 'mask_size': 50, 'target_size': 10, 'first_hidden_layer': 256, 'lr': 3e-05, 'batch_size': 320}\n",
      "iter 1 of 1 X_train shape torch.Size([454, 100])\n",
      "params {'epochs': 10, 'masks_no': 200, 'mask_size': 2, 'target_size': 50, 'first_hidden_layer': 512, 'lr': 0.3, 'batch_size': 480}\n",
      "iter 1 of 1 X_train shape torch.Size([454, 100])\n"
     ]
    },
    {
     "name": "stderr",
     "output_type": "stream",
     "text": [
      "/home/z1157095/anaconda3/envs/hyper-mnist/lib/python3.9/site-packages/sklearn/metrics/_classification.py:1344: UndefinedMetricWarning: Precision is ill-defined and being set to 0.0 due to no predicted samples. Use `zero_division` parameter to control this behavior.\n",
      "  _warn_prf(average, modifier, msg_start, len(result))\n"
     ]
    },
    {
     "name": "stdout",
     "output_type": "stream",
     "text": [
      "params {'epochs': 10, 'masks_no': 100, 'mask_size': 50, 'target_size': 50, 'first_hidden_layer': 512, 'lr': 0.0003, 'batch_size': 224}\n",
      "iter 1 of 1 X_train shape torch.Size([454, 100])\n",
      "params {'epochs': 10, 'masks_no': 100, 'mask_size': 5, 'target_size': 50, 'first_hidden_layer': 32, 'lr': 0.0003, 'batch_size': 320}\n",
      "iter 1 of 1 X_train shape torch.Size([454, 100])\n",
      "params {'epochs': 10, 'masks_no': 300, 'mask_size': 20, 'target_size': 5, 'first_hidden_layer': 64, 'lr': 0.03, 'batch_size': 64}\n",
      "iter 1 of 1 X_train shape torch.Size([454, 100])\n",
      "params {'epochs': 10, 'masks_no': 150, 'mask_size': 90, 'target_size': 50, 'first_hidden_layer': 32, 'lr': 0.003, 'batch_size': 224}\n",
      "iter 1 of 1 X_train shape torch.Size([454, 100])\n",
      "params {'epochs': 10, 'masks_no': 300, 'mask_size': 5, 'target_size': 20, 'first_hidden_layer': 256, 'lr': 0.0003, 'batch_size': 96}\n",
      "iter 1 of 1 X_train shape torch.Size([454, 100])\n",
      "params {'epochs': 10, 'masks_no': 300, 'mask_size': 2, 'target_size': 20, 'first_hidden_layer': 64, 'lr': 0.03, 'batch_size': 192}\n",
      "iter 1 of 1 X_train shape torch.Size([454, 100])\n",
      "params {'epochs': 10, 'masks_no': 100, 'mask_size': 5, 'target_size': 10, 'first_hidden_layer': 512, 'lr': 0.03, 'batch_size': 352}\n",
      "iter 1 of 1 X_train shape torch.Size([454, 100])\n",
      "params {'epochs': 10, 'masks_no': 300, 'mask_size': 50, 'target_size': 50, 'first_hidden_layer': 64, 'lr': 3e-05, 'batch_size': 160}\n",
      "iter 1 of 1 X_train shape torch.Size([454, 100])\n",
      "params {'epochs': 10, 'masks_no': 300, 'mask_size': 50, 'target_size': 20, 'first_hidden_layer': 64, 'lr': 0.03, 'batch_size': 128}\n",
      "iter 1 of 1 X_train shape torch.Size([454, 100])\n"
     ]
    },
    {
     "name": "stderr",
     "output_type": "stream",
     "text": [
      "/home/z1157095/anaconda3/envs/hyper-mnist/lib/python3.9/site-packages/sklearn/metrics/_classification.py:1344: UndefinedMetricWarning: Precision is ill-defined and being set to 0.0 due to no predicted samples. Use `zero_division` parameter to control this behavior.\n",
      "  _warn_prf(average, modifier, msg_start, len(result))\n"
     ]
    },
    {
     "name": "stdout",
     "output_type": "stream",
     "text": [
      "params {'epochs': 10, 'masks_no': 150, 'mask_size': 20, 'target_size': 10, 'first_hidden_layer': 32, 'lr': 0.0003, 'batch_size': 64}\n",
      "iter 1 of 1 X_train shape torch.Size([454, 100])\n",
      "params {'epochs': 10, 'masks_no': 300, 'mask_size': 10, 'target_size': 5, 'first_hidden_layer': 64, 'lr': 0.3, 'batch_size': 32}\n",
      "iter 1 of 1 X_train shape torch.Size([454, 100])\n",
      "params {'epochs': 10, 'masks_no': 300, 'mask_size': 5, 'target_size': 5, 'first_hidden_layer': 64, 'lr': 0.03, 'batch_size': 64}\n",
      "iter 1 of 1 X_train shape torch.Size([454, 100])\n",
      "params {'epochs': 10, 'masks_no': 100, 'mask_size': 2, 'target_size': 5, 'first_hidden_layer': 64, 'lr': 0.03, 'batch_size': 64}\n",
      "iter 1 of 1 X_train shape torch.Size([454, 100])\n",
      "params {'epochs': 10, 'masks_no': 100, 'mask_size': 50, 'target_size': 5, 'first_hidden_layer': 64, 'lr': 0.03, 'batch_size': 96}\n",
      "iter 1 of 1 X_train shape torch.Size([454, 100])\n"
     ]
    },
    {
     "name": "stderr",
     "output_type": "stream",
     "text": [
      "/home/z1157095/anaconda3/envs/hyper-mnist/lib/python3.9/site-packages/sklearn/metrics/_classification.py:1344: UndefinedMetricWarning: Precision is ill-defined and being set to 0.0 due to no predicted samples. Use `zero_division` parameter to control this behavior.\n",
      "  _warn_prf(average, modifier, msg_start, len(result))\n"
     ]
    },
    {
     "name": "stdout",
     "output_type": "stream",
     "text": [
      "params {'epochs': 10, 'masks_no': 200, 'mask_size': 20, 'target_size': 20, 'first_hidden_layer': 64, 'lr': 0.03, 'batch_size': 64}\n",
      "iter 1 of 1 X_train shape torch.Size([454, 100])\n",
      "params {'epochs': 10, 'masks_no': 100, 'mask_size': 20, 'target_size': 5, 'first_hidden_layer': 64, 'lr': 3e-05, 'batch_size': 128}\n",
      "iter 1 of 1 X_train shape torch.Size([454, 100])\n",
      "params {'epochs': 10, 'masks_no': 100, 'mask_size': 20, 'target_size': 10, 'first_hidden_layer': 64, 'lr': 0.3, 'batch_size': 64}\n",
      "iter 1 of 1 X_train shape torch.Size([454, 100])\n",
      "params {'epochs': 10, 'masks_no': 300, 'mask_size': 90, 'target_size': 5, 'first_hidden_layer': 64, 'lr': 0.03, 'batch_size': 96}\n",
      "iter 1 of 1 X_train shape torch.Size([454, 100])\n",
      "params {'epochs': 10, 'masks_no': 100, 'mask_size': 2, 'target_size': 5, 'first_hidden_layer': 512, 'lr': 0.03, 'batch_size': 64}\n",
      "iter 1 of 1 X_train shape torch.Size([454, 100])\n",
      "params {'epochs': 10, 'masks_no': 200, 'mask_size': 90, 'target_size': 10, 'first_hidden_layer': 512, 'lr': 0.003, 'batch_size': 160}\n",
      "iter 1 of 1 X_train shape torch.Size([454, 100])\n",
      "params {'epochs': 10, 'masks_no': 200, 'mask_size': 90, 'target_size': 20, 'first_hidden_layer': 512, 'lr': 0.003, 'batch_size': 128}\n",
      "iter 1 of 1 X_train shape torch.Size([454, 100])\n",
      "params {'epochs': 10, 'masks_no': 200, 'mask_size': 90, 'target_size': 10, 'first_hidden_layer': 64, 'lr': 0.003, 'batch_size': 160}\n",
      "iter 1 of 1 X_train shape torch.Size([454, 100])\n",
      "params {'epochs': 10, 'masks_no': 200, 'mask_size': 2, 'target_size': 50, 'first_hidden_layer': 256, 'lr': 3e-05, 'batch_size': 128}\n",
      "iter 1 of 1 X_train shape torch.Size([454, 100])\n",
      "================= Summary =================\n",
      "Mode              : Best f : Steps : Time  \n",
      "----------------  : ----   : ----  : ----  \n",
      "Initial solution  : 50     : 1     : 1.44 s\n",
      "Random seeding    : 57.58  : 15    : 30 s  \n",
      "Local sampling    : 59.71  : 14    : 27 s  \n",
      "Duplicates        : -      : 2     : -     \n",
      "----------------  : ----   : ----  : ----  \n",
      "Total             : 59.71  : 32    : 58 s  \n",
      "===========================================\n",
      "Hill-Valley-with-noise_network_hp_fn_{'epochs': 10, 'masks_no': 200, 'mask_size': 90, 'target_size': 10, 'first_hidden_layer': 512, 'lr': 0.003, 'batch_size': 160}\n"
     ]
    },
    {
     "data": {
      "text/plain": [
       "{'epochs': 10,\n",
       " 'masks_no': 200,\n",
       " 'mask_size': 90,\n",
       " 'target_size': 10,\n",
       " 'first_hidden_layer': 512,\n",
       " 'lr': 0.003,\n",
       " 'batch_size': 160}"
      ]
     },
     "execution_count": 21,
     "metadata": {},
     "output_type": "execute_result"
    }
   ],
   "source": [
    "param_grid = {\n",
    "    \"epochs\": CommonHyperparams.ht_epochs,\n",
    "    \"masks_no\": CommonHyperparams.ht_mask_no,\n",
    "    \"mask_size\": CommonHyperparams.ht_mask_size,\n",
    "    \"target_size\": CommonHyperparams.ht_target_size,\n",
    "    \"first_hidden_layer\": CommonHyperparams.ht_first_hidden,\n",
    "    \"lr\": CommonHyperparams.lr,\n",
    "    \"batch_size\": CommonHyperparams.batch_size,\n",
    "}\n",
    "\n",
    "hp_best_params, hp_history = pyhopper_best_params(\n",
    "    model_fn=network_hp_fn, \n",
    "    param_grid=param_grid,\n",
    "    data=(X_train, y_train),\n",
    "    train_size=train_max_size,\n",
    "    DATA=DATA,\n",
    "    device=DEVICE,\n",
    "    time=\"60m\",\n",
    ")\n",
    "\n",
    "hp_best_params"
   ]
  },
  {
   "cell_type": "code",
   "execution_count": 22,
   "id": "b4b9203a",
   "metadata": {
    "jupyter": {
     "outputs_hidden": true
    },
    "tags": []
   },
   "outputs": [
    {
     "data": {
      "text/plain": [
       "{'epochs': 10,\n",
       " 'masks_no': 200,\n",
       " 'mask_size': 90,\n",
       " 'target_size': 10,\n",
       " 'first_hidden_layer': 512,\n",
       " 'lr': 0.003,\n",
       " 'batch_size': 160}"
      ]
     },
     "execution_count": 22,
     "metadata": {},
     "output_type": "execute_result"
    }
   ],
   "source": [
    "hp_best_params"
   ]
  },
  {
   "cell_type": "markdown",
   "id": "7fe02f07-52f6-4735-93f5-8e14bd22803f",
   "metadata": {},
   "source": [
    "#### Train using the best hyperparams"
   ]
  },
  {
   "cell_type": "code",
   "execution_count": 23,
   "id": "283d9aca-1f98-42e6-b229-e14e937cb431",
   "metadata": {
    "tags": []
   },
   "outputs": [
    {
     "name": "stdout",
     "output_type": "stream",
     "text": [
      "iter 1 of 1 X_train shape torch.Size([606, 100])\n"
     ]
    },
    {
     "name": "stderr",
     "output_type": "stream",
     "text": [
      "100%|██████████| 10/10 [00:02<00:00,  4.07it/s]\n"
     ]
    }
   ],
   "source": [
    "hyper_results = test_model(\n",
    "    model_fn=network_hp_fn(**hp_best_params, verbose=True),\n",
    "    data=(X, y),\n",
    "    train_size=eval_train_max_size,\n",
    "    iters=10\n",
    ")"
   ]
  },
  {
   "cell_type": "code",
   "execution_count": 24,
   "id": "b2129c6b-2c65-458e-b175-51aaf313fa42",
   "metadata": {},
   "outputs": [
    {
     "name": "stdout",
     "output_type": "stream",
     "text": [
      "metric balanced_accuracy\n",
      "dataset_name Hill-Valley-with-noise\n",
      "Hill-Valley-with-noise: 50.14 ~ nan (max: 50.14)\n"
     ]
    }
   ],
   "source": [
    "print_mean_std_max(hyper_results, DATA)"
   ]
  },
  {
   "cell_type": "markdown",
   "id": "239982a0",
   "metadata": {},
   "source": [
    " \n",
    " "
   ]
  },
  {
   "cell_type": "markdown",
   "id": "4303adc6",
   "metadata": {},
   "source": [
    " "
   ]
  },
  {
   "cell_type": "code",
   "execution_count": null,
   "id": "03f1b536",
   "metadata": {},
   "outputs": [],
   "source": []
  },
  {
   "cell_type": "markdown",
   "id": "344d4c26",
   "metadata": {},
   "source": [
    "## Random Subspace"
   ]
  },
  {
   "cell_type": "code",
   "execution_count": 22,
   "id": "86eaeb4d",
   "metadata": {},
   "outputs": [],
   "source": [
    "set_seed(SEED)\n",
    "\n",
    "get_bagged_fn=get_parametrized_bagged_fn()"
   ]
  },
  {
   "cell_type": "markdown",
   "id": "41b3bac1",
   "metadata": {},
   "source": [
    "#### Tune hyperparams"
   ]
  },
  {
   "cell_type": "code",
   "execution_count": 23,
   "id": "27f5c448",
   "metadata": {},
   "outputs": [],
   "source": [
    "param_grid = {\n",
    "    \"first_hidden_layer\": CommonHyperparams.ht_mask_size,\n",
    "    \"second_hidden_layer\": CommonHyperparams.ht_target_size,\n",
    "    \"batch_size\": CommonHyperparams.batch_size,\n",
    "    \"learning_rate_init\": CommonHyperparams.lr, \n",
    "    \"max_iter\": CommonHyperparams.ht_epochs\n",
    "}"
   ]
  },
  {
   "cell_type": "code",
   "execution_count": null,
   "id": "89f6a48c",
   "metadata": {},
   "outputs": [
    {
     "name": "stdout",
     "output_type": "stream",
     "text": [
      "| DEVICE: cpu\n",
      "| model_fn bagged_fn\n",
      "\n",
      "pyhopper X.shape: (606, 100) y.shape: (606,) train_size: 454\n"
     ]
    },
    {
     "data": {
      "application/vnd.jupyter.widget-view+json": {
       "model_id": "d376a0a19f66465996290de5716ed309",
       "version_major": 2,
       "version_minor": 0
      },
      "text/plain": [
       "  0%|          | [00:00<?]"
      ]
     },
     "metadata": {},
     "output_type": "display_data"
    },
    {
     "name": "stdout",
     "output_type": "stream",
     "text": [
      "Search is scheduled for 30:00 (m:s)\n",
      "params {'first_hidden_layer': 2, 'second_hidden_layer': 5, 'batch_size': 32, 'learning_rate_init': 3e-05, 'max_iter': 100}\n",
      "iter 1 of 5 X_train shape torch.Size([454, 100])\n"
     ]
    },
    {
     "name": "stderr",
     "output_type": "stream",
     "text": [
      "/home/z1157095/anaconda3/envs/hyper-mnist/lib/python3.9/site-packages/sklearn/neural_network/_multilayer_perceptron.py:686: ConvergenceWarning: Stochastic Optimizer: Maximum iterations (100) reached and the optimization hasn't converged yet.\n",
      "  warnings.warn(\n",
      "/home/z1157095/anaconda3/envs/hyper-mnist/lib/python3.9/site-packages/sklearn/neural_network/_multilayer_perceptron.py:686: ConvergenceWarning: Stochastic Optimizer: Maximum iterations (100) reached and the optimization hasn't converged yet.\n",
      "  warnings.warn(\n",
      "/home/z1157095/anaconda3/envs/hyper-mnist/lib/python3.9/site-packages/sklearn/neural_network/_multilayer_perceptron.py:686: ConvergenceWarning: Stochastic Optimizer: Maximum iterations (100) reached and the optimization hasn't converged yet.\n",
      "  warnings.warn(\n",
      "/home/z1157095/anaconda3/envs/hyper-mnist/lib/python3.9/site-packages/sklearn/neural_network/_multilayer_perceptron.py:686: ConvergenceWarning: Stochastic Optimizer: Maximum iterations (100) reached and the optimization hasn't converged yet.\n",
      "  warnings.warn(\n"
     ]
    },
    {
     "name": "stdout",
     "output_type": "stream",
     "text": [
      "iter 2 of 5 X_train shape torch.Size([454, 100])\n"
     ]
    },
    {
     "name": "stderr",
     "output_type": "stream",
     "text": [
      "/home/z1157095/anaconda3/envs/hyper-mnist/lib/python3.9/site-packages/sklearn/neural_network/_multilayer_perceptron.py:686: ConvergenceWarning: Stochastic Optimizer: Maximum iterations (100) reached and the optimization hasn't converged yet.\n",
      "  warnings.warn(\n",
      "/home/z1157095/anaconda3/envs/hyper-mnist/lib/python3.9/site-packages/sklearn/neural_network/_multilayer_perceptron.py:686: ConvergenceWarning: Stochastic Optimizer: Maximum iterations (100) reached and the optimization hasn't converged yet.\n",
      "  warnings.warn(\n",
      "/home/z1157095/anaconda3/envs/hyper-mnist/lib/python3.9/site-packages/sklearn/neural_network/_multilayer_perceptron.py:686: ConvergenceWarning: Stochastic Optimizer: Maximum iterations (100) reached and the optimization hasn't converged yet.\n",
      "  warnings.warn(\n",
      "/home/z1157095/anaconda3/envs/hyper-mnist/lib/python3.9/site-packages/sklearn/neural_network/_multilayer_perceptron.py:686: ConvergenceWarning: Stochastic Optimizer: Maximum iterations (100) reached and the optimization hasn't converged yet.\n",
      "  warnings.warn(\n",
      "/home/z1157095/anaconda3/envs/hyper-mnist/lib/python3.9/site-packages/sklearn/neural_network/_multilayer_perceptron.py:686: ConvergenceWarning: Stochastic Optimizer: Maximum iterations (100) reached and the optimization hasn't converged yet.\n",
      "  warnings.warn(\n",
      "/home/z1157095/anaconda3/envs/hyper-mnist/lib/python3.9/site-packages/sklearn/neural_network/_multilayer_perceptron.py:686: ConvergenceWarning: Stochastic Optimizer: Maximum iterations (100) reached and the optimization hasn't converged yet.\n",
      "  warnings.warn(\n"
     ]
    },
    {
     "name": "stdout",
     "output_type": "stream",
     "text": [
      "iter 3 of 5 X_train shape torch.Size([454, 100])\n"
     ]
    },
    {
     "name": "stderr",
     "output_type": "stream",
     "text": [
      "/home/z1157095/anaconda3/envs/hyper-mnist/lib/python3.9/site-packages/sklearn/neural_network/_multilayer_perceptron.py:686: ConvergenceWarning: Stochastic Optimizer: Maximum iterations (100) reached and the optimization hasn't converged yet.\n",
      "  warnings.warn(\n",
      "/home/z1157095/anaconda3/envs/hyper-mnist/lib/python3.9/site-packages/sklearn/neural_network/_multilayer_perceptron.py:686: ConvergenceWarning: Stochastic Optimizer: Maximum iterations (100) reached and the optimization hasn't converged yet.\n",
      "  warnings.warn(\n",
      "/home/z1157095/anaconda3/envs/hyper-mnist/lib/python3.9/site-packages/sklearn/neural_network/_multilayer_perceptron.py:686: ConvergenceWarning: Stochastic Optimizer: Maximum iterations (100) reached and the optimization hasn't converged yet.\n",
      "  warnings.warn(\n",
      "/home/z1157095/anaconda3/envs/hyper-mnist/lib/python3.9/site-packages/sklearn/neural_network/_multilayer_perceptron.py:686: ConvergenceWarning: Stochastic Optimizer: Maximum iterations (100) reached and the optimization hasn't converged yet.\n",
      "  warnings.warn(\n",
      "/home/z1157095/anaconda3/envs/hyper-mnist/lib/python3.9/site-packages/sklearn/neural_network/_multilayer_perceptron.py:686: ConvergenceWarning: Stochastic Optimizer: Maximum iterations (100) reached and the optimization hasn't converged yet.\n",
      "  warnings.warn(\n",
      "/home/z1157095/anaconda3/envs/hyper-mnist/lib/python3.9/site-packages/sklearn/neural_network/_multilayer_perceptron.py:686: ConvergenceWarning: Stochastic Optimizer: Maximum iterations (100) reached and the optimization hasn't converged yet.\n",
      "  warnings.warn(\n",
      "/home/z1157095/anaconda3/envs/hyper-mnist/lib/python3.9/site-packages/sklearn/neural_network/_multilayer_perceptron.py:686: ConvergenceWarning: Stochastic Optimizer: Maximum iterations (100) reached and the optimization hasn't converged yet.\n",
      "  warnings.warn(\n",
      "/home/z1157095/anaconda3/envs/hyper-mnist/lib/python3.9/site-packages/sklearn/metrics/_classification.py:1344: UndefinedMetricWarning: Precision is ill-defined and being set to 0.0 due to no predicted samples. Use `zero_division` parameter to control this behavior.\n",
      "  _warn_prf(average, modifier, msg_start, len(result))\n"
     ]
    },
    {
     "name": "stdout",
     "output_type": "stream",
     "text": [
      "iter 4 of 5 X_train shape torch.Size([454, 100])\n"
     ]
    },
    {
     "name": "stderr",
     "output_type": "stream",
     "text": [
      "/home/z1157095/anaconda3/envs/hyper-mnist/lib/python3.9/site-packages/sklearn/neural_network/_multilayer_perceptron.py:686: ConvergenceWarning: Stochastic Optimizer: Maximum iterations (100) reached and the optimization hasn't converged yet.\n",
      "  warnings.warn(\n",
      "/home/z1157095/anaconda3/envs/hyper-mnist/lib/python3.9/site-packages/sklearn/neural_network/_multilayer_perceptron.py:686: ConvergenceWarning: Stochastic Optimizer: Maximum iterations (100) reached and the optimization hasn't converged yet.\n",
      "  warnings.warn(\n",
      "/home/z1157095/anaconda3/envs/hyper-mnist/lib/python3.9/site-packages/sklearn/neural_network/_multilayer_perceptron.py:686: ConvergenceWarning: Stochastic Optimizer: Maximum iterations (100) reached and the optimization hasn't converged yet.\n",
      "  warnings.warn(\n",
      "/home/z1157095/anaconda3/envs/hyper-mnist/lib/python3.9/site-packages/sklearn/neural_network/_multilayer_perceptron.py:686: ConvergenceWarning: Stochastic Optimizer: Maximum iterations (100) reached and the optimization hasn't converged yet.\n",
      "  warnings.warn(\n",
      "/home/z1157095/anaconda3/envs/hyper-mnist/lib/python3.9/site-packages/sklearn/neural_network/_multilayer_perceptron.py:686: ConvergenceWarning: Stochastic Optimizer: Maximum iterations (100) reached and the optimization hasn't converged yet.\n",
      "  warnings.warn(\n",
      "/home/z1157095/anaconda3/envs/hyper-mnist/lib/python3.9/site-packages/sklearn/neural_network/_multilayer_perceptron.py:686: ConvergenceWarning: Stochastic Optimizer: Maximum iterations (100) reached and the optimization hasn't converged yet.\n",
      "  warnings.warn(\n",
      "/home/z1157095/anaconda3/envs/hyper-mnist/lib/python3.9/site-packages/sklearn/neural_network/_multilayer_perceptron.py:686: ConvergenceWarning: Stochastic Optimizer: Maximum iterations (100) reached and the optimization hasn't converged yet.\n",
      "  warnings.warn(\n",
      "/home/z1157095/anaconda3/envs/hyper-mnist/lib/python3.9/site-packages/sklearn/metrics/_classification.py:1344: UndefinedMetricWarning: Precision is ill-defined and being set to 0.0 due to no predicted samples. Use `zero_division` parameter to control this behavior.\n",
      "  _warn_prf(average, modifier, msg_start, len(result))\n"
     ]
    },
    {
     "name": "stdout",
     "output_type": "stream",
     "text": [
      "iter 5 of 5 X_train shape torch.Size([454, 100])\n"
     ]
    },
    {
     "name": "stderr",
     "output_type": "stream",
     "text": [
      "/home/z1157095/anaconda3/envs/hyper-mnist/lib/python3.9/site-packages/sklearn/neural_network/_multilayer_perceptron.py:686: ConvergenceWarning: Stochastic Optimizer: Maximum iterations (100) reached and the optimization hasn't converged yet.\n",
      "  warnings.warn(\n",
      "/home/z1157095/anaconda3/envs/hyper-mnist/lib/python3.9/site-packages/sklearn/neural_network/_multilayer_perceptron.py:686: ConvergenceWarning: Stochastic Optimizer: Maximum iterations (100) reached and the optimization hasn't converged yet.\n",
      "  warnings.warn(\n",
      "/home/z1157095/anaconda3/envs/hyper-mnist/lib/python3.9/site-packages/sklearn/neural_network/_multilayer_perceptron.py:686: ConvergenceWarning: Stochastic Optimizer: Maximum iterations (100) reached and the optimization hasn't converged yet.\n",
      "  warnings.warn(\n",
      "/home/z1157095/anaconda3/envs/hyper-mnist/lib/python3.9/site-packages/sklearn/neural_network/_multilayer_perceptron.py:686: ConvergenceWarning: Stochastic Optimizer: Maximum iterations (100) reached and the optimization hasn't converged yet.\n",
      "  warnings.warn(\n",
      "/home/z1157095/anaconda3/envs/hyper-mnist/lib/python3.9/site-packages/sklearn/neural_network/_multilayer_perceptron.py:686: ConvergenceWarning: Stochastic Optimizer: Maximum iterations (100) reached and the optimization hasn't converged yet.\n",
      "  warnings.warn(\n",
      "/home/z1157095/anaconda3/envs/hyper-mnist/lib/python3.9/site-packages/sklearn/neural_network/_multilayer_perceptron.py:686: ConvergenceWarning: Stochastic Optimizer: Maximum iterations (100) reached and the optimization hasn't converged yet.\n",
      "  warnings.warn(\n"
     ]
    },
    {
     "name": "stdout",
     "output_type": "stream",
     "text": [
      "params {'first_hidden_layer': 90, 'second_hidden_layer': 10, 'batch_size': 224, 'learning_rate_init': 0.3, 'max_iter': 200}\n",
      "iter 1 of 5 X_train shape torch.Size([454, 100])\n",
      "iter 2 of 5 X_train shape torch.Size([454, 100])\n"
     ]
    },
    {
     "name": "stderr",
     "output_type": "stream",
     "text": [
      "/home/z1157095/anaconda3/envs/hyper-mnist/lib/python3.9/site-packages/sklearn/metrics/_classification.py:1344: UndefinedMetricWarning: Precision is ill-defined and being set to 0.0 due to no predicted samples. Use `zero_division` parameter to control this behavior.\n",
      "  _warn_prf(average, modifier, msg_start, len(result))\n"
     ]
    },
    {
     "name": "stdout",
     "output_type": "stream",
     "text": [
      "iter 3 of 5 X_train shape torch.Size([454, 100])\n",
      "iter 4 of 5 X_train shape torch.Size([454, 100])\n",
      "iter 5 of 5 X_train shape torch.Size([454, 100])\n",
      "params {'first_hidden_layer': 2, 'second_hidden_layer': 50, 'batch_size': 288, 'learning_rate_init': 0.3, 'max_iter': 100}\n",
      "iter 1 of 5 X_train shape torch.Size([454, 100])\n",
      "iter 2 of 5 X_train shape torch.Size([454, 100])\n",
      "iter 3 of 5 X_train shape torch.Size([454, 100])\n",
      "iter 4 of 5 X_train shape torch.Size([454, 100])\n",
      "iter 5 of 5 X_train shape torch.Size([454, 100])\n",
      "params {'first_hidden_layer': 70, 'second_hidden_layer': 20, 'batch_size': 64, 'learning_rate_init': 0.003, 'max_iter': 200}\n",
      "iter 1 of 5 X_train shape torch.Size([454, 100])\n",
      "iter 2 of 5 X_train shape torch.Size([454, 100])\n",
      "iter 3 of 5 X_train shape torch.Size([454, 100])\n"
     ]
    }
   ],
   "source": [
    "bagged_best, bagged_history = pyhopper_best_params(\n",
    "    model_fn=get_bagged_fn, \n",
    "    param_grid=param_grid,\n",
    "    data=(X_train, y_train),\n",
    "    train_size=train_max_size,\n",
    "    DATA=DATA,\n",
    "    device='cpu',\n",
    "    time=TIME_BUDGET\n",
    ")"
   ]
  },
  {
   "cell_type": "markdown",
   "id": "61c20865",
   "metadata": {},
   "source": [
    "#### Use best hyperparams"
   ]
  },
  {
   "cell_type": "code",
   "execution_count": null,
   "id": "052222b4",
   "metadata": {
    "tags": []
   },
   "outputs": [],
   "source": [
    "bagging_results = test_model(\n",
    "    model_fn=get_bagged_fn(**bagged_best),\n",
    "    data=(X, y),\n",
    "    train_size=eval_train_max_size,\n",
    "    iters=10\n",
    ")"
   ]
  },
  {
   "cell_type": "code",
   "execution_count": null,
   "id": "1c232242",
   "metadata": {},
   "outputs": [],
   "source": [
    "print_mean_std_max(bagging_results, DATA)"
   ]
  },
  {
   "cell_type": "markdown",
   "id": "09badbc6",
   "metadata": {},
   "source": [
    "## Ensembles"
   ]
  },
  {
   "cell_type": "code",
   "execution_count": null,
   "id": "d300d8e4",
   "metadata": {},
   "outputs": [],
   "source": [
    "set_seed(SEED)\n",
    "\n",
    "get_ensembles=get_parametrized_ensemble_fn()"
   ]
  },
  {
   "cell_type": "markdown",
   "id": "506eb96f",
   "metadata": {},
   "source": [
    "#### Tune"
   ]
  },
  {
   "cell_type": "code",
   "execution_count": null,
   "id": "af281818",
   "metadata": {},
   "outputs": [],
   "source": [
    "param_grid = {\n",
    "    \"n_models\": CommonHyperparams.ht_mask_no,\n",
    "    \"first_hidden_layer\": CommonHyperparams.ht_mask_size,\n",
    "    \"second_hidden_layer\": CommonHyperparams.ht_target_size,\n",
    "    \"batch_size\": CommonHyperparams.batch_size,\n",
    "    \"learning_rate_init\": CommonHyperparams.lr, \n",
    "    \"max_iter\": CommonHyperparams.ht_epochs\n",
    "}"
   ]
  },
  {
   "cell_type": "code",
   "execution_count": null,
   "id": "b10e9b66",
   "metadata": {},
   "outputs": [],
   "source": [
    "ensemble_best, ensemble_history = pyhopper_best_params(\n",
    "    model_fn=get_ensembles, \n",
    "    param_grid=param_grid,\n",
    "    data=(X_train, y_train),\n",
    "    train_size=train_max_size,\n",
    "    DATA=DATA,\n",
    "    device='cpu',\n",
    "    time=TIME_BUDGET\n",
    ")"
   ]
  },
  {
   "cell_type": "markdown",
   "id": "c6963323",
   "metadata": {},
   "source": [
    "#### Use best"
   ]
  },
  {
   "cell_type": "code",
   "execution_count": null,
   "id": "4e36e011",
   "metadata": {},
   "outputs": [],
   "source": [
    "ensemble_results = test_model(\n",
    "    model_fn=get_ensembles(**ensemble_best),\n",
    "    data=(X, y),\n",
    "    train_size=eval_train_max_size,\n",
    "    iters=10\n",
    ")"
   ]
  },
  {
   "cell_type": "code",
   "execution_count": null,
   "id": "b10c8a5d",
   "metadata": {},
   "outputs": [],
   "source": [
    "print_mean_std_max(ensemble_results, DATA)"
   ]
  },
  {
   "cell_type": "markdown",
   "id": "4fc2b929",
   "metadata": {},
   "source": [
    " "
   ]
  },
  {
   "cell_type": "markdown",
   "id": "eb37af82",
   "metadata": {},
   "source": [
    "## XGBoost"
   ]
  },
  {
   "cell_type": "code",
   "execution_count": null,
   "id": "85e98b7f",
   "metadata": {},
   "outputs": [],
   "source": [
    "set_seed(SEED)\n",
    "\n",
    "get_xgboost = get_parametrized_xgboost_fn(seed=SEED)"
   ]
  },
  {
   "cell_type": "markdown",
   "id": "14b8f691",
   "metadata": {},
   "source": [
    "#### Hyperparam tuning"
   ]
  },
  {
   "cell_type": "code",
   "execution_count": null,
   "id": "dd39ae02",
   "metadata": {},
   "outputs": [],
   "source": [
    "param_grid = {\n",
    "                'n_estimators': pyhopper.int(50, 3000, multiple_of=50),\n",
    "                'max_depth': pyhopper.choice([2, 3, 5, 10, 15]),\n",
    "                'learning_rate': pyhopper.float(1e-5,1e-1, log=True),\n",
    "                'min_child_weight': pyhopper.choice([1, 2, 4, 8, 16, 32]),\n",
    "                'gamma': pyhopper.choice([0, 0.001, 0.1, 1]),\n",
    "             }\n",
    "\n",
    "xgbt_best1, xgbt_history1 = pyhopper_best_params(\n",
    "    model_fn=get_xgboost, \n",
    "    param_grid=param_grid,\n",
    "    data=(X_train, y_train),\n",
    "    train_size=train_max_size,\n",
    "    DATA=DATA,\n",
    "    device='cpu',\n",
    "    time=\"20m\"\n",
    ")"
   ]
  },
  {
   "cell_type": "code",
   "execution_count": null,
   "id": "c10609df",
   "metadata": {},
   "outputs": [],
   "source": []
  },
  {
   "cell_type": "code",
   "execution_count": null,
   "id": "fe757797",
   "metadata": {},
   "outputs": [],
   "source": [
    "param_grid = {\n",
    "                'subsample': pyhopper.choice([0.5, 0.6, 0.7, 0.8, 0.9, 1]),\n",
    "                'reg_lambda': pyhopper.float(1e-5, 10, init=0, log=True),\n",
    "                'reg_alpha': pyhopper.float(1e-5, 10, init=0, log=True),\n",
    "             }\n",
    "\n",
    "\n",
    "xgbt_best2, xgbt_history2 = pyhopper_best_params(\n",
    "    model_fn=get_xgboost,\n",
    "    param_grid=param_grid,\n",
    "    data=(X_train, y_train),\n",
    "    train_size=train_max_size,\n",
    "    DATA=DATA,\n",
    "    device='cpu',\n",
    "    time=\"10m\",\n",
    "    default_params=xgbt_best1\n",
    ")"
   ]
  },
  {
   "cell_type": "markdown",
   "id": "9c2995d4",
   "metadata": {},
   "source": [
    "#### Best Params"
   ]
  },
  {
   "cell_type": "code",
   "execution_count": null,
   "id": "6f011d83",
   "metadata": {},
   "outputs": [],
   "source": [
    "xgboost_best = {**xgbt_best1, **xgbt_best2}"
   ]
  },
  {
   "cell_type": "code",
   "execution_count": null,
   "id": "a11c94e0",
   "metadata": {},
   "outputs": [],
   "source": [
    "xgb_dframe = test_model(\n",
    "    model_fn=get_xgboost(**xgboost_best),\n",
    "    data=(X, y),\n",
    "    train_size=eval_train_max_size,\n",
    "    iters=10\n",
    ")"
   ]
  },
  {
   "cell_type": "code",
   "execution_count": null,
   "id": "eba7bffd",
   "metadata": {},
   "outputs": [],
   "source": [
    "print_mean_std_max(xgb_dframe, DATA)"
   ]
  },
  {
   "cell_type": "code",
   "execution_count": null,
   "id": "99bd15f8",
   "metadata": {},
   "outputs": [],
   "source": []
  },
  {
   "cell_type": "code",
   "execution_count": null,
   "id": "d34041b5",
   "metadata": {},
   "outputs": [],
   "source": []
  },
  {
   "cell_type": "markdown",
   "id": "dcdb5810-96c6-4010-af1e-a59b0b9f6b65",
   "metadata": {},
   "source": [
    "## Random forest"
   ]
  },
  {
   "cell_type": "code",
   "execution_count": null,
   "id": "6758728e-d6c8-4d23-9aa7-ba7998704411",
   "metadata": {},
   "outputs": [],
   "source": [
    "set_seed(SEED)\n",
    "\n",
    "get_rf = get_parametrized_rf_fn(seed=SEED)"
   ]
  },
  {
   "cell_type": "markdown",
   "id": "f73ccafa",
   "metadata": {},
   "source": [
    "#### Find hyperparams"
   ]
  },
  {
   "cell_type": "code",
   "execution_count": null,
   "id": "8dc080fd",
   "metadata": {},
   "outputs": [],
   "source": [
    "param_grid = {\n",
    "    'n_estimators': pyhopper.int(50, 3000, multiple_of=50),\n",
    "    'max_features': pyhopper.choice([None, 'sqrt', 0.2, 0.3, 0.5, 0.7]),\n",
    "    'criterion' : pyhopper.choice(['gini', 'entropy']),\n",
    "    'max_depth': pyhopper.choice([None, 2, 4, 8, 16]),\n",
    " }\n",
    "\n",
    "rf_best, rf_history = pyhopper_best_params(\n",
    "    model_fn=get_rf,\n",
    "    param_grid=param_grid,\n",
    "    data=(X_train, y_train),\n",
    "    train_size=train_max_size,\n",
    "    DATA=DATA,\n",
    "    device='cpu',\n",
    "    time=TIME_BUDGET,\n",
    ")\n",
    "\n",
    "rf_best"
   ]
  },
  {
   "cell_type": "markdown",
   "id": "dcf8eaa2",
   "metadata": {},
   "source": [
    "#### Use best params"
   ]
  },
  {
   "cell_type": "code",
   "execution_count": null,
   "id": "3325fd3b-8a85-46eb-896c-46bf8d768a89",
   "metadata": {},
   "outputs": [],
   "source": [
    "rf_dframe = test_model(\n",
    "    model_fn=get_rf(**rf_best), \n",
    "    data=(X, y),\n",
    "    train_size=eval_train_max_size,\n",
    "    iters=10\n",
    ")"
   ]
  },
  {
   "cell_type": "code",
   "execution_count": null,
   "id": "7a543f33",
   "metadata": {},
   "outputs": [],
   "source": [
    "print_mean_std_max(rf_dframe, DATA)"
   ]
  },
  {
   "cell_type": "markdown",
   "id": "d0793626",
   "metadata": {},
   "source": [
    "    \n",
    "    \n",
    "    \n",
    "    \n",
    "    \n",
    "    \n",
    "    "
   ]
  },
  {
   "cell_type": "code",
   "execution_count": null,
   "id": "00ffe2e0",
   "metadata": {},
   "outputs": [],
   "source": []
  },
  {
   "cell_type": "code",
   "execution_count": null,
   "id": "8d03a153",
   "metadata": {},
   "outputs": [],
   "source": []
  },
  {
   "cell_type": "markdown",
   "id": "aa987cfe",
   "metadata": {},
   "source": [
    "# Collect analytics"
   ]
  },
  {
   "cell_type": "code",
   "execution_count": 61,
   "id": "159dafb9",
   "metadata": {},
   "outputs": [
    {
     "data": {
      "text/html": [
       "<div>\n",
       "<style scoped>\n",
       "    .dataframe tbody tr th:only-of-type {\n",
       "        vertical-align: middle;\n",
       "    }\n",
       "\n",
       "    .dataframe tbody tr th {\n",
       "        vertical-align: top;\n",
       "    }\n",
       "\n",
       "    .dataframe thead th {\n",
       "        text-align: right;\n",
       "    }\n",
       "</style>\n",
       "<table border=\"1\" class=\"dataframe\">\n",
       "  <thead>\n",
       "    <tr style=\"text-align: right;\">\n",
       "      <th></th>\n",
       "      <th>mean</th>\n",
       "      <th>std</th>\n",
       "      <th>max</th>\n",
       "    </tr>\n",
       "    <tr>\n",
       "      <th>Class</th>\n",
       "      <th></th>\n",
       "      <th></th>\n",
       "      <th></th>\n",
       "    </tr>\n",
       "  </thead>\n",
       "  <tbody>\n",
       "    <tr>\n",
       "      <th>0</th>\n",
       "      <td>80.602007</td>\n",
       "      <td>NaN</td>\n",
       "      <td>80.602007</td>\n",
       "    </tr>\n",
       "    <tr>\n",
       "      <th>1</th>\n",
       "      <td>17.263844</td>\n",
       "      <td>NaN</td>\n",
       "      <td>17.263844</td>\n",
       "    </tr>\n",
       "    <tr>\n",
       "      <th>F1 score</th>\n",
       "      <td>25.358852</td>\n",
       "      <td>NaN</td>\n",
       "      <td>25.358852</td>\n",
       "    </tr>\n",
       "    <tr>\n",
       "      <th>Precision</th>\n",
       "      <td>47.747748</td>\n",
       "      <td>NaN</td>\n",
       "      <td>47.747748</td>\n",
       "    </tr>\n",
       "    <tr>\n",
       "      <th>Recall</th>\n",
       "      <td>17.263844</td>\n",
       "      <td>NaN</td>\n",
       "      <td>17.263844</td>\n",
       "    </tr>\n",
       "    <tr>\n",
       "      <th>Total</th>\n",
       "      <td>48.514851</td>\n",
       "      <td>NaN</td>\n",
       "      <td>48.514851</td>\n",
       "    </tr>\n",
       "    <tr>\n",
       "      <th>balanced_accuracy</th>\n",
       "      <td>48.932925</td>\n",
       "      <td>NaN</td>\n",
       "      <td>48.932925</td>\n",
       "    </tr>\n",
       "    <tr>\n",
       "      <th>roc_auc</th>\n",
       "      <td>50.384016</td>\n",
       "      <td>NaN</td>\n",
       "      <td>50.384016</td>\n",
       "    </tr>\n",
       "  </tbody>\n",
       "</table>\n",
       "</div>"
      ],
      "text/plain": [
       "                        mean  std        max\n",
       "Class                                       \n",
       "0                  80.602007  NaN  80.602007\n",
       "1                  17.263844  NaN  17.263844\n",
       "F1 score           25.358852  NaN  25.358852\n",
       "Precision          47.747748  NaN  47.747748\n",
       "Recall             17.263844  NaN  17.263844\n",
       "Total              48.514851  NaN  48.514851\n",
       "balanced_accuracy  48.932925  NaN  48.932925\n",
       "roc_auc            50.384016  NaN  50.384016"
      ]
     },
     "execution_count": 61,
     "metadata": {},
     "output_type": "execute_result"
    }
   ],
   "source": [
    "hyper_results.groupby(\"Class\")['Metric'].agg(['mean', 'std', 'max'])"
   ]
  },
  {
   "cell_type": "code",
   "execution_count": null,
   "id": "e9878479",
   "metadata": {},
   "outputs": [],
   "source": []
  },
  {
   "cell_type": "code",
   "execution_count": 62,
   "id": "6ffd69a1",
   "metadata": {},
   "outputs": [],
   "source": [
    "d = {}"
   ]
  },
  {
   "cell_type": "code",
   "execution_count": 63,
   "id": "6c53193f",
   "metadata": {},
   "outputs": [],
   "source": [
    "d['Random forest'] = rf_dframe.groupby(\"Class\")['Metric'].agg(['mean', 'std', 'max'])\n",
    "d['Hypernet'] = hyper_results.groupby(\"Class\")['Metric'].agg(['mean', 'std', 'max'])\n",
    "\n",
    "d['Dropout_1'] = nn1_results.groupby(\"Class\")['Metric'].agg(['mean', 'std', 'max'])\n",
    "d['Dropout_2'] = nn2_results.groupby(\"Class\")['Metric'].agg(['mean', 'std', 'max'])\n",
    "d['Dropout_3'] = nn3_results.groupby(\"Class\")['Metric'].agg(['mean', 'std', 'max'])\n",
    "d['Node'] = node_results.groupby(\"Class\")['Metric'].agg(['mean', 'std', 'max'])\n",
    "d['XGBoost'] = xgb_dframe.groupby(\"Class\")['Metric'].agg(['mean', 'std', 'max'])"
   ]
  },
  {
   "cell_type": "code",
   "execution_count": 64,
   "id": "7f523ee2",
   "metadata": {},
   "outputs": [
    {
     "data": {
      "text/html": [
       "<div>\n",
       "<style scoped>\n",
       "    .dataframe tbody tr th:only-of-type {\n",
       "        vertical-align: middle;\n",
       "    }\n",
       "\n",
       "    .dataframe tbody tr th {\n",
       "        vertical-align: top;\n",
       "    }\n",
       "\n",
       "    .dataframe thead th {\n",
       "        text-align: right;\n",
       "    }\n",
       "</style>\n",
       "<table border=\"1\" class=\"dataframe\">\n",
       "  <thead>\n",
       "    <tr style=\"text-align: right;\">\n",
       "      <th></th>\n",
       "      <th></th>\n",
       "      <th>mean</th>\n",
       "      <th>std</th>\n",
       "      <th>max</th>\n",
       "    </tr>\n",
       "    <tr>\n",
       "      <th></th>\n",
       "      <th>Class</th>\n",
       "      <th></th>\n",
       "      <th></th>\n",
       "      <th></th>\n",
       "    </tr>\n",
       "  </thead>\n",
       "  <tbody>\n",
       "    <tr>\n",
       "      <th rowspan=\"8\" valign=\"top\">Random forest</th>\n",
       "      <th>0</th>\n",
       "      <td>54.849498</td>\n",
       "      <td>NaN</td>\n",
       "      <td>54.849498</td>\n",
       "    </tr>\n",
       "    <tr>\n",
       "      <th>1</th>\n",
       "      <td>47.557003</td>\n",
       "      <td>NaN</td>\n",
       "      <td>47.557003</td>\n",
       "    </tr>\n",
       "    <tr>\n",
       "      <th>F1 score</th>\n",
       "      <td>49.659864</td>\n",
       "      <td>NaN</td>\n",
       "      <td>49.659864</td>\n",
       "    </tr>\n",
       "    <tr>\n",
       "      <th>Precision</th>\n",
       "      <td>51.957295</td>\n",
       "      <td>NaN</td>\n",
       "      <td>51.957295</td>\n",
       "    </tr>\n",
       "    <tr>\n",
       "      <th>Recall</th>\n",
       "      <td>47.557003</td>\n",
       "      <td>NaN</td>\n",
       "      <td>47.557003</td>\n",
       "    </tr>\n",
       "    <tr>\n",
       "      <th>Total</th>\n",
       "      <td>51.155116</td>\n",
       "      <td>NaN</td>\n",
       "      <td>51.155116</td>\n",
       "    </tr>\n",
       "    <tr>\n",
       "      <th>balanced_accuracy</th>\n",
       "      <td>51.203251</td>\n",
       "      <td>NaN</td>\n",
       "      <td>51.203251</td>\n",
       "    </tr>\n",
       "    <tr>\n",
       "      <th>roc_auc</th>\n",
       "      <td>52.000697</td>\n",
       "      <td>NaN</td>\n",
       "      <td>52.000697</td>\n",
       "    </tr>\n",
       "    <tr>\n",
       "      <th rowspan=\"8\" valign=\"top\">Hypernet</th>\n",
       "      <th>0</th>\n",
       "      <td>80.602007</td>\n",
       "      <td>NaN</td>\n",
       "      <td>80.602007</td>\n",
       "    </tr>\n",
       "    <tr>\n",
       "      <th>1</th>\n",
       "      <td>17.263844</td>\n",
       "      <td>NaN</td>\n",
       "      <td>17.263844</td>\n",
       "    </tr>\n",
       "    <tr>\n",
       "      <th>F1 score</th>\n",
       "      <td>25.358852</td>\n",
       "      <td>NaN</td>\n",
       "      <td>25.358852</td>\n",
       "    </tr>\n",
       "    <tr>\n",
       "      <th>Precision</th>\n",
       "      <td>47.747748</td>\n",
       "      <td>NaN</td>\n",
       "      <td>47.747748</td>\n",
       "    </tr>\n",
       "    <tr>\n",
       "      <th>Recall</th>\n",
       "      <td>17.263844</td>\n",
       "      <td>NaN</td>\n",
       "      <td>17.263844</td>\n",
       "    </tr>\n",
       "    <tr>\n",
       "      <th>Total</th>\n",
       "      <td>48.514851</td>\n",
       "      <td>NaN</td>\n",
       "      <td>48.514851</td>\n",
       "    </tr>\n",
       "    <tr>\n",
       "      <th>balanced_accuracy</th>\n",
       "      <td>48.932925</td>\n",
       "      <td>NaN</td>\n",
       "      <td>48.932925</td>\n",
       "    </tr>\n",
       "    <tr>\n",
       "      <th>roc_auc</th>\n",
       "      <td>50.384016</td>\n",
       "      <td>NaN</td>\n",
       "      <td>50.384016</td>\n",
       "    </tr>\n",
       "    <tr>\n",
       "      <th rowspan=\"8\" valign=\"top\">Dropout_1</th>\n",
       "      <th>0</th>\n",
       "      <td>74.247492</td>\n",
       "      <td>NaN</td>\n",
       "      <td>74.247492</td>\n",
       "    </tr>\n",
       "    <tr>\n",
       "      <th>1</th>\n",
       "      <td>26.058632</td>\n",
       "      <td>NaN</td>\n",
       "      <td>26.058632</td>\n",
       "    </tr>\n",
       "    <tr>\n",
       "      <th>F1 score</th>\n",
       "      <td>34.482759</td>\n",
       "      <td>NaN</td>\n",
       "      <td>34.482759</td>\n",
       "    </tr>\n",
       "    <tr>\n",
       "      <th>Precision</th>\n",
       "      <td>50.955414</td>\n",
       "      <td>NaN</td>\n",
       "      <td>50.955414</td>\n",
       "    </tr>\n",
       "    <tr>\n",
       "      <th>Recall</th>\n",
       "      <td>26.058632</td>\n",
       "      <td>NaN</td>\n",
       "      <td>26.058632</td>\n",
       "    </tr>\n",
       "    <tr>\n",
       "      <th>Total</th>\n",
       "      <td>49.834983</td>\n",
       "      <td>NaN</td>\n",
       "      <td>49.834983</td>\n",
       "    </tr>\n",
       "    <tr>\n",
       "      <th>balanced_accuracy</th>\n",
       "      <td>50.153062</td>\n",
       "      <td>NaN</td>\n",
       "      <td>50.153062</td>\n",
       "    </tr>\n",
       "    <tr>\n",
       "      <th>roc_auc</th>\n",
       "      <td>51.509374</td>\n",
       "      <td>NaN</td>\n",
       "      <td>51.509374</td>\n",
       "    </tr>\n",
       "    <tr>\n",
       "      <th rowspan=\"8\" valign=\"top\">Dropout_2</th>\n",
       "      <th>0</th>\n",
       "      <td>92.307692</td>\n",
       "      <td>NaN</td>\n",
       "      <td>92.307692</td>\n",
       "    </tr>\n",
       "    <tr>\n",
       "      <th>1</th>\n",
       "      <td>9.446254</td>\n",
       "      <td>NaN</td>\n",
       "      <td>9.446254</td>\n",
       "    </tr>\n",
       "    <tr>\n",
       "      <th>F1 score</th>\n",
       "      <td>16.155989</td>\n",
       "      <td>NaN</td>\n",
       "      <td>16.155989</td>\n",
       "    </tr>\n",
       "    <tr>\n",
       "      <th>Precision</th>\n",
       "      <td>55.769231</td>\n",
       "      <td>NaN</td>\n",
       "      <td>55.769231</td>\n",
       "    </tr>\n",
       "    <tr>\n",
       "      <th>Recall</th>\n",
       "      <td>9.446254</td>\n",
       "      <td>NaN</td>\n",
       "      <td>9.446254</td>\n",
       "    </tr>\n",
       "    <tr>\n",
       "      <th>Total</th>\n",
       "      <td>50.330033</td>\n",
       "      <td>NaN</td>\n",
       "      <td>50.330033</td>\n",
       "    </tr>\n",
       "    <tr>\n",
       "      <th>balanced_accuracy</th>\n",
       "      <td>50.876973</td>\n",
       "      <td>NaN</td>\n",
       "      <td>50.876973</td>\n",
       "    </tr>\n",
       "    <tr>\n",
       "      <th>roc_auc</th>\n",
       "      <td>52.371096</td>\n",
       "      <td>NaN</td>\n",
       "      <td>52.371096</td>\n",
       "    </tr>\n",
       "    <tr>\n",
       "      <th rowspan=\"8\" valign=\"top\">Dropout_3</th>\n",
       "      <th>0</th>\n",
       "      <td>100.000000</td>\n",
       "      <td>NaN</td>\n",
       "      <td>100.000000</td>\n",
       "    </tr>\n",
       "    <tr>\n",
       "      <th>1</th>\n",
       "      <td>0.000000</td>\n",
       "      <td>NaN</td>\n",
       "      <td>0.000000</td>\n",
       "    </tr>\n",
       "    <tr>\n",
       "      <th>F1 score</th>\n",
       "      <td>0.000000</td>\n",
       "      <td>NaN</td>\n",
       "      <td>0.000000</td>\n",
       "    </tr>\n",
       "    <tr>\n",
       "      <th>Precision</th>\n",
       "      <td>0.000000</td>\n",
       "      <td>NaN</td>\n",
       "      <td>0.000000</td>\n",
       "    </tr>\n",
       "    <tr>\n",
       "      <th>Recall</th>\n",
       "      <td>0.000000</td>\n",
       "      <td>NaN</td>\n",
       "      <td>0.000000</td>\n",
       "    </tr>\n",
       "    <tr>\n",
       "      <th>Total</th>\n",
       "      <td>49.339934</td>\n",
       "      <td>NaN</td>\n",
       "      <td>49.339934</td>\n",
       "    </tr>\n",
       "    <tr>\n",
       "      <th>balanced_accuracy</th>\n",
       "      <td>50.000000</td>\n",
       "      <td>NaN</td>\n",
       "      <td>50.000000</td>\n",
       "    </tr>\n",
       "    <tr>\n",
       "      <th>roc_auc</th>\n",
       "      <td>47.633806</td>\n",
       "      <td>NaN</td>\n",
       "      <td>47.633806</td>\n",
       "    </tr>\n",
       "    <tr>\n",
       "      <th rowspan=\"8\" valign=\"top\">Node</th>\n",
       "      <th>0</th>\n",
       "      <td>100.000000</td>\n",
       "      <td>NaN</td>\n",
       "      <td>100.000000</td>\n",
       "    </tr>\n",
       "    <tr>\n",
       "      <th>1</th>\n",
       "      <td>0.000000</td>\n",
       "      <td>NaN</td>\n",
       "      <td>0.000000</td>\n",
       "    </tr>\n",
       "    <tr>\n",
       "      <th>F1 score</th>\n",
       "      <td>0.000000</td>\n",
       "      <td>NaN</td>\n",
       "      <td>0.000000</td>\n",
       "    </tr>\n",
       "    <tr>\n",
       "      <th>Precision</th>\n",
       "      <td>0.000000</td>\n",
       "      <td>NaN</td>\n",
       "      <td>0.000000</td>\n",
       "    </tr>\n",
       "    <tr>\n",
       "      <th>Recall</th>\n",
       "      <td>0.000000</td>\n",
       "      <td>NaN</td>\n",
       "      <td>0.000000</td>\n",
       "    </tr>\n",
       "    <tr>\n",
       "      <th>Total</th>\n",
       "      <td>49.339934</td>\n",
       "      <td>NaN</td>\n",
       "      <td>49.339934</td>\n",
       "    </tr>\n",
       "    <tr>\n",
       "      <th>balanced_accuracy</th>\n",
       "      <td>50.000000</td>\n",
       "      <td>NaN</td>\n",
       "      <td>50.000000</td>\n",
       "    </tr>\n",
       "    <tr>\n",
       "      <th>roc_auc</th>\n",
       "      <td>47.853322</td>\n",
       "      <td>NaN</td>\n",
       "      <td>47.853322</td>\n",
       "    </tr>\n",
       "    <tr>\n",
       "      <th rowspan=\"8\" valign=\"top\">XGBoost</th>\n",
       "      <th>0</th>\n",
       "      <td>59.866221</td>\n",
       "      <td>NaN</td>\n",
       "      <td>59.866221</td>\n",
       "    </tr>\n",
       "    <tr>\n",
       "      <th>1</th>\n",
       "      <td>52.768730</td>\n",
       "      <td>NaN</td>\n",
       "      <td>52.768730</td>\n",
       "    </tr>\n",
       "    <tr>\n",
       "      <th>F1 score</th>\n",
       "      <td>55.008489</td>\n",
       "      <td>NaN</td>\n",
       "      <td>55.008489</td>\n",
       "    </tr>\n",
       "    <tr>\n",
       "      <th>Precision</th>\n",
       "      <td>57.446809</td>\n",
       "      <td>NaN</td>\n",
       "      <td>57.446809</td>\n",
       "    </tr>\n",
       "    <tr>\n",
       "      <th>Recall</th>\n",
       "      <td>52.768730</td>\n",
       "      <td>NaN</td>\n",
       "      <td>52.768730</td>\n",
       "    </tr>\n",
       "    <tr>\n",
       "      <th>Total</th>\n",
       "      <td>56.270627</td>\n",
       "      <td>NaN</td>\n",
       "      <td>56.270627</td>\n",
       "    </tr>\n",
       "    <tr>\n",
       "      <th>balanced_accuracy</th>\n",
       "      <td>56.317475</td>\n",
       "      <td>NaN</td>\n",
       "      <td>56.317475</td>\n",
       "    </tr>\n",
       "    <tr>\n",
       "      <th>roc_auc</th>\n",
       "      <td>61.165884</td>\n",
       "      <td>NaN</td>\n",
       "      <td>61.165884</td>\n",
       "    </tr>\n",
       "  </tbody>\n",
       "</table>\n",
       "</div>"
      ],
      "text/plain": [
       "                                       mean  std         max\n",
       "              Class                                         \n",
       "Random forest 0                   54.849498  NaN   54.849498\n",
       "              1                   47.557003  NaN   47.557003\n",
       "              F1 score            49.659864  NaN   49.659864\n",
       "              Precision           51.957295  NaN   51.957295\n",
       "              Recall              47.557003  NaN   47.557003\n",
       "              Total               51.155116  NaN   51.155116\n",
       "              balanced_accuracy   51.203251  NaN   51.203251\n",
       "              roc_auc             52.000697  NaN   52.000697\n",
       "Hypernet      0                   80.602007  NaN   80.602007\n",
       "              1                   17.263844  NaN   17.263844\n",
       "              F1 score            25.358852  NaN   25.358852\n",
       "              Precision           47.747748  NaN   47.747748\n",
       "              Recall              17.263844  NaN   17.263844\n",
       "              Total               48.514851  NaN   48.514851\n",
       "              balanced_accuracy   48.932925  NaN   48.932925\n",
       "              roc_auc             50.384016  NaN   50.384016\n",
       "Dropout_1     0                   74.247492  NaN   74.247492\n",
       "              1                   26.058632  NaN   26.058632\n",
       "              F1 score            34.482759  NaN   34.482759\n",
       "              Precision           50.955414  NaN   50.955414\n",
       "              Recall              26.058632  NaN   26.058632\n",
       "              Total               49.834983  NaN   49.834983\n",
       "              balanced_accuracy   50.153062  NaN   50.153062\n",
       "              roc_auc             51.509374  NaN   51.509374\n",
       "Dropout_2     0                   92.307692  NaN   92.307692\n",
       "              1                    9.446254  NaN    9.446254\n",
       "              F1 score            16.155989  NaN   16.155989\n",
       "              Precision           55.769231  NaN   55.769231\n",
       "              Recall               9.446254  NaN    9.446254\n",
       "              Total               50.330033  NaN   50.330033\n",
       "              balanced_accuracy   50.876973  NaN   50.876973\n",
       "              roc_auc             52.371096  NaN   52.371096\n",
       "Dropout_3     0                  100.000000  NaN  100.000000\n",
       "              1                    0.000000  NaN    0.000000\n",
       "              F1 score             0.000000  NaN    0.000000\n",
       "              Precision            0.000000  NaN    0.000000\n",
       "              Recall               0.000000  NaN    0.000000\n",
       "              Total               49.339934  NaN   49.339934\n",
       "              balanced_accuracy   50.000000  NaN   50.000000\n",
       "              roc_auc             47.633806  NaN   47.633806\n",
       "Node          0                  100.000000  NaN  100.000000\n",
       "              1                    0.000000  NaN    0.000000\n",
       "              F1 score             0.000000  NaN    0.000000\n",
       "              Precision            0.000000  NaN    0.000000\n",
       "              Recall               0.000000  NaN    0.000000\n",
       "              Total               49.339934  NaN   49.339934\n",
       "              balanced_accuracy   50.000000  NaN   50.000000\n",
       "              roc_auc             47.853322  NaN   47.853322\n",
       "XGBoost       0                   59.866221  NaN   59.866221\n",
       "              1                   52.768730  NaN   52.768730\n",
       "              F1 score            55.008489  NaN   55.008489\n",
       "              Precision           57.446809  NaN   57.446809\n",
       "              Recall              52.768730  NaN   52.768730\n",
       "              Total               56.270627  NaN   56.270627\n",
       "              balanced_accuracy   56.317475  NaN   56.317475\n",
       "              roc_auc             61.165884  NaN   61.165884"
      ]
     },
     "execution_count": 64,
     "metadata": {},
     "output_type": "execute_result"
    }
   ],
   "source": [
    "all_models_df=pd.concat(d, axis=0)\n",
    "all_models_df"
   ]
  },
  {
   "cell_type": "code",
   "execution_count": null,
   "id": "f076f2a3",
   "metadata": {},
   "outputs": [],
   "source": []
  },
  {
   "cell_type": "code",
   "execution_count": null,
   "id": "d466404a",
   "metadata": {},
   "outputs": [],
   "source": []
  },
  {
   "cell_type": "code",
   "execution_count": null,
   "id": "6aac13dc",
   "metadata": {},
   "outputs": [],
   "source": []
  },
  {
   "cell_type": "code",
   "execution_count": null,
   "id": "93f8b898",
   "metadata": {},
   "outputs": [],
   "source": []
  },
  {
   "cell_type": "code",
   "execution_count": 65,
   "id": "60823a71",
   "metadata": {},
   "outputs": [
    {
     "data": {
      "text/plain": [
       "'UXrV5UxyhTK3cyQNG6BDuc4bE'"
      ]
     },
     "execution_count": 65,
     "metadata": {},
     "output_type": "execute_result"
    }
   ],
   "source": [
    "os.environ['COMET_KEY']"
   ]
  },
  {
   "cell_type": "code",
   "execution_count": null,
   "id": "4a1f9da0",
   "metadata": {},
   "outputs": [],
   "source": []
  },
  {
   "cell_type": "code",
   "execution_count": 66,
   "id": "80d25d88",
   "metadata": {},
   "outputs": [],
   "source": [
    "all_models_df.to_csv(f\"{DATA}_metrics.csv\")"
   ]
  },
  {
   "cell_type": "code",
   "execution_count": 67,
   "id": "0654fd20",
   "metadata": {},
   "outputs": [
    {
     "name": "stderr",
     "output_type": "stream",
     "text": [
      "COMET WARNING: Comet has disabled auto-logging functionality as it has been imported after the following ML modules: sklearn, torch. Metrics and hyperparameters can still be logged using comet_ml.log_metrics() and comet_ml.log_parameters()\n",
      "COMET WARNING: As you are running in a Jupyter environment, you will need to call `experiment.end()` when finished to ensure all metrics and code are logged before exiting.\n",
      "COMET INFO: Experiment is live on comet.ml https://www.comet.com/abulenok/hypernet-uci-tune/149575beb906407eacd784e140ed9789\n",
      "\n"
     ]
    },
    {
     "data": {
      "text/plain": [
       "{'web': 'https://www.comet.com/api/asset/download?assetId=ebb6e7a67520408ab4c331339ea83125&experimentKey=149575beb906407eacd784e140ed9789',\n",
       " 'api': 'https://www.comet.com/api/rest/v2/experiment/asset/get-asset?assetId=ebb6e7a67520408ab4c331339ea83125&experimentKey=149575beb906407eacd784e140ed9789',\n",
       " 'assetId': 'ebb6e7a67520408ab4c331339ea83125'}"
      ]
     },
     "execution_count": 67,
     "metadata": {},
     "output_type": "execute_result"
    }
   ],
   "source": [
    "exp = Experiment(os.environ.get(\"COMET_KEY\"), 'hypernet-uci-tune')\n",
    "# exp.log_parameters({\"epochs\": epochs, \"mask_size\": mask_size, \"masks_no\": masks_no, \"data_size\": data_size})\n",
    "exp.add_tag(f\"hypernet-tune2{DATA}\")\n",
    "exp.log_table(f\"{DATA}_metrics.csv\", all_models_df)"
   ]
  },
  {
   "cell_type": "markdown",
   "id": "ce733782",
   "metadata": {},
   "source": [
    "### Replace some data in existing"
   ]
  },
  {
   "cell_type": "code",
   "execution_count": 68,
   "id": "a0a197e0",
   "metadata": {},
   "outputs": [],
   "source": [
    "# tmp_df = pd.concat(d, axis=0)\n",
    "# tmp_df = tmp_df.reset_index()\n",
    "# tmp_df = tmp_df.rename(columns={tmp_df.columns[0]: DATA})\n",
    "\n",
    "# tmp_df"
   ]
  },
  {
   "cell_type": "code",
   "execution_count": 69,
   "id": "8fdbf166",
   "metadata": {},
   "outputs": [],
   "source": [
    "# all_models_df = pd.read_csv(f\"{DATA}_metrics.csv\")\n",
    "# all_models_df = all_models_df.rename(columns={all_models_df.columns[0]: DATA})\n",
    "# all_models_df = all_models_df.drop(all_models_df[all_models_df.iloc[:, 0] == 'Hypernet'].index)\n",
    "# all_models_df = all_models_df.drop(all_models_df[all_models_df.iloc[:, 0] == 'HypernetPCA'].index)\n",
    "\n",
    "# all_models_df"
   ]
  },
  {
   "cell_type": "code",
   "execution_count": 70,
   "id": "d2cc3246",
   "metadata": {},
   "outputs": [],
   "source": [
    "# all_models_df = pd.concat([all_models_df, tmp_df])\n",
    "# all_models_df"
   ]
  },
  {
   "cell_type": "code",
   "execution_count": null,
   "id": "fff93119",
   "metadata": {},
   "outputs": [],
   "source": []
  },
  {
   "cell_type": "code",
   "execution_count": null,
   "id": "9a5ebc5e",
   "metadata": {},
   "outputs": [],
   "source": []
  },
  {
   "cell_type": "code",
   "execution_count": 71,
   "id": "e6b6d6f5",
   "metadata": {},
   "outputs": [
    {
     "data": {
      "text/plain": [
       "'Hill-Valley-with-noise_metrics.csv'"
      ]
     },
     "execution_count": 71,
     "metadata": {},
     "output_type": "execute_result"
    }
   ],
   "source": [
    "f\"{DATA}_metrics.csv\""
   ]
  },
  {
   "cell_type": "code",
   "execution_count": 72,
   "id": "9a061329",
   "metadata": {},
   "outputs": [],
   "source": [
    "all_models_df = pd.read_csv(f\"{DATA}_metrics.csv\")"
   ]
  },
  {
   "cell_type": "code",
   "execution_count": 73,
   "id": "e2fb29bc",
   "metadata": {},
   "outputs": [
    {
     "data": {
      "text/html": [
       "<div>\n",
       "<style scoped>\n",
       "    .dataframe tbody tr th:only-of-type {\n",
       "        vertical-align: middle;\n",
       "    }\n",
       "\n",
       "    .dataframe tbody tr th {\n",
       "        vertical-align: top;\n",
       "    }\n",
       "\n",
       "    .dataframe thead th {\n",
       "        text-align: right;\n",
       "    }\n",
       "</style>\n",
       "<table border=\"1\" class=\"dataframe\">\n",
       "  <thead>\n",
       "    <tr style=\"text-align: right;\">\n",
       "      <th></th>\n",
       "      <th>index</th>\n",
       "      <th>Unnamed: 0</th>\n",
       "      <th>Class</th>\n",
       "      <th>mean</th>\n",
       "      <th>std</th>\n",
       "      <th>max</th>\n",
       "    </tr>\n",
       "  </thead>\n",
       "  <tbody>\n",
       "    <tr>\n",
       "      <th>0</th>\n",
       "      <td>0</td>\n",
       "      <td>Random forest</td>\n",
       "      <td>0</td>\n",
       "      <td>54.849498</td>\n",
       "      <td>NaN</td>\n",
       "      <td>54.849498</td>\n",
       "    </tr>\n",
       "    <tr>\n",
       "      <th>1</th>\n",
       "      <td>1</td>\n",
       "      <td>Random forest</td>\n",
       "      <td>1</td>\n",
       "      <td>47.557003</td>\n",
       "      <td>NaN</td>\n",
       "      <td>47.557003</td>\n",
       "    </tr>\n",
       "    <tr>\n",
       "      <th>2</th>\n",
       "      <td>2</td>\n",
       "      <td>Random forest</td>\n",
       "      <td>F1 score</td>\n",
       "      <td>49.659864</td>\n",
       "      <td>NaN</td>\n",
       "      <td>49.659864</td>\n",
       "    </tr>\n",
       "    <tr>\n",
       "      <th>3</th>\n",
       "      <td>3</td>\n",
       "      <td>Random forest</td>\n",
       "      <td>Precision</td>\n",
       "      <td>51.957295</td>\n",
       "      <td>NaN</td>\n",
       "      <td>51.957295</td>\n",
       "    </tr>\n",
       "    <tr>\n",
       "      <th>4</th>\n",
       "      <td>4</td>\n",
       "      <td>Random forest</td>\n",
       "      <td>Recall</td>\n",
       "      <td>47.557003</td>\n",
       "      <td>NaN</td>\n",
       "      <td>47.557003</td>\n",
       "    </tr>\n",
       "    <tr>\n",
       "      <th>5</th>\n",
       "      <td>5</td>\n",
       "      <td>Random forest</td>\n",
       "      <td>Total</td>\n",
       "      <td>51.155116</td>\n",
       "      <td>NaN</td>\n",
       "      <td>51.155116</td>\n",
       "    </tr>\n",
       "    <tr>\n",
       "      <th>6</th>\n",
       "      <td>6</td>\n",
       "      <td>Random forest</td>\n",
       "      <td>balanced_accuracy</td>\n",
       "      <td>51.203251</td>\n",
       "      <td>NaN</td>\n",
       "      <td>51.203251</td>\n",
       "    </tr>\n",
       "    <tr>\n",
       "      <th>7</th>\n",
       "      <td>7</td>\n",
       "      <td>Random forest</td>\n",
       "      <td>roc_auc</td>\n",
       "      <td>52.000697</td>\n",
       "      <td>NaN</td>\n",
       "      <td>52.000697</td>\n",
       "    </tr>\n",
       "    <tr>\n",
       "      <th>8</th>\n",
       "      <td>8</td>\n",
       "      <td>Hypernet</td>\n",
       "      <td>0</td>\n",
       "      <td>80.602007</td>\n",
       "      <td>NaN</td>\n",
       "      <td>80.602007</td>\n",
       "    </tr>\n",
       "    <tr>\n",
       "      <th>9</th>\n",
       "      <td>9</td>\n",
       "      <td>Hypernet</td>\n",
       "      <td>1</td>\n",
       "      <td>17.263844</td>\n",
       "      <td>NaN</td>\n",
       "      <td>17.263844</td>\n",
       "    </tr>\n",
       "    <tr>\n",
       "      <th>10</th>\n",
       "      <td>10</td>\n",
       "      <td>Hypernet</td>\n",
       "      <td>F1 score</td>\n",
       "      <td>25.358852</td>\n",
       "      <td>NaN</td>\n",
       "      <td>25.358852</td>\n",
       "    </tr>\n",
       "    <tr>\n",
       "      <th>11</th>\n",
       "      <td>11</td>\n",
       "      <td>Hypernet</td>\n",
       "      <td>Precision</td>\n",
       "      <td>47.747748</td>\n",
       "      <td>NaN</td>\n",
       "      <td>47.747748</td>\n",
       "    </tr>\n",
       "    <tr>\n",
       "      <th>12</th>\n",
       "      <td>12</td>\n",
       "      <td>Hypernet</td>\n",
       "      <td>Recall</td>\n",
       "      <td>17.263844</td>\n",
       "      <td>NaN</td>\n",
       "      <td>17.263844</td>\n",
       "    </tr>\n",
       "    <tr>\n",
       "      <th>13</th>\n",
       "      <td>13</td>\n",
       "      <td>Hypernet</td>\n",
       "      <td>Total</td>\n",
       "      <td>48.514851</td>\n",
       "      <td>NaN</td>\n",
       "      <td>48.514851</td>\n",
       "    </tr>\n",
       "    <tr>\n",
       "      <th>14</th>\n",
       "      <td>14</td>\n",
       "      <td>Hypernet</td>\n",
       "      <td>balanced_accuracy</td>\n",
       "      <td>48.932925</td>\n",
       "      <td>NaN</td>\n",
       "      <td>48.932925</td>\n",
       "    </tr>\n",
       "    <tr>\n",
       "      <th>15</th>\n",
       "      <td>15</td>\n",
       "      <td>Hypernet</td>\n",
       "      <td>roc_auc</td>\n",
       "      <td>50.384016</td>\n",
       "      <td>NaN</td>\n",
       "      <td>50.384016</td>\n",
       "    </tr>\n",
       "    <tr>\n",
       "      <th>16</th>\n",
       "      <td>16</td>\n",
       "      <td>Dropout_1</td>\n",
       "      <td>0</td>\n",
       "      <td>74.247492</td>\n",
       "      <td>NaN</td>\n",
       "      <td>74.247492</td>\n",
       "    </tr>\n",
       "    <tr>\n",
       "      <th>17</th>\n",
       "      <td>17</td>\n",
       "      <td>Dropout_1</td>\n",
       "      <td>1</td>\n",
       "      <td>26.058632</td>\n",
       "      <td>NaN</td>\n",
       "      <td>26.058632</td>\n",
       "    </tr>\n",
       "    <tr>\n",
       "      <th>18</th>\n",
       "      <td>18</td>\n",
       "      <td>Dropout_1</td>\n",
       "      <td>F1 score</td>\n",
       "      <td>34.482759</td>\n",
       "      <td>NaN</td>\n",
       "      <td>34.482759</td>\n",
       "    </tr>\n",
       "    <tr>\n",
       "      <th>19</th>\n",
       "      <td>19</td>\n",
       "      <td>Dropout_1</td>\n",
       "      <td>Precision</td>\n",
       "      <td>50.955414</td>\n",
       "      <td>NaN</td>\n",
       "      <td>50.955414</td>\n",
       "    </tr>\n",
       "    <tr>\n",
       "      <th>20</th>\n",
       "      <td>20</td>\n",
       "      <td>Dropout_1</td>\n",
       "      <td>Recall</td>\n",
       "      <td>26.058632</td>\n",
       "      <td>NaN</td>\n",
       "      <td>26.058632</td>\n",
       "    </tr>\n",
       "    <tr>\n",
       "      <th>21</th>\n",
       "      <td>21</td>\n",
       "      <td>Dropout_1</td>\n",
       "      <td>Total</td>\n",
       "      <td>49.834983</td>\n",
       "      <td>NaN</td>\n",
       "      <td>49.834983</td>\n",
       "    </tr>\n",
       "    <tr>\n",
       "      <th>22</th>\n",
       "      <td>22</td>\n",
       "      <td>Dropout_1</td>\n",
       "      <td>balanced_accuracy</td>\n",
       "      <td>50.153062</td>\n",
       "      <td>NaN</td>\n",
       "      <td>50.153062</td>\n",
       "    </tr>\n",
       "    <tr>\n",
       "      <th>23</th>\n",
       "      <td>23</td>\n",
       "      <td>Dropout_1</td>\n",
       "      <td>roc_auc</td>\n",
       "      <td>51.509374</td>\n",
       "      <td>NaN</td>\n",
       "      <td>51.509374</td>\n",
       "    </tr>\n",
       "    <tr>\n",
       "      <th>24</th>\n",
       "      <td>24</td>\n",
       "      <td>Dropout_2</td>\n",
       "      <td>0</td>\n",
       "      <td>92.307692</td>\n",
       "      <td>NaN</td>\n",
       "      <td>92.307692</td>\n",
       "    </tr>\n",
       "    <tr>\n",
       "      <th>25</th>\n",
       "      <td>25</td>\n",
       "      <td>Dropout_2</td>\n",
       "      <td>1</td>\n",
       "      <td>9.446254</td>\n",
       "      <td>NaN</td>\n",
       "      <td>9.446254</td>\n",
       "    </tr>\n",
       "    <tr>\n",
       "      <th>26</th>\n",
       "      <td>26</td>\n",
       "      <td>Dropout_2</td>\n",
       "      <td>F1 score</td>\n",
       "      <td>16.155989</td>\n",
       "      <td>NaN</td>\n",
       "      <td>16.155989</td>\n",
       "    </tr>\n",
       "    <tr>\n",
       "      <th>27</th>\n",
       "      <td>27</td>\n",
       "      <td>Dropout_2</td>\n",
       "      <td>Precision</td>\n",
       "      <td>55.769231</td>\n",
       "      <td>NaN</td>\n",
       "      <td>55.769231</td>\n",
       "    </tr>\n",
       "    <tr>\n",
       "      <th>28</th>\n",
       "      <td>28</td>\n",
       "      <td>Dropout_2</td>\n",
       "      <td>Recall</td>\n",
       "      <td>9.446254</td>\n",
       "      <td>NaN</td>\n",
       "      <td>9.446254</td>\n",
       "    </tr>\n",
       "    <tr>\n",
       "      <th>29</th>\n",
       "      <td>29</td>\n",
       "      <td>Dropout_2</td>\n",
       "      <td>Total</td>\n",
       "      <td>50.330033</td>\n",
       "      <td>NaN</td>\n",
       "      <td>50.330033</td>\n",
       "    </tr>\n",
       "    <tr>\n",
       "      <th>30</th>\n",
       "      <td>30</td>\n",
       "      <td>Dropout_2</td>\n",
       "      <td>balanced_accuracy</td>\n",
       "      <td>50.876973</td>\n",
       "      <td>NaN</td>\n",
       "      <td>50.876973</td>\n",
       "    </tr>\n",
       "    <tr>\n",
       "      <th>31</th>\n",
       "      <td>31</td>\n",
       "      <td>Dropout_2</td>\n",
       "      <td>roc_auc</td>\n",
       "      <td>52.371096</td>\n",
       "      <td>NaN</td>\n",
       "      <td>52.371096</td>\n",
       "    </tr>\n",
       "    <tr>\n",
       "      <th>32</th>\n",
       "      <td>32</td>\n",
       "      <td>Dropout_3</td>\n",
       "      <td>0</td>\n",
       "      <td>100.000000</td>\n",
       "      <td>NaN</td>\n",
       "      <td>100.000000</td>\n",
       "    </tr>\n",
       "    <tr>\n",
       "      <th>33</th>\n",
       "      <td>33</td>\n",
       "      <td>Dropout_3</td>\n",
       "      <td>1</td>\n",
       "      <td>0.000000</td>\n",
       "      <td>NaN</td>\n",
       "      <td>0.000000</td>\n",
       "    </tr>\n",
       "    <tr>\n",
       "      <th>34</th>\n",
       "      <td>34</td>\n",
       "      <td>Dropout_3</td>\n",
       "      <td>F1 score</td>\n",
       "      <td>0.000000</td>\n",
       "      <td>NaN</td>\n",
       "      <td>0.000000</td>\n",
       "    </tr>\n",
       "    <tr>\n",
       "      <th>35</th>\n",
       "      <td>35</td>\n",
       "      <td>Dropout_3</td>\n",
       "      <td>Precision</td>\n",
       "      <td>0.000000</td>\n",
       "      <td>NaN</td>\n",
       "      <td>0.000000</td>\n",
       "    </tr>\n",
       "    <tr>\n",
       "      <th>36</th>\n",
       "      <td>36</td>\n",
       "      <td>Dropout_3</td>\n",
       "      <td>Recall</td>\n",
       "      <td>0.000000</td>\n",
       "      <td>NaN</td>\n",
       "      <td>0.000000</td>\n",
       "    </tr>\n",
       "    <tr>\n",
       "      <th>37</th>\n",
       "      <td>37</td>\n",
       "      <td>Dropout_3</td>\n",
       "      <td>Total</td>\n",
       "      <td>49.339934</td>\n",
       "      <td>NaN</td>\n",
       "      <td>49.339934</td>\n",
       "    </tr>\n",
       "    <tr>\n",
       "      <th>38</th>\n",
       "      <td>38</td>\n",
       "      <td>Dropout_3</td>\n",
       "      <td>balanced_accuracy</td>\n",
       "      <td>50.000000</td>\n",
       "      <td>NaN</td>\n",
       "      <td>50.000000</td>\n",
       "    </tr>\n",
       "    <tr>\n",
       "      <th>39</th>\n",
       "      <td>39</td>\n",
       "      <td>Dropout_3</td>\n",
       "      <td>roc_auc</td>\n",
       "      <td>47.633806</td>\n",
       "      <td>NaN</td>\n",
       "      <td>47.633806</td>\n",
       "    </tr>\n",
       "    <tr>\n",
       "      <th>40</th>\n",
       "      <td>40</td>\n",
       "      <td>Node</td>\n",
       "      <td>0</td>\n",
       "      <td>100.000000</td>\n",
       "      <td>NaN</td>\n",
       "      <td>100.000000</td>\n",
       "    </tr>\n",
       "    <tr>\n",
       "      <th>41</th>\n",
       "      <td>41</td>\n",
       "      <td>Node</td>\n",
       "      <td>1</td>\n",
       "      <td>0.000000</td>\n",
       "      <td>NaN</td>\n",
       "      <td>0.000000</td>\n",
       "    </tr>\n",
       "    <tr>\n",
       "      <th>42</th>\n",
       "      <td>42</td>\n",
       "      <td>Node</td>\n",
       "      <td>F1 score</td>\n",
       "      <td>0.000000</td>\n",
       "      <td>NaN</td>\n",
       "      <td>0.000000</td>\n",
       "    </tr>\n",
       "    <tr>\n",
       "      <th>43</th>\n",
       "      <td>43</td>\n",
       "      <td>Node</td>\n",
       "      <td>Precision</td>\n",
       "      <td>0.000000</td>\n",
       "      <td>NaN</td>\n",
       "      <td>0.000000</td>\n",
       "    </tr>\n",
       "    <tr>\n",
       "      <th>44</th>\n",
       "      <td>44</td>\n",
       "      <td>Node</td>\n",
       "      <td>Recall</td>\n",
       "      <td>0.000000</td>\n",
       "      <td>NaN</td>\n",
       "      <td>0.000000</td>\n",
       "    </tr>\n",
       "    <tr>\n",
       "      <th>45</th>\n",
       "      <td>45</td>\n",
       "      <td>Node</td>\n",
       "      <td>Total</td>\n",
       "      <td>49.339934</td>\n",
       "      <td>NaN</td>\n",
       "      <td>49.339934</td>\n",
       "    </tr>\n",
       "    <tr>\n",
       "      <th>46</th>\n",
       "      <td>46</td>\n",
       "      <td>Node</td>\n",
       "      <td>balanced_accuracy</td>\n",
       "      <td>50.000000</td>\n",
       "      <td>NaN</td>\n",
       "      <td>50.000000</td>\n",
       "    </tr>\n",
       "    <tr>\n",
       "      <th>47</th>\n",
       "      <td>47</td>\n",
       "      <td>Node</td>\n",
       "      <td>roc_auc</td>\n",
       "      <td>47.853322</td>\n",
       "      <td>NaN</td>\n",
       "      <td>47.853322</td>\n",
       "    </tr>\n",
       "    <tr>\n",
       "      <th>48</th>\n",
       "      <td>48</td>\n",
       "      <td>XGBoost</td>\n",
       "      <td>0</td>\n",
       "      <td>59.866221</td>\n",
       "      <td>NaN</td>\n",
       "      <td>59.866221</td>\n",
       "    </tr>\n",
       "    <tr>\n",
       "      <th>49</th>\n",
       "      <td>49</td>\n",
       "      <td>XGBoost</td>\n",
       "      <td>1</td>\n",
       "      <td>52.768730</td>\n",
       "      <td>NaN</td>\n",
       "      <td>52.768730</td>\n",
       "    </tr>\n",
       "    <tr>\n",
       "      <th>50</th>\n",
       "      <td>50</td>\n",
       "      <td>XGBoost</td>\n",
       "      <td>F1 score</td>\n",
       "      <td>55.008489</td>\n",
       "      <td>NaN</td>\n",
       "      <td>55.008489</td>\n",
       "    </tr>\n",
       "    <tr>\n",
       "      <th>51</th>\n",
       "      <td>51</td>\n",
       "      <td>XGBoost</td>\n",
       "      <td>Precision</td>\n",
       "      <td>57.446809</td>\n",
       "      <td>NaN</td>\n",
       "      <td>57.446809</td>\n",
       "    </tr>\n",
       "    <tr>\n",
       "      <th>52</th>\n",
       "      <td>52</td>\n",
       "      <td>XGBoost</td>\n",
       "      <td>Recall</td>\n",
       "      <td>52.768730</td>\n",
       "      <td>NaN</td>\n",
       "      <td>52.768730</td>\n",
       "    </tr>\n",
       "    <tr>\n",
       "      <th>53</th>\n",
       "      <td>53</td>\n",
       "      <td>XGBoost</td>\n",
       "      <td>Total</td>\n",
       "      <td>56.270627</td>\n",
       "      <td>NaN</td>\n",
       "      <td>56.270627</td>\n",
       "    </tr>\n",
       "    <tr>\n",
       "      <th>54</th>\n",
       "      <td>54</td>\n",
       "      <td>XGBoost</td>\n",
       "      <td>balanced_accuracy</td>\n",
       "      <td>56.317475</td>\n",
       "      <td>NaN</td>\n",
       "      <td>56.317475</td>\n",
       "    </tr>\n",
       "    <tr>\n",
       "      <th>55</th>\n",
       "      <td>55</td>\n",
       "      <td>XGBoost</td>\n",
       "      <td>roc_auc</td>\n",
       "      <td>61.165884</td>\n",
       "      <td>NaN</td>\n",
       "      <td>61.165884</td>\n",
       "    </tr>\n",
       "  </tbody>\n",
       "</table>\n",
       "</div>"
      ],
      "text/plain": [
       "    index     Unnamed: 0              Class        mean  std         max\n",
       "0       0  Random forest                  0   54.849498  NaN   54.849498\n",
       "1       1  Random forest                  1   47.557003  NaN   47.557003\n",
       "2       2  Random forest           F1 score   49.659864  NaN   49.659864\n",
       "3       3  Random forest          Precision   51.957295  NaN   51.957295\n",
       "4       4  Random forest             Recall   47.557003  NaN   47.557003\n",
       "5       5  Random forest              Total   51.155116  NaN   51.155116\n",
       "6       6  Random forest  balanced_accuracy   51.203251  NaN   51.203251\n",
       "7       7  Random forest            roc_auc   52.000697  NaN   52.000697\n",
       "8       8       Hypernet                  0   80.602007  NaN   80.602007\n",
       "9       9       Hypernet                  1   17.263844  NaN   17.263844\n",
       "10     10       Hypernet           F1 score   25.358852  NaN   25.358852\n",
       "11     11       Hypernet          Precision   47.747748  NaN   47.747748\n",
       "12     12       Hypernet             Recall   17.263844  NaN   17.263844\n",
       "13     13       Hypernet              Total   48.514851  NaN   48.514851\n",
       "14     14       Hypernet  balanced_accuracy   48.932925  NaN   48.932925\n",
       "15     15       Hypernet            roc_auc   50.384016  NaN   50.384016\n",
       "16     16      Dropout_1                  0   74.247492  NaN   74.247492\n",
       "17     17      Dropout_1                  1   26.058632  NaN   26.058632\n",
       "18     18      Dropout_1           F1 score   34.482759  NaN   34.482759\n",
       "19     19      Dropout_1          Precision   50.955414  NaN   50.955414\n",
       "20     20      Dropout_1             Recall   26.058632  NaN   26.058632\n",
       "21     21      Dropout_1              Total   49.834983  NaN   49.834983\n",
       "22     22      Dropout_1  balanced_accuracy   50.153062  NaN   50.153062\n",
       "23     23      Dropout_1            roc_auc   51.509374  NaN   51.509374\n",
       "24     24      Dropout_2                  0   92.307692  NaN   92.307692\n",
       "25     25      Dropout_2                  1    9.446254  NaN    9.446254\n",
       "26     26      Dropout_2           F1 score   16.155989  NaN   16.155989\n",
       "27     27      Dropout_2          Precision   55.769231  NaN   55.769231\n",
       "28     28      Dropout_2             Recall    9.446254  NaN    9.446254\n",
       "29     29      Dropout_2              Total   50.330033  NaN   50.330033\n",
       "30     30      Dropout_2  balanced_accuracy   50.876973  NaN   50.876973\n",
       "31     31      Dropout_2            roc_auc   52.371096  NaN   52.371096\n",
       "32     32      Dropout_3                  0  100.000000  NaN  100.000000\n",
       "33     33      Dropout_3                  1    0.000000  NaN    0.000000\n",
       "34     34      Dropout_3           F1 score    0.000000  NaN    0.000000\n",
       "35     35      Dropout_3          Precision    0.000000  NaN    0.000000\n",
       "36     36      Dropout_3             Recall    0.000000  NaN    0.000000\n",
       "37     37      Dropout_3              Total   49.339934  NaN   49.339934\n",
       "38     38      Dropout_3  balanced_accuracy   50.000000  NaN   50.000000\n",
       "39     39      Dropout_3            roc_auc   47.633806  NaN   47.633806\n",
       "40     40           Node                  0  100.000000  NaN  100.000000\n",
       "41     41           Node                  1    0.000000  NaN    0.000000\n",
       "42     42           Node           F1 score    0.000000  NaN    0.000000\n",
       "43     43           Node          Precision    0.000000  NaN    0.000000\n",
       "44     44           Node             Recall    0.000000  NaN    0.000000\n",
       "45     45           Node              Total   49.339934  NaN   49.339934\n",
       "46     46           Node  balanced_accuracy   50.000000  NaN   50.000000\n",
       "47     47           Node            roc_auc   47.853322  NaN   47.853322\n",
       "48     48        XGBoost                  0   59.866221  NaN   59.866221\n",
       "49     49        XGBoost                  1   52.768730  NaN   52.768730\n",
       "50     50        XGBoost           F1 score   55.008489  NaN   55.008489\n",
       "51     51        XGBoost          Precision   57.446809  NaN   57.446809\n",
       "52     52        XGBoost             Recall   52.768730  NaN   52.768730\n",
       "53     53        XGBoost              Total   56.270627  NaN   56.270627\n",
       "54     54        XGBoost  balanced_accuracy   56.317475  NaN   56.317475\n",
       "55     55        XGBoost            roc_auc   61.165884  NaN   61.165884"
      ]
     },
     "execution_count": 73,
     "metadata": {},
     "output_type": "execute_result"
    }
   ],
   "source": [
    "all_models_df.reset_index()"
   ]
  },
  {
   "cell_type": "code",
   "execution_count": null,
   "id": "63595ccd",
   "metadata": {},
   "outputs": [],
   "source": []
  },
  {
   "cell_type": "code",
   "execution_count": null,
   "id": "fcccc753",
   "metadata": {},
   "outputs": [],
   "source": []
  },
  {
   "cell_type": "code",
   "execution_count": 74,
   "id": "1bf024fd",
   "metadata": {},
   "outputs": [],
   "source": [
    "# all_models_df = all_models_df.drop(all_models_df.columns[0], axis=1)\n",
    "# all_models_df"
   ]
  },
  {
   "cell_type": "code",
   "execution_count": null,
   "id": "04ca3f98",
   "metadata": {},
   "outputs": [],
   "source": []
  },
  {
   "cell_type": "code",
   "execution_count": null,
   "id": "398b55e1",
   "metadata": {},
   "outputs": [],
   "source": []
  },
  {
   "cell_type": "code",
   "execution_count": null,
   "id": "c69f547c",
   "metadata": {},
   "outputs": [],
   "source": []
  },
  {
   "cell_type": "code",
   "execution_count": 75,
   "id": "7beddf19",
   "metadata": {},
   "outputs": [],
   "source": [
    "tmp = all_models_df"
   ]
  },
  {
   "cell_type": "code",
   "execution_count": 76,
   "id": "1996040f",
   "metadata": {},
   "outputs": [],
   "source": [
    "tmp = tmp.rename(columns={tmp.columns[0]: DATA})"
   ]
  },
  {
   "cell_type": "code",
   "execution_count": 77,
   "id": "b9ee21a9",
   "metadata": {},
   "outputs": [
    {
     "data": {
      "text/html": [
       "<div>\n",
       "<style scoped>\n",
       "    .dataframe tbody tr th:only-of-type {\n",
       "        vertical-align: middle;\n",
       "    }\n",
       "\n",
       "    .dataframe tbody tr th {\n",
       "        vertical-align: top;\n",
       "    }\n",
       "\n",
       "    .dataframe thead th {\n",
       "        text-align: right;\n",
       "    }\n",
       "</style>\n",
       "<table border=\"1\" class=\"dataframe\">\n",
       "  <thead>\n",
       "    <tr style=\"text-align: right;\">\n",
       "      <th></th>\n",
       "      <th>Hill-Valley-with-noise</th>\n",
       "      <th>Class</th>\n",
       "      <th>mean</th>\n",
       "      <th>std</th>\n",
       "      <th>max</th>\n",
       "    </tr>\n",
       "  </thead>\n",
       "  <tbody>\n",
       "    <tr>\n",
       "      <th>6</th>\n",
       "      <td>Random forest</td>\n",
       "      <td>balanced_accuracy</td>\n",
       "      <td>51.203251</td>\n",
       "      <td>NaN</td>\n",
       "      <td>51.203251</td>\n",
       "    </tr>\n",
       "    <tr>\n",
       "      <th>14</th>\n",
       "      <td>Hypernet</td>\n",
       "      <td>balanced_accuracy</td>\n",
       "      <td>48.932925</td>\n",
       "      <td>NaN</td>\n",
       "      <td>48.932925</td>\n",
       "    </tr>\n",
       "    <tr>\n",
       "      <th>22</th>\n",
       "      <td>Dropout_1</td>\n",
       "      <td>balanced_accuracy</td>\n",
       "      <td>50.153062</td>\n",
       "      <td>NaN</td>\n",
       "      <td>50.153062</td>\n",
       "    </tr>\n",
       "    <tr>\n",
       "      <th>30</th>\n",
       "      <td>Dropout_2</td>\n",
       "      <td>balanced_accuracy</td>\n",
       "      <td>50.876973</td>\n",
       "      <td>NaN</td>\n",
       "      <td>50.876973</td>\n",
       "    </tr>\n",
       "    <tr>\n",
       "      <th>38</th>\n",
       "      <td>Dropout_3</td>\n",
       "      <td>balanced_accuracy</td>\n",
       "      <td>50.000000</td>\n",
       "      <td>NaN</td>\n",
       "      <td>50.000000</td>\n",
       "    </tr>\n",
       "    <tr>\n",
       "      <th>46</th>\n",
       "      <td>Node</td>\n",
       "      <td>balanced_accuracy</td>\n",
       "      <td>50.000000</td>\n",
       "      <td>NaN</td>\n",
       "      <td>50.000000</td>\n",
       "    </tr>\n",
       "    <tr>\n",
       "      <th>54</th>\n",
       "      <td>XGBoost</td>\n",
       "      <td>balanced_accuracy</td>\n",
       "      <td>56.317475</td>\n",
       "      <td>NaN</td>\n",
       "      <td>56.317475</td>\n",
       "    </tr>\n",
       "  </tbody>\n",
       "</table>\n",
       "</div>"
      ],
      "text/plain": [
       "   Hill-Valley-with-noise              Class       mean  std        max\n",
       "6           Random forest  balanced_accuracy  51.203251  NaN  51.203251\n",
       "14               Hypernet  balanced_accuracy  48.932925  NaN  48.932925\n",
       "22              Dropout_1  balanced_accuracy  50.153062  NaN  50.153062\n",
       "30              Dropout_2  balanced_accuracy  50.876973  NaN  50.876973\n",
       "38              Dropout_3  balanced_accuracy  50.000000  NaN  50.000000\n",
       "46                   Node  balanced_accuracy  50.000000  NaN  50.000000\n",
       "54                XGBoost  balanced_accuracy  56.317475  NaN  56.317475"
      ]
     },
     "execution_count": 77,
     "metadata": {},
     "output_type": "execute_result"
    }
   ],
   "source": [
    "tmp[tmp['Class'] == \"balanced_accuracy\"]"
   ]
  },
  {
   "cell_type": "code",
   "execution_count": null,
   "id": "d49403f0",
   "metadata": {},
   "outputs": [],
   "source": []
  }
 ],
 "metadata": {
  "kernelspec": {
   "display_name": "Python 3 (ipykernel)",
   "language": "python",
   "name": "python3"
  },
  "language_info": {
   "codemirror_mode": {
    "name": "ipython",
    "version": 3
   },
   "file_extension": ".py",
   "mimetype": "text/x-python",
   "name": "python",
   "nbconvert_exporter": "python",
   "pygments_lexer": "ipython3",
   "version": "3.9.12"
  }
 },
 "nbformat": 4,
 "nbformat_minor": 5
}
