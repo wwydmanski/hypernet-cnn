{
 "cells": [
  {
   "cell_type": "code",
   "execution_count": 1,
   "id": "2fdadf44-450a-4006-ac5a-bed9840409f6",
   "metadata": {
    "execution": {
     "iopub.execute_input": "2023-04-21T09:40:39.695850Z",
     "iopub.status.busy": "2023-04-21T09:40:39.695648Z",
     "iopub.status.idle": "2023-04-21T09:40:44.858839Z",
     "shell.execute_reply": "2023-04-21T09:40:44.858296Z"
    },
    "papermill": {
     "duration": 5.342328,
     "end_time": "2023-04-21T09:40:44.862051",
     "exception": false,
     "start_time": "2023-04-21T09:40:39.519723",
     "status": "completed"
    },
    "tags": []
   },
   "outputs": [
    {
     "name": "stderr",
     "output_type": "stream",
     "text": [
      "/tmp/ipykernel_346830/1354045193.py:21: MatplotlibDeprecationWarning: The seaborn styles shipped by Matplotlib are deprecated since 3.6, as they no longer correspond to the styles shipped by seaborn. However, they will remain available as 'seaborn-v0_8-<style>'. Alternatively, directly use the seaborn API instead.\n",
      "  plt.style.use(\"seaborn\")\n"
     ]
    }
   ],
   "source": [
    "import torch\n",
    "import pandas as pd\n",
    "import numpy as np\n",
    "from sklearn.metrics import roc_auc_score, f1_score, precision_score, recall_score, balanced_accuracy_score\n",
    "from sklearn.model_selection import GridSearchCV, RandomizedSearchCV\n",
    "import imblearn\n",
    "from sklearn.preprocessing import LabelEncoder, StandardScaler\n",
    "from sklearn.model_selection import train_test_split\n",
    "from collections import defaultdict\n",
    "from tqdm import trange\n",
    "import seaborn as sns\n",
    "import os\n",
    "import matplotlib.pyplot as plt\n",
    "from io import BytesIO\n",
    "import base64\n",
    "import sklearn\n",
    "import time\n",
    "import datetime\n",
    "import random\n",
    "\n",
    "plt.style.use(\"seaborn\")\n",
    "torch.set_default_dtype(torch.float32)"
   ]
  },
  {
   "cell_type": "code",
   "execution_count": 2,
   "id": "6c014884",
   "metadata": {
    "execution": {
     "iopub.execute_input": "2023-04-21T09:40:44.948054Z",
     "iopub.status.busy": "2023-04-21T09:40:44.945279Z",
     "iopub.status.idle": "2023-04-21T09:40:44.962348Z",
     "shell.execute_reply": "2023-04-21T09:40:44.961784Z"
    },
    "papermill": {
     "duration": 0.058959,
     "end_time": "2023-04-21T09:40:44.964067",
     "exception": false,
     "start_time": "2023-04-21T09:40:44.905108",
     "status": "completed"
    },
    "tags": []
   },
   "outputs": [
    {
     "name": "stderr",
     "output_type": "stream",
     "text": [
      "/home/MCB/wwydmanski/miniconda3/envs/torch/lib/python3.9/site-packages/tqdm/auto.py:21: TqdmWarning: IProgress not found. Please update jupyter and ipywidgets. See https://ipywidgets.readthedocs.io/en/stable/user_install.html\n",
      "  from .autonotebook import tqdm as notebook_tqdm\n"
     ]
    }
   ],
   "source": [
    "import pyhopper"
   ]
  },
  {
   "cell_type": "code",
   "execution_count": 3,
   "id": "111d13bb",
   "metadata": {
    "execution": {
     "iopub.execute_input": "2023-04-21T09:40:45.118215Z",
     "iopub.status.busy": "2023-04-21T09:40:45.117696Z",
     "iopub.status.idle": "2023-04-21T09:40:45.155958Z",
     "shell.execute_reply": "2023-04-21T09:40:45.155188Z"
    },
    "papermill": {
     "duration": 0.169783,
     "end_time": "2023-04-21T09:40:45.158123",
     "exception": false,
     "start_time": "2023-04-21T09:40:44.988340",
     "status": "completed"
    },
    "tags": []
   },
   "outputs": [
    {
     "data": {
      "text/plain": [
       "1"
      ]
     },
     "execution_count": 3,
     "metadata": {},
     "output_type": "execute_result"
    }
   ],
   "source": [
    "from loguru import logger\n",
    "\n",
    "logger.add(\"log.txt\", format='{time:YYYY-MM-DD HH:mm:ss.SSS} | {message}')"
   ]
  },
  {
   "cell_type": "code",
   "execution_count": 4,
   "id": "24fe4075",
   "metadata": {
    "execution": {
     "iopub.execute_input": "2023-04-21T09:40:45.208886Z",
     "iopub.status.busy": "2023-04-21T09:40:45.208482Z",
     "iopub.status.idle": "2023-04-21T09:40:48.852970Z",
     "shell.execute_reply": "2023-04-21T09:40:48.852230Z"
    },
    "papermill": {
     "duration": 3.669727,
     "end_time": "2023-04-21T09:40:48.854875",
     "exception": false,
     "start_time": "2023-04-21T09:40:45.185148",
     "status": "completed"
    },
    "tags": []
   },
   "outputs": [],
   "source": [
    "from hypertab_benchmark_utils import *"
   ]
  },
  {
   "cell_type": "code",
   "execution_count": null,
   "id": "48c7c818",
   "metadata": {
    "papermill": {
     "duration": 0.021564,
     "end_time": "2023-04-21T09:40:48.924019",
     "exception": false,
     "start_time": "2023-04-21T09:40:48.902455",
     "status": "completed"
    },
    "tags": []
   },
   "outputs": [],
   "source": []
  },
  {
   "cell_type": "markdown",
   "id": "62dfe7eb",
   "metadata": {
    "papermill": {
     "duration": 0.020527,
     "end_time": "2023-04-21T09:40:48.965200",
     "exception": false,
     "start_time": "2023-04-21T09:40:48.944673",
     "status": "completed"
    },
    "tags": []
   },
   "source": [
    "# GLOBALS"
   ]
  },
  {
   "cell_type": "code",
   "execution_count": 5,
   "id": "04d1ae25-987c-4043-9771-829c928723de",
   "metadata": {
    "execution": {
     "iopub.execute_input": "2023-04-21T09:40:49.013875Z",
     "iopub.status.busy": "2023-04-21T09:40:49.013426Z",
     "iopub.status.idle": "2023-04-21T09:40:49.016963Z",
     "shell.execute_reply": "2023-04-21T09:40:49.016458Z"
    },
    "papermill": {
     "duration": 0.030103,
     "end_time": "2023-04-21T09:40:49.020028",
     "exception": false,
     "start_time": "2023-04-21T09:40:48.989925",
     "status": "completed"
    },
    "tags": []
   },
   "outputs": [],
   "source": []
  },
  {
   "cell_type": "code",
   "execution_count": 6,
   "id": "81b884da",
   "metadata": {
    "execution": {
     "iopub.execute_input": "2023-04-21T09:40:49.065873Z",
     "iopub.status.busy": "2023-04-21T09:40:49.065682Z",
     "iopub.status.idle": "2023-04-21T09:40:49.068355Z",
     "shell.execute_reply": "2023-04-21T09:40:49.067841Z"
    },
    "papermill": {
     "duration": 0.026412,
     "end_time": "2023-04-21T09:40:49.070503",
     "exception": false,
     "start_time": "2023-04-21T09:40:49.044091",
     "status": "completed"
    },
    "tags": []
   },
   "outputs": [],
   "source": [
    "GS_METRIC = \"balanced_accuracy\""
   ]
  },
  {
   "cell_type": "code",
   "execution_count": 7,
   "id": "81672aaa",
   "metadata": {
    "execution": {
     "iopub.execute_input": "2023-04-21T09:40:49.155793Z",
     "iopub.status.busy": "2023-04-21T09:40:49.155241Z",
     "iopub.status.idle": "2023-04-21T09:40:49.159544Z",
     "shell.execute_reply": "2023-04-21T09:40:49.158929Z"
    },
    "papermill": {
     "duration": 0.033534,
     "end_time": "2023-04-21T09:40:49.162420",
     "exception": false,
     "start_time": "2023-04-21T09:40:49.128886",
     "status": "completed"
    },
    "tags": []
   },
   "outputs": [],
   "source": [
    "SEED = 42"
   ]
  },
  {
   "cell_type": "code",
   "execution_count": 8,
   "id": "7ac08b32",
   "metadata": {
    "execution": {
     "iopub.execute_input": "2023-04-21T09:40:49.211634Z",
     "iopub.status.busy": "2023-04-21T09:40:49.211095Z",
     "iopub.status.idle": "2023-04-21T09:40:49.215450Z",
     "shell.execute_reply": "2023-04-21T09:40:49.214854Z"
    },
    "papermill": {
     "duration": 0.030213,
     "end_time": "2023-04-21T09:40:49.218077",
     "exception": false,
     "start_time": "2023-04-21T09:40:49.187864",
     "status": "completed"
    },
    "tags": []
   },
   "outputs": [],
   "source": [
    "TEST_RUN = True\n",
    "\n",
    "os.environ[\"HYPERTAB_TEST_RUN\"] = str(TEST_RUN)"
   ]
  },
  {
   "cell_type": "code",
   "execution_count": null,
   "id": "3b8f8a6d",
   "metadata": {
    "papermill": {
     "duration": 0.020625,
     "end_time": "2023-04-21T09:40:49.260696",
     "exception": false,
     "start_time": "2023-04-21T09:40:49.240071",
     "status": "completed"
    },
    "tags": []
   },
   "outputs": [],
   "source": []
  },
  {
   "cell_type": "code",
   "execution_count": 9,
   "id": "2d709262",
   "metadata": {
    "execution": {
     "iopub.execute_input": "2023-04-21T09:40:49.307265Z",
     "iopub.status.busy": "2023-04-21T09:40:49.306675Z",
     "iopub.status.idle": "2023-04-21T09:40:49.311219Z",
     "shell.execute_reply": "2023-04-21T09:40:49.310578Z"
    },
    "papermill": {
     "duration": 0.031102,
     "end_time": "2023-04-21T09:40:49.314174",
     "exception": false,
     "start_time": "2023-04-21T09:40:49.283072",
     "status": "completed"
    },
    "tags": [
     "parameters"
    ]
   },
   "outputs": [],
   "source": [
    "DATA = \"BreastCancer\"\n",
    "TIME_BUDGET = \"30m\"\n",
    "DEVICE=\"cpu\""
   ]
  },
  {
   "cell_type": "markdown",
   "id": "82db70f7",
   "metadata": {
    "papermill": {
     "duration": 0.023532,
     "end_time": "2023-04-21T09:40:49.409360",
     "exception": false,
     "start_time": "2023-04-21T09:40:49.385828",
     "status": "completed"
    },
    "tags": []
   },
   "source": [
    "# Load data"
   ]
  },
  {
   "cell_type": "code",
   "execution_count": 10,
   "id": "dc257b78",
   "metadata": {
    "execution": {
     "iopub.execute_input": "2023-04-21T09:40:49.455035Z",
     "iopub.status.busy": "2023-04-21T09:40:49.454539Z",
     "iopub.status.idle": "2023-04-21T09:40:49.465690Z",
     "shell.execute_reply": "2023-04-21T09:40:49.465060Z"
    },
    "papermill": {
     "duration": 0.03806,
     "end_time": "2023-04-21T09:40:49.467429",
     "exception": false,
     "start_time": "2023-04-21T09:40:49.429369",
     "status": "completed"
    },
    "tags": []
   },
   "outputs": [],
   "source": [
    "set_seed(SEED)"
   ]
  },
  {
   "cell_type": "code",
   "execution_count": 11,
   "id": "5d27dee4",
   "metadata": {
    "execution": {
     "iopub.execute_input": "2023-04-21T09:40:49.526892Z",
     "iopub.status.busy": "2023-04-21T09:40:49.526417Z",
     "iopub.status.idle": "2023-04-21T09:40:49.570943Z",
     "shell.execute_reply": "2023-04-21T09:40:49.570439Z"
    },
    "papermill": {
     "duration": 0.078359,
     "end_time": "2023-04-21T09:40:49.572480",
     "exception": false,
     "start_time": "2023-04-21T09:40:49.494121",
     "status": "completed"
    },
    "tags": []
   },
   "outputs": [],
   "source": [
    "_X, _y = get_data(DATA)"
   ]
  },
  {
   "cell_type": "code",
   "execution_count": 12,
   "id": "c79baf7c",
   "metadata": {
    "execution": {
     "iopub.execute_input": "2023-04-21T09:40:49.619108Z",
     "iopub.status.busy": "2023-04-21T09:40:49.618945Z",
     "iopub.status.idle": "2023-04-21T09:40:49.644282Z",
     "shell.execute_reply": "2023-04-21T09:40:49.643736Z"
    },
    "papermill": {
     "duration": 0.047298,
     "end_time": "2023-04-21T09:40:49.645899",
     "exception": false,
     "start_time": "2023-04-21T09:40:49.598601",
     "status": "completed"
    },
    "tags": []
   },
   "outputs": [
    {
     "name": "stdout",
     "output_type": "stream",
     "text": [
      "n_classes 2\n",
      "n_features 30\n"
     ]
    }
   ],
   "source": [
    "n_classes = get_n_classes(_X, _y)\n",
    "n_features = get_n_features(_X, _y)"
   ]
  },
  {
   "cell_type": "code",
   "execution_count": 13,
   "id": "b4eda59d",
   "metadata": {
    "execution": {
     "iopub.execute_input": "2023-04-21T09:40:49.694477Z",
     "iopub.status.busy": "2023-04-21T09:40:49.694285Z",
     "iopub.status.idle": "2023-04-21T09:40:49.698987Z",
     "shell.execute_reply": "2023-04-21T09:40:49.698507Z"
    },
    "papermill": {
     "duration": 0.029319,
     "end_time": "2023-04-21T09:40:49.702526",
     "exception": false,
     "start_time": "2023-04-21T09:40:49.673207",
     "status": "completed"
    },
    "tags": []
   },
   "outputs": [
    {
     "name": "stdout",
     "output_type": "stream",
     "text": [
      "class counts {0: 212, 1: 357}\n"
     ]
    },
    {
     "data": {
      "text/plain": [
       "{0: 212, 1: 357}"
      ]
     },
     "execution_count": 13,
     "metadata": {},
     "output_type": "execute_result"
    }
   ],
   "source": [
    "get_each_class_counts(_X, _y)"
   ]
  },
  {
   "cell_type": "markdown",
   "id": "ecfe6b35",
   "metadata": {
    "papermill": {
     "duration": 0.032399,
     "end_time": "2023-04-21T09:40:49.768552",
     "exception": false,
     "start_time": "2023-04-21T09:40:49.736153",
     "status": "completed"
    },
    "tags": []
   },
   "source": [
    "# Split"
   ]
  },
  {
   "cell_type": "code",
   "execution_count": 14,
   "id": "260dcd4c",
   "metadata": {
    "execution": {
     "iopub.execute_input": "2023-04-21T09:40:49.815044Z",
     "iopub.status.busy": "2023-04-21T09:40:49.814815Z",
     "iopub.status.idle": "2023-04-21T09:40:49.834535Z",
     "shell.execute_reply": "2023-04-21T09:40:49.834027Z"
    },
    "papermill": {
     "duration": 0.044533,
     "end_time": "2023-04-21T09:40:49.836070",
     "exception": false,
     "start_time": "2023-04-21T09:40:49.791537",
     "status": "completed"
    },
    "tags": []
   },
   "outputs": [],
   "source": [
    "X_train, X_test, y_train, y_test = initial_split(_X, _y)\n",
    "\n",
    "X = X_train, X_test\n",
    "y = y_train, y_test"
   ]
  },
  {
   "cell_type": "code",
   "execution_count": 15,
   "id": "414d09a7",
   "metadata": {
    "execution": {
     "iopub.execute_input": "2023-04-21T09:40:49.883431Z",
     "iopub.status.busy": "2023-04-21T09:40:49.883191Z",
     "iopub.status.idle": "2023-04-21T09:40:49.886496Z",
     "shell.execute_reply": "2023-04-21T09:40:49.885997Z"
    },
    "papermill": {
     "duration": 0.026853,
     "end_time": "2023-04-21T09:40:49.889414",
     "exception": false,
     "start_time": "2023-04-21T09:40:49.862561",
     "status": "completed"
    },
    "tags": []
   },
   "outputs": [
    {
     "name": "stdout",
     "output_type": "stream",
     "text": [
      "n_classes 2\n",
      "n_features 30\n"
     ]
    }
   ],
   "source": [
    "n_classes = get_n_classes(X_train, y_train)\n",
    "n_features = get_n_features(X_train, y_train)"
   ]
  },
  {
   "cell_type": "code",
   "execution_count": 16,
   "id": "ea2e111e",
   "metadata": {
    "execution": {
     "iopub.execute_input": "2023-04-21T09:40:49.931834Z",
     "iopub.status.busy": "2023-04-21T09:40:49.931641Z",
     "iopub.status.idle": "2023-04-21T09:40:49.935849Z",
     "shell.execute_reply": "2023-04-21T09:40:49.935365Z"
    },
    "papermill": {
     "duration": 0.029035,
     "end_time": "2023-04-21T09:40:49.939555",
     "exception": false,
     "start_time": "2023-04-21T09:40:49.910520",
     "status": "completed"
    },
    "tags": []
   },
   "outputs": [
    {
     "name": "stdout",
     "output_type": "stream",
     "text": [
      "class counts {0: 170, 1: 285}\n"
     ]
    },
    {
     "data": {
      "text/plain": [
       "{0: 170, 1: 285}"
      ]
     },
     "execution_count": 16,
     "metadata": {},
     "output_type": "execute_result"
    }
   ],
   "source": [
    "get_each_class_counts(X_train, y_train)"
   ]
  },
  {
   "cell_type": "code",
   "execution_count": 17,
   "id": "09a65a46",
   "metadata": {
    "execution": {
     "iopub.execute_input": "2023-04-21T09:40:49.983438Z",
     "iopub.status.busy": "2023-04-21T09:40:49.983216Z",
     "iopub.status.idle": "2023-04-21T09:40:49.986336Z",
     "shell.execute_reply": "2023-04-21T09:40:49.985823Z"
    },
    "papermill": {
     "duration": 0.02727,
     "end_time": "2023-04-21T09:40:49.989118",
     "exception": false,
     "start_time": "2023-04-21T09:40:49.961848",
     "status": "completed"
    },
    "tags": []
   },
   "outputs": [
    {
     "name": "stdout",
     "output_type": "stream",
     "text": [
      "eval_max_size 455\n",
      "train_max_size 341\n"
     ]
    }
   ],
   "source": [
    "eval_train_max_size, train_max_size = get_eval_and_benchmark_size(X_train=X_train)"
   ]
  },
  {
   "cell_type": "markdown",
   "id": "20f51db3",
   "metadata": {
    "papermill": {
     "duration": 0.021259,
     "end_time": "2023-04-21T09:40:50.035106",
     "exception": false,
     "start_time": "2023-04-21T09:40:50.013847",
     "status": "completed"
    },
    "tags": []
   },
   "source": [
    "# TRAIN MODELS"
   ]
  },
  {
   "cell_type": "markdown",
   "id": "4dcb74d8",
   "metadata": {
    "papermill": {
     "duration": 0.020489,
     "end_time": "2023-04-21T09:40:50.076151",
     "exception": false,
     "start_time": "2023-04-21T09:40:50.055662",
     "status": "completed"
    },
    "tags": []
   },
   "source": [
    "## Common hyperparams"
   ]
  },
  {
   "cell_type": "code",
   "execution_count": 18,
   "id": "e4921741",
   "metadata": {
    "execution": {
     "iopub.execute_input": "2023-04-21T09:40:50.146802Z",
     "iopub.status.busy": "2023-04-21T09:40:50.146522Z",
     "iopub.status.idle": "2023-04-21T09:40:50.153013Z",
     "shell.execute_reply": "2023-04-21T09:40:50.152447Z"
    },
    "papermill": {
     "duration": 0.032074,
     "end_time": "2023-04-21T09:40:50.155057",
     "exception": false,
     "start_time": "2023-04-21T09:40:50.122983",
     "status": "completed"
    },
    "tags": []
   },
   "outputs": [],
   "source": [
    "class CommonHyperparams:\n",
    "    lr = pyhopper.choice([3e-5, 3e-4, 3e-3, 3e-2, 3e-1])\n",
    "    batch_size = pyhopper.int(32, 512, 32, 32)\n",
    "    ht_mask_size = pyhopper.choice([i for i in [2, 5, 10, 20, 50, 90] if i <= n_features])\n",
    "    ht_target_size = pyhopper.choice([5, 10, 20, 50])\n",
    "    ht_mask_no = pyhopper.choice([50, 70, 100, 150, 200, 300])\n",
    "    ht_epochs = pyhopper.choice([100, 200])\n",
    "    "
   ]
  },
  {
   "attachments": {},
   "cell_type": "markdown",
   "id": "cd09a94d",
   "metadata": {
    "papermill": {
     "duration": 0.02046,
     "end_time": "2023-04-21T09:40:50.196254",
     "exception": false,
     "start_time": "2023-04-21T09:40:50.175794",
     "status": "completed"
    },
    "tags": []
   },
   "source": [
    "## Hypernetwork"
   ]
  },
  {
   "cell_type": "code",
   "execution_count": 19,
   "id": "5a740506",
   "metadata": {
    "execution": {
     "iopub.execute_input": "2023-04-21T09:40:50.264894Z",
     "iopub.status.busy": "2023-04-21T09:40:50.264661Z",
     "iopub.status.idle": "2023-04-21T09:40:50.270217Z",
     "shell.execute_reply": "2023-04-21T09:40:50.268904Z"
    },
    "papermill": {
     "duration": 0.042043,
     "end_time": "2023-04-21T09:40:50.272088",
     "exception": false,
     "start_time": "2023-04-21T09:40:50.230045",
     "status": "completed"
    },
    "tags": []
   },
   "outputs": [],
   "source": [
    "set_seed(SEED)\n",
    "\n",
    "network_hp_fn=get_parametrized_hypertab_fn(DEVICE=DEVICE, n_features=n_features, n_classes=n_classes)"
   ]
  },
  {
   "cell_type": "markdown",
   "id": "08e3056f",
   "metadata": {
    "papermill": {
     "duration": 0.020524,
     "end_time": "2023-04-21T09:40:50.315698",
     "exception": false,
     "start_time": "2023-04-21T09:40:50.295174",
     "status": "completed"
    },
    "tags": []
   },
   "source": [
    "#### Find hyperparams"
   ]
  },
  {
   "cell_type": "markdown",
   "id": "4866aae3",
   "metadata": {
    "papermill": {
     "duration": 0.032796,
     "end_time": "2023-04-21T09:40:50.374488",
     "exception": false,
     "start_time": "2023-04-21T09:40:50.341692",
     "status": "completed"
    },
    "tags": []
   },
   "source": [
    "<span id=\"papermill-error-cell\" style=\"color:red; font-family:Helvetica Neue, Helvetica, Arial, sans-serif; font-size:2em;\">Execution using papermill encountered an exception here and stopped:</span>"
   ]
  },
  {
   "cell_type": "code",
   "execution_count": 20,
   "id": "73499d05",
   "metadata": {
    "execution": {
     "iopub.execute_input": "2023-04-21T09:40:50.428920Z",
     "iopub.status.busy": "2023-04-21T09:40:50.428715Z",
     "iopub.status.idle": "2023-04-21T09:43:40.535573Z",
     "shell.execute_reply": "2023-04-21T09:43:40.521707Z"
    },
    "papermill": {
     "duration": 170.345391,
     "end_time": "2023-04-21T09:43:40.753025",
     "exception": false,
     "start_time": "2023-04-21T09:40:50.407634",
     "status": "completed"
    },
    "tags": []
   },
   "outputs": [
    {
     "name": "stdout",
     "output_type": "stream",
     "text": [
      "THIS IS TEST RUN\n",
      "| DEVICE: cpu\n",
      "| model_fn network_hp_fn\n",
      "\n",
      "pyhopper X.shape: (455, 30) y.shape: (455,) train_size: 341\n"
     ]
    },
    {
     "name": "stderr",
     "output_type": "stream",
     "text": [
      "\r\n",
      "  0%|                                                                                                                                                                                                                   | [00:00<?]"
     ]
    },
    {
     "name": "stderr",
     "output_type": "stream",
     "text": [
      "\r\n",
      "                                                                                                                                                                                                                                   "
     ]
    },
    {
     "name": "stderr",
     "output_type": "stream",
     "text": [
      "\r"
     ]
    },
    {
     "name": "stderr",
     "output_type": "stream",
     "text": [
      "\r\n",
      "  0%|                                                                                                                                                                                                                   | [00:00<?]"
     ]
    },
    {
     "name": "stdout",
     "output_type": "stream",
     "text": [
      "Search is scheduled for 01:00 (m:s)\n",
      "params {'epochs': 10, 'masks_no': 50, 'mask_size': 2, 'target_size': 5, 'lr': 3e-05, 'batch_size': 32}\n",
      "iter 1 of 1 X_train shape torch.Size([341, 30])\n"
     ]
    },
    {
     "name": "stderr",
     "output_type": "stream",
     "text": [
      "\r\n",
      "Best f: 50 (out of 1 params): 100%|██████████████████████████████████████████████████████████████████████████████████████████████████████████████████████████████████████████████████████████████████| [02:50<00:00, 0.4 param/min]"
     ]
    },
    {
     "name": "stderr",
     "output_type": "stream",
     "text": [
      "\r\n",
      "Best f: 50 (out of 1 params): 100%|██████████████████████████████████████████████████████████████████████████████████████████████████████████████████████████████████████████████████████████████████| [02:50<00:00, 0.4 param/min]"
     ]
    },
    {
     "name": "stderr",
     "output_type": "stream",
     "text": [
      "\r\n",
      "Best f: 50 (out of 1 params): 100%|██████████████████████████████████████████████████████████████████████████████████████████████████████████████████████████████████████████████████████████████████| [02:50<00:00, 0.4 param/min]"
     ]
    },
    {
     "name": "stdout",
     "output_type": "stream",
     "text": [
      "==================== Summary ===================\n",
      "Mode              : Best f : Steps : Time       \n",
      "----------------  : ----   : ----  : ----       \n",
      "Initial solution  : 50     : 1     : 02:50 (m:s)\n",
      "----------------  : ----   : ----  : ----       \n",
      "Total             : 50     : 1     : 02:50 (m:s)\n",
      "================================================\n",
      "BreastCancer_network_hp_fn_{'epochs': 10, 'masks_no': 50, 'mask_size': 2, 'target_size': 5, 'lr': 3e-05, 'batch_size': 32}\n"
     ]
    },
    {
     "name": "stderr",
     "output_type": "stream",
     "text": [
      "\n"
     ]
    },
    {
     "data": {
      "text/plain": [
       "{'epochs': 10,\n",
       " 'masks_no': 50,\n",
       " 'mask_size': 2,\n",
       " 'target_size': 5,\n",
       " 'lr': 3e-05,\n",
       " 'batch_size': 32}"
      ]
     },
     "execution_count": 20,
     "metadata": {},
     "output_type": "execute_result"
    }
   ],
   "source": [
    "param_grid = {\n",
    "    \"epochs\": CommonHyperparams.ht_epochs,\n",
    "    \"masks_no\": CommonHyperparams.ht_mask_no,\n",
    "    \"mask_size\": CommonHyperparams.ht_mask_size,\n",
    "    \"target_size\": CommonHyperparams.ht_target_size,\n",
    "    \"lr\": CommonHyperparams.lr,\n",
    "    \"batch_size\": CommonHyperparams.batch_size,\n",
    "}\n",
    "\n",
    "hp_best_params, hp_history = pyhopper_best_params(\n",
    "    model_fn=network_hp_fn, \n",
    "    param_grid=param_grid,\n",
    "    data=(X_train, y_train),\n",
    "    train_size=train_max_size,\n",
    "    DATA=DATA,\n",
    "    device=DEVICE,\n",
    "    time=TIME_BUDGET,\n",
    ")\n",
    "\n",
    "hp_best_params"
   ]
  },
  {
   "cell_type": "code",
   "execution_count": 21,
   "id": "047c2b74",
   "metadata": {
    "execution": {
     "iopub.execute_input": "2023-04-21T09:43:40.838675Z",
     "iopub.status.busy": "2023-04-21T09:43:40.837725Z",
     "iopub.status.idle": "2023-04-21T09:43:40.853987Z",
     "shell.execute_reply": "2023-04-21T09:43:40.851708Z"
    },
    "papermill": {
     "duration": 0.067202,
     "end_time": "2023-04-21T09:43:40.856327",
     "exception": false,
     "start_time": "2023-04-21T09:43:40.789125",
     "status": "completed"
    },
    "tags": []
   },
   "outputs": [
    {
     "data": {
      "text/plain": [
       "{'epochs': 10,\n",
       " 'masks_no': 50,\n",
       " 'mask_size': 2,\n",
       " 'target_size': 5,\n",
       " 'lr': 3e-05,\n",
       " 'batch_size': 32}"
      ]
     },
     "execution_count": 21,
     "metadata": {},
     "output_type": "execute_result"
    }
   ],
   "source": [
    "hp_best_params"
   ]
  },
  {
   "cell_type": "markdown",
   "id": "595a899e",
   "metadata": {
    "papermill": {
     "duration": 0.026703,
     "end_time": "2023-04-21T09:43:40.907885",
     "exception": false,
     "start_time": "2023-04-21T09:43:40.881182",
     "status": "completed"
    },
    "tags": []
   },
   "source": [
    "#### Train using the best hyperparams"
   ]
  },
  {
   "cell_type": "code",
   "execution_count": 22,
   "id": "142e04d0",
   "metadata": {
    "execution": {
     "iopub.execute_input": "2023-04-21T09:43:40.962843Z",
     "iopub.status.busy": "2023-04-21T09:43:40.962523Z",
     "iopub.status.idle": "2023-04-21T09:47:23.605887Z",
     "shell.execute_reply": "2023-04-21T09:47:23.604025Z"
    },
    "papermill": {
     "duration": 222.694804,
     "end_time": "2023-04-21T09:47:23.628714",
     "exception": false,
     "start_time": "2023-04-21T09:43:40.933910",
     "status": "completed"
    },
    "tags": []
   },
   "outputs": [
    {
     "name": "stdout",
     "output_type": "stream",
     "text": [
      "iter 1 of 1 X_train shape torch.Size([455, 30])\n"
     ]
    },
    {
     "name": "stderr",
     "output_type": "stream",
     "text": [
      "\r\n",
      "  0%|                                                                                                                                                                                                       | 0/10 [00:00<?, ?it/s]"
     ]
    },
    {
     "name": "stderr",
     "output_type": "stream",
     "text": [
      "\r\n",
      " 10%|███████████████████                                                                                                                                                                            | 1/10 [00:20<03:03, 20.38s/it]"
     ]
    },
    {
     "name": "stderr",
     "output_type": "stream",
     "text": [
      "\r\n",
      " 20%|██████████████████████████████████████▏                                                                                                                                                        | 2/10 [00:42<02:51, 21.50s/it]"
     ]
    },
    {
     "name": "stderr",
     "output_type": "stream",
     "text": [
      "\r\n",
      " 30%|█████████████████████████████████████████████████████████▎                                                                                                                                     | 3/10 [01:05<02:34, 22.07s/it]"
     ]
    },
    {
     "name": "stderr",
     "output_type": "stream",
     "text": [
      "\r\n",
      " 40%|████████████████████████████████████████████████████████████████████████████▍                                                                                                                  | 4/10 [01:27<02:12, 22.04s/it]"
     ]
    },
    {
     "name": "stderr",
     "output_type": "stream",
     "text": [
      "\r\n",
      " 50%|███████████████████████████████████████████████████████████████████████████████████████████████▌                                                                                               | 5/10 [01:48<01:48, 21.76s/it]"
     ]
    },
    {
     "name": "stderr",
     "output_type": "stream",
     "text": [
      "\r\n",
      " 60%|██████████████████████████████████████████████████████████████████████████████████████████████████████████████████▌                                                                            | 6/10 [02:10<01:26, 21.71s/it]"
     ]
    },
    {
     "name": "stderr",
     "output_type": "stream",
     "text": [
      "\r\n",
      " 70%|█████████████████████████████████████████████████████████████████████████████████████████████████████████████████████████████████████▋                                                         | 7/10 [02:31<01:04, 21.47s/it]"
     ]
    },
    {
     "name": "stderr",
     "output_type": "stream",
     "text": [
      "\r\n",
      " 80%|████████████████████████████████████████████████████████████████████████████████████████████████████████████████████████████████████████████████████████▊                                      | 8/10 [02:53<00:43, 21.75s/it]"
     ]
    },
    {
     "name": "stderr",
     "output_type": "stream",
     "text": [
      "\r\n",
      " 90%|███████████████████████████████████████████████████████████████████████████████████████████████████████████████████████████████████████████████████████████████████████████▉                   | 9/10 [03:16<00:22, 22.23s/it]"
     ]
    },
    {
     "name": "stderr",
     "output_type": "stream",
     "text": [
      "\r\n",
      "100%|██████████████████████████████████████████████████████████████████████████████████████████████████████████████████████████████████████████████████████████████████████████████████████████████| 10/10 [03:39<00:00, 22.45s/it]"
     ]
    },
    {
     "name": "stderr",
     "output_type": "stream",
     "text": [
      "\r\n",
      "100%|██████████████████████████████████████████████████████████████████████████████████████████████████████████████████████████████████████████████████████████████████████████████████████████████| 10/10 [03:39<00:00, 21.98s/it]"
     ]
    },
    {
     "name": "stderr",
     "output_type": "stream",
     "text": [
      "\n"
     ]
    }
   ],
   "source": [
    "epochs = hp_best_params['epochs']\n",
    "masks_no = hp_best_params['masks_no']\n",
    "mask_size = hp_best_params['mask_size']\n",
    "target_size = hp_best_params['target_size']\n",
    "batch_size = hp_best_params['batch_size']\n",
    "lr = hp_best_params['lr']\n",
    "\n",
    "\n",
    "hyper_results = test_model(\n",
    "    model_fn=network_hp_fn(**hp_best_params, verbose=True),\n",
    "    data=(X, y),\n",
    "    train_size=eval_train_max_size,\n",
    "    iters=10\n",
    ")"
   ]
  },
  {
   "cell_type": "code",
   "execution_count": 23,
   "id": "6fb58741",
   "metadata": {
    "execution": {
     "iopub.execute_input": "2023-04-21T09:47:23.701579Z",
     "iopub.status.busy": "2023-04-21T09:47:23.701154Z",
     "iopub.status.idle": "2023-04-21T09:47:23.718502Z",
     "shell.execute_reply": "2023-04-21T09:47:23.715474Z"
    },
    "papermill": {
     "duration": 0.054486,
     "end_time": "2023-04-21T09:47:23.720214",
     "exception": false,
     "start_time": "2023-04-21T09:47:23.665728",
     "status": "completed"
    },
    "tags": []
   },
   "outputs": [
    {
     "name": "stdout",
     "output_type": "stream",
     "text": [
      "metric balanced_accuracy\n",
      "dataset_name BreastCancer\n",
      "BreastCancer: 50.00 ~ nan (max: 50.00)\n"
     ]
    }
   ],
   "source": [
    "print_mean_std_max(hyper_results, DATA)"
   ]
  },
  {
   "cell_type": "markdown",
   "id": "d08dcdab-2c4b-4a05-822b-912037488763",
   "metadata": {
    "papermill": {
     "duration": 0.028625,
     "end_time": "2023-04-21T09:47:23.790459",
     "exception": false,
     "start_time": "2023-04-21T09:47:23.761834",
     "status": "completed"
    },
    "tags": []
   },
   "source": [
    "## NODE"
   ]
  },
  {
   "cell_type": "code",
   "execution_count": 24,
   "id": "e1eaffa6",
   "metadata": {
    "execution": {
     "iopub.execute_input": "2023-04-21T09:47:23.840811Z",
     "iopub.status.busy": "2023-04-21T09:47:23.840330Z",
     "iopub.status.idle": "2023-04-21T09:47:23.919733Z",
     "shell.execute_reply": "2023-04-21T09:47:23.918915Z"
    },
    "papermill": {
     "duration": 0.107882,
     "end_time": "2023-04-21T09:47:23.921511",
     "exception": false,
     "start_time": "2023-04-21T09:47:23.813629",
     "status": "completed"
    },
    "tags": []
   },
   "outputs": [],
   "source": [
    "set_seed(SEED)\n",
    "\n",
    "node_fn=get_parametrized_node_fn(X_train=X_train, n_classes=n_classes, n_features=n_features, DEVICE=DEVICE)"
   ]
  },
  {
   "cell_type": "code",
   "execution_count": null,
   "id": "806be7a7-e4c8-4525-a38f-9ae16a3bd229",
   "metadata": {
    "papermill": {
     "duration": 0.03053,
     "end_time": "2023-04-21T09:47:23.978861",
     "exception": false,
     "start_time": "2023-04-21T09:47:23.948331",
     "status": "completed"
    },
    "tags": []
   },
   "outputs": [],
   "source": []
  },
  {
   "cell_type": "markdown",
   "id": "8dac1f77",
   "metadata": {
    "papermill": {
     "duration": 0.041254,
     "end_time": "2023-04-21T09:47:24.045493",
     "exception": false,
     "start_time": "2023-04-21T09:47:24.004239",
     "status": "completed"
    },
    "tags": []
   },
   "source": [
    "#### Tune hyperparams"
   ]
  },
  {
   "cell_type": "code",
   "execution_count": 25,
   "id": "723921fd",
   "metadata": {
    "execution": {
     "iopub.execute_input": "2023-04-21T09:47:24.125633Z",
     "iopub.status.busy": "2023-04-21T09:47:24.124422Z"
    },
    "papermill": {
     "duration": 10671.905358,
     "end_time": "2023-04-21T12:45:16.004237",
     "exception": false,
     "start_time": "2023-04-21T09:47:24.098879",
     "status": "completed"
    },
    "tags": []
   },
   "outputs": [
    {
     "name": "stdout",
     "output_type": "stream",
     "text": [
      "THIS IS TEST RUN\n",
      "| DEVICE: cpu\n",
      "| model_fn node_fn\n",
      "\n",
      "pyhopper X.shape: (455, 30) y.shape: (455,) train_size: 341\n"
     ]
    },
    {
     "name": "stderr",
     "output_type": "stream",
     "text": [
      "\r\n",
      "  0%|                                                                                                                                                                                                                   | [00:00<?]"
     ]
    },
    {
     "name": "stderr",
     "output_type": "stream",
     "text": [
      "\r\n",
      "                                                                                                                                                                                                                                   "
     ]
    },
    {
     "name": "stderr",
     "output_type": "stream",
     "text": [
      "\r"
     ]
    },
    {
     "name": "stderr",
     "output_type": "stream",
     "text": [
      "\r\n",
      "  0%|                                                                                                                                                                                                                   | [00:00<?]"
     ]
    },
    {
     "name": "stdout",
     "output_type": "stream",
     "text": [
      "Search is scheduled for 01:00 (m:s)\n",
      "params {'layer_dim': 256, 'num_layers': 3, 'depth': 4, 'batch_size': 32}\n",
      "iter 1 of 1 X_train shape torch.Size([341, 30])\n"
     ]
    },
    {
     "name": "stderr",
     "output_type": "stream",
     "text": [
      "/storage/PawelLab/wwydmanski/hypernet-cnn/Benchmarks/node/odst.py:113: UserWarning: Data-aware initialization is performed on less than 1000 data points. This may cause instability.To avoid potential problems, run this model on a data batch with at least 1000 data samples.You can do so manually before training. Use with torch.no_grad() for memory efficiency.\n",
      "  warn(\"Data-aware initialization is performed on less than 1000 data points. This may cause instability.\"\n"
     ]
    },
    {
     "name": "stderr",
     "output_type": "stream",
     "text": [
      "/home/MCB/wwydmanski/miniconda3/envs/torch/lib/python3.9/site-packages/qhoptim/pyt/qhadam.py:133: UserWarning: This overload of add_ is deprecated:\n",
      "\tadd_(Number alpha, Tensor other)\n",
      "Consider using one of the following signatures instead:\n",
      "\tadd_(Tensor other, *, Number alpha) (Triggered internally at /opt/conda/conda-bld/pytorch_1678402374358/work/torch/csrc/utils/python_arg_parser.cpp:1485.)\n",
      "  exp_avg.mul_(beta1_adj).add_(1.0 - beta1_adj, d_p)\n"
     ]
    },
    {
     "name": "stdout",
     "output_type": "stream",
     "text": [
      "CTRL+C received. Will terminate once the currently running candidates finished"
     ]
    },
    {
     "name": "stdout",
     "output_type": "stream",
     "text": [
      "\n"
     ]
    },
    {
     "name": "stdout",
     "output_type": "stream",
     "text": [
      "CTRL+C received. Will terminate once the currently running candidates finished\n"
     ]
    }
   ],
   "source": [
    "# 'layer_dim': hp.quniform('layer_dim', 100, 1200, 100),\n",
    "# 'num_layers': hp.quniform('num_layers', 1, 4, 1),\n",
    "# 'depth': hp.quniform('depth', 2, 7, 1)\n",
    "                    \n",
    "param_grid = {\n",
    "    'layer_dim': pyhopper.int(64, 1024, power_of=2),\n",
    "    'num_layers': pyhopper.int(1, 5),\n",
    "    'depth': pyhopper.int(2, 7),\n",
    "    'batch_size': pyhopper.choice([32, 64, 128]),\n",
    "}\n",
    "\n",
    "node_best, node_history = pyhopper_best_params(\n",
    "    model_fn=node_fn,\n",
    "    param_grid=param_grid,\n",
    "    data=(X_train, y_train),\n",
    "    train_size=train_max_size,\n",
    "    DATA=DATA,\n",
    "    device=DEVICE,\n",
    "    time=TIME_BUDGET\n",
    ")\n",
    "\n",
    "node_best"
   ]
  },
  {
   "cell_type": "code",
   "execution_count": null,
   "id": "0498be19",
   "metadata": {
    "papermill": {
     "duration": null,
     "end_time": null,
     "exception": null,
     "start_time": null,
     "status": "completed"
    },
    "tags": []
   },
   "outputs": [],
   "source": []
  },
  {
   "cell_type": "markdown",
   "id": "a1afc979",
   "metadata": {
    "papermill": {
     "duration": null,
     "end_time": null,
     "exception": null,
     "start_time": null,
     "status": "completed"
    },
    "tags": []
   },
   "source": [
    "#### Use best hyperparams"
   ]
  },
  {
   "cell_type": "code",
   "execution_count": null,
   "id": "66a397d5",
   "metadata": {
    "execution": {
     "iopub.execute_input": "2023-04-21T01:29:23.921942Z",
     "iopub.status.busy": "2023-04-21T01:29:23.909636Z",
     "iopub.status.idle": "2023-04-21T08:52:20.850459Z",
     "shell.execute_reply": "2023-04-21T08:52:20.846176Z"
    },
    "papermill": {
     "duration": null,
     "end_time": null,
     "exception": null,
     "start_time": null,
     "status": "completed"
    },
    "tags": []
   },
   "outputs": [],
   "source": [
    "%%capture --no-stdout\n",
    "\n",
    "node_results = test_model(\n",
    "    model_fn=node_fn(**node_best),\n",
    "    data=(X, y),\n",
    "    train_size=eval_train_max_size,\n",
    "    iters=10\n",
    ")"
   ]
  },
  {
   "cell_type": "code",
   "execution_count": null,
   "id": "6aa5e49c",
   "metadata": {
    "execution": {
     "iopub.execute_input": "2023-04-21T08:52:21.003472Z",
     "iopub.status.busy": "2023-04-21T08:52:21.002950Z",
     "iopub.status.idle": "2023-04-21T08:52:21.018371Z",
     "shell.execute_reply": "2023-04-21T08:52:21.017750Z"
    },
    "papermill": {
     "duration": null,
     "end_time": null,
     "exception": null,
     "start_time": null,
     "status": "completed"
    },
    "tags": []
   },
   "outputs": [],
   "source": [
    "print_mean_std_max(node_results, DATA)"
   ]
  },
  {
   "cell_type": "code",
   "execution_count": null,
   "id": "11d696b0-f5b6-4508-9fff-5166fad29e9a",
   "metadata": {
    "papermill": {
     "duration": null,
     "end_time": null,
     "exception": null,
     "start_time": null,
     "status": "completed"
    },
    "tags": []
   },
   "outputs": [],
   "source": []
  },
  {
   "cell_type": "markdown",
   "id": "c61f6487",
   "metadata": {
    "papermill": {
     "duration": null,
     "end_time": null,
     "exception": null,
     "start_time": null,
     "status": "completed"
    },
    "tags": []
   },
   "source": [
    " "
   ]
  },
  {
   "cell_type": "markdown",
   "id": "753c2e4d-aca4-4eb1-b3ea-a1926fd44efe",
   "metadata": {
    "papermill": {
     "duration": null,
     "end_time": null,
     "exception": null,
     "start_time": null,
     "status": "completed"
    },
    "tags": []
   },
   "source": [
    "## Dropout Neural network"
   ]
  },
  {
   "cell_type": "markdown",
   "id": "64652732",
   "metadata": {
    "papermill": {
     "duration": null,
     "end_time": null,
     "exception": null,
     "start_time": null,
     "status": "completed"
    },
    "tags": []
   },
   "source": [
    "#### Find Hyperparams"
   ]
  },
  {
   "cell_type": "markdown",
   "id": "256e43a3",
   "metadata": {
    "papermill": {
     "duration": null,
     "end_time": null,
     "exception": null,
     "start_time": null,
     "status": "completed"
    },
    "tags": []
   },
   "source": [
    "### Dropout 1 layer"
   ]
  },
  {
   "cell_type": "code",
   "execution_count": null,
   "id": "946f0004",
   "metadata": {
    "execution": {
     "iopub.execute_input": "2023-04-21T08:52:21.535733Z",
     "iopub.status.busy": "2023-04-21T08:52:21.535296Z",
     "iopub.status.idle": "2023-04-21T08:52:21.542205Z",
     "shell.execute_reply": "2023-04-21T08:52:21.541458Z"
    },
    "papermill": {
     "duration": null,
     "end_time": null,
     "exception": null,
     "start_time": null,
     "status": "completed"
    },
    "tags": []
   },
   "outputs": [],
   "source": [
    "set_seed(SEED)\n",
    "\n",
    "network_fn1=get_parametrized_dropout_net1(DEVICE=DEVICE, n_features=n_features, n_classes=n_classes)"
   ]
  },
  {
   "cell_type": "code",
   "execution_count": null,
   "id": "41850a57",
   "metadata": {
    "execution": {
     "iopub.execute_input": "2023-04-21T08:52:21.667444Z",
     "iopub.status.busy": "2023-04-21T08:52:21.667004Z",
     "iopub.status.idle": "2023-04-21T08:53:06.696931Z",
     "shell.execute_reply": "2023-04-21T08:53:06.695570Z"
    },
    "papermill": {
     "duration": null,
     "end_time": null,
     "exception": null,
     "start_time": null,
     "status": "completed"
    },
    "tags": []
   },
   "outputs": [],
   "source": [
    "param_grid = {\n",
    "                \"epochs\": CommonHyperparams.ht_epochs,\n",
    "                \"lr\": CommonHyperparams.lr,\n",
    "                \"batch_size\": CommonHyperparams.batch_size,\n",
    "                \"drop1\": pyhopper.choice([0.1, 0.3, 0.5, 0.7], is_ordinal=True),\n",
    "                \"drop2\": pyhopper.choice([0.1, 0.3, 0.5, 0.7], is_ordinal=True),\n",
    "                \"batch_size\": pyhopper.choice([32, 64]),\n",
    "             }\n",
    "\n",
    "nn_fn1_best_params, nn_fn1_history = pyhopper_best_params(\n",
    "    model_fn=network_fn1,\n",
    "    param_grid=param_grid,\n",
    "    data=(X_train, y_train),\n",
    "    train_size=train_max_size,\n",
    "    DATA=DATA,\n",
    "    device=DEVICE,\n",
    "    time=TIME_BUDGET,\n",
    ")\n",
    "\n",
    "nn_fn1_best_params"
   ]
  },
  {
   "cell_type": "code",
   "execution_count": null,
   "id": "7b0143ba",
   "metadata": {
    "execution": {
     "iopub.execute_input": "2023-04-21T08:53:06.834766Z",
     "iopub.status.busy": "2023-04-21T08:53:06.834146Z",
     "iopub.status.idle": "2023-04-21T08:53:47.694952Z",
     "shell.execute_reply": "2023-04-21T08:53:47.693515Z"
    },
    "papermill": {
     "duration": null,
     "end_time": null,
     "exception": null,
     "start_time": null,
     "status": "completed"
    },
    "tags": []
   },
   "outputs": [],
   "source": [
    "nn1_results = test_model(\n",
    "    model_fn=network_fn1(**nn_fn1_best_params),\n",
    "    data=(X, y),\n",
    "    train_size=eval_train_max_size,\n",
    "    iters=10\n",
    ")"
   ]
  },
  {
   "cell_type": "code",
   "execution_count": null,
   "id": "fb03b139",
   "metadata": {
    "execution": {
     "iopub.execute_input": "2023-04-21T08:53:47.824231Z",
     "iopub.status.busy": "2023-04-21T08:53:47.822109Z",
     "iopub.status.idle": "2023-04-21T08:53:47.866388Z",
     "shell.execute_reply": "2023-04-21T08:53:47.865185Z"
    },
    "papermill": {
     "duration": null,
     "end_time": null,
     "exception": null,
     "start_time": null,
     "status": "completed"
    },
    "tags": []
   },
   "outputs": [],
   "source": [
    "print_mean_std_max(nn1_results, DATA)"
   ]
  },
  {
   "cell_type": "markdown",
   "id": "fc25ca37",
   "metadata": {
    "papermill": {
     "duration": null,
     "end_time": null,
     "exception": null,
     "start_time": null,
     "status": "completed"
    },
    "tags": []
   },
   "source": [
    "### Dropout 2 layers"
   ]
  },
  {
   "cell_type": "code",
   "execution_count": null,
   "id": "dcb8e41c",
   "metadata": {
    "execution": {
     "iopub.execute_input": "2023-04-21T08:53:47.974074Z",
     "iopub.status.busy": "2023-04-21T08:53:47.973413Z",
     "iopub.status.idle": "2023-04-21T08:53:47.979024Z",
     "shell.execute_reply": "2023-04-21T08:53:47.978190Z"
    },
    "papermill": {
     "duration": null,
     "end_time": null,
     "exception": null,
     "start_time": null,
     "status": "completed"
    },
    "tags": []
   },
   "outputs": [],
   "source": [
    "set_seed(SEED)\n",
    "\n",
    "network_fn2=get_parametrized_dropout_net2(DEVICE=DEVICE, n_features=n_features, n_classes=n_classes)"
   ]
  },
  {
   "cell_type": "code",
   "execution_count": null,
   "id": "6ded59e5",
   "metadata": {
    "execution": {
     "iopub.execute_input": "2023-04-21T08:53:48.014156Z",
     "iopub.status.busy": "2023-04-21T08:53:48.013559Z",
     "iopub.status.idle": "2023-04-21T08:54:46.039499Z",
     "shell.execute_reply": "2023-04-21T08:54:46.038242Z"
    },
    "papermill": {
     "duration": null,
     "end_time": null,
     "exception": null,
     "start_time": null,
     "status": "completed"
    },
    "tags": []
   },
   "outputs": [],
   "source": [
    "param_grid = {\n",
    "                \"epochs\": CommonHyperparams.ht_epochs,\n",
    "                \"lr\": CommonHyperparams.lr,\n",
    "                \"batch_size\": CommonHyperparams.batch_size,\n",
    "                \"drop1\": pyhopper.choice([0.1, 0.3, 0.5, 0.7], is_ordinal=True),\n",
    "                \"drop2\": pyhopper.choice([0.1, 0.3, 0.5, 0.7], is_ordinal=True),\n",
    "                \"drop3\": pyhopper.choice([0.1, 0.3, 0.5, 0.7], is_ordinal=True),\n",
    "             }\n",
    "\n",
    "nn_fn2_best_params, nn_fn2_history = pyhopper_best_params(\n",
    "    model_fn=network_fn2,\n",
    "    param_grid=param_grid,\n",
    "    data=(X_train, y_train),\n",
    "    train_size=train_max_size,\n",
    "    DATA=DATA,\n",
    "    device=DEVICE,\n",
    "    time=TIME_BUDGET,\n",
    ")\n",
    "nn_fn2_best_params"
   ]
  },
  {
   "cell_type": "code",
   "execution_count": null,
   "id": "326bbde0",
   "metadata": {
    "execution": {
     "iopub.execute_input": "2023-04-21T08:54:46.262136Z",
     "iopub.status.busy": "2023-04-21T08:54:46.261300Z",
     "iopub.status.idle": "2023-04-21T08:54:48.832035Z",
     "shell.execute_reply": "2023-04-21T08:54:48.830360Z"
    },
    "papermill": {
     "duration": null,
     "end_time": null,
     "exception": null,
     "start_time": null,
     "status": "completed"
    },
    "tags": []
   },
   "outputs": [],
   "source": [
    "nn2_results = test_model(\n",
    "    model_fn=network_fn2(**nn_fn2_best_params),\n",
    "    data=(X, y),\n",
    "    train_size=eval_train_max_size,\n",
    "    iters=10\n",
    ")"
   ]
  },
  {
   "cell_type": "code",
   "execution_count": null,
   "id": "5412e9d8",
   "metadata": {
    "execution": {
     "iopub.execute_input": "2023-04-21T08:54:48.924940Z",
     "iopub.status.busy": "2023-04-21T08:54:48.924393Z",
     "iopub.status.idle": "2023-04-21T08:54:48.932384Z",
     "shell.execute_reply": "2023-04-21T08:54:48.931417Z"
    },
    "papermill": {
     "duration": null,
     "end_time": null,
     "exception": null,
     "start_time": null,
     "status": "completed"
    },
    "tags": []
   },
   "outputs": [],
   "source": [
    "print_mean_std_max(nn2_results, DATA)"
   ]
  },
  {
   "cell_type": "markdown",
   "id": "8349efaf",
   "metadata": {
    "papermill": {
     "duration": null,
     "end_time": null,
     "exception": null,
     "start_time": null,
     "status": "completed"
    },
    "tags": []
   },
   "source": [
    "### Dropout 3 layers"
   ]
  },
  {
   "cell_type": "code",
   "execution_count": null,
   "id": "865638db",
   "metadata": {
    "execution": {
     "iopub.execute_input": "2023-04-21T08:54:49.010318Z",
     "iopub.status.busy": "2023-04-21T08:54:49.009729Z",
     "iopub.status.idle": "2023-04-21T08:54:49.014941Z",
     "shell.execute_reply": "2023-04-21T08:54:49.014138Z"
    },
    "papermill": {
     "duration": null,
     "end_time": null,
     "exception": null,
     "start_time": null,
     "status": "completed"
    },
    "tags": []
   },
   "outputs": [],
   "source": [
    "set_seed(SEED)\n",
    "\n",
    "network_fn3=get_parametrized_dropout_net3(DEVICE=DEVICE, n_features=n_features, n_classes=n_classes)"
   ]
  },
  {
   "cell_type": "code",
   "execution_count": null,
   "id": "5321d73a",
   "metadata": {
    "execution": {
     "iopub.execute_input": "2023-04-21T08:54:49.249059Z",
     "iopub.status.busy": "2023-04-21T08:54:49.248861Z",
     "iopub.status.idle": "2023-04-21T08:55:46.478563Z",
     "shell.execute_reply": "2023-04-21T08:55:46.477244Z"
    },
    "papermill": {
     "duration": null,
     "end_time": null,
     "exception": null,
     "start_time": null,
     "status": "completed"
    },
    "tags": []
   },
   "outputs": [],
   "source": [
    "param_grid = {\n",
    "                \"epochs\": CommonHyperparams.ht_epochs,\n",
    "                \"lr\": CommonHyperparams.lr,\n",
    "                \"batch_size\": CommonHyperparams.batch_size,\n",
    "                \"drop1\": pyhopper.choice([0.1, 0.3, 0.5, 0.7], is_ordinal=True),\n",
    "                \"drop2\": pyhopper.choice([0.1, 0.3, 0.5, 0.7], is_ordinal=True),\n",
    "                \"drop3\": pyhopper.choice([0.1, 0.3, 0.5, 0.7], is_ordinal=True),\n",
    "                \"drop4\": pyhopper.choice([0.1, 0.3, 0.5, 0.7], is_ordinal=True),\n",
    "             }\n",
    "\n",
    "nn_fn3_best_params, nn_fn3_history = pyhopper_best_params(\n",
    "    model_fn=network_fn3,\n",
    "    param_grid=param_grid,\n",
    "    data=(X_train, y_train),\n",
    "    train_size=train_max_size,\n",
    "    DATA=DATA,\n",
    "    device=DEVICE,\n",
    "    time=TIME_BUDGET,\n",
    ")\n",
    "\n",
    "nn_fn3_best_params"
   ]
  },
  {
   "cell_type": "code",
   "execution_count": null,
   "id": "aa8b864e",
   "metadata": {
    "execution": {
     "iopub.execute_input": "2023-04-21T08:55:46.528054Z",
     "iopub.status.busy": "2023-04-21T08:55:46.527811Z",
     "iopub.status.idle": "2023-04-21T08:55:50.499680Z",
     "shell.execute_reply": "2023-04-21T08:55:50.498262Z"
    },
    "papermill": {
     "duration": null,
     "end_time": null,
     "exception": null,
     "start_time": null,
     "status": "completed"
    },
    "tags": []
   },
   "outputs": [],
   "source": [
    "nn3_results = test_model(\n",
    "    model_fn=network_fn3(**nn_fn3_best_params),\n",
    "    data=(X, y),\n",
    "    train_size=eval_train_max_size,\n",
    "    iters=10\n",
    ")"
   ]
  },
  {
   "cell_type": "code",
   "execution_count": null,
   "id": "fdb86765-3874-4023-8e26-b40ccc6df903",
   "metadata": {
    "execution": {
     "iopub.execute_input": "2023-04-21T08:55:50.591594Z",
     "iopub.status.busy": "2023-04-21T08:55:50.589648Z",
     "iopub.status.idle": "2023-04-21T08:55:50.603862Z",
     "shell.execute_reply": "2023-04-21T08:55:50.602598Z"
    },
    "papermill": {
     "duration": null,
     "end_time": null,
     "exception": null,
     "start_time": null,
     "status": "completed"
    },
    "tags": []
   },
   "outputs": [],
   "source": [
    "print_mean_std_max(nn3_results, DATA)"
   ]
  },
  {
   "cell_type": "markdown",
   "id": "b32873ea",
   "metadata": {
    "papermill": {
     "duration": null,
     "end_time": null,
     "exception": null,
     "start_time": null,
     "status": "completed"
    },
    "tags": []
   },
   "source": [
    " \n",
    " "
   ]
  },
  {
   "cell_type": "markdown",
   "id": "dc2493cd",
   "metadata": {
    "papermill": {
     "duration": null,
     "end_time": null,
     "exception": null,
     "start_time": null,
     "status": "completed"
    },
    "tags": []
   },
   "source": [
    " "
   ]
  },
  {
   "cell_type": "code",
   "execution_count": null,
   "id": "d8af853f",
   "metadata": {
    "papermill": {
     "duration": null,
     "end_time": null,
     "exception": null,
     "start_time": null,
     "status": "completed"
    },
    "tags": []
   },
   "outputs": [],
   "source": []
  },
  {
   "cell_type": "markdown",
   "id": "03b6a294",
   "metadata": {
    "papermill": {
     "duration": null,
     "end_time": null,
     "exception": null,
     "start_time": null,
     "status": "completed"
    },
    "tags": []
   },
   "source": [
    "## Random Subspace"
   ]
  },
  {
   "cell_type": "code",
   "execution_count": null,
   "id": "1137e0ac",
   "metadata": {
    "papermill": {
     "duration": null,
     "end_time": null,
     "exception": null,
     "start_time": null,
     "status": "completed"
    },
    "tags": []
   },
   "outputs": [],
   "source": [
    "set_seed(SEED)\n",
    "\n",
    "get_bagged_fn=get_parametrized_bagged_fn()"
   ]
  },
  {
   "cell_type": "markdown",
   "id": "adafa86b",
   "metadata": {
    "papermill": {
     "duration": null,
     "end_time": null,
     "exception": null,
     "start_time": null,
     "status": "completed"
    },
    "tags": []
   },
   "source": [
    "#### Tune hyperparams"
   ]
  },
  {
   "cell_type": "code",
   "execution_count": null,
   "id": "e7f47095",
   "metadata": {
    "papermill": {
     "duration": null,
     "end_time": null,
     "exception": null,
     "start_time": null,
     "status": "completed"
    },
    "tags": []
   },
   "outputs": [],
   "source": [
    "param_grid = {\n",
    "    \"first_hidden_layer\": CommonHyperparams.ht_mask_size,\n",
    "    \"second_hidden_layer\": CommonHyperparams.ht_target_size,\n",
    "    \"batch_size\": CommonHyperparams.batch_size,\n",
    "    \"learning_rate_init\": CommonHyperparams.lr, \n",
    "    \"max_iter\": CommonHyperparams.ht_epochs\n",
    "}"
   ]
  },
  {
   "cell_type": "code",
   "execution_count": null,
   "id": "91b166ef",
   "metadata": {
    "papermill": {
     "duration": null,
     "end_time": null,
     "exception": null,
     "start_time": null,
     "status": "completed"
    },
    "tags": []
   },
   "outputs": [],
   "source": [
    "bagged_best, bagged_history = pyhopper_best_params(\n",
    "    model_fn=get_bagged_fn, \n",
    "    param_grid=param_grid,\n",
    "    data=(X_train, y_train),\n",
    "    train_size=train_max_size,\n",
    "    DATA=DATA,\n",
    "    device='cpu',\n",
    "    time=TIME_BUDGET\n",
    ")"
   ]
  },
  {
   "cell_type": "markdown",
   "id": "8992ad48",
   "metadata": {
    "papermill": {
     "duration": null,
     "end_time": null,
     "exception": null,
     "start_time": null,
     "status": "completed"
    },
    "tags": []
   },
   "source": [
    "#### Use best hyperparams"
   ]
  },
  {
   "cell_type": "code",
   "execution_count": null,
   "id": "a926f25f",
   "metadata": {
    "papermill": {
     "duration": null,
     "end_time": null,
     "exception": null,
     "start_time": null,
     "status": "completed"
    },
    "tags": []
   },
   "outputs": [],
   "source": [
    "bagging_results = test_model(\n",
    "    model_fn=get_bagged_fn(**bagged_best),\n",
    "    data=(X, y),\n",
    "    train_size=eval_train_max_size,\n",
    "    iters=10\n",
    ")"
   ]
  },
  {
   "cell_type": "code",
   "execution_count": null,
   "id": "b227eec9",
   "metadata": {
    "papermill": {
     "duration": null,
     "end_time": null,
     "exception": null,
     "start_time": null,
     "status": "completed"
    },
    "tags": []
   },
   "outputs": [],
   "source": [
    "print_mean_std_max(bagging_results, DATA)"
   ]
  },
  {
   "cell_type": "markdown",
   "id": "6155eb76",
   "metadata": {
    "papermill": {
     "duration": null,
     "end_time": null,
     "exception": null,
     "start_time": null,
     "status": "completed"
    },
    "tags": []
   },
   "source": [
    "## Ensembles"
   ]
  },
  {
   "cell_type": "code",
   "execution_count": null,
   "id": "8a8b6c84",
   "metadata": {
    "papermill": {
     "duration": null,
     "end_time": null,
     "exception": null,
     "start_time": null,
     "status": "completed"
    },
    "tags": []
   },
   "outputs": [],
   "source": [
    "set_seed(SEED)\n",
    "\n",
    "get_ensembles=get_parametrized_ensemble_fn()"
   ]
  },
  {
   "cell_type": "markdown",
   "id": "1bdb574f",
   "metadata": {
    "papermill": {
     "duration": null,
     "end_time": null,
     "exception": null,
     "start_time": null,
     "status": "completed"
    },
    "tags": []
   },
   "source": [
    "#### Tune"
   ]
  },
  {
   "cell_type": "code",
   "execution_count": null,
   "id": "4b38dbd2",
   "metadata": {
    "papermill": {
     "duration": null,
     "end_time": null,
     "exception": null,
     "start_time": null,
     "status": "completed"
    },
    "tags": []
   },
   "outputs": [],
   "source": [
    "param_grid = {\n",
    "    \"n_models\": CommonHyperparams.ht_mask_no,\n",
    "    \"first_hidden_layer\": CommonHyperparams.ht_mask_size,\n",
    "    \"second_hidden_layer\": CommonHyperparams.ht_target_size,\n",
    "    \"batch_size\": CommonHyperparams.batch_size,\n",
    "    \"learning_rate_init\": CommonHyperparams.lr, \n",
    "    \"max_iter\": CommonHyperparams.ht_epochs\n",
    "}"
   ]
  },
  {
   "cell_type": "code",
   "execution_count": null,
   "id": "774bf561",
   "metadata": {
    "papermill": {
     "duration": null,
     "end_time": null,
     "exception": null,
     "start_time": null,
     "status": "completed"
    },
    "tags": []
   },
   "outputs": [],
   "source": [
    "ensemble_best, ensemble_history = pyhopper_best_params(\n",
    "    model_fn=get_ensembles, \n",
    "    param_grid=param_grid,\n",
    "    data=(X_train, y_train),\n",
    "    train_size=train_max_size,\n",
    "    DATA=DATA,\n",
    "    device='cpu',\n",
    "    time=TIME_BUDGET\n",
    ")"
   ]
  },
  {
   "cell_type": "markdown",
   "id": "7db2bc0d",
   "metadata": {
    "papermill": {
     "duration": null,
     "end_time": null,
     "exception": null,
     "start_time": null,
     "status": "completed"
    },
    "tags": []
   },
   "source": [
    "#### Use best"
   ]
  },
  {
   "cell_type": "code",
   "execution_count": null,
   "id": "a0ead0a5",
   "metadata": {
    "papermill": {
     "duration": null,
     "end_time": null,
     "exception": null,
     "start_time": null,
     "status": "completed"
    },
    "tags": []
   },
   "outputs": [],
   "source": [
    "ensemble_results = test_model(\n",
    "    model_fn=get_ensembles(**ensemble_best),\n",
    "    data=(X, y),\n",
    "    train_size=eval_train_max_size,\n",
    "    iters=10\n",
    ")"
   ]
  },
  {
   "cell_type": "code",
   "execution_count": null,
   "id": "25e36280",
   "metadata": {
    "papermill": {
     "duration": null,
     "end_time": null,
     "exception": null,
     "start_time": null,
     "status": "completed"
    },
    "tags": []
   },
   "outputs": [],
   "source": [
    "print_mean_std_max(ensemble_results, DATA)"
   ]
  },
  {
   "cell_type": "markdown",
   "id": "98f6ec90",
   "metadata": {
    "papermill": {
     "duration": null,
     "end_time": null,
     "exception": null,
     "start_time": null,
     "status": "completed"
    },
    "tags": []
   },
   "source": [
    " "
   ]
  },
  {
   "cell_type": "markdown",
   "id": "04a4102b",
   "metadata": {
    "papermill": {
     "duration": null,
     "end_time": null,
     "exception": null,
     "start_time": null,
     "status": "completed"
    },
    "tags": []
   },
   "source": [
    "## XGBoost"
   ]
  },
  {
   "cell_type": "code",
   "execution_count": null,
   "id": "26c6c194",
   "metadata": {
    "papermill": {
     "duration": null,
     "end_time": null,
     "exception": null,
     "start_time": null,
     "status": "completed"
    },
    "tags": []
   },
   "outputs": [],
   "source": [
    "set_seed(SEED)\n",
    "\n",
    "get_xgboost = get_parametrized_xgboost_fn(seed=SEED)"
   ]
  },
  {
   "cell_type": "markdown",
   "id": "10e8fb44",
   "metadata": {
    "papermill": {
     "duration": null,
     "end_time": null,
     "exception": null,
     "start_time": null,
     "status": "completed"
    },
    "tags": []
   },
   "source": [
    "#### Hyperparam tuning"
   ]
  },
  {
   "cell_type": "code",
   "execution_count": null,
   "id": "9ef41d01",
   "metadata": {
    "papermill": {
     "duration": null,
     "end_time": null,
     "exception": null,
     "start_time": null,
     "status": "completed"
    },
    "tags": []
   },
   "outputs": [],
   "source": [
    "param_grid = {\n",
    "                'n_estimators': pyhopper.int(50, 3000, multiple_of=50),\n",
    "                'max_depth': pyhopper.choice([2, 3, 5, 10, 15]),\n",
    "                'learning_rate': pyhopper.float(1e-5,1e-1, log=True),\n",
    "                'min_child_weight': pyhopper.choice([1, 2, 4, 8, 16, 32]),\n",
    "                'gamma': pyhopper.choice([0, 0.001, 0.1, 1]),\n",
    "             }\n",
    "\n",
    "xgbt_best1, xgbt_history1 = pyhopper_best_params(\n",
    "    model_fn=get_xgboost, \n",
    "    param_grid=param_grid,\n",
    "    data=(X_train, y_train),\n",
    "    train_size=train_max_size,\n",
    "    DATA=DATA,\n",
    "    device='cpu',\n",
    "    time=TIME_BUDGET\n",
    ")"
   ]
  },
  {
   "cell_type": "code",
   "execution_count": null,
   "id": "79520bf6",
   "metadata": {
    "papermill": {
     "duration": null,
     "end_time": null,
     "exception": null,
     "start_time": null,
     "status": "completed"
    },
    "tags": []
   },
   "outputs": [],
   "source": []
  },
  {
   "cell_type": "code",
   "execution_count": null,
   "id": "62446d09",
   "metadata": {
    "papermill": {
     "duration": null,
     "end_time": null,
     "exception": null,
     "start_time": null,
     "status": "completed"
    },
    "tags": []
   },
   "outputs": [],
   "source": [
    "param_grid = {\n",
    "                'subsample': pyhopper.choice([0.5, 0.6, 0.7, 0.8, 0.9, 1]),\n",
    "                'reg_lambda': pyhopper.float(1e-5, 10, init=0, log=True),\n",
    "                'reg_alpha': pyhopper.float(1e-5, 10, init=0, log=True),\n",
    "             }\n",
    "\n",
    "\n",
    "xgbt_best2, xgbt_history2 = pyhopper_best_params(\n",
    "    model_fn=get_xgboost,\n",
    "    param_grid=param_grid,\n",
    "    data=(X_train, y_train),\n",
    "    train_size=train_max_size,\n",
    "    DATA=DATA,\n",
    "    device='cpu',\n",
    "    time=TIME_BUDGET,\n",
    "    default_params=xgbt_best1\n",
    ")"
   ]
  },
  {
   "cell_type": "markdown",
   "id": "919c1178",
   "metadata": {
    "papermill": {
     "duration": null,
     "end_time": null,
     "exception": null,
     "start_time": null,
     "status": "completed"
    },
    "tags": []
   },
   "source": [
    "#### Best Params"
   ]
  },
  {
   "cell_type": "code",
   "execution_count": null,
   "id": "d03a1901",
   "metadata": {
    "papermill": {
     "duration": null,
     "end_time": null,
     "exception": null,
     "start_time": null,
     "status": "completed"
    },
    "tags": []
   },
   "outputs": [],
   "source": [
    "xgboost_best = {**xgbt_best1, **xgbt_best2}"
   ]
  },
  {
   "cell_type": "code",
   "execution_count": null,
   "id": "aeed105e",
   "metadata": {
    "papermill": {
     "duration": null,
     "end_time": null,
     "exception": null,
     "start_time": null,
     "status": "completed"
    },
    "tags": []
   },
   "outputs": [],
   "source": [
    "xgb_dframe = test_model(\n",
    "    model_fn=get_xgboost(**xgboost_best),\n",
    "    data=(X, y),\n",
    "    train_size=eval_train_max_size,\n",
    "    iters=10\n",
    ")"
   ]
  },
  {
   "cell_type": "code",
   "execution_count": null,
   "id": "72d09820",
   "metadata": {
    "papermill": {
     "duration": null,
     "end_time": null,
     "exception": null,
     "start_time": null,
     "status": "completed"
    },
    "tags": []
   },
   "outputs": [],
   "source": [
    "print_mean_std_max(xgb_dframe, DATA)"
   ]
  },
  {
   "cell_type": "markdown",
   "id": "dcdb5810-96c6-4010-af1e-a59b0b9f6b65",
   "metadata": {
    "papermill": {
     "duration": null,
     "end_time": null,
     "exception": null,
     "start_time": null,
     "status": "completed"
    },
    "tags": []
   },
   "source": [
    "## Random forest"
   ]
  },
  {
   "cell_type": "code",
   "execution_count": null,
   "id": "6758728e-d6c8-4d23-9aa7-ba7998704411",
   "metadata": {
    "papermill": {
     "duration": null,
     "end_time": null,
     "exception": null,
     "start_time": null,
     "status": "completed"
    },
    "tags": []
   },
   "outputs": [],
   "source": [
    "set_seed(SEED)\n",
    "\n",
    "get_rf = get_parametrized_rf_fn(seed=SEED)"
   ]
  },
  {
   "cell_type": "markdown",
   "id": "f73ccafa",
   "metadata": {
    "papermill": {
     "duration": null,
     "end_time": null,
     "exception": null,
     "start_time": null,
     "status": "completed"
    },
    "tags": []
   },
   "source": [
    "#### Find hyperparams"
   ]
  },
  {
   "cell_type": "code",
   "execution_count": null,
   "id": "8dc080fd",
   "metadata": {
    "papermill": {
     "duration": null,
     "end_time": null,
     "exception": null,
     "start_time": null,
     "status": "completed"
    },
    "tags": []
   },
   "outputs": [],
   "source": [
    "param_grid = {\n",
    "    'n_estimators': pyhopper.int(50, 3000, multiple_of=50),\n",
    "    'max_features': pyhopper.choice([None, 'sqrt', 0.2, 0.3, 0.5, 0.7]),\n",
    "    'criterion' : pyhopper.choice(['gini', 'entropy']),\n",
    "    'max_depth': pyhopper.choice([None, 2, 4, 8, 16]),\n",
    " }\n",
    "\n",
    "rf_best, rf_history = pyhopper_best_params(\n",
    "    model_fn=get_rf,\n",
    "    param_grid=param_grid,\n",
    "    data=(X_train, y_train),\n",
    "    train_size=train_max_size,\n",
    "    DATA=DATA,\n",
    "    device='cpu',\n",
    "    time=TIME_BUDGET,\n",
    ")\n",
    "\n",
    "rf_best"
   ]
  },
  {
   "cell_type": "markdown",
   "id": "dcf8eaa2",
   "metadata": {
    "papermill": {
     "duration": null,
     "end_time": null,
     "exception": null,
     "start_time": null,
     "status": "completed"
    },
    "tags": []
   },
   "source": [
    "#### Use best params"
   ]
  },
  {
   "cell_type": "code",
   "execution_count": null,
   "id": "3325fd3b-8a85-46eb-896c-46bf8d768a89",
   "metadata": {
    "papermill": {
     "duration": null,
     "end_time": null,
     "exception": null,
     "start_time": null,
     "status": "completed"
    },
    "tags": []
   },
   "outputs": [],
   "source": [
    "rf_dframe = test_model(\n",
    "    model_fn=get_rf(**rf_best), \n",
    "    data=(X, y),\n",
    "    train_size=eval_train_max_size,\n",
    "    iters=10\n",
    ")"
   ]
  },
  {
   "cell_type": "code",
   "execution_count": null,
   "id": "7a543f33",
   "metadata": {
    "papermill": {
     "duration": null,
     "end_time": null,
     "exception": null,
     "start_time": null,
     "status": "completed"
    },
    "tags": []
   },
   "outputs": [],
   "source": [
    "print_mean_std_max(rf_dframe, DATA)"
   ]
  },
  {
   "cell_type": "markdown",
   "id": "0d4ba93d",
   "metadata": {
    "papermill": {
     "duration": null,
     "end_time": null,
     "exception": null,
     "start_time": null,
     "status": "completed"
    },
    "tags": []
   },
   "source": [
    "    \n",
    "    \n",
    "    \n",
    "    \n",
    "    \n",
    "    \n",
    "    "
   ]
  },
  {
   "cell_type": "code",
   "execution_count": null,
   "id": "c983d051",
   "metadata": {
    "papermill": {
     "duration": null,
     "end_time": null,
     "exception": null,
     "start_time": null,
     "status": "completed"
    },
    "tags": []
   },
   "outputs": [],
   "source": []
  },
  {
   "cell_type": "code",
   "execution_count": null,
   "id": "8d03a153",
   "metadata": {
    "papermill": {
     "duration": null,
     "end_time": null,
     "exception": null,
     "start_time": null,
     "status": "completed"
    },
    "tags": []
   },
   "outputs": [],
   "source": []
  },
  {
   "cell_type": "markdown",
   "id": "aa987cfe",
   "metadata": {
    "papermill": {
     "duration": null,
     "end_time": null,
     "exception": null,
     "start_time": null,
     "status": "completed"
    },
    "tags": []
   },
   "source": [
    "# Collect analytics"
   ]
  },
  {
   "cell_type": "code",
   "execution_count": null,
   "id": "159dafb9",
   "metadata": {
    "papermill": {
     "duration": null,
     "end_time": null,
     "exception": null,
     "start_time": null,
     "status": "completed"
    },
    "tags": []
   },
   "outputs": [],
   "source": [
    "hyper_results.groupby(\"Class\")['Metric'].agg(['mean', 'std', 'max'])"
   ]
  },
  {
   "cell_type": "code",
   "execution_count": null,
   "id": "e9878479",
   "metadata": {
    "papermill": {
     "duration": null,
     "end_time": null,
     "exception": null,
     "start_time": null,
     "status": "completed"
    },
    "tags": []
   },
   "outputs": [],
   "source": []
  },
  {
   "cell_type": "code",
   "execution_count": null,
   "id": "6ffd69a1",
   "metadata": {
    "papermill": {
     "duration": null,
     "end_time": null,
     "exception": null,
     "start_time": null,
     "status": "completed"
    },
    "tags": []
   },
   "outputs": [],
   "source": [
    "d = {}"
   ]
  },
  {
   "cell_type": "code",
   "execution_count": null,
   "id": "6c53193f",
   "metadata": {
    "papermill": {
     "duration": null,
     "end_time": null,
     "exception": null,
     "start_time": null,
     "status": "completed"
    },
    "tags": []
   },
   "outputs": [],
   "source": [
    "d['Random forest'] = rf_dframe.groupby(\"Class\")['Metric'].agg(['mean', 'std', 'max'])\n",
    "d['Hypernet'] = hyper_results.groupby(\"Class\")['Metric'].agg(['mean', 'std', 'max'])\n",
    "\n",
    "d['Dropout_1'] = nn1_results.groupby(\"Class\")['Metric'].agg(['mean', 'std', 'max'])\n",
    "d['Dropout_2'] = nn2_results.groupby(\"Class\")['Metric'].agg(['mean', 'std', 'max'])\n",
    "d['Dropout_3'] = nn3_results.groupby(\"Class\")['Metric'].agg(['mean', 'std', 'max'])\n",
    "d['Node'] = node_results.groupby(\"Class\")['Metric'].agg(['mean', 'std', 'max'])\n",
    "d['XGBoost'] = xgb_dframe.groupby(\"Class\")['Metric'].agg(['mean', 'std', 'max'])"
   ]
  },
  {
   "cell_type": "code",
   "execution_count": null,
   "id": "7f523ee2",
   "metadata": {
    "papermill": {
     "duration": null,
     "end_time": null,
     "exception": null,
     "start_time": null,
     "status": "completed"
    },
    "tags": []
   },
   "outputs": [],
   "source": [
    "all_models_df=pd.concat(d, axis=0)\n",
    "all_models_df"
   ]
  },
  {
   "cell_type": "code",
   "execution_count": null,
   "id": "f076f2a3",
   "metadata": {
    "papermill": {
     "duration": null,
     "end_time": null,
     "exception": null,
     "start_time": null,
     "status": "completed"
    },
    "tags": []
   },
   "outputs": [],
   "source": []
  },
  {
   "cell_type": "code",
   "execution_count": null,
   "id": "d466404a",
   "metadata": {
    "papermill": {
     "duration": null,
     "end_time": null,
     "exception": null,
     "start_time": null,
     "status": "completed"
    },
    "tags": []
   },
   "outputs": [],
   "source": []
  },
  {
   "cell_type": "code",
   "execution_count": null,
   "id": "6aac13dc",
   "metadata": {
    "papermill": {
     "duration": null,
     "end_time": null,
     "exception": null,
     "start_time": null,
     "status": "completed"
    },
    "tags": []
   },
   "outputs": [],
   "source": []
  },
  {
   "cell_type": "code",
   "execution_count": null,
   "id": "93f8b898",
   "metadata": {
    "papermill": {
     "duration": null,
     "end_time": null,
     "exception": null,
     "start_time": null,
     "status": "completed"
    },
    "tags": []
   },
   "outputs": [],
   "source": []
  },
  {
   "cell_type": "code",
   "execution_count": null,
   "id": "60823a71",
   "metadata": {
    "papermill": {
     "duration": null,
     "end_time": null,
     "exception": null,
     "start_time": null,
     "status": "completed"
    },
    "tags": []
   },
   "outputs": [],
   "source": [
    "os.environ['COMET_KEY']"
   ]
  },
  {
   "cell_type": "code",
   "execution_count": null,
   "id": "4a1f9da0",
   "metadata": {
    "papermill": {
     "duration": null,
     "end_time": null,
     "exception": null,
     "start_time": null,
     "status": "completed"
    },
    "tags": []
   },
   "outputs": [],
   "source": []
  },
  {
   "cell_type": "code",
   "execution_count": null,
   "id": "80d25d88",
   "metadata": {
    "papermill": {
     "duration": null,
     "end_time": null,
     "exception": null,
     "start_time": null,
     "status": "completed"
    },
    "tags": []
   },
   "outputs": [],
   "source": [
    "all_models_df.to_csv(f\"{DATA}_metrics.csv\")"
   ]
  },
  {
   "cell_type": "code",
   "execution_count": null,
   "id": "0654fd20",
   "metadata": {
    "papermill": {
     "duration": null,
     "end_time": null,
     "exception": null,
     "start_time": null,
     "status": "completed"
    },
    "tags": []
   },
   "outputs": [],
   "source": [
    "exp = Experiment(os.environ.get(\"COMET_KEY\"), 'hypernet-uci-tune')\n",
    "# exp.log_parameters({\"epochs\": epochs, \"mask_size\": mask_size, \"masks_no\": masks_no, \"data_size\": data_size})\n",
    "exp.add_tag(f\"hypernet-tune2{DATA}\")\n",
    "exp.log_table(f\"{DATA}_metrics.csv\", all_models_df)"
   ]
  },
  {
   "cell_type": "markdown",
   "id": "ce733782",
   "metadata": {
    "papermill": {
     "duration": null,
     "end_time": null,
     "exception": null,
     "start_time": null,
     "status": "completed"
    },
    "tags": []
   },
   "source": [
    "### Replace some data in existing"
   ]
  },
  {
   "cell_type": "code",
   "execution_count": null,
   "id": "a0a197e0",
   "metadata": {
    "papermill": {
     "duration": null,
     "end_time": null,
     "exception": null,
     "start_time": null,
     "status": "completed"
    },
    "tags": []
   },
   "outputs": [],
   "source": [
    "# tmp_df = pd.concat(d, axis=0)\n",
    "# tmp_df = tmp_df.reset_index()\n",
    "# tmp_df = tmp_df.rename(columns={tmp_df.columns[0]: DATA})\n",
    "\n",
    "# tmp_df"
   ]
  },
  {
   "cell_type": "code",
   "execution_count": null,
   "id": "8fdbf166",
   "metadata": {
    "papermill": {
     "duration": null,
     "end_time": null,
     "exception": null,
     "start_time": null,
     "status": "completed"
    },
    "tags": []
   },
   "outputs": [],
   "source": [
    "# all_models_df = pd.read_csv(f\"{DATA}_metrics.csv\")\n",
    "# all_models_df = all_models_df.rename(columns={all_models_df.columns[0]: DATA})\n",
    "# all_models_df = all_models_df.drop(all_models_df[all_models_df.iloc[:, 0] == 'Hypernet'].index)\n",
    "# all_models_df = all_models_df.drop(all_models_df[all_models_df.iloc[:, 0] == 'HypernetPCA'].index)\n",
    "\n",
    "# all_models_df"
   ]
  },
  {
   "cell_type": "code",
   "execution_count": null,
   "id": "d2cc3246",
   "metadata": {
    "papermill": {
     "duration": null,
     "end_time": null,
     "exception": null,
     "start_time": null,
     "status": "completed"
    },
    "tags": []
   },
   "outputs": [],
   "source": [
    "# all_models_df = pd.concat([all_models_df, tmp_df])\n",
    "# all_models_df"
   ]
  },
  {
   "cell_type": "code",
   "execution_count": null,
   "id": "fff93119",
   "metadata": {
    "papermill": {
     "duration": null,
     "end_time": null,
     "exception": null,
     "start_time": null,
     "status": "completed"
    },
    "tags": []
   },
   "outputs": [],
   "source": []
  },
  {
   "cell_type": "code",
   "execution_count": null,
   "id": "9a5ebc5e",
   "metadata": {
    "papermill": {
     "duration": null,
     "end_time": null,
     "exception": null,
     "start_time": null,
     "status": "completed"
    },
    "tags": []
   },
   "outputs": [],
   "source": []
  },
  {
   "cell_type": "code",
   "execution_count": null,
   "id": "e6b6d6f5",
   "metadata": {
    "papermill": {
     "duration": null,
     "end_time": null,
     "exception": null,
     "start_time": null,
     "status": "completed"
    },
    "tags": []
   },
   "outputs": [],
   "source": [
    "f\"{DATA}_metrics.csv\""
   ]
  },
  {
   "cell_type": "code",
   "execution_count": null,
   "id": "9a061329",
   "metadata": {
    "papermill": {
     "duration": null,
     "end_time": null,
     "exception": null,
     "start_time": null,
     "status": "completed"
    },
    "tags": []
   },
   "outputs": [],
   "source": [
    "all_models_df = pd.read_csv(f\"{DATA}_metrics.csv\")"
   ]
  },
  {
   "cell_type": "code",
   "execution_count": null,
   "id": "e2fb29bc",
   "metadata": {
    "papermill": {
     "duration": null,
     "end_time": null,
     "exception": null,
     "start_time": null,
     "status": "completed"
    },
    "tags": []
   },
   "outputs": [],
   "source": [
    "all_models_df.reset_index()"
   ]
  },
  {
   "cell_type": "code",
   "execution_count": null,
   "id": "63595ccd",
   "metadata": {
    "papermill": {
     "duration": null,
     "end_time": null,
     "exception": null,
     "start_time": null,
     "status": "completed"
    },
    "tags": []
   },
   "outputs": [],
   "source": []
  },
  {
   "cell_type": "code",
   "execution_count": null,
   "id": "fcccc753",
   "metadata": {
    "papermill": {
     "duration": null,
     "end_time": null,
     "exception": null,
     "start_time": null,
     "status": "completed"
    },
    "tags": []
   },
   "outputs": [],
   "source": []
  },
  {
   "cell_type": "code",
   "execution_count": null,
   "id": "1bf024fd",
   "metadata": {
    "papermill": {
     "duration": null,
     "end_time": null,
     "exception": null,
     "start_time": null,
     "status": "completed"
    },
    "tags": []
   },
   "outputs": [],
   "source": [
    "# all_models_df = all_models_df.drop(all_models_df.columns[0], axis=1)\n",
    "# all_models_df"
   ]
  },
  {
   "cell_type": "code",
   "execution_count": null,
   "id": "04ca3f98",
   "metadata": {
    "papermill": {
     "duration": null,
     "end_time": null,
     "exception": null,
     "start_time": null,
     "status": "completed"
    },
    "tags": []
   },
   "outputs": [],
   "source": []
  },
  {
   "cell_type": "code",
   "execution_count": null,
   "id": "398b55e1",
   "metadata": {
    "papermill": {
     "duration": null,
     "end_time": null,
     "exception": null,
     "start_time": null,
     "status": "completed"
    },
    "tags": []
   },
   "outputs": [],
   "source": []
  },
  {
   "cell_type": "code",
   "execution_count": null,
   "id": "c69f547c",
   "metadata": {
    "papermill": {
     "duration": null,
     "end_time": null,
     "exception": null,
     "start_time": null,
     "status": "completed"
    },
    "tags": []
   },
   "outputs": [],
   "source": []
  },
  {
   "cell_type": "code",
   "execution_count": null,
   "id": "7beddf19",
   "metadata": {
    "papermill": {
     "duration": null,
     "end_time": null,
     "exception": null,
     "start_time": null,
     "status": "completed"
    },
    "tags": []
   },
   "outputs": [],
   "source": [
    "tmp = all_models_df"
   ]
  },
  {
   "cell_type": "code",
   "execution_count": null,
   "id": "1996040f",
   "metadata": {
    "papermill": {
     "duration": null,
     "end_time": null,
     "exception": null,
     "start_time": null,
     "status": "completed"
    },
    "tags": []
   },
   "outputs": [],
   "source": [
    "tmp = tmp.rename(columns={tmp.columns[0]: DATA})"
   ]
  },
  {
   "cell_type": "code",
   "execution_count": null,
   "id": "b9ee21a9",
   "metadata": {
    "papermill": {
     "duration": null,
     "end_time": null,
     "exception": null,
     "start_time": null,
     "status": "completed"
    },
    "tags": []
   },
   "outputs": [],
   "source": [
    "tmp[tmp['Class'] == \"balanced_accuracy\"]"
   ]
  },
  {
   "cell_type": "code",
   "execution_count": null,
   "id": "d49403f0",
   "metadata": {
    "papermill": {
     "duration": null,
     "end_time": null,
     "exception": null,
     "start_time": null,
     "status": "completed"
    },
    "tags": []
   },
   "outputs": [],
   "source": []
  }
 ],
 "metadata": {
  "kernelspec": {
   "display_name": "Python 3 (ipykernel)",
   "language": "python",
   "name": "python3"
  },
  "language_info": {
   "codemirror_mode": {
    "name": "ipython",
    "version": 3
   },
   "file_extension": ".py",
   "mimetype": "text/x-python",
   "name": "python",
   "nbconvert_exporter": "python",
   "pygments_lexer": "ipython3",
   "version": "3.9.16"
  },
  "papermill": {
   "default_parameters": {},
   "duration": 11080.562867,
   "end_time": "2023-04-21T12:45:17.628430",
   "environment_variables": {},
   "exception": null,
   "input_path": "UCI-3.ipynb",
   "output_path": "UCI-3.ipynb",
   "parameters": {},
   "start_time": "2023-04-21T09:40:37.065563",
   "version": "2.4.0"
  }
 },
 "nbformat": 4,
 "nbformat_minor": 5
}
