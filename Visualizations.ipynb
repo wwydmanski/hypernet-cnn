{
 "cells": [
  {
   "cell_type": "code",
   "execution_count": null,
   "id": "e4291b58-9154-4a87-ab71-dd595609a458",
   "metadata": {},
   "outputs": [],
   "source": [
    "import numpy as np\n",
    "import pandas as pd\n",
    "import altair as alt"
   ]
  },
  {
   "cell_type": "code",
   "execution_count": 42,
   "id": "37bf9ebb-f53a-4af6-b8d7-e0e76b2e435d",
   "metadata": {},
   "outputs": [],
   "source": [
    "# Regex for fixing newlines:\n",
    "# (\\d{3})\\n*([^\\s]*)\\n*([^\\s]*)\\n*([^\\s]*)\\n*([^\\s]*)\\n\n",
    "df = pd.read_csv(\"tmp.csv\", header=None)\n",
    "df.columns=['masks', '500-acc', '500-loss', '100-acc', '100-loss']"
   ]
  },
  {
   "cell_type": "code",
   "execution_count": 43,
   "id": "cb145311-83b6-405e-8c1a-f737f66d315b",
   "metadata": {},
   "outputs": [],
   "source": [
    "new_df = df.melt('masks')"
   ]
  },
  {
   "cell_type": "code",
   "execution_count": 44,
   "id": "a12f30cc-f12d-4a30-b1fe-59602caa5312",
   "metadata": {},
   "outputs": [],
   "source": [
    "new_df = new_df[new_df['variable'].apply(lambda x: 'acc' in x)]"
   ]
  },
  {
   "cell_type": "code",
   "execution_count": 56,
   "id": "b8cd5178-5550-4a88-8715-aac9171923ac",
   "metadata": {},
   "outputs": [
    {
     "data": {
      "text/html": [
       "\n",
       "<div id=\"altair-viz-6c8e1bd2455640bba72dcdc440eedf8e\"></div>\n",
       "<script type=\"text/javascript\">\n",
       "  (function(spec, embedOpt){\n",
       "    let outputDiv = document.currentScript.previousElementSibling;\n",
       "    if (outputDiv.id !== \"altair-viz-6c8e1bd2455640bba72dcdc440eedf8e\") {\n",
       "      outputDiv = document.getElementById(\"altair-viz-6c8e1bd2455640bba72dcdc440eedf8e\");\n",
       "    }\n",
       "    const paths = {\n",
       "      \"vega\": \"https://cdn.jsdelivr.net/npm//vega@5?noext\",\n",
       "      \"vega-lib\": \"https://cdn.jsdelivr.net/npm//vega-lib?noext\",\n",
       "      \"vega-lite\": \"https://cdn.jsdelivr.net/npm//vega-lite@4.8.1?noext\",\n",
       "      \"vega-embed\": \"https://cdn.jsdelivr.net/npm//vega-embed@6?noext\",\n",
       "    };\n",
       "\n",
       "    function loadScript(lib) {\n",
       "      return new Promise(function(resolve, reject) {\n",
       "        var s = document.createElement('script');\n",
       "        s.src = paths[lib];\n",
       "        s.async = true;\n",
       "        s.onload = () => resolve(paths[lib]);\n",
       "        s.onerror = () => reject(`Error loading script: ${paths[lib]}`);\n",
       "        document.getElementsByTagName(\"head\")[0].appendChild(s);\n",
       "      });\n",
       "    }\n",
       "\n",
       "    function showError(err) {\n",
       "      outputDiv.innerHTML = `<div class=\"error\" style=\"color:red;\">${err}</div>`;\n",
       "      throw err;\n",
       "    }\n",
       "\n",
       "    function displayChart(vegaEmbed) {\n",
       "      vegaEmbed(outputDiv, spec, embedOpt)\n",
       "        .catch(err => showError(`Javascript Error: ${err.message}<br>This usually means there's a typo in your chart specification. See the javascript console for the full traceback.`));\n",
       "    }\n",
       "\n",
       "    if(typeof define === \"function\" && define.amd) {\n",
       "      requirejs.config({paths});\n",
       "      require([\"vega-embed\"], displayChart, err => showError(`Error loading script: ${err.message}`));\n",
       "    } else if (typeof vegaEmbed === \"function\") {\n",
       "      displayChart(vegaEmbed);\n",
       "    } else {\n",
       "      loadScript(\"vega\")\n",
       "        .then(() => loadScript(\"vega-lite\"))\n",
       "        .then(() => loadScript(\"vega-embed\"))\n",
       "        .catch(showError)\n",
       "        .then(() => displayChart(vegaEmbed));\n",
       "    }\n",
       "  })({\"config\": {\"view\": {\"continuousWidth\": 400, \"continuousHeight\": 300}}, \"data\": {\"name\": \"data-ef3e842a624e9538302c8ce19326a40f\"}, \"facet\": {\"column\": {\"type\": \"nominal\", \"field\": \"variable\"}}, \"spec\": {\"layer\": [{\"mark\": \"bar\", \"encoding\": {\"x\": {\"type\": \"nominal\", \"field\": \"masks\"}, \"y\": {\"type\": \"quantitative\", \"aggregate\": \"max\", \"field\": \"value\", \"scale\": {\"zero\": false}}}, \"transform\": [{\"filter\": \"datum.masks < 700\"}]}, {\"mark\": {\"type\": \"rule\", \"strokeDash\": [5, 1]}, \"encoding\": {\"y\": {\"type\": \"quantitative\", \"field\": \"value\"}}, \"transform\": [{\"filter\": \"datum.masks >= 700\"}]}]}, \"$schema\": \"https://vega.github.io/schema/vega-lite/v4.8.1.json\", \"datasets\": {\"data-ef3e842a624e9538302c8ce19326a40f\": [{\"masks\": 500, \"variable\": \"500-acc\", \"value\": 86.86}, {\"masks\": 500, \"variable\": \"500-acc\", \"value\": 87.02}, {\"masks\": 500, \"variable\": \"500-acc\", \"value\": 86.8}, {\"masks\": 500, \"variable\": \"500-acc\", \"value\": 84.87}, {\"masks\": 500, \"variable\": \"500-acc\", \"value\": 81.0}, {\"masks\": 600, \"variable\": \"500-acc\", \"value\": 86.02}, {\"masks\": 600, \"variable\": \"500-acc\", \"value\": 86.83}, {\"masks\": 600, \"variable\": \"500-acc\", \"value\": 86.89}, {\"masks\": 600, \"variable\": \"500-acc\", \"value\": 86.97}, {\"masks\": 600, \"variable\": \"500-acc\", \"value\": 86.96}, {\"masks\": 600, \"variable\": \"500-acc\", \"value\": 86.81}, {\"masks\": 600, \"variable\": \"500-acc\", \"value\": 84.86}, {\"masks\": 400, \"variable\": \"500-acc\", \"value\": 87.12}, {\"masks\": 400, \"variable\": \"500-acc\", \"value\": 87.31}, {\"masks\": 400, \"variable\": \"500-acc\", \"value\": 87.61}, {\"masks\": 400, \"variable\": \"500-acc\", \"value\": 87.22}, {\"masks\": 400, \"variable\": \"500-acc\", \"value\": 85.8}, {\"masks\": 400, \"variable\": \"500-acc\", \"value\": 80.49}, {\"masks\": 300, \"variable\": \"500-acc\", \"value\": 88.16}, {\"masks\": 300, \"variable\": \"500-acc\", \"value\": 88.31}, {\"masks\": 784, \"variable\": \"500-acc\", \"value\": 85.0}, {\"masks\": 500, \"variable\": \"100-acc\", \"value\": 71.23}, {\"masks\": 500, \"variable\": \"100-acc\", \"value\": 70.23}, {\"masks\": 500, \"variable\": \"100-acc\", \"value\": 70.66}, {\"masks\": 500, \"variable\": \"100-acc\", \"value\": 68.02}, {\"masks\": 500, \"variable\": \"100-acc\", \"value\": 66.06}, {\"masks\": 600, \"variable\": \"100-acc\", \"value\": 69.75}, {\"masks\": 600, \"variable\": \"100-acc\", \"value\": 70.14}, {\"masks\": 600, \"variable\": \"100-acc\", \"value\": 70.58}, {\"masks\": 600, \"variable\": \"100-acc\", \"value\": 70.7}, {\"masks\": 600, \"variable\": \"100-acc\", \"value\": 70.63}, {\"masks\": 600, \"variable\": \"100-acc\", \"value\": 69.66}, {\"masks\": 600, \"variable\": \"100-acc\", \"value\": 67.24}, {\"masks\": 400, \"variable\": \"100-acc\", \"value\": 71.14}, {\"masks\": 400, \"variable\": \"100-acc\", \"value\": 71.52}, {\"masks\": 400, \"variable\": \"100-acc\", \"value\": 71.18}, {\"masks\": 400, \"variable\": \"100-acc\", \"value\": 71.23}, {\"masks\": 400, \"variable\": \"100-acc\", \"value\": 69.0}, {\"masks\": 400, \"variable\": \"100-acc\", \"value\": 65.93}, {\"masks\": 300, \"variable\": \"100-acc\", \"value\": 72.39}, {\"masks\": 300, \"variable\": \"100-acc\", \"value\": 71.18}, {\"masks\": 784, \"variable\": \"100-acc\", \"value\": 69.22}]}}, {\"mode\": \"vega-lite\"});\n",
       "</script>"
      ],
      "text/plain": [
       "alt.FacetChart(...)"
      ]
     },
     "execution_count": 56,
     "metadata": {},
     "output_type": "execute_result"
    }
   ],
   "source": [
    "baseline = alt.Chart(new_df).transform_filter(\n",
    "    \"datum.masks >= 700\"\n",
    ").mark_rule(strokeDash=[5, 1]).encode(\n",
    "    y=\"value\"\n",
    ")\n",
    "\n",
    "results = alt.Chart(new_df).transform_filter(\n",
    "    \"datum.masks < 700\"\n",
    ").mark_bar().encode(\n",
    "    x=alt.X('masks:N'),\n",
    "    y=alt.Y('value', aggregate='max', scale=alt.Scale(zero=False)))\n",
    "\n",
    "alt.layer(results, baseline, data=new_df).facet(column=\"variable\")"
   ]
  },
  {
   "cell_type": "code",
   "execution_count": null,
   "id": "46a51e61-3a08-4764-887e-9c8d92e2b624",
   "metadata": {},
   "outputs": [],
   "source": []
  }
 ],
 "metadata": {
  "kernelspec": {
   "display_name": "img_processing",
   "language": "python",
   "name": "img_processing"
  },
  "language_info": {
   "codemirror_mode": {
    "name": "ipython",
    "version": 3
   },
   "file_extension": ".py",
   "mimetype": "text/x-python",
   "name": "python",
   "nbconvert_exporter": "python",
   "pygments_lexer": "ipython3",
   "version": "3.8.12"
  }
 },
 "nbformat": 4,
 "nbformat_minor": 5
}
