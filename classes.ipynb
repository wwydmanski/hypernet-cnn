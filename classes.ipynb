{
 "cells": [
  {
   "cell_type": "code",
   "execution_count": 1,
   "id": "92783e7e-6365-4c18-a113-0ab96e908c6c",
   "metadata": {},
   "outputs": [],
   "source": [
    "import torch\n",
    "import torchvision.transforms as transforms\n",
    "import torchvision.datasets as datasets\n",
    "import matplotlib.pyplot as plt\n",
    "import numpy as np\n",
    "torch.set_default_dtype(torch.float32)"
   ]
  },
  {
   "cell_type": "markdown",
   "id": "093e1cfc-0554-4973-bc83-734bf882b7ea",
   "metadata": {},
   "source": [
    "## Load data"
   ]
  },
  {
   "cell_type": "code",
   "execution_count": 2,
   "id": "84aefe8b-dd1a-48c7-91a4-dc53355c8745",
   "metadata": {},
   "outputs": [],
   "source": [
    "mods = [transforms.ToTensor(), \n",
    "        transforms.Normalize((0.1307,), (0.3081,)),    #mean and std of MNIST\n",
    "        transforms.Lambda(lambda x: torch.flatten(x))]\n",
    "mods = transforms.Compose(mods)\n",
    "\n",
    "trainset = datasets.MNIST(root='./data/train', train=True, download=True, transform=mods)\n",
    "testset = datasets.MNIST(root='./data/test', train=False, download=True, transform=mods)"
   ]
  },
  {
   "cell_type": "code",
   "execution_count": 102,
   "id": "dfe29125-e9dd-453f-95c3-c24e7f9d97b5",
   "metadata": {},
   "outputs": [],
   "source": [
    "batch_size = 64\n",
    "\n",
    "trainloader = torch.utils.data.DataLoader(trainset, batch_size=batch_size,\n",
    "                                          shuffle=True, num_workers=1)\n",
    "testloader = torch.utils.data.DataLoader(testset, batch_size=batch_size,\n",
    "                                         shuffle=False, num_workers=1)"
   ]
  },
  {
   "cell_type": "code",
   "execution_count": 103,
   "id": "f662bab8-15f8-4ea7-bc93-5ba1708f7ff5",
   "metadata": {},
   "outputs": [
    {
     "data": {
      "image/png": "[encoded data removed]",
      "text/plain": [
       "<Figure size 432x288 with 1 Axes>"
      ]
     },
     "metadata": {},
     "output_type": "display_data"
    }
   ],
   "source": [
    "plt.imshow(trainset[0][0].reshape((28, 28)));\n",
    "plt.title(trainset[0][1]);\n",
    "plt.xticks([])\n",
    "plt.yticks([]);"
   ]
  },
  {
   "cell_type": "markdown",
   "id": "a67f07f8-aba0-4186-9a10-2c2f78964afd",
   "metadata": {},
   "source": [
    "## Prepare a single network module"
   ]
  },
  {
   "cell_type": "code",
   "execution_count": 104,
   "id": "e3683f15-19a0-4a50-acc5-4defea5000e9",
   "metadata": {},
   "outputs": [],
   "source": [
    "class SimpleNetwork(torch.nn.Module):\n",
    "    def __init__(self, inp_size, layers=[100]):\n",
    "        super().__init__()\n",
    "        self.layers = []\n",
    "        \n",
    "        self.inp = torch.nn.Linear(inp_size, layers[0])\n",
    "        self.output = torch.nn.Linear(layers[0], 10)\n",
    "        self.relu = torch.nn.ReLU()\n",
    "        self.softmax = torch.nn.Softmax()\n",
    "    \n",
    "    def forward(self, x):\n",
    "        out = x\n",
    "        out = self.inp(out)\n",
    "        out = self.relu(out)\n",
    "        out = self.output(out)\n",
    "        return out"
   ]
  },
  {
   "cell_type": "code",
   "execution_count": 262,
   "id": "a1c7a4aa-32eb-49bc-b13d-a54c81390a79",
   "metadata": {},
   "outputs": [],
   "source": [
    "def train_net(net, optimizer, epochs, verbose=False):\n",
    "    for epoch in range(epochs): \n",
    "        running_loss = 0.0\n",
    "        correct = 0\n",
    "        total = 0\n",
    "        for i, data in enumerate(trainloader):\n",
    "            inputs, labels = data\n",
    "\n",
    "            optimizer.zero_grad()\n",
    "\n",
    "            outputs = net(inputs)\n",
    "            loss = criterion(outputs, labels)\n",
    "            loss.backward()\n",
    "            optimizer.step()\n",
    "\n",
    "            correct += (outputs.argmax(1)==labels).float().sum()\n",
    "            total += outputs.shape[0]\n",
    "            running_loss += loss.item()\n",
    "            if i % 100 == 0:    # print every 2000 mini-batches\n",
    "                if verbose:\n",
    "                    print('[%d, %5d] loss: %.3f acc: %.3f%%' %\n",
    "                          (epoch + 1, i, running_loss / 100, correct/total*100))\n",
    "                running_loss = 0.0\n",
    "                correct = 0\n",
    "                total=0\n",
    "\n",
    "        correct = 0\n",
    "        for data in testloader:\n",
    "            images, labels = data\n",
    "            outputs = net(images)\n",
    "            _, predicted = torch.max(outputs.data, 1)\n",
    "            correct += (predicted == labels).sum().item()\n",
    "        print(f\"Test acc: {correct/len(testset)*100}\")\n",
    "        \n",
    "    return correct/len(testset)*100"
   ]
  },
  {
   "cell_type": "markdown",
   "id": "75022978-980e-4acb-9b40-3963cd0de80b",
   "metadata": {},
   "source": [
    "### Benchmark"
   ]
  },
  {
   "cell_type": "markdown",
   "id": "c333be1c-e0b4-49ae-9e2c-c203b86f26fe",
   "metadata": {},
   "source": [
    "#### Full network"
   ]
  },
  {
   "cell_type": "code",
   "execution_count": 263,
   "id": "a4f0ef37-5964-405a-ae93-16fe050fca11",
   "metadata": {},
   "outputs": [],
   "source": [
    "net = SimpleNetwork(784)"
   ]
  },
  {
   "cell_type": "code",
   "execution_count": 264,
   "id": "a74c7b50-57bb-4aff-b2b1-9e27081c6518",
   "metadata": {},
   "outputs": [],
   "source": [
    "criterion = torch.nn.CrossEntropyLoss()"
   ]
  },
  {
   "cell_type": "code",
   "execution_count": 265,
   "id": "31c8b792-931c-4097-870f-ae89bb637a93",
   "metadata": {},
   "outputs": [
    {
     "name": "stdout",
     "output_type": "stream",
     "text": [
      "Test acc: 95.54\n",
      "Test acc: 96.95\n",
      "Test acc: 97.18\n",
      "Test acc: 97.23\n",
      "Test acc: 96.71\n",
      "Test acc: 97.94\n",
      "Test acc: 97.98\n",
      "Test acc: 97.99\n",
      "Test acc: 98.11\n",
      "Test acc: 98.00999999999999\n",
      "CPU times: user 7min 20s, sys: 6.7 s, total: 7min 27s\n",
      "Wall time: 2min 21s\n"
     ]
    }
   ],
   "source": [
    "%%time\n",
    "optimizer = torch.optim.Adam(net.parameters(), lr=3e-3)\n",
    "train_net(net, optimizer, 5)\n",
    "optimizer = torch.optim.Adam(net.parameters(), lr=3e-4)\n",
    "final_loss = train_net(net, optimizer, 5)"
   ]
  },
  {
   "cell_type": "markdown",
   "id": "6ce339da-00ac-4ce3-a36b-7f58e406d0e1",
   "metadata": {},
   "source": [
    "#### Masked input (for further benchmark)"
   ]
  },
  {
   "cell_type": "code",
   "execution_count": null,
   "id": "590c94da-d051-4cdb-9bb5-5a59b553b27f",
   "metadata": {
    "tags": []
   },
   "outputs": [
    {
     "name": "stdout",
     "output_type": "stream",
     "text": [
      "Test acc: 52.239999999999995\n",
      "Test acc: 53.769999999999996\n",
      "Test acc: 54.190000000000005\n",
      "Test acc: 54.85\n",
      "Test acc: 54.26\n",
      "Test acc: 54.730000000000004\n",
      "Test acc: 54.72\n",
      "Test acc: 54.81\n",
      "Test acc: 54.879999999999995\n",
      "Test acc: 54.81\n"
     ]
    },
    {
     "data": {
      "text/plain": [
       "54.81"
      ]
     },
     "execution_count": 271,
     "metadata": {},
     "output_type": "execute_result"
    }
   ],
   "source": [
    "class MaskedNetwork(SimpleNetwork):\n",
    "    def __init__(self, input_size, mask_size, layers=[10]):\n",
    "        super().__init__(mask_size, layers=layers)\n",
    "        template = np.zeros(input_size)\n",
    "        mask = np.random.choice(len(template), mask_size, False)\n",
    "        template[mask] = 1\n",
    "        self.mask = torch.from_numpy(template).to(torch.bool)\n",
    "        \n",
    "    def forward(self, x):\n",
    "        data = x[:, self.mask]\n",
    "        return super().forward(data)\n",
    "\n",
    "masked_net = MaskedNetwork(784, 20)\n",
    "optimizer = torch.optim.Adam(masked_net.parameters(), lr=3e-3)\n",
    "train_net(masked_net, optimizer, 5)\n",
    "optimizer = torch.optim.Adam(masked_net.parameters(), lr=3e-4)\n",
    "train_net(masked_net, optimizer, 5)"
   ]
  },
  {
   "cell_type": "markdown",
   "id": "a41bc784-1d6c-48d7-b017-54ca8356e9a1",
   "metadata": {},
   "source": [
    "## Create simple network with insertable weights"
   ]
  },
  {
   "cell_type": "code",
   "execution_count": 266,
   "id": "b19746d7-e05e-422c-a1a6-677d2d8a152d",
   "metadata": {},
   "outputs": [],
   "source": [
    "flat_parameters = []\n",
    "for layer in net.parameters():\n",
    "    flat_parameters.extend(torch.flatten(layer).detach().numpy())\n",
    "    \n",
    "flat_parameters = torch.from_numpy(np.array(flat_parameters))"
   ]
  },
  {
   "cell_type": "code",
   "execution_count": 317,
   "id": "ae174f8f-e5e2-4756-be75-50fa2e0dc2e2",
   "metadata": {},
   "outputs": [],
   "source": [
    "import torch.nn.functional as F\n",
    "\n",
    "class InsertableNet(SimpleNetwork):\n",
    "    def __init__(self, weights, inp_size, layers=[100]):\n",
    "        super().__init__(inp_size, layers)\n",
    "        input_w_size = inp_size*layers[0]\n",
    "        input_b_size = layers[0]\n",
    "\n",
    "        hidden_w_size = layers[0]*10\n",
    "        hidden_b_size = 10\n",
    "\n",
    "        self.inp_weights = weights[:input_w_size].reshape((layers[0], inp_size))\n",
    "        self.inp_bias = weights[input_w_size:input_w_size+input_b_size]\n",
    "\n",
    "        self.output_weights = weights[input_w_size+input_b_size:input_w_size+input_b_size+hidden_w_size].reshape((10, layers[0]))\n",
    "        self.output_bias = weights[input_w_size+input_b_size+hidden_w_size:input_w_size+input_b_size+hidden_w_size+hidden_b_size]\n",
    "\n",
    "#         self.inp.weight = self.inp_weights\n",
    "#         self.inp.bias = torch.nn.Parameter(inp_bias, requires_grad=True)\n",
    "#         self.output.weight = torch.nn.Parameter(output_weights, requires_grad=True)\n",
    "#         self.output.bias = torch.nn.Parameter(output_bias, requires_grad=True)        \n",
    "    \n",
    "    def forward(self, data):\n",
    "        # Yeah, this is hardly scalable so we need to find a way\n",
    "        # to make the layer-wise approach work\n",
    "        out = F.linear(data, self.inp_weights, self.inp_bias)\n",
    "        out = self.relu(out)\n",
    "        out = F.linear(out, self.output_weights, self.output_bias)\n",
    "        return out"
   ]
  },
  {
   "cell_type": "code",
   "execution_count": 318,
   "id": "ed18b7d6-f71f-4542-b244-f985aa030ed8",
   "metadata": {},
   "outputs": [],
   "source": [
    "insert_net = InsertableNet(flat_parameters, 784)"
   ]
  },
  {
   "cell_type": "code",
   "execution_count": 319,
   "id": "82225727-12c7-4da9-86b8-5d208f4f993b",
   "metadata": {},
   "outputs": [
    {
     "name": "stdout",
     "output_type": "stream",
     "text": [
      "Test acc: 98.00999999999999\n"
     ]
    }
   ],
   "source": [
    "correct = 0\n",
    "for data in testloader:\n",
    "    images, labels = data\n",
    "    outputs = insert_net(images)\n",
    "    _, predicted = torch.max(outputs.data, 1)\n",
    "    correct += (predicted == labels).sum().item()\n",
    "print(f\"Test acc: {correct/len(testset)*100}\")\n",
    "assert correct/len(testset)*100 == final_loss"
   ]
  },
  {
   "cell_type": "markdown",
   "id": "cee06654-710e-4c65-8bf3-9910061f9707",
   "metadata": {},
   "source": [
    "## Create hypernet structure"
   ]
  },
  {
   "cell_type": "code",
   "execution_count": 330,
   "id": "6eb71ab6-e54b-42ad-a4aa-814e9e8a9854",
   "metadata": {},
   "outputs": [],
   "source": [
    "class Hypernetwork(torch.nn.Module):\n",
    "    def __init__(self, inp_size=784, mask_size=20, node_hidden_size=20):\n",
    "        super().__init__()\n",
    "        self.mask_size = mask_size\n",
    "        self.input_size = inp_size\n",
    "        self.node_hidden_size = node_hidden_size\n",
    "        \n",
    "        input_w_size = mask_size*node_hidden_size\n",
    "        input_b_size = node_hidden_size\n",
    "\n",
    "        hidden_w_size = node_hidden_size*10\n",
    "        hidden_b_size = 10\n",
    "            \n",
    "        self.out_size = input_w_size+input_b_size+hidden_w_size+hidden_b_size\n",
    "        \n",
    "        self.input = torch.nn.Linear(inp_size, 256)\n",
    "        self.hidden1 = torch.nn.Linear(256, 512)\n",
    "        self.hidden2 = torch.nn.Linear(512, 1024)\n",
    "        self.out = torch.nn.Linear(1024, self.out_size)\n",
    "        \n",
    "        self.relu = torch.nn.ReLU()\n",
    "        self.template = np.zeros(inp_size)\n",
    "        \n",
    "    def forward(self, data, mask=None):\n",
    "        if mask is None:\n",
    "            mask = np.random.choice(len(template), self.mask_size, False)\n",
    "            tmp = self.template.copy()\n",
    "            tmp[mask] = 1\n",
    "            mask = torch.from_numpy(tmp).to(torch.float32)\n",
    "        \n",
    "        weights = self.craft_network(mask)\n",
    "        nn = InsertableNet(weights, self.mask_size, layers=[self.node_hidden_size])\n",
    "        masked_data = data[:, mask.to(torch.bool)]\n",
    "        return nn(masked_data)\n",
    "        \n",
    "    def craft_network(self, mask):\n",
    "        out = self.input(mask)\n",
    "        out = self.relu(out)\n",
    "        out = self.hidden1(out)\n",
    "        out = self.relu(out)\n",
    "        out = self.hidden2(out)\n",
    "        out = self.relu(out)\n",
    "        out = self.out(out)\n",
    "        return out"
   ]
  },
  {
   "cell_type": "code",
   "execution_count": 331,
   "id": "e1487ddb-feda-4af3-8e49-b748268a127e",
   "metadata": {},
   "outputs": [],
   "source": [
    "from torchsummary import summary"
   ]
  },
  {
   "cell_type": "code",
   "execution_count": 332,
   "id": "b4121bc1-b65c-4929-8df8-373bb87f2593",
   "metadata": {},
   "outputs": [],
   "source": [
    "hypernet = Hypernetwork(mask_size=20)"
   ]
  },
  {
   "cell_type": "code",
   "execution_count": 333,
   "id": "dc294ff4-8e93-4fc1-9b5b-28b4c9e1bf51",
   "metadata": {},
   "outputs": [
    {
     "data": {
      "text/plain": [
       "Parameter containing:\n",
       "tensor([[ 0.0319, -0.0348, -0.0029,  ...,  0.0254, -0.0344,  0.0133],\n",
       "        [ 0.0313,  0.0180,  0.0310,  ...,  0.0021,  0.0039, -0.0089],\n",
       "        [-0.0063,  0.0307, -0.0229,  ...,  0.0071,  0.0080,  0.0203],\n",
       "        ...,\n",
       "        [-0.0156,  0.0212, -0.0279,  ...,  0.0324,  0.0294, -0.0188],\n",
       "        [-0.0143, -0.0207,  0.0297,  ..., -0.0014,  0.0147, -0.0123],\n",
       "        [ 0.0084,  0.0326, -0.0354,  ..., -0.0154,  0.0326,  0.0024]],\n",
       "       requires_grad=True)"
      ]
     },
     "execution_count": 333,
     "metadata": {},
     "output_type": "execute_result"
    }
   ],
   "source": [
    "list(hypernet.parameters())[0]"
   ]
  },
  {
   "cell_type": "code",
   "execution_count": 334,
   "id": "0c09bb25-6567-4c46-aa83-06b8fae32dac",
   "metadata": {},
   "outputs": [
    {
     "name": "stdout",
     "output_type": "stream",
     "text": [
      "----------------------------------------------------------------\n",
      "        Layer (type)               Output Shape         Param #\n",
      "================================================================\n",
      "            Linear-1                       [-1]         200,960\n",
      "              ReLU-2                       [-1]               0\n",
      "            Linear-3                       [-1]         131,584\n",
      "              ReLU-4                       [-1]               0\n",
      "            Linear-5                       [-1]         525,312\n",
      "              ReLU-6                       [-1]               0\n",
      "            Linear-7                       [-1]         645,750\n",
      "================================================================\n",
      "Total params: 1,503,606\n",
      "Trainable params: 1,503,606\n",
      "Non-trainable params: 0\n",
      "----------------------------------------------------------------\n",
      "Input size (MB): 0.00\n",
      "Forward/backward pass size (MB): 0.00\n",
      "Params size (MB): 5.74\n",
      "Estimated Total Size (MB): 5.74\n",
      "----------------------------------------------------------------\n"
     ]
    }
   ],
   "source": [
    "summary(hypernet, (784, ), device='cpu')"
   ]
  },
  {
   "cell_type": "code",
   "execution_count": 335,
   "id": "cc44c4d2-3878-4407-985b-43b08854dbb9",
   "metadata": {},
   "outputs": [
    {
     "name": "stdout",
     "output_type": "stream",
     "text": [
      "[1,     0] loss: 0.023 acc: 10.938%\n",
      "[1,   100] loss: 2.253 acc: 16.422%\n",
      "[1,   200] loss: 2.223 acc: 18.234%\n",
      "[1,   300] loss: 2.218 acc: 17.547%\n",
      "[1,   400] loss: 2.216 acc: 18.203%\n",
      "[1,   500] loss: 2.205 acc: 18.609%\n",
      "[1,   600] loss: 2.201 acc: 19.109%\n",
      "[1,   700] loss: 2.197 acc: 19.688%\n",
      "[1,   800] loss: 2.205 acc: 18.938%\n",
      "[1,   900] loss: 2.208 acc: 18.766%\n",
      "Test acc: 19.689999999999998\n"
     ]
    },
    {
     "data": {
      "text/plain": [
       "19.689999999999998"
      ]
     },
     "execution_count": 335,
     "metadata": {},
     "output_type": "execute_result"
    }
   ],
   "source": [
    "optimizer = torch.optim.Adam(hypernet.parameters(), lr=3e-4)\n",
    "train_net(hypernet, optimizer, 1, verbose=True);"
   ]
  },
  {
   "cell_type": "code",
   "execution_count": 307,
   "id": "bf3bf079-e158-41fc-b66e-246f441d0192",
   "metadata": {},
   "outputs": [
    {
     "data": {
      "text/plain": [
       "Parameter containing:\n",
       "tensor([[ 0.0007, -0.0386, -0.0152,  ..., -0.0046,  0.0250,  0.0389],\n",
       "        [-0.0277, -0.0089, -0.0113,  ..., -0.0275, -0.0334, -0.0289],\n",
       "        [-0.0218, -0.0114,  0.0033,  ...,  0.0250, -0.0010, -0.0237],\n",
       "        ...,\n",
       "        [ 0.0278,  0.0275, -0.0091,  ...,  0.0253, -0.0248, -0.0152],\n",
       "        [ 0.0008, -0.0292, -0.0228,  ...,  0.0315, -0.0322, -0.0262],\n",
       "        [ 0.0154, -0.0110,  0.0032,  ...,  0.0054, -0.0130,  0.0310]],\n",
       "       requires_grad=True)"
      ]
     },
     "execution_count": 307,
     "metadata": {},
     "output_type": "execute_result"
    }
   ],
   "source": [
    "list(hypernet.parameters())[0]"
   ]
  },
  {
   "cell_type": "markdown",
   "id": "19e53dae-57a5-455d-8645-3119fd4873fd",
   "metadata": {},
   "source": [
    "## Conclusion\n",
    "The network is able to train, so everything is working as expected. Now, we can focus on the raw score optimization."
   ]
  }
 ],
 "metadata": {
  "kernelspec": {
   "display_name": "image_processing",
   "language": "python",
   "name": "image_processing"
  },
  "language_info": {
   "codemirror_mode": {
    "name": "ipython",
    "version": 3
   },
   "file_extension": ".py",
   "mimetype": "text/x-python",
   "name": "python",
   "nbconvert_exporter": "python",
   "pygments_lexer": "ipython3",
   "version": "3.8.12"
  }
 },
 "nbformat": 4,
 "nbformat_minor": 5
}
